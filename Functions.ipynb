{
 "cells": [
  {
   "cell_type": "code",
   "execution_count": 1,
   "metadata": {
    "collapsed": true,
    "ExecuteTime": {
     "end_time": "2023-10-26T06:18:33.873220600Z",
     "start_time": "2023-10-26T06:18:33.855151900Z"
    }
   },
   "outputs": [],
   "source": [
    "def say_hello():\n",
    "    return 'hello!'"
   ]
  },
  {
   "cell_type": "code",
   "execution_count": 2,
   "outputs": [
    {
     "data": {
      "text/plain": "'hello!'"
     },
     "execution_count": 2,
     "metadata": {},
     "output_type": "execute_result"
    }
   ],
   "source": [
    "say_hello()"
   ],
   "metadata": {
    "collapsed": false,
    "ExecuteTime": {
     "end_time": "2023-10-26T06:18:39.515556900Z",
     "start_time": "2023-10-26T06:18:39.490528900Z"
    }
   }
  },
  {
   "cell_type": "code",
   "execution_count": 3,
   "outputs": [],
   "source": [
    "alias = say_hello"
   ],
   "metadata": {
    "collapsed": false,
    "ExecuteTime": {
     "end_time": "2023-10-26T06:19:07.163417500Z",
     "start_time": "2023-10-26T06:19:07.158419400Z"
    }
   }
  },
  {
   "cell_type": "code",
   "execution_count": 4,
   "outputs": [
    {
     "data": {
      "text/plain": "(2540870904704, 2540870904704)"
     },
     "execution_count": 4,
     "metadata": {},
     "output_type": "execute_result"
    }
   ],
   "source": [
    "id(alias), id(say_hello)"
   ],
   "metadata": {
    "collapsed": false,
    "ExecuteTime": {
     "end_time": "2023-10-26T06:19:29.082846900Z",
     "start_time": "2023-10-26T06:19:29.055814100Z"
    }
   }
  },
  {
   "cell_type": "code",
   "execution_count": 5,
   "outputs": [
    {
     "data": {
      "text/plain": "True"
     },
     "execution_count": 5,
     "metadata": {},
     "output_type": "execute_result"
    }
   ],
   "source": [
    "alias is say_hello"
   ],
   "metadata": {
    "collapsed": false,
    "ExecuteTime": {
     "end_time": "2023-10-26T06:19:40.945140600Z",
     "start_time": "2023-10-26T06:19:40.887104900Z"
    }
   }
  },
  {
   "cell_type": "code",
   "execution_count": 6,
   "outputs": [
    {
     "data": {
      "text/plain": "'hello!'"
     },
     "execution_count": 6,
     "metadata": {},
     "output_type": "execute_result"
    }
   ],
   "source": [
    "alias()"
   ],
   "metadata": {
    "collapsed": false,
    "ExecuteTime": {
     "end_time": "2023-10-26T06:19:54.722653900Z",
     "start_time": "2023-10-26T06:19:54.707644800Z"
    }
   }
  },
  {
   "cell_type": "code",
   "execution_count": 7,
   "outputs": [
    {
     "ename": "IndentationError",
     "evalue": "expected an indented block (330152239.py, line 2)",
     "output_type": "error",
     "traceback": [
      "\u001B[1;36m  File \u001B[1;32m\"C:\\Users\\feichtinge_a\\AppData\\Local\\Temp\\ipykernel_13496\\330152239.py\"\u001B[1;36m, line \u001B[1;32m2\u001B[0m\n\u001B[1;33m    # function body here\u001B[0m\n\u001B[1;37m                        ^\u001B[0m\n\u001B[1;31mIndentationError\u001B[0m\u001B[1;31m:\u001B[0m expected an indented block\n"
     ]
    }
   ],
   "source": [
    "def func_name():\n",
    "\n",
    "# function body here"
   ],
   "metadata": {
    "collapsed": false,
    "ExecuteTime": {
     "end_time": "2023-10-26T06:20:26.882067400Z",
     "start_time": "2023-10-26T06:20:26.824978700Z"
    }
   }
  },
  {
   "cell_type": "code",
   "execution_count": 8,
   "outputs": [
    {
     "data": {
      "text/plain": "'say_hello'"
     },
     "execution_count": 8,
     "metadata": {},
     "output_type": "execute_result"
    }
   ],
   "source": [
    "say_hello.__name__"
   ],
   "metadata": {
    "collapsed": false,
    "ExecuteTime": {
     "end_time": "2023-10-26T06:21:11.915599100Z",
     "start_time": "2023-10-26T06:21:11.910588100Z"
    }
   }
  },
  {
   "cell_type": "code",
   "execution_count": 9,
   "outputs": [],
   "source": [
    "def add(a, b, c):\n",
    "    print(f'a = {a}')\n",
    "    print(f'b = {b}')\n",
    "    print(f'c = {c}')\n",
    "    return a + b + c\n"
   ],
   "metadata": {
    "collapsed": false,
    "ExecuteTime": {
     "end_time": "2023-10-26T06:22:18.604911400Z",
     "start_time": "2023-10-26T06:22:18.591754300Z"
    }
   }
  },
  {
   "cell_type": "code",
   "execution_count": 10,
   "outputs": [
    {
     "name": "stdout",
     "output_type": "stream",
     "text": [
      "a = 10\n",
      "b = 20\n",
      "c = 30\n"
     ]
    }
   ],
   "source": [
    "result = add(10, 20, 30)"
   ],
   "metadata": {
    "collapsed": false,
    "ExecuteTime": {
     "end_time": "2023-10-26T06:22:50.429325100Z",
     "start_time": "2023-10-26T06:22:50.418288800Z"
    }
   }
  },
  {
   "cell_type": "code",
   "execution_count": 11,
   "outputs": [
    {
     "name": "stdout",
     "output_type": "stream",
     "text": [
      "result = 60\n"
     ]
    }
   ],
   "source": [
    "print(f'result = {result}')"
   ],
   "metadata": {
    "collapsed": false,
    "ExecuteTime": {
     "end_time": "2023-10-26T06:23:26.163085800Z",
     "start_time": "2023-10-26T06:23:26.137054900Z"
    }
   }
  },
  {
   "cell_type": "code",
   "execution_count": 12,
   "outputs": [],
   "source": [
    "a = 1\n",
    "b = 2"
   ],
   "metadata": {
    "collapsed": false,
    "ExecuteTime": {
     "end_time": "2023-10-26T06:24:00.693070200Z",
     "start_time": "2023-10-26T06:24:00.688067400Z"
    }
   }
  },
  {
   "cell_type": "code",
   "execution_count": 13,
   "outputs": [
    {
     "data": {
      "text/plain": "{'__name__': '__main__',\n '__doc__': 'Automatically created module for IPython interactive environment',\n '__package__': None,\n '__loader__': None,\n '__spec__': None,\n '__builtin__': <module 'builtins' (built-in)>,\n '__builtins__': <module 'builtins' (built-in)>,\n '_ih': ['',\n  \"def say_hello():\\n    return 'hello!'\",\n  'say_hello()',\n  'alias = say_hello',\n  'id(alias), id(say_hello)',\n  'alias is say_hello',\n  'alias()',\n  'def func_name():\\n    # function body here',\n  'say_hello.__name__',\n  \"def add(a,b,c):\\n    print(f'a = {a}')\\n    print(f'b = {b}')\\n    print(f'c = {c}')\\n    return a + b + c\",\n  'result = add(10, 20, 30)',\n  \"print(f'result = {result}')\",\n  'a = 1\\nb = 2',\n  'globals()'],\n '_oh': {2: 'hello!',\n  4: (2540870904704, 2540870904704),\n  5: True,\n  6: 'hello!',\n  8: 'say_hello'},\n '_dh': ['J:\\\\Git-Repos\\\\Python-Jupyter-Notebooks'],\n 'In': ['',\n  \"def say_hello():\\n    return 'hello!'\",\n  'say_hello()',\n  'alias = say_hello',\n  'id(alias), id(say_hello)',\n  'alias is say_hello',\n  'alias()',\n  'def func_name():\\n    # function body here',\n  'say_hello.__name__',\n  \"def add(a,b,c):\\n    print(f'a = {a}')\\n    print(f'b = {b}')\\n    print(f'c = {c}')\\n    return a + b + c\",\n  'result = add(10, 20, 30)',\n  \"print(f'result = {result}')\",\n  'a = 1\\nb = 2',\n  'globals()'],\n 'Out': {2: 'hello!',\n  4: (2540870904704, 2540870904704),\n  5: True,\n  6: 'hello!',\n  8: 'say_hello'},\n 'get_ipython': <bound method InteractiveShell.get_ipython of <ipykernel.zmqshell.ZMQInteractiveShell object at 0x0000024F97AF9400>>,\n 'exit': <IPython.core.autocall.ZMQExitAutocall at 0x24f97b1f0d0>,\n 'quit': <IPython.core.autocall.ZMQExitAutocall at 0x24f97b1f0d0>,\n '_': 'say_hello',\n '__': 'hello!',\n '___': True,\n '_i': 'a = 1\\nb = 2',\n '_ii': \"print(f'result = {result}')\",\n '_iii': 'result = add(10, 20, 30)',\n '_i1': \"def say_hello():\\n    return 'hello!'\",\n 'say_hello': <function __main__.say_hello()>,\n 'sys': <module 'sys' (built-in)>,\n 'remove_imported_pydev_package': <function pydev_jupyter_utils.remove_imported_pydev_package()>,\n '_pydevd_bundle': <module '_pydevd_bundle' from 'C:\\\\Program Files\\\\JetBrains\\\\PyCharm 2023.1.3\\\\plugins\\\\python\\\\helpers\\\\pydev\\\\_pydevd_bundle\\\\__init__.py'>,\n 'pydev_jupyter_vars': <module 'pydev_jupyter_vars' from 'C:\\\\Program Files\\\\JetBrains\\\\PyCharm 2023.1.3\\\\plugins\\\\python\\\\helpers-pro\\\\jupyter_debug\\\\pydev_jupyter_vars.py'>,\n '_i2': 'say_hello()',\n '_2': 'hello!',\n '_i3': 'alias = say_hello',\n 'alias': <function __main__.say_hello()>,\n '_i4': 'id(alias), id(say_hello)',\n '_4': (2540870904704, 2540870904704),\n '_i5': 'alias is say_hello',\n '_5': True,\n '_i6': 'alias()',\n '_6': 'hello!',\n '_i7': 'def func_name():\\n    # function body here',\n '_i8': 'say_hello.__name__',\n '_8': 'say_hello',\n '_i9': \"def add(a,b,c):\\n    print(f'a = {a}')\\n    print(f'b = {b}')\\n    print(f'c = {c}')\\n    return a + b + c\",\n 'add': <function __main__.add(a, b, c)>,\n '_i10': 'result = add(10, 20, 30)',\n 'result': 60,\n '_i11': \"print(f'result = {result}')\",\n '_i12': 'a = 1\\nb = 2',\n 'a': 1,\n 'b': 2,\n '_i13': 'globals()'}"
     },
     "execution_count": 13,
     "metadata": {},
     "output_type": "execute_result"
    }
   ],
   "source": [
    "globals()"
   ],
   "metadata": {
    "collapsed": false,
    "ExecuteTime": {
     "end_time": "2023-10-26T06:24:07.024602Z",
     "start_time": "2023-10-26T06:24:07.019598600Z"
    }
   }
  },
  {
   "cell_type": "code",
   "execution_count": 15,
   "outputs": [
    {
     "data": {
      "text/plain": "1"
     },
     "execution_count": 15,
     "metadata": {},
     "output_type": "execute_result"
    }
   ],
   "source": [
    "globals()['a']"
   ],
   "metadata": {
    "collapsed": false,
    "ExecuteTime": {
     "end_time": "2023-10-26T06:24:54.784451400Z",
     "start_time": "2023-10-26T06:24:54.761518300Z"
    }
   }
  },
  {
   "cell_type": "code",
   "execution_count": 16,
   "outputs": [
    {
     "data": {
      "text/plain": "2"
     },
     "execution_count": 16,
     "metadata": {},
     "output_type": "execute_result"
    }
   ],
   "source": [
    "globals()['b']\n"
   ],
   "metadata": {
    "collapsed": false,
    "ExecuteTime": {
     "end_time": "2023-10-26T06:25:12.330571500Z",
     "start_time": "2023-10-26T06:25:12.325572100Z"
    }
   }
  },
  {
   "cell_type": "code",
   "execution_count": 17,
   "outputs": [],
   "source": [
    "def add(a, b, c):\n",
    "    print('initial namespace:', locals())\n",
    "    sum_ = a + b + c\n",
    "    print('after creating symbol sum_:', locals())\n",
    "    return sum_"
   ],
   "metadata": {
    "collapsed": false,
    "ExecuteTime": {
     "end_time": "2023-10-26T06:27:26.072961700Z",
     "start_time": "2023-10-26T06:27:26.066964200Z"
    }
   }
  },
  {
   "cell_type": "code",
   "execution_count": 18,
   "outputs": [
    {
     "name": "stdout",
     "output_type": "stream",
     "text": [
      "initial namespace: {'a': 1, 'b': 2, 'c': 3}\n",
      "after creating symbol sum_: {'a': 1, 'b': 2, 'c': 3, 'sum_': 6}\n"
     ]
    },
    {
     "data": {
      "text/plain": "6"
     },
     "execution_count": 18,
     "metadata": {},
     "output_type": "execute_result"
    }
   ],
   "source": [
    "add(1, 2, 3)"
   ],
   "metadata": {
    "collapsed": false,
    "ExecuteTime": {
     "end_time": "2023-10-26T06:27:32.982357600Z",
     "start_time": "2023-10-26T06:27:32.921360100Z"
    }
   }
  },
  {
   "cell_type": "code",
   "execution_count": 19,
   "outputs": [
    {
     "name": "stdout",
     "output_type": "stream",
     "text": [
      "initial namespace: {'a': 3, 'b': 2, 'c': 1}\n",
      "after creating symbol sum_: {'a': 3, 'b': 2, 'c': 1, 'sum_': 6}\n"
     ]
    },
    {
     "data": {
      "text/plain": "6"
     },
     "execution_count": 19,
     "metadata": {},
     "output_type": "execute_result"
    }
   ],
   "source": [
    "add(3, 2, 1)"
   ],
   "metadata": {
    "collapsed": false,
    "ExecuteTime": {
     "end_time": "2023-10-26T06:28:26.618552400Z",
     "start_time": "2023-10-26T06:28:26.603552900Z"
    }
   }
  },
  {
   "cell_type": "code",
   "execution_count": 20,
   "outputs": [],
   "source": [
    "def find_max(a, b, c):\n",
    "    max_ = a\n",
    "    if b > max_:\n",
    "        max_ = b\n",
    "    if c > max_:\n",
    "        max_ = c\n",
    "    return max_"
   ],
   "metadata": {
    "collapsed": false,
    "ExecuteTime": {
     "end_time": "2023-10-26T06:31:24.193476600Z",
     "start_time": "2023-10-26T06:31:24.178859900Z"
    }
   }
  },
  {
   "cell_type": "code",
   "execution_count": 21,
   "outputs": [
    {
     "data": {
      "text/plain": "30"
     },
     "execution_count": 21,
     "metadata": {},
     "output_type": "execute_result"
    }
   ],
   "source": [
    "find_max(10, 20, 30)"
   ],
   "metadata": {
    "collapsed": false,
    "ExecuteTime": {
     "end_time": "2023-10-26T06:31:33.856414400Z",
     "start_time": "2023-10-26T06:31:33.839385500Z"
    }
   }
  },
  {
   "cell_type": "code",
   "execution_count": 22,
   "outputs": [],
   "source": [
    "from datetime import datetime\n",
    "\n",
    "\n",
    "def log(message):\n",
    "    curr_time = datetime.utcnow().isoformat()\n",
    "    print(f'{curr_time} - [{message}]')\n"
   ],
   "metadata": {
    "collapsed": false,
    "ExecuteTime": {
     "end_time": "2023-10-26T06:33:29.605753400Z",
     "start_time": "2023-10-26T06:33:29.579974600Z"
    }
   }
  },
  {
   "cell_type": "code",
   "execution_count": 24,
   "outputs": [
    {
     "name": "stdout",
     "output_type": "stream",
     "text": [
      "2023-10-26T06:33:42.651049 - [log1]\n"
     ]
    }
   ],
   "source": [
    "log('log1')"
   ],
   "metadata": {
    "collapsed": false,
    "ExecuteTime": {
     "end_time": "2023-10-26T06:33:42.676426700Z",
     "start_time": "2023-10-26T06:33:42.652044300Z"
    }
   }
  },
  {
   "cell_type": "code",
   "execution_count": 26,
   "outputs": [
    {
     "name": "stdout",
     "output_type": "stream",
     "text": [
      "processing all positive elements!\n"
     ]
    }
   ],
   "source": [
    "data = [1, 2, 3, 4, 5, 6]\n",
    "for element in data:\n",
    "    if element < 0:\n",
    "        break\n",
    "else:\n",
    "    print('processing all positive elements!')"
   ],
   "metadata": {
    "collapsed": false,
    "ExecuteTime": {
     "end_time": "2023-10-26T06:37:34.048441600Z",
     "start_time": "2023-10-26T06:37:34.022296100Z"
    }
   }
  },
  {
   "cell_type": "code",
   "execution_count": 27,
   "outputs": [],
   "source": [
    "def is_all_positive(data):\n",
    "    for element in data:\n",
    "        if element < 0:\n",
    "            return False\n",
    "    else:\n",
    "        return True"
   ],
   "metadata": {
    "collapsed": false,
    "ExecuteTime": {
     "end_time": "2023-10-26T06:39:17.605731Z",
     "start_time": "2023-10-26T06:39:17.599719400Z"
    }
   }
  },
  {
   "cell_type": "code",
   "execution_count": 28,
   "outputs": [
    {
     "data": {
      "text/plain": "False"
     },
     "execution_count": 28,
     "metadata": {},
     "output_type": "execute_result"
    }
   ],
   "source": [
    "is_all_positive([20, 30, -4, 5, 6])"
   ],
   "metadata": {
    "collapsed": false,
    "ExecuteTime": {
     "end_time": "2023-10-26T06:40:13.622448800Z",
     "start_time": "2023-10-26T06:40:13.584421600Z"
    }
   }
  },
  {
   "cell_type": "code",
   "execution_count": 29,
   "outputs": [
    {
     "data": {
      "text/plain": "True"
     },
     "execution_count": 29,
     "metadata": {},
     "output_type": "execute_result"
    }
   ],
   "source": [
    "is_all_positive([20, 30, 4, 5, 6])\n"
   ],
   "metadata": {
    "collapsed": false,
    "ExecuteTime": {
     "end_time": "2023-10-26T06:40:26.183396600Z",
     "start_time": "2023-10-26T06:40:26.175359500Z"
    }
   }
  },
  {
   "cell_type": "code",
   "execution_count": 30,
   "outputs": [],
   "source": [
    "d = {'a': 20, 'b': 30, 'c': -4}"
   ],
   "metadata": {
    "collapsed": false,
    "ExecuteTime": {
     "end_time": "2023-10-26T06:41:28.272520500Z",
     "start_time": "2023-10-26T06:41:28.265519600Z"
    }
   }
  },
  {
   "cell_type": "code",
   "execution_count": 32,
   "outputs": [
    {
     "data": {
      "text/plain": "False"
     },
     "execution_count": 32,
     "metadata": {},
     "output_type": "execute_result"
    }
   ],
   "source": [
    "is_all_positive(d.values())"
   ],
   "metadata": {
    "collapsed": false,
    "ExecuteTime": {
     "end_time": "2023-10-26T06:41:55.233974900Z",
     "start_time": "2023-10-26T06:41:55.216111700Z"
    }
   }
  },
  {
   "cell_type": "code",
   "execution_count": 33,
   "outputs": [
    {
     "data": {
      "text/plain": "True"
     },
     "execution_count": 33,
     "metadata": {},
     "output_type": "execute_result"
    }
   ],
   "source": [
    "is_all_positive(range(10))"
   ],
   "metadata": {
    "collapsed": false,
    "ExecuteTime": {
     "end_time": "2023-10-26T06:42:15.064240600Z",
     "start_time": "2023-10-26T06:42:15.058240400Z"
    }
   }
  },
  {
   "cell_type": "code",
   "execution_count": 34,
   "outputs": [],
   "source": [
    "def gen_matrix(m,n,default_value):\n",
    "    return[[default_value for i in range(n)] for j in range(m)]"
   ],
   "metadata": {
    "collapsed": false,
    "ExecuteTime": {
     "end_time": "2023-10-26T06:53:39.749126300Z",
     "start_time": "2023-10-26T06:53:39.741585300Z"
    }
   }
  },
  {
   "cell_type": "code",
   "execution_count": 35,
   "outputs": [
    {
     "data": {
      "text/plain": "[[1, 1], [1, 1]]"
     },
     "execution_count": 35,
     "metadata": {},
     "output_type": "execute_result"
    }
   ],
   "source": [
    "gen_matrix(2,2,1)"
   ],
   "metadata": {
    "collapsed": false,
    "ExecuteTime": {
     "end_time": "2023-10-26T06:53:51.996176700Z",
     "start_time": "2023-10-26T06:53:51.943110900Z"
    }
   }
  },
  {
   "cell_type": "code",
   "execution_count": 36,
   "outputs": [
    {
     "data": {
      "text/plain": "[['O', 'O'], ['O', 'O']]"
     },
     "execution_count": 36,
     "metadata": {},
     "output_type": "execute_result"
    }
   ],
   "source": [
    "gen_matrix(2,2,'O')"
   ],
   "metadata": {
    "collapsed": false,
    "ExecuteTime": {
     "end_time": "2023-10-26T06:54:09.364642300Z",
     "start_time": "2023-10-26T06:54:09.320210400Z"
    }
   }
  },
  {
   "cell_type": "code",
   "execution_count": 37,
   "outputs": [
    {
     "data": {
      "text/plain": "[['1', '1'], ['1', '1']]"
     },
     "execution_count": 37,
     "metadata": {},
     "output_type": "execute_result"
    }
   ],
   "source": [
    "gen_matrix(2,2,'1')\n"
   ],
   "metadata": {
    "collapsed": false,
    "ExecuteTime": {
     "end_time": "2023-10-26T06:54:19.763950600Z",
     "start_time": "2023-10-26T06:54:19.710293100Z"
    }
   }
  },
  {
   "cell_type": "code",
   "execution_count": 38,
   "outputs": [
    {
     "data": {
      "text/plain": "[[1, 1], [1, 1]]"
     },
     "execution_count": 38,
     "metadata": {},
     "output_type": "execute_result"
    }
   ],
   "source": [
    "gen_matrix(2,2,1)\n"
   ],
   "metadata": {
    "collapsed": false,
    "ExecuteTime": {
     "end_time": "2023-10-26T06:54:34.552239100Z",
     "start_time": "2023-10-26T06:54:34.537232700Z"
    }
   }
  },
  {
   "cell_type": "code",
   "execution_count": 39,
   "outputs": [
    {
     "data": {
      "text/plain": "[[1, 1, 1, 1, 1, 1, 1, 1],\n [1, 1, 1, 1, 1, 1, 1, 1],\n [1, 1, 1, 1, 1, 1, 1, 1],\n [1, 1, 1, 1, 1, 1, 1, 1]]"
     },
     "execution_count": 39,
     "metadata": {},
     "output_type": "execute_result"
    }
   ],
   "source": [
    "gen_matrix(4,8,1)"
   ],
   "metadata": {
    "collapsed": false,
    "ExecuteTime": {
     "end_time": "2023-10-26T06:54:53.612188300Z",
     "start_time": "2023-10-26T06:54:53.595795500Z"
    }
   }
  },
  {
   "cell_type": "code",
   "execution_count": 40,
   "outputs": [],
   "source": [
    "def gen_matrix(rows,cols,default_value):\n",
    "    return[[default_value for i in range(cols)] for j in range(rows)]\n"
   ],
   "metadata": {
    "collapsed": false,
    "ExecuteTime": {
     "end_time": "2023-10-26T06:56:41.388029800Z",
     "start_time": "2023-10-26T06:56:41.358372Z"
    }
   }
  },
  {
   "cell_type": "code",
   "execution_count": 42,
   "outputs": [
    {
     "data": {
      "text/plain": "[[1, 1], [1, 1], [1, 1]]"
     },
     "execution_count": 42,
     "metadata": {},
     "output_type": "execute_result"
    }
   ],
   "source": [
    "gen_matrix(3,2,1)"
   ],
   "metadata": {
    "collapsed": false,
    "ExecuteTime": {
     "end_time": "2023-10-26T06:57:01.954204400Z",
     "start_time": "2023-10-26T06:57:01.943201200Z"
    }
   }
  },
  {
   "cell_type": "code",
   "execution_count": 43,
   "outputs": [
    {
     "data": {
      "text/plain": "[[0, 0, 0, 0, 0], [0, 0, 0, 0, 0], [0, 0, 0, 0, 0]]"
     },
     "execution_count": 43,
     "metadata": {},
     "output_type": "execute_result"
    }
   ],
   "source": [
    "gen_matrix(rows=3, cols=5, default_value=0)"
   ],
   "metadata": {
    "collapsed": false,
    "ExecuteTime": {
     "end_time": "2023-10-26T06:58:07.251412900Z",
     "start_time": "2023-10-26T06:58:07.199503Z"
    }
   }
  },
  {
   "cell_type": "code",
   "execution_count": 44,
   "outputs": [],
   "source": [
    "def gen_matrix(m,n,default_value):\n",
    "    return [[default_value for _ in range(n)] for _ in range(m)]"
   ],
   "metadata": {
    "collapsed": false,
    "ExecuteTime": {
     "end_time": "2023-10-26T07:08:22.683309500Z",
     "start_time": "2023-10-26T07:08:22.661087600Z"
    }
   }
  },
  {
   "cell_type": "code",
   "execution_count": 46,
   "outputs": [
    {
     "data": {
      "text/plain": "[[1, 1], [1, 1], [1, 1]]"
     },
     "execution_count": 46,
     "metadata": {},
     "output_type": "execute_result"
    }
   ],
   "source": [
    "gen_matrix(3,2,1)"
   ],
   "metadata": {
    "collapsed": false,
    "ExecuteTime": {
     "end_time": "2023-10-26T07:08:42.981732800Z",
     "start_time": "2023-10-26T07:08:42.966732300Z"
    }
   }
  },
  {
   "cell_type": "code",
   "execution_count": null,
   "outputs": [],
   "source": [],
   "metadata": {
    "collapsed": false
   }
  }
 ],
 "metadata": {
  "kernelspec": {
   "display_name": "Python 3",
   "language": "python",
   "name": "python3"
  },
  "language_info": {
   "codemirror_mode": {
    "name": "ipython",
    "version": 2
   },
   "file_extension": ".py",
   "mimetype": "text/x-python",
   "name": "python",
   "nbconvert_exporter": "python",
   "pygments_lexer": "ipython2",
   "version": "2.7.6"
  }
 },
 "nbformat": 4,
 "nbformat_minor": 0
}
