{
 "cells": [
  {
   "cell_type": "code",
   "execution_count": 1,
   "metadata": {
    "collapsed": true,
    "ExecuteTime": {
     "end_time": "2023-10-26T07:18:09.670586300Z",
     "start_time": "2023-10-26T07:18:09.650179100Z"
    }
   },
   "outputs": [
    {
     "data": {
      "text/plain": "0"
     },
     "execution_count": 1,
     "metadata": {},
     "output_type": "execute_result"
    }
   ],
   "source": [
    "round(0.325)"
   ]
  },
  {
   "cell_type": "code",
   "execution_count": 2,
   "outputs": [
    {
     "data": {
      "text/plain": "1"
     },
     "execution_count": 2,
     "metadata": {},
     "output_type": "execute_result"
    }
   ],
   "source": [
    "round(0.844)"
   ],
   "metadata": {
    "collapsed": false,
    "ExecuteTime": {
     "end_time": "2023-10-26T07:18:17.742839500Z",
     "start_time": "2023-10-26T07:18:17.697035200Z"
    }
   }
  },
  {
   "cell_type": "code",
   "execution_count": 3,
   "outputs": [
    {
     "data": {
      "text/plain": "14"
     },
     "execution_count": 3,
     "metadata": {},
     "output_type": "execute_result"
    }
   ],
   "source": [
    "round(13.5)"
   ],
   "metadata": {
    "collapsed": false,
    "ExecuteTime": {
     "end_time": "2023-10-26T07:18:27.719471Z",
     "start_time": "2023-10-26T07:18:27.708462300Z"
    }
   }
  },
  {
   "cell_type": "code",
   "execution_count": 4,
   "outputs": [
    {
     "data": {
      "text/plain": "12"
     },
     "execution_count": 4,
     "metadata": {},
     "output_type": "execute_result"
    }
   ],
   "source": [
    "round(12.5)"
   ],
   "metadata": {
    "collapsed": false,
    "ExecuteTime": {
     "end_time": "2023-10-26T07:18:37.705693400Z",
     "start_time": "2023-10-26T07:18:37.702689300Z"
    }
   }
  },
  {
   "cell_type": "code",
   "execution_count": 5,
   "outputs": [
    {
     "data": {
      "text/plain": "0.1"
     },
     "execution_count": 5,
     "metadata": {},
     "output_type": "execute_result"
    }
   ],
   "source": [
    "round(0.125, 1)"
   ],
   "metadata": {
    "collapsed": false,
    "ExecuteTime": {
     "end_time": "2023-10-26T07:19:05.272548400Z",
     "start_time": "2023-10-26T07:19:05.260479300Z"
    }
   }
  },
  {
   "cell_type": "code",
   "execution_count": 7,
   "outputs": [
    {
     "data": {
      "text/plain": "0.1"
     },
     "execution_count": 7,
     "metadata": {},
     "output_type": "execute_result"
    }
   ],
   "source": [
    "round(0.15, 1)"
   ],
   "metadata": {
    "collapsed": false,
    "ExecuteTime": {
     "end_time": "2023-10-26T07:19:33.824493Z",
     "start_time": "2023-10-26T07:19:33.814497100Z"
    }
   }
  },
  {
   "cell_type": "code",
   "execution_count": 8,
   "outputs": [
    {
     "data": {
      "text/plain": "0.12"
     },
     "execution_count": 8,
     "metadata": {},
     "output_type": "execute_result"
    }
   ],
   "source": [
    "round(0.125, 2)\n"
   ],
   "metadata": {
    "collapsed": false,
    "ExecuteTime": {
     "end_time": "2023-10-26T07:20:07.442322200Z",
     "start_time": "2023-10-26T07:20:07.426282800Z"
    }
   }
  },
  {
   "cell_type": "code",
   "execution_count": 10,
   "outputs": [
    {
     "data": {
      "text/plain": "0.14"
     },
     "execution_count": 10,
     "metadata": {},
     "output_type": "execute_result"
    }
   ],
   "source": [
    "round(0.135, 2)\n"
   ],
   "metadata": {
    "collapsed": false,
    "ExecuteTime": {
     "end_time": "2023-10-26T07:20:25.004662500Z",
     "start_time": "2023-10-26T07:20:25.000298900Z"
    }
   }
  },
  {
   "cell_type": "code",
   "execution_count": 11,
   "outputs": [
    {
     "data": {
      "text/plain": "123460"
     },
     "execution_count": 11,
     "metadata": {},
     "output_type": "execute_result"
    }
   ],
   "source": [
    "round(123456, -1)"
   ],
   "metadata": {
    "collapsed": false,
    "ExecuteTime": {
     "end_time": "2023-10-26T07:20:57.574201300Z",
     "start_time": "2023-10-26T07:20:57.570200400Z"
    }
   }
  },
  {
   "cell_type": "code",
   "execution_count": 13,
   "outputs": [
    {
     "data": {
      "text/plain": "100000"
     },
     "execution_count": 13,
     "metadata": {},
     "output_type": "execute_result"
    }
   ],
   "source": [
    "round(123456, -5)"
   ],
   "metadata": {
    "collapsed": false,
    "ExecuteTime": {
     "end_time": "2023-10-26T07:21:39.538244200Z",
     "start_time": "2023-10-26T07:21:39.517022100Z"
    }
   }
  },
  {
   "cell_type": "code",
   "execution_count": 14,
   "outputs": [
    {
     "data": {
      "text/plain": "'0.32500000000000001110'"
     },
     "execution_count": 14,
     "metadata": {},
     "output_type": "execute_result"
    }
   ],
   "source": [
    "format(0.325, '.20f')"
   ],
   "metadata": {
    "collapsed": false,
    "ExecuteTime": {
     "end_time": "2023-10-26T07:23:08.702128Z",
     "start_time": "2023-10-26T07:23:08.660518700Z"
    }
   }
  },
  {
   "cell_type": "code",
   "execution_count": 15,
   "outputs": [],
   "source": [
    "l = [1, 10, 2, 9, 3, 8]\n",
    "t = [1, 10, 2, 9, 3, 8]\n"
   ],
   "metadata": {
    "collapsed": false,
    "ExecuteTime": {
     "end_time": "2023-10-26T08:58:13.568889600Z",
     "start_time": "2023-10-26T08:58:13.562880800Z"
    }
   }
  },
  {
   "cell_type": "code",
   "execution_count": 16,
   "outputs": [
    {
     "data": {
      "text/plain": "[1, 2, 3, 8, 9, 10]"
     },
     "execution_count": 16,
     "metadata": {},
     "output_type": "execute_result"
    }
   ],
   "source": [
    "sorted(l)"
   ],
   "metadata": {
    "collapsed": false,
    "ExecuteTime": {
     "end_time": "2023-10-26T08:58:20.921729400Z",
     "start_time": "2023-10-26T08:58:20.916685300Z"
    }
   }
  },
  {
   "cell_type": "code",
   "execution_count": 17,
   "outputs": [
    {
     "data": {
      "text/plain": "[1, 2, 3, 8, 9, 10]"
     },
     "execution_count": 17,
     "metadata": {},
     "output_type": "execute_result"
    }
   ],
   "source": [
    "sorted(t)"
   ],
   "metadata": {
    "collapsed": false,
    "ExecuteTime": {
     "end_time": "2023-10-26T08:58:28.143445400Z",
     "start_time": "2023-10-26T08:58:28.139405800Z"
    }
   }
  },
  {
   "cell_type": "code",
   "execution_count": 18,
   "outputs": [
    {
     "data": {
      "text/plain": "[1, 10, 2, 9, 3, 8]"
     },
     "execution_count": 18,
     "metadata": {},
     "output_type": "execute_result"
    }
   ],
   "source": [
    "l"
   ],
   "metadata": {
    "collapsed": false,
    "ExecuteTime": {
     "end_time": "2023-10-26T08:58:42.990619900Z",
     "start_time": "2023-10-26T08:58:42.985619600Z"
    }
   }
  },
  {
   "cell_type": "code",
   "execution_count": 19,
   "outputs": [
    {
     "data": {
      "text/plain": "[10, 9, 8, 3, 2, 1]"
     },
     "execution_count": 19,
     "metadata": {},
     "output_type": "execute_result"
    }
   ],
   "source": [
    "sorted(l, reverse=True)"
   ],
   "metadata": {
    "collapsed": false,
    "ExecuteTime": {
     "end_time": "2023-10-26T08:59:03.414343700Z",
     "start_time": "2023-10-26T08:59:03.399338200Z"
    }
   }
  },
  {
   "cell_type": "code",
   "execution_count": 22,
   "outputs": [
    {
     "data": {
      "text/plain": "list"
     },
     "execution_count": 22,
     "metadata": {},
     "output_type": "execute_result"
    }
   ],
   "source": [
    "type(sorted(('a', 'z', 'b', 'y', 'c', 'x')))"
   ],
   "metadata": {
    "collapsed": false,
    "ExecuteTime": {
     "end_time": "2023-10-26T09:00:34.312540400Z",
     "start_time": "2023-10-26T09:00:34.300528700Z"
    }
   }
  },
  {
   "cell_type": "code",
   "execution_count": 23,
   "outputs": [
    {
     "data": {
      "text/plain": "tuple"
     },
     "execution_count": 23,
     "metadata": {},
     "output_type": "execute_result"
    }
   ],
   "source": [
    "type(('a', 'b'))"
   ],
   "metadata": {
    "collapsed": false,
    "ExecuteTime": {
     "end_time": "2023-10-26T09:00:54.438053200Z",
     "start_time": "2023-10-26T09:00:54.432020400Z"
    }
   }
  },
  {
   "cell_type": "code",
   "execution_count": 24,
   "outputs": [
    {
     "data": {
      "text/plain": "['Zebra', 'apple', 'atom']"
     },
     "execution_count": 24,
     "metadata": {},
     "output_type": "execute_result"
    }
   ],
   "source": [
    "sorted(('apple', 'atom', 'Zebra'))"
   ],
   "metadata": {
    "collapsed": false,
    "ExecuteTime": {
     "end_time": "2023-10-26T09:01:53.079336Z",
     "start_time": "2023-10-26T09:01:53.065312500Z"
    }
   }
  },
  {
   "cell_type": "code",
   "execution_count": 25,
   "outputs": [],
   "source": [
    "sorted_ascending = sorted(l)"
   ],
   "metadata": {
    "collapsed": false,
    "ExecuteTime": {
     "end_time": "2023-10-26T09:02:42.877641Z",
     "start_time": "2023-10-26T09:02:42.872638Z"
    }
   }
  },
  {
   "cell_type": "code",
   "execution_count": 26,
   "outputs": [],
   "source": [
    "smallest_element = sorted_ascending[0]"
   ],
   "metadata": {
    "collapsed": false,
    "ExecuteTime": {
     "end_time": "2023-10-26T09:03:05.784690600Z",
     "start_time": "2023-10-26T09:03:05.779982500Z"
    }
   }
  },
  {
   "cell_type": "code",
   "execution_count": 27,
   "outputs": [
    {
     "name": "stdout",
     "output_type": "stream",
     "text": [
      "1\n"
     ]
    }
   ],
   "source": [
    "print(smallest_element)"
   ],
   "metadata": {
    "collapsed": false,
    "ExecuteTime": {
     "end_time": "2023-10-26T09:03:10.478807400Z",
     "start_time": "2023-10-26T09:03:10.473690700Z"
    }
   }
  },
  {
   "cell_type": "code",
   "execution_count": 28,
   "outputs": [
    {
     "data": {
      "text/plain": "1"
     },
     "execution_count": 28,
     "metadata": {},
     "output_type": "execute_result"
    }
   ],
   "source": [
    "min(l)"
   ],
   "metadata": {
    "collapsed": false,
    "ExecuteTime": {
     "end_time": "2023-10-26T09:03:21.964708300Z",
     "start_time": "2023-10-26T09:03:21.958701Z"
    }
   }
  },
  {
   "cell_type": "code",
   "execution_count": 29,
   "outputs": [
    {
     "data": {
      "text/plain": "10"
     },
     "execution_count": 29,
     "metadata": {},
     "output_type": "execute_result"
    }
   ],
   "source": [
    "max(l)"
   ],
   "metadata": {
    "collapsed": false,
    "ExecuteTime": {
     "end_time": "2023-10-26T09:03:24.782068300Z",
     "start_time": "2023-10-26T09:03:24.776801700Z"
    }
   }
  },
  {
   "cell_type": "code",
   "execution_count": 31,
   "outputs": [
    {
     "data": {
      "text/plain": "0"
     },
     "execution_count": 31,
     "metadata": {},
     "output_type": "execute_result"
    }
   ],
   "source": [
    "min([], default=0)"
   ],
   "metadata": {
    "collapsed": false,
    "ExecuteTime": {
     "end_time": "2023-10-26T09:03:53.158434200Z",
     "start_time": "2023-10-26T09:03:53.149431700Z"
    }
   }
  },
  {
   "cell_type": "code",
   "execution_count": 32,
   "outputs": [
    {
     "data": {
      "text/plain": "1"
     },
     "execution_count": 32,
     "metadata": {},
     "output_type": "execute_result"
    }
   ],
   "source": [
    "min(1, 20, 2, 9, 3, 8)"
   ],
   "metadata": {
    "collapsed": false,
    "ExecuteTime": {
     "end_time": "2023-10-26T09:04:34.024764500Z",
     "start_time": "2023-10-26T09:04:33.978764Z"
    }
   }
  },
  {
   "cell_type": "code",
   "execution_count": 33,
   "outputs": [
    {
     "data": {
      "text/plain": "1"
     },
     "execution_count": 33,
     "metadata": {},
     "output_type": "execute_result"
    }
   ],
   "source": [
    "min(l, default=0)"
   ],
   "metadata": {
    "collapsed": false,
    "ExecuteTime": {
     "end_time": "2023-10-26T09:05:04.552311400Z",
     "start_time": "2023-10-26T09:05:04.547138400Z"
    }
   }
  },
  {
   "cell_type": "code",
   "execution_count": 56,
   "outputs": [],
   "source": [
    "l = [1, 2, 3, 4, 5]\n",
    "t = (10, 20, 30)"
   ],
   "metadata": {
    "collapsed": false,
    "ExecuteTime": {
     "end_time": "2023-10-26T10:40:57.498885500Z",
     "start_time": "2023-10-26T10:40:57.485882Z"
    }
   }
  },
  {
   "cell_type": "code",
   "execution_count": 57,
   "outputs": [],
   "source": [
    "result = zip(l, t)"
   ],
   "metadata": {
    "collapsed": false,
    "ExecuteTime": {
     "end_time": "2023-10-26T10:40:58.043372500Z",
     "start_time": "2023-10-26T10:40:57.995717800Z"
    }
   }
  },
  {
   "cell_type": "code",
   "execution_count": 58,
   "outputs": [
    {
     "name": "stdout",
     "output_type": "stream",
     "text": [
      "(1, 10)\n",
      "(2, 20)\n",
      "(3, 30)\n"
     ]
    }
   ],
   "source": [
    "try:\n",
    "    for _ in result:\n",
    "        print(_)\n",
    "except (StopIteration) as e:\n",
    "    print('Jetzt ist Schluss')"
   ],
   "metadata": {
    "collapsed": false,
    "ExecuteTime": {
     "end_time": "2023-10-26T10:40:58.730648200Z",
     "start_time": "2023-10-26T10:40:58.719642Z"
    }
   }
  },
  {
   "cell_type": "code",
   "execution_count": 59,
   "outputs": [
    {
     "name": "stdout",
     "output_type": "stream",
     "text": [
      "StopIteration\n"
     ]
    }
   ],
   "source": [
    "try:\n",
    "    next(result)\n",
    "except StopIteration as e:\n",
    "    print('StopIteration')"
   ],
   "metadata": {
    "collapsed": false,
    "ExecuteTime": {
     "end_time": "2023-10-26T10:41:00.228630100Z",
     "start_time": "2023-10-26T10:41:00.202358300Z"
    }
   }
  },
  {
   "cell_type": "code",
   "execution_count": 60,
   "outputs": [
    {
     "name": "stdout",
     "output_type": "stream",
     "text": [
      "(1, 10)\n",
      "(2, 20)\n",
      "(3, 30)\n"
     ]
    }
   ],
   "source": [
    "for t in zip(l, t):\n",
    "    print(t)"
   ],
   "metadata": {
    "collapsed": false,
    "ExecuteTime": {
     "end_time": "2023-10-26T10:41:24.264208900Z",
     "start_time": "2023-10-26T10:41:24.250707300Z"
    }
   }
  },
  {
   "cell_type": "code",
   "execution_count": 61,
   "outputs": [],
   "source": [
    "combo = list(zip(l, t))"
   ],
   "metadata": {
    "collapsed": false,
    "ExecuteTime": {
     "end_time": "2023-10-26T10:41:35.646093900Z",
     "start_time": "2023-10-26T10:41:35.639133500Z"
    }
   }
  },
  {
   "cell_type": "code",
   "execution_count": 62,
   "outputs": [
    {
     "data": {
      "text/plain": "[(1, 3), (2, 30)]"
     },
     "execution_count": 62,
     "metadata": {},
     "output_type": "execute_result"
    }
   ],
   "source": [
    "combo"
   ],
   "metadata": {
    "collapsed": false,
    "ExecuteTime": {
     "end_time": "2023-10-26T10:41:39.763308Z",
     "start_time": "2023-10-26T10:41:39.757317500Z"
    }
   }
  },
  {
   "cell_type": "code",
   "execution_count": 72,
   "outputs": [],
   "source": [
    "from time import perf_counter"
   ],
   "metadata": {
    "collapsed": false,
    "ExecuteTime": {
     "end_time": "2023-10-26T10:47:29.177461100Z",
     "start_time": "2023-10-26T10:47:29.167453200Z"
    }
   }
  },
  {
   "cell_type": "code",
   "execution_count": 73,
   "outputs": [
    {
     "name": "stdout",
     "output_type": "stream",
     "text": [
      "Elapsed:  0.00011059999997087289\n"
     ]
    }
   ],
   "source": [
    "start = perf_counter()\n",
    "l1 = range(100_000_000_000)\n",
    "l2 = range(100_000_000_000)\n",
    "combo = zip(l1, l2)\n",
    "end = perf_counter()\n",
    "print(f'Elapsed:  {end - start}')\n"
   ],
   "metadata": {
    "collapsed": false,
    "ExecuteTime": {
     "end_time": "2023-10-26T10:47:38.701709700Z",
     "start_time": "2023-10-26T10:47:38.683137200Z"
    }
   }
  },
  {
   "cell_type": "code",
   "execution_count": 78,
   "outputs": [],
   "source": [
    "d = dict([('a', 1), ('b', 2), ('c', 3)])"
   ],
   "metadata": {
    "collapsed": false,
    "ExecuteTime": {
     "end_time": "2023-10-26T10:50:24.687267900Z",
     "start_time": "2023-10-26T10:50:24.667232300Z"
    }
   }
  },
  {
   "cell_type": "code",
   "execution_count": 79,
   "outputs": [
    {
     "data": {
      "text/plain": "{'a': 1, 'b': 2, 'c': 3}"
     },
     "execution_count": 79,
     "metadata": {},
     "output_type": "execute_result"
    }
   ],
   "source": [
    "d"
   ],
   "metadata": {
    "collapsed": false,
    "ExecuteTime": {
     "end_time": "2023-10-26T10:50:26.356936400Z",
     "start_time": "2023-10-26T10:50:26.341902500Z"
    }
   }
  },
  {
   "cell_type": "code",
   "execution_count": 89,
   "outputs": [],
   "source": [
    "data = [\n",
    "    ('item1', 10, 100.0),\n",
    "    ('item2', 5, 25.0),\n",
    "    ('item3', 100, 0.25)\n",
    "]"
   ],
   "metadata": {
    "collapsed": false,
    "ExecuteTime": {
     "end_time": "2023-10-26T10:57:29.338137400Z",
     "start_time": "2023-10-26T10:57:29.324129100Z"
    }
   }
  },
  {
   "cell_type": "code",
   "execution_count": 90,
   "outputs": [],
   "source": [
    "schema = ('widget', 'num_sold', 'unit_price')"
   ],
   "metadata": {
    "collapsed": false,
    "ExecuteTime": {
     "end_time": "2023-10-26T10:57:29.698801500Z",
     "start_time": "2023-10-26T10:57:29.686809700Z"
    }
   }
  },
  {
   "cell_type": "code",
   "execution_count": 93,
   "outputs": [
    {
     "name": "stdout",
     "output_type": "stream",
     "text": [
      "{'item1': {'num_sold': 10, 'unit_price': 100.0}, 'item2': {'num_sold': 5, 'unit_price': 25.0}, 'item3': {'num_sold': 100, 'unit_price': 0.25}}\n"
     ]
    }
   ],
   "source": [
    "d = {}\n",
    "for item in data:\n",
    "    d[item[0]] = {'num_sold': item[1], 'unit_price': item[2]}\n",
    "print(d)"
   ],
   "metadata": {
    "collapsed": false,
    "ExecuteTime": {
     "end_time": "2023-10-26T11:01:20.921210600Z",
     "start_time": "2023-10-26T11:01:20.909207800Z"
    }
   }
  },
  {
   "cell_type": "code",
   "execution_count": 95,
   "outputs": [
    {
     "name": "stdout",
     "output_type": "stream",
     "text": [
      "[('widget', 'item1'), ('num_sold', 10), ('unit_price', 100.0)]\n",
      "[('widget', 'item2'), ('num_sold', 5), ('unit_price', 25.0)]\n",
      "[('widget', 'item3'), ('num_sold', 100), ('unit_price', 0.25)]\n"
     ]
    }
   ],
   "source": [
    "for row in data:\n",
    "    print(list(zip(schema, row)))"
   ],
   "metadata": {
    "collapsed": false,
    "ExecuteTime": {
     "end_time": "2023-10-26T11:02:57.950625900Z",
     "start_time": "2023-10-26T11:02:57.914962800Z"
    }
   }
  },
  {
   "cell_type": "code",
   "execution_count": 96,
   "outputs": [
    {
     "name": "stdout",
     "output_type": "stream",
     "text": [
      "item1 [('num_sold', ('item2', 5, 25.0)), ('unit_price', ('item3', 100, 0.25))]\n",
      "item2 [('num_sold', ('item2', 5, 25.0)), ('unit_price', ('item3', 100, 0.25))]\n",
      "item3 [('num_sold', ('item2', 5, 25.0)), ('unit_price', ('item3', 100, 0.25))]\n"
     ]
    }
   ],
   "source": [
    "for row in data:\n",
    "    widget_name = row[0]\n",
    "    remaining = zip(schema[1:], data[1:])\n",
    "    print(widget_name, list(remaining))"
   ],
   "metadata": {
    "collapsed": false,
    "ExecuteTime": {
     "end_time": "2023-10-26T11:04:39.938037600Z",
     "start_time": "2023-10-26T11:04:39.885591500Z"
    }
   }
  },
  {
   "cell_type": "code",
   "execution_count": 98,
   "outputs": [
    {
     "name": "stdout",
     "output_type": "stream",
     "text": [
      "{'item1': {'num_sold': 10, 'unit_price': 100.0}, 'item2': {'num_sold': 5, 'unit_price': 25.0}, 'item3': {'num_sold': 100, 'unit_price': 0.25}}\n"
     ]
    }
   ],
   "source": [
    "data_dict = {}\n",
    "for row in data:\n",
    "    widget_name = row[0]\n",
    "    sub_dict = dict(zip(schema[1:], row[1:]))\n",
    "    data_dict[widget_name] = sub_dict\n",
    "print(data_dict)"
   ],
   "metadata": {
    "collapsed": false,
    "ExecuteTime": {
     "end_time": "2023-10-26T11:07:33.242388Z",
     "start_time": "2023-10-26T11:07:33.225261600Z"
    }
   }
  },
  {
   "cell_type": "code",
   "execution_count": 99,
   "outputs": [
    {
     "name": "stdout",
     "output_type": "stream",
     "text": [
      "{'item1': {'num_sold': 10, 'unit_price': 100.0}, 'item2': {'num_sold': 5, 'unit_price': 25.0}, 'item3': {'num_sold': 100, 'unit_price': 0.25}}\n"
     ]
    }
   ],
   "source": [
    "data_dict = {}\n",
    "for row in data:\n",
    "    data_dict[row[0]] = dict(zip(schema[1:], row[1:]))\n",
    "print(data_dict)"
   ],
   "metadata": {
    "collapsed": false,
    "ExecuteTime": {
     "end_time": "2023-10-26T11:09:46.430057800Z",
     "start_time": "2023-10-26T11:09:46.411058600Z"
    }
   }
  },
  {
   "cell_type": "code",
   "execution_count": 100,
   "outputs": [
    {
     "name": "stdout",
     "output_type": "stream",
     "text": [
      "{'item1': {'num_sold': 10, 'unit_price': 100.0}, 'item2': {'num_sold': 5, 'unit_price': 25.0}, 'item3': {'num_sold': 100, 'unit_price': 0.25}}\n"
     ]
    }
   ],
   "source": [
    "data_dict = {row[0]: dict(zip(schema[1:], row[1:])) for row in data}\n",
    "print(data_dict)"
   ],
   "metadata": {
    "collapsed": false,
    "ExecuteTime": {
     "end_time": "2023-10-26T11:11:38.635359700Z",
     "start_time": "2023-10-26T11:11:38.617597100Z"
    }
   }
  },
  {
   "cell_type": "code",
   "execution_count": 101,
   "outputs": [],
   "source": [
    "from pprint import pprint"
   ],
   "metadata": {
    "collapsed": false,
    "ExecuteTime": {
     "end_time": "2023-10-26T11:13:55.223029900Z",
     "start_time": "2023-10-26T11:13:55.187413200Z"
    }
   }
  },
  {
   "cell_type": "code",
   "execution_count": 102,
   "outputs": [
    {
     "name": "stdout",
     "output_type": "stream",
     "text": [
      "{'item1': {'num_sold': 10, 'unit_price': 100.0},\n",
      " 'item2': {'num_sold': 5, 'unit_price': 25.0},\n",
      " 'item3': {'num_sold': 100, 'unit_price': 0.25}}\n"
     ]
    }
   ],
   "source": [
    "pprint(data_dict)"
   ],
   "metadata": {
    "collapsed": false,
    "ExecuteTime": {
     "end_time": "2023-10-26T11:14:10.137946800Z",
     "start_time": "2023-10-26T11:14:10.076909200Z"
    }
   }
  },
  {
   "cell_type": "code",
   "execution_count": 113,
   "outputs": [],
   "source": [
    "data = [\n",
    "    ('item1', 'manuf-1', 10, 100.0, 0.2),\n",
    "    ('item2', 'manuf-2', 5, 25.0, 0),\n",
    "    ('item3', 'manuf-3', 100, 0.25, 0.025)\n",
    "]"
   ],
   "metadata": {
    "collapsed": false,
    "ExecuteTime": {
     "end_time": "2023-10-26T11:21:21.583900800Z",
     "start_time": "2023-10-26T11:21:21.559162200Z"
    }
   }
  },
  {
   "cell_type": "code",
   "execution_count": 114,
   "outputs": [],
   "source": [
    "schema = ('widget', 'manufacturer', 'num_sold', 'unit_price', 'discount')"
   ],
   "metadata": {
    "collapsed": false,
    "ExecuteTime": {
     "end_time": "2023-10-26T11:21:22.119326700Z",
     "start_time": "2023-10-26T11:21:22.091319100Z"
    }
   }
  },
  {
   "cell_type": "code",
   "execution_count": 115,
   "outputs": [],
   "source": [
    "data_dict = {row[0] : dict(zip(schema[1:], row[1:])) for row in data}"
   ],
   "metadata": {
    "collapsed": false,
    "ExecuteTime": {
     "end_time": "2023-10-26T11:21:22.630988100Z",
     "start_time": "2023-10-26T11:21:22.614987500Z"
    }
   }
  },
  {
   "cell_type": "code",
   "execution_count": 116,
   "outputs": [
    {
     "name": "stdout",
     "output_type": "stream",
     "text": [
      "{'item1': {'discount': 0.2,\n",
      "           'manufacturer': 'manuf-1',\n",
      "           'num_sold': 10,\n",
      "           'unit_price': 100.0},\n",
      " 'item2': {'discount': 0,\n",
      "           'manufacturer': 'manuf-2',\n",
      "           'num_sold': 5,\n",
      "           'unit_price': 25.0},\n",
      " 'item3': {'discount': 0.025,\n",
      "           'manufacturer': 'manuf-3',\n",
      "           'num_sold': 100,\n",
      "           'unit_price': 0.25}}\n"
     ]
    }
   ],
   "source": [
    "pprint(data_dict)"
   ],
   "metadata": {
    "collapsed": false,
    "ExecuteTime": {
     "end_time": "2023-10-26T11:21:23.343766800Z",
     "start_time": "2023-10-26T11:21:23.318731500Z"
    }
   }
  },
  {
   "cell_type": "code",
   "execution_count": 117,
   "outputs": [],
   "source": [
    "widgets = [f'w{i}' for i in range(1,21)]\n",
    "skus = [f'sku{i}' for i in range(1,len(widgets)+1)]"
   ],
   "metadata": {
    "collapsed": false,
    "ExecuteTime": {
     "end_time": "2023-10-26T11:56:16.869205500Z",
     "start_time": "2023-10-26T11:56:16.838835500Z"
    }
   }
  },
  {
   "cell_type": "code",
   "execution_count": 118,
   "outputs": [
    {
     "data": {
      "text/plain": "['w1',\n 'w2',\n 'w3',\n 'w4',\n 'w5',\n 'w6',\n 'w7',\n 'w8',\n 'w9',\n 'w10',\n 'w11',\n 'w12',\n 'w13',\n 'w14',\n 'w15',\n 'w16',\n 'w17',\n 'w18',\n 'w19',\n 'w20']"
     },
     "execution_count": 118,
     "metadata": {},
     "output_type": "execute_result"
    }
   ],
   "source": [
    "widgets"
   ],
   "metadata": {
    "collapsed": false,
    "ExecuteTime": {
     "end_time": "2023-10-26T11:56:22.696580100Z",
     "start_time": "2023-10-26T11:56:22.675562100Z"
    }
   }
  },
  {
   "cell_type": "code",
   "execution_count": 119,
   "outputs": [
    {
     "data": {
      "text/plain": "['sku1',\n 'sku2',\n 'sku3',\n 'sku4',\n 'sku5',\n 'sku6',\n 'sku7',\n 'sku8',\n 'sku9',\n 'sku10',\n 'sku11',\n 'sku12',\n 'sku13',\n 'sku14',\n 'sku15',\n 'sku16',\n 'sku17',\n 'sku18',\n 'sku19',\n 'sku20']"
     },
     "execution_count": 119,
     "metadata": {},
     "output_type": "execute_result"
    }
   ],
   "source": [
    "skus"
   ],
   "metadata": {
    "collapsed": false,
    "ExecuteTime": {
     "end_time": "2023-10-26T11:56:52.710464700Z",
     "start_time": "2023-10-26T11:56:52.691457800Z"
    }
   }
  },
  {
   "cell_type": "code",
   "execution_count": 120,
   "outputs": [],
   "source": [
    "widget_dic =  dict(zip(widgets,skus))"
   ],
   "metadata": {
    "collapsed": false,
    "ExecuteTime": {
     "end_time": "2023-10-26T11:58:19.091655200Z",
     "start_time": "2023-10-26T11:58:19.073101300Z"
    }
   }
  },
  {
   "cell_type": "code",
   "execution_count": 121,
   "outputs": [
    {
     "data": {
      "text/plain": "{'w1': 'sku1',\n 'w2': 'sku2',\n 'w3': 'sku3',\n 'w4': 'sku4',\n 'w5': 'sku5',\n 'w6': 'sku6',\n 'w7': 'sku7',\n 'w8': 'sku8',\n 'w9': 'sku9',\n 'w10': 'sku10',\n 'w11': 'sku11',\n 'w12': 'sku12',\n 'w13': 'sku13',\n 'w14': 'sku14',\n 'w15': 'sku15',\n 'w16': 'sku16',\n 'w17': 'sku17',\n 'w18': 'sku18',\n 'w19': 'sku19',\n 'w20': 'sku20'}"
     },
     "execution_count": 121,
     "metadata": {},
     "output_type": "execute_result"
    }
   ],
   "source": [
    "widget_dic"
   ],
   "metadata": {
    "collapsed": false,
    "ExecuteTime": {
     "end_time": "2023-10-26T11:58:25.717233400Z",
     "start_time": "2023-10-26T11:58:25.698522900Z"
    }
   }
  },
  {
   "cell_type": "code",
   "execution_count": 122,
   "outputs": [],
   "source": [
    "suits = 'shdc'  # Spades, Hearts, Diamonds, Clubs\n",
    "ranks = list('23456789') + ['10', 'J', 'Q', 'K', 'A']"
   ],
   "metadata": {
    "collapsed": false,
    "ExecuteTime": {
     "end_time": "2023-10-26T12:09:59.739165700Z",
     "start_time": "2023-10-26T12:09:59.704954100Z"
    }
   }
  },
  {
   "cell_type": "code",
   "execution_count": 126,
   "outputs": [],
   "source": [
    "cards=[ (rank, suit) for suit in suits for rank in ranks]"
   ],
   "metadata": {
    "collapsed": false,
    "ExecuteTime": {
     "end_time": "2023-10-26T12:17:40.195503600Z",
     "start_time": "2023-10-26T12:17:40.182507Z"
    }
   }
  },
  {
   "cell_type": "code",
   "execution_count": 127,
   "outputs": [
    {
     "data": {
      "text/plain": "[('2', 's'),\n ('3', 's'),\n ('4', 's'),\n ('5', 's'),\n ('6', 's'),\n ('7', 's'),\n ('8', 's'),\n ('9', 's'),\n ('10', 's'),\n ('J', 's'),\n ('Q', 's'),\n ('K', 's'),\n ('A', 's'),\n ('2', 'h'),\n ('3', 'h'),\n ('4', 'h'),\n ('5', 'h'),\n ('6', 'h'),\n ('7', 'h'),\n ('8', 'h'),\n ('9', 'h'),\n ('10', 'h'),\n ('J', 'h'),\n ('Q', 'h'),\n ('K', 'h'),\n ('A', 'h'),\n ('2', 'd'),\n ('3', 'd'),\n ('4', 'd'),\n ('5', 'd'),\n ('6', 'd'),\n ('7', 'd'),\n ('8', 'd'),\n ('9', 'd'),\n ('10', 'd'),\n ('J', 'd'),\n ('Q', 'd'),\n ('K', 'd'),\n ('A', 'd'),\n ('2', 'c'),\n ('3', 'c'),\n ('4', 'c'),\n ('5', 'c'),\n ('6', 'c'),\n ('7', 'c'),\n ('8', 'c'),\n ('9', 'c'),\n ('10', 'c'),\n ('J', 'c'),\n ('Q', 'c'),\n ('K', 'c'),\n ('A', 'c')]"
     },
     "execution_count": 127,
     "metadata": {},
     "output_type": "execute_result"
    }
   ],
   "source": [
    "cards"
   ],
   "metadata": {
    "collapsed": false,
    "ExecuteTime": {
     "end_time": "2023-10-26T12:17:44.716697600Z",
     "start_time": "2023-10-26T12:17:44.705694600Z"
    }
   }
  },
  {
   "cell_type": "code",
   "execution_count": 131,
   "outputs": [],
   "source": [
    "l = [5,8,4,9]\n",
    "sorted_list = sorted(l, reverse=False)"
   ],
   "metadata": {
    "collapsed": false,
    "ExecuteTime": {
     "end_time": "2023-10-26T12:22:05.153799600Z",
     "start_time": "2023-10-26T12:22:05.137759300Z"
    }
   }
  },
  {
   "cell_type": "code",
   "execution_count": 132,
   "outputs": [
    {
     "data": {
      "text/plain": "[4, 5, 8, 9]"
     },
     "execution_count": 132,
     "metadata": {},
     "output_type": "execute_result"
    }
   ],
   "source": [
    "sorted_list"
   ],
   "metadata": {
    "collapsed": false,
    "ExecuteTime": {
     "end_time": "2023-10-26T12:22:05.918186Z",
     "start_time": "2023-10-26T12:22:05.889352200Z"
    }
   }
  },
  {
   "cell_type": "code",
   "execution_count": 133,
   "outputs": [
    {
     "data": {
      "text/plain": "4"
     },
     "execution_count": 133,
     "metadata": {},
     "output_type": "execute_result"
    }
   ],
   "source": [
    "min(l)"
   ],
   "metadata": {
    "collapsed": false,
    "ExecuteTime": {
     "end_time": "2023-10-26T12:22:36.612175300Z",
     "start_time": "2023-10-26T12:22:36.589175200Z"
    }
   }
  },
  {
   "cell_type": "code",
   "execution_count": 134,
   "outputs": [
    {
     "data": {
      "text/plain": "9"
     },
     "execution_count": 134,
     "metadata": {},
     "output_type": "execute_result"
    }
   ],
   "source": [
    "max(l)"
   ],
   "metadata": {
    "collapsed": false,
    "ExecuteTime": {
     "end_time": "2023-10-26T12:22:41.842758400Z",
     "start_time": "2023-10-26T12:22:41.774512500Z"
    }
   }
  },
  {
   "cell_type": "code",
   "execution_count": 140,
   "outputs": [],
   "source": [
    "min_value = sorted(l, reverse=False)"
   ],
   "metadata": {
    "collapsed": false,
    "ExecuteTime": {
     "end_time": "2023-10-26T12:24:40.484892400Z",
     "start_time": "2023-10-26T12:24:40.462806200Z"
    }
   }
  },
  {
   "cell_type": "code",
   "execution_count": 141,
   "outputs": [],
   "source": [
    "min_value = min_value[0]"
   ],
   "metadata": {
    "collapsed": false,
    "ExecuteTime": {
     "end_time": "2023-10-26T12:24:41.120683500Z",
     "start_time": "2023-10-26T12:24:41.103774200Z"
    }
   }
  },
  {
   "cell_type": "code",
   "execution_count": 142,
   "outputs": [
    {
     "data": {
      "text/plain": "4"
     },
     "execution_count": 142,
     "metadata": {},
     "output_type": "execute_result"
    }
   ],
   "source": [
    "min_value\n"
   ],
   "metadata": {
    "collapsed": false,
    "ExecuteTime": {
     "end_time": "2023-10-26T12:24:42.038980200Z",
     "start_time": "2023-10-26T12:24:42.012546400Z"
    }
   }
  },
  {
   "cell_type": "code",
   "execution_count": null,
   "outputs": [],
   "source": [],
   "metadata": {
    "collapsed": false
   }
  }
 ],
 "metadata": {
  "kernelspec": {
   "display_name": "Python 3",
   "language": "python",
   "name": "python3"
  },
  "language_info": {
   "codemirror_mode": {
    "name": "ipython",
    "version": 2
   },
   "file_extension": ".py",
   "mimetype": "text/x-python",
   "name": "python",
   "nbconvert_exporter": "python",
   "pygments_lexer": "ipython2",
   "version": "2.7.6"
  }
 },
 "nbformat": 4,
 "nbformat_minor": 0
}
