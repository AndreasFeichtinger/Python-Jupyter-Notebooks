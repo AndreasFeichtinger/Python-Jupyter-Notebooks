{
 "cells": [
  {
   "cell_type": "code",
   "execution_count": 3,
   "metadata": {
    "collapsed": true,
    "ExecuteTime": {
     "end_time": "2023-11-09T07:38:52.975077200Z",
     "start_time": "2023-11-09T07:38:52.954076200Z"
    }
   },
   "outputs": [],
   "source": [
    "import pandas as pd\n",
    "import numpy as np"
   ]
  },
  {
   "cell_type": "code",
   "execution_count": 4,
   "outputs": [],
   "source": [
    "idx = pd.Index([10, 20, 30])"
   ],
   "metadata": {
    "collapsed": false,
    "ExecuteTime": {
     "end_time": "2023-11-09T07:38:53.464468Z",
     "start_time": "2023-11-09T07:38:53.439460900Z"
    }
   }
  },
  {
   "cell_type": "code",
   "execution_count": 5,
   "outputs": [
    {
     "data": {
      "text/plain": "Int64Index([10, 20, 30], dtype='int64')"
     },
     "execution_count": 5,
     "metadata": {},
     "output_type": "execute_result"
    }
   ],
   "source": [
    "idx"
   ],
   "metadata": {
    "collapsed": false,
    "ExecuteTime": {
     "end_time": "2023-11-09T07:38:53.908582Z",
     "start_time": "2023-11-09T07:38:53.887580500Z"
    }
   }
  },
  {
   "cell_type": "code",
   "execution_count": 6,
   "outputs": [],
   "source": [
    "idx = pd.Index([1, 3.14])"
   ],
   "metadata": {
    "collapsed": false,
    "ExecuteTime": {
     "end_time": "2023-11-09T07:38:54.310929200Z",
     "start_time": "2023-11-09T07:38:54.298928900Z"
    }
   }
  },
  {
   "cell_type": "code",
   "execution_count": 7,
   "outputs": [
    {
     "data": {
      "text/plain": "Float64Index([1.0, 3.14], dtype='float64')"
     },
     "execution_count": 7,
     "metadata": {},
     "output_type": "execute_result"
    }
   ],
   "source": [
    "idx"
   ],
   "metadata": {
    "collapsed": false,
    "ExecuteTime": {
     "end_time": "2023-11-09T07:38:54.757351300Z",
     "start_time": "2023-11-09T07:38:54.733349500Z"
    }
   }
  },
  {
   "cell_type": "code",
   "execution_count": 8,
   "outputs": [],
   "source": [
    "idx = pd.Index(['element 1', 'element 2'])"
   ],
   "metadata": {
    "collapsed": false,
    "ExecuteTime": {
     "end_time": "2023-11-09T07:38:55.086718800Z",
     "start_time": "2023-11-09T07:38:55.074718600Z"
    }
   }
  },
  {
   "cell_type": "code",
   "execution_count": 9,
   "outputs": [
    {
     "data": {
      "text/plain": "Index(['element 1', 'element 2'], dtype='object')"
     },
     "execution_count": 9,
     "metadata": {},
     "output_type": "execute_result"
    }
   ],
   "source": [
    "idx"
   ],
   "metadata": {
    "collapsed": false,
    "ExecuteTime": {
     "end_time": "2023-11-09T07:38:55.408731500Z",
     "start_time": "2023-11-09T07:38:55.386724300Z"
    }
   }
  },
  {
   "cell_type": "code",
   "execution_count": 10,
   "outputs": [
    {
     "data": {
      "text/plain": "Int64Index([2, 4, 6, 8, 10], dtype='int64')"
     },
     "execution_count": 10,
     "metadata": {},
     "output_type": "execute_result"
    }
   ],
   "source": [
    "idx = pd.Index([2, 4, 6, 8, 10])\n",
    "idx"
   ],
   "metadata": {
    "collapsed": false,
    "ExecuteTime": {
     "end_time": "2023-11-09T07:38:55.736731900Z",
     "start_time": "2023-11-09T07:38:55.716728100Z"
    }
   }
  },
  {
   "cell_type": "code",
   "execution_count": 11,
   "outputs": [
    {
     "data": {
      "text/plain": "2"
     },
     "execution_count": 11,
     "metadata": {},
     "output_type": "execute_result"
    }
   ],
   "source": [
    "idx[0]"
   ],
   "metadata": {
    "collapsed": false,
    "ExecuteTime": {
     "end_time": "2023-11-09T07:38:56.023731500Z",
     "start_time": "2023-11-09T07:38:56.003726600Z"
    }
   }
  },
  {
   "cell_type": "code",
   "execution_count": 12,
   "outputs": [
    {
     "data": {
      "text/plain": "Int64Index([4, 6, 8], dtype='int64')"
     },
     "execution_count": 12,
     "metadata": {},
     "output_type": "execute_result"
    }
   ],
   "source": [
    "idx[1:4]"
   ],
   "metadata": {
    "collapsed": false,
    "ExecuteTime": {
     "end_time": "2023-11-09T07:38:56.325887800Z",
     "start_time": "2023-11-09T07:38:56.299887500Z"
    }
   }
  },
  {
   "cell_type": "code",
   "execution_count": 13,
   "outputs": [
    {
     "data": {
      "text/plain": "Int64Index([4, 8, 10], dtype='int64')"
     },
     "execution_count": 13,
     "metadata": {},
     "output_type": "execute_result"
    }
   ],
   "source": [
    "idx[[1, 3, 4]]"
   ],
   "metadata": {
    "collapsed": false,
    "ExecuteTime": {
     "end_time": "2023-11-09T07:38:56.727339500Z",
     "start_time": "2023-11-09T07:38:56.714337700Z"
    }
   }
  },
  {
   "cell_type": "code",
   "execution_count": 14,
   "outputs": [
    {
     "data": {
      "text/plain": "Index(['London', 'Paris', 'New York'], dtype='object')"
     },
     "execution_count": 14,
     "metadata": {},
     "output_type": "execute_result"
    }
   ],
   "source": [
    "idx = pd.Index(['London', 'Paris', 'New York', 'Tokyo'])\n",
    "idx[idx != 'Tokyo']"
   ],
   "metadata": {
    "collapsed": false,
    "ExecuteTime": {
     "end_time": "2023-11-09T07:38:57.165473600Z",
     "start_time": "2023-11-09T07:38:57.133575800Z"
    }
   }
  },
  {
   "cell_type": "code",
   "execution_count": 15,
   "outputs": [
    {
     "name": "stdout",
     "output_type": "stream",
     "text": [
      "TypeError:  Index does not support mutable operations\n"
     ]
    }
   ],
   "source": [
    "try:\n",
    "    idx[0] = 100\n",
    "except TypeError as ex:\n",
    "    print('TypeError: ', ex)"
   ],
   "metadata": {
    "collapsed": false,
    "ExecuteTime": {
     "end_time": "2023-11-09T07:38:57.398475200Z",
     "start_time": "2023-11-09T07:38:57.376474800Z"
    }
   }
  },
  {
   "cell_type": "code",
   "execution_count": 16,
   "outputs": [],
   "source": [
    "idx_1 = pd.Index(['a', 'b', 'c'])\n",
    "idx_2 = pd.Index(['c', 'd', 'e'])\n"
   ],
   "metadata": {
    "collapsed": false,
    "ExecuteTime": {
     "end_time": "2023-11-09T07:38:57.619699800Z",
     "start_time": "2023-11-09T07:38:57.595702300Z"
    }
   }
  },
  {
   "cell_type": "code",
   "execution_count": 17,
   "outputs": [
    {
     "name": "stderr",
     "output_type": "stream",
     "text": [
      "C:\\Users\\feichtinge_a\\AppData\\Local\\Temp\\ipykernel_23284\\760049088.py:1: FutureWarning: Index.__and__ operating as a set operation is deprecated, in the future this will be a logical operation matching Series.__and__.  Use index.intersection(other) instead.\n",
      "  idx_1 & idx_2\n"
     ]
    },
    {
     "data": {
      "text/plain": "Index(['c'], dtype='object')"
     },
     "execution_count": 17,
     "metadata": {},
     "output_type": "execute_result"
    }
   ],
   "source": [
    "idx_1 & idx_2\n"
   ],
   "metadata": {
    "collapsed": false,
    "ExecuteTime": {
     "end_time": "2023-11-09T07:38:57.828740300Z",
     "start_time": "2023-11-09T07:38:57.782707100Z"
    }
   }
  },
  {
   "cell_type": "code",
   "execution_count": 18,
   "outputs": [
    {
     "data": {
      "text/plain": "Index(['c'], dtype='object')"
     },
     "execution_count": 18,
     "metadata": {},
     "output_type": "execute_result"
    }
   ],
   "source": [
    "idx_1.intersection(idx_2)"
   ],
   "metadata": {
    "collapsed": false,
    "ExecuteTime": {
     "end_time": "2023-11-09T07:38:58.204550700Z",
     "start_time": "2023-11-09T07:38:58.173514600Z"
    }
   }
  },
  {
   "cell_type": "code",
   "execution_count": 19,
   "outputs": [
    {
     "name": "stderr",
     "output_type": "stream",
     "text": [
      "C:\\Users\\feichtinge_a\\AppData\\Local\\Temp\\ipykernel_23284\\2310009055.py:1: FutureWarning: Index.__or__ operating as a set operation is deprecated, in the future this will be a logical operation matching Series.__or__.  Use index.union(other) instead.\n",
      "  idx_1 | idx_2\n"
     ]
    },
    {
     "data": {
      "text/plain": "Index(['a', 'b', 'c', 'd', 'e'], dtype='object')"
     },
     "execution_count": 19,
     "metadata": {},
     "output_type": "execute_result"
    }
   ],
   "source": [
    "idx_1 | idx_2"
   ],
   "metadata": {
    "collapsed": false,
    "ExecuteTime": {
     "end_time": "2023-11-09T07:38:58.393528500Z",
     "start_time": "2023-11-09T07:38:58.380516700Z"
    }
   }
  },
  {
   "cell_type": "code",
   "execution_count": 20,
   "outputs": [
    {
     "data": {
      "text/plain": "Index(['a', 'b', 'c', 'd', 'e'], dtype='object')"
     },
     "execution_count": 20,
     "metadata": {},
     "output_type": "execute_result"
    }
   ],
   "source": [
    "idx_1.union(idx_2)"
   ],
   "metadata": {
    "collapsed": false,
    "ExecuteTime": {
     "end_time": "2023-11-09T07:38:58.624555200Z",
     "start_time": "2023-11-09T07:38:58.581525500Z"
    }
   }
  },
  {
   "cell_type": "code",
   "execution_count": 21,
   "outputs": [
    {
     "data": {
      "text/plain": "Index(['a', 'b', 'c', 'd', 'e'], dtype='object')"
     },
     "execution_count": 21,
     "metadata": {},
     "output_type": "execute_result"
    }
   ],
   "source": [
    "idx_2.union(idx_1)\n"
   ],
   "metadata": {
    "collapsed": false,
    "ExecuteTime": {
     "end_time": "2023-11-09T07:38:58.809523300Z",
     "start_time": "2023-11-09T07:38:58.784545800Z"
    }
   }
  },
  {
   "cell_type": "code",
   "execution_count": 22,
   "outputs": [
    {
     "data": {
      "text/plain": "Float64Index([1.0, 1.1, 2.0, 2.2, 3.0], dtype='float64')"
     },
     "execution_count": 22,
     "metadata": {},
     "output_type": "execute_result"
    }
   ],
   "source": [
    "pd.Index([1, 2, 3]).union(pd.Index([1.1, 2.2, 3.0]))"
   ],
   "metadata": {
    "collapsed": false,
    "ExecuteTime": {
     "end_time": "2023-11-09T07:38:59.006565100Z",
     "start_time": "2023-11-09T07:38:58.975526800Z"
    }
   }
  },
  {
   "cell_type": "code",
   "execution_count": 23,
   "outputs": [
    {
     "data": {
      "text/plain": "RangeIndex(start=2, stop=10, step=2)"
     },
     "execution_count": 23,
     "metadata": {},
     "output_type": "execute_result"
    }
   ],
   "source": [
    "pd.Index(range(2, 10, 2))"
   ],
   "metadata": {
    "collapsed": false,
    "ExecuteTime": {
     "end_time": "2023-11-09T07:38:59.193910700Z",
     "start_time": "2023-11-09T07:38:59.143919200Z"
    }
   }
  },
  {
   "cell_type": "code",
   "execution_count": 24,
   "outputs": [
    {
     "data": {
      "text/plain": "RangeIndex(start=2, stop=10, step=2)"
     },
     "execution_count": 24,
     "metadata": {},
     "output_type": "execute_result"
    }
   ],
   "source": [
    "idx = pd.RangeIndex(2, 10, 2)\n",
    "idx"
   ],
   "metadata": {
    "collapsed": false,
    "ExecuteTime": {
     "end_time": "2023-11-09T07:38:59.383911500Z",
     "start_time": "2023-11-09T07:38:59.353911800Z"
    }
   }
  },
  {
   "cell_type": "code",
   "execution_count": 25,
   "outputs": [
    {
     "data": {
      "text/plain": "RangeIndex(start=2, stop=10, step=2)"
     },
     "execution_count": 25,
     "metadata": {},
     "output_type": "execute_result"
    }
   ],
   "source": [
    "idx"
   ],
   "metadata": {
    "collapsed": false,
    "ExecuteTime": {
     "end_time": "2023-11-09T07:38:59.536916800Z",
     "start_time": "2023-11-09T07:38:59.524914600Z"
    }
   }
  },
  {
   "cell_type": "code",
   "execution_count": 26,
   "outputs": [
    {
     "data": {
      "text/plain": "RangeIndex(start=4, stop=10, step=2)"
     },
     "execution_count": 26,
     "metadata": {},
     "output_type": "execute_result"
    }
   ],
   "source": [
    "idx[1:4]"
   ],
   "metadata": {
    "collapsed": false,
    "ExecuteTime": {
     "end_time": "2023-11-09T07:38:59.737915600Z",
     "start_time": "2023-11-09T07:38:59.725915800Z"
    }
   }
  },
  {
   "cell_type": "code",
   "execution_count": 27,
   "outputs": [
    {
     "data": {
      "text/plain": "RangeIndex(start=8, stop=0, step=-2)"
     },
     "execution_count": 27,
     "metadata": {},
     "output_type": "execute_result"
    }
   ],
   "source": [
    "idx[::-1]"
   ],
   "metadata": {
    "collapsed": false,
    "ExecuteTime": {
     "end_time": "2023-11-09T07:38:59.950477Z",
     "start_time": "2023-11-09T07:38:59.919840700Z"
    }
   }
  },
  {
   "cell_type": "code",
   "execution_count": 28,
   "outputs": [
    {
     "data": {
      "text/plain": "[0, 1, 2, 3, 4]"
     },
     "execution_count": 28,
     "metadata": {},
     "output_type": "execute_result"
    }
   ],
   "source": [
    "idx_1 = pd.RangeIndex(0, 5)\n",
    "list(idx_1)"
   ],
   "metadata": {
    "collapsed": false,
    "ExecuteTime": {
     "end_time": "2023-11-09T07:39:00.106708Z",
     "start_time": "2023-11-09T07:39:00.095707Z"
    }
   }
  },
  {
   "cell_type": "code",
   "execution_count": 29,
   "outputs": [
    {
     "data": {
      "text/plain": "[4, 5, 6, 7]"
     },
     "execution_count": 29,
     "metadata": {},
     "output_type": "execute_result"
    }
   ],
   "source": [
    "idx_2 = pd.RangeIndex(4, 8)\n",
    "list(idx_2)"
   ],
   "metadata": {
    "collapsed": false,
    "ExecuteTime": {
     "end_time": "2023-11-09T07:39:00.359241200Z",
     "start_time": "2023-11-09T07:39:00.338233700Z"
    }
   }
  },
  {
   "cell_type": "code",
   "execution_count": 30,
   "outputs": [
    {
     "data": {
      "text/plain": "RangeIndex(start=4, stop=5, step=1)"
     },
     "execution_count": 30,
     "metadata": {},
     "output_type": "execute_result"
    }
   ],
   "source": [
    "idx_1.intersection(idx_2)"
   ],
   "metadata": {
    "collapsed": false,
    "ExecuteTime": {
     "end_time": "2023-11-09T07:39:00.500076Z",
     "start_time": "2023-11-09T07:39:00.488076Z"
    }
   }
  },
  {
   "cell_type": "code",
   "execution_count": 31,
   "outputs": [
    {
     "data": {
      "text/plain": "[0, 1, 2, 3, 4, 5, 6, 7]"
     },
     "execution_count": 31,
     "metadata": {},
     "output_type": "execute_result"
    }
   ],
   "source": [
    "list(idx_1.union(idx_2))\n"
   ],
   "metadata": {
    "collapsed": false,
    "ExecuteTime": {
     "end_time": "2023-11-09T07:39:00.708336Z",
     "start_time": "2023-11-09T07:39:00.683333400Z"
    }
   }
  },
  {
   "cell_type": "code",
   "execution_count": 32,
   "outputs": [
    {
     "data": {
      "text/plain": "[1, 3, 4, 5, 7, 9]"
     },
     "execution_count": 32,
     "metadata": {},
     "output_type": "execute_result"
    }
   ],
   "source": [
    "list(pd.RangeIndex(1, 10, 2).union(pd.RangeIndex(1, 10, 3)))"
   ],
   "metadata": {
    "collapsed": false,
    "ExecuteTime": {
     "end_time": "2023-11-09T07:39:00.930610800Z",
     "start_time": "2023-11-09T07:39:00.893965700Z"
    }
   }
  },
  {
   "cell_type": "code",
   "execution_count": 33,
   "outputs": [],
   "source": [
    "idx_1 = pd.Index(['a', 'b', 'c'])\n",
    "idx_2 = pd.RangeIndex(0, 10, 2)\n"
   ],
   "metadata": {
    "collapsed": false,
    "ExecuteTime": {
     "end_time": "2023-11-09T07:39:01.092591600Z",
     "start_time": "2023-11-09T07:39:01.064583200Z"
    }
   }
  },
  {
   "cell_type": "code",
   "execution_count": 34,
   "outputs": [
    {
     "data": {
      "text/plain": "True"
     },
     "execution_count": 34,
     "metadata": {},
     "output_type": "execute_result"
    }
   ],
   "source": [
    "'b' in idx_1"
   ],
   "metadata": {
    "collapsed": false,
    "ExecuteTime": {
     "end_time": "2023-11-09T07:39:01.279625300Z",
     "start_time": "2023-11-09T07:39:01.259963400Z"
    }
   }
  },
  {
   "cell_type": "code",
   "execution_count": 35,
   "outputs": [
    {
     "data": {
      "text/plain": "True"
     },
     "execution_count": 35,
     "metadata": {},
     "output_type": "execute_result"
    }
   ],
   "source": [
    "8 in idx_2"
   ],
   "metadata": {
    "collapsed": false,
    "ExecuteTime": {
     "end_time": "2023-11-09T07:39:01.518585600Z",
     "start_time": "2023-11-09T07:39:01.474581100Z"
    }
   }
  },
  {
   "cell_type": "code",
   "execution_count": 36,
   "outputs": [
    {
     "data": {
      "text/plain": "False"
     },
     "execution_count": 36,
     "metadata": {},
     "output_type": "execute_result"
    }
   ],
   "source": [
    "10 in idx_2"
   ],
   "metadata": {
    "collapsed": false,
    "ExecuteTime": {
     "end_time": "2023-11-09T07:39:01.689617Z",
     "start_time": "2023-11-09T07:39:01.666588600Z"
    }
   }
  },
  {
   "cell_type": "code",
   "execution_count": 37,
   "outputs": [],
   "source": [
    "idx = pd.Index([1, 1, 2, 2, 3, 3])"
   ],
   "metadata": {
    "collapsed": false,
    "ExecuteTime": {
     "end_time": "2023-11-09T07:39:01.900679400Z",
     "start_time": "2023-11-09T07:39:01.877668400Z"
    }
   }
  },
  {
   "cell_type": "code",
   "execution_count": 38,
   "outputs": [
    {
     "data": {
      "text/plain": "Int64Index([1, 1, 2, 2, 3, 3], dtype='int64')"
     },
     "execution_count": 38,
     "metadata": {},
     "output_type": "execute_result"
    }
   ],
   "source": [
    "idx"
   ],
   "metadata": {
    "collapsed": false,
    "ExecuteTime": {
     "end_time": "2023-11-09T07:39:02.073086900Z",
     "start_time": "2023-11-09T07:39:02.047495Z"
    }
   }
  },
  {
   "cell_type": "code",
   "execution_count": 39,
   "outputs": [],
   "source": [
    "s = pd.Series([10, 20, 30], index=['a', 'b', 'c'])"
   ],
   "metadata": {
    "collapsed": false,
    "ExecuteTime": {
     "end_time": "2023-11-09T07:39:02.246073Z",
     "start_time": "2023-11-09T07:39:02.232101300Z"
    }
   }
  },
  {
   "cell_type": "code",
   "execution_count": 40,
   "outputs": [
    {
     "data": {
      "text/plain": "a    10\nb    20\nc    30\ndtype: int64"
     },
     "execution_count": 40,
     "metadata": {},
     "output_type": "execute_result"
    }
   ],
   "source": [
    "s"
   ],
   "metadata": {
    "collapsed": false,
    "ExecuteTime": {
     "end_time": "2023-11-09T07:39:02.451073600Z",
     "start_time": "2023-11-09T07:39:02.438074500Z"
    }
   }
  },
  {
   "cell_type": "code",
   "execution_count": 41,
   "outputs": [
    {
     "data": {
      "text/plain": "10"
     },
     "execution_count": 41,
     "metadata": {},
     "output_type": "execute_result"
    }
   ],
   "source": [
    "s['a']"
   ],
   "metadata": {
    "collapsed": false,
    "ExecuteTime": {
     "end_time": "2023-11-09T07:39:02.716075200Z",
     "start_time": "2023-11-09T07:39:02.672081200Z"
    }
   }
  },
  {
   "cell_type": "code",
   "execution_count": 42,
   "outputs": [],
   "source": [
    "s['c'] = 100"
   ],
   "metadata": {
    "collapsed": false,
    "ExecuteTime": {
     "end_time": "2023-11-09T07:39:02.871077300Z",
     "start_time": "2023-11-09T07:39:02.842086300Z"
    }
   }
  },
  {
   "cell_type": "code",
   "execution_count": 43,
   "outputs": [
    {
     "data": {
      "text/plain": "a     10\nb     20\nc    100\ndtype: int64"
     },
     "execution_count": 43,
     "metadata": {},
     "output_type": "execute_result"
    }
   ],
   "source": [
    "s"
   ],
   "metadata": {
    "collapsed": false,
    "ExecuteTime": {
     "end_time": "2023-11-09T07:39:03.060079600Z",
     "start_time": "2023-11-09T07:39:03.041077900Z"
    }
   }
  },
  {
   "cell_type": "code",
   "execution_count": 44,
   "outputs": [],
   "source": [
    "s['d'] = 500"
   ],
   "metadata": {
    "collapsed": false,
    "ExecuteTime": {
     "end_time": "2023-11-09T07:39:03.249079200Z",
     "start_time": "2023-11-09T07:39:03.211081800Z"
    }
   }
  },
  {
   "cell_type": "code",
   "execution_count": 45,
   "outputs": [
    {
     "data": {
      "text/plain": "a     10\nb     20\nc    100\nd    500\ndtype: int64"
     },
     "execution_count": 45,
     "metadata": {},
     "output_type": "execute_result"
    }
   ],
   "source": [
    "s"
   ],
   "metadata": {
    "collapsed": false,
    "ExecuteTime": {
     "end_time": "2023-11-09T07:39:03.471090900Z",
     "start_time": "2023-11-09T07:39:03.435082300Z"
    }
   }
  },
  {
   "cell_type": "code",
   "execution_count": 46,
   "outputs": [],
   "source": [
    "capitals = {\n",
    "    'USA': 'Washington D.C.',\n",
    "    'Canada': 'Ottawa',\n",
    "    'UK': 'London',\n",
    "    'France': 'Paris'\n",
    "}"
   ],
   "metadata": {
    "collapsed": false,
    "ExecuteTime": {
     "end_time": "2023-11-09T07:39:03.684082400Z",
     "start_time": "2023-11-09T07:39:03.643082800Z"
    }
   }
  },
  {
   "cell_type": "code",
   "execution_count": 47,
   "outputs": [],
   "source": [
    "s = pd.Series(capitals)"
   ],
   "metadata": {
    "collapsed": false,
    "ExecuteTime": {
     "end_time": "2023-11-09T07:39:03.844085500Z",
     "start_time": "2023-11-09T07:39:03.812085600Z"
    }
   }
  },
  {
   "cell_type": "code",
   "execution_count": 48,
   "outputs": [
    {
     "data": {
      "text/plain": "USA       Washington D.C.\nCanada             Ottawa\nUK                 London\nFrance              Paris\ndtype: object"
     },
     "execution_count": 48,
     "metadata": {},
     "output_type": "execute_result"
    }
   ],
   "source": [
    "s"
   ],
   "metadata": {
    "collapsed": false,
    "ExecuteTime": {
     "end_time": "2023-11-09T07:39:04.311090700Z",
     "start_time": "2023-11-09T07:39:04.275089800Z"
    }
   }
  },
  {
   "cell_type": "code",
   "execution_count": 49,
   "outputs": [
    {
     "data": {
      "text/plain": "Index(['USA', 'Canada', 'UK', 'France'], dtype='object')"
     },
     "execution_count": 49,
     "metadata": {},
     "output_type": "execute_result"
    }
   ],
   "source": [
    "s.index"
   ],
   "metadata": {
    "collapsed": false,
    "ExecuteTime": {
     "end_time": "2023-11-09T07:39:04.641217Z",
     "start_time": "2023-11-09T07:39:04.617727800Z"
    }
   }
  },
  {
   "cell_type": "code",
   "execution_count": 50,
   "outputs": [
    {
     "data": {
      "text/plain": "array(['Washington D.C.', 'Ottawa', 'London', 'Paris'], dtype=object)"
     },
     "execution_count": 50,
     "metadata": {},
     "output_type": "execute_result"
    }
   ],
   "source": [
    "s.values"
   ],
   "metadata": {
    "collapsed": false,
    "ExecuteTime": {
     "end_time": "2023-11-09T07:39:05.128288300Z",
     "start_time": "2023-11-09T07:39:05.102255900Z"
    }
   }
  },
  {
   "cell_type": "code",
   "execution_count": 51,
   "outputs": [
    {
     "data": {
      "text/plain": "numpy.ndarray"
     },
     "execution_count": 51,
     "metadata": {},
     "output_type": "execute_result"
    }
   ],
   "source": [
    "type(s.values)"
   ],
   "metadata": {
    "collapsed": false,
    "ExecuteTime": {
     "end_time": "2023-11-09T07:39:05.481294Z",
     "start_time": "2023-11-09T07:39:05.445257400Z"
    }
   }
  },
  {
   "cell_type": "code",
   "execution_count": 52,
   "outputs": [
    {
     "data": {
      "text/plain": "<zip at 0x2c40451cbc0>"
     },
     "execution_count": 52,
     "metadata": {},
     "output_type": "execute_result"
    }
   ],
   "source": [
    "s.items()"
   ],
   "metadata": {
    "collapsed": false,
    "ExecuteTime": {
     "end_time": "2023-11-09T07:39:05.720266200Z",
     "start_time": "2023-11-09T07:39:05.682295200Z"
    }
   }
  },
  {
   "cell_type": "code",
   "execution_count": 53,
   "outputs": [
    {
     "data": {
      "text/plain": "[('USA', 'Washington D.C.'),\n ('Canada', 'Ottawa'),\n ('UK', 'London'),\n ('France', 'Paris')]"
     },
     "execution_count": 53,
     "metadata": {},
     "output_type": "execute_result"
    }
   ],
   "source": [
    "list(s.items())"
   ],
   "metadata": {
    "collapsed": false,
    "ExecuteTime": {
     "end_time": "2023-11-09T07:39:06.116035100Z",
     "start_time": "2023-11-09T07:39:06.086122100Z"
    }
   }
  },
  {
   "cell_type": "code",
   "execution_count": 54,
   "outputs": [],
   "source": [
    "areas = pd.Series(\n",
    "    ['USA', 'Topeka', 'France', 'Lyon', 'UK', 'Glasgow'],\n",
    "    index=['country', 'city', 'country', 'city', 'country', 'city']\n",
    ")"
   ],
   "metadata": {
    "collapsed": false,
    "ExecuteTime": {
     "end_time": "2023-11-09T07:39:06.542791400Z",
     "start_time": "2023-11-09T07:39:06.525790500Z"
    }
   }
  },
  {
   "cell_type": "code",
   "execution_count": 55,
   "outputs": [
    {
     "data": {
      "text/plain": "country        USA\ncity        Topeka\ncountry     France\ncity          Lyon\ncountry         UK\ncity       Glasgow\ndtype: object"
     },
     "execution_count": 55,
     "metadata": {},
     "output_type": "execute_result"
    }
   ],
   "source": [
    "areas"
   ],
   "metadata": {
    "collapsed": false,
    "ExecuteTime": {
     "end_time": "2023-11-09T07:39:06.773808400Z",
     "start_time": "2023-11-09T07:39:06.749806400Z"
    }
   }
  },
  {
   "cell_type": "code",
   "execution_count": 56,
   "outputs": [
    {
     "data": {
      "text/plain": "city     Topeka\ncity       Lyon\ncity    Glasgow\ndtype: object"
     },
     "execution_count": 56,
     "metadata": {},
     "output_type": "execute_result"
    }
   ],
   "source": [
    "areas['city']"
   ],
   "metadata": {
    "collapsed": false,
    "ExecuteTime": {
     "end_time": "2023-11-09T07:39:07.050899300Z",
     "start_time": "2023-11-09T07:39:06.969865300Z"
    }
   }
  },
  {
   "cell_type": "code",
   "execution_count": 57,
   "outputs": [
    {
     "data": {
      "text/plain": "'Glasgow'"
     },
     "execution_count": 57,
     "metadata": {},
     "output_type": "execute_result"
    }
   ],
   "source": [
    "areas[5]"
   ],
   "metadata": {
    "collapsed": false,
    "ExecuteTime": {
     "end_time": "2023-11-09T07:39:07.267918100Z",
     "start_time": "2023-11-09T07:39:07.204908100Z"
    }
   }
  },
  {
   "cell_type": "code",
   "execution_count": 58,
   "outputs": [],
   "source": [
    "areas[1] = 'Rom'"
   ],
   "metadata": {
    "collapsed": false,
    "ExecuteTime": {
     "end_time": "2023-11-09T07:39:07.950070800Z",
     "start_time": "2023-11-09T07:39:07.939069200Z"
    }
   }
  },
  {
   "cell_type": "code",
   "execution_count": 59,
   "outputs": [
    {
     "data": {
      "text/plain": "country        USA\ncity           Rom\ncountry     France\ncity          Lyon\ncountry         UK\ncity       Glasgow\ndtype: object"
     },
     "execution_count": 59,
     "metadata": {},
     "output_type": "execute_result"
    }
   ],
   "source": [
    "areas"
   ],
   "metadata": {
    "collapsed": false,
    "ExecuteTime": {
     "end_time": "2023-11-09T07:39:08.260875500Z",
     "start_time": "2023-11-09T07:39:08.233818100Z"
    }
   }
  },
  {
   "cell_type": "code",
   "execution_count": 60,
   "outputs": [],
   "source": [
    "s = pd.Series([10, 20, 30, 40, 50], index=list('abcde'))"
   ],
   "metadata": {
    "collapsed": false,
    "ExecuteTime": {
     "end_time": "2023-11-09T07:39:08.496550900Z",
     "start_time": "2023-11-09T07:39:08.428552800Z"
    }
   }
  },
  {
   "cell_type": "code",
   "execution_count": 61,
   "outputs": [
    {
     "data": {
      "text/plain": "a    10\nb    20\nc    30\nd    40\ndtype: int64"
     },
     "execution_count": 61,
     "metadata": {},
     "output_type": "execute_result"
    }
   ],
   "source": [
    "s['a':'d']"
   ],
   "metadata": {
    "collapsed": false,
    "ExecuteTime": {
     "end_time": "2023-11-09T07:39:08.671590600Z",
     "start_time": "2023-11-09T07:39:08.624550800Z"
    }
   }
  },
  {
   "cell_type": "code",
   "execution_count": 62,
   "outputs": [
    {
     "data": {
      "text/plain": "a    10\nb    20\nc    30\ndtype: int64"
     },
     "execution_count": 62,
     "metadata": {},
     "output_type": "execute_result"
    }
   ],
   "source": [
    "s[:3]"
   ],
   "metadata": {
    "collapsed": false,
    "ExecuteTime": {
     "end_time": "2023-11-09T07:39:09.320084Z",
     "start_time": "2023-11-09T07:39:09.294042100Z"
    }
   }
  },
  {
   "cell_type": "code",
   "execution_count": 63,
   "outputs": [
    {
     "data": {
      "text/plain": "a    10\nc    30\nd    40\ndtype: int64"
     },
     "execution_count": 63,
     "metadata": {},
     "output_type": "execute_result"
    }
   ],
   "source": [
    "s[['a', 'c', 'd']]"
   ],
   "metadata": {
    "collapsed": false,
    "ExecuteTime": {
     "end_time": "2023-11-09T07:39:09.612066900Z",
     "start_time": "2023-11-09T07:39:09.599047200Z"
    }
   }
  },
  {
   "cell_type": "code",
   "execution_count": 64,
   "outputs": [],
   "source": [
    "s = pd.Series([100, 200, 300], index=[10, 20, 30])"
   ],
   "metadata": {
    "collapsed": false,
    "ExecuteTime": {
     "end_time": "2023-11-09T07:39:09.833133400Z",
     "start_time": "2023-11-09T07:39:09.814049200Z"
    }
   }
  },
  {
   "cell_type": "code",
   "execution_count": 65,
   "outputs": [
    {
     "data": {
      "text/plain": "10    100\n20    200\n30    300\ndtype: int64"
     },
     "execution_count": 65,
     "metadata": {},
     "output_type": "execute_result"
    }
   ],
   "source": [
    "s"
   ],
   "metadata": {
    "collapsed": false,
    "ExecuteTime": {
     "end_time": "2023-11-09T07:39:10.069055900Z",
     "start_time": "2023-11-09T07:39:10.030049700Z"
    }
   }
  },
  {
   "cell_type": "code",
   "execution_count": 66,
   "outputs": [
    {
     "data": {
      "text/plain": "100"
     },
     "execution_count": 66,
     "metadata": {},
     "output_type": "execute_result"
    }
   ],
   "source": [
    "s[10]"
   ],
   "metadata": {
    "collapsed": false,
    "ExecuteTime": {
     "end_time": "2023-11-09T07:39:10.340072800Z",
     "start_time": "2023-11-09T07:39:10.275068400Z"
    }
   }
  },
  {
   "cell_type": "code",
   "execution_count": 67,
   "outputs": [
    {
     "ename": "KeyError",
     "evalue": "100",
     "output_type": "error",
     "traceback": [
      "\u001B[1;31m---------------------------------------------------------------------------\u001B[0m",
      "\u001B[1;31mKeyError\u001B[0m                                  Traceback (most recent call last)",
      "\u001B[1;32m~\\Anaconda3\\lib\\site-packages\\pandas\\core\\indexes\\base.py\u001B[0m in \u001B[0;36mget_loc\u001B[1;34m(self, key, method, tolerance)\u001B[0m\n\u001B[0;32m   3628\u001B[0m             \u001B[1;32mtry\u001B[0m\u001B[1;33m:\u001B[0m\u001B[1;33m\u001B[0m\u001B[1;33m\u001B[0m\u001B[0m\n\u001B[1;32m-> 3629\u001B[1;33m                 \u001B[1;32mreturn\u001B[0m \u001B[0mself\u001B[0m\u001B[1;33m.\u001B[0m\u001B[0m_engine\u001B[0m\u001B[1;33m.\u001B[0m\u001B[0mget_loc\u001B[0m\u001B[1;33m(\u001B[0m\u001B[0mcasted_key\u001B[0m\u001B[1;33m)\u001B[0m\u001B[1;33m\u001B[0m\u001B[1;33m\u001B[0m\u001B[0m\n\u001B[0m\u001B[0;32m   3630\u001B[0m             \u001B[1;32mexcept\u001B[0m \u001B[0mKeyError\u001B[0m \u001B[1;32mas\u001B[0m \u001B[0merr\u001B[0m\u001B[1;33m:\u001B[0m\u001B[1;33m\u001B[0m\u001B[1;33m\u001B[0m\u001B[0m\n",
      "\u001B[1;32m~\\Anaconda3\\lib\\site-packages\\pandas\\_libs\\index.pyx\u001B[0m in \u001B[0;36mpandas._libs.index.IndexEngine.get_loc\u001B[1;34m()\u001B[0m\n",
      "\u001B[1;32m~\\Anaconda3\\lib\\site-packages\\pandas\\_libs\\index.pyx\u001B[0m in \u001B[0;36mpandas._libs.index.IndexEngine.get_loc\u001B[1;34m()\u001B[0m\n",
      "\u001B[1;32mpandas\\_libs\\hashtable_class_helper.pxi\u001B[0m in \u001B[0;36mpandas._libs.hashtable.Int64HashTable.get_item\u001B[1;34m()\u001B[0m\n",
      "\u001B[1;32mpandas\\_libs\\hashtable_class_helper.pxi\u001B[0m in \u001B[0;36mpandas._libs.hashtable.Int64HashTable.get_item\u001B[1;34m()\u001B[0m\n",
      "\u001B[1;31mKeyError\u001B[0m: 100",
      "\nThe above exception was the direct cause of the following exception:\n",
      "\u001B[1;31mKeyError\u001B[0m                                  Traceback (most recent call last)",
      "\u001B[1;32m~\\AppData\\Local\\Temp\\ipykernel_23284\\1154657307.py\u001B[0m in \u001B[0;36m<module>\u001B[1;34m\u001B[0m\n\u001B[1;32m----> 1\u001B[1;33m \u001B[0ms\u001B[0m\u001B[1;33m[\u001B[0m\u001B[1;36m100\u001B[0m\u001B[1;33m]\u001B[0m\u001B[1;33m\u001B[0m\u001B[1;33m\u001B[0m\u001B[0m\n\u001B[0m",
      "\u001B[1;32m~\\Anaconda3\\lib\\site-packages\\pandas\\core\\series.py\u001B[0m in \u001B[0;36m__getitem__\u001B[1;34m(self, key)\u001B[0m\n\u001B[0;32m    956\u001B[0m \u001B[1;33m\u001B[0m\u001B[0m\n\u001B[0;32m    957\u001B[0m         \u001B[1;32melif\u001B[0m \u001B[0mkey_is_scalar\u001B[0m\u001B[1;33m:\u001B[0m\u001B[1;33m\u001B[0m\u001B[1;33m\u001B[0m\u001B[0m\n\u001B[1;32m--> 958\u001B[1;33m             \u001B[1;32mreturn\u001B[0m \u001B[0mself\u001B[0m\u001B[1;33m.\u001B[0m\u001B[0m_get_value\u001B[0m\u001B[1;33m(\u001B[0m\u001B[0mkey\u001B[0m\u001B[1;33m)\u001B[0m\u001B[1;33m\u001B[0m\u001B[1;33m\u001B[0m\u001B[0m\n\u001B[0m\u001B[0;32m    959\u001B[0m \u001B[1;33m\u001B[0m\u001B[0m\n\u001B[0;32m    960\u001B[0m         \u001B[1;32mif\u001B[0m \u001B[0mis_hashable\u001B[0m\u001B[1;33m(\u001B[0m\u001B[0mkey\u001B[0m\u001B[1;33m)\u001B[0m\u001B[1;33m:\u001B[0m\u001B[1;33m\u001B[0m\u001B[1;33m\u001B[0m\u001B[0m\n",
      "\u001B[1;32m~\\Anaconda3\\lib\\site-packages\\pandas\\core\\series.py\u001B[0m in \u001B[0;36m_get_value\u001B[1;34m(self, label, takeable)\u001B[0m\n\u001B[0;32m   1067\u001B[0m \u001B[1;33m\u001B[0m\u001B[0m\n\u001B[0;32m   1068\u001B[0m         \u001B[1;31m# Similar to Index.get_value, but we do not fall back to positional\u001B[0m\u001B[1;33m\u001B[0m\u001B[1;33m\u001B[0m\u001B[0m\n\u001B[1;32m-> 1069\u001B[1;33m         \u001B[0mloc\u001B[0m \u001B[1;33m=\u001B[0m \u001B[0mself\u001B[0m\u001B[1;33m.\u001B[0m\u001B[0mindex\u001B[0m\u001B[1;33m.\u001B[0m\u001B[0mget_loc\u001B[0m\u001B[1;33m(\u001B[0m\u001B[0mlabel\u001B[0m\u001B[1;33m)\u001B[0m\u001B[1;33m\u001B[0m\u001B[1;33m\u001B[0m\u001B[0m\n\u001B[0m\u001B[0;32m   1070\u001B[0m         \u001B[1;32mreturn\u001B[0m \u001B[0mself\u001B[0m\u001B[1;33m.\u001B[0m\u001B[0mindex\u001B[0m\u001B[1;33m.\u001B[0m\u001B[0m_get_values_for_loc\u001B[0m\u001B[1;33m(\u001B[0m\u001B[0mself\u001B[0m\u001B[1;33m,\u001B[0m \u001B[0mloc\u001B[0m\u001B[1;33m,\u001B[0m \u001B[0mlabel\u001B[0m\u001B[1;33m)\u001B[0m\u001B[1;33m\u001B[0m\u001B[1;33m\u001B[0m\u001B[0m\n\u001B[0;32m   1071\u001B[0m \u001B[1;33m\u001B[0m\u001B[0m\n",
      "\u001B[1;32m~\\Anaconda3\\lib\\site-packages\\pandas\\core\\indexes\\base.py\u001B[0m in \u001B[0;36mget_loc\u001B[1;34m(self, key, method, tolerance)\u001B[0m\n\u001B[0;32m   3629\u001B[0m                 \u001B[1;32mreturn\u001B[0m \u001B[0mself\u001B[0m\u001B[1;33m.\u001B[0m\u001B[0m_engine\u001B[0m\u001B[1;33m.\u001B[0m\u001B[0mget_loc\u001B[0m\u001B[1;33m(\u001B[0m\u001B[0mcasted_key\u001B[0m\u001B[1;33m)\u001B[0m\u001B[1;33m\u001B[0m\u001B[1;33m\u001B[0m\u001B[0m\n\u001B[0;32m   3630\u001B[0m             \u001B[1;32mexcept\u001B[0m \u001B[0mKeyError\u001B[0m \u001B[1;32mas\u001B[0m \u001B[0merr\u001B[0m\u001B[1;33m:\u001B[0m\u001B[1;33m\u001B[0m\u001B[1;33m\u001B[0m\u001B[0m\n\u001B[1;32m-> 3631\u001B[1;33m                 \u001B[1;32mraise\u001B[0m \u001B[0mKeyError\u001B[0m\u001B[1;33m(\u001B[0m\u001B[0mkey\u001B[0m\u001B[1;33m)\u001B[0m \u001B[1;32mfrom\u001B[0m \u001B[0merr\u001B[0m\u001B[1;33m\u001B[0m\u001B[1;33m\u001B[0m\u001B[0m\n\u001B[0m\u001B[0;32m   3632\u001B[0m             \u001B[1;32mexcept\u001B[0m \u001B[0mTypeError\u001B[0m\u001B[1;33m:\u001B[0m\u001B[1;33m\u001B[0m\u001B[1;33m\u001B[0m\u001B[0m\n\u001B[0;32m   3633\u001B[0m                 \u001B[1;31m# If we have a listlike key, _check_indexing_error will raise\u001B[0m\u001B[1;33m\u001B[0m\u001B[1;33m\u001B[0m\u001B[0m\n",
      "\u001B[1;31mKeyError\u001B[0m: 100"
     ]
    }
   ],
   "source": [
    "s[100]"
   ],
   "metadata": {
    "collapsed": false,
    "ExecuteTime": {
     "end_time": "2023-11-09T07:39:10.743007200Z",
     "start_time": "2023-11-09T07:39:10.692892Z"
    }
   }
  },
  {
   "cell_type": "code",
   "execution_count": 68,
   "outputs": [
    {
     "ename": "KeyError",
     "evalue": "0",
     "output_type": "error",
     "traceback": [
      "\u001B[1;31m---------------------------------------------------------------------------\u001B[0m",
      "\u001B[1;31mKeyError\u001B[0m                                  Traceback (most recent call last)",
      "\u001B[1;32m~\\Anaconda3\\lib\\site-packages\\pandas\\core\\indexes\\base.py\u001B[0m in \u001B[0;36mget_loc\u001B[1;34m(self, key, method, tolerance)\u001B[0m\n\u001B[0;32m   3628\u001B[0m             \u001B[1;32mtry\u001B[0m\u001B[1;33m:\u001B[0m\u001B[1;33m\u001B[0m\u001B[1;33m\u001B[0m\u001B[0m\n\u001B[1;32m-> 3629\u001B[1;33m                 \u001B[1;32mreturn\u001B[0m \u001B[0mself\u001B[0m\u001B[1;33m.\u001B[0m\u001B[0m_engine\u001B[0m\u001B[1;33m.\u001B[0m\u001B[0mget_loc\u001B[0m\u001B[1;33m(\u001B[0m\u001B[0mcasted_key\u001B[0m\u001B[1;33m)\u001B[0m\u001B[1;33m\u001B[0m\u001B[1;33m\u001B[0m\u001B[0m\n\u001B[0m\u001B[0;32m   3630\u001B[0m             \u001B[1;32mexcept\u001B[0m \u001B[0mKeyError\u001B[0m \u001B[1;32mas\u001B[0m \u001B[0merr\u001B[0m\u001B[1;33m:\u001B[0m\u001B[1;33m\u001B[0m\u001B[1;33m\u001B[0m\u001B[0m\n",
      "\u001B[1;32m~\\Anaconda3\\lib\\site-packages\\pandas\\_libs\\index.pyx\u001B[0m in \u001B[0;36mpandas._libs.index.IndexEngine.get_loc\u001B[1;34m()\u001B[0m\n",
      "\u001B[1;32m~\\Anaconda3\\lib\\site-packages\\pandas\\_libs\\index.pyx\u001B[0m in \u001B[0;36mpandas._libs.index.IndexEngine.get_loc\u001B[1;34m()\u001B[0m\n",
      "\u001B[1;32mpandas\\_libs\\hashtable_class_helper.pxi\u001B[0m in \u001B[0;36mpandas._libs.hashtable.Int64HashTable.get_item\u001B[1;34m()\u001B[0m\n",
      "\u001B[1;32mpandas\\_libs\\hashtable_class_helper.pxi\u001B[0m in \u001B[0;36mpandas._libs.hashtable.Int64HashTable.get_item\u001B[1;34m()\u001B[0m\n",
      "\u001B[1;31mKeyError\u001B[0m: 0",
      "\nThe above exception was the direct cause of the following exception:\n",
      "\u001B[1;31mKeyError\u001B[0m                                  Traceback (most recent call last)",
      "\u001B[1;32m~\\AppData\\Local\\Temp\\ipykernel_23284\\2186746824.py\u001B[0m in \u001B[0;36m<module>\u001B[1;34m\u001B[0m\n\u001B[1;32m----> 1\u001B[1;33m \u001B[0ms\u001B[0m\u001B[1;33m[\u001B[0m\u001B[1;36m0\u001B[0m\u001B[1;33m]\u001B[0m\u001B[1;33m\u001B[0m\u001B[1;33m\u001B[0m\u001B[0m\n\u001B[0m",
      "\u001B[1;32m~\\Anaconda3\\lib\\site-packages\\pandas\\core\\series.py\u001B[0m in \u001B[0;36m__getitem__\u001B[1;34m(self, key)\u001B[0m\n\u001B[0;32m    956\u001B[0m \u001B[1;33m\u001B[0m\u001B[0m\n\u001B[0;32m    957\u001B[0m         \u001B[1;32melif\u001B[0m \u001B[0mkey_is_scalar\u001B[0m\u001B[1;33m:\u001B[0m\u001B[1;33m\u001B[0m\u001B[1;33m\u001B[0m\u001B[0m\n\u001B[1;32m--> 958\u001B[1;33m             \u001B[1;32mreturn\u001B[0m \u001B[0mself\u001B[0m\u001B[1;33m.\u001B[0m\u001B[0m_get_value\u001B[0m\u001B[1;33m(\u001B[0m\u001B[0mkey\u001B[0m\u001B[1;33m)\u001B[0m\u001B[1;33m\u001B[0m\u001B[1;33m\u001B[0m\u001B[0m\n\u001B[0m\u001B[0;32m    959\u001B[0m \u001B[1;33m\u001B[0m\u001B[0m\n\u001B[0;32m    960\u001B[0m         \u001B[1;32mif\u001B[0m \u001B[0mis_hashable\u001B[0m\u001B[1;33m(\u001B[0m\u001B[0mkey\u001B[0m\u001B[1;33m)\u001B[0m\u001B[1;33m:\u001B[0m\u001B[1;33m\u001B[0m\u001B[1;33m\u001B[0m\u001B[0m\n",
      "\u001B[1;32m~\\Anaconda3\\lib\\site-packages\\pandas\\core\\series.py\u001B[0m in \u001B[0;36m_get_value\u001B[1;34m(self, label, takeable)\u001B[0m\n\u001B[0;32m   1067\u001B[0m \u001B[1;33m\u001B[0m\u001B[0m\n\u001B[0;32m   1068\u001B[0m         \u001B[1;31m# Similar to Index.get_value, but we do not fall back to positional\u001B[0m\u001B[1;33m\u001B[0m\u001B[1;33m\u001B[0m\u001B[0m\n\u001B[1;32m-> 1069\u001B[1;33m         \u001B[0mloc\u001B[0m \u001B[1;33m=\u001B[0m \u001B[0mself\u001B[0m\u001B[1;33m.\u001B[0m\u001B[0mindex\u001B[0m\u001B[1;33m.\u001B[0m\u001B[0mget_loc\u001B[0m\u001B[1;33m(\u001B[0m\u001B[0mlabel\u001B[0m\u001B[1;33m)\u001B[0m\u001B[1;33m\u001B[0m\u001B[1;33m\u001B[0m\u001B[0m\n\u001B[0m\u001B[0;32m   1070\u001B[0m         \u001B[1;32mreturn\u001B[0m \u001B[0mself\u001B[0m\u001B[1;33m.\u001B[0m\u001B[0mindex\u001B[0m\u001B[1;33m.\u001B[0m\u001B[0m_get_values_for_loc\u001B[0m\u001B[1;33m(\u001B[0m\u001B[0mself\u001B[0m\u001B[1;33m,\u001B[0m \u001B[0mloc\u001B[0m\u001B[1;33m,\u001B[0m \u001B[0mlabel\u001B[0m\u001B[1;33m)\u001B[0m\u001B[1;33m\u001B[0m\u001B[1;33m\u001B[0m\u001B[0m\n\u001B[0;32m   1071\u001B[0m \u001B[1;33m\u001B[0m\u001B[0m\n",
      "\u001B[1;32m~\\Anaconda3\\lib\\site-packages\\pandas\\core\\indexes\\base.py\u001B[0m in \u001B[0;36mget_loc\u001B[1;34m(self, key, method, tolerance)\u001B[0m\n\u001B[0;32m   3629\u001B[0m                 \u001B[1;32mreturn\u001B[0m \u001B[0mself\u001B[0m\u001B[1;33m.\u001B[0m\u001B[0m_engine\u001B[0m\u001B[1;33m.\u001B[0m\u001B[0mget_loc\u001B[0m\u001B[1;33m(\u001B[0m\u001B[0mcasted_key\u001B[0m\u001B[1;33m)\u001B[0m\u001B[1;33m\u001B[0m\u001B[1;33m\u001B[0m\u001B[0m\n\u001B[0;32m   3630\u001B[0m             \u001B[1;32mexcept\u001B[0m \u001B[0mKeyError\u001B[0m \u001B[1;32mas\u001B[0m \u001B[0merr\u001B[0m\u001B[1;33m:\u001B[0m\u001B[1;33m\u001B[0m\u001B[1;33m\u001B[0m\u001B[0m\n\u001B[1;32m-> 3631\u001B[1;33m                 \u001B[1;32mraise\u001B[0m \u001B[0mKeyError\u001B[0m\u001B[1;33m(\u001B[0m\u001B[0mkey\u001B[0m\u001B[1;33m)\u001B[0m \u001B[1;32mfrom\u001B[0m \u001B[0merr\u001B[0m\u001B[1;33m\u001B[0m\u001B[1;33m\u001B[0m\u001B[0m\n\u001B[0m\u001B[0;32m   3632\u001B[0m             \u001B[1;32mexcept\u001B[0m \u001B[0mTypeError\u001B[0m\u001B[1;33m:\u001B[0m\u001B[1;33m\u001B[0m\u001B[1;33m\u001B[0m\u001B[0m\n\u001B[0;32m   3633\u001B[0m                 \u001B[1;31m# If we have a listlike key, _check_indexing_error will raise\u001B[0m\u001B[1;33m\u001B[0m\u001B[1;33m\u001B[0m\u001B[0m\n",
      "\u001B[1;31mKeyError\u001B[0m: 0"
     ]
    }
   ],
   "source": [
    "s[0]"
   ],
   "metadata": {
    "collapsed": false,
    "ExecuteTime": {
     "end_time": "2023-11-09T07:39:11.157740800Z",
     "start_time": "2023-11-09T07:39:11.061039700Z"
    }
   }
  },
  {
   "cell_type": "code",
   "execution_count": 69,
   "outputs": [
    {
     "name": "stdout",
     "output_type": "stream",
     "text": [
      "KeyError:  0\n"
     ]
    }
   ],
   "source": [
    "try:\n",
    "    s[0]\n",
    "except KeyError as ex:\n",
    "    print('KeyError: ', ex)"
   ],
   "metadata": {
    "collapsed": false,
    "ExecuteTime": {
     "end_time": "2023-11-09T07:39:11.347725500Z",
     "start_time": "2023-11-09T07:39:11.302691600Z"
    }
   }
  },
  {
   "cell_type": "code",
   "execution_count": 70,
   "outputs": [
    {
     "data": {
      "text/plain": "10    100\n20    200\n30    300\ndtype: int64"
     },
     "execution_count": 70,
     "metadata": {},
     "output_type": "execute_result"
    }
   ],
   "source": [
    "s[0:3]"
   ],
   "metadata": {
    "collapsed": false,
    "ExecuteTime": {
     "end_time": "2023-11-09T07:39:11.506749300Z",
     "start_time": "2023-11-09T07:39:11.478691400Z"
    }
   }
  },
  {
   "cell_type": "code",
   "execution_count": 71,
   "outputs": [
    {
     "data": {
      "text/plain": "100"
     },
     "execution_count": 71,
     "metadata": {},
     "output_type": "execute_result"
    }
   ],
   "source": [
    "s.iloc[0]"
   ],
   "metadata": {
    "collapsed": false,
    "ExecuteTime": {
     "end_time": "2023-11-09T07:39:11.922696900Z",
     "start_time": "2023-11-09T07:39:11.911695800Z"
    }
   }
  },
  {
   "cell_type": "code",
   "execution_count": 72,
   "outputs": [
    {
     "data": {
      "text/plain": "100"
     },
     "execution_count": 72,
     "metadata": {},
     "output_type": "execute_result"
    }
   ],
   "source": [
    "s.loc[10]"
   ],
   "metadata": {
    "collapsed": false,
    "ExecuteTime": {
     "end_time": "2023-11-09T07:39:12.213927300Z",
     "start_time": "2023-11-09T07:39:12.171971600Z"
    }
   }
  },
  {
   "cell_type": "code",
   "execution_count": 73,
   "outputs": [
    {
     "data": {
      "text/plain": "10    100\n20    200\n30    300\ndtype: int64"
     },
     "execution_count": 73,
     "metadata": {},
     "output_type": "execute_result"
    }
   ],
   "source": [
    "s.iloc[0:4]"
   ],
   "metadata": {
    "collapsed": false,
    "ExecuteTime": {
     "end_time": "2023-11-09T07:39:12.421695900Z",
     "start_time": "2023-11-09T07:39:12.389661500Z"
    }
   }
  },
  {
   "cell_type": "code",
   "execution_count": 74,
   "outputs": [
    {
     "data": {
      "text/plain": "10    100\n20    200\n30    300\ndtype: int64"
     },
     "execution_count": 74,
     "metadata": {},
     "output_type": "execute_result"
    }
   ],
   "source": [
    "s.loc[10:30]"
   ],
   "metadata": {
    "collapsed": false,
    "ExecuteTime": {
     "end_time": "2023-11-09T07:39:12.826664600Z",
     "start_time": "2023-11-09T07:39:12.805667200Z"
    }
   }
  },
  {
   "cell_type": "code",
   "execution_count": 75,
   "outputs": [
    {
     "data": {
      "text/plain": "10    100\n20    200\n30    300\ndtype: int64"
     },
     "execution_count": 75,
     "metadata": {},
     "output_type": "execute_result"
    }
   ],
   "source": [
    "s"
   ],
   "metadata": {
    "collapsed": false,
    "ExecuteTime": {
     "end_time": "2023-11-09T07:39:13.128665800Z",
     "start_time": "2023-11-09T07:39:13.086680700Z"
    }
   }
  },
  {
   "cell_type": "code",
   "execution_count": 76,
   "outputs": [],
   "source": [
    "s.name = 'test'"
   ],
   "metadata": {
    "collapsed": false,
    "ExecuteTime": {
     "end_time": "2023-11-09T07:39:13.359670300Z",
     "start_time": "2023-11-09T07:39:13.321672600Z"
    }
   }
  },
  {
   "cell_type": "code",
   "execution_count": 77,
   "outputs": [
    {
     "data": {
      "text/plain": "10    100\n20    200\n30    300\nName: test, dtype: int64"
     },
     "execution_count": 77,
     "metadata": {},
     "output_type": "execute_result"
    }
   ],
   "source": [
    "s"
   ],
   "metadata": {
    "collapsed": false,
    "ExecuteTime": {
     "end_time": "2023-11-09T07:39:13.559705600Z",
     "start_time": "2023-11-09T07:39:13.544670800Z"
    }
   }
  },
  {
   "cell_type": "code",
   "execution_count": 78,
   "outputs": [
    {
     "data": {
      "text/plain": "country        USA\ncity        Topeka\ncountry     France\ncity          Lyon\ncountry         UK\ncity       Glasgow\nName: Areas, dtype: object"
     },
     "execution_count": 78,
     "metadata": {},
     "output_type": "execute_result"
    }
   ],
   "source": [
    "areas = pd.Series(\n",
    "    ['USA', 'Topeka', 'France', 'Lyon', 'UK', 'Glasgow'],\n",
    "    index=['country', 'city', 'country', 'city', 'country', 'city'],\n",
    "    name='Areas'\n",
    ")\n",
    "areas"
   ],
   "metadata": {
    "collapsed": false,
    "ExecuteTime": {
     "end_time": "2023-11-09T07:39:14.062675200Z",
     "start_time": "2023-11-09T07:39:14.024681700Z"
    }
   }
  },
  {
   "cell_type": "code",
   "execution_count": 79,
   "outputs": [
    {
     "data": {
      "text/plain": "country       USA\ncity       Topeka\ncountry    France\ncity         Lyon\ncountry        UK\nName: Areas, dtype: object"
     },
     "execution_count": 79,
     "metadata": {},
     "output_type": "execute_result"
    }
   ],
   "source": [
    "areas[areas != 'Glasgow']"
   ],
   "metadata": {
    "collapsed": false,
    "ExecuteTime": {
     "end_time": "2023-11-09T07:39:14.819746200Z",
     "start_time": "2023-11-09T07:39:14.791747600Z"
    }
   }
  },
  {
   "cell_type": "code",
   "execution_count": 80,
   "outputs": [],
   "source": [
    "s = pd.Series([10, 20, 30], index=list('abc'), name='test')"
   ],
   "metadata": {
    "collapsed": false,
    "ExecuteTime": {
     "end_time": "2023-11-09T07:39:15.441904800Z",
     "start_time": "2023-11-09T07:39:15.430907800Z"
    }
   }
  },
  {
   "cell_type": "code",
   "execution_count": 81,
   "outputs": [
    {
     "data": {
      "text/plain": "a    10\nb    20\nc    30\nName: test, dtype: int64"
     },
     "execution_count": 81,
     "metadata": {},
     "output_type": "execute_result"
    }
   ],
   "source": [
    "s"
   ],
   "metadata": {
    "collapsed": false,
    "ExecuteTime": {
     "end_time": "2023-11-09T07:39:15.911943500Z",
     "start_time": "2023-11-09T07:39:15.899945300Z"
    }
   }
  },
  {
   "cell_type": "code",
   "execution_count": 82,
   "outputs": [],
   "source": [
    "new = s.drop(['a', 'c'])"
   ],
   "metadata": {
    "collapsed": false,
    "ExecuteTime": {
     "end_time": "2023-11-09T07:39:16.347037600Z",
     "start_time": "2023-11-09T07:39:16.333034500Z"
    }
   }
  },
  {
   "cell_type": "code",
   "execution_count": 83,
   "outputs": [
    {
     "data": {
      "text/plain": "b    20\nName: test, dtype: int64"
     },
     "execution_count": 83,
     "metadata": {},
     "output_type": "execute_result"
    }
   ],
   "source": [
    "new"
   ],
   "metadata": {
    "collapsed": false,
    "ExecuteTime": {
     "end_time": "2023-11-09T07:39:16.860896200Z",
     "start_time": "2023-11-09T07:39:16.834858500Z"
    }
   }
  },
  {
   "cell_type": "code",
   "execution_count": 84,
   "outputs": [
    {
     "data": {
      "text/plain": "a    10\nb    20\nc    30\nName: test, dtype: int64"
     },
     "execution_count": 84,
     "metadata": {},
     "output_type": "execute_result"
    }
   ],
   "source": [
    "s"
   ],
   "metadata": {
    "collapsed": false,
    "ExecuteTime": {
     "end_time": "2023-11-09T07:39:17.264865600Z",
     "start_time": "2023-11-09T07:39:17.252868200Z"
    }
   }
  },
  {
   "cell_type": "code",
   "execution_count": 85,
   "outputs": [
    {
     "data": {
      "text/plain": "Index(['a', 'b', 'c'], dtype='object')"
     },
     "execution_count": 85,
     "metadata": {},
     "output_type": "execute_result"
    }
   ],
   "source": [
    "s.index"
   ],
   "metadata": {
    "collapsed": false,
    "ExecuteTime": {
     "end_time": "2023-11-09T07:39:17.823716400Z",
     "start_time": "2023-11-09T07:39:17.797681300Z"
    }
   }
  },
  {
   "cell_type": "code",
   "execution_count": 86,
   "outputs": [
    {
     "data": {
      "text/plain": "Index(['a', 'c'], dtype='object')"
     },
     "execution_count": 86,
     "metadata": {},
     "output_type": "execute_result"
    }
   ],
   "source": [
    "s.index[[0, 2]]"
   ],
   "metadata": {
    "collapsed": false,
    "ExecuteTime": {
     "end_time": "2023-11-09T07:39:18.316066500Z",
     "start_time": "2023-11-09T07:39:18.280069600Z"
    }
   }
  },
  {
   "cell_type": "code",
   "execution_count": 87,
   "outputs": [
    {
     "data": {
      "text/plain": "b    20\nName: test, dtype: int64"
     },
     "execution_count": 87,
     "metadata": {},
     "output_type": "execute_result"
    }
   ],
   "source": [
    "s.drop(s.index[[0, 2]])"
   ],
   "metadata": {
    "collapsed": false,
    "ExecuteTime": {
     "end_time": "2023-11-09T07:39:18.681366800Z",
     "start_time": "2023-11-09T07:39:18.653428Z"
    }
   }
  },
  {
   "cell_type": "code",
   "execution_count": 88,
   "outputs": [
    {
     "data": {
      "text/plain": "a    10\nb    20\nc    30\nName: test, dtype: int64"
     },
     "execution_count": 88,
     "metadata": {},
     "output_type": "execute_result"
    }
   ],
   "source": [
    "s"
   ],
   "metadata": {
    "collapsed": false,
    "ExecuteTime": {
     "end_time": "2023-11-09T07:39:19.007165300Z",
     "start_time": "2023-11-09T07:39:18.968126900Z"
    }
   }
  },
  {
   "cell_type": "code",
   "execution_count": 89,
   "outputs": [],
   "source": [
    "columns = pd.Index(\n",
    "    [\n",
    "        'The Bronx',\n",
    "        'Brooklyn',\n",
    "        'Manhattan',\n",
    "        'Queens',\n",
    "        'Staten Island'\n",
    "    ]\n",
    ")\n",
    "counties = pd.Series(\n",
    "    ['Bronx', 'Kings', 'New York', 'Queens', 'Richmond'],\n",
    "    index=columns,\n",
    "    name='county'\n",
    ")\n",
    "populations = pd.Series(\n",
    "    [1_418_207, 2_559_903, 1_628_706, 2_253_858, 476_143],\n",
    "    index=columns,\n",
    "    name='population'\n",
    ")\n",
    "gdp = pd.Series(\n",
    "    [42.695, 91.559, 600.244, 93.310, 14.514],\n",
    "    index=columns,\n",
    "    name='gdp'\n",
    ")\n",
    "areas = pd.Series(\n",
    "    [42.10, 70.82, 22.83, 108.53, 58.37],\n",
    "    index=columns,\n",
    "    name='area'\n",
    ")"
   ],
   "metadata": {
    "collapsed": false,
    "ExecuteTime": {
     "end_time": "2023-11-09T07:39:19.268582800Z",
     "start_time": "2023-11-09T07:39:19.226575800Z"
    }
   }
  },
  {
   "cell_type": "code",
   "execution_count": 90,
   "outputs": [
    {
     "data": {
      "text/plain": "           The Bronx Brooklyn Manhattan   Queens Staten Island\ncounty         Bronx    Kings  New York   Queens      Richmond\npopulation   1418207  2559903   1628706  2253858        476143\ngdp           42.695   91.559   600.244    93.31        14.514\narea            42.1    70.82     22.83   108.53         58.37",
      "text/html": "<div>\n<style scoped>\n    .dataframe tbody tr th:only-of-type {\n        vertical-align: middle;\n    }\n\n    .dataframe tbody tr th {\n        vertical-align: top;\n    }\n\n    .dataframe thead th {\n        text-align: right;\n    }\n</style>\n<table border=\"1\" class=\"dataframe\">\n  <thead>\n    <tr style=\"text-align: right;\">\n      <th></th>\n      <th>The Bronx</th>\n      <th>Brooklyn</th>\n      <th>Manhattan</th>\n      <th>Queens</th>\n      <th>Staten Island</th>\n    </tr>\n  </thead>\n  <tbody>\n    <tr>\n      <th>county</th>\n      <td>Bronx</td>\n      <td>Kings</td>\n      <td>New York</td>\n      <td>Queens</td>\n      <td>Richmond</td>\n    </tr>\n    <tr>\n      <th>population</th>\n      <td>1418207</td>\n      <td>2559903</td>\n      <td>1628706</td>\n      <td>2253858</td>\n      <td>476143</td>\n    </tr>\n    <tr>\n      <th>gdp</th>\n      <td>42.695</td>\n      <td>91.559</td>\n      <td>600.244</td>\n      <td>93.31</td>\n      <td>14.514</td>\n    </tr>\n    <tr>\n      <th>area</th>\n      <td>42.1</td>\n      <td>70.82</td>\n      <td>22.83</td>\n      <td>108.53</td>\n      <td>58.37</td>\n    </tr>\n  </tbody>\n</table>\n</div>"
     },
     "execution_count": 90,
     "metadata": {},
     "output_type": "execute_result"
    }
   ],
   "source": [
    "new_york = pd.DataFrame([counties, populations, gdp, areas])\n",
    "new_york"
   ],
   "metadata": {
    "collapsed": false,
    "ExecuteTime": {
     "end_time": "2023-11-09T07:39:19.951132800Z",
     "start_time": "2023-11-09T07:39:19.939669700Z"
    }
   }
  },
  {
   "cell_type": "code",
   "execution_count": 91,
   "outputs": [
    {
     "data": {
      "text/plain": "                 county population      gdp    area\nThe Bronx         Bronx    1418207   42.695    42.1\nBrooklyn          Kings    2559903   91.559   70.82\nManhattan      New York    1628706  600.244   22.83\nQueens           Queens    2253858    93.31  108.53\nStaten Island  Richmond     476143   14.514   58.37",
      "text/html": "<div>\n<style scoped>\n    .dataframe tbody tr th:only-of-type {\n        vertical-align: middle;\n    }\n\n    .dataframe tbody tr th {\n        vertical-align: top;\n    }\n\n    .dataframe thead th {\n        text-align: right;\n    }\n</style>\n<table border=\"1\" class=\"dataframe\">\n  <thead>\n    <tr style=\"text-align: right;\">\n      <th></th>\n      <th>county</th>\n      <th>population</th>\n      <th>gdp</th>\n      <th>area</th>\n    </tr>\n  </thead>\n  <tbody>\n    <tr>\n      <th>The Bronx</th>\n      <td>Bronx</td>\n      <td>1418207</td>\n      <td>42.695</td>\n      <td>42.1</td>\n    </tr>\n    <tr>\n      <th>Brooklyn</th>\n      <td>Kings</td>\n      <td>2559903</td>\n      <td>91.559</td>\n      <td>70.82</td>\n    </tr>\n    <tr>\n      <th>Manhattan</th>\n      <td>New York</td>\n      <td>1628706</td>\n      <td>600.244</td>\n      <td>22.83</td>\n    </tr>\n    <tr>\n      <th>Queens</th>\n      <td>Queens</td>\n      <td>2253858</td>\n      <td>93.31</td>\n      <td>108.53</td>\n    </tr>\n    <tr>\n      <th>Staten Island</th>\n      <td>Richmond</td>\n      <td>476143</td>\n      <td>14.514</td>\n      <td>58.37</td>\n    </tr>\n  </tbody>\n</table>\n</div>"
     },
     "execution_count": 91,
     "metadata": {},
     "output_type": "execute_result"
    }
   ],
   "source": [
    "new_york.transpose()"
   ],
   "metadata": {
    "collapsed": false,
    "ExecuteTime": {
     "end_time": "2023-11-09T07:39:20.250058100Z",
     "start_time": "2023-11-09T07:39:20.217054Z"
    }
   }
  },
  {
   "cell_type": "code",
   "execution_count": 92,
   "outputs": [
    {
     "data": {
      "text/plain": "                 county  population      gdp    area\nThe Bronx         Bronx     1418207   42.695   42.10\nBrooklyn          Kings     2559903   91.559   70.82\nManhattan      New York     1628706  600.244   22.83\nQueens           Queens     2253858   93.310  108.53\nStaten Island  Richmond      476143   14.514   58.37",
      "text/html": "<div>\n<style scoped>\n    .dataframe tbody tr th:only-of-type {\n        vertical-align: middle;\n    }\n\n    .dataframe tbody tr th {\n        vertical-align: top;\n    }\n\n    .dataframe thead th {\n        text-align: right;\n    }\n</style>\n<table border=\"1\" class=\"dataframe\">\n  <thead>\n    <tr style=\"text-align: right;\">\n      <th></th>\n      <th>county</th>\n      <th>population</th>\n      <th>gdp</th>\n      <th>area</th>\n    </tr>\n  </thead>\n  <tbody>\n    <tr>\n      <th>The Bronx</th>\n      <td>Bronx</td>\n      <td>1418207</td>\n      <td>42.695</td>\n      <td>42.10</td>\n    </tr>\n    <tr>\n      <th>Brooklyn</th>\n      <td>Kings</td>\n      <td>2559903</td>\n      <td>91.559</td>\n      <td>70.82</td>\n    </tr>\n    <tr>\n      <th>Manhattan</th>\n      <td>New York</td>\n      <td>1628706</td>\n      <td>600.244</td>\n      <td>22.83</td>\n    </tr>\n    <tr>\n      <th>Queens</th>\n      <td>Queens</td>\n      <td>2253858</td>\n      <td>93.310</td>\n      <td>108.53</td>\n    </tr>\n    <tr>\n      <th>Staten Island</th>\n      <td>Richmond</td>\n      <td>476143</td>\n      <td>14.514</td>\n      <td>58.37</td>\n    </tr>\n  </tbody>\n</table>\n</div>"
     },
     "execution_count": 92,
     "metadata": {},
     "output_type": "execute_result"
    }
   ],
   "source": [
    "d = {\n",
    "    'county': counties,\n",
    "    'population': populations,\n",
    "    'gdp': gdp,\n",
    "    'area': areas\n",
    "}\n",
    "new_york = pd.DataFrame(d)\n",
    "new_york"
   ],
   "metadata": {
    "collapsed": false,
    "ExecuteTime": {
     "end_time": "2023-11-09T07:39:20.656012200Z",
     "start_time": "2023-11-09T07:39:20.619379800Z"
    }
   }
  },
  {
   "cell_type": "code",
   "execution_count": 93,
   "outputs": [
    {
     "data": {
      "text/plain": "           The Bronx Brooklyn Manhattan   Queens Staten Island\ncounty         Bronx    Kings  New York   Queens      Richmond\npopulation   1418207  2559903   1628706  2253858        476143\ngdp           42.695   91.559   600.244    93.31        14.514\narea            42.1    70.82     22.83   108.53         58.37",
      "text/html": "<div>\n<style scoped>\n    .dataframe tbody tr th:only-of-type {\n        vertical-align: middle;\n    }\n\n    .dataframe tbody tr th {\n        vertical-align: top;\n    }\n\n    .dataframe thead th {\n        text-align: right;\n    }\n</style>\n<table border=\"1\" class=\"dataframe\">\n  <thead>\n    <tr style=\"text-align: right;\">\n      <th></th>\n      <th>The Bronx</th>\n      <th>Brooklyn</th>\n      <th>Manhattan</th>\n      <th>Queens</th>\n      <th>Staten Island</th>\n    </tr>\n  </thead>\n  <tbody>\n    <tr>\n      <th>county</th>\n      <td>Bronx</td>\n      <td>Kings</td>\n      <td>New York</td>\n      <td>Queens</td>\n      <td>Richmond</td>\n    </tr>\n    <tr>\n      <th>population</th>\n      <td>1418207</td>\n      <td>2559903</td>\n      <td>1628706</td>\n      <td>2253858</td>\n      <td>476143</td>\n    </tr>\n    <tr>\n      <th>gdp</th>\n      <td>42.695</td>\n      <td>91.559</td>\n      <td>600.244</td>\n      <td>93.31</td>\n      <td>14.514</td>\n    </tr>\n    <tr>\n      <th>area</th>\n      <td>42.1</td>\n      <td>70.82</td>\n      <td>22.83</td>\n      <td>108.53</td>\n      <td>58.37</td>\n    </tr>\n  </tbody>\n</table>\n</div>"
     },
     "execution_count": 93,
     "metadata": {},
     "output_type": "execute_result"
    }
   ],
   "source": [
    "new_york.transpose()"
   ],
   "metadata": {
    "collapsed": false,
    "ExecuteTime": {
     "end_time": "2023-11-09T07:39:21.076431300Z",
     "start_time": "2023-11-09T07:39:20.997432200Z"
    }
   }
  },
  {
   "cell_type": "code",
   "execution_count": 94,
   "outputs": [],
   "source": [
    "counties = {\n",
    "    'The Bronx': 'Bronx',\n",
    "    'Brooklyn': 'Kings',\n",
    "    'Manhattan': 'New York',\n",
    "    'Queens': 'Queens',\n",
    "    'Staten Island': 'Richmond'\n",
    "}\n",
    "populations = {\n",
    "    # note how the keys are not necessarily in the same order\n",
    "    'Manhattan': 1_628_706,\n",
    "    'Queens': 2_253_858,\n",
    "    'Staten Island': 476_143,\n",
    "    'The Bronx': 1_418_207,\n",
    "    'Brooklyn': 2_559_903\n",
    "}\n",
    "gdp = {\n",
    "    'The Bronx': 42.695,\n",
    "    'Brooklyn': 91.559,\n",
    "    'Manhattan': 600.244,\n",
    "    'Queens': 93.310,\n",
    "    'Staten Island': 14.514\n",
    "}\n",
    "areas = {\n",
    "    'The Bronx': 2.10,\n",
    "    'Brooklyn': 70.82,\n",
    "    'Manhattan': 22.83,\n",
    "    'Queens': 108.53,\n",
    "    'Staten Island': 58.37\n",
    "}\n",
    "\n",
    "d = {\n",
    "    'county': counties,\n",
    "    'population': populations,\n",
    "    'gpd': gdp,\n",
    "    'area': areas\n",
    "}"
   ],
   "metadata": {
    "collapsed": false,
    "ExecuteTime": {
     "end_time": "2023-11-09T07:39:22.081082300Z",
     "start_time": "2023-11-09T07:39:22.071068800Z"
    }
   }
  },
  {
   "cell_type": "code",
   "execution_count": 95,
   "outputs": [
    {
     "data": {
      "text/plain": "                 county  population      gpd    area\nThe Bronx         Bronx     1418207   42.695    2.10\nBrooklyn          Kings     2559903   91.559   70.82\nManhattan      New York     1628706  600.244   22.83\nQueens           Queens     2253858   93.310  108.53\nStaten Island  Richmond      476143   14.514   58.37",
      "text/html": "<div>\n<style scoped>\n    .dataframe tbody tr th:only-of-type {\n        vertical-align: middle;\n    }\n\n    .dataframe tbody tr th {\n        vertical-align: top;\n    }\n\n    .dataframe thead th {\n        text-align: right;\n    }\n</style>\n<table border=\"1\" class=\"dataframe\">\n  <thead>\n    <tr style=\"text-align: right;\">\n      <th></th>\n      <th>county</th>\n      <th>population</th>\n      <th>gpd</th>\n      <th>area</th>\n    </tr>\n  </thead>\n  <tbody>\n    <tr>\n      <th>The Bronx</th>\n      <td>Bronx</td>\n      <td>1418207</td>\n      <td>42.695</td>\n      <td>2.10</td>\n    </tr>\n    <tr>\n      <th>Brooklyn</th>\n      <td>Kings</td>\n      <td>2559903</td>\n      <td>91.559</td>\n      <td>70.82</td>\n    </tr>\n    <tr>\n      <th>Manhattan</th>\n      <td>New York</td>\n      <td>1628706</td>\n      <td>600.244</td>\n      <td>22.83</td>\n    </tr>\n    <tr>\n      <th>Queens</th>\n      <td>Queens</td>\n      <td>2253858</td>\n      <td>93.310</td>\n      <td>108.53</td>\n    </tr>\n    <tr>\n      <th>Staten Island</th>\n      <td>Richmond</td>\n      <td>476143</td>\n      <td>14.514</td>\n      <td>58.37</td>\n    </tr>\n  </tbody>\n</table>\n</div>"
     },
     "execution_count": 95,
     "metadata": {},
     "output_type": "execute_result"
    }
   ],
   "source": [
    "new_york = pd.DataFrame(d)\n",
    "new_york"
   ],
   "metadata": {
    "collapsed": false,
    "ExecuteTime": {
     "end_time": "2023-11-09T07:39:23.088656500Z",
     "start_time": "2023-11-09T07:39:23.056690900Z"
    }
   }
  },
  {
   "cell_type": "code",
   "execution_count": 96,
   "outputs": [
    {
     "data": {
      "text/plain": "  The Bronx Brooklyn Manhattan   Queens Staten Island\n0     Bronx    Kings  New York   Queens      Richmond\n1   1418207  2559903   1628706  2253858        476143\n2    42.695   91.559   600.244    93.31        14.514\n3       2.1    70.82     22.83   108.53         58.37",
      "text/html": "<div>\n<style scoped>\n    .dataframe tbody tr th:only-of-type {\n        vertical-align: middle;\n    }\n\n    .dataframe tbody tr th {\n        vertical-align: top;\n    }\n\n    .dataframe thead th {\n        text-align: right;\n    }\n</style>\n<table border=\"1\" class=\"dataframe\">\n  <thead>\n    <tr style=\"text-align: right;\">\n      <th></th>\n      <th>The Bronx</th>\n      <th>Brooklyn</th>\n      <th>Manhattan</th>\n      <th>Queens</th>\n      <th>Staten Island</th>\n    </tr>\n  </thead>\n  <tbody>\n    <tr>\n      <th>0</th>\n      <td>Bronx</td>\n      <td>Kings</td>\n      <td>New York</td>\n      <td>Queens</td>\n      <td>Richmond</td>\n    </tr>\n    <tr>\n      <th>1</th>\n      <td>1418207</td>\n      <td>2559903</td>\n      <td>1628706</td>\n      <td>2253858</td>\n      <td>476143</td>\n    </tr>\n    <tr>\n      <th>2</th>\n      <td>42.695</td>\n      <td>91.559</td>\n      <td>600.244</td>\n      <td>93.31</td>\n      <td>14.514</td>\n    </tr>\n    <tr>\n      <th>3</th>\n      <td>2.1</td>\n      <td>70.82</td>\n      <td>22.83</td>\n      <td>108.53</td>\n      <td>58.37</td>\n    </tr>\n  </tbody>\n</table>\n</div>"
     },
     "execution_count": 96,
     "metadata": {},
     "output_type": "execute_result"
    }
   ],
   "source": [
    "import numpy as np\n",
    "import pandas as pd\n",
    "\n",
    "new_york = pd.DataFrame([counties, populations, gdp, areas])\n",
    "new_york"
   ],
   "metadata": {
    "collapsed": false,
    "ExecuteTime": {
     "end_time": "2023-11-09T07:39:24.093130600Z",
     "start_time": "2023-11-09T07:39:24.069650Z"
    }
   }
  },
  {
   "cell_type": "code",
   "execution_count": 97,
   "outputs": [
    {
     "data": {
      "text/plain": "           The Bronx Brooklyn Manhattan   Queens Staten Island\ncounty         Bronx    Kings  New York   Queens      Richmond\npopulation   1418207  2559903   1628706  2253858        476143\ngdp           42.695   91.559   600.244    93.31        14.514\narea             2.1    70.82     22.83   108.53         58.37",
      "text/html": "<div>\n<style scoped>\n    .dataframe tbody tr th:only-of-type {\n        vertical-align: middle;\n    }\n\n    .dataframe tbody tr th {\n        vertical-align: top;\n    }\n\n    .dataframe thead th {\n        text-align: right;\n    }\n</style>\n<table border=\"1\" class=\"dataframe\">\n  <thead>\n    <tr style=\"text-align: right;\">\n      <th></th>\n      <th>The Bronx</th>\n      <th>Brooklyn</th>\n      <th>Manhattan</th>\n      <th>Queens</th>\n      <th>Staten Island</th>\n    </tr>\n  </thead>\n  <tbody>\n    <tr>\n      <th>county</th>\n      <td>Bronx</td>\n      <td>Kings</td>\n      <td>New York</td>\n      <td>Queens</td>\n      <td>Richmond</td>\n    </tr>\n    <tr>\n      <th>population</th>\n      <td>1418207</td>\n      <td>2559903</td>\n      <td>1628706</td>\n      <td>2253858</td>\n      <td>476143</td>\n    </tr>\n    <tr>\n      <th>gdp</th>\n      <td>42.695</td>\n      <td>91.559</td>\n      <td>600.244</td>\n      <td>93.31</td>\n      <td>14.514</td>\n    </tr>\n    <tr>\n      <th>area</th>\n      <td>2.1</td>\n      <td>70.82</td>\n      <td>22.83</td>\n      <td>108.53</td>\n      <td>58.37</td>\n    </tr>\n  </tbody>\n</table>\n</div>"
     },
     "execution_count": 97,
     "metadata": {},
     "output_type": "execute_result"
    }
   ],
   "source": [
    "new_york.rename(index={0: 'county', 1: 'population', 2: 'gdp', 3: 'area'})"
   ],
   "metadata": {
    "collapsed": false,
    "ExecuteTime": {
     "end_time": "2023-11-09T07:40:59.158241800Z",
     "start_time": "2023-11-09T07:40:59.071237Z"
    }
   }
  },
  {
   "cell_type": "code",
   "execution_count": 98,
   "outputs": [
    {
     "data": {
      "text/plain": "  The Bronx Brooklyn Manhattan   Queens Staten Island\n0     Bronx    Kings  New York   Queens      Richmond\n1   1418207  2559903   1628706  2253858        476143\n2    42.695   91.559   600.244    93.31        14.514\n3       2.1    70.82     22.83   108.53         58.37",
      "text/html": "<div>\n<style scoped>\n    .dataframe tbody tr th:only-of-type {\n        vertical-align: middle;\n    }\n\n    .dataframe tbody tr th {\n        vertical-align: top;\n    }\n\n    .dataframe thead th {\n        text-align: right;\n    }\n</style>\n<table border=\"1\" class=\"dataframe\">\n  <thead>\n    <tr style=\"text-align: right;\">\n      <th></th>\n      <th>The Bronx</th>\n      <th>Brooklyn</th>\n      <th>Manhattan</th>\n      <th>Queens</th>\n      <th>Staten Island</th>\n    </tr>\n  </thead>\n  <tbody>\n    <tr>\n      <th>0</th>\n      <td>Bronx</td>\n      <td>Kings</td>\n      <td>New York</td>\n      <td>Queens</td>\n      <td>Richmond</td>\n    </tr>\n    <tr>\n      <th>1</th>\n      <td>1418207</td>\n      <td>2559903</td>\n      <td>1628706</td>\n      <td>2253858</td>\n      <td>476143</td>\n    </tr>\n    <tr>\n      <th>2</th>\n      <td>42.695</td>\n      <td>91.559</td>\n      <td>600.244</td>\n      <td>93.31</td>\n      <td>14.514</td>\n    </tr>\n    <tr>\n      <th>3</th>\n      <td>2.1</td>\n      <td>70.82</td>\n      <td>22.83</td>\n      <td>108.53</td>\n      <td>58.37</td>\n    </tr>\n  </tbody>\n</table>\n</div>"
     },
     "execution_count": 98,
     "metadata": {},
     "output_type": "execute_result"
    }
   ],
   "source": [
    "new_york"
   ],
   "metadata": {
    "collapsed": false,
    "ExecuteTime": {
     "end_time": "2023-11-09T07:41:09.828472300Z",
     "start_time": "2023-11-09T07:41:09.803430600Z"
    }
   }
  },
  {
   "cell_type": "code",
   "execution_count": 100,
   "outputs": [
    {
     "data": {
      "text/plain": "                 county population      gdp    area\nThe Bronx         Bronx    1418207   42.695     2.1\nBrooklyn          Kings    2559903   91.559   70.82\nManhattan      New York    1628706  600.244   22.83\nQueens           Queens    2253858    93.31  108.53\nStaten Island  Richmond     476143   14.514   58.37",
      "text/html": "<div>\n<style scoped>\n    .dataframe tbody tr th:only-of-type {\n        vertical-align: middle;\n    }\n\n    .dataframe tbody tr th {\n        vertical-align: top;\n    }\n\n    .dataframe thead th {\n        text-align: right;\n    }\n</style>\n<table border=\"1\" class=\"dataframe\">\n  <thead>\n    <tr style=\"text-align: right;\">\n      <th></th>\n      <th>county</th>\n      <th>population</th>\n      <th>gdp</th>\n      <th>area</th>\n    </tr>\n  </thead>\n  <tbody>\n    <tr>\n      <th>The Bronx</th>\n      <td>Bronx</td>\n      <td>1418207</td>\n      <td>42.695</td>\n      <td>2.1</td>\n    </tr>\n    <tr>\n      <th>Brooklyn</th>\n      <td>Kings</td>\n      <td>2559903</td>\n      <td>91.559</td>\n      <td>70.82</td>\n    </tr>\n    <tr>\n      <th>Manhattan</th>\n      <td>New York</td>\n      <td>1628706</td>\n      <td>600.244</td>\n      <td>22.83</td>\n    </tr>\n    <tr>\n      <th>Queens</th>\n      <td>Queens</td>\n      <td>2253858</td>\n      <td>93.31</td>\n      <td>108.53</td>\n    </tr>\n    <tr>\n      <th>Staten Island</th>\n      <td>Richmond</td>\n      <td>476143</td>\n      <td>14.514</td>\n      <td>58.37</td>\n    </tr>\n  </tbody>\n</table>\n</div>"
     },
     "execution_count": 100,
     "metadata": {},
     "output_type": "execute_result"
    }
   ],
   "source": [
    "new_york.rename(index={0: 'county', 1: 'population', 2: 'gdp', 3: 'area'}).transpose()\n"
   ],
   "metadata": {
    "collapsed": false,
    "ExecuteTime": {
     "end_time": "2023-11-09T07:42:23.055063700Z",
     "start_time": "2023-11-09T07:42:23.004698Z"
    }
   }
  },
  {
   "cell_type": "code",
   "execution_count": 101,
   "outputs": [
    {
     "data": {
      "text/plain": "                      0        1        2       3\nThe Bronx         Bronx  1418207   42.695     2.1\nBrooklyn          Kings  2559903   91.559   70.82\nManhattan      New York  1628706  600.244   22.83\nQueens           Queens  2253858    93.31  108.53\nStaten Island  Richmond   476143   14.514   58.37",
      "text/html": "<div>\n<style scoped>\n    .dataframe tbody tr th:only-of-type {\n        vertical-align: middle;\n    }\n\n    .dataframe tbody tr th {\n        vertical-align: top;\n    }\n\n    .dataframe thead th {\n        text-align: right;\n    }\n</style>\n<table border=\"1\" class=\"dataframe\">\n  <thead>\n    <tr style=\"text-align: right;\">\n      <th></th>\n      <th>0</th>\n      <th>1</th>\n      <th>2</th>\n      <th>3</th>\n    </tr>\n  </thead>\n  <tbody>\n    <tr>\n      <th>The Bronx</th>\n      <td>Bronx</td>\n      <td>1418207</td>\n      <td>42.695</td>\n      <td>2.1</td>\n    </tr>\n    <tr>\n      <th>Brooklyn</th>\n      <td>Kings</td>\n      <td>2559903</td>\n      <td>91.559</td>\n      <td>70.82</td>\n    </tr>\n    <tr>\n      <th>Manhattan</th>\n      <td>New York</td>\n      <td>1628706</td>\n      <td>600.244</td>\n      <td>22.83</td>\n    </tr>\n    <tr>\n      <th>Queens</th>\n      <td>Queens</td>\n      <td>2253858</td>\n      <td>93.31</td>\n      <td>108.53</td>\n    </tr>\n    <tr>\n      <th>Staten Island</th>\n      <td>Richmond</td>\n      <td>476143</td>\n      <td>14.514</td>\n      <td>58.37</td>\n    </tr>\n  </tbody>\n</table>\n</div>"
     },
     "execution_count": 101,
     "metadata": {},
     "output_type": "execute_result"
    }
   ],
   "source": [
    "new_york.transpose()"
   ],
   "metadata": {
    "collapsed": false,
    "ExecuteTime": {
     "end_time": "2023-11-09T07:43:05.951531500Z",
     "start_time": "2023-11-09T07:43:05.922502100Z"
    }
   }
  },
  {
   "cell_type": "code",
   "execution_count": 103,
   "outputs": [
    {
     "data": {
      "text/plain": "  The Bronx Brooklyn Manhattan   Queens Staten Island\n0     Bronx    Kings  New York   Queens      Richmond\n1   1418207  2559903   1628706  2253858        476143\n2    42.695   91.559   600.244    93.31        14.514\n3       2.1    70.82     22.83   108.53         58.37",
      "text/html": "<div>\n<style scoped>\n    .dataframe tbody tr th:only-of-type {\n        vertical-align: middle;\n    }\n\n    .dataframe tbody tr th {\n        vertical-align: top;\n    }\n\n    .dataframe thead th {\n        text-align: right;\n    }\n</style>\n<table border=\"1\" class=\"dataframe\">\n  <thead>\n    <tr style=\"text-align: right;\">\n      <th></th>\n      <th>The Bronx</th>\n      <th>Brooklyn</th>\n      <th>Manhattan</th>\n      <th>Queens</th>\n      <th>Staten Island</th>\n    </tr>\n  </thead>\n  <tbody>\n    <tr>\n      <th>0</th>\n      <td>Bronx</td>\n      <td>Kings</td>\n      <td>New York</td>\n      <td>Queens</td>\n      <td>Richmond</td>\n    </tr>\n    <tr>\n      <th>1</th>\n      <td>1418207</td>\n      <td>2559903</td>\n      <td>1628706</td>\n      <td>2253858</td>\n      <td>476143</td>\n    </tr>\n    <tr>\n      <th>2</th>\n      <td>42.695</td>\n      <td>91.559</td>\n      <td>600.244</td>\n      <td>93.31</td>\n      <td>14.514</td>\n    </tr>\n    <tr>\n      <th>3</th>\n      <td>2.1</td>\n      <td>70.82</td>\n      <td>22.83</td>\n      <td>108.53</td>\n      <td>58.37</td>\n    </tr>\n  </tbody>\n</table>\n</div>"
     },
     "execution_count": 103,
     "metadata": {},
     "output_type": "execute_result"
    }
   ],
   "source": [
    "new_york = new_york.rename(\n",
    "    columns={0: 'county', 1: 'population', 2: 'gdp', 3: 'area'}\n",
    ")\n",
    "new_york"
   ],
   "metadata": {
    "collapsed": false,
    "ExecuteTime": {
     "end_time": "2023-11-09T07:45:07.360481300Z",
     "start_time": "2023-11-09T07:45:07.337328500Z"
    }
   }
  },
  {
   "cell_type": "code",
   "execution_count": 104,
   "outputs": [],
   "source": [
    "burroughs = ['The Bronx', 'Brooklyn', 'Manhattan', 'Queens', 'Staten Island']\n",
    "counties = ['Bronx', 'Kings', 'New York', 'Queens', 'Richmond']\n",
    "populations = [1_418_207, 2_559_903, 1_628_706, 2_253_858, 476_143]\n",
    "gdp = [42.695, 91.559, 600.244, 93.310, 14.514]\n",
    "areas = [42.10, 70.82, 22.83, 108.53, 58.37]"
   ],
   "metadata": {
    "collapsed": false,
    "ExecuteTime": {
     "end_time": "2023-11-09T07:46:11.671030300Z",
     "start_time": "2023-11-09T07:46:11.616996700Z"
    }
   }
  },
  {
   "cell_type": "code",
   "execution_count": 105,
   "outputs": [],
   "source": [
    "data = [burroughs, counties, populations, gdp, areas]"
   ],
   "metadata": {
    "collapsed": false,
    "ExecuteTime": {
     "end_time": "2023-11-09T07:46:59.059495700Z",
     "start_time": "2023-11-09T07:46:59.001525400Z"
    }
   }
  },
  {
   "cell_type": "code",
   "execution_count": 106,
   "outputs": [
    {
     "data": {
      "text/plain": "[['The Bronx', 'Brooklyn', 'Manhattan', 'Queens', 'Staten Island'],\n ['Bronx', 'Kings', 'New York', 'Queens', 'Richmond'],\n [1418207, 2559903, 1628706, 2253858, 476143],\n [42.695, 91.559, 600.244, 93.31, 14.514],\n [42.1, 70.82, 22.83, 108.53, 58.37]]"
     },
     "execution_count": 106,
     "metadata": {},
     "output_type": "execute_result"
    }
   ],
   "source": [
    "data"
   ],
   "metadata": {
    "collapsed": false,
    "ExecuteTime": {
     "end_time": "2023-11-09T07:47:02.050217500Z",
     "start_time": "2023-11-09T07:47:02.002193900Z"
    }
   }
  },
  {
   "cell_type": "code",
   "execution_count": 117,
   "outputs": [],
   "source": [
    "new_york = pd.DataFrame(\n",
    "    data,\n",
    "    index=['BURROUGHS', 'COUNTY', 'POPULATION', 'GDP', 'AREA']\n",
    ")"
   ],
   "metadata": {
    "collapsed": false,
    "ExecuteTime": {
     "end_time": "2023-11-09T07:59:27.402251700Z",
     "start_time": "2023-11-09T07:59:27.390221900Z"
    }
   }
  },
  {
   "cell_type": "code",
   "execution_count": 118,
   "outputs": [
    {
     "data": {
      "text/plain": "                    0         1          2        3              4\nBURROUGHS   The Bronx  Brooklyn  Manhattan   Queens  Staten Island\nCOUNTY          Bronx     Kings   New York   Queens       Richmond\nPOPULATION    1418207   2559903    1628706  2253858         476143\nGDP            42.695    91.559    600.244    93.31         14.514\nAREA             42.1     70.82      22.83   108.53          58.37",
      "text/html": "<div>\n<style scoped>\n    .dataframe tbody tr th:only-of-type {\n        vertical-align: middle;\n    }\n\n    .dataframe tbody tr th {\n        vertical-align: top;\n    }\n\n    .dataframe thead th {\n        text-align: right;\n    }\n</style>\n<table border=\"1\" class=\"dataframe\">\n  <thead>\n    <tr style=\"text-align: right;\">\n      <th></th>\n      <th>0</th>\n      <th>1</th>\n      <th>2</th>\n      <th>3</th>\n      <th>4</th>\n    </tr>\n  </thead>\n  <tbody>\n    <tr>\n      <th>BURROUGHS</th>\n      <td>The Bronx</td>\n      <td>Brooklyn</td>\n      <td>Manhattan</td>\n      <td>Queens</td>\n      <td>Staten Island</td>\n    </tr>\n    <tr>\n      <th>COUNTY</th>\n      <td>Bronx</td>\n      <td>Kings</td>\n      <td>New York</td>\n      <td>Queens</td>\n      <td>Richmond</td>\n    </tr>\n    <tr>\n      <th>POPULATION</th>\n      <td>1418207</td>\n      <td>2559903</td>\n      <td>1628706</td>\n      <td>2253858</td>\n      <td>476143</td>\n    </tr>\n    <tr>\n      <th>GDP</th>\n      <td>42.695</td>\n      <td>91.559</td>\n      <td>600.244</td>\n      <td>93.31</td>\n      <td>14.514</td>\n    </tr>\n    <tr>\n      <th>AREA</th>\n      <td>42.1</td>\n      <td>70.82</td>\n      <td>22.83</td>\n      <td>108.53</td>\n      <td>58.37</td>\n    </tr>\n  </tbody>\n</table>\n</div>"
     },
     "execution_count": 118,
     "metadata": {},
     "output_type": "execute_result"
    }
   ],
   "source": [
    "new_york"
   ],
   "metadata": {
    "collapsed": false,
    "ExecuteTime": {
     "end_time": "2023-11-09T07:59:28.039581200Z",
     "start_time": "2023-11-09T07:59:28.029597600Z"
    }
   }
  },
  {
   "cell_type": "code",
   "execution_count": 120,
   "outputs": [
    {
     "data": {
      "text/plain": "       BURROUGHS    COUNTY POPULATION      GDP    AREA\n0      The Bronx     Bronx    1418207   42.695    42.1\n1       Brooklyn     Kings    2559903   91.559   70.82\n2      Manhattan  New York    1628706  600.244   22.83\n3         Queens    Queens    2253858    93.31  108.53\n4  Staten Island  Richmond     476143   14.514   58.37",
      "text/html": "<div>\n<style scoped>\n    .dataframe tbody tr th:only-of-type {\n        vertical-align: middle;\n    }\n\n    .dataframe tbody tr th {\n        vertical-align: top;\n    }\n\n    .dataframe thead th {\n        text-align: right;\n    }\n</style>\n<table border=\"1\" class=\"dataframe\">\n  <thead>\n    <tr style=\"text-align: right;\">\n      <th></th>\n      <th>BURROUGHS</th>\n      <th>COUNTY</th>\n      <th>POPULATION</th>\n      <th>GDP</th>\n      <th>AREA</th>\n    </tr>\n  </thead>\n  <tbody>\n    <tr>\n      <th>0</th>\n      <td>The Bronx</td>\n      <td>Bronx</td>\n      <td>1418207</td>\n      <td>42.695</td>\n      <td>42.1</td>\n    </tr>\n    <tr>\n      <th>1</th>\n      <td>Brooklyn</td>\n      <td>Kings</td>\n      <td>2559903</td>\n      <td>91.559</td>\n      <td>70.82</td>\n    </tr>\n    <tr>\n      <th>2</th>\n      <td>Manhattan</td>\n      <td>New York</td>\n      <td>1628706</td>\n      <td>600.244</td>\n      <td>22.83</td>\n    </tr>\n    <tr>\n      <th>3</th>\n      <td>Queens</td>\n      <td>Queens</td>\n      <td>2253858</td>\n      <td>93.31</td>\n      <td>108.53</td>\n    </tr>\n    <tr>\n      <th>4</th>\n      <td>Staten Island</td>\n      <td>Richmond</td>\n      <td>476143</td>\n      <td>14.514</td>\n      <td>58.37</td>\n    </tr>\n  </tbody>\n</table>\n</div>"
     },
     "execution_count": 120,
     "metadata": {},
     "output_type": "execute_result"
    }
   ],
   "source": [
    "new_york = new_york.transpose()\n",
    "new_york"
   ],
   "metadata": {
    "collapsed": false,
    "ExecuteTime": {
     "end_time": "2023-11-09T07:59:57.527883Z",
     "start_time": "2023-11-09T07:59:57.479187600Z"
    }
   }
  },
  {
   "cell_type": "code",
   "execution_count": 121,
   "outputs": [
    {
     "data": {
      "text/plain": "                 COUNTY POPULATION      GDP    AREA\nBURROUGHS                                          \nThe Bronx         Bronx    1418207   42.695    42.1\nBrooklyn          Kings    2559903   91.559   70.82\nManhattan      New York    1628706  600.244   22.83\nQueens           Queens    2253858    93.31  108.53\nStaten Island  Richmond     476143   14.514   58.37",
      "text/html": "<div>\n<style scoped>\n    .dataframe tbody tr th:only-of-type {\n        vertical-align: middle;\n    }\n\n    .dataframe tbody tr th {\n        vertical-align: top;\n    }\n\n    .dataframe thead th {\n        text-align: right;\n    }\n</style>\n<table border=\"1\" class=\"dataframe\">\n  <thead>\n    <tr style=\"text-align: right;\">\n      <th></th>\n      <th>COUNTY</th>\n      <th>POPULATION</th>\n      <th>GDP</th>\n      <th>AREA</th>\n    </tr>\n    <tr>\n      <th>BURROUGHS</th>\n      <th></th>\n      <th></th>\n      <th></th>\n      <th></th>\n    </tr>\n  </thead>\n  <tbody>\n    <tr>\n      <th>The Bronx</th>\n      <td>Bronx</td>\n      <td>1418207</td>\n      <td>42.695</td>\n      <td>42.1</td>\n    </tr>\n    <tr>\n      <th>Brooklyn</th>\n      <td>Kings</td>\n      <td>2559903</td>\n      <td>91.559</td>\n      <td>70.82</td>\n    </tr>\n    <tr>\n      <th>Manhattan</th>\n      <td>New York</td>\n      <td>1628706</td>\n      <td>600.244</td>\n      <td>22.83</td>\n    </tr>\n    <tr>\n      <th>Queens</th>\n      <td>Queens</td>\n      <td>2253858</td>\n      <td>93.31</td>\n      <td>108.53</td>\n    </tr>\n    <tr>\n      <th>Staten Island</th>\n      <td>Richmond</td>\n      <td>476143</td>\n      <td>14.514</td>\n      <td>58.37</td>\n    </tr>\n  </tbody>\n</table>\n</div>"
     },
     "execution_count": 121,
     "metadata": {},
     "output_type": "execute_result"
    }
   ],
   "source": [
    "new_york.set_index('BURROUGHS')"
   ],
   "metadata": {
    "collapsed": false,
    "ExecuteTime": {
     "end_time": "2023-11-09T08:00:48.870920500Z",
     "start_time": "2023-11-09T08:00:48.753922800Z"
    }
   }
  },
  {
   "cell_type": "code",
   "execution_count": 122,
   "outputs": [
    {
     "data": {
      "text/plain": "              BURROUGHS POPULATION      GDP    AREA\nCOUNTY                                             \nBronx         The Bronx    1418207   42.695    42.1\nKings          Brooklyn    2559903   91.559   70.82\nNew York      Manhattan    1628706  600.244   22.83\nQueens           Queens    2253858    93.31  108.53\nRichmond  Staten Island     476143   14.514   58.37",
      "text/html": "<div>\n<style scoped>\n    .dataframe tbody tr th:only-of-type {\n        vertical-align: middle;\n    }\n\n    .dataframe tbody tr th {\n        vertical-align: top;\n    }\n\n    .dataframe thead th {\n        text-align: right;\n    }\n</style>\n<table border=\"1\" class=\"dataframe\">\n  <thead>\n    <tr style=\"text-align: right;\">\n      <th></th>\n      <th>BURROUGHS</th>\n      <th>POPULATION</th>\n      <th>GDP</th>\n      <th>AREA</th>\n    </tr>\n    <tr>\n      <th>COUNTY</th>\n      <th></th>\n      <th></th>\n      <th></th>\n      <th></th>\n    </tr>\n  </thead>\n  <tbody>\n    <tr>\n      <th>Bronx</th>\n      <td>The Bronx</td>\n      <td>1418207</td>\n      <td>42.695</td>\n      <td>42.1</td>\n    </tr>\n    <tr>\n      <th>Kings</th>\n      <td>Brooklyn</td>\n      <td>2559903</td>\n      <td>91.559</td>\n      <td>70.82</td>\n    </tr>\n    <tr>\n      <th>New York</th>\n      <td>Manhattan</td>\n      <td>1628706</td>\n      <td>600.244</td>\n      <td>22.83</td>\n    </tr>\n    <tr>\n      <th>Queens</th>\n      <td>Queens</td>\n      <td>2253858</td>\n      <td>93.31</td>\n      <td>108.53</td>\n    </tr>\n    <tr>\n      <th>Richmond</th>\n      <td>Staten Island</td>\n      <td>476143</td>\n      <td>14.514</td>\n      <td>58.37</td>\n    </tr>\n  </tbody>\n</table>\n</div>"
     },
     "execution_count": 122,
     "metadata": {},
     "output_type": "execute_result"
    }
   ],
   "source": [
    "new_york.set_index('COUNTY')"
   ],
   "metadata": {
    "collapsed": false,
    "ExecuteTime": {
     "end_time": "2023-11-09T08:02:01.568771500Z",
     "start_time": "2023-11-09T08:02:01.514769800Z"
    }
   }
  },
  {
   "cell_type": "code",
   "execution_count": 123,
   "outputs": [
    {
     "data": {
      "text/plain": "Index(['BURROUGHS', 'COUNTY', 'POPULATION', 'GDP', 'AREA'], dtype='object')"
     },
     "execution_count": 123,
     "metadata": {},
     "output_type": "execute_result"
    }
   ],
   "source": [
    "new_york.columns"
   ],
   "metadata": {
    "collapsed": false,
    "ExecuteTime": {
     "end_time": "2023-11-09T08:02:57.167415900Z",
     "start_time": "2023-11-09T08:02:57.112410100Z"
    }
   }
  },
  {
   "cell_type": "code",
   "execution_count": 124,
   "outputs": [
    {
     "data": {
      "text/plain": "       BURROUGHS    COUNTY POPULATION      GDP    AREA\n0      The Bronx     Bronx    1418207   42.695    42.1\n1       Brooklyn     Kings    2559903   91.559   70.82\n2      Manhattan  New York    1628706  600.244   22.83\n3         Queens    Queens    2253858    93.31  108.53\n4  Staten Island  Richmond     476143   14.514   58.37",
      "text/html": "<div>\n<style scoped>\n    .dataframe tbody tr th:only-of-type {\n        vertical-align: middle;\n    }\n\n    .dataframe tbody tr th {\n        vertical-align: top;\n    }\n\n    .dataframe thead th {\n        text-align: right;\n    }\n</style>\n<table border=\"1\" class=\"dataframe\">\n  <thead>\n    <tr style=\"text-align: right;\">\n      <th></th>\n      <th>BURROUGHS</th>\n      <th>COUNTY</th>\n      <th>POPULATION</th>\n      <th>GDP</th>\n      <th>AREA</th>\n    </tr>\n  </thead>\n  <tbody>\n    <tr>\n      <th>0</th>\n      <td>The Bronx</td>\n      <td>Bronx</td>\n      <td>1418207</td>\n      <td>42.695</td>\n      <td>42.1</td>\n    </tr>\n    <tr>\n      <th>1</th>\n      <td>Brooklyn</td>\n      <td>Kings</td>\n      <td>2559903</td>\n      <td>91.559</td>\n      <td>70.82</td>\n    </tr>\n    <tr>\n      <th>2</th>\n      <td>Manhattan</td>\n      <td>New York</td>\n      <td>1628706</td>\n      <td>600.244</td>\n      <td>22.83</td>\n    </tr>\n    <tr>\n      <th>3</th>\n      <td>Queens</td>\n      <td>Queens</td>\n      <td>2253858</td>\n      <td>93.31</td>\n      <td>108.53</td>\n    </tr>\n    <tr>\n      <th>4</th>\n      <td>Staten Island</td>\n      <td>Richmond</td>\n      <td>476143</td>\n      <td>14.514</td>\n      <td>58.37</td>\n    </tr>\n  </tbody>\n</table>\n</div>"
     },
     "execution_count": 124,
     "metadata": {},
     "output_type": "execute_result"
    }
   ],
   "source": [
    "new_york.index.name = None\n",
    "new_york"
   ],
   "metadata": {
    "collapsed": false,
    "ExecuteTime": {
     "end_time": "2023-11-09T08:03:55.485431Z",
     "start_time": "2023-11-09T08:03:55.417426800Z"
    }
   }
  },
  {
   "cell_type": "code",
   "execution_count": 125,
   "outputs": [
    {
     "name": "stdout",
     "output_type": "stream",
     "text": [
      "<class 'pandas.core.frame.DataFrame'>\n",
      "RangeIndex: 5 entries, 0 to 4\n",
      "Data columns (total 5 columns):\n",
      " #   Column      Non-Null Count  Dtype \n",
      "---  ------      --------------  ----- \n",
      " 0   BURROUGHS   5 non-null      object\n",
      " 1   COUNTY      5 non-null      object\n",
      " 2   POPULATION  5 non-null      object\n",
      " 3   GDP         5 non-null      object\n",
      " 4   AREA        5 non-null      object\n",
      "dtypes: object(5)\n",
      "memory usage: 328.0+ bytes\n"
     ]
    }
   ],
   "source": [
    "new_york.info()"
   ],
   "metadata": {
    "collapsed": false,
    "ExecuteTime": {
     "end_time": "2023-11-09T08:05:52.533080200Z",
     "start_time": "2023-11-09T08:05:52.449113900Z"
    }
   }
  },
  {
   "cell_type": "code",
   "execution_count": 127,
   "outputs": [
    {
     "data": {
      "text/plain": "       BURROUGHS    COUNTY POPULATION      GDP    AREA\n0      The Bronx     Bronx    1418207   42.695    42.1\n1       Brooklyn     Kings    2559903   91.559   70.82\n2      Manhattan  New York    1628706  600.244   22.83\n3         Queens    Queens    2253858    93.31  108.53\n4  Staten Island  Richmond     476143   14.514   58.37",
      "text/html": "<div>\n<style scoped>\n    .dataframe tbody tr th:only-of-type {\n        vertical-align: middle;\n    }\n\n    .dataframe tbody tr th {\n        vertical-align: top;\n    }\n\n    .dataframe thead th {\n        text-align: right;\n    }\n</style>\n<table border=\"1\" class=\"dataframe\">\n  <thead>\n    <tr style=\"text-align: right;\">\n      <th></th>\n      <th>BURROUGHS</th>\n      <th>COUNTY</th>\n      <th>POPULATION</th>\n      <th>GDP</th>\n      <th>AREA</th>\n    </tr>\n  </thead>\n  <tbody>\n    <tr>\n      <th>0</th>\n      <td>The Bronx</td>\n      <td>Bronx</td>\n      <td>1418207</td>\n      <td>42.695</td>\n      <td>42.1</td>\n    </tr>\n    <tr>\n      <th>1</th>\n      <td>Brooklyn</td>\n      <td>Kings</td>\n      <td>2559903</td>\n      <td>91.559</td>\n      <td>70.82</td>\n    </tr>\n    <tr>\n      <th>2</th>\n      <td>Manhattan</td>\n      <td>New York</td>\n      <td>1628706</td>\n      <td>600.244</td>\n      <td>22.83</td>\n    </tr>\n    <tr>\n      <th>3</th>\n      <td>Queens</td>\n      <td>Queens</td>\n      <td>2253858</td>\n      <td>93.31</td>\n      <td>108.53</td>\n    </tr>\n    <tr>\n      <th>4</th>\n      <td>Staten Island</td>\n      <td>Richmond</td>\n      <td>476143</td>\n      <td>14.514</td>\n      <td>58.37</td>\n    </tr>\n  </tbody>\n</table>\n</div>"
     },
     "execution_count": 127,
     "metadata": {},
     "output_type": "execute_result"
    }
   ],
   "source": [
    "new_york"
   ],
   "metadata": {
    "collapsed": false,
    "ExecuteTime": {
     "end_time": "2023-11-09T08:06:26.225607500Z",
     "start_time": "2023-11-09T08:06:26.204570400Z"
    }
   }
  },
  {
   "cell_type": "code",
   "execution_count": 128,
   "outputs": [
    {
     "data": {
      "text/plain": "       BURROUGHS    COUNTY POPULATION      GDP    AREA\n0      The Bronx     Bronx    1418207   42.695    42.1\n1       Brooklyn     Kings    2559903   91.559   70.82\n2      Manhattan  New York    1628706  600.244   22.83\n3         Queens    Queens    2253858    93.31  108.53\n4  Staten Island  Richmond     476143   14.514   58.37",
      "text/html": "<div>\n<style scoped>\n    .dataframe tbody tr th:only-of-type {\n        vertical-align: middle;\n    }\n\n    .dataframe tbody tr th {\n        vertical-align: top;\n    }\n\n    .dataframe thead th {\n        text-align: right;\n    }\n</style>\n<table border=\"1\" class=\"dataframe\">\n  <thead>\n    <tr style=\"text-align: right;\">\n      <th></th>\n      <th>BURROUGHS</th>\n      <th>COUNTY</th>\n      <th>POPULATION</th>\n      <th>GDP</th>\n      <th>AREA</th>\n    </tr>\n  </thead>\n  <tbody>\n    <tr>\n      <th>0</th>\n      <td>The Bronx</td>\n      <td>Bronx</td>\n      <td>1418207</td>\n      <td>42.695</td>\n      <td>42.1</td>\n    </tr>\n    <tr>\n      <th>1</th>\n      <td>Brooklyn</td>\n      <td>Kings</td>\n      <td>2559903</td>\n      <td>91.559</td>\n      <td>70.82</td>\n    </tr>\n    <tr>\n      <th>2</th>\n      <td>Manhattan</td>\n      <td>New York</td>\n      <td>1628706</td>\n      <td>600.244</td>\n      <td>22.83</td>\n    </tr>\n    <tr>\n      <th>3</th>\n      <td>Queens</td>\n      <td>Queens</td>\n      <td>2253858</td>\n      <td>93.31</td>\n      <td>108.53</td>\n    </tr>\n    <tr>\n      <th>4</th>\n      <td>Staten Island</td>\n      <td>Richmond</td>\n      <td>476143</td>\n      <td>14.514</td>\n      <td>58.37</td>\n    </tr>\n  </tbody>\n</table>\n</div>"
     },
     "execution_count": 128,
     "metadata": {},
     "output_type": "execute_result"
    }
   ],
   "source": [
    "new_york"
   ],
   "metadata": {
    "collapsed": false,
    "ExecuteTime": {
     "end_time": "2023-11-09T08:09:27.053316300Z",
     "start_time": "2023-11-09T08:09:26.978402700Z"
    }
   }
  },
  {
   "cell_type": "code",
   "execution_count": 129,
   "outputs": [],
   "source": [
    "new_df = new_york.drop(columns='COUNTY')"
   ],
   "metadata": {
    "collapsed": false,
    "ExecuteTime": {
     "end_time": "2023-11-09T08:09:54.400689700Z",
     "start_time": "2023-11-09T08:09:54.299717700Z"
    }
   }
  },
  {
   "cell_type": "code",
   "execution_count": 130,
   "outputs": [
    {
     "data": {
      "text/plain": "       BURROUGHS POPULATION      GDP    AREA\n0      The Bronx    1418207   42.695    42.1\n1       Brooklyn    2559903   91.559   70.82\n2      Manhattan    1628706  600.244   22.83\n3         Queens    2253858    93.31  108.53\n4  Staten Island     476143   14.514   58.37",
      "text/html": "<div>\n<style scoped>\n    .dataframe tbody tr th:only-of-type {\n        vertical-align: middle;\n    }\n\n    .dataframe tbody tr th {\n        vertical-align: top;\n    }\n\n    .dataframe thead th {\n        text-align: right;\n    }\n</style>\n<table border=\"1\" class=\"dataframe\">\n  <thead>\n    <tr style=\"text-align: right;\">\n      <th></th>\n      <th>BURROUGHS</th>\n      <th>POPULATION</th>\n      <th>GDP</th>\n      <th>AREA</th>\n    </tr>\n  </thead>\n  <tbody>\n    <tr>\n      <th>0</th>\n      <td>The Bronx</td>\n      <td>1418207</td>\n      <td>42.695</td>\n      <td>42.1</td>\n    </tr>\n    <tr>\n      <th>1</th>\n      <td>Brooklyn</td>\n      <td>2559903</td>\n      <td>91.559</td>\n      <td>70.82</td>\n    </tr>\n    <tr>\n      <th>2</th>\n      <td>Manhattan</td>\n      <td>1628706</td>\n      <td>600.244</td>\n      <td>22.83</td>\n    </tr>\n    <tr>\n      <th>3</th>\n      <td>Queens</td>\n      <td>2253858</td>\n      <td>93.31</td>\n      <td>108.53</td>\n    </tr>\n    <tr>\n      <th>4</th>\n      <td>Staten Island</td>\n      <td>476143</td>\n      <td>14.514</td>\n      <td>58.37</td>\n    </tr>\n  </tbody>\n</table>\n</div>"
     },
     "execution_count": 130,
     "metadata": {},
     "output_type": "execute_result"
    }
   ],
   "source": [
    "new_df"
   ],
   "metadata": {
    "collapsed": false,
    "ExecuteTime": {
     "end_time": "2023-11-09T08:09:58.030076Z",
     "start_time": "2023-11-09T08:09:57.977075900Z"
    }
   }
  },
  {
   "cell_type": "code",
   "execution_count": 134,
   "outputs": [],
   "source": [
    "new_york.set_index('BURROUGHS')\n",
    "new_df = new_york.drop(\n",
    "    index=[1, 3]\n",
    ")"
   ],
   "metadata": {
    "collapsed": false,
    "ExecuteTime": {
     "end_time": "2023-11-09T08:12:42.966374600Z",
     "start_time": "2023-11-09T08:12:42.950515600Z"
    }
   }
  },
  {
   "cell_type": "code",
   "execution_count": 136,
   "outputs": [
    {
     "data": {
      "text/plain": "       BURROUGHS    COUNTY POPULATION      GDP   AREA\n0      The Bronx     Bronx    1418207   42.695   42.1\n2      Manhattan  New York    1628706  600.244  22.83\n4  Staten Island  Richmond     476143   14.514  58.37",
      "text/html": "<div>\n<style scoped>\n    .dataframe tbody tr th:only-of-type {\n        vertical-align: middle;\n    }\n\n    .dataframe tbody tr th {\n        vertical-align: top;\n    }\n\n    .dataframe thead th {\n        text-align: right;\n    }\n</style>\n<table border=\"1\" class=\"dataframe\">\n  <thead>\n    <tr style=\"text-align: right;\">\n      <th></th>\n      <th>BURROUGHS</th>\n      <th>COUNTY</th>\n      <th>POPULATION</th>\n      <th>GDP</th>\n      <th>AREA</th>\n    </tr>\n  </thead>\n  <tbody>\n    <tr>\n      <th>0</th>\n      <td>The Bronx</td>\n      <td>Bronx</td>\n      <td>1418207</td>\n      <td>42.695</td>\n      <td>42.1</td>\n    </tr>\n    <tr>\n      <th>2</th>\n      <td>Manhattan</td>\n      <td>New York</td>\n      <td>1628706</td>\n      <td>600.244</td>\n      <td>22.83</td>\n    </tr>\n    <tr>\n      <th>4</th>\n      <td>Staten Island</td>\n      <td>Richmond</td>\n      <td>476143</td>\n      <td>14.514</td>\n      <td>58.37</td>\n    </tr>\n  </tbody>\n</table>\n</div>"
     },
     "execution_count": 136,
     "metadata": {},
     "output_type": "execute_result"
    }
   ],
   "source": [
    "new_df"
   ],
   "metadata": {
    "collapsed": false,
    "ExecuteTime": {
     "end_time": "2023-11-09T08:13:23.808966200Z",
     "start_time": "2023-11-09T08:13:23.797967600Z"
    }
   }
  },
  {
   "cell_type": "code",
   "execution_count": 138,
   "outputs": [],
   "source": [
    "df = pd.DataFrame(\n",
    "    np.arange(9).reshape(3, 3),\n",
    "    index=list('ABC'),\n",
    "    columns=list('abc')\n",
    ")"
   ],
   "metadata": {
    "collapsed": false,
    "ExecuteTime": {
     "end_time": "2023-11-09T08:15:11.186661800Z",
     "start_time": "2023-11-09T08:15:11.163308600Z"
    }
   }
  },
  {
   "cell_type": "code",
   "execution_count": 139,
   "outputs": [
    {
     "data": {
      "text/plain": "   a  b  c\nA  0  1  2\nB  3  4  5\nC  6  7  8",
      "text/html": "<div>\n<style scoped>\n    .dataframe tbody tr th:only-of-type {\n        vertical-align: middle;\n    }\n\n    .dataframe tbody tr th {\n        vertical-align: top;\n    }\n\n    .dataframe thead th {\n        text-align: right;\n    }\n</style>\n<table border=\"1\" class=\"dataframe\">\n  <thead>\n    <tr style=\"text-align: right;\">\n      <th></th>\n      <th>a</th>\n      <th>b</th>\n      <th>c</th>\n    </tr>\n  </thead>\n  <tbody>\n    <tr>\n      <th>A</th>\n      <td>0</td>\n      <td>1</td>\n      <td>2</td>\n    </tr>\n    <tr>\n      <th>B</th>\n      <td>3</td>\n      <td>4</td>\n      <td>5</td>\n    </tr>\n    <tr>\n      <th>C</th>\n      <td>6</td>\n      <td>7</td>\n      <td>8</td>\n    </tr>\n  </tbody>\n</table>\n</div>"
     },
     "execution_count": 139,
     "metadata": {},
     "output_type": "execute_result"
    }
   ],
   "source": [
    "df"
   ],
   "metadata": {
    "collapsed": false,
    "ExecuteTime": {
     "end_time": "2023-11-09T08:15:14.422390900Z",
     "start_time": "2023-11-09T08:15:14.373893300Z"
    }
   }
  },
  {
   "cell_type": "code",
   "execution_count": 140,
   "outputs": [
    {
     "data": {
      "text/plain": "    aa  bb  cc\nAA   0   1   2\nBB   3   4   5\nCC   6   7   8",
      "text/html": "<div>\n<style scoped>\n    .dataframe tbody tr th:only-of-type {\n        vertical-align: middle;\n    }\n\n    .dataframe tbody tr th {\n        vertical-align: top;\n    }\n\n    .dataframe thead th {\n        text-align: right;\n    }\n</style>\n<table border=\"1\" class=\"dataframe\">\n  <thead>\n    <tr style=\"text-align: right;\">\n      <th></th>\n      <th>aa</th>\n      <th>bb</th>\n      <th>cc</th>\n    </tr>\n  </thead>\n  <tbody>\n    <tr>\n      <th>AA</th>\n      <td>0</td>\n      <td>1</td>\n      <td>2</td>\n    </tr>\n    <tr>\n      <th>BB</th>\n      <td>3</td>\n      <td>4</td>\n      <td>5</td>\n    </tr>\n    <tr>\n      <th>CC</th>\n      <td>6</td>\n      <td>7</td>\n      <td>8</td>\n    </tr>\n  </tbody>\n</table>\n</div>"
     },
     "execution_count": 140,
     "metadata": {},
     "output_type": "execute_result"
    }
   ],
   "source": [
    "df.rename(\n",
    "    columns={'a': 'aa', 'b': 'bb', 'c': 'cc'},\n",
    "    index={'A': 'AA', 'B': 'BB', 'C': 'CC'}\n",
    ")"
   ],
   "metadata": {
    "collapsed": false,
    "ExecuteTime": {
     "end_time": "2023-11-09T08:17:28.011701200Z",
     "start_time": "2023-11-09T08:17:27.963699700Z"
    }
   }
  },
  {
   "cell_type": "code",
   "execution_count": 141,
   "outputs": [
    {
     "data": {
      "text/plain": "   a  b  c\nA  0  1  2\nB  3  4  5\nC  6  7  8",
      "text/html": "<div>\n<style scoped>\n    .dataframe tbody tr th:only-of-type {\n        vertical-align: middle;\n    }\n\n    .dataframe tbody tr th {\n        vertical-align: top;\n    }\n\n    .dataframe thead th {\n        text-align: right;\n    }\n</style>\n<table border=\"1\" class=\"dataframe\">\n  <thead>\n    <tr style=\"text-align: right;\">\n      <th></th>\n      <th>a</th>\n      <th>b</th>\n      <th>c</th>\n    </tr>\n  </thead>\n  <tbody>\n    <tr>\n      <th>A</th>\n      <td>0</td>\n      <td>1</td>\n      <td>2</td>\n    </tr>\n    <tr>\n      <th>B</th>\n      <td>3</td>\n      <td>4</td>\n      <td>5</td>\n    </tr>\n    <tr>\n      <th>C</th>\n      <td>6</td>\n      <td>7</td>\n      <td>8</td>\n    </tr>\n  </tbody>\n</table>\n</div>"
     },
     "execution_count": 141,
     "metadata": {},
     "output_type": "execute_result"
    }
   ],
   "source": [
    "df"
   ],
   "metadata": {
    "collapsed": false,
    "ExecuteTime": {
     "end_time": "2023-11-09T08:17:56.658707100Z",
     "start_time": "2023-11-09T08:17:56.602703600Z"
    }
   }
  },
  {
   "cell_type": "code",
   "execution_count": 142,
   "outputs": [
    {
     "data": {
      "text/plain": "   AA  b  c\nA   0  1  2\nB   3  4  5\nC   6  7  8",
      "text/html": "<div>\n<style scoped>\n    .dataframe tbody tr th:only-of-type {\n        vertical-align: middle;\n    }\n\n    .dataframe tbody tr th {\n        vertical-align: top;\n    }\n\n    .dataframe thead th {\n        text-align: right;\n    }\n</style>\n<table border=\"1\" class=\"dataframe\">\n  <thead>\n    <tr style=\"text-align: right;\">\n      <th></th>\n      <th>AA</th>\n      <th>b</th>\n      <th>c</th>\n    </tr>\n  </thead>\n  <tbody>\n    <tr>\n      <th>A</th>\n      <td>0</td>\n      <td>1</td>\n      <td>2</td>\n    </tr>\n    <tr>\n      <th>B</th>\n      <td>3</td>\n      <td>4</td>\n      <td>5</td>\n    </tr>\n    <tr>\n      <th>C</th>\n      <td>6</td>\n      <td>7</td>\n      <td>8</td>\n    </tr>\n  </tbody>\n</table>\n</div>"
     },
     "execution_count": 142,
     "metadata": {},
     "output_type": "execute_result"
    }
   ],
   "source": [
    "df.rename(\n",
    "    columns={'a': 'AA'}\n",
    ")"
   ],
   "metadata": {
    "collapsed": false,
    "ExecuteTime": {
     "end_time": "2023-11-09T08:18:34.323723400Z",
     "start_time": "2023-11-09T08:18:34.240720700Z"
    }
   }
  },
  {
   "cell_type": "code",
   "execution_count": 146,
   "outputs": [],
   "source": [
    "arr = np.arange(1, 10).reshape(3, 3)\n",
    "df = pd.DataFrame(\n",
    "    arr,\n",
    "    index=['r1', 'r2', 'r3'],\n",
    "    columns=['c1', 'c2', 'c3']\n",
    ")"
   ],
   "metadata": {
    "collapsed": false,
    "ExecuteTime": {
     "end_time": "2023-11-09T08:34:11.270811700Z",
     "start_time": "2023-11-09T08:34:11.252189100Z"
    }
   }
  },
  {
   "cell_type": "code",
   "execution_count": 147,
   "outputs": [
    {
     "data": {
      "text/plain": "    c1  c2  c3\nr1   1   2   3\nr2   4   5   6\nr3   7   8   9",
      "text/html": "<div>\n<style scoped>\n    .dataframe tbody tr th:only-of-type {\n        vertical-align: middle;\n    }\n\n    .dataframe tbody tr th {\n        vertical-align: top;\n    }\n\n    .dataframe thead th {\n        text-align: right;\n    }\n</style>\n<table border=\"1\" class=\"dataframe\">\n  <thead>\n    <tr style=\"text-align: right;\">\n      <th></th>\n      <th>c1</th>\n      <th>c2</th>\n      <th>c3</th>\n    </tr>\n  </thead>\n  <tbody>\n    <tr>\n      <th>r1</th>\n      <td>1</td>\n      <td>2</td>\n      <td>3</td>\n    </tr>\n    <tr>\n      <th>r2</th>\n      <td>4</td>\n      <td>5</td>\n      <td>6</td>\n    </tr>\n    <tr>\n      <th>r3</th>\n      <td>7</td>\n      <td>8</td>\n      <td>9</td>\n    </tr>\n  </tbody>\n</table>\n</div>"
     },
     "execution_count": 147,
     "metadata": {},
     "output_type": "execute_result"
    }
   ],
   "source": [
    "df"
   ],
   "metadata": {
    "collapsed": false,
    "ExecuteTime": {
     "end_time": "2023-11-09T08:34:11.944858700Z",
     "start_time": "2023-11-09T08:34:11.898405Z"
    }
   }
  },
  {
   "cell_type": "code",
   "execution_count": 148,
   "outputs": [
    {
     "data": {
      "text/plain": "Index(['r1', 'r2', 'r3'], dtype='object')"
     },
     "execution_count": 148,
     "metadata": {},
     "output_type": "execute_result"
    }
   ],
   "source": [
    "df.index"
   ],
   "metadata": {
    "collapsed": false,
    "ExecuteTime": {
     "end_time": "2023-11-09T08:34:33.108113100Z",
     "start_time": "2023-11-09T08:34:33.042140Z"
    }
   }
  },
  {
   "cell_type": "code",
   "execution_count": 149,
   "outputs": [
    {
     "data": {
      "text/plain": "r1    2\nr2    5\nr3    8\nName: c2, dtype: int32"
     },
     "execution_count": 149,
     "metadata": {},
     "output_type": "execute_result"
    }
   ],
   "source": [
    "df['c2']"
   ],
   "metadata": {
    "collapsed": false,
    "ExecuteTime": {
     "end_time": "2023-11-09T08:34:50.360746800Z",
     "start_time": "2023-11-09T08:34:50.310629900Z"
    }
   }
  },
  {
   "cell_type": "code",
   "execution_count": 152,
   "outputs": [
    {
     "name": "stdout",
     "output_type": "stream",
     "text": [
      "KeyError: 0\n"
     ]
    }
   ],
   "source": [
    "try:\n",
    "    df[0]\n",
    "except  KeyError as ex:\n",
    "    print('KeyError:', ex)"
   ],
   "metadata": {
    "collapsed": false,
    "ExecuteTime": {
     "end_time": "2023-11-09T08:36:18.496198900Z",
     "start_time": "2023-11-09T08:36:18.481794200Z"
    }
   }
  },
  {
   "cell_type": "code",
   "execution_count": 153,
   "outputs": [
    {
     "data": {
      "text/plain": "5"
     },
     "execution_count": 153,
     "metadata": {},
     "output_type": "execute_result"
    }
   ],
   "source": [
    "df['c2'][1]"
   ],
   "metadata": {
    "collapsed": false,
    "ExecuteTime": {
     "end_time": "2023-11-09T08:37:01.340356200Z",
     "start_time": "2023-11-09T08:37:01.281354900Z"
    }
   }
  },
  {
   "cell_type": "code",
   "execution_count": 156,
   "outputs": [
    {
     "data": {
      "text/plain": "2"
     },
     "execution_count": 156,
     "metadata": {},
     "output_type": "execute_result"
    }
   ],
   "source": [
    "df['c2']['r1']"
   ],
   "metadata": {
    "collapsed": false,
    "ExecuteTime": {
     "end_time": "2023-11-09T08:37:44.279373Z",
     "start_time": "2023-11-09T08:37:44.242372500Z"
    }
   }
  },
  {
   "cell_type": "code",
   "execution_count": 157,
   "outputs": [
    {
     "data": {
      "text/plain": "6"
     },
     "execution_count": 157,
     "metadata": {},
     "output_type": "execute_result"
    }
   ],
   "source": [
    "df.values[1, 2]"
   ],
   "metadata": {
    "collapsed": false,
    "ExecuteTime": {
     "end_time": "2023-11-09T08:38:34.106930400Z",
     "start_time": "2023-11-09T08:38:34.044960800Z"
    }
   }
  },
  {
   "cell_type": "code",
   "execution_count": 158,
   "outputs": [
    {
     "data": {
      "text/plain": "6"
     },
     "execution_count": 158,
     "metadata": {},
     "output_type": "execute_result"
    }
   ],
   "source": [
    "df.iloc[1, 2]"
   ],
   "metadata": {
    "collapsed": false,
    "ExecuteTime": {
     "end_time": "2023-11-09T08:39:48.536131600Z",
     "start_time": "2023-11-09T08:39:48.481032600Z"
    }
   }
  },
  {
   "cell_type": "code",
   "execution_count": 159,
   "outputs": [
    {
     "data": {
      "text/plain": "    c1  c2  c3\nr1   1   2   3\nr2   4   5   6\nr3   7   8   9",
      "text/html": "<div>\n<style scoped>\n    .dataframe tbody tr th:only-of-type {\n        vertical-align: middle;\n    }\n\n    .dataframe tbody tr th {\n        vertical-align: top;\n    }\n\n    .dataframe thead th {\n        text-align: right;\n    }\n</style>\n<table border=\"1\" class=\"dataframe\">\n  <thead>\n    <tr style=\"text-align: right;\">\n      <th></th>\n      <th>c1</th>\n      <th>c2</th>\n      <th>c3</th>\n    </tr>\n  </thead>\n  <tbody>\n    <tr>\n      <th>r1</th>\n      <td>1</td>\n      <td>2</td>\n      <td>3</td>\n    </tr>\n    <tr>\n      <th>r2</th>\n      <td>4</td>\n      <td>5</td>\n      <td>6</td>\n    </tr>\n    <tr>\n      <th>r3</th>\n      <td>7</td>\n      <td>8</td>\n      <td>9</td>\n    </tr>\n  </tbody>\n</table>\n</div>"
     },
     "execution_count": 159,
     "metadata": {},
     "output_type": "execute_result"
    }
   ],
   "source": [
    "df"
   ],
   "metadata": {
    "collapsed": false,
    "ExecuteTime": {
     "end_time": "2023-11-09T08:46:40.422055600Z",
     "start_time": "2023-11-09T08:46:40.378086500Z"
    }
   }
  },
  {
   "cell_type": "code",
   "execution_count": 160,
   "outputs": [
    {
     "data": {
      "text/plain": "6"
     },
     "execution_count": 160,
     "metadata": {},
     "output_type": "execute_result"
    }
   ],
   "source": [
    "df.loc['r2', 'c3']"
   ],
   "metadata": {
    "collapsed": false,
    "ExecuteTime": {
     "end_time": "2023-11-09T08:47:00.114372400Z",
     "start_time": "2023-11-09T08:47:00.061338500Z"
    }
   }
  },
  {
   "cell_type": "code",
   "execution_count": 161,
   "outputs": [
    {
     "name": "stdout",
     "output_type": "stream",
     "text": [
      "    c1  c2  c3\n",
      "r1   1   2   3\n",
      "r2   4   5   6\n",
      "r3   7   8   9\n"
     ]
    },
    {
     "data": {
      "text/plain": "    c2  c3\nr1   2   3\nr2   5   6",
      "text/html": "<div>\n<style scoped>\n    .dataframe tbody tr th:only-of-type {\n        vertical-align: middle;\n    }\n\n    .dataframe tbody tr th {\n        vertical-align: top;\n    }\n\n    .dataframe thead th {\n        text-align: right;\n    }\n</style>\n<table border=\"1\" class=\"dataframe\">\n  <thead>\n    <tr style=\"text-align: right;\">\n      <th></th>\n      <th>c2</th>\n      <th>c3</th>\n    </tr>\n  </thead>\n  <tbody>\n    <tr>\n      <th>r1</th>\n      <td>2</td>\n      <td>3</td>\n    </tr>\n    <tr>\n      <th>r2</th>\n      <td>5</td>\n      <td>6</td>\n    </tr>\n  </tbody>\n</table>\n</div>"
     },
     "execution_count": 161,
     "metadata": {},
     "output_type": "execute_result"
    }
   ],
   "source": [
    "print(df)\n",
    "df.loc['r1':'r2', 'c2':'c3']"
   ],
   "metadata": {
    "collapsed": false,
    "ExecuteTime": {
     "end_time": "2023-11-09T08:49:22.222765200Z",
     "start_time": "2023-11-09T08:49:22.171708800Z"
    }
   }
  },
  {
   "cell_type": "code",
   "execution_count": 162,
   "outputs": [
    {
     "name": "stdout",
     "output_type": "stream",
     "text": [
      "    c1  c2  c3\n",
      "r1   1   2   3\n",
      "r2   4   5   6\n",
      "r3   7   8   9\n"
     ]
    },
    {
     "data": {
      "text/plain": "    c2\nr1   2",
      "text/html": "<div>\n<style scoped>\n    .dataframe tbody tr th:only-of-type {\n        vertical-align: middle;\n    }\n\n    .dataframe tbody tr th {\n        vertical-align: top;\n    }\n\n    .dataframe thead th {\n        text-align: right;\n    }\n</style>\n<table border=\"1\" class=\"dataframe\">\n  <thead>\n    <tr style=\"text-align: right;\">\n      <th></th>\n      <th>c2</th>\n    </tr>\n  </thead>\n  <tbody>\n    <tr>\n      <th>r1</th>\n      <td>2</td>\n    </tr>\n  </tbody>\n</table>\n</div>"
     },
     "execution_count": 162,
     "metadata": {},
     "output_type": "execute_result"
    }
   ],
   "source": [
    "print(df)\n",
    "df.iloc[0:1, 1:2]"
   ],
   "metadata": {
    "collapsed": false,
    "ExecuteTime": {
     "end_time": "2023-11-09T08:50:23.206694900Z",
     "start_time": "2023-11-09T08:50:23.150697Z"
    }
   }
  },
  {
   "cell_type": "code",
   "execution_count": 163,
   "outputs": [
    {
     "data": {
      "text/plain": "    c2\nr1   2\nr2   5\nr3   8",
      "text/html": "<div>\n<style scoped>\n    .dataframe tbody tr th:only-of-type {\n        vertical-align: middle;\n    }\n\n    .dataframe tbody tr th {\n        vertical-align: top;\n    }\n\n    .dataframe thead th {\n        text-align: right;\n    }\n</style>\n<table border=\"1\" class=\"dataframe\">\n  <thead>\n    <tr style=\"text-align: right;\">\n      <th></th>\n      <th>c2</th>\n    </tr>\n  </thead>\n  <tbody>\n    <tr>\n      <th>r1</th>\n      <td>2</td>\n    </tr>\n    <tr>\n      <th>r2</th>\n      <td>5</td>\n    </tr>\n    <tr>\n      <th>r3</th>\n      <td>8</td>\n    </tr>\n  </tbody>\n</table>\n</div>"
     },
     "execution_count": 163,
     "metadata": {},
     "output_type": "execute_result"
    }
   ],
   "source": [
    "df.iloc[:, 1:2]"
   ],
   "metadata": {
    "collapsed": false,
    "ExecuteTime": {
     "end_time": "2023-11-09T08:51:55.407650600Z",
     "start_time": "2023-11-09T08:51:55.339649400Z"
    }
   }
  },
  {
   "cell_type": "code",
   "execution_count": 164,
   "outputs": [
    {
     "data": {
      "text/plain": "    c1  c2  c3\nr1   1   2   3\nr2   4   5   6",
      "text/html": "<div>\n<style scoped>\n    .dataframe tbody tr th:only-of-type {\n        vertical-align: middle;\n    }\n\n    .dataframe tbody tr th {\n        vertical-align: top;\n    }\n\n    .dataframe thead th {\n        text-align: right;\n    }\n</style>\n<table border=\"1\" class=\"dataframe\">\n  <thead>\n    <tr style=\"text-align: right;\">\n      <th></th>\n      <th>c1</th>\n      <th>c2</th>\n      <th>c3</th>\n    </tr>\n  </thead>\n  <tbody>\n    <tr>\n      <th>r1</th>\n      <td>1</td>\n      <td>2</td>\n      <td>3</td>\n    </tr>\n    <tr>\n      <th>r2</th>\n      <td>4</td>\n      <td>5</td>\n      <td>6</td>\n    </tr>\n  </tbody>\n</table>\n</div>"
     },
     "execution_count": 164,
     "metadata": {},
     "output_type": "execute_result"
    }
   ],
   "source": [
    "df.iloc[0:2, :]"
   ],
   "metadata": {
    "collapsed": false,
    "ExecuteTime": {
     "end_time": "2023-11-09T08:52:26.887348500Z",
     "start_time": "2023-11-09T08:52:26.815341500Z"
    }
   }
  },
  {
   "cell_type": "code",
   "execution_count": 165,
   "outputs": [
    {
     "data": {
      "text/plain": "    c1  c2  c3\nr1   1   2   3\nr2   4   5   6",
      "text/html": "<div>\n<style scoped>\n    .dataframe tbody tr th:only-of-type {\n        vertical-align: middle;\n    }\n\n    .dataframe tbody tr th {\n        vertical-align: top;\n    }\n\n    .dataframe thead th {\n        text-align: right;\n    }\n</style>\n<table border=\"1\" class=\"dataframe\">\n  <thead>\n    <tr style=\"text-align: right;\">\n      <th></th>\n      <th>c1</th>\n      <th>c2</th>\n      <th>c3</th>\n    </tr>\n  </thead>\n  <tbody>\n    <tr>\n      <th>r1</th>\n      <td>1</td>\n      <td>2</td>\n      <td>3</td>\n    </tr>\n    <tr>\n      <th>r2</th>\n      <td>4</td>\n      <td>5</td>\n      <td>6</td>\n    </tr>\n  </tbody>\n</table>\n</div>"
     },
     "execution_count": 165,
     "metadata": {},
     "output_type": "execute_result"
    }
   ],
   "source": [
    "df.iloc[0:2]"
   ],
   "metadata": {
    "collapsed": false,
    "ExecuteTime": {
     "end_time": "2023-11-09T08:53:07.583175Z",
     "start_time": "2023-11-09T08:53:07.523162200Z"
    }
   }
  },
  {
   "cell_type": "code",
   "execution_count": 166,
   "outputs": [
    {
     "data": {
      "text/plain": "    c1  c3\nr1   1   3\nr2   4   6\nr3   7   9",
      "text/html": "<div>\n<style scoped>\n    .dataframe tbody tr th:only-of-type {\n        vertical-align: middle;\n    }\n\n    .dataframe tbody tr th {\n        vertical-align: top;\n    }\n\n    .dataframe thead th {\n        text-align: right;\n    }\n</style>\n<table border=\"1\" class=\"dataframe\">\n  <thead>\n    <tr style=\"text-align: right;\">\n      <th></th>\n      <th>c1</th>\n      <th>c3</th>\n    </tr>\n  </thead>\n  <tbody>\n    <tr>\n      <th>r1</th>\n      <td>1</td>\n      <td>3</td>\n    </tr>\n    <tr>\n      <th>r2</th>\n      <td>4</td>\n      <td>6</td>\n    </tr>\n    <tr>\n      <th>r3</th>\n      <td>7</td>\n      <td>9</td>\n    </tr>\n  </tbody>\n</table>\n</div>"
     },
     "execution_count": 166,
     "metadata": {},
     "output_type": "execute_result"
    }
   ],
   "source": [
    "df.loc[:, ['c1', 'c3']]"
   ],
   "metadata": {
    "collapsed": false,
    "ExecuteTime": {
     "end_time": "2023-11-09T09:19:17.079894700Z",
     "start_time": "2023-11-09T09:19:16.996774100Z"
    }
   }
  },
  {
   "cell_type": "code",
   "execution_count": 169,
   "outputs": [
    {
     "data": {
      "text/plain": "    c1  c3\nr1   1   3\nr2   4   6\nr3   7   9",
      "text/html": "<div>\n<style scoped>\n    .dataframe tbody tr th:only-of-type {\n        vertical-align: middle;\n    }\n\n    .dataframe tbody tr th {\n        vertical-align: top;\n    }\n\n    .dataframe thead th {\n        text-align: right;\n    }\n</style>\n<table border=\"1\" class=\"dataframe\">\n  <thead>\n    <tr style=\"text-align: right;\">\n      <th></th>\n      <th>c1</th>\n      <th>c3</th>\n    </tr>\n  </thead>\n  <tbody>\n    <tr>\n      <th>r1</th>\n      <td>1</td>\n      <td>3</td>\n    </tr>\n    <tr>\n      <th>r2</th>\n      <td>4</td>\n      <td>6</td>\n    </tr>\n    <tr>\n      <th>r3</th>\n      <td>7</td>\n      <td>9</td>\n    </tr>\n  </tbody>\n</table>\n</div>"
     },
     "execution_count": 169,
     "metadata": {},
     "output_type": "execute_result"
    }
   ],
   "source": [
    "df.iloc[:, [0, 2]]"
   ],
   "metadata": {
    "collapsed": false,
    "ExecuteTime": {
     "end_time": "2023-11-09T09:19:59.980661400Z",
     "start_time": "2023-11-09T09:19:59.934499900Z"
    }
   }
  },
  {
   "cell_type": "code",
   "execution_count": 170,
   "outputs": [
    {
     "name": "stdout",
     "output_type": "stream",
     "text": [
      "    c1  c2  c3\n",
      "r1   1   2   3\n",
      "r2   4   5   6\n",
      "r3   7   8   9\n"
     ]
    },
    {
     "data": {
      "text/plain": "    c1  c2  c3\nr1   1   2   3\nr2   4   5   6",
      "text/html": "<div>\n<style scoped>\n    .dataframe tbody tr th:only-of-type {\n        vertical-align: middle;\n    }\n\n    .dataframe tbody tr th {\n        vertical-align: top;\n    }\n\n    .dataframe thead th {\n        text-align: right;\n    }\n</style>\n<table border=\"1\" class=\"dataframe\">\n  <thead>\n    <tr style=\"text-align: right;\">\n      <th></th>\n      <th>c1</th>\n      <th>c2</th>\n      <th>c3</th>\n    </tr>\n  </thead>\n  <tbody>\n    <tr>\n      <th>r1</th>\n      <td>1</td>\n      <td>2</td>\n      <td>3</td>\n    </tr>\n    <tr>\n      <th>r2</th>\n      <td>4</td>\n      <td>5</td>\n      <td>6</td>\n    </tr>\n  </tbody>\n</table>\n</div>"
     },
     "execution_count": 170,
     "metadata": {},
     "output_type": "execute_result"
    }
   ],
   "source": [
    "print(df)\n",
    "tmp = df.iloc[0:2, :]\n",
    "tmp"
   ],
   "metadata": {
    "collapsed": false,
    "ExecuteTime": {
     "end_time": "2023-11-09T09:22:31.836972600Z",
     "start_time": "2023-11-09T09:22:31.778337Z"
    }
   }
  },
  {
   "cell_type": "code",
   "execution_count": 171,
   "outputs": [
    {
     "data": {
      "text/plain": "    c1  c3\nr1   1   3\nr2   4   6",
      "text/html": "<div>\n<style scoped>\n    .dataframe tbody tr th:only-of-type {\n        vertical-align: middle;\n    }\n\n    .dataframe tbody tr th {\n        vertical-align: top;\n    }\n\n    .dataframe thead th {\n        text-align: right;\n    }\n</style>\n<table border=\"1\" class=\"dataframe\">\n  <thead>\n    <tr style=\"text-align: right;\">\n      <th></th>\n      <th>c1</th>\n      <th>c3</th>\n    </tr>\n  </thead>\n  <tbody>\n    <tr>\n      <th>r1</th>\n      <td>1</td>\n      <td>3</td>\n    </tr>\n    <tr>\n      <th>r2</th>\n      <td>4</td>\n      <td>6</td>\n    </tr>\n  </tbody>\n</table>\n</div>"
     },
     "execution_count": 171,
     "metadata": {},
     "output_type": "execute_result"
    }
   ],
   "source": [
    "df.iloc[0:2, :].loc[:, ['c1', 'c3']]"
   ],
   "metadata": {
    "collapsed": false,
    "ExecuteTime": {
     "end_time": "2023-11-09T10:23:30.101761100Z",
     "start_time": "2023-11-09T10:23:30.000755900Z"
    }
   }
  },
  {
   "cell_type": "code",
   "execution_count": 172,
   "outputs": [
    {
     "data": {
      "text/plain": "    c1  c2  c3\nr1   1   2   3\nr2   4   5   6\nr3   7   8   9",
      "text/html": "<div>\n<style scoped>\n    .dataframe tbody tr th:only-of-type {\n        vertical-align: middle;\n    }\n\n    .dataframe tbody tr th {\n        vertical-align: top;\n    }\n\n    .dataframe thead th {\n        text-align: right;\n    }\n</style>\n<table border=\"1\" class=\"dataframe\">\n  <thead>\n    <tr style=\"text-align: right;\">\n      <th></th>\n      <th>c1</th>\n      <th>c2</th>\n      <th>c3</th>\n    </tr>\n  </thead>\n  <tbody>\n    <tr>\n      <th>r1</th>\n      <td>1</td>\n      <td>2</td>\n      <td>3</td>\n    </tr>\n    <tr>\n      <th>r2</th>\n      <td>4</td>\n      <td>5</td>\n      <td>6</td>\n    </tr>\n    <tr>\n      <th>r3</th>\n      <td>7</td>\n      <td>8</td>\n      <td>9</td>\n    </tr>\n  </tbody>\n</table>\n</div>"
     },
     "execution_count": 172,
     "metadata": {},
     "output_type": "execute_result"
    }
   ],
   "source": [
    "df"
   ],
   "metadata": {
    "collapsed": false,
    "ExecuteTime": {
     "end_time": "2023-11-09T10:24:10.243697200Z",
     "start_time": "2023-11-09T10:24:10.180240200Z"
    }
   }
  },
  {
   "cell_type": "code",
   "execution_count": 173,
   "outputs": [],
   "source": [
    "df.iloc[0, 0] = -10"
   ],
   "metadata": {
    "collapsed": false,
    "ExecuteTime": {
     "end_time": "2023-11-09T10:24:30.297487600Z",
     "start_time": "2023-11-09T10:24:30.209485300Z"
    }
   }
  },
  {
   "cell_type": "code",
   "execution_count": 174,
   "outputs": [
    {
     "data": {
      "text/plain": "    c1  c2  c3\nr1 -10   2   3\nr2   4   5   6\nr3   7   8   9",
      "text/html": "<div>\n<style scoped>\n    .dataframe tbody tr th:only-of-type {\n        vertical-align: middle;\n    }\n\n    .dataframe tbody tr th {\n        vertical-align: top;\n    }\n\n    .dataframe thead th {\n        text-align: right;\n    }\n</style>\n<table border=\"1\" class=\"dataframe\">\n  <thead>\n    <tr style=\"text-align: right;\">\n      <th></th>\n      <th>c1</th>\n      <th>c2</th>\n      <th>c3</th>\n    </tr>\n  </thead>\n  <tbody>\n    <tr>\n      <th>r1</th>\n      <td>-10</td>\n      <td>2</td>\n      <td>3</td>\n    </tr>\n    <tr>\n      <th>r2</th>\n      <td>4</td>\n      <td>5</td>\n      <td>6</td>\n    </tr>\n    <tr>\n      <th>r3</th>\n      <td>7</td>\n      <td>8</td>\n      <td>9</td>\n    </tr>\n  </tbody>\n</table>\n</div>"
     },
     "execution_count": 174,
     "metadata": {},
     "output_type": "execute_result"
    }
   ],
   "source": [
    "df"
   ],
   "metadata": {
    "collapsed": false,
    "ExecuteTime": {
     "end_time": "2023-11-09T10:24:32.115301900Z",
     "start_time": "2023-11-09T10:24:32.054887300Z"
    }
   }
  },
  {
   "cell_type": "code",
   "execution_count": 175,
   "outputs": [
    {
     "data": {
      "text/plain": "    c1  c2\nr1 -10   2\nr2   4   5",
      "text/html": "<div>\n<style scoped>\n    .dataframe tbody tr th:only-of-type {\n        vertical-align: middle;\n    }\n\n    .dataframe tbody tr th {\n        vertical-align: top;\n    }\n\n    .dataframe thead th {\n        text-align: right;\n    }\n</style>\n<table border=\"1\" class=\"dataframe\">\n  <thead>\n    <tr style=\"text-align: right;\">\n      <th></th>\n      <th>c1</th>\n      <th>c2</th>\n    </tr>\n  </thead>\n  <tbody>\n    <tr>\n      <th>r1</th>\n      <td>-10</td>\n      <td>2</td>\n    </tr>\n    <tr>\n      <th>r2</th>\n      <td>4</td>\n      <td>5</td>\n    </tr>\n  </tbody>\n</table>\n</div>"
     },
     "execution_count": 175,
     "metadata": {},
     "output_type": "execute_result"
    }
   ],
   "source": [
    "df.loc['r1':'r2', 'c1':'c2']"
   ],
   "metadata": {
    "collapsed": false,
    "ExecuteTime": {
     "end_time": "2023-11-09T10:26:01.344900800Z",
     "start_time": "2023-11-09T10:26:01.254899900Z"
    }
   }
  },
  {
   "cell_type": "code",
   "execution_count": 176,
   "outputs": [
    {
     "data": {
      "text/plain": "    c1  c2  c3\nr1  10  20   3\nr2  30  40   6\nr3   7   8   9",
      "text/html": "<div>\n<style scoped>\n    .dataframe tbody tr th:only-of-type {\n        vertical-align: middle;\n    }\n\n    .dataframe tbody tr th {\n        vertical-align: top;\n    }\n\n    .dataframe thead th {\n        text-align: right;\n    }\n</style>\n<table border=\"1\" class=\"dataframe\">\n  <thead>\n    <tr style=\"text-align: right;\">\n      <th></th>\n      <th>c1</th>\n      <th>c2</th>\n      <th>c3</th>\n    </tr>\n  </thead>\n  <tbody>\n    <tr>\n      <th>r1</th>\n      <td>10</td>\n      <td>20</td>\n      <td>3</td>\n    </tr>\n    <tr>\n      <th>r2</th>\n      <td>30</td>\n      <td>40</td>\n      <td>6</td>\n    </tr>\n    <tr>\n      <th>r3</th>\n      <td>7</td>\n      <td>8</td>\n      <td>9</td>\n    </tr>\n  </tbody>\n</table>\n</div>"
     },
     "execution_count": 176,
     "metadata": {},
     "output_type": "execute_result"
    }
   ],
   "source": [
    "df.loc['r1':'r2', 'c1':'c2'] = np.array([10, 20, 30, 40]).reshape(2, 2)\n",
    "df"
   ],
   "metadata": {
    "collapsed": false,
    "ExecuteTime": {
     "end_time": "2023-11-09T10:27:19.288074Z",
     "start_time": "2023-11-09T10:27:19.205749800Z"
    }
   }
  },
  {
   "cell_type": "code",
   "execution_count": 178,
   "outputs": [
    {
     "data": {
      "text/plain": "     c1   c2  c3\nr1 -100 -100   3\nr2 -100 -100   6\nr3    7    8   9",
      "text/html": "<div>\n<style scoped>\n    .dataframe tbody tr th:only-of-type {\n        vertical-align: middle;\n    }\n\n    .dataframe tbody tr th {\n        vertical-align: top;\n    }\n\n    .dataframe thead th {\n        text-align: right;\n    }\n</style>\n<table border=\"1\" class=\"dataframe\">\n  <thead>\n    <tr style=\"text-align: right;\">\n      <th></th>\n      <th>c1</th>\n      <th>c2</th>\n      <th>c3</th>\n    </tr>\n  </thead>\n  <tbody>\n    <tr>\n      <th>r1</th>\n      <td>-100</td>\n      <td>-100</td>\n      <td>3</td>\n    </tr>\n    <tr>\n      <th>r2</th>\n      <td>-100</td>\n      <td>-100</td>\n      <td>6</td>\n    </tr>\n    <tr>\n      <th>r3</th>\n      <td>7</td>\n      <td>8</td>\n      <td>9</td>\n    </tr>\n  </tbody>\n</table>\n</div>"
     },
     "execution_count": 178,
     "metadata": {},
     "output_type": "execute_result"
    }
   ],
   "source": [
    "df.loc['r1':'r2', 'c1':'c2'] = -100\n",
    "df\n"
   ],
   "metadata": {
    "collapsed": false,
    "ExecuteTime": {
     "end_time": "2023-11-09T10:27:51.252545Z",
     "start_time": "2023-11-09T10:27:51.206576300Z"
    }
   }
  },
  {
   "cell_type": "code",
   "execution_count": 179,
   "outputs": [],
   "source": [
    "df.loc['r1':'r2', 'c1':'c2'] = [100, 200]\n"
   ],
   "metadata": {
    "collapsed": false,
    "ExecuteTime": {
     "end_time": "2023-11-09T10:28:34.161981600Z",
     "start_time": "2023-11-09T10:28:34.087923600Z"
    }
   }
  },
  {
   "cell_type": "code",
   "execution_count": 180,
   "outputs": [
    {
     "data": {
      "text/plain": "     c1   c2  c3\nr1  100  200   3\nr2  100  200   6\nr3    7    8   9",
      "text/html": "<div>\n<style scoped>\n    .dataframe tbody tr th:only-of-type {\n        vertical-align: middle;\n    }\n\n    .dataframe tbody tr th {\n        vertical-align: top;\n    }\n\n    .dataframe thead th {\n        text-align: right;\n    }\n</style>\n<table border=\"1\" class=\"dataframe\">\n  <thead>\n    <tr style=\"text-align: right;\">\n      <th></th>\n      <th>c1</th>\n      <th>c2</th>\n      <th>c3</th>\n    </tr>\n  </thead>\n  <tbody>\n    <tr>\n      <th>r1</th>\n      <td>100</td>\n      <td>200</td>\n      <td>3</td>\n    </tr>\n    <tr>\n      <th>r2</th>\n      <td>100</td>\n      <td>200</td>\n      <td>6</td>\n    </tr>\n    <tr>\n      <th>r3</th>\n      <td>7</td>\n      <td>8</td>\n      <td>9</td>\n    </tr>\n  </tbody>\n</table>\n</div>"
     },
     "execution_count": 180,
     "metadata": {},
     "output_type": "execute_result"
    }
   ],
   "source": [
    "df"
   ],
   "metadata": {
    "collapsed": false,
    "ExecuteTime": {
     "end_time": "2023-11-09T10:28:49.398902600Z",
     "start_time": "2023-11-09T10:28:49.332840300Z"
    }
   }
  },
  {
   "cell_type": "code",
   "execution_count": 182,
   "outputs": [
    {
     "data": {
      "text/plain": "nan"
     },
     "execution_count": 182,
     "metadata": {},
     "output_type": "execute_result"
    }
   ],
   "source": [
    "float('NaN')"
   ],
   "metadata": {
    "collapsed": false,
    "ExecuteTime": {
     "end_time": "2023-11-09T11:45:36.480133200Z",
     "start_time": "2023-11-09T11:45:36.446100800Z"
    }
   }
  },
  {
   "cell_type": "code",
   "execution_count": 183,
   "outputs": [
    {
     "data": {
      "text/plain": "nan"
     },
     "execution_count": 183,
     "metadata": {},
     "output_type": "execute_result"
    }
   ],
   "source": [
    "float('nan')"
   ],
   "metadata": {
    "collapsed": false,
    "ExecuteTime": {
     "end_time": "2023-11-09T11:45:50.389680500Z",
     "start_time": "2023-11-09T11:45:50.269677200Z"
    }
   }
  },
  {
   "cell_type": "code",
   "execution_count": 184,
   "outputs": [
    {
     "data": {
      "text/plain": "False"
     },
     "execution_count": 184,
     "metadata": {},
     "output_type": "execute_result"
    }
   ],
   "source": [
    "float('nan') == float('NaN')"
   ],
   "metadata": {
    "collapsed": false,
    "ExecuteTime": {
     "end_time": "2023-11-09T11:46:21.427619100Z",
     "start_time": "2023-11-09T11:46:21.312648400Z"
    }
   }
  },
  {
   "cell_type": "code",
   "execution_count": 186,
   "outputs": [
    {
     "data": {
      "text/plain": "True"
     },
     "execution_count": 186,
     "metadata": {},
     "output_type": "execute_result"
    }
   ],
   "source": [
    "import math\n",
    "\n",
    "math.isnan(float('NAN'))"
   ],
   "metadata": {
    "collapsed": false,
    "ExecuteTime": {
     "end_time": "2023-11-09T11:47:10.439658100Z",
     "start_time": "2023-11-09T11:47:10.397614900Z"
    }
   }
  },
  {
   "cell_type": "code",
   "execution_count": 187,
   "outputs": [],
   "source": [
    "a = np.array([1, 2, np.nan, 3, np.nan])"
   ],
   "metadata": {
    "collapsed": false,
    "ExecuteTime": {
     "end_time": "2023-11-09T11:48:01.901549800Z",
     "start_time": "2023-11-09T11:48:01.838543100Z"
    }
   }
  },
  {
   "cell_type": "code",
   "execution_count": 188,
   "outputs": [
    {
     "data": {
      "text/plain": "array([ 1.,  2., nan,  3., nan])"
     },
     "execution_count": 188,
     "metadata": {},
     "output_type": "execute_result"
    }
   ],
   "source": [
    "a"
   ],
   "metadata": {
    "collapsed": false,
    "ExecuteTime": {
     "end_time": "2023-11-09T11:48:04.079329100Z",
     "start_time": "2023-11-09T11:48:04.016330300Z"
    }
   }
  },
  {
   "cell_type": "code",
   "execution_count": 190,
   "outputs": [],
   "source": [
    "s = pd.Series([3.14, 2.5, None, 5])"
   ],
   "metadata": {
    "collapsed": false,
    "ExecuteTime": {
     "end_time": "2023-11-09T11:48:58.828131200Z",
     "start_time": "2023-11-09T11:48:58.793530100Z"
    }
   }
  },
  {
   "cell_type": "code",
   "execution_count": 191,
   "outputs": [
    {
     "data": {
      "text/plain": "0    3.14\n1    2.50\n2     NaN\n3    5.00\ndtype: float64"
     },
     "execution_count": 191,
     "metadata": {},
     "output_type": "execute_result"
    }
   ],
   "source": [
    "s"
   ],
   "metadata": {
    "collapsed": false,
    "ExecuteTime": {
     "end_time": "2023-11-09T11:49:03.507578200Z",
     "start_time": "2023-11-09T11:49:03.443569300Z"
    }
   }
  },
  {
   "cell_type": "code",
   "execution_count": 192,
   "outputs": [
    {
     "data": {
      "text/plain": "numpy.float64"
     },
     "execution_count": 192,
     "metadata": {},
     "output_type": "execute_result"
    }
   ],
   "source": [
    "type(s[2])"
   ],
   "metadata": {
    "collapsed": false,
    "ExecuteTime": {
     "end_time": "2023-11-09T11:49:31.751225200Z",
     "start_time": "2023-11-09T11:49:31.685187900Z"
    }
   }
  },
  {
   "cell_type": "code",
   "execution_count": 193,
   "outputs": [
    {
     "data": {
      "text/plain": "0    1.0\n1    2.0\n2    3.0\n3    NaN\ndtype: float64"
     },
     "execution_count": 193,
     "metadata": {},
     "output_type": "execute_result"
    }
   ],
   "source": [
    "pd.Series([1, 2, 3, None])"
   ],
   "metadata": {
    "collapsed": false,
    "ExecuteTime": {
     "end_time": "2023-11-09T11:50:19.074773600Z",
     "start_time": "2023-11-09T11:50:19.022775200Z"
    }
   }
  },
  {
   "cell_type": "code",
   "execution_count": 198,
   "outputs": [],
   "source": [
    "s = pd.Series(['a', 'b', None, np.nan])\n"
   ],
   "metadata": {
    "collapsed": false,
    "ExecuteTime": {
     "end_time": "2023-11-09T11:52:11.116020800Z",
     "start_time": "2023-11-09T11:52:11.085410100Z"
    }
   }
  },
  {
   "cell_type": "code",
   "execution_count": 199,
   "outputs": [
    {
     "data": {
      "text/plain": "True"
     },
     "execution_count": 199,
     "metadata": {},
     "output_type": "execute_result"
    }
   ],
   "source": [
    "s[2] is None"
   ],
   "metadata": {
    "collapsed": false,
    "ExecuteTime": {
     "end_time": "2023-11-09T11:52:14.656505100Z",
     "start_time": "2023-11-09T11:52:14.624156800Z"
    }
   }
  },
  {
   "cell_type": "code",
   "execution_count": 201,
   "outputs": [
    {
     "data": {
      "text/plain": "False"
     },
     "execution_count": 201,
     "metadata": {},
     "output_type": "execute_result"
    }
   ],
   "source": [
    "s[3] is None"
   ],
   "metadata": {
    "collapsed": false,
    "ExecuteTime": {
     "end_time": "2023-11-09T11:52:51.837307Z",
     "start_time": "2023-11-09T11:52:51.794701300Z"
    }
   }
  },
  {
   "cell_type": "code",
   "execution_count": 202,
   "outputs": [],
   "source": [
    "s = pd.Series(['aaa', 'bbb', None, 'ddd', np.nan], index=list('abcde'))"
   ],
   "metadata": {
    "collapsed": false,
    "ExecuteTime": {
     "end_time": "2023-11-09T11:55:17.553486700Z",
     "start_time": "2023-11-09T11:55:17.478484100Z"
    }
   }
  },
  {
   "cell_type": "code",
   "execution_count": 203,
   "outputs": [
    {
     "data": {
      "text/plain": "a     aaa\nb     bbb\nc    None\nd     ddd\ne     NaN\ndtype: object"
     },
     "execution_count": 203,
     "metadata": {},
     "output_type": "execute_result"
    }
   ],
   "source": [
    "s"
   ],
   "metadata": {
    "collapsed": false,
    "ExecuteTime": {
     "end_time": "2023-11-09T11:55:21.946471400Z",
     "start_time": "2023-11-09T11:55:21.886511Z"
    }
   }
  },
  {
   "cell_type": "code",
   "execution_count": 204,
   "outputs": [
    {
     "data": {
      "text/plain": "a    False\nb    False\nc     True\nd    False\ne     True\ndtype: bool"
     },
     "execution_count": 204,
     "metadata": {},
     "output_type": "execute_result"
    }
   ],
   "source": [
    "pd.isnull(s)"
   ],
   "metadata": {
    "collapsed": false,
    "ExecuteTime": {
     "end_time": "2023-11-09T11:55:37.573250600Z",
     "start_time": "2023-11-09T11:55:37.474258Z"
    }
   }
  },
  {
   "cell_type": "code",
   "execution_count": 205,
   "outputs": [
    {
     "data": {
      "text/plain": "c    None\ne     NaN\ndtype: object"
     },
     "execution_count": 205,
     "metadata": {},
     "output_type": "execute_result"
    }
   ],
   "source": [
    "s[pd.isnull(s)]"
   ],
   "metadata": {
    "collapsed": false,
    "ExecuteTime": {
     "end_time": "2023-11-09T11:56:07.611670300Z",
     "start_time": "2023-11-09T11:56:07.511424800Z"
    }
   }
  },
  {
   "cell_type": "code",
   "execution_count": 206,
   "outputs": [
    {
     "data": {
      "text/plain": "a    aaa\nb    bbb\nd    ddd\ndtype: object"
     },
     "execution_count": 206,
     "metadata": {},
     "output_type": "execute_result"
    }
   ],
   "source": [
    "s[~pd.isnull(s)]"
   ],
   "metadata": {
    "collapsed": false,
    "ExecuteTime": {
     "end_time": "2023-11-09T11:57:05.166171300Z",
     "start_time": "2023-11-09T11:57:05.091424200Z"
    }
   }
  },
  {
   "cell_type": "code",
   "execution_count": 210,
   "outputs": [
    {
     "data": {
      "text/plain": "a    aaa\nb    bbb\nd    ddd\ndtype: object"
     },
     "execution_count": 210,
     "metadata": {},
     "output_type": "execute_result"
    }
   ],
   "source": [
    "s[pd.notnull(s)]"
   ],
   "metadata": {
    "collapsed": false,
    "ExecuteTime": {
     "end_time": "2023-11-09T11:58:16.728797Z",
     "start_time": "2023-11-09T11:58:16.680058600Z"
    }
   }
  },
  {
   "cell_type": "code",
   "execution_count": 211,
   "outputs": [
    {
     "data": {
      "text/plain": "a    aaa\nb    bbb\nd    ddd\ndtype: object"
     },
     "execution_count": 211,
     "metadata": {},
     "output_type": "execute_result"
    }
   ],
   "source": [
    "s.dropna()"
   ],
   "metadata": {
    "collapsed": false,
    "ExecuteTime": {
     "end_time": "2023-11-09T11:58:32.878210300Z",
     "start_time": "2023-11-09T11:58:32.801226Z"
    }
   }
  },
  {
   "cell_type": "code",
   "execution_count": 212,
   "outputs": [
    {
     "data": {
      "text/plain": "a     aaa\nb     bbb\nc    None\nd     ddd\ne     NaN\ndtype: object"
     },
     "execution_count": 212,
     "metadata": {},
     "output_type": "execute_result"
    }
   ],
   "source": [
    "s"
   ],
   "metadata": {
    "collapsed": false,
    "ExecuteTime": {
     "end_time": "2023-11-09T11:58:41.750845400Z",
     "start_time": "2023-11-09T11:58:41.667841900Z"
    }
   }
  },
  {
   "cell_type": "code",
   "execution_count": 215,
   "outputs": [
    {
     "data": {
      "text/plain": "a        aaa\nb        bbb\nc    missing\nd        ddd\ne    missing\ndtype: object"
     },
     "execution_count": 215,
     "metadata": {},
     "output_type": "execute_result"
    }
   ],
   "source": [
    "s.fillna('missing')"
   ],
   "metadata": {
    "collapsed": false,
    "ExecuteTime": {
     "end_time": "2023-11-09T11:59:36.480157100Z",
     "start_time": "2023-11-09T11:59:36.449246800Z"
    }
   }
  },
  {
   "cell_type": "code",
   "execution_count": 216,
   "outputs": [
    {
     "data": {
      "text/plain": "a    aaa\nb    bbb\nc    bbb\nd    ddd\ne    ddd\ndtype: object"
     },
     "execution_count": 216,
     "metadata": {},
     "output_type": "execute_result"
    }
   ],
   "source": [
    "s.fillna(method='ffill')"
   ],
   "metadata": {
    "collapsed": false,
    "ExecuteTime": {
     "end_time": "2023-11-09T12:00:29.319121800Z",
     "start_time": "2023-11-09T12:00:29.190120800Z"
    }
   }
  },
  {
   "cell_type": "code",
   "execution_count": 217,
   "outputs": [
    {
     "data": {
      "text/plain": "a    aaa\nb    bbb\nc    ddd\nd    ddd\ne    NaN\ndtype: object"
     },
     "execution_count": 217,
     "metadata": {},
     "output_type": "execute_result"
    }
   ],
   "source": [
    "s.fillna(method='bfill')"
   ],
   "metadata": {
    "collapsed": false,
    "ExecuteTime": {
     "end_time": "2023-11-09T12:00:51.521376200Z",
     "start_time": "2023-11-09T12:00:51.442344300Z"
    }
   }
  },
  {
   "cell_type": "code",
   "execution_count": 218,
   "outputs": [
    {
     "data": {
      "text/plain": "a    aaa\nb    bbb\nc    bbb\nd    ddd\ne    ddd\ndtype: object"
     },
     "execution_count": 218,
     "metadata": {},
     "output_type": "execute_result"
    }
   ],
   "source": [
    "s.fillna(method='ffill').fillna(method='bfill')"
   ],
   "metadata": {
    "collapsed": false,
    "ExecuteTime": {
     "end_time": "2023-11-09T12:02:09.662144Z",
     "start_time": "2023-11-09T12:02:09.509141500Z"
    }
   }
  },
  {
   "cell_type": "code",
   "execution_count": 219,
   "outputs": [],
   "source": [
    "s=pd.Series([1,2,None,4,None,7])"
   ],
   "metadata": {
    "collapsed": false,
    "ExecuteTime": {
     "end_time": "2023-11-09T12:03:54.272816300Z",
     "start_time": "2023-11-09T12:03:54.160815400Z"
    }
   }
  },
  {
   "cell_type": "code",
   "execution_count": 220,
   "outputs": [
    {
     "data": {
      "text/plain": "0    1.0\n1    2.0\n2    NaN\n3    4.0\n4    NaN\n5    7.0\ndtype: float64"
     },
     "execution_count": 220,
     "metadata": {},
     "output_type": "execute_result"
    }
   ],
   "source": [
    "s"
   ],
   "metadata": {
    "collapsed": false,
    "ExecuteTime": {
     "end_time": "2023-11-09T12:04:03.067534200Z",
     "start_time": "2023-11-09T12:04:03.001164500Z"
    }
   }
  },
  {
   "cell_type": "code",
   "execution_count": 221,
   "outputs": [
    {
     "data": {
      "text/plain": "0    1.0\n1    2.0\n2    3.0\n3    4.0\n4    5.5\n5    7.0\ndtype: float64"
     },
     "execution_count": 221,
     "metadata": {},
     "output_type": "execute_result"
    }
   ],
   "source": [
    "s.interpolate(method='linear')"
   ],
   "metadata": {
    "collapsed": false,
    "ExecuteTime": {
     "end_time": "2023-11-09T12:04:22.136097300Z",
     "start_time": "2023-11-09T12:04:22.070096700Z"
    }
   }
  },
  {
   "cell_type": "code",
   "execution_count": 222,
   "outputs": [],
   "source": [
    "d = {\n",
    "    'col1': {'row1': 1, 'row2': 10, 'row3': 100, 'row4': 1000, 'row5': 10000},\n",
    "    'col2': {'row1': 2, 'row2': None, 'row3': None, 'row4': 2000, 'row5': 20000},\n",
    "    'col3': {'row1': 3, 'row2': 30, 'row3': 300, 'row4': None, 'row5': 40000},\n",
    "    'col4': {'row1': 4, 'row2': 40, 'row3': 400, 'row4': 4000, 'row5': 40000}\n",
    "}"
   ],
   "metadata": {
    "collapsed": false,
    "ExecuteTime": {
     "end_time": "2023-11-09T12:05:49.776446700Z",
     "start_time": "2023-11-09T12:05:49.692409200Z"
    }
   }
  },
  {
   "cell_type": "code",
   "execution_count": 223,
   "outputs": [],
   "source": [
    "df = pd.DataFrame(d)"
   ],
   "metadata": {
    "collapsed": false,
    "ExecuteTime": {
     "end_time": "2023-11-09T12:09:12.839934400Z",
     "start_time": "2023-11-09T12:09:12.736944300Z"
    }
   }
  },
  {
   "cell_type": "code",
   "execution_count": 224,
   "outputs": [
    {
     "data": {
      "text/plain": "       col1     col2     col3   col4\nrow1      1      2.0      3.0      4\nrow2     10      NaN     30.0     40\nrow3    100      NaN    300.0    400\nrow4   1000   2000.0      NaN   4000\nrow5  10000  20000.0  40000.0  40000",
      "text/html": "<div>\n<style scoped>\n    .dataframe tbody tr th:only-of-type {\n        vertical-align: middle;\n    }\n\n    .dataframe tbody tr th {\n        vertical-align: top;\n    }\n\n    .dataframe thead th {\n        text-align: right;\n    }\n</style>\n<table border=\"1\" class=\"dataframe\">\n  <thead>\n    <tr style=\"text-align: right;\">\n      <th></th>\n      <th>col1</th>\n      <th>col2</th>\n      <th>col3</th>\n      <th>col4</th>\n    </tr>\n  </thead>\n  <tbody>\n    <tr>\n      <th>row1</th>\n      <td>1</td>\n      <td>2.0</td>\n      <td>3.0</td>\n      <td>4</td>\n    </tr>\n    <tr>\n      <th>row2</th>\n      <td>10</td>\n      <td>NaN</td>\n      <td>30.0</td>\n      <td>40</td>\n    </tr>\n    <tr>\n      <th>row3</th>\n      <td>100</td>\n      <td>NaN</td>\n      <td>300.0</td>\n      <td>400</td>\n    </tr>\n    <tr>\n      <th>row4</th>\n      <td>1000</td>\n      <td>2000.0</td>\n      <td>NaN</td>\n      <td>4000</td>\n    </tr>\n    <tr>\n      <th>row5</th>\n      <td>10000</td>\n      <td>20000.0</td>\n      <td>40000.0</td>\n      <td>40000</td>\n    </tr>\n  </tbody>\n</table>\n</div>"
     },
     "execution_count": 224,
     "metadata": {},
     "output_type": "execute_result"
    }
   ],
   "source": [
    "df"
   ],
   "metadata": {
    "collapsed": false,
    "ExecuteTime": {
     "end_time": "2023-11-09T12:09:24.623094800Z",
     "start_time": "2023-11-09T12:09:24.527087200Z"
    }
   }
  },
  {
   "cell_type": "code",
   "execution_count": 226,
   "outputs": [
    {
     "data": {
      "text/plain": "       col1   col2   col3   col4\nrow1  False  False  False  False\nrow2  False   True  False  False\nrow3  False   True  False  False\nrow4  False  False   True  False\nrow5  False  False  False  False",
      "text/html": "<div>\n<style scoped>\n    .dataframe tbody tr th:only-of-type {\n        vertical-align: middle;\n    }\n\n    .dataframe tbody tr th {\n        vertical-align: top;\n    }\n\n    .dataframe thead th {\n        text-align: right;\n    }\n</style>\n<table border=\"1\" class=\"dataframe\">\n  <thead>\n    <tr style=\"text-align: right;\">\n      <th></th>\n      <th>col1</th>\n      <th>col2</th>\n      <th>col3</th>\n      <th>col4</th>\n    </tr>\n  </thead>\n  <tbody>\n    <tr>\n      <th>row1</th>\n      <td>False</td>\n      <td>False</td>\n      <td>False</td>\n      <td>False</td>\n    </tr>\n    <tr>\n      <th>row2</th>\n      <td>False</td>\n      <td>True</td>\n      <td>False</td>\n      <td>False</td>\n    </tr>\n    <tr>\n      <th>row3</th>\n      <td>False</td>\n      <td>True</td>\n      <td>False</td>\n      <td>False</td>\n    </tr>\n    <tr>\n      <th>row4</th>\n      <td>False</td>\n      <td>False</td>\n      <td>True</td>\n      <td>False</td>\n    </tr>\n    <tr>\n      <th>row5</th>\n      <td>False</td>\n      <td>False</td>\n      <td>False</td>\n      <td>False</td>\n    </tr>\n  </tbody>\n</table>\n</div>"
     },
     "execution_count": 226,
     "metadata": {},
     "output_type": "execute_result"
    }
   ],
   "source": [
    "df.isnull()"
   ],
   "metadata": {
    "collapsed": false,
    "ExecuteTime": {
     "end_time": "2023-11-09T12:09:55.048255Z",
     "start_time": "2023-11-09T12:09:54.991163700Z"
    }
   }
  },
  {
   "cell_type": "code",
   "execution_count": 227,
   "outputs": [
    {
     "data": {
      "text/plain": "       col1     col2     col3   col4\nrow1      1      2.0      3.0      4\nrow2     10      0.0     30.0     40\nrow3    100      0.0    300.0    400\nrow4   1000   2000.0      0.0   4000\nrow5  10000  20000.0  40000.0  40000",
      "text/html": "<div>\n<style scoped>\n    .dataframe tbody tr th:only-of-type {\n        vertical-align: middle;\n    }\n\n    .dataframe tbody tr th {\n        vertical-align: top;\n    }\n\n    .dataframe thead th {\n        text-align: right;\n    }\n</style>\n<table border=\"1\" class=\"dataframe\">\n  <thead>\n    <tr style=\"text-align: right;\">\n      <th></th>\n      <th>col1</th>\n      <th>col2</th>\n      <th>col3</th>\n      <th>col4</th>\n    </tr>\n  </thead>\n  <tbody>\n    <tr>\n      <th>row1</th>\n      <td>1</td>\n      <td>2.0</td>\n      <td>3.0</td>\n      <td>4</td>\n    </tr>\n    <tr>\n      <th>row2</th>\n      <td>10</td>\n      <td>0.0</td>\n      <td>30.0</td>\n      <td>40</td>\n    </tr>\n    <tr>\n      <th>row3</th>\n      <td>100</td>\n      <td>0.0</td>\n      <td>300.0</td>\n      <td>400</td>\n    </tr>\n    <tr>\n      <th>row4</th>\n      <td>1000</td>\n      <td>2000.0</td>\n      <td>0.0</td>\n      <td>4000</td>\n    </tr>\n    <tr>\n      <th>row5</th>\n      <td>10000</td>\n      <td>20000.0</td>\n      <td>40000.0</td>\n      <td>40000</td>\n    </tr>\n  </tbody>\n</table>\n</div>"
     },
     "execution_count": 227,
     "metadata": {},
     "output_type": "execute_result"
    }
   ],
   "source": [
    "df.fillna(0)"
   ],
   "metadata": {
    "collapsed": false,
    "ExecuteTime": {
     "end_time": "2023-11-09T12:10:41.333516Z",
     "start_time": "2023-11-09T12:10:41.264515500Z"
    }
   }
  },
  {
   "cell_type": "code",
   "execution_count": 228,
   "outputs": [
    {
     "name": "stdout",
     "output_type": "stream",
     "text": [
      "       col1     col2     col3   col4\n",
      "row1      1      2.0      3.0      4\n",
      "row2     10      NaN     30.0     40\n",
      "row3    100      NaN    300.0    400\n",
      "row4   1000   2000.0      NaN   4000\n",
      "row5  10000  20000.0  40000.0  40000\n"
     ]
    },
    {
     "data": {
      "text/plain": "       col1     col2     col3   col4\nrow1      1      2.0      3.0      4\nrow2     10      2.0     30.0     40\nrow3    100      2.0    300.0    400\nrow4   1000   2000.0    300.0   4000\nrow5  10000  20000.0  40000.0  40000",
      "text/html": "<div>\n<style scoped>\n    .dataframe tbody tr th:only-of-type {\n        vertical-align: middle;\n    }\n\n    .dataframe tbody tr th {\n        vertical-align: top;\n    }\n\n    .dataframe thead th {\n        text-align: right;\n    }\n</style>\n<table border=\"1\" class=\"dataframe\">\n  <thead>\n    <tr style=\"text-align: right;\">\n      <th></th>\n      <th>col1</th>\n      <th>col2</th>\n      <th>col3</th>\n      <th>col4</th>\n    </tr>\n  </thead>\n  <tbody>\n    <tr>\n      <th>row1</th>\n      <td>1</td>\n      <td>2.0</td>\n      <td>3.0</td>\n      <td>4</td>\n    </tr>\n    <tr>\n      <th>row2</th>\n      <td>10</td>\n      <td>2.0</td>\n      <td>30.0</td>\n      <td>40</td>\n    </tr>\n    <tr>\n      <th>row3</th>\n      <td>100</td>\n      <td>2.0</td>\n      <td>300.0</td>\n      <td>400</td>\n    </tr>\n    <tr>\n      <th>row4</th>\n      <td>1000</td>\n      <td>2000.0</td>\n      <td>300.0</td>\n      <td>4000</td>\n    </tr>\n    <tr>\n      <th>row5</th>\n      <td>10000</td>\n      <td>20000.0</td>\n      <td>40000.0</td>\n      <td>40000</td>\n    </tr>\n  </tbody>\n</table>\n</div>"
     },
     "execution_count": 228,
     "metadata": {},
     "output_type": "execute_result"
    }
   ],
   "source": [
    "print(df)\n",
    "df.fillna(method='ffill')"
   ],
   "metadata": {
    "collapsed": false,
    "ExecuteTime": {
     "end_time": "2023-11-09T12:12:42.609442300Z",
     "start_time": "2023-11-09T12:12:42.500441100Z"
    }
   }
  },
  {
   "cell_type": "code",
   "execution_count": 230,
   "outputs": [
    {
     "name": "stdout",
     "output_type": "stream",
     "text": [
      "       col1     col2     col3   col4\n",
      "row1      1      2.0      3.0      4\n",
      "row2     10      NaN     30.0     40\n",
      "row3    100      NaN    300.0    400\n",
      "row4   1000   2000.0      NaN   4000\n",
      "row5  10000  20000.0  40000.0  40000\n"
     ]
    },
    {
     "data": {
      "text/plain": "         col1     col2     col3     col4\nrow1      1.0      2.0      3.0      4.0\nrow2     10.0     10.0     30.0     40.0\nrow3    100.0    100.0    300.0    400.0\nrow4   1000.0   2000.0   2000.0   4000.0\nrow5  10000.0  20000.0  40000.0  40000.0",
      "text/html": "<div>\n<style scoped>\n    .dataframe tbody tr th:only-of-type {\n        vertical-align: middle;\n    }\n\n    .dataframe tbody tr th {\n        vertical-align: top;\n    }\n\n    .dataframe thead th {\n        text-align: right;\n    }\n</style>\n<table border=\"1\" class=\"dataframe\">\n  <thead>\n    <tr style=\"text-align: right;\">\n      <th></th>\n      <th>col1</th>\n      <th>col2</th>\n      <th>col3</th>\n      <th>col4</th>\n    </tr>\n  </thead>\n  <tbody>\n    <tr>\n      <th>row1</th>\n      <td>1.0</td>\n      <td>2.0</td>\n      <td>3.0</td>\n      <td>4.0</td>\n    </tr>\n    <tr>\n      <th>row2</th>\n      <td>10.0</td>\n      <td>10.0</td>\n      <td>30.0</td>\n      <td>40.0</td>\n    </tr>\n    <tr>\n      <th>row3</th>\n      <td>100.0</td>\n      <td>100.0</td>\n      <td>300.0</td>\n      <td>400.0</td>\n    </tr>\n    <tr>\n      <th>row4</th>\n      <td>1000.0</td>\n      <td>2000.0</td>\n      <td>2000.0</td>\n      <td>4000.0</td>\n    </tr>\n    <tr>\n      <th>row5</th>\n      <td>10000.0</td>\n      <td>20000.0</td>\n      <td>40000.0</td>\n      <td>40000.0</td>\n    </tr>\n  </tbody>\n</table>\n</div>"
     },
     "execution_count": 230,
     "metadata": {},
     "output_type": "execute_result"
    }
   ],
   "source": [
    "print(df)\n",
    "df.fillna(method='ffill', axis=1)\n"
   ],
   "metadata": {
    "collapsed": false,
    "ExecuteTime": {
     "end_time": "2023-11-09T12:13:20.080556900Z",
     "start_time": "2023-11-09T12:13:20.036124Z"
    }
   }
  },
  {
   "cell_type": "code",
   "execution_count": 231,
   "outputs": [
    {
     "name": "stdout",
     "output_type": "stream",
     "text": [
      "       col1     col2     col3   col4\n",
      "row1      1      2.0      3.0      4\n",
      "row2     10      NaN     30.0     40\n",
      "row3    100      NaN    300.0    400\n",
      "row4   1000   2000.0      NaN   4000\n",
      "row5  10000  20000.0  40000.0  40000\n"
     ]
    },
    {
     "data": {
      "text/plain": "       col1     col2     col3   col4\nrow1      1      2.0      3.0      4\nrow2     10    668.0     30.0     40\nrow3    100   1334.0    300.0    400\nrow4   1000   2000.0  20150.0   4000\nrow5  10000  20000.0  40000.0  40000",
      "text/html": "<div>\n<style scoped>\n    .dataframe tbody tr th:only-of-type {\n        vertical-align: middle;\n    }\n\n    .dataframe tbody tr th {\n        vertical-align: top;\n    }\n\n    .dataframe thead th {\n        text-align: right;\n    }\n</style>\n<table border=\"1\" class=\"dataframe\">\n  <thead>\n    <tr style=\"text-align: right;\">\n      <th></th>\n      <th>col1</th>\n      <th>col2</th>\n      <th>col3</th>\n      <th>col4</th>\n    </tr>\n  </thead>\n  <tbody>\n    <tr>\n      <th>row1</th>\n      <td>1</td>\n      <td>2.0</td>\n      <td>3.0</td>\n      <td>4</td>\n    </tr>\n    <tr>\n      <th>row2</th>\n      <td>10</td>\n      <td>668.0</td>\n      <td>30.0</td>\n      <td>40</td>\n    </tr>\n    <tr>\n      <th>row3</th>\n      <td>100</td>\n      <td>1334.0</td>\n      <td>300.0</td>\n      <td>400</td>\n    </tr>\n    <tr>\n      <th>row4</th>\n      <td>1000</td>\n      <td>2000.0</td>\n      <td>20150.0</td>\n      <td>4000</td>\n    </tr>\n    <tr>\n      <th>row5</th>\n      <td>10000</td>\n      <td>20000.0</td>\n      <td>40000.0</td>\n      <td>40000</td>\n    </tr>\n  </tbody>\n</table>\n</div>"
     },
     "execution_count": 231,
     "metadata": {},
     "output_type": "execute_result"
    }
   ],
   "source": [
    "print(df)\n",
    "df.interpolate(method='linear')\n"
   ],
   "metadata": {
    "collapsed": false,
    "ExecuteTime": {
     "end_time": "2023-11-09T12:14:22.395388600Z",
     "start_time": "2023-11-09T12:14:22.299689Z"
    }
   }
  },
  {
   "cell_type": "code",
   "execution_count": 234,
   "outputs": [
    {
     "name": "stdout",
     "output_type": "stream",
     "text": [
      "       col1     col2     col3   col4\n",
      "row1      1      2.0      3.0      4\n",
      "row2     10      NaN     30.0     40\n",
      "row3    100      NaN    300.0    400\n",
      "row4   1000   2000.0      NaN   4000\n",
      "row5  10000  20000.0  40000.0  40000\n"
     ]
    },
    {
     "data": {
      "text/plain": "       col1     col2     col3   col4\nrow1      1      2.0      3.0      4\nrow2     10    668.0     30.0     40\nrow3    100   1334.0    300.0    400\nrow4   1000   2000.0  20150.0   4000\nrow5  10000  20000.0  40000.0  40000",
      "text/html": "<div>\n<style scoped>\n    .dataframe tbody tr th:only-of-type {\n        vertical-align: middle;\n    }\n\n    .dataframe tbody tr th {\n        vertical-align: top;\n    }\n\n    .dataframe thead th {\n        text-align: right;\n    }\n</style>\n<table border=\"1\" class=\"dataframe\">\n  <thead>\n    <tr style=\"text-align: right;\">\n      <th></th>\n      <th>col1</th>\n      <th>col2</th>\n      <th>col3</th>\n      <th>col4</th>\n    </tr>\n  </thead>\n  <tbody>\n    <tr>\n      <th>row1</th>\n      <td>1</td>\n      <td>2.0</td>\n      <td>3.0</td>\n      <td>4</td>\n    </tr>\n    <tr>\n      <th>row2</th>\n      <td>10</td>\n      <td>668.0</td>\n      <td>30.0</td>\n      <td>40</td>\n    </tr>\n    <tr>\n      <th>row3</th>\n      <td>100</td>\n      <td>1334.0</td>\n      <td>300.0</td>\n      <td>400</td>\n    </tr>\n    <tr>\n      <th>row4</th>\n      <td>1000</td>\n      <td>2000.0</td>\n      <td>20150.0</td>\n      <td>4000</td>\n    </tr>\n    <tr>\n      <th>row5</th>\n      <td>10000</td>\n      <td>20000.0</td>\n      <td>40000.0</td>\n      <td>40000</td>\n    </tr>\n  </tbody>\n</table>\n</div>"
     },
     "execution_count": 234,
     "metadata": {},
     "output_type": "execute_result"
    }
   ],
   "source": [
    "print(df)\n",
    "df.interpolate(\n",
    "    method='linear'\n",
    ")"
   ],
   "metadata": {
    "collapsed": false,
    "ExecuteTime": {
     "end_time": "2023-11-09T12:29:29.959282Z",
     "start_time": "2023-11-09T12:29:29.918755Z"
    }
   }
  },
  {
   "cell_type": "code",
   "execution_count": 234,
   "outputs": [],
   "source": [],
   "metadata": {
    "collapsed": false,
    "ExecuteTime": {
     "end_time": "2023-11-09T12:29:30.445234600Z",
     "start_time": "2023-11-09T12:29:30.347231200Z"
    }
   }
  },
  {
   "cell_type": "code",
   "execution_count": 235,
   "outputs": [
    {
     "name": "stdout",
     "output_type": "stream",
     "text": [
      "       col1     col2     col3   col4\n",
      "row1      1      2.0      3.0      4\n",
      "row2     10      NaN     30.0     40\n",
      "row3    100      NaN    300.0    400\n",
      "row4   1000   2000.0      NaN   4000\n",
      "row5  10000  20000.0  40000.0  40000\n"
     ]
    },
    {
     "data": {
      "text/plain": "       col1     col2     col3   col4\nrow1      1      2.0      3.0      4\nrow5  10000  20000.0  40000.0  40000",
      "text/html": "<div>\n<style scoped>\n    .dataframe tbody tr th:only-of-type {\n        vertical-align: middle;\n    }\n\n    .dataframe tbody tr th {\n        vertical-align: top;\n    }\n\n    .dataframe thead th {\n        text-align: right;\n    }\n</style>\n<table border=\"1\" class=\"dataframe\">\n  <thead>\n    <tr style=\"text-align: right;\">\n      <th></th>\n      <th>col1</th>\n      <th>col2</th>\n      <th>col3</th>\n      <th>col4</th>\n    </tr>\n  </thead>\n  <tbody>\n    <tr>\n      <th>row1</th>\n      <td>1</td>\n      <td>2.0</td>\n      <td>3.0</td>\n      <td>4</td>\n    </tr>\n    <tr>\n      <th>row5</th>\n      <td>10000</td>\n      <td>20000.0</td>\n      <td>40000.0</td>\n      <td>40000</td>\n    </tr>\n  </tbody>\n</table>\n</div>"
     },
     "execution_count": 235,
     "metadata": {},
     "output_type": "execute_result"
    }
   ],
   "source": [
    "print(df)\n",
    "df.dropna()"
   ],
   "metadata": {
    "collapsed": false,
    "ExecuteTime": {
     "end_time": "2023-11-09T12:29:52.075045600Z",
     "start_time": "2023-11-09T12:29:51.969042400Z"
    }
   }
  },
  {
   "cell_type": "code",
   "execution_count": 236,
   "outputs": [
    {
     "name": "stdout",
     "output_type": "stream",
     "text": [
      "       col1     col2     col3   col4\n",
      "row1      1      2.0      3.0      4\n",
      "row2     10      NaN     30.0     40\n",
      "row3    100      NaN    300.0    400\n",
      "row4   1000   2000.0      NaN   4000\n",
      "row5  10000  20000.0  40000.0  40000\n"
     ]
    },
    {
     "data": {
      "text/plain": "       col1   col4\nrow1      1      4\nrow2     10     40\nrow3    100    400\nrow4   1000   4000\nrow5  10000  40000",
      "text/html": "<div>\n<style scoped>\n    .dataframe tbody tr th:only-of-type {\n        vertical-align: middle;\n    }\n\n    .dataframe tbody tr th {\n        vertical-align: top;\n    }\n\n    .dataframe thead th {\n        text-align: right;\n    }\n</style>\n<table border=\"1\" class=\"dataframe\">\n  <thead>\n    <tr style=\"text-align: right;\">\n      <th></th>\n      <th>col1</th>\n      <th>col4</th>\n    </tr>\n  </thead>\n  <tbody>\n    <tr>\n      <th>row1</th>\n      <td>1</td>\n      <td>4</td>\n    </tr>\n    <tr>\n      <th>row2</th>\n      <td>10</td>\n      <td>40</td>\n    </tr>\n    <tr>\n      <th>row3</th>\n      <td>100</td>\n      <td>400</td>\n    </tr>\n    <tr>\n      <th>row4</th>\n      <td>1000</td>\n      <td>4000</td>\n    </tr>\n    <tr>\n      <th>row5</th>\n      <td>10000</td>\n      <td>40000</td>\n    </tr>\n  </tbody>\n</table>\n</div>"
     },
     "execution_count": 236,
     "metadata": {},
     "output_type": "execute_result"
    }
   ],
   "source": [
    "print(df)\n",
    "df.dropna(axis=1)\n"
   ],
   "metadata": {
    "collapsed": false,
    "ExecuteTime": {
     "end_time": "2023-11-09T12:30:22.702749Z",
     "start_time": "2023-11-09T12:30:22.639781100Z"
    }
   }
  },
  {
   "cell_type": "code",
   "execution_count": 239,
   "outputs": [
    {
     "name": "stdout",
     "output_type": "stream",
     "text": [
      "['Geographic Area', 'July 1, 2001 Estimate', 'July 1, 2000 Estimate', 'April 1, 2000 Population Estimates Base']\n",
      "['United States', '284796887', '282124631', '281421906']\n",
      "['Alabama', '4464356', '4451493', '4447100']\n"
     ]
    }
   ],
   "source": [
    "from csv import reader\n",
    "with open('populations.csv') as f:\n",
    "    data = reader(f)\n",
    "    print(next(data))\n",
    "    print(next(data))\n",
    "    print(next(data))\n",
    "\n"
   ],
   "metadata": {
    "collapsed": false,
    "ExecuteTime": {
     "end_time": "2023-11-09T12:45:03.945851600Z",
     "start_time": "2023-11-09T12:45:03.906862800Z"
    }
   }
  },
  {
   "cell_type": "code",
   "execution_count": 240,
   "outputs": [],
   "source": [
    "df = pd.read_csv('populations.csv')"
   ],
   "metadata": {
    "collapsed": false,
    "ExecuteTime": {
     "end_time": "2023-11-09T12:45:55.699481300Z",
     "start_time": "2023-11-09T12:45:55.540739200Z"
    }
   }
  },
  {
   "cell_type": "code",
   "execution_count": 241,
   "outputs": [
    {
     "data": {
      "text/plain": "         Geographic Area  July 1, 2001 Estimate  July 1, 2000 Estimate  \\\n0          United States              284796887              282124631   \n1                Alabama                4464356                4451493   \n2                 Alaska                 634892                 627601   \n3                Arizona                5307331                5165274   \n4               Arkansas                2692090                2678030   \n5             California               34501130               34000446   \n6               Colorado                4417714                4323410   \n7            Connecticut                3425074                3410079   \n8               Delaware                 796165                 786234   \n9   District of Columbia                 571822                 571066   \n10               Florida               16396515               16054328   \n11               Georgia                8383915                8229823   \n12                Hawaii                1224398                1212281   \n13                 Idaho                1321006                1299258   \n14              Illinois               12482301               12435970   \n15               Indiana                6114745                6089950   \n16                  Iowa                2923179                2927509   \n17                Kansas                2694641                2691750   \n18              Kentucky                4065556                4047424   \n19             Louisiana                4465430                4469970   \n20                 Maine                1286670                1276961   \n21              Maryland                5375156                5310908   \n22         Massachusetts                6379304                6357072   \n23              Michigan                9990817                9952006   \n24             Minnesota                4972294                4931093   \n25           Mississippi                2858029                2849100   \n26              Missouri                5629707                5603553   \n27               Montana                 904433                 903157   \n28              Nebraska                1713235                1712577   \n29                Nevada                2106074                2018723   \n30         New Hampshire                1259181                1239881   \n31            New Jersey                8484431                8429007   \n32            New Mexico                1829146                1821282   \n33              New York               19011378               18989332   \n34        North Carolina                8186268                8077367   \n35          North Dakota                 634448                 640919   \n36                  Ohio               11373541               11359955   \n37              Oklahoma                3460097                3453250   \n38                Oregon                3472867                3429293   \n39          Pennsylvania               12287150               12282591   \n40          Rhode Island                1058920                1050236   \n41        South Carolina                4063011                4023438   \n42          South Dakota                 756600                 755509   \n43             Tennessee                5740021                5702027   \n44                 Texas               21325018               20946503   \n45                  Utah                2269789                2241555   \n46               Vermont                 613090                 609709   \n47              Virginia                7187734                7104016   \n48            Washington                5987973                5908372   \n49         West Virginia                1801916                1807099   \n50             Wisconsin                5401906                5372243   \n51               Wyoming                 494423                 494001   \n\n    April 1, 2000 Population Estimates Base  \n0                                 281421906  \n1                                   4447100  \n2                                    626932  \n3                                   5130632  \n4                                   2673400  \n5                                  33871648  \n6                                   4301261  \n7                                   3405565  \n8                                    783600  \n9                                    572059  \n10                                 15982378  \n11                                  8186453  \n12                                  1211537  \n13                                  1293953  \n14                                 12419293  \n15                                  6080485  \n16                                  2926324  \n17                                  2688418  \n18                                  4041769  \n19                                  4468976  \n20                                  1274923  \n21                                  5296486  \n22                                  6349097  \n23                                  9938444  \n24                                  4919479  \n25                                  2844658  \n26                                  5595211  \n27                                   902195  \n28                                  1711263  \n29                                  1998257  \n30                                  1235786  \n31                                  8414350  \n32                                  1819046  \n33                                 18976457  \n34                                  8049313  \n35                                   642200  \n36                                 11353140  \n37                                  3450654  \n38                                  3421399  \n39                                 12281054  \n40                                  1048319  \n41                                  4012012  \n42                                   754844  \n43                                  5689283  \n44                                 20851820  \n45                                  2233169  \n46                                   608827  \n47                                  7078515  \n48                                  5894121  \n49                                  1808344  \n50                                  5363675  \n51                                   493782  ",
      "text/html": "<div>\n<style scoped>\n    .dataframe tbody tr th:only-of-type {\n        vertical-align: middle;\n    }\n\n    .dataframe tbody tr th {\n        vertical-align: top;\n    }\n\n    .dataframe thead th {\n        text-align: right;\n    }\n</style>\n<table border=\"1\" class=\"dataframe\">\n  <thead>\n    <tr style=\"text-align: right;\">\n      <th></th>\n      <th>Geographic Area</th>\n      <th>July 1, 2001 Estimate</th>\n      <th>July 1, 2000 Estimate</th>\n      <th>April 1, 2000 Population Estimates Base</th>\n    </tr>\n  </thead>\n  <tbody>\n    <tr>\n      <th>0</th>\n      <td>United States</td>\n      <td>284796887</td>\n      <td>282124631</td>\n      <td>281421906</td>\n    </tr>\n    <tr>\n      <th>1</th>\n      <td>Alabama</td>\n      <td>4464356</td>\n      <td>4451493</td>\n      <td>4447100</td>\n    </tr>\n    <tr>\n      <th>2</th>\n      <td>Alaska</td>\n      <td>634892</td>\n      <td>627601</td>\n      <td>626932</td>\n    </tr>\n    <tr>\n      <th>3</th>\n      <td>Arizona</td>\n      <td>5307331</td>\n      <td>5165274</td>\n      <td>5130632</td>\n    </tr>\n    <tr>\n      <th>4</th>\n      <td>Arkansas</td>\n      <td>2692090</td>\n      <td>2678030</td>\n      <td>2673400</td>\n    </tr>\n    <tr>\n      <th>5</th>\n      <td>California</td>\n      <td>34501130</td>\n      <td>34000446</td>\n      <td>33871648</td>\n    </tr>\n    <tr>\n      <th>6</th>\n      <td>Colorado</td>\n      <td>4417714</td>\n      <td>4323410</td>\n      <td>4301261</td>\n    </tr>\n    <tr>\n      <th>7</th>\n      <td>Connecticut</td>\n      <td>3425074</td>\n      <td>3410079</td>\n      <td>3405565</td>\n    </tr>\n    <tr>\n      <th>8</th>\n      <td>Delaware</td>\n      <td>796165</td>\n      <td>786234</td>\n      <td>783600</td>\n    </tr>\n    <tr>\n      <th>9</th>\n      <td>District of Columbia</td>\n      <td>571822</td>\n      <td>571066</td>\n      <td>572059</td>\n    </tr>\n    <tr>\n      <th>10</th>\n      <td>Florida</td>\n      <td>16396515</td>\n      <td>16054328</td>\n      <td>15982378</td>\n    </tr>\n    <tr>\n      <th>11</th>\n      <td>Georgia</td>\n      <td>8383915</td>\n      <td>8229823</td>\n      <td>8186453</td>\n    </tr>\n    <tr>\n      <th>12</th>\n      <td>Hawaii</td>\n      <td>1224398</td>\n      <td>1212281</td>\n      <td>1211537</td>\n    </tr>\n    <tr>\n      <th>13</th>\n      <td>Idaho</td>\n      <td>1321006</td>\n      <td>1299258</td>\n      <td>1293953</td>\n    </tr>\n    <tr>\n      <th>14</th>\n      <td>Illinois</td>\n      <td>12482301</td>\n      <td>12435970</td>\n      <td>12419293</td>\n    </tr>\n    <tr>\n      <th>15</th>\n      <td>Indiana</td>\n      <td>6114745</td>\n      <td>6089950</td>\n      <td>6080485</td>\n    </tr>\n    <tr>\n      <th>16</th>\n      <td>Iowa</td>\n      <td>2923179</td>\n      <td>2927509</td>\n      <td>2926324</td>\n    </tr>\n    <tr>\n      <th>17</th>\n      <td>Kansas</td>\n      <td>2694641</td>\n      <td>2691750</td>\n      <td>2688418</td>\n    </tr>\n    <tr>\n      <th>18</th>\n      <td>Kentucky</td>\n      <td>4065556</td>\n      <td>4047424</td>\n      <td>4041769</td>\n    </tr>\n    <tr>\n      <th>19</th>\n      <td>Louisiana</td>\n      <td>4465430</td>\n      <td>4469970</td>\n      <td>4468976</td>\n    </tr>\n    <tr>\n      <th>20</th>\n      <td>Maine</td>\n      <td>1286670</td>\n      <td>1276961</td>\n      <td>1274923</td>\n    </tr>\n    <tr>\n      <th>21</th>\n      <td>Maryland</td>\n      <td>5375156</td>\n      <td>5310908</td>\n      <td>5296486</td>\n    </tr>\n    <tr>\n      <th>22</th>\n      <td>Massachusetts</td>\n      <td>6379304</td>\n      <td>6357072</td>\n      <td>6349097</td>\n    </tr>\n    <tr>\n      <th>23</th>\n      <td>Michigan</td>\n      <td>9990817</td>\n      <td>9952006</td>\n      <td>9938444</td>\n    </tr>\n    <tr>\n      <th>24</th>\n      <td>Minnesota</td>\n      <td>4972294</td>\n      <td>4931093</td>\n      <td>4919479</td>\n    </tr>\n    <tr>\n      <th>25</th>\n      <td>Mississippi</td>\n      <td>2858029</td>\n      <td>2849100</td>\n      <td>2844658</td>\n    </tr>\n    <tr>\n      <th>26</th>\n      <td>Missouri</td>\n      <td>5629707</td>\n      <td>5603553</td>\n      <td>5595211</td>\n    </tr>\n    <tr>\n      <th>27</th>\n      <td>Montana</td>\n      <td>904433</td>\n      <td>903157</td>\n      <td>902195</td>\n    </tr>\n    <tr>\n      <th>28</th>\n      <td>Nebraska</td>\n      <td>1713235</td>\n      <td>1712577</td>\n      <td>1711263</td>\n    </tr>\n    <tr>\n      <th>29</th>\n      <td>Nevada</td>\n      <td>2106074</td>\n      <td>2018723</td>\n      <td>1998257</td>\n    </tr>\n    <tr>\n      <th>30</th>\n      <td>New Hampshire</td>\n      <td>1259181</td>\n      <td>1239881</td>\n      <td>1235786</td>\n    </tr>\n    <tr>\n      <th>31</th>\n      <td>New Jersey</td>\n      <td>8484431</td>\n      <td>8429007</td>\n      <td>8414350</td>\n    </tr>\n    <tr>\n      <th>32</th>\n      <td>New Mexico</td>\n      <td>1829146</td>\n      <td>1821282</td>\n      <td>1819046</td>\n    </tr>\n    <tr>\n      <th>33</th>\n      <td>New York</td>\n      <td>19011378</td>\n      <td>18989332</td>\n      <td>18976457</td>\n    </tr>\n    <tr>\n      <th>34</th>\n      <td>North Carolina</td>\n      <td>8186268</td>\n      <td>8077367</td>\n      <td>8049313</td>\n    </tr>\n    <tr>\n      <th>35</th>\n      <td>North Dakota</td>\n      <td>634448</td>\n      <td>640919</td>\n      <td>642200</td>\n    </tr>\n    <tr>\n      <th>36</th>\n      <td>Ohio</td>\n      <td>11373541</td>\n      <td>11359955</td>\n      <td>11353140</td>\n    </tr>\n    <tr>\n      <th>37</th>\n      <td>Oklahoma</td>\n      <td>3460097</td>\n      <td>3453250</td>\n      <td>3450654</td>\n    </tr>\n    <tr>\n      <th>38</th>\n      <td>Oregon</td>\n      <td>3472867</td>\n      <td>3429293</td>\n      <td>3421399</td>\n    </tr>\n    <tr>\n      <th>39</th>\n      <td>Pennsylvania</td>\n      <td>12287150</td>\n      <td>12282591</td>\n      <td>12281054</td>\n    </tr>\n    <tr>\n      <th>40</th>\n      <td>Rhode Island</td>\n      <td>1058920</td>\n      <td>1050236</td>\n      <td>1048319</td>\n    </tr>\n    <tr>\n      <th>41</th>\n      <td>South Carolina</td>\n      <td>4063011</td>\n      <td>4023438</td>\n      <td>4012012</td>\n    </tr>\n    <tr>\n      <th>42</th>\n      <td>South Dakota</td>\n      <td>756600</td>\n      <td>755509</td>\n      <td>754844</td>\n    </tr>\n    <tr>\n      <th>43</th>\n      <td>Tennessee</td>\n      <td>5740021</td>\n      <td>5702027</td>\n      <td>5689283</td>\n    </tr>\n    <tr>\n      <th>44</th>\n      <td>Texas</td>\n      <td>21325018</td>\n      <td>20946503</td>\n      <td>20851820</td>\n    </tr>\n    <tr>\n      <th>45</th>\n      <td>Utah</td>\n      <td>2269789</td>\n      <td>2241555</td>\n      <td>2233169</td>\n    </tr>\n    <tr>\n      <th>46</th>\n      <td>Vermont</td>\n      <td>613090</td>\n      <td>609709</td>\n      <td>608827</td>\n    </tr>\n    <tr>\n      <th>47</th>\n      <td>Virginia</td>\n      <td>7187734</td>\n      <td>7104016</td>\n      <td>7078515</td>\n    </tr>\n    <tr>\n      <th>48</th>\n      <td>Washington</td>\n      <td>5987973</td>\n      <td>5908372</td>\n      <td>5894121</td>\n    </tr>\n    <tr>\n      <th>49</th>\n      <td>West Virginia</td>\n      <td>1801916</td>\n      <td>1807099</td>\n      <td>1808344</td>\n    </tr>\n    <tr>\n      <th>50</th>\n      <td>Wisconsin</td>\n      <td>5401906</td>\n      <td>5372243</td>\n      <td>5363675</td>\n    </tr>\n    <tr>\n      <th>51</th>\n      <td>Wyoming</td>\n      <td>494423</td>\n      <td>494001</td>\n      <td>493782</td>\n    </tr>\n  </tbody>\n</table>\n</div>"
     },
     "execution_count": 241,
     "metadata": {},
     "output_type": "execute_result"
    }
   ],
   "source": [
    "df"
   ],
   "metadata": {
    "collapsed": false,
    "ExecuteTime": {
     "end_time": "2023-11-09T12:45:57.850067400Z",
     "start_time": "2023-11-09T12:45:57.767069100Z"
    }
   }
  },
  {
   "cell_type": "code",
   "execution_count": 242,
   "outputs": [
    {
     "data": {
      "text/plain": "                  region       2001       2000  not needed\n0          United States  284796887  282124631   281421906\n1                Alabama    4464356    4451493     4447100\n2                 Alaska     634892     627601      626932\n3                Arizona    5307331    5165274     5130632\n4               Arkansas    2692090    2678030     2673400\n5             California   34501130   34000446    33871648\n6               Colorado    4417714    4323410     4301261\n7            Connecticut    3425074    3410079     3405565\n8               Delaware     796165     786234      783600\n9   District of Columbia     571822     571066      572059\n10               Florida   16396515   16054328    15982378\n11               Georgia    8383915    8229823     8186453\n12                Hawaii    1224398    1212281     1211537\n13                 Idaho    1321006    1299258     1293953\n14              Illinois   12482301   12435970    12419293\n15               Indiana    6114745    6089950     6080485\n16                  Iowa    2923179    2927509     2926324\n17                Kansas    2694641    2691750     2688418\n18              Kentucky    4065556    4047424     4041769\n19             Louisiana    4465430    4469970     4468976\n20                 Maine    1286670    1276961     1274923\n21              Maryland    5375156    5310908     5296486\n22         Massachusetts    6379304    6357072     6349097\n23              Michigan    9990817    9952006     9938444\n24             Minnesota    4972294    4931093     4919479\n25           Mississippi    2858029    2849100     2844658\n26              Missouri    5629707    5603553     5595211\n27               Montana     904433     903157      902195\n28              Nebraska    1713235    1712577     1711263\n29                Nevada    2106074    2018723     1998257\n30         New Hampshire    1259181    1239881     1235786\n31            New Jersey    8484431    8429007     8414350\n32            New Mexico    1829146    1821282     1819046\n33              New York   19011378   18989332    18976457\n34        North Carolina    8186268    8077367     8049313\n35          North Dakota     634448     640919      642200\n36                  Ohio   11373541   11359955    11353140\n37              Oklahoma    3460097    3453250     3450654\n38                Oregon    3472867    3429293     3421399\n39          Pennsylvania   12287150   12282591    12281054\n40          Rhode Island    1058920    1050236     1048319\n41        South Carolina    4063011    4023438     4012012\n42          South Dakota     756600     755509      754844\n43             Tennessee    5740021    5702027     5689283\n44                 Texas   21325018   20946503    20851820\n45                  Utah    2269789    2241555     2233169\n46               Vermont     613090     609709      608827\n47              Virginia    7187734    7104016     7078515\n48            Washington    5987973    5908372     5894121\n49         West Virginia    1801916    1807099     1808344\n50             Wisconsin    5401906    5372243     5363675\n51               Wyoming     494423     494001      493782",
      "text/html": "<div>\n<style scoped>\n    .dataframe tbody tr th:only-of-type {\n        vertical-align: middle;\n    }\n\n    .dataframe tbody tr th {\n        vertical-align: top;\n    }\n\n    .dataframe thead th {\n        text-align: right;\n    }\n</style>\n<table border=\"1\" class=\"dataframe\">\n  <thead>\n    <tr style=\"text-align: right;\">\n      <th></th>\n      <th>region</th>\n      <th>2001</th>\n      <th>2000</th>\n      <th>not needed</th>\n    </tr>\n  </thead>\n  <tbody>\n    <tr>\n      <th>0</th>\n      <td>United States</td>\n      <td>284796887</td>\n      <td>282124631</td>\n      <td>281421906</td>\n    </tr>\n    <tr>\n      <th>1</th>\n      <td>Alabama</td>\n      <td>4464356</td>\n      <td>4451493</td>\n      <td>4447100</td>\n    </tr>\n    <tr>\n      <th>2</th>\n      <td>Alaska</td>\n      <td>634892</td>\n      <td>627601</td>\n      <td>626932</td>\n    </tr>\n    <tr>\n      <th>3</th>\n      <td>Arizona</td>\n      <td>5307331</td>\n      <td>5165274</td>\n      <td>5130632</td>\n    </tr>\n    <tr>\n      <th>4</th>\n      <td>Arkansas</td>\n      <td>2692090</td>\n      <td>2678030</td>\n      <td>2673400</td>\n    </tr>\n    <tr>\n      <th>5</th>\n      <td>California</td>\n      <td>34501130</td>\n      <td>34000446</td>\n      <td>33871648</td>\n    </tr>\n    <tr>\n      <th>6</th>\n      <td>Colorado</td>\n      <td>4417714</td>\n      <td>4323410</td>\n      <td>4301261</td>\n    </tr>\n    <tr>\n      <th>7</th>\n      <td>Connecticut</td>\n      <td>3425074</td>\n      <td>3410079</td>\n      <td>3405565</td>\n    </tr>\n    <tr>\n      <th>8</th>\n      <td>Delaware</td>\n      <td>796165</td>\n      <td>786234</td>\n      <td>783600</td>\n    </tr>\n    <tr>\n      <th>9</th>\n      <td>District of Columbia</td>\n      <td>571822</td>\n      <td>571066</td>\n      <td>572059</td>\n    </tr>\n    <tr>\n      <th>10</th>\n      <td>Florida</td>\n      <td>16396515</td>\n      <td>16054328</td>\n      <td>15982378</td>\n    </tr>\n    <tr>\n      <th>11</th>\n      <td>Georgia</td>\n      <td>8383915</td>\n      <td>8229823</td>\n      <td>8186453</td>\n    </tr>\n    <tr>\n      <th>12</th>\n      <td>Hawaii</td>\n      <td>1224398</td>\n      <td>1212281</td>\n      <td>1211537</td>\n    </tr>\n    <tr>\n      <th>13</th>\n      <td>Idaho</td>\n      <td>1321006</td>\n      <td>1299258</td>\n      <td>1293953</td>\n    </tr>\n    <tr>\n      <th>14</th>\n      <td>Illinois</td>\n      <td>12482301</td>\n      <td>12435970</td>\n      <td>12419293</td>\n    </tr>\n    <tr>\n      <th>15</th>\n      <td>Indiana</td>\n      <td>6114745</td>\n      <td>6089950</td>\n      <td>6080485</td>\n    </tr>\n    <tr>\n      <th>16</th>\n      <td>Iowa</td>\n      <td>2923179</td>\n      <td>2927509</td>\n      <td>2926324</td>\n    </tr>\n    <tr>\n      <th>17</th>\n      <td>Kansas</td>\n      <td>2694641</td>\n      <td>2691750</td>\n      <td>2688418</td>\n    </tr>\n    <tr>\n      <th>18</th>\n      <td>Kentucky</td>\n      <td>4065556</td>\n      <td>4047424</td>\n      <td>4041769</td>\n    </tr>\n    <tr>\n      <th>19</th>\n      <td>Louisiana</td>\n      <td>4465430</td>\n      <td>4469970</td>\n      <td>4468976</td>\n    </tr>\n    <tr>\n      <th>20</th>\n      <td>Maine</td>\n      <td>1286670</td>\n      <td>1276961</td>\n      <td>1274923</td>\n    </tr>\n    <tr>\n      <th>21</th>\n      <td>Maryland</td>\n      <td>5375156</td>\n      <td>5310908</td>\n      <td>5296486</td>\n    </tr>\n    <tr>\n      <th>22</th>\n      <td>Massachusetts</td>\n      <td>6379304</td>\n      <td>6357072</td>\n      <td>6349097</td>\n    </tr>\n    <tr>\n      <th>23</th>\n      <td>Michigan</td>\n      <td>9990817</td>\n      <td>9952006</td>\n      <td>9938444</td>\n    </tr>\n    <tr>\n      <th>24</th>\n      <td>Minnesota</td>\n      <td>4972294</td>\n      <td>4931093</td>\n      <td>4919479</td>\n    </tr>\n    <tr>\n      <th>25</th>\n      <td>Mississippi</td>\n      <td>2858029</td>\n      <td>2849100</td>\n      <td>2844658</td>\n    </tr>\n    <tr>\n      <th>26</th>\n      <td>Missouri</td>\n      <td>5629707</td>\n      <td>5603553</td>\n      <td>5595211</td>\n    </tr>\n    <tr>\n      <th>27</th>\n      <td>Montana</td>\n      <td>904433</td>\n      <td>903157</td>\n      <td>902195</td>\n    </tr>\n    <tr>\n      <th>28</th>\n      <td>Nebraska</td>\n      <td>1713235</td>\n      <td>1712577</td>\n      <td>1711263</td>\n    </tr>\n    <tr>\n      <th>29</th>\n      <td>Nevada</td>\n      <td>2106074</td>\n      <td>2018723</td>\n      <td>1998257</td>\n    </tr>\n    <tr>\n      <th>30</th>\n      <td>New Hampshire</td>\n      <td>1259181</td>\n      <td>1239881</td>\n      <td>1235786</td>\n    </tr>\n    <tr>\n      <th>31</th>\n      <td>New Jersey</td>\n      <td>8484431</td>\n      <td>8429007</td>\n      <td>8414350</td>\n    </tr>\n    <tr>\n      <th>32</th>\n      <td>New Mexico</td>\n      <td>1829146</td>\n      <td>1821282</td>\n      <td>1819046</td>\n    </tr>\n    <tr>\n      <th>33</th>\n      <td>New York</td>\n      <td>19011378</td>\n      <td>18989332</td>\n      <td>18976457</td>\n    </tr>\n    <tr>\n      <th>34</th>\n      <td>North Carolina</td>\n      <td>8186268</td>\n      <td>8077367</td>\n      <td>8049313</td>\n    </tr>\n    <tr>\n      <th>35</th>\n      <td>North Dakota</td>\n      <td>634448</td>\n      <td>640919</td>\n      <td>642200</td>\n    </tr>\n    <tr>\n      <th>36</th>\n      <td>Ohio</td>\n      <td>11373541</td>\n      <td>11359955</td>\n      <td>11353140</td>\n    </tr>\n    <tr>\n      <th>37</th>\n      <td>Oklahoma</td>\n      <td>3460097</td>\n      <td>3453250</td>\n      <td>3450654</td>\n    </tr>\n    <tr>\n      <th>38</th>\n      <td>Oregon</td>\n      <td>3472867</td>\n      <td>3429293</td>\n      <td>3421399</td>\n    </tr>\n    <tr>\n      <th>39</th>\n      <td>Pennsylvania</td>\n      <td>12287150</td>\n      <td>12282591</td>\n      <td>12281054</td>\n    </tr>\n    <tr>\n      <th>40</th>\n      <td>Rhode Island</td>\n      <td>1058920</td>\n      <td>1050236</td>\n      <td>1048319</td>\n    </tr>\n    <tr>\n      <th>41</th>\n      <td>South Carolina</td>\n      <td>4063011</td>\n      <td>4023438</td>\n      <td>4012012</td>\n    </tr>\n    <tr>\n      <th>42</th>\n      <td>South Dakota</td>\n      <td>756600</td>\n      <td>755509</td>\n      <td>754844</td>\n    </tr>\n    <tr>\n      <th>43</th>\n      <td>Tennessee</td>\n      <td>5740021</td>\n      <td>5702027</td>\n      <td>5689283</td>\n    </tr>\n    <tr>\n      <th>44</th>\n      <td>Texas</td>\n      <td>21325018</td>\n      <td>20946503</td>\n      <td>20851820</td>\n    </tr>\n    <tr>\n      <th>45</th>\n      <td>Utah</td>\n      <td>2269789</td>\n      <td>2241555</td>\n      <td>2233169</td>\n    </tr>\n    <tr>\n      <th>46</th>\n      <td>Vermont</td>\n      <td>613090</td>\n      <td>609709</td>\n      <td>608827</td>\n    </tr>\n    <tr>\n      <th>47</th>\n      <td>Virginia</td>\n      <td>7187734</td>\n      <td>7104016</td>\n      <td>7078515</td>\n    </tr>\n    <tr>\n      <th>48</th>\n      <td>Washington</td>\n      <td>5987973</td>\n      <td>5908372</td>\n      <td>5894121</td>\n    </tr>\n    <tr>\n      <th>49</th>\n      <td>West Virginia</td>\n      <td>1801916</td>\n      <td>1807099</td>\n      <td>1808344</td>\n    </tr>\n    <tr>\n      <th>50</th>\n      <td>Wisconsin</td>\n      <td>5401906</td>\n      <td>5372243</td>\n      <td>5363675</td>\n    </tr>\n    <tr>\n      <th>51</th>\n      <td>Wyoming</td>\n      <td>494423</td>\n      <td>494001</td>\n      <td>493782</td>\n    </tr>\n  </tbody>\n</table>\n</div>"
     },
     "execution_count": 242,
     "metadata": {},
     "output_type": "execute_result"
    }
   ],
   "source": [
    "df = df.rename(\n",
    "    columns={\n",
    "        'Geographic Area':'region',\n",
    "        'July 1, 2001 Estimate': '2001',\n",
    "        'July 1, 2000 Estimate': '2000',\n",
    "        'April 1, 2000 Population Estimates Base': 'not needed'\n",
    "    }\n",
    ")\n",
    "df"
   ],
   "metadata": {
    "collapsed": false,
    "ExecuteTime": {
     "end_time": "2023-11-09T12:46:58.342264800Z",
     "start_time": "2023-11-09T12:46:58.271262700Z"
    }
   }
  },
  {
   "cell_type": "code",
   "execution_count": 243,
   "outputs": [],
   "source": [
    "df = df.drop(columns=['not needed'])"
   ],
   "metadata": {
    "collapsed": false,
    "ExecuteTime": {
     "end_time": "2023-11-09T12:47:56.529879200Z",
     "start_time": "2023-11-09T12:47:56.432878200Z"
    }
   }
  },
  {
   "cell_type": "code",
   "execution_count": 244,
   "outputs": [
    {
     "data": {
      "text/plain": "                  region       2001       2000\n0          United States  284796887  282124631\n1                Alabama    4464356    4451493\n2                 Alaska     634892     627601\n3                Arizona    5307331    5165274\n4               Arkansas    2692090    2678030\n5             California   34501130   34000446\n6               Colorado    4417714    4323410\n7            Connecticut    3425074    3410079\n8               Delaware     796165     786234\n9   District of Columbia     571822     571066\n10               Florida   16396515   16054328\n11               Georgia    8383915    8229823\n12                Hawaii    1224398    1212281\n13                 Idaho    1321006    1299258\n14              Illinois   12482301   12435970\n15               Indiana    6114745    6089950\n16                  Iowa    2923179    2927509\n17                Kansas    2694641    2691750\n18              Kentucky    4065556    4047424\n19             Louisiana    4465430    4469970\n20                 Maine    1286670    1276961\n21              Maryland    5375156    5310908\n22         Massachusetts    6379304    6357072\n23              Michigan    9990817    9952006\n24             Minnesota    4972294    4931093\n25           Mississippi    2858029    2849100\n26              Missouri    5629707    5603553\n27               Montana     904433     903157\n28              Nebraska    1713235    1712577\n29                Nevada    2106074    2018723\n30         New Hampshire    1259181    1239881\n31            New Jersey    8484431    8429007\n32            New Mexico    1829146    1821282\n33              New York   19011378   18989332\n34        North Carolina    8186268    8077367\n35          North Dakota     634448     640919\n36                  Ohio   11373541   11359955\n37              Oklahoma    3460097    3453250\n38                Oregon    3472867    3429293\n39          Pennsylvania   12287150   12282591\n40          Rhode Island    1058920    1050236\n41        South Carolina    4063011    4023438\n42          South Dakota     756600     755509\n43             Tennessee    5740021    5702027\n44                 Texas   21325018   20946503\n45                  Utah    2269789    2241555\n46               Vermont     613090     609709\n47              Virginia    7187734    7104016\n48            Washington    5987973    5908372\n49         West Virginia    1801916    1807099\n50             Wisconsin    5401906    5372243\n51               Wyoming     494423     494001",
      "text/html": "<div>\n<style scoped>\n    .dataframe tbody tr th:only-of-type {\n        vertical-align: middle;\n    }\n\n    .dataframe tbody tr th {\n        vertical-align: top;\n    }\n\n    .dataframe thead th {\n        text-align: right;\n    }\n</style>\n<table border=\"1\" class=\"dataframe\">\n  <thead>\n    <tr style=\"text-align: right;\">\n      <th></th>\n      <th>region</th>\n      <th>2001</th>\n      <th>2000</th>\n    </tr>\n  </thead>\n  <tbody>\n    <tr>\n      <th>0</th>\n      <td>United States</td>\n      <td>284796887</td>\n      <td>282124631</td>\n    </tr>\n    <tr>\n      <th>1</th>\n      <td>Alabama</td>\n      <td>4464356</td>\n      <td>4451493</td>\n    </tr>\n    <tr>\n      <th>2</th>\n      <td>Alaska</td>\n      <td>634892</td>\n      <td>627601</td>\n    </tr>\n    <tr>\n      <th>3</th>\n      <td>Arizona</td>\n      <td>5307331</td>\n      <td>5165274</td>\n    </tr>\n    <tr>\n      <th>4</th>\n      <td>Arkansas</td>\n      <td>2692090</td>\n      <td>2678030</td>\n    </tr>\n    <tr>\n      <th>5</th>\n      <td>California</td>\n      <td>34501130</td>\n      <td>34000446</td>\n    </tr>\n    <tr>\n      <th>6</th>\n      <td>Colorado</td>\n      <td>4417714</td>\n      <td>4323410</td>\n    </tr>\n    <tr>\n      <th>7</th>\n      <td>Connecticut</td>\n      <td>3425074</td>\n      <td>3410079</td>\n    </tr>\n    <tr>\n      <th>8</th>\n      <td>Delaware</td>\n      <td>796165</td>\n      <td>786234</td>\n    </tr>\n    <tr>\n      <th>9</th>\n      <td>District of Columbia</td>\n      <td>571822</td>\n      <td>571066</td>\n    </tr>\n    <tr>\n      <th>10</th>\n      <td>Florida</td>\n      <td>16396515</td>\n      <td>16054328</td>\n    </tr>\n    <tr>\n      <th>11</th>\n      <td>Georgia</td>\n      <td>8383915</td>\n      <td>8229823</td>\n    </tr>\n    <tr>\n      <th>12</th>\n      <td>Hawaii</td>\n      <td>1224398</td>\n      <td>1212281</td>\n    </tr>\n    <tr>\n      <th>13</th>\n      <td>Idaho</td>\n      <td>1321006</td>\n      <td>1299258</td>\n    </tr>\n    <tr>\n      <th>14</th>\n      <td>Illinois</td>\n      <td>12482301</td>\n      <td>12435970</td>\n    </tr>\n    <tr>\n      <th>15</th>\n      <td>Indiana</td>\n      <td>6114745</td>\n      <td>6089950</td>\n    </tr>\n    <tr>\n      <th>16</th>\n      <td>Iowa</td>\n      <td>2923179</td>\n      <td>2927509</td>\n    </tr>\n    <tr>\n      <th>17</th>\n      <td>Kansas</td>\n      <td>2694641</td>\n      <td>2691750</td>\n    </tr>\n    <tr>\n      <th>18</th>\n      <td>Kentucky</td>\n      <td>4065556</td>\n      <td>4047424</td>\n    </tr>\n    <tr>\n      <th>19</th>\n      <td>Louisiana</td>\n      <td>4465430</td>\n      <td>4469970</td>\n    </tr>\n    <tr>\n      <th>20</th>\n      <td>Maine</td>\n      <td>1286670</td>\n      <td>1276961</td>\n    </tr>\n    <tr>\n      <th>21</th>\n      <td>Maryland</td>\n      <td>5375156</td>\n      <td>5310908</td>\n    </tr>\n    <tr>\n      <th>22</th>\n      <td>Massachusetts</td>\n      <td>6379304</td>\n      <td>6357072</td>\n    </tr>\n    <tr>\n      <th>23</th>\n      <td>Michigan</td>\n      <td>9990817</td>\n      <td>9952006</td>\n    </tr>\n    <tr>\n      <th>24</th>\n      <td>Minnesota</td>\n      <td>4972294</td>\n      <td>4931093</td>\n    </tr>\n    <tr>\n      <th>25</th>\n      <td>Mississippi</td>\n      <td>2858029</td>\n      <td>2849100</td>\n    </tr>\n    <tr>\n      <th>26</th>\n      <td>Missouri</td>\n      <td>5629707</td>\n      <td>5603553</td>\n    </tr>\n    <tr>\n      <th>27</th>\n      <td>Montana</td>\n      <td>904433</td>\n      <td>903157</td>\n    </tr>\n    <tr>\n      <th>28</th>\n      <td>Nebraska</td>\n      <td>1713235</td>\n      <td>1712577</td>\n    </tr>\n    <tr>\n      <th>29</th>\n      <td>Nevada</td>\n      <td>2106074</td>\n      <td>2018723</td>\n    </tr>\n    <tr>\n      <th>30</th>\n      <td>New Hampshire</td>\n      <td>1259181</td>\n      <td>1239881</td>\n    </tr>\n    <tr>\n      <th>31</th>\n      <td>New Jersey</td>\n      <td>8484431</td>\n      <td>8429007</td>\n    </tr>\n    <tr>\n      <th>32</th>\n      <td>New Mexico</td>\n      <td>1829146</td>\n      <td>1821282</td>\n    </tr>\n    <tr>\n      <th>33</th>\n      <td>New York</td>\n      <td>19011378</td>\n      <td>18989332</td>\n    </tr>\n    <tr>\n      <th>34</th>\n      <td>North Carolina</td>\n      <td>8186268</td>\n      <td>8077367</td>\n    </tr>\n    <tr>\n      <th>35</th>\n      <td>North Dakota</td>\n      <td>634448</td>\n      <td>640919</td>\n    </tr>\n    <tr>\n      <th>36</th>\n      <td>Ohio</td>\n      <td>11373541</td>\n      <td>11359955</td>\n    </tr>\n    <tr>\n      <th>37</th>\n      <td>Oklahoma</td>\n      <td>3460097</td>\n      <td>3453250</td>\n    </tr>\n    <tr>\n      <th>38</th>\n      <td>Oregon</td>\n      <td>3472867</td>\n      <td>3429293</td>\n    </tr>\n    <tr>\n      <th>39</th>\n      <td>Pennsylvania</td>\n      <td>12287150</td>\n      <td>12282591</td>\n    </tr>\n    <tr>\n      <th>40</th>\n      <td>Rhode Island</td>\n      <td>1058920</td>\n      <td>1050236</td>\n    </tr>\n    <tr>\n      <th>41</th>\n      <td>South Carolina</td>\n      <td>4063011</td>\n      <td>4023438</td>\n    </tr>\n    <tr>\n      <th>42</th>\n      <td>South Dakota</td>\n      <td>756600</td>\n      <td>755509</td>\n    </tr>\n    <tr>\n      <th>43</th>\n      <td>Tennessee</td>\n      <td>5740021</td>\n      <td>5702027</td>\n    </tr>\n    <tr>\n      <th>44</th>\n      <td>Texas</td>\n      <td>21325018</td>\n      <td>20946503</td>\n    </tr>\n    <tr>\n      <th>45</th>\n      <td>Utah</td>\n      <td>2269789</td>\n      <td>2241555</td>\n    </tr>\n    <tr>\n      <th>46</th>\n      <td>Vermont</td>\n      <td>613090</td>\n      <td>609709</td>\n    </tr>\n    <tr>\n      <th>47</th>\n      <td>Virginia</td>\n      <td>7187734</td>\n      <td>7104016</td>\n    </tr>\n    <tr>\n      <th>48</th>\n      <td>Washington</td>\n      <td>5987973</td>\n      <td>5908372</td>\n    </tr>\n    <tr>\n      <th>49</th>\n      <td>West Virginia</td>\n      <td>1801916</td>\n      <td>1807099</td>\n    </tr>\n    <tr>\n      <th>50</th>\n      <td>Wisconsin</td>\n      <td>5401906</td>\n      <td>5372243</td>\n    </tr>\n    <tr>\n      <th>51</th>\n      <td>Wyoming</td>\n      <td>494423</td>\n      <td>494001</td>\n    </tr>\n  </tbody>\n</table>\n</div>"
     },
     "execution_count": 244,
     "metadata": {},
     "output_type": "execute_result"
    }
   ],
   "source": [
    "df"
   ],
   "metadata": {
    "collapsed": false,
    "ExecuteTime": {
     "end_time": "2023-11-09T12:47:58.919372100Z",
     "start_time": "2023-11-09T12:47:58.801389300Z"
    }
   }
  },
  {
   "cell_type": "code",
   "execution_count": 245,
   "outputs": [
    {
     "data": {
      "text/plain": "                           2001       2000\nregion                                    \nUnited States         284796887  282124631\nAlabama                 4464356    4451493\nAlaska                   634892     627601\nArizona                 5307331    5165274\nArkansas                2692090    2678030\nCalifornia             34501130   34000446\nColorado                4417714    4323410\nConnecticut             3425074    3410079\nDelaware                 796165     786234\nDistrict of Columbia     571822     571066\nFlorida                16396515   16054328\nGeorgia                 8383915    8229823\nHawaii                  1224398    1212281\nIdaho                   1321006    1299258\nIllinois               12482301   12435970\nIndiana                 6114745    6089950\nIowa                    2923179    2927509\nKansas                  2694641    2691750\nKentucky                4065556    4047424\nLouisiana               4465430    4469970\nMaine                   1286670    1276961\nMaryland                5375156    5310908\nMassachusetts           6379304    6357072\nMichigan                9990817    9952006\nMinnesota               4972294    4931093\nMississippi             2858029    2849100\nMissouri                5629707    5603553\nMontana                  904433     903157\nNebraska                1713235    1712577\nNevada                  2106074    2018723\nNew Hampshire           1259181    1239881\nNew Jersey              8484431    8429007\nNew Mexico              1829146    1821282\nNew York               19011378   18989332\nNorth Carolina          8186268    8077367\nNorth Dakota             634448     640919\nOhio                   11373541   11359955\nOklahoma                3460097    3453250\nOregon                  3472867    3429293\nPennsylvania           12287150   12282591\nRhode Island            1058920    1050236\nSouth Carolina          4063011    4023438\nSouth Dakota             756600     755509\nTennessee               5740021    5702027\nTexas                  21325018   20946503\nUtah                    2269789    2241555\nVermont                  613090     609709\nVirginia                7187734    7104016\nWashington              5987973    5908372\nWest Virginia           1801916    1807099\nWisconsin               5401906    5372243\nWyoming                  494423     494001",
      "text/html": "<div>\n<style scoped>\n    .dataframe tbody tr th:only-of-type {\n        vertical-align: middle;\n    }\n\n    .dataframe tbody tr th {\n        vertical-align: top;\n    }\n\n    .dataframe thead th {\n        text-align: right;\n    }\n</style>\n<table border=\"1\" class=\"dataframe\">\n  <thead>\n    <tr style=\"text-align: right;\">\n      <th></th>\n      <th>2001</th>\n      <th>2000</th>\n    </tr>\n    <tr>\n      <th>region</th>\n      <th></th>\n      <th></th>\n    </tr>\n  </thead>\n  <tbody>\n    <tr>\n      <th>United States</th>\n      <td>284796887</td>\n      <td>282124631</td>\n    </tr>\n    <tr>\n      <th>Alabama</th>\n      <td>4464356</td>\n      <td>4451493</td>\n    </tr>\n    <tr>\n      <th>Alaska</th>\n      <td>634892</td>\n      <td>627601</td>\n    </tr>\n    <tr>\n      <th>Arizona</th>\n      <td>5307331</td>\n      <td>5165274</td>\n    </tr>\n    <tr>\n      <th>Arkansas</th>\n      <td>2692090</td>\n      <td>2678030</td>\n    </tr>\n    <tr>\n      <th>California</th>\n      <td>34501130</td>\n      <td>34000446</td>\n    </tr>\n    <tr>\n      <th>Colorado</th>\n      <td>4417714</td>\n      <td>4323410</td>\n    </tr>\n    <tr>\n      <th>Connecticut</th>\n      <td>3425074</td>\n      <td>3410079</td>\n    </tr>\n    <tr>\n      <th>Delaware</th>\n      <td>796165</td>\n      <td>786234</td>\n    </tr>\n    <tr>\n      <th>District of Columbia</th>\n      <td>571822</td>\n      <td>571066</td>\n    </tr>\n    <tr>\n      <th>Florida</th>\n      <td>16396515</td>\n      <td>16054328</td>\n    </tr>\n    <tr>\n      <th>Georgia</th>\n      <td>8383915</td>\n      <td>8229823</td>\n    </tr>\n    <tr>\n      <th>Hawaii</th>\n      <td>1224398</td>\n      <td>1212281</td>\n    </tr>\n    <tr>\n      <th>Idaho</th>\n      <td>1321006</td>\n      <td>1299258</td>\n    </tr>\n    <tr>\n      <th>Illinois</th>\n      <td>12482301</td>\n      <td>12435970</td>\n    </tr>\n    <tr>\n      <th>Indiana</th>\n      <td>6114745</td>\n      <td>6089950</td>\n    </tr>\n    <tr>\n      <th>Iowa</th>\n      <td>2923179</td>\n      <td>2927509</td>\n    </tr>\n    <tr>\n      <th>Kansas</th>\n      <td>2694641</td>\n      <td>2691750</td>\n    </tr>\n    <tr>\n      <th>Kentucky</th>\n      <td>4065556</td>\n      <td>4047424</td>\n    </tr>\n    <tr>\n      <th>Louisiana</th>\n      <td>4465430</td>\n      <td>4469970</td>\n    </tr>\n    <tr>\n      <th>Maine</th>\n      <td>1286670</td>\n      <td>1276961</td>\n    </tr>\n    <tr>\n      <th>Maryland</th>\n      <td>5375156</td>\n      <td>5310908</td>\n    </tr>\n    <tr>\n      <th>Massachusetts</th>\n      <td>6379304</td>\n      <td>6357072</td>\n    </tr>\n    <tr>\n      <th>Michigan</th>\n      <td>9990817</td>\n      <td>9952006</td>\n    </tr>\n    <tr>\n      <th>Minnesota</th>\n      <td>4972294</td>\n      <td>4931093</td>\n    </tr>\n    <tr>\n      <th>Mississippi</th>\n      <td>2858029</td>\n      <td>2849100</td>\n    </tr>\n    <tr>\n      <th>Missouri</th>\n      <td>5629707</td>\n      <td>5603553</td>\n    </tr>\n    <tr>\n      <th>Montana</th>\n      <td>904433</td>\n      <td>903157</td>\n    </tr>\n    <tr>\n      <th>Nebraska</th>\n      <td>1713235</td>\n      <td>1712577</td>\n    </tr>\n    <tr>\n      <th>Nevada</th>\n      <td>2106074</td>\n      <td>2018723</td>\n    </tr>\n    <tr>\n      <th>New Hampshire</th>\n      <td>1259181</td>\n      <td>1239881</td>\n    </tr>\n    <tr>\n      <th>New Jersey</th>\n      <td>8484431</td>\n      <td>8429007</td>\n    </tr>\n    <tr>\n      <th>New Mexico</th>\n      <td>1829146</td>\n      <td>1821282</td>\n    </tr>\n    <tr>\n      <th>New York</th>\n      <td>19011378</td>\n      <td>18989332</td>\n    </tr>\n    <tr>\n      <th>North Carolina</th>\n      <td>8186268</td>\n      <td>8077367</td>\n    </tr>\n    <tr>\n      <th>North Dakota</th>\n      <td>634448</td>\n      <td>640919</td>\n    </tr>\n    <tr>\n      <th>Ohio</th>\n      <td>11373541</td>\n      <td>11359955</td>\n    </tr>\n    <tr>\n      <th>Oklahoma</th>\n      <td>3460097</td>\n      <td>3453250</td>\n    </tr>\n    <tr>\n      <th>Oregon</th>\n      <td>3472867</td>\n      <td>3429293</td>\n    </tr>\n    <tr>\n      <th>Pennsylvania</th>\n      <td>12287150</td>\n      <td>12282591</td>\n    </tr>\n    <tr>\n      <th>Rhode Island</th>\n      <td>1058920</td>\n      <td>1050236</td>\n    </tr>\n    <tr>\n      <th>South Carolina</th>\n      <td>4063011</td>\n      <td>4023438</td>\n    </tr>\n    <tr>\n      <th>South Dakota</th>\n      <td>756600</td>\n      <td>755509</td>\n    </tr>\n    <tr>\n      <th>Tennessee</th>\n      <td>5740021</td>\n      <td>5702027</td>\n    </tr>\n    <tr>\n      <th>Texas</th>\n      <td>21325018</td>\n      <td>20946503</td>\n    </tr>\n    <tr>\n      <th>Utah</th>\n      <td>2269789</td>\n      <td>2241555</td>\n    </tr>\n    <tr>\n      <th>Vermont</th>\n      <td>613090</td>\n      <td>609709</td>\n    </tr>\n    <tr>\n      <th>Virginia</th>\n      <td>7187734</td>\n      <td>7104016</td>\n    </tr>\n    <tr>\n      <th>Washington</th>\n      <td>5987973</td>\n      <td>5908372</td>\n    </tr>\n    <tr>\n      <th>West Virginia</th>\n      <td>1801916</td>\n      <td>1807099</td>\n    </tr>\n    <tr>\n      <th>Wisconsin</th>\n      <td>5401906</td>\n      <td>5372243</td>\n    </tr>\n    <tr>\n      <th>Wyoming</th>\n      <td>494423</td>\n      <td>494001</td>\n    </tr>\n  </tbody>\n</table>\n</div>"
     },
     "execution_count": 245,
     "metadata": {},
     "output_type": "execute_result"
    }
   ],
   "source": [
    "df.set_index('region')"
   ],
   "metadata": {
    "collapsed": false,
    "ExecuteTime": {
     "end_time": "2023-11-09T12:48:52.787622700Z",
     "start_time": "2023-11-09T12:48:52.690589600Z"
    }
   }
  },
  {
   "cell_type": "code",
   "execution_count": 246,
   "outputs": [
    {
     "name": "stdout",
     "output_type": "stream",
     "text": [
      "<class 'pandas.core.frame.DataFrame'>\n",
      "RangeIndex: 52 entries, 0 to 51\n",
      "Data columns (total 3 columns):\n",
      " #   Column  Non-Null Count  Dtype \n",
      "---  ------  --------------  ----- \n",
      " 0   region  52 non-null     object\n",
      " 1   2001    52 non-null     int64 \n",
      " 2   2000    52 non-null     int64 \n",
      "dtypes: int64(2), object(1)\n",
      "memory usage: 1.3+ KB\n"
     ]
    }
   ],
   "source": [
    "df.info()"
   ],
   "metadata": {
    "collapsed": false,
    "ExecuteTime": {
     "end_time": "2023-11-09T12:49:16.434448900Z",
     "start_time": "2023-11-09T12:49:16.362408500Z"
    }
   }
  },
  {
   "cell_type": "code",
   "execution_count": 247,
   "outputs": [],
   "source": [
    "df = pd.read_csv(\n",
    "    'populations.csv',\n",
    "    header=0,\n",
    "    usecols=[0,1,2],\n",
    "    names=['region', '2001', '2000'],\n",
    "    index_col=0\n",
    ")"
   ],
   "metadata": {
    "collapsed": false,
    "ExecuteTime": {
     "end_time": "2023-11-09T12:51:28.394380400Z",
     "start_time": "2023-11-09T12:51:28.329921700Z"
    }
   }
  },
  {
   "cell_type": "code",
   "execution_count": 248,
   "outputs": [
    {
     "data": {
      "text/plain": "                           2001       2000\nregion                                    \nUnited States         284796887  282124631\nAlabama                 4464356    4451493\nAlaska                   634892     627601\nArizona                 5307331    5165274\nArkansas                2692090    2678030\nCalifornia             34501130   34000446\nColorado                4417714    4323410\nConnecticut             3425074    3410079\nDelaware                 796165     786234\nDistrict of Columbia     571822     571066\nFlorida                16396515   16054328\nGeorgia                 8383915    8229823\nHawaii                  1224398    1212281\nIdaho                   1321006    1299258\nIllinois               12482301   12435970\nIndiana                 6114745    6089950\nIowa                    2923179    2927509\nKansas                  2694641    2691750\nKentucky                4065556    4047424\nLouisiana               4465430    4469970\nMaine                   1286670    1276961\nMaryland                5375156    5310908\nMassachusetts           6379304    6357072\nMichigan                9990817    9952006\nMinnesota               4972294    4931093\nMississippi             2858029    2849100\nMissouri                5629707    5603553\nMontana                  904433     903157\nNebraska                1713235    1712577\nNevada                  2106074    2018723\nNew Hampshire           1259181    1239881\nNew Jersey              8484431    8429007\nNew Mexico              1829146    1821282\nNew York               19011378   18989332\nNorth Carolina          8186268    8077367\nNorth Dakota             634448     640919\nOhio                   11373541   11359955\nOklahoma                3460097    3453250\nOregon                  3472867    3429293\nPennsylvania           12287150   12282591\nRhode Island            1058920    1050236\nSouth Carolina          4063011    4023438\nSouth Dakota             756600     755509\nTennessee               5740021    5702027\nTexas                  21325018   20946503\nUtah                    2269789    2241555\nVermont                  613090     609709\nVirginia                7187734    7104016\nWashington              5987973    5908372\nWest Virginia           1801916    1807099\nWisconsin               5401906    5372243\nWyoming                  494423     494001",
      "text/html": "<div>\n<style scoped>\n    .dataframe tbody tr th:only-of-type {\n        vertical-align: middle;\n    }\n\n    .dataframe tbody tr th {\n        vertical-align: top;\n    }\n\n    .dataframe thead th {\n        text-align: right;\n    }\n</style>\n<table border=\"1\" class=\"dataframe\">\n  <thead>\n    <tr style=\"text-align: right;\">\n      <th></th>\n      <th>2001</th>\n      <th>2000</th>\n    </tr>\n    <tr>\n      <th>region</th>\n      <th></th>\n      <th></th>\n    </tr>\n  </thead>\n  <tbody>\n    <tr>\n      <th>United States</th>\n      <td>284796887</td>\n      <td>282124631</td>\n    </tr>\n    <tr>\n      <th>Alabama</th>\n      <td>4464356</td>\n      <td>4451493</td>\n    </tr>\n    <tr>\n      <th>Alaska</th>\n      <td>634892</td>\n      <td>627601</td>\n    </tr>\n    <tr>\n      <th>Arizona</th>\n      <td>5307331</td>\n      <td>5165274</td>\n    </tr>\n    <tr>\n      <th>Arkansas</th>\n      <td>2692090</td>\n      <td>2678030</td>\n    </tr>\n    <tr>\n      <th>California</th>\n      <td>34501130</td>\n      <td>34000446</td>\n    </tr>\n    <tr>\n      <th>Colorado</th>\n      <td>4417714</td>\n      <td>4323410</td>\n    </tr>\n    <tr>\n      <th>Connecticut</th>\n      <td>3425074</td>\n      <td>3410079</td>\n    </tr>\n    <tr>\n      <th>Delaware</th>\n      <td>796165</td>\n      <td>786234</td>\n    </tr>\n    <tr>\n      <th>District of Columbia</th>\n      <td>571822</td>\n      <td>571066</td>\n    </tr>\n    <tr>\n      <th>Florida</th>\n      <td>16396515</td>\n      <td>16054328</td>\n    </tr>\n    <tr>\n      <th>Georgia</th>\n      <td>8383915</td>\n      <td>8229823</td>\n    </tr>\n    <tr>\n      <th>Hawaii</th>\n      <td>1224398</td>\n      <td>1212281</td>\n    </tr>\n    <tr>\n      <th>Idaho</th>\n      <td>1321006</td>\n      <td>1299258</td>\n    </tr>\n    <tr>\n      <th>Illinois</th>\n      <td>12482301</td>\n      <td>12435970</td>\n    </tr>\n    <tr>\n      <th>Indiana</th>\n      <td>6114745</td>\n      <td>6089950</td>\n    </tr>\n    <tr>\n      <th>Iowa</th>\n      <td>2923179</td>\n      <td>2927509</td>\n    </tr>\n    <tr>\n      <th>Kansas</th>\n      <td>2694641</td>\n      <td>2691750</td>\n    </tr>\n    <tr>\n      <th>Kentucky</th>\n      <td>4065556</td>\n      <td>4047424</td>\n    </tr>\n    <tr>\n      <th>Louisiana</th>\n      <td>4465430</td>\n      <td>4469970</td>\n    </tr>\n    <tr>\n      <th>Maine</th>\n      <td>1286670</td>\n      <td>1276961</td>\n    </tr>\n    <tr>\n      <th>Maryland</th>\n      <td>5375156</td>\n      <td>5310908</td>\n    </tr>\n    <tr>\n      <th>Massachusetts</th>\n      <td>6379304</td>\n      <td>6357072</td>\n    </tr>\n    <tr>\n      <th>Michigan</th>\n      <td>9990817</td>\n      <td>9952006</td>\n    </tr>\n    <tr>\n      <th>Minnesota</th>\n      <td>4972294</td>\n      <td>4931093</td>\n    </tr>\n    <tr>\n      <th>Mississippi</th>\n      <td>2858029</td>\n      <td>2849100</td>\n    </tr>\n    <tr>\n      <th>Missouri</th>\n      <td>5629707</td>\n      <td>5603553</td>\n    </tr>\n    <tr>\n      <th>Montana</th>\n      <td>904433</td>\n      <td>903157</td>\n    </tr>\n    <tr>\n      <th>Nebraska</th>\n      <td>1713235</td>\n      <td>1712577</td>\n    </tr>\n    <tr>\n      <th>Nevada</th>\n      <td>2106074</td>\n      <td>2018723</td>\n    </tr>\n    <tr>\n      <th>New Hampshire</th>\n      <td>1259181</td>\n      <td>1239881</td>\n    </tr>\n    <tr>\n      <th>New Jersey</th>\n      <td>8484431</td>\n      <td>8429007</td>\n    </tr>\n    <tr>\n      <th>New Mexico</th>\n      <td>1829146</td>\n      <td>1821282</td>\n    </tr>\n    <tr>\n      <th>New York</th>\n      <td>19011378</td>\n      <td>18989332</td>\n    </tr>\n    <tr>\n      <th>North Carolina</th>\n      <td>8186268</td>\n      <td>8077367</td>\n    </tr>\n    <tr>\n      <th>North Dakota</th>\n      <td>634448</td>\n      <td>640919</td>\n    </tr>\n    <tr>\n      <th>Ohio</th>\n      <td>11373541</td>\n      <td>11359955</td>\n    </tr>\n    <tr>\n      <th>Oklahoma</th>\n      <td>3460097</td>\n      <td>3453250</td>\n    </tr>\n    <tr>\n      <th>Oregon</th>\n      <td>3472867</td>\n      <td>3429293</td>\n    </tr>\n    <tr>\n      <th>Pennsylvania</th>\n      <td>12287150</td>\n      <td>12282591</td>\n    </tr>\n    <tr>\n      <th>Rhode Island</th>\n      <td>1058920</td>\n      <td>1050236</td>\n    </tr>\n    <tr>\n      <th>South Carolina</th>\n      <td>4063011</td>\n      <td>4023438</td>\n    </tr>\n    <tr>\n      <th>South Dakota</th>\n      <td>756600</td>\n      <td>755509</td>\n    </tr>\n    <tr>\n      <th>Tennessee</th>\n      <td>5740021</td>\n      <td>5702027</td>\n    </tr>\n    <tr>\n      <th>Texas</th>\n      <td>21325018</td>\n      <td>20946503</td>\n    </tr>\n    <tr>\n      <th>Utah</th>\n      <td>2269789</td>\n      <td>2241555</td>\n    </tr>\n    <tr>\n      <th>Vermont</th>\n      <td>613090</td>\n      <td>609709</td>\n    </tr>\n    <tr>\n      <th>Virginia</th>\n      <td>7187734</td>\n      <td>7104016</td>\n    </tr>\n    <tr>\n      <th>Washington</th>\n      <td>5987973</td>\n      <td>5908372</td>\n    </tr>\n    <tr>\n      <th>West Virginia</th>\n      <td>1801916</td>\n      <td>1807099</td>\n    </tr>\n    <tr>\n      <th>Wisconsin</th>\n      <td>5401906</td>\n      <td>5372243</td>\n    </tr>\n    <tr>\n      <th>Wyoming</th>\n      <td>494423</td>\n      <td>494001</td>\n    </tr>\n  </tbody>\n</table>\n</div>"
     },
     "execution_count": 248,
     "metadata": {},
     "output_type": "execute_result"
    }
   ],
   "source": [
    "df"
   ],
   "metadata": {
    "collapsed": false,
    "ExecuteTime": {
     "end_time": "2023-11-09T12:51:35.266714800Z",
     "start_time": "2023-11-09T12:51:35.204713900Z"
    }
   }
  },
  {
   "cell_type": "code",
   "execution_count": 249,
   "outputs": [
    {
     "name": "stdout",
     "output_type": "stream",
     "text": [
      "<class 'pandas.core.frame.DataFrame'>\n",
      "Index: 52 entries, United States to Wyoming\n",
      "Data columns (total 2 columns):\n",
      " #   Column  Non-Null Count  Dtype\n",
      "---  ------  --------------  -----\n",
      " 0   2001    52 non-null     int64\n",
      " 1   2000    52 non-null     int64\n",
      "dtypes: int64(2)\n",
      "memory usage: 1.2+ KB\n"
     ]
    }
   ],
   "source": [
    "df.info()"
   ],
   "metadata": {
    "collapsed": false,
    "ExecuteTime": {
     "end_time": "2023-11-09T12:51:56.820296100Z",
     "start_time": "2023-11-09T12:51:56.716259900Z"
    }
   }
  },
  {
   "cell_type": "code",
   "execution_count": 252,
   "outputs": [
    {
     "data": {
      "text/plain": "region\nUnited States           284796887\nAlabama                   4464356\nAlaska                     634892\nArizona                   5307331\nArkansas                  2692090\nCalifornia               34501130\nColorado                  4417714\nConnecticut               3425074\nDelaware                   796165\nDistrict of Columbia       571822\nFlorida                  16396515\nGeorgia                   8383915\nHawaii                    1224398\nIdaho                     1321006\nIllinois                 12482301\nIndiana                   6114745\nIowa                      2923179\nKansas                    2694641\nKentucky                  4065556\nLouisiana                 4465430\nMaine                     1286670\nMaryland                  5375156\nMassachusetts             6379304\nMichigan                  9990817\nMinnesota                 4972294\nMississippi               2858029\nMissouri                  5629707\nMontana                    904433\nNebraska                  1713235\nNevada                    2106074\nNew Hampshire             1259181\nNew Jersey                8484431\nNew Mexico                1829146\nNew York                 19011378\nNorth Carolina            8186268\nNorth Dakota               634448\nOhio                     11373541\nOklahoma                  3460097\nOregon                    3472867\nPennsylvania             12287150\nRhode Island              1058920\nSouth Carolina            4063011\nSouth Dakota               756600\nTennessee                 5740021\nTexas                    21325018\nUtah                      2269789\nVermont                    613090\nVirginia                  7187734\nWashington                5987973\nWest Virginia             1801916\nWisconsin                 5401906\nWyoming                    494423\nName: 2001, dtype: int64"
     },
     "execution_count": 252,
     "metadata": {},
     "output_type": "execute_result"
    }
   ],
   "source": [
    "df.loc[:,'2001']"
   ],
   "metadata": {
    "collapsed": false,
    "ExecuteTime": {
     "end_time": "2023-11-09T12:53:42.776454700Z",
     "start_time": "2023-11-09T12:53:42.740696Z"
    }
   }
  },
  {
   "cell_type": "code",
   "execution_count": 253,
   "outputs": [
    {
     "data": {
      "text/plain": "region\nUnited States           284796887\nAlabama                   4464356\nAlaska                     634892\nArizona                   5307331\nArkansas                  2692090\nCalifornia               34501130\nColorado                  4417714\nConnecticut               3425074\nDelaware                   796165\nDistrict of Columbia       571822\nFlorida                  16396515\nGeorgia                   8383915\nHawaii                    1224398\nIdaho                     1321006\nIllinois                 12482301\nIndiana                   6114745\nIowa                      2923179\nKansas                    2694641\nKentucky                  4065556\nLouisiana                 4465430\nMaine                     1286670\nMaryland                  5375156\nMassachusetts             6379304\nMichigan                  9990817\nMinnesota                 4972294\nMississippi               2858029\nMissouri                  5629707\nMontana                    904433\nNebraska                  1713235\nNevada                    2106074\nNew Hampshire             1259181\nNew Jersey                8484431\nNew Mexico                1829146\nNew York                 19011378\nNorth Carolina            8186268\nNorth Dakota               634448\nOhio                     11373541\nOklahoma                  3460097\nOregon                    3472867\nPennsylvania             12287150\nRhode Island              1058920\nSouth Carolina            4063011\nSouth Dakota               756600\nTennessee                 5740021\nTexas                    21325018\nUtah                      2269789\nVermont                    613090\nVirginia                  7187734\nWashington                5987973\nWest Virginia             1801916\nWisconsin                 5401906\nWyoming                    494423\nName: 2001, dtype: int64"
     },
     "execution_count": 253,
     "metadata": {},
     "output_type": "execute_result"
    }
   ],
   "source": [
    "df['2001']"
   ],
   "metadata": {
    "collapsed": false,
    "ExecuteTime": {
     "end_time": "2023-11-09T12:54:13.762189700Z",
     "start_time": "2023-11-09T12:54:13.668156400Z"
    }
   }
  },
  {
   "cell_type": "code",
   "execution_count": 254,
   "outputs": [
    {
     "data": {
      "text/plain": "region\nUnited States           2672256\nAlabama                   12863\nAlaska                     7291\nArizona                  142057\nArkansas                  14060\nCalifornia               500684\nColorado                  94304\nConnecticut               14995\nDelaware                   9931\nDistrict of Columbia        756\nFlorida                  342187\nGeorgia                  154092\nHawaii                    12117\nIdaho                     21748\nIllinois                  46331\nIndiana                   24795\nIowa                      -4330\nKansas                     2891\nKentucky                  18132\nLouisiana                 -4540\nMaine                      9709\nMaryland                  64248\nMassachusetts             22232\nMichigan                  38811\nMinnesota                 41201\nMississippi                8929\nMissouri                  26154\nMontana                    1276\nNebraska                    658\nNevada                    87351\nNew Hampshire             19300\nNew Jersey                55424\nNew Mexico                 7864\nNew York                  22046\nNorth Carolina           108901\nNorth Dakota              -6471\nOhio                      13586\nOklahoma                   6847\nOregon                    43574\nPennsylvania               4559\nRhode Island               8684\nSouth Carolina            39573\nSouth Dakota               1091\nTennessee                 37994\nTexas                    378515\nUtah                      28234\nVermont                    3381\nVirginia                  83718\nWashington                79601\nWest Virginia             -5183\nWisconsin                 29663\nWyoming                     422\ndtype: int64"
     },
     "execution_count": 254,
     "metadata": {},
     "output_type": "execute_result"
    }
   ],
   "source": [
    "df['2001'] - df['2000']"
   ],
   "metadata": {
    "collapsed": false,
    "ExecuteTime": {
     "end_time": "2023-11-09T12:54:54.796524500Z",
     "start_time": "2023-11-09T12:54:54.700517600Z"
    }
   }
  },
  {
   "cell_type": "code",
   "execution_count": 255,
   "outputs": [
    {
     "data": {
      "text/plain": "region\nUnited States           0.947190\nAlabama                 0.288959\nAlaska                  1.161725\nArizona                 2.750232\nArkansas                0.525013\nCalifornia              1.472581\nColorado                2.181241\nConnecticut             0.439726\nDelaware                1.263110\nDistrict of Columbia    0.132384\nFlorida                 2.131431\nGeorgia                 1.872361\nHawaii                  0.999521\nIdaho                   1.673878\nIllinois                0.372556\nIndiana                 0.407146\nIowa                   -0.147907\nKansas                  0.107402\nKentucky                0.447989\nLouisiana              -0.101567\nMaine                   0.760321\nMaryland                1.209737\nMassachusetts           0.349721\nMichigan                0.389982\nMinnesota               0.835535\nMississippi             0.313397\nMissouri                0.466740\nMontana                 0.141282\nNebraska                0.038422\nNevada                  4.327042\nNew Hampshire           1.556601\nNew Jersey              0.657539\nNew Mexico              0.431784\nNew York                0.116097\nNorth Carolina          1.348224\nNorth Dakota           -1.009644\nOhio                    0.119596\nOklahoma                0.198277\nOregon                  1.270641\nPennsylvania            0.037118\nRhode Island            0.826862\nSouth Carolina          0.983562\nSouth Dakota            0.144406\nTennessee               0.666324\nTexas                   1.807056\nUtah                    1.259572\nVermont                 0.554527\nVirginia                1.178460\nWashington              1.347258\nWest Virginia          -0.286813\nWisconsin               0.552153\nWyoming                 0.085425\ndtype: float64"
     },
     "execution_count": 255,
     "metadata": {},
     "output_type": "execute_result"
    }
   ],
   "source": [
    "increase = 100 * (df['2001'] - df['2000'] )/df['2000']\n",
    "increase"
   ],
   "metadata": {
    "collapsed": false,
    "ExecuteTime": {
     "end_time": "2023-11-09T12:56:24.557025100Z",
     "start_time": "2023-11-09T12:56:24.460043600Z"
    }
   }
  },
  {
   "cell_type": "code",
   "execution_count": 258,
   "outputs": [
    {
     "data": {
      "text/plain": "         Geographic Area  July 1, 2001 Estimate  July 1, 2000 Estimate  \\\n0          United States              284796887              282124631   \n1                Alabama                4464356                4451493   \n2                 Alaska                 634892                 627601   \n3                Arizona                5307331                5165274   \n4               Arkansas                2692090                2678030   \n5             California               34501130               34000446   \n6               Colorado                4417714                4323410   \n7            Connecticut                3425074                3410079   \n8               Delaware                 796165                 786234   \n9   District of Columbia                 571822                 571066   \n10               Florida               16396515               16054328   \n11               Georgia                8383915                8229823   \n12                Hawaii                1224398                1212281   \n13                 Idaho                1321006                1299258   \n14              Illinois               12482301               12435970   \n15               Indiana                6114745                6089950   \n16                  Iowa                2923179                2927509   \n17                Kansas                2694641                2691750   \n18              Kentucky                4065556                4047424   \n19             Louisiana                4465430                4469970   \n20                 Maine                1286670                1276961   \n21              Maryland                5375156                5310908   \n22         Massachusetts                6379304                6357072   \n23              Michigan                9990817                9952006   \n24             Minnesota                4972294                4931093   \n25           Mississippi                2858029                2849100   \n26              Missouri                5629707                5603553   \n27               Montana                 904433                 903157   \n28              Nebraska                1713235                1712577   \n29                Nevada                2106074                2018723   \n30         New Hampshire                1259181                1239881   \n31            New Jersey                8484431                8429007   \n32            New Mexico                1829146                1821282   \n33              New York               19011378               18989332   \n34        North Carolina                8186268                8077367   \n35          North Dakota                 634448                 640919   \n36                  Ohio               11373541               11359955   \n37              Oklahoma                3460097                3453250   \n38                Oregon                3472867                3429293   \n39          Pennsylvania               12287150               12282591   \n40          Rhode Island                1058920                1050236   \n41        South Carolina                4063011                4023438   \n42          South Dakota                 756600                 755509   \n43             Tennessee                5740021                5702027   \n44                 Texas               21325018               20946503   \n45                  Utah                2269789                2241555   \n46               Vermont                 613090                 609709   \n47              Virginia                7187734                7104016   \n48            Washington                5987973                5908372   \n49         West Virginia                1801916                1807099   \n50             Wisconsin                5401906                5372243   \n51               Wyoming                 494423                 494001   \n\n    April 1, 2000 Population Estimates Base  \n0                                 281421906  \n1                                   4447100  \n2                                    626932  \n3                                   5130632  \n4                                   2673400  \n5                                  33871648  \n6                                   4301261  \n7                                   3405565  \n8                                    783600  \n9                                    572059  \n10                                 15982378  \n11                                  8186453  \n12                                  1211537  \n13                                  1293953  \n14                                 12419293  \n15                                  6080485  \n16                                  2926324  \n17                                  2688418  \n18                                  4041769  \n19                                  4468976  \n20                                  1274923  \n21                                  5296486  \n22                                  6349097  \n23                                  9938444  \n24                                  4919479  \n25                                  2844658  \n26                                  5595211  \n27                                   902195  \n28                                  1711263  \n29                                  1998257  \n30                                  1235786  \n31                                  8414350  \n32                                  1819046  \n33                                 18976457  \n34                                  8049313  \n35                                   642200  \n36                                 11353140  \n37                                  3450654  \n38                                  3421399  \n39                                 12281054  \n40                                  1048319  \n41                                  4012012  \n42                                   754844  \n43                                  5689283  \n44                                 20851820  \n45                                  2233169  \n46                                   608827  \n47                                  7078515  \n48                                  5894121  \n49                                  1808344  \n50                                  5363675  \n51                                   493782  ",
      "text/html": "<div>\n<style scoped>\n    .dataframe tbody tr th:only-of-type {\n        vertical-align: middle;\n    }\n\n    .dataframe tbody tr th {\n        vertical-align: top;\n    }\n\n    .dataframe thead th {\n        text-align: right;\n    }\n</style>\n<table border=\"1\" class=\"dataframe\">\n  <thead>\n    <tr style=\"text-align: right;\">\n      <th></th>\n      <th>Geographic Area</th>\n      <th>July 1, 2001 Estimate</th>\n      <th>July 1, 2000 Estimate</th>\n      <th>April 1, 2000 Population Estimates Base</th>\n    </tr>\n  </thead>\n  <tbody>\n    <tr>\n      <th>0</th>\n      <td>United States</td>\n      <td>284796887</td>\n      <td>282124631</td>\n      <td>281421906</td>\n    </tr>\n    <tr>\n      <th>1</th>\n      <td>Alabama</td>\n      <td>4464356</td>\n      <td>4451493</td>\n      <td>4447100</td>\n    </tr>\n    <tr>\n      <th>2</th>\n      <td>Alaska</td>\n      <td>634892</td>\n      <td>627601</td>\n      <td>626932</td>\n    </tr>\n    <tr>\n      <th>3</th>\n      <td>Arizona</td>\n      <td>5307331</td>\n      <td>5165274</td>\n      <td>5130632</td>\n    </tr>\n    <tr>\n      <th>4</th>\n      <td>Arkansas</td>\n      <td>2692090</td>\n      <td>2678030</td>\n      <td>2673400</td>\n    </tr>\n    <tr>\n      <th>5</th>\n      <td>California</td>\n      <td>34501130</td>\n      <td>34000446</td>\n      <td>33871648</td>\n    </tr>\n    <tr>\n      <th>6</th>\n      <td>Colorado</td>\n      <td>4417714</td>\n      <td>4323410</td>\n      <td>4301261</td>\n    </tr>\n    <tr>\n      <th>7</th>\n      <td>Connecticut</td>\n      <td>3425074</td>\n      <td>3410079</td>\n      <td>3405565</td>\n    </tr>\n    <tr>\n      <th>8</th>\n      <td>Delaware</td>\n      <td>796165</td>\n      <td>786234</td>\n      <td>783600</td>\n    </tr>\n    <tr>\n      <th>9</th>\n      <td>District of Columbia</td>\n      <td>571822</td>\n      <td>571066</td>\n      <td>572059</td>\n    </tr>\n    <tr>\n      <th>10</th>\n      <td>Florida</td>\n      <td>16396515</td>\n      <td>16054328</td>\n      <td>15982378</td>\n    </tr>\n    <tr>\n      <th>11</th>\n      <td>Georgia</td>\n      <td>8383915</td>\n      <td>8229823</td>\n      <td>8186453</td>\n    </tr>\n    <tr>\n      <th>12</th>\n      <td>Hawaii</td>\n      <td>1224398</td>\n      <td>1212281</td>\n      <td>1211537</td>\n    </tr>\n    <tr>\n      <th>13</th>\n      <td>Idaho</td>\n      <td>1321006</td>\n      <td>1299258</td>\n      <td>1293953</td>\n    </tr>\n    <tr>\n      <th>14</th>\n      <td>Illinois</td>\n      <td>12482301</td>\n      <td>12435970</td>\n      <td>12419293</td>\n    </tr>\n    <tr>\n      <th>15</th>\n      <td>Indiana</td>\n      <td>6114745</td>\n      <td>6089950</td>\n      <td>6080485</td>\n    </tr>\n    <tr>\n      <th>16</th>\n      <td>Iowa</td>\n      <td>2923179</td>\n      <td>2927509</td>\n      <td>2926324</td>\n    </tr>\n    <tr>\n      <th>17</th>\n      <td>Kansas</td>\n      <td>2694641</td>\n      <td>2691750</td>\n      <td>2688418</td>\n    </tr>\n    <tr>\n      <th>18</th>\n      <td>Kentucky</td>\n      <td>4065556</td>\n      <td>4047424</td>\n      <td>4041769</td>\n    </tr>\n    <tr>\n      <th>19</th>\n      <td>Louisiana</td>\n      <td>4465430</td>\n      <td>4469970</td>\n      <td>4468976</td>\n    </tr>\n    <tr>\n      <th>20</th>\n      <td>Maine</td>\n      <td>1286670</td>\n      <td>1276961</td>\n      <td>1274923</td>\n    </tr>\n    <tr>\n      <th>21</th>\n      <td>Maryland</td>\n      <td>5375156</td>\n      <td>5310908</td>\n      <td>5296486</td>\n    </tr>\n    <tr>\n      <th>22</th>\n      <td>Massachusetts</td>\n      <td>6379304</td>\n      <td>6357072</td>\n      <td>6349097</td>\n    </tr>\n    <tr>\n      <th>23</th>\n      <td>Michigan</td>\n      <td>9990817</td>\n      <td>9952006</td>\n      <td>9938444</td>\n    </tr>\n    <tr>\n      <th>24</th>\n      <td>Minnesota</td>\n      <td>4972294</td>\n      <td>4931093</td>\n      <td>4919479</td>\n    </tr>\n    <tr>\n      <th>25</th>\n      <td>Mississippi</td>\n      <td>2858029</td>\n      <td>2849100</td>\n      <td>2844658</td>\n    </tr>\n    <tr>\n      <th>26</th>\n      <td>Missouri</td>\n      <td>5629707</td>\n      <td>5603553</td>\n      <td>5595211</td>\n    </tr>\n    <tr>\n      <th>27</th>\n      <td>Montana</td>\n      <td>904433</td>\n      <td>903157</td>\n      <td>902195</td>\n    </tr>\n    <tr>\n      <th>28</th>\n      <td>Nebraska</td>\n      <td>1713235</td>\n      <td>1712577</td>\n      <td>1711263</td>\n    </tr>\n    <tr>\n      <th>29</th>\n      <td>Nevada</td>\n      <td>2106074</td>\n      <td>2018723</td>\n      <td>1998257</td>\n    </tr>\n    <tr>\n      <th>30</th>\n      <td>New Hampshire</td>\n      <td>1259181</td>\n      <td>1239881</td>\n      <td>1235786</td>\n    </tr>\n    <tr>\n      <th>31</th>\n      <td>New Jersey</td>\n      <td>8484431</td>\n      <td>8429007</td>\n      <td>8414350</td>\n    </tr>\n    <tr>\n      <th>32</th>\n      <td>New Mexico</td>\n      <td>1829146</td>\n      <td>1821282</td>\n      <td>1819046</td>\n    </tr>\n    <tr>\n      <th>33</th>\n      <td>New York</td>\n      <td>19011378</td>\n      <td>18989332</td>\n      <td>18976457</td>\n    </tr>\n    <tr>\n      <th>34</th>\n      <td>North Carolina</td>\n      <td>8186268</td>\n      <td>8077367</td>\n      <td>8049313</td>\n    </tr>\n    <tr>\n      <th>35</th>\n      <td>North Dakota</td>\n      <td>634448</td>\n      <td>640919</td>\n      <td>642200</td>\n    </tr>\n    <tr>\n      <th>36</th>\n      <td>Ohio</td>\n      <td>11373541</td>\n      <td>11359955</td>\n      <td>11353140</td>\n    </tr>\n    <tr>\n      <th>37</th>\n      <td>Oklahoma</td>\n      <td>3460097</td>\n      <td>3453250</td>\n      <td>3450654</td>\n    </tr>\n    <tr>\n      <th>38</th>\n      <td>Oregon</td>\n      <td>3472867</td>\n      <td>3429293</td>\n      <td>3421399</td>\n    </tr>\n    <tr>\n      <th>39</th>\n      <td>Pennsylvania</td>\n      <td>12287150</td>\n      <td>12282591</td>\n      <td>12281054</td>\n    </tr>\n    <tr>\n      <th>40</th>\n      <td>Rhode Island</td>\n      <td>1058920</td>\n      <td>1050236</td>\n      <td>1048319</td>\n    </tr>\n    <tr>\n      <th>41</th>\n      <td>South Carolina</td>\n      <td>4063011</td>\n      <td>4023438</td>\n      <td>4012012</td>\n    </tr>\n    <tr>\n      <th>42</th>\n      <td>South Dakota</td>\n      <td>756600</td>\n      <td>755509</td>\n      <td>754844</td>\n    </tr>\n    <tr>\n      <th>43</th>\n      <td>Tennessee</td>\n      <td>5740021</td>\n      <td>5702027</td>\n      <td>5689283</td>\n    </tr>\n    <tr>\n      <th>44</th>\n      <td>Texas</td>\n      <td>21325018</td>\n      <td>20946503</td>\n      <td>20851820</td>\n    </tr>\n    <tr>\n      <th>45</th>\n      <td>Utah</td>\n      <td>2269789</td>\n      <td>2241555</td>\n      <td>2233169</td>\n    </tr>\n    <tr>\n      <th>46</th>\n      <td>Vermont</td>\n      <td>613090</td>\n      <td>609709</td>\n      <td>608827</td>\n    </tr>\n    <tr>\n      <th>47</th>\n      <td>Virginia</td>\n      <td>7187734</td>\n      <td>7104016</td>\n      <td>7078515</td>\n    </tr>\n    <tr>\n      <th>48</th>\n      <td>Washington</td>\n      <td>5987973</td>\n      <td>5908372</td>\n      <td>5894121</td>\n    </tr>\n    <tr>\n      <th>49</th>\n      <td>West Virginia</td>\n      <td>1801916</td>\n      <td>1807099</td>\n      <td>1808344</td>\n    </tr>\n    <tr>\n      <th>50</th>\n      <td>Wisconsin</td>\n      <td>5401906</td>\n      <td>5372243</td>\n      <td>5363675</td>\n    </tr>\n    <tr>\n      <th>51</th>\n      <td>Wyoming</td>\n      <td>494423</td>\n      <td>494001</td>\n      <td>493782</td>\n    </tr>\n  </tbody>\n</table>\n</div>"
     },
     "execution_count": 258,
     "metadata": {},
     "output_type": "execute_result"
    }
   ],
   "source": [
    "df = pd.read_excel('populations.xls', sheet_name='data')\n",
    "df"
   ],
   "metadata": {
    "collapsed": false,
    "ExecuteTime": {
     "end_time": "2023-11-09T12:59:23.895311400Z",
     "start_time": "2023-11-09T12:59:23.849002600Z"
    }
   }
  },
  {
   "cell_type": "code",
   "execution_count": 259,
   "outputs": [
    {
     "data": {
      "text/plain": "                           2001       2000\nregion                                    \nUnited States         284796887  282124631\nAlabama                 4464356    4451493\nAlaska                   634892     627601\nArizona                 5307331    5165274\nArkansas                2692090    2678030\nCalifornia             34501130   34000446\nColorado                4417714    4323410\nConnecticut             3425074    3410079\nDelaware                 796165     786234\nDistrict of Columbia     571822     571066\nFlorida                16396515   16054328\nGeorgia                 8383915    8229823\nHawaii                  1224398    1212281\nIdaho                   1321006    1299258\nIllinois               12482301   12435970\nIndiana                 6114745    6089950\nIowa                    2923179    2927509\nKansas                  2694641    2691750\nKentucky                4065556    4047424\nLouisiana               4465430    4469970\nMaine                   1286670    1276961\nMaryland                5375156    5310908\nMassachusetts           6379304    6357072\nMichigan                9990817    9952006\nMinnesota               4972294    4931093\nMississippi             2858029    2849100\nMissouri                5629707    5603553\nMontana                  904433     903157\nNebraska                1713235    1712577\nNevada                  2106074    2018723\nNew Hampshire           1259181    1239881\nNew Jersey              8484431    8429007\nNew Mexico              1829146    1821282\nNew York               19011378   18989332\nNorth Carolina          8186268    8077367\nNorth Dakota             634448     640919\nOhio                   11373541   11359955\nOklahoma                3460097    3453250\nOregon                  3472867    3429293\nPennsylvania           12287150   12282591\nRhode Island            1058920    1050236\nSouth Carolina          4063011    4023438\nSouth Dakota             756600     755509\nTennessee               5740021    5702027\nTexas                  21325018   20946503\nUtah                    2269789    2241555\nVermont                  613090     609709\nVirginia                7187734    7104016\nWashington              5987973    5908372\nWest Virginia           1801916    1807099\nWisconsin               5401906    5372243\nWyoming                  494423     494001",
      "text/html": "<div>\n<style scoped>\n    .dataframe tbody tr th:only-of-type {\n        vertical-align: middle;\n    }\n\n    .dataframe tbody tr th {\n        vertical-align: top;\n    }\n\n    .dataframe thead th {\n        text-align: right;\n    }\n</style>\n<table border=\"1\" class=\"dataframe\">\n  <thead>\n    <tr style=\"text-align: right;\">\n      <th></th>\n      <th>2001</th>\n      <th>2000</th>\n    </tr>\n    <tr>\n      <th>region</th>\n      <th></th>\n      <th></th>\n    </tr>\n  </thead>\n  <tbody>\n    <tr>\n      <th>United States</th>\n      <td>284796887</td>\n      <td>282124631</td>\n    </tr>\n    <tr>\n      <th>Alabama</th>\n      <td>4464356</td>\n      <td>4451493</td>\n    </tr>\n    <tr>\n      <th>Alaska</th>\n      <td>634892</td>\n      <td>627601</td>\n    </tr>\n    <tr>\n      <th>Arizona</th>\n      <td>5307331</td>\n      <td>5165274</td>\n    </tr>\n    <tr>\n      <th>Arkansas</th>\n      <td>2692090</td>\n      <td>2678030</td>\n    </tr>\n    <tr>\n      <th>California</th>\n      <td>34501130</td>\n      <td>34000446</td>\n    </tr>\n    <tr>\n      <th>Colorado</th>\n      <td>4417714</td>\n      <td>4323410</td>\n    </tr>\n    <tr>\n      <th>Connecticut</th>\n      <td>3425074</td>\n      <td>3410079</td>\n    </tr>\n    <tr>\n      <th>Delaware</th>\n      <td>796165</td>\n      <td>786234</td>\n    </tr>\n    <tr>\n      <th>District of Columbia</th>\n      <td>571822</td>\n      <td>571066</td>\n    </tr>\n    <tr>\n      <th>Florida</th>\n      <td>16396515</td>\n      <td>16054328</td>\n    </tr>\n    <tr>\n      <th>Georgia</th>\n      <td>8383915</td>\n      <td>8229823</td>\n    </tr>\n    <tr>\n      <th>Hawaii</th>\n      <td>1224398</td>\n      <td>1212281</td>\n    </tr>\n    <tr>\n      <th>Idaho</th>\n      <td>1321006</td>\n      <td>1299258</td>\n    </tr>\n    <tr>\n      <th>Illinois</th>\n      <td>12482301</td>\n      <td>12435970</td>\n    </tr>\n    <tr>\n      <th>Indiana</th>\n      <td>6114745</td>\n      <td>6089950</td>\n    </tr>\n    <tr>\n      <th>Iowa</th>\n      <td>2923179</td>\n      <td>2927509</td>\n    </tr>\n    <tr>\n      <th>Kansas</th>\n      <td>2694641</td>\n      <td>2691750</td>\n    </tr>\n    <tr>\n      <th>Kentucky</th>\n      <td>4065556</td>\n      <td>4047424</td>\n    </tr>\n    <tr>\n      <th>Louisiana</th>\n      <td>4465430</td>\n      <td>4469970</td>\n    </tr>\n    <tr>\n      <th>Maine</th>\n      <td>1286670</td>\n      <td>1276961</td>\n    </tr>\n    <tr>\n      <th>Maryland</th>\n      <td>5375156</td>\n      <td>5310908</td>\n    </tr>\n    <tr>\n      <th>Massachusetts</th>\n      <td>6379304</td>\n      <td>6357072</td>\n    </tr>\n    <tr>\n      <th>Michigan</th>\n      <td>9990817</td>\n      <td>9952006</td>\n    </tr>\n    <tr>\n      <th>Minnesota</th>\n      <td>4972294</td>\n      <td>4931093</td>\n    </tr>\n    <tr>\n      <th>Mississippi</th>\n      <td>2858029</td>\n      <td>2849100</td>\n    </tr>\n    <tr>\n      <th>Missouri</th>\n      <td>5629707</td>\n      <td>5603553</td>\n    </tr>\n    <tr>\n      <th>Montana</th>\n      <td>904433</td>\n      <td>903157</td>\n    </tr>\n    <tr>\n      <th>Nebraska</th>\n      <td>1713235</td>\n      <td>1712577</td>\n    </tr>\n    <tr>\n      <th>Nevada</th>\n      <td>2106074</td>\n      <td>2018723</td>\n    </tr>\n    <tr>\n      <th>New Hampshire</th>\n      <td>1259181</td>\n      <td>1239881</td>\n    </tr>\n    <tr>\n      <th>New Jersey</th>\n      <td>8484431</td>\n      <td>8429007</td>\n    </tr>\n    <tr>\n      <th>New Mexico</th>\n      <td>1829146</td>\n      <td>1821282</td>\n    </tr>\n    <tr>\n      <th>New York</th>\n      <td>19011378</td>\n      <td>18989332</td>\n    </tr>\n    <tr>\n      <th>North Carolina</th>\n      <td>8186268</td>\n      <td>8077367</td>\n    </tr>\n    <tr>\n      <th>North Dakota</th>\n      <td>634448</td>\n      <td>640919</td>\n    </tr>\n    <tr>\n      <th>Ohio</th>\n      <td>11373541</td>\n      <td>11359955</td>\n    </tr>\n    <tr>\n      <th>Oklahoma</th>\n      <td>3460097</td>\n      <td>3453250</td>\n    </tr>\n    <tr>\n      <th>Oregon</th>\n      <td>3472867</td>\n      <td>3429293</td>\n    </tr>\n    <tr>\n      <th>Pennsylvania</th>\n      <td>12287150</td>\n      <td>12282591</td>\n    </tr>\n    <tr>\n      <th>Rhode Island</th>\n      <td>1058920</td>\n      <td>1050236</td>\n    </tr>\n    <tr>\n      <th>South Carolina</th>\n      <td>4063011</td>\n      <td>4023438</td>\n    </tr>\n    <tr>\n      <th>South Dakota</th>\n      <td>756600</td>\n      <td>755509</td>\n    </tr>\n    <tr>\n      <th>Tennessee</th>\n      <td>5740021</td>\n      <td>5702027</td>\n    </tr>\n    <tr>\n      <th>Texas</th>\n      <td>21325018</td>\n      <td>20946503</td>\n    </tr>\n    <tr>\n      <th>Utah</th>\n      <td>2269789</td>\n      <td>2241555</td>\n    </tr>\n    <tr>\n      <th>Vermont</th>\n      <td>613090</td>\n      <td>609709</td>\n    </tr>\n    <tr>\n      <th>Virginia</th>\n      <td>7187734</td>\n      <td>7104016</td>\n    </tr>\n    <tr>\n      <th>Washington</th>\n      <td>5987973</td>\n      <td>5908372</td>\n    </tr>\n    <tr>\n      <th>West Virginia</th>\n      <td>1801916</td>\n      <td>1807099</td>\n    </tr>\n    <tr>\n      <th>Wisconsin</th>\n      <td>5401906</td>\n      <td>5372243</td>\n    </tr>\n    <tr>\n      <th>Wyoming</th>\n      <td>494423</td>\n      <td>494001</td>\n    </tr>\n  </tbody>\n</table>\n</div>"
     },
     "execution_count": 259,
     "metadata": {},
     "output_type": "execute_result"
    }
   ],
   "source": [
    "df = pd.read_excel(\n",
    "    'populations.xls',\n",
    "    header=0,\n",
    "    names=['region','2001','2000'],\n",
    "    usecols=[0,1,2],\n",
    "    index_col = 0\n",
    ")\n",
    "df"
   ],
   "metadata": {
    "collapsed": false,
    "ExecuteTime": {
     "end_time": "2023-11-09T13:01:31.008170800Z",
     "start_time": "2023-11-09T13:01:30.877187100Z"
    }
   }
  },
  {
   "cell_type": "code",
   "execution_count": 260,
   "outputs": [
    {
     "name": "stdout",
     "output_type": "stream",
     "text": [
      "<class 'pandas.core.frame.DataFrame'>\n",
      "Index: 52 entries, United States to Wyoming\n",
      "Data columns (total 2 columns):\n",
      " #   Column  Non-Null Count  Dtype\n",
      "---  ------  --------------  -----\n",
      " 0   2001    52 non-null     int64\n",
      " 1   2000    52 non-null     int64\n",
      "dtypes: int64(2)\n",
      "memory usage: 1.2+ KB\n"
     ]
    }
   ],
   "source": [
    "df.info()"
   ],
   "metadata": {
    "collapsed": false,
    "ExecuteTime": {
     "end_time": "2023-11-09T13:02:13.321333400Z",
     "start_time": "2023-11-09T13:02:13.237331200Z"
    }
   }
  },
  {
   "cell_type": "code",
   "execution_count": null,
   "outputs": [],
   "source": [],
   "metadata": {
    "collapsed": false
   }
  }
 ],
 "metadata": {
  "kernelspec": {
   "display_name": "Python 3",
   "language": "python",
   "name": "python3"
  },
  "language_info": {
   "codemirror_mode": {
    "name": "ipython",
    "version": 2
   },
   "file_extension": ".py",
   "mimetype": "text/x-python",
   "name": "python",
   "nbconvert_exporter": "python",
   "pygments_lexer": "ipython2",
   "version": "2.7.6"
  }
 },
 "nbformat": 4,
 "nbformat_minor": 0
}
