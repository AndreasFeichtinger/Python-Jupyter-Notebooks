{
 "cells": [
  {
   "cell_type": "code",
   "execution_count": 3,
   "metadata": {
    "collapsed": true,
    "ExecuteTime": {
     "end_time": "2023-11-09T07:38:52.975077200Z",
     "start_time": "2023-11-09T07:38:52.954076200Z"
    }
   },
   "outputs": [],
   "source": [
    "import pandas as pd\n",
    "import numpy as np"
   ]
  },
  {
   "cell_type": "code",
   "execution_count": 1,
   "outputs": [
    {
     "ename": "NameError",
     "evalue": "name 'pd' is not defined",
     "output_type": "error",
     "traceback": [
      "\u001B[1;31m---------------------------------------------------------------------------\u001B[0m",
      "\u001B[1;31mNameError\u001B[0m                                 Traceback (most recent call last)",
      "\u001B[1;32m~\\AppData\\Local\\Temp\\ipykernel_75772\\3976932671.py\u001B[0m in \u001B[0;36m<module>\u001B[1;34m\u001B[0m\n\u001B[1;32m----> 1\u001B[1;33m \u001B[0midx\u001B[0m \u001B[1;33m=\u001B[0m \u001B[0mpd\u001B[0m\u001B[1;33m.\u001B[0m\u001B[0mIndex\u001B[0m\u001B[1;33m(\u001B[0m\u001B[1;33m[\u001B[0m\u001B[1;36m10\u001B[0m\u001B[1;33m,\u001B[0m \u001B[1;36m20\u001B[0m\u001B[1;33m,\u001B[0m \u001B[1;36m30\u001B[0m\u001B[1;33m]\u001B[0m\u001B[1;33m)\u001B[0m\u001B[1;33m\u001B[0m\u001B[1;33m\u001B[0m\u001B[0m\n\u001B[0m",
      "\u001B[1;31mNameError\u001B[0m: name 'pd' is not defined"
     ]
    }
   ],
   "source": [
    "idx = pd.Index([10, 2]\n",
    "0, 30])"
   ],
   "metadata": {
    "collapsed": false,
    "ExecuteTime": {
     "end_time": "2023-11-13T09:54:59.039569800Z",
     "start_time": "2023-11-13T09:54:58.760567100Z"
    }
   }
  },
  {
   "cell_type": "code",
   "execution_count": 5,
   "outputs": [
    {
     "data": {
      "text/plain": "Int64Index([10, 20, 30], dtype='int64')"
     },
     "execution_count": 5,
     "metadata": {},
     "output_type": "execute_result"
    }
   ],
   "source": [
    "idx"
   ],
   "metadata": {
    "collapsed": false,
    "ExecuteTime": {
     "end_time": "2023-11-09T07:38:53.908582Z",
     "start_time": "2023-11-09T07:38:53.887580500Z"
    }
   }
  },
  {
   "cell_type": "code",
   "execution_count": 6,
   "outputs": [],
   "source": [
    "idx = pd.Index([1, 3.14])"
   ],
   "metadata": {
    "collapsed": false,
    "ExecuteTime": {
     "end_time": "2023-11-09T07:38:54.310929200Z",
     "start_time": "2023-11-09T07:38:54.298928900Z"
    }
   }
  },
  {
   "cell_type": "code",
   "execution_count": 7,
   "outputs": [
    {
     "data": {
      "text/plain": "Float64Index([1.0, 3.14], dtype='float64')"
     },
     "execution_count": 7,
     "metadata": {},
     "output_type": "execute_result"
    }
   ],
   "source": [
    "idx"
   ],
   "metadata": {
    "collapsed": false,
    "ExecuteTime": {
     "end_time": "2023-11-09T07:38:54.757351300Z",
     "start_time": "2023-11-09T07:38:54.733349500Z"
    }
   }
  },
  {
   "cell_type": "code",
   "execution_count": 8,
   "outputs": [],
   "source": [
    "idx = pd.Index(['element 1', 'element 2'])"
   ],
   "metadata": {
    "collapsed": false,
    "ExecuteTime": {
     "end_time": "2023-11-09T07:38:55.086718800Z",
     "start_time": "2023-11-09T07:38:55.074718600Z"
    }
   }
  },
  {
   "cell_type": "code",
   "execution_count": 9,
   "outputs": [
    {
     "data": {
      "text/plain": "Index(['element 1', 'element 2'], dtype='object')"
     },
     "execution_count": 9,
     "metadata": {},
     "output_type": "execute_result"
    }
   ],
   "source": [
    "idx"
   ],
   "metadata": {
    "collapsed": false,
    "ExecuteTime": {
     "end_time": "2023-11-09T07:38:55.408731500Z",
     "start_time": "2023-11-09T07:38:55.386724300Z"
    }
   }
  },
  {
   "cell_type": "code",
   "execution_count": 10,
   "outputs": [
    {
     "data": {
      "text/plain": "Int64Index([2, 4, 6, 8, 10], dtype='int64')"
     },
     "execution_count": 10,
     "metadata": {},
     "output_type": "execute_result"
    }
   ],
   "source": [
    "idx = pd.Index([2, 4, 6, 8, 10])\n",
    "idx"
   ],
   "metadata": {
    "collapsed": false,
    "ExecuteTime": {
     "end_time": "2023-11-09T07:38:55.736731900Z",
     "start_time": "2023-11-09T07:38:55.716728100Z"
    }
   }
  },
  {
   "cell_type": "code",
   "execution_count": 11,
   "outputs": [
    {
     "data": {
      "text/plain": "2"
     },
     "execution_count": 11,
     "metadata": {},
     "output_type": "execute_result"
    }
   ],
   "source": [
    "idx[0]"
   ],
   "metadata": {
    "collapsed": false,
    "ExecuteTime": {
     "end_time": "2023-11-09T07:38:56.023731500Z",
     "start_time": "2023-11-09T07:38:56.003726600Z"
    }
   }
  },
  {
   "cell_type": "code",
   "execution_count": 12,
   "outputs": [
    {
     "data": {
      "text/plain": "Int64Index([4, 6, 8], dtype='int64')"
     },
     "execution_count": 12,
     "metadata": {},
     "output_type": "execute_result"
    }
   ],
   "source": [
    "idx[1:4]"
   ],
   "metadata": {
    "collapsed": false,
    "ExecuteTime": {
     "end_time": "2023-11-09T07:38:56.325887800Z",
     "start_time": "2023-11-09T07:38:56.299887500Z"
    }
   }
  },
  {
   "cell_type": "code",
   "execution_count": 13,
   "outputs": [
    {
     "data": {
      "text/plain": "Int64Index([4, 8, 10], dtype='int64')"
     },
     "execution_count": 13,
     "metadata": {},
     "output_type": "execute_result"
    }
   ],
   "source": [
    "idx[[1, 3, 4]]"
   ],
   "metadata": {
    "collapsed": false,
    "ExecuteTime": {
     "end_time": "2023-11-09T07:38:56.727339500Z",
     "start_time": "2023-11-09T07:38:56.714337700Z"
    }
   }
  },
  {
   "cell_type": "code",
   "execution_count": 14,
   "outputs": [
    {
     "data": {
      "text/plain": "Index(['London', 'Paris', 'New York'], dtype='object')"
     },
     "execution_count": 14,
     "metadata": {},
     "output_type": "execute_result"
    }
   ],
   "source": [
    "idx = pd.Index(['London', 'Paris', 'New York', 'Tokyo'])\n",
    "idx[idx != 'Tokyo']"
   ],
   "metadata": {
    "collapsed": false,
    "ExecuteTime": {
     "end_time": "2023-11-09T07:38:57.165473600Z",
     "start_time": "2023-11-09T07:38:57.133575800Z"
    }
   }
  },
  {
   "cell_type": "code",
   "execution_count": 15,
   "outputs": [
    {
     "name": "stdout",
     "output_type": "stream",
     "text": [
      "TypeError:  Index does not support mutable operations\n"
     ]
    }
   ],
   "source": [
    "try:\n",
    "    idx[0] = 100\n",
    "except TypeError as ex:\n",
    "    print('TypeError: ', ex)"
   ],
   "metadata": {
    "collapsed": false,
    "ExecuteTime": {
     "end_time": "2023-11-09T07:38:57.398475200Z",
     "start_time": "2023-11-09T07:38:57.376474800Z"
    }
   }
  },
  {
   "cell_type": "code",
   "execution_count": 16,
   "outputs": [],
   "source": [
    "idx_1 = pd.Index(['a', 'b', 'c'])\n",
    "idx_2 = pd.Index(['c', 'd', 'e'])\n"
   ],
   "metadata": {
    "collapsed": false,
    "ExecuteTime": {
     "end_time": "2023-11-09T07:38:57.619699800Z",
     "start_time": "2023-11-09T07:38:57.595702300Z"
    }
   }
  },
  {
   "cell_type": "code",
   "execution_count": 17,
   "outputs": [
    {
     "name": "stderr",
     "output_type": "stream",
     "text": [
      "C:\\Users\\feichtinge_a\\AppData\\Local\\Temp\\ipykernel_23284\\760049088.py:1: FutureWarning: Index.__and__ operating as a set operation is deprecated, in the future this will be a logical operation matching Series.__and__.  Use index.intersection(other) instead.\n",
      "  idx_1 & idx_2\n"
     ]
    },
    {
     "data": {
      "text/plain": "Index(['c'], dtype='object')"
     },
     "execution_count": 17,
     "metadata": {},
     "output_type": "execute_result"
    }
   ],
   "source": [
    "idx_1 & idx_2\n"
   ],
   "metadata": {
    "collapsed": false,
    "ExecuteTime": {
     "end_time": "2023-11-09T07:38:57.828740300Z",
     "start_time": "2023-11-09T07:38:57.782707100Z"
    }
   }
  },
  {
   "cell_type": "code",
   "execution_count": 18,
   "outputs": [
    {
     "data": {
      "text/plain": "Index(['c'], dtype='object')"
     },
     "execution_count": 18,
     "metadata": {},
     "output_type": "execute_result"
    }
   ],
   "source": [
    "idx_1.intersection(idx_2)"
   ],
   "metadata": {
    "collapsed": false,
    "ExecuteTime": {
     "end_time": "2023-11-09T07:38:58.204550700Z",
     "start_time": "2023-11-09T07:38:58.173514600Z"
    }
   }
  },
  {
   "cell_type": "code",
   "execution_count": 19,
   "outputs": [
    {
     "name": "stderr",
     "output_type": "stream",
     "text": [
      "C:\\Users\\feichtinge_a\\AppData\\Local\\Temp\\ipykernel_23284\\2310009055.py:1: FutureWarning: Index.__or__ operating as a set operation is deprecated, in the future this will be a logical operation matching Series.__or__.  Use index.union(other) instead.\n",
      "  idx_1 | idx_2\n"
     ]
    },
    {
     "data": {
      "text/plain": "Index(['a', 'b', 'c', 'd', 'e'], dtype='object')"
     },
     "execution_count": 19,
     "metadata": {},
     "output_type": "execute_result"
    }
   ],
   "source": [
    "idx_1 | idx_2"
   ],
   "metadata": {
    "collapsed": false,
    "ExecuteTime": {
     "end_time": "2023-11-09T07:38:58.393528500Z",
     "start_time": "2023-11-09T07:38:58.380516700Z"
    }
   }
  },
  {
   "cell_type": "code",
   "execution_count": 20,
   "outputs": [
    {
     "data": {
      "text/plain": "Index(['a', 'b', 'c', 'd', 'e'], dtype='object')"
     },
     "execution_count": 20,
     "metadata": {},
     "output_type": "execute_result"
    }
   ],
   "source": [
    "idx_1.union(idx_2)"
   ],
   "metadata": {
    "collapsed": false,
    "ExecuteTime": {
     "end_time": "2023-11-09T07:38:58.624555200Z",
     "start_time": "2023-11-09T07:38:58.581525500Z"
    }
   }
  },
  {
   "cell_type": "code",
   "execution_count": 21,
   "outputs": [
    {
     "data": {
      "text/plain": "Index(['a', 'b', 'c', 'd', 'e'], dtype='object')"
     },
     "execution_count": 21,
     "metadata": {},
     "output_type": "execute_result"
    }
   ],
   "source": [
    "idx_2.union(idx_1)\n"
   ],
   "metadata": {
    "collapsed": false,
    "ExecuteTime": {
     "end_time": "2023-11-09T07:38:58.809523300Z",
     "start_time": "2023-11-09T07:38:58.784545800Z"
    }
   }
  },
  {
   "cell_type": "code",
   "execution_count": 22,
   "outputs": [
    {
     "data": {
      "text/plain": "Float64Index([1.0, 1.1, 2.0, 2.2, 3.0], dtype='float64')"
     },
     "execution_count": 22,
     "metadata": {},
     "output_type": "execute_result"
    }
   ],
   "source": [
    "pd.Index([1, 2, 3]).union(pd.Index([1.1, 2.2, 3.0]))"
   ],
   "metadata": {
    "collapsed": false,
    "ExecuteTime": {
     "end_time": "2023-11-09T07:38:59.006565100Z",
     "start_time": "2023-11-09T07:38:58.975526800Z"
    }
   }
  },
  {
   "cell_type": "code",
   "execution_count": 23,
   "outputs": [
    {
     "data": {
      "text/plain": "RangeIndex(start=2, stop=10, step=2)"
     },
     "execution_count": 23,
     "metadata": {},
     "output_type": "execute_result"
    }
   ],
   "source": [
    "pd.Index(range(2, 10, 2))"
   ],
   "metadata": {
    "collapsed": false,
    "ExecuteTime": {
     "end_time": "2023-11-09T07:38:59.193910700Z",
     "start_time": "2023-11-09T07:38:59.143919200Z"
    }
   }
  },
  {
   "cell_type": "code",
   "execution_count": 24,
   "outputs": [
    {
     "data": {
      "text/plain": "RangeIndex(start=2, stop=10, step=2)"
     },
     "execution_count": 24,
     "metadata": {},
     "output_type": "execute_result"
    }
   ],
   "source": [
    "idx = pd.RangeIndex(2, 10, 2)\n",
    "idx"
   ],
   "metadata": {
    "collapsed": false,
    "ExecuteTime": {
     "end_time": "2023-11-09T07:38:59.383911500Z",
     "start_time": "2023-11-09T07:38:59.353911800Z"
    }
   }
  },
  {
   "cell_type": "code",
   "execution_count": 25,
   "outputs": [
    {
     "data": {
      "text/plain": "RangeIndex(start=2, stop=10, step=2)"
     },
     "execution_count": 25,
     "metadata": {},
     "output_type": "execute_result"
    }
   ],
   "source": [
    "idx"
   ],
   "metadata": {
    "collapsed": false,
    "ExecuteTime": {
     "end_time": "2023-11-09T07:38:59.536916800Z",
     "start_time": "2023-11-09T07:38:59.524914600Z"
    }
   }
  },
  {
   "cell_type": "code",
   "execution_count": 26,
   "outputs": [
    {
     "data": {
      "text/plain": "RangeIndex(start=4, stop=10, step=2)"
     },
     "execution_count": 26,
     "metadata": {},
     "output_type": "execute_result"
    }
   ],
   "source": [
    "idx[1:4]"
   ],
   "metadata": {
    "collapsed": false,
    "ExecuteTime": {
     "end_time": "2023-11-09T07:38:59.737915600Z",
     "start_time": "2023-11-09T07:38:59.725915800Z"
    }
   }
  },
  {
   "cell_type": "code",
   "execution_count": 27,
   "outputs": [
    {
     "data": {
      "text/plain": "RangeIndex(start=8, stop=0, step=-2)"
     },
     "execution_count": 27,
     "metadata": {},
     "output_type": "execute_result"
    }
   ],
   "source": [
    "idx[::-1]"
   ],
   "metadata": {
    "collapsed": false,
    "ExecuteTime": {
     "end_time": "2023-11-09T07:38:59.950477Z",
     "start_time": "2023-11-09T07:38:59.919840700Z"
    }
   }
  },
  {
   "cell_type": "code",
   "execution_count": 28,
   "outputs": [
    {
     "data": {
      "text/plain": "[0, 1, 2, 3, 4]"
     },
     "execution_count": 28,
     "metadata": {},
     "output_type": "execute_result"
    }
   ],
   "source": [
    "idx_1 = pd.RangeIndex(0, 5)\n",
    "list(idx_1)"
   ],
   "metadata": {
    "collapsed": false,
    "ExecuteTime": {
     "end_time": "2023-11-09T07:39:00.106708Z",
     "start_time": "2023-11-09T07:39:00.095707Z"
    }
   }
  },
  {
   "cell_type": "code",
   "execution_count": 29,
   "outputs": [
    {
     "data": {
      "text/plain": "[4, 5, 6, 7]"
     },
     "execution_count": 29,
     "metadata": {},
     "output_type": "execute_result"
    }
   ],
   "source": [
    "idx_2 = pd.RangeIndex(4, 8)\n",
    "list(idx_2)"
   ],
   "metadata": {
    "collapsed": false,
    "ExecuteTime": {
     "end_time": "2023-11-09T07:39:00.359241200Z",
     "start_time": "2023-11-09T07:39:00.338233700Z"
    }
   }
  },
  {
   "cell_type": "code",
   "execution_count": 30,
   "outputs": [
    {
     "data": {
      "text/plain": "RangeIndex(start=4, stop=5, step=1)"
     },
     "execution_count": 30,
     "metadata": {},
     "output_type": "execute_result"
    }
   ],
   "source": [
    "idx_1.intersection(idx_2)"
   ],
   "metadata": {
    "collapsed": false,
    "ExecuteTime": {
     "end_time": "2023-11-09T07:39:00.500076Z",
     "start_time": "2023-11-09T07:39:00.488076Z"
    }
   }
  },
  {
   "cell_type": "code",
   "execution_count": 31,
   "outputs": [
    {
     "data": {
      "text/plain": "[0, 1, 2, 3, 4, 5, 6, 7]"
     },
     "execution_count": 31,
     "metadata": {},
     "output_type": "execute_result"
    }
   ],
   "source": [
    "list(idx_1.union(idx_2))\n"
   ],
   "metadata": {
    "collapsed": false,
    "ExecuteTime": {
     "end_time": "2023-11-09T07:39:00.708336Z",
     "start_time": "2023-11-09T07:39:00.683333400Z"
    }
   }
  },
  {
   "cell_type": "code",
   "execution_count": 32,
   "outputs": [
    {
     "data": {
      "text/plain": "[1, 3, 4, 5, 7, 9]"
     },
     "execution_count": 32,
     "metadata": {},
     "output_type": "execute_result"
    }
   ],
   "source": [
    "list(pd.RangeIndex(1, 10, 2).union(pd.RangeIndex(1, 10, 3)))"
   ],
   "metadata": {
    "collapsed": false,
    "ExecuteTime": {
     "end_time": "2023-11-09T07:39:00.930610800Z",
     "start_time": "2023-11-09T07:39:00.893965700Z"
    }
   }
  },
  {
   "cell_type": "code",
   "execution_count": 33,
   "outputs": [],
   "source": [
    "idx_1 = pd.Index(['a', 'b', 'c'])\n",
    "idx_2 = pd.RangeIndex(0, 10, 2)\n"
   ],
   "metadata": {
    "collapsed": false,
    "ExecuteTime": {
     "end_time": "2023-11-09T07:39:01.092591600Z",
     "start_time": "2023-11-09T07:39:01.064583200Z"
    }
   }
  },
  {
   "cell_type": "code",
   "execution_count": 34,
   "outputs": [
    {
     "data": {
      "text/plain": "True"
     },
     "execution_count": 34,
     "metadata": {},
     "output_type": "execute_result"
    }
   ],
   "source": [
    "'b' in idx_1"
   ],
   "metadata": {
    "collapsed": false,
    "ExecuteTime": {
     "end_time": "2023-11-09T07:39:01.279625300Z",
     "start_time": "2023-11-09T07:39:01.259963400Z"
    }
   }
  },
  {
   "cell_type": "code",
   "execution_count": 35,
   "outputs": [
    {
     "data": {
      "text/plain": "True"
     },
     "execution_count": 35,
     "metadata": {},
     "output_type": "execute_result"
    }
   ],
   "source": [
    "8 in idx_2"
   ],
   "metadata": {
    "collapsed": false,
    "ExecuteTime": {
     "end_time": "2023-11-09T07:39:01.518585600Z",
     "start_time": "2023-11-09T07:39:01.474581100Z"
    }
   }
  },
  {
   "cell_type": "code",
   "execution_count": 36,
   "outputs": [
    {
     "data": {
      "text/plain": "False"
     },
     "execution_count": 36,
     "metadata": {},
     "output_type": "execute_result"
    }
   ],
   "source": [
    "10 in idx_2"
   ],
   "metadata": {
    "collapsed": false,
    "ExecuteTime": {
     "end_time": "2023-11-09T07:39:01.689617Z",
     "start_time": "2023-11-09T07:39:01.666588600Z"
    }
   }
  },
  {
   "cell_type": "code",
   "execution_count": 37,
   "outputs": [],
   "source": [
    "idx = pd.Index([1, 1, 2, 2, 3, 3])"
   ],
   "metadata": {
    "collapsed": false,
    "ExecuteTime": {
     "end_time": "2023-11-09T07:39:01.900679400Z",
     "start_time": "2023-11-09T07:39:01.877668400Z"
    }
   }
  },
  {
   "cell_type": "code",
   "execution_count": 38,
   "outputs": [
    {
     "data": {
      "text/plain": "Int64Index([1, 1, 2, 2, 3, 3], dtype='int64')"
     },
     "execution_count": 38,
     "metadata": {},
     "output_type": "execute_result"
    }
   ],
   "source": [
    "idx"
   ],
   "metadata": {
    "collapsed": false,
    "ExecuteTime": {
     "end_time": "2023-11-09T07:39:02.073086900Z",
     "start_time": "2023-11-09T07:39:02.047495Z"
    }
   }
  },
  {
   "cell_type": "code",
   "execution_count": 39,
   "outputs": [],
   "source": [
    "s = pd.Series([10, 20, 30], index=['a', 'b', 'c'])"
   ],
   "metadata": {
    "collapsed": false,
    "ExecuteTime": {
     "end_time": "2023-11-09T07:39:02.246073Z",
     "start_time": "2023-11-09T07:39:02.232101300Z"
    }
   }
  },
  {
   "cell_type": "code",
   "execution_count": 40,
   "outputs": [
    {
     "data": {
      "text/plain": "a    10\nb    20\nc    30\ndtype: int64"
     },
     "execution_count": 40,
     "metadata": {},
     "output_type": "execute_result"
    }
   ],
   "source": [
    "s"
   ],
   "metadata": {
    "collapsed": false,
    "ExecuteTime": {
     "end_time": "2023-11-09T07:39:02.451073600Z",
     "start_time": "2023-11-09T07:39:02.438074500Z"
    }
   }
  },
  {
   "cell_type": "code",
   "execution_count": 41,
   "outputs": [
    {
     "data": {
      "text/plain": "10"
     },
     "execution_count": 41,
     "metadata": {},
     "output_type": "execute_result"
    }
   ],
   "source": [
    "s['a']"
   ],
   "metadata": {
    "collapsed": false,
    "ExecuteTime": {
     "end_time": "2023-11-09T07:39:02.716075200Z",
     "start_time": "2023-11-09T07:39:02.672081200Z"
    }
   }
  },
  {
   "cell_type": "code",
   "execution_count": 42,
   "outputs": [],
   "source": [
    "s['c'] = 100"
   ],
   "metadata": {
    "collapsed": false,
    "ExecuteTime": {
     "end_time": "2023-11-09T07:39:02.871077300Z",
     "start_time": "2023-11-09T07:39:02.842086300Z"
    }
   }
  },
  {
   "cell_type": "code",
   "execution_count": 43,
   "outputs": [
    {
     "data": {
      "text/plain": "a     10\nb     20\nc    100\ndtype: int64"
     },
     "execution_count": 43,
     "metadata": {},
     "output_type": "execute_result"
    }
   ],
   "source": [
    "s"
   ],
   "metadata": {
    "collapsed": false,
    "ExecuteTime": {
     "end_time": "2023-11-09T07:39:03.060079600Z",
     "start_time": "2023-11-09T07:39:03.041077900Z"
    }
   }
  },
  {
   "cell_type": "code",
   "execution_count": 44,
   "outputs": [],
   "source": [
    "s['d'] = 500"
   ],
   "metadata": {
    "collapsed": false,
    "ExecuteTime": {
     "end_time": "2023-11-09T07:39:03.249079200Z",
     "start_time": "2023-11-09T07:39:03.211081800Z"
    }
   }
  },
  {
   "cell_type": "code",
   "execution_count": 45,
   "outputs": [
    {
     "data": {
      "text/plain": "a     10\nb     20\nc    100\nd    500\ndtype: int64"
     },
     "execution_count": 45,
     "metadata": {},
     "output_type": "execute_result"
    }
   ],
   "source": [
    "s"
   ],
   "metadata": {
    "collapsed": false,
    "ExecuteTime": {
     "end_time": "2023-11-09T07:39:03.471090900Z",
     "start_time": "2023-11-09T07:39:03.435082300Z"
    }
   }
  },
  {
   "cell_type": "code",
   "execution_count": 46,
   "outputs": [],
   "source": [
    "capitals = {\n",
    "    'USA': 'Washington D.C.',\n",
    "    'Canada': 'Ottawa',\n",
    "    'UK': 'London',\n",
    "    'France': 'Paris'\n",
    "}"
   ],
   "metadata": {
    "collapsed": false,
    "ExecuteTime": {
     "end_time": "2023-11-09T07:39:03.684082400Z",
     "start_time": "2023-11-09T07:39:03.643082800Z"
    }
   }
  },
  {
   "cell_type": "code",
   "execution_count": 47,
   "outputs": [],
   "source": [
    "s = pd.Series(capitals)"
   ],
   "metadata": {
    "collapsed": false,
    "ExecuteTime": {
     "end_time": "2023-11-09T07:39:03.844085500Z",
     "start_time": "2023-11-09T07:39:03.812085600Z"
    }
   }
  },
  {
   "cell_type": "code",
   "execution_count": 48,
   "outputs": [
    {
     "data": {
      "text/plain": "USA       Washington D.C.\nCanada             Ottawa\nUK                 London\nFrance              Paris\ndtype: object"
     },
     "execution_count": 48,
     "metadata": {},
     "output_type": "execute_result"
    }
   ],
   "source": [
    "s"
   ],
   "metadata": {
    "collapsed": false,
    "ExecuteTime": {
     "end_time": "2023-11-09T07:39:04.311090700Z",
     "start_time": "2023-11-09T07:39:04.275089800Z"
    }
   }
  },
  {
   "cell_type": "code",
   "execution_count": 49,
   "outputs": [
    {
     "data": {
      "text/plain": "Index(['USA', 'Canada', 'UK', 'France'], dtype='object')"
     },
     "execution_count": 49,
     "metadata": {},
     "output_type": "execute_result"
    }
   ],
   "source": [
    "s.index"
   ],
   "metadata": {
    "collapsed": false,
    "ExecuteTime": {
     "end_time": "2023-11-09T07:39:04.641217Z",
     "start_time": "2023-11-09T07:39:04.617727800Z"
    }
   }
  },
  {
   "cell_type": "code",
   "execution_count": 50,
   "outputs": [
    {
     "data": {
      "text/plain": "array(['Washington D.C.', 'Ottawa', 'London', 'Paris'], dtype=object)"
     },
     "execution_count": 50,
     "metadata": {},
     "output_type": "execute_result"
    }
   ],
   "source": [
    "s.values"
   ],
   "metadata": {
    "collapsed": false,
    "ExecuteTime": {
     "end_time": "2023-11-09T07:39:05.128288300Z",
     "start_time": "2023-11-09T07:39:05.102255900Z"
    }
   }
  },
  {
   "cell_type": "code",
   "execution_count": 51,
   "outputs": [
    {
     "data": {
      "text/plain": "numpy.ndarray"
     },
     "execution_count": 51,
     "metadata": {},
     "output_type": "execute_result"
    }
   ],
   "source": [
    "type(s.values)"
   ],
   "metadata": {
    "collapsed": false,
    "ExecuteTime": {
     "end_time": "2023-11-09T07:39:05.481294Z",
     "start_time": "2023-11-09T07:39:05.445257400Z"
    }
   }
  },
  {
   "cell_type": "code",
   "execution_count": 52,
   "outputs": [
    {
     "data": {
      "text/plain": "<zip at 0x2c40451cbc0>"
     },
     "execution_count": 52,
     "metadata": {},
     "output_type": "execute_result"
    }
   ],
   "source": [
    "s.items()"
   ],
   "metadata": {
    "collapsed": false,
    "ExecuteTime": {
     "end_time": "2023-11-09T07:39:05.720266200Z",
     "start_time": "2023-11-09T07:39:05.682295200Z"
    }
   }
  },
  {
   "cell_type": "code",
   "execution_count": 53,
   "outputs": [
    {
     "data": {
      "text/plain": "[('USA', 'Washington D.C.'),\n ('Canada', 'Ottawa'),\n ('UK', 'London'),\n ('France', 'Paris')]"
     },
     "execution_count": 53,
     "metadata": {},
     "output_type": "execute_result"
    }
   ],
   "source": [
    "list(s.items())"
   ],
   "metadata": {
    "collapsed": false,
    "ExecuteTime": {
     "end_time": "2023-11-09T07:39:06.116035100Z",
     "start_time": "2023-11-09T07:39:06.086122100Z"
    }
   }
  },
  {
   "cell_type": "code",
   "execution_count": 54,
   "outputs": [],
   "source": [
    "areas = pd.Series(\n",
    "    ['USA', 'Topeka', 'France', 'Lyon', 'UK', 'Glasgow'],\n",
    "    index=['country', 'city', 'country', 'city', 'country', 'city']\n",
    ")"
   ],
   "metadata": {
    "collapsed": false,
    "ExecuteTime": {
     "end_time": "2023-11-09T07:39:06.542791400Z",
     "start_time": "2023-11-09T07:39:06.525790500Z"
    }
   }
  },
  {
   "cell_type": "code",
   "execution_count": 55,
   "outputs": [
    {
     "data": {
      "text/plain": "country        USA\ncity        Topeka\ncountry     France\ncity          Lyon\ncountry         UK\ncity       Glasgow\ndtype: object"
     },
     "execution_count": 55,
     "metadata": {},
     "output_type": "execute_result"
    }
   ],
   "source": [
    "areas"
   ],
   "metadata": {
    "collapsed": false,
    "ExecuteTime": {
     "end_time": "2023-11-09T07:39:06.773808400Z",
     "start_time": "2023-11-09T07:39:06.749806400Z"
    }
   }
  },
  {
   "cell_type": "code",
   "execution_count": 56,
   "outputs": [
    {
     "data": {
      "text/plain": "city     Topeka\ncity       Lyon\ncity    Glasgow\ndtype: object"
     },
     "execution_count": 56,
     "metadata": {},
     "output_type": "execute_result"
    }
   ],
   "source": [
    "areas['city']"
   ],
   "metadata": {
    "collapsed": false,
    "ExecuteTime": {
     "end_time": "2023-11-09T07:39:07.050899300Z",
     "start_time": "2023-11-09T07:39:06.969865300Z"
    }
   }
  },
  {
   "cell_type": "code",
   "execution_count": 57,
   "outputs": [
    {
     "data": {
      "text/plain": "'Glasgow'"
     },
     "execution_count": 57,
     "metadata": {},
     "output_type": "execute_result"
    }
   ],
   "source": [
    "areas[5]"
   ],
   "metadata": {
    "collapsed": false,
    "ExecuteTime": {
     "end_time": "2023-11-09T07:39:07.267918100Z",
     "start_time": "2023-11-09T07:39:07.204908100Z"
    }
   }
  },
  {
   "cell_type": "code",
   "execution_count": 58,
   "outputs": [],
   "source": [
    "areas[1] = 'Rom'"
   ],
   "metadata": {
    "collapsed": false,
    "ExecuteTime": {
     "end_time": "2023-11-09T07:39:07.950070800Z",
     "start_time": "2023-11-09T07:39:07.939069200Z"
    }
   }
  },
  {
   "cell_type": "code",
   "execution_count": 59,
   "outputs": [
    {
     "data": {
      "text/plain": "country        USA\ncity           Rom\ncountry     France\ncity          Lyon\ncountry         UK\ncity       Glasgow\ndtype: object"
     },
     "execution_count": 59,
     "metadata": {},
     "output_type": "execute_result"
    }
   ],
   "source": [
    "areas"
   ],
   "metadata": {
    "collapsed": false,
    "ExecuteTime": {
     "end_time": "2023-11-09T07:39:08.260875500Z",
     "start_time": "2023-11-09T07:39:08.233818100Z"
    }
   }
  },
  {
   "cell_type": "code",
   "execution_count": 60,
   "outputs": [],
   "source": [
    "s = pd.Series([10, 20, 30, 40, 50], index=list('abcde'))"
   ],
   "metadata": {
    "collapsed": false,
    "ExecuteTime": {
     "end_time": "2023-11-09T07:39:08.496550900Z",
     "start_time": "2023-11-09T07:39:08.428552800Z"
    }
   }
  },
  {
   "cell_type": "code",
   "execution_count": 61,
   "outputs": [
    {
     "data": {
      "text/plain": "a    10\nb    20\nc    30\nd    40\ndtype: int64"
     },
     "execution_count": 61,
     "metadata": {},
     "output_type": "execute_result"
    }
   ],
   "source": [
    "s['a':'d']"
   ],
   "metadata": {
    "collapsed": false,
    "ExecuteTime": {
     "end_time": "2023-11-09T07:39:08.671590600Z",
     "start_time": "2023-11-09T07:39:08.624550800Z"
    }
   }
  },
  {
   "cell_type": "code",
   "execution_count": 62,
   "outputs": [
    {
     "data": {
      "text/plain": "a    10\nb    20\nc    30\ndtype: int64"
     },
     "execution_count": 62,
     "metadata": {},
     "output_type": "execute_result"
    }
   ],
   "source": [
    "s[:3]"
   ],
   "metadata": {
    "collapsed": false,
    "ExecuteTime": {
     "end_time": "2023-11-09T07:39:09.320084Z",
     "start_time": "2023-11-09T07:39:09.294042100Z"
    }
   }
  },
  {
   "cell_type": "code",
   "execution_count": 63,
   "outputs": [
    {
     "data": {
      "text/plain": "a    10\nc    30\nd    40\ndtype: int64"
     },
     "execution_count": 63,
     "metadata": {},
     "output_type": "execute_result"
    }
   ],
   "source": [
    "s[['a', 'c', 'd']]"
   ],
   "metadata": {
    "collapsed": false,
    "ExecuteTime": {
     "end_time": "2023-11-09T07:39:09.612066900Z",
     "start_time": "2023-11-09T07:39:09.599047200Z"
    }
   }
  },
  {
   "cell_type": "code",
   "execution_count": 64,
   "outputs": [],
   "source": [
    "s = pd.Series([100, 200, 300], index=[10, 20, 30])"
   ],
   "metadata": {
    "collapsed": false,
    "ExecuteTime": {
     "end_time": "2023-11-09T07:39:09.833133400Z",
     "start_time": "2023-11-09T07:39:09.814049200Z"
    }
   }
  },
  {
   "cell_type": "code",
   "execution_count": 65,
   "outputs": [
    {
     "data": {
      "text/plain": "10    100\n20    200\n30    300\ndtype: int64"
     },
     "execution_count": 65,
     "metadata": {},
     "output_type": "execute_result"
    }
   ],
   "source": [
    "s"
   ],
   "metadata": {
    "collapsed": false,
    "ExecuteTime": {
     "end_time": "2023-11-09T07:39:10.069055900Z",
     "start_time": "2023-11-09T07:39:10.030049700Z"
    }
   }
  },
  {
   "cell_type": "code",
   "execution_count": 66,
   "outputs": [
    {
     "data": {
      "text/plain": "100"
     },
     "execution_count": 66,
     "metadata": {},
     "output_type": "execute_result"
    }
   ],
   "source": [
    "s[10]"
   ],
   "metadata": {
    "collapsed": false,
    "ExecuteTime": {
     "end_time": "2023-11-09T07:39:10.340072800Z",
     "start_time": "2023-11-09T07:39:10.275068400Z"
    }
   }
  },
  {
   "cell_type": "code",
   "execution_count": 67,
   "outputs": [
    {
     "ename": "KeyError",
     "evalue": "100",
     "output_type": "error",
     "traceback": [
      "\u001B[1;31m---------------------------------------------------------------------------\u001B[0m",
      "\u001B[1;31mKeyError\u001B[0m                                  Traceback (most recent call last)",
      "\u001B[1;32m~\\Anaconda3\\lib\\site-packages\\pandas\\core\\indexes\\base.py\u001B[0m in \u001B[0;36mget_loc\u001B[1;34m(self, key, method, tolerance)\u001B[0m\n\u001B[0;32m   3628\u001B[0m             \u001B[1;32mtry\u001B[0m\u001B[1;33m:\u001B[0m\u001B[1;33m\u001B[0m\u001B[1;33m\u001B[0m\u001B[0m\n\u001B[1;32m-> 3629\u001B[1;33m                 \u001B[1;32mreturn\u001B[0m \u001B[0mself\u001B[0m\u001B[1;33m.\u001B[0m\u001B[0m_engine\u001B[0m\u001B[1;33m.\u001B[0m\u001B[0mget_loc\u001B[0m\u001B[1;33m(\u001B[0m\u001B[0mcasted_key\u001B[0m\u001B[1;33m)\u001B[0m\u001B[1;33m\u001B[0m\u001B[1;33m\u001B[0m\u001B[0m\n\u001B[0m\u001B[0;32m   3630\u001B[0m             \u001B[1;32mexcept\u001B[0m \u001B[0mKeyError\u001B[0m \u001B[1;32mas\u001B[0m \u001B[0merr\u001B[0m\u001B[1;33m:\u001B[0m\u001B[1;33m\u001B[0m\u001B[1;33m\u001B[0m\u001B[0m\n",
      "\u001B[1;32m~\\Anaconda3\\lib\\site-packages\\pandas\\_libs\\index.pyx\u001B[0m in \u001B[0;36mpandas._libs.index.IndexEngine.get_loc\u001B[1;34m()\u001B[0m\n",
      "\u001B[1;32m~\\Anaconda3\\lib\\site-packages\\pandas\\_libs\\index.pyx\u001B[0m in \u001B[0;36mpandas._libs.index.IndexEngine.get_loc\u001B[1;34m()\u001B[0m\n",
      "\u001B[1;32mpandas\\_libs\\hashtable_class_helper.pxi\u001B[0m in \u001B[0;36mpandas._libs.hashtable.Int64HashTable.get_item\u001B[1;34m()\u001B[0m\n",
      "\u001B[1;32mpandas\\_libs\\hashtable_class_helper.pxi\u001B[0m in \u001B[0;36mpandas._libs.hashtable.Int64HashTable.get_item\u001B[1;34m()\u001B[0m\n",
      "\u001B[1;31mKeyError\u001B[0m: 100",
      "\nThe above exception was the direct cause of the following exception:\n",
      "\u001B[1;31mKeyError\u001B[0m                                  Traceback (most recent call last)",
      "\u001B[1;32m~\\AppData\\Local\\Temp\\ipykernel_23284\\1154657307.py\u001B[0m in \u001B[0;36m<module>\u001B[1;34m\u001B[0m\n\u001B[1;32m----> 1\u001B[1;33m \u001B[0ms\u001B[0m\u001B[1;33m[\u001B[0m\u001B[1;36m100\u001B[0m\u001B[1;33m]\u001B[0m\u001B[1;33m\u001B[0m\u001B[1;33m\u001B[0m\u001B[0m\n\u001B[0m",
      "\u001B[1;32m~\\Anaconda3\\lib\\site-packages\\pandas\\core\\series.py\u001B[0m in \u001B[0;36m__getitem__\u001B[1;34m(self, key)\u001B[0m\n\u001B[0;32m    956\u001B[0m \u001B[1;33m\u001B[0m\u001B[0m\n\u001B[0;32m    957\u001B[0m         \u001B[1;32melif\u001B[0m \u001B[0mkey_is_scalar\u001B[0m\u001B[1;33m:\u001B[0m\u001B[1;33m\u001B[0m\u001B[1;33m\u001B[0m\u001B[0m\n\u001B[1;32m--> 958\u001B[1;33m             \u001B[1;32mreturn\u001B[0m \u001B[0mself\u001B[0m\u001B[1;33m.\u001B[0m\u001B[0m_get_value\u001B[0m\u001B[1;33m(\u001B[0m\u001B[0mkey\u001B[0m\u001B[1;33m)\u001B[0m\u001B[1;33m\u001B[0m\u001B[1;33m\u001B[0m\u001B[0m\n\u001B[0m\u001B[0;32m    959\u001B[0m \u001B[1;33m\u001B[0m\u001B[0m\n\u001B[0;32m    960\u001B[0m         \u001B[1;32mif\u001B[0m \u001B[0mis_hashable\u001B[0m\u001B[1;33m(\u001B[0m\u001B[0mkey\u001B[0m\u001B[1;33m)\u001B[0m\u001B[1;33m:\u001B[0m\u001B[1;33m\u001B[0m\u001B[1;33m\u001B[0m\u001B[0m\n",
      "\u001B[1;32m~\\Anaconda3\\lib\\site-packages\\pandas\\core\\series.py\u001B[0m in \u001B[0;36m_get_value\u001B[1;34m(self, label, takeable)\u001B[0m\n\u001B[0;32m   1067\u001B[0m \u001B[1;33m\u001B[0m\u001B[0m\n\u001B[0;32m   1068\u001B[0m         \u001B[1;31m# Similar to Index.get_value, but we do not fall back to positional\u001B[0m\u001B[1;33m\u001B[0m\u001B[1;33m\u001B[0m\u001B[0m\n\u001B[1;32m-> 1069\u001B[1;33m         \u001B[0mloc\u001B[0m \u001B[1;33m=\u001B[0m \u001B[0mself\u001B[0m\u001B[1;33m.\u001B[0m\u001B[0mindex\u001B[0m\u001B[1;33m.\u001B[0m\u001B[0mget_loc\u001B[0m\u001B[1;33m(\u001B[0m\u001B[0mlabel\u001B[0m\u001B[1;33m)\u001B[0m\u001B[1;33m\u001B[0m\u001B[1;33m\u001B[0m\u001B[0m\n\u001B[0m\u001B[0;32m   1070\u001B[0m         \u001B[1;32mreturn\u001B[0m \u001B[0mself\u001B[0m\u001B[1;33m.\u001B[0m\u001B[0mindex\u001B[0m\u001B[1;33m.\u001B[0m\u001B[0m_get_values_for_loc\u001B[0m\u001B[1;33m(\u001B[0m\u001B[0mself\u001B[0m\u001B[1;33m,\u001B[0m \u001B[0mloc\u001B[0m\u001B[1;33m,\u001B[0m \u001B[0mlabel\u001B[0m\u001B[1;33m)\u001B[0m\u001B[1;33m\u001B[0m\u001B[1;33m\u001B[0m\u001B[0m\n\u001B[0;32m   1071\u001B[0m \u001B[1;33m\u001B[0m\u001B[0m\n",
      "\u001B[1;32m~\\Anaconda3\\lib\\site-packages\\pandas\\core\\indexes\\base.py\u001B[0m in \u001B[0;36mget_loc\u001B[1;34m(self, key, method, tolerance)\u001B[0m\n\u001B[0;32m   3629\u001B[0m                 \u001B[1;32mreturn\u001B[0m \u001B[0mself\u001B[0m\u001B[1;33m.\u001B[0m\u001B[0m_engine\u001B[0m\u001B[1;33m.\u001B[0m\u001B[0mget_loc\u001B[0m\u001B[1;33m(\u001B[0m\u001B[0mcasted_key\u001B[0m\u001B[1;33m)\u001B[0m\u001B[1;33m\u001B[0m\u001B[1;33m\u001B[0m\u001B[0m\n\u001B[0;32m   3630\u001B[0m             \u001B[1;32mexcept\u001B[0m \u001B[0mKeyError\u001B[0m \u001B[1;32mas\u001B[0m \u001B[0merr\u001B[0m\u001B[1;33m:\u001B[0m\u001B[1;33m\u001B[0m\u001B[1;33m\u001B[0m\u001B[0m\n\u001B[1;32m-> 3631\u001B[1;33m                 \u001B[1;32mraise\u001B[0m \u001B[0mKeyError\u001B[0m\u001B[1;33m(\u001B[0m\u001B[0mkey\u001B[0m\u001B[1;33m)\u001B[0m \u001B[1;32mfrom\u001B[0m \u001B[0merr\u001B[0m\u001B[1;33m\u001B[0m\u001B[1;33m\u001B[0m\u001B[0m\n\u001B[0m\u001B[0;32m   3632\u001B[0m             \u001B[1;32mexcept\u001B[0m \u001B[0mTypeError\u001B[0m\u001B[1;33m:\u001B[0m\u001B[1;33m\u001B[0m\u001B[1;33m\u001B[0m\u001B[0m\n\u001B[0;32m   3633\u001B[0m                 \u001B[1;31m# If we have a listlike key, _check_indexing_error will raise\u001B[0m\u001B[1;33m\u001B[0m\u001B[1;33m\u001B[0m\u001B[0m\n",
      "\u001B[1;31mKeyError\u001B[0m: 100"
     ]
    }
   ],
   "source": [
    "s[100]"
   ],
   "metadata": {
    "collapsed": false,
    "ExecuteTime": {
     "end_time": "2023-11-09T07:39:10.743007200Z",
     "start_time": "2023-11-09T07:39:10.692892Z"
    }
   }
  },
  {
   "cell_type": "code",
   "execution_count": 68,
   "outputs": [
    {
     "ename": "KeyError",
     "evalue": "0",
     "output_type": "error",
     "traceback": [
      "\u001B[1;31m---------------------------------------------------------------------------\u001B[0m",
      "\u001B[1;31mKeyError\u001B[0m                                  Traceback (most recent call last)",
      "\u001B[1;32m~\\Anaconda3\\lib\\site-packages\\pandas\\core\\indexes\\base.py\u001B[0m in \u001B[0;36mget_loc\u001B[1;34m(self, key, method, tolerance)\u001B[0m\n\u001B[0;32m   3628\u001B[0m             \u001B[1;32mtry\u001B[0m\u001B[1;33m:\u001B[0m\u001B[1;33m\u001B[0m\u001B[1;33m\u001B[0m\u001B[0m\n\u001B[1;32m-> 3629\u001B[1;33m                 \u001B[1;32mreturn\u001B[0m \u001B[0mself\u001B[0m\u001B[1;33m.\u001B[0m\u001B[0m_engine\u001B[0m\u001B[1;33m.\u001B[0m\u001B[0mget_loc\u001B[0m\u001B[1;33m(\u001B[0m\u001B[0mcasted_key\u001B[0m\u001B[1;33m)\u001B[0m\u001B[1;33m\u001B[0m\u001B[1;33m\u001B[0m\u001B[0m\n\u001B[0m\u001B[0;32m   3630\u001B[0m             \u001B[1;32mexcept\u001B[0m \u001B[0mKeyError\u001B[0m \u001B[1;32mas\u001B[0m \u001B[0merr\u001B[0m\u001B[1;33m:\u001B[0m\u001B[1;33m\u001B[0m\u001B[1;33m\u001B[0m\u001B[0m\n",
      "\u001B[1;32m~\\Anaconda3\\lib\\site-packages\\pandas\\_libs\\index.pyx\u001B[0m in \u001B[0;36mpandas._libs.index.IndexEngine.get_loc\u001B[1;34m()\u001B[0m\n",
      "\u001B[1;32m~\\Anaconda3\\lib\\site-packages\\pandas\\_libs\\index.pyx\u001B[0m in \u001B[0;36mpandas._libs.index.IndexEngine.get_loc\u001B[1;34m()\u001B[0m\n",
      "\u001B[1;32mpandas\\_libs\\hashtable_class_helper.pxi\u001B[0m in \u001B[0;36mpandas._libs.hashtable.Int64HashTable.get_item\u001B[1;34m()\u001B[0m\n",
      "\u001B[1;32mpandas\\_libs\\hashtable_class_helper.pxi\u001B[0m in \u001B[0;36mpandas._libs.hashtable.Int64HashTable.get_item\u001B[1;34m()\u001B[0m\n",
      "\u001B[1;31mKeyError\u001B[0m: 0",
      "\nThe above exception was the direct cause of the following exception:\n",
      "\u001B[1;31mKeyError\u001B[0m                                  Traceback (most recent call last)",
      "\u001B[1;32m~\\AppData\\Local\\Temp\\ipykernel_23284\\2186746824.py\u001B[0m in \u001B[0;36m<module>\u001B[1;34m\u001B[0m\n\u001B[1;32m----> 1\u001B[1;33m \u001B[0ms\u001B[0m\u001B[1;33m[\u001B[0m\u001B[1;36m0\u001B[0m\u001B[1;33m]\u001B[0m\u001B[1;33m\u001B[0m\u001B[1;33m\u001B[0m\u001B[0m\n\u001B[0m",
      "\u001B[1;32m~\\Anaconda3\\lib\\site-packages\\pandas\\core\\series.py\u001B[0m in \u001B[0;36m__getitem__\u001B[1;34m(self, key)\u001B[0m\n\u001B[0;32m    956\u001B[0m \u001B[1;33m\u001B[0m\u001B[0m\n\u001B[0;32m    957\u001B[0m         \u001B[1;32melif\u001B[0m \u001B[0mkey_is_scalar\u001B[0m\u001B[1;33m:\u001B[0m\u001B[1;33m\u001B[0m\u001B[1;33m\u001B[0m\u001B[0m\n\u001B[1;32m--> 958\u001B[1;33m             \u001B[1;32mreturn\u001B[0m \u001B[0mself\u001B[0m\u001B[1;33m.\u001B[0m\u001B[0m_get_value\u001B[0m\u001B[1;33m(\u001B[0m\u001B[0mkey\u001B[0m\u001B[1;33m)\u001B[0m\u001B[1;33m\u001B[0m\u001B[1;33m\u001B[0m\u001B[0m\n\u001B[0m\u001B[0;32m    959\u001B[0m \u001B[1;33m\u001B[0m\u001B[0m\n\u001B[0;32m    960\u001B[0m         \u001B[1;32mif\u001B[0m \u001B[0mis_hashable\u001B[0m\u001B[1;33m(\u001B[0m\u001B[0mkey\u001B[0m\u001B[1;33m)\u001B[0m\u001B[1;33m:\u001B[0m\u001B[1;33m\u001B[0m\u001B[1;33m\u001B[0m\u001B[0m\n",
      "\u001B[1;32m~\\Anaconda3\\lib\\site-packages\\pandas\\core\\series.py\u001B[0m in \u001B[0;36m_get_value\u001B[1;34m(self, label, takeable)\u001B[0m\n\u001B[0;32m   1067\u001B[0m \u001B[1;33m\u001B[0m\u001B[0m\n\u001B[0;32m   1068\u001B[0m         \u001B[1;31m# Similar to Index.get_value, but we do not fall back to positional\u001B[0m\u001B[1;33m\u001B[0m\u001B[1;33m\u001B[0m\u001B[0m\n\u001B[1;32m-> 1069\u001B[1;33m         \u001B[0mloc\u001B[0m \u001B[1;33m=\u001B[0m \u001B[0mself\u001B[0m\u001B[1;33m.\u001B[0m\u001B[0mindex\u001B[0m\u001B[1;33m.\u001B[0m\u001B[0mget_loc\u001B[0m\u001B[1;33m(\u001B[0m\u001B[0mlabel\u001B[0m\u001B[1;33m)\u001B[0m\u001B[1;33m\u001B[0m\u001B[1;33m\u001B[0m\u001B[0m\n\u001B[0m\u001B[0;32m   1070\u001B[0m         \u001B[1;32mreturn\u001B[0m \u001B[0mself\u001B[0m\u001B[1;33m.\u001B[0m\u001B[0mindex\u001B[0m\u001B[1;33m.\u001B[0m\u001B[0m_get_values_for_loc\u001B[0m\u001B[1;33m(\u001B[0m\u001B[0mself\u001B[0m\u001B[1;33m,\u001B[0m \u001B[0mloc\u001B[0m\u001B[1;33m,\u001B[0m \u001B[0mlabel\u001B[0m\u001B[1;33m)\u001B[0m\u001B[1;33m\u001B[0m\u001B[1;33m\u001B[0m\u001B[0m\n\u001B[0;32m   1071\u001B[0m \u001B[1;33m\u001B[0m\u001B[0m\n",
      "\u001B[1;32m~\\Anaconda3\\lib\\site-packages\\pandas\\core\\indexes\\base.py\u001B[0m in \u001B[0;36mget_loc\u001B[1;34m(self, key, method, tolerance)\u001B[0m\n\u001B[0;32m   3629\u001B[0m                 \u001B[1;32mreturn\u001B[0m \u001B[0mself\u001B[0m\u001B[1;33m.\u001B[0m\u001B[0m_engine\u001B[0m\u001B[1;33m.\u001B[0m\u001B[0mget_loc\u001B[0m\u001B[1;33m(\u001B[0m\u001B[0mcasted_key\u001B[0m\u001B[1;33m)\u001B[0m\u001B[1;33m\u001B[0m\u001B[1;33m\u001B[0m\u001B[0m\n\u001B[0;32m   3630\u001B[0m             \u001B[1;32mexcept\u001B[0m \u001B[0mKeyError\u001B[0m \u001B[1;32mas\u001B[0m \u001B[0merr\u001B[0m\u001B[1;33m:\u001B[0m\u001B[1;33m\u001B[0m\u001B[1;33m\u001B[0m\u001B[0m\n\u001B[1;32m-> 3631\u001B[1;33m                 \u001B[1;32mraise\u001B[0m \u001B[0mKeyError\u001B[0m\u001B[1;33m(\u001B[0m\u001B[0mkey\u001B[0m\u001B[1;33m)\u001B[0m \u001B[1;32mfrom\u001B[0m \u001B[0merr\u001B[0m\u001B[1;33m\u001B[0m\u001B[1;33m\u001B[0m\u001B[0m\n\u001B[0m\u001B[0;32m   3632\u001B[0m             \u001B[1;32mexcept\u001B[0m \u001B[0mTypeError\u001B[0m\u001B[1;33m:\u001B[0m\u001B[1;33m\u001B[0m\u001B[1;33m\u001B[0m\u001B[0m\n\u001B[0;32m   3633\u001B[0m                 \u001B[1;31m# If we have a listlike key, _check_indexing_error will raise\u001B[0m\u001B[1;33m\u001B[0m\u001B[1;33m\u001B[0m\u001B[0m\n",
      "\u001B[1;31mKeyError\u001B[0m: 0"
     ]
    }
   ],
   "source": [
    "s[0]"
   ],
   "metadata": {
    "collapsed": false,
    "ExecuteTime": {
     "end_time": "2023-11-09T07:39:11.157740800Z",
     "start_time": "2023-11-09T07:39:11.061039700Z"
    }
   }
  },
  {
   "cell_type": "code",
   "execution_count": 69,
   "outputs": [
    {
     "name": "stdout",
     "output_type": "stream",
     "text": [
      "KeyError:  0\n"
     ]
    }
   ],
   "source": [
    "try:\n",
    "    s[0]\n",
    "except KeyError as ex:\n",
    "    print('KeyError: ', ex)"
   ],
   "metadata": {
    "collapsed": false,
    "ExecuteTime": {
     "end_time": "2023-11-09T07:39:11.347725500Z",
     "start_time": "2023-11-09T07:39:11.302691600Z"
    }
   }
  },
  {
   "cell_type": "code",
   "execution_count": 70,
   "outputs": [
    {
     "data": {
      "text/plain": "10    100\n20    200\n30    300\ndtype: int64"
     },
     "execution_count": 70,
     "metadata": {},
     "output_type": "execute_result"
    }
   ],
   "source": [
    "s[0:3]"
   ],
   "metadata": {
    "collapsed": false,
    "ExecuteTime": {
     "end_time": "2023-11-09T07:39:11.506749300Z",
     "start_time": "2023-11-09T07:39:11.478691400Z"
    }
   }
  },
  {
   "cell_type": "code",
   "execution_count": 71,
   "outputs": [
    {
     "data": {
      "text/plain": "100"
     },
     "execution_count": 71,
     "metadata": {},
     "output_type": "execute_result"
    }
   ],
   "source": [
    "s.iloc[0]"
   ],
   "metadata": {
    "collapsed": false,
    "ExecuteTime": {
     "end_time": "2023-11-09T07:39:11.922696900Z",
     "start_time": "2023-11-09T07:39:11.911695800Z"
    }
   }
  },
  {
   "cell_type": "code",
   "execution_count": 72,
   "outputs": [
    {
     "data": {
      "text/plain": "100"
     },
     "execution_count": 72,
     "metadata": {},
     "output_type": "execute_result"
    }
   ],
   "source": [
    "s.loc[10]"
   ],
   "metadata": {
    "collapsed": false,
    "ExecuteTime": {
     "end_time": "2023-11-09T07:39:12.213927300Z",
     "start_time": "2023-11-09T07:39:12.171971600Z"
    }
   }
  },
  {
   "cell_type": "code",
   "execution_count": 73,
   "outputs": [
    {
     "data": {
      "text/plain": "10    100\n20    200\n30    300\ndtype: int64"
     },
     "execution_count": 73,
     "metadata": {},
     "output_type": "execute_result"
    }
   ],
   "source": [
    "s.iloc[0:4]"
   ],
   "metadata": {
    "collapsed": false,
    "ExecuteTime": {
     "end_time": "2023-11-09T07:39:12.421695900Z",
     "start_time": "2023-11-09T07:39:12.389661500Z"
    }
   }
  },
  {
   "cell_type": "code",
   "execution_count": 74,
   "outputs": [
    {
     "data": {
      "text/plain": "10    100\n20    200\n30    300\ndtype: int64"
     },
     "execution_count": 74,
     "metadata": {},
     "output_type": "execute_result"
    }
   ],
   "source": [
    "s.loc[10:30]"
   ],
   "metadata": {
    "collapsed": false,
    "ExecuteTime": {
     "end_time": "2023-11-09T07:39:12.826664600Z",
     "start_time": "2023-11-09T07:39:12.805667200Z"
    }
   }
  },
  {
   "cell_type": "code",
   "execution_count": 75,
   "outputs": [
    {
     "data": {
      "text/plain": "10    100\n20    200\n30    300\ndtype: int64"
     },
     "execution_count": 75,
     "metadata": {},
     "output_type": "execute_result"
    }
   ],
   "source": [
    "s"
   ],
   "metadata": {
    "collapsed": false,
    "ExecuteTime": {
     "end_time": "2023-11-09T07:39:13.128665800Z",
     "start_time": "2023-11-09T07:39:13.086680700Z"
    }
   }
  },
  {
   "cell_type": "code",
   "execution_count": 76,
   "outputs": [],
   "source": [
    "s.name = 'test'"
   ],
   "metadata": {
    "collapsed": false,
    "ExecuteTime": {
     "end_time": "2023-11-09T07:39:13.359670300Z",
     "start_time": "2023-11-09T07:39:13.321672600Z"
    }
   }
  },
  {
   "cell_type": "code",
   "execution_count": 77,
   "outputs": [
    {
     "data": {
      "text/plain": "10    100\n20    200\n30    300\nName: test, dtype: int64"
     },
     "execution_count": 77,
     "metadata": {},
     "output_type": "execute_result"
    }
   ],
   "source": [
    "s"
   ],
   "metadata": {
    "collapsed": false,
    "ExecuteTime": {
     "end_time": "2023-11-09T07:39:13.559705600Z",
     "start_time": "2023-11-09T07:39:13.544670800Z"
    }
   }
  },
  {
   "cell_type": "code",
   "execution_count": 78,
   "outputs": [
    {
     "data": {
      "text/plain": "country        USA\ncity        Topeka\ncountry     France\ncity          Lyon\ncountry         UK\ncity       Glasgow\nName: Areas, dtype: object"
     },
     "execution_count": 78,
     "metadata": {},
     "output_type": "execute_result"
    }
   ],
   "source": [
    "areas = pd.Series(\n",
    "    ['USA', 'Topeka', 'France', 'Lyon', 'UK', 'Glasgow'],\n",
    "    index=['country', 'city', 'country', 'city', 'country', 'city'],\n",
    "    name='Areas'\n",
    ")\n",
    "areas"
   ],
   "metadata": {
    "collapsed": false,
    "ExecuteTime": {
     "end_time": "2023-11-09T07:39:14.062675200Z",
     "start_time": "2023-11-09T07:39:14.024681700Z"
    }
   }
  },
  {
   "cell_type": "code",
   "execution_count": 79,
   "outputs": [
    {
     "data": {
      "text/plain": "country       USA\ncity       Topeka\ncountry    France\ncity         Lyon\ncountry        UK\nName: Areas, dtype: object"
     },
     "execution_count": 79,
     "metadata": {},
     "output_type": "execute_result"
    }
   ],
   "source": [
    "areas[areas != 'Glasgow']"
   ],
   "metadata": {
    "collapsed": false,
    "ExecuteTime": {
     "end_time": "2023-11-09T07:39:14.819746200Z",
     "start_time": "2023-11-09T07:39:14.791747600Z"
    }
   }
  },
  {
   "cell_type": "code",
   "execution_count": 80,
   "outputs": [],
   "source": [
    "s = pd.Series([10, 20, 30], index=list('abc'), name='test')"
   ],
   "metadata": {
    "collapsed": false,
    "ExecuteTime": {
     "end_time": "2023-11-09T07:39:15.441904800Z",
     "start_time": "2023-11-09T07:39:15.430907800Z"
    }
   }
  },
  {
   "cell_type": "code",
   "execution_count": 81,
   "outputs": [
    {
     "data": {
      "text/plain": "a    10\nb    20\nc    30\nName: test, dtype: int64"
     },
     "execution_count": 81,
     "metadata": {},
     "output_type": "execute_result"
    }
   ],
   "source": [
    "s"
   ],
   "metadata": {
    "collapsed": false,
    "ExecuteTime": {
     "end_time": "2023-11-09T07:39:15.911943500Z",
     "start_time": "2023-11-09T07:39:15.899945300Z"
    }
   }
  },
  {
   "cell_type": "code",
   "execution_count": 82,
   "outputs": [],
   "source": [
    "new = s.drop(['a', 'c'])"
   ],
   "metadata": {
    "collapsed": false,
    "ExecuteTime": {
     "end_time": "2023-11-09T07:39:16.347037600Z",
     "start_time": "2023-11-09T07:39:16.333034500Z"
    }
   }
  },
  {
   "cell_type": "code",
   "execution_count": 83,
   "outputs": [
    {
     "data": {
      "text/plain": "b    20\nName: test, dtype: int64"
     },
     "execution_count": 83,
     "metadata": {},
     "output_type": "execute_result"
    }
   ],
   "source": [
    "new"
   ],
   "metadata": {
    "collapsed": false,
    "ExecuteTime": {
     "end_time": "2023-11-09T07:39:16.860896200Z",
     "start_time": "2023-11-09T07:39:16.834858500Z"
    }
   }
  },
  {
   "cell_type": "code",
   "execution_count": 84,
   "outputs": [
    {
     "data": {
      "text/plain": "a    10\nb    20\nc    30\nName: test, dtype: int64"
     },
     "execution_count": 84,
     "metadata": {},
     "output_type": "execute_result"
    }
   ],
   "source": [
    "s"
   ],
   "metadata": {
    "collapsed": false,
    "ExecuteTime": {
     "end_time": "2023-11-09T07:39:17.264865600Z",
     "start_time": "2023-11-09T07:39:17.252868200Z"
    }
   }
  },
  {
   "cell_type": "code",
   "execution_count": 85,
   "outputs": [
    {
     "data": {
      "text/plain": "Index(['a', 'b', 'c'], dtype='object')"
     },
     "execution_count": 85,
     "metadata": {},
     "output_type": "execute_result"
    }
   ],
   "source": [
    "s.index"
   ],
   "metadata": {
    "collapsed": false,
    "ExecuteTime": {
     "end_time": "2023-11-09T07:39:17.823716400Z",
     "start_time": "2023-11-09T07:39:17.797681300Z"
    }
   }
  },
  {
   "cell_type": "code",
   "execution_count": 86,
   "outputs": [
    {
     "data": {
      "text/plain": "Index(['a', 'c'], dtype='object')"
     },
     "execution_count": 86,
     "metadata": {},
     "output_type": "execute_result"
    }
   ],
   "source": [
    "s.index[[0, 2]]"
   ],
   "metadata": {
    "collapsed": false,
    "ExecuteTime": {
     "end_time": "2023-11-09T07:39:18.316066500Z",
     "start_time": "2023-11-09T07:39:18.280069600Z"
    }
   }
  },
  {
   "cell_type": "code",
   "execution_count": 87,
   "outputs": [
    {
     "data": {
      "text/plain": "b    20\nName: test, dtype: int64"
     },
     "execution_count": 87,
     "metadata": {},
     "output_type": "execute_result"
    }
   ],
   "source": [
    "s.drop(s.index[[0, 2]])"
   ],
   "metadata": {
    "collapsed": false,
    "ExecuteTime": {
     "end_time": "2023-11-09T07:39:18.681366800Z",
     "start_time": "2023-11-09T07:39:18.653428Z"
    }
   }
  },
  {
   "cell_type": "code",
   "execution_count": 88,
   "outputs": [
    {
     "data": {
      "text/plain": "a    10\nb    20\nc    30\nName: test, dtype: int64"
     },
     "execution_count": 88,
     "metadata": {},
     "output_type": "execute_result"
    }
   ],
   "source": [
    "s"
   ],
   "metadata": {
    "collapsed": false,
    "ExecuteTime": {
     "end_time": "2023-11-09T07:39:19.007165300Z",
     "start_time": "2023-11-09T07:39:18.968126900Z"
    }
   }
  },
  {
   "cell_type": "code",
   "execution_count": 89,
   "outputs": [],
   "source": [
    "columns = pd.Index(\n",
    "    [\n",
    "        'The Bronx',\n",
    "        'Brooklyn',\n",
    "        'Manhattan',\n",
    "        'Queens',\n",
    "        'Staten Island'\n",
    "    ]\n",
    ")\n",
    "counties = pd.Series(\n",
    "    ['Bronx', 'Kings', 'New York', 'Queens', 'Richmond'],\n",
    "    index=columns,\n",
    "    name='county'\n",
    ")\n",
    "populations = pd.Series(\n",
    "    [1_418_207, 2_559_903, 1_628_706, 2_253_858, 476_143],\n",
    "    index=columns,\n",
    "    name='population'\n",
    ")\n",
    "gdp = pd.Series(\n",
    "    [42.695, 91.559, 600.244, 93.310, 14.514],\n",
    "    index=columns,\n",
    "    name='gdp'\n",
    ")\n",
    "areas = pd.Series(\n",
    "    [42.10, 70.82, 22.83, 108.53, 58.37],\n",
    "    index=columns,\n",
    "    name='area'\n",
    ")"
   ],
   "metadata": {
    "collapsed": false,
    "ExecuteTime": {
     "end_time": "2023-11-09T07:39:19.268582800Z",
     "start_time": "2023-11-09T07:39:19.226575800Z"
    }
   }
  },
  {
   "cell_type": "code",
   "execution_count": 90,
   "outputs": [
    {
     "data": {
      "text/plain": "           The Bronx Brooklyn Manhattan   Queens Staten Island\ncounty         Bronx    Kings  New York   Queens      Richmond\npopulation   1418207  2559903   1628706  2253858        476143\ngdp           42.695   91.559   600.244    93.31        14.514\narea            42.1    70.82     22.83   108.53         58.37",
      "text/html": "<div>\n<style scoped>\n    .dataframe tbody tr th:only-of-type {\n        vertical-align: middle;\n    }\n\n    .dataframe tbody tr th {\n        vertical-align: top;\n    }\n\n    .dataframe thead th {\n        text-align: right;\n    }\n</style>\n<table border=\"1\" class=\"dataframe\">\n  <thead>\n    <tr style=\"text-align: right;\">\n      <th></th>\n      <th>The Bronx</th>\n      <th>Brooklyn</th>\n      <th>Manhattan</th>\n      <th>Queens</th>\n      <th>Staten Island</th>\n    </tr>\n  </thead>\n  <tbody>\n    <tr>\n      <th>county</th>\n      <td>Bronx</td>\n      <td>Kings</td>\n      <td>New York</td>\n      <td>Queens</td>\n      <td>Richmond</td>\n    </tr>\n    <tr>\n      <th>population</th>\n      <td>1418207</td>\n      <td>2559903</td>\n      <td>1628706</td>\n      <td>2253858</td>\n      <td>476143</td>\n    </tr>\n    <tr>\n      <th>gdp</th>\n      <td>42.695</td>\n      <td>91.559</td>\n      <td>600.244</td>\n      <td>93.31</td>\n      <td>14.514</td>\n    </tr>\n    <tr>\n      <th>area</th>\n      <td>42.1</td>\n      <td>70.82</td>\n      <td>22.83</td>\n      <td>108.53</td>\n      <td>58.37</td>\n    </tr>\n  </tbody>\n</table>\n</div>"
     },
     "execution_count": 90,
     "metadata": {},
     "output_type": "execute_result"
    }
   ],
   "source": [
    "new_york = pd.DataFrame([counties, populations, gdp, areas])\n",
    "new_york"
   ],
   "metadata": {
    "collapsed": false,
    "ExecuteTime": {
     "end_time": "2023-11-09T07:39:19.951132800Z",
     "start_time": "2023-11-09T07:39:19.939669700Z"
    }
   }
  },
  {
   "cell_type": "code",
   "execution_count": 91,
   "outputs": [
    {
     "data": {
      "text/plain": "                 county population      gdp    area\nThe Bronx         Bronx    1418207   42.695    42.1\nBrooklyn          Kings    2559903   91.559   70.82\nManhattan      New York    1628706  600.244   22.83\nQueens           Queens    2253858    93.31  108.53\nStaten Island  Richmond     476143   14.514   58.37",
      "text/html": "<div>\n<style scoped>\n    .dataframe tbody tr th:only-of-type {\n        vertical-align: middle;\n    }\n\n    .dataframe tbody tr th {\n        vertical-align: top;\n    }\n\n    .dataframe thead th {\n        text-align: right;\n    }\n</style>\n<table border=\"1\" class=\"dataframe\">\n  <thead>\n    <tr style=\"text-align: right;\">\n      <th></th>\n      <th>county</th>\n      <th>population</th>\n      <th>gdp</th>\n      <th>area</th>\n    </tr>\n  </thead>\n  <tbody>\n    <tr>\n      <th>The Bronx</th>\n      <td>Bronx</td>\n      <td>1418207</td>\n      <td>42.695</td>\n      <td>42.1</td>\n    </tr>\n    <tr>\n      <th>Brooklyn</th>\n      <td>Kings</td>\n      <td>2559903</td>\n      <td>91.559</td>\n      <td>70.82</td>\n    </tr>\n    <tr>\n      <th>Manhattan</th>\n      <td>New York</td>\n      <td>1628706</td>\n      <td>600.244</td>\n      <td>22.83</td>\n    </tr>\n    <tr>\n      <th>Queens</th>\n      <td>Queens</td>\n      <td>2253858</td>\n      <td>93.31</td>\n      <td>108.53</td>\n    </tr>\n    <tr>\n      <th>Staten Island</th>\n      <td>Richmond</td>\n      <td>476143</td>\n      <td>14.514</td>\n      <td>58.37</td>\n    </tr>\n  </tbody>\n</table>\n</div>"
     },
     "execution_count": 91,
     "metadata": {},
     "output_type": "execute_result"
    }
   ],
   "source": [
    "new_york.transpose()"
   ],
   "metadata": {
    "collapsed": false,
    "ExecuteTime": {
     "end_time": "2023-11-09T07:39:20.250058100Z",
     "start_time": "2023-11-09T07:39:20.217054Z"
    }
   }
  },
  {
   "cell_type": "code",
   "execution_count": 92,
   "outputs": [
    {
     "data": {
      "text/plain": "                 county  population      gdp    area\nThe Bronx         Bronx     1418207   42.695   42.10\nBrooklyn          Kings     2559903   91.559   70.82\nManhattan      New York     1628706  600.244   22.83\nQueens           Queens     2253858   93.310  108.53\nStaten Island  Richmond      476143   14.514   58.37",
      "text/html": "<div>\n<style scoped>\n    .dataframe tbody tr th:only-of-type {\n        vertical-align: middle;\n    }\n\n    .dataframe tbody tr th {\n        vertical-align: top;\n    }\n\n    .dataframe thead th {\n        text-align: right;\n    }\n</style>\n<table border=\"1\" class=\"dataframe\">\n  <thead>\n    <tr style=\"text-align: right;\">\n      <th></th>\n      <th>county</th>\n      <th>population</th>\n      <th>gdp</th>\n      <th>area</th>\n    </tr>\n  </thead>\n  <tbody>\n    <tr>\n      <th>The Bronx</th>\n      <td>Bronx</td>\n      <td>1418207</td>\n      <td>42.695</td>\n      <td>42.10</td>\n    </tr>\n    <tr>\n      <th>Brooklyn</th>\n      <td>Kings</td>\n      <td>2559903</td>\n      <td>91.559</td>\n      <td>70.82</td>\n    </tr>\n    <tr>\n      <th>Manhattan</th>\n      <td>New York</td>\n      <td>1628706</td>\n      <td>600.244</td>\n      <td>22.83</td>\n    </tr>\n    <tr>\n      <th>Queens</th>\n      <td>Queens</td>\n      <td>2253858</td>\n      <td>93.310</td>\n      <td>108.53</td>\n    </tr>\n    <tr>\n      <th>Staten Island</th>\n      <td>Richmond</td>\n      <td>476143</td>\n      <td>14.514</td>\n      <td>58.37</td>\n    </tr>\n  </tbody>\n</table>\n</div>"
     },
     "execution_count": 92,
     "metadata": {},
     "output_type": "execute_result"
    }
   ],
   "source": [
    "d = {\n",
    "    'county': counties,\n",
    "    'population': populations,\n",
    "    'gdp': gdp,\n",
    "    'area': areas\n",
    "}\n",
    "new_york = pd.DataFrame(d)\n",
    "new_york"
   ],
   "metadata": {
    "collapsed": false,
    "ExecuteTime": {
     "end_time": "2023-11-09T07:39:20.656012200Z",
     "start_time": "2023-11-09T07:39:20.619379800Z"
    }
   }
  },
  {
   "cell_type": "code",
   "execution_count": 93,
   "outputs": [
    {
     "data": {
      "text/plain": "           The Bronx Brooklyn Manhattan   Queens Staten Island\ncounty         Bronx    Kings  New York   Queens      Richmond\npopulation   1418207  2559903   1628706  2253858        476143\ngdp           42.695   91.559   600.244    93.31        14.514\narea            42.1    70.82     22.83   108.53         58.37",
      "text/html": "<div>\n<style scoped>\n    .dataframe tbody tr th:only-of-type {\n        vertical-align: middle;\n    }\n\n    .dataframe tbody tr th {\n        vertical-align: top;\n    }\n\n    .dataframe thead th {\n        text-align: right;\n    }\n</style>\n<table border=\"1\" class=\"dataframe\">\n  <thead>\n    <tr style=\"text-align: right;\">\n      <th></th>\n      <th>The Bronx</th>\n      <th>Brooklyn</th>\n      <th>Manhattan</th>\n      <th>Queens</th>\n      <th>Staten Island</th>\n    </tr>\n  </thead>\n  <tbody>\n    <tr>\n      <th>county</th>\n      <td>Bronx</td>\n      <td>Kings</td>\n      <td>New York</td>\n      <td>Queens</td>\n      <td>Richmond</td>\n    </tr>\n    <tr>\n      <th>population</th>\n      <td>1418207</td>\n      <td>2559903</td>\n      <td>1628706</td>\n      <td>2253858</td>\n      <td>476143</td>\n    </tr>\n    <tr>\n      <th>gdp</th>\n      <td>42.695</td>\n      <td>91.559</td>\n      <td>600.244</td>\n      <td>93.31</td>\n      <td>14.514</td>\n    </tr>\n    <tr>\n      <th>area</th>\n      <td>42.1</td>\n      <td>70.82</td>\n      <td>22.83</td>\n      <td>108.53</td>\n      <td>58.37</td>\n    </tr>\n  </tbody>\n</table>\n</div>"
     },
     "execution_count": 93,
     "metadata": {},
     "output_type": "execute_result"
    }
   ],
   "source": [
    "new_york.transpose()"
   ],
   "metadata": {
    "collapsed": false,
    "ExecuteTime": {
     "end_time": "2023-11-09T07:39:21.076431300Z",
     "start_time": "2023-11-09T07:39:20.997432200Z"
    }
   }
  },
  {
   "cell_type": "code",
   "execution_count": 94,
   "outputs": [],
   "source": [
    "counties = {\n",
    "    'The Bronx': 'Bronx',\n",
    "    'Brooklyn': 'Kings',\n",
    "    'Manhattan': 'New York',\n",
    "    'Queens': 'Queens',\n",
    "    'Staten Island': 'Richmond'\n",
    "}\n",
    "populations = {\n",
    "    # note how the keys are not necessarily in the same order\n",
    "    'Manhattan': 1_628_706,\n",
    "    'Queens': 2_253_858,\n",
    "    'Staten Island': 476_143,\n",
    "    'The Bronx': 1_418_207,\n",
    "    'Brooklyn': 2_559_903\n",
    "}\n",
    "gdp = {\n",
    "    'The Bronx': 42.695,\n",
    "    'Brooklyn': 91.559,\n",
    "    'Manhattan': 600.244,\n",
    "    'Queens': 93.310,\n",
    "    'Staten Island': 14.514\n",
    "}\n",
    "areas = {\n",
    "    'The Bronx': 2.10,\n",
    "    'Brooklyn': 70.82,\n",
    "    'Manhattan': 22.83,\n",
    "    'Queens': 108.53,\n",
    "    'Staten Island': 58.37\n",
    "}\n",
    "\n",
    "d = {\n",
    "    'county': counties,\n",
    "    'population': populations,\n",
    "    'gpd': gdp,\n",
    "    'area': areas\n",
    "}"
   ],
   "metadata": {
    "collapsed": false,
    "ExecuteTime": {
     "end_time": "2023-11-09T07:39:22.081082300Z",
     "start_time": "2023-11-09T07:39:22.071068800Z"
    }
   }
  },
  {
   "cell_type": "code",
   "execution_count": 95,
   "outputs": [
    {
     "data": {
      "text/plain": "                 county  population      gpd    area\nThe Bronx         Bronx     1418207   42.695    2.10\nBrooklyn          Kings     2559903   91.559   70.82\nManhattan      New York     1628706  600.244   22.83\nQueens           Queens     2253858   93.310  108.53\nStaten Island  Richmond      476143   14.514   58.37",
      "text/html": "<div>\n<style scoped>\n    .dataframe tbody tr th:only-of-type {\n        vertical-align: middle;\n    }\n\n    .dataframe tbody tr th {\n        vertical-align: top;\n    }\n\n    .dataframe thead th {\n        text-align: right;\n    }\n</style>\n<table border=\"1\" class=\"dataframe\">\n  <thead>\n    <tr style=\"text-align: right;\">\n      <th></th>\n      <th>county</th>\n      <th>population</th>\n      <th>gpd</th>\n      <th>area</th>\n    </tr>\n  </thead>\n  <tbody>\n    <tr>\n      <th>The Bronx</th>\n      <td>Bronx</td>\n      <td>1418207</td>\n      <td>42.695</td>\n      <td>2.10</td>\n    </tr>\n    <tr>\n      <th>Brooklyn</th>\n      <td>Kings</td>\n      <td>2559903</td>\n      <td>91.559</td>\n      <td>70.82</td>\n    </tr>\n    <tr>\n      <th>Manhattan</th>\n      <td>New York</td>\n      <td>1628706</td>\n      <td>600.244</td>\n      <td>22.83</td>\n    </tr>\n    <tr>\n      <th>Queens</th>\n      <td>Queens</td>\n      <td>2253858</td>\n      <td>93.310</td>\n      <td>108.53</td>\n    </tr>\n    <tr>\n      <th>Staten Island</th>\n      <td>Richmond</td>\n      <td>476143</td>\n      <td>14.514</td>\n      <td>58.37</td>\n    </tr>\n  </tbody>\n</table>\n</div>"
     },
     "execution_count": 95,
     "metadata": {},
     "output_type": "execute_result"
    }
   ],
   "source": [
    "new_york = pd.DataFrame(d)\n",
    "new_york"
   ],
   "metadata": {
    "collapsed": false,
    "ExecuteTime": {
     "end_time": "2023-11-09T07:39:23.088656500Z",
     "start_time": "2023-11-09T07:39:23.056690900Z"
    }
   }
  },
  {
   "cell_type": "code",
   "execution_count": 96,
   "outputs": [
    {
     "data": {
      "text/plain": "  The Bronx Brooklyn Manhattan   Queens Staten Island\n0     Bronx    Kings  New York   Queens      Richmond\n1   1418207  2559903   1628706  2253858        476143\n2    42.695   91.559   600.244    93.31        14.514\n3       2.1    70.82     22.83   108.53         58.37",
      "text/html": "<div>\n<style scoped>\n    .dataframe tbody tr th:only-of-type {\n        vertical-align: middle;\n    }\n\n    .dataframe tbody tr th {\n        vertical-align: top;\n    }\n\n    .dataframe thead th {\n        text-align: right;\n    }\n</style>\n<table border=\"1\" class=\"dataframe\">\n  <thead>\n    <tr style=\"text-align: right;\">\n      <th></th>\n      <th>The Bronx</th>\n      <th>Brooklyn</th>\n      <th>Manhattan</th>\n      <th>Queens</th>\n      <th>Staten Island</th>\n    </tr>\n  </thead>\n  <tbody>\n    <tr>\n      <th>0</th>\n      <td>Bronx</td>\n      <td>Kings</td>\n      <td>New York</td>\n      <td>Queens</td>\n      <td>Richmond</td>\n    </tr>\n    <tr>\n      <th>1</th>\n      <td>1418207</td>\n      <td>2559903</td>\n      <td>1628706</td>\n      <td>2253858</td>\n      <td>476143</td>\n    </tr>\n    <tr>\n      <th>2</th>\n      <td>42.695</td>\n      <td>91.559</td>\n      <td>600.244</td>\n      <td>93.31</td>\n      <td>14.514</td>\n    </tr>\n    <tr>\n      <th>3</th>\n      <td>2.1</td>\n      <td>70.82</td>\n      <td>22.83</td>\n      <td>108.53</td>\n      <td>58.37</td>\n    </tr>\n  </tbody>\n</table>\n</div>"
     },
     "execution_count": 96,
     "metadata": {},
     "output_type": "execute_result"
    }
   ],
   "source": [
    "import numpy as np\n",
    "import pandas as pd\n",
    "\n",
    "new_york = pd.DataFrame([counties, populations, gdp, areas])\n",
    "new_york"
   ],
   "metadata": {
    "collapsed": false,
    "ExecuteTime": {
     "end_time": "2023-11-09T07:39:24.093130600Z",
     "start_time": "2023-11-09T07:39:24.069650Z"
    }
   }
  },
  {
   "cell_type": "code",
   "execution_count": 97,
   "outputs": [
    {
     "data": {
      "text/plain": "           The Bronx Brooklyn Manhattan   Queens Staten Island\ncounty         Bronx    Kings  New York   Queens      Richmond\npopulation   1418207  2559903   1628706  2253858        476143\ngdp           42.695   91.559   600.244    93.31        14.514\narea             2.1    70.82     22.83   108.53         58.37",
      "text/html": "<div>\n<style scoped>\n    .dataframe tbody tr th:only-of-type {\n        vertical-align: middle;\n    }\n\n    .dataframe tbody tr th {\n        vertical-align: top;\n    }\n\n    .dataframe thead th {\n        text-align: right;\n    }\n</style>\n<table border=\"1\" class=\"dataframe\">\n  <thead>\n    <tr style=\"text-align: right;\">\n      <th></th>\n      <th>The Bronx</th>\n      <th>Brooklyn</th>\n      <th>Manhattan</th>\n      <th>Queens</th>\n      <th>Staten Island</th>\n    </tr>\n  </thead>\n  <tbody>\n    <tr>\n      <th>county</th>\n      <td>Bronx</td>\n      <td>Kings</td>\n      <td>New York</td>\n      <td>Queens</td>\n      <td>Richmond</td>\n    </tr>\n    <tr>\n      <th>population</th>\n      <td>1418207</td>\n      <td>2559903</td>\n      <td>1628706</td>\n      <td>2253858</td>\n      <td>476143</td>\n    </tr>\n    <tr>\n      <th>gdp</th>\n      <td>42.695</td>\n      <td>91.559</td>\n      <td>600.244</td>\n      <td>93.31</td>\n      <td>14.514</td>\n    </tr>\n    <tr>\n      <th>area</th>\n      <td>2.1</td>\n      <td>70.82</td>\n      <td>22.83</td>\n      <td>108.53</td>\n      <td>58.37</td>\n    </tr>\n  </tbody>\n</table>\n</div>"
     },
     "execution_count": 97,
     "metadata": {},
     "output_type": "execute_result"
    }
   ],
   "source": [
    "new_york.rename(index={0: 'county', 1: 'population', 2: 'gdp', 3: 'area'})"
   ],
   "metadata": {
    "collapsed": false,
    "ExecuteTime": {
     "end_time": "2023-11-09T07:40:59.158241800Z",
     "start_time": "2023-11-09T07:40:59.071237Z"
    }
   }
  },
  {
   "cell_type": "code",
   "execution_count": 98,
   "outputs": [
    {
     "data": {
      "text/plain": "  The Bronx Brooklyn Manhattan   Queens Staten Island\n0     Bronx    Kings  New York   Queens      Richmond\n1   1418207  2559903   1628706  2253858        476143\n2    42.695   91.559   600.244    93.31        14.514\n3       2.1    70.82     22.83   108.53         58.37",
      "text/html": "<div>\n<style scoped>\n    .dataframe tbody tr th:only-of-type {\n        vertical-align: middle;\n    }\n\n    .dataframe tbody tr th {\n        vertical-align: top;\n    }\n\n    .dataframe thead th {\n        text-align: right;\n    }\n</style>\n<table border=\"1\" class=\"dataframe\">\n  <thead>\n    <tr style=\"text-align: right;\">\n      <th></th>\n      <th>The Bronx</th>\n      <th>Brooklyn</th>\n      <th>Manhattan</th>\n      <th>Queens</th>\n      <th>Staten Island</th>\n    </tr>\n  </thead>\n  <tbody>\n    <tr>\n      <th>0</th>\n      <td>Bronx</td>\n      <td>Kings</td>\n      <td>New York</td>\n      <td>Queens</td>\n      <td>Richmond</td>\n    </tr>\n    <tr>\n      <th>1</th>\n      <td>1418207</td>\n      <td>2559903</td>\n      <td>1628706</td>\n      <td>2253858</td>\n      <td>476143</td>\n    </tr>\n    <tr>\n      <th>2</th>\n      <td>42.695</td>\n      <td>91.559</td>\n      <td>600.244</td>\n      <td>93.31</td>\n      <td>14.514</td>\n    </tr>\n    <tr>\n      <th>3</th>\n      <td>2.1</td>\n      <td>70.82</td>\n      <td>22.83</td>\n      <td>108.53</td>\n      <td>58.37</td>\n    </tr>\n  </tbody>\n</table>\n</div>"
     },
     "execution_count": 98,
     "metadata": {},
     "output_type": "execute_result"
    }
   ],
   "source": [
    "new_york"
   ],
   "metadata": {
    "collapsed": false,
    "ExecuteTime": {
     "end_time": "2023-11-09T07:41:09.828472300Z",
     "start_time": "2023-11-09T07:41:09.803430600Z"
    }
   }
  },
  {
   "cell_type": "code",
   "execution_count": 100,
   "outputs": [
    {
     "data": {
      "text/plain": "                 county population      gdp    area\nThe Bronx         Bronx    1418207   42.695     2.1\nBrooklyn          Kings    2559903   91.559   70.82\nManhattan      New York    1628706  600.244   22.83\nQueens           Queens    2253858    93.31  108.53\nStaten Island  Richmond     476143   14.514   58.37",
      "text/html": "<div>\n<style scoped>\n    .dataframe tbody tr th:only-of-type {\n        vertical-align: middle;\n    }\n\n    .dataframe tbody tr th {\n        vertical-align: top;\n    }\n\n    .dataframe thead th {\n        text-align: right;\n    }\n</style>\n<table border=\"1\" class=\"dataframe\">\n  <thead>\n    <tr style=\"text-align: right;\">\n      <th></th>\n      <th>county</th>\n      <th>population</th>\n      <th>gdp</th>\n      <th>area</th>\n    </tr>\n  </thead>\n  <tbody>\n    <tr>\n      <th>The Bronx</th>\n      <td>Bronx</td>\n      <td>1418207</td>\n      <td>42.695</td>\n      <td>2.1</td>\n    </tr>\n    <tr>\n      <th>Brooklyn</th>\n      <td>Kings</td>\n      <td>2559903</td>\n      <td>91.559</td>\n      <td>70.82</td>\n    </tr>\n    <tr>\n      <th>Manhattan</th>\n      <td>New York</td>\n      <td>1628706</td>\n      <td>600.244</td>\n      <td>22.83</td>\n    </tr>\n    <tr>\n      <th>Queens</th>\n      <td>Queens</td>\n      <td>2253858</td>\n      <td>93.31</td>\n      <td>108.53</td>\n    </tr>\n    <tr>\n      <th>Staten Island</th>\n      <td>Richmond</td>\n      <td>476143</td>\n      <td>14.514</td>\n      <td>58.37</td>\n    </tr>\n  </tbody>\n</table>\n</div>"
     },
     "execution_count": 100,
     "metadata": {},
     "output_type": "execute_result"
    }
   ],
   "source": [
    "new_york.rename(index={0: 'county', 1: 'population', 2: 'gdp', 3: 'area'}).transpose()\n"
   ],
   "metadata": {
    "collapsed": false,
    "ExecuteTime": {
     "end_time": "2023-11-09T07:42:23.055063700Z",
     "start_time": "2023-11-09T07:42:23.004698Z"
    }
   }
  },
  {
   "cell_type": "code",
   "execution_count": 101,
   "outputs": [
    {
     "data": {
      "text/plain": "                      0        1        2       3\nThe Bronx         Bronx  1418207   42.695     2.1\nBrooklyn          Kings  2559903   91.559   70.82\nManhattan      New York  1628706  600.244   22.83\nQueens           Queens  2253858    93.31  108.53\nStaten Island  Richmond   476143   14.514   58.37",
      "text/html": "<div>\n<style scoped>\n    .dataframe tbody tr th:only-of-type {\n        vertical-align: middle;\n    }\n\n    .dataframe tbody tr th {\n        vertical-align: top;\n    }\n\n    .dataframe thead th {\n        text-align: right;\n    }\n</style>\n<table border=\"1\" class=\"dataframe\">\n  <thead>\n    <tr style=\"text-align: right;\">\n      <th></th>\n      <th>0</th>\n      <th>1</th>\n      <th>2</th>\n      <th>3</th>\n    </tr>\n  </thead>\n  <tbody>\n    <tr>\n      <th>The Bronx</th>\n      <td>Bronx</td>\n      <td>1418207</td>\n      <td>42.695</td>\n      <td>2.1</td>\n    </tr>\n    <tr>\n      <th>Brooklyn</th>\n      <td>Kings</td>\n      <td>2559903</td>\n      <td>91.559</td>\n      <td>70.82</td>\n    </tr>\n    <tr>\n      <th>Manhattan</th>\n      <td>New York</td>\n      <td>1628706</td>\n      <td>600.244</td>\n      <td>22.83</td>\n    </tr>\n    <tr>\n      <th>Queens</th>\n      <td>Queens</td>\n      <td>2253858</td>\n      <td>93.31</td>\n      <td>108.53</td>\n    </tr>\n    <tr>\n      <th>Staten Island</th>\n      <td>Richmond</td>\n      <td>476143</td>\n      <td>14.514</td>\n      <td>58.37</td>\n    </tr>\n  </tbody>\n</table>\n</div>"
     },
     "execution_count": 101,
     "metadata": {},
     "output_type": "execute_result"
    }
   ],
   "source": [
    "new_york.transpose()"
   ],
   "metadata": {
    "collapsed": false,
    "ExecuteTime": {
     "end_time": "2023-11-09T07:43:05.951531500Z",
     "start_time": "2023-11-09T07:43:05.922502100Z"
    }
   }
  },
  {
   "cell_type": "code",
   "execution_count": 103,
   "outputs": [
    {
     "data": {
      "text/plain": "  The Bronx Brooklyn Manhattan   Queens Staten Island\n0     Bronx    Kings  New York   Queens      Richmond\n1   1418207  2559903   1628706  2253858        476143\n2    42.695   91.559   600.244    93.31        14.514\n3       2.1    70.82     22.83   108.53         58.37",
      "text/html": "<div>\n<style scoped>\n    .dataframe tbody tr th:only-of-type {\n        vertical-align: middle;\n    }\n\n    .dataframe tbody tr th {\n        vertical-align: top;\n    }\n\n    .dataframe thead th {\n        text-align: right;\n    }\n</style>\n<table border=\"1\" class=\"dataframe\">\n  <thead>\n    <tr style=\"text-align: right;\">\n      <th></th>\n      <th>The Bronx</th>\n      <th>Brooklyn</th>\n      <th>Manhattan</th>\n      <th>Queens</th>\n      <th>Staten Island</th>\n    </tr>\n  </thead>\n  <tbody>\n    <tr>\n      <th>0</th>\n      <td>Bronx</td>\n      <td>Kings</td>\n      <td>New York</td>\n      <td>Queens</td>\n      <td>Richmond</td>\n    </tr>\n    <tr>\n      <th>1</th>\n      <td>1418207</td>\n      <td>2559903</td>\n      <td>1628706</td>\n      <td>2253858</td>\n      <td>476143</td>\n    </tr>\n    <tr>\n      <th>2</th>\n      <td>42.695</td>\n      <td>91.559</td>\n      <td>600.244</td>\n      <td>93.31</td>\n      <td>14.514</td>\n    </tr>\n    <tr>\n      <th>3</th>\n      <td>2.1</td>\n      <td>70.82</td>\n      <td>22.83</td>\n      <td>108.53</td>\n      <td>58.37</td>\n    </tr>\n  </tbody>\n</table>\n</div>"
     },
     "execution_count": 103,
     "metadata": {},
     "output_type": "execute_result"
    }
   ],
   "source": [
    "new_york = new_york.rename(\n",
    "    columns={0: 'county', 1: 'population', 2: 'gdp', 3: 'area'}\n",
    ")\n",
    "new_york"
   ],
   "metadata": {
    "collapsed": false,
    "ExecuteTime": {
     "end_time": "2023-11-09T07:45:07.360481300Z",
     "start_time": "2023-11-09T07:45:07.337328500Z"
    }
   }
  },
  {
   "cell_type": "code",
   "execution_count": 104,
   "outputs": [],
   "source": [
    "burroughs = ['The Bronx', 'Brooklyn', 'Manhattan', 'Queens', 'Staten Island']\n",
    "counties = ['Bronx', 'Kings', 'New York', 'Queens', 'Richmond']\n",
    "populations = [1_418_207, 2_559_903, 1_628_706, 2_253_858, 476_143]\n",
    "gdp = [42.695, 91.559, 600.244, 93.310, 14.514]\n",
    "areas = [42.10, 70.82, 22.83, 108.53, 58.37]"
   ],
   "metadata": {
    "collapsed": false,
    "ExecuteTime": {
     "end_time": "2023-11-09T07:46:11.671030300Z",
     "start_time": "2023-11-09T07:46:11.616996700Z"
    }
   }
  },
  {
   "cell_type": "code",
   "execution_count": 105,
   "outputs": [],
   "source": [
    "data = [burroughs, counties, populations, gdp, areas]"
   ],
   "metadata": {
    "collapsed": false,
    "ExecuteTime": {
     "end_time": "2023-11-09T07:46:59.059495700Z",
     "start_time": "2023-11-09T07:46:59.001525400Z"
    }
   }
  },
  {
   "cell_type": "code",
   "execution_count": 106,
   "outputs": [
    {
     "data": {
      "text/plain": "[['The Bronx', 'Brooklyn', 'Manhattan', 'Queens', 'Staten Island'],\n ['Bronx', 'Kings', 'New York', 'Queens', 'Richmond'],\n [1418207, 2559903, 1628706, 2253858, 476143],\n [42.695, 91.559, 600.244, 93.31, 14.514],\n [42.1, 70.82, 22.83, 108.53, 58.37]]"
     },
     "execution_count": 106,
     "metadata": {},
     "output_type": "execute_result"
    }
   ],
   "source": [
    "data"
   ],
   "metadata": {
    "collapsed": false,
    "ExecuteTime": {
     "end_time": "2023-11-09T07:47:02.050217500Z",
     "start_time": "2023-11-09T07:47:02.002193900Z"
    }
   }
  },
  {
   "cell_type": "code",
   "execution_count": 117,
   "outputs": [],
   "source": [
    "new_york = pd.DataFrame(\n",
    "    data,\n",
    "    index=['BURROUGHS', 'COUNTY', 'POPULATION', 'GDP', 'AREA']\n",
    ")"
   ],
   "metadata": {
    "collapsed": false,
    "ExecuteTime": {
     "end_time": "2023-11-09T07:59:27.402251700Z",
     "start_time": "2023-11-09T07:59:27.390221900Z"
    }
   }
  },
  {
   "cell_type": "code",
   "execution_count": 118,
   "outputs": [
    {
     "data": {
      "text/plain": "                    0         1          2        3              4\nBURROUGHS   The Bronx  Brooklyn  Manhattan   Queens  Staten Island\nCOUNTY          Bronx     Kings   New York   Queens       Richmond\nPOPULATION    1418207   2559903    1628706  2253858         476143\nGDP            42.695    91.559    600.244    93.31         14.514\nAREA             42.1     70.82      22.83   108.53          58.37",
      "text/html": "<div>\n<style scoped>\n    .dataframe tbody tr th:only-of-type {\n        vertical-align: middle;\n    }\n\n    .dataframe tbody tr th {\n        vertical-align: top;\n    }\n\n    .dataframe thead th {\n        text-align: right;\n    }\n</style>\n<table border=\"1\" class=\"dataframe\">\n  <thead>\n    <tr style=\"text-align: right;\">\n      <th></th>\n      <th>0</th>\n      <th>1</th>\n      <th>2</th>\n      <th>3</th>\n      <th>4</th>\n    </tr>\n  </thead>\n  <tbody>\n    <tr>\n      <th>BURROUGHS</th>\n      <td>The Bronx</td>\n      <td>Brooklyn</td>\n      <td>Manhattan</td>\n      <td>Queens</td>\n      <td>Staten Island</td>\n    </tr>\n    <tr>\n      <th>COUNTY</th>\n      <td>Bronx</td>\n      <td>Kings</td>\n      <td>New York</td>\n      <td>Queens</td>\n      <td>Richmond</td>\n    </tr>\n    <tr>\n      <th>POPULATION</th>\n      <td>1418207</td>\n      <td>2559903</td>\n      <td>1628706</td>\n      <td>2253858</td>\n      <td>476143</td>\n    </tr>\n    <tr>\n      <th>GDP</th>\n      <td>42.695</td>\n      <td>91.559</td>\n      <td>600.244</td>\n      <td>93.31</td>\n      <td>14.514</td>\n    </tr>\n    <tr>\n      <th>AREA</th>\n      <td>42.1</td>\n      <td>70.82</td>\n      <td>22.83</td>\n      <td>108.53</td>\n      <td>58.37</td>\n    </tr>\n  </tbody>\n</table>\n</div>"
     },
     "execution_count": 118,
     "metadata": {},
     "output_type": "execute_result"
    }
   ],
   "source": [
    "new_york"
   ],
   "metadata": {
    "collapsed": false,
    "ExecuteTime": {
     "end_time": "2023-11-09T07:59:28.039581200Z",
     "start_time": "2023-11-09T07:59:28.029597600Z"
    }
   }
  },
  {
   "cell_type": "code",
   "execution_count": 120,
   "outputs": [
    {
     "data": {
      "text/plain": "       BURROUGHS    COUNTY POPULATION      GDP    AREA\n0      The Bronx     Bronx    1418207   42.695    42.1\n1       Brooklyn     Kings    2559903   91.559   70.82\n2      Manhattan  New York    1628706  600.244   22.83\n3         Queens    Queens    2253858    93.31  108.53\n4  Staten Island  Richmond     476143   14.514   58.37",
      "text/html": "<div>\n<style scoped>\n    .dataframe tbody tr th:only-of-type {\n        vertical-align: middle;\n    }\n\n    .dataframe tbody tr th {\n        vertical-align: top;\n    }\n\n    .dataframe thead th {\n        text-align: right;\n    }\n</style>\n<table border=\"1\" class=\"dataframe\">\n  <thead>\n    <tr style=\"text-align: right;\">\n      <th></th>\n      <th>BURROUGHS</th>\n      <th>COUNTY</th>\n      <th>POPULATION</th>\n      <th>GDP</th>\n      <th>AREA</th>\n    </tr>\n  </thead>\n  <tbody>\n    <tr>\n      <th>0</th>\n      <td>The Bronx</td>\n      <td>Bronx</td>\n      <td>1418207</td>\n      <td>42.695</td>\n      <td>42.1</td>\n    </tr>\n    <tr>\n      <th>1</th>\n      <td>Brooklyn</td>\n      <td>Kings</td>\n      <td>2559903</td>\n      <td>91.559</td>\n      <td>70.82</td>\n    </tr>\n    <tr>\n      <th>2</th>\n      <td>Manhattan</td>\n      <td>New York</td>\n      <td>1628706</td>\n      <td>600.244</td>\n      <td>22.83</td>\n    </tr>\n    <tr>\n      <th>3</th>\n      <td>Queens</td>\n      <td>Queens</td>\n      <td>2253858</td>\n      <td>93.31</td>\n      <td>108.53</td>\n    </tr>\n    <tr>\n      <th>4</th>\n      <td>Staten Island</td>\n      <td>Richmond</td>\n      <td>476143</td>\n      <td>14.514</td>\n      <td>58.37</td>\n    </tr>\n  </tbody>\n</table>\n</div>"
     },
     "execution_count": 120,
     "metadata": {},
     "output_type": "execute_result"
    }
   ],
   "source": [
    "new_york = new_york.transpose()\n",
    "new_york"
   ],
   "metadata": {
    "collapsed": false,
    "ExecuteTime": {
     "end_time": "2023-11-09T07:59:57.527883Z",
     "start_time": "2023-11-09T07:59:57.479187600Z"
    }
   }
  },
  {
   "cell_type": "code",
   "execution_count": 121,
   "outputs": [
    {
     "data": {
      "text/plain": "                 COUNTY POPULATION      GDP    AREA\nBURROUGHS                                          \nThe Bronx         Bronx    1418207   42.695    42.1\nBrooklyn          Kings    2559903   91.559   70.82\nManhattan      New York    1628706  600.244   22.83\nQueens           Queens    2253858    93.31  108.53\nStaten Island  Richmond     476143   14.514   58.37",
      "text/html": "<div>\n<style scoped>\n    .dataframe tbody tr th:only-of-type {\n        vertical-align: middle;\n    }\n\n    .dataframe tbody tr th {\n        vertical-align: top;\n    }\n\n    .dataframe thead th {\n        text-align: right;\n    }\n</style>\n<table border=\"1\" class=\"dataframe\">\n  <thead>\n    <tr style=\"text-align: right;\">\n      <th></th>\n      <th>COUNTY</th>\n      <th>POPULATION</th>\n      <th>GDP</th>\n      <th>AREA</th>\n    </tr>\n    <tr>\n      <th>BURROUGHS</th>\n      <th></th>\n      <th></th>\n      <th></th>\n      <th></th>\n    </tr>\n  </thead>\n  <tbody>\n    <tr>\n      <th>The Bronx</th>\n      <td>Bronx</td>\n      <td>1418207</td>\n      <td>42.695</td>\n      <td>42.1</td>\n    </tr>\n    <tr>\n      <th>Brooklyn</th>\n      <td>Kings</td>\n      <td>2559903</td>\n      <td>91.559</td>\n      <td>70.82</td>\n    </tr>\n    <tr>\n      <th>Manhattan</th>\n      <td>New York</td>\n      <td>1628706</td>\n      <td>600.244</td>\n      <td>22.83</td>\n    </tr>\n    <tr>\n      <th>Queens</th>\n      <td>Queens</td>\n      <td>2253858</td>\n      <td>93.31</td>\n      <td>108.53</td>\n    </tr>\n    <tr>\n      <th>Staten Island</th>\n      <td>Richmond</td>\n      <td>476143</td>\n      <td>14.514</td>\n      <td>58.37</td>\n    </tr>\n  </tbody>\n</table>\n</div>"
     },
     "execution_count": 121,
     "metadata": {},
     "output_type": "execute_result"
    }
   ],
   "source": [
    "new_york.set_index('BURROUGHS')"
   ],
   "metadata": {
    "collapsed": false,
    "ExecuteTime": {
     "end_time": "2023-11-09T08:00:48.870920500Z",
     "start_time": "2023-11-09T08:00:48.753922800Z"
    }
   }
  },
  {
   "cell_type": "code",
   "execution_count": 122,
   "outputs": [
    {
     "data": {
      "text/plain": "              BURROUGHS POPULATION      GDP    AREA\nCOUNTY                                             \nBronx         The Bronx    1418207   42.695    42.1\nKings          Brooklyn    2559903   91.559   70.82\nNew York      Manhattan    1628706  600.244   22.83\nQueens           Queens    2253858    93.31  108.53\nRichmond  Staten Island     476143   14.514   58.37",
      "text/html": "<div>\n<style scoped>\n    .dataframe tbody tr th:only-of-type {\n        vertical-align: middle;\n    }\n\n    .dataframe tbody tr th {\n        vertical-align: top;\n    }\n\n    .dataframe thead th {\n        text-align: right;\n    }\n</style>\n<table border=\"1\" class=\"dataframe\">\n  <thead>\n    <tr style=\"text-align: right;\">\n      <th></th>\n      <th>BURROUGHS</th>\n      <th>POPULATION</th>\n      <th>GDP</th>\n      <th>AREA</th>\n    </tr>\n    <tr>\n      <th>COUNTY</th>\n      <th></th>\n      <th></th>\n      <th></th>\n      <th></th>\n    </tr>\n  </thead>\n  <tbody>\n    <tr>\n      <th>Bronx</th>\n      <td>The Bronx</td>\n      <td>1418207</td>\n      <td>42.695</td>\n      <td>42.1</td>\n    </tr>\n    <tr>\n      <th>Kings</th>\n      <td>Brooklyn</td>\n      <td>2559903</td>\n      <td>91.559</td>\n      <td>70.82</td>\n    </tr>\n    <tr>\n      <th>New York</th>\n      <td>Manhattan</td>\n      <td>1628706</td>\n      <td>600.244</td>\n      <td>22.83</td>\n    </tr>\n    <tr>\n      <th>Queens</th>\n      <td>Queens</td>\n      <td>2253858</td>\n      <td>93.31</td>\n      <td>108.53</td>\n    </tr>\n    <tr>\n      <th>Richmond</th>\n      <td>Staten Island</td>\n      <td>476143</td>\n      <td>14.514</td>\n      <td>58.37</td>\n    </tr>\n  </tbody>\n</table>\n</div>"
     },
     "execution_count": 122,
     "metadata": {},
     "output_type": "execute_result"
    }
   ],
   "source": [
    "new_york.set_index('COUNTY')"
   ],
   "metadata": {
    "collapsed": false,
    "ExecuteTime": {
     "end_time": "2023-11-09T08:02:01.568771500Z",
     "start_time": "2023-11-09T08:02:01.514769800Z"
    }
   }
  },
  {
   "cell_type": "code",
   "execution_count": 123,
   "outputs": [
    {
     "data": {
      "text/plain": "Index(['BURROUGHS', 'COUNTY', 'POPULATION', 'GDP', 'AREA'], dtype='object')"
     },
     "execution_count": 123,
     "metadata": {},
     "output_type": "execute_result"
    }
   ],
   "source": [
    "new_york.columns"
   ],
   "metadata": {
    "collapsed": false,
    "ExecuteTime": {
     "end_time": "2023-11-09T08:02:57.167415900Z",
     "start_time": "2023-11-09T08:02:57.112410100Z"
    }
   }
  },
  {
   "cell_type": "code",
   "execution_count": 124,
   "outputs": [
    {
     "data": {
      "text/plain": "       BURROUGHS    COUNTY POPULATION      GDP    AREA\n0      The Bronx     Bronx    1418207   42.695    42.1\n1       Brooklyn     Kings    2559903   91.559   70.82\n2      Manhattan  New York    1628706  600.244   22.83\n3         Queens    Queens    2253858    93.31  108.53\n4  Staten Island  Richmond     476143   14.514   58.37",
      "text/html": "<div>\n<style scoped>\n    .dataframe tbody tr th:only-of-type {\n        vertical-align: middle;\n    }\n\n    .dataframe tbody tr th {\n        vertical-align: top;\n    }\n\n    .dataframe thead th {\n        text-align: right;\n    }\n</style>\n<table border=\"1\" class=\"dataframe\">\n  <thead>\n    <tr style=\"text-align: right;\">\n      <th></th>\n      <th>BURROUGHS</th>\n      <th>COUNTY</th>\n      <th>POPULATION</th>\n      <th>GDP</th>\n      <th>AREA</th>\n    </tr>\n  </thead>\n  <tbody>\n    <tr>\n      <th>0</th>\n      <td>The Bronx</td>\n      <td>Bronx</td>\n      <td>1418207</td>\n      <td>42.695</td>\n      <td>42.1</td>\n    </tr>\n    <tr>\n      <th>1</th>\n      <td>Brooklyn</td>\n      <td>Kings</td>\n      <td>2559903</td>\n      <td>91.559</td>\n      <td>70.82</td>\n    </tr>\n    <tr>\n      <th>2</th>\n      <td>Manhattan</td>\n      <td>New York</td>\n      <td>1628706</td>\n      <td>600.244</td>\n      <td>22.83</td>\n    </tr>\n    <tr>\n      <th>3</th>\n      <td>Queens</td>\n      <td>Queens</td>\n      <td>2253858</td>\n      <td>93.31</td>\n      <td>108.53</td>\n    </tr>\n    <tr>\n      <th>4</th>\n      <td>Staten Island</td>\n      <td>Richmond</td>\n      <td>476143</td>\n      <td>14.514</td>\n      <td>58.37</td>\n    </tr>\n  </tbody>\n</table>\n</div>"
     },
     "execution_count": 124,
     "metadata": {},
     "output_type": "execute_result"
    }
   ],
   "source": [
    "new_york.index.name = None\n",
    "new_york"
   ],
   "metadata": {
    "collapsed": false,
    "ExecuteTime": {
     "end_time": "2023-11-09T08:03:55.485431Z",
     "start_time": "2023-11-09T08:03:55.417426800Z"
    }
   }
  },
  {
   "cell_type": "code",
   "execution_count": 125,
   "outputs": [
    {
     "name": "stdout",
     "output_type": "stream",
     "text": [
      "<class 'pandas.core.frame.DataFrame'>\n",
      "RangeIndex: 5 entries, 0 to 4\n",
      "Data columns (total 5 columns):\n",
      " #   Column      Non-Null Count  Dtype \n",
      "---  ------      --------------  ----- \n",
      " 0   BURROUGHS   5 non-null      object\n",
      " 1   COUNTY      5 non-null      object\n",
      " 2   POPULATION  5 non-null      object\n",
      " 3   GDP         5 non-null      object\n",
      " 4   AREA        5 non-null      object\n",
      "dtypes: object(5)\n",
      "memory usage: 328.0+ bytes\n"
     ]
    }
   ],
   "source": [
    "new_york.info()"
   ],
   "metadata": {
    "collapsed": false,
    "ExecuteTime": {
     "end_time": "2023-11-09T08:05:52.533080200Z",
     "start_time": "2023-11-09T08:05:52.449113900Z"
    }
   }
  },
  {
   "cell_type": "code",
   "execution_count": 127,
   "outputs": [
    {
     "data": {
      "text/plain": "       BURROUGHS    COUNTY POPULATION      GDP    AREA\n0      The Bronx     Bronx    1418207   42.695    42.1\n1       Brooklyn     Kings    2559903   91.559   70.82\n2      Manhattan  New York    1628706  600.244   22.83\n3         Queens    Queens    2253858    93.31  108.53\n4  Staten Island  Richmond     476143   14.514   58.37",
      "text/html": "<div>\n<style scoped>\n    .dataframe tbody tr th:only-of-type {\n        vertical-align: middle;\n    }\n\n    .dataframe tbody tr th {\n        vertical-align: top;\n    }\n\n    .dataframe thead th {\n        text-align: right;\n    }\n</style>\n<table border=\"1\" class=\"dataframe\">\n  <thead>\n    <tr style=\"text-align: right;\">\n      <th></th>\n      <th>BURROUGHS</th>\n      <th>COUNTY</th>\n      <th>POPULATION</th>\n      <th>GDP</th>\n      <th>AREA</th>\n    </tr>\n  </thead>\n  <tbody>\n    <tr>\n      <th>0</th>\n      <td>The Bronx</td>\n      <td>Bronx</td>\n      <td>1418207</td>\n      <td>42.695</td>\n      <td>42.1</td>\n    </tr>\n    <tr>\n      <th>1</th>\n      <td>Brooklyn</td>\n      <td>Kings</td>\n      <td>2559903</td>\n      <td>91.559</td>\n      <td>70.82</td>\n    </tr>\n    <tr>\n      <th>2</th>\n      <td>Manhattan</td>\n      <td>New York</td>\n      <td>1628706</td>\n      <td>600.244</td>\n      <td>22.83</td>\n    </tr>\n    <tr>\n      <th>3</th>\n      <td>Queens</td>\n      <td>Queens</td>\n      <td>2253858</td>\n      <td>93.31</td>\n      <td>108.53</td>\n    </tr>\n    <tr>\n      <th>4</th>\n      <td>Staten Island</td>\n      <td>Richmond</td>\n      <td>476143</td>\n      <td>14.514</td>\n      <td>58.37</td>\n    </tr>\n  </tbody>\n</table>\n</div>"
     },
     "execution_count": 127,
     "metadata": {},
     "output_type": "execute_result"
    }
   ],
   "source": [
    "new_york"
   ],
   "metadata": {
    "collapsed": false,
    "ExecuteTime": {
     "end_time": "2023-11-09T08:06:26.225607500Z",
     "start_time": "2023-11-09T08:06:26.204570400Z"
    }
   }
  },
  {
   "cell_type": "code",
   "execution_count": 128,
   "outputs": [
    {
     "data": {
      "text/plain": "       BURROUGHS    COUNTY POPULATION      GDP    AREA\n0      The Bronx     Bronx    1418207   42.695    42.1\n1       Brooklyn     Kings    2559903   91.559   70.82\n2      Manhattan  New York    1628706  600.244   22.83\n3         Queens    Queens    2253858    93.31  108.53\n4  Staten Island  Richmond     476143   14.514   58.37",
      "text/html": "<div>\n<style scoped>\n    .dataframe tbody tr th:only-of-type {\n        vertical-align: middle;\n    }\n\n    .dataframe tbody tr th {\n        vertical-align: top;\n    }\n\n    .dataframe thead th {\n        text-align: right;\n    }\n</style>\n<table border=\"1\" class=\"dataframe\">\n  <thead>\n    <tr style=\"text-align: right;\">\n      <th></th>\n      <th>BURROUGHS</th>\n      <th>COUNTY</th>\n      <th>POPULATION</th>\n      <th>GDP</th>\n      <th>AREA</th>\n    </tr>\n  </thead>\n  <tbody>\n    <tr>\n      <th>0</th>\n      <td>The Bronx</td>\n      <td>Bronx</td>\n      <td>1418207</td>\n      <td>42.695</td>\n      <td>42.1</td>\n    </tr>\n    <tr>\n      <th>1</th>\n      <td>Brooklyn</td>\n      <td>Kings</td>\n      <td>2559903</td>\n      <td>91.559</td>\n      <td>70.82</td>\n    </tr>\n    <tr>\n      <th>2</th>\n      <td>Manhattan</td>\n      <td>New York</td>\n      <td>1628706</td>\n      <td>600.244</td>\n      <td>22.83</td>\n    </tr>\n    <tr>\n      <th>3</th>\n      <td>Queens</td>\n      <td>Queens</td>\n      <td>2253858</td>\n      <td>93.31</td>\n      <td>108.53</td>\n    </tr>\n    <tr>\n      <th>4</th>\n      <td>Staten Island</td>\n      <td>Richmond</td>\n      <td>476143</td>\n      <td>14.514</td>\n      <td>58.37</td>\n    </tr>\n  </tbody>\n</table>\n</div>"
     },
     "execution_count": 128,
     "metadata": {},
     "output_type": "execute_result"
    }
   ],
   "source": [
    "new_york"
   ],
   "metadata": {
    "collapsed": false,
    "ExecuteTime": {
     "end_time": "2023-11-09T08:09:27.053316300Z",
     "start_time": "2023-11-09T08:09:26.978402700Z"
    }
   }
  },
  {
   "cell_type": "code",
   "execution_count": 129,
   "outputs": [],
   "source": [
    "new_df = new_york.drop(columns='COUNTY')"
   ],
   "metadata": {
    "collapsed": false,
    "ExecuteTime": {
     "end_time": "2023-11-09T08:09:54.400689700Z",
     "start_time": "2023-11-09T08:09:54.299717700Z"
    }
   }
  },
  {
   "cell_type": "code",
   "execution_count": 130,
   "outputs": [
    {
     "data": {
      "text/plain": "       BURROUGHS POPULATION      GDP    AREA\n0      The Bronx    1418207   42.695    42.1\n1       Brooklyn    2559903   91.559   70.82\n2      Manhattan    1628706  600.244   22.83\n3         Queens    2253858    93.31  108.53\n4  Staten Island     476143   14.514   58.37",
      "text/html": "<div>\n<style scoped>\n    .dataframe tbody tr th:only-of-type {\n        vertical-align: middle;\n    }\n\n    .dataframe tbody tr th {\n        vertical-align: top;\n    }\n\n    .dataframe thead th {\n        text-align: right;\n    }\n</style>\n<table border=\"1\" class=\"dataframe\">\n  <thead>\n    <tr style=\"text-align: right;\">\n      <th></th>\n      <th>BURROUGHS</th>\n      <th>POPULATION</th>\n      <th>GDP</th>\n      <th>AREA</th>\n    </tr>\n  </thead>\n  <tbody>\n    <tr>\n      <th>0</th>\n      <td>The Bronx</td>\n      <td>1418207</td>\n      <td>42.695</td>\n      <td>42.1</td>\n    </tr>\n    <tr>\n      <th>1</th>\n      <td>Brooklyn</td>\n      <td>2559903</td>\n      <td>91.559</td>\n      <td>70.82</td>\n    </tr>\n    <tr>\n      <th>2</th>\n      <td>Manhattan</td>\n      <td>1628706</td>\n      <td>600.244</td>\n      <td>22.83</td>\n    </tr>\n    <tr>\n      <th>3</th>\n      <td>Queens</td>\n      <td>2253858</td>\n      <td>93.31</td>\n      <td>108.53</td>\n    </tr>\n    <tr>\n      <th>4</th>\n      <td>Staten Island</td>\n      <td>476143</td>\n      <td>14.514</td>\n      <td>58.37</td>\n    </tr>\n  </tbody>\n</table>\n</div>"
     },
     "execution_count": 130,
     "metadata": {},
     "output_type": "execute_result"
    }
   ],
   "source": [
    "new_df"
   ],
   "metadata": {
    "collapsed": false,
    "ExecuteTime": {
     "end_time": "2023-11-09T08:09:58.030076Z",
     "start_time": "2023-11-09T08:09:57.977075900Z"
    }
   }
  },
  {
   "cell_type": "code",
   "execution_count": 134,
   "outputs": [],
   "source": [
    "new_york.set_index('BURROUGHS')\n",
    "new_df = new_york.drop(\n",
    "    index=[1, 3]\n",
    ")"
   ],
   "metadata": {
    "collapsed": false,
    "ExecuteTime": {
     "end_time": "2023-11-09T08:12:42.966374600Z",
     "start_time": "2023-11-09T08:12:42.950515600Z"
    }
   }
  },
  {
   "cell_type": "code",
   "execution_count": 136,
   "outputs": [
    {
     "data": {
      "text/plain": "       BURROUGHS    COUNTY POPULATION      GDP   AREA\n0      The Bronx     Bronx    1418207   42.695   42.1\n2      Manhattan  New York    1628706  600.244  22.83\n4  Staten Island  Richmond     476143   14.514  58.37",
      "text/html": "<div>\n<style scoped>\n    .dataframe tbody tr th:only-of-type {\n        vertical-align: middle;\n    }\n\n    .dataframe tbody tr th {\n        vertical-align: top;\n    }\n\n    .dataframe thead th {\n        text-align: right;\n    }\n</style>\n<table border=\"1\" class=\"dataframe\">\n  <thead>\n    <tr style=\"text-align: right;\">\n      <th></th>\n      <th>BURROUGHS</th>\n      <th>COUNTY</th>\n      <th>POPULATION</th>\n      <th>GDP</th>\n      <th>AREA</th>\n    </tr>\n  </thead>\n  <tbody>\n    <tr>\n      <th>0</th>\n      <td>The Bronx</td>\n      <td>Bronx</td>\n      <td>1418207</td>\n      <td>42.695</td>\n      <td>42.1</td>\n    </tr>\n    <tr>\n      <th>2</th>\n      <td>Manhattan</td>\n      <td>New York</td>\n      <td>1628706</td>\n      <td>600.244</td>\n      <td>22.83</td>\n    </tr>\n    <tr>\n      <th>4</th>\n      <td>Staten Island</td>\n      <td>Richmond</td>\n      <td>476143</td>\n      <td>14.514</td>\n      <td>58.37</td>\n    </tr>\n  </tbody>\n</table>\n</div>"
     },
     "execution_count": 136,
     "metadata": {},
     "output_type": "execute_result"
    }
   ],
   "source": [
    "new_df"
   ],
   "metadata": {
    "collapsed": false,
    "ExecuteTime": {
     "end_time": "2023-11-09T08:13:23.808966200Z",
     "start_time": "2023-11-09T08:13:23.797967600Z"
    }
   }
  },
  {
   "cell_type": "code",
   "execution_count": 138,
   "outputs": [],
   "source": [
    "df = pd.DataFrame(\n",
    "    np.arange(9).reshape(3, 3),\n",
    "    index=list('ABC'),\n",
    "    columns=list('abc')\n",
    ")"
   ],
   "metadata": {
    "collapsed": false,
    "ExecuteTime": {
     "end_time": "2023-11-09T08:15:11.186661800Z",
     "start_time": "2023-11-09T08:15:11.163308600Z"
    }
   }
  },
  {
   "cell_type": "code",
   "execution_count": 139,
   "outputs": [
    {
     "data": {
      "text/plain": "   a  b  c\nA  0  1  2\nB  3  4  5\nC  6  7  8",
      "text/html": "<div>\n<style scoped>\n    .dataframe tbody tr th:only-of-type {\n        vertical-align: middle;\n    }\n\n    .dataframe tbody tr th {\n        vertical-align: top;\n    }\n\n    .dataframe thead th {\n        text-align: right;\n    }\n</style>\n<table border=\"1\" class=\"dataframe\">\n  <thead>\n    <tr style=\"text-align: right;\">\n      <th></th>\n      <th>a</th>\n      <th>b</th>\n      <th>c</th>\n    </tr>\n  </thead>\n  <tbody>\n    <tr>\n      <th>A</th>\n      <td>0</td>\n      <td>1</td>\n      <td>2</td>\n    </tr>\n    <tr>\n      <th>B</th>\n      <td>3</td>\n      <td>4</td>\n      <td>5</td>\n    </tr>\n    <tr>\n      <th>C</th>\n      <td>6</td>\n      <td>7</td>\n      <td>8</td>\n    </tr>\n  </tbody>\n</table>\n</div>"
     },
     "execution_count": 139,
     "metadata": {},
     "output_type": "execute_result"
    }
   ],
   "source": [
    "df"
   ],
   "metadata": {
    "collapsed": false,
    "ExecuteTime": {
     "end_time": "2023-11-09T08:15:14.422390900Z",
     "start_time": "2023-11-09T08:15:14.373893300Z"
    }
   }
  },
  {
   "cell_type": "code",
   "execution_count": 140,
   "outputs": [
    {
     "data": {
      "text/plain": "    aa  bb  cc\nAA   0   1   2\nBB   3   4   5\nCC   6   7   8",
      "text/html": "<div>\n<style scoped>\n    .dataframe tbody tr th:only-of-type {\n        vertical-align: middle;\n    }\n\n    .dataframe tbody tr th {\n        vertical-align: top;\n    }\n\n    .dataframe thead th {\n        text-align: right;\n    }\n</style>\n<table border=\"1\" class=\"dataframe\">\n  <thead>\n    <tr style=\"text-align: right;\">\n      <th></th>\n      <th>aa</th>\n      <th>bb</th>\n      <th>cc</th>\n    </tr>\n  </thead>\n  <tbody>\n    <tr>\n      <th>AA</th>\n      <td>0</td>\n      <td>1</td>\n      <td>2</td>\n    </tr>\n    <tr>\n      <th>BB</th>\n      <td>3</td>\n      <td>4</td>\n      <td>5</td>\n    </tr>\n    <tr>\n      <th>CC</th>\n      <td>6</td>\n      <td>7</td>\n      <td>8</td>\n    </tr>\n  </tbody>\n</table>\n</div>"
     },
     "execution_count": 140,
     "metadata": {},
     "output_type": "execute_result"
    }
   ],
   "source": [
    "df.rename(\n",
    "    columns={'a': 'aa', 'b': 'bb', 'c': 'cc'},\n",
    "    index={'A': 'AA', 'B': 'BB', 'C': 'CC'}\n",
    ")"
   ],
   "metadata": {
    "collapsed": false,
    "ExecuteTime": {
     "end_time": "2023-11-09T08:17:28.011701200Z",
     "start_time": "2023-11-09T08:17:27.963699700Z"
    }
   }
  },
  {
   "cell_type": "code",
   "execution_count": 141,
   "outputs": [
    {
     "data": {
      "text/plain": "   a  b  c\nA  0  1  2\nB  3  4  5\nC  6  7  8",
      "text/html": "<div>\n<style scoped>\n    .dataframe tbody tr th:only-of-type {\n        vertical-align: middle;\n    }\n\n    .dataframe tbody tr th {\n        vertical-align: top;\n    }\n\n    .dataframe thead th {\n        text-align: right;\n    }\n</style>\n<table border=\"1\" class=\"dataframe\">\n  <thead>\n    <tr style=\"text-align: right;\">\n      <th></th>\n      <th>a</th>\n      <th>b</th>\n      <th>c</th>\n    </tr>\n  </thead>\n  <tbody>\n    <tr>\n      <th>A</th>\n      <td>0</td>\n      <td>1</td>\n      <td>2</td>\n    </tr>\n    <tr>\n      <th>B</th>\n      <td>3</td>\n      <td>4</td>\n      <td>5</td>\n    </tr>\n    <tr>\n      <th>C</th>\n      <td>6</td>\n      <td>7</td>\n      <td>8</td>\n    </tr>\n  </tbody>\n</table>\n</div>"
     },
     "execution_count": 141,
     "metadata": {},
     "output_type": "execute_result"
    }
   ],
   "source": [
    "df"
   ],
   "metadata": {
    "collapsed": false,
    "ExecuteTime": {
     "end_time": "2023-11-09T08:17:56.658707100Z",
     "start_time": "2023-11-09T08:17:56.602703600Z"
    }
   }
  },
  {
   "cell_type": "code",
   "execution_count": 142,
   "outputs": [
    {
     "data": {
      "text/plain": "   AA  b  c\nA   0  1  2\nB   3  4  5\nC   6  7  8",
      "text/html": "<div>\n<style scoped>\n    .dataframe tbody tr th:only-of-type {\n        vertical-align: middle;\n    }\n\n    .dataframe tbody tr th {\n        vertical-align: top;\n    }\n\n    .dataframe thead th {\n        text-align: right;\n    }\n</style>\n<table border=\"1\" class=\"dataframe\">\n  <thead>\n    <tr style=\"text-align: right;\">\n      <th></th>\n      <th>AA</th>\n      <th>b</th>\n      <th>c</th>\n    </tr>\n  </thead>\n  <tbody>\n    <tr>\n      <th>A</th>\n      <td>0</td>\n      <td>1</td>\n      <td>2</td>\n    </tr>\n    <tr>\n      <th>B</th>\n      <td>3</td>\n      <td>4</td>\n      <td>5</td>\n    </tr>\n    <tr>\n      <th>C</th>\n      <td>6</td>\n      <td>7</td>\n      <td>8</td>\n    </tr>\n  </tbody>\n</table>\n</div>"
     },
     "execution_count": 142,
     "metadata": {},
     "output_type": "execute_result"
    }
   ],
   "source": [
    "df.rename(\n",
    "    columns={'a': 'AA'}\n",
    ")"
   ],
   "metadata": {
    "collapsed": false,
    "ExecuteTime": {
     "end_time": "2023-11-09T08:18:34.323723400Z",
     "start_time": "2023-11-09T08:18:34.240720700Z"
    }
   }
  },
  {
   "cell_type": "code",
   "execution_count": 146,
   "outputs": [],
   "source": [
    "arr = np.arange(1, 10).reshape(3, 3)\n",
    "df = pd.DataFrame(\n",
    "    arr,\n",
    "    index=['r1', 'r2', 'r3'],\n",
    "    columns=['c1', 'c2', 'c3']\n",
    ")"
   ],
   "metadata": {
    "collapsed": false,
    "ExecuteTime": {
     "end_time": "2023-11-09T08:34:11.270811700Z",
     "start_time": "2023-11-09T08:34:11.252189100Z"
    }
   }
  },
  {
   "cell_type": "code",
   "execution_count": 147,
   "outputs": [
    {
     "data": {
      "text/plain": "    c1  c2  c3\nr1   1   2   3\nr2   4   5   6\nr3   7   8   9",
      "text/html": "<div>\n<style scoped>\n    .dataframe tbody tr th:only-of-type {\n        vertical-align: middle;\n    }\n\n    .dataframe tbody tr th {\n        vertical-align: top;\n    }\n\n    .dataframe thead th {\n        text-align: right;\n    }\n</style>\n<table border=\"1\" class=\"dataframe\">\n  <thead>\n    <tr style=\"text-align: right;\">\n      <th></th>\n      <th>c1</th>\n      <th>c2</th>\n      <th>c3</th>\n    </tr>\n  </thead>\n  <tbody>\n    <tr>\n      <th>r1</th>\n      <td>1</td>\n      <td>2</td>\n      <td>3</td>\n    </tr>\n    <tr>\n      <th>r2</th>\n      <td>4</td>\n      <td>5</td>\n      <td>6</td>\n    </tr>\n    <tr>\n      <th>r3</th>\n      <td>7</td>\n      <td>8</td>\n      <td>9</td>\n    </tr>\n  </tbody>\n</table>\n</div>"
     },
     "execution_count": 147,
     "metadata": {},
     "output_type": "execute_result"
    }
   ],
   "source": [
    "df"
   ],
   "metadata": {
    "collapsed": false,
    "ExecuteTime": {
     "end_time": "2023-11-09T08:34:11.944858700Z",
     "start_time": "2023-11-09T08:34:11.898405Z"
    }
   }
  },
  {
   "cell_type": "code",
   "execution_count": 148,
   "outputs": [
    {
     "data": {
      "text/plain": "Index(['r1', 'r2', 'r3'], dtype='object')"
     },
     "execution_count": 148,
     "metadata": {},
     "output_type": "execute_result"
    }
   ],
   "source": [
    "df.index"
   ],
   "metadata": {
    "collapsed": false,
    "ExecuteTime": {
     "end_time": "2023-11-09T08:34:33.108113100Z",
     "start_time": "2023-11-09T08:34:33.042140Z"
    }
   }
  },
  {
   "cell_type": "code",
   "execution_count": 149,
   "outputs": [
    {
     "data": {
      "text/plain": "r1    2\nr2    5\nr3    8\nName: c2, dtype: int32"
     },
     "execution_count": 149,
     "metadata": {},
     "output_type": "execute_result"
    }
   ],
   "source": [
    "df['c2']"
   ],
   "metadata": {
    "collapsed": false,
    "ExecuteTime": {
     "end_time": "2023-11-09T08:34:50.360746800Z",
     "start_time": "2023-11-09T08:34:50.310629900Z"
    }
   }
  },
  {
   "cell_type": "code",
   "execution_count": 152,
   "outputs": [
    {
     "name": "stdout",
     "output_type": "stream",
     "text": [
      "KeyError: 0\n"
     ]
    }
   ],
   "source": [
    "try:\n",
    "    df[0]\n",
    "except  KeyError as ex:\n",
    "    print('KeyError:', ex)"
   ],
   "metadata": {
    "collapsed": false,
    "ExecuteTime": {
     "end_time": "2023-11-09T08:36:18.496198900Z",
     "start_time": "2023-11-09T08:36:18.481794200Z"
    }
   }
  },
  {
   "cell_type": "code",
   "execution_count": 153,
   "outputs": [
    {
     "data": {
      "text/plain": "5"
     },
     "execution_count": 153,
     "metadata": {},
     "output_type": "execute_result"
    }
   ],
   "source": [
    "df['c2'][1]"
   ],
   "metadata": {
    "collapsed": false,
    "ExecuteTime": {
     "end_time": "2023-11-09T08:37:01.340356200Z",
     "start_time": "2023-11-09T08:37:01.281354900Z"
    }
   }
  },
  {
   "cell_type": "code",
   "execution_count": 156,
   "outputs": [
    {
     "data": {
      "text/plain": "2"
     },
     "execution_count": 156,
     "metadata": {},
     "output_type": "execute_result"
    }
   ],
   "source": [
    "df['c2']['r1']"
   ],
   "metadata": {
    "collapsed": false,
    "ExecuteTime": {
     "end_time": "2023-11-09T08:37:44.279373Z",
     "start_time": "2023-11-09T08:37:44.242372500Z"
    }
   }
  },
  {
   "cell_type": "code",
   "execution_count": 157,
   "outputs": [
    {
     "data": {
      "text/plain": "6"
     },
     "execution_count": 157,
     "metadata": {},
     "output_type": "execute_result"
    }
   ],
   "source": [
    "df.values[1, 2]"
   ],
   "metadata": {
    "collapsed": false,
    "ExecuteTime": {
     "end_time": "2023-11-09T08:38:34.106930400Z",
     "start_time": "2023-11-09T08:38:34.044960800Z"
    }
   }
  },
  {
   "cell_type": "code",
   "execution_count": 158,
   "outputs": [
    {
     "data": {
      "text/plain": "6"
     },
     "execution_count": 158,
     "metadata": {},
     "output_type": "execute_result"
    }
   ],
   "source": [
    "df.iloc[1, 2]"
   ],
   "metadata": {
    "collapsed": false,
    "ExecuteTime": {
     "end_time": "2023-11-09T08:39:48.536131600Z",
     "start_time": "2023-11-09T08:39:48.481032600Z"
    }
   }
  },
  {
   "cell_type": "code",
   "execution_count": 159,
   "outputs": [
    {
     "data": {
      "text/plain": "    c1  c2  c3\nr1   1   2   3\nr2   4   5   6\nr3   7   8   9",
      "text/html": "<div>\n<style scoped>\n    .dataframe tbody tr th:only-of-type {\n        vertical-align: middle;\n    }\n\n    .dataframe tbody tr th {\n        vertical-align: top;\n    }\n\n    .dataframe thead th {\n        text-align: right;\n    }\n</style>\n<table border=\"1\" class=\"dataframe\">\n  <thead>\n    <tr style=\"text-align: right;\">\n      <th></th>\n      <th>c1</th>\n      <th>c2</th>\n      <th>c3</th>\n    </tr>\n  </thead>\n  <tbody>\n    <tr>\n      <th>r1</th>\n      <td>1</td>\n      <td>2</td>\n      <td>3</td>\n    </tr>\n    <tr>\n      <th>r2</th>\n      <td>4</td>\n      <td>5</td>\n      <td>6</td>\n    </tr>\n    <tr>\n      <th>r3</th>\n      <td>7</td>\n      <td>8</td>\n      <td>9</td>\n    </tr>\n  </tbody>\n</table>\n</div>"
     },
     "execution_count": 159,
     "metadata": {},
     "output_type": "execute_result"
    }
   ],
   "source": [
    "df"
   ],
   "metadata": {
    "collapsed": false,
    "ExecuteTime": {
     "end_time": "2023-11-09T08:46:40.422055600Z",
     "start_time": "2023-11-09T08:46:40.378086500Z"
    }
   }
  },
  {
   "cell_type": "code",
   "execution_count": 160,
   "outputs": [
    {
     "data": {
      "text/plain": "6"
     },
     "execution_count": 160,
     "metadata": {},
     "output_type": "execute_result"
    }
   ],
   "source": [
    "df.loc['r2', 'c3']"
   ],
   "metadata": {
    "collapsed": false,
    "ExecuteTime": {
     "end_time": "2023-11-09T08:47:00.114372400Z",
     "start_time": "2023-11-09T08:47:00.061338500Z"
    }
   }
  },
  {
   "cell_type": "code",
   "execution_count": 161,
   "outputs": [
    {
     "name": "stdout",
     "output_type": "stream",
     "text": [
      "    c1  c2  c3\n",
      "r1   1   2   3\n",
      "r2   4   5   6\n",
      "r3   7   8   9\n"
     ]
    },
    {
     "data": {
      "text/plain": "    c2  c3\nr1   2   3\nr2   5   6",
      "text/html": "<div>\n<style scoped>\n    .dataframe tbody tr th:only-of-type {\n        vertical-align: middle;\n    }\n\n    .dataframe tbody tr th {\n        vertical-align: top;\n    }\n\n    .dataframe thead th {\n        text-align: right;\n    }\n</style>\n<table border=\"1\" class=\"dataframe\">\n  <thead>\n    <tr style=\"text-align: right;\">\n      <th></th>\n      <th>c2</th>\n      <th>c3</th>\n    </tr>\n  </thead>\n  <tbody>\n    <tr>\n      <th>r1</th>\n      <td>2</td>\n      <td>3</td>\n    </tr>\n    <tr>\n      <th>r2</th>\n      <td>5</td>\n      <td>6</td>\n    </tr>\n  </tbody>\n</table>\n</div>"
     },
     "execution_count": 161,
     "metadata": {},
     "output_type": "execute_result"
    }
   ],
   "source": [
    "print(df)\n",
    "df.loc['r1':'r2', 'c2':'c3']"
   ],
   "metadata": {
    "collapsed": false,
    "ExecuteTime": {
     "end_time": "2023-11-09T08:49:22.222765200Z",
     "start_time": "2023-11-09T08:49:22.171708800Z"
    }
   }
  },
  {
   "cell_type": "code",
   "execution_count": 162,
   "outputs": [
    {
     "name": "stdout",
     "output_type": "stream",
     "text": [
      "    c1  c2  c3\n",
      "r1   1   2   3\n",
      "r2   4   5   6\n",
      "r3   7   8   9\n"
     ]
    },
    {
     "data": {
      "text/plain": "    c2\nr1   2",
      "text/html": "<div>\n<style scoped>\n    .dataframe tbody tr th:only-of-type {\n        vertical-align: middle;\n    }\n\n    .dataframe tbody tr th {\n        vertical-align: top;\n    }\n\n    .dataframe thead th {\n        text-align: right;\n    }\n</style>\n<table border=\"1\" class=\"dataframe\">\n  <thead>\n    <tr style=\"text-align: right;\">\n      <th></th>\n      <th>c2</th>\n    </tr>\n  </thead>\n  <tbody>\n    <tr>\n      <th>r1</th>\n      <td>2</td>\n    </tr>\n  </tbody>\n</table>\n</div>"
     },
     "execution_count": 162,
     "metadata": {},
     "output_type": "execute_result"
    }
   ],
   "source": [
    "print(df)\n",
    "df.iloc[0:1, 1:2]"
   ],
   "metadata": {
    "collapsed": false,
    "ExecuteTime": {
     "end_time": "2023-11-09T08:50:23.206694900Z",
     "start_time": "2023-11-09T08:50:23.150697Z"
    }
   }
  },
  {
   "cell_type": "code",
   "execution_count": 163,
   "outputs": [
    {
     "data": {
      "text/plain": "    c2\nr1   2\nr2   5\nr3   8",
      "text/html": "<div>\n<style scoped>\n    .dataframe tbody tr th:only-of-type {\n        vertical-align: middle;\n    }\n\n    .dataframe tbody tr th {\n        vertical-align: top;\n    }\n\n    .dataframe thead th {\n        text-align: right;\n    }\n</style>\n<table border=\"1\" class=\"dataframe\">\n  <thead>\n    <tr style=\"text-align: right;\">\n      <th></th>\n      <th>c2</th>\n    </tr>\n  </thead>\n  <tbody>\n    <tr>\n      <th>r1</th>\n      <td>2</td>\n    </tr>\n    <tr>\n      <th>r2</th>\n      <td>5</td>\n    </tr>\n    <tr>\n      <th>r3</th>\n      <td>8</td>\n    </tr>\n  </tbody>\n</table>\n</div>"
     },
     "execution_count": 163,
     "metadata": {},
     "output_type": "execute_result"
    }
   ],
   "source": [
    "df.iloc[:, 1:2]"
   ],
   "metadata": {
    "collapsed": false,
    "ExecuteTime": {
     "end_time": "2023-11-09T08:51:55.407650600Z",
     "start_time": "2023-11-09T08:51:55.339649400Z"
    }
   }
  },
  {
   "cell_type": "code",
   "execution_count": 164,
   "outputs": [
    {
     "data": {
      "text/plain": "    c1  c2  c3\nr1   1   2   3\nr2   4   5   6",
      "text/html": "<div>\n<style scoped>\n    .dataframe tbody tr th:only-of-type {\n        vertical-align: middle;\n    }\n\n    .dataframe tbody tr th {\n        vertical-align: top;\n    }\n\n    .dataframe thead th {\n        text-align: right;\n    }\n</style>\n<table border=\"1\" class=\"dataframe\">\n  <thead>\n    <tr style=\"text-align: right;\">\n      <th></th>\n      <th>c1</th>\n      <th>c2</th>\n      <th>c3</th>\n    </tr>\n  </thead>\n  <tbody>\n    <tr>\n      <th>r1</th>\n      <td>1</td>\n      <td>2</td>\n      <td>3</td>\n    </tr>\n    <tr>\n      <th>r2</th>\n      <td>4</td>\n      <td>5</td>\n      <td>6</td>\n    </tr>\n  </tbody>\n</table>\n</div>"
     },
     "execution_count": 164,
     "metadata": {},
     "output_type": "execute_result"
    }
   ],
   "source": [
    "df.iloc[0:2, :]"
   ],
   "metadata": {
    "collapsed": false,
    "ExecuteTime": {
     "end_time": "2023-11-09T08:52:26.887348500Z",
     "start_time": "2023-11-09T08:52:26.815341500Z"
    }
   }
  },
  {
   "cell_type": "code",
   "execution_count": 165,
   "outputs": [
    {
     "data": {
      "text/plain": "    c1  c2  c3\nr1   1   2   3\nr2   4   5   6",
      "text/html": "<div>\n<style scoped>\n    .dataframe tbody tr th:only-of-type {\n        vertical-align: middle;\n    }\n\n    .dataframe tbody tr th {\n        vertical-align: top;\n    }\n\n    .dataframe thead th {\n        text-align: right;\n    }\n</style>\n<table border=\"1\" class=\"dataframe\">\n  <thead>\n    <tr style=\"text-align: right;\">\n      <th></th>\n      <th>c1</th>\n      <th>c2</th>\n      <th>c3</th>\n    </tr>\n  </thead>\n  <tbody>\n    <tr>\n      <th>r1</th>\n      <td>1</td>\n      <td>2</td>\n      <td>3</td>\n    </tr>\n    <tr>\n      <th>r2</th>\n      <td>4</td>\n      <td>5</td>\n      <td>6</td>\n    </tr>\n  </tbody>\n</table>\n</div>"
     },
     "execution_count": 165,
     "metadata": {},
     "output_type": "execute_result"
    }
   ],
   "source": [
    "df.iloc[0:2]"
   ],
   "metadata": {
    "collapsed": false,
    "ExecuteTime": {
     "end_time": "2023-11-09T08:53:07.583175Z",
     "start_time": "2023-11-09T08:53:07.523162200Z"
    }
   }
  },
  {
   "cell_type": "code",
   "execution_count": 166,
   "outputs": [
    {
     "data": {
      "text/plain": "    c1  c3\nr1   1   3\nr2   4   6\nr3   7   9",
      "text/html": "<div>\n<style scoped>\n    .dataframe tbody tr th:only-of-type {\n        vertical-align: middle;\n    }\n\n    .dataframe tbody tr th {\n        vertical-align: top;\n    }\n\n    .dataframe thead th {\n        text-align: right;\n    }\n</style>\n<table border=\"1\" class=\"dataframe\">\n  <thead>\n    <tr style=\"text-align: right;\">\n      <th></th>\n      <th>c1</th>\n      <th>c3</th>\n    </tr>\n  </thead>\n  <tbody>\n    <tr>\n      <th>r1</th>\n      <td>1</td>\n      <td>3</td>\n    </tr>\n    <tr>\n      <th>r2</th>\n      <td>4</td>\n      <td>6</td>\n    </tr>\n    <tr>\n      <th>r3</th>\n      <td>7</td>\n      <td>9</td>\n    </tr>\n  </tbody>\n</table>\n</div>"
     },
     "execution_count": 166,
     "metadata": {},
     "output_type": "execute_result"
    }
   ],
   "source": [
    "df.loc[:, ['c1', 'c3']]"
   ],
   "metadata": {
    "collapsed": false,
    "ExecuteTime": {
     "end_time": "2023-11-09T09:19:17.079894700Z",
     "start_time": "2023-11-09T09:19:16.996774100Z"
    }
   }
  },
  {
   "cell_type": "code",
   "execution_count": 169,
   "outputs": [
    {
     "data": {
      "text/plain": "    c1  c3\nr1   1   3\nr2   4   6\nr3   7   9",
      "text/html": "<div>\n<style scoped>\n    .dataframe tbody tr th:only-of-type {\n        vertical-align: middle;\n    }\n\n    .dataframe tbody tr th {\n        vertical-align: top;\n    }\n\n    .dataframe thead th {\n        text-align: right;\n    }\n</style>\n<table border=\"1\" class=\"dataframe\">\n  <thead>\n    <tr style=\"text-align: right;\">\n      <th></th>\n      <th>c1</th>\n      <th>c3</th>\n    </tr>\n  </thead>\n  <tbody>\n    <tr>\n      <th>r1</th>\n      <td>1</td>\n      <td>3</td>\n    </tr>\n    <tr>\n      <th>r2</th>\n      <td>4</td>\n      <td>6</td>\n    </tr>\n    <tr>\n      <th>r3</th>\n      <td>7</td>\n      <td>9</td>\n    </tr>\n  </tbody>\n</table>\n</div>"
     },
     "execution_count": 169,
     "metadata": {},
     "output_type": "execute_result"
    }
   ],
   "source": [
    "df.iloc[:, [0, 2]]"
   ],
   "metadata": {
    "collapsed": false,
    "ExecuteTime": {
     "end_time": "2023-11-09T09:19:59.980661400Z",
     "start_time": "2023-11-09T09:19:59.934499900Z"
    }
   }
  },
  {
   "cell_type": "code",
   "execution_count": 170,
   "outputs": [
    {
     "name": "stdout",
     "output_type": "stream",
     "text": [
      "    c1  c2  c3\n",
      "r1   1   2   3\n",
      "r2   4   5   6\n",
      "r3   7   8   9\n"
     ]
    },
    {
     "data": {
      "text/plain": "    c1  c2  c3\nr1   1   2   3\nr2   4   5   6",
      "text/html": "<div>\n<style scoped>\n    .dataframe tbody tr th:only-of-type {\n        vertical-align: middle;\n    }\n\n    .dataframe tbody tr th {\n        vertical-align: top;\n    }\n\n    .dataframe thead th {\n        text-align: right;\n    }\n</style>\n<table border=\"1\" class=\"dataframe\">\n  <thead>\n    <tr style=\"text-align: right;\">\n      <th></th>\n      <th>c1</th>\n      <th>c2</th>\n      <th>c3</th>\n    </tr>\n  </thead>\n  <tbody>\n    <tr>\n      <th>r1</th>\n      <td>1</td>\n      <td>2</td>\n      <td>3</td>\n    </tr>\n    <tr>\n      <th>r2</th>\n      <td>4</td>\n      <td>5</td>\n      <td>6</td>\n    </tr>\n  </tbody>\n</table>\n</div>"
     },
     "execution_count": 170,
     "metadata": {},
     "output_type": "execute_result"
    }
   ],
   "source": [
    "print(df)\n",
    "tmp = df.iloc[0:2, :]\n",
    "tmp"
   ],
   "metadata": {
    "collapsed": false,
    "ExecuteTime": {
     "end_time": "2023-11-09T09:22:31.836972600Z",
     "start_time": "2023-11-09T09:22:31.778337Z"
    }
   }
  },
  {
   "cell_type": "code",
   "execution_count": 171,
   "outputs": [
    {
     "data": {
      "text/plain": "    c1  c3\nr1   1   3\nr2   4   6",
      "text/html": "<div>\n<style scoped>\n    .dataframe tbody tr th:only-of-type {\n        vertical-align: middle;\n    }\n\n    .dataframe tbody tr th {\n        vertical-align: top;\n    }\n\n    .dataframe thead th {\n        text-align: right;\n    }\n</style>\n<table border=\"1\" class=\"dataframe\">\n  <thead>\n    <tr style=\"text-align: right;\">\n      <th></th>\n      <th>c1</th>\n      <th>c3</th>\n    </tr>\n  </thead>\n  <tbody>\n    <tr>\n      <th>r1</th>\n      <td>1</td>\n      <td>3</td>\n    </tr>\n    <tr>\n      <th>r2</th>\n      <td>4</td>\n      <td>6</td>\n    </tr>\n  </tbody>\n</table>\n</div>"
     },
     "execution_count": 171,
     "metadata": {},
     "output_type": "execute_result"
    }
   ],
   "source": [
    "df.iloc[0:2, :].loc[:, ['c1', 'c3']]"
   ],
   "metadata": {
    "collapsed": false,
    "ExecuteTime": {
     "end_time": "2023-11-09T10:23:30.101761100Z",
     "start_time": "2023-11-09T10:23:30.000755900Z"
    }
   }
  },
  {
   "cell_type": "code",
   "execution_count": 172,
   "outputs": [
    {
     "data": {
      "text/plain": "    c1  c2  c3\nr1   1   2   3\nr2   4   5   6\nr3   7   8   9",
      "text/html": "<div>\n<style scoped>\n    .dataframe tbody tr th:only-of-type {\n        vertical-align: middle;\n    }\n\n    .dataframe tbody tr th {\n        vertical-align: top;\n    }\n\n    .dataframe thead th {\n        text-align: right;\n    }\n</style>\n<table border=\"1\" class=\"dataframe\">\n  <thead>\n    <tr style=\"text-align: right;\">\n      <th></th>\n      <th>c1</th>\n      <th>c2</th>\n      <th>c3</th>\n    </tr>\n  </thead>\n  <tbody>\n    <tr>\n      <th>r1</th>\n      <td>1</td>\n      <td>2</td>\n      <td>3</td>\n    </tr>\n    <tr>\n      <th>r2</th>\n      <td>4</td>\n      <td>5</td>\n      <td>6</td>\n    </tr>\n    <tr>\n      <th>r3</th>\n      <td>7</td>\n      <td>8</td>\n      <td>9</td>\n    </tr>\n  </tbody>\n</table>\n</div>"
     },
     "execution_count": 172,
     "metadata": {},
     "output_type": "execute_result"
    }
   ],
   "source": [
    "df"
   ],
   "metadata": {
    "collapsed": false,
    "ExecuteTime": {
     "end_time": "2023-11-09T10:24:10.243697200Z",
     "start_time": "2023-11-09T10:24:10.180240200Z"
    }
   }
  },
  {
   "cell_type": "code",
   "execution_count": 173,
   "outputs": [],
   "source": [
    "df.iloc[0, 0] = -10"
   ],
   "metadata": {
    "collapsed": false,
    "ExecuteTime": {
     "end_time": "2023-11-09T10:24:30.297487600Z",
     "start_time": "2023-11-09T10:24:30.209485300Z"
    }
   }
  },
  {
   "cell_type": "code",
   "execution_count": 174,
   "outputs": [
    {
     "data": {
      "text/plain": "    c1  c2  c3\nr1 -10   2   3\nr2   4   5   6\nr3   7   8   9",
      "text/html": "<div>\n<style scoped>\n    .dataframe tbody tr th:only-of-type {\n        vertical-align: middle;\n    }\n\n    .dataframe tbody tr th {\n        vertical-align: top;\n    }\n\n    .dataframe thead th {\n        text-align: right;\n    }\n</style>\n<table border=\"1\" class=\"dataframe\">\n  <thead>\n    <tr style=\"text-align: right;\">\n      <th></th>\n      <th>c1</th>\n      <th>c2</th>\n      <th>c3</th>\n    </tr>\n  </thead>\n  <tbody>\n    <tr>\n      <th>r1</th>\n      <td>-10</td>\n      <td>2</td>\n      <td>3</td>\n    </tr>\n    <tr>\n      <th>r2</th>\n      <td>4</td>\n      <td>5</td>\n      <td>6</td>\n    </tr>\n    <tr>\n      <th>r3</th>\n      <td>7</td>\n      <td>8</td>\n      <td>9</td>\n    </tr>\n  </tbody>\n</table>\n</div>"
     },
     "execution_count": 174,
     "metadata": {},
     "output_type": "execute_result"
    }
   ],
   "source": [
    "df"
   ],
   "metadata": {
    "collapsed": false,
    "ExecuteTime": {
     "end_time": "2023-11-09T10:24:32.115301900Z",
     "start_time": "2023-11-09T10:24:32.054887300Z"
    }
   }
  },
  {
   "cell_type": "code",
   "execution_count": 175,
   "outputs": [
    {
     "data": {
      "text/plain": "    c1  c2\nr1 -10   2\nr2   4   5",
      "text/html": "<div>\n<style scoped>\n    .dataframe tbody tr th:only-of-type {\n        vertical-align: middle;\n    }\n\n    .dataframe tbody tr th {\n        vertical-align: top;\n    }\n\n    .dataframe thead th {\n        text-align: right;\n    }\n</style>\n<table border=\"1\" class=\"dataframe\">\n  <thead>\n    <tr style=\"text-align: right;\">\n      <th></th>\n      <th>c1</th>\n      <th>c2</th>\n    </tr>\n  </thead>\n  <tbody>\n    <tr>\n      <th>r1</th>\n      <td>-10</td>\n      <td>2</td>\n    </tr>\n    <tr>\n      <th>r2</th>\n      <td>4</td>\n      <td>5</td>\n    </tr>\n  </tbody>\n</table>\n</div>"
     },
     "execution_count": 175,
     "metadata": {},
     "output_type": "execute_result"
    }
   ],
   "source": [
    "df.loc['r1':'r2', 'c1':'c2']"
   ],
   "metadata": {
    "collapsed": false,
    "ExecuteTime": {
     "end_time": "2023-11-09T10:26:01.344900800Z",
     "start_time": "2023-11-09T10:26:01.254899900Z"
    }
   }
  },
  {
   "cell_type": "code",
   "execution_count": 176,
   "outputs": [
    {
     "data": {
      "text/plain": "    c1  c2  c3\nr1  10  20   3\nr2  30  40   6\nr3   7   8   9",
      "text/html": "<div>\n<style scoped>\n    .dataframe tbody tr th:only-of-type {\n        vertical-align: middle;\n    }\n\n    .dataframe tbody tr th {\n        vertical-align: top;\n    }\n\n    .dataframe thead th {\n        text-align: right;\n    }\n</style>\n<table border=\"1\" class=\"dataframe\">\n  <thead>\n    <tr style=\"text-align: right;\">\n      <th></th>\n      <th>c1</th>\n      <th>c2</th>\n      <th>c3</th>\n    </tr>\n  </thead>\n  <tbody>\n    <tr>\n      <th>r1</th>\n      <td>10</td>\n      <td>20</td>\n      <td>3</td>\n    </tr>\n    <tr>\n      <th>r2</th>\n      <td>30</td>\n      <td>40</td>\n      <td>6</td>\n    </tr>\n    <tr>\n      <th>r3</th>\n      <td>7</td>\n      <td>8</td>\n      <td>9</td>\n    </tr>\n  </tbody>\n</table>\n</div>"
     },
     "execution_count": 176,
     "metadata": {},
     "output_type": "execute_result"
    }
   ],
   "source": [
    "df.loc['r1':'r2', 'c1':'c2'] = np.array([10, 20, 30, 40]).reshape(2, 2)\n",
    "df"
   ],
   "metadata": {
    "collapsed": false,
    "ExecuteTime": {
     "end_time": "2023-11-09T10:27:19.288074Z",
     "start_time": "2023-11-09T10:27:19.205749800Z"
    }
   }
  },
  {
   "cell_type": "code",
   "execution_count": 178,
   "outputs": [
    {
     "data": {
      "text/plain": "     c1   c2  c3\nr1 -100 -100   3\nr2 -100 -100   6\nr3    7    8   9",
      "text/html": "<div>\n<style scoped>\n    .dataframe tbody tr th:only-of-type {\n        vertical-align: middle;\n    }\n\n    .dataframe tbody tr th {\n        vertical-align: top;\n    }\n\n    .dataframe thead th {\n        text-align: right;\n    }\n</style>\n<table border=\"1\" class=\"dataframe\">\n  <thead>\n    <tr style=\"text-align: right;\">\n      <th></th>\n      <th>c1</th>\n      <th>c2</th>\n      <th>c3</th>\n    </tr>\n  </thead>\n  <tbody>\n    <tr>\n      <th>r1</th>\n      <td>-100</td>\n      <td>-100</td>\n      <td>3</td>\n    </tr>\n    <tr>\n      <th>r2</th>\n      <td>-100</td>\n      <td>-100</td>\n      <td>6</td>\n    </tr>\n    <tr>\n      <th>r3</th>\n      <td>7</td>\n      <td>8</td>\n      <td>9</td>\n    </tr>\n  </tbody>\n</table>\n</div>"
     },
     "execution_count": 178,
     "metadata": {},
     "output_type": "execute_result"
    }
   ],
   "source": [
    "df.loc['r1':'r2', 'c1':'c2'] = -100\n",
    "df\n"
   ],
   "metadata": {
    "collapsed": false,
    "ExecuteTime": {
     "end_time": "2023-11-09T10:27:51.252545Z",
     "start_time": "2023-11-09T10:27:51.206576300Z"
    }
   }
  },
  {
   "cell_type": "code",
   "execution_count": 179,
   "outputs": [],
   "source": [
    "df.loc['r1':'r2', 'c1':'c2'] = [100, 200]\n"
   ],
   "metadata": {
    "collapsed": false,
    "ExecuteTime": {
     "end_time": "2023-11-09T10:28:34.161981600Z",
     "start_time": "2023-11-09T10:28:34.087923600Z"
    }
   }
  },
  {
   "cell_type": "code",
   "execution_count": 180,
   "outputs": [
    {
     "data": {
      "text/plain": "     c1   c2  c3\nr1  100  200   3\nr2  100  200   6\nr3    7    8   9",
      "text/html": "<div>\n<style scoped>\n    .dataframe tbody tr th:only-of-type {\n        vertical-align: middle;\n    }\n\n    .dataframe tbody tr th {\n        vertical-align: top;\n    }\n\n    .dataframe thead th {\n        text-align: right;\n    }\n</style>\n<table border=\"1\" class=\"dataframe\">\n  <thead>\n    <tr style=\"text-align: right;\">\n      <th></th>\n      <th>c1</th>\n      <th>c2</th>\n      <th>c3</th>\n    </tr>\n  </thead>\n  <tbody>\n    <tr>\n      <th>r1</th>\n      <td>100</td>\n      <td>200</td>\n      <td>3</td>\n    </tr>\n    <tr>\n      <th>r2</th>\n      <td>100</td>\n      <td>200</td>\n      <td>6</td>\n    </tr>\n    <tr>\n      <th>r3</th>\n      <td>7</td>\n      <td>8</td>\n      <td>9</td>\n    </tr>\n  </tbody>\n</table>\n</div>"
     },
     "execution_count": 180,
     "metadata": {},
     "output_type": "execute_result"
    }
   ],
   "source": [
    "df"
   ],
   "metadata": {
    "collapsed": false,
    "ExecuteTime": {
     "end_time": "2023-11-09T10:28:49.398902600Z",
     "start_time": "2023-11-09T10:28:49.332840300Z"
    }
   }
  },
  {
   "cell_type": "code",
   "execution_count": 182,
   "outputs": [
    {
     "data": {
      "text/plain": "nan"
     },
     "execution_count": 182,
     "metadata": {},
     "output_type": "execute_result"
    }
   ],
   "source": [
    "float('NaN')"
   ],
   "metadata": {
    "collapsed": false,
    "ExecuteTime": {
     "end_time": "2023-11-09T11:45:36.480133200Z",
     "start_time": "2023-11-09T11:45:36.446100800Z"
    }
   }
  },
  {
   "cell_type": "code",
   "execution_count": 183,
   "outputs": [
    {
     "data": {
      "text/plain": "nan"
     },
     "execution_count": 183,
     "metadata": {},
     "output_type": "execute_result"
    }
   ],
   "source": [
    "float('nan')"
   ],
   "metadata": {
    "collapsed": false,
    "ExecuteTime": {
     "end_time": "2023-11-09T11:45:50.389680500Z",
     "start_time": "2023-11-09T11:45:50.269677200Z"
    }
   }
  },
  {
   "cell_type": "code",
   "execution_count": 184,
   "outputs": [
    {
     "data": {
      "text/plain": "False"
     },
     "execution_count": 184,
     "metadata": {},
     "output_type": "execute_result"
    }
   ],
   "source": [
    "float('nan') == float('NaN')"
   ],
   "metadata": {
    "collapsed": false,
    "ExecuteTime": {
     "end_time": "2023-11-09T11:46:21.427619100Z",
     "start_time": "2023-11-09T11:46:21.312648400Z"
    }
   }
  },
  {
   "cell_type": "code",
   "execution_count": 186,
   "outputs": [
    {
     "data": {
      "text/plain": "True"
     },
     "execution_count": 186,
     "metadata": {},
     "output_type": "execute_result"
    }
   ],
   "source": [
    "import math\n",
    "\n",
    "math.isnan(float('NAN'))"
   ],
   "metadata": {
    "collapsed": false,
    "ExecuteTime": {
     "end_time": "2023-11-09T11:47:10.439658100Z",
     "start_time": "2023-11-09T11:47:10.397614900Z"
    }
   }
  },
  {
   "cell_type": "code",
   "execution_count": 187,
   "outputs": [],
   "source": [
    "a = np.array([1, 2, np.nan, 3, np.nan])"
   ],
   "metadata": {
    "collapsed": false,
    "ExecuteTime": {
     "end_time": "2023-11-09T11:48:01.901549800Z",
     "start_time": "2023-11-09T11:48:01.838543100Z"
    }
   }
  },
  {
   "cell_type": "code",
   "execution_count": 188,
   "outputs": [
    {
     "data": {
      "text/plain": "array([ 1.,  2., nan,  3., nan])"
     },
     "execution_count": 188,
     "metadata": {},
     "output_type": "execute_result"
    }
   ],
   "source": [
    "a"
   ],
   "metadata": {
    "collapsed": false,
    "ExecuteTime": {
     "end_time": "2023-11-09T11:48:04.079329100Z",
     "start_time": "2023-11-09T11:48:04.016330300Z"
    }
   }
  },
  {
   "cell_type": "code",
   "execution_count": 190,
   "outputs": [],
   "source": [
    "s = pd.Series([3.14, 2.5, None, 5])"
   ],
   "metadata": {
    "collapsed": false,
    "ExecuteTime": {
     "end_time": "2023-11-09T11:48:58.828131200Z",
     "start_time": "2023-11-09T11:48:58.793530100Z"
    }
   }
  },
  {
   "cell_type": "code",
   "execution_count": 191,
   "outputs": [
    {
     "data": {
      "text/plain": "0    3.14\n1    2.50\n2     NaN\n3    5.00\ndtype: float64"
     },
     "execution_count": 191,
     "metadata": {},
     "output_type": "execute_result"
    }
   ],
   "source": [
    "s"
   ],
   "metadata": {
    "collapsed": false,
    "ExecuteTime": {
     "end_time": "2023-11-09T11:49:03.507578200Z",
     "start_time": "2023-11-09T11:49:03.443569300Z"
    }
   }
  },
  {
   "cell_type": "code",
   "execution_count": 192,
   "outputs": [
    {
     "data": {
      "text/plain": "numpy.float64"
     },
     "execution_count": 192,
     "metadata": {},
     "output_type": "execute_result"
    }
   ],
   "source": [
    "type(s[2])"
   ],
   "metadata": {
    "collapsed": false,
    "ExecuteTime": {
     "end_time": "2023-11-09T11:49:31.751225200Z",
     "start_time": "2023-11-09T11:49:31.685187900Z"
    }
   }
  },
  {
   "cell_type": "code",
   "execution_count": 193,
   "outputs": [
    {
     "data": {
      "text/plain": "0    1.0\n1    2.0\n2    3.0\n3    NaN\ndtype: float64"
     },
     "execution_count": 193,
     "metadata": {},
     "output_type": "execute_result"
    }
   ],
   "source": [
    "pd.Series([1, 2, 3, None])"
   ],
   "metadata": {
    "collapsed": false,
    "ExecuteTime": {
     "end_time": "2023-11-09T11:50:19.074773600Z",
     "start_time": "2023-11-09T11:50:19.022775200Z"
    }
   }
  },
  {
   "cell_type": "code",
   "execution_count": 198,
   "outputs": [],
   "source": [
    "s = pd.Series(['a', 'b', None, np.nan])\n"
   ],
   "metadata": {
    "collapsed": false,
    "ExecuteTime": {
     "end_time": "2023-11-09T11:52:11.116020800Z",
     "start_time": "2023-11-09T11:52:11.085410100Z"
    }
   }
  },
  {
   "cell_type": "code",
   "execution_count": 199,
   "outputs": [
    {
     "data": {
      "text/plain": "True"
     },
     "execution_count": 199,
     "metadata": {},
     "output_type": "execute_result"
    }
   ],
   "source": [
    "s[2] is None"
   ],
   "metadata": {
    "collapsed": false,
    "ExecuteTime": {
     "end_time": "2023-11-09T11:52:14.656505100Z",
     "start_time": "2023-11-09T11:52:14.624156800Z"
    }
   }
  },
  {
   "cell_type": "code",
   "execution_count": 201,
   "outputs": [
    {
     "data": {
      "text/plain": "False"
     },
     "execution_count": 201,
     "metadata": {},
     "output_type": "execute_result"
    }
   ],
   "source": [
    "s[3] is None"
   ],
   "metadata": {
    "collapsed": false,
    "ExecuteTime": {
     "end_time": "2023-11-09T11:52:51.837307Z",
     "start_time": "2023-11-09T11:52:51.794701300Z"
    }
   }
  },
  {
   "cell_type": "code",
   "execution_count": 202,
   "outputs": [],
   "source": [
    "s = pd.Series(['aaa', 'bbb', None, 'ddd', np.nan], index=list('abcde'))"
   ],
   "metadata": {
    "collapsed": false,
    "ExecuteTime": {
     "end_time": "2023-11-09T11:55:17.553486700Z",
     "start_time": "2023-11-09T11:55:17.478484100Z"
    }
   }
  },
  {
   "cell_type": "code",
   "execution_count": 203,
   "outputs": [
    {
     "data": {
      "text/plain": "a     aaa\nb     bbb\nc    None\nd     ddd\ne     NaN\ndtype: object"
     },
     "execution_count": 203,
     "metadata": {},
     "output_type": "execute_result"
    }
   ],
   "source": [
    "s"
   ],
   "metadata": {
    "collapsed": false,
    "ExecuteTime": {
     "end_time": "2023-11-09T11:55:21.946471400Z",
     "start_time": "2023-11-09T11:55:21.886511Z"
    }
   }
  },
  {
   "cell_type": "code",
   "execution_count": 204,
   "outputs": [
    {
     "data": {
      "text/plain": "a    False\nb    False\nc     True\nd    False\ne     True\ndtype: bool"
     },
     "execution_count": 204,
     "metadata": {},
     "output_type": "execute_result"
    }
   ],
   "source": [
    "pd.isnull(s)"
   ],
   "metadata": {
    "collapsed": false,
    "ExecuteTime": {
     "end_time": "2023-11-09T11:55:37.573250600Z",
     "start_time": "2023-11-09T11:55:37.474258Z"
    }
   }
  },
  {
   "cell_type": "code",
   "execution_count": 205,
   "outputs": [
    {
     "data": {
      "text/plain": "c    None\ne     NaN\ndtype: object"
     },
     "execution_count": 205,
     "metadata": {},
     "output_type": "execute_result"
    }
   ],
   "source": [
    "s[pd.isnull(s)]"
   ],
   "metadata": {
    "collapsed": false,
    "ExecuteTime": {
     "end_time": "2023-11-09T11:56:07.611670300Z",
     "start_time": "2023-11-09T11:56:07.511424800Z"
    }
   }
  },
  {
   "cell_type": "code",
   "execution_count": 206,
   "outputs": [
    {
     "data": {
      "text/plain": "a    aaa\nb    bbb\nd    ddd\ndtype: object"
     },
     "execution_count": 206,
     "metadata": {},
     "output_type": "execute_result"
    }
   ],
   "source": [
    "s[~pd.isnull(s)]"
   ],
   "metadata": {
    "collapsed": false,
    "ExecuteTime": {
     "end_time": "2023-11-09T11:57:05.166171300Z",
     "start_time": "2023-11-09T11:57:05.091424200Z"
    }
   }
  },
  {
   "cell_type": "code",
   "execution_count": 210,
   "outputs": [
    {
     "data": {
      "text/plain": "a    aaa\nb    bbb\nd    ddd\ndtype: object"
     },
     "execution_count": 210,
     "metadata": {},
     "output_type": "execute_result"
    }
   ],
   "source": [
    "s[pd.notnull(s)]"
   ],
   "metadata": {
    "collapsed": false,
    "ExecuteTime": {
     "end_time": "2023-11-09T11:58:16.728797Z",
     "start_time": "2023-11-09T11:58:16.680058600Z"
    }
   }
  },
  {
   "cell_type": "code",
   "execution_count": 211,
   "outputs": [
    {
     "data": {
      "text/plain": "a    aaa\nb    bbb\nd    ddd\ndtype: object"
     },
     "execution_count": 211,
     "metadata": {},
     "output_type": "execute_result"
    }
   ],
   "source": [
    "s.dropna()"
   ],
   "metadata": {
    "collapsed": false,
    "ExecuteTime": {
     "end_time": "2023-11-09T11:58:32.878210300Z",
     "start_time": "2023-11-09T11:58:32.801226Z"
    }
   }
  },
  {
   "cell_type": "code",
   "execution_count": 212,
   "outputs": [
    {
     "data": {
      "text/plain": "a     aaa\nb     bbb\nc    None\nd     ddd\ne     NaN\ndtype: object"
     },
     "execution_count": 212,
     "metadata": {},
     "output_type": "execute_result"
    }
   ],
   "source": [
    "s"
   ],
   "metadata": {
    "collapsed": false,
    "ExecuteTime": {
     "end_time": "2023-11-09T11:58:41.750845400Z",
     "start_time": "2023-11-09T11:58:41.667841900Z"
    }
   }
  },
  {
   "cell_type": "code",
   "execution_count": 215,
   "outputs": [
    {
     "data": {
      "text/plain": "a        aaa\nb        bbb\nc    missing\nd        ddd\ne    missing\ndtype: object"
     },
     "execution_count": 215,
     "metadata": {},
     "output_type": "execute_result"
    }
   ],
   "source": [
    "s.fillna('missing')"
   ],
   "metadata": {
    "collapsed": false,
    "ExecuteTime": {
     "end_time": "2023-11-09T11:59:36.480157100Z",
     "start_time": "2023-11-09T11:59:36.449246800Z"
    }
   }
  },
  {
   "cell_type": "code",
   "execution_count": 216,
   "outputs": [
    {
     "data": {
      "text/plain": "a    aaa\nb    bbb\nc    bbb\nd    ddd\ne    ddd\ndtype: object"
     },
     "execution_count": 216,
     "metadata": {},
     "output_type": "execute_result"
    }
   ],
   "source": [
    "s.fillna(method='ffill')"
   ],
   "metadata": {
    "collapsed": false,
    "ExecuteTime": {
     "end_time": "2023-11-09T12:00:29.319121800Z",
     "start_time": "2023-11-09T12:00:29.190120800Z"
    }
   }
  },
  {
   "cell_type": "code",
   "execution_count": 217,
   "outputs": [
    {
     "data": {
      "text/plain": "a    aaa\nb    bbb\nc    ddd\nd    ddd\ne    NaN\ndtype: object"
     },
     "execution_count": 217,
     "metadata": {},
     "output_type": "execute_result"
    }
   ],
   "source": [
    "s.fillna(method='bfill')"
   ],
   "metadata": {
    "collapsed": false,
    "ExecuteTime": {
     "end_time": "2023-11-09T12:00:51.521376200Z",
     "start_time": "2023-11-09T12:00:51.442344300Z"
    }
   }
  },
  {
   "cell_type": "code",
   "execution_count": 218,
   "outputs": [
    {
     "data": {
      "text/plain": "a    aaa\nb    bbb\nc    bbb\nd    ddd\ne    ddd\ndtype: object"
     },
     "execution_count": 218,
     "metadata": {},
     "output_type": "execute_result"
    }
   ],
   "source": [
    "s.fillna(method='ffill').fillna(method='bfill')"
   ],
   "metadata": {
    "collapsed": false,
    "ExecuteTime": {
     "end_time": "2023-11-09T12:02:09.662144Z",
     "start_time": "2023-11-09T12:02:09.509141500Z"
    }
   }
  },
  {
   "cell_type": "code",
   "execution_count": 219,
   "outputs": [],
   "source": [
    "s = pd.Series([1, 2, None, 4, None, 7])"
   ],
   "metadata": {
    "collapsed": false,
    "ExecuteTime": {
     "end_time": "2023-11-09T12:03:54.272816300Z",
     "start_time": "2023-11-09T12:03:54.160815400Z"
    }
   }
  },
  {
   "cell_type": "code",
   "execution_count": 220,
   "outputs": [
    {
     "data": {
      "text/plain": "0    1.0\n1    2.0\n2    NaN\n3    4.0\n4    NaN\n5    7.0\ndtype: float64"
     },
     "execution_count": 220,
     "metadata": {},
     "output_type": "execute_result"
    }
   ],
   "source": [
    "s"
   ],
   "metadata": {
    "collapsed": false,
    "ExecuteTime": {
     "end_time": "2023-11-09T12:04:03.067534200Z",
     "start_time": "2023-11-09T12:04:03.001164500Z"
    }
   }
  },
  {
   "cell_type": "code",
   "execution_count": 221,
   "outputs": [
    {
     "data": {
      "text/plain": "0    1.0\n1    2.0\n2    3.0\n3    4.0\n4    5.5\n5    7.0\ndtype: float64"
     },
     "execution_count": 221,
     "metadata": {},
     "output_type": "execute_result"
    }
   ],
   "source": [
    "s.interpolate(method='linear')"
   ],
   "metadata": {
    "collapsed": false,
    "ExecuteTime": {
     "end_time": "2023-11-09T12:04:22.136097300Z",
     "start_time": "2023-11-09T12:04:22.070096700Z"
    }
   }
  },
  {
   "cell_type": "code",
   "execution_count": 222,
   "outputs": [],
   "source": [
    "d = {\n",
    "    'col1': {'row1': 1, 'row2': 10, 'row3': 100, 'row4': 1000, 'row5': 10000},\n",
    "    'col2': {'row1': 2, 'row2': None, 'row3': None, 'row4': 2000, 'row5': 20000},\n",
    "    'col3': {'row1': 3, 'row2': 30, 'row3': 300, 'row4': None, 'row5': 40000},\n",
    "    'col4': {'row1': 4, 'row2': 40, 'row3': 400, 'row4': 4000, 'row5': 40000}\n",
    "}"
   ],
   "metadata": {
    "collapsed": false,
    "ExecuteTime": {
     "end_time": "2023-11-09T12:05:49.776446700Z",
     "start_time": "2023-11-09T12:05:49.692409200Z"
    }
   }
  },
  {
   "cell_type": "code",
   "execution_count": 223,
   "outputs": [],
   "source": [
    "df = pd.DataFrame(d)"
   ],
   "metadata": {
    "collapsed": false,
    "ExecuteTime": {
     "end_time": "2023-11-09T12:09:12.839934400Z",
     "start_time": "2023-11-09T12:09:12.736944300Z"
    }
   }
  },
  {
   "cell_type": "code",
   "execution_count": 224,
   "outputs": [
    {
     "data": {
      "text/plain": "       col1     col2     col3   col4\nrow1      1      2.0      3.0      4\nrow2     10      NaN     30.0     40\nrow3    100      NaN    300.0    400\nrow4   1000   2000.0      NaN   4000\nrow5  10000  20000.0  40000.0  40000",
      "text/html": "<div>\n<style scoped>\n    .dataframe tbody tr th:only-of-type {\n        vertical-align: middle;\n    }\n\n    .dataframe tbody tr th {\n        vertical-align: top;\n    }\n\n    .dataframe thead th {\n        text-align: right;\n    }\n</style>\n<table border=\"1\" class=\"dataframe\">\n  <thead>\n    <tr style=\"text-align: right;\">\n      <th></th>\n      <th>col1</th>\n      <th>col2</th>\n      <th>col3</th>\n      <th>col4</th>\n    </tr>\n  </thead>\n  <tbody>\n    <tr>\n      <th>row1</th>\n      <td>1</td>\n      <td>2.0</td>\n      <td>3.0</td>\n      <td>4</td>\n    </tr>\n    <tr>\n      <th>row2</th>\n      <td>10</td>\n      <td>NaN</td>\n      <td>30.0</td>\n      <td>40</td>\n    </tr>\n    <tr>\n      <th>row3</th>\n      <td>100</td>\n      <td>NaN</td>\n      <td>300.0</td>\n      <td>400</td>\n    </tr>\n    <tr>\n      <th>row4</th>\n      <td>1000</td>\n      <td>2000.0</td>\n      <td>NaN</td>\n      <td>4000</td>\n    </tr>\n    <tr>\n      <th>row5</th>\n      <td>10000</td>\n      <td>20000.0</td>\n      <td>40000.0</td>\n      <td>40000</td>\n    </tr>\n  </tbody>\n</table>\n</div>"
     },
     "execution_count": 224,
     "metadata": {},
     "output_type": "execute_result"
    }
   ],
   "source": [
    "df"
   ],
   "metadata": {
    "collapsed": false,
    "ExecuteTime": {
     "end_time": "2023-11-09T12:09:24.623094800Z",
     "start_time": "2023-11-09T12:09:24.527087200Z"
    }
   }
  },
  {
   "cell_type": "code",
   "execution_count": 226,
   "outputs": [
    {
     "data": {
      "text/plain": "       col1   col2   col3   col4\nrow1  False  False  False  False\nrow2  False   True  False  False\nrow3  False   True  False  False\nrow4  False  False   True  False\nrow5  False  False  False  False",
      "text/html": "<div>\n<style scoped>\n    .dataframe tbody tr th:only-of-type {\n        vertical-align: middle;\n    }\n\n    .dataframe tbody tr th {\n        vertical-align: top;\n    }\n\n    .dataframe thead th {\n        text-align: right;\n    }\n</style>\n<table border=\"1\" class=\"dataframe\">\n  <thead>\n    <tr style=\"text-align: right;\">\n      <th></th>\n      <th>col1</th>\n      <th>col2</th>\n      <th>col3</th>\n      <th>col4</th>\n    </tr>\n  </thead>\n  <tbody>\n    <tr>\n      <th>row1</th>\n      <td>False</td>\n      <td>False</td>\n      <td>False</td>\n      <td>False</td>\n    </tr>\n    <tr>\n      <th>row2</th>\n      <td>False</td>\n      <td>True</td>\n      <td>False</td>\n      <td>False</td>\n    </tr>\n    <tr>\n      <th>row3</th>\n      <td>False</td>\n      <td>True</td>\n      <td>False</td>\n      <td>False</td>\n    </tr>\n    <tr>\n      <th>row4</th>\n      <td>False</td>\n      <td>False</td>\n      <td>True</td>\n      <td>False</td>\n    </tr>\n    <tr>\n      <th>row5</th>\n      <td>False</td>\n      <td>False</td>\n      <td>False</td>\n      <td>False</td>\n    </tr>\n  </tbody>\n</table>\n</div>"
     },
     "execution_count": 226,
     "metadata": {},
     "output_type": "execute_result"
    }
   ],
   "source": [
    "df.isnull()"
   ],
   "metadata": {
    "collapsed": false,
    "ExecuteTime": {
     "end_time": "2023-11-09T12:09:55.048255Z",
     "start_time": "2023-11-09T12:09:54.991163700Z"
    }
   }
  },
  {
   "cell_type": "code",
   "execution_count": 227,
   "outputs": [
    {
     "data": {
      "text/plain": "       col1     col2     col3   col4\nrow1      1      2.0      3.0      4\nrow2     10      0.0     30.0     40\nrow3    100      0.0    300.0    400\nrow4   1000   2000.0      0.0   4000\nrow5  10000  20000.0  40000.0  40000",
      "text/html": "<div>\n<style scoped>\n    .dataframe tbody tr th:only-of-type {\n        vertical-align: middle;\n    }\n\n    .dataframe tbody tr th {\n        vertical-align: top;\n    }\n\n    .dataframe thead th {\n        text-align: right;\n    }\n</style>\n<table border=\"1\" class=\"dataframe\">\n  <thead>\n    <tr style=\"text-align: right;\">\n      <th></th>\n      <th>col1</th>\n      <th>col2</th>\n      <th>col3</th>\n      <th>col4</th>\n    </tr>\n  </thead>\n  <tbody>\n    <tr>\n      <th>row1</th>\n      <td>1</td>\n      <td>2.0</td>\n      <td>3.0</td>\n      <td>4</td>\n    </tr>\n    <tr>\n      <th>row2</th>\n      <td>10</td>\n      <td>0.0</td>\n      <td>30.0</td>\n      <td>40</td>\n    </tr>\n    <tr>\n      <th>row3</th>\n      <td>100</td>\n      <td>0.0</td>\n      <td>300.0</td>\n      <td>400</td>\n    </tr>\n    <tr>\n      <th>row4</th>\n      <td>1000</td>\n      <td>2000.0</td>\n      <td>0.0</td>\n      <td>4000</td>\n    </tr>\n    <tr>\n      <th>row5</th>\n      <td>10000</td>\n      <td>20000.0</td>\n      <td>40000.0</td>\n      <td>40000</td>\n    </tr>\n  </tbody>\n</table>\n</div>"
     },
     "execution_count": 227,
     "metadata": {},
     "output_type": "execute_result"
    }
   ],
   "source": [
    "df.fillna(0)"
   ],
   "metadata": {
    "collapsed": false,
    "ExecuteTime": {
     "end_time": "2023-11-09T12:10:41.333516Z",
     "start_time": "2023-11-09T12:10:41.264515500Z"
    }
   }
  },
  {
   "cell_type": "code",
   "execution_count": 228,
   "outputs": [
    {
     "name": "stdout",
     "output_type": "stream",
     "text": [
      "       col1     col2     col3   col4\n",
      "row1      1      2.0      3.0      4\n",
      "row2     10      NaN     30.0     40\n",
      "row3    100      NaN    300.0    400\n",
      "row4   1000   2000.0      NaN   4000\n",
      "row5  10000  20000.0  40000.0  40000\n"
     ]
    },
    {
     "data": {
      "text/plain": "       col1     col2     col3   col4\nrow1      1      2.0      3.0      4\nrow2     10      2.0     30.0     40\nrow3    100      2.0    300.0    400\nrow4   1000   2000.0    300.0   4000\nrow5  10000  20000.0  40000.0  40000",
      "text/html": "<div>\n<style scoped>\n    .dataframe tbody tr th:only-of-type {\n        vertical-align: middle;\n    }\n\n    .dataframe tbody tr th {\n        vertical-align: top;\n    }\n\n    .dataframe thead th {\n        text-align: right;\n    }\n</style>\n<table border=\"1\" class=\"dataframe\">\n  <thead>\n    <tr style=\"text-align: right;\">\n      <th></th>\n      <th>col1</th>\n      <th>col2</th>\n      <th>col3</th>\n      <th>col4</th>\n    </tr>\n  </thead>\n  <tbody>\n    <tr>\n      <th>row1</th>\n      <td>1</td>\n      <td>2.0</td>\n      <td>3.0</td>\n      <td>4</td>\n    </tr>\n    <tr>\n      <th>row2</th>\n      <td>10</td>\n      <td>2.0</td>\n      <td>30.0</td>\n      <td>40</td>\n    </tr>\n    <tr>\n      <th>row3</th>\n      <td>100</td>\n      <td>2.0</td>\n      <td>300.0</td>\n      <td>400</td>\n    </tr>\n    <tr>\n      <th>row4</th>\n      <td>1000</td>\n      <td>2000.0</td>\n      <td>300.0</td>\n      <td>4000</td>\n    </tr>\n    <tr>\n      <th>row5</th>\n      <td>10000</td>\n      <td>20000.0</td>\n      <td>40000.0</td>\n      <td>40000</td>\n    </tr>\n  </tbody>\n</table>\n</div>"
     },
     "execution_count": 228,
     "metadata": {},
     "output_type": "execute_result"
    }
   ],
   "source": [
    "print(df)\n",
    "df.fillna(method='ffill')"
   ],
   "metadata": {
    "collapsed": false,
    "ExecuteTime": {
     "end_time": "2023-11-09T12:12:42.609442300Z",
     "start_time": "2023-11-09T12:12:42.500441100Z"
    }
   }
  },
  {
   "cell_type": "code",
   "execution_count": 230,
   "outputs": [
    {
     "name": "stdout",
     "output_type": "stream",
     "text": [
      "       col1     col2     col3   col4\n",
      "row1      1      2.0      3.0      4\n",
      "row2     10      NaN     30.0     40\n",
      "row3    100      NaN    300.0    400\n",
      "row4   1000   2000.0      NaN   4000\n",
      "row5  10000  20000.0  40000.0  40000\n"
     ]
    },
    {
     "data": {
      "text/plain": "         col1     col2     col3     col4\nrow1      1.0      2.0      3.0      4.0\nrow2     10.0     10.0     30.0     40.0\nrow3    100.0    100.0    300.0    400.0\nrow4   1000.0   2000.0   2000.0   4000.0\nrow5  10000.0  20000.0  40000.0  40000.0",
      "text/html": "<div>\n<style scoped>\n    .dataframe tbody tr th:only-of-type {\n        vertical-align: middle;\n    }\n\n    .dataframe tbody tr th {\n        vertical-align: top;\n    }\n\n    .dataframe thead th {\n        text-align: right;\n    }\n</style>\n<table border=\"1\" class=\"dataframe\">\n  <thead>\n    <tr style=\"text-align: right;\">\n      <th></th>\n      <th>col1</th>\n      <th>col2</th>\n      <th>col3</th>\n      <th>col4</th>\n    </tr>\n  </thead>\n  <tbody>\n    <tr>\n      <th>row1</th>\n      <td>1.0</td>\n      <td>2.0</td>\n      <td>3.0</td>\n      <td>4.0</td>\n    </tr>\n    <tr>\n      <th>row2</th>\n      <td>10.0</td>\n      <td>10.0</td>\n      <td>30.0</td>\n      <td>40.0</td>\n    </tr>\n    <tr>\n      <th>row3</th>\n      <td>100.0</td>\n      <td>100.0</td>\n      <td>300.0</td>\n      <td>400.0</td>\n    </tr>\n    <tr>\n      <th>row4</th>\n      <td>1000.0</td>\n      <td>2000.0</td>\n      <td>2000.0</td>\n      <td>4000.0</td>\n    </tr>\n    <tr>\n      <th>row5</th>\n      <td>10000.0</td>\n      <td>20000.0</td>\n      <td>40000.0</td>\n      <td>40000.0</td>\n    </tr>\n  </tbody>\n</table>\n</div>"
     },
     "execution_count": 230,
     "metadata": {},
     "output_type": "execute_result"
    }
   ],
   "source": [
    "print(df)\n",
    "df.fillna(method='ffill', axis=1)\n"
   ],
   "metadata": {
    "collapsed": false,
    "ExecuteTime": {
     "end_time": "2023-11-09T12:13:20.080556900Z",
     "start_time": "2023-11-09T12:13:20.036124Z"
    }
   }
  },
  {
   "cell_type": "code",
   "execution_count": 231,
   "outputs": [
    {
     "name": "stdout",
     "output_type": "stream",
     "text": [
      "       col1     col2     col3   col4\n",
      "row1      1      2.0      3.0      4\n",
      "row2     10      NaN     30.0     40\n",
      "row3    100      NaN    300.0    400\n",
      "row4   1000   2000.0      NaN   4000\n",
      "row5  10000  20000.0  40000.0  40000\n"
     ]
    },
    {
     "data": {
      "text/plain": "       col1     col2     col3   col4\nrow1      1      2.0      3.0      4\nrow2     10    668.0     30.0     40\nrow3    100   1334.0    300.0    400\nrow4   1000   2000.0  20150.0   4000\nrow5  10000  20000.0  40000.0  40000",
      "text/html": "<div>\n<style scoped>\n    .dataframe tbody tr th:only-of-type {\n        vertical-align: middle;\n    }\n\n    .dataframe tbody tr th {\n        vertical-align: top;\n    }\n\n    .dataframe thead th {\n        text-align: right;\n    }\n</style>\n<table border=\"1\" class=\"dataframe\">\n  <thead>\n    <tr style=\"text-align: right;\">\n      <th></th>\n      <th>col1</th>\n      <th>col2</th>\n      <th>col3</th>\n      <th>col4</th>\n    </tr>\n  </thead>\n  <tbody>\n    <tr>\n      <th>row1</th>\n      <td>1</td>\n      <td>2.0</td>\n      <td>3.0</td>\n      <td>4</td>\n    </tr>\n    <tr>\n      <th>row2</th>\n      <td>10</td>\n      <td>668.0</td>\n      <td>30.0</td>\n      <td>40</td>\n    </tr>\n    <tr>\n      <th>row3</th>\n      <td>100</td>\n      <td>1334.0</td>\n      <td>300.0</td>\n      <td>400</td>\n    </tr>\n    <tr>\n      <th>row4</th>\n      <td>1000</td>\n      <td>2000.0</td>\n      <td>20150.0</td>\n      <td>4000</td>\n    </tr>\n    <tr>\n      <th>row5</th>\n      <td>10000</td>\n      <td>20000.0</td>\n      <td>40000.0</td>\n      <td>40000</td>\n    </tr>\n  </tbody>\n</table>\n</div>"
     },
     "execution_count": 231,
     "metadata": {},
     "output_type": "execute_result"
    }
   ],
   "source": [
    "print(df)\n",
    "df.interpolate(method='linear')\n"
   ],
   "metadata": {
    "collapsed": false,
    "ExecuteTime": {
     "end_time": "2023-11-09T12:14:22.395388600Z",
     "start_time": "2023-11-09T12:14:22.299689Z"
    }
   }
  },
  {
   "cell_type": "code",
   "execution_count": 234,
   "outputs": [
    {
     "name": "stdout",
     "output_type": "stream",
     "text": [
      "       col1     col2     col3   col4\n",
      "row1      1      2.0      3.0      4\n",
      "row2     10      NaN     30.0     40\n",
      "row3    100      NaN    300.0    400\n",
      "row4   1000   2000.0      NaN   4000\n",
      "row5  10000  20000.0  40000.0  40000\n"
     ]
    },
    {
     "data": {
      "text/plain": "       col1     col2     col3   col4\nrow1      1      2.0      3.0      4\nrow2     10    668.0     30.0     40\nrow3    100   1334.0    300.0    400\nrow4   1000   2000.0  20150.0   4000\nrow5  10000  20000.0  40000.0  40000",
      "text/html": "<div>\n<style scoped>\n    .dataframe tbody tr th:only-of-type {\n        vertical-align: middle;\n    }\n\n    .dataframe tbody tr th {\n        vertical-align: top;\n    }\n\n    .dataframe thead th {\n        text-align: right;\n    }\n</style>\n<table border=\"1\" class=\"dataframe\">\n  <thead>\n    <tr style=\"text-align: right;\">\n      <th></th>\n      <th>col1</th>\n      <th>col2</th>\n      <th>col3</th>\n      <th>col4</th>\n    </tr>\n  </thead>\n  <tbody>\n    <tr>\n      <th>row1</th>\n      <td>1</td>\n      <td>2.0</td>\n      <td>3.0</td>\n      <td>4</td>\n    </tr>\n    <tr>\n      <th>row2</th>\n      <td>10</td>\n      <td>668.0</td>\n      <td>30.0</td>\n      <td>40</td>\n    </tr>\n    <tr>\n      <th>row3</th>\n      <td>100</td>\n      <td>1334.0</td>\n      <td>300.0</td>\n      <td>400</td>\n    </tr>\n    <tr>\n      <th>row4</th>\n      <td>1000</td>\n      <td>2000.0</td>\n      <td>20150.0</td>\n      <td>4000</td>\n    </tr>\n    <tr>\n      <th>row5</th>\n      <td>10000</td>\n      <td>20000.0</td>\n      <td>40000.0</td>\n      <td>40000</td>\n    </tr>\n  </tbody>\n</table>\n</div>"
     },
     "execution_count": 234,
     "metadata": {},
     "output_type": "execute_result"
    }
   ],
   "source": [
    "print(df)\n",
    "df.interpolate(\n",
    "    method='linear'\n",
    ")"
   ],
   "metadata": {
    "collapsed": false,
    "ExecuteTime": {
     "end_time": "2023-11-09T12:29:29.959282Z",
     "start_time": "2023-11-09T12:29:29.918755Z"
    }
   }
  },
  {
   "cell_type": "code",
   "execution_count": 234,
   "outputs": [],
   "source": [],
   "metadata": {
    "collapsed": false,
    "ExecuteTime": {
     "end_time": "2023-11-09T12:29:30.445234600Z",
     "start_time": "2023-11-09T12:29:30.347231200Z"
    }
   }
  },
  {
   "cell_type": "code",
   "execution_count": 235,
   "outputs": [
    {
     "name": "stdout",
     "output_type": "stream",
     "text": [
      "       col1     col2     col3   col4\n",
      "row1      1      2.0      3.0      4\n",
      "row2     10      NaN     30.0     40\n",
      "row3    100      NaN    300.0    400\n",
      "row4   1000   2000.0      NaN   4000\n",
      "row5  10000  20000.0  40000.0  40000\n"
     ]
    },
    {
     "data": {
      "text/plain": "       col1     col2     col3   col4\nrow1      1      2.0      3.0      4\nrow5  10000  20000.0  40000.0  40000",
      "text/html": "<div>\n<style scoped>\n    .dataframe tbody tr th:only-of-type {\n        vertical-align: middle;\n    }\n\n    .dataframe tbody tr th {\n        vertical-align: top;\n    }\n\n    .dataframe thead th {\n        text-align: right;\n    }\n</style>\n<table border=\"1\" class=\"dataframe\">\n  <thead>\n    <tr style=\"text-align: right;\">\n      <th></th>\n      <th>col1</th>\n      <th>col2</th>\n      <th>col3</th>\n      <th>col4</th>\n    </tr>\n  </thead>\n  <tbody>\n    <tr>\n      <th>row1</th>\n      <td>1</td>\n      <td>2.0</td>\n      <td>3.0</td>\n      <td>4</td>\n    </tr>\n    <tr>\n      <th>row5</th>\n      <td>10000</td>\n      <td>20000.0</td>\n      <td>40000.0</td>\n      <td>40000</td>\n    </tr>\n  </tbody>\n</table>\n</div>"
     },
     "execution_count": 235,
     "metadata": {},
     "output_type": "execute_result"
    }
   ],
   "source": [
    "print(df)\n",
    "df.dropna()"
   ],
   "metadata": {
    "collapsed": false,
    "ExecuteTime": {
     "end_time": "2023-11-09T12:29:52.075045600Z",
     "start_time": "2023-11-09T12:29:51.969042400Z"
    }
   }
  },
  {
   "cell_type": "code",
   "execution_count": 236,
   "outputs": [
    {
     "name": "stdout",
     "output_type": "stream",
     "text": [
      "       col1     col2     col3   col4\n",
      "row1      1      2.0      3.0      4\n",
      "row2     10      NaN     30.0     40\n",
      "row3    100      NaN    300.0    400\n",
      "row4   1000   2000.0      NaN   4000\n",
      "row5  10000  20000.0  40000.0  40000\n"
     ]
    },
    {
     "data": {
      "text/plain": "       col1   col4\nrow1      1      4\nrow2     10     40\nrow3    100    400\nrow4   1000   4000\nrow5  10000  40000",
      "text/html": "<div>\n<style scoped>\n    .dataframe tbody tr th:only-of-type {\n        vertical-align: middle;\n    }\n\n    .dataframe tbody tr th {\n        vertical-align: top;\n    }\n\n    .dataframe thead th {\n        text-align: right;\n    }\n</style>\n<table border=\"1\" class=\"dataframe\">\n  <thead>\n    <tr style=\"text-align: right;\">\n      <th></th>\n      <th>col1</th>\n      <th>col4</th>\n    </tr>\n  </thead>\n  <tbody>\n    <tr>\n      <th>row1</th>\n      <td>1</td>\n      <td>4</td>\n    </tr>\n    <tr>\n      <th>row2</th>\n      <td>10</td>\n      <td>40</td>\n    </tr>\n    <tr>\n      <th>row3</th>\n      <td>100</td>\n      <td>400</td>\n    </tr>\n    <tr>\n      <th>row4</th>\n      <td>1000</td>\n      <td>4000</td>\n    </tr>\n    <tr>\n      <th>row5</th>\n      <td>10000</td>\n      <td>40000</td>\n    </tr>\n  </tbody>\n</table>\n</div>"
     },
     "execution_count": 236,
     "metadata": {},
     "output_type": "execute_result"
    }
   ],
   "source": [
    "print(df)\n",
    "df.dropna(axis=1)\n"
   ],
   "metadata": {
    "collapsed": false,
    "ExecuteTime": {
     "end_time": "2023-11-09T12:30:22.702749Z",
     "start_time": "2023-11-09T12:30:22.639781100Z"
    }
   }
  },
  {
   "cell_type": "code",
   "execution_count": 239,
   "outputs": [
    {
     "name": "stdout",
     "output_type": "stream",
     "text": [
      "['Geographic Area', 'July 1, 2001 Estimate', 'July 1, 2000 Estimate', 'April 1, 2000 Population Estimates Base']\n",
      "['United States', '284796887', '282124631', '281421906']\n",
      "['Alabama', '4464356', '4451493', '4447100']\n"
     ]
    }
   ],
   "source": [
    "from csv import reader\n",
    "\n",
    "with open('populations.csv') as f:\n",
    "    data = reader(f)\n",
    "    print(next(data))\n",
    "    print(next(data))\n",
    "    print(next(data))\n",
    "\n"
   ],
   "metadata": {
    "collapsed": false,
    "ExecuteTime": {
     "end_time": "2023-11-09T12:45:03.945851600Z",
     "start_time": "2023-11-09T12:45:03.906862800Z"
    }
   }
  },
  {
   "cell_type": "code",
   "execution_count": 240,
   "outputs": [],
   "source": [
    "df = pd.read_csv('populations.csv')"
   ],
   "metadata": {
    "collapsed": false,
    "ExecuteTime": {
     "end_time": "2023-11-09T12:45:55.699481300Z",
     "start_time": "2023-11-09T12:45:55.540739200Z"
    }
   }
  },
  {
   "cell_type": "code",
   "execution_count": 241,
   "outputs": [
    {
     "data": {
      "text/plain": "         Geographic Area  July 1, 2001 Estimate  July 1, 2000 Estimate  \\\n0          United States              284796887              282124631   \n1                Alabama                4464356                4451493   \n2                 Alaska                 634892                 627601   \n3                Arizona                5307331                5165274   \n4               Arkansas                2692090                2678030   \n5             California               34501130               34000446   \n6               Colorado                4417714                4323410   \n7            Connecticut                3425074                3410079   \n8               Delaware                 796165                 786234   \n9   District of Columbia                 571822                 571066   \n10               Florida               16396515               16054328   \n11               Georgia                8383915                8229823   \n12                Hawaii                1224398                1212281   \n13                 Idaho                1321006                1299258   \n14              Illinois               12482301               12435970   \n15               Indiana                6114745                6089950   \n16                  Iowa                2923179                2927509   \n17                Kansas                2694641                2691750   \n18              Kentucky                4065556                4047424   \n19             Louisiana                4465430                4469970   \n20                 Maine                1286670                1276961   \n21              Maryland                5375156                5310908   \n22         Massachusetts                6379304                6357072   \n23              Michigan                9990817                9952006   \n24             Minnesota                4972294                4931093   \n25           Mississippi                2858029                2849100   \n26              Missouri                5629707                5603553   \n27               Montana                 904433                 903157   \n28              Nebraska                1713235                1712577   \n29                Nevada                2106074                2018723   \n30         New Hampshire                1259181                1239881   \n31            New Jersey                8484431                8429007   \n32            New Mexico                1829146                1821282   \n33              New York               19011378               18989332   \n34        North Carolina                8186268                8077367   \n35          North Dakota                 634448                 640919   \n36                  Ohio               11373541               11359955   \n37              Oklahoma                3460097                3453250   \n38                Oregon                3472867                3429293   \n39          Pennsylvania               12287150               12282591   \n40          Rhode Island                1058920                1050236   \n41        South Carolina                4063011                4023438   \n42          South Dakota                 756600                 755509   \n43             Tennessee                5740021                5702027   \n44                 Texas               21325018               20946503   \n45                  Utah                2269789                2241555   \n46               Vermont                 613090                 609709   \n47              Virginia                7187734                7104016   \n48            Washington                5987973                5908372   \n49         West Virginia                1801916                1807099   \n50             Wisconsin                5401906                5372243   \n51               Wyoming                 494423                 494001   \n\n    April 1, 2000 Population Estimates Base  \n0                                 281421906  \n1                                   4447100  \n2                                    626932  \n3                                   5130632  \n4                                   2673400  \n5                                  33871648  \n6                                   4301261  \n7                                   3405565  \n8                                    783600  \n9                                    572059  \n10                                 15982378  \n11                                  8186453  \n12                                  1211537  \n13                                  1293953  \n14                                 12419293  \n15                                  6080485  \n16                                  2926324  \n17                                  2688418  \n18                                  4041769  \n19                                  4468976  \n20                                  1274923  \n21                                  5296486  \n22                                  6349097  \n23                                  9938444  \n24                                  4919479  \n25                                  2844658  \n26                                  5595211  \n27                                   902195  \n28                                  1711263  \n29                                  1998257  \n30                                  1235786  \n31                                  8414350  \n32                                  1819046  \n33                                 18976457  \n34                                  8049313  \n35                                   642200  \n36                                 11353140  \n37                                  3450654  \n38                                  3421399  \n39                                 12281054  \n40                                  1048319  \n41                                  4012012  \n42                                   754844  \n43                                  5689283  \n44                                 20851820  \n45                                  2233169  \n46                                   608827  \n47                                  7078515  \n48                                  5894121  \n49                                  1808344  \n50                                  5363675  \n51                                   493782  ",
      "text/html": "<div>\n<style scoped>\n    .dataframe tbody tr th:only-of-type {\n        vertical-align: middle;\n    }\n\n    .dataframe tbody tr th {\n        vertical-align: top;\n    }\n\n    .dataframe thead th {\n        text-align: right;\n    }\n</style>\n<table border=\"1\" class=\"dataframe\">\n  <thead>\n    <tr style=\"text-align: right;\">\n      <th></th>\n      <th>Geographic Area</th>\n      <th>July 1, 2001 Estimate</th>\n      <th>July 1, 2000 Estimate</th>\n      <th>April 1, 2000 Population Estimates Base</th>\n    </tr>\n  </thead>\n  <tbody>\n    <tr>\n      <th>0</th>\n      <td>United States</td>\n      <td>284796887</td>\n      <td>282124631</td>\n      <td>281421906</td>\n    </tr>\n    <tr>\n      <th>1</th>\n      <td>Alabama</td>\n      <td>4464356</td>\n      <td>4451493</td>\n      <td>4447100</td>\n    </tr>\n    <tr>\n      <th>2</th>\n      <td>Alaska</td>\n      <td>634892</td>\n      <td>627601</td>\n      <td>626932</td>\n    </tr>\n    <tr>\n      <th>3</th>\n      <td>Arizona</td>\n      <td>5307331</td>\n      <td>5165274</td>\n      <td>5130632</td>\n    </tr>\n    <tr>\n      <th>4</th>\n      <td>Arkansas</td>\n      <td>2692090</td>\n      <td>2678030</td>\n      <td>2673400</td>\n    </tr>\n    <tr>\n      <th>5</th>\n      <td>California</td>\n      <td>34501130</td>\n      <td>34000446</td>\n      <td>33871648</td>\n    </tr>\n    <tr>\n      <th>6</th>\n      <td>Colorado</td>\n      <td>4417714</td>\n      <td>4323410</td>\n      <td>4301261</td>\n    </tr>\n    <tr>\n      <th>7</th>\n      <td>Connecticut</td>\n      <td>3425074</td>\n      <td>3410079</td>\n      <td>3405565</td>\n    </tr>\n    <tr>\n      <th>8</th>\n      <td>Delaware</td>\n      <td>796165</td>\n      <td>786234</td>\n      <td>783600</td>\n    </tr>\n    <tr>\n      <th>9</th>\n      <td>District of Columbia</td>\n      <td>571822</td>\n      <td>571066</td>\n      <td>572059</td>\n    </tr>\n    <tr>\n      <th>10</th>\n      <td>Florida</td>\n      <td>16396515</td>\n      <td>16054328</td>\n      <td>15982378</td>\n    </tr>\n    <tr>\n      <th>11</th>\n      <td>Georgia</td>\n      <td>8383915</td>\n      <td>8229823</td>\n      <td>8186453</td>\n    </tr>\n    <tr>\n      <th>12</th>\n      <td>Hawaii</td>\n      <td>1224398</td>\n      <td>1212281</td>\n      <td>1211537</td>\n    </tr>\n    <tr>\n      <th>13</th>\n      <td>Idaho</td>\n      <td>1321006</td>\n      <td>1299258</td>\n      <td>1293953</td>\n    </tr>\n    <tr>\n      <th>14</th>\n      <td>Illinois</td>\n      <td>12482301</td>\n      <td>12435970</td>\n      <td>12419293</td>\n    </tr>\n    <tr>\n      <th>15</th>\n      <td>Indiana</td>\n      <td>6114745</td>\n      <td>6089950</td>\n      <td>6080485</td>\n    </tr>\n    <tr>\n      <th>16</th>\n      <td>Iowa</td>\n      <td>2923179</td>\n      <td>2927509</td>\n      <td>2926324</td>\n    </tr>\n    <tr>\n      <th>17</th>\n      <td>Kansas</td>\n      <td>2694641</td>\n      <td>2691750</td>\n      <td>2688418</td>\n    </tr>\n    <tr>\n      <th>18</th>\n      <td>Kentucky</td>\n      <td>4065556</td>\n      <td>4047424</td>\n      <td>4041769</td>\n    </tr>\n    <tr>\n      <th>19</th>\n      <td>Louisiana</td>\n      <td>4465430</td>\n      <td>4469970</td>\n      <td>4468976</td>\n    </tr>\n    <tr>\n      <th>20</th>\n      <td>Maine</td>\n      <td>1286670</td>\n      <td>1276961</td>\n      <td>1274923</td>\n    </tr>\n    <tr>\n      <th>21</th>\n      <td>Maryland</td>\n      <td>5375156</td>\n      <td>5310908</td>\n      <td>5296486</td>\n    </tr>\n    <tr>\n      <th>22</th>\n      <td>Massachusetts</td>\n      <td>6379304</td>\n      <td>6357072</td>\n      <td>6349097</td>\n    </tr>\n    <tr>\n      <th>23</th>\n      <td>Michigan</td>\n      <td>9990817</td>\n      <td>9952006</td>\n      <td>9938444</td>\n    </tr>\n    <tr>\n      <th>24</th>\n      <td>Minnesota</td>\n      <td>4972294</td>\n      <td>4931093</td>\n      <td>4919479</td>\n    </tr>\n    <tr>\n      <th>25</th>\n      <td>Mississippi</td>\n      <td>2858029</td>\n      <td>2849100</td>\n      <td>2844658</td>\n    </tr>\n    <tr>\n      <th>26</th>\n      <td>Missouri</td>\n      <td>5629707</td>\n      <td>5603553</td>\n      <td>5595211</td>\n    </tr>\n    <tr>\n      <th>27</th>\n      <td>Montana</td>\n      <td>904433</td>\n      <td>903157</td>\n      <td>902195</td>\n    </tr>\n    <tr>\n      <th>28</th>\n      <td>Nebraska</td>\n      <td>1713235</td>\n      <td>1712577</td>\n      <td>1711263</td>\n    </tr>\n    <tr>\n      <th>29</th>\n      <td>Nevada</td>\n      <td>2106074</td>\n      <td>2018723</td>\n      <td>1998257</td>\n    </tr>\n    <tr>\n      <th>30</th>\n      <td>New Hampshire</td>\n      <td>1259181</td>\n      <td>1239881</td>\n      <td>1235786</td>\n    </tr>\n    <tr>\n      <th>31</th>\n      <td>New Jersey</td>\n      <td>8484431</td>\n      <td>8429007</td>\n      <td>8414350</td>\n    </tr>\n    <tr>\n      <th>32</th>\n      <td>New Mexico</td>\n      <td>1829146</td>\n      <td>1821282</td>\n      <td>1819046</td>\n    </tr>\n    <tr>\n      <th>33</th>\n      <td>New York</td>\n      <td>19011378</td>\n      <td>18989332</td>\n      <td>18976457</td>\n    </tr>\n    <tr>\n      <th>34</th>\n      <td>North Carolina</td>\n      <td>8186268</td>\n      <td>8077367</td>\n      <td>8049313</td>\n    </tr>\n    <tr>\n      <th>35</th>\n      <td>North Dakota</td>\n      <td>634448</td>\n      <td>640919</td>\n      <td>642200</td>\n    </tr>\n    <tr>\n      <th>36</th>\n      <td>Ohio</td>\n      <td>11373541</td>\n      <td>11359955</td>\n      <td>11353140</td>\n    </tr>\n    <tr>\n      <th>37</th>\n      <td>Oklahoma</td>\n      <td>3460097</td>\n      <td>3453250</td>\n      <td>3450654</td>\n    </tr>\n    <tr>\n      <th>38</th>\n      <td>Oregon</td>\n      <td>3472867</td>\n      <td>3429293</td>\n      <td>3421399</td>\n    </tr>\n    <tr>\n      <th>39</th>\n      <td>Pennsylvania</td>\n      <td>12287150</td>\n      <td>12282591</td>\n      <td>12281054</td>\n    </tr>\n    <tr>\n      <th>40</th>\n      <td>Rhode Island</td>\n      <td>1058920</td>\n      <td>1050236</td>\n      <td>1048319</td>\n    </tr>\n    <tr>\n      <th>41</th>\n      <td>South Carolina</td>\n      <td>4063011</td>\n      <td>4023438</td>\n      <td>4012012</td>\n    </tr>\n    <tr>\n      <th>42</th>\n      <td>South Dakota</td>\n      <td>756600</td>\n      <td>755509</td>\n      <td>754844</td>\n    </tr>\n    <tr>\n      <th>43</th>\n      <td>Tennessee</td>\n      <td>5740021</td>\n      <td>5702027</td>\n      <td>5689283</td>\n    </tr>\n    <tr>\n      <th>44</th>\n      <td>Texas</td>\n      <td>21325018</td>\n      <td>20946503</td>\n      <td>20851820</td>\n    </tr>\n    <tr>\n      <th>45</th>\n      <td>Utah</td>\n      <td>2269789</td>\n      <td>2241555</td>\n      <td>2233169</td>\n    </tr>\n    <tr>\n      <th>46</th>\n      <td>Vermont</td>\n      <td>613090</td>\n      <td>609709</td>\n      <td>608827</td>\n    </tr>\n    <tr>\n      <th>47</th>\n      <td>Virginia</td>\n      <td>7187734</td>\n      <td>7104016</td>\n      <td>7078515</td>\n    </tr>\n    <tr>\n      <th>48</th>\n      <td>Washington</td>\n      <td>5987973</td>\n      <td>5908372</td>\n      <td>5894121</td>\n    </tr>\n    <tr>\n      <th>49</th>\n      <td>West Virginia</td>\n      <td>1801916</td>\n      <td>1807099</td>\n      <td>1808344</td>\n    </tr>\n    <tr>\n      <th>50</th>\n      <td>Wisconsin</td>\n      <td>5401906</td>\n      <td>5372243</td>\n      <td>5363675</td>\n    </tr>\n    <tr>\n      <th>51</th>\n      <td>Wyoming</td>\n      <td>494423</td>\n      <td>494001</td>\n      <td>493782</td>\n    </tr>\n  </tbody>\n</table>\n</div>"
     },
     "execution_count": 241,
     "metadata": {},
     "output_type": "execute_result"
    }
   ],
   "source": [
    "df"
   ],
   "metadata": {
    "collapsed": false,
    "ExecuteTime": {
     "end_time": "2023-11-09T12:45:57.850067400Z",
     "start_time": "2023-11-09T12:45:57.767069100Z"
    }
   }
  },
  {
   "cell_type": "code",
   "execution_count": 242,
   "outputs": [
    {
     "data": {
      "text/plain": "                  region       2001       2000  not needed\n0          United States  284796887  282124631   281421906\n1                Alabama    4464356    4451493     4447100\n2                 Alaska     634892     627601      626932\n3                Arizona    5307331    5165274     5130632\n4               Arkansas    2692090    2678030     2673400\n5             California   34501130   34000446    33871648\n6               Colorado    4417714    4323410     4301261\n7            Connecticut    3425074    3410079     3405565\n8               Delaware     796165     786234      783600\n9   District of Columbia     571822     571066      572059\n10               Florida   16396515   16054328    15982378\n11               Georgia    8383915    8229823     8186453\n12                Hawaii    1224398    1212281     1211537\n13                 Idaho    1321006    1299258     1293953\n14              Illinois   12482301   12435970    12419293\n15               Indiana    6114745    6089950     6080485\n16                  Iowa    2923179    2927509     2926324\n17                Kansas    2694641    2691750     2688418\n18              Kentucky    4065556    4047424     4041769\n19             Louisiana    4465430    4469970     4468976\n20                 Maine    1286670    1276961     1274923\n21              Maryland    5375156    5310908     5296486\n22         Massachusetts    6379304    6357072     6349097\n23              Michigan    9990817    9952006     9938444\n24             Minnesota    4972294    4931093     4919479\n25           Mississippi    2858029    2849100     2844658\n26              Missouri    5629707    5603553     5595211\n27               Montana     904433     903157      902195\n28              Nebraska    1713235    1712577     1711263\n29                Nevada    2106074    2018723     1998257\n30         New Hampshire    1259181    1239881     1235786\n31            New Jersey    8484431    8429007     8414350\n32            New Mexico    1829146    1821282     1819046\n33              New York   19011378   18989332    18976457\n34        North Carolina    8186268    8077367     8049313\n35          North Dakota     634448     640919      642200\n36                  Ohio   11373541   11359955    11353140\n37              Oklahoma    3460097    3453250     3450654\n38                Oregon    3472867    3429293     3421399\n39          Pennsylvania   12287150   12282591    12281054\n40          Rhode Island    1058920    1050236     1048319\n41        South Carolina    4063011    4023438     4012012\n42          South Dakota     756600     755509      754844\n43             Tennessee    5740021    5702027     5689283\n44                 Texas   21325018   20946503    20851820\n45                  Utah    2269789    2241555     2233169\n46               Vermont     613090     609709      608827\n47              Virginia    7187734    7104016     7078515\n48            Washington    5987973    5908372     5894121\n49         West Virginia    1801916    1807099     1808344\n50             Wisconsin    5401906    5372243     5363675\n51               Wyoming     494423     494001      493782",
      "text/html": "<div>\n<style scoped>\n    .dataframe tbody tr th:only-of-type {\n        vertical-align: middle;\n    }\n\n    .dataframe tbody tr th {\n        vertical-align: top;\n    }\n\n    .dataframe thead th {\n        text-align: right;\n    }\n</style>\n<table border=\"1\" class=\"dataframe\">\n  <thead>\n    <tr style=\"text-align: right;\">\n      <th></th>\n      <th>region</th>\n      <th>2001</th>\n      <th>2000</th>\n      <th>not needed</th>\n    </tr>\n  </thead>\n  <tbody>\n    <tr>\n      <th>0</th>\n      <td>United States</td>\n      <td>284796887</td>\n      <td>282124631</td>\n      <td>281421906</td>\n    </tr>\n    <tr>\n      <th>1</th>\n      <td>Alabama</td>\n      <td>4464356</td>\n      <td>4451493</td>\n      <td>4447100</td>\n    </tr>\n    <tr>\n      <th>2</th>\n      <td>Alaska</td>\n      <td>634892</td>\n      <td>627601</td>\n      <td>626932</td>\n    </tr>\n    <tr>\n      <th>3</th>\n      <td>Arizona</td>\n      <td>5307331</td>\n      <td>5165274</td>\n      <td>5130632</td>\n    </tr>\n    <tr>\n      <th>4</th>\n      <td>Arkansas</td>\n      <td>2692090</td>\n      <td>2678030</td>\n      <td>2673400</td>\n    </tr>\n    <tr>\n      <th>5</th>\n      <td>California</td>\n      <td>34501130</td>\n      <td>34000446</td>\n      <td>33871648</td>\n    </tr>\n    <tr>\n      <th>6</th>\n      <td>Colorado</td>\n      <td>4417714</td>\n      <td>4323410</td>\n      <td>4301261</td>\n    </tr>\n    <tr>\n      <th>7</th>\n      <td>Connecticut</td>\n      <td>3425074</td>\n      <td>3410079</td>\n      <td>3405565</td>\n    </tr>\n    <tr>\n      <th>8</th>\n      <td>Delaware</td>\n      <td>796165</td>\n      <td>786234</td>\n      <td>783600</td>\n    </tr>\n    <tr>\n      <th>9</th>\n      <td>District of Columbia</td>\n      <td>571822</td>\n      <td>571066</td>\n      <td>572059</td>\n    </tr>\n    <tr>\n      <th>10</th>\n      <td>Florida</td>\n      <td>16396515</td>\n      <td>16054328</td>\n      <td>15982378</td>\n    </tr>\n    <tr>\n      <th>11</th>\n      <td>Georgia</td>\n      <td>8383915</td>\n      <td>8229823</td>\n      <td>8186453</td>\n    </tr>\n    <tr>\n      <th>12</th>\n      <td>Hawaii</td>\n      <td>1224398</td>\n      <td>1212281</td>\n      <td>1211537</td>\n    </tr>\n    <tr>\n      <th>13</th>\n      <td>Idaho</td>\n      <td>1321006</td>\n      <td>1299258</td>\n      <td>1293953</td>\n    </tr>\n    <tr>\n      <th>14</th>\n      <td>Illinois</td>\n      <td>12482301</td>\n      <td>12435970</td>\n      <td>12419293</td>\n    </tr>\n    <tr>\n      <th>15</th>\n      <td>Indiana</td>\n      <td>6114745</td>\n      <td>6089950</td>\n      <td>6080485</td>\n    </tr>\n    <tr>\n      <th>16</th>\n      <td>Iowa</td>\n      <td>2923179</td>\n      <td>2927509</td>\n      <td>2926324</td>\n    </tr>\n    <tr>\n      <th>17</th>\n      <td>Kansas</td>\n      <td>2694641</td>\n      <td>2691750</td>\n      <td>2688418</td>\n    </tr>\n    <tr>\n      <th>18</th>\n      <td>Kentucky</td>\n      <td>4065556</td>\n      <td>4047424</td>\n      <td>4041769</td>\n    </tr>\n    <tr>\n      <th>19</th>\n      <td>Louisiana</td>\n      <td>4465430</td>\n      <td>4469970</td>\n      <td>4468976</td>\n    </tr>\n    <tr>\n      <th>20</th>\n      <td>Maine</td>\n      <td>1286670</td>\n      <td>1276961</td>\n      <td>1274923</td>\n    </tr>\n    <tr>\n      <th>21</th>\n      <td>Maryland</td>\n      <td>5375156</td>\n      <td>5310908</td>\n      <td>5296486</td>\n    </tr>\n    <tr>\n      <th>22</th>\n      <td>Massachusetts</td>\n      <td>6379304</td>\n      <td>6357072</td>\n      <td>6349097</td>\n    </tr>\n    <tr>\n      <th>23</th>\n      <td>Michigan</td>\n      <td>9990817</td>\n      <td>9952006</td>\n      <td>9938444</td>\n    </tr>\n    <tr>\n      <th>24</th>\n      <td>Minnesota</td>\n      <td>4972294</td>\n      <td>4931093</td>\n      <td>4919479</td>\n    </tr>\n    <tr>\n      <th>25</th>\n      <td>Mississippi</td>\n      <td>2858029</td>\n      <td>2849100</td>\n      <td>2844658</td>\n    </tr>\n    <tr>\n      <th>26</th>\n      <td>Missouri</td>\n      <td>5629707</td>\n      <td>5603553</td>\n      <td>5595211</td>\n    </tr>\n    <tr>\n      <th>27</th>\n      <td>Montana</td>\n      <td>904433</td>\n      <td>903157</td>\n      <td>902195</td>\n    </tr>\n    <tr>\n      <th>28</th>\n      <td>Nebraska</td>\n      <td>1713235</td>\n      <td>1712577</td>\n      <td>1711263</td>\n    </tr>\n    <tr>\n      <th>29</th>\n      <td>Nevada</td>\n      <td>2106074</td>\n      <td>2018723</td>\n      <td>1998257</td>\n    </tr>\n    <tr>\n      <th>30</th>\n      <td>New Hampshire</td>\n      <td>1259181</td>\n      <td>1239881</td>\n      <td>1235786</td>\n    </tr>\n    <tr>\n      <th>31</th>\n      <td>New Jersey</td>\n      <td>8484431</td>\n      <td>8429007</td>\n      <td>8414350</td>\n    </tr>\n    <tr>\n      <th>32</th>\n      <td>New Mexico</td>\n      <td>1829146</td>\n      <td>1821282</td>\n      <td>1819046</td>\n    </tr>\n    <tr>\n      <th>33</th>\n      <td>New York</td>\n      <td>19011378</td>\n      <td>18989332</td>\n      <td>18976457</td>\n    </tr>\n    <tr>\n      <th>34</th>\n      <td>North Carolina</td>\n      <td>8186268</td>\n      <td>8077367</td>\n      <td>8049313</td>\n    </tr>\n    <tr>\n      <th>35</th>\n      <td>North Dakota</td>\n      <td>634448</td>\n      <td>640919</td>\n      <td>642200</td>\n    </tr>\n    <tr>\n      <th>36</th>\n      <td>Ohio</td>\n      <td>11373541</td>\n      <td>11359955</td>\n      <td>11353140</td>\n    </tr>\n    <tr>\n      <th>37</th>\n      <td>Oklahoma</td>\n      <td>3460097</td>\n      <td>3453250</td>\n      <td>3450654</td>\n    </tr>\n    <tr>\n      <th>38</th>\n      <td>Oregon</td>\n      <td>3472867</td>\n      <td>3429293</td>\n      <td>3421399</td>\n    </tr>\n    <tr>\n      <th>39</th>\n      <td>Pennsylvania</td>\n      <td>12287150</td>\n      <td>12282591</td>\n      <td>12281054</td>\n    </tr>\n    <tr>\n      <th>40</th>\n      <td>Rhode Island</td>\n      <td>1058920</td>\n      <td>1050236</td>\n      <td>1048319</td>\n    </tr>\n    <tr>\n      <th>41</th>\n      <td>South Carolina</td>\n      <td>4063011</td>\n      <td>4023438</td>\n      <td>4012012</td>\n    </tr>\n    <tr>\n      <th>42</th>\n      <td>South Dakota</td>\n      <td>756600</td>\n      <td>755509</td>\n      <td>754844</td>\n    </tr>\n    <tr>\n      <th>43</th>\n      <td>Tennessee</td>\n      <td>5740021</td>\n      <td>5702027</td>\n      <td>5689283</td>\n    </tr>\n    <tr>\n      <th>44</th>\n      <td>Texas</td>\n      <td>21325018</td>\n      <td>20946503</td>\n      <td>20851820</td>\n    </tr>\n    <tr>\n      <th>45</th>\n      <td>Utah</td>\n      <td>2269789</td>\n      <td>2241555</td>\n      <td>2233169</td>\n    </tr>\n    <tr>\n      <th>46</th>\n      <td>Vermont</td>\n      <td>613090</td>\n      <td>609709</td>\n      <td>608827</td>\n    </tr>\n    <tr>\n      <th>47</th>\n      <td>Virginia</td>\n      <td>7187734</td>\n      <td>7104016</td>\n      <td>7078515</td>\n    </tr>\n    <tr>\n      <th>48</th>\n      <td>Washington</td>\n      <td>5987973</td>\n      <td>5908372</td>\n      <td>5894121</td>\n    </tr>\n    <tr>\n      <th>49</th>\n      <td>West Virginia</td>\n      <td>1801916</td>\n      <td>1807099</td>\n      <td>1808344</td>\n    </tr>\n    <tr>\n      <th>50</th>\n      <td>Wisconsin</td>\n      <td>5401906</td>\n      <td>5372243</td>\n      <td>5363675</td>\n    </tr>\n    <tr>\n      <th>51</th>\n      <td>Wyoming</td>\n      <td>494423</td>\n      <td>494001</td>\n      <td>493782</td>\n    </tr>\n  </tbody>\n</table>\n</div>"
     },
     "execution_count": 242,
     "metadata": {},
     "output_type": "execute_result"
    }
   ],
   "source": [
    "df = df.rename(\n",
    "    columns={\n",
    "        'Geographic Area': 'region',\n",
    "        'July 1, 2001 Estimate': '2001',\n",
    "        'July 1, 2000 Estimate': '2000',\n",
    "        'April 1, 2000 Population Estimates Base': 'not needed'\n",
    "    }\n",
    ")\n",
    "df"
   ],
   "metadata": {
    "collapsed": false,
    "ExecuteTime": {
     "end_time": "2023-11-09T12:46:58.342264800Z",
     "start_time": "2023-11-09T12:46:58.271262700Z"
    }
   }
  },
  {
   "cell_type": "code",
   "execution_count": 243,
   "outputs": [],
   "source": [
    "df = df.drop(columns=['not needed'])"
   ],
   "metadata": {
    "collapsed": false,
    "ExecuteTime": {
     "end_time": "2023-11-09T12:47:56.529879200Z",
     "start_time": "2023-11-09T12:47:56.432878200Z"
    }
   }
  },
  {
   "cell_type": "code",
   "execution_count": 244,
   "outputs": [
    {
     "data": {
      "text/plain": "                  region       2001       2000\n0          United States  284796887  282124631\n1                Alabama    4464356    4451493\n2                 Alaska     634892     627601\n3                Arizona    5307331    5165274\n4               Arkansas    2692090    2678030\n5             California   34501130   34000446\n6               Colorado    4417714    4323410\n7            Connecticut    3425074    3410079\n8               Delaware     796165     786234\n9   District of Columbia     571822     571066\n10               Florida   16396515   16054328\n11               Georgia    8383915    8229823\n12                Hawaii    1224398    1212281\n13                 Idaho    1321006    1299258\n14              Illinois   12482301   12435970\n15               Indiana    6114745    6089950\n16                  Iowa    2923179    2927509\n17                Kansas    2694641    2691750\n18              Kentucky    4065556    4047424\n19             Louisiana    4465430    4469970\n20                 Maine    1286670    1276961\n21              Maryland    5375156    5310908\n22         Massachusetts    6379304    6357072\n23              Michigan    9990817    9952006\n24             Minnesota    4972294    4931093\n25           Mississippi    2858029    2849100\n26              Missouri    5629707    5603553\n27               Montana     904433     903157\n28              Nebraska    1713235    1712577\n29                Nevada    2106074    2018723\n30         New Hampshire    1259181    1239881\n31            New Jersey    8484431    8429007\n32            New Mexico    1829146    1821282\n33              New York   19011378   18989332\n34        North Carolina    8186268    8077367\n35          North Dakota     634448     640919\n36                  Ohio   11373541   11359955\n37              Oklahoma    3460097    3453250\n38                Oregon    3472867    3429293\n39          Pennsylvania   12287150   12282591\n40          Rhode Island    1058920    1050236\n41        South Carolina    4063011    4023438\n42          South Dakota     756600     755509\n43             Tennessee    5740021    5702027\n44                 Texas   21325018   20946503\n45                  Utah    2269789    2241555\n46               Vermont     613090     609709\n47              Virginia    7187734    7104016\n48            Washington    5987973    5908372\n49         West Virginia    1801916    1807099\n50             Wisconsin    5401906    5372243\n51               Wyoming     494423     494001",
      "text/html": "<div>\n<style scoped>\n    .dataframe tbody tr th:only-of-type {\n        vertical-align: middle;\n    }\n\n    .dataframe tbody tr th {\n        vertical-align: top;\n    }\n\n    .dataframe thead th {\n        text-align: right;\n    }\n</style>\n<table border=\"1\" class=\"dataframe\">\n  <thead>\n    <tr style=\"text-align: right;\">\n      <th></th>\n      <th>region</th>\n      <th>2001</th>\n      <th>2000</th>\n    </tr>\n  </thead>\n  <tbody>\n    <tr>\n      <th>0</th>\n      <td>United States</td>\n      <td>284796887</td>\n      <td>282124631</td>\n    </tr>\n    <tr>\n      <th>1</th>\n      <td>Alabama</td>\n      <td>4464356</td>\n      <td>4451493</td>\n    </tr>\n    <tr>\n      <th>2</th>\n      <td>Alaska</td>\n      <td>634892</td>\n      <td>627601</td>\n    </tr>\n    <tr>\n      <th>3</th>\n      <td>Arizona</td>\n      <td>5307331</td>\n      <td>5165274</td>\n    </tr>\n    <tr>\n      <th>4</th>\n      <td>Arkansas</td>\n      <td>2692090</td>\n      <td>2678030</td>\n    </tr>\n    <tr>\n      <th>5</th>\n      <td>California</td>\n      <td>34501130</td>\n      <td>34000446</td>\n    </tr>\n    <tr>\n      <th>6</th>\n      <td>Colorado</td>\n      <td>4417714</td>\n      <td>4323410</td>\n    </tr>\n    <tr>\n      <th>7</th>\n      <td>Connecticut</td>\n      <td>3425074</td>\n      <td>3410079</td>\n    </tr>\n    <tr>\n      <th>8</th>\n      <td>Delaware</td>\n      <td>796165</td>\n      <td>786234</td>\n    </tr>\n    <tr>\n      <th>9</th>\n      <td>District of Columbia</td>\n      <td>571822</td>\n      <td>571066</td>\n    </tr>\n    <tr>\n      <th>10</th>\n      <td>Florida</td>\n      <td>16396515</td>\n      <td>16054328</td>\n    </tr>\n    <tr>\n      <th>11</th>\n      <td>Georgia</td>\n      <td>8383915</td>\n      <td>8229823</td>\n    </tr>\n    <tr>\n      <th>12</th>\n      <td>Hawaii</td>\n      <td>1224398</td>\n      <td>1212281</td>\n    </tr>\n    <tr>\n      <th>13</th>\n      <td>Idaho</td>\n      <td>1321006</td>\n      <td>1299258</td>\n    </tr>\n    <tr>\n      <th>14</th>\n      <td>Illinois</td>\n      <td>12482301</td>\n      <td>12435970</td>\n    </tr>\n    <tr>\n      <th>15</th>\n      <td>Indiana</td>\n      <td>6114745</td>\n      <td>6089950</td>\n    </tr>\n    <tr>\n      <th>16</th>\n      <td>Iowa</td>\n      <td>2923179</td>\n      <td>2927509</td>\n    </tr>\n    <tr>\n      <th>17</th>\n      <td>Kansas</td>\n      <td>2694641</td>\n      <td>2691750</td>\n    </tr>\n    <tr>\n      <th>18</th>\n      <td>Kentucky</td>\n      <td>4065556</td>\n      <td>4047424</td>\n    </tr>\n    <tr>\n      <th>19</th>\n      <td>Louisiana</td>\n      <td>4465430</td>\n      <td>4469970</td>\n    </tr>\n    <tr>\n      <th>20</th>\n      <td>Maine</td>\n      <td>1286670</td>\n      <td>1276961</td>\n    </tr>\n    <tr>\n      <th>21</th>\n      <td>Maryland</td>\n      <td>5375156</td>\n      <td>5310908</td>\n    </tr>\n    <tr>\n      <th>22</th>\n      <td>Massachusetts</td>\n      <td>6379304</td>\n      <td>6357072</td>\n    </tr>\n    <tr>\n      <th>23</th>\n      <td>Michigan</td>\n      <td>9990817</td>\n      <td>9952006</td>\n    </tr>\n    <tr>\n      <th>24</th>\n      <td>Minnesota</td>\n      <td>4972294</td>\n      <td>4931093</td>\n    </tr>\n    <tr>\n      <th>25</th>\n      <td>Mississippi</td>\n      <td>2858029</td>\n      <td>2849100</td>\n    </tr>\n    <tr>\n      <th>26</th>\n      <td>Missouri</td>\n      <td>5629707</td>\n      <td>5603553</td>\n    </tr>\n    <tr>\n      <th>27</th>\n      <td>Montana</td>\n      <td>904433</td>\n      <td>903157</td>\n    </tr>\n    <tr>\n      <th>28</th>\n      <td>Nebraska</td>\n      <td>1713235</td>\n      <td>1712577</td>\n    </tr>\n    <tr>\n      <th>29</th>\n      <td>Nevada</td>\n      <td>2106074</td>\n      <td>2018723</td>\n    </tr>\n    <tr>\n      <th>30</th>\n      <td>New Hampshire</td>\n      <td>1259181</td>\n      <td>1239881</td>\n    </tr>\n    <tr>\n      <th>31</th>\n      <td>New Jersey</td>\n      <td>8484431</td>\n      <td>8429007</td>\n    </tr>\n    <tr>\n      <th>32</th>\n      <td>New Mexico</td>\n      <td>1829146</td>\n      <td>1821282</td>\n    </tr>\n    <tr>\n      <th>33</th>\n      <td>New York</td>\n      <td>19011378</td>\n      <td>18989332</td>\n    </tr>\n    <tr>\n      <th>34</th>\n      <td>North Carolina</td>\n      <td>8186268</td>\n      <td>8077367</td>\n    </tr>\n    <tr>\n      <th>35</th>\n      <td>North Dakota</td>\n      <td>634448</td>\n      <td>640919</td>\n    </tr>\n    <tr>\n      <th>36</th>\n      <td>Ohio</td>\n      <td>11373541</td>\n      <td>11359955</td>\n    </tr>\n    <tr>\n      <th>37</th>\n      <td>Oklahoma</td>\n      <td>3460097</td>\n      <td>3453250</td>\n    </tr>\n    <tr>\n      <th>38</th>\n      <td>Oregon</td>\n      <td>3472867</td>\n      <td>3429293</td>\n    </tr>\n    <tr>\n      <th>39</th>\n      <td>Pennsylvania</td>\n      <td>12287150</td>\n      <td>12282591</td>\n    </tr>\n    <tr>\n      <th>40</th>\n      <td>Rhode Island</td>\n      <td>1058920</td>\n      <td>1050236</td>\n    </tr>\n    <tr>\n      <th>41</th>\n      <td>South Carolina</td>\n      <td>4063011</td>\n      <td>4023438</td>\n    </tr>\n    <tr>\n      <th>42</th>\n      <td>South Dakota</td>\n      <td>756600</td>\n      <td>755509</td>\n    </tr>\n    <tr>\n      <th>43</th>\n      <td>Tennessee</td>\n      <td>5740021</td>\n      <td>5702027</td>\n    </tr>\n    <tr>\n      <th>44</th>\n      <td>Texas</td>\n      <td>21325018</td>\n      <td>20946503</td>\n    </tr>\n    <tr>\n      <th>45</th>\n      <td>Utah</td>\n      <td>2269789</td>\n      <td>2241555</td>\n    </tr>\n    <tr>\n      <th>46</th>\n      <td>Vermont</td>\n      <td>613090</td>\n      <td>609709</td>\n    </tr>\n    <tr>\n      <th>47</th>\n      <td>Virginia</td>\n      <td>7187734</td>\n      <td>7104016</td>\n    </tr>\n    <tr>\n      <th>48</th>\n      <td>Washington</td>\n      <td>5987973</td>\n      <td>5908372</td>\n    </tr>\n    <tr>\n      <th>49</th>\n      <td>West Virginia</td>\n      <td>1801916</td>\n      <td>1807099</td>\n    </tr>\n    <tr>\n      <th>50</th>\n      <td>Wisconsin</td>\n      <td>5401906</td>\n      <td>5372243</td>\n    </tr>\n    <tr>\n      <th>51</th>\n      <td>Wyoming</td>\n      <td>494423</td>\n      <td>494001</td>\n    </tr>\n  </tbody>\n</table>\n</div>"
     },
     "execution_count": 244,
     "metadata": {},
     "output_type": "execute_result"
    }
   ],
   "source": [
    "df"
   ],
   "metadata": {
    "collapsed": false,
    "ExecuteTime": {
     "end_time": "2023-11-09T12:47:58.919372100Z",
     "start_time": "2023-11-09T12:47:58.801389300Z"
    }
   }
  },
  {
   "cell_type": "code",
   "execution_count": 245,
   "outputs": [
    {
     "data": {
      "text/plain": "                           2001       2000\nregion                                    \nUnited States         284796887  282124631\nAlabama                 4464356    4451493\nAlaska                   634892     627601\nArizona                 5307331    5165274\nArkansas                2692090    2678030\nCalifornia             34501130   34000446\nColorado                4417714    4323410\nConnecticut             3425074    3410079\nDelaware                 796165     786234\nDistrict of Columbia     571822     571066\nFlorida                16396515   16054328\nGeorgia                 8383915    8229823\nHawaii                  1224398    1212281\nIdaho                   1321006    1299258\nIllinois               12482301   12435970\nIndiana                 6114745    6089950\nIowa                    2923179    2927509\nKansas                  2694641    2691750\nKentucky                4065556    4047424\nLouisiana               4465430    4469970\nMaine                   1286670    1276961\nMaryland                5375156    5310908\nMassachusetts           6379304    6357072\nMichigan                9990817    9952006\nMinnesota               4972294    4931093\nMississippi             2858029    2849100\nMissouri                5629707    5603553\nMontana                  904433     903157\nNebraska                1713235    1712577\nNevada                  2106074    2018723\nNew Hampshire           1259181    1239881\nNew Jersey              8484431    8429007\nNew Mexico              1829146    1821282\nNew York               19011378   18989332\nNorth Carolina          8186268    8077367\nNorth Dakota             634448     640919\nOhio                   11373541   11359955\nOklahoma                3460097    3453250\nOregon                  3472867    3429293\nPennsylvania           12287150   12282591\nRhode Island            1058920    1050236\nSouth Carolina          4063011    4023438\nSouth Dakota             756600     755509\nTennessee               5740021    5702027\nTexas                  21325018   20946503\nUtah                    2269789    2241555\nVermont                  613090     609709\nVirginia                7187734    7104016\nWashington              5987973    5908372\nWest Virginia           1801916    1807099\nWisconsin               5401906    5372243\nWyoming                  494423     494001",
      "text/html": "<div>\n<style scoped>\n    .dataframe tbody tr th:only-of-type {\n        vertical-align: middle;\n    }\n\n    .dataframe tbody tr th {\n        vertical-align: top;\n    }\n\n    .dataframe thead th {\n        text-align: right;\n    }\n</style>\n<table border=\"1\" class=\"dataframe\">\n  <thead>\n    <tr style=\"text-align: right;\">\n      <th></th>\n      <th>2001</th>\n      <th>2000</th>\n    </tr>\n    <tr>\n      <th>region</th>\n      <th></th>\n      <th></th>\n    </tr>\n  </thead>\n  <tbody>\n    <tr>\n      <th>United States</th>\n      <td>284796887</td>\n      <td>282124631</td>\n    </tr>\n    <tr>\n      <th>Alabama</th>\n      <td>4464356</td>\n      <td>4451493</td>\n    </tr>\n    <tr>\n      <th>Alaska</th>\n      <td>634892</td>\n      <td>627601</td>\n    </tr>\n    <tr>\n      <th>Arizona</th>\n      <td>5307331</td>\n      <td>5165274</td>\n    </tr>\n    <tr>\n      <th>Arkansas</th>\n      <td>2692090</td>\n      <td>2678030</td>\n    </tr>\n    <tr>\n      <th>California</th>\n      <td>34501130</td>\n      <td>34000446</td>\n    </tr>\n    <tr>\n      <th>Colorado</th>\n      <td>4417714</td>\n      <td>4323410</td>\n    </tr>\n    <tr>\n      <th>Connecticut</th>\n      <td>3425074</td>\n      <td>3410079</td>\n    </tr>\n    <tr>\n      <th>Delaware</th>\n      <td>796165</td>\n      <td>786234</td>\n    </tr>\n    <tr>\n      <th>District of Columbia</th>\n      <td>571822</td>\n      <td>571066</td>\n    </tr>\n    <tr>\n      <th>Florida</th>\n      <td>16396515</td>\n      <td>16054328</td>\n    </tr>\n    <tr>\n      <th>Georgia</th>\n      <td>8383915</td>\n      <td>8229823</td>\n    </tr>\n    <tr>\n      <th>Hawaii</th>\n      <td>1224398</td>\n      <td>1212281</td>\n    </tr>\n    <tr>\n      <th>Idaho</th>\n      <td>1321006</td>\n      <td>1299258</td>\n    </tr>\n    <tr>\n      <th>Illinois</th>\n      <td>12482301</td>\n      <td>12435970</td>\n    </tr>\n    <tr>\n      <th>Indiana</th>\n      <td>6114745</td>\n      <td>6089950</td>\n    </tr>\n    <tr>\n      <th>Iowa</th>\n      <td>2923179</td>\n      <td>2927509</td>\n    </tr>\n    <tr>\n      <th>Kansas</th>\n      <td>2694641</td>\n      <td>2691750</td>\n    </tr>\n    <tr>\n      <th>Kentucky</th>\n      <td>4065556</td>\n      <td>4047424</td>\n    </tr>\n    <tr>\n      <th>Louisiana</th>\n      <td>4465430</td>\n      <td>4469970</td>\n    </tr>\n    <tr>\n      <th>Maine</th>\n      <td>1286670</td>\n      <td>1276961</td>\n    </tr>\n    <tr>\n      <th>Maryland</th>\n      <td>5375156</td>\n      <td>5310908</td>\n    </tr>\n    <tr>\n      <th>Massachusetts</th>\n      <td>6379304</td>\n      <td>6357072</td>\n    </tr>\n    <tr>\n      <th>Michigan</th>\n      <td>9990817</td>\n      <td>9952006</td>\n    </tr>\n    <tr>\n      <th>Minnesota</th>\n      <td>4972294</td>\n      <td>4931093</td>\n    </tr>\n    <tr>\n      <th>Mississippi</th>\n      <td>2858029</td>\n      <td>2849100</td>\n    </tr>\n    <tr>\n      <th>Missouri</th>\n      <td>5629707</td>\n      <td>5603553</td>\n    </tr>\n    <tr>\n      <th>Montana</th>\n      <td>904433</td>\n      <td>903157</td>\n    </tr>\n    <tr>\n      <th>Nebraska</th>\n      <td>1713235</td>\n      <td>1712577</td>\n    </tr>\n    <tr>\n      <th>Nevada</th>\n      <td>2106074</td>\n      <td>2018723</td>\n    </tr>\n    <tr>\n      <th>New Hampshire</th>\n      <td>1259181</td>\n      <td>1239881</td>\n    </tr>\n    <tr>\n      <th>New Jersey</th>\n      <td>8484431</td>\n      <td>8429007</td>\n    </tr>\n    <tr>\n      <th>New Mexico</th>\n      <td>1829146</td>\n      <td>1821282</td>\n    </tr>\n    <tr>\n      <th>New York</th>\n      <td>19011378</td>\n      <td>18989332</td>\n    </tr>\n    <tr>\n      <th>North Carolina</th>\n      <td>8186268</td>\n      <td>8077367</td>\n    </tr>\n    <tr>\n      <th>North Dakota</th>\n      <td>634448</td>\n      <td>640919</td>\n    </tr>\n    <tr>\n      <th>Ohio</th>\n      <td>11373541</td>\n      <td>11359955</td>\n    </tr>\n    <tr>\n      <th>Oklahoma</th>\n      <td>3460097</td>\n      <td>3453250</td>\n    </tr>\n    <tr>\n      <th>Oregon</th>\n      <td>3472867</td>\n      <td>3429293</td>\n    </tr>\n    <tr>\n      <th>Pennsylvania</th>\n      <td>12287150</td>\n      <td>12282591</td>\n    </tr>\n    <tr>\n      <th>Rhode Island</th>\n      <td>1058920</td>\n      <td>1050236</td>\n    </tr>\n    <tr>\n      <th>South Carolina</th>\n      <td>4063011</td>\n      <td>4023438</td>\n    </tr>\n    <tr>\n      <th>South Dakota</th>\n      <td>756600</td>\n      <td>755509</td>\n    </tr>\n    <tr>\n      <th>Tennessee</th>\n      <td>5740021</td>\n      <td>5702027</td>\n    </tr>\n    <tr>\n      <th>Texas</th>\n      <td>21325018</td>\n      <td>20946503</td>\n    </tr>\n    <tr>\n      <th>Utah</th>\n      <td>2269789</td>\n      <td>2241555</td>\n    </tr>\n    <tr>\n      <th>Vermont</th>\n      <td>613090</td>\n      <td>609709</td>\n    </tr>\n    <tr>\n      <th>Virginia</th>\n      <td>7187734</td>\n      <td>7104016</td>\n    </tr>\n    <tr>\n      <th>Washington</th>\n      <td>5987973</td>\n      <td>5908372</td>\n    </tr>\n    <tr>\n      <th>West Virginia</th>\n      <td>1801916</td>\n      <td>1807099</td>\n    </tr>\n    <tr>\n      <th>Wisconsin</th>\n      <td>5401906</td>\n      <td>5372243</td>\n    </tr>\n    <tr>\n      <th>Wyoming</th>\n      <td>494423</td>\n      <td>494001</td>\n    </tr>\n  </tbody>\n</table>\n</div>"
     },
     "execution_count": 245,
     "metadata": {},
     "output_type": "execute_result"
    }
   ],
   "source": [
    "df.set_index('region')"
   ],
   "metadata": {
    "collapsed": false,
    "ExecuteTime": {
     "end_time": "2023-11-09T12:48:52.787622700Z",
     "start_time": "2023-11-09T12:48:52.690589600Z"
    }
   }
  },
  {
   "cell_type": "code",
   "execution_count": 246,
   "outputs": [
    {
     "name": "stdout",
     "output_type": "stream",
     "text": [
      "<class 'pandas.core.frame.DataFrame'>\n",
      "RangeIndex: 52 entries, 0 to 51\n",
      "Data columns (total 3 columns):\n",
      " #   Column  Non-Null Count  Dtype \n",
      "---  ------  --------------  ----- \n",
      " 0   region  52 non-null     object\n",
      " 1   2001    52 non-null     int64 \n",
      " 2   2000    52 non-null     int64 \n",
      "dtypes: int64(2), object(1)\n",
      "memory usage: 1.3+ KB\n"
     ]
    }
   ],
   "source": [
    "df.info()"
   ],
   "metadata": {
    "collapsed": false,
    "ExecuteTime": {
     "end_time": "2023-11-09T12:49:16.434448900Z",
     "start_time": "2023-11-09T12:49:16.362408500Z"
    }
   }
  },
  {
   "cell_type": "code",
   "execution_count": 247,
   "outputs": [],
   "source": [
    "df = pd.read_csv(\n",
    "    'populations.csv',\n",
    "    header=0,\n",
    "    usecols=[0, 1, 2],\n",
    "    names=['region', '2001', '2000'],\n",
    "    index_col=0\n",
    ")"
   ],
   "metadata": {
    "collapsed": false,
    "ExecuteTime": {
     "end_time": "2023-11-09T12:51:28.394380400Z",
     "start_time": "2023-11-09T12:51:28.329921700Z"
    }
   }
  },
  {
   "cell_type": "code",
   "execution_count": 248,
   "outputs": [
    {
     "data": {
      "text/plain": "                           2001       2000\nregion                                    \nUnited States         284796887  282124631\nAlabama                 4464356    4451493\nAlaska                   634892     627601\nArizona                 5307331    5165274\nArkansas                2692090    2678030\nCalifornia             34501130   34000446\nColorado                4417714    4323410\nConnecticut             3425074    3410079\nDelaware                 796165     786234\nDistrict of Columbia     571822     571066\nFlorida                16396515   16054328\nGeorgia                 8383915    8229823\nHawaii                  1224398    1212281\nIdaho                   1321006    1299258\nIllinois               12482301   12435970\nIndiana                 6114745    6089950\nIowa                    2923179    2927509\nKansas                  2694641    2691750\nKentucky                4065556    4047424\nLouisiana               4465430    4469970\nMaine                   1286670    1276961\nMaryland                5375156    5310908\nMassachusetts           6379304    6357072\nMichigan                9990817    9952006\nMinnesota               4972294    4931093\nMississippi             2858029    2849100\nMissouri                5629707    5603553\nMontana                  904433     903157\nNebraska                1713235    1712577\nNevada                  2106074    2018723\nNew Hampshire           1259181    1239881\nNew Jersey              8484431    8429007\nNew Mexico              1829146    1821282\nNew York               19011378   18989332\nNorth Carolina          8186268    8077367\nNorth Dakota             634448     640919\nOhio                   11373541   11359955\nOklahoma                3460097    3453250\nOregon                  3472867    3429293\nPennsylvania           12287150   12282591\nRhode Island            1058920    1050236\nSouth Carolina          4063011    4023438\nSouth Dakota             756600     755509\nTennessee               5740021    5702027\nTexas                  21325018   20946503\nUtah                    2269789    2241555\nVermont                  613090     609709\nVirginia                7187734    7104016\nWashington              5987973    5908372\nWest Virginia           1801916    1807099\nWisconsin               5401906    5372243\nWyoming                  494423     494001",
      "text/html": "<div>\n<style scoped>\n    .dataframe tbody tr th:only-of-type {\n        vertical-align: middle;\n    }\n\n    .dataframe tbody tr th {\n        vertical-align: top;\n    }\n\n    .dataframe thead th {\n        text-align: right;\n    }\n</style>\n<table border=\"1\" class=\"dataframe\">\n  <thead>\n    <tr style=\"text-align: right;\">\n      <th></th>\n      <th>2001</th>\n      <th>2000</th>\n    </tr>\n    <tr>\n      <th>region</th>\n      <th></th>\n      <th></th>\n    </tr>\n  </thead>\n  <tbody>\n    <tr>\n      <th>United States</th>\n      <td>284796887</td>\n      <td>282124631</td>\n    </tr>\n    <tr>\n      <th>Alabama</th>\n      <td>4464356</td>\n      <td>4451493</td>\n    </tr>\n    <tr>\n      <th>Alaska</th>\n      <td>634892</td>\n      <td>627601</td>\n    </tr>\n    <tr>\n      <th>Arizona</th>\n      <td>5307331</td>\n      <td>5165274</td>\n    </tr>\n    <tr>\n      <th>Arkansas</th>\n      <td>2692090</td>\n      <td>2678030</td>\n    </tr>\n    <tr>\n      <th>California</th>\n      <td>34501130</td>\n      <td>34000446</td>\n    </tr>\n    <tr>\n      <th>Colorado</th>\n      <td>4417714</td>\n      <td>4323410</td>\n    </tr>\n    <tr>\n      <th>Connecticut</th>\n      <td>3425074</td>\n      <td>3410079</td>\n    </tr>\n    <tr>\n      <th>Delaware</th>\n      <td>796165</td>\n      <td>786234</td>\n    </tr>\n    <tr>\n      <th>District of Columbia</th>\n      <td>571822</td>\n      <td>571066</td>\n    </tr>\n    <tr>\n      <th>Florida</th>\n      <td>16396515</td>\n      <td>16054328</td>\n    </tr>\n    <tr>\n      <th>Georgia</th>\n      <td>8383915</td>\n      <td>8229823</td>\n    </tr>\n    <tr>\n      <th>Hawaii</th>\n      <td>1224398</td>\n      <td>1212281</td>\n    </tr>\n    <tr>\n      <th>Idaho</th>\n      <td>1321006</td>\n      <td>1299258</td>\n    </tr>\n    <tr>\n      <th>Illinois</th>\n      <td>12482301</td>\n      <td>12435970</td>\n    </tr>\n    <tr>\n      <th>Indiana</th>\n      <td>6114745</td>\n      <td>6089950</td>\n    </tr>\n    <tr>\n      <th>Iowa</th>\n      <td>2923179</td>\n      <td>2927509</td>\n    </tr>\n    <tr>\n      <th>Kansas</th>\n      <td>2694641</td>\n      <td>2691750</td>\n    </tr>\n    <tr>\n      <th>Kentucky</th>\n      <td>4065556</td>\n      <td>4047424</td>\n    </tr>\n    <tr>\n      <th>Louisiana</th>\n      <td>4465430</td>\n      <td>4469970</td>\n    </tr>\n    <tr>\n      <th>Maine</th>\n      <td>1286670</td>\n      <td>1276961</td>\n    </tr>\n    <tr>\n      <th>Maryland</th>\n      <td>5375156</td>\n      <td>5310908</td>\n    </tr>\n    <tr>\n      <th>Massachusetts</th>\n      <td>6379304</td>\n      <td>6357072</td>\n    </tr>\n    <tr>\n      <th>Michigan</th>\n      <td>9990817</td>\n      <td>9952006</td>\n    </tr>\n    <tr>\n      <th>Minnesota</th>\n      <td>4972294</td>\n      <td>4931093</td>\n    </tr>\n    <tr>\n      <th>Mississippi</th>\n      <td>2858029</td>\n      <td>2849100</td>\n    </tr>\n    <tr>\n      <th>Missouri</th>\n      <td>5629707</td>\n      <td>5603553</td>\n    </tr>\n    <tr>\n      <th>Montana</th>\n      <td>904433</td>\n      <td>903157</td>\n    </tr>\n    <tr>\n      <th>Nebraska</th>\n      <td>1713235</td>\n      <td>1712577</td>\n    </tr>\n    <tr>\n      <th>Nevada</th>\n      <td>2106074</td>\n      <td>2018723</td>\n    </tr>\n    <tr>\n      <th>New Hampshire</th>\n      <td>1259181</td>\n      <td>1239881</td>\n    </tr>\n    <tr>\n      <th>New Jersey</th>\n      <td>8484431</td>\n      <td>8429007</td>\n    </tr>\n    <tr>\n      <th>New Mexico</th>\n      <td>1829146</td>\n      <td>1821282</td>\n    </tr>\n    <tr>\n      <th>New York</th>\n      <td>19011378</td>\n      <td>18989332</td>\n    </tr>\n    <tr>\n      <th>North Carolina</th>\n      <td>8186268</td>\n      <td>8077367</td>\n    </tr>\n    <tr>\n      <th>North Dakota</th>\n      <td>634448</td>\n      <td>640919</td>\n    </tr>\n    <tr>\n      <th>Ohio</th>\n      <td>11373541</td>\n      <td>11359955</td>\n    </tr>\n    <tr>\n      <th>Oklahoma</th>\n      <td>3460097</td>\n      <td>3453250</td>\n    </tr>\n    <tr>\n      <th>Oregon</th>\n      <td>3472867</td>\n      <td>3429293</td>\n    </tr>\n    <tr>\n      <th>Pennsylvania</th>\n      <td>12287150</td>\n      <td>12282591</td>\n    </tr>\n    <tr>\n      <th>Rhode Island</th>\n      <td>1058920</td>\n      <td>1050236</td>\n    </tr>\n    <tr>\n      <th>South Carolina</th>\n      <td>4063011</td>\n      <td>4023438</td>\n    </tr>\n    <tr>\n      <th>South Dakota</th>\n      <td>756600</td>\n      <td>755509</td>\n    </tr>\n    <tr>\n      <th>Tennessee</th>\n      <td>5740021</td>\n      <td>5702027</td>\n    </tr>\n    <tr>\n      <th>Texas</th>\n      <td>21325018</td>\n      <td>20946503</td>\n    </tr>\n    <tr>\n      <th>Utah</th>\n      <td>2269789</td>\n      <td>2241555</td>\n    </tr>\n    <tr>\n      <th>Vermont</th>\n      <td>613090</td>\n      <td>609709</td>\n    </tr>\n    <tr>\n      <th>Virginia</th>\n      <td>7187734</td>\n      <td>7104016</td>\n    </tr>\n    <tr>\n      <th>Washington</th>\n      <td>5987973</td>\n      <td>5908372</td>\n    </tr>\n    <tr>\n      <th>West Virginia</th>\n      <td>1801916</td>\n      <td>1807099</td>\n    </tr>\n    <tr>\n      <th>Wisconsin</th>\n      <td>5401906</td>\n      <td>5372243</td>\n    </tr>\n    <tr>\n      <th>Wyoming</th>\n      <td>494423</td>\n      <td>494001</td>\n    </tr>\n  </tbody>\n</table>\n</div>"
     },
     "execution_count": 248,
     "metadata": {},
     "output_type": "execute_result"
    }
   ],
   "source": [
    "df"
   ],
   "metadata": {
    "collapsed": false,
    "ExecuteTime": {
     "end_time": "2023-11-09T12:51:35.266714800Z",
     "start_time": "2023-11-09T12:51:35.204713900Z"
    }
   }
  },
  {
   "cell_type": "code",
   "execution_count": 249,
   "outputs": [
    {
     "name": "stdout",
     "output_type": "stream",
     "text": [
      "<class 'pandas.core.frame.DataFrame'>\n",
      "Index: 52 entries, United States to Wyoming\n",
      "Data columns (total 2 columns):\n",
      " #   Column  Non-Null Count  Dtype\n",
      "---  ------  --------------  -----\n",
      " 0   2001    52 non-null     int64\n",
      " 1   2000    52 non-null     int64\n",
      "dtypes: int64(2)\n",
      "memory usage: 1.2+ KB\n"
     ]
    }
   ],
   "source": [
    "df.info()"
   ],
   "metadata": {
    "collapsed": false,
    "ExecuteTime": {
     "end_time": "2023-11-09T12:51:56.820296100Z",
     "start_time": "2023-11-09T12:51:56.716259900Z"
    }
   }
  },
  {
   "cell_type": "code",
   "execution_count": 252,
   "outputs": [
    {
     "data": {
      "text/plain": "region\nUnited States           284796887\nAlabama                   4464356\nAlaska                     634892\nArizona                   5307331\nArkansas                  2692090\nCalifornia               34501130\nColorado                  4417714\nConnecticut               3425074\nDelaware                   796165\nDistrict of Columbia       571822\nFlorida                  16396515\nGeorgia                   8383915\nHawaii                    1224398\nIdaho                     1321006\nIllinois                 12482301\nIndiana                   6114745\nIowa                      2923179\nKansas                    2694641\nKentucky                  4065556\nLouisiana                 4465430\nMaine                     1286670\nMaryland                  5375156\nMassachusetts             6379304\nMichigan                  9990817\nMinnesota                 4972294\nMississippi               2858029\nMissouri                  5629707\nMontana                    904433\nNebraska                  1713235\nNevada                    2106074\nNew Hampshire             1259181\nNew Jersey                8484431\nNew Mexico                1829146\nNew York                 19011378\nNorth Carolina            8186268\nNorth Dakota               634448\nOhio                     11373541\nOklahoma                  3460097\nOregon                    3472867\nPennsylvania             12287150\nRhode Island              1058920\nSouth Carolina            4063011\nSouth Dakota               756600\nTennessee                 5740021\nTexas                    21325018\nUtah                      2269789\nVermont                    613090\nVirginia                  7187734\nWashington                5987973\nWest Virginia             1801916\nWisconsin                 5401906\nWyoming                    494423\nName: 2001, dtype: int64"
     },
     "execution_count": 252,
     "metadata": {},
     "output_type": "execute_result"
    }
   ],
   "source": [
    "df.loc[:, '2001']"
   ],
   "metadata": {
    "collapsed": false,
    "ExecuteTime": {
     "end_time": "2023-11-09T12:53:42.776454700Z",
     "start_time": "2023-11-09T12:53:42.740696Z"
    }
   }
  },
  {
   "cell_type": "code",
   "execution_count": 253,
   "outputs": [
    {
     "data": {
      "text/plain": "region\nUnited States           284796887\nAlabama                   4464356\nAlaska                     634892\nArizona                   5307331\nArkansas                  2692090\nCalifornia               34501130\nColorado                  4417714\nConnecticut               3425074\nDelaware                   796165\nDistrict of Columbia       571822\nFlorida                  16396515\nGeorgia                   8383915\nHawaii                    1224398\nIdaho                     1321006\nIllinois                 12482301\nIndiana                   6114745\nIowa                      2923179\nKansas                    2694641\nKentucky                  4065556\nLouisiana                 4465430\nMaine                     1286670\nMaryland                  5375156\nMassachusetts             6379304\nMichigan                  9990817\nMinnesota                 4972294\nMississippi               2858029\nMissouri                  5629707\nMontana                    904433\nNebraska                  1713235\nNevada                    2106074\nNew Hampshire             1259181\nNew Jersey                8484431\nNew Mexico                1829146\nNew York                 19011378\nNorth Carolina            8186268\nNorth Dakota               634448\nOhio                     11373541\nOklahoma                  3460097\nOregon                    3472867\nPennsylvania             12287150\nRhode Island              1058920\nSouth Carolina            4063011\nSouth Dakota               756600\nTennessee                 5740021\nTexas                    21325018\nUtah                      2269789\nVermont                    613090\nVirginia                  7187734\nWashington                5987973\nWest Virginia             1801916\nWisconsin                 5401906\nWyoming                    494423\nName: 2001, dtype: int64"
     },
     "execution_count": 253,
     "metadata": {},
     "output_type": "execute_result"
    }
   ],
   "source": [
    "df['2001']"
   ],
   "metadata": {
    "collapsed": false,
    "ExecuteTime": {
     "end_time": "2023-11-09T12:54:13.762189700Z",
     "start_time": "2023-11-09T12:54:13.668156400Z"
    }
   }
  },
  {
   "cell_type": "code",
   "execution_count": 254,
   "outputs": [
    {
     "data": {
      "text/plain": "region\nUnited States           2672256\nAlabama                   12863\nAlaska                     7291\nArizona                  142057\nArkansas                  14060\nCalifornia               500684\nColorado                  94304\nConnecticut               14995\nDelaware                   9931\nDistrict of Columbia        756\nFlorida                  342187\nGeorgia                  154092\nHawaii                    12117\nIdaho                     21748\nIllinois                  46331\nIndiana                   24795\nIowa                      -4330\nKansas                     2891\nKentucky                  18132\nLouisiana                 -4540\nMaine                      9709\nMaryland                  64248\nMassachusetts             22232\nMichigan                  38811\nMinnesota                 41201\nMississippi                8929\nMissouri                  26154\nMontana                    1276\nNebraska                    658\nNevada                    87351\nNew Hampshire             19300\nNew Jersey                55424\nNew Mexico                 7864\nNew York                  22046\nNorth Carolina           108901\nNorth Dakota              -6471\nOhio                      13586\nOklahoma                   6847\nOregon                    43574\nPennsylvania               4559\nRhode Island               8684\nSouth Carolina            39573\nSouth Dakota               1091\nTennessee                 37994\nTexas                    378515\nUtah                      28234\nVermont                    3381\nVirginia                  83718\nWashington                79601\nWest Virginia             -5183\nWisconsin                 29663\nWyoming                     422\ndtype: int64"
     },
     "execution_count": 254,
     "metadata": {},
     "output_type": "execute_result"
    }
   ],
   "source": [
    "df['2001'] - df['2000']"
   ],
   "metadata": {
    "collapsed": false,
    "ExecuteTime": {
     "end_time": "2023-11-09T12:54:54.796524500Z",
     "start_time": "2023-11-09T12:54:54.700517600Z"
    }
   }
  },
  {
   "cell_type": "code",
   "execution_count": 255,
   "outputs": [
    {
     "data": {
      "text/plain": "region\nUnited States           0.947190\nAlabama                 0.288959\nAlaska                  1.161725\nArizona                 2.750232\nArkansas                0.525013\nCalifornia              1.472581\nColorado                2.181241\nConnecticut             0.439726\nDelaware                1.263110\nDistrict of Columbia    0.132384\nFlorida                 2.131431\nGeorgia                 1.872361\nHawaii                  0.999521\nIdaho                   1.673878\nIllinois                0.372556\nIndiana                 0.407146\nIowa                   -0.147907\nKansas                  0.107402\nKentucky                0.447989\nLouisiana              -0.101567\nMaine                   0.760321\nMaryland                1.209737\nMassachusetts           0.349721\nMichigan                0.389982\nMinnesota               0.835535\nMississippi             0.313397\nMissouri                0.466740\nMontana                 0.141282\nNebraska                0.038422\nNevada                  4.327042\nNew Hampshire           1.556601\nNew Jersey              0.657539\nNew Mexico              0.431784\nNew York                0.116097\nNorth Carolina          1.348224\nNorth Dakota           -1.009644\nOhio                    0.119596\nOklahoma                0.198277\nOregon                  1.270641\nPennsylvania            0.037118\nRhode Island            0.826862\nSouth Carolina          0.983562\nSouth Dakota            0.144406\nTennessee               0.666324\nTexas                   1.807056\nUtah                    1.259572\nVermont                 0.554527\nVirginia                1.178460\nWashington              1.347258\nWest Virginia          -0.286813\nWisconsin               0.552153\nWyoming                 0.085425\ndtype: float64"
     },
     "execution_count": 255,
     "metadata": {},
     "output_type": "execute_result"
    }
   ],
   "source": [
    "increase = 100 * (df['2001'] - df['2000']) / df['2000']\n",
    "increase"
   ],
   "metadata": {
    "collapsed": false,
    "ExecuteTime": {
     "end_time": "2023-11-09T12:56:24.557025100Z",
     "start_time": "2023-11-09T12:56:24.460043600Z"
    }
   }
  },
  {
   "cell_type": "code",
   "execution_count": 258,
   "outputs": [
    {
     "data": {
      "text/plain": "         Geographic Area  July 1, 2001 Estimate  July 1, 2000 Estimate  \\\n0          United States              284796887              282124631   \n1                Alabama                4464356                4451493   \n2                 Alaska                 634892                 627601   \n3                Arizona                5307331                5165274   \n4               Arkansas                2692090                2678030   \n5             California               34501130               34000446   \n6               Colorado                4417714                4323410   \n7            Connecticut                3425074                3410079   \n8               Delaware                 796165                 786234   \n9   District of Columbia                 571822                 571066   \n10               Florida               16396515               16054328   \n11               Georgia                8383915                8229823   \n12                Hawaii                1224398                1212281   \n13                 Idaho                1321006                1299258   \n14              Illinois               12482301               12435970   \n15               Indiana                6114745                6089950   \n16                  Iowa                2923179                2927509   \n17                Kansas                2694641                2691750   \n18              Kentucky                4065556                4047424   \n19             Louisiana                4465430                4469970   \n20                 Maine                1286670                1276961   \n21              Maryland                5375156                5310908   \n22         Massachusetts                6379304                6357072   \n23              Michigan                9990817                9952006   \n24             Minnesota                4972294                4931093   \n25           Mississippi                2858029                2849100   \n26              Missouri                5629707                5603553   \n27               Montana                 904433                 903157   \n28              Nebraska                1713235                1712577   \n29                Nevada                2106074                2018723   \n30         New Hampshire                1259181                1239881   \n31            New Jersey                8484431                8429007   \n32            New Mexico                1829146                1821282   \n33              New York               19011378               18989332   \n34        North Carolina                8186268                8077367   \n35          North Dakota                 634448                 640919   \n36                  Ohio               11373541               11359955   \n37              Oklahoma                3460097                3453250   \n38                Oregon                3472867                3429293   \n39          Pennsylvania               12287150               12282591   \n40          Rhode Island                1058920                1050236   \n41        South Carolina                4063011                4023438   \n42          South Dakota                 756600                 755509   \n43             Tennessee                5740021                5702027   \n44                 Texas               21325018               20946503   \n45                  Utah                2269789                2241555   \n46               Vermont                 613090                 609709   \n47              Virginia                7187734                7104016   \n48            Washington                5987973                5908372   \n49         West Virginia                1801916                1807099   \n50             Wisconsin                5401906                5372243   \n51               Wyoming                 494423                 494001   \n\n    April 1, 2000 Population Estimates Base  \n0                                 281421906  \n1                                   4447100  \n2                                    626932  \n3                                   5130632  \n4                                   2673400  \n5                                  33871648  \n6                                   4301261  \n7                                   3405565  \n8                                    783600  \n9                                    572059  \n10                                 15982378  \n11                                  8186453  \n12                                  1211537  \n13                                  1293953  \n14                                 12419293  \n15                                  6080485  \n16                                  2926324  \n17                                  2688418  \n18                                  4041769  \n19                                  4468976  \n20                                  1274923  \n21                                  5296486  \n22                                  6349097  \n23                                  9938444  \n24                                  4919479  \n25                                  2844658  \n26                                  5595211  \n27                                   902195  \n28                                  1711263  \n29                                  1998257  \n30                                  1235786  \n31                                  8414350  \n32                                  1819046  \n33                                 18976457  \n34                                  8049313  \n35                                   642200  \n36                                 11353140  \n37                                  3450654  \n38                                  3421399  \n39                                 12281054  \n40                                  1048319  \n41                                  4012012  \n42                                   754844  \n43                                  5689283  \n44                                 20851820  \n45                                  2233169  \n46                                   608827  \n47                                  7078515  \n48                                  5894121  \n49                                  1808344  \n50                                  5363675  \n51                                   493782  ",
      "text/html": "<div>\n<style scoped>\n    .dataframe tbody tr th:only-of-type {\n        vertical-align: middle;\n    }\n\n    .dataframe tbody tr th {\n        vertical-align: top;\n    }\n\n    .dataframe thead th {\n        text-align: right;\n    }\n</style>\n<table border=\"1\" class=\"dataframe\">\n  <thead>\n    <tr style=\"text-align: right;\">\n      <th></th>\n      <th>Geographic Area</th>\n      <th>July 1, 2001 Estimate</th>\n      <th>July 1, 2000 Estimate</th>\n      <th>April 1, 2000 Population Estimates Base</th>\n    </tr>\n  </thead>\n  <tbody>\n    <tr>\n      <th>0</th>\n      <td>United States</td>\n      <td>284796887</td>\n      <td>282124631</td>\n      <td>281421906</td>\n    </tr>\n    <tr>\n      <th>1</th>\n      <td>Alabama</td>\n      <td>4464356</td>\n      <td>4451493</td>\n      <td>4447100</td>\n    </tr>\n    <tr>\n      <th>2</th>\n      <td>Alaska</td>\n      <td>634892</td>\n      <td>627601</td>\n      <td>626932</td>\n    </tr>\n    <tr>\n      <th>3</th>\n      <td>Arizona</td>\n      <td>5307331</td>\n      <td>5165274</td>\n      <td>5130632</td>\n    </tr>\n    <tr>\n      <th>4</th>\n      <td>Arkansas</td>\n      <td>2692090</td>\n      <td>2678030</td>\n      <td>2673400</td>\n    </tr>\n    <tr>\n      <th>5</th>\n      <td>California</td>\n      <td>34501130</td>\n      <td>34000446</td>\n      <td>33871648</td>\n    </tr>\n    <tr>\n      <th>6</th>\n      <td>Colorado</td>\n      <td>4417714</td>\n      <td>4323410</td>\n      <td>4301261</td>\n    </tr>\n    <tr>\n      <th>7</th>\n      <td>Connecticut</td>\n      <td>3425074</td>\n      <td>3410079</td>\n      <td>3405565</td>\n    </tr>\n    <tr>\n      <th>8</th>\n      <td>Delaware</td>\n      <td>796165</td>\n      <td>786234</td>\n      <td>783600</td>\n    </tr>\n    <tr>\n      <th>9</th>\n      <td>District of Columbia</td>\n      <td>571822</td>\n      <td>571066</td>\n      <td>572059</td>\n    </tr>\n    <tr>\n      <th>10</th>\n      <td>Florida</td>\n      <td>16396515</td>\n      <td>16054328</td>\n      <td>15982378</td>\n    </tr>\n    <tr>\n      <th>11</th>\n      <td>Georgia</td>\n      <td>8383915</td>\n      <td>8229823</td>\n      <td>8186453</td>\n    </tr>\n    <tr>\n      <th>12</th>\n      <td>Hawaii</td>\n      <td>1224398</td>\n      <td>1212281</td>\n      <td>1211537</td>\n    </tr>\n    <tr>\n      <th>13</th>\n      <td>Idaho</td>\n      <td>1321006</td>\n      <td>1299258</td>\n      <td>1293953</td>\n    </tr>\n    <tr>\n      <th>14</th>\n      <td>Illinois</td>\n      <td>12482301</td>\n      <td>12435970</td>\n      <td>12419293</td>\n    </tr>\n    <tr>\n      <th>15</th>\n      <td>Indiana</td>\n      <td>6114745</td>\n      <td>6089950</td>\n      <td>6080485</td>\n    </tr>\n    <tr>\n      <th>16</th>\n      <td>Iowa</td>\n      <td>2923179</td>\n      <td>2927509</td>\n      <td>2926324</td>\n    </tr>\n    <tr>\n      <th>17</th>\n      <td>Kansas</td>\n      <td>2694641</td>\n      <td>2691750</td>\n      <td>2688418</td>\n    </tr>\n    <tr>\n      <th>18</th>\n      <td>Kentucky</td>\n      <td>4065556</td>\n      <td>4047424</td>\n      <td>4041769</td>\n    </tr>\n    <tr>\n      <th>19</th>\n      <td>Louisiana</td>\n      <td>4465430</td>\n      <td>4469970</td>\n      <td>4468976</td>\n    </tr>\n    <tr>\n      <th>20</th>\n      <td>Maine</td>\n      <td>1286670</td>\n      <td>1276961</td>\n      <td>1274923</td>\n    </tr>\n    <tr>\n      <th>21</th>\n      <td>Maryland</td>\n      <td>5375156</td>\n      <td>5310908</td>\n      <td>5296486</td>\n    </tr>\n    <tr>\n      <th>22</th>\n      <td>Massachusetts</td>\n      <td>6379304</td>\n      <td>6357072</td>\n      <td>6349097</td>\n    </tr>\n    <tr>\n      <th>23</th>\n      <td>Michigan</td>\n      <td>9990817</td>\n      <td>9952006</td>\n      <td>9938444</td>\n    </tr>\n    <tr>\n      <th>24</th>\n      <td>Minnesota</td>\n      <td>4972294</td>\n      <td>4931093</td>\n      <td>4919479</td>\n    </tr>\n    <tr>\n      <th>25</th>\n      <td>Mississippi</td>\n      <td>2858029</td>\n      <td>2849100</td>\n      <td>2844658</td>\n    </tr>\n    <tr>\n      <th>26</th>\n      <td>Missouri</td>\n      <td>5629707</td>\n      <td>5603553</td>\n      <td>5595211</td>\n    </tr>\n    <tr>\n      <th>27</th>\n      <td>Montana</td>\n      <td>904433</td>\n      <td>903157</td>\n      <td>902195</td>\n    </tr>\n    <tr>\n      <th>28</th>\n      <td>Nebraska</td>\n      <td>1713235</td>\n      <td>1712577</td>\n      <td>1711263</td>\n    </tr>\n    <tr>\n      <th>29</th>\n      <td>Nevada</td>\n      <td>2106074</td>\n      <td>2018723</td>\n      <td>1998257</td>\n    </tr>\n    <tr>\n      <th>30</th>\n      <td>New Hampshire</td>\n      <td>1259181</td>\n      <td>1239881</td>\n      <td>1235786</td>\n    </tr>\n    <tr>\n      <th>31</th>\n      <td>New Jersey</td>\n      <td>8484431</td>\n      <td>8429007</td>\n      <td>8414350</td>\n    </tr>\n    <tr>\n      <th>32</th>\n      <td>New Mexico</td>\n      <td>1829146</td>\n      <td>1821282</td>\n      <td>1819046</td>\n    </tr>\n    <tr>\n      <th>33</th>\n      <td>New York</td>\n      <td>19011378</td>\n      <td>18989332</td>\n      <td>18976457</td>\n    </tr>\n    <tr>\n      <th>34</th>\n      <td>North Carolina</td>\n      <td>8186268</td>\n      <td>8077367</td>\n      <td>8049313</td>\n    </tr>\n    <tr>\n      <th>35</th>\n      <td>North Dakota</td>\n      <td>634448</td>\n      <td>640919</td>\n      <td>642200</td>\n    </tr>\n    <tr>\n      <th>36</th>\n      <td>Ohio</td>\n      <td>11373541</td>\n      <td>11359955</td>\n      <td>11353140</td>\n    </tr>\n    <tr>\n      <th>37</th>\n      <td>Oklahoma</td>\n      <td>3460097</td>\n      <td>3453250</td>\n      <td>3450654</td>\n    </tr>\n    <tr>\n      <th>38</th>\n      <td>Oregon</td>\n      <td>3472867</td>\n      <td>3429293</td>\n      <td>3421399</td>\n    </tr>\n    <tr>\n      <th>39</th>\n      <td>Pennsylvania</td>\n      <td>12287150</td>\n      <td>12282591</td>\n      <td>12281054</td>\n    </tr>\n    <tr>\n      <th>40</th>\n      <td>Rhode Island</td>\n      <td>1058920</td>\n      <td>1050236</td>\n      <td>1048319</td>\n    </tr>\n    <tr>\n      <th>41</th>\n      <td>South Carolina</td>\n      <td>4063011</td>\n      <td>4023438</td>\n      <td>4012012</td>\n    </tr>\n    <tr>\n      <th>42</th>\n      <td>South Dakota</td>\n      <td>756600</td>\n      <td>755509</td>\n      <td>754844</td>\n    </tr>\n    <tr>\n      <th>43</th>\n      <td>Tennessee</td>\n      <td>5740021</td>\n      <td>5702027</td>\n      <td>5689283</td>\n    </tr>\n    <tr>\n      <th>44</th>\n      <td>Texas</td>\n      <td>21325018</td>\n      <td>20946503</td>\n      <td>20851820</td>\n    </tr>\n    <tr>\n      <th>45</th>\n      <td>Utah</td>\n      <td>2269789</td>\n      <td>2241555</td>\n      <td>2233169</td>\n    </tr>\n    <tr>\n      <th>46</th>\n      <td>Vermont</td>\n      <td>613090</td>\n      <td>609709</td>\n      <td>608827</td>\n    </tr>\n    <tr>\n      <th>47</th>\n      <td>Virginia</td>\n      <td>7187734</td>\n      <td>7104016</td>\n      <td>7078515</td>\n    </tr>\n    <tr>\n      <th>48</th>\n      <td>Washington</td>\n      <td>5987973</td>\n      <td>5908372</td>\n      <td>5894121</td>\n    </tr>\n    <tr>\n      <th>49</th>\n      <td>West Virginia</td>\n      <td>1801916</td>\n      <td>1807099</td>\n      <td>1808344</td>\n    </tr>\n    <tr>\n      <th>50</th>\n      <td>Wisconsin</td>\n      <td>5401906</td>\n      <td>5372243</td>\n      <td>5363675</td>\n    </tr>\n    <tr>\n      <th>51</th>\n      <td>Wyoming</td>\n      <td>494423</td>\n      <td>494001</td>\n      <td>493782</td>\n    </tr>\n  </tbody>\n</table>\n</div>"
     },
     "execution_count": 258,
     "metadata": {},
     "output_type": "execute_result"
    }
   ],
   "source": [
    "df = pd.read_excel('populations.xls', sheet_name='data')\n",
    "df"
   ],
   "metadata": {
    "collapsed": false,
    "ExecuteTime": {
     "end_time": "2023-11-09T12:59:23.895311400Z",
     "start_time": "2023-11-09T12:59:23.849002600Z"
    }
   }
  },
  {
   "cell_type": "code",
   "execution_count": 259,
   "outputs": [
    {
     "data": {
      "text/plain": "                           2001       2000\nregion                                    \nUnited States         284796887  282124631\nAlabama                 4464356    4451493\nAlaska                   634892     627601\nArizona                 5307331    5165274\nArkansas                2692090    2678030\nCalifornia             34501130   34000446\nColorado                4417714    4323410\nConnecticut             3425074    3410079\nDelaware                 796165     786234\nDistrict of Columbia     571822     571066\nFlorida                16396515   16054328\nGeorgia                 8383915    8229823\nHawaii                  1224398    1212281\nIdaho                   1321006    1299258\nIllinois               12482301   12435970\nIndiana                 6114745    6089950\nIowa                    2923179    2927509\nKansas                  2694641    2691750\nKentucky                4065556    4047424\nLouisiana               4465430    4469970\nMaine                   1286670    1276961\nMaryland                5375156    5310908\nMassachusetts           6379304    6357072\nMichigan                9990817    9952006\nMinnesota               4972294    4931093\nMississippi             2858029    2849100\nMissouri                5629707    5603553\nMontana                  904433     903157\nNebraska                1713235    1712577\nNevada                  2106074    2018723\nNew Hampshire           1259181    1239881\nNew Jersey              8484431    8429007\nNew Mexico              1829146    1821282\nNew York               19011378   18989332\nNorth Carolina          8186268    8077367\nNorth Dakota             634448     640919\nOhio                   11373541   11359955\nOklahoma                3460097    3453250\nOregon                  3472867    3429293\nPennsylvania           12287150   12282591\nRhode Island            1058920    1050236\nSouth Carolina          4063011    4023438\nSouth Dakota             756600     755509\nTennessee               5740021    5702027\nTexas                  21325018   20946503\nUtah                    2269789    2241555\nVermont                  613090     609709\nVirginia                7187734    7104016\nWashington              5987973    5908372\nWest Virginia           1801916    1807099\nWisconsin               5401906    5372243\nWyoming                  494423     494001",
      "text/html": "<div>\n<style scoped>\n    .dataframe tbody tr th:only-of-type {\n        vertical-align: middle;\n    }\n\n    .dataframe tbody tr th {\n        vertical-align: top;\n    }\n\n    .dataframe thead th {\n        text-align: right;\n    }\n</style>\n<table border=\"1\" class=\"dataframe\">\n  <thead>\n    <tr style=\"text-align: right;\">\n      <th></th>\n      <th>2001</th>\n      <th>2000</th>\n    </tr>\n    <tr>\n      <th>region</th>\n      <th></th>\n      <th></th>\n    </tr>\n  </thead>\n  <tbody>\n    <tr>\n      <th>United States</th>\n      <td>284796887</td>\n      <td>282124631</td>\n    </tr>\n    <tr>\n      <th>Alabama</th>\n      <td>4464356</td>\n      <td>4451493</td>\n    </tr>\n    <tr>\n      <th>Alaska</th>\n      <td>634892</td>\n      <td>627601</td>\n    </tr>\n    <tr>\n      <th>Arizona</th>\n      <td>5307331</td>\n      <td>5165274</td>\n    </tr>\n    <tr>\n      <th>Arkansas</th>\n      <td>2692090</td>\n      <td>2678030</td>\n    </tr>\n    <tr>\n      <th>California</th>\n      <td>34501130</td>\n      <td>34000446</td>\n    </tr>\n    <tr>\n      <th>Colorado</th>\n      <td>4417714</td>\n      <td>4323410</td>\n    </tr>\n    <tr>\n      <th>Connecticut</th>\n      <td>3425074</td>\n      <td>3410079</td>\n    </tr>\n    <tr>\n      <th>Delaware</th>\n      <td>796165</td>\n      <td>786234</td>\n    </tr>\n    <tr>\n      <th>District of Columbia</th>\n      <td>571822</td>\n      <td>571066</td>\n    </tr>\n    <tr>\n      <th>Florida</th>\n      <td>16396515</td>\n      <td>16054328</td>\n    </tr>\n    <tr>\n      <th>Georgia</th>\n      <td>8383915</td>\n      <td>8229823</td>\n    </tr>\n    <tr>\n      <th>Hawaii</th>\n      <td>1224398</td>\n      <td>1212281</td>\n    </tr>\n    <tr>\n      <th>Idaho</th>\n      <td>1321006</td>\n      <td>1299258</td>\n    </tr>\n    <tr>\n      <th>Illinois</th>\n      <td>12482301</td>\n      <td>12435970</td>\n    </tr>\n    <tr>\n      <th>Indiana</th>\n      <td>6114745</td>\n      <td>6089950</td>\n    </tr>\n    <tr>\n      <th>Iowa</th>\n      <td>2923179</td>\n      <td>2927509</td>\n    </tr>\n    <tr>\n      <th>Kansas</th>\n      <td>2694641</td>\n      <td>2691750</td>\n    </tr>\n    <tr>\n      <th>Kentucky</th>\n      <td>4065556</td>\n      <td>4047424</td>\n    </tr>\n    <tr>\n      <th>Louisiana</th>\n      <td>4465430</td>\n      <td>4469970</td>\n    </tr>\n    <tr>\n      <th>Maine</th>\n      <td>1286670</td>\n      <td>1276961</td>\n    </tr>\n    <tr>\n      <th>Maryland</th>\n      <td>5375156</td>\n      <td>5310908</td>\n    </tr>\n    <tr>\n      <th>Massachusetts</th>\n      <td>6379304</td>\n      <td>6357072</td>\n    </tr>\n    <tr>\n      <th>Michigan</th>\n      <td>9990817</td>\n      <td>9952006</td>\n    </tr>\n    <tr>\n      <th>Minnesota</th>\n      <td>4972294</td>\n      <td>4931093</td>\n    </tr>\n    <tr>\n      <th>Mississippi</th>\n      <td>2858029</td>\n      <td>2849100</td>\n    </tr>\n    <tr>\n      <th>Missouri</th>\n      <td>5629707</td>\n      <td>5603553</td>\n    </tr>\n    <tr>\n      <th>Montana</th>\n      <td>904433</td>\n      <td>903157</td>\n    </tr>\n    <tr>\n      <th>Nebraska</th>\n      <td>1713235</td>\n      <td>1712577</td>\n    </tr>\n    <tr>\n      <th>Nevada</th>\n      <td>2106074</td>\n      <td>2018723</td>\n    </tr>\n    <tr>\n      <th>New Hampshire</th>\n      <td>1259181</td>\n      <td>1239881</td>\n    </tr>\n    <tr>\n      <th>New Jersey</th>\n      <td>8484431</td>\n      <td>8429007</td>\n    </tr>\n    <tr>\n      <th>New Mexico</th>\n      <td>1829146</td>\n      <td>1821282</td>\n    </tr>\n    <tr>\n      <th>New York</th>\n      <td>19011378</td>\n      <td>18989332</td>\n    </tr>\n    <tr>\n      <th>North Carolina</th>\n      <td>8186268</td>\n      <td>8077367</td>\n    </tr>\n    <tr>\n      <th>North Dakota</th>\n      <td>634448</td>\n      <td>640919</td>\n    </tr>\n    <tr>\n      <th>Ohio</th>\n      <td>11373541</td>\n      <td>11359955</td>\n    </tr>\n    <tr>\n      <th>Oklahoma</th>\n      <td>3460097</td>\n      <td>3453250</td>\n    </tr>\n    <tr>\n      <th>Oregon</th>\n      <td>3472867</td>\n      <td>3429293</td>\n    </tr>\n    <tr>\n      <th>Pennsylvania</th>\n      <td>12287150</td>\n      <td>12282591</td>\n    </tr>\n    <tr>\n      <th>Rhode Island</th>\n      <td>1058920</td>\n      <td>1050236</td>\n    </tr>\n    <tr>\n      <th>South Carolina</th>\n      <td>4063011</td>\n      <td>4023438</td>\n    </tr>\n    <tr>\n      <th>South Dakota</th>\n      <td>756600</td>\n      <td>755509</td>\n    </tr>\n    <tr>\n      <th>Tennessee</th>\n      <td>5740021</td>\n      <td>5702027</td>\n    </tr>\n    <tr>\n      <th>Texas</th>\n      <td>21325018</td>\n      <td>20946503</td>\n    </tr>\n    <tr>\n      <th>Utah</th>\n      <td>2269789</td>\n      <td>2241555</td>\n    </tr>\n    <tr>\n      <th>Vermont</th>\n      <td>613090</td>\n      <td>609709</td>\n    </tr>\n    <tr>\n      <th>Virginia</th>\n      <td>7187734</td>\n      <td>7104016</td>\n    </tr>\n    <tr>\n      <th>Washington</th>\n      <td>5987973</td>\n      <td>5908372</td>\n    </tr>\n    <tr>\n      <th>West Virginia</th>\n      <td>1801916</td>\n      <td>1807099</td>\n    </tr>\n    <tr>\n      <th>Wisconsin</th>\n      <td>5401906</td>\n      <td>5372243</td>\n    </tr>\n    <tr>\n      <th>Wyoming</th>\n      <td>494423</td>\n      <td>494001</td>\n    </tr>\n  </tbody>\n</table>\n</div>"
     },
     "execution_count": 259,
     "metadata": {},
     "output_type": "execute_result"
    }
   ],
   "source": [
    "df = pd.read_excel(\n",
    "    'populations.xls',\n",
    "    header=0,\n",
    "    names=['region', '2001', '2000'],\n",
    "    usecols=[0, 1, 2],\n",
    "    index_col=0\n",
    ")\n",
    "df"
   ],
   "metadata": {
    "collapsed": false,
    "ExecuteTime": {
     "end_time": "2023-11-09T13:01:31.008170800Z",
     "start_time": "2023-11-09T13:01:30.877187100Z"
    }
   }
  },
  {
   "cell_type": "code",
   "execution_count": 260,
   "outputs": [
    {
     "name": "stdout",
     "output_type": "stream",
     "text": [
      "<class 'pandas.core.frame.DataFrame'>\n",
      "Index: 52 entries, United States to Wyoming\n",
      "Data columns (total 2 columns):\n",
      " #   Column  Non-Null Count  Dtype\n",
      "---  ------  --------------  -----\n",
      " 0   2001    52 non-null     int64\n",
      " 1   2000    52 non-null     int64\n",
      "dtypes: int64(2)\n",
      "memory usage: 1.2+ KB\n"
     ]
    }
   ],
   "source": [
    "df.info()"
   ],
   "metadata": {
    "collapsed": false,
    "ExecuteTime": {
     "end_time": "2023-11-09T13:02:13.321333400Z",
     "start_time": "2023-11-09T13:02:13.237331200Z"
    }
   }
  },
  {
   "cell_type": "code",
   "execution_count": 261,
   "outputs": [],
   "source": [
    "f_path = 'Morningstar - European Mutual Funds.csv'\n",
    "df = pd.read_csv(f_path)"
   ],
   "metadata": {
    "collapsed": false,
    "ExecuteTime": {
     "end_time": "2023-11-09T13:08:06.772615300Z",
     "start_time": "2023-11-09T13:08:05.249571400Z"
    }
   }
  },
  {
   "cell_type": "code",
   "execution_count": 262,
   "outputs": [
    {
     "data": {
      "text/plain": "(49399, 111)"
     },
     "execution_count": 262,
     "metadata": {},
     "output_type": "execute_result"
    }
   ],
   "source": [
    "df.shape"
   ],
   "metadata": {
    "collapsed": false,
    "ExecuteTime": {
     "end_time": "2023-11-09T13:08:20.335015100Z",
     "start_time": "2023-11-09T13:08:20.203009900Z"
    }
   }
  },
  {
   "cell_type": "code",
   "execution_count": 263,
   "outputs": [
    {
     "data": {
      "text/plain": "       ticker          isin  \\\n0  0P00000AWF  LU0171281750   \n1  0P00000AYI  LU0071969892   \n2  0P00000BOW  LU0011983433   \n3  0P00000ESH  LU0757425763   \n4  0P00000ESL  LU0011818076   \n\n                                           fund_name  \\\n0    BlackRock Global Funds - European Value Fund A2   \n1  BlackRock Global Funds - Continental European ...   \n2  Morgan Stanley Investment Funds - Global Bond ...   \n3  Threadneedle (Lux) - American Select Class AU ...   \n4  HSBC Global Investment Funds - Economic Scale ...   \n\n            morningstar_category  morningstar_rating  \\\n0  Europe Large-Cap Value Equity                 3.0   \n1  Europe ex-UK Large-Cap Equity                 4.0   \n2                    Global Bond                 5.0   \n3     US Large-Cap Growth Equity                 2.0   \n4         Japan Large-Cap Equity                 3.0   \n\n  morningstar_analyst_rating  morningstar_risk_rating  \\\n0                     Bronze                      3.0   \n1                     Bronze                      4.0   \n2                        NaN                      3.0   \n3                        NaN                      3.0   \n4                        NaN                      2.0   \n\n   morningstar_performance_rating nav_per_share_currency  nav_per_share  ...  \\\n0                             3.0                    USD          68.96  ...   \n1                             5.0                    GBP          22.51  ...   \n2                             5.0                    EUR          44.20  ...   \n3                             2.0                    EUR          23.03  ...   \n4                             3.0                    USD          11.44  ...   \n\n  involvement_controversial_weapons  involvement_gambling involvement_gmo  \\\n0                              2.70                  0.00            0.00   \n1                              9.19                  0.00            0.00   \n2                              0.00                  0.24            0.16   \n3                              0.00                  0.00            0.00   \n4                              0.00                  0.18            0.00   \n\n   involvement_military_contracting  involvement_nuclear  \\\n0                              5.05                 6.54   \n1                             10.93                 1.98   \n2                              0.00                 0.38   \n3                              0.26                 0.26   \n4                              0.79                 5.30   \n\n   involvement_palm_oil  involvement_pesticides  involvement_small_arms  \\\n0                   0.0                    0.00                    0.00   \n1                   0.0                    0.00                    0.00   \n2                   0.0                    0.35                    0.00   \n3                   0.0                    0.00                    0.00   \n4                   0.0                    0.42                    0.15   \n\n   involvement_thermal_coal  involvement_tobacco  \n0                     12.32                 0.00  \n1                      1.98                 0.00  \n2                      1.67                 0.29  \n3                      8.06                 0.00  \n4                      9.22                 2.34  \n\n[5 rows x 111 columns]",
      "text/html": "<div>\n<style scoped>\n    .dataframe tbody tr th:only-of-type {\n        vertical-align: middle;\n    }\n\n    .dataframe tbody tr th {\n        vertical-align: top;\n    }\n\n    .dataframe thead th {\n        text-align: right;\n    }\n</style>\n<table border=\"1\" class=\"dataframe\">\n  <thead>\n    <tr style=\"text-align: right;\">\n      <th></th>\n      <th>ticker</th>\n      <th>isin</th>\n      <th>fund_name</th>\n      <th>morningstar_category</th>\n      <th>morningstar_rating</th>\n      <th>morningstar_analyst_rating</th>\n      <th>morningstar_risk_rating</th>\n      <th>morningstar_performance_rating</th>\n      <th>nav_per_share_currency</th>\n      <th>nav_per_share</th>\n      <th>...</th>\n      <th>involvement_controversial_weapons</th>\n      <th>involvement_gambling</th>\n      <th>involvement_gmo</th>\n      <th>involvement_military_contracting</th>\n      <th>involvement_nuclear</th>\n      <th>involvement_palm_oil</th>\n      <th>involvement_pesticides</th>\n      <th>involvement_small_arms</th>\n      <th>involvement_thermal_coal</th>\n      <th>involvement_tobacco</th>\n    </tr>\n  </thead>\n  <tbody>\n    <tr>\n      <th>0</th>\n      <td>0P00000AWF</td>\n      <td>LU0171281750</td>\n      <td>BlackRock Global Funds - European Value Fund A2</td>\n      <td>Europe Large-Cap Value Equity</td>\n      <td>3.0</td>\n      <td>Bronze</td>\n      <td>3.0</td>\n      <td>3.0</td>\n      <td>USD</td>\n      <td>68.96</td>\n      <td>...</td>\n      <td>2.70</td>\n      <td>0.00</td>\n      <td>0.00</td>\n      <td>5.05</td>\n      <td>6.54</td>\n      <td>0.0</td>\n      <td>0.00</td>\n      <td>0.00</td>\n      <td>12.32</td>\n      <td>0.00</td>\n    </tr>\n    <tr>\n      <th>1</th>\n      <td>0P00000AYI</td>\n      <td>LU0071969892</td>\n      <td>BlackRock Global Funds - Continental European ...</td>\n      <td>Europe ex-UK Large-Cap Equity</td>\n      <td>4.0</td>\n      <td>Bronze</td>\n      <td>4.0</td>\n      <td>5.0</td>\n      <td>GBP</td>\n      <td>22.51</td>\n      <td>...</td>\n      <td>9.19</td>\n      <td>0.00</td>\n      <td>0.00</td>\n      <td>10.93</td>\n      <td>1.98</td>\n      <td>0.0</td>\n      <td>0.00</td>\n      <td>0.00</td>\n      <td>1.98</td>\n      <td>0.00</td>\n    </tr>\n    <tr>\n      <th>2</th>\n      <td>0P00000BOW</td>\n      <td>LU0011983433</td>\n      <td>Morgan Stanley Investment Funds - Global Bond ...</td>\n      <td>Global Bond</td>\n      <td>5.0</td>\n      <td>NaN</td>\n      <td>3.0</td>\n      <td>5.0</td>\n      <td>EUR</td>\n      <td>44.20</td>\n      <td>...</td>\n      <td>0.00</td>\n      <td>0.24</td>\n      <td>0.16</td>\n      <td>0.00</td>\n      <td>0.38</td>\n      <td>0.0</td>\n      <td>0.35</td>\n      <td>0.00</td>\n      <td>1.67</td>\n      <td>0.29</td>\n    </tr>\n    <tr>\n      <th>3</th>\n      <td>0P00000ESH</td>\n      <td>LU0757425763</td>\n      <td>Threadneedle (Lux) - American Select Class AU ...</td>\n      <td>US Large-Cap Growth Equity</td>\n      <td>2.0</td>\n      <td>NaN</td>\n      <td>3.0</td>\n      <td>2.0</td>\n      <td>EUR</td>\n      <td>23.03</td>\n      <td>...</td>\n      <td>0.00</td>\n      <td>0.00</td>\n      <td>0.00</td>\n      <td>0.26</td>\n      <td>0.26</td>\n      <td>0.0</td>\n      <td>0.00</td>\n      <td>0.00</td>\n      <td>8.06</td>\n      <td>0.00</td>\n    </tr>\n    <tr>\n      <th>4</th>\n      <td>0P00000ESL</td>\n      <td>LU0011818076</td>\n      <td>HSBC Global Investment Funds - Economic Scale ...</td>\n      <td>Japan Large-Cap Equity</td>\n      <td>3.0</td>\n      <td>NaN</td>\n      <td>2.0</td>\n      <td>3.0</td>\n      <td>USD</td>\n      <td>11.44</td>\n      <td>...</td>\n      <td>0.00</td>\n      <td>0.18</td>\n      <td>0.00</td>\n      <td>0.79</td>\n      <td>5.30</td>\n      <td>0.0</td>\n      <td>0.42</td>\n      <td>0.15</td>\n      <td>9.22</td>\n      <td>2.34</td>\n    </tr>\n  </tbody>\n</table>\n<p>5 rows × 111 columns</p>\n</div>"
     },
     "execution_count": 263,
     "metadata": {},
     "output_type": "execute_result"
    }
   ],
   "source": [
    "df.iloc[:5, :]"
   ],
   "metadata": {
    "collapsed": false,
    "ExecuteTime": {
     "end_time": "2023-11-09T13:08:51.474658Z",
     "start_time": "2023-11-09T13:08:51.371653Z"
    }
   }
  },
  {
   "cell_type": "code",
   "execution_count": 264,
   "outputs": [
    {
     "name": "stdout",
     "output_type": "stream",
     "text": [
      "<class 'pandas.core.frame.DataFrame'>\n",
      "RangeIndex: 49399 entries, 0 to 49398\n",
      "Columns: 111 entries, ticker to involvement_tobacco\n",
      "dtypes: float64(90), int64(2), object(19)\n",
      "memory usage: 41.8+ MB\n"
     ]
    }
   ],
   "source": [
    "df.info()"
   ],
   "metadata": {
    "collapsed": false,
    "ExecuteTime": {
     "end_time": "2023-11-09T13:09:36.162133700Z",
     "start_time": "2023-11-09T13:09:35.977132500Z"
    }
   }
  },
  {
   "cell_type": "code",
   "execution_count": 265,
   "outputs": [
    {
     "data": {
      "text/plain": "100"
     },
     "execution_count": 265,
     "metadata": {},
     "output_type": "execute_result"
    }
   ],
   "source": [
    "pd.options.display.max_info_columns"
   ],
   "metadata": {
    "collapsed": false,
    "ExecuteTime": {
     "end_time": "2023-11-09T13:10:56.899587700Z",
     "start_time": "2023-11-09T13:10:56.803615900Z"
    }
   }
  },
  {
   "cell_type": "code",
   "execution_count": 266,
   "outputs": [
    {
     "name": "stdout",
     "output_type": "stream",
     "text": [
      "<class 'pandas.core.frame.DataFrame'>\n",
      "RangeIndex: 49399 entries, 0 to 49398\n",
      "Data columns (total 111 columns):\n",
      " #    Column                               Dtype  \n",
      "---   ------                               -----  \n",
      " 0    ticker                               object \n",
      " 1    isin                                 object \n",
      " 2    fund_name                            object \n",
      " 3    morningstar_category                 object \n",
      " 4    morningstar_rating                   float64\n",
      " 5    morningstar_analyst_rating           object \n",
      " 6    morningstar_risk_rating              float64\n",
      " 7    morningstar_performance_rating       float64\n",
      " 8    nav_per_share_currency               object \n",
      " 9    nav_per_share                        float64\n",
      " 10   class_size_currency                  object \n",
      " 11   class_size                           int64  \n",
      " 12   fund_size_currency                   object \n",
      " 13   fund_size                            int64  \n",
      " 14   fund_return_ytd                      float64\n",
      " 15   fund_return_2018                     float64\n",
      " 16   fund_return_2017                     float64\n",
      " 17   fund_return_2016                     float64\n",
      " 18   fund_return_2015                     float64\n",
      " 19   fund_return_2014                     float64\n",
      " 20   fund_return_2013                     float64\n",
      " 21   fund_return_2012                     float64\n",
      " 22   fund_return_2011                     float64\n",
      " 23   fund_return_2010                     float64\n",
      " 24   investment_strategy                  object \n",
      " 25   trailing_return_3years               float64\n",
      " 26   trailing_return_5years               float64\n",
      " 27   trailing_return_10years              float64\n",
      " 28   trailing_return_since_inception      float64\n",
      " 29   dividend_frequency                   object \n",
      " 30   fund_benchmark                       object \n",
      " 31   morningstar_benchmark                object \n",
      " 32   equity_style                         object \n",
      " 33   equity_style_score                   float64\n",
      " 34   equity_size                          object \n",
      " 35   equity_size_score                    float64\n",
      " 36   price_prospective_earnings           float64\n",
      " 37   price_book                           float64\n",
      " 38   price_sales                          float64\n",
      " 39   price_cash_flow                      float64\n",
      " 40   dividend_yield_factor                float64\n",
      " 41   long_term_projected_earnings_growth  float64\n",
      " 42   historical_earnings_growth           float64\n",
      " 43   sales_growth                         float64\n",
      " 44   cash_flow_growth                     float64\n",
      " 45   book_value_growth                    float64\n",
      " 46   roa                                  float64\n",
      " 47   roe                                  float64\n",
      " 48   roic                                 float64\n",
      " 49   bond_interest_rate_sensitivity       object \n",
      " 50   bond_credit_quality                  object \n",
      " 51   average_coupon_rate                  float64\n",
      " 52   average_credit_quality               float64\n",
      " 53   modified_duration                    float64\n",
      " 54   effective_maturity                   float64\n",
      " 55   asset_stock                          float64\n",
      " 56   asset_bond                           float64\n",
      " 57   asset_cash                           float64\n",
      " 58   asset_other                          float64\n",
      " 59   country_exposure                     object \n",
      " 60   top5_regions                         object \n",
      " 61   sector_basic_materials               float64\n",
      " 62   sector_consumer_cyclical             float64\n",
      " 63   sector_financial_services            float64\n",
      " 64   sector_real_estate                   float64\n",
      " 65   sector_consumer_defensive            float64\n",
      " 66   sector_healthcare                    float64\n",
      " 67   sector_utilities                     float64\n",
      " 68   sector_communication_services        float64\n",
      " 69   sector_energy                        float64\n",
      " 70   sector_industrials                   float64\n",
      " 71   sector_technology                    float64\n",
      " 72   market_capitalization_giant          float64\n",
      " 73   market_capitalization_large          float64\n",
      " 74   market_capitalization_medium         float64\n",
      " 75   market_capitalization_small          float64\n",
      " 76   market_capitalization_micro          float64\n",
      " 77   credit_quality_aaa                   float64\n",
      " 78   credit_quality_aa                    float64\n",
      " 79   credit_quality_a                     float64\n",
      " 80   credit_quality_bbb                   float64\n",
      " 81   credit_quality_bb                    float64\n",
      " 82   credit_quality_b                     float64\n",
      " 83   credit_quality_below_b               float64\n",
      " 84   credit_quality_not_rated             float64\n",
      " 85   holdings_number_stock                float64\n",
      " 86   holdings_number_bonds                float64\n",
      " 87   top5_holdings                        object \n",
      " 88   ongoing_cost                         float64\n",
      " 89   management_fees                      float64\n",
      " 90   sustainability_rank                  float64\n",
      " 91   esg_score                            float64\n",
      " 92   environmental_score                  float64\n",
      " 93   social_score                         float64\n",
      " 94   governance_score                     float64\n",
      " 95   controversy_score                    float64\n",
      " 96   sustainability_score                 float64\n",
      " 97   sustainability_percentage_rank       float64\n",
      " 98   involvement_abortive_contraceptive   float64\n",
      " 99   involvement_alcohol                  float64\n",
      " 100  involvement_animal_testing           float64\n",
      " 101  involvement_controversial_weapons    float64\n",
      " 102  involvement_gambling                 float64\n",
      " 103  involvement_gmo                      float64\n",
      " 104  involvement_military_contracting     float64\n",
      " 105  involvement_nuclear                  float64\n",
      " 106  involvement_palm_oil                 float64\n",
      " 107  involvement_pesticides               float64\n",
      " 108  involvement_small_arms               float64\n",
      " 109  involvement_thermal_coal             float64\n",
      " 110  involvement_tobacco                  float64\n",
      "dtypes: float64(90), int64(2), object(19)\n",
      "memory usage: 41.8+ MB\n"
     ]
    }
   ],
   "source": [
    "df.info(verbose=True)"
   ],
   "metadata": {
    "collapsed": false,
    "ExecuteTime": {
     "end_time": "2023-11-09T13:11:09.145184900Z",
     "start_time": "2023-11-09T13:11:09.011149700Z"
    }
   }
  },
  {
   "cell_type": "code",
   "execution_count": 267,
   "outputs": [
    {
     "name": "stdout",
     "output_type": "stream",
     "text": [
      "<class 'pandas.core.frame.DataFrame'>\n",
      "RangeIndex: 49399 entries, 0 to 49398\n",
      "Data columns (total 111 columns):\n",
      " #    Column                               Non-Null Count  Dtype  \n",
      "---   ------                               --------------  -----  \n",
      " 0    ticker                               49399 non-null  object \n",
      " 1    isin                                 49399 non-null  object \n",
      " 2    fund_name                            49399 non-null  object \n",
      " 3    morningstar_category                 49399 non-null  object \n",
      " 4    morningstar_rating                   29076 non-null  float64\n",
      " 5    morningstar_analyst_rating           6899 non-null   object \n",
      " 6    morningstar_risk_rating              29076 non-null  float64\n",
      " 7    morningstar_performance_rating       29076 non-null  float64\n",
      " 8    nav_per_share_currency               49399 non-null  object \n",
      " 9    nav_per_share                        49399 non-null  float64\n",
      " 10   class_size_currency                  49399 non-null  object \n",
      " 11   class_size                           49399 non-null  int64  \n",
      " 12   fund_size_currency                   49399 non-null  object \n",
      " 13   fund_size                            49399 non-null  int64  \n",
      " 14   fund_return_ytd                      49389 non-null  float64\n",
      " 15   fund_return_2018                     41580 non-null  float64\n",
      " 16   fund_return_2017                     37970 non-null  float64\n",
      " 17   fund_return_2016                     34463 non-null  float64\n",
      " 18   fund_return_2015                     30890 non-null  float64\n",
      " 19   fund_return_2014                     26811 non-null  float64\n",
      " 20   fund_return_2013                     22940 non-null  float64\n",
      " 21   fund_return_2012                     19551 non-null  float64\n",
      " 22   fund_return_2011                     17048 non-null  float64\n",
      " 23   fund_return_2010                     14512 non-null  float64\n",
      " 24   investment_strategy                  48420 non-null  object \n",
      " 25   trailing_return_3years               37183 non-null  float64\n",
      " 26   trailing_return_5years               29815 non-null  float64\n",
      " 27   trailing_return_10years              92 non-null     float64\n",
      " 28   trailing_return_since_inception      46709 non-null  float64\n",
      " 29   dividend_frequency                   22567 non-null  object \n",
      " 30   fund_benchmark                       40471 non-null  object \n",
      " 31   morningstar_benchmark                36236 non-null  object \n",
      " 32   equity_style                         32399 non-null  object \n",
      " 33   equity_style_score                   32399 non-null  float64\n",
      " 34   equity_size                          32399 non-null  object \n",
      " 35   equity_size_score                    32399 non-null  float64\n",
      " 36   price_prospective_earnings           32147 non-null  float64\n",
      " 37   price_book                           32226 non-null  float64\n",
      " 38   price_sales                          32387 non-null  float64\n",
      " 39   price_cash_flow                      32161 non-null  float64\n",
      " 40   dividend_yield_factor                32399 non-null  float64\n",
      " 41   long_term_projected_earnings_growth  31654 non-null  float64\n",
      " 42   historical_earnings_growth           32075 non-null  float64\n",
      " 43   sales_growth                         32204 non-null  float64\n",
      " 44   cash_flow_growth                     31608 non-null  float64\n",
      " 45   book_value_growth                    32045 non-null  float64\n",
      " 46   roa                                  32403 non-null  float64\n",
      " 47   roe                                  32158 non-null  float64\n",
      " 48   roic                                 29960 non-null  float64\n",
      " 49   bond_interest_rate_sensitivity       10669 non-null  object \n",
      " 50   bond_credit_quality                  10669 non-null  object \n",
      " 51   average_coupon_rate                  24607 non-null  float64\n",
      " 52   average_credit_quality               12168 non-null  float64\n",
      " 53   modified_duration                    7152 non-null   float64\n",
      " 54   effective_maturity                   8714 non-null   float64\n",
      " 55   asset_stock                          49399 non-null  float64\n",
      " 56   asset_bond                           49399 non-null  float64\n",
      " 57   asset_cash                           49399 non-null  float64\n",
      " 58   asset_other                          49399 non-null  float64\n",
      " 59   country_exposure                     47293 non-null  object \n",
      " 60   top5_regions                         48590 non-null  object \n",
      " 61   sector_basic_materials               27960 non-null  float64\n",
      " 62   sector_consumer_cyclical             30143 non-null  float64\n",
      " 63   sector_financial_services            29141 non-null  float64\n",
      " 64   sector_real_estate                   23608 non-null  float64\n",
      " 65   sector_consumer_defensive            27968 non-null  float64\n",
      " 66   sector_healthcare                    27644 non-null  float64\n",
      " 67   sector_utilities                     21893 non-null  float64\n",
      " 68   sector_communication_services        23699 non-null  float64\n",
      " 69   sector_energy                        25247 non-null  float64\n",
      " 70   sector_industrials                   29650 non-null  float64\n",
      " 71   sector_technology                    29051 non-null  float64\n",
      " 72   market_capitalization_giant          14941 non-null  float64\n",
      " 73   market_capitalization_large          14941 non-null  float64\n",
      " 74   market_capitalization_medium         14941 non-null  float64\n",
      " 75   market_capitalization_small          14941 non-null  float64\n",
      " 76   market_capitalization_micro          14941 non-null  float64\n",
      " 77   credit_quality_aaa                   3587 non-null   float64\n",
      " 78   credit_quality_aa                    3587 non-null   float64\n",
      " 79   credit_quality_a                     3587 non-null   float64\n",
      " 80   credit_quality_bbb                   3587 non-null   float64\n",
      " 81   credit_quality_bb                    3587 non-null   float64\n",
      " 82   credit_quality_b                     3587 non-null   float64\n",
      " 83   credit_quality_below_b               3587 non-null   float64\n",
      " 84   credit_quality_not_rated             3587 non-null   float64\n",
      " 85   holdings_number_stock                31851 non-null  float64\n",
      " 86   holdings_number_bonds                24424 non-null  float64\n",
      " 87   top5_holdings                        49365 non-null  object \n",
      " 88   ongoing_cost                         45362 non-null  float64\n",
      " 89   management_fees                      45017 non-null  float64\n",
      " 90   sustainability_rank                  29630 non-null  float64\n",
      " 91   esg_score                            30215 non-null  float64\n",
      " 92   environmental_score                  30215 non-null  float64\n",
      " 93   social_score                         30215 non-null  float64\n",
      " 94   governance_score                     30215 non-null  float64\n",
      " 95   controversy_score                    30757 non-null  float64\n",
      " 96   sustainability_score                 30215 non-null  float64\n",
      " 97   sustainability_percentage_rank       31922 non-null  float64\n",
      " 98   involvement_abortive_contraceptive   45068 non-null  float64\n",
      " 99   involvement_alcohol                  45068 non-null  float64\n",
      " 100  involvement_animal_testing           45068 non-null  float64\n",
      " 101  involvement_controversial_weapons    45068 non-null  float64\n",
      " 102  involvement_gambling                 45068 non-null  float64\n",
      " 103  involvement_gmo                      45068 non-null  float64\n",
      " 104  involvement_military_contracting     45068 non-null  float64\n",
      " 105  involvement_nuclear                  45068 non-null  float64\n",
      " 106  involvement_palm_oil                 45068 non-null  float64\n",
      " 107  involvement_pesticides               45068 non-null  float64\n",
      " 108  involvement_small_arms               45068 non-null  float64\n",
      " 109  involvement_thermal_coal             45068 non-null  float64\n",
      " 110  involvement_tobacco                  45068 non-null  float64\n",
      "dtypes: float64(90), int64(2), object(19)\n",
      "memory usage: 41.8+ MB\n"
     ]
    },
    {
     "name": "stderr",
     "output_type": "stream",
     "text": [
      "C:\\Users\\feichtinge_a\\AppData\\Local\\Temp\\ipykernel_23284\\2612161665.py:1: FutureWarning: null_counts is deprecated. Use show_counts instead\n",
      "  df.info(verbose=True, null_counts=True)\n"
     ]
    }
   ],
   "source": [
    "df.info(verbose=True, null_counts=True)"
   ],
   "metadata": {
    "collapsed": false,
    "ExecuteTime": {
     "end_time": "2023-11-09T13:12:11.720432600Z",
     "start_time": "2023-11-09T13:12:11.597396900Z"
    }
   }
  },
  {
   "cell_type": "code",
   "execution_count": 268,
   "outputs": [
    {
     "data": {
      "text/plain": "       morningstar_rating  morningstar_risk_rating  \\\ncount        29076.000000             29076.000000   \nmean             3.242262                 3.032501   \nstd              1.061181                 1.071964   \nmin              1.000000                 1.000000   \n25%              3.000000                 2.000000   \n50%              3.000000                 3.000000   \n75%              4.000000                 4.000000   \nmax              5.000000                 5.000000   \n\n       morningstar_performance_rating  nav_per_share    class_size  \\\ncount                    29076.000000   4.939900e+04  4.939900e+04   \nmean                         3.240164   7.661971e+03  1.463266e+08   \nstd                          1.063487   2.000447e+05  1.461131e+09   \nmin                          1.000000   1.900000e-01  0.000000e+00   \n25%                          3.000000   1.135000e+01  7.100000e+05   \n50%                          3.000000   7.595000e+01  7.360000e+06   \n75%                          4.000000   1.318050e+02  4.597000e+07   \nmax                          5.000000   1.172074e+07  1.029288e+11   \n\n          fund_size  fund_return_ytd  fund_return_2018  fund_return_2017  \\\ncount  4.939900e+04     49389.000000      41580.000000      37970.000000   \nmean   2.530081e+09        10.641131         -4.740028          9.733934   \nstd    1.523205e+10        60.599371          6.921632         10.601492   \nmin    2.000000e+04       -81.500000        -81.780000        -30.780000   \n25%    1.034100e+08         4.870000         -9.200000          2.730000   \n50%    3.663300e+08         9.680000         -4.290000          8.430000   \n75%    1.184770e+09        14.660000         -0.170000         15.210000   \nmax    4.982347e+11     12007.000000         49.980000         72.630000   \n\n       fund_return_2016  ...  involvement_controversial_weapons  \\\ncount      34463.000000  ...                       45068.000000   \nmean          21.700668  ...                           0.632384   \nstd           13.463801  ...                           1.333692   \nmin          -42.390000  ...                           0.000000   \n25%           14.690000  ...                           0.000000   \n50%           21.260000  ...                           0.000000   \n75%           27.670000  ...                           0.690000   \nmax          928.650000  ...                          19.100000   \n\n       involvement_gambling  involvement_gmo  \\\ncount          45068.000000     45068.000000   \nmean               0.489367         0.047422   \nstd                1.024051         0.324684   \nmin                0.000000         0.000000   \n25%                0.000000         0.000000   \n50%                0.000000         0.000000   \n75%                0.510000         0.000000   \nmax               13.280000         9.410000   \n\n       involvement_military_contracting  involvement_nuclear  \\\ncount                      45068.000000         45068.000000   \nmean                           0.976092             1.018608   \nstd                            1.730360             2.059553   \nmin                            0.000000             0.000000   \n25%                            0.000000             0.000000   \n50%                            0.100000             0.110000   \n75%                            1.310000             1.290000   \nmax                           32.040000            31.630000   \n\n       involvement_palm_oil  involvement_pesticides  involvement_small_arms  \\\ncount          45068.000000            45068.000000            45068.000000   \nmean               0.072934                0.363763                0.102977   \nstd                0.370874                0.993295                0.407630   \nmin                0.000000                0.000000                0.000000   \n25%                0.000000                0.000000                0.000000   \n50%                0.000000                0.000000                0.000000   \n75%                0.000000                0.300000                0.000000   \nmax               10.870000               16.900000                7.230000   \n\n       involvement_thermal_coal  involvement_tobacco  \ncount              45068.000000         45068.000000  \nmean                   3.063404             0.745578  \nstd                    3.531592             1.478576  \nmin                    0.000000             0.000000  \n25%                    0.370000             0.000000  \n50%                    2.200000             0.000000  \n75%                    4.400000             0.870000  \nmax                   40.620000            17.360000  \n\n[8 rows x 92 columns]",
      "text/html": "<div>\n<style scoped>\n    .dataframe tbody tr th:only-of-type {\n        vertical-align: middle;\n    }\n\n    .dataframe tbody tr th {\n        vertical-align: top;\n    }\n\n    .dataframe thead th {\n        text-align: right;\n    }\n</style>\n<table border=\"1\" class=\"dataframe\">\n  <thead>\n    <tr style=\"text-align: right;\">\n      <th></th>\n      <th>morningstar_rating</th>\n      <th>morningstar_risk_rating</th>\n      <th>morningstar_performance_rating</th>\n      <th>nav_per_share</th>\n      <th>class_size</th>\n      <th>fund_size</th>\n      <th>fund_return_ytd</th>\n      <th>fund_return_2018</th>\n      <th>fund_return_2017</th>\n      <th>fund_return_2016</th>\n      <th>...</th>\n      <th>involvement_controversial_weapons</th>\n      <th>involvement_gambling</th>\n      <th>involvement_gmo</th>\n      <th>involvement_military_contracting</th>\n      <th>involvement_nuclear</th>\n      <th>involvement_palm_oil</th>\n      <th>involvement_pesticides</th>\n      <th>involvement_small_arms</th>\n      <th>involvement_thermal_coal</th>\n      <th>involvement_tobacco</th>\n    </tr>\n  </thead>\n  <tbody>\n    <tr>\n      <th>count</th>\n      <td>29076.000000</td>\n      <td>29076.000000</td>\n      <td>29076.000000</td>\n      <td>4.939900e+04</td>\n      <td>4.939900e+04</td>\n      <td>4.939900e+04</td>\n      <td>49389.000000</td>\n      <td>41580.000000</td>\n      <td>37970.000000</td>\n      <td>34463.000000</td>\n      <td>...</td>\n      <td>45068.000000</td>\n      <td>45068.000000</td>\n      <td>45068.000000</td>\n      <td>45068.000000</td>\n      <td>45068.000000</td>\n      <td>45068.000000</td>\n      <td>45068.000000</td>\n      <td>45068.000000</td>\n      <td>45068.000000</td>\n      <td>45068.000000</td>\n    </tr>\n    <tr>\n      <th>mean</th>\n      <td>3.242262</td>\n      <td>3.032501</td>\n      <td>3.240164</td>\n      <td>7.661971e+03</td>\n      <td>1.463266e+08</td>\n      <td>2.530081e+09</td>\n      <td>10.641131</td>\n      <td>-4.740028</td>\n      <td>9.733934</td>\n      <td>21.700668</td>\n      <td>...</td>\n      <td>0.632384</td>\n      <td>0.489367</td>\n      <td>0.047422</td>\n      <td>0.976092</td>\n      <td>1.018608</td>\n      <td>0.072934</td>\n      <td>0.363763</td>\n      <td>0.102977</td>\n      <td>3.063404</td>\n      <td>0.745578</td>\n    </tr>\n    <tr>\n      <th>std</th>\n      <td>1.061181</td>\n      <td>1.071964</td>\n      <td>1.063487</td>\n      <td>2.000447e+05</td>\n      <td>1.461131e+09</td>\n      <td>1.523205e+10</td>\n      <td>60.599371</td>\n      <td>6.921632</td>\n      <td>10.601492</td>\n      <td>13.463801</td>\n      <td>...</td>\n      <td>1.333692</td>\n      <td>1.024051</td>\n      <td>0.324684</td>\n      <td>1.730360</td>\n      <td>2.059553</td>\n      <td>0.370874</td>\n      <td>0.993295</td>\n      <td>0.407630</td>\n      <td>3.531592</td>\n      <td>1.478576</td>\n    </tr>\n    <tr>\n      <th>min</th>\n      <td>1.000000</td>\n      <td>1.000000</td>\n      <td>1.000000</td>\n      <td>1.900000e-01</td>\n      <td>0.000000e+00</td>\n      <td>2.000000e+04</td>\n      <td>-81.500000</td>\n      <td>-81.780000</td>\n      <td>-30.780000</td>\n      <td>-42.390000</td>\n      <td>...</td>\n      <td>0.000000</td>\n      <td>0.000000</td>\n      <td>0.000000</td>\n      <td>0.000000</td>\n      <td>0.000000</td>\n      <td>0.000000</td>\n      <td>0.000000</td>\n      <td>0.000000</td>\n      <td>0.000000</td>\n      <td>0.000000</td>\n    </tr>\n    <tr>\n      <th>25%</th>\n      <td>3.000000</td>\n      <td>2.000000</td>\n      <td>3.000000</td>\n      <td>1.135000e+01</td>\n      <td>7.100000e+05</td>\n      <td>1.034100e+08</td>\n      <td>4.870000</td>\n      <td>-9.200000</td>\n      <td>2.730000</td>\n      <td>14.690000</td>\n      <td>...</td>\n      <td>0.000000</td>\n      <td>0.000000</td>\n      <td>0.000000</td>\n      <td>0.000000</td>\n      <td>0.000000</td>\n      <td>0.000000</td>\n      <td>0.000000</td>\n      <td>0.000000</td>\n      <td>0.370000</td>\n      <td>0.000000</td>\n    </tr>\n    <tr>\n      <th>50%</th>\n      <td>3.000000</td>\n      <td>3.000000</td>\n      <td>3.000000</td>\n      <td>7.595000e+01</td>\n      <td>7.360000e+06</td>\n      <td>3.663300e+08</td>\n      <td>9.680000</td>\n      <td>-4.290000</td>\n      <td>8.430000</td>\n      <td>21.260000</td>\n      <td>...</td>\n      <td>0.000000</td>\n      <td>0.000000</td>\n      <td>0.000000</td>\n      <td>0.100000</td>\n      <td>0.110000</td>\n      <td>0.000000</td>\n      <td>0.000000</td>\n      <td>0.000000</td>\n      <td>2.200000</td>\n      <td>0.000000</td>\n    </tr>\n    <tr>\n      <th>75%</th>\n      <td>4.000000</td>\n      <td>4.000000</td>\n      <td>4.000000</td>\n      <td>1.318050e+02</td>\n      <td>4.597000e+07</td>\n      <td>1.184770e+09</td>\n      <td>14.660000</td>\n      <td>-0.170000</td>\n      <td>15.210000</td>\n      <td>27.670000</td>\n      <td>...</td>\n      <td>0.690000</td>\n      <td>0.510000</td>\n      <td>0.000000</td>\n      <td>1.310000</td>\n      <td>1.290000</td>\n      <td>0.000000</td>\n      <td>0.300000</td>\n      <td>0.000000</td>\n      <td>4.400000</td>\n      <td>0.870000</td>\n    </tr>\n    <tr>\n      <th>max</th>\n      <td>5.000000</td>\n      <td>5.000000</td>\n      <td>5.000000</td>\n      <td>1.172074e+07</td>\n      <td>1.029288e+11</td>\n      <td>4.982347e+11</td>\n      <td>12007.000000</td>\n      <td>49.980000</td>\n      <td>72.630000</td>\n      <td>928.650000</td>\n      <td>...</td>\n      <td>19.100000</td>\n      <td>13.280000</td>\n      <td>9.410000</td>\n      <td>32.040000</td>\n      <td>31.630000</td>\n      <td>10.870000</td>\n      <td>16.900000</td>\n      <td>7.230000</td>\n      <td>40.620000</td>\n      <td>17.360000</td>\n    </tr>\n  </tbody>\n</table>\n<p>8 rows × 92 columns</p>\n</div>"
     },
     "execution_count": 268,
     "metadata": {},
     "output_type": "execute_result"
    }
   ],
   "source": [
    "stats = df.describe()\n",
    "stats"
   ],
   "metadata": {
    "collapsed": false,
    "ExecuteTime": {
     "end_time": "2023-11-09T13:12:52.402997200Z",
     "start_time": "2023-11-09T13:12:52.234956400Z"
    }
   }
  },
  {
   "cell_type": "code",
   "execution_count": 269,
   "outputs": [],
   "source": [
    "pd.options.display.max_columns = None"
   ],
   "metadata": {
    "collapsed": false,
    "ExecuteTime": {
     "end_time": "2023-11-09T13:14:04.659100700Z",
     "start_time": "2023-11-09T13:14:04.569093200Z"
    }
   }
  },
  {
   "cell_type": "code",
   "execution_count": 270,
   "outputs": [
    {
     "data": {
      "text/plain": "       morningstar_rating  morningstar_risk_rating  \\\ncount        29076.000000             29076.000000   \nmean             3.242262                 3.032501   \nstd              1.061181                 1.071964   \nmin              1.000000                 1.000000   \n25%              3.000000                 2.000000   \n50%              3.000000                 3.000000   \n75%              4.000000                 4.000000   \nmax              5.000000                 5.000000   \n\n       morningstar_performance_rating  nav_per_share    class_size  \\\ncount                    29076.000000   4.939900e+04  4.939900e+04   \nmean                         3.240164   7.661971e+03  1.463266e+08   \nstd                          1.063487   2.000447e+05  1.461131e+09   \nmin                          1.000000   1.900000e-01  0.000000e+00   \n25%                          3.000000   1.135000e+01  7.100000e+05   \n50%                          3.000000   7.595000e+01  7.360000e+06   \n75%                          4.000000   1.318050e+02  4.597000e+07   \nmax                          5.000000   1.172074e+07  1.029288e+11   \n\n          fund_size  fund_return_ytd  fund_return_2018  fund_return_2017  \\\ncount  4.939900e+04     49389.000000      41580.000000      37970.000000   \nmean   2.530081e+09        10.641131         -4.740028          9.733934   \nstd    1.523205e+10        60.599371          6.921632         10.601492   \nmin    2.000000e+04       -81.500000        -81.780000        -30.780000   \n25%    1.034100e+08         4.870000         -9.200000          2.730000   \n50%    3.663300e+08         9.680000         -4.290000          8.430000   \n75%    1.184770e+09        14.660000         -0.170000         15.210000   \nmax    4.982347e+11     12007.000000         49.980000         72.630000   \n\n       fund_return_2016  fund_return_2015  fund_return_2014  fund_return_2013  \\\ncount      34463.000000      30890.000000      26811.000000      22940.000000   \nmean          21.700668          0.762667          4.885930         10.537166   \nstd           13.463801          9.119363         10.744813         15.143058   \nmin          -42.390000        -87.710000        -51.740000        -65.850000   \n25%           14.690000         -4.230000         -0.430000         -0.290000   \n50%           21.260000          1.280000          4.740000          7.655000   \n75%           27.670000          5.750000          9.730000         22.520000   \nmax          928.650000         50.500000        833.340000         86.310000   \n\n       fund_return_2012  fund_return_2011  fund_return_2010  \\\ncount      19551.000000      17048.000000      14512.000000   \nmean          10.218443         -6.642865         14.089390   \nstd            9.876409          9.807554          9.747106   \nmin          -42.980000        -45.980000        -19.000000   \n25%            5.360000        -12.750000          7.940000   \n50%           10.130000         -5.230000         13.530000   \n75%           14.530000          0.430000         19.220000   \nmax          814.410000         27.070000        127.840000   \n\n       trailing_return_3years  trailing_return_5years  \\\ncount            37183.000000            29815.000000   \nmean                 4.182635                7.489451   \nstd                  4.272880                4.522513   \nmin                -78.130000              -58.740000   \n25%                  1.560000                4.540000   \n50%                  3.800000                7.250000   \n75%                  6.510000               10.300000   \nmax                 38.320000               31.130000   \n\n       trailing_return_10years  trailing_return_since_inception  \\\ncount                92.000000                     46709.000000   \nmean                  7.075761                         6.296242   \nstd                   3.861612                         4.971198   \nmin                   0.020000                       -53.050000   \n25%                   4.785000                         3.500000   \n50%                   6.920000                         6.130000   \n75%                   9.207500                         9.030000   \nmax                  17.970000                       223.550000   \n\n       equity_style_score  equity_size_score  price_prospective_earnings  \\\ncount        32399.000000       32399.000000                32147.000000   \nmean           157.790795         241.082014                   15.604047   \nstd             56.621528          81.044298                    5.010647   \nmin           -111.580000        -283.730000                    1.730000   \n25%            123.730000         212.540000                   12.570000   \n50%            154.010000         259.610000                   14.900000   \n75%            190.880000         292.260000                   17.580000   \nmax            380.610000         424.350000                   63.460000   \n\n         price_book   price_sales  price_cash_flow  dividend_yield_factor  \\\ncount  32226.000000  32387.000000     32161.000000           32399.000000   \nmean       2.107942      2.225090         8.929042               2.970892   \nstd        1.147002     36.754613        16.311297               1.437980   \nmin        0.110000      0.020000         0.150000               0.000000   \n25%        1.420000      0.990000         5.370000               2.050000   \n50%        1.840000      1.370000         7.380000               2.920000   \n75%        2.450000      1.980000        10.430000               3.770000   \nmax       11.590000   2500.000000       561.800000              22.890000   \n\n       long_term_projected_earnings_growth  historical_earnings_growth  \\\ncount                         31654.000000                32075.000000   \nmean                             10.129631                   12.485635   \nstd                               4.023342                   29.210361   \nmin                               0.080000                  -88.900000   \n25%                               8.090000                    5.780000   \n50%                               9.370000                    9.570000   \n75%                              11.160000                   14.585000   \nmax                              68.310000                  637.260000   \n\n       sales_growth  cash_flow_growth  book_value_growth           roa  \\\ncount  32204.000000      31608.000000       32045.000000  32403.000000   \nmean       4.196479          7.785326           5.376978      6.556816   \nstd       31.354503         23.586141           8.229146      3.587008   \nmin      -91.510000        -95.750000         -96.840000    -58.740000   \n25%        2.030000          2.270000           3.760000      5.290000   \n50%        4.600000          6.750000           5.650000      6.940000   \n75%        7.600000         11.480000           8.240000      8.230000   \nmax      926.430000        266.920000         160.950000     75.000000   \n\n                roe          roic  average_coupon_rate  \\\ncount  32158.000000  29960.000000         24607.000000   \nmean      17.648219     11.923077             4.160160   \nstd        6.864015      5.348247             1.900641   \nmin      -57.860000    -51.280000             0.040000   \n25%       14.240000      9.770000             2.760000   \n50%       18.220000     12.550000             4.000000   \n75%       21.410000     14.560000             5.510000   \nmax       66.630000     61.260000            20.000000   \n\n       average_credit_quality  modified_duration  effective_maturity  \\\ncount            12168.000000        7152.000000         8714.000000   \nmean                11.215319           4.810053            7.415379   \nstd                  3.277273           2.866547            4.487937   \nmin                  1.000000          -3.960000            0.000000   \n25%                 10.000000           2.900000            4.165000   \n50%                 12.000000           4.770000            6.810000   \n75%                 14.000000           6.650000            9.830000   \nmax                 16.000000          24.330000           29.960000   \n\n        asset_stock    asset_bond    asset_cash   asset_other  \\\ncount  49399.000000  49399.000000  49399.000000  49399.000000   \nmean      52.045951     42.671312      0.663249      4.619530   \nstd       45.321068    271.499244    266.958830     15.531491   \nmin      -88.160000    -80.430000 -11373.330000   -104.370000   \n25%        0.000000      0.000000      1.090000      0.000000   \n50%       63.230000      2.470000      3.190000      0.010000   \n75%       97.540000     88.240000      7.330000      2.400000   \nmax      206.010000  11490.930000    178.710000    103.730000   \n\n       sector_basic_materials  sector_consumer_cyclical  \\\ncount            27960.000000              30143.000000   \nmean                 7.730240                 13.761152   \nstd                 49.733064                 12.236203   \nmin              -4663.940000                -98.120000   \n25%                  3.660000                  9.190000   \n50%                  6.060000                 12.360000   \n75%                  9.000000                 16.150000   \nmax                132.840000                639.920000   \n\n       sector_financial_services  sector_real_estate  \\\ncount               29141.000000        23608.000000   \nmean                   20.874330            7.891586   \nstd                    18.602664           16.679510   \nmin                   -37.540000          -15.510000   \n25%                    13.500000            2.070000   \n50%                    17.840000            3.530000   \n75%                    23.920000            6.880000   \nmax                   989.960000          104.570000   \n\n       sector_consumer_defensive  sector_healthcare  sector_utilities  \\\ncount               27968.000000       27644.000000      21893.000000   \nmean                    9.831399          11.143112          4.739644   \nstd                    10.559707          12.721835          7.959192   \nmin                   -56.560000         -55.920000        -36.390000   \n25%                     5.480000           5.930000          1.680000   \n50%                     8.270000          10.030000          2.970000   \n75%                    12.090000          13.800000          4.830000   \nmax                   698.580000         715.400000        153.940000   \n\n       sector_communication_services  sector_energy  sector_industrials  \\\ncount                   23699.000000   25247.000000        29650.000000   \nmean                        4.588756       8.851832           12.628070   \nstd                         6.242571      15.108815           11.124826   \nmin                       -32.990000     -47.280000         -143.990000   \n25%                         2.190000       3.330000            7.430000   \n50%                         3.530000       5.470000           11.070000   \n75%                         5.400000       8.460000           15.720000   \nmax                       100.000000     191.380000          458.740000   \n\n       sector_technology  market_capitalization_giant  \\\ncount       29051.000000                 14941.000000   \nmean           16.581993                    33.651171   \nstd            16.241676                   101.210920   \nmin          -461.490000                 -1440.640000   \n25%             9.410000                    23.900000   \n50%            15.050000                    35.820000   \n75%            21.810000                    46.480000   \nmax           745.460000                  6067.880000   \n\n       market_capitalization_large  market_capitalization_medium  \\\ncount                 14941.000000                  14941.000000   \nmean                     26.992762                     25.391663   \nstd                      96.005290                     89.502810   \nmin                   -2967.640000                  -3398.740000   \n25%                      23.610000                     16.640000   \n50%                      30.160000                     21.930000   \n75%                      34.940000                     29.570000   \nmax                    1662.790000                   2206.430000   \n\n       market_capitalization_small  market_capitalization_micro  \\\ncount                 14941.000000                 14941.000000   \nmean                     10.295095                     3.669295   \nstd                      56.992571                    27.597800   \nmin                   -2078.820000                  -157.950000   \n25%                       2.530000                     0.250000   \n50%                       6.990000                     1.010000   \n75%                      12.560000                     3.060000   \nmax                     882.040000                   927.820000   \n\n       credit_quality_aaa  credit_quality_aa  credit_quality_a  \\\ncount         3587.000000        3587.000000       3587.000000   \nmean            18.050309           9.373549         14.020070   \nstd             16.056235          10.154036          9.013538   \nmin             -3.810000          -8.420000          0.220000   \n25%              4.760000           3.180000          7.280000   \n50%             14.100000           5.840000         12.960000   \n75%             28.340000          11.620000         18.800000   \nmax             88.920000          63.490000         47.290000   \n\n       credit_quality_bbb  credit_quality_bb  credit_quality_b  \\\ncount         3587.000000        3587.000000       3587.000000   \nmean            26.824065          14.356089         11.224921   \nstd             12.922587          10.070419         10.096200   \nmin              0.020000          -8.350000         -2.000000   \n25%             17.150000           6.030000          3.310000   \n50%             25.480000          14.040000          8.640000   \n75%             34.290000          20.680000         16.395000   \nmax             77.700000          55.840000         53.920000   \n\n       credit_quality_below_b  credit_quality_not_rated  \\\ncount             3587.000000               3587.000000   \nmean                 2.191751                  3.958921   \nstd                  2.808746                  7.249961   \nmin                 -3.670000                -19.200000   \n25%                  0.340000                  0.450000   \n50%                  1.220000                  2.270000   \n75%                  3.170000                  5.200000   \nmax                 19.610000                 85.420000   \n\n       holdings_number_stock  holdings_number_bonds  ongoing_cost  \\\ncount           31851.000000           24424.000000  45362.000000   \nmean              132.784591             246.514576      1.161708   \nstd               385.090650             543.771459      0.655354   \nmin                 1.000000               1.000000     -0.030570   \n25%                33.000000              31.000000      0.740000   \n50%                50.000000             122.000000      1.057845   \n75%                86.000000             277.000000      1.607015   \nmax             10929.000000           12641.000000      9.032950   \n\n       management_fees  sustainability_rank     esg_score  \\\ncount     45017.000000         29630.000000  30215.000000   \nmean          0.860051             3.018731     53.160458   \nstd           0.498645             1.042623      5.141914   \nmin           0.000000             1.000000     36.380000   \n25%           0.500000             2.000000     49.700000   \n50%           0.750000             3.000000     53.410000   \n75%           1.242300             4.000000     56.610000   \nmax           2.900000             5.000000     67.730000   \n\n       environmental_score  social_score  governance_score  controversy_score  \\\ncount         30215.000000  30215.000000      30215.000000       30757.000000   \nmean             54.212487     53.850744         52.421077           5.144004   \nstd               4.322378      4.389825          4.389036           2.194606   \nmin               0.000000      0.000000          0.000000           0.010000   \n25%              51.530000     50.870000         49.710000           3.650000   \n50%              54.660000     53.730000         52.530000           5.350000   \n75%              57.060000     56.580000         55.530000           6.810000   \nmax              66.060000     66.790000         66.760000          11.700000   \n\n       sustainability_score  sustainability_percentage_rank  \\\ncount          30215.000000                    31922.000000   \nmean              48.004628                       49.872001   \nstd                4.171512                       27.148133   \nmin               31.060000                        1.000000   \n25%               45.420000                       28.000000   \n50%               47.850000                       48.000000   \n75%               50.410000                       73.000000   \nmax               61.980000                      100.000000   \n\n       involvement_abortive_contraceptive  involvement_alcohol  \\\ncount                        45068.000000         45068.000000   \nmean                             3.775722             1.111676   \nstd                              4.638229             2.117683   \nmin                              0.000000             0.000000   \n25%                              0.360000             0.000000   \n50%                              2.390000             0.160000   \n75%                              5.420000             1.310000   \nmax                             57.450000            66.540000   \n\n       involvement_animal_testing  involvement_controversial_weapons  \\\ncount                45068.000000                       45068.000000   \nmean                     9.682177                           0.632384   \nstd                     10.734834                           1.333692   \nmin                      0.000000                           0.000000   \n25%                      1.920000                           0.000000   \n50%                      6.130000                           0.000000   \n75%                     14.810000                           0.690000   \nmax                     98.050000                          19.100000   \n\n       involvement_gambling  involvement_gmo  \\\ncount          45068.000000     45068.000000   \nmean               0.489367         0.047422   \nstd                1.024051         0.324684   \nmin                0.000000         0.000000   \n25%                0.000000         0.000000   \n50%                0.000000         0.000000   \n75%                0.510000         0.000000   \nmax               13.280000         9.410000   \n\n       involvement_military_contracting  involvement_nuclear  \\\ncount                      45068.000000         45068.000000   \nmean                           0.976092             1.018608   \nstd                            1.730360             2.059553   \nmin                            0.000000             0.000000   \n25%                            0.000000             0.000000   \n50%                            0.100000             0.110000   \n75%                            1.310000             1.290000   \nmax                           32.040000            31.630000   \n\n       involvement_palm_oil  involvement_pesticides  involvement_small_arms  \\\ncount          45068.000000            45068.000000            45068.000000   \nmean               0.072934                0.363763                0.102977   \nstd                0.370874                0.993295                0.407630   \nmin                0.000000                0.000000                0.000000   \n25%                0.000000                0.000000                0.000000   \n50%                0.000000                0.000000                0.000000   \n75%                0.000000                0.300000                0.000000   \nmax               10.870000               16.900000                7.230000   \n\n       involvement_thermal_coal  involvement_tobacco  \ncount              45068.000000         45068.000000  \nmean                   3.063404             0.745578  \nstd                    3.531592             1.478576  \nmin                    0.000000             0.000000  \n25%                    0.370000             0.000000  \n50%                    2.200000             0.000000  \n75%                    4.400000             0.870000  \nmax                   40.620000            17.360000  ",
      "text/html": "<div>\n<style scoped>\n    .dataframe tbody tr th:only-of-type {\n        vertical-align: middle;\n    }\n\n    .dataframe tbody tr th {\n        vertical-align: top;\n    }\n\n    .dataframe thead th {\n        text-align: right;\n    }\n</style>\n<table border=\"1\" class=\"dataframe\">\n  <thead>\n    <tr style=\"text-align: right;\">\n      <th></th>\n      <th>morningstar_rating</th>\n      <th>morningstar_risk_rating</th>\n      <th>morningstar_performance_rating</th>\n      <th>nav_per_share</th>\n      <th>class_size</th>\n      <th>fund_size</th>\n      <th>fund_return_ytd</th>\n      <th>fund_return_2018</th>\n      <th>fund_return_2017</th>\n      <th>fund_return_2016</th>\n      <th>fund_return_2015</th>\n      <th>fund_return_2014</th>\n      <th>fund_return_2013</th>\n      <th>fund_return_2012</th>\n      <th>fund_return_2011</th>\n      <th>fund_return_2010</th>\n      <th>trailing_return_3years</th>\n      <th>trailing_return_5years</th>\n      <th>trailing_return_10years</th>\n      <th>trailing_return_since_inception</th>\n      <th>equity_style_score</th>\n      <th>equity_size_score</th>\n      <th>price_prospective_earnings</th>\n      <th>price_book</th>\n      <th>price_sales</th>\n      <th>price_cash_flow</th>\n      <th>dividend_yield_factor</th>\n      <th>long_term_projected_earnings_growth</th>\n      <th>historical_earnings_growth</th>\n      <th>sales_growth</th>\n      <th>cash_flow_growth</th>\n      <th>book_value_growth</th>\n      <th>roa</th>\n      <th>roe</th>\n      <th>roic</th>\n      <th>average_coupon_rate</th>\n      <th>average_credit_quality</th>\n      <th>modified_duration</th>\n      <th>effective_maturity</th>\n      <th>asset_stock</th>\n      <th>asset_bond</th>\n      <th>asset_cash</th>\n      <th>asset_other</th>\n      <th>sector_basic_materials</th>\n      <th>sector_consumer_cyclical</th>\n      <th>sector_financial_services</th>\n      <th>sector_real_estate</th>\n      <th>sector_consumer_defensive</th>\n      <th>sector_healthcare</th>\n      <th>sector_utilities</th>\n      <th>sector_communication_services</th>\n      <th>sector_energy</th>\n      <th>sector_industrials</th>\n      <th>sector_technology</th>\n      <th>market_capitalization_giant</th>\n      <th>market_capitalization_large</th>\n      <th>market_capitalization_medium</th>\n      <th>market_capitalization_small</th>\n      <th>market_capitalization_micro</th>\n      <th>credit_quality_aaa</th>\n      <th>credit_quality_aa</th>\n      <th>credit_quality_a</th>\n      <th>credit_quality_bbb</th>\n      <th>credit_quality_bb</th>\n      <th>credit_quality_b</th>\n      <th>credit_quality_below_b</th>\n      <th>credit_quality_not_rated</th>\n      <th>holdings_number_stock</th>\n      <th>holdings_number_bonds</th>\n      <th>ongoing_cost</th>\n      <th>management_fees</th>\n      <th>sustainability_rank</th>\n      <th>esg_score</th>\n      <th>environmental_score</th>\n      <th>social_score</th>\n      <th>governance_score</th>\n      <th>controversy_score</th>\n      <th>sustainability_score</th>\n      <th>sustainability_percentage_rank</th>\n      <th>involvement_abortive_contraceptive</th>\n      <th>involvement_alcohol</th>\n      <th>involvement_animal_testing</th>\n      <th>involvement_controversial_weapons</th>\n      <th>involvement_gambling</th>\n      <th>involvement_gmo</th>\n      <th>involvement_military_contracting</th>\n      <th>involvement_nuclear</th>\n      <th>involvement_palm_oil</th>\n      <th>involvement_pesticides</th>\n      <th>involvement_small_arms</th>\n      <th>involvement_thermal_coal</th>\n      <th>involvement_tobacco</th>\n    </tr>\n  </thead>\n  <tbody>\n    <tr>\n      <th>count</th>\n      <td>29076.000000</td>\n      <td>29076.000000</td>\n      <td>29076.000000</td>\n      <td>4.939900e+04</td>\n      <td>4.939900e+04</td>\n      <td>4.939900e+04</td>\n      <td>49389.000000</td>\n      <td>41580.000000</td>\n      <td>37970.000000</td>\n      <td>34463.000000</td>\n      <td>30890.000000</td>\n      <td>26811.000000</td>\n      <td>22940.000000</td>\n      <td>19551.000000</td>\n      <td>17048.000000</td>\n      <td>14512.000000</td>\n      <td>37183.000000</td>\n      <td>29815.000000</td>\n      <td>92.000000</td>\n      <td>46709.000000</td>\n      <td>32399.000000</td>\n      <td>32399.000000</td>\n      <td>32147.000000</td>\n      <td>32226.000000</td>\n      <td>32387.000000</td>\n      <td>32161.000000</td>\n      <td>32399.000000</td>\n      <td>31654.000000</td>\n      <td>32075.000000</td>\n      <td>32204.000000</td>\n      <td>31608.000000</td>\n      <td>32045.000000</td>\n      <td>32403.000000</td>\n      <td>32158.000000</td>\n      <td>29960.000000</td>\n      <td>24607.000000</td>\n      <td>12168.000000</td>\n      <td>7152.000000</td>\n      <td>8714.000000</td>\n      <td>49399.000000</td>\n      <td>49399.000000</td>\n      <td>49399.000000</td>\n      <td>49399.000000</td>\n      <td>27960.000000</td>\n      <td>30143.000000</td>\n      <td>29141.000000</td>\n      <td>23608.000000</td>\n      <td>27968.000000</td>\n      <td>27644.000000</td>\n      <td>21893.000000</td>\n      <td>23699.000000</td>\n      <td>25247.000000</td>\n      <td>29650.000000</td>\n      <td>29051.000000</td>\n      <td>14941.000000</td>\n      <td>14941.000000</td>\n      <td>14941.000000</td>\n      <td>14941.000000</td>\n      <td>14941.000000</td>\n      <td>3587.000000</td>\n      <td>3587.000000</td>\n      <td>3587.000000</td>\n      <td>3587.000000</td>\n      <td>3587.000000</td>\n      <td>3587.000000</td>\n      <td>3587.000000</td>\n      <td>3587.000000</td>\n      <td>31851.000000</td>\n      <td>24424.000000</td>\n      <td>45362.000000</td>\n      <td>45017.000000</td>\n      <td>29630.000000</td>\n      <td>30215.000000</td>\n      <td>30215.000000</td>\n      <td>30215.000000</td>\n      <td>30215.000000</td>\n      <td>30757.000000</td>\n      <td>30215.000000</td>\n      <td>31922.000000</td>\n      <td>45068.000000</td>\n      <td>45068.000000</td>\n      <td>45068.000000</td>\n      <td>45068.000000</td>\n      <td>45068.000000</td>\n      <td>45068.000000</td>\n      <td>45068.000000</td>\n      <td>45068.000000</td>\n      <td>45068.000000</td>\n      <td>45068.000000</td>\n      <td>45068.000000</td>\n      <td>45068.000000</td>\n      <td>45068.000000</td>\n    </tr>\n    <tr>\n      <th>mean</th>\n      <td>3.242262</td>\n      <td>3.032501</td>\n      <td>3.240164</td>\n      <td>7.661971e+03</td>\n      <td>1.463266e+08</td>\n      <td>2.530081e+09</td>\n      <td>10.641131</td>\n      <td>-4.740028</td>\n      <td>9.733934</td>\n      <td>21.700668</td>\n      <td>0.762667</td>\n      <td>4.885930</td>\n      <td>10.537166</td>\n      <td>10.218443</td>\n      <td>-6.642865</td>\n      <td>14.089390</td>\n      <td>4.182635</td>\n      <td>7.489451</td>\n      <td>7.075761</td>\n      <td>6.296242</td>\n      <td>157.790795</td>\n      <td>241.082014</td>\n      <td>15.604047</td>\n      <td>2.107942</td>\n      <td>2.225090</td>\n      <td>8.929042</td>\n      <td>2.970892</td>\n      <td>10.129631</td>\n      <td>12.485635</td>\n      <td>4.196479</td>\n      <td>7.785326</td>\n      <td>5.376978</td>\n      <td>6.556816</td>\n      <td>17.648219</td>\n      <td>11.923077</td>\n      <td>4.160160</td>\n      <td>11.215319</td>\n      <td>4.810053</td>\n      <td>7.415379</td>\n      <td>52.045951</td>\n      <td>42.671312</td>\n      <td>0.663249</td>\n      <td>4.619530</td>\n      <td>7.730240</td>\n      <td>13.761152</td>\n      <td>20.874330</td>\n      <td>7.891586</td>\n      <td>9.831399</td>\n      <td>11.143112</td>\n      <td>4.739644</td>\n      <td>4.588756</td>\n      <td>8.851832</td>\n      <td>12.628070</td>\n      <td>16.581993</td>\n      <td>33.651171</td>\n      <td>26.992762</td>\n      <td>25.391663</td>\n      <td>10.295095</td>\n      <td>3.669295</td>\n      <td>18.050309</td>\n      <td>9.373549</td>\n      <td>14.020070</td>\n      <td>26.824065</td>\n      <td>14.356089</td>\n      <td>11.224921</td>\n      <td>2.191751</td>\n      <td>3.958921</td>\n      <td>132.784591</td>\n      <td>246.514576</td>\n      <td>1.161708</td>\n      <td>0.860051</td>\n      <td>3.018731</td>\n      <td>53.160458</td>\n      <td>54.212487</td>\n      <td>53.850744</td>\n      <td>52.421077</td>\n      <td>5.144004</td>\n      <td>48.004628</td>\n      <td>49.872001</td>\n      <td>3.775722</td>\n      <td>1.111676</td>\n      <td>9.682177</td>\n      <td>0.632384</td>\n      <td>0.489367</td>\n      <td>0.047422</td>\n      <td>0.976092</td>\n      <td>1.018608</td>\n      <td>0.072934</td>\n      <td>0.363763</td>\n      <td>0.102977</td>\n      <td>3.063404</td>\n      <td>0.745578</td>\n    </tr>\n    <tr>\n      <th>std</th>\n      <td>1.061181</td>\n      <td>1.071964</td>\n      <td>1.063487</td>\n      <td>2.000447e+05</td>\n      <td>1.461131e+09</td>\n      <td>1.523205e+10</td>\n      <td>60.599371</td>\n      <td>6.921632</td>\n      <td>10.601492</td>\n      <td>13.463801</td>\n      <td>9.119363</td>\n      <td>10.744813</td>\n      <td>15.143058</td>\n      <td>9.876409</td>\n      <td>9.807554</td>\n      <td>9.747106</td>\n      <td>4.272880</td>\n      <td>4.522513</td>\n      <td>3.861612</td>\n      <td>4.971198</td>\n      <td>56.621528</td>\n      <td>81.044298</td>\n      <td>5.010647</td>\n      <td>1.147002</td>\n      <td>36.754613</td>\n      <td>16.311297</td>\n      <td>1.437980</td>\n      <td>4.023342</td>\n      <td>29.210361</td>\n      <td>31.354503</td>\n      <td>23.586141</td>\n      <td>8.229146</td>\n      <td>3.587008</td>\n      <td>6.864015</td>\n      <td>5.348247</td>\n      <td>1.900641</td>\n      <td>3.277273</td>\n      <td>2.866547</td>\n      <td>4.487937</td>\n      <td>45.321068</td>\n      <td>271.499244</td>\n      <td>266.958830</td>\n      <td>15.531491</td>\n      <td>49.733064</td>\n      <td>12.236203</td>\n      <td>18.602664</td>\n      <td>16.679510</td>\n      <td>10.559707</td>\n      <td>12.721835</td>\n      <td>7.959192</td>\n      <td>6.242571</td>\n      <td>15.108815</td>\n      <td>11.124826</td>\n      <td>16.241676</td>\n      <td>101.210920</td>\n      <td>96.005290</td>\n      <td>89.502810</td>\n      <td>56.992571</td>\n      <td>27.597800</td>\n      <td>16.056235</td>\n      <td>10.154036</td>\n      <td>9.013538</td>\n      <td>12.922587</td>\n      <td>10.070419</td>\n      <td>10.096200</td>\n      <td>2.808746</td>\n      <td>7.249961</td>\n      <td>385.090650</td>\n      <td>543.771459</td>\n      <td>0.655354</td>\n      <td>0.498645</td>\n      <td>1.042623</td>\n      <td>5.141914</td>\n      <td>4.322378</td>\n      <td>4.389825</td>\n      <td>4.389036</td>\n      <td>2.194606</td>\n      <td>4.171512</td>\n      <td>27.148133</td>\n      <td>4.638229</td>\n      <td>2.117683</td>\n      <td>10.734834</td>\n      <td>1.333692</td>\n      <td>1.024051</td>\n      <td>0.324684</td>\n      <td>1.730360</td>\n      <td>2.059553</td>\n      <td>0.370874</td>\n      <td>0.993295</td>\n      <td>0.407630</td>\n      <td>3.531592</td>\n      <td>1.478576</td>\n    </tr>\n    <tr>\n      <th>min</th>\n      <td>1.000000</td>\n      <td>1.000000</td>\n      <td>1.000000</td>\n      <td>1.900000e-01</td>\n      <td>0.000000e+00</td>\n      <td>2.000000e+04</td>\n      <td>-81.500000</td>\n      <td>-81.780000</td>\n      <td>-30.780000</td>\n      <td>-42.390000</td>\n      <td>-87.710000</td>\n      <td>-51.740000</td>\n      <td>-65.850000</td>\n      <td>-42.980000</td>\n      <td>-45.980000</td>\n      <td>-19.000000</td>\n      <td>-78.130000</td>\n      <td>-58.740000</td>\n      <td>0.020000</td>\n      <td>-53.050000</td>\n      <td>-111.580000</td>\n      <td>-283.730000</td>\n      <td>1.730000</td>\n      <td>0.110000</td>\n      <td>0.020000</td>\n      <td>0.150000</td>\n      <td>0.000000</td>\n      <td>0.080000</td>\n      <td>-88.900000</td>\n      <td>-91.510000</td>\n      <td>-95.750000</td>\n      <td>-96.840000</td>\n      <td>-58.740000</td>\n      <td>-57.860000</td>\n      <td>-51.280000</td>\n      <td>0.040000</td>\n      <td>1.000000</td>\n      <td>-3.960000</td>\n      <td>0.000000</td>\n      <td>-88.160000</td>\n      <td>-80.430000</td>\n      <td>-11373.330000</td>\n      <td>-104.370000</td>\n      <td>-4663.940000</td>\n      <td>-98.120000</td>\n      <td>-37.540000</td>\n      <td>-15.510000</td>\n      <td>-56.560000</td>\n      <td>-55.920000</td>\n      <td>-36.390000</td>\n      <td>-32.990000</td>\n      <td>-47.280000</td>\n      <td>-143.990000</td>\n      <td>-461.490000</td>\n      <td>-1440.640000</td>\n      <td>-2967.640000</td>\n      <td>-3398.740000</td>\n      <td>-2078.820000</td>\n      <td>-157.950000</td>\n      <td>-3.810000</td>\n      <td>-8.420000</td>\n      <td>0.220000</td>\n      <td>0.020000</td>\n      <td>-8.350000</td>\n      <td>-2.000000</td>\n      <td>-3.670000</td>\n      <td>-19.200000</td>\n      <td>1.000000</td>\n      <td>1.000000</td>\n      <td>-0.030570</td>\n      <td>0.000000</td>\n      <td>1.000000</td>\n      <td>36.380000</td>\n      <td>0.000000</td>\n      <td>0.000000</td>\n      <td>0.000000</td>\n      <td>0.010000</td>\n      <td>31.060000</td>\n      <td>1.000000</td>\n      <td>0.000000</td>\n      <td>0.000000</td>\n      <td>0.000000</td>\n      <td>0.000000</td>\n      <td>0.000000</td>\n      <td>0.000000</td>\n      <td>0.000000</td>\n      <td>0.000000</td>\n      <td>0.000000</td>\n      <td>0.000000</td>\n      <td>0.000000</td>\n      <td>0.000000</td>\n      <td>0.000000</td>\n    </tr>\n    <tr>\n      <th>25%</th>\n      <td>3.000000</td>\n      <td>2.000000</td>\n      <td>3.000000</td>\n      <td>1.135000e+01</td>\n      <td>7.100000e+05</td>\n      <td>1.034100e+08</td>\n      <td>4.870000</td>\n      <td>-9.200000</td>\n      <td>2.730000</td>\n      <td>14.690000</td>\n      <td>-4.230000</td>\n      <td>-0.430000</td>\n      <td>-0.290000</td>\n      <td>5.360000</td>\n      <td>-12.750000</td>\n      <td>7.940000</td>\n      <td>1.560000</td>\n      <td>4.540000</td>\n      <td>4.785000</td>\n      <td>3.500000</td>\n      <td>123.730000</td>\n      <td>212.540000</td>\n      <td>12.570000</td>\n      <td>1.420000</td>\n      <td>0.990000</td>\n      <td>5.370000</td>\n      <td>2.050000</td>\n      <td>8.090000</td>\n      <td>5.780000</td>\n      <td>2.030000</td>\n      <td>2.270000</td>\n      <td>3.760000</td>\n      <td>5.290000</td>\n      <td>14.240000</td>\n      <td>9.770000</td>\n      <td>2.760000</td>\n      <td>10.000000</td>\n      <td>2.900000</td>\n      <td>4.165000</td>\n      <td>0.000000</td>\n      <td>0.000000</td>\n      <td>1.090000</td>\n      <td>0.000000</td>\n      <td>3.660000</td>\n      <td>9.190000</td>\n      <td>13.500000</td>\n      <td>2.070000</td>\n      <td>5.480000</td>\n      <td>5.930000</td>\n      <td>1.680000</td>\n      <td>2.190000</td>\n      <td>3.330000</td>\n      <td>7.430000</td>\n      <td>9.410000</td>\n      <td>23.900000</td>\n      <td>23.610000</td>\n      <td>16.640000</td>\n      <td>2.530000</td>\n      <td>0.250000</td>\n      <td>4.760000</td>\n      <td>3.180000</td>\n      <td>7.280000</td>\n      <td>17.150000</td>\n      <td>6.030000</td>\n      <td>3.310000</td>\n      <td>0.340000</td>\n      <td>0.450000</td>\n      <td>33.000000</td>\n      <td>31.000000</td>\n      <td>0.740000</td>\n      <td>0.500000</td>\n      <td>2.000000</td>\n      <td>49.700000</td>\n      <td>51.530000</td>\n      <td>50.870000</td>\n      <td>49.710000</td>\n      <td>3.650000</td>\n      <td>45.420000</td>\n      <td>28.000000</td>\n      <td>0.360000</td>\n      <td>0.000000</td>\n      <td>1.920000</td>\n      <td>0.000000</td>\n      <td>0.000000</td>\n      <td>0.000000</td>\n      <td>0.000000</td>\n      <td>0.000000</td>\n      <td>0.000000</td>\n      <td>0.000000</td>\n      <td>0.000000</td>\n      <td>0.370000</td>\n      <td>0.000000</td>\n    </tr>\n    <tr>\n      <th>50%</th>\n      <td>3.000000</td>\n      <td>3.000000</td>\n      <td>3.000000</td>\n      <td>7.595000e+01</td>\n      <td>7.360000e+06</td>\n      <td>3.663300e+08</td>\n      <td>9.680000</td>\n      <td>-4.290000</td>\n      <td>8.430000</td>\n      <td>21.260000</td>\n      <td>1.280000</td>\n      <td>4.740000</td>\n      <td>7.655000</td>\n      <td>10.130000</td>\n      <td>-5.230000</td>\n      <td>13.530000</td>\n      <td>3.800000</td>\n      <td>7.250000</td>\n      <td>6.920000</td>\n      <td>6.130000</td>\n      <td>154.010000</td>\n      <td>259.610000</td>\n      <td>14.900000</td>\n      <td>1.840000</td>\n      <td>1.370000</td>\n      <td>7.380000</td>\n      <td>2.920000</td>\n      <td>9.370000</td>\n      <td>9.570000</td>\n      <td>4.600000</td>\n      <td>6.750000</td>\n      <td>5.650000</td>\n      <td>6.940000</td>\n      <td>18.220000</td>\n      <td>12.550000</td>\n      <td>4.000000</td>\n      <td>12.000000</td>\n      <td>4.770000</td>\n      <td>6.810000</td>\n      <td>63.230000</td>\n      <td>2.470000</td>\n      <td>3.190000</td>\n      <td>0.010000</td>\n      <td>6.060000</td>\n      <td>12.360000</td>\n      <td>17.840000</td>\n      <td>3.530000</td>\n      <td>8.270000</td>\n      <td>10.030000</td>\n      <td>2.970000</td>\n      <td>3.530000</td>\n      <td>5.470000</td>\n      <td>11.070000</td>\n      <td>15.050000</td>\n      <td>35.820000</td>\n      <td>30.160000</td>\n      <td>21.930000</td>\n      <td>6.990000</td>\n      <td>1.010000</td>\n      <td>14.100000</td>\n      <td>5.840000</td>\n      <td>12.960000</td>\n      <td>25.480000</td>\n      <td>14.040000</td>\n      <td>8.640000</td>\n      <td>1.220000</td>\n      <td>2.270000</td>\n      <td>50.000000</td>\n      <td>122.000000</td>\n      <td>1.057845</td>\n      <td>0.750000</td>\n      <td>3.000000</td>\n      <td>53.410000</td>\n      <td>54.660000</td>\n      <td>53.730000</td>\n      <td>52.530000</td>\n      <td>5.350000</td>\n      <td>47.850000</td>\n      <td>48.000000</td>\n      <td>2.390000</td>\n      <td>0.160000</td>\n      <td>6.130000</td>\n      <td>0.000000</td>\n      <td>0.000000</td>\n      <td>0.000000</td>\n      <td>0.100000</td>\n      <td>0.110000</td>\n      <td>0.000000</td>\n      <td>0.000000</td>\n      <td>0.000000</td>\n      <td>2.200000</td>\n      <td>0.000000</td>\n    </tr>\n    <tr>\n      <th>75%</th>\n      <td>4.000000</td>\n      <td>4.000000</td>\n      <td>4.000000</td>\n      <td>1.318050e+02</td>\n      <td>4.597000e+07</td>\n      <td>1.184770e+09</td>\n      <td>14.660000</td>\n      <td>-0.170000</td>\n      <td>15.210000</td>\n      <td>27.670000</td>\n      <td>5.750000</td>\n      <td>9.730000</td>\n      <td>22.520000</td>\n      <td>14.530000</td>\n      <td>0.430000</td>\n      <td>19.220000</td>\n      <td>6.510000</td>\n      <td>10.300000</td>\n      <td>9.207500</td>\n      <td>9.030000</td>\n      <td>190.880000</td>\n      <td>292.260000</td>\n      <td>17.580000</td>\n      <td>2.450000</td>\n      <td>1.980000</td>\n      <td>10.430000</td>\n      <td>3.770000</td>\n      <td>11.160000</td>\n      <td>14.585000</td>\n      <td>7.600000</td>\n      <td>11.480000</td>\n      <td>8.240000</td>\n      <td>8.230000</td>\n      <td>21.410000</td>\n      <td>14.560000</td>\n      <td>5.510000</td>\n      <td>14.000000</td>\n      <td>6.650000</td>\n      <td>9.830000</td>\n      <td>97.540000</td>\n      <td>88.240000</td>\n      <td>7.330000</td>\n      <td>2.400000</td>\n      <td>9.000000</td>\n      <td>16.150000</td>\n      <td>23.920000</td>\n      <td>6.880000</td>\n      <td>12.090000</td>\n      <td>13.800000</td>\n      <td>4.830000</td>\n      <td>5.400000</td>\n      <td>8.460000</td>\n      <td>15.720000</td>\n      <td>21.810000</td>\n      <td>46.480000</td>\n      <td>34.940000</td>\n      <td>29.570000</td>\n      <td>12.560000</td>\n      <td>3.060000</td>\n      <td>28.340000</td>\n      <td>11.620000</td>\n      <td>18.800000</td>\n      <td>34.290000</td>\n      <td>20.680000</td>\n      <td>16.395000</td>\n      <td>3.170000</td>\n      <td>5.200000</td>\n      <td>86.000000</td>\n      <td>277.000000</td>\n      <td>1.607015</td>\n      <td>1.242300</td>\n      <td>4.000000</td>\n      <td>56.610000</td>\n      <td>57.060000</td>\n      <td>56.580000</td>\n      <td>55.530000</td>\n      <td>6.810000</td>\n      <td>50.410000</td>\n      <td>73.000000</td>\n      <td>5.420000</td>\n      <td>1.310000</td>\n      <td>14.810000</td>\n      <td>0.690000</td>\n      <td>0.510000</td>\n      <td>0.000000</td>\n      <td>1.310000</td>\n      <td>1.290000</td>\n      <td>0.000000</td>\n      <td>0.300000</td>\n      <td>0.000000</td>\n      <td>4.400000</td>\n      <td>0.870000</td>\n    </tr>\n    <tr>\n      <th>max</th>\n      <td>5.000000</td>\n      <td>5.000000</td>\n      <td>5.000000</td>\n      <td>1.172074e+07</td>\n      <td>1.029288e+11</td>\n      <td>4.982347e+11</td>\n      <td>12007.000000</td>\n      <td>49.980000</td>\n      <td>72.630000</td>\n      <td>928.650000</td>\n      <td>50.500000</td>\n      <td>833.340000</td>\n      <td>86.310000</td>\n      <td>814.410000</td>\n      <td>27.070000</td>\n      <td>127.840000</td>\n      <td>38.320000</td>\n      <td>31.130000</td>\n      <td>17.970000</td>\n      <td>223.550000</td>\n      <td>380.610000</td>\n      <td>424.350000</td>\n      <td>63.460000</td>\n      <td>11.590000</td>\n      <td>2500.000000</td>\n      <td>561.800000</td>\n      <td>22.890000</td>\n      <td>68.310000</td>\n      <td>637.260000</td>\n      <td>926.430000</td>\n      <td>266.920000</td>\n      <td>160.950000</td>\n      <td>75.000000</td>\n      <td>66.630000</td>\n      <td>61.260000</td>\n      <td>20.000000</td>\n      <td>16.000000</td>\n      <td>24.330000</td>\n      <td>29.960000</td>\n      <td>206.010000</td>\n      <td>11490.930000</td>\n      <td>178.710000</td>\n      <td>103.730000</td>\n      <td>132.840000</td>\n      <td>639.920000</td>\n      <td>989.960000</td>\n      <td>104.570000</td>\n      <td>698.580000</td>\n      <td>715.400000</td>\n      <td>153.940000</td>\n      <td>100.000000</td>\n      <td>191.380000</td>\n      <td>458.740000</td>\n      <td>745.460000</td>\n      <td>6067.880000</td>\n      <td>1662.790000</td>\n      <td>2206.430000</td>\n      <td>882.040000</td>\n      <td>927.820000</td>\n      <td>88.920000</td>\n      <td>63.490000</td>\n      <td>47.290000</td>\n      <td>77.700000</td>\n      <td>55.840000</td>\n      <td>53.920000</td>\n      <td>19.610000</td>\n      <td>85.420000</td>\n      <td>10929.000000</td>\n      <td>12641.000000</td>\n      <td>9.032950</td>\n      <td>2.900000</td>\n      <td>5.000000</td>\n      <td>67.730000</td>\n      <td>66.060000</td>\n      <td>66.790000</td>\n      <td>66.760000</td>\n      <td>11.700000</td>\n      <td>61.980000</td>\n      <td>100.000000</td>\n      <td>57.450000</td>\n      <td>66.540000</td>\n      <td>98.050000</td>\n      <td>19.100000</td>\n      <td>13.280000</td>\n      <td>9.410000</td>\n      <td>32.040000</td>\n      <td>31.630000</td>\n      <td>10.870000</td>\n      <td>16.900000</td>\n      <td>7.230000</td>\n      <td>40.620000</td>\n      <td>17.360000</td>\n    </tr>\n  </tbody>\n</table>\n</div>"
     },
     "execution_count": 270,
     "metadata": {},
     "output_type": "execute_result"
    }
   ],
   "source": [
    "stats = df.describe()\n",
    "stats\n"
   ],
   "metadata": {
    "collapsed": false,
    "ExecuteTime": {
     "end_time": "2023-11-09T13:14:15.905464300Z",
     "start_time": "2023-11-09T13:14:15.654424300Z"
    }
   }
  },
  {
   "cell_type": "code",
   "execution_count": 271,
   "outputs": [],
   "source": [
    "stats = df.describe(include='all')"
   ],
   "metadata": {
    "collapsed": false,
    "ExecuteTime": {
     "end_time": "2023-11-09T13:15:19.343447300Z",
     "start_time": "2023-11-09T13:15:19.047411400Z"
    }
   }
  },
  {
   "cell_type": "code",
   "execution_count": 272,
   "outputs": [
    {
     "data": {
      "text/plain": "            ticker          isin                           fund_name  \\\ncount        49399         49399                               49399   \nunique       49399         46661                               45932   \ntop     0P00000AWF  LU0518436570  Macquarie Valueinvest LUX Global B   \nfreq             1             8                                   8   \nmean           NaN           NaN                                 NaN   \nstd            NaN           NaN                                 NaN   \nmin            NaN           NaN                                 NaN   \n25%            NaN           NaN                                 NaN   \n50%            NaN           NaN                                 NaN   \n75%            NaN           NaN                                 NaN   \nmax            NaN           NaN                                 NaN   \n\n       morningstar_category  morningstar_rating morningstar_analyst_rating  \\\ncount                 49399        29076.000000                       6899   \nunique                  261                 NaN                          6   \ntop              Other Bond                 NaN                     Bronze   \nfreq                   3418                 NaN                       2778   \nmean                    NaN            3.242262                        NaN   \nstd                     NaN            1.061181                        NaN   \nmin                     NaN            1.000000                        NaN   \n25%                     NaN            3.000000                        NaN   \n50%                     NaN            3.000000                        NaN   \n75%                     NaN            4.000000                        NaN   \nmax                     NaN            5.000000                        NaN   \n\n        morningstar_risk_rating  morningstar_performance_rating  \\\ncount              29076.000000                    29076.000000   \nunique                      NaN                             NaN   \ntop                         NaN                             NaN   \nfreq                        NaN                             NaN   \nmean                   3.032501                        3.240164   \nstd                    1.071964                        1.063487   \nmin                    1.000000                        1.000000   \n25%                    2.000000                        3.000000   \n50%                    3.000000                        3.000000   \n75%                    4.000000                        4.000000   \nmax                    5.000000                        5.000000   \n\n       nav_per_share_currency  nav_per_share class_size_currency  \\\ncount                   49399   4.939900e+04               49399   \nunique                     23            NaN                  22   \ntop                       EUR            NaN                 USD   \nfreq                    14497            NaN               17835   \nmean                      NaN   7.661971e+03                 NaN   \nstd                       NaN   2.000447e+05                 NaN   \nmin                       NaN   1.900000e-01                 NaN   \n25%                       NaN   1.135000e+01                 NaN   \n50%                       NaN   7.595000e+01                 NaN   \n75%                       NaN   1.318050e+02                 NaN   \nmax                       NaN   1.172074e+07                 NaN   \n\n          class_size fund_size_currency     fund_size  fund_return_ytd  \\\ncount   4.939900e+04              49399  4.939900e+04     49389.000000   \nunique           NaN                 14           NaN              NaN   \ntop              NaN                USD           NaN              NaN   \nfreq             NaN              24896           NaN              NaN   \nmean    1.463266e+08                NaN  2.530081e+09        10.641131   \nstd     1.461131e+09                NaN  1.523205e+10        60.599371   \nmin     0.000000e+00                NaN  2.000000e+04       -81.500000   \n25%     7.100000e+05                NaN  1.034100e+08         4.870000   \n50%     7.360000e+06                NaN  3.663300e+08         9.680000   \n75%     4.597000e+07                NaN  1.184770e+09        14.660000   \nmax     1.029288e+11                NaN  4.982347e+11     12007.000000   \n\n        fund_return_2018  fund_return_2017  fund_return_2016  \\\ncount       41580.000000      37970.000000      34463.000000   \nunique               NaN               NaN               NaN   \ntop                  NaN               NaN               NaN   \nfreq                 NaN               NaN               NaN   \nmean           -4.740028          9.733934         21.700668   \nstd             6.921632         10.601492         13.463801   \nmin           -81.780000        -30.780000        -42.390000   \n25%            -9.200000          2.730000         14.690000   \n50%            -4.290000          8.430000         21.260000   \n75%            -0.170000         15.210000         27.670000   \nmax            49.980000         72.630000        928.650000   \n\n        fund_return_2015  fund_return_2014  fund_return_2013  \\\ncount       30890.000000      26811.000000      22940.000000   \nunique               NaN               NaN               NaN   \ntop                  NaN               NaN               NaN   \nfreq                 NaN               NaN               NaN   \nmean            0.762667          4.885930         10.537166   \nstd             9.119363         10.744813         15.143058   \nmin           -87.710000        -51.740000        -65.850000   \n25%            -4.230000         -0.430000         -0.290000   \n50%             1.280000          4.740000          7.655000   \n75%             5.750000          9.730000         22.520000   \nmax            50.500000        833.340000         86.310000   \n\n        fund_return_2012  fund_return_2011  fund_return_2010  \\\ncount       19551.000000      17048.000000      14512.000000   \nunique               NaN               NaN               NaN   \ntop                  NaN               NaN               NaN   \nfreq                 NaN               NaN               NaN   \nmean           10.218443         -6.642865         14.089390   \nstd             9.876409          9.807554          9.747106   \nmin           -42.980000        -45.980000        -19.000000   \n25%             5.360000        -12.750000          7.940000   \n50%            10.130000         -5.230000         13.530000   \n75%            14.530000          0.430000         19.220000   \nmax           814.410000         27.070000        127.840000   \n\n                                      investment_strategy  \\\ncount                                               48420   \nunique                                               6853   \ntop     The sub-fund invests for total return primaril...   \nfreq                                                  150   \nmean                                                  NaN   \nstd                                                   NaN   \nmin                                                   NaN   \n25%                                                   NaN   \n50%                                                   NaN   \n75%                                                   NaN   \nmax                                                   NaN   \n\n        trailing_return_3years  trailing_return_5years  \\\ncount             37183.000000            29815.000000   \nunique                     NaN                     NaN   \ntop                        NaN                     NaN   \nfreq                       NaN                     NaN   \nmean                  4.182635                7.489451   \nstd                   4.272880                4.522513   \nmin                 -78.130000              -58.740000   \n25%                   1.560000                4.540000   \n50%                   3.800000                7.250000   \n75%                   6.510000               10.300000   \nmax                  38.320000               31.130000   \n\n        trailing_return_10years  trailing_return_since_inception  \\\ncount                 92.000000                     46709.000000   \nunique                      NaN                              NaN   \ntop                         NaN                              NaN   \nfreq                        NaN                              NaN   \nmean                   7.075761                         6.296242   \nstd                    3.861612                         4.971198   \nmin                    0.020000                       -53.050000   \n25%                    4.785000                         3.500000   \n50%                    6.920000                         6.130000   \n75%                    9.207500                         9.030000   \nmax                   17.970000                       223.550000   \n\n       dividend_frequency   fund_benchmark morningstar_benchmark equity_style  \\\ncount               22567            40471                 36236        32399   \nunique                  6             1774                   182            3   \ntop              Annually  Not Benchmarked      MSCI ACWI NR USD        Blend   \nfreq                14362             4024                  2251        13016   \nmean                  NaN              NaN                   NaN          NaN   \nstd                   NaN              NaN                   NaN          NaN   \nmin                   NaN              NaN                   NaN          NaN   \n25%                   NaN              NaN                   NaN          NaN   \n50%                   NaN              NaN                   NaN          NaN   \n75%                   NaN              NaN                   NaN          NaN   \nmax                   NaN              NaN                   NaN          NaN   \n\n        equity_style_score equity_size  equity_size_score  \\\ncount         32399.000000       32399       32399.000000   \nunique                 NaN           3                NaN   \ntop                    NaN       Large                NaN   \nfreq                   NaN       25540                NaN   \nmean            157.790795         NaN         241.082014   \nstd              56.621528         NaN          81.044298   \nmin            -111.580000         NaN        -283.730000   \n25%             123.730000         NaN         212.540000   \n50%             154.010000         NaN         259.610000   \n75%             190.880000         NaN         292.260000   \nmax             380.610000         NaN         424.350000   \n\n        price_prospective_earnings    price_book   price_sales  \\\ncount                 32147.000000  32226.000000  32387.000000   \nunique                         NaN           NaN           NaN   \ntop                            NaN           NaN           NaN   \nfreq                           NaN           NaN           NaN   \nmean                     15.604047      2.107942      2.225090   \nstd                       5.010647      1.147002     36.754613   \nmin                       1.730000      0.110000      0.020000   \n25%                      12.570000      1.420000      0.990000   \n50%                      14.900000      1.840000      1.370000   \n75%                      17.580000      2.450000      1.980000   \nmax                      63.460000     11.590000   2500.000000   \n\n        price_cash_flow  dividend_yield_factor  \\\ncount      32161.000000           32399.000000   \nunique              NaN                    NaN   \ntop                 NaN                    NaN   \nfreq                NaN                    NaN   \nmean           8.929042               2.970892   \nstd           16.311297               1.437980   \nmin            0.150000               0.000000   \n25%            5.370000               2.050000   \n50%            7.380000               2.920000   \n75%           10.430000               3.770000   \nmax          561.800000              22.890000   \n\n        long_term_projected_earnings_growth  historical_earnings_growth  \\\ncount                          31654.000000                32075.000000   \nunique                                  NaN                         NaN   \ntop                                     NaN                         NaN   \nfreq                                    NaN                         NaN   \nmean                              10.129631                   12.485635   \nstd                                4.023342                   29.210361   \nmin                                0.080000                  -88.900000   \n25%                                8.090000                    5.780000   \n50%                                9.370000                    9.570000   \n75%                               11.160000                   14.585000   \nmax                               68.310000                  637.260000   \n\n        sales_growth  cash_flow_growth  book_value_growth           roa  \\\ncount   32204.000000      31608.000000       32045.000000  32403.000000   \nunique           NaN               NaN                NaN           NaN   \ntop              NaN               NaN                NaN           NaN   \nfreq             NaN               NaN                NaN           NaN   \nmean        4.196479          7.785326           5.376978      6.556816   \nstd        31.354503         23.586141           8.229146      3.587008   \nmin       -91.510000        -95.750000         -96.840000    -58.740000   \n25%         2.030000          2.270000           3.760000      5.290000   \n50%         4.600000          6.750000           5.650000      6.940000   \n75%         7.600000         11.480000           8.240000      8.230000   \nmax       926.430000        266.920000         160.950000     75.000000   \n\n                 roe          roic bond_interest_rate_sensitivity  \\\ncount   32158.000000  29960.000000                          10669   \nunique           NaN           NaN                              3   \ntop              NaN           NaN                            Low   \nfreq             NaN           NaN                           3693   \nmean       17.648219     11.923077                            NaN   \nstd         6.864015      5.348247                            NaN   \nmin       -57.860000    -51.280000                            NaN   \n25%        14.240000      9.770000                            NaN   \n50%        18.220000     12.550000                            NaN   \n75%        21.410000     14.560000                            NaN   \nmax        66.630000     61.260000                            NaN   \n\n       bond_credit_quality  average_coupon_rate  average_credit_quality  \\\ncount                10669         24607.000000            12168.000000   \nunique                   3                  NaN                     NaN   \ntop                    Low                  NaN                     NaN   \nfreq                  5660                  NaN                     NaN   \nmean                   NaN             4.160160               11.215319   \nstd                    NaN             1.900641                3.277273   \nmin                    NaN             0.040000                1.000000   \n25%                    NaN             2.760000               10.000000   \n50%                    NaN             4.000000               12.000000   \n75%                    NaN             5.510000               14.000000   \nmax                    NaN            20.000000               16.000000   \n\n        modified_duration  effective_maturity   asset_stock    asset_bond  \\\ncount         7152.000000         8714.000000  49399.000000  49399.000000   \nunique                NaN                 NaN           NaN           NaN   \ntop                   NaN                 NaN           NaN           NaN   \nfreq                  NaN                 NaN           NaN           NaN   \nmean             4.810053            7.415379     52.045951     42.671312   \nstd              2.866547            4.487937     45.321068    271.499244   \nmin             -3.960000            0.000000    -88.160000    -80.430000   \n25%              2.900000            4.165000      0.000000      0.000000   \n50%              4.770000            6.810000     63.230000      2.470000   \n75%              6.650000            9.830000     97.540000     88.240000   \nmax             24.330000           29.960000    206.010000  11490.930000   \n\n          asset_cash   asset_other country_exposure        top5_regions  \\\ncount   49399.000000  49399.000000            47293               48590   \nunique           NaN           NaN             6811                6977   \ntop              NaN           NaN         USA: 100  United States: 100   \nfreq             NaN           NaN             1925                1960   \nmean        0.663249      4.619530              NaN                 NaN   \nstd       266.958830     15.531491              NaN                 NaN   \nmin    -11373.330000   -104.370000              NaN                 NaN   \n25%         1.090000      0.000000              NaN                 NaN   \n50%         3.190000      0.010000              NaN                 NaN   \n75%         7.330000      2.400000              NaN                 NaN   \nmax       178.710000    103.730000              NaN                 NaN   \n\n        sector_basic_materials  sector_consumer_cyclical  \\\ncount             27960.000000              30143.000000   \nunique                     NaN                       NaN   \ntop                        NaN                       NaN   \nfreq                       NaN                       NaN   \nmean                  7.730240                 13.761152   \nstd                  49.733064                 12.236203   \nmin               -4663.940000                -98.120000   \n25%                   3.660000                  9.190000   \n50%                   6.060000                 12.360000   \n75%                   9.000000                 16.150000   \nmax                 132.840000                639.920000   \n\n        sector_financial_services  sector_real_estate  \\\ncount                29141.000000        23608.000000   \nunique                        NaN                 NaN   \ntop                           NaN                 NaN   \nfreq                          NaN                 NaN   \nmean                    20.874330            7.891586   \nstd                     18.602664           16.679510   \nmin                    -37.540000          -15.510000   \n25%                     13.500000            2.070000   \n50%                     17.840000            3.530000   \n75%                     23.920000            6.880000   \nmax                    989.960000          104.570000   \n\n        sector_consumer_defensive  sector_healthcare  sector_utilities  \\\ncount                27968.000000       27644.000000      21893.000000   \nunique                        NaN                NaN               NaN   \ntop                           NaN                NaN               NaN   \nfreq                          NaN                NaN               NaN   \nmean                     9.831399          11.143112          4.739644   \nstd                     10.559707          12.721835          7.959192   \nmin                    -56.560000         -55.920000        -36.390000   \n25%                      5.480000           5.930000          1.680000   \n50%                      8.270000          10.030000          2.970000   \n75%                     12.090000          13.800000          4.830000   \nmax                    698.580000         715.400000        153.940000   \n\n        sector_communication_services  sector_energy  sector_industrials  \\\ncount                    23699.000000   25247.000000        29650.000000   \nunique                            NaN            NaN                 NaN   \ntop                               NaN            NaN                 NaN   \nfreq                              NaN            NaN                 NaN   \nmean                         4.588756       8.851832           12.628070   \nstd                          6.242571      15.108815           11.124826   \nmin                        -32.990000     -47.280000         -143.990000   \n25%                          2.190000       3.330000            7.430000   \n50%                          3.530000       5.470000           11.070000   \n75%                          5.400000       8.460000           15.720000   \nmax                        100.000000     191.380000          458.740000   \n\n        sector_technology  market_capitalization_giant  \\\ncount        29051.000000                 14941.000000   \nunique                NaN                          NaN   \ntop                   NaN                          NaN   \nfreq                  NaN                          NaN   \nmean            16.581993                    33.651171   \nstd             16.241676                   101.210920   \nmin           -461.490000                 -1440.640000   \n25%              9.410000                    23.900000   \n50%             15.050000                    35.820000   \n75%             21.810000                    46.480000   \nmax            745.460000                  6067.880000   \n\n        market_capitalization_large  market_capitalization_medium  \\\ncount                  14941.000000                  14941.000000   \nunique                          NaN                           NaN   \ntop                             NaN                           NaN   \nfreq                            NaN                           NaN   \nmean                      26.992762                     25.391663   \nstd                       96.005290                     89.502810   \nmin                    -2967.640000                  -3398.740000   \n25%                       23.610000                     16.640000   \n50%                       30.160000                     21.930000   \n75%                       34.940000                     29.570000   \nmax                     1662.790000                   2206.430000   \n\n        market_capitalization_small  market_capitalization_micro  \\\ncount                  14941.000000                 14941.000000   \nunique                          NaN                          NaN   \ntop                             NaN                          NaN   \nfreq                            NaN                          NaN   \nmean                      10.295095                     3.669295   \nstd                       56.992571                    27.597800   \nmin                    -2078.820000                  -157.950000   \n25%                        2.530000                     0.250000   \n50%                        6.990000                     1.010000   \n75%                       12.560000                     3.060000   \nmax                      882.040000                   927.820000   \n\n        credit_quality_aaa  credit_quality_aa  credit_quality_a  \\\ncount          3587.000000        3587.000000       3587.000000   \nunique                 NaN                NaN               NaN   \ntop                    NaN                NaN               NaN   \nfreq                   NaN                NaN               NaN   \nmean             18.050309           9.373549         14.020070   \nstd              16.056235          10.154036          9.013538   \nmin              -3.810000          -8.420000          0.220000   \n25%               4.760000           3.180000          7.280000   \n50%              14.100000           5.840000         12.960000   \n75%              28.340000          11.620000         18.800000   \nmax              88.920000          63.490000         47.290000   \n\n        credit_quality_bbb  credit_quality_bb  credit_quality_b  \\\ncount          3587.000000        3587.000000       3587.000000   \nunique                 NaN                NaN               NaN   \ntop                    NaN                NaN               NaN   \nfreq                   NaN                NaN               NaN   \nmean             26.824065          14.356089         11.224921   \nstd              12.922587          10.070419         10.096200   \nmin               0.020000          -8.350000         -2.000000   \n25%              17.150000           6.030000          3.310000   \n50%              25.480000          14.040000          8.640000   \n75%              34.290000          20.680000         16.395000   \nmax              77.700000          55.840000         53.920000   \n\n        credit_quality_below_b  credit_quality_not_rated  \\\ncount              3587.000000               3587.000000   \nunique                     NaN                       NaN   \ntop                        NaN                       NaN   \nfreq                       NaN                       NaN   \nmean                  2.191751                  3.958921   \nstd                   2.808746                  7.249961   \nmin                  -3.670000                -19.200000   \n25%                   0.340000                  0.450000   \n50%                   1.220000                  2.270000   \n75%                   3.170000                  5.200000   \nmax                  19.610000                 85.420000   \n\n        holdings_number_stock  holdings_number_bonds  \\\ncount            31851.000000           24424.000000   \nunique                    NaN                    NaN   \ntop                       NaN                    NaN   \nfreq                      NaN                    NaN   \nmean               132.784591             246.514576   \nstd                385.090650             543.771459   \nmin                  1.000000               1.000000   \n25%                 33.000000              31.000000   \n50%                 50.000000             122.000000   \n75%                 86.000000             277.000000   \nmax              10929.000000           12641.000000   \n\n                                            top5_holdings  ongoing_cost  \\\ncount                                               49365  45362.000000   \nunique                                               8883           NaN   \ntop     US 5 Year Note (CBT) Sept19: 9.73, HSBC US Dol...           NaN   \nfreq                                                  130           NaN   \nmean                                                  NaN      1.161708   \nstd                                                   NaN      0.655354   \nmin                                                   NaN     -0.030570   \n25%                                                   NaN      0.740000   \n50%                                                   NaN      1.057845   \n75%                                                   NaN      1.607015   \nmax                                                   NaN      9.032950   \n\n        management_fees  sustainability_rank     esg_score  \\\ncount      45017.000000         29630.000000  30215.000000   \nunique              NaN                  NaN           NaN   \ntop                 NaN                  NaN           NaN   \nfreq                NaN                  NaN           NaN   \nmean           0.860051             3.018731     53.160458   \nstd            0.498645             1.042623      5.141914   \nmin            0.000000             1.000000     36.380000   \n25%            0.500000             2.000000     49.700000   \n50%            0.750000             3.000000     53.410000   \n75%            1.242300             4.000000     56.610000   \nmax            2.900000             5.000000     67.730000   \n\n        environmental_score  social_score  governance_score  \\\ncount          30215.000000  30215.000000      30215.000000   \nunique                  NaN           NaN               NaN   \ntop                     NaN           NaN               NaN   \nfreq                    NaN           NaN               NaN   \nmean              54.212487     53.850744         52.421077   \nstd                4.322378      4.389825          4.389036   \nmin                0.000000      0.000000          0.000000   \n25%               51.530000     50.870000         49.710000   \n50%               54.660000     53.730000         52.530000   \n75%               57.060000     56.580000         55.530000   \nmax               66.060000     66.790000         66.760000   \n\n        controversy_score  sustainability_score  \\\ncount        30757.000000          30215.000000   \nunique                NaN                   NaN   \ntop                   NaN                   NaN   \nfreq                  NaN                   NaN   \nmean             5.144004             48.004628   \nstd              2.194606              4.171512   \nmin              0.010000             31.060000   \n25%              3.650000             45.420000   \n50%              5.350000             47.850000   \n75%              6.810000             50.410000   \nmax             11.700000             61.980000   \n\n        sustainability_percentage_rank  involvement_abortive_contraceptive  \\\ncount                     31922.000000                        45068.000000   \nunique                             NaN                                 NaN   \ntop                                NaN                                 NaN   \nfreq                               NaN                                 NaN   \nmean                         49.872001                            3.775722   \nstd                          27.148133                            4.638229   \nmin                           1.000000                            0.000000   \n25%                          28.000000                            0.360000   \n50%                          48.000000                            2.390000   \n75%                          73.000000                            5.420000   \nmax                         100.000000                           57.450000   \n\n        involvement_alcohol  involvement_animal_testing  \\\ncount          45068.000000                45068.000000   \nunique                  NaN                         NaN   \ntop                     NaN                         NaN   \nfreq                    NaN                         NaN   \nmean               1.111676                    9.682177   \nstd                2.117683                   10.734834   \nmin                0.000000                    0.000000   \n25%                0.000000                    1.920000   \n50%                0.160000                    6.130000   \n75%                1.310000                   14.810000   \nmax               66.540000                   98.050000   \n\n        involvement_controversial_weapons  involvement_gambling  \\\ncount                        45068.000000          45068.000000   \nunique                                NaN                   NaN   \ntop                                   NaN                   NaN   \nfreq                                  NaN                   NaN   \nmean                             0.632384              0.489367   \nstd                              1.333692              1.024051   \nmin                              0.000000              0.000000   \n25%                              0.000000              0.000000   \n50%                              0.000000              0.000000   \n75%                              0.690000              0.510000   \nmax                             19.100000             13.280000   \n\n        involvement_gmo  involvement_military_contracting  \\\ncount      45068.000000                      45068.000000   \nunique              NaN                               NaN   \ntop                 NaN                               NaN   \nfreq                NaN                               NaN   \nmean           0.047422                          0.976092   \nstd            0.324684                          1.730360   \nmin            0.000000                          0.000000   \n25%            0.000000                          0.000000   \n50%            0.000000                          0.100000   \n75%            0.000000                          1.310000   \nmax            9.410000                         32.040000   \n\n        involvement_nuclear  involvement_palm_oil  involvement_pesticides  \\\ncount          45068.000000          45068.000000            45068.000000   \nunique                  NaN                   NaN                     NaN   \ntop                     NaN                   NaN                     NaN   \nfreq                    NaN                   NaN                     NaN   \nmean               1.018608              0.072934                0.363763   \nstd                2.059553              0.370874                0.993295   \nmin                0.000000              0.000000                0.000000   \n25%                0.000000              0.000000                0.000000   \n50%                0.110000              0.000000                0.000000   \n75%                1.290000              0.000000                0.300000   \nmax               31.630000             10.870000               16.900000   \n\n        involvement_small_arms  involvement_thermal_coal  involvement_tobacco  \ncount             45068.000000              45068.000000         45068.000000  \nunique                     NaN                       NaN                  NaN  \ntop                        NaN                       NaN                  NaN  \nfreq                       NaN                       NaN                  NaN  \nmean                  0.102977                  3.063404             0.745578  \nstd                   0.407630                  3.531592             1.478576  \nmin                   0.000000                  0.000000             0.000000  \n25%                   0.000000                  0.370000             0.000000  \n50%                   0.000000                  2.200000             0.000000  \n75%                   0.000000                  4.400000             0.870000  \nmax                   7.230000                 40.620000            17.360000  ",
      "text/html": "<div>\n<style scoped>\n    .dataframe tbody tr th:only-of-type {\n        vertical-align: middle;\n    }\n\n    .dataframe tbody tr th {\n        vertical-align: top;\n    }\n\n    .dataframe thead th {\n        text-align: right;\n    }\n</style>\n<table border=\"1\" class=\"dataframe\">\n  <thead>\n    <tr style=\"text-align: right;\">\n      <th></th>\n      <th>ticker</th>\n      <th>isin</th>\n      <th>fund_name</th>\n      <th>morningstar_category</th>\n      <th>morningstar_rating</th>\n      <th>morningstar_analyst_rating</th>\n      <th>morningstar_risk_rating</th>\n      <th>morningstar_performance_rating</th>\n      <th>nav_per_share_currency</th>\n      <th>nav_per_share</th>\n      <th>class_size_currency</th>\n      <th>class_size</th>\n      <th>fund_size_currency</th>\n      <th>fund_size</th>\n      <th>fund_return_ytd</th>\n      <th>fund_return_2018</th>\n      <th>fund_return_2017</th>\n      <th>fund_return_2016</th>\n      <th>fund_return_2015</th>\n      <th>fund_return_2014</th>\n      <th>fund_return_2013</th>\n      <th>fund_return_2012</th>\n      <th>fund_return_2011</th>\n      <th>fund_return_2010</th>\n      <th>investment_strategy</th>\n      <th>trailing_return_3years</th>\n      <th>trailing_return_5years</th>\n      <th>trailing_return_10years</th>\n      <th>trailing_return_since_inception</th>\n      <th>dividend_frequency</th>\n      <th>fund_benchmark</th>\n      <th>morningstar_benchmark</th>\n      <th>equity_style</th>\n      <th>equity_style_score</th>\n      <th>equity_size</th>\n      <th>equity_size_score</th>\n      <th>price_prospective_earnings</th>\n      <th>price_book</th>\n      <th>price_sales</th>\n      <th>price_cash_flow</th>\n      <th>dividend_yield_factor</th>\n      <th>long_term_projected_earnings_growth</th>\n      <th>historical_earnings_growth</th>\n      <th>sales_growth</th>\n      <th>cash_flow_growth</th>\n      <th>book_value_growth</th>\n      <th>roa</th>\n      <th>roe</th>\n      <th>roic</th>\n      <th>bond_interest_rate_sensitivity</th>\n      <th>bond_credit_quality</th>\n      <th>average_coupon_rate</th>\n      <th>average_credit_quality</th>\n      <th>modified_duration</th>\n      <th>effective_maturity</th>\n      <th>asset_stock</th>\n      <th>asset_bond</th>\n      <th>asset_cash</th>\n      <th>asset_other</th>\n      <th>country_exposure</th>\n      <th>top5_regions</th>\n      <th>sector_basic_materials</th>\n      <th>sector_consumer_cyclical</th>\n      <th>sector_financial_services</th>\n      <th>sector_real_estate</th>\n      <th>sector_consumer_defensive</th>\n      <th>sector_healthcare</th>\n      <th>sector_utilities</th>\n      <th>sector_communication_services</th>\n      <th>sector_energy</th>\n      <th>sector_industrials</th>\n      <th>sector_technology</th>\n      <th>market_capitalization_giant</th>\n      <th>market_capitalization_large</th>\n      <th>market_capitalization_medium</th>\n      <th>market_capitalization_small</th>\n      <th>market_capitalization_micro</th>\n      <th>credit_quality_aaa</th>\n      <th>credit_quality_aa</th>\n      <th>credit_quality_a</th>\n      <th>credit_quality_bbb</th>\n      <th>credit_quality_bb</th>\n      <th>credit_quality_b</th>\n      <th>credit_quality_below_b</th>\n      <th>credit_quality_not_rated</th>\n      <th>holdings_number_stock</th>\n      <th>holdings_number_bonds</th>\n      <th>top5_holdings</th>\n      <th>ongoing_cost</th>\n      <th>management_fees</th>\n      <th>sustainability_rank</th>\n      <th>esg_score</th>\n      <th>environmental_score</th>\n      <th>social_score</th>\n      <th>governance_score</th>\n      <th>controversy_score</th>\n      <th>sustainability_score</th>\n      <th>sustainability_percentage_rank</th>\n      <th>involvement_abortive_contraceptive</th>\n      <th>involvement_alcohol</th>\n      <th>involvement_animal_testing</th>\n      <th>involvement_controversial_weapons</th>\n      <th>involvement_gambling</th>\n      <th>involvement_gmo</th>\n      <th>involvement_military_contracting</th>\n      <th>involvement_nuclear</th>\n      <th>involvement_palm_oil</th>\n      <th>involvement_pesticides</th>\n      <th>involvement_small_arms</th>\n      <th>involvement_thermal_coal</th>\n      <th>involvement_tobacco</th>\n    </tr>\n  </thead>\n  <tbody>\n    <tr>\n      <th>count</th>\n      <td>49399</td>\n      <td>49399</td>\n      <td>49399</td>\n      <td>49399</td>\n      <td>29076.000000</td>\n      <td>6899</td>\n      <td>29076.000000</td>\n      <td>29076.000000</td>\n      <td>49399</td>\n      <td>4.939900e+04</td>\n      <td>49399</td>\n      <td>4.939900e+04</td>\n      <td>49399</td>\n      <td>4.939900e+04</td>\n      <td>49389.000000</td>\n      <td>41580.000000</td>\n      <td>37970.000000</td>\n      <td>34463.000000</td>\n      <td>30890.000000</td>\n      <td>26811.000000</td>\n      <td>22940.000000</td>\n      <td>19551.000000</td>\n      <td>17048.000000</td>\n      <td>14512.000000</td>\n      <td>48420</td>\n      <td>37183.000000</td>\n      <td>29815.000000</td>\n      <td>92.000000</td>\n      <td>46709.000000</td>\n      <td>22567</td>\n      <td>40471</td>\n      <td>36236</td>\n      <td>32399</td>\n      <td>32399.000000</td>\n      <td>32399</td>\n      <td>32399.000000</td>\n      <td>32147.000000</td>\n      <td>32226.000000</td>\n      <td>32387.000000</td>\n      <td>32161.000000</td>\n      <td>32399.000000</td>\n      <td>31654.000000</td>\n      <td>32075.000000</td>\n      <td>32204.000000</td>\n      <td>31608.000000</td>\n      <td>32045.000000</td>\n      <td>32403.000000</td>\n      <td>32158.000000</td>\n      <td>29960.000000</td>\n      <td>10669</td>\n      <td>10669</td>\n      <td>24607.000000</td>\n      <td>12168.000000</td>\n      <td>7152.000000</td>\n      <td>8714.000000</td>\n      <td>49399.000000</td>\n      <td>49399.000000</td>\n      <td>49399.000000</td>\n      <td>49399.000000</td>\n      <td>47293</td>\n      <td>48590</td>\n      <td>27960.000000</td>\n      <td>30143.000000</td>\n      <td>29141.000000</td>\n      <td>23608.000000</td>\n      <td>27968.000000</td>\n      <td>27644.000000</td>\n      <td>21893.000000</td>\n      <td>23699.000000</td>\n      <td>25247.000000</td>\n      <td>29650.000000</td>\n      <td>29051.000000</td>\n      <td>14941.000000</td>\n      <td>14941.000000</td>\n      <td>14941.000000</td>\n      <td>14941.000000</td>\n      <td>14941.000000</td>\n      <td>3587.000000</td>\n      <td>3587.000000</td>\n      <td>3587.000000</td>\n      <td>3587.000000</td>\n      <td>3587.000000</td>\n      <td>3587.000000</td>\n      <td>3587.000000</td>\n      <td>3587.000000</td>\n      <td>31851.000000</td>\n      <td>24424.000000</td>\n      <td>49365</td>\n      <td>45362.000000</td>\n      <td>45017.000000</td>\n      <td>29630.000000</td>\n      <td>30215.000000</td>\n      <td>30215.000000</td>\n      <td>30215.000000</td>\n      <td>30215.000000</td>\n      <td>30757.000000</td>\n      <td>30215.000000</td>\n      <td>31922.000000</td>\n      <td>45068.000000</td>\n      <td>45068.000000</td>\n      <td>45068.000000</td>\n      <td>45068.000000</td>\n      <td>45068.000000</td>\n      <td>45068.000000</td>\n      <td>45068.000000</td>\n      <td>45068.000000</td>\n      <td>45068.000000</td>\n      <td>45068.000000</td>\n      <td>45068.000000</td>\n      <td>45068.000000</td>\n      <td>45068.000000</td>\n    </tr>\n    <tr>\n      <th>unique</th>\n      <td>49399</td>\n      <td>46661</td>\n      <td>45932</td>\n      <td>261</td>\n      <td>NaN</td>\n      <td>6</td>\n      <td>NaN</td>\n      <td>NaN</td>\n      <td>23</td>\n      <td>NaN</td>\n      <td>22</td>\n      <td>NaN</td>\n      <td>14</td>\n      <td>NaN</td>\n      <td>NaN</td>\n      <td>NaN</td>\n      <td>NaN</td>\n      <td>NaN</td>\n      <td>NaN</td>\n      <td>NaN</td>\n      <td>NaN</td>\n      <td>NaN</td>\n      <td>NaN</td>\n      <td>NaN</td>\n      <td>6853</td>\n      <td>NaN</td>\n      <td>NaN</td>\n      <td>NaN</td>\n      <td>NaN</td>\n      <td>6</td>\n      <td>1774</td>\n      <td>182</td>\n      <td>3</td>\n      <td>NaN</td>\n      <td>3</td>\n      <td>NaN</td>\n      <td>NaN</td>\n      <td>NaN</td>\n      <td>NaN</td>\n      <td>NaN</td>\n      <td>NaN</td>\n      <td>NaN</td>\n      <td>NaN</td>\n      <td>NaN</td>\n      <td>NaN</td>\n      <td>NaN</td>\n      <td>NaN</td>\n      <td>NaN</td>\n      <td>NaN</td>\n      <td>3</td>\n      <td>3</td>\n      <td>NaN</td>\n      <td>NaN</td>\n      <td>NaN</td>\n      <td>NaN</td>\n      <td>NaN</td>\n      <td>NaN</td>\n      <td>NaN</td>\n      <td>NaN</td>\n      <td>6811</td>\n      <td>6977</td>\n      <td>NaN</td>\n      <td>NaN</td>\n      <td>NaN</td>\n      <td>NaN</td>\n      <td>NaN</td>\n      <td>NaN</td>\n      <td>NaN</td>\n      <td>NaN</td>\n      <td>NaN</td>\n      <td>NaN</td>\n      <td>NaN</td>\n      <td>NaN</td>\n      <td>NaN</td>\n      <td>NaN</td>\n      <td>NaN</td>\n      <td>NaN</td>\n      <td>NaN</td>\n      <td>NaN</td>\n      <td>NaN</td>\n      <td>NaN</td>\n      <td>NaN</td>\n      <td>NaN</td>\n      <td>NaN</td>\n      <td>NaN</td>\n      <td>NaN</td>\n      <td>NaN</td>\n      <td>8883</td>\n      <td>NaN</td>\n      <td>NaN</td>\n      <td>NaN</td>\n      <td>NaN</td>\n      <td>NaN</td>\n      <td>NaN</td>\n      <td>NaN</td>\n      <td>NaN</td>\n      <td>NaN</td>\n      <td>NaN</td>\n      <td>NaN</td>\n      <td>NaN</td>\n      <td>NaN</td>\n      <td>NaN</td>\n      <td>NaN</td>\n      <td>NaN</td>\n      <td>NaN</td>\n      <td>NaN</td>\n      <td>NaN</td>\n      <td>NaN</td>\n      <td>NaN</td>\n      <td>NaN</td>\n      <td>NaN</td>\n    </tr>\n    <tr>\n      <th>top</th>\n      <td>0P00000AWF</td>\n      <td>LU0518436570</td>\n      <td>Macquarie Valueinvest LUX Global B</td>\n      <td>Other Bond</td>\n      <td>NaN</td>\n      <td>Bronze</td>\n      <td>NaN</td>\n      <td>NaN</td>\n      <td>EUR</td>\n      <td>NaN</td>\n      <td>USD</td>\n      <td>NaN</td>\n      <td>USD</td>\n      <td>NaN</td>\n      <td>NaN</td>\n      <td>NaN</td>\n      <td>NaN</td>\n      <td>NaN</td>\n      <td>NaN</td>\n      <td>NaN</td>\n      <td>NaN</td>\n      <td>NaN</td>\n      <td>NaN</td>\n      <td>NaN</td>\n      <td>The sub-fund invests for total return primaril...</td>\n      <td>NaN</td>\n      <td>NaN</td>\n      <td>NaN</td>\n      <td>NaN</td>\n      <td>Annually</td>\n      <td>Not Benchmarked</td>\n      <td>MSCI ACWI NR USD</td>\n      <td>Blend</td>\n      <td>NaN</td>\n      <td>Large</td>\n      <td>NaN</td>\n      <td>NaN</td>\n      <td>NaN</td>\n      <td>NaN</td>\n      <td>NaN</td>\n      <td>NaN</td>\n      <td>NaN</td>\n      <td>NaN</td>\n      <td>NaN</td>\n      <td>NaN</td>\n      <td>NaN</td>\n      <td>NaN</td>\n      <td>NaN</td>\n      <td>NaN</td>\n      <td>Low</td>\n      <td>Low</td>\n      <td>NaN</td>\n      <td>NaN</td>\n      <td>NaN</td>\n      <td>NaN</td>\n      <td>NaN</td>\n      <td>NaN</td>\n      <td>NaN</td>\n      <td>NaN</td>\n      <td>USA: 100</td>\n      <td>United States: 100</td>\n      <td>NaN</td>\n      <td>NaN</td>\n      <td>NaN</td>\n      <td>NaN</td>\n      <td>NaN</td>\n      <td>NaN</td>\n      <td>NaN</td>\n      <td>NaN</td>\n      <td>NaN</td>\n      <td>NaN</td>\n      <td>NaN</td>\n      <td>NaN</td>\n      <td>NaN</td>\n      <td>NaN</td>\n      <td>NaN</td>\n      <td>NaN</td>\n      <td>NaN</td>\n      <td>NaN</td>\n      <td>NaN</td>\n      <td>NaN</td>\n      <td>NaN</td>\n      <td>NaN</td>\n      <td>NaN</td>\n      <td>NaN</td>\n      <td>NaN</td>\n      <td>NaN</td>\n      <td>US 5 Year Note (CBT) Sept19: 9.73, HSBC US Dol...</td>\n      <td>NaN</td>\n      <td>NaN</td>\n      <td>NaN</td>\n      <td>NaN</td>\n      <td>NaN</td>\n      <td>NaN</td>\n      <td>NaN</td>\n      <td>NaN</td>\n      <td>NaN</td>\n      <td>NaN</td>\n      <td>NaN</td>\n      <td>NaN</td>\n      <td>NaN</td>\n      <td>NaN</td>\n      <td>NaN</td>\n      <td>NaN</td>\n      <td>NaN</td>\n      <td>NaN</td>\n      <td>NaN</td>\n      <td>NaN</td>\n      <td>NaN</td>\n      <td>NaN</td>\n      <td>NaN</td>\n    </tr>\n    <tr>\n      <th>freq</th>\n      <td>1</td>\n      <td>8</td>\n      <td>8</td>\n      <td>3418</td>\n      <td>NaN</td>\n      <td>2778</td>\n      <td>NaN</td>\n      <td>NaN</td>\n      <td>14497</td>\n      <td>NaN</td>\n      <td>17835</td>\n      <td>NaN</td>\n      <td>24896</td>\n      <td>NaN</td>\n      <td>NaN</td>\n      <td>NaN</td>\n      <td>NaN</td>\n      <td>NaN</td>\n      <td>NaN</td>\n      <td>NaN</td>\n      <td>NaN</td>\n      <td>NaN</td>\n      <td>NaN</td>\n      <td>NaN</td>\n      <td>150</td>\n      <td>NaN</td>\n      <td>NaN</td>\n      <td>NaN</td>\n      <td>NaN</td>\n      <td>14362</td>\n      <td>4024</td>\n      <td>2251</td>\n      <td>13016</td>\n      <td>NaN</td>\n      <td>25540</td>\n      <td>NaN</td>\n      <td>NaN</td>\n      <td>NaN</td>\n      <td>NaN</td>\n      <td>NaN</td>\n      <td>NaN</td>\n      <td>NaN</td>\n      <td>NaN</td>\n      <td>NaN</td>\n      <td>NaN</td>\n      <td>NaN</td>\n      <td>NaN</td>\n      <td>NaN</td>\n      <td>NaN</td>\n      <td>3693</td>\n      <td>5660</td>\n      <td>NaN</td>\n      <td>NaN</td>\n      <td>NaN</td>\n      <td>NaN</td>\n      <td>NaN</td>\n      <td>NaN</td>\n      <td>NaN</td>\n      <td>NaN</td>\n      <td>1925</td>\n      <td>1960</td>\n      <td>NaN</td>\n      <td>NaN</td>\n      <td>NaN</td>\n      <td>NaN</td>\n      <td>NaN</td>\n      <td>NaN</td>\n      <td>NaN</td>\n      <td>NaN</td>\n      <td>NaN</td>\n      <td>NaN</td>\n      <td>NaN</td>\n      <td>NaN</td>\n      <td>NaN</td>\n      <td>NaN</td>\n      <td>NaN</td>\n      <td>NaN</td>\n      <td>NaN</td>\n      <td>NaN</td>\n      <td>NaN</td>\n      <td>NaN</td>\n      <td>NaN</td>\n      <td>NaN</td>\n      <td>NaN</td>\n      <td>NaN</td>\n      <td>NaN</td>\n      <td>NaN</td>\n      <td>130</td>\n      <td>NaN</td>\n      <td>NaN</td>\n      <td>NaN</td>\n      <td>NaN</td>\n      <td>NaN</td>\n      <td>NaN</td>\n      <td>NaN</td>\n      <td>NaN</td>\n      <td>NaN</td>\n      <td>NaN</td>\n      <td>NaN</td>\n      <td>NaN</td>\n      <td>NaN</td>\n      <td>NaN</td>\n      <td>NaN</td>\n      <td>NaN</td>\n      <td>NaN</td>\n      <td>NaN</td>\n      <td>NaN</td>\n      <td>NaN</td>\n      <td>NaN</td>\n      <td>NaN</td>\n      <td>NaN</td>\n    </tr>\n    <tr>\n      <th>mean</th>\n      <td>NaN</td>\n      <td>NaN</td>\n      <td>NaN</td>\n      <td>NaN</td>\n      <td>3.242262</td>\n      <td>NaN</td>\n      <td>3.032501</td>\n      <td>3.240164</td>\n      <td>NaN</td>\n      <td>7.661971e+03</td>\n      <td>NaN</td>\n      <td>1.463266e+08</td>\n      <td>NaN</td>\n      <td>2.530081e+09</td>\n      <td>10.641131</td>\n      <td>-4.740028</td>\n      <td>9.733934</td>\n      <td>21.700668</td>\n      <td>0.762667</td>\n      <td>4.885930</td>\n      <td>10.537166</td>\n      <td>10.218443</td>\n      <td>-6.642865</td>\n      <td>14.089390</td>\n      <td>NaN</td>\n      <td>4.182635</td>\n      <td>7.489451</td>\n      <td>7.075761</td>\n      <td>6.296242</td>\n      <td>NaN</td>\n      <td>NaN</td>\n      <td>NaN</td>\n      <td>NaN</td>\n      <td>157.790795</td>\n      <td>NaN</td>\n      <td>241.082014</td>\n      <td>15.604047</td>\n      <td>2.107942</td>\n      <td>2.225090</td>\n      <td>8.929042</td>\n      <td>2.970892</td>\n      <td>10.129631</td>\n      <td>12.485635</td>\n      <td>4.196479</td>\n      <td>7.785326</td>\n      <td>5.376978</td>\n      <td>6.556816</td>\n      <td>17.648219</td>\n      <td>11.923077</td>\n      <td>NaN</td>\n      <td>NaN</td>\n      <td>4.160160</td>\n      <td>11.215319</td>\n      <td>4.810053</td>\n      <td>7.415379</td>\n      <td>52.045951</td>\n      <td>42.671312</td>\n      <td>0.663249</td>\n      <td>4.619530</td>\n      <td>NaN</td>\n      <td>NaN</td>\n      <td>7.730240</td>\n      <td>13.761152</td>\n      <td>20.874330</td>\n      <td>7.891586</td>\n      <td>9.831399</td>\n      <td>11.143112</td>\n      <td>4.739644</td>\n      <td>4.588756</td>\n      <td>8.851832</td>\n      <td>12.628070</td>\n      <td>16.581993</td>\n      <td>33.651171</td>\n      <td>26.992762</td>\n      <td>25.391663</td>\n      <td>10.295095</td>\n      <td>3.669295</td>\n      <td>18.050309</td>\n      <td>9.373549</td>\n      <td>14.020070</td>\n      <td>26.824065</td>\n      <td>14.356089</td>\n      <td>11.224921</td>\n      <td>2.191751</td>\n      <td>3.958921</td>\n      <td>132.784591</td>\n      <td>246.514576</td>\n      <td>NaN</td>\n      <td>1.161708</td>\n      <td>0.860051</td>\n      <td>3.018731</td>\n      <td>53.160458</td>\n      <td>54.212487</td>\n      <td>53.850744</td>\n      <td>52.421077</td>\n      <td>5.144004</td>\n      <td>48.004628</td>\n      <td>49.872001</td>\n      <td>3.775722</td>\n      <td>1.111676</td>\n      <td>9.682177</td>\n      <td>0.632384</td>\n      <td>0.489367</td>\n      <td>0.047422</td>\n      <td>0.976092</td>\n      <td>1.018608</td>\n      <td>0.072934</td>\n      <td>0.363763</td>\n      <td>0.102977</td>\n      <td>3.063404</td>\n      <td>0.745578</td>\n    </tr>\n    <tr>\n      <th>std</th>\n      <td>NaN</td>\n      <td>NaN</td>\n      <td>NaN</td>\n      <td>NaN</td>\n      <td>1.061181</td>\n      <td>NaN</td>\n      <td>1.071964</td>\n      <td>1.063487</td>\n      <td>NaN</td>\n      <td>2.000447e+05</td>\n      <td>NaN</td>\n      <td>1.461131e+09</td>\n      <td>NaN</td>\n      <td>1.523205e+10</td>\n      <td>60.599371</td>\n      <td>6.921632</td>\n      <td>10.601492</td>\n      <td>13.463801</td>\n      <td>9.119363</td>\n      <td>10.744813</td>\n      <td>15.143058</td>\n      <td>9.876409</td>\n      <td>9.807554</td>\n      <td>9.747106</td>\n      <td>NaN</td>\n      <td>4.272880</td>\n      <td>4.522513</td>\n      <td>3.861612</td>\n      <td>4.971198</td>\n      <td>NaN</td>\n      <td>NaN</td>\n      <td>NaN</td>\n      <td>NaN</td>\n      <td>56.621528</td>\n      <td>NaN</td>\n      <td>81.044298</td>\n      <td>5.010647</td>\n      <td>1.147002</td>\n      <td>36.754613</td>\n      <td>16.311297</td>\n      <td>1.437980</td>\n      <td>4.023342</td>\n      <td>29.210361</td>\n      <td>31.354503</td>\n      <td>23.586141</td>\n      <td>8.229146</td>\n      <td>3.587008</td>\n      <td>6.864015</td>\n      <td>5.348247</td>\n      <td>NaN</td>\n      <td>NaN</td>\n      <td>1.900641</td>\n      <td>3.277273</td>\n      <td>2.866547</td>\n      <td>4.487937</td>\n      <td>45.321068</td>\n      <td>271.499244</td>\n      <td>266.958830</td>\n      <td>15.531491</td>\n      <td>NaN</td>\n      <td>NaN</td>\n      <td>49.733064</td>\n      <td>12.236203</td>\n      <td>18.602664</td>\n      <td>16.679510</td>\n      <td>10.559707</td>\n      <td>12.721835</td>\n      <td>7.959192</td>\n      <td>6.242571</td>\n      <td>15.108815</td>\n      <td>11.124826</td>\n      <td>16.241676</td>\n      <td>101.210920</td>\n      <td>96.005290</td>\n      <td>89.502810</td>\n      <td>56.992571</td>\n      <td>27.597800</td>\n      <td>16.056235</td>\n      <td>10.154036</td>\n      <td>9.013538</td>\n      <td>12.922587</td>\n      <td>10.070419</td>\n      <td>10.096200</td>\n      <td>2.808746</td>\n      <td>7.249961</td>\n      <td>385.090650</td>\n      <td>543.771459</td>\n      <td>NaN</td>\n      <td>0.655354</td>\n      <td>0.498645</td>\n      <td>1.042623</td>\n      <td>5.141914</td>\n      <td>4.322378</td>\n      <td>4.389825</td>\n      <td>4.389036</td>\n      <td>2.194606</td>\n      <td>4.171512</td>\n      <td>27.148133</td>\n      <td>4.638229</td>\n      <td>2.117683</td>\n      <td>10.734834</td>\n      <td>1.333692</td>\n      <td>1.024051</td>\n      <td>0.324684</td>\n      <td>1.730360</td>\n      <td>2.059553</td>\n      <td>0.370874</td>\n      <td>0.993295</td>\n      <td>0.407630</td>\n      <td>3.531592</td>\n      <td>1.478576</td>\n    </tr>\n    <tr>\n      <th>min</th>\n      <td>NaN</td>\n      <td>NaN</td>\n      <td>NaN</td>\n      <td>NaN</td>\n      <td>1.000000</td>\n      <td>NaN</td>\n      <td>1.000000</td>\n      <td>1.000000</td>\n      <td>NaN</td>\n      <td>1.900000e-01</td>\n      <td>NaN</td>\n      <td>0.000000e+00</td>\n      <td>NaN</td>\n      <td>2.000000e+04</td>\n      <td>-81.500000</td>\n      <td>-81.780000</td>\n      <td>-30.780000</td>\n      <td>-42.390000</td>\n      <td>-87.710000</td>\n      <td>-51.740000</td>\n      <td>-65.850000</td>\n      <td>-42.980000</td>\n      <td>-45.980000</td>\n      <td>-19.000000</td>\n      <td>NaN</td>\n      <td>-78.130000</td>\n      <td>-58.740000</td>\n      <td>0.020000</td>\n      <td>-53.050000</td>\n      <td>NaN</td>\n      <td>NaN</td>\n      <td>NaN</td>\n      <td>NaN</td>\n      <td>-111.580000</td>\n      <td>NaN</td>\n      <td>-283.730000</td>\n      <td>1.730000</td>\n      <td>0.110000</td>\n      <td>0.020000</td>\n      <td>0.150000</td>\n      <td>0.000000</td>\n      <td>0.080000</td>\n      <td>-88.900000</td>\n      <td>-91.510000</td>\n      <td>-95.750000</td>\n      <td>-96.840000</td>\n      <td>-58.740000</td>\n      <td>-57.860000</td>\n      <td>-51.280000</td>\n      <td>NaN</td>\n      <td>NaN</td>\n      <td>0.040000</td>\n      <td>1.000000</td>\n      <td>-3.960000</td>\n      <td>0.000000</td>\n      <td>-88.160000</td>\n      <td>-80.430000</td>\n      <td>-11373.330000</td>\n      <td>-104.370000</td>\n      <td>NaN</td>\n      <td>NaN</td>\n      <td>-4663.940000</td>\n      <td>-98.120000</td>\n      <td>-37.540000</td>\n      <td>-15.510000</td>\n      <td>-56.560000</td>\n      <td>-55.920000</td>\n      <td>-36.390000</td>\n      <td>-32.990000</td>\n      <td>-47.280000</td>\n      <td>-143.990000</td>\n      <td>-461.490000</td>\n      <td>-1440.640000</td>\n      <td>-2967.640000</td>\n      <td>-3398.740000</td>\n      <td>-2078.820000</td>\n      <td>-157.950000</td>\n      <td>-3.810000</td>\n      <td>-8.420000</td>\n      <td>0.220000</td>\n      <td>0.020000</td>\n      <td>-8.350000</td>\n      <td>-2.000000</td>\n      <td>-3.670000</td>\n      <td>-19.200000</td>\n      <td>1.000000</td>\n      <td>1.000000</td>\n      <td>NaN</td>\n      <td>-0.030570</td>\n      <td>0.000000</td>\n      <td>1.000000</td>\n      <td>36.380000</td>\n      <td>0.000000</td>\n      <td>0.000000</td>\n      <td>0.000000</td>\n      <td>0.010000</td>\n      <td>31.060000</td>\n      <td>1.000000</td>\n      <td>0.000000</td>\n      <td>0.000000</td>\n      <td>0.000000</td>\n      <td>0.000000</td>\n      <td>0.000000</td>\n      <td>0.000000</td>\n      <td>0.000000</td>\n      <td>0.000000</td>\n      <td>0.000000</td>\n      <td>0.000000</td>\n      <td>0.000000</td>\n      <td>0.000000</td>\n      <td>0.000000</td>\n    </tr>\n    <tr>\n      <th>25%</th>\n      <td>NaN</td>\n      <td>NaN</td>\n      <td>NaN</td>\n      <td>NaN</td>\n      <td>3.000000</td>\n      <td>NaN</td>\n      <td>2.000000</td>\n      <td>3.000000</td>\n      <td>NaN</td>\n      <td>1.135000e+01</td>\n      <td>NaN</td>\n      <td>7.100000e+05</td>\n      <td>NaN</td>\n      <td>1.034100e+08</td>\n      <td>4.870000</td>\n      <td>-9.200000</td>\n      <td>2.730000</td>\n      <td>14.690000</td>\n      <td>-4.230000</td>\n      <td>-0.430000</td>\n      <td>-0.290000</td>\n      <td>5.360000</td>\n      <td>-12.750000</td>\n      <td>7.940000</td>\n      <td>NaN</td>\n      <td>1.560000</td>\n      <td>4.540000</td>\n      <td>4.785000</td>\n      <td>3.500000</td>\n      <td>NaN</td>\n      <td>NaN</td>\n      <td>NaN</td>\n      <td>NaN</td>\n      <td>123.730000</td>\n      <td>NaN</td>\n      <td>212.540000</td>\n      <td>12.570000</td>\n      <td>1.420000</td>\n      <td>0.990000</td>\n      <td>5.370000</td>\n      <td>2.050000</td>\n      <td>8.090000</td>\n      <td>5.780000</td>\n      <td>2.030000</td>\n      <td>2.270000</td>\n      <td>3.760000</td>\n      <td>5.290000</td>\n      <td>14.240000</td>\n      <td>9.770000</td>\n      <td>NaN</td>\n      <td>NaN</td>\n      <td>2.760000</td>\n      <td>10.000000</td>\n      <td>2.900000</td>\n      <td>4.165000</td>\n      <td>0.000000</td>\n      <td>0.000000</td>\n      <td>1.090000</td>\n      <td>0.000000</td>\n      <td>NaN</td>\n      <td>NaN</td>\n      <td>3.660000</td>\n      <td>9.190000</td>\n      <td>13.500000</td>\n      <td>2.070000</td>\n      <td>5.480000</td>\n      <td>5.930000</td>\n      <td>1.680000</td>\n      <td>2.190000</td>\n      <td>3.330000</td>\n      <td>7.430000</td>\n      <td>9.410000</td>\n      <td>23.900000</td>\n      <td>23.610000</td>\n      <td>16.640000</td>\n      <td>2.530000</td>\n      <td>0.250000</td>\n      <td>4.760000</td>\n      <td>3.180000</td>\n      <td>7.280000</td>\n      <td>17.150000</td>\n      <td>6.030000</td>\n      <td>3.310000</td>\n      <td>0.340000</td>\n      <td>0.450000</td>\n      <td>33.000000</td>\n      <td>31.000000</td>\n      <td>NaN</td>\n      <td>0.740000</td>\n      <td>0.500000</td>\n      <td>2.000000</td>\n      <td>49.700000</td>\n      <td>51.530000</td>\n      <td>50.870000</td>\n      <td>49.710000</td>\n      <td>3.650000</td>\n      <td>45.420000</td>\n      <td>28.000000</td>\n      <td>0.360000</td>\n      <td>0.000000</td>\n      <td>1.920000</td>\n      <td>0.000000</td>\n      <td>0.000000</td>\n      <td>0.000000</td>\n      <td>0.000000</td>\n      <td>0.000000</td>\n      <td>0.000000</td>\n      <td>0.000000</td>\n      <td>0.000000</td>\n      <td>0.370000</td>\n      <td>0.000000</td>\n    </tr>\n    <tr>\n      <th>50%</th>\n      <td>NaN</td>\n      <td>NaN</td>\n      <td>NaN</td>\n      <td>NaN</td>\n      <td>3.000000</td>\n      <td>NaN</td>\n      <td>3.000000</td>\n      <td>3.000000</td>\n      <td>NaN</td>\n      <td>7.595000e+01</td>\n      <td>NaN</td>\n      <td>7.360000e+06</td>\n      <td>NaN</td>\n      <td>3.663300e+08</td>\n      <td>9.680000</td>\n      <td>-4.290000</td>\n      <td>8.430000</td>\n      <td>21.260000</td>\n      <td>1.280000</td>\n      <td>4.740000</td>\n      <td>7.655000</td>\n      <td>10.130000</td>\n      <td>-5.230000</td>\n      <td>13.530000</td>\n      <td>NaN</td>\n      <td>3.800000</td>\n      <td>7.250000</td>\n      <td>6.920000</td>\n      <td>6.130000</td>\n      <td>NaN</td>\n      <td>NaN</td>\n      <td>NaN</td>\n      <td>NaN</td>\n      <td>154.010000</td>\n      <td>NaN</td>\n      <td>259.610000</td>\n      <td>14.900000</td>\n      <td>1.840000</td>\n      <td>1.370000</td>\n      <td>7.380000</td>\n      <td>2.920000</td>\n      <td>9.370000</td>\n      <td>9.570000</td>\n      <td>4.600000</td>\n      <td>6.750000</td>\n      <td>5.650000</td>\n      <td>6.940000</td>\n      <td>18.220000</td>\n      <td>12.550000</td>\n      <td>NaN</td>\n      <td>NaN</td>\n      <td>4.000000</td>\n      <td>12.000000</td>\n      <td>4.770000</td>\n      <td>6.810000</td>\n      <td>63.230000</td>\n      <td>2.470000</td>\n      <td>3.190000</td>\n      <td>0.010000</td>\n      <td>NaN</td>\n      <td>NaN</td>\n      <td>6.060000</td>\n      <td>12.360000</td>\n      <td>17.840000</td>\n      <td>3.530000</td>\n      <td>8.270000</td>\n      <td>10.030000</td>\n      <td>2.970000</td>\n      <td>3.530000</td>\n      <td>5.470000</td>\n      <td>11.070000</td>\n      <td>15.050000</td>\n      <td>35.820000</td>\n      <td>30.160000</td>\n      <td>21.930000</td>\n      <td>6.990000</td>\n      <td>1.010000</td>\n      <td>14.100000</td>\n      <td>5.840000</td>\n      <td>12.960000</td>\n      <td>25.480000</td>\n      <td>14.040000</td>\n      <td>8.640000</td>\n      <td>1.220000</td>\n      <td>2.270000</td>\n      <td>50.000000</td>\n      <td>122.000000</td>\n      <td>NaN</td>\n      <td>1.057845</td>\n      <td>0.750000</td>\n      <td>3.000000</td>\n      <td>53.410000</td>\n      <td>54.660000</td>\n      <td>53.730000</td>\n      <td>52.530000</td>\n      <td>5.350000</td>\n      <td>47.850000</td>\n      <td>48.000000</td>\n      <td>2.390000</td>\n      <td>0.160000</td>\n      <td>6.130000</td>\n      <td>0.000000</td>\n      <td>0.000000</td>\n      <td>0.000000</td>\n      <td>0.100000</td>\n      <td>0.110000</td>\n      <td>0.000000</td>\n      <td>0.000000</td>\n      <td>0.000000</td>\n      <td>2.200000</td>\n      <td>0.000000</td>\n    </tr>\n    <tr>\n      <th>75%</th>\n      <td>NaN</td>\n      <td>NaN</td>\n      <td>NaN</td>\n      <td>NaN</td>\n      <td>4.000000</td>\n      <td>NaN</td>\n      <td>4.000000</td>\n      <td>4.000000</td>\n      <td>NaN</td>\n      <td>1.318050e+02</td>\n      <td>NaN</td>\n      <td>4.597000e+07</td>\n      <td>NaN</td>\n      <td>1.184770e+09</td>\n      <td>14.660000</td>\n      <td>-0.170000</td>\n      <td>15.210000</td>\n      <td>27.670000</td>\n      <td>5.750000</td>\n      <td>9.730000</td>\n      <td>22.520000</td>\n      <td>14.530000</td>\n      <td>0.430000</td>\n      <td>19.220000</td>\n      <td>NaN</td>\n      <td>6.510000</td>\n      <td>10.300000</td>\n      <td>9.207500</td>\n      <td>9.030000</td>\n      <td>NaN</td>\n      <td>NaN</td>\n      <td>NaN</td>\n      <td>NaN</td>\n      <td>190.880000</td>\n      <td>NaN</td>\n      <td>292.260000</td>\n      <td>17.580000</td>\n      <td>2.450000</td>\n      <td>1.980000</td>\n      <td>10.430000</td>\n      <td>3.770000</td>\n      <td>11.160000</td>\n      <td>14.585000</td>\n      <td>7.600000</td>\n      <td>11.480000</td>\n      <td>8.240000</td>\n      <td>8.230000</td>\n      <td>21.410000</td>\n      <td>14.560000</td>\n      <td>NaN</td>\n      <td>NaN</td>\n      <td>5.510000</td>\n      <td>14.000000</td>\n      <td>6.650000</td>\n      <td>9.830000</td>\n      <td>97.540000</td>\n      <td>88.240000</td>\n      <td>7.330000</td>\n      <td>2.400000</td>\n      <td>NaN</td>\n      <td>NaN</td>\n      <td>9.000000</td>\n      <td>16.150000</td>\n      <td>23.920000</td>\n      <td>6.880000</td>\n      <td>12.090000</td>\n      <td>13.800000</td>\n      <td>4.830000</td>\n      <td>5.400000</td>\n      <td>8.460000</td>\n      <td>15.720000</td>\n      <td>21.810000</td>\n      <td>46.480000</td>\n      <td>34.940000</td>\n      <td>29.570000</td>\n      <td>12.560000</td>\n      <td>3.060000</td>\n      <td>28.340000</td>\n      <td>11.620000</td>\n      <td>18.800000</td>\n      <td>34.290000</td>\n      <td>20.680000</td>\n      <td>16.395000</td>\n      <td>3.170000</td>\n      <td>5.200000</td>\n      <td>86.000000</td>\n      <td>277.000000</td>\n      <td>NaN</td>\n      <td>1.607015</td>\n      <td>1.242300</td>\n      <td>4.000000</td>\n      <td>56.610000</td>\n      <td>57.060000</td>\n      <td>56.580000</td>\n      <td>55.530000</td>\n      <td>6.810000</td>\n      <td>50.410000</td>\n      <td>73.000000</td>\n      <td>5.420000</td>\n      <td>1.310000</td>\n      <td>14.810000</td>\n      <td>0.690000</td>\n      <td>0.510000</td>\n      <td>0.000000</td>\n      <td>1.310000</td>\n      <td>1.290000</td>\n      <td>0.000000</td>\n      <td>0.300000</td>\n      <td>0.000000</td>\n      <td>4.400000</td>\n      <td>0.870000</td>\n    </tr>\n    <tr>\n      <th>max</th>\n      <td>NaN</td>\n      <td>NaN</td>\n      <td>NaN</td>\n      <td>NaN</td>\n      <td>5.000000</td>\n      <td>NaN</td>\n      <td>5.000000</td>\n      <td>5.000000</td>\n      <td>NaN</td>\n      <td>1.172074e+07</td>\n      <td>NaN</td>\n      <td>1.029288e+11</td>\n      <td>NaN</td>\n      <td>4.982347e+11</td>\n      <td>12007.000000</td>\n      <td>49.980000</td>\n      <td>72.630000</td>\n      <td>928.650000</td>\n      <td>50.500000</td>\n      <td>833.340000</td>\n      <td>86.310000</td>\n      <td>814.410000</td>\n      <td>27.070000</td>\n      <td>127.840000</td>\n      <td>NaN</td>\n      <td>38.320000</td>\n      <td>31.130000</td>\n      <td>17.970000</td>\n      <td>223.550000</td>\n      <td>NaN</td>\n      <td>NaN</td>\n      <td>NaN</td>\n      <td>NaN</td>\n      <td>380.610000</td>\n      <td>NaN</td>\n      <td>424.350000</td>\n      <td>63.460000</td>\n      <td>11.590000</td>\n      <td>2500.000000</td>\n      <td>561.800000</td>\n      <td>22.890000</td>\n      <td>68.310000</td>\n      <td>637.260000</td>\n      <td>926.430000</td>\n      <td>266.920000</td>\n      <td>160.950000</td>\n      <td>75.000000</td>\n      <td>66.630000</td>\n      <td>61.260000</td>\n      <td>NaN</td>\n      <td>NaN</td>\n      <td>20.000000</td>\n      <td>16.000000</td>\n      <td>24.330000</td>\n      <td>29.960000</td>\n      <td>206.010000</td>\n      <td>11490.930000</td>\n      <td>178.710000</td>\n      <td>103.730000</td>\n      <td>NaN</td>\n      <td>NaN</td>\n      <td>132.840000</td>\n      <td>639.920000</td>\n      <td>989.960000</td>\n      <td>104.570000</td>\n      <td>698.580000</td>\n      <td>715.400000</td>\n      <td>153.940000</td>\n      <td>100.000000</td>\n      <td>191.380000</td>\n      <td>458.740000</td>\n      <td>745.460000</td>\n      <td>6067.880000</td>\n      <td>1662.790000</td>\n      <td>2206.430000</td>\n      <td>882.040000</td>\n      <td>927.820000</td>\n      <td>88.920000</td>\n      <td>63.490000</td>\n      <td>47.290000</td>\n      <td>77.700000</td>\n      <td>55.840000</td>\n      <td>53.920000</td>\n      <td>19.610000</td>\n      <td>85.420000</td>\n      <td>10929.000000</td>\n      <td>12641.000000</td>\n      <td>NaN</td>\n      <td>9.032950</td>\n      <td>2.900000</td>\n      <td>5.000000</td>\n      <td>67.730000</td>\n      <td>66.060000</td>\n      <td>66.790000</td>\n      <td>66.760000</td>\n      <td>11.700000</td>\n      <td>61.980000</td>\n      <td>100.000000</td>\n      <td>57.450000</td>\n      <td>66.540000</td>\n      <td>98.050000</td>\n      <td>19.100000</td>\n      <td>13.280000</td>\n      <td>9.410000</td>\n      <td>32.040000</td>\n      <td>31.630000</td>\n      <td>10.870000</td>\n      <td>16.900000</td>\n      <td>7.230000</td>\n      <td>40.620000</td>\n      <td>17.360000</td>\n    </tr>\n  </tbody>\n</table>\n</div>"
     },
     "execution_count": 272,
     "metadata": {},
     "output_type": "execute_result"
    }
   ],
   "source": [
    "stats"
   ],
   "metadata": {
    "collapsed": false,
    "ExecuteTime": {
     "end_time": "2023-11-09T13:15:24.481424400Z",
     "start_time": "2023-11-09T13:15:24.339425100Z"
    }
   }
  },
  {
   "cell_type": "code",
   "execution_count": 273,
   "outputs": [
    {
     "data": {
      "text/plain": "count          49399\nunique           261\ntop       Other Bond\nfreq            3418\nmean             NaN\nstd              NaN\nmin              NaN\n25%              NaN\n50%              NaN\n75%              NaN\nmax              NaN\nName: morningstar_category, dtype: object"
     },
     "execution_count": 273,
     "metadata": {},
     "output_type": "execute_result"
    }
   ],
   "source": [
    "stats['morningstar_category']"
   ],
   "metadata": {
    "collapsed": false,
    "ExecuteTime": {
     "end_time": "2023-11-09T13:17:19.382106Z",
     "start_time": "2023-11-09T13:17:19.243071700Z"
    }
   }
  },
  {
   "cell_type": "code",
   "execution_count": 274,
   "outputs": [
    {
     "data": {
      "text/plain": "count     41580.000000\nunique             NaN\ntop                NaN\nfreq               NaN\nmean         -4.740028\nstd           6.921632\nmin         -81.780000\n25%          -9.200000\n50%          -4.290000\n75%          -0.170000\nmax          49.980000\nName: fund_return_2018, dtype: float64"
     },
     "execution_count": 274,
     "metadata": {},
     "output_type": "execute_result"
    }
   ],
   "source": [
    "stats['fund_return_2018']"
   ],
   "metadata": {
    "collapsed": false,
    "ExecuteTime": {
     "end_time": "2023-11-09T13:18:12.319634600Z",
     "start_time": "2023-11-09T13:18:12.246633Z"
    }
   }
  },
  {
   "cell_type": "code",
   "execution_count": 275,
   "outputs": [],
   "source": [
    "data = df.loc[:, ['ticker', 'fund_name', 'morningstar_category', 'fund_return_2018']]"
   ],
   "metadata": {
    "collapsed": false,
    "ExecuteTime": {
     "end_time": "2023-11-09T13:19:56.881195200Z",
     "start_time": "2023-11-09T13:19:56.793136200Z"
    }
   }
  },
  {
   "cell_type": "code",
   "execution_count": 276,
   "outputs": [
    {
     "data": {
      "text/plain": "           ticker                                          fund_name  \\\n0      0P00000AWF    BlackRock Global Funds - European Value Fund A2   \n1      0P00000AYI  BlackRock Global Funds - Continental European ...   \n2      0P00000BOW  Morgan Stanley Investment Funds - Global Bond ...   \n3      0P00000ESH  Threadneedle (Lux) - American Select Class AU ...   \n4      0P00000ESL  HSBC Global Investment Funds - Economic Scale ...   \n...           ...                                                ...   \n49394  FOUSA088S1     Man GLG RI European Equity Leaders Class I EUR   \n49395  FOUSA08ML5                             FMG Rising 3 Ltd A GBP   \n49396  FOUSA0905L                             FMG Iraq Fund A 09 USD   \n49397  FOUSA09F2D        Overstone Emerging Markets Fund Class A USD   \n49398  FOUSA09F2G        Overstone Emerging Markets Fund Class I USD   \n\n                 morningstar_category  fund_return_2018  \n0       Europe Large-Cap Value Equity            -18.13  \n1       Europe ex-UK Large-Cap Equity            -14.11  \n2                         Global Bond              3.26  \n3          US Large-Cap Growth Equity             -1.60  \n4              Japan Large-Cap Equity             -6.79  \n...                               ...               ...  \n49394                    Other Equity            -13.56  \n49395                     Alt - Other            -18.80  \n49396                    Other Equity             11.58  \n49397  Global Emerging Markets Equity              0.37  \n49398  Global Emerging Markets Equity              0.73  \n\n[49399 rows x 4 columns]",
      "text/html": "<div>\n<style scoped>\n    .dataframe tbody tr th:only-of-type {\n        vertical-align: middle;\n    }\n\n    .dataframe tbody tr th {\n        vertical-align: top;\n    }\n\n    .dataframe thead th {\n        text-align: right;\n    }\n</style>\n<table border=\"1\" class=\"dataframe\">\n  <thead>\n    <tr style=\"text-align: right;\">\n      <th></th>\n      <th>ticker</th>\n      <th>fund_name</th>\n      <th>morningstar_category</th>\n      <th>fund_return_2018</th>\n    </tr>\n  </thead>\n  <tbody>\n    <tr>\n      <th>0</th>\n      <td>0P00000AWF</td>\n      <td>BlackRock Global Funds - European Value Fund A2</td>\n      <td>Europe Large-Cap Value Equity</td>\n      <td>-18.13</td>\n    </tr>\n    <tr>\n      <th>1</th>\n      <td>0P00000AYI</td>\n      <td>BlackRock Global Funds - Continental European ...</td>\n      <td>Europe ex-UK Large-Cap Equity</td>\n      <td>-14.11</td>\n    </tr>\n    <tr>\n      <th>2</th>\n      <td>0P00000BOW</td>\n      <td>Morgan Stanley Investment Funds - Global Bond ...</td>\n      <td>Global Bond</td>\n      <td>3.26</td>\n    </tr>\n    <tr>\n      <th>3</th>\n      <td>0P00000ESH</td>\n      <td>Threadneedle (Lux) - American Select Class AU ...</td>\n      <td>US Large-Cap Growth Equity</td>\n      <td>-1.60</td>\n    </tr>\n    <tr>\n      <th>4</th>\n      <td>0P00000ESL</td>\n      <td>HSBC Global Investment Funds - Economic Scale ...</td>\n      <td>Japan Large-Cap Equity</td>\n      <td>-6.79</td>\n    </tr>\n    <tr>\n      <th>...</th>\n      <td>...</td>\n      <td>...</td>\n      <td>...</td>\n      <td>...</td>\n    </tr>\n    <tr>\n      <th>49394</th>\n      <td>FOUSA088S1</td>\n      <td>Man GLG RI European Equity Leaders Class I EUR</td>\n      <td>Other Equity</td>\n      <td>-13.56</td>\n    </tr>\n    <tr>\n      <th>49395</th>\n      <td>FOUSA08ML5</td>\n      <td>FMG Rising 3 Ltd A GBP</td>\n      <td>Alt - Other</td>\n      <td>-18.80</td>\n    </tr>\n    <tr>\n      <th>49396</th>\n      <td>FOUSA0905L</td>\n      <td>FMG Iraq Fund A 09 USD</td>\n      <td>Other Equity</td>\n      <td>11.58</td>\n    </tr>\n    <tr>\n      <th>49397</th>\n      <td>FOUSA09F2D</td>\n      <td>Overstone Emerging Markets Fund Class A USD</td>\n      <td>Global Emerging Markets Equity</td>\n      <td>0.37</td>\n    </tr>\n    <tr>\n      <th>49398</th>\n      <td>FOUSA09F2G</td>\n      <td>Overstone Emerging Markets Fund Class I USD</td>\n      <td>Global Emerging Markets Equity</td>\n      <td>0.73</td>\n    </tr>\n  </tbody>\n</table>\n<p>49399 rows × 4 columns</p>\n</div>"
     },
     "execution_count": 276,
     "metadata": {},
     "output_type": "execute_result"
    }
   ],
   "source": [
    "data"
   ],
   "metadata": {
    "collapsed": false,
    "ExecuteTime": {
     "end_time": "2023-11-09T13:20:00.616441300Z",
     "start_time": "2023-11-09T13:20:00.525402300Z"
    }
   }
  },
  {
   "cell_type": "code",
   "execution_count": 278,
   "outputs": [],
   "source": [
    "data = data.set_index('ticker')"
   ],
   "metadata": {
    "collapsed": false,
    "ExecuteTime": {
     "end_time": "2023-11-09T13:20:41.258120200Z",
     "start_time": "2023-11-09T13:20:41.176033900Z"
    }
   }
  },
  {
   "cell_type": "code",
   "execution_count": 279,
   "outputs": [
    {
     "data": {
      "text/plain": "                                                    fund_name  \\\nticker                                                          \n0P00000AWF    BlackRock Global Funds - European Value Fund A2   \n0P00000AYI  BlackRock Global Funds - Continental European ...   \n0P00000BOW  Morgan Stanley Investment Funds - Global Bond ...   \n0P00000ESH  Threadneedle (Lux) - American Select Class AU ...   \n0P00000ESL  HSBC Global Investment Funds - Economic Scale ...   \n...                                                       ...   \nFOUSA088S1     Man GLG RI European Equity Leaders Class I EUR   \nFOUSA08ML5                             FMG Rising 3 Ltd A GBP   \nFOUSA0905L                             FMG Iraq Fund A 09 USD   \nFOUSA09F2D        Overstone Emerging Markets Fund Class A USD   \nFOUSA09F2G        Overstone Emerging Markets Fund Class I USD   \n\n                      morningstar_category  fund_return_2018  \nticker                                                        \n0P00000AWF   Europe Large-Cap Value Equity            -18.13  \n0P00000AYI   Europe ex-UK Large-Cap Equity            -14.11  \n0P00000BOW                     Global Bond              3.26  \n0P00000ESH      US Large-Cap Growth Equity             -1.60  \n0P00000ESL          Japan Large-Cap Equity             -6.79  \n...                                    ...               ...  \nFOUSA088S1                    Other Equity            -13.56  \nFOUSA08ML5                     Alt - Other            -18.80  \nFOUSA0905L                    Other Equity             11.58  \nFOUSA09F2D  Global Emerging Markets Equity              0.37  \nFOUSA09F2G  Global Emerging Markets Equity              0.73  \n\n[49399 rows x 3 columns]",
      "text/html": "<div>\n<style scoped>\n    .dataframe tbody tr th:only-of-type {\n        vertical-align: middle;\n    }\n\n    .dataframe tbody tr th {\n        vertical-align: top;\n    }\n\n    .dataframe thead th {\n        text-align: right;\n    }\n</style>\n<table border=\"1\" class=\"dataframe\">\n  <thead>\n    <tr style=\"text-align: right;\">\n      <th></th>\n      <th>fund_name</th>\n      <th>morningstar_category</th>\n      <th>fund_return_2018</th>\n    </tr>\n    <tr>\n      <th>ticker</th>\n      <th></th>\n      <th></th>\n      <th></th>\n    </tr>\n  </thead>\n  <tbody>\n    <tr>\n      <th>0P00000AWF</th>\n      <td>BlackRock Global Funds - European Value Fund A2</td>\n      <td>Europe Large-Cap Value Equity</td>\n      <td>-18.13</td>\n    </tr>\n    <tr>\n      <th>0P00000AYI</th>\n      <td>BlackRock Global Funds - Continental European ...</td>\n      <td>Europe ex-UK Large-Cap Equity</td>\n      <td>-14.11</td>\n    </tr>\n    <tr>\n      <th>0P00000BOW</th>\n      <td>Morgan Stanley Investment Funds - Global Bond ...</td>\n      <td>Global Bond</td>\n      <td>3.26</td>\n    </tr>\n    <tr>\n      <th>0P00000ESH</th>\n      <td>Threadneedle (Lux) - American Select Class AU ...</td>\n      <td>US Large-Cap Growth Equity</td>\n      <td>-1.60</td>\n    </tr>\n    <tr>\n      <th>0P00000ESL</th>\n      <td>HSBC Global Investment Funds - Economic Scale ...</td>\n      <td>Japan Large-Cap Equity</td>\n      <td>-6.79</td>\n    </tr>\n    <tr>\n      <th>...</th>\n      <td>...</td>\n      <td>...</td>\n      <td>...</td>\n    </tr>\n    <tr>\n      <th>FOUSA088S1</th>\n      <td>Man GLG RI European Equity Leaders Class I EUR</td>\n      <td>Other Equity</td>\n      <td>-13.56</td>\n    </tr>\n    <tr>\n      <th>FOUSA08ML5</th>\n      <td>FMG Rising 3 Ltd A GBP</td>\n      <td>Alt - Other</td>\n      <td>-18.80</td>\n    </tr>\n    <tr>\n      <th>FOUSA0905L</th>\n      <td>FMG Iraq Fund A 09 USD</td>\n      <td>Other Equity</td>\n      <td>11.58</td>\n    </tr>\n    <tr>\n      <th>FOUSA09F2D</th>\n      <td>Overstone Emerging Markets Fund Class A USD</td>\n      <td>Global Emerging Markets Equity</td>\n      <td>0.37</td>\n    </tr>\n    <tr>\n      <th>FOUSA09F2G</th>\n      <td>Overstone Emerging Markets Fund Class I USD</td>\n      <td>Global Emerging Markets Equity</td>\n      <td>0.73</td>\n    </tr>\n  </tbody>\n</table>\n<p>49399 rows × 3 columns</p>\n</div>"
     },
     "execution_count": 279,
     "metadata": {},
     "output_type": "execute_result"
    }
   ],
   "source": [
    "data"
   ],
   "metadata": {
    "collapsed": false,
    "ExecuteTime": {
     "end_time": "2023-11-09T13:20:44.633068700Z",
     "start_time": "2023-11-09T13:20:44.520106Z"
    }
   }
  },
  {
   "cell_type": "code",
   "execution_count": 280,
   "outputs": [
    {
     "data": {
      "text/plain": "                                 fund_name morningstar_category  \\\ncount                                49399                49399   \nunique                               45932                  261   \ntop     Macquarie Valueinvest LUX Global B           Other Bond   \nfreq                                     8                 3418   \nmean                                   NaN                  NaN   \nstd                                    NaN                  NaN   \nmin                                    NaN                  NaN   \n25%                                    NaN                  NaN   \n50%                                    NaN                  NaN   \n75%                                    NaN                  NaN   \nmax                                    NaN                  NaN   \n\n        fund_return_2018  \ncount       41580.000000  \nunique               NaN  \ntop                  NaN  \nfreq                 NaN  \nmean           -4.740028  \nstd             6.921632  \nmin           -81.780000  \n25%            -9.200000  \n50%            -4.290000  \n75%            -0.170000  \nmax            49.980000  ",
      "text/html": "<div>\n<style scoped>\n    .dataframe tbody tr th:only-of-type {\n        vertical-align: middle;\n    }\n\n    .dataframe tbody tr th {\n        vertical-align: top;\n    }\n\n    .dataframe thead th {\n        text-align: right;\n    }\n</style>\n<table border=\"1\" class=\"dataframe\">\n  <thead>\n    <tr style=\"text-align: right;\">\n      <th></th>\n      <th>fund_name</th>\n      <th>morningstar_category</th>\n      <th>fund_return_2018</th>\n    </tr>\n  </thead>\n  <tbody>\n    <tr>\n      <th>count</th>\n      <td>49399</td>\n      <td>49399</td>\n      <td>41580.000000</td>\n    </tr>\n    <tr>\n      <th>unique</th>\n      <td>45932</td>\n      <td>261</td>\n      <td>NaN</td>\n    </tr>\n    <tr>\n      <th>top</th>\n      <td>Macquarie Valueinvest LUX Global B</td>\n      <td>Other Bond</td>\n      <td>NaN</td>\n    </tr>\n    <tr>\n      <th>freq</th>\n      <td>8</td>\n      <td>3418</td>\n      <td>NaN</td>\n    </tr>\n    <tr>\n      <th>mean</th>\n      <td>NaN</td>\n      <td>NaN</td>\n      <td>-4.740028</td>\n    </tr>\n    <tr>\n      <th>std</th>\n      <td>NaN</td>\n      <td>NaN</td>\n      <td>6.921632</td>\n    </tr>\n    <tr>\n      <th>min</th>\n      <td>NaN</td>\n      <td>NaN</td>\n      <td>-81.780000</td>\n    </tr>\n    <tr>\n      <th>25%</th>\n      <td>NaN</td>\n      <td>NaN</td>\n      <td>-9.200000</td>\n    </tr>\n    <tr>\n      <th>50%</th>\n      <td>NaN</td>\n      <td>NaN</td>\n      <td>-4.290000</td>\n    </tr>\n    <tr>\n      <th>75%</th>\n      <td>NaN</td>\n      <td>NaN</td>\n      <td>-0.170000</td>\n    </tr>\n    <tr>\n      <th>max</th>\n      <td>NaN</td>\n      <td>NaN</td>\n      <td>49.980000</td>\n    </tr>\n  </tbody>\n</table>\n</div>"
     },
     "execution_count": 280,
     "metadata": {},
     "output_type": "execute_result"
    }
   ],
   "source": [
    "data.describe(include='all')"
   ],
   "metadata": {
    "collapsed": false,
    "ExecuteTime": {
     "end_time": "2023-11-09T13:21:29.969306200Z",
     "start_time": "2023-11-09T13:21:29.848308600Z"
    }
   }
  },
  {
   "cell_type": "code",
   "execution_count": 281,
   "outputs": [
    {
     "data": {
      "text/plain": "261"
     },
     "execution_count": 281,
     "metadata": {},
     "output_type": "execute_result"
    }
   ],
   "source": [
    "data['morningstar_category'].nunique()"
   ],
   "metadata": {
    "collapsed": false,
    "ExecuteTime": {
     "end_time": "2023-11-09T13:22:35.474080700Z",
     "start_time": "2023-11-09T13:22:35.376080Z"
    }
   }
  },
  {
   "cell_type": "code",
   "execution_count": 282,
   "outputs": [
    {
     "data": {
      "text/plain": "45932"
     },
     "execution_count": 282,
     "metadata": {},
     "output_type": "execute_result"
    }
   ],
   "source": [
    "data['fund_name'].nunique()\n"
   ],
   "metadata": {
    "collapsed": false,
    "ExecuteTime": {
     "end_time": "2023-11-09T13:23:10.218649600Z",
     "start_time": "2023-11-09T13:23:10.084675500Z"
    }
   }
  },
  {
   "cell_type": "code",
   "execution_count": 284,
   "outputs": [],
   "source": [
    "categories = data['morningstar_category'].unique()"
   ],
   "metadata": {
    "collapsed": false,
    "ExecuteTime": {
     "end_time": "2023-11-09T13:24:56.601686200Z",
     "start_time": "2023-11-09T13:24:56.536686Z"
    }
   }
  },
  {
   "cell_type": "code",
   "execution_count": 285,
   "outputs": [
    {
     "data": {
      "text/plain": "array(['Europe Large-Cap Value Equity', 'Europe ex-UK Large-Cap Equity',\n       'Global Bond', 'US Large-Cap Growth Equity',\n       'Japan Large-Cap Equity', 'Global Large-Cap Growth Equity',\n       'Sector Equity Consumer Goods & Services', 'China Equity',\n       'Alt - Long/Short Equity - Europe',\n       'Global Emerging Markets Equity', 'EUR Flexible Bond',\n       'USD Moderate Allocation', 'Asia-Pacific ex-Japan Equity Income',\n       'Sector Equity Healthcare', 'Nordic Equity',\n       'Asia ex-Japan Equity', 'Denmark Equity', 'EUR Diversified Bond',\n       'Europe Small-Cap Equity', 'Europe Equity Income',\n       'EUR Corporate Bond', 'Global Large-Cap Blend Equity',\n       'Europe Large-Cap Blend Equity', 'Global Emerging Markets Bond',\n       'Europe Bond', 'Latin America Equity',\n       'Emerging Europe ex-Russia Equity', 'USD High Yield Bond',\n       'Europe Large-Cap Growth Equity', 'Emerging Europe Equity',\n       'Property - Indirect Asia', 'Other Equity', 'EUR High Yield Bond',\n       'Eurozone Large-Cap Equity', 'Property - Indirect Europe',\n       'Convertible Bond - Global, USD Hedged',\n       'EUR Diversified Bond - Short Term',\n       'Property - Indirect North America', 'Global Flexible Bond',\n       'India Equity', 'Asia-Pacific inc. Japan Equity',\n       'USD Diversified Bond - Short Term', 'Alt - Long/Short Credit',\n       'Global Emerging Markets Corporate Bond',\n       'USD Flexible Allocation', 'USD Flexible Bond',\n       'Global High Yield Bond', 'Global Bond - USD Hedged',\n       'Property - Indirect Global', 'Brazil Equity',\n       'Asia ex-Japan Small/Mid-Cap Equity', 'BRIC Equity',\n       'USD Diversified Bond', 'UK Large-Cap Equity', 'Hong Kong Equity',\n       'US Large-Cap Blend Equity', 'Turkey Equity', 'Thailand Equity',\n       'Global Equity Income', 'Europe ex-UK Small/Mid-Cap Equity',\n       'Global Bond - EUR Biased', 'Global Flex-Cap Equity',\n       'Global Emerging Markets Small/Mid-Cap Equity',\n       'Islamic Global Equity', 'Other Bond',\n       'Global Emerging Markets Bond - Local Currency',\n       'US Large-Cap Value Equity', 'EUR Flexible Allocation - Global',\n       'Taiwan Large-Cap Equity', 'US Mid-Cap Equity',\n       'Asia-Pacific ex-Japan Equity',\n       'Global Inflation-Linked Bond - EUR Hedged',\n       'Sector Equity Ecology', 'Sector Equity Financial Services',\n       'GBP Corporate Bond', 'GBP Moderately Cautious Allocation',\n       'Global Emerging Markets Bond - EUR Biased', 'Alt - Multistrategy',\n       'Eurozone Mid-Cap Equity', 'Greater China Equity', 'ASEAN Equity',\n       'Russia Equity', 'Japan Flex-Cap Equity',\n       'Sector Equity Technology', 'Global Flexible Bond - USD Hedged',\n       'Sector Equity Infrastructure', 'USD Cautious Allocation',\n       'USD Aggressive Allocation', 'Sector Equity Energy',\n       'Sector Equity Natural Resources', 'Alt - Long/Short Equity - US',\n       'Commodities - Broad Basket', 'Global Emerging Markets Allocation',\n       'Europe Mid-Cap Equity', 'GBP Moderate Allocation',\n       'Global Frontier Markets Equity', 'Africa & Middle East Equity',\n       'Africa Equity', 'Japan Small/Mid-Cap Equity',\n       'EUR Government Bond', 'RMB Bond',\n       'Global Inflation-Linked Bond - USD Hedged',\n       'EUR Inflation-Linked Bond', 'Global Small-Cap Equity',\n       'Sector Equity Alternative Energy', 'Sector Equity Agriculture',\n       'Sector Equity Precious Metals', 'Asia Bond - Local Currency',\n       'Global Corporate Bond',\n       'Global Emerging Markets Corporate Bond - EUR Biased',\n       'Global Flexible Bond - EUR Hedged', 'Global Bond - GBP Hedged',\n       'Global High Yield Bond - EUR Hedged', 'Germany Large-Cap Equity',\n       'Korea Equity', 'Convertible Bond - Global',\n       'Sector Equity Biotechnology', 'Indonesia Equity',\n       'US Small-Cap Equity', 'Sector Equity Communications',\n       'Convertible Bond - Europe', 'Global Corporate Bond - USD Hedged',\n       'Global Inflation-Linked Bond - GBP Hedged', 'Alt - Global Macro',\n       'EUR Moderate Allocation - Global', 'Other Allocation',\n       'EUR Cautious Allocation - Global',\n       'EUR Aggressive Allocation - Global',\n       'GBP Moderately Adventurous Allocation',\n       'Global Corporate Bond - GBP Hedged',\n       'Global Corporate Bond - EUR Hedged',\n       'Global High Yield Bond - GBP Hedged', 'Global Bond - EUR Hedged',\n       'Convertible Bond - Global, EUR Hedged', 'Sector Equity Water',\n       'Pacific ex-Japan Equity', 'USD Corporate Bond', 'Asia Bond',\n       'Fixed Term Bond', 'Global Flexible Bond - GBP Hedged',\n       'RMB Bond - Onshore', 'Global Bond - CHF Hedged',\n       'Global Corporate Bond - CHF Hedged',\n       'Global High Yield Bond - CHF Hedged', 'CHF Aggressive Allocation',\n       'Property - Indirect Other', 'China Equity - A Shares',\n       'Europe Flex-Cap Equity', 'GBP Cautious Allocation',\n       'GBP Money Market', 'Global Large-Cap Value Equity',\n       'USD Government Bond', 'GBP Diversified Bond',\n       'US Flex-Cap Equity', 'UK Mid-Cap Equity',\n       'GBP Flexible Allocation', 'Alt - Volatility',\n       'UK Flex-Cap Equity', 'DKK Domestic Bond', 'UK Small-Cap Equity',\n       'Nordic Small/Mid-Cap Equity', 'EUR Money Market',\n       'UK Equity Income', 'Eurozone Flex-Cap Equity',\n       'Money Market - Other', 'Asia High Yield Bond',\n       'GBP Adventurous Allocation', 'GBP Money Market - Short Term',\n       'USD Money Market - Short Term', 'Eurozone Small-Cap Equity',\n       'GBP Government Bond', 'Italy Equity', 'Property - Direct UK',\n       'Commodities - Broad Agriculture',\n       'Convertible Bond - Global, GBP Hedged',\n       'USD Inflation-Linked Bond', 'GBP High Yield Bond', 'HKD Bond',\n       'Alt - Currency', 'Asia Allocation', 'EUR Cautious Allocation',\n       'France Small/Mid-Cap Equity', 'JPY Bond', 'Singapore Equity',\n       'EUR Money Market - Short Term', 'Other', 'Spain Equity',\n       'USD Money Market', 'EUR Moderate Allocation',\n       'Australia & New Zealand Equity', 'Switzerland Large-Cap Equity',\n       'Sector Equity Industrial Materials',\n       'Alt - Market Neutral - Equity', 'EUR Bond - Long Term',\n       'Alt - Long/Short Equity - UK', 'Convertible Bond - Other',\n       'Convertible Bond - Global, CHF Hedged',\n       'Alt - Relative Value Arbitrage', 'EUR Subordinated Bond',\n       'Global Inflation-Linked Bond', 'Alt - Long/Short Equity - Global',\n       'CHF Moderate Allocation', 'Switzerland Small/Mid-Cap Equity',\n       'Property - Direct Europe', 'Global Bond - GBP Biased',\n       'GBP Flexible Bond', 'GBP Inflation-Linked Bond',\n       'Property - Direct Other', 'Germany Small/Mid-Cap Equity',\n       'Global Bond - NOK Hedged', 'Emerging Europe Bond',\n       'Capital Protected', 'EUR Government Bond - Short Term',\n       'CHF Money Market', 'Alt - Systematic Futures',\n       'EUR Ultra Short-Term Bond', 'Property - Direct Global',\n       'Global Flexible Bond - CHF Hedged', 'Alt - Event Driven',\n       'GBP Diversified Bond - Short Term', 'Greater China Allocation',\n       'Canada Equity', 'DKK Bond', 'NOK Moderate Allocation',\n       'EUR Flexible Allocation', 'NOK Bond',\n       'Sector Equity Private Equity', 'Global Bond - ILS',\n       'Alt - Long/Short Equity - Other',\n       'EUR Corporate Bond - Short Term', 'Islamic Equity - Other',\n       'NOK Bond - Short Term', 'NOK High Yield Bond', 'Norway Equity',\n       'CHF Bond', 'CHF Cautious Allocation',\n       'Islamic Allocation - Other', 'Islamic Global Bond',\n       'RMB High Yield Bond', 'SEK Flexible Allocation', 'Alt - Other',\n       'Property - Indirect Eurozone', 'EUR Aggressive Allocation',\n       'SEK Cautious Allocation', 'SEK Bond', 'SEK Corporate Bond',\n       'France Large-Cap Equity', 'Target Date 2046+',\n       'Target Date 2041 - 2045', 'CHF Bond - Short Term',\n       'Target Date 2016 - 2020', 'Target Date 2021 - 2025',\n       'Target Date 2026 - 2030', 'Target Date 2031 - 2035',\n       'Target Date 2036 - 2040', 'NOK Cautious Allocation',\n       'Global Bond - CHF Biased', 'Target Date 2011 - 2015',\n       'Vietnam Equity', 'Sweden Equity', 'Guaranteed Funds'],\n      dtype=object)"
     },
     "execution_count": 285,
     "metadata": {},
     "output_type": "execute_result"
    }
   ],
   "source": [
    "categories"
   ],
   "metadata": {
    "collapsed": false,
    "ExecuteTime": {
     "end_time": "2023-11-09T13:25:00.909219300Z",
     "start_time": "2023-11-09T13:25:00.820177500Z"
    }
   }
  },
  {
   "cell_type": "code",
   "execution_count": 286,
   "outputs": [
    {
     "name": "stdout",
     "output_type": "stream",
     "text": [
      "ASEAN Equity\n",
      "Africa & Middle East Equity\n",
      "Africa Equity\n",
      "Alt - Currency\n",
      "Alt - Event Driven\n",
      "Alt - Global Macro\n",
      "Alt - Long/Short Credit\n",
      "Alt - Long/Short Equity - Europe\n",
      "Alt - Long/Short Equity - Global\n",
      "Alt - Long/Short Equity - Other\n",
      "Alt - Long/Short Equity - UK\n",
      "Alt - Long/Short Equity - US\n",
      "Alt - Market Neutral - Equity\n",
      "Alt - Multistrategy\n",
      "Alt - Other\n",
      "Alt - Relative Value Arbitrage\n",
      "Alt - Systematic Futures\n",
      "Alt - Volatility\n",
      "Asia Allocation\n",
      "Asia Bond\n",
      "Asia Bond - Local Currency\n",
      "Asia High Yield Bond\n",
      "Asia ex-Japan Equity\n",
      "Asia ex-Japan Small/Mid-Cap Equity\n",
      "Asia-Pacific ex-Japan Equity\n",
      "Asia-Pacific ex-Japan Equity Income\n",
      "Asia-Pacific inc. Japan Equity\n",
      "Australia & New Zealand Equity\n",
      "BRIC Equity\n",
      "Brazil Equity\n",
      "CHF Aggressive Allocation\n",
      "CHF Bond\n",
      "CHF Bond - Short Term\n",
      "CHF Cautious Allocation\n",
      "CHF Moderate Allocation\n",
      "CHF Money Market\n",
      "Canada Equity\n",
      "Capital Protected\n",
      "China Equity\n",
      "China Equity - A Shares\n",
      "Commodities - Broad Agriculture\n",
      "Commodities - Broad Basket\n",
      "Convertible Bond - Europe\n",
      "Convertible Bond - Global\n",
      "Convertible Bond - Global, CHF Hedged\n",
      "Convertible Bond - Global, EUR Hedged\n",
      "Convertible Bond - Global, GBP Hedged\n",
      "Convertible Bond - Global, USD Hedged\n",
      "Convertible Bond - Other\n",
      "DKK Bond\n",
      "DKK Domestic Bond\n",
      "Denmark Equity\n",
      "EUR Aggressive Allocation\n",
      "EUR Aggressive Allocation - Global\n",
      "EUR Bond - Long Term\n",
      "EUR Cautious Allocation\n",
      "EUR Cautious Allocation - Global\n",
      "EUR Corporate Bond\n",
      "EUR Corporate Bond - Short Term\n",
      "EUR Diversified Bond\n",
      "EUR Diversified Bond - Short Term\n",
      "EUR Flexible Allocation\n",
      "EUR Flexible Allocation - Global\n",
      "EUR Flexible Bond\n",
      "EUR Government Bond\n",
      "EUR Government Bond - Short Term\n",
      "EUR High Yield Bond\n",
      "EUR Inflation-Linked Bond\n",
      "EUR Moderate Allocation\n",
      "EUR Moderate Allocation - Global\n",
      "EUR Money Market\n",
      "EUR Money Market - Short Term\n",
      "EUR Subordinated Bond\n",
      "EUR Ultra Short-Term Bond\n",
      "Emerging Europe Bond\n",
      "Emerging Europe Equity\n",
      "Emerging Europe ex-Russia Equity\n",
      "Europe Bond\n",
      "Europe Equity Income\n",
      "Europe Flex-Cap Equity\n",
      "Europe Large-Cap Blend Equity\n",
      "Europe Large-Cap Growth Equity\n",
      "Europe Large-Cap Value Equity\n",
      "Europe Mid-Cap Equity\n",
      "Europe Small-Cap Equity\n",
      "Europe ex-UK Large-Cap Equity\n",
      "Europe ex-UK Small/Mid-Cap Equity\n",
      "Eurozone Flex-Cap Equity\n",
      "Eurozone Large-Cap Equity\n",
      "Eurozone Mid-Cap Equity\n",
      "Eurozone Small-Cap Equity\n",
      "Fixed Term Bond\n",
      "France Large-Cap Equity\n",
      "France Small/Mid-Cap Equity\n",
      "GBP Adventurous Allocation\n",
      "GBP Cautious Allocation\n",
      "GBP Corporate Bond\n",
      "GBP Diversified Bond\n",
      "GBP Diversified Bond - Short Term\n",
      "GBP Flexible Allocation\n",
      "GBP Flexible Bond\n",
      "GBP Government Bond\n",
      "GBP High Yield Bond\n",
      "GBP Inflation-Linked Bond\n",
      "GBP Moderate Allocation\n",
      "GBP Moderately Adventurous Allocation\n",
      "GBP Moderately Cautious Allocation\n",
      "GBP Money Market\n",
      "GBP Money Market - Short Term\n",
      "Germany Large-Cap Equity\n",
      "Germany Small/Mid-Cap Equity\n",
      "Global Bond\n",
      "Global Bond - CHF Biased\n",
      "Global Bond - CHF Hedged\n",
      "Global Bond - EUR Biased\n",
      "Global Bond - EUR Hedged\n",
      "Global Bond - GBP Biased\n",
      "Global Bond - GBP Hedged\n",
      "Global Bond - ILS\n",
      "Global Bond - NOK Hedged\n",
      "Global Bond - USD Hedged\n",
      "Global Corporate Bond\n",
      "Global Corporate Bond - CHF Hedged\n",
      "Global Corporate Bond - EUR Hedged\n",
      "Global Corporate Bond - GBP Hedged\n",
      "Global Corporate Bond - USD Hedged\n",
      "Global Emerging Markets Allocation\n",
      "Global Emerging Markets Bond\n",
      "Global Emerging Markets Bond - EUR Biased\n",
      "Global Emerging Markets Bond - Local Currency\n",
      "Global Emerging Markets Corporate Bond\n",
      "Global Emerging Markets Corporate Bond - EUR Biased\n",
      "Global Emerging Markets Equity\n",
      "Global Emerging Markets Small/Mid-Cap Equity\n",
      "Global Equity Income\n",
      "Global Flex-Cap Equity\n",
      "Global Flexible Bond\n",
      "Global Flexible Bond - CHF Hedged\n",
      "Global Flexible Bond - EUR Hedged\n",
      "Global Flexible Bond - GBP Hedged\n",
      "Global Flexible Bond - USD Hedged\n",
      "Global Frontier Markets Equity\n",
      "Global High Yield Bond\n",
      "Global High Yield Bond - CHF Hedged\n",
      "Global High Yield Bond - EUR Hedged\n",
      "Global High Yield Bond - GBP Hedged\n",
      "Global Inflation-Linked Bond\n",
      "Global Inflation-Linked Bond - EUR Hedged\n",
      "Global Inflation-Linked Bond - GBP Hedged\n",
      "Global Inflation-Linked Bond - USD Hedged\n",
      "Global Large-Cap Blend Equity\n",
      "Global Large-Cap Growth Equity\n",
      "Global Large-Cap Value Equity\n",
      "Global Small-Cap Equity\n",
      "Greater China Allocation\n",
      "Greater China Equity\n",
      "Guaranteed Funds\n",
      "HKD Bond\n",
      "Hong Kong Equity\n",
      "India Equity\n",
      "Indonesia Equity\n",
      "Islamic Allocation - Other\n",
      "Islamic Equity - Other\n",
      "Islamic Global Bond\n",
      "Islamic Global Equity\n",
      "Italy Equity\n",
      "JPY Bond\n",
      "Japan Flex-Cap Equity\n",
      "Japan Large-Cap Equity\n",
      "Japan Small/Mid-Cap Equity\n",
      "Korea Equity\n",
      "Latin America Equity\n",
      "Money Market - Other\n",
      "NOK Bond\n",
      "NOK Bond - Short Term\n",
      "NOK Cautious Allocation\n",
      "NOK High Yield Bond\n",
      "NOK Moderate Allocation\n",
      "Nordic Equity\n",
      "Nordic Small/Mid-Cap Equity\n",
      "Norway Equity\n",
      "Other\n",
      "Other Allocation\n",
      "Other Bond\n",
      "Other Equity\n",
      "Pacific ex-Japan Equity\n",
      "Property - Direct Europe\n",
      "Property - Direct Global\n",
      "Property - Direct Other\n",
      "Property - Direct UK\n",
      "Property - Indirect Asia\n",
      "Property - Indirect Europe\n",
      "Property - Indirect Eurozone\n",
      "Property - Indirect Global\n",
      "Property - Indirect North America\n",
      "Property - Indirect Other\n",
      "RMB Bond\n",
      "RMB Bond - Onshore\n",
      "RMB High Yield Bond\n",
      "Russia Equity\n",
      "SEK Bond\n",
      "SEK Cautious Allocation\n",
      "SEK Corporate Bond\n",
      "SEK Flexible Allocation\n",
      "Sector Equity Agriculture\n",
      "Sector Equity Alternative Energy\n",
      "Sector Equity Biotechnology\n",
      "Sector Equity Communications\n",
      "Sector Equity Consumer Goods & Services\n",
      "Sector Equity Ecology\n",
      "Sector Equity Energy\n",
      "Sector Equity Financial Services\n",
      "Sector Equity Healthcare\n",
      "Sector Equity Industrial Materials\n",
      "Sector Equity Infrastructure\n",
      "Sector Equity Natural Resources\n",
      "Sector Equity Precious Metals\n",
      "Sector Equity Private Equity\n",
      "Sector Equity Technology\n",
      "Sector Equity Water\n",
      "Singapore Equity\n",
      "Spain Equity\n",
      "Sweden Equity\n",
      "Switzerland Large-Cap Equity\n",
      "Switzerland Small/Mid-Cap Equity\n",
      "Taiwan Large-Cap Equity\n",
      "Target Date 2011 - 2015\n",
      "Target Date 2016 - 2020\n",
      "Target Date 2021 - 2025\n",
      "Target Date 2026 - 2030\n",
      "Target Date 2031 - 2035\n",
      "Target Date 2036 - 2040\n",
      "Target Date 2041 - 2045\n",
      "Target Date 2046+\n",
      "Thailand Equity\n",
      "Turkey Equity\n",
      "UK Equity Income\n",
      "UK Flex-Cap Equity\n",
      "UK Large-Cap Equity\n",
      "UK Mid-Cap Equity\n",
      "UK Small-Cap Equity\n",
      "US Flex-Cap Equity\n",
      "US Large-Cap Blend Equity\n",
      "US Large-Cap Growth Equity\n",
      "US Large-Cap Value Equity\n",
      "US Mid-Cap Equity\n",
      "US Small-Cap Equity\n",
      "USD Aggressive Allocation\n",
      "USD Cautious Allocation\n",
      "USD Corporate Bond\n",
      "USD Diversified Bond\n",
      "USD Diversified Bond - Short Term\n",
      "USD Flexible Allocation\n",
      "USD Flexible Bond\n",
      "USD Government Bond\n",
      "USD High Yield Bond\n",
      "USD Inflation-Linked Bond\n",
      "USD Moderate Allocation\n",
      "USD Money Market\n",
      "USD Money Market - Short Term\n",
      "Vietnam Equity\n"
     ]
    }
   ],
   "source": [
    "sorted_categories = sorted(categories)\n",
    "for category in sorted_categories:\n",
    "    print(category)"
   ],
   "metadata": {
    "collapsed": false,
    "ExecuteTime": {
     "end_time": "2023-11-09T13:27:51.870899300Z",
     "start_time": "2023-11-09T13:27:51.768812400Z"
    }
   }
  },
  {
   "cell_type": "code",
   "execution_count": 287,
   "outputs": [],
   "source": [
    "cat_freq = data['morningstar_category'].value_counts()"
   ],
   "metadata": {
    "collapsed": false,
    "ExecuteTime": {
     "end_time": "2023-11-09T13:29:26.546352700Z",
     "start_time": "2023-11-09T13:29:26.345380400Z"
    }
   }
  },
  {
   "cell_type": "code",
   "execution_count": 288,
   "outputs": [
    {
     "data": {
      "text/plain": "Other Bond                        3418\nOther Equity                      3209\nGlobal Large-Cap Blend Equity     2054\nGlobal Emerging Markets Equity    1822\nGBP Moderate Allocation           1085\n                                  ... \nGlobal Bond - GBP Biased             1\nGlobal Bond - ILS                    1\nTarget Date 2011 - 2015              1\nNOK Moderate Allocation              1\nGuaranteed Funds                     1\nName: morningstar_category, Length: 261, dtype: int64"
     },
     "execution_count": 288,
     "metadata": {},
     "output_type": "execute_result"
    }
   ],
   "source": [
    "cat_freq"
   ],
   "metadata": {
    "collapsed": false,
    "ExecuteTime": {
     "end_time": "2023-11-09T13:29:32.609409Z",
     "start_time": "2023-11-09T13:29:32.515405500Z"
    }
   }
  },
  {
   "cell_type": "code",
   "execution_count": 289,
   "outputs": [
    {
     "data": {
      "text/plain": "pandas.core.series.Series"
     },
     "execution_count": 289,
     "metadata": {},
     "output_type": "execute_result"
    }
   ],
   "source": [
    "type(cat_freq)"
   ],
   "metadata": {
    "collapsed": false,
    "ExecuteTime": {
     "end_time": "2023-11-09T13:30:48.456949400Z",
     "start_time": "2023-11-09T13:30:48.367943Z"
    }
   }
  },
  {
   "cell_type": "code",
   "execution_count": 290,
   "outputs": [
    {
     "data": {
      "text/plain": "Index(['Other Bond', 'Other Equity', 'Global Large-Cap Blend Equity',\n       'Global Emerging Markets Equity', 'GBP Moderate Allocation',\n       'Alt - Multistrategy', 'Global Emerging Markets Bond',\n       'US Large-Cap Blend Equity', 'Japan Large-Cap Equity',\n       'GBP Moderately Adventurous Allocation',\n       ...\n       'Global Bond - NOK Hedged', 'NOK Cautious Allocation', 'Vietnam Equity',\n       'EUR Aggressive Allocation', 'RMB High Yield Bond',\n       'Global Bond - GBP Biased', 'Global Bond - ILS',\n       'Target Date 2011 - 2015', 'NOK Moderate Allocation',\n       'Guaranteed Funds'],\n      dtype='object', length=261)"
     },
     "execution_count": 290,
     "metadata": {},
     "output_type": "execute_result"
    }
   ],
   "source": [
    "cat_freq.index"
   ],
   "metadata": {
    "collapsed": false,
    "ExecuteTime": {
     "end_time": "2023-11-09T13:31:08.085300300Z",
     "start_time": "2023-11-09T13:31:07.890337400Z"
    }
   }
  },
  {
   "cell_type": "code",
   "execution_count": 293,
   "outputs": [
    {
     "name": "stdout",
     "output_type": "stream",
     "text": [
      "3418\tOther Bond\n",
      "3209\tOther Equity\n",
      "2054\tGlobal Large-Cap Blend Equity\n",
      "1822\tGlobal Emerging Markets Equity\n",
      "1085\tGBP Moderate Allocation\n",
      "899\tAlt - Multistrategy\n",
      "874\tGlobal Emerging Markets Bond\n",
      "828\tUS Large-Cap Blend Equity\n",
      "780\tJapan Large-Cap Equity\n",
      "756\tGBP Moderately Adventurous Allocation\n",
      "713\tAlt - Long/Short Credit\n",
      "702\tEurope Large-Cap Blend Equity\n",
      "696\tGlobal Equity Income\n",
      "632\tGlobal Large-Cap Growth Equity\n",
      "626\tGlobal Emerging Markets Bond - Local Currency\n",
      "616\tUK Large-Cap Equity\n",
      "553\tAsia ex-Japan Equity\n",
      "546\tGBP Moderately Cautious Allocation\n",
      "531\tEurope ex-UK Large-Cap Equity\n",
      "527\tUSD Moderate Allocation\n",
      "509\tUS Large-Cap Growth Equity\n",
      "490\tGlobal Bond\n",
      "464\tGlobal High Yield Bond\n",
      "456\tUK Equity Income\n",
      "444\tEUR Corporate Bond\n",
      "442\tUSD High Yield Bond\n",
      "423\tGlobal Flexible Bond - GBP Hedged\n",
      "419\tGBP Corporate Bond\n",
      "415\tGBP Adventurous Allocation\n",
      "415\tOther Allocation\n",
      "413\tGlobal Emerging Markets Bond - EUR Biased\n",
      "400\tGlobal Flexible Bond - EUR Hedged\n",
      "390\tEUR Moderate Allocation - Global\n",
      "381\tUK Flex-Cap Equity\n",
      "381\tChina Equity\n",
      "375\tEUR High Yield Bond\n",
      "342\tProperty - Indirect Global\n",
      "342\tGlobal Flexible Bond - USD Hedged\n",
      "334\tUS Large-Cap Value Equity\n",
      "332\tGlobal Flexible Bond\n",
      "331\tAsia-Pacific ex-Japan Equity\n",
      "324\tEurozone Large-Cap Equity\n",
      "319\tIndia Equity\n",
      "303\tAlt - Market Neutral - Equity\n",
      "300\tGlobal Bond - EUR Hedged\n",
      "296\tGlobal Flex-Cap Equity\n",
      "293\tGBP Flexible Allocation\n",
      "288\tUSD Money Market - Short Term\n",
      "285\tGlobal Emerging Markets Corporate Bond\n",
      "279\tSector Equity Technology\n",
      "276\tEUR Diversified Bond\n",
      "275\tGlobal High Yield Bond - EUR Hedged\n",
      "263\tGlobal Large-Cap Value Equity\n",
      "260\tAsia-Pacific ex-Japan Equity Income\n",
      "258\tFixed Term Bond\n",
      "257\tGlobal Bond - USD Hedged\n",
      "255\tEUR Flexible Allocation - Global\n",
      "251\tEurope Large-Cap Growth Equity\n",
      "248\tUSD Diversified Bond\n",
      "232\tEurope Small-Cap Equity\n",
      "231\tGlobal Corporate Bond - USD Hedged\n",
      "226\tSector Equity Infrastructure\n",
      "224\tUS Small-Cap Equity\n",
      "209\tAlt - Long/Short Equity - Europe\n",
      "201\tUK Small-Cap Equity\n",
      "201\tEUR Cautious Allocation - Global\n",
      "200\tAlt - Global Macro\n",
      "191\tUS Flex-Cap Equity\n",
      "191\tConvertible Bond - Global, EUR Hedged\n",
      "189\tGBP Money Market - Short Term\n",
      "188\tLatin America Equity\n",
      "188\tEurope Equity Income\n",
      "187\tUSD Aggressive Allocation\n",
      "187\tGlobal High Yield Bond - GBP Hedged\n",
      "186\tCommodities - Broad Basket\n",
      "186\tGlobal Bond - GBP Hedged\n",
      "185\tUSD Cautious Allocation\n",
      "179\tProperty - Direct UK\n",
      "173\tGlobal Small-Cap Equity\n",
      "160\tSector Equity Consumer Goods & Services\n",
      "158\tSector Equity Ecology\n",
      "157\tUSD Flexible Allocation\n",
      "156\tGlobal Corporate Bond - EUR Hedged\n",
      "153\tSector Equity Healthcare\n",
      "149\tEUR Money Market - Short Term\n",
      "148\tUSD Diversified Bond - Short Term\n",
      "145\tGlobal Emerging Markets Corporate Bond - EUR Biased\n",
      "143\tAsia ex-Japan Small/Mid-Cap Equity\n",
      "143\tEUR Aggressive Allocation - Global\n",
      "142\tAsia Bond\n",
      "140\tUSD Corporate Bond\n",
      "139\tGBP Government Bond\n",
      "132\tBRIC Equity\n",
      "132\tGlobal Inflation-Linked Bond - EUR Hedged\n",
      "130\tGlobal Inflation-Linked Bond - USD Hedged\n",
      "129\tUS Mid-Cap Equity\n",
      "129\tJapan Small/Mid-Cap Equity\n",
      "128\tSector Equity Natural Resources\n",
      "128\tAlt - Systematic Futures\n",
      "126\tEmerging Europe Equity\n",
      "121\tAlt - Volatility\n",
      "120\tEUR Government Bond\n",
      "119\tEurope Flex-Cap Equity\n",
      "118\tRussia Equity\n",
      "118\tGlobal Frontier Markets Equity\n",
      "117\tUSD Flexible Bond\n",
      "115\tGlobal Emerging Markets Small/Mid-Cap Equity\n",
      "115\tGBP Cautious Allocation\n",
      "114\tGlobal Corporate Bond - GBP Hedged\n",
      "114\tSector Equity Precious Metals\n",
      "114\tAlt - Long/Short Equity - Global\n",
      "112\tMoney Market - Other\n",
      "111\tAsia Bond - Local Currency\n",
      "105\tEUR Flexible Bond\n",
      "105\tBrazil Equity\n",
      "105\tEurope ex-UK Small/Mid-Cap Equity\n",
      "104\tProperty - Indirect Other\n",
      "103\tAlt - Long/Short Equity - UK\n",
      "103\tEurope Large-Cap Value Equity\n",
      "103\tSector Equity Energy\n",
      "102\tGreater China Equity\n",
      "100\tAlt - Event Driven\n",
      "99\tConvertible Bond - Global, USD Hedged\n",
      "97\tGlobal Emerging Markets Allocation\n",
      "96\tSector Equity Financial Services\n",
      "95\tGBP Diversified Bond\n",
      "94\tEUR Diversified Bond - Short Term\n",
      "88\tAsia-Pacific inc. Japan Equity\n",
      "87\tPacific ex-Japan Equity\n",
      "87\tAlt - Long/Short Equity - US\n",
      "87\tConvertible Bond - Global\n",
      "85\tJapan Flex-Cap Equity\n",
      "84\tGlobal Corporate Bond\n",
      "83\tGlobal Bond - CHF Hedged\n",
      "81\tGBP Inflation-Linked Bond\n",
      "79\tEurope Mid-Cap Equity\n",
      "78\tUSD Government Bond\n",
      "78\tConvertible Bond - Europe\n",
      "77\tGlobal Flexible Bond - CHF Hedged\n",
      "76\tSector Equity Water\n",
      "74\tConvertible Bond - Global, CHF Hedged\n",
      "73\tUK Mid-Cap Equity\n",
      "68\tRMB Bond\n",
      "68\tCHF Moderate Allocation\n",
      "66\tAlt - Currency\n",
      "66\tConvertible Bond - Other\n",
      "64\tEUR Subordinated Bond\n",
      "63\tASEAN Equity\n",
      "63\tSector Equity Agriculture\n",
      "62\tConvertible Bond - Global, GBP Hedged\n",
      "60\tIslamic Global Equity\n",
      "59\tProperty - Direct Global\n",
      "59\tSector Equity Alternative Energy\n",
      "58\tGlobal High Yield Bond - CHF Hedged\n",
      "55\tGBP High Yield Bond\n",
      "54\tEUR Money Market\n",
      "53\tAfrica & Middle East Equity\n",
      "53\tProperty - Indirect Europe\n",
      "53\tGlobal Inflation-Linked Bond - GBP Hedged\n",
      "52\tAsia High Yield Bond\n",
      "51\tChina Equity - A Shares\n",
      "50\tCHF Cautious Allocation\n",
      "50\tHong Kong Equity\n",
      "50\tGBP Flexible Bond\n",
      "46\tEUR Corporate Bond - Short Term\n",
      "46\tAfrica Equity\n",
      "45\tRMB Bond - Onshore\n",
      "45\tProperty - Indirect Asia\n",
      "44\tGermany Large-Cap Equity\n",
      "43\tAlt - Long/Short Equity - Other\n",
      "42\tSwitzerland Large-Cap Equity\n",
      "42\tTurkey Equity\n",
      "40\tGlobal Corporate Bond - CHF Hedged\n",
      "40\tAlt - Other\n",
      "39\tEurozone Mid-Cap Equity\n",
      "39\tSector Equity Biotechnology\n",
      "37\tEUR Ultra Short-Term Bond\n",
      "36\tIslamic Allocation - Other\n",
      "36\tEUR Inflation-Linked Bond\n",
      "35\tUSD Money Market\n",
      "33\tGBP Money Market\n",
      "32\tOther\n",
      "31\tEUR Cautious Allocation\n",
      "31\tAsia Allocation\n",
      "30\tSwitzerland Small/Mid-Cap Equity\n",
      "29\tEUR Moderate Allocation\n",
      "29\tNordic Equity\n",
      "28\tCHF Bond\n",
      "28\tThailand Equity\n",
      "27\tCHF Aggressive Allocation\n",
      "27\tGlobal Inflation-Linked Bond\n",
      "27\tKorea Equity\n",
      "25\tEUR Flexible Allocation\n",
      "24\tIslamic Global Bond\n",
      "23\tProperty - Indirect North America\n",
      "21\tAlt - Relative Value Arbitrage\n",
      "20\tTaiwan Large-Cap Equity\n",
      "19\tItaly Equity\n",
      "18\tCommodities - Broad Agriculture\n",
      "17\tEurozone Flex-Cap Equity\n",
      "17\tSector Equity Industrial Materials\n",
      "16\tGBP Diversified Bond - Short Term\n",
      "16\tUSD Inflation-Linked Bond\n",
      "16\tCHF Money Market\n",
      "15\tEmerging Europe ex-Russia Equity\n",
      "15\tDKK Domestic Bond\n",
      "15\tAustralia & New Zealand Equity\n",
      "15\tIndonesia Equity\n",
      "14\tEurope Bond\n",
      "14\tEUR Bond - Long Term\n",
      "13\tGlobal Bond - EUR Biased\n",
      "12\tCanada Equity\n",
      "12\tEmerging Europe Bond\n",
      "12\tEUR Government Bond - Short Term\n",
      "12\tNorway Equity\n",
      "12\tNOK Bond - Short Term\n",
      "11\tFrance Large-Cap Equity\n",
      "11\tSector Equity Communications\n",
      "11\tGermany Small/Mid-Cap Equity\n",
      "11\tSpain Equity\n",
      "11\tProperty - Direct Europe\n",
      "10\tSector Equity Private Equity\n",
      "10\tIslamic Equity - Other\n",
      "9\tNOK High Yield Bond\n",
      "9\tDKK Bond\n",
      "9\tSEK Bond\n",
      "8\tCapital Protected\n",
      "8\tGreater China Allocation\n",
      "8\tSweden Equity\n",
      "8\tNordic Small/Mid-Cap Equity\n",
      "8\tNOK Bond\n",
      "8\tDenmark Equity\n",
      "7\tCHF Bond - Short Term\n",
      "7\tProperty - Direct Other\n",
      "6\tProperty - Indirect Eurozone\n",
      "6\tGlobal Bond - CHF Biased\n",
      "6\tJPY Bond\n",
      "6\tHKD Bond\n",
      "6\tTarget Date 2046+\n",
      "6\tEurozone Small-Cap Equity\n",
      "6\tTarget Date 2016 - 2020\n",
      "6\tSEK Cautious Allocation\n",
      "5\tTarget Date 2041 - 2045\n",
      "5\tSEK Corporate Bond\n",
      "5\tTarget Date 2036 - 2040\n",
      "5\tTarget Date 2021 - 2025\n",
      "5\tTarget Date 2026 - 2030\n",
      "5\tTarget Date 2031 - 2035\n",
      "5\tFrance Small/Mid-Cap Equity\n",
      "5\tSingapore Equity\n",
      "4\tSEK Flexible Allocation\n",
      "3\tGlobal Bond - NOK Hedged\n",
      "2\tNOK Cautious Allocation\n",
      "2\tVietnam Equity\n",
      "1\tEUR Aggressive Allocation\n",
      "1\tRMB High Yield Bond\n",
      "1\tGlobal Bond - GBP Biased\n",
      "1\tGlobal Bond - ILS\n",
      "1\tTarget Date 2011 - 2015\n",
      "1\tNOK Moderate Allocation\n",
      "1\tGuaranteed Funds\n"
     ]
    }
   ],
   "source": [
    "for cat, freq in cat_freq.items():\n",
    "    print(f'{freq}\\t{cat}')\n"
   ],
   "metadata": {
    "collapsed": false,
    "ExecuteTime": {
     "end_time": "2023-11-09T13:34:03.923681400Z",
     "start_time": "2023-11-09T13:34:03.883650400Z"
    }
   }
  },
  {
   "cell_type": "code",
   "execution_count": 294,
   "outputs": [
    {
     "data": {
      "text/plain": "ASEAN Equity                      63\nAfrica & Middle East Equity       53\nAfrica Equity                     46\nAlt - Currency                    66\nAlt - Event Driven               100\n                                ... \nUSD Inflation-Linked Bond         16\nUSD Moderate Allocation          527\nUSD Money Market                  35\nUSD Money Market - Short Term    288\nVietnam Equity                     2\nName: morningstar_category, Length: 261, dtype: int64"
     },
     "execution_count": 294,
     "metadata": {},
     "output_type": "execute_result"
    }
   ],
   "source": [
    "cat_freq.sort_index()"
   ],
   "metadata": {
    "collapsed": false,
    "ExecuteTime": {
     "end_time": "2023-11-09T13:34:49.197486500Z",
     "start_time": "2023-11-09T13:34:49.062484500Z"
    }
   }
  },
  {
   "cell_type": "code",
   "execution_count": 295,
   "outputs": [
    {
     "name": "stdout",
     "output_type": "stream",
     "text": [
      "63\tASEAN Equity\n",
      "53\tAfrica & Middle East Equity\n",
      "46\tAfrica Equity\n",
      "66\tAlt - Currency\n",
      "100\tAlt - Event Driven\n",
      "200\tAlt - Global Macro\n",
      "713\tAlt - Long/Short Credit\n",
      "209\tAlt - Long/Short Equity - Europe\n",
      "114\tAlt - Long/Short Equity - Global\n",
      "43\tAlt - Long/Short Equity - Other\n",
      "103\tAlt - Long/Short Equity - UK\n",
      "87\tAlt - Long/Short Equity - US\n",
      "303\tAlt - Market Neutral - Equity\n",
      "899\tAlt - Multistrategy\n",
      "40\tAlt - Other\n",
      "21\tAlt - Relative Value Arbitrage\n",
      "128\tAlt - Systematic Futures\n",
      "121\tAlt - Volatility\n",
      "31\tAsia Allocation\n",
      "142\tAsia Bond\n",
      "111\tAsia Bond - Local Currency\n",
      "52\tAsia High Yield Bond\n",
      "553\tAsia ex-Japan Equity\n",
      "143\tAsia ex-Japan Small/Mid-Cap Equity\n",
      "331\tAsia-Pacific ex-Japan Equity\n",
      "260\tAsia-Pacific ex-Japan Equity Income\n",
      "88\tAsia-Pacific inc. Japan Equity\n",
      "15\tAustralia & New Zealand Equity\n",
      "132\tBRIC Equity\n",
      "105\tBrazil Equity\n",
      "27\tCHF Aggressive Allocation\n",
      "28\tCHF Bond\n",
      "7\tCHF Bond - Short Term\n",
      "50\tCHF Cautious Allocation\n",
      "68\tCHF Moderate Allocation\n",
      "16\tCHF Money Market\n",
      "12\tCanada Equity\n",
      "8\tCapital Protected\n",
      "381\tChina Equity\n",
      "51\tChina Equity - A Shares\n",
      "18\tCommodities - Broad Agriculture\n",
      "186\tCommodities - Broad Basket\n",
      "78\tConvertible Bond - Europe\n",
      "87\tConvertible Bond - Global\n",
      "74\tConvertible Bond - Global, CHF Hedged\n",
      "191\tConvertible Bond - Global, EUR Hedged\n",
      "62\tConvertible Bond - Global, GBP Hedged\n",
      "99\tConvertible Bond - Global, USD Hedged\n",
      "66\tConvertible Bond - Other\n",
      "9\tDKK Bond\n",
      "15\tDKK Domestic Bond\n",
      "8\tDenmark Equity\n",
      "1\tEUR Aggressive Allocation\n",
      "143\tEUR Aggressive Allocation - Global\n",
      "14\tEUR Bond - Long Term\n",
      "31\tEUR Cautious Allocation\n",
      "201\tEUR Cautious Allocation - Global\n",
      "444\tEUR Corporate Bond\n",
      "46\tEUR Corporate Bond - Short Term\n",
      "276\tEUR Diversified Bond\n",
      "94\tEUR Diversified Bond - Short Term\n",
      "25\tEUR Flexible Allocation\n",
      "255\tEUR Flexible Allocation - Global\n",
      "105\tEUR Flexible Bond\n",
      "120\tEUR Government Bond\n",
      "12\tEUR Government Bond - Short Term\n",
      "375\tEUR High Yield Bond\n",
      "36\tEUR Inflation-Linked Bond\n",
      "29\tEUR Moderate Allocation\n",
      "390\tEUR Moderate Allocation - Global\n",
      "54\tEUR Money Market\n",
      "149\tEUR Money Market - Short Term\n",
      "64\tEUR Subordinated Bond\n",
      "37\tEUR Ultra Short-Term Bond\n",
      "12\tEmerging Europe Bond\n",
      "126\tEmerging Europe Equity\n",
      "15\tEmerging Europe ex-Russia Equity\n",
      "14\tEurope Bond\n",
      "188\tEurope Equity Income\n",
      "119\tEurope Flex-Cap Equity\n",
      "702\tEurope Large-Cap Blend Equity\n",
      "251\tEurope Large-Cap Growth Equity\n",
      "103\tEurope Large-Cap Value Equity\n",
      "79\tEurope Mid-Cap Equity\n",
      "232\tEurope Small-Cap Equity\n",
      "531\tEurope ex-UK Large-Cap Equity\n",
      "105\tEurope ex-UK Small/Mid-Cap Equity\n",
      "17\tEurozone Flex-Cap Equity\n",
      "324\tEurozone Large-Cap Equity\n",
      "39\tEurozone Mid-Cap Equity\n",
      "6\tEurozone Small-Cap Equity\n",
      "258\tFixed Term Bond\n",
      "11\tFrance Large-Cap Equity\n",
      "5\tFrance Small/Mid-Cap Equity\n",
      "415\tGBP Adventurous Allocation\n",
      "115\tGBP Cautious Allocation\n",
      "419\tGBP Corporate Bond\n",
      "95\tGBP Diversified Bond\n",
      "16\tGBP Diversified Bond - Short Term\n",
      "293\tGBP Flexible Allocation\n",
      "50\tGBP Flexible Bond\n",
      "139\tGBP Government Bond\n",
      "55\tGBP High Yield Bond\n",
      "81\tGBP Inflation-Linked Bond\n",
      "1085\tGBP Moderate Allocation\n",
      "756\tGBP Moderately Adventurous Allocation\n",
      "546\tGBP Moderately Cautious Allocation\n",
      "33\tGBP Money Market\n",
      "189\tGBP Money Market - Short Term\n",
      "44\tGermany Large-Cap Equity\n",
      "11\tGermany Small/Mid-Cap Equity\n",
      "490\tGlobal Bond\n",
      "6\tGlobal Bond - CHF Biased\n",
      "83\tGlobal Bond - CHF Hedged\n",
      "13\tGlobal Bond - EUR Biased\n",
      "300\tGlobal Bond - EUR Hedged\n",
      "1\tGlobal Bond - GBP Biased\n",
      "186\tGlobal Bond - GBP Hedged\n",
      "1\tGlobal Bond - ILS\n",
      "3\tGlobal Bond - NOK Hedged\n",
      "257\tGlobal Bond - USD Hedged\n",
      "84\tGlobal Corporate Bond\n",
      "40\tGlobal Corporate Bond - CHF Hedged\n",
      "156\tGlobal Corporate Bond - EUR Hedged\n",
      "114\tGlobal Corporate Bond - GBP Hedged\n",
      "231\tGlobal Corporate Bond - USD Hedged\n",
      "97\tGlobal Emerging Markets Allocation\n",
      "874\tGlobal Emerging Markets Bond\n",
      "413\tGlobal Emerging Markets Bond - EUR Biased\n",
      "626\tGlobal Emerging Markets Bond - Local Currency\n",
      "285\tGlobal Emerging Markets Corporate Bond\n",
      "145\tGlobal Emerging Markets Corporate Bond - EUR Biased\n",
      "1822\tGlobal Emerging Markets Equity\n",
      "115\tGlobal Emerging Markets Small/Mid-Cap Equity\n",
      "696\tGlobal Equity Income\n",
      "296\tGlobal Flex-Cap Equity\n",
      "332\tGlobal Flexible Bond\n",
      "77\tGlobal Flexible Bond - CHF Hedged\n",
      "400\tGlobal Flexible Bond - EUR Hedged\n",
      "423\tGlobal Flexible Bond - GBP Hedged\n",
      "342\tGlobal Flexible Bond - USD Hedged\n",
      "118\tGlobal Frontier Markets Equity\n",
      "464\tGlobal High Yield Bond\n",
      "58\tGlobal High Yield Bond - CHF Hedged\n",
      "275\tGlobal High Yield Bond - EUR Hedged\n",
      "187\tGlobal High Yield Bond - GBP Hedged\n",
      "27\tGlobal Inflation-Linked Bond\n",
      "132\tGlobal Inflation-Linked Bond - EUR Hedged\n",
      "53\tGlobal Inflation-Linked Bond - GBP Hedged\n",
      "130\tGlobal Inflation-Linked Bond - USD Hedged\n",
      "2054\tGlobal Large-Cap Blend Equity\n",
      "632\tGlobal Large-Cap Growth Equity\n",
      "263\tGlobal Large-Cap Value Equity\n",
      "173\tGlobal Small-Cap Equity\n",
      "8\tGreater China Allocation\n",
      "102\tGreater China Equity\n",
      "1\tGuaranteed Funds\n",
      "6\tHKD Bond\n",
      "50\tHong Kong Equity\n",
      "319\tIndia Equity\n",
      "15\tIndonesia Equity\n",
      "36\tIslamic Allocation - Other\n",
      "10\tIslamic Equity - Other\n",
      "24\tIslamic Global Bond\n",
      "60\tIslamic Global Equity\n",
      "19\tItaly Equity\n",
      "6\tJPY Bond\n",
      "85\tJapan Flex-Cap Equity\n",
      "780\tJapan Large-Cap Equity\n",
      "129\tJapan Small/Mid-Cap Equity\n",
      "27\tKorea Equity\n",
      "188\tLatin America Equity\n",
      "112\tMoney Market - Other\n",
      "8\tNOK Bond\n",
      "12\tNOK Bond - Short Term\n",
      "2\tNOK Cautious Allocation\n",
      "9\tNOK High Yield Bond\n",
      "1\tNOK Moderate Allocation\n",
      "29\tNordic Equity\n",
      "8\tNordic Small/Mid-Cap Equity\n",
      "12\tNorway Equity\n",
      "32\tOther\n",
      "415\tOther Allocation\n",
      "3418\tOther Bond\n",
      "3209\tOther Equity\n",
      "87\tPacific ex-Japan Equity\n",
      "11\tProperty - Direct Europe\n",
      "59\tProperty - Direct Global\n",
      "7\tProperty - Direct Other\n",
      "179\tProperty - Direct UK\n",
      "45\tProperty - Indirect Asia\n",
      "53\tProperty - Indirect Europe\n",
      "6\tProperty - Indirect Eurozone\n",
      "342\tProperty - Indirect Global\n",
      "23\tProperty - Indirect North America\n",
      "104\tProperty - Indirect Other\n",
      "68\tRMB Bond\n",
      "45\tRMB Bond - Onshore\n",
      "1\tRMB High Yield Bond\n",
      "118\tRussia Equity\n",
      "9\tSEK Bond\n",
      "6\tSEK Cautious Allocation\n",
      "5\tSEK Corporate Bond\n",
      "4\tSEK Flexible Allocation\n",
      "63\tSector Equity Agriculture\n",
      "59\tSector Equity Alternative Energy\n",
      "39\tSector Equity Biotechnology\n",
      "11\tSector Equity Communications\n",
      "160\tSector Equity Consumer Goods & Services\n",
      "158\tSector Equity Ecology\n",
      "103\tSector Equity Energy\n",
      "96\tSector Equity Financial Services\n",
      "153\tSector Equity Healthcare\n",
      "17\tSector Equity Industrial Materials\n",
      "226\tSector Equity Infrastructure\n",
      "128\tSector Equity Natural Resources\n",
      "114\tSector Equity Precious Metals\n",
      "10\tSector Equity Private Equity\n",
      "279\tSector Equity Technology\n",
      "76\tSector Equity Water\n",
      "5\tSingapore Equity\n",
      "11\tSpain Equity\n",
      "8\tSweden Equity\n",
      "42\tSwitzerland Large-Cap Equity\n",
      "30\tSwitzerland Small/Mid-Cap Equity\n",
      "20\tTaiwan Large-Cap Equity\n",
      "1\tTarget Date 2011 - 2015\n",
      "6\tTarget Date 2016 - 2020\n",
      "5\tTarget Date 2021 - 2025\n",
      "5\tTarget Date 2026 - 2030\n",
      "5\tTarget Date 2031 - 2035\n",
      "5\tTarget Date 2036 - 2040\n",
      "5\tTarget Date 2041 - 2045\n",
      "6\tTarget Date 2046+\n",
      "28\tThailand Equity\n",
      "42\tTurkey Equity\n",
      "456\tUK Equity Income\n",
      "381\tUK Flex-Cap Equity\n",
      "616\tUK Large-Cap Equity\n",
      "73\tUK Mid-Cap Equity\n",
      "201\tUK Small-Cap Equity\n",
      "191\tUS Flex-Cap Equity\n",
      "828\tUS Large-Cap Blend Equity\n",
      "509\tUS Large-Cap Growth Equity\n",
      "334\tUS Large-Cap Value Equity\n",
      "129\tUS Mid-Cap Equity\n",
      "224\tUS Small-Cap Equity\n",
      "187\tUSD Aggressive Allocation\n",
      "185\tUSD Cautious Allocation\n",
      "140\tUSD Corporate Bond\n",
      "248\tUSD Diversified Bond\n",
      "148\tUSD Diversified Bond - Short Term\n",
      "157\tUSD Flexible Allocation\n",
      "117\tUSD Flexible Bond\n",
      "78\tUSD Government Bond\n",
      "442\tUSD High Yield Bond\n",
      "16\tUSD Inflation-Linked Bond\n",
      "527\tUSD Moderate Allocation\n",
      "35\tUSD Money Market\n",
      "288\tUSD Money Market - Short Term\n",
      "2\tVietnam Equity\n"
     ]
    }
   ],
   "source": [
    "for cat, freq in cat_freq.sort_index().items():\n",
    "    print(f'{freq}\\t{cat}')"
   ],
   "metadata": {
    "collapsed": false,
    "ExecuteTime": {
     "end_time": "2023-11-09T13:36:30.684365100Z",
     "start_time": "2023-11-09T13:36:30.613370Z"
    }
   }
  },
  {
   "cell_type": "code",
   "execution_count": 296,
   "outputs": [
    {
     "data": {
      "text/plain": "       fund_return_2018\ncount      41580.000000\nmean          -4.740028\nstd            6.921632\nmin          -81.780000\n25%           -9.200000\n50%           -4.290000\n75%           -0.170000\nmax           49.980000",
      "text/html": "<div>\n<style scoped>\n    .dataframe tbody tr th:only-of-type {\n        vertical-align: middle;\n    }\n\n    .dataframe tbody tr th {\n        vertical-align: top;\n    }\n\n    .dataframe thead th {\n        text-align: right;\n    }\n</style>\n<table border=\"1\" class=\"dataframe\">\n  <thead>\n    <tr style=\"text-align: right;\">\n      <th></th>\n      <th>fund_return_2018</th>\n    </tr>\n  </thead>\n  <tbody>\n    <tr>\n      <th>count</th>\n      <td>41580.000000</td>\n    </tr>\n    <tr>\n      <th>mean</th>\n      <td>-4.740028</td>\n    </tr>\n    <tr>\n      <th>std</th>\n      <td>6.921632</td>\n    </tr>\n    <tr>\n      <th>min</th>\n      <td>-81.780000</td>\n    </tr>\n    <tr>\n      <th>25%</th>\n      <td>-9.200000</td>\n    </tr>\n    <tr>\n      <th>50%</th>\n      <td>-4.290000</td>\n    </tr>\n    <tr>\n      <th>75%</th>\n      <td>-0.170000</td>\n    </tr>\n    <tr>\n      <th>max</th>\n      <td>49.980000</td>\n    </tr>\n  </tbody>\n</table>\n</div>"
     },
     "execution_count": 296,
     "metadata": {},
     "output_type": "execute_result"
    }
   ],
   "source": [
    "data.describe()"
   ],
   "metadata": {
    "collapsed": false,
    "ExecuteTime": {
     "end_time": "2023-11-09T13:36:59.713763500Z",
     "start_time": "2023-11-09T13:36:59.640116700Z"
    }
   }
  },
  {
   "cell_type": "code",
   "execution_count": 297,
   "outputs": [],
   "source": [
    "col = data['fund_return_2018']"
   ],
   "metadata": {
    "collapsed": false,
    "ExecuteTime": {
     "end_time": "2023-11-09T13:38:21.846255800Z",
     "start_time": "2023-11-09T13:38:21.639258900Z"
    }
   }
  },
  {
   "cell_type": "code",
   "execution_count": 299,
   "outputs": [
    {
     "data": {
      "text/plain": "(-81.78, -9.2, -4.29, -0.17, 49.98)"
     },
     "execution_count": 299,
     "metadata": {},
     "output_type": "execute_result"
    }
   ],
   "source": [
    "col.min(), col.quantile(0.25), col.quantile(0.5), col.quantile(0.75), col.max()\n"
   ],
   "metadata": {
    "collapsed": false,
    "ExecuteTime": {
     "end_time": "2023-11-09T13:40:47.327996900Z",
     "start_time": "2023-11-09T13:40:47.256961500Z"
    }
   }
  },
  {
   "cell_type": "code",
   "execution_count": 4,
   "outputs": [],
   "source": [
    "import numpy as np\n",
    "import pandas as pd\n",
    "\n",
    "df = pd.read_excel('populations.xls', sheet_name='data')"
   ],
   "metadata": {
    "collapsed": false,
    "ExecuteTime": {
     "end_time": "2023-11-13T09:58:06.848804900Z",
     "start_time": "2023-11-13T09:58:06.743710800Z"
    }
   }
  },
  {
   "cell_type": "code",
   "execution_count": 5,
   "outputs": [
    {
     "data": {
      "text/plain": "         Geographic Area  July 1, 2001 Estimate  July 1, 2000 Estimate  \\\n0          United States              284796887              282124631   \n1                Alabama                4464356                4451493   \n2                 Alaska                 634892                 627601   \n3                Arizona                5307331                5165274   \n4               Arkansas                2692090                2678030   \n5             California               34501130               34000446   \n6               Colorado                4417714                4323410   \n7            Connecticut                3425074                3410079   \n8               Delaware                 796165                 786234   \n9   District of Columbia                 571822                 571066   \n10               Florida               16396515               16054328   \n11               Georgia                8383915                8229823   \n12                Hawaii                1224398                1212281   \n13                 Idaho                1321006                1299258   \n14              Illinois               12482301               12435970   \n15               Indiana                6114745                6089950   \n16                  Iowa                2923179                2927509   \n17                Kansas                2694641                2691750   \n18              Kentucky                4065556                4047424   \n19             Louisiana                4465430                4469970   \n20                 Maine                1286670                1276961   \n21              Maryland                5375156                5310908   \n22         Massachusetts                6379304                6357072   \n23              Michigan                9990817                9952006   \n24             Minnesota                4972294                4931093   \n25           Mississippi                2858029                2849100   \n26              Missouri                5629707                5603553   \n27               Montana                 904433                 903157   \n28              Nebraska                1713235                1712577   \n29                Nevada                2106074                2018723   \n30         New Hampshire                1259181                1239881   \n31            New Jersey                8484431                8429007   \n32            New Mexico                1829146                1821282   \n33              New York               19011378               18989332   \n34        North Carolina                8186268                8077367   \n35          North Dakota                 634448                 640919   \n36                  Ohio               11373541               11359955   \n37              Oklahoma                3460097                3453250   \n38                Oregon                3472867                3429293   \n39          Pennsylvania               12287150               12282591   \n40          Rhode Island                1058920                1050236   \n41        South Carolina                4063011                4023438   \n42          South Dakota                 756600                 755509   \n43             Tennessee                5740021                5702027   \n44                 Texas               21325018               20946503   \n45                  Utah                2269789                2241555   \n46               Vermont                 613090                 609709   \n47              Virginia                7187734                7104016   \n48            Washington                5987973                5908372   \n49         West Virginia                1801916                1807099   \n50             Wisconsin                5401906                5372243   \n51               Wyoming                 494423                 494001   \n\n    April 1, 2000 Population Estimates Base  \n0                                 281421906  \n1                                   4447100  \n2                                    626932  \n3                                   5130632  \n4                                   2673400  \n5                                  33871648  \n6                                   4301261  \n7                                   3405565  \n8                                    783600  \n9                                    572059  \n10                                 15982378  \n11                                  8186453  \n12                                  1211537  \n13                                  1293953  \n14                                 12419293  \n15                                  6080485  \n16                                  2926324  \n17                                  2688418  \n18                                  4041769  \n19                                  4468976  \n20                                  1274923  \n21                                  5296486  \n22                                  6349097  \n23                                  9938444  \n24                                  4919479  \n25                                  2844658  \n26                                  5595211  \n27                                   902195  \n28                                  1711263  \n29                                  1998257  \n30                                  1235786  \n31                                  8414350  \n32                                  1819046  \n33                                 18976457  \n34                                  8049313  \n35                                   642200  \n36                                 11353140  \n37                                  3450654  \n38                                  3421399  \n39                                 12281054  \n40                                  1048319  \n41                                  4012012  \n42                                   754844  \n43                                  5689283  \n44                                 20851820  \n45                                  2233169  \n46                                   608827  \n47                                  7078515  \n48                                  5894121  \n49                                  1808344  \n50                                  5363675  \n51                                   493782  ",
      "text/html": "<div>\n<style scoped>\n    .dataframe tbody tr th:only-of-type {\n        vertical-align: middle;\n    }\n\n    .dataframe tbody tr th {\n        vertical-align: top;\n    }\n\n    .dataframe thead th {\n        text-align: right;\n    }\n</style>\n<table border=\"1\" class=\"dataframe\">\n  <thead>\n    <tr style=\"text-align: right;\">\n      <th></th>\n      <th>Geographic Area</th>\n      <th>July 1, 2001 Estimate</th>\n      <th>July 1, 2000 Estimate</th>\n      <th>April 1, 2000 Population Estimates Base</th>\n    </tr>\n  </thead>\n  <tbody>\n    <tr>\n      <th>0</th>\n      <td>United States</td>\n      <td>284796887</td>\n      <td>282124631</td>\n      <td>281421906</td>\n    </tr>\n    <tr>\n      <th>1</th>\n      <td>Alabama</td>\n      <td>4464356</td>\n      <td>4451493</td>\n      <td>4447100</td>\n    </tr>\n    <tr>\n      <th>2</th>\n      <td>Alaska</td>\n      <td>634892</td>\n      <td>627601</td>\n      <td>626932</td>\n    </tr>\n    <tr>\n      <th>3</th>\n      <td>Arizona</td>\n      <td>5307331</td>\n      <td>5165274</td>\n      <td>5130632</td>\n    </tr>\n    <tr>\n      <th>4</th>\n      <td>Arkansas</td>\n      <td>2692090</td>\n      <td>2678030</td>\n      <td>2673400</td>\n    </tr>\n    <tr>\n      <th>5</th>\n      <td>California</td>\n      <td>34501130</td>\n      <td>34000446</td>\n      <td>33871648</td>\n    </tr>\n    <tr>\n      <th>6</th>\n      <td>Colorado</td>\n      <td>4417714</td>\n      <td>4323410</td>\n      <td>4301261</td>\n    </tr>\n    <tr>\n      <th>7</th>\n      <td>Connecticut</td>\n      <td>3425074</td>\n      <td>3410079</td>\n      <td>3405565</td>\n    </tr>\n    <tr>\n      <th>8</th>\n      <td>Delaware</td>\n      <td>796165</td>\n      <td>786234</td>\n      <td>783600</td>\n    </tr>\n    <tr>\n      <th>9</th>\n      <td>District of Columbia</td>\n      <td>571822</td>\n      <td>571066</td>\n      <td>572059</td>\n    </tr>\n    <tr>\n      <th>10</th>\n      <td>Florida</td>\n      <td>16396515</td>\n      <td>16054328</td>\n      <td>15982378</td>\n    </tr>\n    <tr>\n      <th>11</th>\n      <td>Georgia</td>\n      <td>8383915</td>\n      <td>8229823</td>\n      <td>8186453</td>\n    </tr>\n    <tr>\n      <th>12</th>\n      <td>Hawaii</td>\n      <td>1224398</td>\n      <td>1212281</td>\n      <td>1211537</td>\n    </tr>\n    <tr>\n      <th>13</th>\n      <td>Idaho</td>\n      <td>1321006</td>\n      <td>1299258</td>\n      <td>1293953</td>\n    </tr>\n    <tr>\n      <th>14</th>\n      <td>Illinois</td>\n      <td>12482301</td>\n      <td>12435970</td>\n      <td>12419293</td>\n    </tr>\n    <tr>\n      <th>15</th>\n      <td>Indiana</td>\n      <td>6114745</td>\n      <td>6089950</td>\n      <td>6080485</td>\n    </tr>\n    <tr>\n      <th>16</th>\n      <td>Iowa</td>\n      <td>2923179</td>\n      <td>2927509</td>\n      <td>2926324</td>\n    </tr>\n    <tr>\n      <th>17</th>\n      <td>Kansas</td>\n      <td>2694641</td>\n      <td>2691750</td>\n      <td>2688418</td>\n    </tr>\n    <tr>\n      <th>18</th>\n      <td>Kentucky</td>\n      <td>4065556</td>\n      <td>4047424</td>\n      <td>4041769</td>\n    </tr>\n    <tr>\n      <th>19</th>\n      <td>Louisiana</td>\n      <td>4465430</td>\n      <td>4469970</td>\n      <td>4468976</td>\n    </tr>\n    <tr>\n      <th>20</th>\n      <td>Maine</td>\n      <td>1286670</td>\n      <td>1276961</td>\n      <td>1274923</td>\n    </tr>\n    <tr>\n      <th>21</th>\n      <td>Maryland</td>\n      <td>5375156</td>\n      <td>5310908</td>\n      <td>5296486</td>\n    </tr>\n    <tr>\n      <th>22</th>\n      <td>Massachusetts</td>\n      <td>6379304</td>\n      <td>6357072</td>\n      <td>6349097</td>\n    </tr>\n    <tr>\n      <th>23</th>\n      <td>Michigan</td>\n      <td>9990817</td>\n      <td>9952006</td>\n      <td>9938444</td>\n    </tr>\n    <tr>\n      <th>24</th>\n      <td>Minnesota</td>\n      <td>4972294</td>\n      <td>4931093</td>\n      <td>4919479</td>\n    </tr>\n    <tr>\n      <th>25</th>\n      <td>Mississippi</td>\n      <td>2858029</td>\n      <td>2849100</td>\n      <td>2844658</td>\n    </tr>\n    <tr>\n      <th>26</th>\n      <td>Missouri</td>\n      <td>5629707</td>\n      <td>5603553</td>\n      <td>5595211</td>\n    </tr>\n    <tr>\n      <th>27</th>\n      <td>Montana</td>\n      <td>904433</td>\n      <td>903157</td>\n      <td>902195</td>\n    </tr>\n    <tr>\n      <th>28</th>\n      <td>Nebraska</td>\n      <td>1713235</td>\n      <td>1712577</td>\n      <td>1711263</td>\n    </tr>\n    <tr>\n      <th>29</th>\n      <td>Nevada</td>\n      <td>2106074</td>\n      <td>2018723</td>\n      <td>1998257</td>\n    </tr>\n    <tr>\n      <th>30</th>\n      <td>New Hampshire</td>\n      <td>1259181</td>\n      <td>1239881</td>\n      <td>1235786</td>\n    </tr>\n    <tr>\n      <th>31</th>\n      <td>New Jersey</td>\n      <td>8484431</td>\n      <td>8429007</td>\n      <td>8414350</td>\n    </tr>\n    <tr>\n      <th>32</th>\n      <td>New Mexico</td>\n      <td>1829146</td>\n      <td>1821282</td>\n      <td>1819046</td>\n    </tr>\n    <tr>\n      <th>33</th>\n      <td>New York</td>\n      <td>19011378</td>\n      <td>18989332</td>\n      <td>18976457</td>\n    </tr>\n    <tr>\n      <th>34</th>\n      <td>North Carolina</td>\n      <td>8186268</td>\n      <td>8077367</td>\n      <td>8049313</td>\n    </tr>\n    <tr>\n      <th>35</th>\n      <td>North Dakota</td>\n      <td>634448</td>\n      <td>640919</td>\n      <td>642200</td>\n    </tr>\n    <tr>\n      <th>36</th>\n      <td>Ohio</td>\n      <td>11373541</td>\n      <td>11359955</td>\n      <td>11353140</td>\n    </tr>\n    <tr>\n      <th>37</th>\n      <td>Oklahoma</td>\n      <td>3460097</td>\n      <td>3453250</td>\n      <td>3450654</td>\n    </tr>\n    <tr>\n      <th>38</th>\n      <td>Oregon</td>\n      <td>3472867</td>\n      <td>3429293</td>\n      <td>3421399</td>\n    </tr>\n    <tr>\n      <th>39</th>\n      <td>Pennsylvania</td>\n      <td>12287150</td>\n      <td>12282591</td>\n      <td>12281054</td>\n    </tr>\n    <tr>\n      <th>40</th>\n      <td>Rhode Island</td>\n      <td>1058920</td>\n      <td>1050236</td>\n      <td>1048319</td>\n    </tr>\n    <tr>\n      <th>41</th>\n      <td>South Carolina</td>\n      <td>4063011</td>\n      <td>4023438</td>\n      <td>4012012</td>\n    </tr>\n    <tr>\n      <th>42</th>\n      <td>South Dakota</td>\n      <td>756600</td>\n      <td>755509</td>\n      <td>754844</td>\n    </tr>\n    <tr>\n      <th>43</th>\n      <td>Tennessee</td>\n      <td>5740021</td>\n      <td>5702027</td>\n      <td>5689283</td>\n    </tr>\n    <tr>\n      <th>44</th>\n      <td>Texas</td>\n      <td>21325018</td>\n      <td>20946503</td>\n      <td>20851820</td>\n    </tr>\n    <tr>\n      <th>45</th>\n      <td>Utah</td>\n      <td>2269789</td>\n      <td>2241555</td>\n      <td>2233169</td>\n    </tr>\n    <tr>\n      <th>46</th>\n      <td>Vermont</td>\n      <td>613090</td>\n      <td>609709</td>\n      <td>608827</td>\n    </tr>\n    <tr>\n      <th>47</th>\n      <td>Virginia</td>\n      <td>7187734</td>\n      <td>7104016</td>\n      <td>7078515</td>\n    </tr>\n    <tr>\n      <th>48</th>\n      <td>Washington</td>\n      <td>5987973</td>\n      <td>5908372</td>\n      <td>5894121</td>\n    </tr>\n    <tr>\n      <th>49</th>\n      <td>West Virginia</td>\n      <td>1801916</td>\n      <td>1807099</td>\n      <td>1808344</td>\n    </tr>\n    <tr>\n      <th>50</th>\n      <td>Wisconsin</td>\n      <td>5401906</td>\n      <td>5372243</td>\n      <td>5363675</td>\n    </tr>\n    <tr>\n      <th>51</th>\n      <td>Wyoming</td>\n      <td>494423</td>\n      <td>494001</td>\n      <td>493782</td>\n    </tr>\n  </tbody>\n</table>\n</div>"
     },
     "execution_count": 5,
     "metadata": {},
     "output_type": "execute_result"
    }
   ],
   "source": [
    "df"
   ],
   "metadata": {
    "collapsed": false,
    "ExecuteTime": {
     "end_time": "2023-11-13T09:58:12.757464500Z",
     "start_time": "2023-11-13T09:58:12.649470100Z"
    }
   }
  },
  {
   "cell_type": "code",
   "execution_count": 6,
   "outputs": [],
   "source": [
    "df = pd.read_excel(\n",
    "    'populations.xls',\n",
    "    header=0,\n",
    "    names=['region', '2001', '2000'],\n",
    "    usecols=[0, 1, 2],\n",
    "    index_col=0,\n",
    ")"
   ],
   "metadata": {
    "collapsed": false,
    "ExecuteTime": {
     "end_time": "2023-11-13T09:59:53.911338900Z",
     "start_time": "2023-11-13T09:59:53.754338200Z"
    }
   }
  },
  {
   "cell_type": "code",
   "execution_count": 7,
   "outputs": [
    {
     "data": {
      "text/plain": "                           2001       2000\nregion                                    \nUnited States         284796887  282124631\nAlabama                 4464356    4451493\nAlaska                   634892     627601\nArizona                 5307331    5165274\nArkansas                2692090    2678030\nCalifornia             34501130   34000446\nColorado                4417714    4323410\nConnecticut             3425074    3410079\nDelaware                 796165     786234\nDistrict of Columbia     571822     571066\nFlorida                16396515   16054328\nGeorgia                 8383915    8229823\nHawaii                  1224398    1212281\nIdaho                   1321006    1299258\nIllinois               12482301   12435970\nIndiana                 6114745    6089950\nIowa                    2923179    2927509\nKansas                  2694641    2691750\nKentucky                4065556    4047424\nLouisiana               4465430    4469970\nMaine                   1286670    1276961\nMaryland                5375156    5310908\nMassachusetts           6379304    6357072\nMichigan                9990817    9952006\nMinnesota               4972294    4931093\nMississippi             2858029    2849100\nMissouri                5629707    5603553\nMontana                  904433     903157\nNebraska                1713235    1712577\nNevada                  2106074    2018723\nNew Hampshire           1259181    1239881\nNew Jersey              8484431    8429007\nNew Mexico              1829146    1821282\nNew York               19011378   18989332\nNorth Carolina          8186268    8077367\nNorth Dakota             634448     640919\nOhio                   11373541   11359955\nOklahoma                3460097    3453250\nOregon                  3472867    3429293\nPennsylvania           12287150   12282591\nRhode Island            1058920    1050236\nSouth Carolina          4063011    4023438\nSouth Dakota             756600     755509\nTennessee               5740021    5702027\nTexas                  21325018   20946503\nUtah                    2269789    2241555\nVermont                  613090     609709\nVirginia                7187734    7104016\nWashington              5987973    5908372\nWest Virginia           1801916    1807099\nWisconsin               5401906    5372243\nWyoming                  494423     494001",
      "text/html": "<div>\n<style scoped>\n    .dataframe tbody tr th:only-of-type {\n        vertical-align: middle;\n    }\n\n    .dataframe tbody tr th {\n        vertical-align: top;\n    }\n\n    .dataframe thead th {\n        text-align: right;\n    }\n</style>\n<table border=\"1\" class=\"dataframe\">\n  <thead>\n    <tr style=\"text-align: right;\">\n      <th></th>\n      <th>2001</th>\n      <th>2000</th>\n    </tr>\n    <tr>\n      <th>region</th>\n      <th></th>\n      <th></th>\n    </tr>\n  </thead>\n  <tbody>\n    <tr>\n      <th>United States</th>\n      <td>284796887</td>\n      <td>282124631</td>\n    </tr>\n    <tr>\n      <th>Alabama</th>\n      <td>4464356</td>\n      <td>4451493</td>\n    </tr>\n    <tr>\n      <th>Alaska</th>\n      <td>634892</td>\n      <td>627601</td>\n    </tr>\n    <tr>\n      <th>Arizona</th>\n      <td>5307331</td>\n      <td>5165274</td>\n    </tr>\n    <tr>\n      <th>Arkansas</th>\n      <td>2692090</td>\n      <td>2678030</td>\n    </tr>\n    <tr>\n      <th>California</th>\n      <td>34501130</td>\n      <td>34000446</td>\n    </tr>\n    <tr>\n      <th>Colorado</th>\n      <td>4417714</td>\n      <td>4323410</td>\n    </tr>\n    <tr>\n      <th>Connecticut</th>\n      <td>3425074</td>\n      <td>3410079</td>\n    </tr>\n    <tr>\n      <th>Delaware</th>\n      <td>796165</td>\n      <td>786234</td>\n    </tr>\n    <tr>\n      <th>District of Columbia</th>\n      <td>571822</td>\n      <td>571066</td>\n    </tr>\n    <tr>\n      <th>Florida</th>\n      <td>16396515</td>\n      <td>16054328</td>\n    </tr>\n    <tr>\n      <th>Georgia</th>\n      <td>8383915</td>\n      <td>8229823</td>\n    </tr>\n    <tr>\n      <th>Hawaii</th>\n      <td>1224398</td>\n      <td>1212281</td>\n    </tr>\n    <tr>\n      <th>Idaho</th>\n      <td>1321006</td>\n      <td>1299258</td>\n    </tr>\n    <tr>\n      <th>Illinois</th>\n      <td>12482301</td>\n      <td>12435970</td>\n    </tr>\n    <tr>\n      <th>Indiana</th>\n      <td>6114745</td>\n      <td>6089950</td>\n    </tr>\n    <tr>\n      <th>Iowa</th>\n      <td>2923179</td>\n      <td>2927509</td>\n    </tr>\n    <tr>\n      <th>Kansas</th>\n      <td>2694641</td>\n      <td>2691750</td>\n    </tr>\n    <tr>\n      <th>Kentucky</th>\n      <td>4065556</td>\n      <td>4047424</td>\n    </tr>\n    <tr>\n      <th>Louisiana</th>\n      <td>4465430</td>\n      <td>4469970</td>\n    </tr>\n    <tr>\n      <th>Maine</th>\n      <td>1286670</td>\n      <td>1276961</td>\n    </tr>\n    <tr>\n      <th>Maryland</th>\n      <td>5375156</td>\n      <td>5310908</td>\n    </tr>\n    <tr>\n      <th>Massachusetts</th>\n      <td>6379304</td>\n      <td>6357072</td>\n    </tr>\n    <tr>\n      <th>Michigan</th>\n      <td>9990817</td>\n      <td>9952006</td>\n    </tr>\n    <tr>\n      <th>Minnesota</th>\n      <td>4972294</td>\n      <td>4931093</td>\n    </tr>\n    <tr>\n      <th>Mississippi</th>\n      <td>2858029</td>\n      <td>2849100</td>\n    </tr>\n    <tr>\n      <th>Missouri</th>\n      <td>5629707</td>\n      <td>5603553</td>\n    </tr>\n    <tr>\n      <th>Montana</th>\n      <td>904433</td>\n      <td>903157</td>\n    </tr>\n    <tr>\n      <th>Nebraska</th>\n      <td>1713235</td>\n      <td>1712577</td>\n    </tr>\n    <tr>\n      <th>Nevada</th>\n      <td>2106074</td>\n      <td>2018723</td>\n    </tr>\n    <tr>\n      <th>New Hampshire</th>\n      <td>1259181</td>\n      <td>1239881</td>\n    </tr>\n    <tr>\n      <th>New Jersey</th>\n      <td>8484431</td>\n      <td>8429007</td>\n    </tr>\n    <tr>\n      <th>New Mexico</th>\n      <td>1829146</td>\n      <td>1821282</td>\n    </tr>\n    <tr>\n      <th>New York</th>\n      <td>19011378</td>\n      <td>18989332</td>\n    </tr>\n    <tr>\n      <th>North Carolina</th>\n      <td>8186268</td>\n      <td>8077367</td>\n    </tr>\n    <tr>\n      <th>North Dakota</th>\n      <td>634448</td>\n      <td>640919</td>\n    </tr>\n    <tr>\n      <th>Ohio</th>\n      <td>11373541</td>\n      <td>11359955</td>\n    </tr>\n    <tr>\n      <th>Oklahoma</th>\n      <td>3460097</td>\n      <td>3453250</td>\n    </tr>\n    <tr>\n      <th>Oregon</th>\n      <td>3472867</td>\n      <td>3429293</td>\n    </tr>\n    <tr>\n      <th>Pennsylvania</th>\n      <td>12287150</td>\n      <td>12282591</td>\n    </tr>\n    <tr>\n      <th>Rhode Island</th>\n      <td>1058920</td>\n      <td>1050236</td>\n    </tr>\n    <tr>\n      <th>South Carolina</th>\n      <td>4063011</td>\n      <td>4023438</td>\n    </tr>\n    <tr>\n      <th>South Dakota</th>\n      <td>756600</td>\n      <td>755509</td>\n    </tr>\n    <tr>\n      <th>Tennessee</th>\n      <td>5740021</td>\n      <td>5702027</td>\n    </tr>\n    <tr>\n      <th>Texas</th>\n      <td>21325018</td>\n      <td>20946503</td>\n    </tr>\n    <tr>\n      <th>Utah</th>\n      <td>2269789</td>\n      <td>2241555</td>\n    </tr>\n    <tr>\n      <th>Vermont</th>\n      <td>613090</td>\n      <td>609709</td>\n    </tr>\n    <tr>\n      <th>Virginia</th>\n      <td>7187734</td>\n      <td>7104016</td>\n    </tr>\n    <tr>\n      <th>Washington</th>\n      <td>5987973</td>\n      <td>5908372</td>\n    </tr>\n    <tr>\n      <th>West Virginia</th>\n      <td>1801916</td>\n      <td>1807099</td>\n    </tr>\n    <tr>\n      <th>Wisconsin</th>\n      <td>5401906</td>\n      <td>5372243</td>\n    </tr>\n    <tr>\n      <th>Wyoming</th>\n      <td>494423</td>\n      <td>494001</td>\n    </tr>\n  </tbody>\n</table>\n</div>"
     },
     "execution_count": 7,
     "metadata": {},
     "output_type": "execute_result"
    }
   ],
   "source": [
    "df"
   ],
   "metadata": {
    "collapsed": false,
    "ExecuteTime": {
     "end_time": "2023-11-13T09:59:59.704183Z",
     "start_time": "2023-11-13T09:59:59.611180900Z"
    }
   }
  },
  {
   "cell_type": "code",
   "execution_count": 8,
   "outputs": [
    {
     "name": "stdout",
     "output_type": "stream",
     "text": [
      "<class 'pandas.core.frame.DataFrame'>\n",
      "Index: 52 entries, United States to Wyoming\n",
      "Data columns (total 2 columns):\n",
      " #   Column  Non-Null Count  Dtype\n",
      "---  ------  --------------  -----\n",
      " 0   2001    52 non-null     int64\n",
      " 1   2000    52 non-null     int64\n",
      "dtypes: int64(2)\n",
      "memory usage: 1.2+ KB\n"
     ]
    }
   ],
   "source": [
    "df.info()"
   ],
   "metadata": {
    "collapsed": false,
    "ExecuteTime": {
     "end_time": "2023-11-13T10:00:17.199203500Z",
     "start_time": "2023-11-13T10:00:17.092148300Z"
    }
   }
  },
  {
   "cell_type": "code",
   "execution_count": 9,
   "outputs": [],
   "source": [
    "f_path = 'Morningstar - European Mutual Funds.csv'\n",
    "df = pd.read_csv(f_path)"
   ],
   "metadata": {
    "collapsed": false,
    "ExecuteTime": {
     "end_time": "2023-11-13T10:03:56.242918Z",
     "start_time": "2023-11-13T10:03:54.808118600Z"
    }
   }
  },
  {
   "cell_type": "code",
   "execution_count": 10,
   "outputs": [
    {
     "data": {
      "text/plain": "           ticker          isin  \\\n0      0P00000AWF  LU0171281750   \n1      0P00000AYI  LU0071969892   \n2      0P00000BOW  LU0011983433   \n3      0P00000ESH  LU0757425763   \n4      0P00000ESL  LU0011818076   \n...           ...           ...   \n49394  FOUSA088S1  IE00B29Z0J87   \n49395  FOUSA08ML5  BMG8796W1780   \n49396  FOUSA0905L  BMG8797F1749   \n49397  FOUSA09F2D  IE00B3DDVH01   \n49398  FOUSA09F2G  IE00B4N0BT09   \n\n                                               fund_name  \\\n0        BlackRock Global Funds - European Value Fund A2   \n1      BlackRock Global Funds - Continental European ...   \n2      Morgan Stanley Investment Funds - Global Bond ...   \n3      Threadneedle (Lux) - American Select Class AU ...   \n4      HSBC Global Investment Funds - Economic Scale ...   \n...                                                  ...   \n49394     Man GLG RI European Equity Leaders Class I EUR   \n49395                             FMG Rising 3 Ltd A GBP   \n49396                             FMG Iraq Fund A 09 USD   \n49397        Overstone Emerging Markets Fund Class A USD   \n49398        Overstone Emerging Markets Fund Class I USD   \n\n                 morningstar_category  morningstar_rating  \\\n0       Europe Large-Cap Value Equity                 3.0   \n1       Europe ex-UK Large-Cap Equity                 4.0   \n2                         Global Bond                 5.0   \n3          US Large-Cap Growth Equity                 2.0   \n4              Japan Large-Cap Equity                 3.0   \n...                               ...                 ...   \n49394                    Other Equity                 NaN   \n49395                     Alt - Other                 NaN   \n49396                    Other Equity                 NaN   \n49397  Global Emerging Markets Equity                 5.0   \n49398  Global Emerging Markets Equity                 5.0   \n\n      morningstar_analyst_rating  morningstar_risk_rating  \\\n0                         Bronze                      3.0   \n1                         Bronze                      4.0   \n2                            NaN                      3.0   \n3                            NaN                      3.0   \n4                            NaN                      2.0   \n...                          ...                      ...   \n49394                        NaN                      NaN   \n49395                        NaN                      NaN   \n49396                        NaN                      NaN   \n49397                        NaN                      2.0   \n49398                        NaN                      2.0   \n\n       morningstar_performance_rating nav_per_share_currency  nav_per_share  \\\n0                                 3.0                    USD          68.96   \n1                                 5.0                    GBP          22.51   \n2                                 5.0                    EUR          44.20   \n3                                 2.0                    EUR          23.03   \n4                                 3.0                    USD          11.44   \n...                               ...                    ...            ...   \n49394                             NaN                    EUR         130.51   \n49395                             NaN                    GBP          91.14   \n49396                             NaN                    USD          44.85   \n49397                             4.0                    USD         223.90   \n49398                             4.0                    USD         139.83   \n\n       ... involvement_controversial_weapons  involvement_gambling  \\\n0      ...                              2.70                  0.00   \n1      ...                              9.19                  0.00   \n2      ...                              0.00                  0.24   \n3      ...                              0.00                  0.00   \n4      ...                              0.00                  0.18   \n...    ...                               ...                   ...   \n49394  ...                              0.00                  0.00   \n49395  ...                              0.24                  0.00   \n49396  ...                               NaN                   NaN   \n49397  ...                              0.00                  0.00   \n49398  ...                              0.00                  0.00   \n\n      involvement_gmo  involvement_military_contracting  involvement_nuclear  \\\n0                0.00                              5.05                 6.54   \n1                0.00                             10.93                 1.98   \n2                0.16                              0.00                 0.38   \n3                0.00                              0.26                 0.26   \n4                0.00                              0.79                 5.30   \n...               ...                               ...                  ...   \n49394            0.00                              0.00                 1.49   \n49395            0.00                              0.01                 0.01   \n49396             NaN                               NaN                  NaN   \n49397            0.00                              8.23                 0.00   \n49398            0.00                              8.23                 0.00   \n\n       involvement_palm_oil  involvement_pesticides  involvement_small_arms  \\\n0                      0.00                    0.00                    0.00   \n1                      0.00                    0.00                    0.00   \n2                      0.00                    0.35                    0.00   \n3                      0.00                    0.00                    0.00   \n4                      0.00                    0.42                    0.15   \n...                     ...                     ...                     ...   \n49394                  0.00                    0.00                    0.00   \n49395                  0.00                    0.05                    0.00   \n49396                   NaN                     NaN                     NaN   \n49397                  4.58                    0.00                    0.00   \n49398                  4.58                    0.00                    0.00   \n\n       involvement_thermal_coal  involvement_tobacco  \n0                         12.32                 0.00  \n1                          1.98                 0.00  \n2                          1.67                 0.29  \n3                          8.06                 0.00  \n4                          9.22                 2.34  \n...                         ...                  ...  \n49394                      4.67                 0.00  \n49395                      2.87                 0.29  \n49396                       NaN                  NaN  \n49397                      0.00                 0.00  \n49398                      0.00                 0.00  \n\n[49399 rows x 111 columns]",
      "text/html": "<div>\n<style scoped>\n    .dataframe tbody tr th:only-of-type {\n        vertical-align: middle;\n    }\n\n    .dataframe tbody tr th {\n        vertical-align: top;\n    }\n\n    .dataframe thead th {\n        text-align: right;\n    }\n</style>\n<table border=\"1\" class=\"dataframe\">\n  <thead>\n    <tr style=\"text-align: right;\">\n      <th></th>\n      <th>ticker</th>\n      <th>isin</th>\n      <th>fund_name</th>\n      <th>morningstar_category</th>\n      <th>morningstar_rating</th>\n      <th>morningstar_analyst_rating</th>\n      <th>morningstar_risk_rating</th>\n      <th>morningstar_performance_rating</th>\n      <th>nav_per_share_currency</th>\n      <th>nav_per_share</th>\n      <th>...</th>\n      <th>involvement_controversial_weapons</th>\n      <th>involvement_gambling</th>\n      <th>involvement_gmo</th>\n      <th>involvement_military_contracting</th>\n      <th>involvement_nuclear</th>\n      <th>involvement_palm_oil</th>\n      <th>involvement_pesticides</th>\n      <th>involvement_small_arms</th>\n      <th>involvement_thermal_coal</th>\n      <th>involvement_tobacco</th>\n    </tr>\n  </thead>\n  <tbody>\n    <tr>\n      <th>0</th>\n      <td>0P00000AWF</td>\n      <td>LU0171281750</td>\n      <td>BlackRock Global Funds - European Value Fund A2</td>\n      <td>Europe Large-Cap Value Equity</td>\n      <td>3.0</td>\n      <td>Bronze</td>\n      <td>3.0</td>\n      <td>3.0</td>\n      <td>USD</td>\n      <td>68.96</td>\n      <td>...</td>\n      <td>2.70</td>\n      <td>0.00</td>\n      <td>0.00</td>\n      <td>5.05</td>\n      <td>6.54</td>\n      <td>0.00</td>\n      <td>0.00</td>\n      <td>0.00</td>\n      <td>12.32</td>\n      <td>0.00</td>\n    </tr>\n    <tr>\n      <th>1</th>\n      <td>0P00000AYI</td>\n      <td>LU0071969892</td>\n      <td>BlackRock Global Funds - Continental European ...</td>\n      <td>Europe ex-UK Large-Cap Equity</td>\n      <td>4.0</td>\n      <td>Bronze</td>\n      <td>4.0</td>\n      <td>5.0</td>\n      <td>GBP</td>\n      <td>22.51</td>\n      <td>...</td>\n      <td>9.19</td>\n      <td>0.00</td>\n      <td>0.00</td>\n      <td>10.93</td>\n      <td>1.98</td>\n      <td>0.00</td>\n      <td>0.00</td>\n      <td>0.00</td>\n      <td>1.98</td>\n      <td>0.00</td>\n    </tr>\n    <tr>\n      <th>2</th>\n      <td>0P00000BOW</td>\n      <td>LU0011983433</td>\n      <td>Morgan Stanley Investment Funds - Global Bond ...</td>\n      <td>Global Bond</td>\n      <td>5.0</td>\n      <td>NaN</td>\n      <td>3.0</td>\n      <td>5.0</td>\n      <td>EUR</td>\n      <td>44.20</td>\n      <td>...</td>\n      <td>0.00</td>\n      <td>0.24</td>\n      <td>0.16</td>\n      <td>0.00</td>\n      <td>0.38</td>\n      <td>0.00</td>\n      <td>0.35</td>\n      <td>0.00</td>\n      <td>1.67</td>\n      <td>0.29</td>\n    </tr>\n    <tr>\n      <th>3</th>\n      <td>0P00000ESH</td>\n      <td>LU0757425763</td>\n      <td>Threadneedle (Lux) - American Select Class AU ...</td>\n      <td>US Large-Cap Growth Equity</td>\n      <td>2.0</td>\n      <td>NaN</td>\n      <td>3.0</td>\n      <td>2.0</td>\n      <td>EUR</td>\n      <td>23.03</td>\n      <td>...</td>\n      <td>0.00</td>\n      <td>0.00</td>\n      <td>0.00</td>\n      <td>0.26</td>\n      <td>0.26</td>\n      <td>0.00</td>\n      <td>0.00</td>\n      <td>0.00</td>\n      <td>8.06</td>\n      <td>0.00</td>\n    </tr>\n    <tr>\n      <th>4</th>\n      <td>0P00000ESL</td>\n      <td>LU0011818076</td>\n      <td>HSBC Global Investment Funds - Economic Scale ...</td>\n      <td>Japan Large-Cap Equity</td>\n      <td>3.0</td>\n      <td>NaN</td>\n      <td>2.0</td>\n      <td>3.0</td>\n      <td>USD</td>\n      <td>11.44</td>\n      <td>...</td>\n      <td>0.00</td>\n      <td>0.18</td>\n      <td>0.00</td>\n      <td>0.79</td>\n      <td>5.30</td>\n      <td>0.00</td>\n      <td>0.42</td>\n      <td>0.15</td>\n      <td>9.22</td>\n      <td>2.34</td>\n    </tr>\n    <tr>\n      <th>...</th>\n      <td>...</td>\n      <td>...</td>\n      <td>...</td>\n      <td>...</td>\n      <td>...</td>\n      <td>...</td>\n      <td>...</td>\n      <td>...</td>\n      <td>...</td>\n      <td>...</td>\n      <td>...</td>\n      <td>...</td>\n      <td>...</td>\n      <td>...</td>\n      <td>...</td>\n      <td>...</td>\n      <td>...</td>\n      <td>...</td>\n      <td>...</td>\n      <td>...</td>\n      <td>...</td>\n    </tr>\n    <tr>\n      <th>49394</th>\n      <td>FOUSA088S1</td>\n      <td>IE00B29Z0J87</td>\n      <td>Man GLG RI European Equity Leaders Class I EUR</td>\n      <td>Other Equity</td>\n      <td>NaN</td>\n      <td>NaN</td>\n      <td>NaN</td>\n      <td>NaN</td>\n      <td>EUR</td>\n      <td>130.51</td>\n      <td>...</td>\n      <td>0.00</td>\n      <td>0.00</td>\n      <td>0.00</td>\n      <td>0.00</td>\n      <td>1.49</td>\n      <td>0.00</td>\n      <td>0.00</td>\n      <td>0.00</td>\n      <td>4.67</td>\n      <td>0.00</td>\n    </tr>\n    <tr>\n      <th>49395</th>\n      <td>FOUSA08ML5</td>\n      <td>BMG8796W1780</td>\n      <td>FMG Rising 3 Ltd A GBP</td>\n      <td>Alt - Other</td>\n      <td>NaN</td>\n      <td>NaN</td>\n      <td>NaN</td>\n      <td>NaN</td>\n      <td>GBP</td>\n      <td>91.14</td>\n      <td>...</td>\n      <td>0.24</td>\n      <td>0.00</td>\n      <td>0.00</td>\n      <td>0.01</td>\n      <td>0.01</td>\n      <td>0.00</td>\n      <td>0.05</td>\n      <td>0.00</td>\n      <td>2.87</td>\n      <td>0.29</td>\n    </tr>\n    <tr>\n      <th>49396</th>\n      <td>FOUSA0905L</td>\n      <td>BMG8797F1749</td>\n      <td>FMG Iraq Fund A 09 USD</td>\n      <td>Other Equity</td>\n      <td>NaN</td>\n      <td>NaN</td>\n      <td>NaN</td>\n      <td>NaN</td>\n      <td>USD</td>\n      <td>44.85</td>\n      <td>...</td>\n      <td>NaN</td>\n      <td>NaN</td>\n      <td>NaN</td>\n      <td>NaN</td>\n      <td>NaN</td>\n      <td>NaN</td>\n      <td>NaN</td>\n      <td>NaN</td>\n      <td>NaN</td>\n      <td>NaN</td>\n    </tr>\n    <tr>\n      <th>49397</th>\n      <td>FOUSA09F2D</td>\n      <td>IE00B3DDVH01</td>\n      <td>Overstone Emerging Markets Fund Class A USD</td>\n      <td>Global Emerging Markets Equity</td>\n      <td>5.0</td>\n      <td>NaN</td>\n      <td>2.0</td>\n      <td>4.0</td>\n      <td>USD</td>\n      <td>223.90</td>\n      <td>...</td>\n      <td>0.00</td>\n      <td>0.00</td>\n      <td>0.00</td>\n      <td>8.23</td>\n      <td>0.00</td>\n      <td>4.58</td>\n      <td>0.00</td>\n      <td>0.00</td>\n      <td>0.00</td>\n      <td>0.00</td>\n    </tr>\n    <tr>\n      <th>49398</th>\n      <td>FOUSA09F2G</td>\n      <td>IE00B4N0BT09</td>\n      <td>Overstone Emerging Markets Fund Class I USD</td>\n      <td>Global Emerging Markets Equity</td>\n      <td>5.0</td>\n      <td>NaN</td>\n      <td>2.0</td>\n      <td>4.0</td>\n      <td>USD</td>\n      <td>139.83</td>\n      <td>...</td>\n      <td>0.00</td>\n      <td>0.00</td>\n      <td>0.00</td>\n      <td>8.23</td>\n      <td>0.00</td>\n      <td>4.58</td>\n      <td>0.00</td>\n      <td>0.00</td>\n      <td>0.00</td>\n      <td>0.00</td>\n    </tr>\n  </tbody>\n</table>\n<p>49399 rows × 111 columns</p>\n</div>"
     },
     "execution_count": 10,
     "metadata": {},
     "output_type": "execute_result"
    }
   ],
   "source": [
    "df"
   ],
   "metadata": {
    "collapsed": false,
    "ExecuteTime": {
     "end_time": "2023-11-13T10:03:57.842590800Z",
     "start_time": "2023-11-13T10:03:57.724589700Z"
    }
   }
  },
  {
   "cell_type": "code",
   "execution_count": 13,
   "outputs": [
    {
     "data": {
      "text/plain": "       ticker          isin  \\\n0  0P00000AWF  LU0171281750   \n1  0P00000AYI  LU0071969892   \n2  0P00000BOW  LU0011983433   \n3  0P00000ESH  LU0757425763   \n4  0P00000ESL  LU0011818076   \n\n                                           fund_name  \\\n0    BlackRock Global Funds - European Value Fund A2   \n1  BlackRock Global Funds - Continental European ...   \n2  Morgan Stanley Investment Funds - Global Bond ...   \n3  Threadneedle (Lux) - American Select Class AU ...   \n4  HSBC Global Investment Funds - Economic Scale ...   \n\n            morningstar_category  morningstar_rating  \\\n0  Europe Large-Cap Value Equity                 3.0   \n1  Europe ex-UK Large-Cap Equity                 4.0   \n2                    Global Bond                 5.0   \n3     US Large-Cap Growth Equity                 2.0   \n4         Japan Large-Cap Equity                 3.0   \n\n  morningstar_analyst_rating  morningstar_risk_rating  \\\n0                     Bronze                      3.0   \n1                     Bronze                      4.0   \n2                        NaN                      3.0   \n3                        NaN                      3.0   \n4                        NaN                      2.0   \n\n   morningstar_performance_rating nav_per_share_currency  nav_per_share  ...  \\\n0                             3.0                    USD          68.96  ...   \n1                             5.0                    GBP          22.51  ...   \n2                             5.0                    EUR          44.20  ...   \n3                             2.0                    EUR          23.03  ...   \n4                             3.0                    USD          11.44  ...   \n\n  involvement_controversial_weapons  involvement_gambling involvement_gmo  \\\n0                              2.70                  0.00            0.00   \n1                              9.19                  0.00            0.00   \n2                              0.00                  0.24            0.16   \n3                              0.00                  0.00            0.00   \n4                              0.00                  0.18            0.00   \n\n   involvement_military_contracting  involvement_nuclear  \\\n0                              5.05                 6.54   \n1                             10.93                 1.98   \n2                              0.00                 0.38   \n3                              0.26                 0.26   \n4                              0.79                 5.30   \n\n   involvement_palm_oil  involvement_pesticides  involvement_small_arms  \\\n0                   0.0                    0.00                    0.00   \n1                   0.0                    0.00                    0.00   \n2                   0.0                    0.35                    0.00   \n3                   0.0                    0.00                    0.00   \n4                   0.0                    0.42                    0.15   \n\n   involvement_thermal_coal  involvement_tobacco  \n0                     12.32                 0.00  \n1                      1.98                 0.00  \n2                      1.67                 0.29  \n3                      8.06                 0.00  \n4                      9.22                 2.34  \n\n[5 rows x 111 columns]",
      "text/html": "<div>\n<style scoped>\n    .dataframe tbody tr th:only-of-type {\n        vertical-align: middle;\n    }\n\n    .dataframe tbody tr th {\n        vertical-align: top;\n    }\n\n    .dataframe thead th {\n        text-align: right;\n    }\n</style>\n<table border=\"1\" class=\"dataframe\">\n  <thead>\n    <tr style=\"text-align: right;\">\n      <th></th>\n      <th>ticker</th>\n      <th>isin</th>\n      <th>fund_name</th>\n      <th>morningstar_category</th>\n      <th>morningstar_rating</th>\n      <th>morningstar_analyst_rating</th>\n      <th>morningstar_risk_rating</th>\n      <th>morningstar_performance_rating</th>\n      <th>nav_per_share_currency</th>\n      <th>nav_per_share</th>\n      <th>...</th>\n      <th>involvement_controversial_weapons</th>\n      <th>involvement_gambling</th>\n      <th>involvement_gmo</th>\n      <th>involvement_military_contracting</th>\n      <th>involvement_nuclear</th>\n      <th>involvement_palm_oil</th>\n      <th>involvement_pesticides</th>\n      <th>involvement_small_arms</th>\n      <th>involvement_thermal_coal</th>\n      <th>involvement_tobacco</th>\n    </tr>\n  </thead>\n  <tbody>\n    <tr>\n      <th>0</th>\n      <td>0P00000AWF</td>\n      <td>LU0171281750</td>\n      <td>BlackRock Global Funds - European Value Fund A2</td>\n      <td>Europe Large-Cap Value Equity</td>\n      <td>3.0</td>\n      <td>Bronze</td>\n      <td>3.0</td>\n      <td>3.0</td>\n      <td>USD</td>\n      <td>68.96</td>\n      <td>...</td>\n      <td>2.70</td>\n      <td>0.00</td>\n      <td>0.00</td>\n      <td>5.05</td>\n      <td>6.54</td>\n      <td>0.0</td>\n      <td>0.00</td>\n      <td>0.00</td>\n      <td>12.32</td>\n      <td>0.00</td>\n    </tr>\n    <tr>\n      <th>1</th>\n      <td>0P00000AYI</td>\n      <td>LU0071969892</td>\n      <td>BlackRock Global Funds - Continental European ...</td>\n      <td>Europe ex-UK Large-Cap Equity</td>\n      <td>4.0</td>\n      <td>Bronze</td>\n      <td>4.0</td>\n      <td>5.0</td>\n      <td>GBP</td>\n      <td>22.51</td>\n      <td>...</td>\n      <td>9.19</td>\n      <td>0.00</td>\n      <td>0.00</td>\n      <td>10.93</td>\n      <td>1.98</td>\n      <td>0.0</td>\n      <td>0.00</td>\n      <td>0.00</td>\n      <td>1.98</td>\n      <td>0.00</td>\n    </tr>\n    <tr>\n      <th>2</th>\n      <td>0P00000BOW</td>\n      <td>LU0011983433</td>\n      <td>Morgan Stanley Investment Funds - Global Bond ...</td>\n      <td>Global Bond</td>\n      <td>5.0</td>\n      <td>NaN</td>\n      <td>3.0</td>\n      <td>5.0</td>\n      <td>EUR</td>\n      <td>44.20</td>\n      <td>...</td>\n      <td>0.00</td>\n      <td>0.24</td>\n      <td>0.16</td>\n      <td>0.00</td>\n      <td>0.38</td>\n      <td>0.0</td>\n      <td>0.35</td>\n      <td>0.00</td>\n      <td>1.67</td>\n      <td>0.29</td>\n    </tr>\n    <tr>\n      <th>3</th>\n      <td>0P00000ESH</td>\n      <td>LU0757425763</td>\n      <td>Threadneedle (Lux) - American Select Class AU ...</td>\n      <td>US Large-Cap Growth Equity</td>\n      <td>2.0</td>\n      <td>NaN</td>\n      <td>3.0</td>\n      <td>2.0</td>\n      <td>EUR</td>\n      <td>23.03</td>\n      <td>...</td>\n      <td>0.00</td>\n      <td>0.00</td>\n      <td>0.00</td>\n      <td>0.26</td>\n      <td>0.26</td>\n      <td>0.0</td>\n      <td>0.00</td>\n      <td>0.00</td>\n      <td>8.06</td>\n      <td>0.00</td>\n    </tr>\n    <tr>\n      <th>4</th>\n      <td>0P00000ESL</td>\n      <td>LU0011818076</td>\n      <td>HSBC Global Investment Funds - Economic Scale ...</td>\n      <td>Japan Large-Cap Equity</td>\n      <td>3.0</td>\n      <td>NaN</td>\n      <td>2.0</td>\n      <td>3.0</td>\n      <td>USD</td>\n      <td>11.44</td>\n      <td>...</td>\n      <td>0.00</td>\n      <td>0.18</td>\n      <td>0.00</td>\n      <td>0.79</td>\n      <td>5.30</td>\n      <td>0.0</td>\n      <td>0.42</td>\n      <td>0.15</td>\n      <td>9.22</td>\n      <td>2.34</td>\n    </tr>\n  </tbody>\n</table>\n<p>5 rows × 111 columns</p>\n</div>"
     },
     "execution_count": 13,
     "metadata": {},
     "output_type": "execute_result"
    }
   ],
   "source": [
    "df.iloc[:5, :]"
   ],
   "metadata": {
    "collapsed": false,
    "ExecuteTime": {
     "end_time": "2023-11-13T10:04:43.352139100Z",
     "start_time": "2023-11-13T10:04:43.271146700Z"
    }
   }
  },
  {
   "cell_type": "code",
   "execution_count": 14,
   "outputs": [
    {
     "data": {
      "text/plain": "(49399, 111)"
     },
     "execution_count": 14,
     "metadata": {},
     "output_type": "execute_result"
    }
   ],
   "source": [
    "df.shape"
   ],
   "metadata": {
    "collapsed": false,
    "ExecuteTime": {
     "end_time": "2023-11-13T10:05:09.763263500Z",
     "start_time": "2023-11-13T10:05:09.685064600Z"
    }
   }
  },
  {
   "cell_type": "code",
   "execution_count": 15,
   "outputs": [
    {
     "name": "stdout",
     "output_type": "stream",
     "text": [
      "<class 'pandas.core.frame.DataFrame'>\n",
      "RangeIndex: 49399 entries, 0 to 49398\n",
      "Columns: 111 entries, ticker to involvement_tobacco\n",
      "dtypes: float64(90), int64(2), object(19)\n",
      "memory usage: 41.8+ MB\n"
     ]
    }
   ],
   "source": [
    "df.info()"
   ],
   "metadata": {
    "collapsed": false,
    "ExecuteTime": {
     "end_time": "2023-11-13T10:05:17.756599Z",
     "start_time": "2023-11-13T10:05:17.623346600Z"
    }
   }
  },
  {
   "cell_type": "code",
   "execution_count": 16,
   "outputs": [
    {
     "data": {
      "text/plain": "100"
     },
     "execution_count": 16,
     "metadata": {},
     "output_type": "execute_result"
    }
   ],
   "source": [
    "pd.options.display.max_info_columns"
   ],
   "metadata": {
    "collapsed": false,
    "ExecuteTime": {
     "end_time": "2023-11-13T10:05:53.757573100Z",
     "start_time": "2023-11-13T10:05:53.645604600Z"
    }
   }
  },
  {
   "cell_type": "code",
   "execution_count": 17,
   "outputs": [
    {
     "name": "stdout",
     "output_type": "stream",
     "text": [
      "<class 'pandas.core.frame.DataFrame'>\n",
      "RangeIndex: 49399 entries, 0 to 49398\n",
      "Data columns (total 111 columns):\n",
      " #    Column                               Dtype  \n",
      "---   ------                               -----  \n",
      " 0    ticker                               object \n",
      " 1    isin                                 object \n",
      " 2    fund_name                            object \n",
      " 3    morningstar_category                 object \n",
      " 4    morningstar_rating                   float64\n",
      " 5    morningstar_analyst_rating           object \n",
      " 6    morningstar_risk_rating              float64\n",
      " 7    morningstar_performance_rating       float64\n",
      " 8    nav_per_share_currency               object \n",
      " 9    nav_per_share                        float64\n",
      " 10   class_size_currency                  object \n",
      " 11   class_size                           int64  \n",
      " 12   fund_size_currency                   object \n",
      " 13   fund_size                            int64  \n",
      " 14   fund_return_ytd                      float64\n",
      " 15   fund_return_2018                     float64\n",
      " 16   fund_return_2017                     float64\n",
      " 17   fund_return_2016                     float64\n",
      " 18   fund_return_2015                     float64\n",
      " 19   fund_return_2014                     float64\n",
      " 20   fund_return_2013                     float64\n",
      " 21   fund_return_2012                     float64\n",
      " 22   fund_return_2011                     float64\n",
      " 23   fund_return_2010                     float64\n",
      " 24   investment_strategy                  object \n",
      " 25   trailing_return_3years               float64\n",
      " 26   trailing_return_5years               float64\n",
      " 27   trailing_return_10years              float64\n",
      " 28   trailing_return_since_inception      float64\n",
      " 29   dividend_frequency                   object \n",
      " 30   fund_benchmark                       object \n",
      " 31   morningstar_benchmark                object \n",
      " 32   equity_style                         object \n",
      " 33   equity_style_score                   float64\n",
      " 34   equity_size                          object \n",
      " 35   equity_size_score                    float64\n",
      " 36   price_prospective_earnings           float64\n",
      " 37   price_book                           float64\n",
      " 38   price_sales                          float64\n",
      " 39   price_cash_flow                      float64\n",
      " 40   dividend_yield_factor                float64\n",
      " 41   long_term_projected_earnings_growth  float64\n",
      " 42   historical_earnings_growth           float64\n",
      " 43   sales_growth                         float64\n",
      " 44   cash_flow_growth                     float64\n",
      " 45   book_value_growth                    float64\n",
      " 46   roa                                  float64\n",
      " 47   roe                                  float64\n",
      " 48   roic                                 float64\n",
      " 49   bond_interest_rate_sensitivity       object \n",
      " 50   bond_credit_quality                  object \n",
      " 51   average_coupon_rate                  float64\n",
      " 52   average_credit_quality               float64\n",
      " 53   modified_duration                    float64\n",
      " 54   effective_maturity                   float64\n",
      " 55   asset_stock                          float64\n",
      " 56   asset_bond                           float64\n",
      " 57   asset_cash                           float64\n",
      " 58   asset_other                          float64\n",
      " 59   country_exposure                     object \n",
      " 60   top5_regions                         object \n",
      " 61   sector_basic_materials               float64\n",
      " 62   sector_consumer_cyclical             float64\n",
      " 63   sector_financial_services            float64\n",
      " 64   sector_real_estate                   float64\n",
      " 65   sector_consumer_defensive            float64\n",
      " 66   sector_healthcare                    float64\n",
      " 67   sector_utilities                     float64\n",
      " 68   sector_communication_services        float64\n",
      " 69   sector_energy                        float64\n",
      " 70   sector_industrials                   float64\n",
      " 71   sector_technology                    float64\n",
      " 72   market_capitalization_giant          float64\n",
      " 73   market_capitalization_large          float64\n",
      " 74   market_capitalization_medium         float64\n",
      " 75   market_capitalization_small          float64\n",
      " 76   market_capitalization_micro          float64\n",
      " 77   credit_quality_aaa                   float64\n",
      " 78   credit_quality_aa                    float64\n",
      " 79   credit_quality_a                     float64\n",
      " 80   credit_quality_bbb                   float64\n",
      " 81   credit_quality_bb                    float64\n",
      " 82   credit_quality_b                     float64\n",
      " 83   credit_quality_below_b               float64\n",
      " 84   credit_quality_not_rated             float64\n",
      " 85   holdings_number_stock                float64\n",
      " 86   holdings_number_bonds                float64\n",
      " 87   top5_holdings                        object \n",
      " 88   ongoing_cost                         float64\n",
      " 89   management_fees                      float64\n",
      " 90   sustainability_rank                  float64\n",
      " 91   esg_score                            float64\n",
      " 92   environmental_score                  float64\n",
      " 93   social_score                         float64\n",
      " 94   governance_score                     float64\n",
      " 95   controversy_score                    float64\n",
      " 96   sustainability_score                 float64\n",
      " 97   sustainability_percentage_rank       float64\n",
      " 98   involvement_abortive_contraceptive   float64\n",
      " 99   involvement_alcohol                  float64\n",
      " 100  involvement_animal_testing           float64\n",
      " 101  involvement_controversial_weapons    float64\n",
      " 102  involvement_gambling                 float64\n",
      " 103  involvement_gmo                      float64\n",
      " 104  involvement_military_contracting     float64\n",
      " 105  involvement_nuclear                  float64\n",
      " 106  involvement_palm_oil                 float64\n",
      " 107  involvement_pesticides               float64\n",
      " 108  involvement_small_arms               float64\n",
      " 109  involvement_thermal_coal             float64\n",
      " 110  involvement_tobacco                  float64\n",
      "dtypes: float64(90), int64(2), object(19)\n",
      "memory usage: 41.8+ MB\n"
     ]
    }
   ],
   "source": [
    "df.info(verbose=True)"
   ],
   "metadata": {
    "collapsed": false,
    "ExecuteTime": {
     "end_time": "2023-11-13T10:06:28.071761300Z",
     "start_time": "2023-11-13T10:06:27.974794600Z"
    }
   }
  },
  {
   "cell_type": "code",
   "execution_count": 18,
   "outputs": [
    {
     "name": "stdout",
     "output_type": "stream",
     "text": [
      "<class 'pandas.core.frame.DataFrame'>\n",
      "RangeIndex: 49399 entries, 0 to 49398\n",
      "Data columns (total 111 columns):\n",
      " #    Column                               Non-Null Count  Dtype  \n",
      "---   ------                               --------------  -----  \n",
      " 0    ticker                               49399 non-null  object \n",
      " 1    isin                                 49399 non-null  object \n",
      " 2    fund_name                            49399 non-null  object \n",
      " 3    morningstar_category                 49399 non-null  object \n",
      " 4    morningstar_rating                   29076 non-null  float64\n",
      " 5    morningstar_analyst_rating           6899 non-null   object \n",
      " 6    morningstar_risk_rating              29076 non-null  float64\n",
      " 7    morningstar_performance_rating       29076 non-null  float64\n",
      " 8    nav_per_share_currency               49399 non-null  object \n",
      " 9    nav_per_share                        49399 non-null  float64\n",
      " 10   class_size_currency                  49399 non-null  object \n",
      " 11   class_size                           49399 non-null  int64  \n",
      " 12   fund_size_currency                   49399 non-null  object \n",
      " 13   fund_size                            49399 non-null  int64  \n",
      " 14   fund_return_ytd                      49389 non-null  float64\n",
      " 15   fund_return_2018                     41580 non-null  float64\n",
      " 16   fund_return_2017                     37970 non-null  float64\n",
      " 17   fund_return_2016                     34463 non-null  float64\n",
      " 18   fund_return_2015                     30890 non-null  float64\n",
      " 19   fund_return_2014                     26811 non-null  float64\n",
      " 20   fund_return_2013                     22940 non-null  float64\n",
      " 21   fund_return_2012                     19551 non-null  float64\n",
      " 22   fund_return_2011                     17048 non-null  float64\n",
      " 23   fund_return_2010                     14512 non-null  float64\n",
      " 24   investment_strategy                  48420 non-null  object \n",
      " 25   trailing_return_3years               37183 non-null  float64\n",
      " 26   trailing_return_5years               29815 non-null  float64\n",
      " 27   trailing_return_10years              92 non-null     float64\n",
      " 28   trailing_return_since_inception      46709 non-null  float64\n",
      " 29   dividend_frequency                   22567 non-null  object \n",
      " 30   fund_benchmark                       40471 non-null  object \n",
      " 31   morningstar_benchmark                36236 non-null  object \n",
      " 32   equity_style                         32399 non-null  object \n",
      " 33   equity_style_score                   32399 non-null  float64\n",
      " 34   equity_size                          32399 non-null  object \n",
      " 35   equity_size_score                    32399 non-null  float64\n",
      " 36   price_prospective_earnings           32147 non-null  float64\n",
      " 37   price_book                           32226 non-null  float64\n",
      " 38   price_sales                          32387 non-null  float64\n",
      " 39   price_cash_flow                      32161 non-null  float64\n",
      " 40   dividend_yield_factor                32399 non-null  float64\n",
      " 41   long_term_projected_earnings_growth  31654 non-null  float64\n",
      " 42   historical_earnings_growth           32075 non-null  float64\n",
      " 43   sales_growth                         32204 non-null  float64\n",
      " 44   cash_flow_growth                     31608 non-null  float64\n",
      " 45   book_value_growth                    32045 non-null  float64\n",
      " 46   roa                                  32403 non-null  float64\n",
      " 47   roe                                  32158 non-null  float64\n",
      " 48   roic                                 29960 non-null  float64\n",
      " 49   bond_interest_rate_sensitivity       10669 non-null  object \n",
      " 50   bond_credit_quality                  10669 non-null  object \n",
      " 51   average_coupon_rate                  24607 non-null  float64\n",
      " 52   average_credit_quality               12168 non-null  float64\n",
      " 53   modified_duration                    7152 non-null   float64\n",
      " 54   effective_maturity                   8714 non-null   float64\n",
      " 55   asset_stock                          49399 non-null  float64\n",
      " 56   asset_bond                           49399 non-null  float64\n",
      " 57   asset_cash                           49399 non-null  float64\n",
      " 58   asset_other                          49399 non-null  float64\n",
      " 59   country_exposure                     47293 non-null  object \n",
      " 60   top5_regions                         48590 non-null  object \n",
      " 61   sector_basic_materials               27960 non-null  float64\n",
      " 62   sector_consumer_cyclical             30143 non-null  float64\n",
      " 63   sector_financial_services            29141 non-null  float64\n",
      " 64   sector_real_estate                   23608 non-null  float64\n",
      " 65   sector_consumer_defensive            27968 non-null  float64\n",
      " 66   sector_healthcare                    27644 non-null  float64\n",
      " 67   sector_utilities                     21893 non-null  float64\n",
      " 68   sector_communication_services        23699 non-null  float64\n",
      " 69   sector_energy                        25247 non-null  float64\n",
      " 70   sector_industrials                   29650 non-null  float64\n",
      " 71   sector_technology                    29051 non-null  float64\n",
      " 72   market_capitalization_giant          14941 non-null  float64\n",
      " 73   market_capitalization_large          14941 non-null  float64\n",
      " 74   market_capitalization_medium         14941 non-null  float64\n",
      " 75   market_capitalization_small          14941 non-null  float64\n",
      " 76   market_capitalization_micro          14941 non-null  float64\n",
      " 77   credit_quality_aaa                   3587 non-null   float64\n",
      " 78   credit_quality_aa                    3587 non-null   float64\n",
      " 79   credit_quality_a                     3587 non-null   float64\n",
      " 80   credit_quality_bbb                   3587 non-null   float64\n",
      " 81   credit_quality_bb                    3587 non-null   float64\n",
      " 82   credit_quality_b                     3587 non-null   float64\n",
      " 83   credit_quality_below_b               3587 non-null   float64\n",
      " 84   credit_quality_not_rated             3587 non-null   float64\n",
      " 85   holdings_number_stock                31851 non-null  float64\n",
      " 86   holdings_number_bonds                24424 non-null  float64\n",
      " 87   top5_holdings                        49365 non-null  object \n",
      " 88   ongoing_cost                         45362 non-null  float64\n",
      " 89   management_fees                      45017 non-null  float64\n",
      " 90   sustainability_rank                  29630 non-null  float64\n",
      " 91   esg_score                            30215 non-null  float64\n",
      " 92   environmental_score                  30215 non-null  float64\n",
      " 93   social_score                         30215 non-null  float64\n",
      " 94   governance_score                     30215 non-null  float64\n",
      " 95   controversy_score                    30757 non-null  float64\n",
      " 96   sustainability_score                 30215 non-null  float64\n",
      " 97   sustainability_percentage_rank       31922 non-null  float64\n",
      " 98   involvement_abortive_contraceptive   45068 non-null  float64\n",
      " 99   involvement_alcohol                  45068 non-null  float64\n",
      " 100  involvement_animal_testing           45068 non-null  float64\n",
      " 101  involvement_controversial_weapons    45068 non-null  float64\n",
      " 102  involvement_gambling                 45068 non-null  float64\n",
      " 103  involvement_gmo                      45068 non-null  float64\n",
      " 104  involvement_military_contracting     45068 non-null  float64\n",
      " 105  involvement_nuclear                  45068 non-null  float64\n",
      " 106  involvement_palm_oil                 45068 non-null  float64\n",
      " 107  involvement_pesticides               45068 non-null  float64\n",
      " 108  involvement_small_arms               45068 non-null  float64\n",
      " 109  involvement_thermal_coal             45068 non-null  float64\n",
      " 110  involvement_tobacco                  45068 non-null  float64\n",
      "dtypes: float64(90), int64(2), object(19)\n",
      "memory usage: 41.8+ MB\n"
     ]
    },
    {
     "name": "stderr",
     "output_type": "stream",
     "text": [
      "C:\\Users\\feichtinge_a\\AppData\\Local\\Temp\\ipykernel_75772\\2612161665.py:1: FutureWarning: null_counts is deprecated. Use show_counts instead\n",
      "  df.info(verbose=True, null_counts=True)\n"
     ]
    }
   ],
   "source": [
    "df.info(verbose=True, null_counts=True)"
   ],
   "metadata": {
    "collapsed": false,
    "ExecuteTime": {
     "end_time": "2023-11-13T10:07:15.571651200Z",
     "start_time": "2023-11-13T10:07:15.450611900Z"
    }
   }
  },
  {
   "cell_type": "code",
   "execution_count": null,
   "outputs": [],
   "source": [
    "stats = df.describe(verbose=True)"
   ],
   "metadata": {
    "collapsed": false
   }
  },
  {
   "cell_type": "code",
   "execution_count": null,
   "outputs": [],
   "source": [
    "df.info(verbose=True, null_counts=True)"
   ],
   "metadata": {
    "collapsed": false
   }
  },
  {
   "cell_type": "code",
   "execution_count": null,
   "outputs": [],
   "source": [
    "stats = df.describe(verbose=True)"
   ],
   "metadata": {
    "collapsed": false
   }
  },
  {
   "cell_type": "code",
   "execution_count": null,
   "outputs": [],
   "source": [
    "df.info(verbose=True, null_counts=True)"
   ],
   "metadata": {
    "collapsed": false
   }
  },
  {
   "cell_type": "code",
   "execution_count": null,
   "outputs": [],
   "source": [
    "stats = df.describe(verbose=True)"
   ],
   "metadata": {
    "collapsed": false
   }
  },
  {
   "cell_type": "code",
   "execution_count": null,
   "outputs": [],
   "source": [
    "df.info(verbose=True, null_counts=True)"
   ],
   "metadata": {
    "collapsed": false
   }
  },
  {
   "cell_type": "code",
   "execution_count": null,
   "outputs": [],
   "source": [
    "stats = df.describe(verbose=True)"
   ],
   "metadata": {
    "collapsed": false
   }
  },
  {
   "cell_type": "code",
   "execution_count": null,
   "outputs": [],
   "source": [
    "df.info(verbose=True, null_counts=True)"
   ],
   "metadata": {
    "collapsed": false
   }
  },
  {
   "cell_type": "code",
   "execution_count": null,
   "outputs": [],
   "source": [
    "stats = df.describe(verbose=True)"
   ],
   "metadata": {
    "collapsed": false
   }
  },
  {
   "cell_type": "code",
   "execution_count": null,
   "outputs": [],
   "source": [
    "df.info(verbose=True, null_counts=True)"
   ],
   "metadata": {
    "collapsed": false
   }
  },
  {
   "cell_type": "code",
   "execution_count": null,
   "outputs": [],
   "source": [
    "stats = df.describe(verbose=True)"
   ],
   "metadata": {
    "collapsed": false
   }
  },
  {
   "cell_type": "code",
   "execution_count": null,
   "outputs": [],
   "source": [
    "df.info(verbose=True, null_counts=True)"
   ],
   "metadata": {
    "collapsed": false
   }
  },
  {
   "cell_type": "code",
   "execution_count": null,
   "outputs": [],
   "source": [
    "stats = df.describe(verbose=True)"
   ],
   "metadata": {
    "collapsed": false
   }
  },
  {
   "cell_type": "code",
   "execution_count": null,
   "outputs": [],
   "source": [
    "df.info(verbose=True, null_counts=True)"
   ],
   "metadata": {
    "collapsed": false
   }
  },
  {
   "cell_type": "code",
   "execution_count": null,
   "outputs": [],
   "source": [
    "stats = df.describe(verbose=True)"
   ],
   "metadata": {
    "collapsed": false
   }
  },
  {
   "cell_type": "code",
   "execution_count": null,
   "outputs": [],
   "source": [
    "df.info(verbose=True, null_counts=True)"
   ],
   "metadata": {
    "collapsed": false
   }
  },
  {
   "cell_type": "code",
   "execution_count": 19,
   "outputs": [
    {
     "data": {
      "text/plain": "       morningstar_rating  morningstar_risk_rating  \\\ncount        29076.000000             29076.000000   \nmean             3.242262                 3.032501   \nstd              1.061181                 1.071964   \nmin              1.000000                 1.000000   \n25%              3.000000                 2.000000   \n50%              3.000000                 3.000000   \n75%              4.000000                 4.000000   \nmax              5.000000                 5.000000   \n\n       morningstar_performance_rating  nav_per_share    class_size  \\\ncount                    29076.000000   4.939900e+04  4.939900e+04   \nmean                         3.240164   7.661971e+03  1.463266e+08   \nstd                          1.063487   2.000447e+05  1.461131e+09   \nmin                          1.000000   1.900000e-01  0.000000e+00   \n25%                          3.000000   1.135000e+01  7.100000e+05   \n50%                          3.000000   7.595000e+01  7.360000e+06   \n75%                          4.000000   1.318050e+02  4.597000e+07   \nmax                          5.000000   1.172074e+07  1.029288e+11   \n\n          fund_size  fund_return_ytd  fund_return_2018  fund_return_2017  \\\ncount  4.939900e+04     49389.000000      41580.000000      37970.000000   \nmean   2.530081e+09        10.641131         -4.740028          9.733934   \nstd    1.523205e+10        60.599371          6.921632         10.601492   \nmin    2.000000e+04       -81.500000        -81.780000        -30.780000   \n25%    1.034100e+08         4.870000         -9.200000          2.730000   \n50%    3.663300e+08         9.680000         -4.290000          8.430000   \n75%    1.184770e+09        14.660000         -0.170000         15.210000   \nmax    4.982347e+11     12007.000000         49.980000         72.630000   \n\n       fund_return_2016  ...  involvement_controversial_weapons  \\\ncount      34463.000000  ...                       45068.000000   \nmean          21.700668  ...                           0.632384   \nstd           13.463801  ...                           1.333692   \nmin          -42.390000  ...                           0.000000   \n25%           14.690000  ...                           0.000000   \n50%           21.260000  ...                           0.000000   \n75%           27.670000  ...                           0.690000   \nmax          928.650000  ...                          19.100000   \n\n       involvement_gambling  involvement_gmo  \\\ncount          45068.000000     45068.000000   \nmean               0.489367         0.047422   \nstd                1.024051         0.324684   \nmin                0.000000         0.000000   \n25%                0.000000         0.000000   \n50%                0.000000         0.000000   \n75%                0.510000         0.000000   \nmax               13.280000         9.410000   \n\n       involvement_military_contracting  involvement_nuclear  \\\ncount                      45068.000000         45068.000000   \nmean                           0.976092             1.018608   \nstd                            1.730360             2.059553   \nmin                            0.000000             0.000000   \n25%                            0.000000             0.000000   \n50%                            0.100000             0.110000   \n75%                            1.310000             1.290000   \nmax                           32.040000            31.630000   \n\n       involvement_palm_oil  involvement_pesticides  involvement_small_arms  \\\ncount          45068.000000            45068.000000            45068.000000   \nmean               0.072934                0.363763                0.102977   \nstd                0.370874                0.993295                0.407630   \nmin                0.000000                0.000000                0.000000   \n25%                0.000000                0.000000                0.000000   \n50%                0.000000                0.000000                0.000000   \n75%                0.000000                0.300000                0.000000   \nmax               10.870000               16.900000                7.230000   \n\n       involvement_thermal_coal  involvement_tobacco  \ncount              45068.000000         45068.000000  \nmean                   3.063404             0.745578  \nstd                    3.531592             1.478576  \nmin                    0.000000             0.000000  \n25%                    0.370000             0.000000  \n50%                    2.200000             0.000000  \n75%                    4.400000             0.870000  \nmax                   40.620000            17.360000  \n\n[8 rows x 92 columns]",
      "text/html": "<div>\n<style scoped>\n    .dataframe tbody tr th:only-of-type {\n        vertical-align: middle;\n    }\n\n    .dataframe tbody tr th {\n        vertical-align: top;\n    }\n\n    .dataframe thead th {\n        text-align: right;\n    }\n</style>\n<table border=\"1\" class=\"dataframe\">\n  <thead>\n    <tr style=\"text-align: right;\">\n      <th></th>\n      <th>morningstar_rating</th>\n      <th>morningstar_risk_rating</th>\n      <th>morningstar_performance_rating</th>\n      <th>nav_per_share</th>\n      <th>class_size</th>\n      <th>fund_size</th>\n      <th>fund_return_ytd</th>\n      <th>fund_return_2018</th>\n      <th>fund_return_2017</th>\n      <th>fund_return_2016</th>\n      <th>...</th>\n      <th>involvement_controversial_weapons</th>\n      <th>involvement_gambling</th>\n      <th>involvement_gmo</th>\n      <th>involvement_military_contracting</th>\n      <th>involvement_nuclear</th>\n      <th>involvement_palm_oil</th>\n      <th>involvement_pesticides</th>\n      <th>involvement_small_arms</th>\n      <th>involvement_thermal_coal</th>\n      <th>involvement_tobacco</th>\n    </tr>\n  </thead>\n  <tbody>\n    <tr>\n      <th>count</th>\n      <td>29076.000000</td>\n      <td>29076.000000</td>\n      <td>29076.000000</td>\n      <td>4.939900e+04</td>\n      <td>4.939900e+04</td>\n      <td>4.939900e+04</td>\n      <td>49389.000000</td>\n      <td>41580.000000</td>\n      <td>37970.000000</td>\n      <td>34463.000000</td>\n      <td>...</td>\n      <td>45068.000000</td>\n      <td>45068.000000</td>\n      <td>45068.000000</td>\n      <td>45068.000000</td>\n      <td>45068.000000</td>\n      <td>45068.000000</td>\n      <td>45068.000000</td>\n      <td>45068.000000</td>\n      <td>45068.000000</td>\n      <td>45068.000000</td>\n    </tr>\n    <tr>\n      <th>mean</th>\n      <td>3.242262</td>\n      <td>3.032501</td>\n      <td>3.240164</td>\n      <td>7.661971e+03</td>\n      <td>1.463266e+08</td>\n      <td>2.530081e+09</td>\n      <td>10.641131</td>\n      <td>-4.740028</td>\n      <td>9.733934</td>\n      <td>21.700668</td>\n      <td>...</td>\n      <td>0.632384</td>\n      <td>0.489367</td>\n      <td>0.047422</td>\n      <td>0.976092</td>\n      <td>1.018608</td>\n      <td>0.072934</td>\n      <td>0.363763</td>\n      <td>0.102977</td>\n      <td>3.063404</td>\n      <td>0.745578</td>\n    </tr>\n    <tr>\n      <th>std</th>\n      <td>1.061181</td>\n      <td>1.071964</td>\n      <td>1.063487</td>\n      <td>2.000447e+05</td>\n      <td>1.461131e+09</td>\n      <td>1.523205e+10</td>\n      <td>60.599371</td>\n      <td>6.921632</td>\n      <td>10.601492</td>\n      <td>13.463801</td>\n      <td>...</td>\n      <td>1.333692</td>\n      <td>1.024051</td>\n      <td>0.324684</td>\n      <td>1.730360</td>\n      <td>2.059553</td>\n      <td>0.370874</td>\n      <td>0.993295</td>\n      <td>0.407630</td>\n      <td>3.531592</td>\n      <td>1.478576</td>\n    </tr>\n    <tr>\n      <th>min</th>\n      <td>1.000000</td>\n      <td>1.000000</td>\n      <td>1.000000</td>\n      <td>1.900000e-01</td>\n      <td>0.000000e+00</td>\n      <td>2.000000e+04</td>\n      <td>-81.500000</td>\n      <td>-81.780000</td>\n      <td>-30.780000</td>\n      <td>-42.390000</td>\n      <td>...</td>\n      <td>0.000000</td>\n      <td>0.000000</td>\n      <td>0.000000</td>\n      <td>0.000000</td>\n      <td>0.000000</td>\n      <td>0.000000</td>\n      <td>0.000000</td>\n      <td>0.000000</td>\n      <td>0.000000</td>\n      <td>0.000000</td>\n    </tr>\n    <tr>\n      <th>25%</th>\n      <td>3.000000</td>\n      <td>2.000000</td>\n      <td>3.000000</td>\n      <td>1.135000e+01</td>\n      <td>7.100000e+05</td>\n      <td>1.034100e+08</td>\n      <td>4.870000</td>\n      <td>-9.200000</td>\n      <td>2.730000</td>\n      <td>14.690000</td>\n      <td>...</td>\n      <td>0.000000</td>\n      <td>0.000000</td>\n      <td>0.000000</td>\n      <td>0.000000</td>\n      <td>0.000000</td>\n      <td>0.000000</td>\n      <td>0.000000</td>\n      <td>0.000000</td>\n      <td>0.370000</td>\n      <td>0.000000</td>\n    </tr>\n    <tr>\n      <th>50%</th>\n      <td>3.000000</td>\n      <td>3.000000</td>\n      <td>3.000000</td>\n      <td>7.595000e+01</td>\n      <td>7.360000e+06</td>\n      <td>3.663300e+08</td>\n      <td>9.680000</td>\n      <td>-4.290000</td>\n      <td>8.430000</td>\n      <td>21.260000</td>\n      <td>...</td>\n      <td>0.000000</td>\n      <td>0.000000</td>\n      <td>0.000000</td>\n      <td>0.100000</td>\n      <td>0.110000</td>\n      <td>0.000000</td>\n      <td>0.000000</td>\n      <td>0.000000</td>\n      <td>2.200000</td>\n      <td>0.000000</td>\n    </tr>\n    <tr>\n      <th>75%</th>\n      <td>4.000000</td>\n      <td>4.000000</td>\n      <td>4.000000</td>\n      <td>1.318050e+02</td>\n      <td>4.597000e+07</td>\n      <td>1.184770e+09</td>\n      <td>14.660000</td>\n      <td>-0.170000</td>\n      <td>15.210000</td>\n      <td>27.670000</td>\n      <td>...</td>\n      <td>0.690000</td>\n      <td>0.510000</td>\n      <td>0.000000</td>\n      <td>1.310000</td>\n      <td>1.290000</td>\n      <td>0.000000</td>\n      <td>0.300000</td>\n      <td>0.000000</td>\n      <td>4.400000</td>\n      <td>0.870000</td>\n    </tr>\n    <tr>\n      <th>max</th>\n      <td>5.000000</td>\n      <td>5.000000</td>\n      <td>5.000000</td>\n      <td>1.172074e+07</td>\n      <td>1.029288e+11</td>\n      <td>4.982347e+11</td>\n      <td>12007.000000</td>\n      <td>49.980000</td>\n      <td>72.630000</td>\n      <td>928.650000</td>\n      <td>...</td>\n      <td>19.100000</td>\n      <td>13.280000</td>\n      <td>9.410000</td>\n      <td>32.040000</td>\n      <td>31.630000</td>\n      <td>10.870000</td>\n      <td>16.900000</td>\n      <td>7.230000</td>\n      <td>40.620000</td>\n      <td>17.360000</td>\n    </tr>\n  </tbody>\n</table>\n<p>8 rows × 92 columns</p>\n</div>"
     },
     "execution_count": 19,
     "metadata": {},
     "output_type": "execute_result"
    }
   ],
   "source": [
    "stats = df.describe()\n",
    "stats\n"
   ],
   "metadata": {
    "collapsed": false,
    "ExecuteTime": {
     "end_time": "2023-11-13T10:09:07.664482700Z",
     "start_time": "2023-11-13T10:09:07.505482200Z"
    }
   }
  },
  {
   "cell_type": "code",
   "execution_count": 28,
   "outputs": [],
   "source": [
    "stats = df.describe(include='all')"
   ],
   "metadata": {
    "collapsed": false,
    "ExecuteTime": {
     "end_time": "2023-11-13T10:12:55.968064300Z",
     "start_time": "2023-11-13T10:12:55.634041800Z"
    }
   }
  },
  {
   "cell_type": "code",
   "execution_count": 29,
   "outputs": [
    {
     "data": {
      "text/plain": "            ticker          isin                           fund_name  \\\ncount        49399         49399                               49399   \nunique       49399         46661                               45932   \ntop     0P00000AWF  LU0518436570  Macquarie Valueinvest LUX Global B   \nfreq             1             8                                   8   \nmean           NaN           NaN                                 NaN   \nstd            NaN           NaN                                 NaN   \nmin            NaN           NaN                                 NaN   \n25%            NaN           NaN                                 NaN   \n50%            NaN           NaN                                 NaN   \n75%            NaN           NaN                                 NaN   \nmax            NaN           NaN                                 NaN   \n\n       morningstar_category  morningstar_rating morningstar_analyst_rating  \\\ncount                 49399        29076.000000                       6899   \nunique                  261                 NaN                          6   \ntop              Other Bond                 NaN                     Bronze   \nfreq                   3418                 NaN                       2778   \nmean                    NaN            3.242262                        NaN   \nstd                     NaN            1.061181                        NaN   \nmin                     NaN            1.000000                        NaN   \n25%                     NaN            3.000000                        NaN   \n50%                     NaN            3.000000                        NaN   \n75%                     NaN            4.000000                        NaN   \nmax                     NaN            5.000000                        NaN   \n\n        morningstar_risk_rating  morningstar_performance_rating  \\\ncount              29076.000000                    29076.000000   \nunique                      NaN                             NaN   \ntop                         NaN                             NaN   \nfreq                        NaN                             NaN   \nmean                   3.032501                        3.240164   \nstd                    1.071964                        1.063487   \nmin                    1.000000                        1.000000   \n25%                    2.000000                        3.000000   \n50%                    3.000000                        3.000000   \n75%                    4.000000                        4.000000   \nmax                    5.000000                        5.000000   \n\n       nav_per_share_currency  nav_per_share  ...  \\\ncount                   49399   4.939900e+04  ...   \nunique                     23            NaN  ...   \ntop                       EUR            NaN  ...   \nfreq                    14497            NaN  ...   \nmean                      NaN   7.661971e+03  ...   \nstd                       NaN   2.000447e+05  ...   \nmin                       NaN   1.900000e-01  ...   \n25%                       NaN   1.135000e+01  ...   \n50%                       NaN   7.595000e+01  ...   \n75%                       NaN   1.318050e+02  ...   \nmax                       NaN   1.172074e+07  ...   \n\n       involvement_controversial_weapons  involvement_gambling  \\\ncount                       45068.000000          45068.000000   \nunique                               NaN                   NaN   \ntop                                  NaN                   NaN   \nfreq                                 NaN                   NaN   \nmean                            0.632384              0.489367   \nstd                             1.333692              1.024051   \nmin                             0.000000              0.000000   \n25%                             0.000000              0.000000   \n50%                             0.000000              0.000000   \n75%                             0.690000              0.510000   \nmax                            19.100000             13.280000   \n\n       involvement_gmo  involvement_military_contracting  involvement_nuclear  \\\ncount     45068.000000                      45068.000000         45068.000000   \nunique             NaN                               NaN                  NaN   \ntop                NaN                               NaN                  NaN   \nfreq               NaN                               NaN                  NaN   \nmean          0.047422                          0.976092             1.018608   \nstd           0.324684                          1.730360             2.059553   \nmin           0.000000                          0.000000             0.000000   \n25%           0.000000                          0.000000             0.000000   \n50%           0.000000                          0.100000             0.110000   \n75%           0.000000                          1.310000             1.290000   \nmax           9.410000                         32.040000            31.630000   \n\n        involvement_palm_oil  involvement_pesticides  involvement_small_arms  \\\ncount           45068.000000            45068.000000            45068.000000   \nunique                   NaN                     NaN                     NaN   \ntop                      NaN                     NaN                     NaN   \nfreq                     NaN                     NaN                     NaN   \nmean                0.072934                0.363763                0.102977   \nstd                 0.370874                0.993295                0.407630   \nmin                 0.000000                0.000000                0.000000   \n25%                 0.000000                0.000000                0.000000   \n50%                 0.000000                0.000000                0.000000   \n75%                 0.000000                0.300000                0.000000   \nmax                10.870000               16.900000                7.230000   \n\n        involvement_thermal_coal  involvement_tobacco  \ncount               45068.000000         45068.000000  \nunique                       NaN                  NaN  \ntop                          NaN                  NaN  \nfreq                         NaN                  NaN  \nmean                    3.063404             0.745578  \nstd                     3.531592             1.478576  \nmin                     0.000000             0.000000  \n25%                     0.370000             0.000000  \n50%                     2.200000             0.000000  \n75%                     4.400000             0.870000  \nmax                    40.620000            17.360000  \n\n[11 rows x 111 columns]",
      "text/html": "<div>\n<style scoped>\n    .dataframe tbody tr th:only-of-type {\n        vertical-align: middle;\n    }\n\n    .dataframe tbody tr th {\n        vertical-align: top;\n    }\n\n    .dataframe thead th {\n        text-align: right;\n    }\n</style>\n<table border=\"1\" class=\"dataframe\">\n  <thead>\n    <tr style=\"text-align: right;\">\n      <th></th>\n      <th>ticker</th>\n      <th>isin</th>\n      <th>fund_name</th>\n      <th>morningstar_category</th>\n      <th>morningstar_rating</th>\n      <th>morningstar_analyst_rating</th>\n      <th>morningstar_risk_rating</th>\n      <th>morningstar_performance_rating</th>\n      <th>nav_per_share_currency</th>\n      <th>nav_per_share</th>\n      <th>...</th>\n      <th>involvement_controversial_weapons</th>\n      <th>involvement_gambling</th>\n      <th>involvement_gmo</th>\n      <th>involvement_military_contracting</th>\n      <th>involvement_nuclear</th>\n      <th>involvement_palm_oil</th>\n      <th>involvement_pesticides</th>\n      <th>involvement_small_arms</th>\n      <th>involvement_thermal_coal</th>\n      <th>involvement_tobacco</th>\n    </tr>\n  </thead>\n  <tbody>\n    <tr>\n      <th>count</th>\n      <td>49399</td>\n      <td>49399</td>\n      <td>49399</td>\n      <td>49399</td>\n      <td>29076.000000</td>\n      <td>6899</td>\n      <td>29076.000000</td>\n      <td>29076.000000</td>\n      <td>49399</td>\n      <td>4.939900e+04</td>\n      <td>...</td>\n      <td>45068.000000</td>\n      <td>45068.000000</td>\n      <td>45068.000000</td>\n      <td>45068.000000</td>\n      <td>45068.000000</td>\n      <td>45068.000000</td>\n      <td>45068.000000</td>\n      <td>45068.000000</td>\n      <td>45068.000000</td>\n      <td>45068.000000</td>\n    </tr>\n    <tr>\n      <th>unique</th>\n      <td>49399</td>\n      <td>46661</td>\n      <td>45932</td>\n      <td>261</td>\n      <td>NaN</td>\n      <td>6</td>\n      <td>NaN</td>\n      <td>NaN</td>\n      <td>23</td>\n      <td>NaN</td>\n      <td>...</td>\n      <td>NaN</td>\n      <td>NaN</td>\n      <td>NaN</td>\n      <td>NaN</td>\n      <td>NaN</td>\n      <td>NaN</td>\n      <td>NaN</td>\n      <td>NaN</td>\n      <td>NaN</td>\n      <td>NaN</td>\n    </tr>\n    <tr>\n      <th>top</th>\n      <td>0P00000AWF</td>\n      <td>LU0518436570</td>\n      <td>Macquarie Valueinvest LUX Global B</td>\n      <td>Other Bond</td>\n      <td>NaN</td>\n      <td>Bronze</td>\n      <td>NaN</td>\n      <td>NaN</td>\n      <td>EUR</td>\n      <td>NaN</td>\n      <td>...</td>\n      <td>NaN</td>\n      <td>NaN</td>\n      <td>NaN</td>\n      <td>NaN</td>\n      <td>NaN</td>\n      <td>NaN</td>\n      <td>NaN</td>\n      <td>NaN</td>\n      <td>NaN</td>\n      <td>NaN</td>\n    </tr>\n    <tr>\n      <th>freq</th>\n      <td>1</td>\n      <td>8</td>\n      <td>8</td>\n      <td>3418</td>\n      <td>NaN</td>\n      <td>2778</td>\n      <td>NaN</td>\n      <td>NaN</td>\n      <td>14497</td>\n      <td>NaN</td>\n      <td>...</td>\n      <td>NaN</td>\n      <td>NaN</td>\n      <td>NaN</td>\n      <td>NaN</td>\n      <td>NaN</td>\n      <td>NaN</td>\n      <td>NaN</td>\n      <td>NaN</td>\n      <td>NaN</td>\n      <td>NaN</td>\n    </tr>\n    <tr>\n      <th>mean</th>\n      <td>NaN</td>\n      <td>NaN</td>\n      <td>NaN</td>\n      <td>NaN</td>\n      <td>3.242262</td>\n      <td>NaN</td>\n      <td>3.032501</td>\n      <td>3.240164</td>\n      <td>NaN</td>\n      <td>7.661971e+03</td>\n      <td>...</td>\n      <td>0.632384</td>\n      <td>0.489367</td>\n      <td>0.047422</td>\n      <td>0.976092</td>\n      <td>1.018608</td>\n      <td>0.072934</td>\n      <td>0.363763</td>\n      <td>0.102977</td>\n      <td>3.063404</td>\n      <td>0.745578</td>\n    </tr>\n    <tr>\n      <th>std</th>\n      <td>NaN</td>\n      <td>NaN</td>\n      <td>NaN</td>\n      <td>NaN</td>\n      <td>1.061181</td>\n      <td>NaN</td>\n      <td>1.071964</td>\n      <td>1.063487</td>\n      <td>NaN</td>\n      <td>2.000447e+05</td>\n      <td>...</td>\n      <td>1.333692</td>\n      <td>1.024051</td>\n      <td>0.324684</td>\n      <td>1.730360</td>\n      <td>2.059553</td>\n      <td>0.370874</td>\n      <td>0.993295</td>\n      <td>0.407630</td>\n      <td>3.531592</td>\n      <td>1.478576</td>\n    </tr>\n    <tr>\n      <th>min</th>\n      <td>NaN</td>\n      <td>NaN</td>\n      <td>NaN</td>\n      <td>NaN</td>\n      <td>1.000000</td>\n      <td>NaN</td>\n      <td>1.000000</td>\n      <td>1.000000</td>\n      <td>NaN</td>\n      <td>1.900000e-01</td>\n      <td>...</td>\n      <td>0.000000</td>\n      <td>0.000000</td>\n      <td>0.000000</td>\n      <td>0.000000</td>\n      <td>0.000000</td>\n      <td>0.000000</td>\n      <td>0.000000</td>\n      <td>0.000000</td>\n      <td>0.000000</td>\n      <td>0.000000</td>\n    </tr>\n    <tr>\n      <th>25%</th>\n      <td>NaN</td>\n      <td>NaN</td>\n      <td>NaN</td>\n      <td>NaN</td>\n      <td>3.000000</td>\n      <td>NaN</td>\n      <td>2.000000</td>\n      <td>3.000000</td>\n      <td>NaN</td>\n      <td>1.135000e+01</td>\n      <td>...</td>\n      <td>0.000000</td>\n      <td>0.000000</td>\n      <td>0.000000</td>\n      <td>0.000000</td>\n      <td>0.000000</td>\n      <td>0.000000</td>\n      <td>0.000000</td>\n      <td>0.000000</td>\n      <td>0.370000</td>\n      <td>0.000000</td>\n    </tr>\n    <tr>\n      <th>50%</th>\n      <td>NaN</td>\n      <td>NaN</td>\n      <td>NaN</td>\n      <td>NaN</td>\n      <td>3.000000</td>\n      <td>NaN</td>\n      <td>3.000000</td>\n      <td>3.000000</td>\n      <td>NaN</td>\n      <td>7.595000e+01</td>\n      <td>...</td>\n      <td>0.000000</td>\n      <td>0.000000</td>\n      <td>0.000000</td>\n      <td>0.100000</td>\n      <td>0.110000</td>\n      <td>0.000000</td>\n      <td>0.000000</td>\n      <td>0.000000</td>\n      <td>2.200000</td>\n      <td>0.000000</td>\n    </tr>\n    <tr>\n      <th>75%</th>\n      <td>NaN</td>\n      <td>NaN</td>\n      <td>NaN</td>\n      <td>NaN</td>\n      <td>4.000000</td>\n      <td>NaN</td>\n      <td>4.000000</td>\n      <td>4.000000</td>\n      <td>NaN</td>\n      <td>1.318050e+02</td>\n      <td>...</td>\n      <td>0.690000</td>\n      <td>0.510000</td>\n      <td>0.000000</td>\n      <td>1.310000</td>\n      <td>1.290000</td>\n      <td>0.000000</td>\n      <td>0.300000</td>\n      <td>0.000000</td>\n      <td>4.400000</td>\n      <td>0.870000</td>\n    </tr>\n    <tr>\n      <th>max</th>\n      <td>NaN</td>\n      <td>NaN</td>\n      <td>NaN</td>\n      <td>NaN</td>\n      <td>5.000000</td>\n      <td>NaN</td>\n      <td>5.000000</td>\n      <td>5.000000</td>\n      <td>NaN</td>\n      <td>1.172074e+07</td>\n      <td>...</td>\n      <td>19.100000</td>\n      <td>13.280000</td>\n      <td>9.410000</td>\n      <td>32.040000</td>\n      <td>31.630000</td>\n      <td>10.870000</td>\n      <td>16.900000</td>\n      <td>7.230000</td>\n      <td>40.620000</td>\n      <td>17.360000</td>\n    </tr>\n  </tbody>\n</table>\n<p>11 rows × 111 columns</p>\n</div>"
     },
     "execution_count": 29,
     "metadata": {},
     "output_type": "execute_result"
    }
   ],
   "source": [
    "stats"
   ],
   "metadata": {
    "collapsed": false,
    "ExecuteTime": {
     "end_time": "2023-11-13T10:12:56.274030700Z",
     "start_time": "2023-11-13T10:12:56.119031300Z"
    }
   }
  },
  {
   "cell_type": "code",
   "execution_count": 30,
   "outputs": [
    {
     "data": {
      "text/plain": "count          49399\nunique           261\ntop       Other Bond\nfreq            3418\nmean             NaN\nstd              NaN\nmin              NaN\n25%              NaN\n50%              NaN\n75%              NaN\nmax              NaN\nName: morningstar_category, dtype: object"
     },
     "execution_count": 30,
     "metadata": {},
     "output_type": "execute_result"
    }
   ],
   "source": [
    "stats['morningstar_category']"
   ],
   "metadata": {
    "collapsed": false,
    "ExecuteTime": {
     "end_time": "2023-11-13T10:12:57.439879900Z",
     "start_time": "2023-11-13T10:12:57.312887500Z"
    }
   }
  },
  {
   "cell_type": "code",
   "execution_count": 31,
   "outputs": [
    {
     "data": {
      "text/plain": "count     41580.000000\nunique             NaN\ntop                NaN\nfreq               NaN\nmean         -4.740028\nstd           6.921632\nmin         -81.780000\n25%          -9.200000\n50%          -4.290000\n75%          -0.170000\nmax          49.980000\nName: fund_return_2018, dtype: float64"
     },
     "execution_count": 31,
     "metadata": {},
     "output_type": "execute_result"
    }
   ],
   "source": [
    "stats['fund_return_2018']"
   ],
   "metadata": {
    "collapsed": false,
    "ExecuteTime": {
     "end_time": "2023-11-13T10:12:58.444891900Z",
     "start_time": "2023-11-13T10:12:58.360886Z"
    }
   }
  },
  {
   "cell_type": "code",
   "execution_count": 33,
   "outputs": [
    {
     "data": {
      "text/plain": "                                                    fund_name  \\\nticker                                                          \n0P00000AWF    BlackRock Global Funds - European Value Fund A2   \n0P00000AYI  BlackRock Global Funds - Continental European ...   \n0P00000BOW  Morgan Stanley Investment Funds - Global Bond ...   \n0P00000ESH  Threadneedle (Lux) - American Select Class AU ...   \n0P00000ESL  HSBC Global Investment Funds - Economic Scale ...   \n...                                                       ...   \nFOUSA088S1     Man GLG RI European Equity Leaders Class I EUR   \nFOUSA08ML5                             FMG Rising 3 Ltd A GBP   \nFOUSA0905L                             FMG Iraq Fund A 09 USD   \nFOUSA09F2D        Overstone Emerging Markets Fund Class A USD   \nFOUSA09F2G        Overstone Emerging Markets Fund Class I USD   \n\n                      morningstar_category  fund_return_2018  \nticker                                                        \n0P00000AWF   Europe Large-Cap Value Equity            -18.13  \n0P00000AYI   Europe ex-UK Large-Cap Equity            -14.11  \n0P00000BOW                     Global Bond              3.26  \n0P00000ESH      US Large-Cap Growth Equity             -1.60  \n0P00000ESL          Japan Large-Cap Equity             -6.79  \n...                                    ...               ...  \nFOUSA088S1                    Other Equity            -13.56  \nFOUSA08ML5                     Alt - Other            -18.80  \nFOUSA0905L                    Other Equity             11.58  \nFOUSA09F2D  Global Emerging Markets Equity              0.37  \nFOUSA09F2G  Global Emerging Markets Equity              0.73  \n\n[49399 rows x 3 columns]",
      "text/html": "<div>\n<style scoped>\n    .dataframe tbody tr th:only-of-type {\n        vertical-align: middle;\n    }\n\n    .dataframe tbody tr th {\n        vertical-align: top;\n    }\n\n    .dataframe thead th {\n        text-align: right;\n    }\n</style>\n<table border=\"1\" class=\"dataframe\">\n  <thead>\n    <tr style=\"text-align: right;\">\n      <th></th>\n      <th>fund_name</th>\n      <th>morningstar_category</th>\n      <th>fund_return_2018</th>\n    </tr>\n    <tr>\n      <th>ticker</th>\n      <th></th>\n      <th></th>\n      <th></th>\n    </tr>\n  </thead>\n  <tbody>\n    <tr>\n      <th>0P00000AWF</th>\n      <td>BlackRock Global Funds - European Value Fund A2</td>\n      <td>Europe Large-Cap Value Equity</td>\n      <td>-18.13</td>\n    </tr>\n    <tr>\n      <th>0P00000AYI</th>\n      <td>BlackRock Global Funds - Continental European ...</td>\n      <td>Europe ex-UK Large-Cap Equity</td>\n      <td>-14.11</td>\n    </tr>\n    <tr>\n      <th>0P00000BOW</th>\n      <td>Morgan Stanley Investment Funds - Global Bond ...</td>\n      <td>Global Bond</td>\n      <td>3.26</td>\n    </tr>\n    <tr>\n      <th>0P00000ESH</th>\n      <td>Threadneedle (Lux) - American Select Class AU ...</td>\n      <td>US Large-Cap Growth Equity</td>\n      <td>-1.60</td>\n    </tr>\n    <tr>\n      <th>0P00000ESL</th>\n      <td>HSBC Global Investment Funds - Economic Scale ...</td>\n      <td>Japan Large-Cap Equity</td>\n      <td>-6.79</td>\n    </tr>\n    <tr>\n      <th>...</th>\n      <td>...</td>\n      <td>...</td>\n      <td>...</td>\n    </tr>\n    <tr>\n      <th>FOUSA088S1</th>\n      <td>Man GLG RI European Equity Leaders Class I EUR</td>\n      <td>Other Equity</td>\n      <td>-13.56</td>\n    </tr>\n    <tr>\n      <th>FOUSA08ML5</th>\n      <td>FMG Rising 3 Ltd A GBP</td>\n      <td>Alt - Other</td>\n      <td>-18.80</td>\n    </tr>\n    <tr>\n      <th>FOUSA0905L</th>\n      <td>FMG Iraq Fund A 09 USD</td>\n      <td>Other Equity</td>\n      <td>11.58</td>\n    </tr>\n    <tr>\n      <th>FOUSA09F2D</th>\n      <td>Overstone Emerging Markets Fund Class A USD</td>\n      <td>Global Emerging Markets Equity</td>\n      <td>0.37</td>\n    </tr>\n    <tr>\n      <th>FOUSA09F2G</th>\n      <td>Overstone Emerging Markets Fund Class I USD</td>\n      <td>Global Emerging Markets Equity</td>\n      <td>0.73</td>\n    </tr>\n  </tbody>\n</table>\n<p>49399 rows × 3 columns</p>\n</div>"
     },
     "execution_count": 33,
     "metadata": {},
     "output_type": "execute_result"
    }
   ],
   "source": [
    "data = df.loc[:, ['ticker', 'fund_name', 'morningstar_category', 'fund_return_2018']]\n",
    "data = data.set_index('ticker')\n",
    "data"
   ],
   "metadata": {
    "collapsed": false,
    "ExecuteTime": {
     "end_time": "2023-11-13T10:13:41.968269600Z",
     "start_time": "2023-11-13T10:13:41.867270200Z"
    }
   }
  },
  {
   "cell_type": "code",
   "execution_count": 34,
   "outputs": [
    {
     "data": {
      "text/plain": "                                 fund_name morningstar_category  \\\ncount                                49399                49399   \nunique                               45932                  261   \ntop     Macquarie Valueinvest LUX Global B           Other Bond   \nfreq                                     8                 3418   \nmean                                   NaN                  NaN   \nstd                                    NaN                  NaN   \nmin                                    NaN                  NaN   \n25%                                    NaN                  NaN   \n50%                                    NaN                  NaN   \n75%                                    NaN                  NaN   \nmax                                    NaN                  NaN   \n\n        fund_return_2018  \ncount       41580.000000  \nunique               NaN  \ntop                  NaN  \nfreq                 NaN  \nmean           -4.740028  \nstd             6.921632  \nmin           -81.780000  \n25%            -9.200000  \n50%            -4.290000  \n75%            -0.170000  \nmax            49.980000  ",
      "text/html": "<div>\n<style scoped>\n    .dataframe tbody tr th:only-of-type {\n        vertical-align: middle;\n    }\n\n    .dataframe tbody tr th {\n        vertical-align: top;\n    }\n\n    .dataframe thead th {\n        text-align: right;\n    }\n</style>\n<table border=\"1\" class=\"dataframe\">\n  <thead>\n    <tr style=\"text-align: right;\">\n      <th></th>\n      <th>fund_name</th>\n      <th>morningstar_category</th>\n      <th>fund_return_2018</th>\n    </tr>\n  </thead>\n  <tbody>\n    <tr>\n      <th>count</th>\n      <td>49399</td>\n      <td>49399</td>\n      <td>41580.000000</td>\n    </tr>\n    <tr>\n      <th>unique</th>\n      <td>45932</td>\n      <td>261</td>\n      <td>NaN</td>\n    </tr>\n    <tr>\n      <th>top</th>\n      <td>Macquarie Valueinvest LUX Global B</td>\n      <td>Other Bond</td>\n      <td>NaN</td>\n    </tr>\n    <tr>\n      <th>freq</th>\n      <td>8</td>\n      <td>3418</td>\n      <td>NaN</td>\n    </tr>\n    <tr>\n      <th>mean</th>\n      <td>NaN</td>\n      <td>NaN</td>\n      <td>-4.740028</td>\n    </tr>\n    <tr>\n      <th>std</th>\n      <td>NaN</td>\n      <td>NaN</td>\n      <td>6.921632</td>\n    </tr>\n    <tr>\n      <th>min</th>\n      <td>NaN</td>\n      <td>NaN</td>\n      <td>-81.780000</td>\n    </tr>\n    <tr>\n      <th>25%</th>\n      <td>NaN</td>\n      <td>NaN</td>\n      <td>-9.200000</td>\n    </tr>\n    <tr>\n      <th>50%</th>\n      <td>NaN</td>\n      <td>NaN</td>\n      <td>-4.290000</td>\n    </tr>\n    <tr>\n      <th>75%</th>\n      <td>NaN</td>\n      <td>NaN</td>\n      <td>-0.170000</td>\n    </tr>\n    <tr>\n      <th>max</th>\n      <td>NaN</td>\n      <td>NaN</td>\n      <td>49.980000</td>\n    </tr>\n  </tbody>\n</table>\n</div>"
     },
     "execution_count": 34,
     "metadata": {},
     "output_type": "execute_result"
    }
   ],
   "source": [
    "data.describe(include='all')"
   ],
   "metadata": {
    "collapsed": false,
    "ExecuteTime": {
     "end_time": "2023-11-13T10:14:28.475506800Z",
     "start_time": "2023-11-13T10:14:28.331468500Z"
    }
   }
  },
  {
   "cell_type": "code",
   "execution_count": 35,
   "outputs": [
    {
     "data": {
      "text/plain": "array(['Europe Large-Cap Value Equity', 'Europe ex-UK Large-Cap Equity',\n       'Global Bond', 'US Large-Cap Growth Equity',\n       'Japan Large-Cap Equity', 'Global Large-Cap Growth Equity',\n       'Sector Equity Consumer Goods & Services', 'China Equity',\n       'Alt - Long/Short Equity - Europe',\n       'Global Emerging Markets Equity', 'EUR Flexible Bond',\n       'USD Moderate Allocation', 'Asia-Pacific ex-Japan Equity Income',\n       'Sector Equity Healthcare', 'Nordic Equity',\n       'Asia ex-Japan Equity', 'Denmark Equity', 'EUR Diversified Bond',\n       'Europe Small-Cap Equity', 'Europe Equity Income',\n       'EUR Corporate Bond', 'Global Large-Cap Blend Equity',\n       'Europe Large-Cap Blend Equity', 'Global Emerging Markets Bond',\n       'Europe Bond', 'Latin America Equity',\n       'Emerging Europe ex-Russia Equity', 'USD High Yield Bond',\n       'Europe Large-Cap Growth Equity', 'Emerging Europe Equity',\n       'Property - Indirect Asia', 'Other Equity', 'EUR High Yield Bond',\n       'Eurozone Large-Cap Equity', 'Property - Indirect Europe',\n       'Convertible Bond - Global, USD Hedged',\n       'EUR Diversified Bond - Short Term',\n       'Property - Indirect North America', 'Global Flexible Bond',\n       'India Equity', 'Asia-Pacific inc. Japan Equity',\n       'USD Diversified Bond - Short Term', 'Alt - Long/Short Credit',\n       'Global Emerging Markets Corporate Bond',\n       'USD Flexible Allocation', 'USD Flexible Bond',\n       'Global High Yield Bond', 'Global Bond - USD Hedged',\n       'Property - Indirect Global', 'Brazil Equity',\n       'Asia ex-Japan Small/Mid-Cap Equity', 'BRIC Equity',\n       'USD Diversified Bond', 'UK Large-Cap Equity', 'Hong Kong Equity',\n       'US Large-Cap Blend Equity', 'Turkey Equity', 'Thailand Equity',\n       'Global Equity Income', 'Europe ex-UK Small/Mid-Cap Equity',\n       'Global Bond - EUR Biased', 'Global Flex-Cap Equity',\n       'Global Emerging Markets Small/Mid-Cap Equity',\n       'Islamic Global Equity', 'Other Bond',\n       'Global Emerging Markets Bond - Local Currency',\n       'US Large-Cap Value Equity', 'EUR Flexible Allocation - Global',\n       'Taiwan Large-Cap Equity', 'US Mid-Cap Equity',\n       'Asia-Pacific ex-Japan Equity',\n       'Global Inflation-Linked Bond - EUR Hedged',\n       'Sector Equity Ecology', 'Sector Equity Financial Services',\n       'GBP Corporate Bond', 'GBP Moderately Cautious Allocation',\n       'Global Emerging Markets Bond - EUR Biased', 'Alt - Multistrategy',\n       'Eurozone Mid-Cap Equity', 'Greater China Equity', 'ASEAN Equity',\n       'Russia Equity', 'Japan Flex-Cap Equity',\n       'Sector Equity Technology', 'Global Flexible Bond - USD Hedged',\n       'Sector Equity Infrastructure', 'USD Cautious Allocation',\n       'USD Aggressive Allocation', 'Sector Equity Energy',\n       'Sector Equity Natural Resources', 'Alt - Long/Short Equity - US',\n       'Commodities - Broad Basket', 'Global Emerging Markets Allocation',\n       'Europe Mid-Cap Equity', 'GBP Moderate Allocation',\n       'Global Frontier Markets Equity', 'Africa & Middle East Equity',\n       'Africa Equity', 'Japan Small/Mid-Cap Equity',\n       'EUR Government Bond', 'RMB Bond',\n       'Global Inflation-Linked Bond - USD Hedged',\n       'EUR Inflation-Linked Bond', 'Global Small-Cap Equity',\n       'Sector Equity Alternative Energy', 'Sector Equity Agriculture',\n       'Sector Equity Precious Metals', 'Asia Bond - Local Currency',\n       'Global Corporate Bond',\n       'Global Emerging Markets Corporate Bond - EUR Biased',\n       'Global Flexible Bond - EUR Hedged', 'Global Bond - GBP Hedged',\n       'Global High Yield Bond - EUR Hedged', 'Germany Large-Cap Equity',\n       'Korea Equity', 'Convertible Bond - Global',\n       'Sector Equity Biotechnology', 'Indonesia Equity',\n       'US Small-Cap Equity', 'Sector Equity Communications',\n       'Convertible Bond - Europe', 'Global Corporate Bond - USD Hedged',\n       'Global Inflation-Linked Bond - GBP Hedged', 'Alt - Global Macro',\n       'EUR Moderate Allocation - Global', 'Other Allocation',\n       'EUR Cautious Allocation - Global',\n       'EUR Aggressive Allocation - Global',\n       'GBP Moderately Adventurous Allocation',\n       'Global Corporate Bond - GBP Hedged',\n       'Global Corporate Bond - EUR Hedged',\n       'Global High Yield Bond - GBP Hedged', 'Global Bond - EUR Hedged',\n       'Convertible Bond - Global, EUR Hedged', 'Sector Equity Water',\n       'Pacific ex-Japan Equity', 'USD Corporate Bond', 'Asia Bond',\n       'Fixed Term Bond', 'Global Flexible Bond - GBP Hedged',\n       'RMB Bond - Onshore', 'Global Bond - CHF Hedged',\n       'Global Corporate Bond - CHF Hedged',\n       'Global High Yield Bond - CHF Hedged', 'CHF Aggressive Allocation',\n       'Property - Indirect Other', 'China Equity - A Shares',\n       'Europe Flex-Cap Equity', 'GBP Cautious Allocation',\n       'GBP Money Market', 'Global Large-Cap Value Equity',\n       'USD Government Bond', 'GBP Diversified Bond',\n       'US Flex-Cap Equity', 'UK Mid-Cap Equity',\n       'GBP Flexible Allocation', 'Alt - Volatility',\n       'UK Flex-Cap Equity', 'DKK Domestic Bond', 'UK Small-Cap Equity',\n       'Nordic Small/Mid-Cap Equity', 'EUR Money Market',\n       'UK Equity Income', 'Eurozone Flex-Cap Equity',\n       'Money Market - Other', 'Asia High Yield Bond',\n       'GBP Adventurous Allocation', 'GBP Money Market - Short Term',\n       'USD Money Market - Short Term', 'Eurozone Small-Cap Equity',\n       'GBP Government Bond', 'Italy Equity', 'Property - Direct UK',\n       'Commodities - Broad Agriculture',\n       'Convertible Bond - Global, GBP Hedged',\n       'USD Inflation-Linked Bond', 'GBP High Yield Bond', 'HKD Bond',\n       'Alt - Currency', 'Asia Allocation', 'EUR Cautious Allocation',\n       'France Small/Mid-Cap Equity', 'JPY Bond', 'Singapore Equity',\n       'EUR Money Market - Short Term', 'Other', 'Spain Equity',\n       'USD Money Market', 'EUR Moderate Allocation',\n       'Australia & New Zealand Equity', 'Switzerland Large-Cap Equity',\n       'Sector Equity Industrial Materials',\n       'Alt - Market Neutral - Equity', 'EUR Bond - Long Term',\n       'Alt - Long/Short Equity - UK', 'Convertible Bond - Other',\n       'Convertible Bond - Global, CHF Hedged',\n       'Alt - Relative Value Arbitrage', 'EUR Subordinated Bond',\n       'Global Inflation-Linked Bond', 'Alt - Long/Short Equity - Global',\n       'CHF Moderate Allocation', 'Switzerland Small/Mid-Cap Equity',\n       'Property - Direct Europe', 'Global Bond - GBP Biased',\n       'GBP Flexible Bond', 'GBP Inflation-Linked Bond',\n       'Property - Direct Other', 'Germany Small/Mid-Cap Equity',\n       'Global Bond - NOK Hedged', 'Emerging Europe Bond',\n       'Capital Protected', 'EUR Government Bond - Short Term',\n       'CHF Money Market', 'Alt - Systematic Futures',\n       'EUR Ultra Short-Term Bond', 'Property - Direct Global',\n       'Global Flexible Bond - CHF Hedged', 'Alt - Event Driven',\n       'GBP Diversified Bond - Short Term', 'Greater China Allocation',\n       'Canada Equity', 'DKK Bond', 'NOK Moderate Allocation',\n       'EUR Flexible Allocation', 'NOK Bond',\n       'Sector Equity Private Equity', 'Global Bond - ILS',\n       'Alt - Long/Short Equity - Other',\n       'EUR Corporate Bond - Short Term', 'Islamic Equity - Other',\n       'NOK Bond - Short Term', 'NOK High Yield Bond', 'Norway Equity',\n       'CHF Bond', 'CHF Cautious Allocation',\n       'Islamic Allocation - Other', 'Islamic Global Bond',\n       'RMB High Yield Bond', 'SEK Flexible Allocation', 'Alt - Other',\n       'Property - Indirect Eurozone', 'EUR Aggressive Allocation',\n       'SEK Cautious Allocation', 'SEK Bond', 'SEK Corporate Bond',\n       'France Large-Cap Equity', 'Target Date 2046+',\n       'Target Date 2041 - 2045', 'CHF Bond - Short Term',\n       'Target Date 2016 - 2020', 'Target Date 2021 - 2025',\n       'Target Date 2026 - 2030', 'Target Date 2031 - 2035',\n       'Target Date 2036 - 2040', 'NOK Cautious Allocation',\n       'Global Bond - CHF Biased', 'Target Date 2011 - 2015',\n       'Vietnam Equity', 'Sweden Equity', 'Guaranteed Funds'],\n      dtype=object)"
     },
     "execution_count": 35,
     "metadata": {},
     "output_type": "execute_result"
    }
   ],
   "source": [
    "categories = data['morningstar_category'].unique()\n",
    "categories"
   ],
   "metadata": {
    "collapsed": false,
    "ExecuteTime": {
     "end_time": "2023-11-13T10:16:25.123264300Z",
     "start_time": "2023-11-13T10:16:24.995263700Z"
    }
   }
  },
  {
   "cell_type": "code",
   "execution_count": 36,
   "outputs": [
    {
     "name": "stdout",
     "output_type": "stream",
     "text": [
      "ASEAN Equity\n",
      "Africa & Middle East Equity\n",
      "Africa Equity\n",
      "Alt - Currency\n",
      "Alt - Event Driven\n",
      "Alt - Global Macro\n",
      "Alt - Long/Short Credit\n",
      "Alt - Long/Short Equity - Europe\n",
      "Alt - Long/Short Equity - Global\n",
      "Alt - Long/Short Equity - Other\n",
      "Alt - Long/Short Equity - UK\n",
      "Alt - Long/Short Equity - US\n",
      "Alt - Market Neutral - Equity\n",
      "Alt - Multistrategy\n",
      "Alt - Other\n",
      "Alt - Relative Value Arbitrage\n",
      "Alt - Systematic Futures\n",
      "Alt - Volatility\n",
      "Asia Allocation\n",
      "Asia Bond\n",
      "Asia Bond - Local Currency\n",
      "Asia High Yield Bond\n",
      "Asia ex-Japan Equity\n",
      "Asia ex-Japan Small/Mid-Cap Equity\n",
      "Asia-Pacific ex-Japan Equity\n",
      "Asia-Pacific ex-Japan Equity Income\n",
      "Asia-Pacific inc. Japan Equity\n",
      "Australia & New Zealand Equity\n",
      "BRIC Equity\n",
      "Brazil Equity\n",
      "CHF Aggressive Allocation\n",
      "CHF Bond\n",
      "CHF Bond - Short Term\n",
      "CHF Cautious Allocation\n",
      "CHF Moderate Allocation\n",
      "CHF Money Market\n",
      "Canada Equity\n",
      "Capital Protected\n",
      "China Equity\n",
      "China Equity - A Shares\n",
      "Commodities - Broad Agriculture\n",
      "Commodities - Broad Basket\n",
      "Convertible Bond - Europe\n",
      "Convertible Bond - Global\n",
      "Convertible Bond - Global, CHF Hedged\n",
      "Convertible Bond - Global, EUR Hedged\n",
      "Convertible Bond - Global, GBP Hedged\n",
      "Convertible Bond - Global, USD Hedged\n",
      "Convertible Bond - Other\n",
      "DKK Bond\n",
      "DKK Domestic Bond\n",
      "Denmark Equity\n",
      "EUR Aggressive Allocation\n",
      "EUR Aggressive Allocation - Global\n",
      "EUR Bond - Long Term\n",
      "EUR Cautious Allocation\n",
      "EUR Cautious Allocation - Global\n",
      "EUR Corporate Bond\n",
      "EUR Corporate Bond - Short Term\n",
      "EUR Diversified Bond\n",
      "EUR Diversified Bond - Short Term\n",
      "EUR Flexible Allocation\n",
      "EUR Flexible Allocation - Global\n",
      "EUR Flexible Bond\n",
      "EUR Government Bond\n",
      "EUR Government Bond - Short Term\n",
      "EUR High Yield Bond\n",
      "EUR Inflation-Linked Bond\n",
      "EUR Moderate Allocation\n",
      "EUR Moderate Allocation - Global\n",
      "EUR Money Market\n",
      "EUR Money Market - Short Term\n",
      "EUR Subordinated Bond\n",
      "EUR Ultra Short-Term Bond\n",
      "Emerging Europe Bond\n",
      "Emerging Europe Equity\n",
      "Emerging Europe ex-Russia Equity\n",
      "Europe Bond\n",
      "Europe Equity Income\n",
      "Europe Flex-Cap Equity\n",
      "Europe Large-Cap Blend Equity\n",
      "Europe Large-Cap Growth Equity\n",
      "Europe Large-Cap Value Equity\n",
      "Europe Mid-Cap Equity\n",
      "Europe Small-Cap Equity\n",
      "Europe ex-UK Large-Cap Equity\n",
      "Europe ex-UK Small/Mid-Cap Equity\n",
      "Eurozone Flex-Cap Equity\n",
      "Eurozone Large-Cap Equity\n",
      "Eurozone Mid-Cap Equity\n",
      "Eurozone Small-Cap Equity\n",
      "Fixed Term Bond\n",
      "France Large-Cap Equity\n",
      "France Small/Mid-Cap Equity\n",
      "GBP Adventurous Allocation\n",
      "GBP Cautious Allocation\n",
      "GBP Corporate Bond\n",
      "GBP Diversified Bond\n",
      "GBP Diversified Bond - Short Term\n",
      "GBP Flexible Allocation\n",
      "GBP Flexible Bond\n",
      "GBP Government Bond\n",
      "GBP High Yield Bond\n",
      "GBP Inflation-Linked Bond\n",
      "GBP Moderate Allocation\n",
      "GBP Moderately Adventurous Allocation\n",
      "GBP Moderately Cautious Allocation\n",
      "GBP Money Market\n",
      "GBP Money Market - Short Term\n",
      "Germany Large-Cap Equity\n",
      "Germany Small/Mid-Cap Equity\n",
      "Global Bond\n",
      "Global Bond - CHF Biased\n",
      "Global Bond - CHF Hedged\n",
      "Global Bond - EUR Biased\n",
      "Global Bond - EUR Hedged\n",
      "Global Bond - GBP Biased\n",
      "Global Bond - GBP Hedged\n",
      "Global Bond - ILS\n",
      "Global Bond - NOK Hedged\n",
      "Global Bond - USD Hedged\n",
      "Global Corporate Bond\n",
      "Global Corporate Bond - CHF Hedged\n",
      "Global Corporate Bond - EUR Hedged\n",
      "Global Corporate Bond - GBP Hedged\n",
      "Global Corporate Bond - USD Hedged\n",
      "Global Emerging Markets Allocation\n",
      "Global Emerging Markets Bond\n",
      "Global Emerging Markets Bond - EUR Biased\n",
      "Global Emerging Markets Bond - Local Currency\n",
      "Global Emerging Markets Corporate Bond\n",
      "Global Emerging Markets Corporate Bond - EUR Biased\n",
      "Global Emerging Markets Equity\n",
      "Global Emerging Markets Small/Mid-Cap Equity\n",
      "Global Equity Income\n",
      "Global Flex-Cap Equity\n",
      "Global Flexible Bond\n",
      "Global Flexible Bond - CHF Hedged\n",
      "Global Flexible Bond - EUR Hedged\n",
      "Global Flexible Bond - GBP Hedged\n",
      "Global Flexible Bond - USD Hedged\n",
      "Global Frontier Markets Equity\n",
      "Global High Yield Bond\n",
      "Global High Yield Bond - CHF Hedged\n",
      "Global High Yield Bond - EUR Hedged\n",
      "Global High Yield Bond - GBP Hedged\n",
      "Global Inflation-Linked Bond\n",
      "Global Inflation-Linked Bond - EUR Hedged\n",
      "Global Inflation-Linked Bond - GBP Hedged\n",
      "Global Inflation-Linked Bond - USD Hedged\n",
      "Global Large-Cap Blend Equity\n",
      "Global Large-Cap Growth Equity\n",
      "Global Large-Cap Value Equity\n",
      "Global Small-Cap Equity\n",
      "Greater China Allocation\n",
      "Greater China Equity\n",
      "Guaranteed Funds\n",
      "HKD Bond\n",
      "Hong Kong Equity\n",
      "India Equity\n",
      "Indonesia Equity\n",
      "Islamic Allocation - Other\n",
      "Islamic Equity - Other\n",
      "Islamic Global Bond\n",
      "Islamic Global Equity\n",
      "Italy Equity\n",
      "JPY Bond\n",
      "Japan Flex-Cap Equity\n",
      "Japan Large-Cap Equity\n",
      "Japan Small/Mid-Cap Equity\n",
      "Korea Equity\n",
      "Latin America Equity\n",
      "Money Market - Other\n",
      "NOK Bond\n",
      "NOK Bond - Short Term\n",
      "NOK Cautious Allocation\n",
      "NOK High Yield Bond\n",
      "NOK Moderate Allocation\n",
      "Nordic Equity\n",
      "Nordic Small/Mid-Cap Equity\n",
      "Norway Equity\n",
      "Other\n",
      "Other Allocation\n",
      "Other Bond\n",
      "Other Equity\n",
      "Pacific ex-Japan Equity\n",
      "Property - Direct Europe\n",
      "Property - Direct Global\n",
      "Property - Direct Other\n",
      "Property - Direct UK\n",
      "Property - Indirect Asia\n",
      "Property - Indirect Europe\n",
      "Property - Indirect Eurozone\n",
      "Property - Indirect Global\n",
      "Property - Indirect North America\n",
      "Property - Indirect Other\n",
      "RMB Bond\n",
      "RMB Bond - Onshore\n",
      "RMB High Yield Bond\n",
      "Russia Equity\n",
      "SEK Bond\n",
      "SEK Cautious Allocation\n",
      "SEK Corporate Bond\n",
      "SEK Flexible Allocation\n",
      "Sector Equity Agriculture\n",
      "Sector Equity Alternative Energy\n",
      "Sector Equity Biotechnology\n",
      "Sector Equity Communications\n",
      "Sector Equity Consumer Goods & Services\n",
      "Sector Equity Ecology\n",
      "Sector Equity Energy\n",
      "Sector Equity Financial Services\n",
      "Sector Equity Healthcare\n",
      "Sector Equity Industrial Materials\n",
      "Sector Equity Infrastructure\n",
      "Sector Equity Natural Resources\n",
      "Sector Equity Precious Metals\n",
      "Sector Equity Private Equity\n",
      "Sector Equity Technology\n",
      "Sector Equity Water\n",
      "Singapore Equity\n",
      "Spain Equity\n",
      "Sweden Equity\n",
      "Switzerland Large-Cap Equity\n",
      "Switzerland Small/Mid-Cap Equity\n",
      "Taiwan Large-Cap Equity\n",
      "Target Date 2011 - 2015\n",
      "Target Date 2016 - 2020\n",
      "Target Date 2021 - 2025\n",
      "Target Date 2026 - 2030\n",
      "Target Date 2031 - 2035\n",
      "Target Date 2036 - 2040\n",
      "Target Date 2041 - 2045\n",
      "Target Date 2046+\n",
      "Thailand Equity\n",
      "Turkey Equity\n",
      "UK Equity Income\n",
      "UK Flex-Cap Equity\n",
      "UK Large-Cap Equity\n",
      "UK Mid-Cap Equity\n",
      "UK Small-Cap Equity\n",
      "US Flex-Cap Equity\n",
      "US Large-Cap Blend Equity\n",
      "US Large-Cap Growth Equity\n",
      "US Large-Cap Value Equity\n",
      "US Mid-Cap Equity\n",
      "US Small-Cap Equity\n",
      "USD Aggressive Allocation\n",
      "USD Cautious Allocation\n",
      "USD Corporate Bond\n",
      "USD Diversified Bond\n",
      "USD Diversified Bond - Short Term\n",
      "USD Flexible Allocation\n",
      "USD Flexible Bond\n",
      "USD Government Bond\n",
      "USD High Yield Bond\n",
      "USD Inflation-Linked Bond\n",
      "USD Moderate Allocation\n",
      "USD Money Market\n",
      "USD Money Market - Short Term\n",
      "Vietnam Equity\n"
     ]
    }
   ],
   "source": [
    "sorted_categories = sorted(categories)\n",
    "for category in sorted_categories:\n",
    "    print(category)"
   ],
   "metadata": {
    "collapsed": false,
    "ExecuteTime": {
     "end_time": "2023-11-13T10:17:24.373471600Z",
     "start_time": "2023-11-13T10:17:24.259264Z"
    }
   }
  },
  {
   "cell_type": "code",
   "execution_count": 37,
   "outputs": [],
   "source": [
    "cat_freq = data['morningstar_category'].value_counts()"
   ],
   "metadata": {
    "collapsed": false,
    "ExecuteTime": {
     "end_time": "2023-11-13T10:18:09.449459100Z",
     "start_time": "2023-11-13T10:18:09.333424100Z"
    }
   }
  },
  {
   "cell_type": "code",
   "execution_count": 38,
   "outputs": [
    {
     "data": {
      "text/plain": "Other Bond                        3418\nOther Equity                      3209\nGlobal Large-Cap Blend Equity     2054\nGlobal Emerging Markets Equity    1822\nGBP Moderate Allocation           1085\n                                  ... \nGlobal Bond - GBP Biased             1\nGlobal Bond - ILS                    1\nTarget Date 2011 - 2015              1\nNOK Moderate Allocation              1\nGuaranteed Funds                     1\nName: morningstar_category, Length: 261, dtype: int64"
     },
     "execution_count": 38,
     "metadata": {},
     "output_type": "execute_result"
    }
   ],
   "source": [
    "cat_freq"
   ],
   "metadata": {
    "collapsed": false,
    "ExecuteTime": {
     "end_time": "2023-11-13T10:18:15.066293400Z",
     "start_time": "2023-11-13T10:18:14.956288200Z"
    }
   }
  },
  {
   "cell_type": "code",
   "execution_count": 39,
   "outputs": [
    {
     "data": {
      "text/plain": "pandas.core.series.Series"
     },
     "execution_count": 39,
     "metadata": {},
     "output_type": "execute_result"
    }
   ],
   "source": [
    "type(cat_freq)"
   ],
   "metadata": {
    "collapsed": false,
    "ExecuteTime": {
     "end_time": "2023-11-13T10:20:22.743028500Z",
     "start_time": "2023-11-13T10:20:22.593997300Z"
    }
   }
  },
  {
   "cell_type": "code",
   "execution_count": 40,
   "outputs": [
    {
     "data": {
      "text/plain": "Index(['Other Bond', 'Other Equity', 'Global Large-Cap Blend Equity',\n       'Global Emerging Markets Equity', 'GBP Moderate Allocation',\n       'Alt - Multistrategy', 'Global Emerging Markets Bond',\n       'US Large-Cap Blend Equity', 'Japan Large-Cap Equity',\n       'GBP Moderately Adventurous Allocation',\n       ...\n       'Global Bond - NOK Hedged', 'NOK Cautious Allocation', 'Vietnam Equity',\n       'EUR Aggressive Allocation', 'RMB High Yield Bond',\n       'Global Bond - GBP Biased', 'Global Bond - ILS',\n       'Target Date 2011 - 2015', 'NOK Moderate Allocation',\n       'Guaranteed Funds'],\n      dtype='object', length=261)"
     },
     "execution_count": 40,
     "metadata": {},
     "output_type": "execute_result"
    }
   ],
   "source": [
    "cat_freq.index"
   ],
   "metadata": {
    "collapsed": false,
    "ExecuteTime": {
     "end_time": "2023-11-13T10:20:44.336920200Z",
     "start_time": "2023-11-13T10:20:44.222889100Z"
    }
   }
  },
  {
   "cell_type": "code",
   "execution_count": 41,
   "outputs": [
    {
     "name": "stdout",
     "output_type": "stream",
     "text": [
      "3418\tOther Bond\n",
      "3209\tOther Equity\n",
      "2054\tGlobal Large-Cap Blend Equity\n",
      "1822\tGlobal Emerging Markets Equity\n",
      "1085\tGBP Moderate Allocation\n",
      "899\tAlt - Multistrategy\n",
      "874\tGlobal Emerging Markets Bond\n",
      "828\tUS Large-Cap Blend Equity\n",
      "780\tJapan Large-Cap Equity\n",
      "756\tGBP Moderately Adventurous Allocation\n",
      "713\tAlt - Long/Short Credit\n",
      "702\tEurope Large-Cap Blend Equity\n",
      "696\tGlobal Equity Income\n",
      "632\tGlobal Large-Cap Growth Equity\n",
      "626\tGlobal Emerging Markets Bond - Local Currency\n",
      "616\tUK Large-Cap Equity\n",
      "553\tAsia ex-Japan Equity\n",
      "546\tGBP Moderately Cautious Allocation\n",
      "531\tEurope ex-UK Large-Cap Equity\n",
      "527\tUSD Moderate Allocation\n",
      "509\tUS Large-Cap Growth Equity\n",
      "490\tGlobal Bond\n",
      "464\tGlobal High Yield Bond\n",
      "456\tUK Equity Income\n",
      "444\tEUR Corporate Bond\n",
      "442\tUSD High Yield Bond\n",
      "423\tGlobal Flexible Bond - GBP Hedged\n",
      "419\tGBP Corporate Bond\n",
      "415\tGBP Adventurous Allocation\n",
      "415\tOther Allocation\n",
      "413\tGlobal Emerging Markets Bond - EUR Biased\n",
      "400\tGlobal Flexible Bond - EUR Hedged\n",
      "390\tEUR Moderate Allocation - Global\n",
      "381\tUK Flex-Cap Equity\n",
      "381\tChina Equity\n",
      "375\tEUR High Yield Bond\n",
      "342\tProperty - Indirect Global\n",
      "342\tGlobal Flexible Bond - USD Hedged\n",
      "334\tUS Large-Cap Value Equity\n",
      "332\tGlobal Flexible Bond\n",
      "331\tAsia-Pacific ex-Japan Equity\n",
      "324\tEurozone Large-Cap Equity\n",
      "319\tIndia Equity\n",
      "303\tAlt - Market Neutral - Equity\n",
      "300\tGlobal Bond - EUR Hedged\n",
      "296\tGlobal Flex-Cap Equity\n",
      "293\tGBP Flexible Allocation\n",
      "288\tUSD Money Market - Short Term\n",
      "285\tGlobal Emerging Markets Corporate Bond\n",
      "279\tSector Equity Technology\n",
      "276\tEUR Diversified Bond\n",
      "275\tGlobal High Yield Bond - EUR Hedged\n",
      "263\tGlobal Large-Cap Value Equity\n",
      "260\tAsia-Pacific ex-Japan Equity Income\n",
      "258\tFixed Term Bond\n",
      "257\tGlobal Bond - USD Hedged\n",
      "255\tEUR Flexible Allocation - Global\n",
      "251\tEurope Large-Cap Growth Equity\n",
      "248\tUSD Diversified Bond\n",
      "232\tEurope Small-Cap Equity\n",
      "231\tGlobal Corporate Bond - USD Hedged\n",
      "226\tSector Equity Infrastructure\n",
      "224\tUS Small-Cap Equity\n",
      "209\tAlt - Long/Short Equity - Europe\n",
      "201\tUK Small-Cap Equity\n",
      "201\tEUR Cautious Allocation - Global\n",
      "200\tAlt - Global Macro\n",
      "191\tUS Flex-Cap Equity\n",
      "191\tConvertible Bond - Global, EUR Hedged\n",
      "189\tGBP Money Market - Short Term\n",
      "188\tLatin America Equity\n",
      "188\tEurope Equity Income\n",
      "187\tUSD Aggressive Allocation\n",
      "187\tGlobal High Yield Bond - GBP Hedged\n",
      "186\tCommodities - Broad Basket\n",
      "186\tGlobal Bond - GBP Hedged\n",
      "185\tUSD Cautious Allocation\n",
      "179\tProperty - Direct UK\n",
      "173\tGlobal Small-Cap Equity\n",
      "160\tSector Equity Consumer Goods & Services\n",
      "158\tSector Equity Ecology\n",
      "157\tUSD Flexible Allocation\n",
      "156\tGlobal Corporate Bond - EUR Hedged\n",
      "153\tSector Equity Healthcare\n",
      "149\tEUR Money Market - Short Term\n",
      "148\tUSD Diversified Bond - Short Term\n",
      "145\tGlobal Emerging Markets Corporate Bond - EUR Biased\n",
      "143\tAsia ex-Japan Small/Mid-Cap Equity\n",
      "143\tEUR Aggressive Allocation - Global\n",
      "142\tAsia Bond\n",
      "140\tUSD Corporate Bond\n",
      "139\tGBP Government Bond\n",
      "132\tBRIC Equity\n",
      "132\tGlobal Inflation-Linked Bond - EUR Hedged\n",
      "130\tGlobal Inflation-Linked Bond - USD Hedged\n",
      "129\tUS Mid-Cap Equity\n",
      "129\tJapan Small/Mid-Cap Equity\n",
      "128\tSector Equity Natural Resources\n",
      "128\tAlt - Systematic Futures\n",
      "126\tEmerging Europe Equity\n",
      "121\tAlt - Volatility\n",
      "120\tEUR Government Bond\n",
      "119\tEurope Flex-Cap Equity\n",
      "118\tRussia Equity\n",
      "118\tGlobal Frontier Markets Equity\n",
      "117\tUSD Flexible Bond\n",
      "115\tGlobal Emerging Markets Small/Mid-Cap Equity\n",
      "115\tGBP Cautious Allocation\n",
      "114\tGlobal Corporate Bond - GBP Hedged\n",
      "114\tSector Equity Precious Metals\n",
      "114\tAlt - Long/Short Equity - Global\n",
      "112\tMoney Market - Other\n",
      "111\tAsia Bond - Local Currency\n",
      "105\tEUR Flexible Bond\n",
      "105\tBrazil Equity\n",
      "105\tEurope ex-UK Small/Mid-Cap Equity\n",
      "104\tProperty - Indirect Other\n",
      "103\tAlt - Long/Short Equity - UK\n",
      "103\tEurope Large-Cap Value Equity\n",
      "103\tSector Equity Energy\n",
      "102\tGreater China Equity\n",
      "100\tAlt - Event Driven\n",
      "99\tConvertible Bond - Global, USD Hedged\n",
      "97\tGlobal Emerging Markets Allocation\n",
      "96\tSector Equity Financial Services\n",
      "95\tGBP Diversified Bond\n",
      "94\tEUR Diversified Bond - Short Term\n",
      "88\tAsia-Pacific inc. Japan Equity\n",
      "87\tPacific ex-Japan Equity\n",
      "87\tAlt - Long/Short Equity - US\n",
      "87\tConvertible Bond - Global\n",
      "85\tJapan Flex-Cap Equity\n",
      "84\tGlobal Corporate Bond\n",
      "83\tGlobal Bond - CHF Hedged\n",
      "81\tGBP Inflation-Linked Bond\n",
      "79\tEurope Mid-Cap Equity\n",
      "78\tUSD Government Bond\n",
      "78\tConvertible Bond - Europe\n",
      "77\tGlobal Flexible Bond - CHF Hedged\n",
      "76\tSector Equity Water\n",
      "74\tConvertible Bond - Global, CHF Hedged\n",
      "73\tUK Mid-Cap Equity\n",
      "68\tRMB Bond\n",
      "68\tCHF Moderate Allocation\n",
      "66\tAlt - Currency\n",
      "66\tConvertible Bond - Other\n",
      "64\tEUR Subordinated Bond\n",
      "63\tASEAN Equity\n",
      "63\tSector Equity Agriculture\n",
      "62\tConvertible Bond - Global, GBP Hedged\n",
      "60\tIslamic Global Equity\n",
      "59\tProperty - Direct Global\n",
      "59\tSector Equity Alternative Energy\n",
      "58\tGlobal High Yield Bond - CHF Hedged\n",
      "55\tGBP High Yield Bond\n",
      "54\tEUR Money Market\n",
      "53\tAfrica & Middle East Equity\n",
      "53\tProperty - Indirect Europe\n",
      "53\tGlobal Inflation-Linked Bond - GBP Hedged\n",
      "52\tAsia High Yield Bond\n",
      "51\tChina Equity - A Shares\n",
      "50\tCHF Cautious Allocation\n",
      "50\tHong Kong Equity\n",
      "50\tGBP Flexible Bond\n",
      "46\tEUR Corporate Bond - Short Term\n",
      "46\tAfrica Equity\n",
      "45\tRMB Bond - Onshore\n",
      "45\tProperty - Indirect Asia\n",
      "44\tGermany Large-Cap Equity\n",
      "43\tAlt - Long/Short Equity - Other\n",
      "42\tSwitzerland Large-Cap Equity\n",
      "42\tTurkey Equity\n",
      "40\tGlobal Corporate Bond - CHF Hedged\n",
      "40\tAlt - Other\n",
      "39\tEurozone Mid-Cap Equity\n",
      "39\tSector Equity Biotechnology\n",
      "37\tEUR Ultra Short-Term Bond\n",
      "36\tIslamic Allocation - Other\n",
      "36\tEUR Inflation-Linked Bond\n",
      "35\tUSD Money Market\n",
      "33\tGBP Money Market\n",
      "32\tOther\n",
      "31\tEUR Cautious Allocation\n",
      "31\tAsia Allocation\n",
      "30\tSwitzerland Small/Mid-Cap Equity\n",
      "29\tEUR Moderate Allocation\n",
      "29\tNordic Equity\n",
      "28\tCHF Bond\n",
      "28\tThailand Equity\n",
      "27\tCHF Aggressive Allocation\n",
      "27\tGlobal Inflation-Linked Bond\n",
      "27\tKorea Equity\n",
      "25\tEUR Flexible Allocation\n",
      "24\tIslamic Global Bond\n",
      "23\tProperty - Indirect North America\n",
      "21\tAlt - Relative Value Arbitrage\n",
      "20\tTaiwan Large-Cap Equity\n",
      "19\tItaly Equity\n",
      "18\tCommodities - Broad Agriculture\n",
      "17\tEurozone Flex-Cap Equity\n",
      "17\tSector Equity Industrial Materials\n",
      "16\tGBP Diversified Bond - Short Term\n",
      "16\tUSD Inflation-Linked Bond\n",
      "16\tCHF Money Market\n",
      "15\tEmerging Europe ex-Russia Equity\n",
      "15\tDKK Domestic Bond\n",
      "15\tAustralia & New Zealand Equity\n",
      "15\tIndonesia Equity\n",
      "14\tEurope Bond\n",
      "14\tEUR Bond - Long Term\n",
      "13\tGlobal Bond - EUR Biased\n",
      "12\tCanada Equity\n",
      "12\tEmerging Europe Bond\n",
      "12\tEUR Government Bond - Short Term\n",
      "12\tNorway Equity\n",
      "12\tNOK Bond - Short Term\n",
      "11\tFrance Large-Cap Equity\n",
      "11\tSector Equity Communications\n",
      "11\tGermany Small/Mid-Cap Equity\n",
      "11\tSpain Equity\n",
      "11\tProperty - Direct Europe\n",
      "10\tSector Equity Private Equity\n",
      "10\tIslamic Equity - Other\n",
      "9\tNOK High Yield Bond\n",
      "9\tDKK Bond\n",
      "9\tSEK Bond\n",
      "8\tCapital Protected\n",
      "8\tGreater China Allocation\n",
      "8\tSweden Equity\n",
      "8\tNordic Small/Mid-Cap Equity\n",
      "8\tNOK Bond\n",
      "8\tDenmark Equity\n",
      "7\tCHF Bond - Short Term\n",
      "7\tProperty - Direct Other\n",
      "6\tProperty - Indirect Eurozone\n",
      "6\tGlobal Bond - CHF Biased\n",
      "6\tJPY Bond\n",
      "6\tHKD Bond\n",
      "6\tTarget Date 2046+\n",
      "6\tEurozone Small-Cap Equity\n",
      "6\tTarget Date 2016 - 2020\n",
      "6\tSEK Cautious Allocation\n",
      "5\tTarget Date 2041 - 2045\n",
      "5\tSEK Corporate Bond\n",
      "5\tTarget Date 2036 - 2040\n",
      "5\tTarget Date 2021 - 2025\n",
      "5\tTarget Date 2026 - 2030\n",
      "5\tTarget Date 2031 - 2035\n",
      "5\tFrance Small/Mid-Cap Equity\n",
      "5\tSingapore Equity\n",
      "4\tSEK Flexible Allocation\n",
      "3\tGlobal Bond - NOK Hedged\n",
      "2\tNOK Cautious Allocation\n",
      "2\tVietnam Equity\n",
      "1\tEUR Aggressive Allocation\n",
      "1\tRMB High Yield Bond\n",
      "1\tGlobal Bond - GBP Biased\n",
      "1\tGlobal Bond - ILS\n",
      "1\tTarget Date 2011 - 2015\n",
      "1\tNOK Moderate Allocation\n",
      "1\tGuaranteed Funds\n"
     ]
    }
   ],
   "source": [
    "for cat, freq in cat_freq.items():\n",
    "    print(f'{freq}\\t{cat}')"
   ],
   "metadata": {
    "collapsed": false,
    "ExecuteTime": {
     "end_time": "2023-11-13T10:22:06.542867Z",
     "start_time": "2023-11-13T10:22:06.460867900Z"
    }
   }
  },
  {
   "cell_type": "code",
   "execution_count": 42,
   "outputs": [
    {
     "data": {
      "text/plain": "       fund_return_2018\ncount      41580.000000\nmean          -4.740028\nstd            6.921632\nmin          -81.780000\n25%           -9.200000\n50%           -4.290000\n75%           -0.170000\nmax           49.980000",
      "text/html": "<div>\n<style scoped>\n    .dataframe tbody tr th:only-of-type {\n        vertical-align: middle;\n    }\n\n    .dataframe tbody tr th {\n        vertical-align: top;\n    }\n\n    .dataframe thead th {\n        text-align: right;\n    }\n</style>\n<table border=\"1\" class=\"dataframe\">\n  <thead>\n    <tr style=\"text-align: right;\">\n      <th></th>\n      <th>fund_return_2018</th>\n    </tr>\n  </thead>\n  <tbody>\n    <tr>\n      <th>count</th>\n      <td>41580.000000</td>\n    </tr>\n    <tr>\n      <th>mean</th>\n      <td>-4.740028</td>\n    </tr>\n    <tr>\n      <th>std</th>\n      <td>6.921632</td>\n    </tr>\n    <tr>\n      <th>min</th>\n      <td>-81.780000</td>\n    </tr>\n    <tr>\n      <th>25%</th>\n      <td>-9.200000</td>\n    </tr>\n    <tr>\n      <th>50%</th>\n      <td>-4.290000</td>\n    </tr>\n    <tr>\n      <th>75%</th>\n      <td>-0.170000</td>\n    </tr>\n    <tr>\n      <th>max</th>\n      <td>49.980000</td>\n    </tr>\n  </tbody>\n</table>\n</div>"
     },
     "execution_count": 42,
     "metadata": {},
     "output_type": "execute_result"
    }
   ],
   "source": [
    "data.describe()"
   ],
   "metadata": {
    "collapsed": false,
    "ExecuteTime": {
     "end_time": "2023-11-13T10:22:50.755689400Z",
     "start_time": "2023-11-13T10:22:50.647671200Z"
    }
   }
  },
  {
   "cell_type": "code",
   "execution_count": 44,
   "outputs": [],
   "source": [
    "col = data['fund_return_2018']"
   ],
   "metadata": {
    "collapsed": false,
    "ExecuteTime": {
     "end_time": "2023-11-13T10:23:34.096449200Z",
     "start_time": "2023-11-13T10:23:33.975444200Z"
    }
   }
  },
  {
   "cell_type": "code",
   "execution_count": 45,
   "outputs": [
    {
     "data": {
      "text/plain": "ticker\n0P00000AWF   -18.13\n0P00000AYI   -14.11\n0P00000BOW     3.26\n0P00000ESH    -1.60\n0P00000ESL    -6.79\n              ...  \nFOUSA088S1   -13.56\nFOUSA08ML5   -18.80\nFOUSA0905L    11.58\nFOUSA09F2D     0.37\nFOUSA09F2G     0.73\nName: fund_return_2018, Length: 49399, dtype: float64"
     },
     "execution_count": 45,
     "metadata": {},
     "output_type": "execute_result"
    }
   ],
   "source": [
    "col"
   ],
   "metadata": {
    "collapsed": false,
    "ExecuteTime": {
     "end_time": "2023-11-13T10:23:36.746101300Z",
     "start_time": "2023-11-13T10:23:36.621063800Z"
    }
   }
  },
  {
   "cell_type": "code",
   "execution_count": 46,
   "outputs": [
    {
     "data": {
      "text/plain": "(41580, -4.7400283790284075, 6.921632080857115)"
     },
     "execution_count": 46,
     "metadata": {},
     "output_type": "execute_result"
    }
   ],
   "source": [
    "col.count(), col.mean(), col.std()"
   ],
   "metadata": {
    "collapsed": false,
    "ExecuteTime": {
     "end_time": "2023-11-13T10:24:04.617929500Z",
     "start_time": "2023-11-13T10:24:04.484926100Z"
    }
   }
  },
  {
   "cell_type": "code",
   "execution_count": 48,
   "outputs": [
    {
     "data": {
      "text/plain": "(-81.78, -4.29, -9.2, -4.29, -0.17, 49.98)"
     },
     "execution_count": 48,
     "metadata": {},
     "output_type": "execute_result"
    }
   ],
   "source": [
    "col.min(), col.quantile(), col.quantile(0.25), col.quantile(0.5), col.quantile(0.75), col.max()"
   ],
   "metadata": {
    "collapsed": false,
    "ExecuteTime": {
     "end_time": "2023-11-13T10:27:00.713577Z",
     "start_time": "2023-11-13T10:27:00.650571800Z"
    }
   }
  },
  {
   "cell_type": "code",
   "execution_count": 49,
   "outputs": [
    {
     "name": "stdout",
     "output_type": "stream",
     "text": [
      "<class 'pandas.core.frame.DataFrame'>\n",
      "RangeIndex: 52 entries, 0 to 51\n",
      "Data columns (total 4 columns):\n",
      " #   Column                                   Non-Null Count  Dtype \n",
      "---  ------                                   --------------  ----- \n",
      " 0   Geographic Area                          52 non-null     object\n",
      " 1   July 1, 2001 Estimate                    52 non-null     int64 \n",
      " 2   July 1, 2000 Estimate                    52 non-null     int64 \n",
      " 3   April 1, 2000 Population Estimates Base  52 non-null     int64 \n",
      "dtypes: int64(3), object(1)\n",
      "memory usage: 1.8+ KB\n"
     ]
    }
   ],
   "source": [
    "df = pd.read_csv('populations.csv')\n",
    "df.info()"
   ],
   "metadata": {
    "collapsed": false,
    "ExecuteTime": {
     "end_time": "2023-11-13T10:33:15.273810100Z",
     "start_time": "2023-11-13T10:33:15.153808600Z"
    }
   }
  },
  {
   "cell_type": "code",
   "execution_count": 50,
   "outputs": [
    {
     "data": {
      "text/plain": "  Geographic Area  July 1, 2001 Estimate  July 1, 2000 Estimate  \\\n0   United States              284796887              282124631   \n1         Alabama                4464356                4451493   \n2          Alaska                 634892                 627601   \n3         Arizona                5307331                5165274   \n4        Arkansas                2692090                2678030   \n\n   April 1, 2000 Population Estimates Base  \n0                                281421906  \n1                                  4447100  \n2                                   626932  \n3                                  5130632  \n4                                  2673400  ",
      "text/html": "<div>\n<style scoped>\n    .dataframe tbody tr th:only-of-type {\n        vertical-align: middle;\n    }\n\n    .dataframe tbody tr th {\n        vertical-align: top;\n    }\n\n    .dataframe thead th {\n        text-align: right;\n    }\n</style>\n<table border=\"1\" class=\"dataframe\">\n  <thead>\n    <tr style=\"text-align: right;\">\n      <th></th>\n      <th>Geographic Area</th>\n      <th>July 1, 2001 Estimate</th>\n      <th>July 1, 2000 Estimate</th>\n      <th>April 1, 2000 Population Estimates Base</th>\n    </tr>\n  </thead>\n  <tbody>\n    <tr>\n      <th>0</th>\n      <td>United States</td>\n      <td>284796887</td>\n      <td>282124631</td>\n      <td>281421906</td>\n    </tr>\n    <tr>\n      <th>1</th>\n      <td>Alabama</td>\n      <td>4464356</td>\n      <td>4451493</td>\n      <td>4447100</td>\n    </tr>\n    <tr>\n      <th>2</th>\n      <td>Alaska</td>\n      <td>634892</td>\n      <td>627601</td>\n      <td>626932</td>\n    </tr>\n    <tr>\n      <th>3</th>\n      <td>Arizona</td>\n      <td>5307331</td>\n      <td>5165274</td>\n      <td>5130632</td>\n    </tr>\n    <tr>\n      <th>4</th>\n      <td>Arkansas</td>\n      <td>2692090</td>\n      <td>2678030</td>\n      <td>2673400</td>\n    </tr>\n  </tbody>\n</table>\n</div>"
     },
     "execution_count": 50,
     "metadata": {},
     "output_type": "execute_result"
    }
   ],
   "source": [
    "df[:5]"
   ],
   "metadata": {
    "collapsed": false,
    "ExecuteTime": {
     "end_time": "2023-11-13T10:33:29.340570200Z",
     "start_time": "2023-11-13T10:33:29.246515400Z"
    }
   }
  },
  {
   "cell_type": "code",
   "execution_count": 51,
   "outputs": [
    {
     "data": {
      "text/plain": "                      July 1, 2001 Estimate  July 1, 2000 Estimate  \\\nGeographic Area                                                      \nUnited States                     284796887              282124631   \nAlabama                             4464356                4451493   \nAlaska                               634892                 627601   \nArizona                             5307331                5165274   \nArkansas                            2692090                2678030   \nCalifornia                         34501130               34000446   \nColorado                            4417714                4323410   \nConnecticut                         3425074                3410079   \nDelaware                             796165                 786234   \nDistrict of Columbia                 571822                 571066   \nFlorida                            16396515               16054328   \nGeorgia                             8383915                8229823   \nHawaii                              1224398                1212281   \nIdaho                               1321006                1299258   \nIllinois                           12482301               12435970   \nIndiana                             6114745                6089950   \nIowa                                2923179                2927509   \nKansas                              2694641                2691750   \nKentucky                            4065556                4047424   \nLouisiana                           4465430                4469970   \nMaine                               1286670                1276961   \nMaryland                            5375156                5310908   \nMassachusetts                       6379304                6357072   \nMichigan                            9990817                9952006   \nMinnesota                           4972294                4931093   \nMississippi                         2858029                2849100   \nMissouri                            5629707                5603553   \nMontana                              904433                 903157   \nNebraska                            1713235                1712577   \nNevada                              2106074                2018723   \nNew Hampshire                       1259181                1239881   \nNew Jersey                          8484431                8429007   \nNew Mexico                          1829146                1821282   \nNew York                           19011378               18989332   \nNorth Carolina                      8186268                8077367   \nNorth Dakota                         634448                 640919   \nOhio                               11373541               11359955   \nOklahoma                            3460097                3453250   \nOregon                              3472867                3429293   \nPennsylvania                       12287150               12282591   \nRhode Island                        1058920                1050236   \nSouth Carolina                      4063011                4023438   \nSouth Dakota                         756600                 755509   \nTennessee                           5740021                5702027   \nTexas                              21325018               20946503   \nUtah                                2269789                2241555   \nVermont                              613090                 609709   \nVirginia                            7187734                7104016   \nWashington                          5987973                5908372   \nWest Virginia                       1801916                1807099   \nWisconsin                           5401906                5372243   \nWyoming                              494423                 494001   \n\n                      April 1, 2000 Population Estimates Base  \nGeographic Area                                                \nUnited States                                       281421906  \nAlabama                                               4447100  \nAlaska                                                 626932  \nArizona                                               5130632  \nArkansas                                              2673400  \nCalifornia                                           33871648  \nColorado                                              4301261  \nConnecticut                                           3405565  \nDelaware                                               783600  \nDistrict of Columbia                                   572059  \nFlorida                                              15982378  \nGeorgia                                               8186453  \nHawaii                                                1211537  \nIdaho                                                 1293953  \nIllinois                                             12419293  \nIndiana                                               6080485  \nIowa                                                  2926324  \nKansas                                                2688418  \nKentucky                                              4041769  \nLouisiana                                             4468976  \nMaine                                                 1274923  \nMaryland                                              5296486  \nMassachusetts                                         6349097  \nMichigan                                              9938444  \nMinnesota                                             4919479  \nMississippi                                           2844658  \nMissouri                                              5595211  \nMontana                                                902195  \nNebraska                                              1711263  \nNevada                                                1998257  \nNew Hampshire                                         1235786  \nNew Jersey                                            8414350  \nNew Mexico                                            1819046  \nNew York                                             18976457  \nNorth Carolina                                        8049313  \nNorth Dakota                                           642200  \nOhio                                                 11353140  \nOklahoma                                              3450654  \nOregon                                                3421399  \nPennsylvania                                         12281054  \nRhode Island                                          1048319  \nSouth Carolina                                        4012012  \nSouth Dakota                                           754844  \nTennessee                                             5689283  \nTexas                                                20851820  \nUtah                                                  2233169  \nVermont                                                608827  \nVirginia                                              7078515  \nWashington                                            5894121  \nWest Virginia                                         1808344  \nWisconsin                                             5363675  \nWyoming                                                493782  ",
      "text/html": "<div>\n<style scoped>\n    .dataframe tbody tr th:only-of-type {\n        vertical-align: middle;\n    }\n\n    .dataframe tbody tr th {\n        vertical-align: top;\n    }\n\n    .dataframe thead th {\n        text-align: right;\n    }\n</style>\n<table border=\"1\" class=\"dataframe\">\n  <thead>\n    <tr style=\"text-align: right;\">\n      <th></th>\n      <th>July 1, 2001 Estimate</th>\n      <th>July 1, 2000 Estimate</th>\n      <th>April 1, 2000 Population Estimates Base</th>\n    </tr>\n    <tr>\n      <th>Geographic Area</th>\n      <th></th>\n      <th></th>\n      <th></th>\n    </tr>\n  </thead>\n  <tbody>\n    <tr>\n      <th>United States</th>\n      <td>284796887</td>\n      <td>282124631</td>\n      <td>281421906</td>\n    </tr>\n    <tr>\n      <th>Alabama</th>\n      <td>4464356</td>\n      <td>4451493</td>\n      <td>4447100</td>\n    </tr>\n    <tr>\n      <th>Alaska</th>\n      <td>634892</td>\n      <td>627601</td>\n      <td>626932</td>\n    </tr>\n    <tr>\n      <th>Arizona</th>\n      <td>5307331</td>\n      <td>5165274</td>\n      <td>5130632</td>\n    </tr>\n    <tr>\n      <th>Arkansas</th>\n      <td>2692090</td>\n      <td>2678030</td>\n      <td>2673400</td>\n    </tr>\n    <tr>\n      <th>California</th>\n      <td>34501130</td>\n      <td>34000446</td>\n      <td>33871648</td>\n    </tr>\n    <tr>\n      <th>Colorado</th>\n      <td>4417714</td>\n      <td>4323410</td>\n      <td>4301261</td>\n    </tr>\n    <tr>\n      <th>Connecticut</th>\n      <td>3425074</td>\n      <td>3410079</td>\n      <td>3405565</td>\n    </tr>\n    <tr>\n      <th>Delaware</th>\n      <td>796165</td>\n      <td>786234</td>\n      <td>783600</td>\n    </tr>\n    <tr>\n      <th>District of Columbia</th>\n      <td>571822</td>\n      <td>571066</td>\n      <td>572059</td>\n    </tr>\n    <tr>\n      <th>Florida</th>\n      <td>16396515</td>\n      <td>16054328</td>\n      <td>15982378</td>\n    </tr>\n    <tr>\n      <th>Georgia</th>\n      <td>8383915</td>\n      <td>8229823</td>\n      <td>8186453</td>\n    </tr>\n    <tr>\n      <th>Hawaii</th>\n      <td>1224398</td>\n      <td>1212281</td>\n      <td>1211537</td>\n    </tr>\n    <tr>\n      <th>Idaho</th>\n      <td>1321006</td>\n      <td>1299258</td>\n      <td>1293953</td>\n    </tr>\n    <tr>\n      <th>Illinois</th>\n      <td>12482301</td>\n      <td>12435970</td>\n      <td>12419293</td>\n    </tr>\n    <tr>\n      <th>Indiana</th>\n      <td>6114745</td>\n      <td>6089950</td>\n      <td>6080485</td>\n    </tr>\n    <tr>\n      <th>Iowa</th>\n      <td>2923179</td>\n      <td>2927509</td>\n      <td>2926324</td>\n    </tr>\n    <tr>\n      <th>Kansas</th>\n      <td>2694641</td>\n      <td>2691750</td>\n      <td>2688418</td>\n    </tr>\n    <tr>\n      <th>Kentucky</th>\n      <td>4065556</td>\n      <td>4047424</td>\n      <td>4041769</td>\n    </tr>\n    <tr>\n      <th>Louisiana</th>\n      <td>4465430</td>\n      <td>4469970</td>\n      <td>4468976</td>\n    </tr>\n    <tr>\n      <th>Maine</th>\n      <td>1286670</td>\n      <td>1276961</td>\n      <td>1274923</td>\n    </tr>\n    <tr>\n      <th>Maryland</th>\n      <td>5375156</td>\n      <td>5310908</td>\n      <td>5296486</td>\n    </tr>\n    <tr>\n      <th>Massachusetts</th>\n      <td>6379304</td>\n      <td>6357072</td>\n      <td>6349097</td>\n    </tr>\n    <tr>\n      <th>Michigan</th>\n      <td>9990817</td>\n      <td>9952006</td>\n      <td>9938444</td>\n    </tr>\n    <tr>\n      <th>Minnesota</th>\n      <td>4972294</td>\n      <td>4931093</td>\n      <td>4919479</td>\n    </tr>\n    <tr>\n      <th>Mississippi</th>\n      <td>2858029</td>\n      <td>2849100</td>\n      <td>2844658</td>\n    </tr>\n    <tr>\n      <th>Missouri</th>\n      <td>5629707</td>\n      <td>5603553</td>\n      <td>5595211</td>\n    </tr>\n    <tr>\n      <th>Montana</th>\n      <td>904433</td>\n      <td>903157</td>\n      <td>902195</td>\n    </tr>\n    <tr>\n      <th>Nebraska</th>\n      <td>1713235</td>\n      <td>1712577</td>\n      <td>1711263</td>\n    </tr>\n    <tr>\n      <th>Nevada</th>\n      <td>2106074</td>\n      <td>2018723</td>\n      <td>1998257</td>\n    </tr>\n    <tr>\n      <th>New Hampshire</th>\n      <td>1259181</td>\n      <td>1239881</td>\n      <td>1235786</td>\n    </tr>\n    <tr>\n      <th>New Jersey</th>\n      <td>8484431</td>\n      <td>8429007</td>\n      <td>8414350</td>\n    </tr>\n    <tr>\n      <th>New Mexico</th>\n      <td>1829146</td>\n      <td>1821282</td>\n      <td>1819046</td>\n    </tr>\n    <tr>\n      <th>New York</th>\n      <td>19011378</td>\n      <td>18989332</td>\n      <td>18976457</td>\n    </tr>\n    <tr>\n      <th>North Carolina</th>\n      <td>8186268</td>\n      <td>8077367</td>\n      <td>8049313</td>\n    </tr>\n    <tr>\n      <th>North Dakota</th>\n      <td>634448</td>\n      <td>640919</td>\n      <td>642200</td>\n    </tr>\n    <tr>\n      <th>Ohio</th>\n      <td>11373541</td>\n      <td>11359955</td>\n      <td>11353140</td>\n    </tr>\n    <tr>\n      <th>Oklahoma</th>\n      <td>3460097</td>\n      <td>3453250</td>\n      <td>3450654</td>\n    </tr>\n    <tr>\n      <th>Oregon</th>\n      <td>3472867</td>\n      <td>3429293</td>\n      <td>3421399</td>\n    </tr>\n    <tr>\n      <th>Pennsylvania</th>\n      <td>12287150</td>\n      <td>12282591</td>\n      <td>12281054</td>\n    </tr>\n    <tr>\n      <th>Rhode Island</th>\n      <td>1058920</td>\n      <td>1050236</td>\n      <td>1048319</td>\n    </tr>\n    <tr>\n      <th>South Carolina</th>\n      <td>4063011</td>\n      <td>4023438</td>\n      <td>4012012</td>\n    </tr>\n    <tr>\n      <th>South Dakota</th>\n      <td>756600</td>\n      <td>755509</td>\n      <td>754844</td>\n    </tr>\n    <tr>\n      <th>Tennessee</th>\n      <td>5740021</td>\n      <td>5702027</td>\n      <td>5689283</td>\n    </tr>\n    <tr>\n      <th>Texas</th>\n      <td>21325018</td>\n      <td>20946503</td>\n      <td>20851820</td>\n    </tr>\n    <tr>\n      <th>Utah</th>\n      <td>2269789</td>\n      <td>2241555</td>\n      <td>2233169</td>\n    </tr>\n    <tr>\n      <th>Vermont</th>\n      <td>613090</td>\n      <td>609709</td>\n      <td>608827</td>\n    </tr>\n    <tr>\n      <th>Virginia</th>\n      <td>7187734</td>\n      <td>7104016</td>\n      <td>7078515</td>\n    </tr>\n    <tr>\n      <th>Washington</th>\n      <td>5987973</td>\n      <td>5908372</td>\n      <td>5894121</td>\n    </tr>\n    <tr>\n      <th>West Virginia</th>\n      <td>1801916</td>\n      <td>1807099</td>\n      <td>1808344</td>\n    </tr>\n    <tr>\n      <th>Wisconsin</th>\n      <td>5401906</td>\n      <td>5372243</td>\n      <td>5363675</td>\n    </tr>\n    <tr>\n      <th>Wyoming</th>\n      <td>494423</td>\n      <td>494001</td>\n      <td>493782</td>\n    </tr>\n  </tbody>\n</table>\n</div>"
     },
     "execution_count": 51,
     "metadata": {},
     "output_type": "execute_result"
    }
   ],
   "source": [
    "data = df.set_index('Geographic Area')\n",
    "data"
   ],
   "metadata": {
    "collapsed": false,
    "ExecuteTime": {
     "end_time": "2023-11-13T10:33:57.671883800Z",
     "start_time": "2023-11-13T10:33:57.550791100Z"
    }
   }
  },
  {
   "cell_type": "code",
   "execution_count": 53,
   "outputs": [
    {
     "data": {
      "text/plain": "Geographic Area\nUnited States           True\nAlabama                 True\nAlaska                  True\nArizona                 True\nArkansas                True\nCalifornia              True\nColorado                True\nConnecticut             True\nDelaware                True\nDistrict of Columbia    True\nFlorida                 True\nGeorgia                 True\nHawaii                  True\nIdaho                   True\nIllinois                True\nIndiana                 True\nIowa                    True\nKansas                  True\nKentucky                True\nLouisiana               True\nMaine                   True\nMaryland                True\nMassachusetts           True\nMichigan                True\nMinnesota               True\nMississippi             True\nMissouri                True\nMontana                 True\nNebraska                True\nNevada                  True\nNew Hampshire           True\nNew Jersey              True\nNew Mexico              True\nNew York                True\nNorth Carolina          True\nNorth Dakota            True\nOhio                    True\nOklahoma                True\nOregon                  True\nPennsylvania            True\nRhode Island            True\nSouth Carolina          True\nSouth Dakota            True\nTennessee               True\nTexas                   True\nUtah                    True\nVermont                 True\nVirginia                True\nWashington              True\nWest Virginia           True\nWisconsin               True\nWyoming                 True\nName: July 1, 2001 Estimate, dtype: bool"
     },
     "execution_count": 53,
     "metadata": {},
     "output_type": "execute_result"
    }
   ],
   "source": [
    "mask = data['July 1, 2001 Estimate'] < 300_000_000\n",
    "mask"
   ],
   "metadata": {
    "collapsed": false,
    "ExecuteTime": {
     "end_time": "2023-11-13T10:34:59.033326Z",
     "start_time": "2023-11-13T10:34:58.969328100Z"
    }
   }
  },
  {
   "cell_type": "code",
   "execution_count": 56,
   "outputs": [
    {
     "data": {
      "text/plain": "Geographic Area\nUnited States           False\nAlabama                 False\nAlaska                   True\nArizona                 False\nArkansas                 True\nCalifornia              False\nColorado                False\nConnecticut             False\nDelaware                 True\nDistrict of Columbia     True\nFlorida                 False\nGeorgia                 False\nHawaii                   True\nIdaho                    True\nIllinois                False\nIndiana                 False\nIowa                     True\nKansas                   True\nKentucky                False\nLouisiana               False\nMaine                    True\nMaryland                False\nMassachusetts           False\nMichigan                False\nMinnesota               False\nMississippi              True\nMissouri                False\nMontana                  True\nNebraska                 True\nNevada                   True\nNew Hampshire            True\nNew Jersey              False\nNew Mexico               True\nNew York                False\nNorth Carolina          False\nNorth Dakota             True\nOhio                    False\nOklahoma                False\nOregon                  False\nPennsylvania            False\nRhode Island             True\nSouth Carolina          False\nSouth Dakota             True\nTennessee               False\nTexas                   False\nUtah                     True\nVermont                  True\nVirginia                False\nWashington              False\nWest Virginia            True\nWisconsin               False\nWyoming                  True\nName: July 1, 2001 Estimate, dtype: bool"
     },
     "execution_count": 56,
     "metadata": {},
     "output_type": "execute_result"
    }
   ],
   "source": [
    "data.iloc[:, 0] < 3_000_000"
   ],
   "metadata": {
    "collapsed": false,
    "ExecuteTime": {
     "end_time": "2023-11-13T10:36:28.008203700Z",
     "start_time": "2023-11-13T10:36:27.949202300Z"
    }
   }
  },
  {
   "cell_type": "code",
   "execution_count": 57,
   "outputs": [
    {
     "data": {
      "text/plain": "                      July 1, 2001 Estimate  July 1, 2000 Estimate  \\\nGeographic Area                                                      \nUnited States                     284796887              282124631   \nAlabama                             4464356                4451493   \nAlaska                               634892                 627601   \nArizona                             5307331                5165274   \nArkansas                            2692090                2678030   \nCalifornia                         34501130               34000446   \nColorado                            4417714                4323410   \nConnecticut                         3425074                3410079   \nDelaware                             796165                 786234   \nDistrict of Columbia                 571822                 571066   \nFlorida                            16396515               16054328   \nGeorgia                             8383915                8229823   \nHawaii                              1224398                1212281   \nIdaho                               1321006                1299258   \nIllinois                           12482301               12435970   \nIndiana                             6114745                6089950   \nIowa                                2923179                2927509   \nKansas                              2694641                2691750   \nKentucky                            4065556                4047424   \nLouisiana                           4465430                4469970   \nMaine                               1286670                1276961   \nMaryland                            5375156                5310908   \nMassachusetts                       6379304                6357072   \nMichigan                            9990817                9952006   \nMinnesota                           4972294                4931093   \nMississippi                         2858029                2849100   \nMissouri                            5629707                5603553   \nMontana                              904433                 903157   \nNebraska                            1713235                1712577   \nNevada                              2106074                2018723   \nNew Hampshire                       1259181                1239881   \nNew Jersey                          8484431                8429007   \nNew Mexico                          1829146                1821282   \nNew York                           19011378               18989332   \nNorth Carolina                      8186268                8077367   \nNorth Dakota                         634448                 640919   \nOhio                               11373541               11359955   \nOklahoma                            3460097                3453250   \nOregon                              3472867                3429293   \nPennsylvania                       12287150               12282591   \nRhode Island                        1058920                1050236   \nSouth Carolina                      4063011                4023438   \nSouth Dakota                         756600                 755509   \nTennessee                           5740021                5702027   \nTexas                              21325018               20946503   \nUtah                                2269789                2241555   \nVermont                              613090                 609709   \nVirginia                            7187734                7104016   \nWashington                          5987973                5908372   \nWest Virginia                       1801916                1807099   \nWisconsin                           5401906                5372243   \nWyoming                              494423                 494001   \n\n                      April 1, 2000 Population Estimates Base  \nGeographic Area                                                \nUnited States                                       281421906  \nAlabama                                               4447100  \nAlaska                                                 626932  \nArizona                                               5130632  \nArkansas                                              2673400  \nCalifornia                                           33871648  \nColorado                                              4301261  \nConnecticut                                           3405565  \nDelaware                                               783600  \nDistrict of Columbia                                   572059  \nFlorida                                              15982378  \nGeorgia                                               8186453  \nHawaii                                                1211537  \nIdaho                                                 1293953  \nIllinois                                             12419293  \nIndiana                                               6080485  \nIowa                                                  2926324  \nKansas                                                2688418  \nKentucky                                              4041769  \nLouisiana                                             4468976  \nMaine                                                 1274923  \nMaryland                                              5296486  \nMassachusetts                                         6349097  \nMichigan                                              9938444  \nMinnesota                                             4919479  \nMississippi                                           2844658  \nMissouri                                              5595211  \nMontana                                                902195  \nNebraska                                              1711263  \nNevada                                                1998257  \nNew Hampshire                                         1235786  \nNew Jersey                                            8414350  \nNew Mexico                                            1819046  \nNew York                                             18976457  \nNorth Carolina                                        8049313  \nNorth Dakota                                           642200  \nOhio                                                 11353140  \nOklahoma                                              3450654  \nOregon                                                3421399  \nPennsylvania                                         12281054  \nRhode Island                                          1048319  \nSouth Carolina                                        4012012  \nSouth Dakota                                           754844  \nTennessee                                             5689283  \nTexas                                                20851820  \nUtah                                                  2233169  \nVermont                                                608827  \nVirginia                                              7078515  \nWashington                                            5894121  \nWest Virginia                                         1808344  \nWisconsin                                             5363675  \nWyoming                                                493782  ",
      "text/html": "<div>\n<style scoped>\n    .dataframe tbody tr th:only-of-type {\n        vertical-align: middle;\n    }\n\n    .dataframe tbody tr th {\n        vertical-align: top;\n    }\n\n    .dataframe thead th {\n        text-align: right;\n    }\n</style>\n<table border=\"1\" class=\"dataframe\">\n  <thead>\n    <tr style=\"text-align: right;\">\n      <th></th>\n      <th>July 1, 2001 Estimate</th>\n      <th>July 1, 2000 Estimate</th>\n      <th>April 1, 2000 Population Estimates Base</th>\n    </tr>\n    <tr>\n      <th>Geographic Area</th>\n      <th></th>\n      <th></th>\n      <th></th>\n    </tr>\n  </thead>\n  <tbody>\n    <tr>\n      <th>United States</th>\n      <td>284796887</td>\n      <td>282124631</td>\n      <td>281421906</td>\n    </tr>\n    <tr>\n      <th>Alabama</th>\n      <td>4464356</td>\n      <td>4451493</td>\n      <td>4447100</td>\n    </tr>\n    <tr>\n      <th>Alaska</th>\n      <td>634892</td>\n      <td>627601</td>\n      <td>626932</td>\n    </tr>\n    <tr>\n      <th>Arizona</th>\n      <td>5307331</td>\n      <td>5165274</td>\n      <td>5130632</td>\n    </tr>\n    <tr>\n      <th>Arkansas</th>\n      <td>2692090</td>\n      <td>2678030</td>\n      <td>2673400</td>\n    </tr>\n    <tr>\n      <th>California</th>\n      <td>34501130</td>\n      <td>34000446</td>\n      <td>33871648</td>\n    </tr>\n    <tr>\n      <th>Colorado</th>\n      <td>4417714</td>\n      <td>4323410</td>\n      <td>4301261</td>\n    </tr>\n    <tr>\n      <th>Connecticut</th>\n      <td>3425074</td>\n      <td>3410079</td>\n      <td>3405565</td>\n    </tr>\n    <tr>\n      <th>Delaware</th>\n      <td>796165</td>\n      <td>786234</td>\n      <td>783600</td>\n    </tr>\n    <tr>\n      <th>District of Columbia</th>\n      <td>571822</td>\n      <td>571066</td>\n      <td>572059</td>\n    </tr>\n    <tr>\n      <th>Florida</th>\n      <td>16396515</td>\n      <td>16054328</td>\n      <td>15982378</td>\n    </tr>\n    <tr>\n      <th>Georgia</th>\n      <td>8383915</td>\n      <td>8229823</td>\n      <td>8186453</td>\n    </tr>\n    <tr>\n      <th>Hawaii</th>\n      <td>1224398</td>\n      <td>1212281</td>\n      <td>1211537</td>\n    </tr>\n    <tr>\n      <th>Idaho</th>\n      <td>1321006</td>\n      <td>1299258</td>\n      <td>1293953</td>\n    </tr>\n    <tr>\n      <th>Illinois</th>\n      <td>12482301</td>\n      <td>12435970</td>\n      <td>12419293</td>\n    </tr>\n    <tr>\n      <th>Indiana</th>\n      <td>6114745</td>\n      <td>6089950</td>\n      <td>6080485</td>\n    </tr>\n    <tr>\n      <th>Iowa</th>\n      <td>2923179</td>\n      <td>2927509</td>\n      <td>2926324</td>\n    </tr>\n    <tr>\n      <th>Kansas</th>\n      <td>2694641</td>\n      <td>2691750</td>\n      <td>2688418</td>\n    </tr>\n    <tr>\n      <th>Kentucky</th>\n      <td>4065556</td>\n      <td>4047424</td>\n      <td>4041769</td>\n    </tr>\n    <tr>\n      <th>Louisiana</th>\n      <td>4465430</td>\n      <td>4469970</td>\n      <td>4468976</td>\n    </tr>\n    <tr>\n      <th>Maine</th>\n      <td>1286670</td>\n      <td>1276961</td>\n      <td>1274923</td>\n    </tr>\n    <tr>\n      <th>Maryland</th>\n      <td>5375156</td>\n      <td>5310908</td>\n      <td>5296486</td>\n    </tr>\n    <tr>\n      <th>Massachusetts</th>\n      <td>6379304</td>\n      <td>6357072</td>\n      <td>6349097</td>\n    </tr>\n    <tr>\n      <th>Michigan</th>\n      <td>9990817</td>\n      <td>9952006</td>\n      <td>9938444</td>\n    </tr>\n    <tr>\n      <th>Minnesota</th>\n      <td>4972294</td>\n      <td>4931093</td>\n      <td>4919479</td>\n    </tr>\n    <tr>\n      <th>Mississippi</th>\n      <td>2858029</td>\n      <td>2849100</td>\n      <td>2844658</td>\n    </tr>\n    <tr>\n      <th>Missouri</th>\n      <td>5629707</td>\n      <td>5603553</td>\n      <td>5595211</td>\n    </tr>\n    <tr>\n      <th>Montana</th>\n      <td>904433</td>\n      <td>903157</td>\n      <td>902195</td>\n    </tr>\n    <tr>\n      <th>Nebraska</th>\n      <td>1713235</td>\n      <td>1712577</td>\n      <td>1711263</td>\n    </tr>\n    <tr>\n      <th>Nevada</th>\n      <td>2106074</td>\n      <td>2018723</td>\n      <td>1998257</td>\n    </tr>\n    <tr>\n      <th>New Hampshire</th>\n      <td>1259181</td>\n      <td>1239881</td>\n      <td>1235786</td>\n    </tr>\n    <tr>\n      <th>New Jersey</th>\n      <td>8484431</td>\n      <td>8429007</td>\n      <td>8414350</td>\n    </tr>\n    <tr>\n      <th>New Mexico</th>\n      <td>1829146</td>\n      <td>1821282</td>\n      <td>1819046</td>\n    </tr>\n    <tr>\n      <th>New York</th>\n      <td>19011378</td>\n      <td>18989332</td>\n      <td>18976457</td>\n    </tr>\n    <tr>\n      <th>North Carolina</th>\n      <td>8186268</td>\n      <td>8077367</td>\n      <td>8049313</td>\n    </tr>\n    <tr>\n      <th>North Dakota</th>\n      <td>634448</td>\n      <td>640919</td>\n      <td>642200</td>\n    </tr>\n    <tr>\n      <th>Ohio</th>\n      <td>11373541</td>\n      <td>11359955</td>\n      <td>11353140</td>\n    </tr>\n    <tr>\n      <th>Oklahoma</th>\n      <td>3460097</td>\n      <td>3453250</td>\n      <td>3450654</td>\n    </tr>\n    <tr>\n      <th>Oregon</th>\n      <td>3472867</td>\n      <td>3429293</td>\n      <td>3421399</td>\n    </tr>\n    <tr>\n      <th>Pennsylvania</th>\n      <td>12287150</td>\n      <td>12282591</td>\n      <td>12281054</td>\n    </tr>\n    <tr>\n      <th>Rhode Island</th>\n      <td>1058920</td>\n      <td>1050236</td>\n      <td>1048319</td>\n    </tr>\n    <tr>\n      <th>South Carolina</th>\n      <td>4063011</td>\n      <td>4023438</td>\n      <td>4012012</td>\n    </tr>\n    <tr>\n      <th>South Dakota</th>\n      <td>756600</td>\n      <td>755509</td>\n      <td>754844</td>\n    </tr>\n    <tr>\n      <th>Tennessee</th>\n      <td>5740021</td>\n      <td>5702027</td>\n      <td>5689283</td>\n    </tr>\n    <tr>\n      <th>Texas</th>\n      <td>21325018</td>\n      <td>20946503</td>\n      <td>20851820</td>\n    </tr>\n    <tr>\n      <th>Utah</th>\n      <td>2269789</td>\n      <td>2241555</td>\n      <td>2233169</td>\n    </tr>\n    <tr>\n      <th>Vermont</th>\n      <td>613090</td>\n      <td>609709</td>\n      <td>608827</td>\n    </tr>\n    <tr>\n      <th>Virginia</th>\n      <td>7187734</td>\n      <td>7104016</td>\n      <td>7078515</td>\n    </tr>\n    <tr>\n      <th>Washington</th>\n      <td>5987973</td>\n      <td>5908372</td>\n      <td>5894121</td>\n    </tr>\n    <tr>\n      <th>West Virginia</th>\n      <td>1801916</td>\n      <td>1807099</td>\n      <td>1808344</td>\n    </tr>\n    <tr>\n      <th>Wisconsin</th>\n      <td>5401906</td>\n      <td>5372243</td>\n      <td>5363675</td>\n    </tr>\n    <tr>\n      <th>Wyoming</th>\n      <td>494423</td>\n      <td>494001</td>\n      <td>493782</td>\n    </tr>\n  </tbody>\n</table>\n</div>"
     },
     "execution_count": 57,
     "metadata": {},
     "output_type": "execute_result"
    }
   ],
   "source": [
    "data[mask]"
   ],
   "metadata": {
    "collapsed": false,
    "ExecuteTime": {
     "end_time": "2023-11-13T10:36:59.833992Z",
     "start_time": "2023-11-13T10:36:59.743995Z"
    }
   }
  },
  {
   "cell_type": "code",
   "execution_count": 58,
   "outputs": [],
   "source": [
    "s = pd.Series([10, 20, 30, 40], index=['Z', 'y', 'x', 'w'])"
   ],
   "metadata": {
    "collapsed": false,
    "ExecuteTime": {
     "end_time": "2023-11-13T10:38:52.000828400Z",
     "start_time": "2023-11-13T10:38:51.883825500Z"
    }
   }
  },
  {
   "cell_type": "code",
   "execution_count": 59,
   "outputs": [
    {
     "data": {
      "text/plain": "Z    10\ny    20\nx    30\nw    40\ndtype: int64"
     },
     "execution_count": 59,
     "metadata": {},
     "output_type": "execute_result"
    }
   ],
   "source": [
    "s"
   ],
   "metadata": {
    "collapsed": false,
    "ExecuteTime": {
     "end_time": "2023-11-13T10:38:58.039786600Z",
     "start_time": "2023-11-13T10:38:57.952778Z"
    }
   }
  },
  {
   "cell_type": "code",
   "execution_count": 60,
   "outputs": [
    {
     "data": {
      "text/plain": "Z    10\nw    40\nx    30\ny    20\ndtype: int64"
     },
     "execution_count": 60,
     "metadata": {},
     "output_type": "execute_result"
    }
   ],
   "source": [
    "s.sort_index()"
   ],
   "metadata": {
    "collapsed": false,
    "ExecuteTime": {
     "end_time": "2023-11-13T10:39:21.219742900Z",
     "start_time": "2023-11-13T10:39:21.067742800Z"
    }
   }
  },
  {
   "cell_type": "code",
   "execution_count": 63,
   "outputs": [
    {
     "data": {
      "text/plain": "Z    10\nw    40\nx    30\ny    20\ndtype: int64"
     },
     "execution_count": 63,
     "metadata": {},
     "output_type": "execute_result"
    }
   ],
   "source": [
    "s.sort_index()"
   ],
   "metadata": {
    "collapsed": false,
    "ExecuteTime": {
     "end_time": "2023-11-13T10:40:07.427146600Z",
     "start_time": "2023-11-13T10:40:07.341146700Z"
    }
   }
  },
  {
   "cell_type": "code",
   "execution_count": 64,
   "outputs": [
    {
     "data": {
      "text/plain": "Index(['Z', 'y', 'x', 'w'], dtype='object')"
     },
     "execution_count": 64,
     "metadata": {},
     "output_type": "execute_result"
    }
   ],
   "source": [
    "s.index"
   ],
   "metadata": {
    "collapsed": false,
    "ExecuteTime": {
     "end_time": "2023-11-13T10:40:51.403295100Z",
     "start_time": "2023-11-13T10:40:51.292293900Z"
    }
   }
  },
  {
   "cell_type": "code",
   "execution_count": 65,
   "outputs": [
    {
     "data": {
      "text/plain": "Index(['z', 'y', 'x', 'w'], dtype='object')"
     },
     "execution_count": 65,
     "metadata": {},
     "output_type": "execute_result"
    }
   ],
   "source": [
    "s.index.str.casefold()"
   ],
   "metadata": {
    "collapsed": false,
    "ExecuteTime": {
     "end_time": "2023-11-13T10:41:22.400174800Z",
     "start_time": "2023-11-13T10:41:22.287636600Z"
    }
   }
  },
  {
   "cell_type": "code",
   "execution_count": 66,
   "outputs": [
    {
     "data": {
      "text/plain": "Z    10\ny    20\nx    30\nw    40\ndtype: int64"
     },
     "execution_count": 66,
     "metadata": {},
     "output_type": "execute_result"
    }
   ],
   "source": [
    "s"
   ],
   "metadata": {
    "collapsed": false,
    "ExecuteTime": {
     "end_time": "2023-11-13T10:41:27.092438900Z",
     "start_time": "2023-11-13T10:41:26.978437400Z"
    }
   }
  },
  {
   "cell_type": "code",
   "execution_count": 67,
   "outputs": [
    {
     "data": {
      "text/plain": "Int64Index([1, 1, 1, 1], dtype='int64')"
     },
     "execution_count": 67,
     "metadata": {},
     "output_type": "execute_result"
    }
   ],
   "source": [
    "s.index.str.len()"
   ],
   "metadata": {
    "collapsed": false,
    "ExecuteTime": {
     "end_time": "2023-11-13T10:42:11.510947100Z",
     "start_time": "2023-11-13T10:42:11.425872600Z"
    }
   }
  },
  {
   "cell_type": "code",
   "execution_count": 68,
   "outputs": [
    {
     "data": {
      "text/plain": "w    40\nx    30\ny    20\nZ    10\ndtype: int64"
     },
     "execution_count": 68,
     "metadata": {},
     "output_type": "execute_result"
    }
   ],
   "source": [
    "s.sort_index(key=lambda ind: ind.str.casefold())"
   ],
   "metadata": {
    "collapsed": false,
    "ExecuteTime": {
     "end_time": "2023-11-13T10:43:50.572538600Z",
     "start_time": "2023-11-13T10:43:50.481423100Z"
    }
   }
  },
  {
   "cell_type": "code",
   "execution_count": 72,
   "outputs": [],
   "source": [
    "s = pd.Series(list('abcdef'), index=[-1, -3, -5, 0, 2, 4])"
   ],
   "metadata": {
    "collapsed": false,
    "ExecuteTime": {
     "end_time": "2023-11-13T10:46:53.187292Z",
     "start_time": "2023-11-13T10:46:53.131293700Z"
    }
   }
  },
  {
   "cell_type": "code",
   "execution_count": 73,
   "outputs": [
    {
     "data": {
      "text/plain": "-1    a\n-3    b\n-5    c\n 0    d\n 2    e\n 4    f\ndtype: object"
     },
     "execution_count": 73,
     "metadata": {},
     "output_type": "execute_result"
    }
   ],
   "source": [
    "s"
   ],
   "metadata": {
    "collapsed": false,
    "ExecuteTime": {
     "end_time": "2023-11-13T10:46:54.501386100Z",
     "start_time": "2023-11-13T10:46:54.434273400Z"
    }
   }
  },
  {
   "cell_type": "code",
   "execution_count": 75,
   "outputs": [
    {
     "data": {
      "text/plain": "                 July 1, 2001 Estimate  July 1, 2000 Estimate  \\\nGeographic Area                                                 \nUnited States                284796887              282124631   \nAlabama                        4464356                4451493   \nAlaska                          634892                 627601   \nArizona                        5307331                5165274   \nArkansas                       2692090                2678030   \n\n                 April 1, 2000 Population Estimates Base  \nGeographic Area                                           \nUnited States                                  281421906  \nAlabama                                          4447100  \nAlaska                                            626932  \nArizona                                          5130632  \nArkansas                                         2673400  ",
      "text/html": "<div>\n<style scoped>\n    .dataframe tbody tr th:only-of-type {\n        vertical-align: middle;\n    }\n\n    .dataframe tbody tr th {\n        vertical-align: top;\n    }\n\n    .dataframe thead th {\n        text-align: right;\n    }\n</style>\n<table border=\"1\" class=\"dataframe\">\n  <thead>\n    <tr style=\"text-align: right;\">\n      <th></th>\n      <th>July 1, 2001 Estimate</th>\n      <th>July 1, 2000 Estimate</th>\n      <th>April 1, 2000 Population Estimates Base</th>\n    </tr>\n    <tr>\n      <th>Geographic Area</th>\n      <th></th>\n      <th></th>\n      <th></th>\n    </tr>\n  </thead>\n  <tbody>\n    <tr>\n      <th>United States</th>\n      <td>284796887</td>\n      <td>282124631</td>\n      <td>281421906</td>\n    </tr>\n    <tr>\n      <th>Alabama</th>\n      <td>4464356</td>\n      <td>4451493</td>\n      <td>4447100</td>\n    </tr>\n    <tr>\n      <th>Alaska</th>\n      <td>634892</td>\n      <td>627601</td>\n      <td>626932</td>\n    </tr>\n    <tr>\n      <th>Arizona</th>\n      <td>5307331</td>\n      <td>5165274</td>\n      <td>5130632</td>\n    </tr>\n    <tr>\n      <th>Arkansas</th>\n      <td>2692090</td>\n      <td>2678030</td>\n      <td>2673400</td>\n    </tr>\n  </tbody>\n</table>\n</div>"
     },
     "execution_count": 75,
     "metadata": {},
     "output_type": "execute_result"
    }
   ],
   "source": [
    "data[:5]"
   ],
   "metadata": {
    "collapsed": false,
    "ExecuteTime": {
     "end_time": "2023-11-13T10:47:45.733598Z",
     "start_time": "2023-11-13T10:47:45.640633400Z"
    }
   }
  },
  {
   "cell_type": "code",
   "execution_count": 76,
   "outputs": [
    {
     "data": {
      "text/plain": "                      July 1, 2001 Estimate  July 1, 2000 Estimate  \\\nGeographic Area                                                      \nAlabama                             4464356                4451493   \nAlaska                               634892                 627601   \nArizona                             5307331                5165274   \nArkansas                            2692090                2678030   \nCalifornia                         34501130               34000446   \nColorado                            4417714                4323410   \nConnecticut                         3425074                3410079   \nDelaware                             796165                 786234   \nDistrict of Columbia                 571822                 571066   \nFlorida                            16396515               16054328   \nGeorgia                             8383915                8229823   \nHawaii                              1224398                1212281   \nIdaho                               1321006                1299258   \nIllinois                           12482301               12435970   \nIndiana                             6114745                6089950   \nIowa                                2923179                2927509   \nKansas                              2694641                2691750   \nKentucky                            4065556                4047424   \nLouisiana                           4465430                4469970   \nMaine                               1286670                1276961   \nMaryland                            5375156                5310908   \nMassachusetts                       6379304                6357072   \nMichigan                            9990817                9952006   \nMinnesota                           4972294                4931093   \nMississippi                         2858029                2849100   \nMissouri                            5629707                5603553   \nMontana                              904433                 903157   \nNebraska                            1713235                1712577   \nNevada                              2106074                2018723   \nNew Hampshire                       1259181                1239881   \nNew Jersey                          8484431                8429007   \nNew Mexico                          1829146                1821282   \nNew York                           19011378               18989332   \nNorth Carolina                      8186268                8077367   \nNorth Dakota                         634448                 640919   \nOhio                               11373541               11359955   \nOklahoma                            3460097                3453250   \nOregon                              3472867                3429293   \nPennsylvania                       12287150               12282591   \nRhode Island                        1058920                1050236   \nSouth Carolina                      4063011                4023438   \nSouth Dakota                         756600                 755509   \nTennessee                           5740021                5702027   \nTexas                              21325018               20946503   \nUnited States                     284796887              282124631   \nUtah                                2269789                2241555   \nVermont                              613090                 609709   \nVirginia                            7187734                7104016   \nWashington                          5987973                5908372   \nWest Virginia                       1801916                1807099   \nWisconsin                           5401906                5372243   \nWyoming                              494423                 494001   \n\n                      April 1, 2000 Population Estimates Base  \nGeographic Area                                                \nAlabama                                               4447100  \nAlaska                                                 626932  \nArizona                                               5130632  \nArkansas                                              2673400  \nCalifornia                                           33871648  \nColorado                                              4301261  \nConnecticut                                           3405565  \nDelaware                                               783600  \nDistrict of Columbia                                   572059  \nFlorida                                              15982378  \nGeorgia                                               8186453  \nHawaii                                                1211537  \nIdaho                                                 1293953  \nIllinois                                             12419293  \nIndiana                                               6080485  \nIowa                                                  2926324  \nKansas                                                2688418  \nKentucky                                              4041769  \nLouisiana                                             4468976  \nMaine                                                 1274923  \nMaryland                                              5296486  \nMassachusetts                                         6349097  \nMichigan                                              9938444  \nMinnesota                                             4919479  \nMississippi                                           2844658  \nMissouri                                              5595211  \nMontana                                                902195  \nNebraska                                              1711263  \nNevada                                                1998257  \nNew Hampshire                                         1235786  \nNew Jersey                                            8414350  \nNew Mexico                                            1819046  \nNew York                                             18976457  \nNorth Carolina                                        8049313  \nNorth Dakota                                           642200  \nOhio                                                 11353140  \nOklahoma                                              3450654  \nOregon                                                3421399  \nPennsylvania                                         12281054  \nRhode Island                                          1048319  \nSouth Carolina                                        4012012  \nSouth Dakota                                           754844  \nTennessee                                             5689283  \nTexas                                                20851820  \nUnited States                                       281421906  \nUtah                                                  2233169  \nVermont                                                608827  \nVirginia                                              7078515  \nWashington                                            5894121  \nWest Virginia                                         1808344  \nWisconsin                                             5363675  \nWyoming                                                493782  ",
      "text/html": "<div>\n<style scoped>\n    .dataframe tbody tr th:only-of-type {\n        vertical-align: middle;\n    }\n\n    .dataframe tbody tr th {\n        vertical-align: top;\n    }\n\n    .dataframe thead th {\n        text-align: right;\n    }\n</style>\n<table border=\"1\" class=\"dataframe\">\n  <thead>\n    <tr style=\"text-align: right;\">\n      <th></th>\n      <th>July 1, 2001 Estimate</th>\n      <th>July 1, 2000 Estimate</th>\n      <th>April 1, 2000 Population Estimates Base</th>\n    </tr>\n    <tr>\n      <th>Geographic Area</th>\n      <th></th>\n      <th></th>\n      <th></th>\n    </tr>\n  </thead>\n  <tbody>\n    <tr>\n      <th>Alabama</th>\n      <td>4464356</td>\n      <td>4451493</td>\n      <td>4447100</td>\n    </tr>\n    <tr>\n      <th>Alaska</th>\n      <td>634892</td>\n      <td>627601</td>\n      <td>626932</td>\n    </tr>\n    <tr>\n      <th>Arizona</th>\n      <td>5307331</td>\n      <td>5165274</td>\n      <td>5130632</td>\n    </tr>\n    <tr>\n      <th>Arkansas</th>\n      <td>2692090</td>\n      <td>2678030</td>\n      <td>2673400</td>\n    </tr>\n    <tr>\n      <th>California</th>\n      <td>34501130</td>\n      <td>34000446</td>\n      <td>33871648</td>\n    </tr>\n    <tr>\n      <th>Colorado</th>\n      <td>4417714</td>\n      <td>4323410</td>\n      <td>4301261</td>\n    </tr>\n    <tr>\n      <th>Connecticut</th>\n      <td>3425074</td>\n      <td>3410079</td>\n      <td>3405565</td>\n    </tr>\n    <tr>\n      <th>Delaware</th>\n      <td>796165</td>\n      <td>786234</td>\n      <td>783600</td>\n    </tr>\n    <tr>\n      <th>District of Columbia</th>\n      <td>571822</td>\n      <td>571066</td>\n      <td>572059</td>\n    </tr>\n    <tr>\n      <th>Florida</th>\n      <td>16396515</td>\n      <td>16054328</td>\n      <td>15982378</td>\n    </tr>\n    <tr>\n      <th>Georgia</th>\n      <td>8383915</td>\n      <td>8229823</td>\n      <td>8186453</td>\n    </tr>\n    <tr>\n      <th>Hawaii</th>\n      <td>1224398</td>\n      <td>1212281</td>\n      <td>1211537</td>\n    </tr>\n    <tr>\n      <th>Idaho</th>\n      <td>1321006</td>\n      <td>1299258</td>\n      <td>1293953</td>\n    </tr>\n    <tr>\n      <th>Illinois</th>\n      <td>12482301</td>\n      <td>12435970</td>\n      <td>12419293</td>\n    </tr>\n    <tr>\n      <th>Indiana</th>\n      <td>6114745</td>\n      <td>6089950</td>\n      <td>6080485</td>\n    </tr>\n    <tr>\n      <th>Iowa</th>\n      <td>2923179</td>\n      <td>2927509</td>\n      <td>2926324</td>\n    </tr>\n    <tr>\n      <th>Kansas</th>\n      <td>2694641</td>\n      <td>2691750</td>\n      <td>2688418</td>\n    </tr>\n    <tr>\n      <th>Kentucky</th>\n      <td>4065556</td>\n      <td>4047424</td>\n      <td>4041769</td>\n    </tr>\n    <tr>\n      <th>Louisiana</th>\n      <td>4465430</td>\n      <td>4469970</td>\n      <td>4468976</td>\n    </tr>\n    <tr>\n      <th>Maine</th>\n      <td>1286670</td>\n      <td>1276961</td>\n      <td>1274923</td>\n    </tr>\n    <tr>\n      <th>Maryland</th>\n      <td>5375156</td>\n      <td>5310908</td>\n      <td>5296486</td>\n    </tr>\n    <tr>\n      <th>Massachusetts</th>\n      <td>6379304</td>\n      <td>6357072</td>\n      <td>6349097</td>\n    </tr>\n    <tr>\n      <th>Michigan</th>\n      <td>9990817</td>\n      <td>9952006</td>\n      <td>9938444</td>\n    </tr>\n    <tr>\n      <th>Minnesota</th>\n      <td>4972294</td>\n      <td>4931093</td>\n      <td>4919479</td>\n    </tr>\n    <tr>\n      <th>Mississippi</th>\n      <td>2858029</td>\n      <td>2849100</td>\n      <td>2844658</td>\n    </tr>\n    <tr>\n      <th>Missouri</th>\n      <td>5629707</td>\n      <td>5603553</td>\n      <td>5595211</td>\n    </tr>\n    <tr>\n      <th>Montana</th>\n      <td>904433</td>\n      <td>903157</td>\n      <td>902195</td>\n    </tr>\n    <tr>\n      <th>Nebraska</th>\n      <td>1713235</td>\n      <td>1712577</td>\n      <td>1711263</td>\n    </tr>\n    <tr>\n      <th>Nevada</th>\n      <td>2106074</td>\n      <td>2018723</td>\n      <td>1998257</td>\n    </tr>\n    <tr>\n      <th>New Hampshire</th>\n      <td>1259181</td>\n      <td>1239881</td>\n      <td>1235786</td>\n    </tr>\n    <tr>\n      <th>New Jersey</th>\n      <td>8484431</td>\n      <td>8429007</td>\n      <td>8414350</td>\n    </tr>\n    <tr>\n      <th>New Mexico</th>\n      <td>1829146</td>\n      <td>1821282</td>\n      <td>1819046</td>\n    </tr>\n    <tr>\n      <th>New York</th>\n      <td>19011378</td>\n      <td>18989332</td>\n      <td>18976457</td>\n    </tr>\n    <tr>\n      <th>North Carolina</th>\n      <td>8186268</td>\n      <td>8077367</td>\n      <td>8049313</td>\n    </tr>\n    <tr>\n      <th>North Dakota</th>\n      <td>634448</td>\n      <td>640919</td>\n      <td>642200</td>\n    </tr>\n    <tr>\n      <th>Ohio</th>\n      <td>11373541</td>\n      <td>11359955</td>\n      <td>11353140</td>\n    </tr>\n    <tr>\n      <th>Oklahoma</th>\n      <td>3460097</td>\n      <td>3453250</td>\n      <td>3450654</td>\n    </tr>\n    <tr>\n      <th>Oregon</th>\n      <td>3472867</td>\n      <td>3429293</td>\n      <td>3421399</td>\n    </tr>\n    <tr>\n      <th>Pennsylvania</th>\n      <td>12287150</td>\n      <td>12282591</td>\n      <td>12281054</td>\n    </tr>\n    <tr>\n      <th>Rhode Island</th>\n      <td>1058920</td>\n      <td>1050236</td>\n      <td>1048319</td>\n    </tr>\n    <tr>\n      <th>South Carolina</th>\n      <td>4063011</td>\n      <td>4023438</td>\n      <td>4012012</td>\n    </tr>\n    <tr>\n      <th>South Dakota</th>\n      <td>756600</td>\n      <td>755509</td>\n      <td>754844</td>\n    </tr>\n    <tr>\n      <th>Tennessee</th>\n      <td>5740021</td>\n      <td>5702027</td>\n      <td>5689283</td>\n    </tr>\n    <tr>\n      <th>Texas</th>\n      <td>21325018</td>\n      <td>20946503</td>\n      <td>20851820</td>\n    </tr>\n    <tr>\n      <th>United States</th>\n      <td>284796887</td>\n      <td>282124631</td>\n      <td>281421906</td>\n    </tr>\n    <tr>\n      <th>Utah</th>\n      <td>2269789</td>\n      <td>2241555</td>\n      <td>2233169</td>\n    </tr>\n    <tr>\n      <th>Vermont</th>\n      <td>613090</td>\n      <td>609709</td>\n      <td>608827</td>\n    </tr>\n    <tr>\n      <th>Virginia</th>\n      <td>7187734</td>\n      <td>7104016</td>\n      <td>7078515</td>\n    </tr>\n    <tr>\n      <th>Washington</th>\n      <td>5987973</td>\n      <td>5908372</td>\n      <td>5894121</td>\n    </tr>\n    <tr>\n      <th>West Virginia</th>\n      <td>1801916</td>\n      <td>1807099</td>\n      <td>1808344</td>\n    </tr>\n    <tr>\n      <th>Wisconsin</th>\n      <td>5401906</td>\n      <td>5372243</td>\n      <td>5363675</td>\n    </tr>\n    <tr>\n      <th>Wyoming</th>\n      <td>494423</td>\n      <td>494001</td>\n      <td>493782</td>\n    </tr>\n  </tbody>\n</table>\n</div>"
     },
     "execution_count": 76,
     "metadata": {},
     "output_type": "execute_result"
    }
   ],
   "source": [
    "data.sort_index(key=lambda ind: ind.str.casefold())"
   ],
   "metadata": {
    "collapsed": false,
    "ExecuteTime": {
     "end_time": "2023-11-13T10:48:32.967586600Z",
     "start_time": "2023-11-13T10:48:32.840587Z"
    }
   }
  },
  {
   "cell_type": "code",
   "execution_count": 77,
   "outputs": [
    {
     "data": {
      "text/plain": "                      July 1, 2001 Estimate  July 1, 2000 Estimate  \\\nGeographic Area                                                      \nOhio                               11373541               11359955   \nUtah                                2269789                2241555   \nIowa                                2923179                2927509   \nTexas                              21325018               20946503   \nMaine                               1286670                1276961   \nIdaho                               1321006                1299258   \nOregon                              3472867                3429293   \nAlaska                               634892                 627601   \nNevada                              2106074                2018723   \nKansas                              2694641                2691750   \nHawaii                              1224398                1212281   \nMontana                              904433                 903157   \nVermont                              613090                 609709   \nIndiana                             6114745                6089950   \nWyoming                              494423                 494001   \nGeorgia                             8383915                8229823   \nFlorida                            16396515               16054328   \nAlabama                             4464356                4451493   \nArizona                             5307331                5165274   \nNew York                           19011378               18989332   \nArkansas                            2692090                2678030   \nNebraska                            1713235                1712577   \nColorado                            4417714                4323410   \nIllinois                           12482301               12435970   \nMissouri                            5629707                5603553   \nMichigan                            9990817                9952006   \nMaryland                            5375156                5310908   \nDelaware                             796165                 786234   \nOklahoma                            3460097                3453250   \nKentucky                            4065556                4047424   \nVirginia                            7187734                7104016   \nWisconsin                           5401906                5372243   \nTennessee                           5740021                5702027   \nMinnesota                           4972294                4931093   \nLouisiana                           4465430                4469970   \nWashington                          5987973                5908372   \nCalifornia                         34501130               34000446   \nNew Jersey                          8484431                8429007   \nNew Mexico                          1829146                1821282   \nMississippi                         2858029                2849100   \nConnecticut                         3425074                3410079   \nRhode Island                        1058920                1050236   \nSouth Dakota                         756600                 755509   \nNorth Dakota                         634448                 640919   \nPennsylvania                       12287150               12282591   \nNew Hampshire                       1259181                1239881   \nMassachusetts                       6379304                6357072   \nWest Virginia                       1801916                1807099   \nUnited States                     284796887              282124631   \nSouth Carolina                      4063011                4023438   \nNorth Carolina                      8186268                8077367   \nDistrict of Columbia                 571822                 571066   \n\n                      April 1, 2000 Population Estimates Base  \nGeographic Area                                                \nOhio                                                 11353140  \nUtah                                                  2233169  \nIowa                                                  2926324  \nTexas                                                20851820  \nMaine                                                 1274923  \nIdaho                                                 1293953  \nOregon                                                3421399  \nAlaska                                                 626932  \nNevada                                                1998257  \nKansas                                                2688418  \nHawaii                                                1211537  \nMontana                                                902195  \nVermont                                                608827  \nIndiana                                               6080485  \nWyoming                                                493782  \nGeorgia                                               8186453  \nFlorida                                              15982378  \nAlabama                                               4447100  \nArizona                                               5130632  \nNew York                                             18976457  \nArkansas                                              2673400  \nNebraska                                              1711263  \nColorado                                              4301261  \nIllinois                                             12419293  \nMissouri                                              5595211  \nMichigan                                              9938444  \nMaryland                                              5296486  \nDelaware                                               783600  \nOklahoma                                              3450654  \nKentucky                                              4041769  \nVirginia                                              7078515  \nWisconsin                                             5363675  \nTennessee                                             5689283  \nMinnesota                                             4919479  \nLouisiana                                             4468976  \nWashington                                            5894121  \nCalifornia                                           33871648  \nNew Jersey                                            8414350  \nNew Mexico                                            1819046  \nMississippi                                           2844658  \nConnecticut                                           3405565  \nRhode Island                                          1048319  \nSouth Dakota                                           754844  \nNorth Dakota                                           642200  \nPennsylvania                                         12281054  \nNew Hampshire                                         1235786  \nMassachusetts                                         6349097  \nWest Virginia                                         1808344  \nUnited States                                       281421906  \nSouth Carolina                                        4012012  \nNorth Carolina                                        8049313  \nDistrict of Columbia                                   572059  ",
      "text/html": "<div>\n<style scoped>\n    .dataframe tbody tr th:only-of-type {\n        vertical-align: middle;\n    }\n\n    .dataframe tbody tr th {\n        vertical-align: top;\n    }\n\n    .dataframe thead th {\n        text-align: right;\n    }\n</style>\n<table border=\"1\" class=\"dataframe\">\n  <thead>\n    <tr style=\"text-align: right;\">\n      <th></th>\n      <th>July 1, 2001 Estimate</th>\n      <th>July 1, 2000 Estimate</th>\n      <th>April 1, 2000 Population Estimates Base</th>\n    </tr>\n    <tr>\n      <th>Geographic Area</th>\n      <th></th>\n      <th></th>\n      <th></th>\n    </tr>\n  </thead>\n  <tbody>\n    <tr>\n      <th>Ohio</th>\n      <td>11373541</td>\n      <td>11359955</td>\n      <td>11353140</td>\n    </tr>\n    <tr>\n      <th>Utah</th>\n      <td>2269789</td>\n      <td>2241555</td>\n      <td>2233169</td>\n    </tr>\n    <tr>\n      <th>Iowa</th>\n      <td>2923179</td>\n      <td>2927509</td>\n      <td>2926324</td>\n    </tr>\n    <tr>\n      <th>Texas</th>\n      <td>21325018</td>\n      <td>20946503</td>\n      <td>20851820</td>\n    </tr>\n    <tr>\n      <th>Maine</th>\n      <td>1286670</td>\n      <td>1276961</td>\n      <td>1274923</td>\n    </tr>\n    <tr>\n      <th>Idaho</th>\n      <td>1321006</td>\n      <td>1299258</td>\n      <td>1293953</td>\n    </tr>\n    <tr>\n      <th>Oregon</th>\n      <td>3472867</td>\n      <td>3429293</td>\n      <td>3421399</td>\n    </tr>\n    <tr>\n      <th>Alaska</th>\n      <td>634892</td>\n      <td>627601</td>\n      <td>626932</td>\n    </tr>\n    <tr>\n      <th>Nevada</th>\n      <td>2106074</td>\n      <td>2018723</td>\n      <td>1998257</td>\n    </tr>\n    <tr>\n      <th>Kansas</th>\n      <td>2694641</td>\n      <td>2691750</td>\n      <td>2688418</td>\n    </tr>\n    <tr>\n      <th>Hawaii</th>\n      <td>1224398</td>\n      <td>1212281</td>\n      <td>1211537</td>\n    </tr>\n    <tr>\n      <th>Montana</th>\n      <td>904433</td>\n      <td>903157</td>\n      <td>902195</td>\n    </tr>\n    <tr>\n      <th>Vermont</th>\n      <td>613090</td>\n      <td>609709</td>\n      <td>608827</td>\n    </tr>\n    <tr>\n      <th>Indiana</th>\n      <td>6114745</td>\n      <td>6089950</td>\n      <td>6080485</td>\n    </tr>\n    <tr>\n      <th>Wyoming</th>\n      <td>494423</td>\n      <td>494001</td>\n      <td>493782</td>\n    </tr>\n    <tr>\n      <th>Georgia</th>\n      <td>8383915</td>\n      <td>8229823</td>\n      <td>8186453</td>\n    </tr>\n    <tr>\n      <th>Florida</th>\n      <td>16396515</td>\n      <td>16054328</td>\n      <td>15982378</td>\n    </tr>\n    <tr>\n      <th>Alabama</th>\n      <td>4464356</td>\n      <td>4451493</td>\n      <td>4447100</td>\n    </tr>\n    <tr>\n      <th>Arizona</th>\n      <td>5307331</td>\n      <td>5165274</td>\n      <td>5130632</td>\n    </tr>\n    <tr>\n      <th>New York</th>\n      <td>19011378</td>\n      <td>18989332</td>\n      <td>18976457</td>\n    </tr>\n    <tr>\n      <th>Arkansas</th>\n      <td>2692090</td>\n      <td>2678030</td>\n      <td>2673400</td>\n    </tr>\n    <tr>\n      <th>Nebraska</th>\n      <td>1713235</td>\n      <td>1712577</td>\n      <td>1711263</td>\n    </tr>\n    <tr>\n      <th>Colorado</th>\n      <td>4417714</td>\n      <td>4323410</td>\n      <td>4301261</td>\n    </tr>\n    <tr>\n      <th>Illinois</th>\n      <td>12482301</td>\n      <td>12435970</td>\n      <td>12419293</td>\n    </tr>\n    <tr>\n      <th>Missouri</th>\n      <td>5629707</td>\n      <td>5603553</td>\n      <td>5595211</td>\n    </tr>\n    <tr>\n      <th>Michigan</th>\n      <td>9990817</td>\n      <td>9952006</td>\n      <td>9938444</td>\n    </tr>\n    <tr>\n      <th>Maryland</th>\n      <td>5375156</td>\n      <td>5310908</td>\n      <td>5296486</td>\n    </tr>\n    <tr>\n      <th>Delaware</th>\n      <td>796165</td>\n      <td>786234</td>\n      <td>783600</td>\n    </tr>\n    <tr>\n      <th>Oklahoma</th>\n      <td>3460097</td>\n      <td>3453250</td>\n      <td>3450654</td>\n    </tr>\n    <tr>\n      <th>Kentucky</th>\n      <td>4065556</td>\n      <td>4047424</td>\n      <td>4041769</td>\n    </tr>\n    <tr>\n      <th>Virginia</th>\n      <td>7187734</td>\n      <td>7104016</td>\n      <td>7078515</td>\n    </tr>\n    <tr>\n      <th>Wisconsin</th>\n      <td>5401906</td>\n      <td>5372243</td>\n      <td>5363675</td>\n    </tr>\n    <tr>\n      <th>Tennessee</th>\n      <td>5740021</td>\n      <td>5702027</td>\n      <td>5689283</td>\n    </tr>\n    <tr>\n      <th>Minnesota</th>\n      <td>4972294</td>\n      <td>4931093</td>\n      <td>4919479</td>\n    </tr>\n    <tr>\n      <th>Louisiana</th>\n      <td>4465430</td>\n      <td>4469970</td>\n      <td>4468976</td>\n    </tr>\n    <tr>\n      <th>Washington</th>\n      <td>5987973</td>\n      <td>5908372</td>\n      <td>5894121</td>\n    </tr>\n    <tr>\n      <th>California</th>\n      <td>34501130</td>\n      <td>34000446</td>\n      <td>33871648</td>\n    </tr>\n    <tr>\n      <th>New Jersey</th>\n      <td>8484431</td>\n      <td>8429007</td>\n      <td>8414350</td>\n    </tr>\n    <tr>\n      <th>New Mexico</th>\n      <td>1829146</td>\n      <td>1821282</td>\n      <td>1819046</td>\n    </tr>\n    <tr>\n      <th>Mississippi</th>\n      <td>2858029</td>\n      <td>2849100</td>\n      <td>2844658</td>\n    </tr>\n    <tr>\n      <th>Connecticut</th>\n      <td>3425074</td>\n      <td>3410079</td>\n      <td>3405565</td>\n    </tr>\n    <tr>\n      <th>Rhode Island</th>\n      <td>1058920</td>\n      <td>1050236</td>\n      <td>1048319</td>\n    </tr>\n    <tr>\n      <th>South Dakota</th>\n      <td>756600</td>\n      <td>755509</td>\n      <td>754844</td>\n    </tr>\n    <tr>\n      <th>North Dakota</th>\n      <td>634448</td>\n      <td>640919</td>\n      <td>642200</td>\n    </tr>\n    <tr>\n      <th>Pennsylvania</th>\n      <td>12287150</td>\n      <td>12282591</td>\n      <td>12281054</td>\n    </tr>\n    <tr>\n      <th>New Hampshire</th>\n      <td>1259181</td>\n      <td>1239881</td>\n      <td>1235786</td>\n    </tr>\n    <tr>\n      <th>Massachusetts</th>\n      <td>6379304</td>\n      <td>6357072</td>\n      <td>6349097</td>\n    </tr>\n    <tr>\n      <th>West Virginia</th>\n      <td>1801916</td>\n      <td>1807099</td>\n      <td>1808344</td>\n    </tr>\n    <tr>\n      <th>United States</th>\n      <td>284796887</td>\n      <td>282124631</td>\n      <td>281421906</td>\n    </tr>\n    <tr>\n      <th>South Carolina</th>\n      <td>4063011</td>\n      <td>4023438</td>\n      <td>4012012</td>\n    </tr>\n    <tr>\n      <th>North Carolina</th>\n      <td>8186268</td>\n      <td>8077367</td>\n      <td>8049313</td>\n    </tr>\n    <tr>\n      <th>District of Columbia</th>\n      <td>571822</td>\n      <td>571066</td>\n      <td>572059</td>\n    </tr>\n  </tbody>\n</table>\n</div>"
     },
     "execution_count": 77,
     "metadata": {},
     "output_type": "execute_result"
    }
   ],
   "source": [
    "data.sort_index(key=lambda ind: ind.str.len())"
   ],
   "metadata": {
    "collapsed": false,
    "ExecuteTime": {
     "end_time": "2023-11-13T10:50:00.592988200Z",
     "start_time": "2023-11-13T10:50:00.455934100Z"
    }
   }
  },
  {
   "cell_type": "code",
   "execution_count": 78,
   "outputs": [
    {
     "data": {
      "text/plain": "                      July 1, 2001 Estimate  July 1, 2000 Estimate  \\\nGeographic Area                                                      \nWyoming                              494423                 494001   \nWisconsin                           5401906                5372243   \nWest Virginia                       1801916                1807099   \nWashington                          5987973                5908372   \nVirginia                            7187734                7104016   \nVermont                              613090                 609709   \nUtah                                2269789                2241555   \nUnited States                     284796887              282124631   \nTexas                              21325018               20946503   \nTennessee                           5740021                5702027   \nSouth Dakota                         756600                 755509   \nSouth Carolina                      4063011                4023438   \nRhode Island                        1058920                1050236   \nPennsylvania                       12287150               12282591   \nOregon                              3472867                3429293   \nOklahoma                            3460097                3453250   \nOhio                               11373541               11359955   \nNorth Dakota                         634448                 640919   \nNorth Carolina                      8186268                8077367   \nNew York                           19011378               18989332   \nNew Mexico                          1829146                1821282   \nNew Jersey                          8484431                8429007   \nNew Hampshire                       1259181                1239881   \nNevada                              2106074                2018723   \nNebraska                            1713235                1712577   \nMontana                              904433                 903157   \nMissouri                            5629707                5603553   \nMississippi                         2858029                2849100   \nMinnesota                           4972294                4931093   \nMichigan                            9990817                9952006   \nMassachusetts                       6379304                6357072   \nMaryland                            5375156                5310908   \nMaine                               1286670                1276961   \nLouisiana                           4465430                4469970   \nKentucky                            4065556                4047424   \nKansas                              2694641                2691750   \nIowa                                2923179                2927509   \nIndiana                             6114745                6089950   \nIllinois                           12482301               12435970   \nIdaho                               1321006                1299258   \nHawaii                              1224398                1212281   \nGeorgia                             8383915                8229823   \nFlorida                            16396515               16054328   \nDistrict of Columbia                 571822                 571066   \nDelaware                             796165                 786234   \nConnecticut                         3425074                3410079   \nColorado                            4417714                4323410   \nCalifornia                         34501130               34000446   \nArkansas                            2692090                2678030   \nArizona                             5307331                5165274   \nAlaska                               634892                 627601   \nAlabama                             4464356                4451493   \n\n                      April 1, 2000 Population Estimates Base  \nGeographic Area                                                \nWyoming                                                493782  \nWisconsin                                             5363675  \nWest Virginia                                         1808344  \nWashington                                            5894121  \nVirginia                                              7078515  \nVermont                                                608827  \nUtah                                                  2233169  \nUnited States                                       281421906  \nTexas                                                20851820  \nTennessee                                             5689283  \nSouth Dakota                                           754844  \nSouth Carolina                                        4012012  \nRhode Island                                          1048319  \nPennsylvania                                         12281054  \nOregon                                                3421399  \nOklahoma                                              3450654  \nOhio                                                 11353140  \nNorth Dakota                                           642200  \nNorth Carolina                                        8049313  \nNew York                                             18976457  \nNew Mexico                                            1819046  \nNew Jersey                                            8414350  \nNew Hampshire                                         1235786  \nNevada                                                1998257  \nNebraska                                              1711263  \nMontana                                                902195  \nMissouri                                              5595211  \nMississippi                                           2844658  \nMinnesota                                             4919479  \nMichigan                                              9938444  \nMassachusetts                                         6349097  \nMaryland                                              5296486  \nMaine                                                 1274923  \nLouisiana                                             4468976  \nKentucky                                              4041769  \nKansas                                                2688418  \nIowa                                                  2926324  \nIndiana                                               6080485  \nIllinois                                             12419293  \nIdaho                                                 1293953  \nHawaii                                                1211537  \nGeorgia                                               8186453  \nFlorida                                              15982378  \nDistrict of Columbia                                   572059  \nDelaware                                               783600  \nConnecticut                                           3405565  \nColorado                                              4301261  \nCalifornia                                           33871648  \nArkansas                                              2673400  \nArizona                                               5130632  \nAlaska                                                 626932  \nAlabama                                               4447100  ",
      "text/html": "<div>\n<style scoped>\n    .dataframe tbody tr th:only-of-type {\n        vertical-align: middle;\n    }\n\n    .dataframe tbody tr th {\n        vertical-align: top;\n    }\n\n    .dataframe thead th {\n        text-align: right;\n    }\n</style>\n<table border=\"1\" class=\"dataframe\">\n  <thead>\n    <tr style=\"text-align: right;\">\n      <th></th>\n      <th>July 1, 2001 Estimate</th>\n      <th>July 1, 2000 Estimate</th>\n      <th>April 1, 2000 Population Estimates Base</th>\n    </tr>\n    <tr>\n      <th>Geographic Area</th>\n      <th></th>\n      <th></th>\n      <th></th>\n    </tr>\n  </thead>\n  <tbody>\n    <tr>\n      <th>Wyoming</th>\n      <td>494423</td>\n      <td>494001</td>\n      <td>493782</td>\n    </tr>\n    <tr>\n      <th>Wisconsin</th>\n      <td>5401906</td>\n      <td>5372243</td>\n      <td>5363675</td>\n    </tr>\n    <tr>\n      <th>West Virginia</th>\n      <td>1801916</td>\n      <td>1807099</td>\n      <td>1808344</td>\n    </tr>\n    <tr>\n      <th>Washington</th>\n      <td>5987973</td>\n      <td>5908372</td>\n      <td>5894121</td>\n    </tr>\n    <tr>\n      <th>Virginia</th>\n      <td>7187734</td>\n      <td>7104016</td>\n      <td>7078515</td>\n    </tr>\n    <tr>\n      <th>Vermont</th>\n      <td>613090</td>\n      <td>609709</td>\n      <td>608827</td>\n    </tr>\n    <tr>\n      <th>Utah</th>\n      <td>2269789</td>\n      <td>2241555</td>\n      <td>2233169</td>\n    </tr>\n    <tr>\n      <th>United States</th>\n      <td>284796887</td>\n      <td>282124631</td>\n      <td>281421906</td>\n    </tr>\n    <tr>\n      <th>Texas</th>\n      <td>21325018</td>\n      <td>20946503</td>\n      <td>20851820</td>\n    </tr>\n    <tr>\n      <th>Tennessee</th>\n      <td>5740021</td>\n      <td>5702027</td>\n      <td>5689283</td>\n    </tr>\n    <tr>\n      <th>South Dakota</th>\n      <td>756600</td>\n      <td>755509</td>\n      <td>754844</td>\n    </tr>\n    <tr>\n      <th>South Carolina</th>\n      <td>4063011</td>\n      <td>4023438</td>\n      <td>4012012</td>\n    </tr>\n    <tr>\n      <th>Rhode Island</th>\n      <td>1058920</td>\n      <td>1050236</td>\n      <td>1048319</td>\n    </tr>\n    <tr>\n      <th>Pennsylvania</th>\n      <td>12287150</td>\n      <td>12282591</td>\n      <td>12281054</td>\n    </tr>\n    <tr>\n      <th>Oregon</th>\n      <td>3472867</td>\n      <td>3429293</td>\n      <td>3421399</td>\n    </tr>\n    <tr>\n      <th>Oklahoma</th>\n      <td>3460097</td>\n      <td>3453250</td>\n      <td>3450654</td>\n    </tr>\n    <tr>\n      <th>Ohio</th>\n      <td>11373541</td>\n      <td>11359955</td>\n      <td>11353140</td>\n    </tr>\n    <tr>\n      <th>North Dakota</th>\n      <td>634448</td>\n      <td>640919</td>\n      <td>642200</td>\n    </tr>\n    <tr>\n      <th>North Carolina</th>\n      <td>8186268</td>\n      <td>8077367</td>\n      <td>8049313</td>\n    </tr>\n    <tr>\n      <th>New York</th>\n      <td>19011378</td>\n      <td>18989332</td>\n      <td>18976457</td>\n    </tr>\n    <tr>\n      <th>New Mexico</th>\n      <td>1829146</td>\n      <td>1821282</td>\n      <td>1819046</td>\n    </tr>\n    <tr>\n      <th>New Jersey</th>\n      <td>8484431</td>\n      <td>8429007</td>\n      <td>8414350</td>\n    </tr>\n    <tr>\n      <th>New Hampshire</th>\n      <td>1259181</td>\n      <td>1239881</td>\n      <td>1235786</td>\n    </tr>\n    <tr>\n      <th>Nevada</th>\n      <td>2106074</td>\n      <td>2018723</td>\n      <td>1998257</td>\n    </tr>\n    <tr>\n      <th>Nebraska</th>\n      <td>1713235</td>\n      <td>1712577</td>\n      <td>1711263</td>\n    </tr>\n    <tr>\n      <th>Montana</th>\n      <td>904433</td>\n      <td>903157</td>\n      <td>902195</td>\n    </tr>\n    <tr>\n      <th>Missouri</th>\n      <td>5629707</td>\n      <td>5603553</td>\n      <td>5595211</td>\n    </tr>\n    <tr>\n      <th>Mississippi</th>\n      <td>2858029</td>\n      <td>2849100</td>\n      <td>2844658</td>\n    </tr>\n    <tr>\n      <th>Minnesota</th>\n      <td>4972294</td>\n      <td>4931093</td>\n      <td>4919479</td>\n    </tr>\n    <tr>\n      <th>Michigan</th>\n      <td>9990817</td>\n      <td>9952006</td>\n      <td>9938444</td>\n    </tr>\n    <tr>\n      <th>Massachusetts</th>\n      <td>6379304</td>\n      <td>6357072</td>\n      <td>6349097</td>\n    </tr>\n    <tr>\n      <th>Maryland</th>\n      <td>5375156</td>\n      <td>5310908</td>\n      <td>5296486</td>\n    </tr>\n    <tr>\n      <th>Maine</th>\n      <td>1286670</td>\n      <td>1276961</td>\n      <td>1274923</td>\n    </tr>\n    <tr>\n      <th>Louisiana</th>\n      <td>4465430</td>\n      <td>4469970</td>\n      <td>4468976</td>\n    </tr>\n    <tr>\n      <th>Kentucky</th>\n      <td>4065556</td>\n      <td>4047424</td>\n      <td>4041769</td>\n    </tr>\n    <tr>\n      <th>Kansas</th>\n      <td>2694641</td>\n      <td>2691750</td>\n      <td>2688418</td>\n    </tr>\n    <tr>\n      <th>Iowa</th>\n      <td>2923179</td>\n      <td>2927509</td>\n      <td>2926324</td>\n    </tr>\n    <tr>\n      <th>Indiana</th>\n      <td>6114745</td>\n      <td>6089950</td>\n      <td>6080485</td>\n    </tr>\n    <tr>\n      <th>Illinois</th>\n      <td>12482301</td>\n      <td>12435970</td>\n      <td>12419293</td>\n    </tr>\n    <tr>\n      <th>Idaho</th>\n      <td>1321006</td>\n      <td>1299258</td>\n      <td>1293953</td>\n    </tr>\n    <tr>\n      <th>Hawaii</th>\n      <td>1224398</td>\n      <td>1212281</td>\n      <td>1211537</td>\n    </tr>\n    <tr>\n      <th>Georgia</th>\n      <td>8383915</td>\n      <td>8229823</td>\n      <td>8186453</td>\n    </tr>\n    <tr>\n      <th>Florida</th>\n      <td>16396515</td>\n      <td>16054328</td>\n      <td>15982378</td>\n    </tr>\n    <tr>\n      <th>District of Columbia</th>\n      <td>571822</td>\n      <td>571066</td>\n      <td>572059</td>\n    </tr>\n    <tr>\n      <th>Delaware</th>\n      <td>796165</td>\n      <td>786234</td>\n      <td>783600</td>\n    </tr>\n    <tr>\n      <th>Connecticut</th>\n      <td>3425074</td>\n      <td>3410079</td>\n      <td>3405565</td>\n    </tr>\n    <tr>\n      <th>Colorado</th>\n      <td>4417714</td>\n      <td>4323410</td>\n      <td>4301261</td>\n    </tr>\n    <tr>\n      <th>California</th>\n      <td>34501130</td>\n      <td>34000446</td>\n      <td>33871648</td>\n    </tr>\n    <tr>\n      <th>Arkansas</th>\n      <td>2692090</td>\n      <td>2678030</td>\n      <td>2673400</td>\n    </tr>\n    <tr>\n      <th>Arizona</th>\n      <td>5307331</td>\n      <td>5165274</td>\n      <td>5130632</td>\n    </tr>\n    <tr>\n      <th>Alaska</th>\n      <td>634892</td>\n      <td>627601</td>\n      <td>626932</td>\n    </tr>\n    <tr>\n      <th>Alabama</th>\n      <td>4464356</td>\n      <td>4451493</td>\n      <td>4447100</td>\n    </tr>\n  </tbody>\n</table>\n</div>"
     },
     "execution_count": 78,
     "metadata": {},
     "output_type": "execute_result"
    }
   ],
   "source": [
    "data.sort_index(key=lambda ind: ind.str.casefold(), ascending=False)"
   ],
   "metadata": {
    "collapsed": false,
    "ExecuteTime": {
     "end_time": "2023-11-13T10:51:07.708599500Z",
     "start_time": "2023-11-13T10:51:07.614599900Z"
    }
   }
  },
  {
   "cell_type": "code",
   "execution_count": 79,
   "outputs": [
    {
     "data": {
      "text/plain": "                      July 1, 2001 Estimate  July 1, 2000 Estimate  \\\nGeographic Area                                                      \nWyoming                              494423                 494001   \nDistrict of Columbia                 571822                 571066   \nVermont                              613090                 609709   \nNorth Dakota                         634448                 640919   \nAlaska                               634892                 627601   \nSouth Dakota                         756600                 755509   \nDelaware                             796165                 786234   \nMontana                              904433                 903157   \nRhode Island                        1058920                1050236   \nHawaii                              1224398                1212281   \nNew Hampshire                       1259181                1239881   \nMaine                               1286670                1276961   \nIdaho                               1321006                1299258   \nNebraska                            1713235                1712577   \nWest Virginia                       1801916                1807099   \nNew Mexico                          1829146                1821282   \nNevada                              2106074                2018723   \nUtah                                2269789                2241555   \nArkansas                            2692090                2678030   \nKansas                              2694641                2691750   \nMississippi                         2858029                2849100   \nIowa                                2923179                2927509   \nConnecticut                         3425074                3410079   \nOklahoma                            3460097                3453250   \nOregon                              3472867                3429293   \nSouth Carolina                      4063011                4023438   \nKentucky                            4065556                4047424   \nColorado                            4417714                4323410   \nAlabama                             4464356                4451493   \nLouisiana                           4465430                4469970   \nMinnesota                           4972294                4931093   \nArizona                             5307331                5165274   \nMaryland                            5375156                5310908   \nWisconsin                           5401906                5372243   \nMissouri                            5629707                5603553   \nTennessee                           5740021                5702027   \nWashington                          5987973                5908372   \nIndiana                             6114745                6089950   \nMassachusetts                       6379304                6357072   \nVirginia                            7187734                7104016   \nNorth Carolina                      8186268                8077367   \nGeorgia                             8383915                8229823   \nNew Jersey                          8484431                8429007   \nMichigan                            9990817                9952006   \nOhio                               11373541               11359955   \nPennsylvania                       12287150               12282591   \nIllinois                           12482301               12435970   \nFlorida                            16396515               16054328   \nNew York                           19011378               18989332   \nTexas                              21325018               20946503   \nCalifornia                         34501130               34000446   \nUnited States                     284796887              282124631   \n\n                      April 1, 2000 Population Estimates Base  \nGeographic Area                                                \nWyoming                                                493782  \nDistrict of Columbia                                   572059  \nVermont                                                608827  \nNorth Dakota                                           642200  \nAlaska                                                 626932  \nSouth Dakota                                           754844  \nDelaware                                               783600  \nMontana                                                902195  \nRhode Island                                          1048319  \nHawaii                                                1211537  \nNew Hampshire                                         1235786  \nMaine                                                 1274923  \nIdaho                                                 1293953  \nNebraska                                              1711263  \nWest Virginia                                         1808344  \nNew Mexico                                            1819046  \nNevada                                                1998257  \nUtah                                                  2233169  \nArkansas                                              2673400  \nKansas                                                2688418  \nMississippi                                           2844658  \nIowa                                                  2926324  \nConnecticut                                           3405565  \nOklahoma                                              3450654  \nOregon                                                3421399  \nSouth Carolina                                        4012012  \nKentucky                                              4041769  \nColorado                                              4301261  \nAlabama                                               4447100  \nLouisiana                                             4468976  \nMinnesota                                             4919479  \nArizona                                               5130632  \nMaryland                                              5296486  \nWisconsin                                             5363675  \nMissouri                                              5595211  \nTennessee                                             5689283  \nWashington                                            5894121  \nIndiana                                               6080485  \nMassachusetts                                         6349097  \nVirginia                                              7078515  \nNorth Carolina                                        8049313  \nGeorgia                                               8186453  \nNew Jersey                                            8414350  \nMichigan                                              9938444  \nOhio                                                 11353140  \nPennsylvania                                         12281054  \nIllinois                                             12419293  \nFlorida                                              15982378  \nNew York                                             18976457  \nTexas                                                20851820  \nCalifornia                                           33871648  \nUnited States                                       281421906  ",
      "text/html": "<div>\n<style scoped>\n    .dataframe tbody tr th:only-of-type {\n        vertical-align: middle;\n    }\n\n    .dataframe tbody tr th {\n        vertical-align: top;\n    }\n\n    .dataframe thead th {\n        text-align: right;\n    }\n</style>\n<table border=\"1\" class=\"dataframe\">\n  <thead>\n    <tr style=\"text-align: right;\">\n      <th></th>\n      <th>July 1, 2001 Estimate</th>\n      <th>July 1, 2000 Estimate</th>\n      <th>April 1, 2000 Population Estimates Base</th>\n    </tr>\n    <tr>\n      <th>Geographic Area</th>\n      <th></th>\n      <th></th>\n      <th></th>\n    </tr>\n  </thead>\n  <tbody>\n    <tr>\n      <th>Wyoming</th>\n      <td>494423</td>\n      <td>494001</td>\n      <td>493782</td>\n    </tr>\n    <tr>\n      <th>District of Columbia</th>\n      <td>571822</td>\n      <td>571066</td>\n      <td>572059</td>\n    </tr>\n    <tr>\n      <th>Vermont</th>\n      <td>613090</td>\n      <td>609709</td>\n      <td>608827</td>\n    </tr>\n    <tr>\n      <th>North Dakota</th>\n      <td>634448</td>\n      <td>640919</td>\n      <td>642200</td>\n    </tr>\n    <tr>\n      <th>Alaska</th>\n      <td>634892</td>\n      <td>627601</td>\n      <td>626932</td>\n    </tr>\n    <tr>\n      <th>South Dakota</th>\n      <td>756600</td>\n      <td>755509</td>\n      <td>754844</td>\n    </tr>\n    <tr>\n      <th>Delaware</th>\n      <td>796165</td>\n      <td>786234</td>\n      <td>783600</td>\n    </tr>\n    <tr>\n      <th>Montana</th>\n      <td>904433</td>\n      <td>903157</td>\n      <td>902195</td>\n    </tr>\n    <tr>\n      <th>Rhode Island</th>\n      <td>1058920</td>\n      <td>1050236</td>\n      <td>1048319</td>\n    </tr>\n    <tr>\n      <th>Hawaii</th>\n      <td>1224398</td>\n      <td>1212281</td>\n      <td>1211537</td>\n    </tr>\n    <tr>\n      <th>New Hampshire</th>\n      <td>1259181</td>\n      <td>1239881</td>\n      <td>1235786</td>\n    </tr>\n    <tr>\n      <th>Maine</th>\n      <td>1286670</td>\n      <td>1276961</td>\n      <td>1274923</td>\n    </tr>\n    <tr>\n      <th>Idaho</th>\n      <td>1321006</td>\n      <td>1299258</td>\n      <td>1293953</td>\n    </tr>\n    <tr>\n      <th>Nebraska</th>\n      <td>1713235</td>\n      <td>1712577</td>\n      <td>1711263</td>\n    </tr>\n    <tr>\n      <th>West Virginia</th>\n      <td>1801916</td>\n      <td>1807099</td>\n      <td>1808344</td>\n    </tr>\n    <tr>\n      <th>New Mexico</th>\n      <td>1829146</td>\n      <td>1821282</td>\n      <td>1819046</td>\n    </tr>\n    <tr>\n      <th>Nevada</th>\n      <td>2106074</td>\n      <td>2018723</td>\n      <td>1998257</td>\n    </tr>\n    <tr>\n      <th>Utah</th>\n      <td>2269789</td>\n      <td>2241555</td>\n      <td>2233169</td>\n    </tr>\n    <tr>\n      <th>Arkansas</th>\n      <td>2692090</td>\n      <td>2678030</td>\n      <td>2673400</td>\n    </tr>\n    <tr>\n      <th>Kansas</th>\n      <td>2694641</td>\n      <td>2691750</td>\n      <td>2688418</td>\n    </tr>\n    <tr>\n      <th>Mississippi</th>\n      <td>2858029</td>\n      <td>2849100</td>\n      <td>2844658</td>\n    </tr>\n    <tr>\n      <th>Iowa</th>\n      <td>2923179</td>\n      <td>2927509</td>\n      <td>2926324</td>\n    </tr>\n    <tr>\n      <th>Connecticut</th>\n      <td>3425074</td>\n      <td>3410079</td>\n      <td>3405565</td>\n    </tr>\n    <tr>\n      <th>Oklahoma</th>\n      <td>3460097</td>\n      <td>3453250</td>\n      <td>3450654</td>\n    </tr>\n    <tr>\n      <th>Oregon</th>\n      <td>3472867</td>\n      <td>3429293</td>\n      <td>3421399</td>\n    </tr>\n    <tr>\n      <th>South Carolina</th>\n      <td>4063011</td>\n      <td>4023438</td>\n      <td>4012012</td>\n    </tr>\n    <tr>\n      <th>Kentucky</th>\n      <td>4065556</td>\n      <td>4047424</td>\n      <td>4041769</td>\n    </tr>\n    <tr>\n      <th>Colorado</th>\n      <td>4417714</td>\n      <td>4323410</td>\n      <td>4301261</td>\n    </tr>\n    <tr>\n      <th>Alabama</th>\n      <td>4464356</td>\n      <td>4451493</td>\n      <td>4447100</td>\n    </tr>\n    <tr>\n      <th>Louisiana</th>\n      <td>4465430</td>\n      <td>4469970</td>\n      <td>4468976</td>\n    </tr>\n    <tr>\n      <th>Minnesota</th>\n      <td>4972294</td>\n      <td>4931093</td>\n      <td>4919479</td>\n    </tr>\n    <tr>\n      <th>Arizona</th>\n      <td>5307331</td>\n      <td>5165274</td>\n      <td>5130632</td>\n    </tr>\n    <tr>\n      <th>Maryland</th>\n      <td>5375156</td>\n      <td>5310908</td>\n      <td>5296486</td>\n    </tr>\n    <tr>\n      <th>Wisconsin</th>\n      <td>5401906</td>\n      <td>5372243</td>\n      <td>5363675</td>\n    </tr>\n    <tr>\n      <th>Missouri</th>\n      <td>5629707</td>\n      <td>5603553</td>\n      <td>5595211</td>\n    </tr>\n    <tr>\n      <th>Tennessee</th>\n      <td>5740021</td>\n      <td>5702027</td>\n      <td>5689283</td>\n    </tr>\n    <tr>\n      <th>Washington</th>\n      <td>5987973</td>\n      <td>5908372</td>\n      <td>5894121</td>\n    </tr>\n    <tr>\n      <th>Indiana</th>\n      <td>6114745</td>\n      <td>6089950</td>\n      <td>6080485</td>\n    </tr>\n    <tr>\n      <th>Massachusetts</th>\n      <td>6379304</td>\n      <td>6357072</td>\n      <td>6349097</td>\n    </tr>\n    <tr>\n      <th>Virginia</th>\n      <td>7187734</td>\n      <td>7104016</td>\n      <td>7078515</td>\n    </tr>\n    <tr>\n      <th>North Carolina</th>\n      <td>8186268</td>\n      <td>8077367</td>\n      <td>8049313</td>\n    </tr>\n    <tr>\n      <th>Georgia</th>\n      <td>8383915</td>\n      <td>8229823</td>\n      <td>8186453</td>\n    </tr>\n    <tr>\n      <th>New Jersey</th>\n      <td>8484431</td>\n      <td>8429007</td>\n      <td>8414350</td>\n    </tr>\n    <tr>\n      <th>Michigan</th>\n      <td>9990817</td>\n      <td>9952006</td>\n      <td>9938444</td>\n    </tr>\n    <tr>\n      <th>Ohio</th>\n      <td>11373541</td>\n      <td>11359955</td>\n      <td>11353140</td>\n    </tr>\n    <tr>\n      <th>Pennsylvania</th>\n      <td>12287150</td>\n      <td>12282591</td>\n      <td>12281054</td>\n    </tr>\n    <tr>\n      <th>Illinois</th>\n      <td>12482301</td>\n      <td>12435970</td>\n      <td>12419293</td>\n    </tr>\n    <tr>\n      <th>Florida</th>\n      <td>16396515</td>\n      <td>16054328</td>\n      <td>15982378</td>\n    </tr>\n    <tr>\n      <th>New York</th>\n      <td>19011378</td>\n      <td>18989332</td>\n      <td>18976457</td>\n    </tr>\n    <tr>\n      <th>Texas</th>\n      <td>21325018</td>\n      <td>20946503</td>\n      <td>20851820</td>\n    </tr>\n    <tr>\n      <th>California</th>\n      <td>34501130</td>\n      <td>34000446</td>\n      <td>33871648</td>\n    </tr>\n    <tr>\n      <th>United States</th>\n      <td>284796887</td>\n      <td>282124631</td>\n      <td>281421906</td>\n    </tr>\n  </tbody>\n</table>\n</div>"
     },
     "execution_count": 79,
     "metadata": {},
     "output_type": "execute_result"
    }
   ],
   "source": [
    "data.sort_values('July 1, 2001 Estimate')"
   ],
   "metadata": {
    "collapsed": false,
    "ExecuteTime": {
     "end_time": "2023-11-13T10:51:45.115979400Z",
     "start_time": "2023-11-13T10:51:44.969977400Z"
    }
   }
  },
  {
   "cell_type": "code",
   "execution_count": 80,
   "outputs": [
    {
     "data": {
      "text/plain": "                      July 1, 2001 Estimate  July 1, 2000 Estimate  \\\nGeographic Area                                                      \nUnited States                     284796887              282124631   \nCalifornia                         34501130               34000446   \nTexas                              21325018               20946503   \nNew York                           19011378               18989332   \nFlorida                            16396515               16054328   \nIllinois                           12482301               12435970   \nPennsylvania                       12287150               12282591   \nOhio                               11373541               11359955   \nMichigan                            9990817                9952006   \nNew Jersey                          8484431                8429007   \nGeorgia                             8383915                8229823   \nNorth Carolina                      8186268                8077367   \nVirginia                            7187734                7104016   \nMassachusetts                       6379304                6357072   \nIndiana                             6114745                6089950   \nWashington                          5987973                5908372   \nTennessee                           5740021                5702027   \nMissouri                            5629707                5603553   \nWisconsin                           5401906                5372243   \nMaryland                            5375156                5310908   \nArizona                             5307331                5165274   \nMinnesota                           4972294                4931093   \nLouisiana                           4465430                4469970   \nAlabama                             4464356                4451493   \nColorado                            4417714                4323410   \nKentucky                            4065556                4047424   \nSouth Carolina                      4063011                4023438   \nOregon                              3472867                3429293   \nOklahoma                            3460097                3453250   \nConnecticut                         3425074                3410079   \nIowa                                2923179                2927509   \nMississippi                         2858029                2849100   \nKansas                              2694641                2691750   \nArkansas                            2692090                2678030   \nUtah                                2269789                2241555   \nNevada                              2106074                2018723   \nNew Mexico                          1829146                1821282   \nWest Virginia                       1801916                1807099   \nNebraska                            1713235                1712577   \nIdaho                               1321006                1299258   \nMaine                               1286670                1276961   \nNew Hampshire                       1259181                1239881   \nHawaii                              1224398                1212281   \nRhode Island                        1058920                1050236   \nMontana                              904433                 903157   \nDelaware                             796165                 786234   \nSouth Dakota                         756600                 755509   \nAlaska                               634892                 627601   \nNorth Dakota                         634448                 640919   \nVermont                              613090                 609709   \nDistrict of Columbia                 571822                 571066   \nWyoming                              494423                 494001   \n\n                      April 1, 2000 Population Estimates Base  \nGeographic Area                                                \nUnited States                                       281421906  \nCalifornia                                           33871648  \nTexas                                                20851820  \nNew York                                             18976457  \nFlorida                                              15982378  \nIllinois                                             12419293  \nPennsylvania                                         12281054  \nOhio                                                 11353140  \nMichigan                                              9938444  \nNew Jersey                                            8414350  \nGeorgia                                               8186453  \nNorth Carolina                                        8049313  \nVirginia                                              7078515  \nMassachusetts                                         6349097  \nIndiana                                               6080485  \nWashington                                            5894121  \nTennessee                                             5689283  \nMissouri                                              5595211  \nWisconsin                                             5363675  \nMaryland                                              5296486  \nArizona                                               5130632  \nMinnesota                                             4919479  \nLouisiana                                             4468976  \nAlabama                                               4447100  \nColorado                                              4301261  \nKentucky                                              4041769  \nSouth Carolina                                        4012012  \nOregon                                                3421399  \nOklahoma                                              3450654  \nConnecticut                                           3405565  \nIowa                                                  2926324  \nMississippi                                           2844658  \nKansas                                                2688418  \nArkansas                                              2673400  \nUtah                                                  2233169  \nNevada                                                1998257  \nNew Mexico                                            1819046  \nWest Virginia                                         1808344  \nNebraska                                              1711263  \nIdaho                                                 1293953  \nMaine                                                 1274923  \nNew Hampshire                                         1235786  \nHawaii                                                1211537  \nRhode Island                                          1048319  \nMontana                                                902195  \nDelaware                                               783600  \nSouth Dakota                                           754844  \nAlaska                                                 626932  \nNorth Dakota                                           642200  \nVermont                                                608827  \nDistrict of Columbia                                   572059  \nWyoming                                                493782  ",
      "text/html": "<div>\n<style scoped>\n    .dataframe tbody tr th:only-of-type {\n        vertical-align: middle;\n    }\n\n    .dataframe tbody tr th {\n        vertical-align: top;\n    }\n\n    .dataframe thead th {\n        text-align: right;\n    }\n</style>\n<table border=\"1\" class=\"dataframe\">\n  <thead>\n    <tr style=\"text-align: right;\">\n      <th></th>\n      <th>July 1, 2001 Estimate</th>\n      <th>July 1, 2000 Estimate</th>\n      <th>April 1, 2000 Population Estimates Base</th>\n    </tr>\n    <tr>\n      <th>Geographic Area</th>\n      <th></th>\n      <th></th>\n      <th></th>\n    </tr>\n  </thead>\n  <tbody>\n    <tr>\n      <th>United States</th>\n      <td>284796887</td>\n      <td>282124631</td>\n      <td>281421906</td>\n    </tr>\n    <tr>\n      <th>California</th>\n      <td>34501130</td>\n      <td>34000446</td>\n      <td>33871648</td>\n    </tr>\n    <tr>\n      <th>Texas</th>\n      <td>21325018</td>\n      <td>20946503</td>\n      <td>20851820</td>\n    </tr>\n    <tr>\n      <th>New York</th>\n      <td>19011378</td>\n      <td>18989332</td>\n      <td>18976457</td>\n    </tr>\n    <tr>\n      <th>Florida</th>\n      <td>16396515</td>\n      <td>16054328</td>\n      <td>15982378</td>\n    </tr>\n    <tr>\n      <th>Illinois</th>\n      <td>12482301</td>\n      <td>12435970</td>\n      <td>12419293</td>\n    </tr>\n    <tr>\n      <th>Pennsylvania</th>\n      <td>12287150</td>\n      <td>12282591</td>\n      <td>12281054</td>\n    </tr>\n    <tr>\n      <th>Ohio</th>\n      <td>11373541</td>\n      <td>11359955</td>\n      <td>11353140</td>\n    </tr>\n    <tr>\n      <th>Michigan</th>\n      <td>9990817</td>\n      <td>9952006</td>\n      <td>9938444</td>\n    </tr>\n    <tr>\n      <th>New Jersey</th>\n      <td>8484431</td>\n      <td>8429007</td>\n      <td>8414350</td>\n    </tr>\n    <tr>\n      <th>Georgia</th>\n      <td>8383915</td>\n      <td>8229823</td>\n      <td>8186453</td>\n    </tr>\n    <tr>\n      <th>North Carolina</th>\n      <td>8186268</td>\n      <td>8077367</td>\n      <td>8049313</td>\n    </tr>\n    <tr>\n      <th>Virginia</th>\n      <td>7187734</td>\n      <td>7104016</td>\n      <td>7078515</td>\n    </tr>\n    <tr>\n      <th>Massachusetts</th>\n      <td>6379304</td>\n      <td>6357072</td>\n      <td>6349097</td>\n    </tr>\n    <tr>\n      <th>Indiana</th>\n      <td>6114745</td>\n      <td>6089950</td>\n      <td>6080485</td>\n    </tr>\n    <tr>\n      <th>Washington</th>\n      <td>5987973</td>\n      <td>5908372</td>\n      <td>5894121</td>\n    </tr>\n    <tr>\n      <th>Tennessee</th>\n      <td>5740021</td>\n      <td>5702027</td>\n      <td>5689283</td>\n    </tr>\n    <tr>\n      <th>Missouri</th>\n      <td>5629707</td>\n      <td>5603553</td>\n      <td>5595211</td>\n    </tr>\n    <tr>\n      <th>Wisconsin</th>\n      <td>5401906</td>\n      <td>5372243</td>\n      <td>5363675</td>\n    </tr>\n    <tr>\n      <th>Maryland</th>\n      <td>5375156</td>\n      <td>5310908</td>\n      <td>5296486</td>\n    </tr>\n    <tr>\n      <th>Arizona</th>\n      <td>5307331</td>\n      <td>5165274</td>\n      <td>5130632</td>\n    </tr>\n    <tr>\n      <th>Minnesota</th>\n      <td>4972294</td>\n      <td>4931093</td>\n      <td>4919479</td>\n    </tr>\n    <tr>\n      <th>Louisiana</th>\n      <td>4465430</td>\n      <td>4469970</td>\n      <td>4468976</td>\n    </tr>\n    <tr>\n      <th>Alabama</th>\n      <td>4464356</td>\n      <td>4451493</td>\n      <td>4447100</td>\n    </tr>\n    <tr>\n      <th>Colorado</th>\n      <td>4417714</td>\n      <td>4323410</td>\n      <td>4301261</td>\n    </tr>\n    <tr>\n      <th>Kentucky</th>\n      <td>4065556</td>\n      <td>4047424</td>\n      <td>4041769</td>\n    </tr>\n    <tr>\n      <th>South Carolina</th>\n      <td>4063011</td>\n      <td>4023438</td>\n      <td>4012012</td>\n    </tr>\n    <tr>\n      <th>Oregon</th>\n      <td>3472867</td>\n      <td>3429293</td>\n      <td>3421399</td>\n    </tr>\n    <tr>\n      <th>Oklahoma</th>\n      <td>3460097</td>\n      <td>3453250</td>\n      <td>3450654</td>\n    </tr>\n    <tr>\n      <th>Connecticut</th>\n      <td>3425074</td>\n      <td>3410079</td>\n      <td>3405565</td>\n    </tr>\n    <tr>\n      <th>Iowa</th>\n      <td>2923179</td>\n      <td>2927509</td>\n      <td>2926324</td>\n    </tr>\n    <tr>\n      <th>Mississippi</th>\n      <td>2858029</td>\n      <td>2849100</td>\n      <td>2844658</td>\n    </tr>\n    <tr>\n      <th>Kansas</th>\n      <td>2694641</td>\n      <td>2691750</td>\n      <td>2688418</td>\n    </tr>\n    <tr>\n      <th>Arkansas</th>\n      <td>2692090</td>\n      <td>2678030</td>\n      <td>2673400</td>\n    </tr>\n    <tr>\n      <th>Utah</th>\n      <td>2269789</td>\n      <td>2241555</td>\n      <td>2233169</td>\n    </tr>\n    <tr>\n      <th>Nevada</th>\n      <td>2106074</td>\n      <td>2018723</td>\n      <td>1998257</td>\n    </tr>\n    <tr>\n      <th>New Mexico</th>\n      <td>1829146</td>\n      <td>1821282</td>\n      <td>1819046</td>\n    </tr>\n    <tr>\n      <th>West Virginia</th>\n      <td>1801916</td>\n      <td>1807099</td>\n      <td>1808344</td>\n    </tr>\n    <tr>\n      <th>Nebraska</th>\n      <td>1713235</td>\n      <td>1712577</td>\n      <td>1711263</td>\n    </tr>\n    <tr>\n      <th>Idaho</th>\n      <td>1321006</td>\n      <td>1299258</td>\n      <td>1293953</td>\n    </tr>\n    <tr>\n      <th>Maine</th>\n      <td>1286670</td>\n      <td>1276961</td>\n      <td>1274923</td>\n    </tr>\n    <tr>\n      <th>New Hampshire</th>\n      <td>1259181</td>\n      <td>1239881</td>\n      <td>1235786</td>\n    </tr>\n    <tr>\n      <th>Hawaii</th>\n      <td>1224398</td>\n      <td>1212281</td>\n      <td>1211537</td>\n    </tr>\n    <tr>\n      <th>Rhode Island</th>\n      <td>1058920</td>\n      <td>1050236</td>\n      <td>1048319</td>\n    </tr>\n    <tr>\n      <th>Montana</th>\n      <td>904433</td>\n      <td>903157</td>\n      <td>902195</td>\n    </tr>\n    <tr>\n      <th>Delaware</th>\n      <td>796165</td>\n      <td>786234</td>\n      <td>783600</td>\n    </tr>\n    <tr>\n      <th>South Dakota</th>\n      <td>756600</td>\n      <td>755509</td>\n      <td>754844</td>\n    </tr>\n    <tr>\n      <th>Alaska</th>\n      <td>634892</td>\n      <td>627601</td>\n      <td>626932</td>\n    </tr>\n    <tr>\n      <th>North Dakota</th>\n      <td>634448</td>\n      <td>640919</td>\n      <td>642200</td>\n    </tr>\n    <tr>\n      <th>Vermont</th>\n      <td>613090</td>\n      <td>609709</td>\n      <td>608827</td>\n    </tr>\n    <tr>\n      <th>District of Columbia</th>\n      <td>571822</td>\n      <td>571066</td>\n      <td>572059</td>\n    </tr>\n    <tr>\n      <th>Wyoming</th>\n      <td>494423</td>\n      <td>494001</td>\n      <td>493782</td>\n    </tr>\n  </tbody>\n</table>\n</div>"
     },
     "execution_count": 80,
     "metadata": {},
     "output_type": "execute_result"
    }
   ],
   "source": [
    "data.sort_values('July 1, 2001 Estimate', ascending=False)"
   ],
   "metadata": {
    "collapsed": false,
    "ExecuteTime": {
     "end_time": "2023-11-13T10:52:48.607653900Z",
     "start_time": "2023-11-13T10:52:48.481664600Z"
    }
   }
  },
  {
   "cell_type": "code",
   "execution_count": 82,
   "outputs": [
    {
     "data": {
      "text/plain": "  CountryCode       ShortName       TableName  \\\n0         AFG     Afghanistan     Afghanistan   \n1         ALB         Albania         Albania   \n2         DZA         Algeria         Algeria   \n3         ASM  American Samoa  American Samoa   \n4         ADO         Andorra         Andorra   \n\n                                  LongName Alpha2Code    CurrencyUnit  \\\n0             Islamic State of Afghanistan         AF  Afghan afghani   \n1                      Republic of Albania         AL    Albanian lek   \n2  People's Democratic Republic of Algeria         DZ  Algerian dinar   \n3                           American Samoa         AS     U.S. dollar   \n4                  Principality of Andorra         AD            Euro   \n\n                                        SpecialNotes  \\\n0  Fiscal year end: March 20; reporting period fo...   \n1                                                NaN   \n2                                                NaN   \n3                                                NaN   \n4                                                NaN   \n\n                       Region           IncomeGroup Wb2Code  ...  \\\n0                  South Asia            Low income      AF  ...   \n1       Europe & Central Asia   Upper middle income      AL  ...   \n2  Middle East & North Africa   Upper middle income      DZ  ...   \n3         East Asia & Pacific   Upper middle income      AS  ...   \n4       Europe & Central Asia  High income: nonOECD      AD  ...   \n\n       GovernmentAccountingConcept              ImfDataDisseminationStandard  \\\n0  Consolidated central government  General Data Dissemination System (GDDS)   \n1     Budgetary central government  General Data Dissemination System (GDDS)   \n2     Budgetary central government  General Data Dissemination System (GDDS)   \n3                              NaN                                       NaN   \n4                              NaN                                       NaN   \n\n                              LatestPopulationCensus  \\\n0                                               1979   \n1                                               2011   \n2                                               2008   \n3                                               2010   \n4  2011. Population data compiled from administra...   \n\n                               LatestHouseholdSurvey  \\\n0  Multiple Indicator Cluster Survey (MICS), 2010/11   \n1       Demographic and Health Survey (DHS), 2008/09   \n2     Multiple Indicator Cluster Survey (MICS), 2012   \n3                                                NaN   \n4                                                NaN   \n\n          SourceOfMostRecentIncomeAndExpenditureData  \\\n0            Integrated household survey (IHS), 2008   \n1  Living Standards Measurement Study Survey (LSM...   \n2            Integrated household survey (IHS), 1995   \n3                                                NaN   \n4                                                NaN   \n\n  VitalRegistrationComplete LatestAgriculturalCensus LatestIndustrialData  \\\n0                       NaN                  2013/14                  NaN   \n1                       Yes                     2012               2011.0   \n2                       NaN                      NaN               2010.0   \n3                       Yes                     2007                  NaN   \n4                       Yes                      NaN                  NaN   \n\n  LatestTradeData LatestWaterWithdrawalData  \n0          2013.0                    2000.0  \n1          2013.0                    2006.0  \n2          2013.0                    2001.0  \n3             NaN                       NaN  \n4          2006.0                       NaN  \n\n[5 rows x 31 columns]",
      "text/html": "<div>\n<style scoped>\n    .dataframe tbody tr th:only-of-type {\n        vertical-align: middle;\n    }\n\n    .dataframe tbody tr th {\n        vertical-align: top;\n    }\n\n    .dataframe thead th {\n        text-align: right;\n    }\n</style>\n<table border=\"1\" class=\"dataframe\">\n  <thead>\n    <tr style=\"text-align: right;\">\n      <th></th>\n      <th>CountryCode</th>\n      <th>ShortName</th>\n      <th>TableName</th>\n      <th>LongName</th>\n      <th>Alpha2Code</th>\n      <th>CurrencyUnit</th>\n      <th>SpecialNotes</th>\n      <th>Region</th>\n      <th>IncomeGroup</th>\n      <th>Wb2Code</th>\n      <th>...</th>\n      <th>GovernmentAccountingConcept</th>\n      <th>ImfDataDisseminationStandard</th>\n      <th>LatestPopulationCensus</th>\n      <th>LatestHouseholdSurvey</th>\n      <th>SourceOfMostRecentIncomeAndExpenditureData</th>\n      <th>VitalRegistrationComplete</th>\n      <th>LatestAgriculturalCensus</th>\n      <th>LatestIndustrialData</th>\n      <th>LatestTradeData</th>\n      <th>LatestWaterWithdrawalData</th>\n    </tr>\n  </thead>\n  <tbody>\n    <tr>\n      <th>0</th>\n      <td>AFG</td>\n      <td>Afghanistan</td>\n      <td>Afghanistan</td>\n      <td>Islamic State of Afghanistan</td>\n      <td>AF</td>\n      <td>Afghan afghani</td>\n      <td>Fiscal year end: March 20; reporting period fo...</td>\n      <td>South Asia</td>\n      <td>Low income</td>\n      <td>AF</td>\n      <td>...</td>\n      <td>Consolidated central government</td>\n      <td>General Data Dissemination System (GDDS)</td>\n      <td>1979</td>\n      <td>Multiple Indicator Cluster Survey (MICS), 2010/11</td>\n      <td>Integrated household survey (IHS), 2008</td>\n      <td>NaN</td>\n      <td>2013/14</td>\n      <td>NaN</td>\n      <td>2013.0</td>\n      <td>2000.0</td>\n    </tr>\n    <tr>\n      <th>1</th>\n      <td>ALB</td>\n      <td>Albania</td>\n      <td>Albania</td>\n      <td>Republic of Albania</td>\n      <td>AL</td>\n      <td>Albanian lek</td>\n      <td>NaN</td>\n      <td>Europe &amp; Central Asia</td>\n      <td>Upper middle income</td>\n      <td>AL</td>\n      <td>...</td>\n      <td>Budgetary central government</td>\n      <td>General Data Dissemination System (GDDS)</td>\n      <td>2011</td>\n      <td>Demographic and Health Survey (DHS), 2008/09</td>\n      <td>Living Standards Measurement Study Survey (LSM...</td>\n      <td>Yes</td>\n      <td>2012</td>\n      <td>2011.0</td>\n      <td>2013.0</td>\n      <td>2006.0</td>\n    </tr>\n    <tr>\n      <th>2</th>\n      <td>DZA</td>\n      <td>Algeria</td>\n      <td>Algeria</td>\n      <td>People's Democratic Republic of Algeria</td>\n      <td>DZ</td>\n      <td>Algerian dinar</td>\n      <td>NaN</td>\n      <td>Middle East &amp; North Africa</td>\n      <td>Upper middle income</td>\n      <td>DZ</td>\n      <td>...</td>\n      <td>Budgetary central government</td>\n      <td>General Data Dissemination System (GDDS)</td>\n      <td>2008</td>\n      <td>Multiple Indicator Cluster Survey (MICS), 2012</td>\n      <td>Integrated household survey (IHS), 1995</td>\n      <td>NaN</td>\n      <td>NaN</td>\n      <td>2010.0</td>\n      <td>2013.0</td>\n      <td>2001.0</td>\n    </tr>\n    <tr>\n      <th>3</th>\n      <td>ASM</td>\n      <td>American Samoa</td>\n      <td>American Samoa</td>\n      <td>American Samoa</td>\n      <td>AS</td>\n      <td>U.S. dollar</td>\n      <td>NaN</td>\n      <td>East Asia &amp; Pacific</td>\n      <td>Upper middle income</td>\n      <td>AS</td>\n      <td>...</td>\n      <td>NaN</td>\n      <td>NaN</td>\n      <td>2010</td>\n      <td>NaN</td>\n      <td>NaN</td>\n      <td>Yes</td>\n      <td>2007</td>\n      <td>NaN</td>\n      <td>NaN</td>\n      <td>NaN</td>\n    </tr>\n    <tr>\n      <th>4</th>\n      <td>ADO</td>\n      <td>Andorra</td>\n      <td>Andorra</td>\n      <td>Principality of Andorra</td>\n      <td>AD</td>\n      <td>Euro</td>\n      <td>NaN</td>\n      <td>Europe &amp; Central Asia</td>\n      <td>High income: nonOECD</td>\n      <td>AD</td>\n      <td>...</td>\n      <td>NaN</td>\n      <td>NaN</td>\n      <td>2011. Population data compiled from administra...</td>\n      <td>NaN</td>\n      <td>NaN</td>\n      <td>Yes</td>\n      <td>NaN</td>\n      <td>NaN</td>\n      <td>2006.0</td>\n      <td>NaN</td>\n    </tr>\n  </tbody>\n</table>\n<p>5 rows × 31 columns</p>\n</div>"
     },
     "execution_count": 82,
     "metadata": {},
     "output_type": "execute_result"
    }
   ],
   "source": [
    "df = pd.read_csv('world_bank_countries.csv')\n",
    "df[:5]"
   ],
   "metadata": {
    "collapsed": false,
    "ExecuteTime": {
     "end_time": "2023-11-13T11:07:53.096769600Z",
     "start_time": "2023-11-13T11:07:52.979739600Z"
    }
   }
  },
  {
   "cell_type": "code",
   "execution_count": 83,
   "outputs": [
    {
     "data": {
      "text/plain": "              ShortName                      Region CountryCode  \\\n0           Afghanistan                  South Asia         AFG   \n1               Albania       Europe & Central Asia         ALB   \n2               Algeria  Middle East & North Africa         DZA   \n3        American Samoa         East Asia & Pacific         ASM   \n4               Andorra       Europe & Central Asia         ADO   \n..                  ...                         ...         ...   \n242  West Bank and Gaza  Middle East & North Africa         WBG   \n243               World                         NaN         WLD   \n244               Yemen  Middle East & North Africa         YEM   \n245              Zambia          Sub-Saharan Africa         ZMB   \n246            Zimbabwe          Sub-Saharan Africa         ZWE   \n\n           CurrencyUnit  \n0        Afghan afghani  \n1          Albanian lek  \n2        Algerian dinar  \n3           U.S. dollar  \n4                  Euro  \n..                  ...  \n242  Israeli new shekel  \n243                 NaN  \n244         Yemeni rial  \n245  New Zambian kwacha  \n246         U.S. dollar  \n\n[247 rows x 4 columns]",
      "text/html": "<div>\n<style scoped>\n    .dataframe tbody tr th:only-of-type {\n        vertical-align: middle;\n    }\n\n    .dataframe tbody tr th {\n        vertical-align: top;\n    }\n\n    .dataframe thead th {\n        text-align: right;\n    }\n</style>\n<table border=\"1\" class=\"dataframe\">\n  <thead>\n    <tr style=\"text-align: right;\">\n      <th></th>\n      <th>ShortName</th>\n      <th>Region</th>\n      <th>CountryCode</th>\n      <th>CurrencyUnit</th>\n    </tr>\n  </thead>\n  <tbody>\n    <tr>\n      <th>0</th>\n      <td>Afghanistan</td>\n      <td>South Asia</td>\n      <td>AFG</td>\n      <td>Afghan afghani</td>\n    </tr>\n    <tr>\n      <th>1</th>\n      <td>Albania</td>\n      <td>Europe &amp; Central Asia</td>\n      <td>ALB</td>\n      <td>Albanian lek</td>\n    </tr>\n    <tr>\n      <th>2</th>\n      <td>Algeria</td>\n      <td>Middle East &amp; North Africa</td>\n      <td>DZA</td>\n      <td>Algerian dinar</td>\n    </tr>\n    <tr>\n      <th>3</th>\n      <td>American Samoa</td>\n      <td>East Asia &amp; Pacific</td>\n      <td>ASM</td>\n      <td>U.S. dollar</td>\n    </tr>\n    <tr>\n      <th>4</th>\n      <td>Andorra</td>\n      <td>Europe &amp; Central Asia</td>\n      <td>ADO</td>\n      <td>Euro</td>\n    </tr>\n    <tr>\n      <th>...</th>\n      <td>...</td>\n      <td>...</td>\n      <td>...</td>\n      <td>...</td>\n    </tr>\n    <tr>\n      <th>242</th>\n      <td>West Bank and Gaza</td>\n      <td>Middle East &amp; North Africa</td>\n      <td>WBG</td>\n      <td>Israeli new shekel</td>\n    </tr>\n    <tr>\n      <th>243</th>\n      <td>World</td>\n      <td>NaN</td>\n      <td>WLD</td>\n      <td>NaN</td>\n    </tr>\n    <tr>\n      <th>244</th>\n      <td>Yemen</td>\n      <td>Middle East &amp; North Africa</td>\n      <td>YEM</td>\n      <td>Yemeni rial</td>\n    </tr>\n    <tr>\n      <th>245</th>\n      <td>Zambia</td>\n      <td>Sub-Saharan Africa</td>\n      <td>ZMB</td>\n      <td>New Zambian kwacha</td>\n    </tr>\n    <tr>\n      <th>246</th>\n      <td>Zimbabwe</td>\n      <td>Sub-Saharan Africa</td>\n      <td>ZWE</td>\n      <td>U.S. dollar</td>\n    </tr>\n  </tbody>\n</table>\n<p>247 rows × 4 columns</p>\n</div>"
     },
     "execution_count": 83,
     "metadata": {},
     "output_type": "execute_result"
    }
   ],
   "source": [
    "data = df[['ShortName', 'Region', 'CountryCode', 'CurrencyUnit']]\n",
    "data"
   ],
   "metadata": {
    "collapsed": false,
    "ExecuteTime": {
     "end_time": "2023-11-13T11:08:52.047688400Z",
     "start_time": "2023-11-13T11:08:51.929614100Z"
    }
   }
  },
  {
   "cell_type": "code",
   "execution_count": 86,
   "outputs": [
    {
     "data": {
      "text/plain": "    code                name            currency                      region\n0    AFG         Afghanistan      Afghan afghani                  South Asia\n1    ALB             Albania        Albanian lek       Europe & Central Asia\n2    DZA             Algeria      Algerian dinar  Middle East & North Africa\n3    ASM      American Samoa         U.S. dollar         East Asia & Pacific\n4    ADO             Andorra                Euro       Europe & Central Asia\n..   ...                 ...                 ...                         ...\n242  WBG  West Bank and Gaza  Israeli new shekel  Middle East & North Africa\n243  WLD               World                 NaN                         NaN\n244  YEM               Yemen         Yemeni rial  Middle East & North Africa\n245  ZMB              Zambia  New Zambian kwacha          Sub-Saharan Africa\n246  ZWE            Zimbabwe         U.S. dollar          Sub-Saharan Africa\n\n[247 rows x 4 columns]",
      "text/html": "<div>\n<style scoped>\n    .dataframe tbody tr th:only-of-type {\n        vertical-align: middle;\n    }\n\n    .dataframe tbody tr th {\n        vertical-align: top;\n    }\n\n    .dataframe thead th {\n        text-align: right;\n    }\n</style>\n<table border=\"1\" class=\"dataframe\">\n  <thead>\n    <tr style=\"text-align: right;\">\n      <th></th>\n      <th>code</th>\n      <th>name</th>\n      <th>currency</th>\n      <th>region</th>\n    </tr>\n  </thead>\n  <tbody>\n    <tr>\n      <th>0</th>\n      <td>AFG</td>\n      <td>Afghanistan</td>\n      <td>Afghan afghani</td>\n      <td>South Asia</td>\n    </tr>\n    <tr>\n      <th>1</th>\n      <td>ALB</td>\n      <td>Albania</td>\n      <td>Albanian lek</td>\n      <td>Europe &amp; Central Asia</td>\n    </tr>\n    <tr>\n      <th>2</th>\n      <td>DZA</td>\n      <td>Algeria</td>\n      <td>Algerian dinar</td>\n      <td>Middle East &amp; North Africa</td>\n    </tr>\n    <tr>\n      <th>3</th>\n      <td>ASM</td>\n      <td>American Samoa</td>\n      <td>U.S. dollar</td>\n      <td>East Asia &amp; Pacific</td>\n    </tr>\n    <tr>\n      <th>4</th>\n      <td>ADO</td>\n      <td>Andorra</td>\n      <td>Euro</td>\n      <td>Europe &amp; Central Asia</td>\n    </tr>\n    <tr>\n      <th>...</th>\n      <td>...</td>\n      <td>...</td>\n      <td>...</td>\n      <td>...</td>\n    </tr>\n    <tr>\n      <th>242</th>\n      <td>WBG</td>\n      <td>West Bank and Gaza</td>\n      <td>Israeli new shekel</td>\n      <td>Middle East &amp; North Africa</td>\n    </tr>\n    <tr>\n      <th>243</th>\n      <td>WLD</td>\n      <td>World</td>\n      <td>NaN</td>\n      <td>NaN</td>\n    </tr>\n    <tr>\n      <th>244</th>\n      <td>YEM</td>\n      <td>Yemen</td>\n      <td>Yemeni rial</td>\n      <td>Middle East &amp; North Africa</td>\n    </tr>\n    <tr>\n      <th>245</th>\n      <td>ZMB</td>\n      <td>Zambia</td>\n      <td>New Zambian kwacha</td>\n      <td>Sub-Saharan Africa</td>\n    </tr>\n    <tr>\n      <th>246</th>\n      <td>ZWE</td>\n      <td>Zimbabwe</td>\n      <td>U.S. dollar</td>\n      <td>Sub-Saharan Africa</td>\n    </tr>\n  </tbody>\n</table>\n<p>247 rows × 4 columns</p>\n</div>"
     },
     "execution_count": 86,
     "metadata": {},
     "output_type": "execute_result"
    }
   ],
   "source": [
    "df = pd.read_csv(\n",
    "    'world_bank_countries.csv',\n",
    "    header=0,\n",
    "    usecols=[0, 1, 5, 7],\n",
    "    names=['code', 'name', 'currency', 'region']\n",
    ")\n",
    "df"
   ],
   "metadata": {
    "collapsed": false,
    "ExecuteTime": {
     "end_time": "2023-11-13T11:57:04.392692400Z",
     "start_time": "2023-11-13T11:57:04.319389100Z"
    }
   }
  },
  {
   "cell_type": "code",
   "execution_count": 88,
   "outputs": [],
   "source": [
    "df = pd.read_csv(\n",
    "    'world_bank_countries.csv',\n",
    "    header=0,\n",
    "    usecols=[0, 1, 5, 7],\n",
    "    names=['code', 'name', 'currency', 'region']\n",
    ")[['region', 'code', 'name', 'currency']]"
   ],
   "metadata": {
    "collapsed": false,
    "ExecuteTime": {
     "end_time": "2023-11-13T12:00:26.505349300Z",
     "start_time": "2023-11-13T12:00:26.409316200Z"
    }
   }
  },
  {
   "cell_type": "code",
   "execution_count": 89,
   "outputs": [
    {
     "data": {
      "text/plain": "                         region code                name            currency\n0                    South Asia  AFG         Afghanistan      Afghan afghani\n1         Europe & Central Asia  ALB             Albania        Albanian lek\n2    Middle East & North Africa  DZA             Algeria      Algerian dinar\n3           East Asia & Pacific  ASM      American Samoa         U.S. dollar\n4         Europe & Central Asia  ADO             Andorra                Euro\n..                          ...  ...                 ...                 ...\n242  Middle East & North Africa  WBG  West Bank and Gaza  Israeli new shekel\n243                         NaN  WLD               World                 NaN\n244  Middle East & North Africa  YEM               Yemen         Yemeni rial\n245          Sub-Saharan Africa  ZMB              Zambia  New Zambian kwacha\n246          Sub-Saharan Africa  ZWE            Zimbabwe         U.S. dollar\n\n[247 rows x 4 columns]",
      "text/html": "<div>\n<style scoped>\n    .dataframe tbody tr th:only-of-type {\n        vertical-align: middle;\n    }\n\n    .dataframe tbody tr th {\n        vertical-align: top;\n    }\n\n    .dataframe thead th {\n        text-align: right;\n    }\n</style>\n<table border=\"1\" class=\"dataframe\">\n  <thead>\n    <tr style=\"text-align: right;\">\n      <th></th>\n      <th>region</th>\n      <th>code</th>\n      <th>name</th>\n      <th>currency</th>\n    </tr>\n  </thead>\n  <tbody>\n    <tr>\n      <th>0</th>\n      <td>South Asia</td>\n      <td>AFG</td>\n      <td>Afghanistan</td>\n      <td>Afghan afghani</td>\n    </tr>\n    <tr>\n      <th>1</th>\n      <td>Europe &amp; Central Asia</td>\n      <td>ALB</td>\n      <td>Albania</td>\n      <td>Albanian lek</td>\n    </tr>\n    <tr>\n      <th>2</th>\n      <td>Middle East &amp; North Africa</td>\n      <td>DZA</td>\n      <td>Algeria</td>\n      <td>Algerian dinar</td>\n    </tr>\n    <tr>\n      <th>3</th>\n      <td>East Asia &amp; Pacific</td>\n      <td>ASM</td>\n      <td>American Samoa</td>\n      <td>U.S. dollar</td>\n    </tr>\n    <tr>\n      <th>4</th>\n      <td>Europe &amp; Central Asia</td>\n      <td>ADO</td>\n      <td>Andorra</td>\n      <td>Euro</td>\n    </tr>\n    <tr>\n      <th>...</th>\n      <td>...</td>\n      <td>...</td>\n      <td>...</td>\n      <td>...</td>\n    </tr>\n    <tr>\n      <th>242</th>\n      <td>Middle East &amp; North Africa</td>\n      <td>WBG</td>\n      <td>West Bank and Gaza</td>\n      <td>Israeli new shekel</td>\n    </tr>\n    <tr>\n      <th>243</th>\n      <td>NaN</td>\n      <td>WLD</td>\n      <td>World</td>\n      <td>NaN</td>\n    </tr>\n    <tr>\n      <th>244</th>\n      <td>Middle East &amp; North Africa</td>\n      <td>YEM</td>\n      <td>Yemen</td>\n      <td>Yemeni rial</td>\n    </tr>\n    <tr>\n      <th>245</th>\n      <td>Sub-Saharan Africa</td>\n      <td>ZMB</td>\n      <td>Zambia</td>\n      <td>New Zambian kwacha</td>\n    </tr>\n    <tr>\n      <th>246</th>\n      <td>Sub-Saharan Africa</td>\n      <td>ZWE</td>\n      <td>Zimbabwe</td>\n      <td>U.S. dollar</td>\n    </tr>\n  </tbody>\n</table>\n<p>247 rows × 4 columns</p>\n</div>"
     },
     "execution_count": 89,
     "metadata": {},
     "output_type": "execute_result"
    }
   ],
   "source": [
    "df"
   ],
   "metadata": {
    "collapsed": false,
    "ExecuteTime": {
     "end_time": "2023-11-13T12:00:43.959741200Z",
     "start_time": "2023-11-13T12:00:43.843736100Z"
    }
   }
  },
  {
   "cell_type": "code",
   "execution_count": 90,
   "outputs": [
    {
     "name": "stdout",
     "output_type": "stream",
     "text": [
      "<class 'pandas.core.frame.DataFrame'>\n",
      "RangeIndex: 247 entries, 0 to 246\n",
      "Data columns (total 4 columns):\n",
      " #   Column    Non-Null Count  Dtype \n",
      "---  ------    --------------  ----- \n",
      " 0   region    214 non-null    object\n",
      " 1   code      247 non-null    object\n",
      " 2   name      247 non-null    object\n",
      " 3   currency  214 non-null    object\n",
      "dtypes: object(4)\n",
      "memory usage: 7.8+ KB\n"
     ]
    }
   ],
   "source": [
    "df.info()"
   ],
   "metadata": {
    "collapsed": false,
    "ExecuteTime": {
     "end_time": "2023-11-13T12:00:59.483606800Z",
     "start_time": "2023-11-13T12:00:59.321606200Z"
    }
   }
  },
  {
   "cell_type": "code",
   "execution_count": 91,
   "outputs": [
    {
     "data": {
      "text/plain": "0       True\n1       True\n2       True\n3       True\n4       True\n       ...  \n242     True\n243    False\n244     True\n245     True\n246     True\nName: region, Length: 247, dtype: bool"
     },
     "execution_count": 91,
     "metadata": {},
     "output_type": "execute_result"
    }
   ],
   "source": [
    "df['region'].notnull()"
   ],
   "metadata": {
    "collapsed": false,
    "ExecuteTime": {
     "end_time": "2023-11-13T12:02:07.880134700Z",
     "start_time": "2023-11-13T12:02:07.726135200Z"
    }
   }
  },
  {
   "cell_type": "code",
   "execution_count": 95,
   "outputs": [
    {
     "name": "stdout",
     "output_type": "stream",
     "text": [
      "<class 'pandas.core.frame.DataFrame'>\n",
      "Int64Index: 214 entries, 0 to 246\n",
      "Data columns (total 4 columns):\n",
      " #   Column    Non-Null Count  Dtype \n",
      "---  ------    --------------  ----- \n",
      " 0   region    214 non-null    object\n",
      " 1   code      214 non-null    object\n",
      " 2   name      214 non-null    object\n",
      " 3   currency  214 non-null    object\n",
      "dtypes: object(4)\n",
      "memory usage: 8.4+ KB\n"
     ]
    }
   ],
   "source": [
    "data = df[df['region'].notnull()]\n",
    "data.info()"
   ],
   "metadata": {
    "collapsed": false,
    "ExecuteTime": {
     "end_time": "2023-11-13T12:04:35.881082400Z",
     "start_time": "2023-11-13T12:04:35.795053Z"
    }
   }
  },
  {
   "cell_type": "code",
   "execution_count": 96,
   "outputs": [
    {
     "data": {
      "text/plain": "                  region code                      name  \\\n223  East Asia & Pacific  TON                     Tonga   \n42   East Asia & Pacific  CHN                     China   \n53   East Asia & Pacific  PRK  Dem. People's Rep. Korea   \n229  East Asia & Pacific  TUV                    Tuvalu   \n73   East Asia & Pacific  FJI                      Fiji   \n..                   ...  ...                       ...   \n134   Sub-Saharan Africa  MDG                Madagascar   \n124   Sub-Saharan Africa  LBR                   Liberia   \n245   Sub-Saharan Africa  ZMB                    Zambia   \n88    Sub-Saharan Africa  GNB             Guinea-Bissau   \n246   Sub-Saharan Africa  ZWE                  Zimbabwe   \n\n                                       currency  \n223                              Tongan pa'anga  \n42                                 Chinese yuan  \n53   Democratic People's Republic of Korean won  \n229                           Australian dollar  \n73                                Fijian dollar  \n..                                          ...  \n134                             Malagasy ariary  \n124                                 U.S. dollar  \n245                          New Zambian kwacha  \n88                       West African CFA franc  \n246                                 U.S. dollar  \n\n[214 rows x 4 columns]",
      "text/html": "<div>\n<style scoped>\n    .dataframe tbody tr th:only-of-type {\n        vertical-align: middle;\n    }\n\n    .dataframe tbody tr th {\n        vertical-align: top;\n    }\n\n    .dataframe thead th {\n        text-align: right;\n    }\n</style>\n<table border=\"1\" class=\"dataframe\">\n  <thead>\n    <tr style=\"text-align: right;\">\n      <th></th>\n      <th>region</th>\n      <th>code</th>\n      <th>name</th>\n      <th>currency</th>\n    </tr>\n  </thead>\n  <tbody>\n    <tr>\n      <th>223</th>\n      <td>East Asia &amp; Pacific</td>\n      <td>TON</td>\n      <td>Tonga</td>\n      <td>Tongan pa'anga</td>\n    </tr>\n    <tr>\n      <th>42</th>\n      <td>East Asia &amp; Pacific</td>\n      <td>CHN</td>\n      <td>China</td>\n      <td>Chinese yuan</td>\n    </tr>\n    <tr>\n      <th>53</th>\n      <td>East Asia &amp; Pacific</td>\n      <td>PRK</td>\n      <td>Dem. People's Rep. Korea</td>\n      <td>Democratic People's Republic of Korean won</td>\n    </tr>\n    <tr>\n      <th>229</th>\n      <td>East Asia &amp; Pacific</td>\n      <td>TUV</td>\n      <td>Tuvalu</td>\n      <td>Australian dollar</td>\n    </tr>\n    <tr>\n      <th>73</th>\n      <td>East Asia &amp; Pacific</td>\n      <td>FJI</td>\n      <td>Fiji</td>\n      <td>Fijian dollar</td>\n    </tr>\n    <tr>\n      <th>...</th>\n      <td>...</td>\n      <td>...</td>\n      <td>...</td>\n      <td>...</td>\n    </tr>\n    <tr>\n      <th>134</th>\n      <td>Sub-Saharan Africa</td>\n      <td>MDG</td>\n      <td>Madagascar</td>\n      <td>Malagasy ariary</td>\n    </tr>\n    <tr>\n      <th>124</th>\n      <td>Sub-Saharan Africa</td>\n      <td>LBR</td>\n      <td>Liberia</td>\n      <td>U.S. dollar</td>\n    </tr>\n    <tr>\n      <th>245</th>\n      <td>Sub-Saharan Africa</td>\n      <td>ZMB</td>\n      <td>Zambia</td>\n      <td>New Zambian kwacha</td>\n    </tr>\n    <tr>\n      <th>88</th>\n      <td>Sub-Saharan Africa</td>\n      <td>GNB</td>\n      <td>Guinea-Bissau</td>\n      <td>West African CFA franc</td>\n    </tr>\n    <tr>\n      <th>246</th>\n      <td>Sub-Saharan Africa</td>\n      <td>ZWE</td>\n      <td>Zimbabwe</td>\n      <td>U.S. dollar</td>\n    </tr>\n  </tbody>\n</table>\n<p>214 rows × 4 columns</p>\n</div>"
     },
     "execution_count": 96,
     "metadata": {},
     "output_type": "execute_result"
    }
   ],
   "source": [
    "data.sort_values('region')"
   ],
   "metadata": {
    "collapsed": false,
    "ExecuteTime": {
     "end_time": "2023-11-13T12:05:49.514471200Z",
     "start_time": "2023-11-13T12:05:49.345457300Z"
    }
   }
  },
  {
   "cell_type": "code",
   "execution_count": 98,
   "outputs": [
    {
     "data": {
      "text/plain": "                  region code             name            currency\n3    East Asia & Pacific  ASM   American Samoa         U.S. dollar\n11   East Asia & Pacific  AUS        Australia   Australian dollar\n27   East Asia & Pacific  BRN           Brunei       Brunei dollar\n42   East Asia & Pacific  CHN            China        Chinese yuan\n73   East Asia & Pacific  FJI             Fiji       Fijian dollar\n..                   ...  ...              ...                 ...\n230   Sub-Saharan Africa  UGA           Uganda    Ugandan shilling\n199   Sub-Saharan Africa  ZAF     South Africa  South African rand\n54    Sub-Saharan Africa  ZAR  Dem. Rep. Congo     Congolese franc\n245   Sub-Saharan Africa  ZMB           Zambia  New Zambian kwacha\n246   Sub-Saharan Africa  ZWE         Zimbabwe         U.S. dollar\n\n[214 rows x 4 columns]",
      "text/html": "<div>\n<style scoped>\n    .dataframe tbody tr th:only-of-type {\n        vertical-align: middle;\n    }\n\n    .dataframe tbody tr th {\n        vertical-align: top;\n    }\n\n    .dataframe thead th {\n        text-align: right;\n    }\n</style>\n<table border=\"1\" class=\"dataframe\">\n  <thead>\n    <tr style=\"text-align: right;\">\n      <th></th>\n      <th>region</th>\n      <th>code</th>\n      <th>name</th>\n      <th>currency</th>\n    </tr>\n  </thead>\n  <tbody>\n    <tr>\n      <th>3</th>\n      <td>East Asia &amp; Pacific</td>\n      <td>ASM</td>\n      <td>American Samoa</td>\n      <td>U.S. dollar</td>\n    </tr>\n    <tr>\n      <th>11</th>\n      <td>East Asia &amp; Pacific</td>\n      <td>AUS</td>\n      <td>Australia</td>\n      <td>Australian dollar</td>\n    </tr>\n    <tr>\n      <th>27</th>\n      <td>East Asia &amp; Pacific</td>\n      <td>BRN</td>\n      <td>Brunei</td>\n      <td>Brunei dollar</td>\n    </tr>\n    <tr>\n      <th>42</th>\n      <td>East Asia &amp; Pacific</td>\n      <td>CHN</td>\n      <td>China</td>\n      <td>Chinese yuan</td>\n    </tr>\n    <tr>\n      <th>73</th>\n      <td>East Asia &amp; Pacific</td>\n      <td>FJI</td>\n      <td>Fiji</td>\n      <td>Fijian dollar</td>\n    </tr>\n    <tr>\n      <th>...</th>\n      <td>...</td>\n      <td>...</td>\n      <td>...</td>\n      <td>...</td>\n    </tr>\n    <tr>\n      <th>230</th>\n      <td>Sub-Saharan Africa</td>\n      <td>UGA</td>\n      <td>Uganda</td>\n      <td>Ugandan shilling</td>\n    </tr>\n    <tr>\n      <th>199</th>\n      <td>Sub-Saharan Africa</td>\n      <td>ZAF</td>\n      <td>South Africa</td>\n      <td>South African rand</td>\n    </tr>\n    <tr>\n      <th>54</th>\n      <td>Sub-Saharan Africa</td>\n      <td>ZAR</td>\n      <td>Dem. Rep. Congo</td>\n      <td>Congolese franc</td>\n    </tr>\n    <tr>\n      <th>245</th>\n      <td>Sub-Saharan Africa</td>\n      <td>ZMB</td>\n      <td>Zambia</td>\n      <td>New Zambian kwacha</td>\n    </tr>\n    <tr>\n      <th>246</th>\n      <td>Sub-Saharan Africa</td>\n      <td>ZWE</td>\n      <td>Zimbabwe</td>\n      <td>U.S. dollar</td>\n    </tr>\n  </tbody>\n</table>\n<p>214 rows × 4 columns</p>\n</div>"
     },
     "execution_count": 98,
     "metadata": {},
     "output_type": "execute_result"
    }
   ],
   "source": [
    "sorted_data = data.sort_values(['region', 'code'])\n",
    "sorted_data"
   ],
   "metadata": {
    "collapsed": false,
    "ExecuteTime": {
     "end_time": "2023-11-13T12:06:48.764184200Z",
     "start_time": "2023-11-13T12:06:48.652588500Z"
    }
   }
  },
  {
   "cell_type": "code",
   "execution_count": 99,
   "outputs": [
    {
     "name": "stdout",
     "output_type": "stream",
     "text": [
      "3 <class 'pandas.core.series.Series'>\n",
      "11 <class 'pandas.core.series.Series'>\n",
      "27 <class 'pandas.core.series.Series'>\n",
      "42 <class 'pandas.core.series.Series'>\n",
      "73 <class 'pandas.core.series.Series'>\n",
      "144 <class 'pandas.core.series.Series'>\n",
      "85 <class 'pandas.core.series.Series'>\n",
      "96 <class 'pandas.core.series.Series'>\n",
      "100 <class 'pandas.core.series.Series'>\n",
      "108 <class 'pandas.core.series.Series'>\n",
      "32 <class 'pandas.core.series.Series'>\n",
      "112 <class 'pandas.core.series.Series'>\n",
      "113 <class 'pandas.core.series.Series'>\n",
      "117 <class 'pandas.core.series.Series'>\n",
      "132 <class 'pandas.core.series.Series'>\n",
      "140 <class 'pandas.core.series.Series'>\n",
      "154 <class 'pandas.core.series.Series'>\n",
      "150 <class 'pandas.core.series.Series'>\n",
      "164 <class 'pandas.core.series.Series'>\n",
      "136 <class 'pandas.core.series.Series'>\n",
      "158 <class 'pandas.core.series.Series'>\n",
      "159 <class 'pandas.core.series.Series'>\n",
      "176 <class 'pandas.core.series.Series'>\n",
      "171 <class 'pandas.core.series.Series'>\n",
      "173 <class 'pandas.core.series.Series'>\n",
      "53 <class 'pandas.core.series.Series'>\n",
      "77 <class 'pandas.core.series.Series'>\n",
      "192 <class 'pandas.core.series.Series'>\n",
      "197 <class 'pandas.core.series.Series'>\n",
      "218 <class 'pandas.core.series.Series'>\n",
      "221 <class 'pandas.core.series.Series'>\n",
      "223 <class 'pandas.core.series.Series'>\n",
      "229 <class 'pandas.core.series.Series'>\n",
      "240 <class 'pandas.core.series.Series'>\n",
      "238 <class 'pandas.core.series.Series'>\n",
      "184 <class 'pandas.core.series.Series'>\n",
      "4 <class 'pandas.core.series.Series'>\n",
      "1 <class 'pandas.core.series.Series'>\n",
      "9 <class 'pandas.core.series.Series'>\n",
      "12 <class 'pandas.core.series.Series'>\n",
      "13 <class 'pandas.core.series.Series'>\n",
      "18 <class 'pandas.core.series.Series'>\n",
      "28 <class 'pandas.core.series.Series'>\n",
      "24 <class 'pandas.core.series.Series'>\n",
      "17 <class 'pandas.core.series.Series'>\n",
      "214 <class 'pandas.core.series.Series'>\n",
      "40 <class 'pandas.core.series.Series'>\n",
      "51 <class 'pandas.core.series.Series'>\n",
      "52 <class 'pandas.core.series.Series'>\n",
      "80 <class 'pandas.core.series.Series'>\n",
      "55 <class 'pandas.core.series.Series'>\n",
      "202 <class 'pandas.core.series.Series'>\n",
      "66 <class 'pandas.core.series.Series'>\n",
      "74 <class 'pandas.core.series.Series'>\n",
      "76 <class 'pandas.core.series.Series'>\n",
      "72 <class 'pandas.core.series.Series'>\n",
      "233 <class 'pandas.core.series.Series'>\n",
      "79 <class 'pandas.core.series.Series'>\n",
      "82 <class 'pandas.core.series.Series'>\n",
      "83 <class 'pandas.core.series.Series'>\n",
      "48 <class 'pandas.core.series.Series'>\n",
      "97 <class 'pandas.core.series.Series'>\n",
      "104 <class 'pandas.core.series.Series'>\n",
      "103 <class 'pandas.core.series.Series'>\n",
      "98 <class 'pandas.core.series.Series'>\n",
      "106 <class 'pandas.core.series.Series'>\n",
      "110 <class 'pandas.core.series.Series'>\n",
      "116 <class 'pandas.core.series.Series'>\n",
      "114 <class 'pandas.core.series.Series'>\n",
      "126 <class 'pandas.core.series.Series'>\n",
      "127 <class 'pandas.core.series.Series'>\n",
      "131 <class 'pandas.core.series.Series'>\n",
      "120 <class 'pandas.core.series.Series'>\n",
      "149 <class 'pandas.core.series.Series'>\n",
      "148 <class 'pandas.core.series.Series'>\n",
      "133 <class 'pandas.core.series.Series'>\n",
      "151 <class 'pandas.core.series.Series'>\n",
      "157 <class 'pandas.core.series.Series'>\n",
      "165 <class 'pandas.core.series.Series'>\n",
      "177 <class 'pandas.core.series.Series'>\n",
      "178 <class 'pandas.core.series.Series'>\n",
      "181 <class 'pandas.core.series.Series'>\n",
      "182 <class 'pandas.core.series.Series'>\n",
      "185 <class 'pandas.core.series.Series'>\n",
      "189 <class 'pandas.core.series.Series'>\n",
      "194 <class 'pandas.core.series.Series'>\n",
      "195 <class 'pandas.core.series.Series'>\n",
      "213 <class 'pandas.core.series.Series'>\n",
      "216 <class 'pandas.core.series.Series'>\n",
      "227 <class 'pandas.core.series.Series'>\n",
      "226 <class 'pandas.core.series.Series'>\n",
      "231 <class 'pandas.core.series.Series'>\n",
      "237 <class 'pandas.core.series.Series'>\n",
      "10 <class 'pandas.core.series.Series'>\n",
      "8 <class 'pandas.core.series.Series'>\n",
      "6 <class 'pandas.core.series.Series'>\n",
      "219 <class 'pandas.core.series.Series'>\n",
      "19 <class 'pandas.core.series.Series'>\n",
      "23 <class 'pandas.core.series.Series'>\n",
      "26 <class 'pandas.core.series.Series'>\n",
      "16 <class 'pandas.core.series.Series'>\n",
      "41 <class 'pandas.core.series.Series'>\n",
      "43 <class 'pandas.core.series.Series'>\n",
      "46 <class 'pandas.core.series.Series'>\n",
      "49 <class 'pandas.core.series.Series'>\n",
      "50 <class 'pandas.core.series.Series'>\n",
      "36 <class 'pandas.core.series.Series'>\n",
      "57 <class 'pandas.core.series.Series'>\n",
      "58 <class 'pandas.core.series.Series'>\n",
      "61 <class 'pandas.core.series.Series'>\n",
      "84 <class 'pandas.core.series.Series'>\n",
      "86 <class 'pandas.core.series.Series'>\n",
      "89 <class 'pandas.core.series.Series'>\n",
      "95 <class 'pandas.core.series.Series'>\n",
      "90 <class 'pandas.core.series.Series'>\n",
      "107 <class 'pandas.core.series.Series'>\n",
      "204 <class 'pandas.core.series.Series'>\n",
      "205 <class 'pandas.core.series.Series'>\n",
      "206 <class 'pandas.core.series.Series'>\n",
      "143 <class 'pandas.core.series.Series'>\n",
      "160 <class 'pandas.core.series.Series'>\n",
      "172 <class 'pandas.core.series.Series'>\n",
      "175 <class 'pandas.core.series.Series'>\n",
      "179 <class 'pandas.core.series.Series'>\n",
      "174 <class 'pandas.core.series.Series'>\n",
      "63 <class 'pandas.core.series.Series'>\n",
      "211 <class 'pandas.core.series.Series'>\n",
      "193 <class 'pandas.core.series.Series'>\n",
      "228 <class 'pandas.core.series.Series'>\n",
      "224 <class 'pandas.core.series.Series'>\n",
      "236 <class 'pandas.core.series.Series'>\n",
      "207 <class 'pandas.core.series.Series'>\n",
      "239 <class 'pandas.core.series.Series'>\n",
      "241 <class 'pandas.core.series.Series'>\n",
      "232 <class 'pandas.core.series.Series'>\n",
      "14 <class 'pandas.core.series.Series'>\n",
      "56 <class 'pandas.core.series.Series'>\n",
      "2 <class 'pandas.core.series.Series'>\n",
      "62 <class 'pandas.core.series.Series'>\n",
      "101 <class 'pandas.core.series.Series'>\n",
      "102 <class 'pandas.core.series.Series'>\n",
      "105 <class 'pandas.core.series.Series'>\n",
      "109 <class 'pandas.core.series.Series'>\n",
      "115 <class 'pandas.core.series.Series'>\n",
      "122 <class 'pandas.core.series.Series'>\n",
      "125 <class 'pandas.core.series.Series'>\n",
      "152 <class 'pandas.core.series.Series'>\n",
      "139 <class 'pandas.core.series.Series'>\n",
      "167 <class 'pandas.core.series.Series'>\n",
      "180 <class 'pandas.core.series.Series'>\n",
      "187 <class 'pandas.core.series.Series'>\n",
      "215 <class 'pandas.core.series.Series'>\n",
      "225 <class 'pandas.core.series.Series'>\n",
      "242 <class 'pandas.core.series.Series'>\n",
      "244 <class 'pandas.core.series.Series'>\n",
      "21 <class 'pandas.core.series.Series'>\n",
      "34 <class 'pandas.core.series.Series'>\n",
      "234 <class 'pandas.core.series.Series'>\n",
      "0 <class 'pandas.core.series.Series'>\n",
      "15 <class 'pandas.core.series.Series'>\n",
      "22 <class 'pandas.core.series.Series'>\n",
      "99 <class 'pandas.core.series.Series'>\n",
      "203 <class 'pandas.core.series.Series'>\n",
      "137 <class 'pandas.core.series.Series'>\n",
      "156 <class 'pandas.core.series.Series'>\n",
      "170 <class 'pandas.core.series.Series'>\n",
      "5 <class 'pandas.core.series.Series'>\n",
      "30 <class 'pandas.core.series.Series'>\n",
      "20 <class 'pandas.core.series.Series'>\n",
      "29 <class 'pandas.core.series.Series'>\n",
      "25 <class 'pandas.core.series.Series'>\n",
      "37 <class 'pandas.core.series.Series'>\n",
      "47 <class 'pandas.core.series.Series'>\n",
      "33 <class 'pandas.core.series.Series'>\n",
      "45 <class 'pandas.core.series.Series'>\n",
      "44 <class 'pandas.core.series.Series'>\n",
      "31 <class 'pandas.core.series.Series'>\n",
      "65 <class 'pandas.core.series.Series'>\n",
      "67 <class 'pandas.core.series.Series'>\n",
      "78 <class 'pandas.core.series.Series'>\n",
      "81 <class 'pandas.core.series.Series'>\n",
      "87 <class 'pandas.core.series.Series'>\n",
      "220 <class 'pandas.core.series.Series'>\n",
      "88 <class 'pandas.core.series.Series'>\n",
      "64 <class 'pandas.core.series.Series'>\n",
      "111 <class 'pandas.core.series.Series'>\n",
      "124 <class 'pandas.core.series.Series'>\n",
      "123 <class 'pandas.core.series.Series'>\n",
      "134 <class 'pandas.core.series.Series'>\n",
      "138 <class 'pandas.core.series.Series'>\n",
      "153 <class 'pandas.core.series.Series'>\n",
      "141 <class 'pandas.core.series.Series'>\n",
      "142 <class 'pandas.core.series.Series'>\n",
      "135 <class 'pandas.core.series.Series'>\n",
      "155 <class 'pandas.core.series.Series'>\n",
      "161 <class 'pandas.core.series.Series'>\n",
      "162 <class 'pandas.core.series.Series'>\n",
      "183 <class 'pandas.core.series.Series'>\n",
      "210 <class 'pandas.core.series.Series'>\n",
      "188 <class 'pandas.core.series.Series'>\n",
      "191 <class 'pandas.core.series.Series'>\n",
      "198 <class 'pandas.core.series.Series'>\n",
      "201 <class 'pandas.core.series.Series'>\n",
      "186 <class 'pandas.core.series.Series'>\n",
      "212 <class 'pandas.core.series.Series'>\n",
      "190 <class 'pandas.core.series.Series'>\n",
      "39 <class 'pandas.core.series.Series'>\n",
      "222 <class 'pandas.core.series.Series'>\n",
      "217 <class 'pandas.core.series.Series'>\n",
      "230 <class 'pandas.core.series.Series'>\n",
      "199 <class 'pandas.core.series.Series'>\n",
      "54 <class 'pandas.core.series.Series'>\n",
      "245 <class 'pandas.core.series.Series'>\n",
      "246 <class 'pandas.core.series.Series'>\n"
     ]
    }
   ],
   "source": [
    "for row_label, row_series in sorted_data.iterrows():\n",
    "    print(row_label, type(row_series))"
   ],
   "metadata": {
    "collapsed": false,
    "ExecuteTime": {
     "end_time": "2023-11-13T12:11:08.047523900Z",
     "start_time": "2023-11-13T12:11:07.899492200Z"
    }
   }
  },
  {
   "cell_type": "code",
   "execution_count": 104,
   "outputs": [
    {
     "name": "stdout",
     "output_type": "stream",
     "text": [
      "region      East Asia & Pacific\n",
      "code                        ASM\n",
      "name             American Samoa\n",
      "currency            U.S. dollar\n",
      "Name: 3, dtype: object\n",
      "--------------------\n",
      "region      East Asia & Pacific\n",
      "code                        AUS\n",
      "name                  Australia\n",
      "currency      Australian dollar\n",
      "Name: 11, dtype: object\n",
      "--------------------\n",
      "region      East Asia & Pacific\n",
      "code                        BRN\n",
      "name                     Brunei\n",
      "currency          Brunei dollar\n",
      "Name: 27, dtype: object\n",
      "--------------------\n",
      "region      East Asia & Pacific\n",
      "code                        CHN\n",
      "name                      China\n",
      "currency           Chinese yuan\n",
      "Name: 42, dtype: object\n",
      "--------------------\n",
      "region      East Asia & Pacific\n",
      "code                        FJI\n",
      "name                       Fiji\n",
      "currency          Fijian dollar\n",
      "Name: 73, dtype: object\n",
      "--------------------\n",
      "region      East Asia & Pacific\n",
      "code                        FSM\n",
      "name                 Micronesia\n",
      "currency            U.S. dollar\n",
      "Name: 144, dtype: object\n",
      "--------------------\n",
      "region      East Asia & Pacific\n",
      "code                        GUM\n",
      "name                       Guam\n",
      "currency            U.S. dollar\n",
      "Name: 85, dtype: object\n",
      "--------------------\n",
      "region       East Asia & Pacific\n",
      "code                         HKG\n",
      "name        Hong Kong SAR, China\n",
      "currency        Hong Kong dollar\n",
      "Name: 96, dtype: object\n",
      "--------------------\n",
      "region      East Asia & Pacific\n",
      "code                        IDN\n",
      "name                  Indonesia\n",
      "currency      Indonesian rupiah\n",
      "Name: 100, dtype: object\n",
      "--------------------\n",
      "region      East Asia & Pacific\n",
      "code                        JPN\n",
      "name                      Japan\n",
      "currency           Japanese yen\n",
      "Name: 108, dtype: object\n",
      "--------------------\n",
      "region      East Asia & Pacific\n",
      "code                        KHM\n",
      "name                   Cambodia\n",
      "currency         Cambodian riel\n",
      "Name: 32, dtype: object\n",
      "--------------------\n",
      "region      East Asia & Pacific\n",
      "code                        KIR\n",
      "name                   Kiribati\n",
      "currency      Australian dollar\n",
      "Name: 112, dtype: object\n",
      "--------------------\n",
      "region      East Asia & Pacific\n",
      "code                        KOR\n",
      "name                      Korea\n",
      "currency             Korean won\n",
      "Name: 113, dtype: object\n",
      "--------------------\n",
      "region      East Asia & Pacific\n",
      "code                        LAO\n",
      "name                    Lao PDR\n",
      "currency                Lao kip\n",
      "Name: 117, dtype: object\n",
      "--------------------\n",
      "region      East Asia & Pacific\n",
      "code                        MAC\n",
      "name           Macao SAR, China\n",
      "currency           Macao pataca\n",
      "Name: 132, dtype: object\n",
      "--------------------\n",
      "region      East Asia & Pacific\n",
      "code                        MHL\n",
      "name           Marshall Islands\n",
      "currency            U.S. dollar\n",
      "Name: 140, dtype: object\n",
      "--------------------\n",
      "region      East Asia & Pacific\n",
      "code                        MMR\n",
      "name                    Myanmar\n",
      "currency           Myanmar kyat\n",
      "Name: 154, dtype: object\n",
      "--------------------\n",
      "region      East Asia & Pacific\n",
      "code                        MNG\n",
      "name                   Mongolia\n",
      "currency       Mongolian tugrik\n",
      "Name: 150, dtype: object\n",
      "--------------------\n",
      "region           East Asia & Pacific\n",
      "code                             MNP\n",
      "name        Northern Mariana Islands\n",
      "currency                 U.S. dollar\n",
      "Name: 164, dtype: object\n",
      "--------------------\n",
      "region      East Asia & Pacific\n",
      "code                        MYS\n",
      "name                   Malaysia\n",
      "currency      Malaysian ringgit\n",
      "Name: 136, dtype: object\n",
      "--------------------\n",
      "region      East Asia & Pacific\n",
      "code                        NCL\n",
      "name              New Caledonia\n",
      "currency              CFP franc\n",
      "Name: 158, dtype: object\n",
      "--------------------\n",
      "region      East Asia & Pacific\n",
      "code                        NZL\n",
      "name                New Zealand\n",
      "currency     New Zealand dollar\n",
      "Name: 159, dtype: object\n",
      "--------------------\n",
      "region      East Asia & Pacific\n",
      "code                        PHL\n",
      "name                Philippines\n",
      "currency        Philippine peso\n",
      "Name: 176, dtype: object\n",
      "--------------------\n",
      "region      East Asia & Pacific\n",
      "code                        PLW\n",
      "name                      Palau\n",
      "currency            U.S. dollar\n",
      "Name: 171, dtype: object\n",
      "--------------------\n",
      "region        East Asia & Pacific\n",
      "code                          PNG\n",
      "name             Papua New Guinea\n",
      "currency    Papua New Guinea kina\n",
      "Name: 173, dtype: object\n",
      "--------------------\n",
      "region                             East Asia & Pacific\n",
      "code                                               PRK\n",
      "name                          Dem. People's Rep. Korea\n",
      "currency    Democratic People's Republic of Korean won\n",
      "Name: 53, dtype: object\n",
      "--------------------\n",
      "region      East Asia & Pacific\n",
      "code                        PYF\n",
      "name           French Polynesia\n",
      "currency              CFP franc\n",
      "Name: 77, dtype: object\n",
      "--------------------\n",
      "region      East Asia & Pacific\n",
      "code                        SGP\n",
      "name                  Singapore\n",
      "currency       Singapore dollar\n",
      "Name: 192, dtype: object\n",
      "--------------------\n",
      "region         East Asia & Pacific\n",
      "code                           SLB\n",
      "name               Solomon Islands\n",
      "currency    Solomon Islands dollar\n",
      "Name: 197, dtype: object\n",
      "--------------------\n",
      "region      East Asia & Pacific\n",
      "code                        THA\n",
      "name                   Thailand\n",
      "currency              Thai baht\n",
      "Name: 218, dtype: object\n",
      "--------------------\n",
      "region      East Asia & Pacific\n",
      "code                        TMP\n",
      "name                Timor-Leste\n",
      "currency            U.S. dollar\n",
      "Name: 221, dtype: object\n",
      "--------------------\n",
      "region      East Asia & Pacific\n",
      "code                        TON\n",
      "name                      Tonga\n",
      "currency         Tongan pa'anga\n",
      "Name: 223, dtype: object\n",
      "--------------------\n",
      "region      East Asia & Pacific\n",
      "code                        TUV\n",
      "name                     Tuvalu\n",
      "currency      Australian dollar\n",
      "Name: 229, dtype: object\n",
      "--------------------\n",
      "region      East Asia & Pacific\n",
      "code                        VNM\n",
      "name                    Vietnam\n",
      "currency        Vietnamese dong\n",
      "Name: 240, dtype: object\n",
      "--------------------\n",
      "region      East Asia & Pacific\n",
      "code                        VUT\n",
      "name                    Vanuatu\n",
      "currency           Vanuatu vatu\n",
      "Name: 238, dtype: object\n",
      "--------------------\n",
      "region      East Asia & Pacific\n",
      "code                        WSM\n",
      "name                      Samoa\n",
      "currency            Samoan tala\n",
      "Name: 184, dtype: object\n",
      "--------------------\n",
      "region      Europe & Central Asia\n",
      "code                          ADO\n",
      "name                      Andorra\n",
      "currency                     Euro\n",
      "Name: 4, dtype: object\n",
      "--------------------\n",
      "region      Europe & Central Asia\n",
      "code                          ALB\n",
      "name                      Albania\n",
      "currency             Albanian lek\n",
      "Name: 1, dtype: object\n",
      "--------------------\n",
      "region      Europe & Central Asia\n",
      "code                          ARM\n",
      "name                      Armenia\n",
      "currency            Armenian dram\n",
      "Name: 9, dtype: object\n",
      "--------------------\n",
      "region      Europe & Central Asia\n",
      "code                          AUT\n",
      "name                      Austria\n",
      "currency                     Euro\n",
      "Name: 12, dtype: object\n",
      "--------------------\n",
      "region      Europe & Central Asia\n",
      "code                          AZE\n",
      "name                   Azerbaijan\n",
      "currency          New Azeri manat\n",
      "Name: 13, dtype: object\n",
      "--------------------\n",
      "region      Europe & Central Asia\n",
      "code                          BEL\n",
      "name                      Belgium\n",
      "currency                     Euro\n",
      "Name: 18, dtype: object\n",
      "--------------------\n",
      "region      Europe & Central Asia\n",
      "code                          BGR\n",
      "name                     Bulgaria\n",
      "currency            Bulgarian lev\n",
      "Name: 28, dtype: object\n",
      "--------------------\n",
      "region                        Europe & Central Asia\n",
      "code                                            BIH\n",
      "name                         Bosnia and Herzegovina\n",
      "currency    Bosnia and Herzegovina convertible mark\n",
      "Name: 24, dtype: object\n",
      "--------------------\n",
      "region      Europe & Central Asia\n",
      "code                          BLR\n",
      "name                      Belarus\n",
      "currency         Belarusian rubel\n",
      "Name: 17, dtype: object\n",
      "--------------------\n",
      "region      Europe & Central Asia\n",
      "code                          CHE\n",
      "name                  Switzerland\n",
      "currency              Swiss franc\n",
      "Name: 214, dtype: object\n",
      "--------------------\n",
      "region      Europe & Central Asia\n",
      "code                          CHI\n",
      "name              Channel Islands\n",
      "currency           Pound sterling\n",
      "Name: 40, dtype: object\n",
      "--------------------\n",
      "region      Europe & Central Asia\n",
      "code                          CYP\n",
      "name                       Cyprus\n",
      "currency                     Euro\n",
      "Name: 51, dtype: object\n",
      "--------------------\n",
      "region      Europe & Central Asia\n",
      "code                          CZE\n",
      "name               Czech Republic\n",
      "currency             Czech koruna\n",
      "Name: 52, dtype: object\n",
      "--------------------\n",
      "region      Europe & Central Asia\n",
      "code                          DEU\n",
      "name                      Germany\n",
      "currency                     Euro\n",
      "Name: 80, dtype: object\n",
      "--------------------\n",
      "region      Europe & Central Asia\n",
      "code                          DNK\n",
      "name                      Denmark\n",
      "currency             Danish krone\n",
      "Name: 55, dtype: object\n",
      "--------------------\n",
      "region      Europe & Central Asia\n",
      "code                          ESP\n",
      "name                        Spain\n",
      "currency                     Euro\n",
      "Name: 202, dtype: object\n",
      "--------------------\n",
      "region      Europe & Central Asia\n",
      "code                          EST\n",
      "name                      Estonia\n",
      "currency                     Euro\n",
      "Name: 66, dtype: object\n",
      "--------------------\n",
      "region      Europe & Central Asia\n",
      "code                          FIN\n",
      "name                      Finland\n",
      "currency                     Euro\n",
      "Name: 74, dtype: object\n",
      "--------------------\n",
      "region      Europe & Central Asia\n",
      "code                          FRA\n",
      "name                       France\n",
      "currency                     Euro\n",
      "Name: 76, dtype: object\n",
      "--------------------\n",
      "region      Europe & Central Asia\n",
      "code                          FRO\n",
      "name               Faeroe Islands\n",
      "currency             Danish krone\n",
      "Name: 72, dtype: object\n",
      "--------------------\n",
      "region      Europe & Central Asia\n",
      "code                          GBR\n",
      "name               United Kingdom\n",
      "currency           Pound sterling\n",
      "Name: 233, dtype: object\n",
      "--------------------\n",
      "region      Europe & Central Asia\n",
      "code                          GEO\n",
      "name                      Georgia\n",
      "currency            Georgian lari\n",
      "Name: 79, dtype: object\n",
      "--------------------\n",
      "region      Europe & Central Asia\n",
      "code                          GRC\n",
      "name                       Greece\n",
      "currency                     Euro\n",
      "Name: 82, dtype: object\n",
      "--------------------\n",
      "region      Europe & Central Asia\n",
      "code                          GRL\n",
      "name                    Greenland\n",
      "currency             Danish krone\n",
      "Name: 83, dtype: object\n",
      "--------------------\n",
      "region      Europe & Central Asia\n",
      "code                          HRV\n",
      "name                      Croatia\n",
      "currency            Croatian kuna\n",
      "Name: 48, dtype: object\n",
      "--------------------\n",
      "region      Europe & Central Asia\n",
      "code                          HUN\n",
      "name                      Hungary\n",
      "currency         Hungarian forint\n",
      "Name: 97, dtype: object\n",
      "--------------------\n",
      "region      Europe & Central Asia\n",
      "code                          IMY\n",
      "name                  Isle of Man\n",
      "currency           Pound sterling\n",
      "Name: 104, dtype: object\n",
      "--------------------\n",
      "region      Europe & Central Asia\n",
      "code                          IRL\n",
      "name                      Ireland\n",
      "currency                     Euro\n",
      "Name: 103, dtype: object\n",
      "--------------------\n",
      "region      Europe & Central Asia\n",
      "code                          ISL\n",
      "name                      Iceland\n",
      "currency            Iceland krona\n",
      "Name: 98, dtype: object\n",
      "--------------------\n",
      "region      Europe & Central Asia\n",
      "code                          ITA\n",
      "name                        Italy\n",
      "currency                     Euro\n",
      "Name: 106, dtype: object\n",
      "--------------------\n",
      "region      Europe & Central Asia\n",
      "code                          KAZ\n",
      "name                   Kazakhstan\n",
      "currency             Kazakh tenge\n",
      "Name: 110, dtype: object\n",
      "--------------------\n",
      "region      Europe & Central Asia\n",
      "code                          KGZ\n",
      "name              Kyrgyz Republic\n",
      "currency               Kyrgyz som\n",
      "Name: 116, dtype: object\n",
      "--------------------\n",
      "region      Europe & Central Asia\n",
      "code                          KSV\n",
      "name                       Kosovo\n",
      "currency                     Euro\n",
      "Name: 114, dtype: object\n",
      "--------------------\n",
      "region      Europe & Central Asia\n",
      "code                          LIE\n",
      "name                Liechtenstein\n",
      "currency              Swiss franc\n",
      "Name: 126, dtype: object\n",
      "--------------------\n",
      "region      Europe & Central Asia\n",
      "code                          LTU\n",
      "name                    Lithuania\n",
      "currency                     Euro\n",
      "Name: 127, dtype: object\n",
      "--------------------\n",
      "region      Europe & Central Asia\n",
      "code                          LUX\n",
      "name                   Luxembourg\n",
      "currency                     Euro\n",
      "Name: 131, dtype: object\n",
      "--------------------\n",
      "region      Europe & Central Asia\n",
      "code                          LVA\n",
      "name                       Latvia\n",
      "currency                     Euro\n",
      "Name: 120, dtype: object\n",
      "--------------------\n",
      "region      Europe & Central Asia\n",
      "code                          MCO\n",
      "name                       Monaco\n",
      "currency                     Euro\n",
      "Name: 149, dtype: object\n",
      "--------------------\n",
      "region      Europe & Central Asia\n",
      "code                          MDA\n",
      "name                      Moldova\n",
      "currency             Moldovan leu\n",
      "Name: 148, dtype: object\n",
      "--------------------\n",
      "region      Europe & Central Asia\n",
      "code                          MKD\n",
      "name                    Macedonia\n",
      "currency         Macedonian denar\n",
      "Name: 133, dtype: object\n",
      "--------------------\n",
      "region      Europe & Central Asia\n",
      "code                          MNE\n",
      "name                   Montenegro\n",
      "currency                     Euro\n",
      "Name: 151, dtype: object\n",
      "--------------------\n",
      "region      Europe & Central Asia\n",
      "code                          NLD\n",
      "name                  Netherlands\n",
      "currency                     Euro\n",
      "Name: 157, dtype: object\n",
      "--------------------\n",
      "region      Europe & Central Asia\n",
      "code                          NOR\n",
      "name                       Norway\n",
      "currency          Norwegian krone\n",
      "Name: 165, dtype: object\n",
      "--------------------\n",
      "region      Europe & Central Asia\n",
      "code                          POL\n",
      "name                       Poland\n",
      "currency             Polish zloty\n",
      "Name: 177, dtype: object\n",
      "--------------------\n",
      "region      Europe & Central Asia\n",
      "code                          PRT\n",
      "name                     Portugal\n",
      "currency                     Euro\n",
      "Name: 178, dtype: object\n",
      "--------------------\n",
      "region      Europe & Central Asia\n",
      "code                          ROM\n",
      "name                      Romania\n",
      "currency         New Romanian leu\n",
      "Name: 181, dtype: object\n",
      "--------------------\n",
      "region      Europe & Central Asia\n",
      "code                          RUS\n",
      "name                       Russia\n",
      "currency            Russian ruble\n",
      "Name: 182, dtype: object\n",
      "--------------------\n",
      "region      Europe & Central Asia\n",
      "code                          SMR\n",
      "name                   San Marino\n",
      "currency                     Euro\n",
      "Name: 185, dtype: object\n",
      "--------------------\n",
      "region      Europe & Central Asia\n",
      "code                          SRB\n",
      "name                       Serbia\n",
      "currency        New Serbian dinar\n",
      "Name: 189, dtype: object\n",
      "--------------------\n",
      "region      Europe & Central Asia\n",
      "code                          SVK\n",
      "name              Slovak Republic\n",
      "currency                     Euro\n",
      "Name: 194, dtype: object\n",
      "--------------------\n",
      "region      Europe & Central Asia\n",
      "code                          SVN\n",
      "name                     Slovenia\n",
      "currency                     Euro\n",
      "Name: 195, dtype: object\n",
      "--------------------\n",
      "region      Europe & Central Asia\n",
      "code                          SWE\n",
      "name                       Sweden\n",
      "currency            Swedish krona\n",
      "Name: 213, dtype: object\n",
      "--------------------\n",
      "region      Europe & Central Asia\n",
      "code                          TJK\n",
      "name                   Tajikistan\n",
      "currency             Tajik somoni\n",
      "Name: 216, dtype: object\n",
      "--------------------\n",
      "region      Europe & Central Asia\n",
      "code                          TKM\n",
      "name                 Turkmenistan\n",
      "currency        New Turkmen manat\n",
      "Name: 227, dtype: object\n",
      "--------------------\n",
      "region      Europe & Central Asia\n",
      "code                          TUR\n",
      "name                       Turkey\n",
      "currency         New Turkish lira\n",
      "Name: 226, dtype: object\n",
      "--------------------\n",
      "region      Europe & Central Asia\n",
      "code                          UKR\n",
      "name                      Ukraine\n",
      "currency        Ukrainian hryvnia\n",
      "Name: 231, dtype: object\n",
      "--------------------\n",
      "region      Europe & Central Asia\n",
      "code                          UZB\n",
      "name                   Uzbekistan\n",
      "currency                Uzbek sum\n",
      "Name: 237, dtype: object\n",
      "--------------------\n",
      "region      Latin America & Caribbean\n",
      "code                              ABW\n",
      "name                            Aruba\n",
      "currency                Aruban florin\n",
      "Name: 10, dtype: object\n",
      "--------------------\n",
      "region      Latin America & Caribbean\n",
      "code                              ARG\n",
      "name                        Argentina\n",
      "currency               Argentine peso\n",
      "Name: 8, dtype: object\n",
      "--------------------\n",
      "region      Latin America & Caribbean\n",
      "code                              ATG\n",
      "name              Antigua and Barbuda\n",
      "currency        East Caribbean dollar\n",
      "Name: 6, dtype: object\n",
      "--------------------\n",
      "region      Latin America & Caribbean\n",
      "code                              BHS\n",
      "name                      The Bahamas\n",
      "currency              Bahamian dollar\n",
      "Name: 219, dtype: object\n",
      "--------------------\n",
      "region      Latin America & Caribbean\n",
      "code                              BLZ\n",
      "name                           Belize\n",
      "currency                Belize dollar\n",
      "Name: 19, dtype: object\n",
      "--------------------\n",
      "region      Latin America & Caribbean\n",
      "code                              BOL\n",
      "name                          Bolivia\n",
      "currency           Bolivian Boliviano\n",
      "Name: 23, dtype: object\n",
      "--------------------\n",
      "region      Latin America & Caribbean\n",
      "code                              BRA\n",
      "name                           Brazil\n",
      "currency               Brazilian real\n",
      "Name: 26, dtype: object\n",
      "--------------------\n",
      "region      Latin America & Caribbean\n",
      "code                              BRB\n",
      "name                         Barbados\n",
      "currency              Barbados dollar\n",
      "Name: 16, dtype: object\n",
      "--------------------\n",
      "region      Latin America & Caribbean\n",
      "code                              CHL\n",
      "name                            Chile\n",
      "currency                 Chilean peso\n",
      "Name: 41, dtype: object\n",
      "--------------------\n",
      "region      Latin America & Caribbean\n",
      "code                              COL\n",
      "name                         Colombia\n",
      "currency               Colombian peso\n",
      "Name: 43, dtype: object\n",
      "--------------------\n",
      "region      Latin America & Caribbean\n",
      "code                              CRI\n",
      "name                       Costa Rica\n",
      "currency            Costa Rican colon\n",
      "Name: 46, dtype: object\n",
      "--------------------\n",
      "region      Latin America & Caribbean\n",
      "code                              CUB\n",
      "name                             Cuba\n",
      "currency                   Cuban peso\n",
      "Name: 49, dtype: object\n",
      "--------------------\n",
      "region          Latin America & Caribbean\n",
      "code                                  CUW\n",
      "name                              Curaçao\n",
      "currency    Netherlands Antillean guilder\n",
      "Name: 50, dtype: object\n",
      "--------------------\n",
      "region      Latin America & Caribbean\n",
      "code                              CYM\n",
      "name                   Cayman Islands\n",
      "currency        Cayman Islands dollar\n",
      "Name: 36, dtype: object\n",
      "--------------------\n",
      "region      Latin America & Caribbean\n",
      "code                              DMA\n",
      "name                         Dominica\n",
      "currency        East Caribbean dollar\n",
      "Name: 57, dtype: object\n",
      "--------------------\n",
      "region      Latin America & Caribbean\n",
      "code                              DOM\n",
      "name               Dominican Republic\n",
      "currency               Dominican peso\n",
      "Name: 58, dtype: object\n",
      "--------------------\n",
      "region      Latin America & Caribbean\n",
      "code                              ECU\n",
      "name                          Ecuador\n",
      "currency                  U.S. dollar\n",
      "Name: 61, dtype: object\n",
      "--------------------\n",
      "region      Latin America & Caribbean\n",
      "code                              GRD\n",
      "name                          Grenada\n",
      "currency        East Caribbean dollar\n",
      "Name: 84, dtype: object\n",
      "--------------------\n",
      "region      Latin America & Caribbean\n",
      "code                              GTM\n",
      "name                        Guatemala\n",
      "currency           Guatemalan quetzal\n",
      "Name: 86, dtype: object\n",
      "--------------------\n",
      "region      Latin America & Caribbean\n",
      "code                              GUY\n",
      "name                           Guyana\n",
      "currency                Guyana dollar\n",
      "Name: 89, dtype: object\n",
      "--------------------\n",
      "region      Latin America & Caribbean\n",
      "code                              HND\n",
      "name                         Honduras\n",
      "currency             Honduran lempira\n",
      "Name: 95, dtype: object\n",
      "--------------------\n",
      "region      Latin America & Caribbean\n",
      "code                              HTI\n",
      "name                            Haiti\n",
      "currency               Haitian gourde\n",
      "Name: 90, dtype: object\n",
      "--------------------\n",
      "region      Latin America & Caribbean\n",
      "code                              JAM\n",
      "name                          Jamaica\n",
      "currency              Jamaican dollar\n",
      "Name: 107, dtype: object\n",
      "--------------------\n",
      "region      Latin America & Caribbean\n",
      "code                              KNA\n",
      "name              St. Kitts and Nevis\n",
      "currency        East Caribbean dollar\n",
      "Name: 204, dtype: object\n",
      "--------------------\n",
      "region      Latin America & Caribbean\n",
      "code                              LCA\n",
      "name                        St. Lucia\n",
      "currency        East Caribbean dollar\n",
      "Name: 205, dtype: object\n",
      "--------------------\n",
      "region      Latin America & Caribbean\n",
      "code                              MAF\n",
      "name         St. Martin (French part)\n",
      "currency                         Euro\n",
      "Name: 206, dtype: object\n",
      "--------------------\n",
      "region      Latin America & Caribbean\n",
      "code                              MEX\n",
      "name                           Mexico\n",
      "currency                 Mexican peso\n",
      "Name: 143, dtype: object\n",
      "--------------------\n",
      "region      Latin America & Caribbean\n",
      "code                              NIC\n",
      "name                        Nicaragua\n",
      "currency      Nicaraguan gold cordoba\n",
      "Name: 160, dtype: object\n",
      "--------------------\n",
      "region      Latin America & Caribbean\n",
      "code                              PAN\n",
      "name                           Panama\n",
      "currency            Panamanian balboa\n",
      "Name: 172, dtype: object\n",
      "--------------------\n",
      "region      Latin America & Caribbean\n",
      "code                              PER\n",
      "name                             Peru\n",
      "currency             Peruvian new sol\n",
      "Name: 175, dtype: object\n",
      "--------------------\n",
      "region      Latin America & Caribbean\n",
      "code                              PRI\n",
      "name                      Puerto Rico\n",
      "currency                  U.S. dollar\n",
      "Name: 179, dtype: object\n",
      "--------------------\n",
      "region      Latin America & Caribbean\n",
      "code                              PRY\n",
      "name                         Paraguay\n",
      "currency           Paraguayan guarani\n",
      "Name: 174, dtype: object\n",
      "--------------------\n",
      "region      Latin America & Caribbean\n",
      "code                              SLV\n",
      "name                      El Salvador\n",
      "currency                  U.S. dollar\n",
      "Name: 63, dtype: object\n",
      "--------------------\n",
      "region      Latin America & Caribbean\n",
      "code                              SUR\n",
      "name                         Suriname\n",
      "currency              Suriname dollar\n",
      "Name: 211, dtype: object\n",
      "--------------------\n",
      "region          Latin America & Caribbean\n",
      "code                                  SXM\n",
      "name            Sint Maarten (Dutch part)\n",
      "currency    Netherlands Antillean guilder\n",
      "Name: 193, dtype: object\n",
      "--------------------\n",
      "region      Latin America & Caribbean\n",
      "code                              TCA\n",
      "name         Turks and Caicos Islands\n",
      "currency                  U.S. dollar\n",
      "Name: 228, dtype: object\n",
      "--------------------\n",
      "region       Latin America & Caribbean\n",
      "code                               TTO\n",
      "name               Trinidad and Tobago\n",
      "currency    Trinidad and Tobago dollar\n",
      "Name: 224, dtype: object\n",
      "--------------------\n",
      "region      Latin America & Caribbean\n",
      "code                              URY\n",
      "name                          Uruguay\n",
      "currency               Uruguayan peso\n",
      "Name: 236, dtype: object\n",
      "--------------------\n",
      "region           Latin America & Caribbean\n",
      "code                                   VCT\n",
      "name        St. Vincent and the Grenadines\n",
      "currency             East Caribbean dollar\n",
      "Name: 207, dtype: object\n",
      "--------------------\n",
      "region      Latin America & Caribbean\n",
      "code                              VEN\n",
      "name                        Venezuela\n",
      "currency    Venezuelan bolivar fuerte\n",
      "Name: 239, dtype: object\n",
      "--------------------\n",
      "region      Latin America & Caribbean\n",
      "code                              VIR\n",
      "name                   Virgin Islands\n",
      "currency                  U.S. dollar\n",
      "Name: 241, dtype: object\n",
      "--------------------\n",
      "region      Middle East & North Africa\n",
      "code                               ARE\n",
      "name              United Arab Emirates\n",
      "currency                 U.A.E. dirham\n",
      "Name: 232, dtype: object\n",
      "--------------------\n",
      "region      Middle East & North Africa\n",
      "code                               BHR\n",
      "name                           Bahrain\n",
      "currency                Bahraini dinar\n",
      "Name: 14, dtype: object\n",
      "--------------------\n",
      "region      Middle East & North Africa\n",
      "code                               DJI\n",
      "name                          Djibouti\n",
      "currency                Djibouti franc\n",
      "Name: 56, dtype: object\n",
      "--------------------\n",
      "region      Middle East & North Africa\n",
      "code                               DZA\n",
      "name                           Algeria\n",
      "currency                Algerian dinar\n",
      "Name: 2, dtype: object\n",
      "--------------------\n",
      "region      Middle East & North Africa\n",
      "code                               EGY\n",
      "name                             Egypt\n",
      "currency                Egyptian pound\n",
      "Name: 62, dtype: object\n",
      "--------------------\n",
      "region      Middle East & North Africa\n",
      "code                               IRN\n",
      "name                              Iran\n",
      "currency                  Iranian rial\n",
      "Name: 101, dtype: object\n",
      "--------------------\n",
      "region      Middle East & North Africa\n",
      "code                               IRQ\n",
      "name                              Iraq\n",
      "currency                   Iraqi dinar\n",
      "Name: 102, dtype: object\n",
      "--------------------\n",
      "region      Middle East & North Africa\n",
      "code                               ISR\n",
      "name                            Israel\n",
      "currency            Israeli new shekel\n",
      "Name: 105, dtype: object\n",
      "--------------------\n",
      "region      Middle East & North Africa\n",
      "code                               JOR\n",
      "name                            Jordan\n",
      "currency               Jordanian dinar\n",
      "Name: 109, dtype: object\n",
      "--------------------\n",
      "region      Middle East & North Africa\n",
      "code                               KWT\n",
      "name                            Kuwait\n",
      "currency                 Kuwaiti dinar\n",
      "Name: 115, dtype: object\n",
      "--------------------\n",
      "region      Middle East & North Africa\n",
      "code                               LBN\n",
      "name                           Lebanon\n",
      "currency                Lebanese pound\n",
      "Name: 122, dtype: object\n",
      "--------------------\n",
      "region      Middle East & North Africa\n",
      "code                               LBY\n",
      "name                             Libya\n",
      "currency                  Libyan dinar\n",
      "Name: 125, dtype: object\n",
      "--------------------\n",
      "region      Middle East & North Africa\n",
      "code                               MAR\n",
      "name                           Morocco\n",
      "currency               Moroccan dirham\n",
      "Name: 152, dtype: object\n",
      "--------------------\n",
      "region      Middle East & North Africa\n",
      "code                               MLT\n",
      "name                             Malta\n",
      "currency                          Euro\n",
      "Name: 139, dtype: object\n",
      "--------------------\n",
      "region      Middle East & North Africa\n",
      "code                               OMN\n",
      "name                              Oman\n",
      "currency                    Rial Omani\n",
      "Name: 167, dtype: object\n",
      "--------------------\n",
      "region      Middle East & North Africa\n",
      "code                               QAT\n",
      "name                             Qatar\n",
      "currency                  Qatari riyal\n",
      "Name: 180, dtype: object\n",
      "--------------------\n",
      "region      Middle East & North Africa\n",
      "code                               SAU\n",
      "name                      Saudi Arabia\n",
      "currency           Saudi Arabian riyal\n",
      "Name: 187, dtype: object\n",
      "--------------------\n",
      "region      Middle East & North Africa\n",
      "code                               SYR\n",
      "name              Syrian Arab Republic\n",
      "currency                  Syrian pound\n",
      "Name: 215, dtype: object\n",
      "--------------------\n",
      "region      Middle East & North Africa\n",
      "code                               TUN\n",
      "name                           Tunisia\n",
      "currency                Tunisian dinar\n",
      "Name: 225, dtype: object\n",
      "--------------------\n",
      "region      Middle East & North Africa\n",
      "code                               WBG\n",
      "name                West Bank and Gaza\n",
      "currency            Israeli new shekel\n",
      "Name: 242, dtype: object\n",
      "--------------------\n",
      "region      Middle East & North Africa\n",
      "code                               YEM\n",
      "name                             Yemen\n",
      "currency                   Yemeni rial\n",
      "Name: 244, dtype: object\n",
      "--------------------\n",
      "region       North America\n",
      "code                   BMU\n",
      "name               Bermuda\n",
      "currency    Bermuda dollar\n",
      "Name: 21, dtype: object\n",
      "--------------------\n",
      "region        North America\n",
      "code                    CAN\n",
      "name                 Canada\n",
      "currency    Canadian dollar\n",
      "Name: 34, dtype: object\n",
      "--------------------\n",
      "region      North America\n",
      "code                  USA\n",
      "name        United States\n",
      "currency      U.S. dollar\n",
      "Name: 234, dtype: object\n",
      "--------------------\n",
      "region          South Asia\n",
      "code                   AFG\n",
      "name           Afghanistan\n",
      "currency    Afghan afghani\n",
      "Name: 0, dtype: object\n",
      "--------------------\n",
      "region            South Asia\n",
      "code                     BGD\n",
      "name              Bangladesh\n",
      "currency    Bangladeshi taka\n",
      "Name: 15, dtype: object\n",
      "--------------------\n",
      "region              South Asia\n",
      "code                       BTN\n",
      "name                    Bhutan\n",
      "currency    Bhutanese ngultrum\n",
      "Name: 22, dtype: object\n",
      "--------------------\n",
      "region        South Asia\n",
      "code                 IND\n",
      "name               India\n",
      "currency    Indian rupee\n",
      "Name: 99, dtype: object\n",
      "--------------------\n",
      "region            South Asia\n",
      "code                     LKA\n",
      "name               Sri Lanka\n",
      "currency    Sri Lankan rupee\n",
      "Name: 203, dtype: object\n",
      "--------------------\n",
      "region             South Asia\n",
      "code                      MDV\n",
      "name                 Maldives\n",
      "currency    Maldivian rufiyaa\n",
      "Name: 137, dtype: object\n",
      "--------------------\n",
      "region          South Asia\n",
      "code                   NPL\n",
      "name                 Nepal\n",
      "currency    Nepalese rupee\n",
      "Name: 156, dtype: object\n",
      "--------------------\n",
      "region           South Asia\n",
      "code                    PAK\n",
      "name               Pakistan\n",
      "currency    Pakistani rupee\n",
      "Name: 170, dtype: object\n",
      "--------------------\n",
      "region      Sub-Saharan Africa\n",
      "code                       AGO\n",
      "name                    Angola\n",
      "currency        Angolan kwanza\n",
      "Name: 5, dtype: object\n",
      "--------------------\n",
      "region      Sub-Saharan Africa\n",
      "code                       BDI\n",
      "name                   Burundi\n",
      "currency         Burundi franc\n",
      "Name: 30, dtype: object\n",
      "--------------------\n",
      "region          Sub-Saharan Africa\n",
      "code                           BEN\n",
      "name                         Benin\n",
      "currency    West African CFA franc\n",
      "Name: 20, dtype: object\n",
      "--------------------\n",
      "region          Sub-Saharan Africa\n",
      "code                           BFA\n",
      "name                  Burkina Faso\n",
      "currency    West African CFA franc\n",
      "Name: 29, dtype: object\n",
      "--------------------\n",
      "region      Sub-Saharan Africa\n",
      "code                       BWA\n",
      "name                  Botswana\n",
      "currency         Botswana pula\n",
      "Name: 25, dtype: object\n",
      "--------------------\n",
      "region             Sub-Saharan Africa\n",
      "code                              CAF\n",
      "name         Central African Republic\n",
      "currency    Central African CFA franc\n",
      "Name: 37, dtype: object\n",
      "--------------------\n",
      "region          Sub-Saharan Africa\n",
      "code                           CIV\n",
      "name                 Côte d'Ivoire\n",
      "currency    West African CFA franc\n",
      "Name: 47, dtype: object\n",
      "--------------------\n",
      "region             Sub-Saharan Africa\n",
      "code                              CMR\n",
      "name                         Cameroon\n",
      "currency    Central African CFA franc\n",
      "Name: 33, dtype: object\n",
      "--------------------\n",
      "region             Sub-Saharan Africa\n",
      "code                              COG\n",
      "name                            Congo\n",
      "currency    Central African CFA franc\n",
      "Name: 45, dtype: object\n",
      "--------------------\n",
      "region      Sub-Saharan Africa\n",
      "code                       COM\n",
      "name                   Comoros\n",
      "currency        Comorian franc\n",
      "Name: 44, dtype: object\n",
      "--------------------\n",
      "region      Sub-Saharan Africa\n",
      "code                       CPV\n",
      "name                Cabo Verde\n",
      "currency     Cabo Verde escudo\n",
      "Name: 31, dtype: object\n",
      "--------------------\n",
      "region      Sub-Saharan Africa\n",
      "code                       ERI\n",
      "name                   Eritrea\n",
      "currency        Eritrean nakfa\n",
      "Name: 65, dtype: object\n",
      "--------------------\n",
      "region      Sub-Saharan Africa\n",
      "code                       ETH\n",
      "name                  Ethiopia\n",
      "currency        Ethiopian birr\n",
      "Name: 67, dtype: object\n",
      "--------------------\n",
      "region             Sub-Saharan Africa\n",
      "code                              GAB\n",
      "name                            Gabon\n",
      "currency    Central African CFA franc\n",
      "Name: 78, dtype: object\n",
      "--------------------\n",
      "region      Sub-Saharan Africa\n",
      "code                       GHA\n",
      "name                     Ghana\n",
      "currency     New Ghanaian cedi\n",
      "Name: 81, dtype: object\n",
      "--------------------\n",
      "region      Sub-Saharan Africa\n",
      "code                       GIN\n",
      "name                    Guinea\n",
      "currency         Guinean franc\n",
      "Name: 87, dtype: object\n",
      "--------------------\n",
      "region      Sub-Saharan Africa\n",
      "code                       GMB\n",
      "name                The Gambia\n",
      "currency        Gambian dalasi\n",
      "Name: 220, dtype: object\n",
      "--------------------\n",
      "region          Sub-Saharan Africa\n",
      "code                           GNB\n",
      "name                 Guinea-Bissau\n",
      "currency    West African CFA franc\n",
      "Name: 88, dtype: object\n",
      "--------------------\n",
      "region             Sub-Saharan Africa\n",
      "code                              GNQ\n",
      "name                Equatorial Guinea\n",
      "currency    Central African CFA franc\n",
      "Name: 64, dtype: object\n",
      "--------------------\n",
      "region      Sub-Saharan Africa\n",
      "code                       KEN\n",
      "name                     Kenya\n",
      "currency       Kenyan shilling\n",
      "Name: 111, dtype: object\n",
      "--------------------\n",
      "region      Sub-Saharan Africa\n",
      "code                       LBR\n",
      "name                   Liberia\n",
      "currency           U.S. dollar\n",
      "Name: 124, dtype: object\n",
      "--------------------\n",
      "region      Sub-Saharan Africa\n",
      "code                       LSO\n",
      "name                   Lesotho\n",
      "currency          Lesotho loti\n",
      "Name: 123, dtype: object\n",
      "--------------------\n",
      "region      Sub-Saharan Africa\n",
      "code                       MDG\n",
      "name                Madagascar\n",
      "currency       Malagasy ariary\n",
      "Name: 134, dtype: object\n",
      "--------------------\n",
      "region          Sub-Saharan Africa\n",
      "code                           MLI\n",
      "name                          Mali\n",
      "currency    West African CFA franc\n",
      "Name: 138, dtype: object\n",
      "--------------------\n",
      "region          Sub-Saharan Africa\n",
      "code                           MOZ\n",
      "name                    Mozambique\n",
      "currency    New Mozambican metical\n",
      "Name: 153, dtype: object\n",
      "--------------------\n",
      "region       Sub-Saharan Africa\n",
      "code                        MRT\n",
      "name                 Mauritania\n",
      "currency    Mauritanian ouguiya\n",
      "Name: 141, dtype: object\n",
      "--------------------\n",
      "region      Sub-Saharan Africa\n",
      "code                       MUS\n",
      "name                 Mauritius\n",
      "currency       Mauritian rupee\n",
      "Name: 142, dtype: object\n",
      "--------------------\n",
      "region      Sub-Saharan Africa\n",
      "code                       MWI\n",
      "name                    Malawi\n",
      "currency         Malawi kwacha\n",
      "Name: 135, dtype: object\n",
      "--------------------\n",
      "region      Sub-Saharan Africa\n",
      "code                       NAM\n",
      "name                   Namibia\n",
      "currency       Namibian dollar\n",
      "Name: 155, dtype: object\n",
      "--------------------\n",
      "region          Sub-Saharan Africa\n",
      "code                           NER\n",
      "name                         Niger\n",
      "currency    West African CFA franc\n",
      "Name: 161, dtype: object\n",
      "--------------------\n",
      "region      Sub-Saharan Africa\n",
      "code                       NGA\n",
      "name                   Nigeria\n",
      "currency        Nigerian naira\n",
      "Name: 162, dtype: object\n",
      "--------------------\n",
      "region      Sub-Saharan Africa\n",
      "code                       RWA\n",
      "name                    Rwanda\n",
      "currency         Rwandan franc\n",
      "Name: 183, dtype: object\n",
      "--------------------\n",
      "region      Sub-Saharan Africa\n",
      "code                       SDN\n",
      "name                     Sudan\n",
      "currency        Sudanese pound\n",
      "Name: 210, dtype: object\n",
      "--------------------\n",
      "region          Sub-Saharan Africa\n",
      "code                           SEN\n",
      "name                       Senegal\n",
      "currency    West African CFA franc\n",
      "Name: 188, dtype: object\n",
      "--------------------\n",
      "region        Sub-Saharan Africa\n",
      "code                         SLE\n",
      "name                Sierra Leone\n",
      "currency    Sierra Leonean leone\n",
      "Name: 191, dtype: object\n",
      "--------------------\n",
      "region      Sub-Saharan Africa\n",
      "code                       SOM\n",
      "name                   Somalia\n",
      "currency       Somali shilling\n",
      "Name: 198, dtype: object\n",
      "--------------------\n",
      "region        Sub-Saharan Africa\n",
      "code                         SSD\n",
      "name                 South Sudan\n",
      "currency    South Sudanese Pound\n",
      "Name: 201, dtype: object\n",
      "--------------------\n",
      "region               Sub-Saharan Africa\n",
      "code                                STP\n",
      "name              São Tomé and Principe\n",
      "currency    São Tomé and Principe dobra\n",
      "Name: 186, dtype: object\n",
      "--------------------\n",
      "region       Sub-Saharan Africa\n",
      "code                        SWZ\n",
      "name                  Swaziland\n",
      "currency    Swaziland lilangeni\n",
      "Name: 212, dtype: object\n",
      "--------------------\n",
      "region      Sub-Saharan Africa\n",
      "code                       SYC\n",
      "name                Seychelles\n",
      "currency      Seychelles rupee\n",
      "Name: 190, dtype: object\n",
      "--------------------\n",
      "region             Sub-Saharan Africa\n",
      "code                              TCD\n",
      "name                             Chad\n",
      "currency    Central African CFA franc\n",
      "Name: 39, dtype: object\n",
      "--------------------\n",
      "region          Sub-Saharan Africa\n",
      "code                           TGO\n",
      "name                          Togo\n",
      "currency    West African CFA franc\n",
      "Name: 222, dtype: object\n",
      "--------------------\n",
      "region      Sub-Saharan Africa\n",
      "code                       TZA\n",
      "name                  Tanzania\n",
      "currency    Tanzanian shilling\n",
      "Name: 217, dtype: object\n",
      "--------------------\n",
      "region      Sub-Saharan Africa\n",
      "code                       UGA\n",
      "name                    Uganda\n",
      "currency      Ugandan shilling\n",
      "Name: 230, dtype: object\n",
      "--------------------\n",
      "region      Sub-Saharan Africa\n",
      "code                       ZAF\n",
      "name              South Africa\n",
      "currency    South African rand\n",
      "Name: 199, dtype: object\n",
      "--------------------\n",
      "region      Sub-Saharan Africa\n",
      "code                       ZAR\n",
      "name           Dem. Rep. Congo\n",
      "currency       Congolese franc\n",
      "Name: 54, dtype: object\n",
      "--------------------\n",
      "region      Sub-Saharan Africa\n",
      "code                       ZMB\n",
      "name                    Zambia\n",
      "currency    New Zambian kwacha\n",
      "Name: 245, dtype: object\n",
      "--------------------\n",
      "region      Sub-Saharan Africa\n",
      "code                       ZWE\n",
      "name                  Zimbabwe\n",
      "currency           U.S. dollar\n",
      "Name: 246, dtype: object\n",
      "--------------------\n"
     ]
    }
   ],
   "source": [
    "for _, row_series in sorted_data.iterrows():\n",
    "    print(row_series)\n",
    "    print('-' * 20)"
   ],
   "metadata": {
    "collapsed": false,
    "ExecuteTime": {
     "end_time": "2023-11-13T12:13:19.284065700Z",
     "start_time": "2023-11-13T12:13:19.216074300Z"
    }
   }
  },
  {
   "cell_type": "code",
   "execution_count": 107,
   "outputs": [
    {
     "name": "stdout",
     "output_type": "stream",
     "text": [
      "['East Asia & Pacific' 'ASM' 'American Samoa' 'U.S. dollar']\n",
      "['East Asia & Pacific' 'AUS' 'Australia' 'Australian dollar']\n",
      "['East Asia & Pacific' 'BRN' 'Brunei' 'Brunei dollar']\n",
      "['East Asia & Pacific' 'CHN' 'China' 'Chinese yuan']\n",
      "['East Asia & Pacific' 'FJI' 'Fiji' 'Fijian dollar']\n",
      "['East Asia & Pacific' 'FSM' 'Micronesia' 'U.S. dollar']\n",
      "['East Asia & Pacific' 'GUM' 'Guam' 'U.S. dollar']\n",
      "['East Asia & Pacific' 'HKG' 'Hong Kong SAR, China' 'Hong Kong dollar']\n",
      "['East Asia & Pacific' 'IDN' 'Indonesia' 'Indonesian rupiah']\n",
      "['East Asia & Pacific' 'JPN' 'Japan' 'Japanese yen']\n",
      "['East Asia & Pacific' 'KHM' 'Cambodia' 'Cambodian riel']\n",
      "['East Asia & Pacific' 'KIR' 'Kiribati' 'Australian dollar']\n",
      "['East Asia & Pacific' 'KOR' 'Korea' 'Korean won']\n",
      "['East Asia & Pacific' 'LAO' 'Lao PDR' 'Lao kip']\n",
      "['East Asia & Pacific' 'MAC' 'Macao SAR, China' 'Macao pataca']\n",
      "['East Asia & Pacific' 'MHL' 'Marshall Islands' 'U.S. dollar']\n",
      "['East Asia & Pacific' 'MMR' 'Myanmar' 'Myanmar kyat']\n",
      "['East Asia & Pacific' 'MNG' 'Mongolia' 'Mongolian tugrik']\n",
      "['East Asia & Pacific' 'MNP' 'Northern Mariana Islands' 'U.S. dollar']\n",
      "['East Asia & Pacific' 'MYS' 'Malaysia' 'Malaysian ringgit']\n",
      "['East Asia & Pacific' 'NCL' 'New Caledonia' 'CFP franc']\n",
      "['East Asia & Pacific' 'NZL' 'New Zealand' 'New Zealand dollar']\n",
      "['East Asia & Pacific' 'PHL' 'Philippines' 'Philippine peso']\n",
      "['East Asia & Pacific' 'PLW' 'Palau' 'U.S. dollar']\n",
      "['East Asia & Pacific' 'PNG' 'Papua New Guinea' 'Papua New Guinea kina']\n",
      "['East Asia & Pacific' 'PRK' \"Dem. People's Rep. Korea\"\n",
      " \"Democratic People's Republic of Korean won\"]\n",
      "['East Asia & Pacific' 'PYF' 'French Polynesia' 'CFP franc']\n",
      "['East Asia & Pacific' 'SGP' 'Singapore' 'Singapore dollar']\n",
      "['East Asia & Pacific' 'SLB' 'Solomon Islands' 'Solomon Islands dollar']\n",
      "['East Asia & Pacific' 'THA' 'Thailand' 'Thai baht']\n",
      "['East Asia & Pacific' 'TMP' 'Timor-Leste' 'U.S. dollar']\n",
      "['East Asia & Pacific' 'TON' 'Tonga' \"Tongan pa'anga\"]\n",
      "['East Asia & Pacific' 'TUV' 'Tuvalu' 'Australian dollar']\n",
      "['East Asia & Pacific' 'VNM' 'Vietnam' 'Vietnamese dong']\n",
      "['East Asia & Pacific' 'VUT' 'Vanuatu' 'Vanuatu vatu']\n",
      "['East Asia & Pacific' 'WSM' 'Samoa' 'Samoan tala']\n",
      "['Europe & Central Asia' 'ADO' 'Andorra' 'Euro']\n",
      "['Europe & Central Asia' 'ALB' 'Albania' 'Albanian lek']\n",
      "['Europe & Central Asia' 'ARM' 'Armenia' 'Armenian dram']\n",
      "['Europe & Central Asia' 'AUT' 'Austria' 'Euro']\n",
      "['Europe & Central Asia' 'AZE' 'Azerbaijan' 'New Azeri manat']\n",
      "['Europe & Central Asia' 'BEL' 'Belgium' 'Euro']\n",
      "['Europe & Central Asia' 'BGR' 'Bulgaria' 'Bulgarian lev']\n",
      "['Europe & Central Asia' 'BIH' 'Bosnia and Herzegovina'\n",
      " 'Bosnia and Herzegovina convertible mark']\n",
      "['Europe & Central Asia' 'BLR' 'Belarus' 'Belarusian rubel']\n",
      "['Europe & Central Asia' 'CHE' 'Switzerland' 'Swiss franc']\n",
      "['Europe & Central Asia' 'CHI' 'Channel Islands' 'Pound sterling']\n",
      "['Europe & Central Asia' 'CYP' 'Cyprus' 'Euro']\n",
      "['Europe & Central Asia' 'CZE' 'Czech Republic' 'Czech koruna']\n",
      "['Europe & Central Asia' 'DEU' 'Germany' 'Euro']\n",
      "['Europe & Central Asia' 'DNK' 'Denmark' 'Danish krone']\n",
      "['Europe & Central Asia' 'ESP' 'Spain' 'Euro']\n",
      "['Europe & Central Asia' 'EST' 'Estonia' 'Euro']\n",
      "['Europe & Central Asia' 'FIN' 'Finland' 'Euro']\n",
      "['Europe & Central Asia' 'FRA' 'France' 'Euro']\n",
      "['Europe & Central Asia' 'FRO' 'Faeroe Islands' 'Danish krone']\n",
      "['Europe & Central Asia' 'GBR' 'United Kingdom' 'Pound sterling']\n",
      "['Europe & Central Asia' 'GEO' 'Georgia' 'Georgian lari']\n",
      "['Europe & Central Asia' 'GRC' 'Greece' 'Euro']\n",
      "['Europe & Central Asia' 'GRL' 'Greenland' 'Danish krone']\n",
      "['Europe & Central Asia' 'HRV' 'Croatia' 'Croatian kuna']\n",
      "['Europe & Central Asia' 'HUN' 'Hungary' 'Hungarian forint']\n",
      "['Europe & Central Asia' 'IMY' 'Isle of Man' 'Pound sterling']\n",
      "['Europe & Central Asia' 'IRL' 'Ireland' 'Euro']\n",
      "['Europe & Central Asia' 'ISL' 'Iceland' 'Iceland krona']\n",
      "['Europe & Central Asia' 'ITA' 'Italy' 'Euro']\n",
      "['Europe & Central Asia' 'KAZ' 'Kazakhstan' 'Kazakh tenge']\n",
      "['Europe & Central Asia' 'KGZ' 'Kyrgyz Republic' 'Kyrgyz som']\n",
      "['Europe & Central Asia' 'KSV' 'Kosovo' 'Euro']\n",
      "['Europe & Central Asia' 'LIE' 'Liechtenstein' 'Swiss franc']\n",
      "['Europe & Central Asia' 'LTU' 'Lithuania' 'Euro']\n",
      "['Europe & Central Asia' 'LUX' 'Luxembourg' 'Euro']\n",
      "['Europe & Central Asia' 'LVA' 'Latvia' 'Euro']\n",
      "['Europe & Central Asia' 'MCO' 'Monaco' 'Euro']\n",
      "['Europe & Central Asia' 'MDA' 'Moldova' 'Moldovan leu']\n",
      "['Europe & Central Asia' 'MKD' 'Macedonia' 'Macedonian denar']\n",
      "['Europe & Central Asia' 'MNE' 'Montenegro' 'Euro']\n",
      "['Europe & Central Asia' 'NLD' 'Netherlands' 'Euro']\n",
      "['Europe & Central Asia' 'NOR' 'Norway' 'Norwegian krone']\n",
      "['Europe & Central Asia' 'POL' 'Poland' 'Polish zloty']\n",
      "['Europe & Central Asia' 'PRT' 'Portugal' 'Euro']\n",
      "['Europe & Central Asia' 'ROM' 'Romania' 'New Romanian leu']\n",
      "['Europe & Central Asia' 'RUS' 'Russia' 'Russian ruble']\n",
      "['Europe & Central Asia' 'SMR' 'San Marino' 'Euro']\n",
      "['Europe & Central Asia' 'SRB' 'Serbia' 'New Serbian dinar']\n",
      "['Europe & Central Asia' 'SVK' 'Slovak Republic' 'Euro']\n",
      "['Europe & Central Asia' 'SVN' 'Slovenia' 'Euro']\n",
      "['Europe & Central Asia' 'SWE' 'Sweden' 'Swedish krona']\n",
      "['Europe & Central Asia' 'TJK' 'Tajikistan' 'Tajik somoni']\n",
      "['Europe & Central Asia' 'TKM' 'Turkmenistan' 'New Turkmen manat']\n",
      "['Europe & Central Asia' 'TUR' 'Turkey' 'New Turkish lira']\n",
      "['Europe & Central Asia' 'UKR' 'Ukraine' 'Ukrainian hryvnia']\n",
      "['Europe & Central Asia' 'UZB' 'Uzbekistan' 'Uzbek sum']\n",
      "['Latin America & Caribbean' 'ABW' 'Aruba' 'Aruban florin']\n",
      "['Latin America & Caribbean' 'ARG' 'Argentina' 'Argentine peso']\n",
      "['Latin America & Caribbean' 'ATG' 'Antigua and Barbuda'\n",
      " 'East Caribbean dollar']\n",
      "['Latin America & Caribbean' 'BHS' 'The Bahamas' 'Bahamian dollar']\n",
      "['Latin America & Caribbean' 'BLZ' 'Belize' 'Belize dollar']\n",
      "['Latin America & Caribbean' 'BOL' 'Bolivia' 'Bolivian Boliviano']\n",
      "['Latin America & Caribbean' 'BRA' 'Brazil' 'Brazilian real']\n",
      "['Latin America & Caribbean' 'BRB' 'Barbados' 'Barbados dollar']\n",
      "['Latin America & Caribbean' 'CHL' 'Chile' 'Chilean peso']\n",
      "['Latin America & Caribbean' 'COL' 'Colombia' 'Colombian peso']\n",
      "['Latin America & Caribbean' 'CRI' 'Costa Rica' 'Costa Rican colon']\n",
      "['Latin America & Caribbean' 'CUB' 'Cuba' 'Cuban peso']\n",
      "['Latin America & Caribbean' 'CUW' 'Curaçao'\n",
      " 'Netherlands Antillean guilder']\n",
      "['Latin America & Caribbean' 'CYM' 'Cayman Islands'\n",
      " 'Cayman Islands dollar']\n",
      "['Latin America & Caribbean' 'DMA' 'Dominica' 'East Caribbean dollar']\n",
      "['Latin America & Caribbean' 'DOM' 'Dominican Republic' 'Dominican peso']\n",
      "['Latin America & Caribbean' 'ECU' 'Ecuador' 'U.S. dollar']\n",
      "['Latin America & Caribbean' 'GRD' 'Grenada' 'East Caribbean dollar']\n",
      "['Latin America & Caribbean' 'GTM' 'Guatemala' 'Guatemalan quetzal']\n",
      "['Latin America & Caribbean' 'GUY' 'Guyana' 'Guyana dollar']\n",
      "['Latin America & Caribbean' 'HND' 'Honduras' 'Honduran lempira']\n",
      "['Latin America & Caribbean' 'HTI' 'Haiti' 'Haitian gourde']\n",
      "['Latin America & Caribbean' 'JAM' 'Jamaica' 'Jamaican dollar']\n",
      "['Latin America & Caribbean' 'KNA' 'St. Kitts and Nevis'\n",
      " 'East Caribbean dollar']\n",
      "['Latin America & Caribbean' 'LCA' 'St. Lucia' 'East Caribbean dollar']\n",
      "['Latin America & Caribbean' 'MAF' 'St. Martin (French part)' 'Euro']\n",
      "['Latin America & Caribbean' 'MEX' 'Mexico' 'Mexican peso']\n",
      "['Latin America & Caribbean' 'NIC' 'Nicaragua' 'Nicaraguan gold cordoba']\n",
      "['Latin America & Caribbean' 'PAN' 'Panama' 'Panamanian balboa']\n",
      "['Latin America & Caribbean' 'PER' 'Peru' 'Peruvian new sol']\n",
      "['Latin America & Caribbean' 'PRI' 'Puerto Rico' 'U.S. dollar']\n",
      "['Latin America & Caribbean' 'PRY' 'Paraguay' 'Paraguayan guarani']\n",
      "['Latin America & Caribbean' 'SLV' 'El Salvador' 'U.S. dollar']\n",
      "['Latin America & Caribbean' 'SUR' 'Suriname' 'Suriname dollar']\n",
      "['Latin America & Caribbean' 'SXM' 'Sint Maarten (Dutch part)'\n",
      " 'Netherlands Antillean guilder']\n",
      "['Latin America & Caribbean' 'TCA' 'Turks and Caicos Islands'\n",
      " 'U.S. dollar']\n",
      "['Latin America & Caribbean' 'TTO' 'Trinidad and Tobago'\n",
      " 'Trinidad and Tobago dollar']\n",
      "['Latin America & Caribbean' 'URY' 'Uruguay' 'Uruguayan peso']\n",
      "['Latin America & Caribbean' 'VCT' 'St. Vincent and the Grenadines'\n",
      " 'East Caribbean dollar']\n",
      "['Latin America & Caribbean' 'VEN' 'Venezuela' 'Venezuelan bolivar fuerte']\n",
      "['Latin America & Caribbean' 'VIR' 'Virgin Islands' 'U.S. dollar']\n",
      "['Middle East & North Africa' 'ARE' 'United Arab Emirates' 'U.A.E. dirham']\n",
      "['Middle East & North Africa' 'BHR' 'Bahrain' 'Bahraini dinar']\n",
      "['Middle East & North Africa' 'DJI' 'Djibouti' 'Djibouti franc']\n",
      "['Middle East & North Africa' 'DZA' 'Algeria' 'Algerian dinar']\n",
      "['Middle East & North Africa' 'EGY' 'Egypt' 'Egyptian pound']\n",
      "['Middle East & North Africa' 'IRN' 'Iran' 'Iranian rial']\n",
      "['Middle East & North Africa' 'IRQ' 'Iraq' 'Iraqi dinar']\n",
      "['Middle East & North Africa' 'ISR' 'Israel' 'Israeli new shekel']\n",
      "['Middle East & North Africa' 'JOR' 'Jordan' 'Jordanian dinar']\n",
      "['Middle East & North Africa' 'KWT' 'Kuwait' 'Kuwaiti dinar']\n",
      "['Middle East & North Africa' 'LBN' 'Lebanon' 'Lebanese pound']\n",
      "['Middle East & North Africa' 'LBY' 'Libya' 'Libyan dinar']\n",
      "['Middle East & North Africa' 'MAR' 'Morocco' 'Moroccan dirham']\n",
      "['Middle East & North Africa' 'MLT' 'Malta' 'Euro']\n",
      "['Middle East & North Africa' 'OMN' 'Oman' 'Rial Omani']\n",
      "['Middle East & North Africa' 'QAT' 'Qatar' 'Qatari riyal']\n",
      "['Middle East & North Africa' 'SAU' 'Saudi Arabia' 'Saudi Arabian riyal']\n",
      "['Middle East & North Africa' 'SYR' 'Syrian Arab Republic' 'Syrian pound']\n",
      "['Middle East & North Africa' 'TUN' 'Tunisia' 'Tunisian dinar']\n",
      "['Middle East & North Africa' 'WBG' 'West Bank and Gaza'\n",
      " 'Israeli new shekel']\n",
      "['Middle East & North Africa' 'YEM' 'Yemen' 'Yemeni rial']\n",
      "['North America' 'BMU' 'Bermuda' 'Bermuda dollar']\n",
      "['North America' 'CAN' 'Canada' 'Canadian dollar']\n",
      "['North America' 'USA' 'United States' 'U.S. dollar']\n",
      "['South Asia' 'AFG' 'Afghanistan' 'Afghan afghani']\n",
      "['South Asia' 'BGD' 'Bangladesh' 'Bangladeshi taka']\n",
      "['South Asia' 'BTN' 'Bhutan' 'Bhutanese ngultrum']\n",
      "['South Asia' 'IND' 'India' 'Indian rupee']\n",
      "['South Asia' 'LKA' 'Sri Lanka' 'Sri Lankan rupee']\n",
      "['South Asia' 'MDV' 'Maldives' 'Maldivian rufiyaa']\n",
      "['South Asia' 'NPL' 'Nepal' 'Nepalese rupee']\n",
      "['South Asia' 'PAK' 'Pakistan' 'Pakistani rupee']\n",
      "['Sub-Saharan Africa' 'AGO' 'Angola' 'Angolan kwanza']\n",
      "['Sub-Saharan Africa' 'BDI' 'Burundi' 'Burundi franc']\n",
      "['Sub-Saharan Africa' 'BEN' 'Benin' 'West African CFA franc']\n",
      "['Sub-Saharan Africa' 'BFA' 'Burkina Faso' 'West African CFA franc']\n",
      "['Sub-Saharan Africa' 'BWA' 'Botswana' 'Botswana pula']\n",
      "['Sub-Saharan Africa' 'CAF' 'Central African Republic'\n",
      " 'Central African CFA franc']\n",
      "['Sub-Saharan Africa' 'CIV' \"Côte d'Ivoire\" 'West African CFA franc']\n",
      "['Sub-Saharan Africa' 'CMR' 'Cameroon' 'Central African CFA franc']\n",
      "['Sub-Saharan Africa' 'COG' 'Congo' 'Central African CFA franc']\n",
      "['Sub-Saharan Africa' 'COM' 'Comoros' 'Comorian franc']\n",
      "['Sub-Saharan Africa' 'CPV' 'Cabo Verde' 'Cabo Verde escudo']\n",
      "['Sub-Saharan Africa' 'ERI' 'Eritrea' 'Eritrean nakfa']\n",
      "['Sub-Saharan Africa' 'ETH' 'Ethiopia' 'Ethiopian birr']\n",
      "['Sub-Saharan Africa' 'GAB' 'Gabon' 'Central African CFA franc']\n",
      "['Sub-Saharan Africa' 'GHA' 'Ghana' 'New Ghanaian cedi']\n",
      "['Sub-Saharan Africa' 'GIN' 'Guinea' 'Guinean franc']\n",
      "['Sub-Saharan Africa' 'GMB' 'The Gambia' 'Gambian dalasi']\n",
      "['Sub-Saharan Africa' 'GNB' 'Guinea-Bissau' 'West African CFA franc']\n",
      "['Sub-Saharan Africa' 'GNQ' 'Equatorial Guinea'\n",
      " 'Central African CFA franc']\n",
      "['Sub-Saharan Africa' 'KEN' 'Kenya' 'Kenyan shilling']\n",
      "['Sub-Saharan Africa' 'LBR' 'Liberia' 'U.S. dollar']\n",
      "['Sub-Saharan Africa' 'LSO' 'Lesotho' 'Lesotho loti']\n",
      "['Sub-Saharan Africa' 'MDG' 'Madagascar' 'Malagasy ariary']\n",
      "['Sub-Saharan Africa' 'MLI' 'Mali' 'West African CFA franc']\n",
      "['Sub-Saharan Africa' 'MOZ' 'Mozambique' 'New Mozambican metical']\n",
      "['Sub-Saharan Africa' 'MRT' 'Mauritania' 'Mauritanian ouguiya']\n",
      "['Sub-Saharan Africa' 'MUS' 'Mauritius' 'Mauritian rupee']\n",
      "['Sub-Saharan Africa' 'MWI' 'Malawi' 'Malawi kwacha']\n",
      "['Sub-Saharan Africa' 'NAM' 'Namibia' 'Namibian dollar']\n",
      "['Sub-Saharan Africa' 'NER' 'Niger' 'West African CFA franc']\n",
      "['Sub-Saharan Africa' 'NGA' 'Nigeria' 'Nigerian naira']\n",
      "['Sub-Saharan Africa' 'RWA' 'Rwanda' 'Rwandan franc']\n",
      "['Sub-Saharan Africa' 'SDN' 'Sudan' 'Sudanese pound']\n",
      "['Sub-Saharan Africa' 'SEN' 'Senegal' 'West African CFA franc']\n",
      "['Sub-Saharan Africa' 'SLE' 'Sierra Leone' 'Sierra Leonean leone']\n",
      "['Sub-Saharan Africa' 'SOM' 'Somalia' 'Somali shilling']\n",
      "['Sub-Saharan Africa' 'SSD' 'South Sudan' 'South Sudanese Pound']\n",
      "['Sub-Saharan Africa' 'STP' 'São Tomé and Principe'\n",
      " 'São Tomé and Principe dobra']\n",
      "['Sub-Saharan Africa' 'SWZ' 'Swaziland' 'Swaziland lilangeni']\n",
      "['Sub-Saharan Africa' 'SYC' 'Seychelles' 'Seychelles rupee']\n",
      "['Sub-Saharan Africa' 'TCD' 'Chad' 'Central African CFA franc']\n",
      "['Sub-Saharan Africa' 'TGO' 'Togo' 'West African CFA franc']\n",
      "['Sub-Saharan Africa' 'TZA' 'Tanzania' 'Tanzanian shilling']\n",
      "['Sub-Saharan Africa' 'UGA' 'Uganda' 'Ugandan shilling']\n",
      "['Sub-Saharan Africa' 'ZAF' 'South Africa' 'South African rand']\n",
      "['Sub-Saharan Africa' 'ZAR' 'Dem. Rep. Congo' 'Congolese franc']\n",
      "['Sub-Saharan Africa' 'ZMB' 'Zambia' 'New Zambian kwacha']\n",
      "['Sub-Saharan Africa' 'ZWE' 'Zimbabwe' 'U.S. dollar']\n"
     ]
    }
   ],
   "source": [
    "for _, row_series in sorted_data.iterrows():\n",
    "    print(row_series.values)\n"
   ],
   "metadata": {
    "collapsed": false,
    "ExecuteTime": {
     "end_time": "2023-11-13T12:16:02.383942500Z",
     "start_time": "2023-11-13T12:16:02.233937400Z"
    }
   }
  },
  {
   "cell_type": "code",
   "execution_count": 111,
   "outputs": [],
   "source": [
    "m = np.array(\n",
    "    [\n",
    "        [1, 10, 100],\n",
    "        [2, 20, 200],\n",
    "        [3, 30, 300],\n",
    "        [4, 40, 400]\n",
    "    ]\n",
    ")"
   ],
   "metadata": {
    "collapsed": false,
    "ExecuteTime": {
     "end_time": "2023-11-13T12:39:40.328713800Z",
     "start_time": "2023-11-13T12:39:40.257286500Z"
    }
   }
  },
  {
   "cell_type": "code",
   "execution_count": 112,
   "outputs": [
    {
     "data": {
      "text/plain": "array([  2.5,  25. , 250. ])"
     },
     "execution_count": 112,
     "metadata": {},
     "output_type": "execute_result"
    }
   ],
   "source": [
    "np.mean(m, axis=0)"
   ],
   "metadata": {
    "collapsed": false,
    "ExecuteTime": {
     "end_time": "2023-11-13T12:40:09.943669300Z",
     "start_time": "2023-11-13T12:40:09.820634Z"
    }
   }
  },
  {
   "cell_type": "code",
   "execution_count": 113,
   "outputs": [
    {
     "data": {
      "text/plain": "array([ 37.,  74., 111., 148.])"
     },
     "execution_count": 113,
     "metadata": {},
     "output_type": "execute_result"
    }
   ],
   "source": [
    "np.mean(m, axis=1)"
   ],
   "metadata": {
    "collapsed": false,
    "ExecuteTime": {
     "end_time": "2023-11-13T12:41:22.595355100Z",
     "start_time": "2023-11-13T12:41:22.426315500Z"
    }
   }
  },
  {
   "cell_type": "code",
   "execution_count": 114,
   "outputs": [
    {
     "data": {
      "text/plain": "array([  2.5,  25. , 250. ])"
     },
     "execution_count": 114,
     "metadata": {},
     "output_type": "execute_result"
    }
   ],
   "source": [
    "m.mean(axis=0)"
   ],
   "metadata": {
    "collapsed": false,
    "ExecuteTime": {
     "end_time": "2023-11-13T12:41:54.509691600Z",
     "start_time": "2023-11-13T12:41:54.393690800Z"
    }
   }
  },
  {
   "cell_type": "code",
   "execution_count": 115,
   "outputs": [
    {
     "data": {
      "text/plain": "array([ 37.,  74., 111., 148.])"
     },
     "execution_count": 115,
     "metadata": {},
     "output_type": "execute_result"
    }
   ],
   "source": [
    "m.mean(axis=1)"
   ],
   "metadata": {
    "collapsed": false,
    "ExecuteTime": {
     "end_time": "2023-11-13T12:42:07.369125Z",
     "start_time": "2023-11-13T12:42:07.201097800Z"
    }
   }
  },
  {
   "cell_type": "code",
   "execution_count": 118,
   "outputs": [],
   "source": [
    "df = pd.DataFrame(\n",
    "    m,\n",
    "    index=['r0', 'r1', 'r2', 'r3'],\n",
    "    columns=['c0', 'c1', 'c2']\n",
    ")"
   ],
   "metadata": {
    "collapsed": false,
    "ExecuteTime": {
     "end_time": "2023-11-13T12:45:28.917770200Z",
     "start_time": "2023-11-13T12:45:28.807765300Z"
    }
   }
  },
  {
   "cell_type": "code",
   "execution_count": 119,
   "outputs": [
    {
     "data": {
      "text/plain": "    c0  c1   c2\nr0   1  10  100\nr1   2  20  200\nr2   3  30  300\nr3   4  40  400",
      "text/html": "<div>\n<style scoped>\n    .dataframe tbody tr th:only-of-type {\n        vertical-align: middle;\n    }\n\n    .dataframe tbody tr th {\n        vertical-align: top;\n    }\n\n    .dataframe thead th {\n        text-align: right;\n    }\n</style>\n<table border=\"1\" class=\"dataframe\">\n  <thead>\n    <tr style=\"text-align: right;\">\n      <th></th>\n      <th>c0</th>\n      <th>c1</th>\n      <th>c2</th>\n    </tr>\n  </thead>\n  <tbody>\n    <tr>\n      <th>r0</th>\n      <td>1</td>\n      <td>10</td>\n      <td>100</td>\n    </tr>\n    <tr>\n      <th>r1</th>\n      <td>2</td>\n      <td>20</td>\n      <td>200</td>\n    </tr>\n    <tr>\n      <th>r2</th>\n      <td>3</td>\n      <td>30</td>\n      <td>300</td>\n    </tr>\n    <tr>\n      <th>r3</th>\n      <td>4</td>\n      <td>40</td>\n      <td>400</td>\n    </tr>\n  </tbody>\n</table>\n</div>"
     },
     "execution_count": 119,
     "metadata": {},
     "output_type": "execute_result"
    }
   ],
   "source": [
    "df"
   ],
   "metadata": {
    "collapsed": false,
    "ExecuteTime": {
     "end_time": "2023-11-13T12:45:32.271097200Z",
     "start_time": "2023-11-13T12:45:32.097096800Z"
    }
   }
  },
  {
   "cell_type": "code",
   "execution_count": 120,
   "outputs": [
    {
     "data": {
      "text/plain": "c0      2.5\nc1     25.0\nc2    250.0\ndtype: float64"
     },
     "execution_count": 120,
     "metadata": {},
     "output_type": "execute_result"
    }
   ],
   "source": [
    "df.mean(axis=0)"
   ],
   "metadata": {
    "collapsed": false,
    "ExecuteTime": {
     "end_time": "2023-11-13T12:45:58.043265500Z",
     "start_time": "2023-11-13T12:45:57.908253200Z"
    }
   }
  },
  {
   "cell_type": "code",
   "execution_count": 121,
   "outputs": [
    {
     "data": {
      "text/plain": "r0     37.0\nr1     74.0\nr2    111.0\nr3    148.0\ndtype: float64"
     },
     "execution_count": 121,
     "metadata": {},
     "output_type": "execute_result"
    }
   ],
   "source": [
    "df.mean(axis=1)"
   ],
   "metadata": {
    "collapsed": false,
    "ExecuteTime": {
     "end_time": "2023-11-13T12:46:14.061355500Z",
     "start_time": "2023-11-13T12:46:13.901322900Z"
    }
   }
  },
  {
   "cell_type": "code",
   "execution_count": 122,
   "outputs": [
    {
     "data": {
      "text/plain": "c0      10\nc1     100\nc2    1000\ndtype: int64"
     },
     "execution_count": 122,
     "metadata": {},
     "output_type": "execute_result"
    }
   ],
   "source": [
    "df.sum(axis=0)"
   ],
   "metadata": {
    "collapsed": false,
    "ExecuteTime": {
     "end_time": "2023-11-13T12:47:11.788316100Z",
     "start_time": "2023-11-13T12:47:11.663316600Z"
    }
   }
  },
  {
   "cell_type": "code",
   "execution_count": 123,
   "outputs": [
    {
     "data": {
      "text/plain": "r0    111\nr1    222\nr2    333\nr3    444\ndtype: int64"
     },
     "execution_count": 123,
     "metadata": {},
     "output_type": "execute_result"
    }
   ],
   "source": [
    "df.sum(axis=1)"
   ],
   "metadata": {
    "collapsed": false,
    "ExecuteTime": {
     "end_time": "2023-11-13T12:47:39.969540600Z",
     "start_time": "2023-11-13T12:47:39.824280600Z"
    }
   }
  },
  {
   "cell_type": "code",
   "execution_count": 124,
   "outputs": [
    {
     "data": {
      "text/plain": "    c0  c1   c2\nr0   1  10  100\nr1   2  20  200\nr2   3  30  300\nr3   4  40  400",
      "text/html": "<div>\n<style scoped>\n    .dataframe tbody tr th:only-of-type {\n        vertical-align: middle;\n    }\n\n    .dataframe tbody tr th {\n        vertical-align: top;\n    }\n\n    .dataframe thead th {\n        text-align: right;\n    }\n</style>\n<table border=\"1\" class=\"dataframe\">\n  <thead>\n    <tr style=\"text-align: right;\">\n      <th></th>\n      <th>c0</th>\n      <th>c1</th>\n      <th>c2</th>\n    </tr>\n  </thead>\n  <tbody>\n    <tr>\n      <th>r0</th>\n      <td>1</td>\n      <td>10</td>\n      <td>100</td>\n    </tr>\n    <tr>\n      <th>r1</th>\n      <td>2</td>\n      <td>20</td>\n      <td>200</td>\n    </tr>\n    <tr>\n      <th>r2</th>\n      <td>3</td>\n      <td>30</td>\n      <td>300</td>\n    </tr>\n    <tr>\n      <th>r3</th>\n      <td>4</td>\n      <td>40</td>\n      <td>400</td>\n    </tr>\n  </tbody>\n</table>\n</div>"
     },
     "execution_count": 124,
     "metadata": {},
     "output_type": "execute_result"
    }
   ],
   "source": [
    "df"
   ],
   "metadata": {
    "collapsed": false,
    "ExecuteTime": {
     "end_time": "2023-11-13T13:02:15.588980200Z",
     "start_time": "2023-11-13T13:02:15.458979600Z"
    }
   }
  },
  {
   "cell_type": "code",
   "execution_count": 128,
   "outputs": [
    {
     "data": {
      "text/plain": "r0    11\nr1    22\nr2    33\nr3    44\ndtype: int32"
     },
     "execution_count": 128,
     "metadata": {},
     "output_type": "execute_result"
    }
   ],
   "source": [
    "df['c0'] + df['c1']"
   ],
   "metadata": {
    "collapsed": false,
    "ExecuteTime": {
     "end_time": "2023-11-13T13:03:41.786121800Z",
     "start_time": "2023-11-13T13:03:41.716012600Z"
    }
   }
  },
  {
   "cell_type": "code",
   "execution_count": 131,
   "outputs": [
    {
     "data": {
      "text/plain": "r0    11\nr1    22\nr2    33\nr3    44\ndtype: int32"
     },
     "execution_count": 131,
     "metadata": {},
     "output_type": "execute_result"
    }
   ],
   "source": [
    "df.loc[:, 'c0'] + df.iloc[:, 1]"
   ],
   "metadata": {
    "collapsed": false,
    "ExecuteTime": {
     "end_time": "2023-11-13T13:04:24.740236600Z",
     "start_time": "2023-11-13T13:04:24.631232500Z"
    }
   }
  },
  {
   "cell_type": "code",
   "execution_count": 132,
   "outputs": [
    {
     "data": {
      "text/plain": "          c0        c1        c2\nr0  0.841471 -0.544021 -0.506366\nr1  0.909297  0.912945 -0.873297\nr2  0.141120 -0.988032 -0.999756\nr3 -0.756802  0.745113 -0.850919",
      "text/html": "<div>\n<style scoped>\n    .dataframe tbody tr th:only-of-type {\n        vertical-align: middle;\n    }\n\n    .dataframe tbody tr th {\n        vertical-align: top;\n    }\n\n    .dataframe thead th {\n        text-align: right;\n    }\n</style>\n<table border=\"1\" class=\"dataframe\">\n  <thead>\n    <tr style=\"text-align: right;\">\n      <th></th>\n      <th>c0</th>\n      <th>c1</th>\n      <th>c2</th>\n    </tr>\n  </thead>\n  <tbody>\n    <tr>\n      <th>r0</th>\n      <td>0.841471</td>\n      <td>-0.544021</td>\n      <td>-0.506366</td>\n    </tr>\n    <tr>\n      <th>r1</th>\n      <td>0.909297</td>\n      <td>0.912945</td>\n      <td>-0.873297</td>\n    </tr>\n    <tr>\n      <th>r2</th>\n      <td>0.141120</td>\n      <td>-0.988032</td>\n      <td>-0.999756</td>\n    </tr>\n    <tr>\n      <th>r3</th>\n      <td>-0.756802</td>\n      <td>0.745113</td>\n      <td>-0.850919</td>\n    </tr>\n  </tbody>\n</table>\n</div>"
     },
     "execution_count": 132,
     "metadata": {},
     "output_type": "execute_result"
    }
   ],
   "source": [
    "np.sin(df)"
   ],
   "metadata": {
    "collapsed": false,
    "ExecuteTime": {
     "end_time": "2023-11-13T13:04:46.380019Z",
     "start_time": "2023-11-13T13:04:46.281452400Z"
    }
   }
  },
  {
   "cell_type": "code",
   "execution_count": 133,
   "outputs": [
    {
     "data": {
      "text/plain": "    c0  c1   c2\nr0   1  10  100\nr1   2  20  200\nr2   3  30  300\nr3   4  40  400",
      "text/html": "<div>\n<style scoped>\n    .dataframe tbody tr th:only-of-type {\n        vertical-align: middle;\n    }\n\n    .dataframe tbody tr th {\n        vertical-align: top;\n    }\n\n    .dataframe thead th {\n        text-align: right;\n    }\n</style>\n<table border=\"1\" class=\"dataframe\">\n  <thead>\n    <tr style=\"text-align: right;\">\n      <th></th>\n      <th>c0</th>\n      <th>c1</th>\n      <th>c2</th>\n    </tr>\n  </thead>\n  <tbody>\n    <tr>\n      <th>r0</th>\n      <td>1</td>\n      <td>10</td>\n      <td>100</td>\n    </tr>\n    <tr>\n      <th>r1</th>\n      <td>2</td>\n      <td>20</td>\n      <td>200</td>\n    </tr>\n    <tr>\n      <th>r2</th>\n      <td>3</td>\n      <td>30</td>\n      <td>300</td>\n    </tr>\n    <tr>\n      <th>r3</th>\n      <td>4</td>\n      <td>40</td>\n      <td>400</td>\n    </tr>\n  </tbody>\n</table>\n</div>"
     },
     "execution_count": 133,
     "metadata": {},
     "output_type": "execute_result"
    }
   ],
   "source": [
    "df"
   ],
   "metadata": {
    "collapsed": false,
    "ExecuteTime": {
     "end_time": "2023-11-13T13:05:13.404326700Z",
     "start_time": "2023-11-13T13:05:13.262326Z"
    }
   }
  },
  {
   "cell_type": "code",
   "execution_count": 134,
   "outputs": [
    {
     "data": {
      "text/plain": "     r0   r1   r2   r3\nc0    1    2    3    4\nc1   10   20   30   40\nc2  100  200  300  400",
      "text/html": "<div>\n<style scoped>\n    .dataframe tbody tr th:only-of-type {\n        vertical-align: middle;\n    }\n\n    .dataframe tbody tr th {\n        vertical-align: top;\n    }\n\n    .dataframe thead th {\n        text-align: right;\n    }\n</style>\n<table border=\"1\" class=\"dataframe\">\n  <thead>\n    <tr style=\"text-align: right;\">\n      <th></th>\n      <th>r0</th>\n      <th>r1</th>\n      <th>r2</th>\n      <th>r3</th>\n    </tr>\n  </thead>\n  <tbody>\n    <tr>\n      <th>c0</th>\n      <td>1</td>\n      <td>2</td>\n      <td>3</td>\n      <td>4</td>\n    </tr>\n    <tr>\n      <th>c1</th>\n      <td>10</td>\n      <td>20</td>\n      <td>30</td>\n      <td>40</td>\n    </tr>\n    <tr>\n      <th>c2</th>\n      <td>100</td>\n      <td>200</td>\n      <td>300</td>\n      <td>400</td>\n    </tr>\n  </tbody>\n</table>\n</div>"
     },
     "execution_count": 134,
     "metadata": {},
     "output_type": "execute_result"
    }
   ],
   "source": [
    "df.transpose()"
   ],
   "metadata": {
    "collapsed": false,
    "ExecuteTime": {
     "end_time": "2023-11-13T13:05:23.994557300Z",
     "start_time": "2023-11-13T13:05:23.825557Z"
    }
   }
  },
  {
   "cell_type": "code",
   "execution_count": 137,
   "outputs": [
    {
     "data": {
      "text/plain": "  CountryCode       ShortName       TableName  \\\n0         AFG     Afghanistan     Afghanistan   \n1         ALB         Albania         Albania   \n2         DZA         Algeria         Algeria   \n3         ASM  American Samoa  American Samoa   \n4         ADO         Andorra         Andorra   \n\n                                  LongName Alpha2Code    CurrencyUnit  \\\n0             Islamic State of Afghanistan         AF  Afghan afghani   \n1                      Republic of Albania         AL    Albanian lek   \n2  People's Democratic Republic of Algeria         DZ  Algerian dinar   \n3                           American Samoa         AS     U.S. dollar   \n4                  Principality of Andorra         AD            Euro   \n\n                                        SpecialNotes  \\\n0  Fiscal year end: March 20; reporting period fo...   \n1                                                NaN   \n2                                                NaN   \n3                                                NaN   \n4                                                NaN   \n\n                       Region           IncomeGroup Wb2Code  ...  \\\n0                  South Asia            Low income      AF  ...   \n1       Europe & Central Asia   Upper middle income      AL  ...   \n2  Middle East & North Africa   Upper middle income      DZ  ...   \n3         East Asia & Pacific   Upper middle income      AS  ...   \n4       Europe & Central Asia  High income: nonOECD      AD  ...   \n\n       GovernmentAccountingConcept              ImfDataDisseminationStandard  \\\n0  Consolidated central government  General Data Dissemination System (GDDS)   \n1     Budgetary central government  General Data Dissemination System (GDDS)   \n2     Budgetary central government  General Data Dissemination System (GDDS)   \n3                              NaN                                       NaN   \n4                              NaN                                       NaN   \n\n                              LatestPopulationCensus  \\\n0                                               1979   \n1                                               2011   \n2                                               2008   \n3                                               2010   \n4  2011. Population data compiled from administra...   \n\n                               LatestHouseholdSurvey  \\\n0  Multiple Indicator Cluster Survey (MICS), 2010/11   \n1       Demographic and Health Survey (DHS), 2008/09   \n2     Multiple Indicator Cluster Survey (MICS), 2012   \n3                                                NaN   \n4                                                NaN   \n\n          SourceOfMostRecentIncomeAndExpenditureData  \\\n0            Integrated household survey (IHS), 2008   \n1  Living Standards Measurement Study Survey (LSM...   \n2            Integrated household survey (IHS), 1995   \n3                                                NaN   \n4                                                NaN   \n\n  VitalRegistrationComplete LatestAgriculturalCensus LatestIndustrialData  \\\n0                       NaN                  2013/14                  NaN   \n1                       Yes                     2012               2011.0   \n2                       NaN                      NaN               2010.0   \n3                       Yes                     2007                  NaN   \n4                       Yes                      NaN                  NaN   \n\n  LatestTradeData LatestWaterWithdrawalData  \n0          2013.0                    2000.0  \n1          2013.0                    2006.0  \n2          2013.0                    2001.0  \n3             NaN                       NaN  \n4          2006.0                       NaN  \n\n[5 rows x 31 columns]",
      "text/html": "<div>\n<style scoped>\n    .dataframe tbody tr th:only-of-type {\n        vertical-align: middle;\n    }\n\n    .dataframe tbody tr th {\n        vertical-align: top;\n    }\n\n    .dataframe thead th {\n        text-align: right;\n    }\n</style>\n<table border=\"1\" class=\"dataframe\">\n  <thead>\n    <tr style=\"text-align: right;\">\n      <th></th>\n      <th>CountryCode</th>\n      <th>ShortName</th>\n      <th>TableName</th>\n      <th>LongName</th>\n      <th>Alpha2Code</th>\n      <th>CurrencyUnit</th>\n      <th>SpecialNotes</th>\n      <th>Region</th>\n      <th>IncomeGroup</th>\n      <th>Wb2Code</th>\n      <th>...</th>\n      <th>GovernmentAccountingConcept</th>\n      <th>ImfDataDisseminationStandard</th>\n      <th>LatestPopulationCensus</th>\n      <th>LatestHouseholdSurvey</th>\n      <th>SourceOfMostRecentIncomeAndExpenditureData</th>\n      <th>VitalRegistrationComplete</th>\n      <th>LatestAgriculturalCensus</th>\n      <th>LatestIndustrialData</th>\n      <th>LatestTradeData</th>\n      <th>LatestWaterWithdrawalData</th>\n    </tr>\n  </thead>\n  <tbody>\n    <tr>\n      <th>0</th>\n      <td>AFG</td>\n      <td>Afghanistan</td>\n      <td>Afghanistan</td>\n      <td>Islamic State of Afghanistan</td>\n      <td>AF</td>\n      <td>Afghan afghani</td>\n      <td>Fiscal year end: March 20; reporting period fo...</td>\n      <td>South Asia</td>\n      <td>Low income</td>\n      <td>AF</td>\n      <td>...</td>\n      <td>Consolidated central government</td>\n      <td>General Data Dissemination System (GDDS)</td>\n      <td>1979</td>\n      <td>Multiple Indicator Cluster Survey (MICS), 2010/11</td>\n      <td>Integrated household survey (IHS), 2008</td>\n      <td>NaN</td>\n      <td>2013/14</td>\n      <td>NaN</td>\n      <td>2013.0</td>\n      <td>2000.0</td>\n    </tr>\n    <tr>\n      <th>1</th>\n      <td>ALB</td>\n      <td>Albania</td>\n      <td>Albania</td>\n      <td>Republic of Albania</td>\n      <td>AL</td>\n      <td>Albanian lek</td>\n      <td>NaN</td>\n      <td>Europe &amp; Central Asia</td>\n      <td>Upper middle income</td>\n      <td>AL</td>\n      <td>...</td>\n      <td>Budgetary central government</td>\n      <td>General Data Dissemination System (GDDS)</td>\n      <td>2011</td>\n      <td>Demographic and Health Survey (DHS), 2008/09</td>\n      <td>Living Standards Measurement Study Survey (LSM...</td>\n      <td>Yes</td>\n      <td>2012</td>\n      <td>2011.0</td>\n      <td>2013.0</td>\n      <td>2006.0</td>\n    </tr>\n    <tr>\n      <th>2</th>\n      <td>DZA</td>\n      <td>Algeria</td>\n      <td>Algeria</td>\n      <td>People's Democratic Republic of Algeria</td>\n      <td>DZ</td>\n      <td>Algerian dinar</td>\n      <td>NaN</td>\n      <td>Middle East &amp; North Africa</td>\n      <td>Upper middle income</td>\n      <td>DZ</td>\n      <td>...</td>\n      <td>Budgetary central government</td>\n      <td>General Data Dissemination System (GDDS)</td>\n      <td>2008</td>\n      <td>Multiple Indicator Cluster Survey (MICS), 2012</td>\n      <td>Integrated household survey (IHS), 1995</td>\n      <td>NaN</td>\n      <td>NaN</td>\n      <td>2010.0</td>\n      <td>2013.0</td>\n      <td>2001.0</td>\n    </tr>\n    <tr>\n      <th>3</th>\n      <td>ASM</td>\n      <td>American Samoa</td>\n      <td>American Samoa</td>\n      <td>American Samoa</td>\n      <td>AS</td>\n      <td>U.S. dollar</td>\n      <td>NaN</td>\n      <td>East Asia &amp; Pacific</td>\n      <td>Upper middle income</td>\n      <td>AS</td>\n      <td>...</td>\n      <td>NaN</td>\n      <td>NaN</td>\n      <td>2010</td>\n      <td>NaN</td>\n      <td>NaN</td>\n      <td>Yes</td>\n      <td>2007</td>\n      <td>NaN</td>\n      <td>NaN</td>\n      <td>NaN</td>\n    </tr>\n    <tr>\n      <th>4</th>\n      <td>ADO</td>\n      <td>Andorra</td>\n      <td>Andorra</td>\n      <td>Principality of Andorra</td>\n      <td>AD</td>\n      <td>Euro</td>\n      <td>NaN</td>\n      <td>Europe &amp; Central Asia</td>\n      <td>High income: nonOECD</td>\n      <td>AD</td>\n      <td>...</td>\n      <td>NaN</td>\n      <td>NaN</td>\n      <td>2011. Population data compiled from administra...</td>\n      <td>NaN</td>\n      <td>NaN</td>\n      <td>Yes</td>\n      <td>NaN</td>\n      <td>NaN</td>\n      <td>2006.0</td>\n      <td>NaN</td>\n    </tr>\n  </tbody>\n</table>\n<p>5 rows × 31 columns</p>\n</div>"
     },
     "execution_count": 137,
     "metadata": {},
     "output_type": "execute_result"
    }
   ],
   "source": [
    "df = pd.read_csv('world_bank_countries.csv')\n",
    "df[:5]"
   ],
   "metadata": {
    "collapsed": false,
    "ExecuteTime": {
     "end_time": "2023-11-13T13:10:39.509533800Z",
     "start_time": "2023-11-13T13:10:39.341326700Z"
    }
   }
  },
  {
   "cell_type": "code",
   "execution_count": 139,
   "outputs": [
    {
     "data": {
      "text/plain": "array(['1979', '2011', '2008', '2010',\n       '2011. Population data compiled from administrative registers.',\n       '2014', nan, '2009', '2013', '2005', '2012', '2006', '2003',\n       'Guernsey: 2009; Jersey: 2011.', '2007', '1984', '2002',\n       '2006. Rolling census based on continuous sample survey.', '1997',\n       '2004', '1943', '1993', '1998', '1987', '2001', '1989'],\n      dtype=object)"
     },
     "execution_count": 139,
     "metadata": {},
     "output_type": "execute_result"
    }
   ],
   "source": [
    "df['LatestPopulationCensus'].unique()"
   ],
   "metadata": {
    "collapsed": false,
    "ExecuteTime": {
     "end_time": "2023-11-13T13:11:24.126455600Z",
     "start_time": "2023-11-13T13:11:23.980451400Z"
    }
   }
  },
  {
   "cell_type": "code",
   "execution_count": 140,
   "outputs": [
    {
     "name": "stdout",
     "output_type": "stream",
     "text": [
      "<class 'pandas.core.frame.DataFrame'>\n",
      "RangeIndex: 247 entries, 0 to 246\n",
      "Data columns (total 31 columns):\n",
      " #   Column                                      Non-Null Count  Dtype  \n",
      "---  ------                                      --------------  -----  \n",
      " 0   CountryCode                                 247 non-null    object \n",
      " 1   ShortName                                   247 non-null    object \n",
      " 2   TableName                                   247 non-null    object \n",
      " 3   LongName                                    247 non-null    object \n",
      " 4   Alpha2Code                                  244 non-null    object \n",
      " 5   CurrencyUnit                                214 non-null    object \n",
      " 6   SpecialNotes                                164 non-null    object \n",
      " 7   Region                                      214 non-null    object \n",
      " 8   IncomeGroup                                 214 non-null    object \n",
      " 9   Wb2Code                                     246 non-null    object \n",
      " 10  NationalAccountsBaseYear                    205 non-null    object \n",
      " 11  NationalAccountsReferenceYear               54 non-null     object \n",
      " 12  SnaPriceValuation                           198 non-null    object \n",
      " 13  LendingCategory                             144 non-null    object \n",
      " 14  OtherGroups                                 59 non-null     object \n",
      " 15  SystemOfNationalAccounts                    214 non-null    object \n",
      " 16  AlternativeConversionFactor                 47 non-null     object \n",
      " 17  PppSurveyYear                               191 non-null    object \n",
      " 18  BalanceOfPaymentsManualInUse                181 non-null    object \n",
      " 19  ExternalDebtReportingStatus                 124 non-null    object \n",
      " 20  SystemOfTrade                               200 non-null    object \n",
      " 21  GovernmentAccountingConcept                 161 non-null    object \n",
      " 22  ImfDataDisseminationStandard                183 non-null    object \n",
      " 23  LatestPopulationCensus                      213 non-null    object \n",
      " 24  LatestHouseholdSurvey                       147 non-null    object \n",
      " 25  SourceOfMostRecentIncomeAndExpenditureData  158 non-null    object \n",
      " 26  VitalRegistrationComplete                   112 non-null    object \n",
      " 27  LatestAgriculturalCensus                    142 non-null    object \n",
      " 28  LatestIndustrialData                        113 non-null    float64\n",
      " 29  LatestTradeData                             186 non-null    float64\n",
      " 30  LatestWaterWithdrawalData                   180 non-null    float64\n",
      "dtypes: float64(3), object(28)\n",
      "memory usage: 59.9+ KB\n"
     ]
    }
   ],
   "source": [
    "df.info()"
   ],
   "metadata": {
    "collapsed": false,
    "ExecuteTime": {
     "end_time": "2023-11-13T13:11:41.824618100Z",
     "start_time": "2023-11-13T13:11:41.696649700Z"
    }
   }
  },
  {
   "cell_type": "code",
   "execution_count": 141,
   "outputs": [
    {
     "name": "stdout",
     "output_type": "stream",
     "text": [
      "ValueError:  Unable to parse string \"2011. Population data compiled from administrative registers.\" at position 4\n"
     ]
    }
   ],
   "source": [
    "try:\n",
    "    pd.to_numeric(df['LatestPopulationCensus'])\n",
    "except ValueError as ex:\n",
    "    print('ValueError: ', ex)"
   ],
   "metadata": {
    "collapsed": false,
    "ExecuteTime": {
     "end_time": "2023-11-13T13:13:10.318061500Z",
     "start_time": "2023-11-13T13:13:10.191031100Z"
    }
   }
  },
  {
   "cell_type": "code",
   "execution_count": 142,
   "outputs": [
    {
     "data": {
      "text/plain": "0      1979.0\n1      2011.0\n2      2008.0\n3      2010.0\n4         NaN\n        ...  \n242    2007.0\n243       NaN\n244    2004.0\n245    2010.0\n246    2012.0\nName: LatestPopulationCensus, Length: 247, dtype: float64"
     },
     "execution_count": 142,
     "metadata": {},
     "output_type": "execute_result"
    }
   ],
   "source": [
    "latest_census = pd.to_numeric(df['LatestPopulationCensus'], errors='coerce')\n",
    "latest_census"
   ],
   "metadata": {
    "collapsed": false,
    "ExecuteTime": {
     "end_time": "2023-11-13T13:14:25.640333400Z",
     "start_time": "2023-11-13T13:14:25.544357200Z"
    }
   }
  },
  {
   "cell_type": "code",
   "execution_count": 143,
   "outputs": [
    {
     "name": "stdout",
     "output_type": "stream",
     "text": [
      "ValueError:  Cannot convert non-finite values (NA or inf) to integer\n"
     ]
    }
   ],
   "source": [
    "try:\n",
    "    latest_census.astype(int) except ValueError as ex:\n",
    "    print('ValueError: ', ex)"
   ],
   "metadata": {
    "collapsed": false,
    "ExecuteTime": {
     "end_time": "2023-11-13T13:15:51.398785500Z",
     "start_time": "2023-11-13T13:15:51.234148200Z"
    }
   }
  },
  {
   "cell_type": "code",
   "execution_count": 146,
   "outputs": [
    {
     "data": {
      "text/plain": "0      1979\n1      2011\n2      2008\n3      2010\n5      2014\n       ... \n241    2010\n242    2007\n244    2004\n245    2010\n246    2012\nName: LatestPopulationCensus, Length: 208, dtype: int32"
     },
     "execution_count": 146,
     "metadata": {},
     "output_type": "execute_result"
    }
   ],
   "source": [
    "latest_census.dropna().astype(int)"
   ],
   "metadata": {
    "collapsed": false,
    "ExecuteTime": {
     "end_time": "2023-11-13T13:16:48.922501200Z",
     "start_time": "2023-11-13T13:16:48.856464800Z"
    }
   }
  },
  {
   "cell_type": "code",
   "execution_count": 148,
   "outputs": [],
   "source": [
    "df_1 = pd.DataFrame(\n",
    "    [\n",
    "        [1, 2, 3],\n",
    "        [4, 5, 6]\n",
    "    ],\n",
    "    index=['r1', 'r2'],\n",
    "    columns=['c1', 'c2', 'c3']\n",
    ")"
   ],
   "metadata": {
    "collapsed": false,
    "ExecuteTime": {
     "end_time": "2023-11-13T13:28:56.535184800Z",
     "start_time": "2023-11-13T13:28:56.404180400Z"
    }
   }
  },
  {
   "cell_type": "code",
   "execution_count": 150,
   "outputs": [],
   "source": [
    "df_2 = pd.DataFrame(\n",
    "    [\n",
    "        [10, 20],\n",
    "        [20, 20]\n",
    "    ],\n",
    "    index=['r1', 'r2'],\n",
    "    columns=['c10', 'c20']\n",
    ")"
   ],
   "metadata": {
    "collapsed": false,
    "ExecuteTime": {
     "end_time": "2023-11-13T13:31:39.441283100Z",
     "start_time": "2023-11-13T13:31:39.375277300Z"
    }
   }
  },
  {
   "cell_type": "code",
   "execution_count": 151,
   "outputs": [
    {
     "data": {
      "text/plain": "    c1  c2  c3\nr1   1   2   3\nr2   4   5   6",
      "text/html": "<div>\n<style scoped>\n    .dataframe tbody tr th:only-of-type {\n        vertical-align: middle;\n    }\n\n    .dataframe tbody tr th {\n        vertical-align: top;\n    }\n\n    .dataframe thead th {\n        text-align: right;\n    }\n</style>\n<table border=\"1\" class=\"dataframe\">\n  <thead>\n    <tr style=\"text-align: right;\">\n      <th></th>\n      <th>c1</th>\n      <th>c2</th>\n      <th>c3</th>\n    </tr>\n  </thead>\n  <tbody>\n    <tr>\n      <th>r1</th>\n      <td>1</td>\n      <td>2</td>\n      <td>3</td>\n    </tr>\n    <tr>\n      <th>r2</th>\n      <td>4</td>\n      <td>5</td>\n      <td>6</td>\n    </tr>\n  </tbody>\n</table>\n</div>"
     },
     "execution_count": 151,
     "metadata": {},
     "output_type": "execute_result"
    }
   ],
   "source": [
    "df_1"
   ],
   "metadata": {
    "collapsed": false,
    "ExecuteTime": {
     "end_time": "2023-11-13T13:31:48.378133600Z",
     "start_time": "2023-11-13T13:31:48.216133200Z"
    }
   }
  },
  {
   "cell_type": "code",
   "execution_count": 152,
   "outputs": [
    {
     "data": {
      "text/plain": "    c10  c20\nr1   10   20\nr2   20   20",
      "text/html": "<div>\n<style scoped>\n    .dataframe tbody tr th:only-of-type {\n        vertical-align: middle;\n    }\n\n    .dataframe tbody tr th {\n        vertical-align: top;\n    }\n\n    .dataframe thead th {\n        text-align: right;\n    }\n</style>\n<table border=\"1\" class=\"dataframe\">\n  <thead>\n    <tr style=\"text-align: right;\">\n      <th></th>\n      <th>c10</th>\n      <th>c20</th>\n    </tr>\n  </thead>\n  <tbody>\n    <tr>\n      <th>r1</th>\n      <td>10</td>\n      <td>20</td>\n    </tr>\n    <tr>\n      <th>r2</th>\n      <td>20</td>\n      <td>20</td>\n    </tr>\n  </tbody>\n</table>\n</div>"
     },
     "execution_count": 152,
     "metadata": {},
     "output_type": "execute_result"
    }
   ],
   "source": [
    "df_2"
   ],
   "metadata": {
    "collapsed": false,
    "ExecuteTime": {
     "end_time": "2023-11-13T13:31:52.884100500Z",
     "start_time": "2023-11-13T13:31:52.771046Z"
    }
   }
  },
  {
   "cell_type": "code",
   "execution_count": 155,
   "outputs": [
    {
     "data": {
      "text/plain": "    c1  c2  c3  c10  c20\nr1   1   2   3   10   20\nr2   4   5   6   20   20",
      "text/html": "<div>\n<style scoped>\n    .dataframe tbody tr th:only-of-type {\n        vertical-align: middle;\n    }\n\n    .dataframe tbody tr th {\n        vertical-align: top;\n    }\n\n    .dataframe thead th {\n        text-align: right;\n    }\n</style>\n<table border=\"1\" class=\"dataframe\">\n  <thead>\n    <tr style=\"text-align: right;\">\n      <th></th>\n      <th>c1</th>\n      <th>c2</th>\n      <th>c3</th>\n      <th>c10</th>\n      <th>c20</th>\n    </tr>\n  </thead>\n  <tbody>\n    <tr>\n      <th>r1</th>\n      <td>1</td>\n      <td>2</td>\n      <td>3</td>\n      <td>10</td>\n      <td>20</td>\n    </tr>\n    <tr>\n      <th>r2</th>\n      <td>4</td>\n      <td>5</td>\n      <td>6</td>\n      <td>20</td>\n      <td>20</td>\n    </tr>\n  </tbody>\n</table>\n</div>"
     },
     "execution_count": 155,
     "metadata": {},
     "output_type": "execute_result"
    }
   ],
   "source": [
    "pd.concat([df_1, df_2], axis=1)"
   ],
   "metadata": {
    "collapsed": false,
    "ExecuteTime": {
     "end_time": "2023-11-13T13:33:14.401485400Z",
     "start_time": "2023-11-13T13:33:14.259484300Z"
    }
   }
  },
  {
   "cell_type": "code",
   "execution_count": 156,
   "outputs": [],
   "source": [
    "df_1 = pd.DataFrame(\n",
    "    [\n",
    "        [1, 2, 3],\n",
    "        [2, 3, 4]\n",
    "    ],\n",
    "    index=['r1', 'r2'],\n",
    "    columns=['c1', 'c2', 'c3']\n",
    ")\n",
    "\n",
    "df_2 = pd.DataFrame(\n",
    "    [\n",
    "        [10, 20],\n",
    "        [20, 30]\n",
    "    ],\n",
    "    index=['r10', 'r2'],\n",
    "    columns=['c10', 'c20']\n",
    ")"
   ],
   "metadata": {
    "collapsed": false,
    "ExecuteTime": {
     "end_time": "2023-11-13T13:33:57.252304100Z",
     "start_time": "2023-11-13T13:33:57.126299800Z"
    }
   }
  },
  {
   "cell_type": "code",
   "execution_count": 157,
   "outputs": [
    {
     "data": {
      "text/plain": "      c1   c2   c3   c10   c20\nr1   1.0  2.0  3.0   NaN   NaN\nr2   2.0  3.0  4.0  20.0  30.0\nr10  NaN  NaN  NaN  10.0  20.0",
      "text/html": "<div>\n<style scoped>\n    .dataframe tbody tr th:only-of-type {\n        vertical-align: middle;\n    }\n\n    .dataframe tbody tr th {\n        vertical-align: top;\n    }\n\n    .dataframe thead th {\n        text-align: right;\n    }\n</style>\n<table border=\"1\" class=\"dataframe\">\n  <thead>\n    <tr style=\"text-align: right;\">\n      <th></th>\n      <th>c1</th>\n      <th>c2</th>\n      <th>c3</th>\n      <th>c10</th>\n      <th>c20</th>\n    </tr>\n  </thead>\n  <tbody>\n    <tr>\n      <th>r1</th>\n      <td>1.0</td>\n      <td>2.0</td>\n      <td>3.0</td>\n      <td>NaN</td>\n      <td>NaN</td>\n    </tr>\n    <tr>\n      <th>r2</th>\n      <td>2.0</td>\n      <td>3.0</td>\n      <td>4.0</td>\n      <td>20.0</td>\n      <td>30.0</td>\n    </tr>\n    <tr>\n      <th>r10</th>\n      <td>NaN</td>\n      <td>NaN</td>\n      <td>NaN</td>\n      <td>10.0</td>\n      <td>20.0</td>\n    </tr>\n  </tbody>\n</table>\n</div>"
     },
     "execution_count": 157,
     "metadata": {},
     "output_type": "execute_result"
    }
   ],
   "source": [
    "pd.concat([df_1, df_2], axis=1)"
   ],
   "metadata": {
    "collapsed": false,
    "ExecuteTime": {
     "end_time": "2023-11-13T13:34:28.208401400Z",
     "start_time": "2023-11-13T13:34:28.062399800Z"
    }
   }
  },
  {
   "cell_type": "code",
   "execution_count": 164,
   "outputs": [
    {
     "data": {
      "text/plain": "    c1  c2  c3  c1  c20\nr1   1   2   3  10   20\nr2   2   3   4  20   30",
      "text/html": "<div>\n<style scoped>\n    .dataframe tbody tr th:only-of-type {\n        vertical-align: middle;\n    }\n\n    .dataframe tbody tr th {\n        vertical-align: top;\n    }\n\n    .dataframe thead th {\n        text-align: right;\n    }\n</style>\n<table border=\"1\" class=\"dataframe\">\n  <thead>\n    <tr style=\"text-align: right;\">\n      <th></th>\n      <th>c1</th>\n      <th>c2</th>\n      <th>c3</th>\n      <th>c1</th>\n      <th>c20</th>\n    </tr>\n  </thead>\n  <tbody>\n    <tr>\n      <th>r1</th>\n      <td>1</td>\n      <td>2</td>\n      <td>3</td>\n      <td>10</td>\n      <td>20</td>\n    </tr>\n    <tr>\n      <th>r2</th>\n      <td>2</td>\n      <td>3</td>\n      <td>4</td>\n      <td>20</td>\n      <td>30</td>\n    </tr>\n  </tbody>\n</table>\n</div>"
     },
     "execution_count": 164,
     "metadata": {},
     "output_type": "execute_result"
    }
   ],
   "source": [
    "df_1 = pd.DataFrame(\n",
    "    [\n",
    "        [1, 2, 3],\n",
    "        [2, 3, 4]\n",
    "    ],\n",
    "    index=['r1', 'r2'],\n",
    "    columns=['c1', 'c2', 'c3']\n",
    ")\n",
    "\n",
    "df_2 = pd.DataFrame(\n",
    "    [\n",
    "        [10, 20],\n",
    "        [20, 30]\n",
    "    ],\n",
    "    index=['r1', 'r2'],\n",
    "    columns=['c1', 'c20']\n",
    ")\n",
    "\n",
    "pd.concat([df_1, df_2], axis=1)"
   ],
   "metadata": {
    "collapsed": false,
    "ExecuteTime": {
     "end_time": "2023-11-13T13:38:02.307241800Z",
     "start_time": "2023-11-13T13:38:02.229151700Z"
    }
   }
  },
  {
   "cell_type": "code",
   "execution_count": 166,
   "outputs": [
    {
     "data": {
      "text/plain": "    c1  c2  c3  c4  c5\nr1   1   2   3  10  20\nr2   2   3   4  20  30",
      "text/html": "<div>\n<style scoped>\n    .dataframe tbody tr th:only-of-type {\n        vertical-align: middle;\n    }\n\n    .dataframe tbody tr th {\n        vertical-align: top;\n    }\n\n    .dataframe thead th {\n        text-align: right;\n    }\n</style>\n<table border=\"1\" class=\"dataframe\">\n  <thead>\n    <tr style=\"text-align: right;\">\n      <th></th>\n      <th>c1</th>\n      <th>c2</th>\n      <th>c3</th>\n      <th>c4</th>\n      <th>c5</th>\n    </tr>\n  </thead>\n  <tbody>\n    <tr>\n      <th>r1</th>\n      <td>1</td>\n      <td>2</td>\n      <td>3</td>\n      <td>10</td>\n      <td>20</td>\n    </tr>\n    <tr>\n      <th>r2</th>\n      <td>2</td>\n      <td>3</td>\n      <td>4</td>\n      <td>20</td>\n      <td>30</td>\n    </tr>\n  </tbody>\n</table>\n</div>"
     },
     "execution_count": 166,
     "metadata": {},
     "output_type": "execute_result"
    }
   ],
   "source": [
    "data = pd.concat([df_1, df_2], axis=1)\n",
    "data.columns = ['c1', 'c2', 'c3', 'c4', 'c5']\n",
    "data\n"
   ],
   "metadata": {
    "collapsed": false,
    "ExecuteTime": {
     "end_time": "2023-11-13T13:38:26.752006400Z",
     "start_time": "2023-11-13T13:38:26.626005300Z"
    }
   }
  },
  {
   "cell_type": "code",
   "execution_count": 167,
   "outputs": [],
   "source": [
    "df_1 = pd.DataFrame(\n",
    "    [\n",
    "        [1, 2, 3],\n",
    "        [2, 3, 4]\n",
    "    ],\n",
    "    index = ['r1', 'r2'],\n",
    "    columns = ['c1', 'c2', 'c3']\n",
    ")\n",
    "\n",
    "df_2 = pd.DataFrame(\n",
    "    [\n",
    "        [10, 20],\n",
    "        [20, 30]\n",
    "    ],\n",
    "    index = ['r3', 'r4'],\n",
    "    columns = ['c3', 'c4']\n",
    ")"
   ],
   "metadata": {
    "collapsed": false,
    "ExecuteTime": {
     "end_time": "2023-11-13T13:39:10.293460Z",
     "start_time": "2023-11-13T13:39:10.121455Z"
    }
   }
  },
  {
   "cell_type": "code",
   "execution_count": 168,
   "outputs": [
    {
     "data": {
      "text/plain": "     c1   c2  c3    c4\nr1  1.0  2.0   3   NaN\nr2  2.0  3.0   4   NaN\nr3  NaN  NaN  10  20.0\nr4  NaN  NaN  20  30.0",
      "text/html": "<div>\n<style scoped>\n    .dataframe tbody tr th:only-of-type {\n        vertical-align: middle;\n    }\n\n    .dataframe tbody tr th {\n        vertical-align: top;\n    }\n\n    .dataframe thead th {\n        text-align: right;\n    }\n</style>\n<table border=\"1\" class=\"dataframe\">\n  <thead>\n    <tr style=\"text-align: right;\">\n      <th></th>\n      <th>c1</th>\n      <th>c2</th>\n      <th>c3</th>\n      <th>c4</th>\n    </tr>\n  </thead>\n  <tbody>\n    <tr>\n      <th>r1</th>\n      <td>1.0</td>\n      <td>2.0</td>\n      <td>3</td>\n      <td>NaN</td>\n    </tr>\n    <tr>\n      <th>r2</th>\n      <td>2.0</td>\n      <td>3.0</td>\n      <td>4</td>\n      <td>NaN</td>\n    </tr>\n    <tr>\n      <th>r3</th>\n      <td>NaN</td>\n      <td>NaN</td>\n      <td>10</td>\n      <td>20.0</td>\n    </tr>\n    <tr>\n      <th>r4</th>\n      <td>NaN</td>\n      <td>NaN</td>\n      <td>20</td>\n      <td>30.0</td>\n    </tr>\n  </tbody>\n</table>\n</div>"
     },
     "execution_count": 168,
     "metadata": {},
     "output_type": "execute_result"
    }
   ],
   "source": [
    "pd.concat([df_1, df_2], axis=0)\n"
   ],
   "metadata": {
    "collapsed": false,
    "ExecuteTime": {
     "end_time": "2023-11-13T13:39:23.081423200Z",
     "start_time": "2023-11-13T13:39:22.934424Z"
    }
   }
  },
  {
   "cell_type": "code",
   "execution_count": 169,
   "outputs": [],
   "source": [
    "latest_census = latest_census[latest_census.notnull()].astype(int)"
   ],
   "metadata": {
    "collapsed": false,
    "ExecuteTime": {
     "end_time": "2023-11-13T13:41:46.790606900Z",
     "start_time": "2023-11-13T13:41:46.673601300Z"
    }
   }
  },
  {
   "cell_type": "code",
   "execution_count": 170,
   "outputs": [
    {
     "data": {
      "text/plain": "0      1979\n1      2011\n2      2008\n3      2010\n5      2014\n       ... \n241    2010\n242    2007\n244    2004\n245    2010\n246    2012\nName: LatestPopulationCensus, Length: 208, dtype: int32"
     },
     "execution_count": 170,
     "metadata": {},
     "output_type": "execute_result"
    }
   ],
   "source": [
    "latest_census"
   ],
   "metadata": {
    "collapsed": false,
    "ExecuteTime": {
     "end_time": "2023-11-13T13:41:51.552272800Z",
     "start_time": "2023-11-13T13:41:51.411271900Z"
    }
   }
  },
  {
   "cell_type": "code",
   "execution_count": 172,
   "outputs": [
    {
     "data": {
      "text/plain": "  CountryCode       ShortName\n0         AFG     Afghanistan\n1         ALB         Albania\n2         DZA         Algeria\n3         ASM  American Samoa\n4         ADO         Andorra",
      "text/html": "<div>\n<style scoped>\n    .dataframe tbody tr th:only-of-type {\n        vertical-align: middle;\n    }\n\n    .dataframe tbody tr th {\n        vertical-align: top;\n    }\n\n    .dataframe thead th {\n        text-align: right;\n    }\n</style>\n<table border=\"1\" class=\"dataframe\">\n  <thead>\n    <tr style=\"text-align: right;\">\n      <th></th>\n      <th>CountryCode</th>\n      <th>ShortName</th>\n    </tr>\n  </thead>\n  <tbody>\n    <tr>\n      <th>0</th>\n      <td>AFG</td>\n      <td>Afghanistan</td>\n    </tr>\n    <tr>\n      <th>1</th>\n      <td>ALB</td>\n      <td>Albania</td>\n    </tr>\n    <tr>\n      <th>2</th>\n      <td>DZA</td>\n      <td>Algeria</td>\n    </tr>\n    <tr>\n      <th>3</th>\n      <td>ASM</td>\n      <td>American Samoa</td>\n    </tr>\n    <tr>\n      <th>4</th>\n      <td>ADO</td>\n      <td>Andorra</td>\n    </tr>\n  </tbody>\n</table>\n</div>"
     },
     "execution_count": 172,
     "metadata": {},
     "output_type": "execute_result"
    }
   ],
   "source": [
    "subset = df.loc[:,['CountryCode', 'ShortName']]\n",
    "subset.iloc[:5]"
   ],
   "metadata": {
    "collapsed": false,
    "ExecuteTime": {
     "end_time": "2023-11-13T13:43:12.424021900Z",
     "start_time": "2023-11-13T13:43:12.253023Z"
    }
   }
  },
  {
   "cell_type": "code",
   "execution_count": 173,
   "outputs": [
    {
     "data": {
      "text/plain": "    CountryCode        ShortName\n246         ZWE         Zimbabwe\n245         ZMB           Zambia\n54          ZAR  Dem. Rep. Congo\n199         ZAF     South Africa\n244         YEM            Yemen\n..          ...              ...\n1           ALB          Albania\n5           AGO           Angola\n0           AFG      Afghanistan\n4           ADO          Andorra\n10          ABW            Aruba\n\n[247 rows x 2 columns]",
      "text/html": "<div>\n<style scoped>\n    .dataframe tbody tr th:only-of-type {\n        vertical-align: middle;\n    }\n\n    .dataframe tbody tr th {\n        vertical-align: top;\n    }\n\n    .dataframe thead th {\n        text-align: right;\n    }\n</style>\n<table border=\"1\" class=\"dataframe\">\n  <thead>\n    <tr style=\"text-align: right;\">\n      <th></th>\n      <th>CountryCode</th>\n      <th>ShortName</th>\n    </tr>\n  </thead>\n  <tbody>\n    <tr>\n      <th>246</th>\n      <td>ZWE</td>\n      <td>Zimbabwe</td>\n    </tr>\n    <tr>\n      <th>245</th>\n      <td>ZMB</td>\n      <td>Zambia</td>\n    </tr>\n    <tr>\n      <th>54</th>\n      <td>ZAR</td>\n      <td>Dem. Rep. Congo</td>\n    </tr>\n    <tr>\n      <th>199</th>\n      <td>ZAF</td>\n      <td>South Africa</td>\n    </tr>\n    <tr>\n      <th>244</th>\n      <td>YEM</td>\n      <td>Yemen</td>\n    </tr>\n    <tr>\n      <th>...</th>\n      <td>...</td>\n      <td>...</td>\n    </tr>\n    <tr>\n      <th>1</th>\n      <td>ALB</td>\n      <td>Albania</td>\n    </tr>\n    <tr>\n      <th>5</th>\n      <td>AGO</td>\n      <td>Angola</td>\n    </tr>\n    <tr>\n      <th>0</th>\n      <td>AFG</td>\n      <td>Afghanistan</td>\n    </tr>\n    <tr>\n      <th>4</th>\n      <td>ADO</td>\n      <td>Andorra</td>\n    </tr>\n    <tr>\n      <th>10</th>\n      <td>ABW</td>\n      <td>Aruba</td>\n    </tr>\n  </tbody>\n</table>\n<p>247 rows × 2 columns</p>\n</div>"
     },
     "execution_count": 173,
     "metadata": {},
     "output_type": "execute_result"
    }
   ],
   "source": [
    "subset.sort_values('CountryCode', ascending=False)"
   ],
   "metadata": {
    "collapsed": false,
    "ExecuteTime": {
     "end_time": "2023-11-13T13:44:05.203827400Z",
     "start_time": "2023-11-13T13:44:05.055797100Z"
    }
   }
  },
  {
   "cell_type": "code",
   "execution_count": 174,
   "outputs": [
    {
     "data": {
      "text/plain": "0      1979\n1      2011\n2      2008\n3      2010\n5      2014\n       ... \n241    2010\n242    2007\n244    2004\n245    2010\n246    2012\nName: LatestPopulationCensus, Length: 208, dtype: int32"
     },
     "execution_count": 174,
     "metadata": {},
     "output_type": "execute_result"
    }
   ],
   "source": [
    "latest_census"
   ],
   "metadata": {
    "collapsed": false,
    "ExecuteTime": {
     "end_time": "2023-11-13T13:44:25.629690700Z",
     "start_time": "2023-11-13T13:44:25.463723200Z"
    }
   }
  },
  {
   "cell_type": "code",
   "execution_count": 175,
   "outputs": [
    {
     "name": "stdout",
     "output_type": "stream",
     "text": [
      "<class 'pandas.core.frame.DataFrame'>\n",
      "Int64Index: 247 entries, 0 to 246\n",
      "Data columns (total 3 columns):\n",
      " #   Column                  Non-Null Count  Dtype  \n",
      "---  ------                  --------------  -----  \n",
      " 0   CountryCode             247 non-null    object \n",
      " 1   ShortName               247 non-null    object \n",
      " 2   LatestPopulationCensus  208 non-null    float64\n",
      "dtypes: float64(1), object(2)\n",
      "memory usage: 7.7+ KB\n"
     ]
    }
   ],
   "source": [
    "pd.concat(\n",
    "    [subset, latest_census],\n",
    "    axis=1\n",
    ").info()"
   ],
   "metadata": {
    "collapsed": false,
    "ExecuteTime": {
     "end_time": "2023-11-13T13:45:12.205486400Z",
     "start_time": "2023-11-13T13:45:12.038473300Z"
    }
   }
  },
  {
   "cell_type": "code",
   "execution_count": 178,
   "outputs": [
    {
     "data": {
      "text/plain": "    CountryCode           ShortName\n0           AFG         Afghanistan\n1           ALB             Albania\n2           DZA             Algeria\n3           ASM      American Samoa\n5           AGO              Angola\n..          ...                 ...\n241         VIR      Virgin Islands\n242         WBG  West Bank and Gaza\n244         YEM               Yemen\n245         ZMB              Zambia\n246         ZWE            Zimbabwe\n\n[208 rows x 2 columns]",
      "text/html": "<div>\n<style scoped>\n    .dataframe tbody tr th:only-of-type {\n        vertical-align: middle;\n    }\n\n    .dataframe tbody tr th {\n        vertical-align: top;\n    }\n\n    .dataframe thead th {\n        text-align: right;\n    }\n</style>\n<table border=\"1\" class=\"dataframe\">\n  <thead>\n    <tr style=\"text-align: right;\">\n      <th></th>\n      <th>CountryCode</th>\n      <th>ShortName</th>\n    </tr>\n  </thead>\n  <tbody>\n    <tr>\n      <th>0</th>\n      <td>AFG</td>\n      <td>Afghanistan</td>\n    </tr>\n    <tr>\n      <th>1</th>\n      <td>ALB</td>\n      <td>Albania</td>\n    </tr>\n    <tr>\n      <th>2</th>\n      <td>DZA</td>\n      <td>Algeria</td>\n    </tr>\n    <tr>\n      <th>3</th>\n      <td>ASM</td>\n      <td>American Samoa</td>\n    </tr>\n    <tr>\n      <th>5</th>\n      <td>AGO</td>\n      <td>Angola</td>\n    </tr>\n    <tr>\n      <th>...</th>\n      <td>...</td>\n      <td>...</td>\n    </tr>\n    <tr>\n      <th>241</th>\n      <td>VIR</td>\n      <td>Virgin Islands</td>\n    </tr>\n    <tr>\n      <th>242</th>\n      <td>WBG</td>\n      <td>West Bank and Gaza</td>\n    </tr>\n    <tr>\n      <th>244</th>\n      <td>YEM</td>\n      <td>Yemen</td>\n    </tr>\n    <tr>\n      <th>245</th>\n      <td>ZMB</td>\n      <td>Zambia</td>\n    </tr>\n    <tr>\n      <th>246</th>\n      <td>ZWE</td>\n      <td>Zimbabwe</td>\n    </tr>\n  </tbody>\n</table>\n<p>208 rows × 2 columns</p>\n</div>"
     },
     "execution_count": 178,
     "metadata": {},
     "output_type": "execute_result"
    }
   ],
   "source": [
    "df = pd.read_csv('world_bank_countries.csv')\n",
    "latest_census = pd.to_numeric(df['LatestPopulationCensus'], errors='coerce')\n",
    "subset = df.loc[latest_census.notnull(), ['CountryCode', 'ShortName']]\n",
    "subset"
   ],
   "metadata": {
    "collapsed": false,
    "ExecuteTime": {
     "end_time": "2023-11-13T13:49:45.044462100Z",
     "start_time": "2023-11-13T13:49:44.867430900Z"
    }
   }
  },
  {
   "cell_type": "code",
   "execution_count": 181,
   "outputs": [
    {
     "data": {
      "text/plain": "    CountryCode           ShortName  LatestPopulationCensus\n0           AFG         Afghanistan                    1979\n1           ALB             Albania                    2011\n2           DZA             Algeria                    2008\n3           ASM      American Samoa                    2010\n5           AGO              Angola                    2014\n..          ...                 ...                     ...\n241         VIR      Virgin Islands                    2010\n242         WBG  West Bank and Gaza                    2007\n244         YEM               Yemen                    2004\n245         ZMB              Zambia                    2010\n246         ZWE            Zimbabwe                    2012\n\n[208 rows x 3 columns]",
      "text/html": "<div>\n<style scoped>\n    .dataframe tbody tr th:only-of-type {\n        vertical-align: middle;\n    }\n\n    .dataframe tbody tr th {\n        vertical-align: top;\n    }\n\n    .dataframe thead th {\n        text-align: right;\n    }\n</style>\n<table border=\"1\" class=\"dataframe\">\n  <thead>\n    <tr style=\"text-align: right;\">\n      <th></th>\n      <th>CountryCode</th>\n      <th>ShortName</th>\n      <th>LatestPopulationCensus</th>\n    </tr>\n  </thead>\n  <tbody>\n    <tr>\n      <th>0</th>\n      <td>AFG</td>\n      <td>Afghanistan</td>\n      <td>1979</td>\n    </tr>\n    <tr>\n      <th>1</th>\n      <td>ALB</td>\n      <td>Albania</td>\n      <td>2011</td>\n    </tr>\n    <tr>\n      <th>2</th>\n      <td>DZA</td>\n      <td>Algeria</td>\n      <td>2008</td>\n    </tr>\n    <tr>\n      <th>3</th>\n      <td>ASM</td>\n      <td>American Samoa</td>\n      <td>2010</td>\n    </tr>\n    <tr>\n      <th>5</th>\n      <td>AGO</td>\n      <td>Angola</td>\n      <td>2014</td>\n    </tr>\n    <tr>\n      <th>...</th>\n      <td>...</td>\n      <td>...</td>\n      <td>...</td>\n    </tr>\n    <tr>\n      <th>241</th>\n      <td>VIR</td>\n      <td>Virgin Islands</td>\n      <td>2010</td>\n    </tr>\n    <tr>\n      <th>242</th>\n      <td>WBG</td>\n      <td>West Bank and Gaza</td>\n      <td>2007</td>\n    </tr>\n    <tr>\n      <th>244</th>\n      <td>YEM</td>\n      <td>Yemen</td>\n      <td>2004</td>\n    </tr>\n    <tr>\n      <th>245</th>\n      <td>ZMB</td>\n      <td>Zambia</td>\n      <td>2010</td>\n    </tr>\n    <tr>\n      <th>246</th>\n      <td>ZWE</td>\n      <td>Zimbabwe</td>\n      <td>2012</td>\n    </tr>\n  </tbody>\n</table>\n<p>208 rows × 3 columns</p>\n</div>"
     },
     "execution_count": 181,
     "metadata": {},
     "output_type": "execute_result"
    }
   ],
   "source": [
    "result = pd.concat([subset, latest_census.dropna().astype(int)], axis=1)\n",
    "result"
   ],
   "metadata": {
    "collapsed": false,
    "ExecuteTime": {
     "end_time": "2023-11-13T13:51:02.270760200Z",
     "start_time": "2023-11-13T13:51:02.131992800Z"
    }
   }
  },
  {
   "cell_type": "code",
   "execution_count": 183,
   "outputs": [],
   "source": [
    "df = pd.read_csv('world_bank_countries.csv')\n",
    "latest_census = pd.to_numeric(df['LatestPopulationCensus'], errors='coerce')\n",
    "latest_census = latest_census.dropna().astype(int)\n",
    "subset = df[['CountryCode', 'ShortName']]"
   ],
   "metadata": {
    "collapsed": false,
    "ExecuteTime": {
     "end_time": "2023-11-13T13:55:26.811435Z",
     "start_time": "2023-11-13T13:55:26.647430200Z"
    }
   }
  },
  {
   "cell_type": "code",
   "execution_count": 184,
   "outputs": [
    {
     "data": {
      "text/plain": "    CountryCode           ShortName           TableName  \\\n0           AFG         Afghanistan         Afghanistan   \n1           ALB             Albania             Albania   \n2           DZA             Algeria             Algeria   \n3           ASM      American Samoa      American Samoa   \n4           ADO             Andorra             Andorra   \n..          ...                 ...                 ...   \n242         WBG  West Bank and Gaza  West Bank and Gaza   \n243         WLD               World               World   \n244         YEM               Yemen         Yemen, Rep.   \n245         ZMB              Zambia              Zambia   \n246         ZWE            Zimbabwe            Zimbabwe   \n\n                                    LongName Alpha2Code        CurrencyUnit  \\\n0               Islamic State of Afghanistan         AF      Afghan afghani   \n1                        Republic of Albania         AL        Albanian lek   \n2    People's Democratic Republic of Algeria         DZ      Algerian dinar   \n3                             American Samoa         AS         U.S. dollar   \n4                    Principality of Andorra         AD                Euro   \n..                                       ...        ...                 ...   \n242                       West Bank and Gaza         PS  Israeli new shekel   \n243                                    World         1W                 NaN   \n244                        Republic of Yemen         YE         Yemeni rial   \n245                       Republic of Zambia         ZM  New Zambian kwacha   \n246                     Republic of Zimbabwe         ZW         U.S. dollar   \n\n                                          SpecialNotes  \\\n0    Fiscal year end: March 20; reporting period fo...   \n1                                                  NaN   \n2                                                  NaN   \n3                                                  NaN   \n4                                                  NaN   \n..                                                 ...   \n242                         The new base year is 2004.   \n243                                   World aggregate.   \n244  Based on official government statistics and In...   \n245  The new base year is 2010. National accounts d...   \n246  Fiscal year end: June 30; reporting period for...   \n\n                         Region           IncomeGroup Wb2Code  ...  \\\n0                    South Asia            Low income      AF  ...   \n1         Europe & Central Asia   Upper middle income      AL  ...   \n2    Middle East & North Africa   Upper middle income      DZ  ...   \n3           East Asia & Pacific   Upper middle income      AS  ...   \n4         Europe & Central Asia  High income: nonOECD      AD  ...   \n..                          ...                   ...     ...  ...   \n242  Middle East & North Africa   Lower middle income      GZ  ...   \n243                         NaN                   NaN      1W  ...   \n244  Middle East & North Africa   Lower middle income      RY  ...   \n245          Sub-Saharan Africa   Lower middle income      ZM  ...   \n246          Sub-Saharan Africa            Low income      ZW  ...   \n\n         GovernmentAccountingConcept  \\\n0    Consolidated central government   \n1       Budgetary central government   \n2       Budgetary central government   \n3                                NaN   \n4                                NaN   \n..                               ...   \n242     Budgetary central government   \n243                              NaN   \n244     Budgetary central government   \n245     Budgetary central government   \n246  Consolidated central government   \n\n                   ImfDataDisseminationStandard  \\\n0      General Data Dissemination System (GDDS)   \n1      General Data Dissemination System (GDDS)   \n2      General Data Dissemination System (GDDS)   \n3                                           NaN   \n4                                           NaN   \n..                                          ...   \n242  Special Data Dissemination Standard (SDDS)   \n243                                         NaN   \n244    General Data Dissemination System (GDDS)   \n245    General Data Dissemination System (GDDS)   \n246    General Data Dissemination System (GDDS)   \n\n                                LatestPopulationCensus  \\\n0                                                 1979   \n1                                                 2011   \n2                                                 2008   \n3                                                 2010   \n4    2011. Population data compiled from administra...   \n..                                                 ...   \n242                                               2007   \n243                                                NaN   \n244                                               2004   \n245                                               2010   \n246                                               2012   \n\n                                 LatestHouseholdSurvey  \\\n0    Multiple Indicator Cluster Survey (MICS), 2010/11   \n1         Demographic and Health Survey (DHS), 2008/09   \n2       Multiple Indicator Cluster Survey (MICS), 2012   \n3                                                  NaN   \n4                                                  NaN   \n..                                                 ...   \n242     Multiple Indicator Cluster Survey (MICS), 2014   \n243                                                NaN   \n244          Demographic and Health Survey (DHS), 2013   \n245       Demographic and Health Survey (DHS), 2013/14   \n246     Multiple Indicator Cluster Survey (MICS), 2014   \n\n            SourceOfMostRecentIncomeAndExpenditureData  \\\n0              Integrated household survey (IHS), 2008   \n1    Living Standards Measurement Study Survey (LSM...   \n2              Integrated household survey (IHS), 1995   \n3                                                  NaN   \n4                                                  NaN   \n..                                                 ...   \n242            Integrated household survey (IHS), 2011   \n243                                                NaN   \n244     Expenditure survey/budget survey (ES/BS), 2005   \n245            Integrated household survey (IHS), 2010   \n246         Integrated household survey (IHS), 2011/12   \n\n    VitalRegistrationComplete              LatestAgriculturalCensus  \\\n0                         NaN                               2013/14   \n1                         Yes                                  2012   \n2                         NaN                                   NaN   \n3                         Yes                                  2007   \n4                         Yes                                   NaN   \n..                        ...                                   ...   \n242                       NaN                                   NaN   \n243                       NaN                                   NaN   \n244                       NaN                                   NaN   \n245                       NaN  2010. Population and Housing Census.   \n246                       NaN                                   NaN   \n\n    LatestIndustrialData LatestTradeData LatestWaterWithdrawalData  \n0                    NaN          2013.0                    2000.0  \n1                 2011.0          2013.0                    2006.0  \n2                 2010.0          2013.0                    2001.0  \n3                    NaN             NaN                       NaN  \n4                    NaN          2006.0                       NaN  \n..                   ...             ...                       ...  \n242               2010.0             NaN                    2005.0  \n243                  NaN             NaN                       NaN  \n244               2009.0          2013.0                    2005.0  \n245                  NaN          2013.0                    2002.0  \n246                  NaN          2013.0                    2002.0  \n\n[247 rows x 31 columns]",
      "text/html": "<div>\n<style scoped>\n    .dataframe tbody tr th:only-of-type {\n        vertical-align: middle;\n    }\n\n    .dataframe tbody tr th {\n        vertical-align: top;\n    }\n\n    .dataframe thead th {\n        text-align: right;\n    }\n</style>\n<table border=\"1\" class=\"dataframe\">\n  <thead>\n    <tr style=\"text-align: right;\">\n      <th></th>\n      <th>CountryCode</th>\n      <th>ShortName</th>\n      <th>TableName</th>\n      <th>LongName</th>\n      <th>Alpha2Code</th>\n      <th>CurrencyUnit</th>\n      <th>SpecialNotes</th>\n      <th>Region</th>\n      <th>IncomeGroup</th>\n      <th>Wb2Code</th>\n      <th>...</th>\n      <th>GovernmentAccountingConcept</th>\n      <th>ImfDataDisseminationStandard</th>\n      <th>LatestPopulationCensus</th>\n      <th>LatestHouseholdSurvey</th>\n      <th>SourceOfMostRecentIncomeAndExpenditureData</th>\n      <th>VitalRegistrationComplete</th>\n      <th>LatestAgriculturalCensus</th>\n      <th>LatestIndustrialData</th>\n      <th>LatestTradeData</th>\n      <th>LatestWaterWithdrawalData</th>\n    </tr>\n  </thead>\n  <tbody>\n    <tr>\n      <th>0</th>\n      <td>AFG</td>\n      <td>Afghanistan</td>\n      <td>Afghanistan</td>\n      <td>Islamic State of Afghanistan</td>\n      <td>AF</td>\n      <td>Afghan afghani</td>\n      <td>Fiscal year end: March 20; reporting period fo...</td>\n      <td>South Asia</td>\n      <td>Low income</td>\n      <td>AF</td>\n      <td>...</td>\n      <td>Consolidated central government</td>\n      <td>General Data Dissemination System (GDDS)</td>\n      <td>1979</td>\n      <td>Multiple Indicator Cluster Survey (MICS), 2010/11</td>\n      <td>Integrated household survey (IHS), 2008</td>\n      <td>NaN</td>\n      <td>2013/14</td>\n      <td>NaN</td>\n      <td>2013.0</td>\n      <td>2000.0</td>\n    </tr>\n    <tr>\n      <th>1</th>\n      <td>ALB</td>\n      <td>Albania</td>\n      <td>Albania</td>\n      <td>Republic of Albania</td>\n      <td>AL</td>\n      <td>Albanian lek</td>\n      <td>NaN</td>\n      <td>Europe &amp; Central Asia</td>\n      <td>Upper middle income</td>\n      <td>AL</td>\n      <td>...</td>\n      <td>Budgetary central government</td>\n      <td>General Data Dissemination System (GDDS)</td>\n      <td>2011</td>\n      <td>Demographic and Health Survey (DHS), 2008/09</td>\n      <td>Living Standards Measurement Study Survey (LSM...</td>\n      <td>Yes</td>\n      <td>2012</td>\n      <td>2011.0</td>\n      <td>2013.0</td>\n      <td>2006.0</td>\n    </tr>\n    <tr>\n      <th>2</th>\n      <td>DZA</td>\n      <td>Algeria</td>\n      <td>Algeria</td>\n      <td>People's Democratic Republic of Algeria</td>\n      <td>DZ</td>\n      <td>Algerian dinar</td>\n      <td>NaN</td>\n      <td>Middle East &amp; North Africa</td>\n      <td>Upper middle income</td>\n      <td>DZ</td>\n      <td>...</td>\n      <td>Budgetary central government</td>\n      <td>General Data Dissemination System (GDDS)</td>\n      <td>2008</td>\n      <td>Multiple Indicator Cluster Survey (MICS), 2012</td>\n      <td>Integrated household survey (IHS), 1995</td>\n      <td>NaN</td>\n      <td>NaN</td>\n      <td>2010.0</td>\n      <td>2013.0</td>\n      <td>2001.0</td>\n    </tr>\n    <tr>\n      <th>3</th>\n      <td>ASM</td>\n      <td>American Samoa</td>\n      <td>American Samoa</td>\n      <td>American Samoa</td>\n      <td>AS</td>\n      <td>U.S. dollar</td>\n      <td>NaN</td>\n      <td>East Asia &amp; Pacific</td>\n      <td>Upper middle income</td>\n      <td>AS</td>\n      <td>...</td>\n      <td>NaN</td>\n      <td>NaN</td>\n      <td>2010</td>\n      <td>NaN</td>\n      <td>NaN</td>\n      <td>Yes</td>\n      <td>2007</td>\n      <td>NaN</td>\n      <td>NaN</td>\n      <td>NaN</td>\n    </tr>\n    <tr>\n      <th>4</th>\n      <td>ADO</td>\n      <td>Andorra</td>\n      <td>Andorra</td>\n      <td>Principality of Andorra</td>\n      <td>AD</td>\n      <td>Euro</td>\n      <td>NaN</td>\n      <td>Europe &amp; Central Asia</td>\n      <td>High income: nonOECD</td>\n      <td>AD</td>\n      <td>...</td>\n      <td>NaN</td>\n      <td>NaN</td>\n      <td>2011. Population data compiled from administra...</td>\n      <td>NaN</td>\n      <td>NaN</td>\n      <td>Yes</td>\n      <td>NaN</td>\n      <td>NaN</td>\n      <td>2006.0</td>\n      <td>NaN</td>\n    </tr>\n    <tr>\n      <th>...</th>\n      <td>...</td>\n      <td>...</td>\n      <td>...</td>\n      <td>...</td>\n      <td>...</td>\n      <td>...</td>\n      <td>...</td>\n      <td>...</td>\n      <td>...</td>\n      <td>...</td>\n      <td>...</td>\n      <td>...</td>\n      <td>...</td>\n      <td>...</td>\n      <td>...</td>\n      <td>...</td>\n      <td>...</td>\n      <td>...</td>\n      <td>...</td>\n      <td>...</td>\n      <td>...</td>\n    </tr>\n    <tr>\n      <th>242</th>\n      <td>WBG</td>\n      <td>West Bank and Gaza</td>\n      <td>West Bank and Gaza</td>\n      <td>West Bank and Gaza</td>\n      <td>PS</td>\n      <td>Israeli new shekel</td>\n      <td>The new base year is 2004.</td>\n      <td>Middle East &amp; North Africa</td>\n      <td>Lower middle income</td>\n      <td>GZ</td>\n      <td>...</td>\n      <td>Budgetary central government</td>\n      <td>Special Data Dissemination Standard (SDDS)</td>\n      <td>2007</td>\n      <td>Multiple Indicator Cluster Survey (MICS), 2014</td>\n      <td>Integrated household survey (IHS), 2011</td>\n      <td>NaN</td>\n      <td>NaN</td>\n      <td>2010.0</td>\n      <td>NaN</td>\n      <td>2005.0</td>\n    </tr>\n    <tr>\n      <th>243</th>\n      <td>WLD</td>\n      <td>World</td>\n      <td>World</td>\n      <td>World</td>\n      <td>1W</td>\n      <td>NaN</td>\n      <td>World aggregate.</td>\n      <td>NaN</td>\n      <td>NaN</td>\n      <td>1W</td>\n      <td>...</td>\n      <td>NaN</td>\n      <td>NaN</td>\n      <td>NaN</td>\n      <td>NaN</td>\n      <td>NaN</td>\n      <td>NaN</td>\n      <td>NaN</td>\n      <td>NaN</td>\n      <td>NaN</td>\n      <td>NaN</td>\n    </tr>\n    <tr>\n      <th>244</th>\n      <td>YEM</td>\n      <td>Yemen</td>\n      <td>Yemen, Rep.</td>\n      <td>Republic of Yemen</td>\n      <td>YE</td>\n      <td>Yemeni rial</td>\n      <td>Based on official government statistics and In...</td>\n      <td>Middle East &amp; North Africa</td>\n      <td>Lower middle income</td>\n      <td>RY</td>\n      <td>...</td>\n      <td>Budgetary central government</td>\n      <td>General Data Dissemination System (GDDS)</td>\n      <td>2004</td>\n      <td>Demographic and Health Survey (DHS), 2013</td>\n      <td>Expenditure survey/budget survey (ES/BS), 2005</td>\n      <td>NaN</td>\n      <td>NaN</td>\n      <td>2009.0</td>\n      <td>2013.0</td>\n      <td>2005.0</td>\n    </tr>\n    <tr>\n      <th>245</th>\n      <td>ZMB</td>\n      <td>Zambia</td>\n      <td>Zambia</td>\n      <td>Republic of Zambia</td>\n      <td>ZM</td>\n      <td>New Zambian kwacha</td>\n      <td>The new base year is 2010. National accounts d...</td>\n      <td>Sub-Saharan Africa</td>\n      <td>Lower middle income</td>\n      <td>ZM</td>\n      <td>...</td>\n      <td>Budgetary central government</td>\n      <td>General Data Dissemination System (GDDS)</td>\n      <td>2010</td>\n      <td>Demographic and Health Survey (DHS), 2013/14</td>\n      <td>Integrated household survey (IHS), 2010</td>\n      <td>NaN</td>\n      <td>2010. Population and Housing Census.</td>\n      <td>NaN</td>\n      <td>2013.0</td>\n      <td>2002.0</td>\n    </tr>\n    <tr>\n      <th>246</th>\n      <td>ZWE</td>\n      <td>Zimbabwe</td>\n      <td>Zimbabwe</td>\n      <td>Republic of Zimbabwe</td>\n      <td>ZW</td>\n      <td>U.S. dollar</td>\n      <td>Fiscal year end: June 30; reporting period for...</td>\n      <td>Sub-Saharan Africa</td>\n      <td>Low income</td>\n      <td>ZW</td>\n      <td>...</td>\n      <td>Consolidated central government</td>\n      <td>General Data Dissemination System (GDDS)</td>\n      <td>2012</td>\n      <td>Multiple Indicator Cluster Survey (MICS), 2014</td>\n      <td>Integrated household survey (IHS), 2011/12</td>\n      <td>NaN</td>\n      <td>NaN</td>\n      <td>NaN</td>\n      <td>2013.0</td>\n      <td>2002.0</td>\n    </tr>\n  </tbody>\n</table>\n<p>247 rows × 31 columns</p>\n</div>"
     },
     "execution_count": 184,
     "metadata": {},
     "output_type": "execute_result"
    }
   ],
   "source": [
    "df"
   ],
   "metadata": {
    "collapsed": false,
    "ExecuteTime": {
     "end_time": "2023-11-13T13:55:35.092838200Z",
     "start_time": "2023-11-13T13:55:34.982827100Z"
    }
   }
  },
  {
   "cell_type": "code",
   "execution_count": 185,
   "outputs": [
    {
     "data": {
      "text/plain": "    CountryCode           ShortName  LatestPopulationCensus\n0           AFG         Afghanistan                    1979\n1           ALB             Albania                    2011\n2           DZA             Algeria                    2008\n3           ASM      American Samoa                    2010\n5           AGO              Angola                    2014\n..          ...                 ...                     ...\n241         VIR      Virgin Islands                    2010\n242         WBG  West Bank and Gaza                    2007\n244         YEM               Yemen                    2004\n245         ZMB              Zambia                    2010\n246         ZWE            Zimbabwe                    2012\n\n[208 rows x 3 columns]",
      "text/html": "<div>\n<style scoped>\n    .dataframe tbody tr th:only-of-type {\n        vertical-align: middle;\n    }\n\n    .dataframe tbody tr th {\n        vertical-align: top;\n    }\n\n    .dataframe thead th {\n        text-align: right;\n    }\n</style>\n<table border=\"1\" class=\"dataframe\">\n  <thead>\n    <tr style=\"text-align: right;\">\n      <th></th>\n      <th>CountryCode</th>\n      <th>ShortName</th>\n      <th>LatestPopulationCensus</th>\n    </tr>\n  </thead>\n  <tbody>\n    <tr>\n      <th>0</th>\n      <td>AFG</td>\n      <td>Afghanistan</td>\n      <td>1979</td>\n    </tr>\n    <tr>\n      <th>1</th>\n      <td>ALB</td>\n      <td>Albania</td>\n      <td>2011</td>\n    </tr>\n    <tr>\n      <th>2</th>\n      <td>DZA</td>\n      <td>Algeria</td>\n      <td>2008</td>\n    </tr>\n    <tr>\n      <th>3</th>\n      <td>ASM</td>\n      <td>American Samoa</td>\n      <td>2010</td>\n    </tr>\n    <tr>\n      <th>5</th>\n      <td>AGO</td>\n      <td>Angola</td>\n      <td>2014</td>\n    </tr>\n    <tr>\n      <th>...</th>\n      <td>...</td>\n      <td>...</td>\n      <td>...</td>\n    </tr>\n    <tr>\n      <th>241</th>\n      <td>VIR</td>\n      <td>Virgin Islands</td>\n      <td>2010</td>\n    </tr>\n    <tr>\n      <th>242</th>\n      <td>WBG</td>\n      <td>West Bank and Gaza</td>\n      <td>2007</td>\n    </tr>\n    <tr>\n      <th>244</th>\n      <td>YEM</td>\n      <td>Yemen</td>\n      <td>2004</td>\n    </tr>\n    <tr>\n      <th>245</th>\n      <td>ZMB</td>\n      <td>Zambia</td>\n      <td>2010</td>\n    </tr>\n    <tr>\n      <th>246</th>\n      <td>ZWE</td>\n      <td>Zimbabwe</td>\n      <td>2012</td>\n    </tr>\n  </tbody>\n</table>\n<p>208 rows × 3 columns</p>\n</div>"
     },
     "execution_count": 185,
     "metadata": {},
     "output_type": "execute_result"
    }
   ],
   "source": [
    "pd.concat([subset, latest_census], axis=1, join='inner')"
   ],
   "metadata": {
    "collapsed": false,
    "ExecuteTime": {
     "end_time": "2023-11-13T13:56:39.327932800Z",
     "start_time": "2023-11-13T13:56:39.148932Z"
    }
   }
  },
  {
   "cell_type": "code",
   "execution_count": null,
   "outputs": [],
   "source": [],
   "metadata": {
    "collapsed": false
   }
  }
 ],
 "metadata": {
  "kernelspec": {
   "display_name": "Python 3",
   "language": "python",
   "name": "python3"
  },
  "language_info": {
   "codemirror_mode": {
    "name": "ipython",
    "version": 2
   },
   "file_extension": ".py",
   "mimetype": "text/x-python",
   "name": "python",
   "nbconvert_exporter": "python",
   "pygments_lexer": "ipython2",
   "version": "2.7.6"
  }
 },
 "nbformat": 4,
 "nbformat_minor": 0
}
