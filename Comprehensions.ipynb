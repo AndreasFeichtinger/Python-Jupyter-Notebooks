{
 "cells": [
  {
   "cell_type": "code",
   "execution_count": 5,
   "metadata": {
    "collapsed": true,
    "ExecuteTime": {
     "end_time": "2023-10-30T09:03:30.920230700Z",
     "start_time": "2023-10-30T09:03:30.909220500Z"
    }
   },
   "outputs": [],
   "source": [
    "widget_sales = [\n",
    "    {'name': 'widget 1', 'sales': 10},\n",
    "    {'name': 'widget 2', 'sales': 5},\n",
    "    {'name': 'widget 3', 'sales': 0}\n",
    "]"
   ]
  },
  {
   "cell_type": "code",
   "execution_count": 6,
   "outputs": [],
   "source": [],
   "metadata": {
    "collapsed": false,
    "ExecuteTime": {
     "end_time": "2023-10-30T09:03:31.327955500Z",
     "start_time": "2023-10-30T09:03:31.312741500Z"
    }
   }
  },
  {
   "cell_type": "code",
   "execution_count": 9,
   "outputs": [
    {
     "ename": "TypeError",
     "evalue": "'int' object does not support item assignment",
     "output_type": "error",
     "traceback": [
      "\u001B[1;31m---------------------------------------------------------------------------\u001B[0m",
      "\u001B[1;31mTypeError\u001B[0m                                 Traceback (most recent call last)",
      "\u001B[1;32m~\\AppData\\Local\\Temp\\ipykernel_69628\\2315103012.py\u001B[0m in \u001B[0;36m<module>\u001B[1;34m\u001B[0m\n\u001B[0;32m      3\u001B[0m     \u001B[0mwidget_name\u001B[0m \u001B[1;33m=\u001B[0m \u001B[0md\u001B[0m\u001B[1;33m[\u001B[0m\u001B[1;34m'name'\u001B[0m\u001B[1;33m]\u001B[0m\u001B[1;33m\u001B[0m\u001B[1;33m\u001B[0m\u001B[0m\n\u001B[0;32m      4\u001B[0m     \u001B[0msales\u001B[0m \u001B[1;33m=\u001B[0m \u001B[0md\u001B[0m\u001B[1;33m[\u001B[0m\u001B[1;34m'sales'\u001B[0m\u001B[1;33m]\u001B[0m\u001B[1;33m\u001B[0m\u001B[1;33m\u001B[0m\u001B[0m\n\u001B[1;32m----> 5\u001B[1;33m     \u001B[0msales_by_widget\u001B[0m \u001B[1;33m=\u001B[0m \u001B[0msales_by_widget\u001B[0m\u001B[1;33m[\u001B[0m\u001B[0mwidget_name\u001B[0m\u001B[1;33m]\u001B[0m \u001B[1;33m=\u001B[0m \u001B[0msales\u001B[0m\u001B[1;33m\u001B[0m\u001B[1;33m\u001B[0m\u001B[0m\n\u001B[0m\u001B[0;32m      6\u001B[0m \u001B[1;33m\u001B[0m\u001B[0m\n\u001B[0;32m      7\u001B[0m \u001B[0mprint\u001B[0m\u001B[1;33m(\u001B[0m\u001B[0msales_by_widget\u001B[0m\u001B[1;33m)\u001B[0m\u001B[1;33m\u001B[0m\u001B[1;33m\u001B[0m\u001B[0m\n",
      "\u001B[1;31mTypeError\u001B[0m: 'int' object does not support item assignment"
     ]
    }
   ],
   "source": [
    "sales_by_widget = {}\n",
    "for d in widget_sales:\n",
    "    widget_name = d['name']\n",
    "    sales = d['sales']\n",
    "    sales_by_widget = sales_by_widget[widget_name] = sales\n",
    "\n",
    "print(sales_by_widget)"
   ],
   "metadata": {
    "collapsed": false,
    "ExecuteTime": {
     "end_time": "2023-10-30T09:04:03.310686900Z",
     "start_time": "2023-10-30T09:04:03.300698400Z"
    }
   }
  },
  {
   "cell_type": "code",
   "execution_count": 10,
   "outputs": [
    {
     "name": "stdout",
     "output_type": "stream",
     "text": [
      "{'widget 1': 10, 'widget 2': 5, 'widget 3': 0}\n"
     ]
    }
   ],
   "source": [
    "sales_by_widget = {}  # empty dict\n",
    "for d in widget_sales:\n",
    "    sales_by_widget[d['name']] = d['sales']\n",
    "\n",
    "print(sales_by_widget)"
   ],
   "metadata": {
    "collapsed": false,
    "ExecuteTime": {
     "end_time": "2023-10-30T09:04:52.192535600Z",
     "start_time": "2023-10-30T09:04:52.163903200Z"
    }
   }
  },
  {
   "cell_type": "code",
   "execution_count": 13,
   "outputs": [],
   "source": [
    "sales_by_widget = {d['name']: d['sales'] for d in widget_sales}"
   ],
   "metadata": {
    "collapsed": false,
    "ExecuteTime": {
     "end_time": "2023-10-30T09:06:15.064674900Z",
     "start_time": "2023-10-30T09:06:15.048269500Z"
    }
   }
  },
  {
   "cell_type": "code",
   "execution_count": 14,
   "outputs": [
    {
     "data": {
      "text/plain": "{'widget 1': 10, 'widget 2': 5, 'widget 3': 0}"
     },
     "execution_count": 14,
     "metadata": {},
     "output_type": "execute_result"
    }
   ],
   "source": [
    "sales_by_widget"
   ],
   "metadata": {
    "collapsed": false,
    "ExecuteTime": {
     "end_time": "2023-10-30T09:06:20.316329200Z",
     "start_time": "2023-10-30T09:06:20.267372Z"
    }
   }
  },
  {
   "cell_type": "code",
   "execution_count": 18,
   "outputs": [
    {
     "name": "stdout",
     "output_type": "stream",
     "text": [
      "{'widget 1': 10, 'widget 2': 5}\n"
     ]
    }
   ],
   "source": [
    "sales_by_widget = {d['name']: d['sales'] for d in widget_sales if d['sales'] > 0}\n",
    "print(sales_by_widget)\n"
   ],
   "metadata": {
    "collapsed": false,
    "ExecuteTime": {
     "end_time": "2023-10-30T09:09:15.196441500Z",
     "start_time": "2023-10-30T09:09:15.189439400Z"
    }
   }
  },
  {
   "cell_type": "code",
   "execution_count": 19,
   "outputs": [],
   "source": [
    "paragraph = \"\"\"\n",
    "To be, or not to be--that is the question:\n",
    "Whether 'tis nobler in the mind to suffer\n",
    "The slings and arrows of outrageous fortune\n",
    "Or to take arms against a sea of troubles\n",
    "And by opposing end them. To die, to sleep--\n",
    "No more--and by a sleep to say we end\n",
    "The heartache, and the thousand natural shocks\n",
    "That flesh is heir to.\n",
    "\"\"\""
   ],
   "metadata": {
    "collapsed": false,
    "ExecuteTime": {
     "end_time": "2023-10-30T09:09:52.530872100Z",
     "start_time": "2023-10-30T09:09:52.515880600Z"
    }
   }
  },
  {
   "cell_type": "code",
   "execution_count": 23,
   "outputs": [],
   "source": [
    "punctuation = \",.!:-\\n\""
   ],
   "metadata": {
    "collapsed": false,
    "ExecuteTime": {
     "end_time": "2023-10-30T09:12:03.702463200Z",
     "start_time": "2023-10-30T09:12:03.693453200Z"
    }
   }
  },
  {
   "cell_type": "code",
   "execution_count": 27,
   "outputs": [],
   "source": [
    "for char in punctuation:\n",
    "    paragraph = paragraph.replace(char, ' ')"
   ],
   "metadata": {
    "collapsed": false,
    "ExecuteTime": {
     "end_time": "2023-10-30T09:13:18.938309700Z",
     "start_time": "2023-10-30T09:13:18.930297Z"
    }
   }
  },
  {
   "cell_type": "code",
   "execution_count": 28,
   "outputs": [
    {
     "data": {
      "text/plain": "\" To be  or not to be  that is the question  Whether 'tis nobler in the mind to suffer The slings and arrows of outrageous fortune Or to take arms against a sea of troubles And by opposing end them  To die  to sleep   No more  and by a sleep to say we end The heartache  and the thousand natural shocks That flesh is heir to  \""
     },
     "execution_count": 28,
     "metadata": {},
     "output_type": "execute_result"
    }
   ],
   "source": [
    "paragraph"
   ],
   "metadata": {
    "collapsed": false,
    "ExecuteTime": {
     "end_time": "2023-10-30T09:13:19.608417500Z",
     "start_time": "2023-10-30T09:13:19.593775100Z"
    }
   }
  },
  {
   "cell_type": "code",
   "execution_count": 29,
   "outputs": [
    {
     "data": {
      "text/plain": "['To',\n 'be',\n 'or',\n 'not',\n 'to',\n 'be',\n 'that',\n 'is',\n 'the',\n 'question',\n 'Whether',\n \"'tis\",\n 'nobler',\n 'in',\n 'the',\n 'mind',\n 'to',\n 'suffer',\n 'The',\n 'slings',\n 'and',\n 'arrows',\n 'of',\n 'outrageous',\n 'fortune',\n 'Or',\n 'to',\n 'take',\n 'arms',\n 'against',\n 'a',\n 'sea',\n 'of',\n 'troubles',\n 'And',\n 'by',\n 'opposing',\n 'end',\n 'them',\n 'To',\n 'die',\n 'to',\n 'sleep',\n 'No',\n 'more',\n 'and',\n 'by',\n 'a',\n 'sleep',\n 'to',\n 'say',\n 'we',\n 'end',\n 'The',\n 'heartache',\n 'and',\n 'the',\n 'thousand',\n 'natural',\n 'shocks',\n 'That',\n 'flesh',\n 'is',\n 'heir',\n 'to']"
     },
     "execution_count": 29,
     "metadata": {},
     "output_type": "execute_result"
    }
   ],
   "source": [
    "all_words = paragraph.split()\n",
    "all_words"
   ],
   "metadata": {
    "collapsed": false,
    "ExecuteTime": {
     "end_time": "2023-10-30T09:13:53.698799400Z",
     "start_time": "2023-10-30T09:13:53.691759Z"
    }
   }
  },
  {
   "cell_type": "code",
   "execution_count": 31,
   "outputs": [
    {
     "data": {
      "text/plain": "{'Whether',\n 'against',\n 'arrows',\n 'flesh',\n 'fortune',\n 'heartache',\n 'natural',\n 'nobler',\n 'opposing',\n 'outrageous',\n 'question',\n 'shocks',\n 'sleep',\n 'slings',\n 'suffer',\n 'thousand',\n 'troubles'}"
     },
     "execution_count": 31,
     "metadata": {},
     "output_type": "execute_result"
    }
   ],
   "source": [
    "words = {word for word in all_words if len(word) > 4}\n",
    "words"
   ],
   "metadata": {
    "collapsed": false,
    "ExecuteTime": {
     "end_time": "2023-10-30T09:15:17.763143500Z",
     "start_time": "2023-10-30T09:15:17.737423100Z"
    }
   }
  },
  {
   "cell_type": "code",
   "execution_count": 32,
   "outputs": [],
   "source": [
    "words = {word.lower() for word in all_words if len(word) > 4}"
   ],
   "metadata": {
    "collapsed": false,
    "ExecuteTime": {
     "end_time": "2023-10-30T09:16:08.386185100Z",
     "start_time": "2023-10-30T09:16:08.381133300Z"
    }
   }
  },
  {
   "cell_type": "code",
   "execution_count": 33,
   "outputs": [
    {
     "data": {
      "text/plain": "{'against',\n 'arrows',\n 'flesh',\n 'fortune',\n 'heartache',\n 'natural',\n 'nobler',\n 'opposing',\n 'outrageous',\n 'question',\n 'shocks',\n 'sleep',\n 'slings',\n 'suffer',\n 'thousand',\n 'troubles',\n 'whether'}"
     },
     "execution_count": 33,
     "metadata": {},
     "output_type": "execute_result"
    }
   ],
   "source": [
    "words"
   ],
   "metadata": {
    "collapsed": false,
    "ExecuteTime": {
     "end_time": "2023-10-30T09:16:10.886888500Z",
     "start_time": "2023-10-30T09:16:10.881230700Z"
    }
   }
  },
  {
   "cell_type": "code",
   "execution_count": 51,
   "outputs": [],
   "source": [
    "data = ['a', 'a', 'a', 'b', 'b', 'b', 'c', 'c', 'd']"
   ],
   "metadata": {
    "collapsed": false,
    "ExecuteTime": {
     "end_time": "2023-10-30T09:26:47.999648600Z",
     "start_time": "2023-10-30T09:26:47.972628500Z"
    }
   }
  },
  {
   "cell_type": "code",
   "execution_count": 52,
   "outputs": [],
   "source": [
    "freq = {}"
   ],
   "metadata": {
    "collapsed": false,
    "ExecuteTime": {
     "end_time": "2023-10-30T09:26:48.331530400Z",
     "start_time": "2023-10-30T09:26:48.316497100Z"
    }
   }
  },
  {
   "cell_type": "code",
   "execution_count": 53,
   "outputs": [
    {
     "name": "stdout",
     "output_type": "stream",
     "text": [
      "{'b': 3, 'a': 3, 'c': 2, 'd': 1}\n"
     ]
    }
   ],
   "source": [
    "for element in set(data):\n",
    "    count = len([char for char in data if char == element])\n",
    "    freq[element] = count\n",
    "\n",
    "print(freq)"
   ],
   "metadata": {
    "collapsed": false,
    "ExecuteTime": {
     "end_time": "2023-10-30T09:26:48.720095600Z",
     "start_time": "2023-10-30T09:26:48.703077300Z"
    }
   }
  },
  {
   "cell_type": "code",
   "execution_count": 54,
   "outputs": [],
   "source": [
    "freq = {\n",
    "    element: len([char for char in data if char == element])\n",
    "    for element in set(data)\n",
    "}"
   ],
   "metadata": {
    "collapsed": false,
    "ExecuteTime": {
     "end_time": "2023-10-30T09:28:43.016214600Z",
     "start_time": "2023-10-30T09:28:42.991985100Z"
    }
   }
  },
  {
   "cell_type": "code",
   "execution_count": 55,
   "outputs": [
    {
     "data": {
      "text/plain": "{'b': 3, 'a': 3, 'c': 2, 'd': 1}"
     },
     "execution_count": 55,
     "metadata": {},
     "output_type": "execute_result"
    }
   ],
   "source": [
    "freq"
   ],
   "metadata": {
    "collapsed": false,
    "ExecuteTime": {
     "end_time": "2023-10-30T09:28:45.171639100Z",
     "start_time": "2023-10-30T09:28:45.156632900Z"
    }
   }
  },
  {
   "cell_type": "code",
   "execution_count": 56,
   "outputs": [],
   "source": [
    "paragraph = \"\"\"\n",
    "Lorem ipsum dolor sit amet, consectetur adipiscing elit, sed do eiusmod tempor\n",
    "incididunt ut labore et dolore magna aliqua. Ut enim ad minim veniam, quis nostrud\n",
    "exercitation ullamco laboris nisi ut aliquip ex ea commodo consequat. Duis aute irure\n",
    "dolor in reprehenderit in voluptate velit esse cillum dolore eu fugiat nulla pariatur.\n",
    "Excepteur sint occaecat cupidatat non proident, sunt in culpa qui officia deserunt\n",
    "mollit anim id est laborum.\"\"\""
   ],
   "metadata": {
    "collapsed": false,
    "ExecuteTime": {
     "end_time": "2023-10-30T09:31:59.523825200Z",
     "start_time": "2023-10-30T09:31:59.516145500Z"
    }
   }
  },
  {
   "cell_type": "code",
   "execution_count": 57,
   "outputs": [],
   "source": [
    "from collections import Counter"
   ],
   "metadata": {
    "collapsed": false,
    "ExecuteTime": {
     "end_time": "2023-10-30T09:32:37.207027600Z",
     "start_time": "2023-10-30T09:32:37.181970400Z"
    }
   }
  },
  {
   "cell_type": "code",
   "execution_count": 58,
   "outputs": [],
   "source": [
    "freq = Counter(paragraph)"
   ],
   "metadata": {
    "collapsed": false,
    "ExecuteTime": {
     "end_time": "2023-10-30T09:32:48.491916400Z",
     "start_time": "2023-10-30T09:32:48.462651900Z"
    }
   }
  },
  {
   "cell_type": "code",
   "execution_count": 59,
   "outputs": [
    {
     "data": {
      "text/plain": "Counter({'\\n': 6,\n         'L': 1,\n         'o': 29,\n         'r': 22,\n         'e': 37,\n         'm': 17,\n         ' ': 67,\n         'i': 42,\n         'p': 11,\n         's': 18,\n         'u': 28,\n         'd': 18,\n         'l': 21,\n         't': 32,\n         'a': 29,\n         ',': 4,\n         'c': 16,\n         'n': 24,\n         'g': 3,\n         'b': 3,\n         'q': 5,\n         '.': 4,\n         'U': 1,\n         'v': 3,\n         'x': 3,\n         'D': 1,\n         'h': 1,\n         'f': 3,\n         'E': 1})"
     },
     "execution_count": 59,
     "metadata": {},
     "output_type": "execute_result"
    }
   ],
   "source": [
    "freq"
   ],
   "metadata": {
    "collapsed": false,
    "ExecuteTime": {
     "end_time": "2023-10-30T09:32:52.470723200Z",
     "start_time": "2023-10-30T09:32:52.455717100Z"
    }
   }
  },
  {
   "cell_type": "code",
   "execution_count": 60,
   "outputs": [],
   "source": [
    "ignored = ' ,.\\n'"
   ],
   "metadata": {
    "collapsed": false,
    "ExecuteTime": {
     "end_time": "2023-10-30T09:33:42.422657800Z",
     "start_time": "2023-10-30T09:33:42.391436600Z"
    }
   }
  },
  {
   "cell_type": "code",
   "execution_count": 61,
   "outputs": [
    {
     "data": {
      "text/plain": "Counter({'\\n': 6,\n         'l': 22,\n         'o': 29,\n         'r': 22,\n         'e': 38,\n         'm': 17,\n         ' ': 67,\n         'i': 42,\n         'p': 11,\n         's': 18,\n         'u': 29,\n         'd': 19,\n         't': 32,\n         'a': 29,\n         ',': 4,\n         'c': 16,\n         'n': 24,\n         'g': 3,\n         'b': 3,\n         'q': 5,\n         '.': 4,\n         'v': 3,\n         'x': 3,\n         'h': 1,\n         'f': 3})"
     },
     "execution_count": 61,
     "metadata": {},
     "output_type": "execute_result"
    }
   ],
   "source": [
    "freq = Counter(paragraph.casefold())\n",
    "freq"
   ],
   "metadata": {
    "collapsed": false,
    "ExecuteTime": {
     "end_time": "2023-10-30T09:34:15.319996500Z",
     "start_time": "2023-10-30T09:34:15.297990600Z"
    }
   }
  },
  {
   "cell_type": "code",
   "execution_count": 63,
   "outputs": [],
   "source": [
    "freq = {key: value for key, value in freq.items() if key not in ignored}"
   ],
   "metadata": {
    "collapsed": false,
    "ExecuteTime": {
     "end_time": "2023-10-30T09:37:07.892199700Z",
     "start_time": "2023-10-30T09:37:07.881196200Z"
    }
   }
  },
  {
   "cell_type": "code",
   "execution_count": 64,
   "outputs": [
    {
     "data": {
      "text/plain": "{'l': 22,\n 'o': 29,\n 'r': 22,\n 'e': 38,\n 'm': 17,\n 'i': 42,\n 'p': 11,\n 's': 18,\n 'u': 29,\n 'd': 19,\n 't': 32,\n 'a': 29,\n 'c': 16,\n 'n': 24,\n 'g': 3,\n 'b': 3,\n 'q': 5,\n 'v': 3,\n 'x': 3,\n 'h': 1,\n 'f': 3}"
     },
     "execution_count": 64,
     "metadata": {},
     "output_type": "execute_result"
    }
   ],
   "source": [
    "freq"
   ],
   "metadata": {
    "collapsed": false,
    "ExecuteTime": {
     "end_time": "2023-10-30T09:37:10.317920200Z",
     "start_time": "2023-10-30T09:37:10.301736800Z"
    }
   }
  },
  {
   "cell_type": "code",
   "execution_count": 65,
   "outputs": [
    {
     "name": "stdout",
     "output_type": "stream",
     "text": [
      "{'l': 22, 'o': 29, 'r': 22, 'e': 38, 'm': 17, 'i': 42, 'p': 11, 's': 18, 'u': 29, 'd': 19, 't': 32, 'a': 29, 'c': 16, 'n': 24, 'g': 3, 'b': 3, 'q': 5, 'v': 3, 'x': 3, 'h': 1, 'f': 3}\n"
     ]
    }
   ],
   "source": [
    "freq = {key: value\n",
    "        for key, value in dict(Counter(paragraph.casefold())).items()\n",
    "        if key not in ignored\n",
    "        }\n",
    "print(freq)\n"
   ],
   "metadata": {
    "collapsed": false,
    "ExecuteTime": {
     "end_time": "2023-10-30T09:39:14.312386800Z",
     "start_time": "2023-10-30T09:39:14.293326Z"
    }
   }
  },
  {
   "cell_type": "code",
   "execution_count": 66,
   "outputs": [],
   "source": [
    "freq = {key: value\n",
    "        for key, value in Counter(paragraph.casefold()).items()\n",
    "        if key not in ignored}\n"
   ],
   "metadata": {
    "collapsed": false,
    "ExecuteTime": {
     "end_time": "2023-10-30T09:40:55.617698200Z",
     "start_time": "2023-10-30T09:40:55.569929500Z"
    }
   }
  },
  {
   "cell_type": "code",
   "execution_count": 67,
   "outputs": [
    {
     "data": {
      "text/plain": "{'l': 22,\n 'o': 29,\n 'r': 22,\n 'e': 38,\n 'm': 17,\n 'i': 42,\n 'p': 11,\n 's': 18,\n 'u': 29,\n 'd': 19,\n 't': 32,\n 'a': 29,\n 'c': 16,\n 'n': 24,\n 'g': 3,\n 'b': 3,\n 'q': 5,\n 'v': 3,\n 'x': 3,\n 'h': 1,\n 'f': 3}"
     },
     "execution_count": 67,
     "metadata": {},
     "output_type": "execute_result"
    }
   ],
   "source": [
    "freq"
   ],
   "metadata": {
    "collapsed": false,
    "ExecuteTime": {
     "end_time": "2023-10-30T09:40:58.874640400Z",
     "start_time": "2023-10-30T09:40:58.855621400Z"
    }
   }
  },
  {
   "cell_type": "code",
   "execution_count": 68,
   "outputs": [],
   "source": [
    "data = [\n",
    "    {'open': 100, 'high': 120, 'low': 90, 'close': 110},\n",
    "    {'open': 110, 'high': 130, 'low': 80, 'close': 120},\n",
    "    {'open': 120, 'high': 140, 'low': 70, 'close': 130},\n",
    "    {'open': 130, 'high': 150, 'low': 60, 'close': 140},\n",
    "]"
   ],
   "metadata": {
    "collapsed": false,
    "ExecuteTime": {
     "end_time": "2023-10-30T09:41:50.281125500Z",
     "start_time": "2023-10-30T09:41:50.245627500Z"
    }
   }
  },
  {
   "cell_type": "code",
   "execution_count": 70,
   "outputs": [],
   "source": [
    "ranges = []\n",
    "for d in data:\n",
    "    ranges.append(d['high'] - d['low'])"
   ],
   "metadata": {
    "collapsed": false,
    "ExecuteTime": {
     "end_time": "2023-10-30T09:42:54.452007Z",
     "start_time": "2023-10-30T09:42:54.429403500Z"
    }
   }
  },
  {
   "cell_type": "code",
   "execution_count": 71,
   "outputs": [
    {
     "data": {
      "text/plain": "[30, 50, 70, 90]"
     },
     "execution_count": 71,
     "metadata": {},
     "output_type": "execute_result"
    }
   ],
   "source": [
    "ranges"
   ],
   "metadata": {
    "collapsed": false,
    "ExecuteTime": {
     "end_time": "2023-10-30T09:42:57.220874700Z",
     "start_time": "2023-10-30T09:42:57.203822900Z"
    }
   }
  },
  {
   "cell_type": "code",
   "execution_count": 72,
   "outputs": [],
   "source": [
    "ranges1 = [d['high'] - d['low'] for d in data]"
   ],
   "metadata": {
    "collapsed": false,
    "ExecuteTime": {
     "end_time": "2023-10-30T09:44:41.477697100Z",
     "start_time": "2023-10-30T09:44:41.452470700Z"
    }
   }
  },
  {
   "cell_type": "code",
   "execution_count": 73,
   "outputs": [
    {
     "data": {
      "text/plain": "[30, 50, 70, 90]"
     },
     "execution_count": 73,
     "metadata": {},
     "output_type": "execute_result"
    }
   ],
   "source": [
    "ranges1"
   ],
   "metadata": {
    "collapsed": false,
    "ExecuteTime": {
     "end_time": "2023-10-30T09:44:45.994671Z",
     "start_time": "2023-10-30T09:44:45.978688300Z"
    }
   }
  },
  {
   "cell_type": "code",
   "execution_count": 89,
   "outputs": [
    {
     "ename": "TypeError",
     "evalue": "unsupported operand type(s) for -: 'set' and 'list'",
     "output_type": "error",
     "traceback": [
      "\u001B[1;31m---------------------------------------------------------------------------\u001B[0m",
      "\u001B[1;31mTypeError\u001B[0m                                 Traceback (most recent call last)",
      "\u001B[1;32m~\\AppData\\Local\\Temp\\ipykernel_69628\\2747407047.py\u001B[0m in \u001B[0;36m<module>\u001B[1;34m\u001B[0m\n\u001B[0;32m      1\u001B[0m \u001B[0mresult\u001B[0m \u001B[1;33m=\u001B[0m \u001B[1;33m[\u001B[0m\u001B[0mnum\u001B[0m \u001B[1;32mfor\u001B[0m \u001B[0mnum\u001B[0m \u001B[1;32min\u001B[0m \u001B[0mrange\u001B[0m\u001B[1;33m(\u001B[0m\u001B[1;36m1\u001B[0m\u001B[1;33m,\u001B[0m\u001B[1;36m101\u001B[0m\u001B[1;33m)\u001B[0m \u001B[1;32mfor\u001B[0m \u001B[0mn\u001B[0m \u001B[1;32min\u001B[0m \u001B[0mrange\u001B[0m\u001B[1;33m(\u001B[0m\u001B[1;36m2\u001B[0m\u001B[1;33m,\u001B[0m\u001B[1;36m10\u001B[0m\u001B[1;33m)\u001B[0m \u001B[1;32mif\u001B[0m \u001B[0mnum\u001B[0m \u001B[1;33m%\u001B[0m \u001B[0mn\u001B[0m \u001B[1;33m!=\u001B[0m\u001B[1;36m0\u001B[0m\u001B[1;33m]\u001B[0m\u001B[1;33m\u001B[0m\u001B[1;33m\u001B[0m\u001B[0m\n\u001B[1;32m----> 2\u001B[1;33m \u001B[0mresult\u001B[0m \u001B[1;33m=\u001B[0m \u001B[0mset\u001B[0m\u001B[1;33m(\u001B[0m\u001B[0mrange\u001B[0m\u001B[1;33m(\u001B[0m\u001B[1;36m1\u001B[0m\u001B[1;33m,\u001B[0m\u001B[1;36m101\u001B[0m\u001B[1;33m)\u001B[0m\u001B[1;33m)\u001B[0m \u001B[1;33m-\u001B[0m \u001B[0mresult\u001B[0m\u001B[1;33m\u001B[0m\u001B[1;33m\u001B[0m\u001B[0m\n\u001B[0m",
      "\u001B[1;31mTypeError\u001B[0m: unsupported operand type(s) for -: 'set' and 'list'"
     ]
    }
   ],
   "source": [
    "result = [num for num in range(1, 101) for n in range(2, 10) if num % n != 0]\n",
    "result = set(range(1, 101)) - result"
   ],
   "metadata": {
    "collapsed": false,
    "ExecuteTime": {
     "end_time": "2023-10-30T10:06:07.570647900Z",
     "start_time": "2023-10-30T10:06:07.520427Z"
    }
   }
  },
  {
   "cell_type": "code",
   "execution_count": 90,
   "outputs": [
    {
     "data": {
      "text/plain": "[1,\n 1,\n 1,\n 1,\n 1,\n 1,\n 1,\n 1,\n 2,\n 2,\n 2,\n 2,\n 2,\n 2,\n 2,\n 3,\n 3,\n 3,\n 3,\n 3,\n 3,\n 3,\n 4,\n 4,\n 4,\n 4,\n 4,\n 4,\n 5,\n 5,\n 5,\n 5,\n 5,\n 5,\n 5,\n 6,\n 6,\n 6,\n 6,\n 6,\n 7,\n 7,\n 7,\n 7,\n 7,\n 7,\n 7,\n 8,\n 8,\n 8,\n 8,\n 8,\n 9,\n 9,\n 9,\n 9,\n 9,\n 9,\n 10,\n 10,\n 10,\n 10,\n 10,\n 10,\n 11,\n 11,\n 11,\n 11,\n 11,\n 11,\n 11,\n 11,\n 12,\n 12,\n 12,\n 12,\n 13,\n 13,\n 13,\n 13,\n 13,\n 13,\n 13,\n 13,\n 14,\n 14,\n 14,\n 14,\n 14,\n 14,\n 15,\n 15,\n 15,\n 15,\n 15,\n 15,\n 16,\n 16,\n 16,\n 16,\n 16,\n 17,\n 17,\n 17,\n 17,\n 17,\n 17,\n 17,\n 17,\n 18,\n 18,\n 18,\n 18,\n 19,\n 19,\n 19,\n 19,\n 19,\n 19,\n 19,\n 19,\n 20,\n 20,\n 20,\n 20,\n 20,\n 21,\n 21,\n 21,\n 21,\n 21,\n 21,\n 22,\n 22,\n 22,\n 22,\n 22,\n 22,\n 22,\n 23,\n 23,\n 23,\n 23,\n 23,\n 23,\n 23,\n 23,\n 24,\n 24,\n 24,\n 25,\n 25,\n 25,\n 25,\n 25,\n 25,\n 25,\n 26,\n 26,\n 26,\n 26,\n 26,\n 26,\n 26,\n 27,\n 27,\n 27,\n 27,\n 27,\n 27,\n 28,\n 28,\n 28,\n 28,\n 28,\n 29,\n 29,\n 29,\n 29,\n 29,\n 29,\n 29,\n 29,\n 30,\n 30,\n 30,\n 30,\n 31,\n 31,\n 31,\n 31,\n 31,\n 31,\n 31,\n 31,\n 32,\n 32,\n 32,\n 32,\n 32,\n 33,\n 33,\n 33,\n 33,\n 33,\n 33,\n 33,\n 34,\n 34,\n 34,\n 34,\n 34,\n 34,\n 34,\n 35,\n 35,\n 35,\n 35,\n 35,\n 35,\n 36,\n 36,\n 36,\n 37,\n 37,\n 37,\n 37,\n 37,\n 37,\n 37,\n 37,\n 38,\n 38,\n 38,\n 38,\n 38,\n 38,\n 38,\n 39,\n 39,\n 39,\n 39,\n 39,\n 39,\n 39,\n 40,\n 40,\n 40,\n 40,\n 41,\n 41,\n 41,\n 41,\n 41,\n 41,\n 41,\n 41,\n 42,\n 42,\n 42,\n 42,\n 43,\n 43,\n 43,\n 43,\n 43,\n 43,\n 43,\n 43,\n 44,\n 44,\n 44,\n 44,\n 44,\n 44,\n 45,\n 45,\n 45,\n 45,\n 45,\n 46,\n 46,\n 46,\n 46,\n 46,\n 46,\n 46,\n 47,\n 47,\n 47,\n 47,\n 47,\n 47,\n 47,\n 47,\n 48,\n 48,\n 48,\n 49,\n 49,\n 49,\n 49,\n 49,\n 49,\n 49,\n 50,\n 50,\n 50,\n 50,\n 50,\n 50,\n 51,\n 51,\n 51,\n 51,\n 51,\n 51,\n 51,\n 52,\n 52,\n 52,\n 52,\n 52,\n 52,\n 53,\n 53,\n 53,\n 53,\n 53,\n 53,\n 53,\n 53,\n 54,\n 54,\n 54,\n 54,\n 55,\n 55,\n 55,\n 55,\n 55,\n 55,\n 55,\n 56,\n 56,\n 56,\n 56,\n 57,\n 57,\n 57,\n 57,\n 57,\n 57,\n 57,\n 58,\n 58,\n 58,\n 58,\n 58,\n 58,\n 58,\n 59,\n 59,\n 59,\n 59,\n 59,\n 59,\n 59,\n 59,\n 60,\n 60,\n 60,\n 61,\n 61,\n 61,\n 61,\n 61,\n 61,\n 61,\n 61,\n 62,\n 62,\n 62,\n 62,\n 62,\n 62,\n 62,\n 63,\n 63,\n 63,\n 63,\n 63,\n 64,\n 64,\n 64,\n 64,\n 64,\n 65,\n 65,\n 65,\n 65,\n 65,\n 65,\n 65,\n 66,\n 66,\n 66,\n 66,\n 66,\n 67,\n 67,\n 67,\n 67,\n 67,\n 67,\n 67,\n 67,\n 68,\n 68,\n 68,\n 68,\n 68,\n 68,\n 69,\n 69,\n 69,\n 69,\n 69,\n 69,\n 69,\n 70,\n 70,\n 70,\n 70,\n 70,\n 71,\n 71,\n 71,\n 71,\n 71,\n 71,\n 71,\n 71,\n 72,\n 72,\n 73,\n 73,\n 73,\n 73,\n 73,\n 73,\n 73,\n 73,\n 74,\n 74,\n 74,\n 74,\n 74,\n 74,\n 74,\n 75,\n 75,\n 75,\n 75,\n 75,\n 75,\n 76,\n 76,\n 76,\n 76,\n 76,\n 76,\n 77,\n 77,\n 77,\n 77,\n 77,\n 77,\n 77,\n 78,\n 78,\n 78,\n 78,\n 78,\n 79,\n 79,\n 79,\n 79,\n 79,\n 79,\n 79,\n 79,\n 80,\n 80,\n 80,\n 80,\n 81,\n 81,\n 81,\n 81,\n 81,\n 81,\n 82,\n 82,\n 82,\n 82,\n 82,\n 82,\n 82,\n 83,\n 83,\n 83,\n 83,\n 83,\n 83,\n 83,\n 83,\n 84,\n 84,\n 84,\n 85,\n 85,\n 85,\n 85,\n 85,\n 85,\n 85,\n 86,\n 86,\n 86,\n 86,\n 86,\n 86,\n 86,\n 87,\n 87,\n 87,\n 87,\n 87,\n 87,\n 87,\n 88,\n 88,\n 88,\n 88,\n 88,\n 89,\n 89,\n 89,\n 89,\n 89,\n 89,\n 89,\n 89,\n 90,\n 90,\n 90,\n 91,\n 91,\n 91,\n 91,\n 91,\n 91,\n 91,\n 92,\n 92,\n 92,\n 92,\n 92,\n 92,\n 93,\n 93,\n 93,\n 93,\n 93,\n 93,\n 93,\n 94,\n 94,\n 94,\n 94,\n 94,\n 94,\n 94,\n 95,\n 95,\n 95,\n 95,\n 95,\n 95,\n 95,\n 96,\n 96,\n 96,\n 97,\n 97,\n 97,\n 97,\n 97,\n 97,\n 97,\n 97,\n 98,\n 98,\n 98,\n 98,\n 98,\n 98,\n 99,\n 99,\n 99,\n 99,\n 99,\n 99,\n 100,\n 100,\n 100,\n 100,\n 100]"
     },
     "execution_count": 90,
     "metadata": {},
     "output_type": "execute_result"
    }
   ],
   "source": [
    "result"
   ],
   "metadata": {
    "collapsed": false,
    "ExecuteTime": {
     "end_time": "2023-10-30T10:06:08.211515700Z",
     "start_time": "2023-10-30T10:06:08.189487300Z"
    }
   }
  },
  {
   "cell_type": "code",
   "execution_count": 80,
   "outputs": [],
   "source": [
    "data = [\n",
    "    {'symbol': 'ABCD', 'name': 'ABCD Company', 'ranking': 2, 'risk': 0.2},\n",
    "    {'symbol': 'BCDE', 'name': 'BCDE Company', 'ranking': 5, 'risk': 0.2},\n",
    "    {'symbol': 'CDEF', 'name': 'CDEF Company', 'ranking': 8, 'risk': 0.5},\n",
    "    {'symbol': 'DEFG', 'name': 'DEFG Company', 'ranking': 7, 'risk': 0.8},\n",
    "    {'symbol': 'EFGH', 'name': 'EFGH Company', 'ranking': 9, 'risk': 0.6},\n",
    "    {'symbol': 'FGHI', 'name': 'FGHI Company', 'ranking': 10, 'risk': 0.1},\n",
    "    {'symbol': 'GHIJ', 'name': 'GHIJ Company', 'ranking': 3, 'risk': 0.6},\n",
    "    {'symbol': 'HIJK', 'name': 'HIJK Company', 'ranking': 5, 'risk': 0.5},\n",
    "    {'symbol': 'IJKL', 'name': 'IJKL Company', 'ranking': 5, 'risk': 0.7},\n",
    "    {'symbol': 'JKLM', 'name': 'JKLM Company', 'ranking': 6, 'risk': 0.9},\n",
    "    {'symbol': 'KLMN', 'name': 'KLMN Company', 'ranking': 6, 'risk': 0.4},\n",
    "    {'symbol': 'LMNO', 'name': 'LMNO Company', 'ranking': 8, 'risk': 0.4},\n",
    "    {'symbol': 'MNOP', 'name': 'MNOP Company', 'ranking': 8, 'risk': 0.2},\n",
    "    {'symbol': 'NOPQ', 'name': 'NOPQ Company', 'ranking': 1, 'risk': 0.5},\n",
    "    {'symbol': 'OPQR', 'name': 'OPQR Company', 'ranking': 9, 'risk': 0.2},\n",
    "    {'symbol': 'PQRS', 'name': 'PQRS Company', 'ranking': 10, 'risk': 0.9},\n",
    "    {'symbol': 'QRST', 'name': 'QRST Company', 'ranking': 3, 'risk': 0.4},\n",
    "    {'symbol': 'RSTU', 'name': 'RSTU Company', 'ranking': 7, 'risk': 0.3},\n",
    "    {'symbol': 'STUV', 'name': 'STUV Company', 'ranking': 8, 'risk': 0.1},\n",
    "    {'symbol': 'TUVW', 'name': 'TUVW Company', 'ranking': 7, 'risk': 0.9}\n",
    "]"
   ],
   "metadata": {
    "collapsed": false,
    "ExecuteTime": {
     "end_time": "2023-10-30T09:51:53.615884500Z",
     "start_time": "2023-10-30T09:51:53.601181400Z"
    }
   }
  },
  {
   "cell_type": "code",
   "execution_count": 94,
   "outputs": [],
   "source": [
    "new_list = [d for d in data if d['ranking'] >= 6 and d['risk'] < 0.6]"
   ],
   "metadata": {
    "collapsed": false,
    "ExecuteTime": {
     "end_time": "2023-10-30T10:09:22.857842200Z",
     "start_time": "2023-10-30T10:09:22.852842700Z"
    }
   }
  },
  {
   "cell_type": "code",
   "execution_count": 95,
   "outputs": [
    {
     "data": {
      "text/plain": "[{'symbol': 'CDEF', 'name': 'CDEF Company', 'ranking': 8, 'risk': 0.5},\n {'symbol': 'FGHI', 'name': 'FGHI Company', 'ranking': 10, 'risk': 0.1},\n {'symbol': 'KLMN', 'name': 'KLMN Company', 'ranking': 6, 'risk': 0.4},\n {'symbol': 'LMNO', 'name': 'LMNO Company', 'ranking': 8, 'risk': 0.4},\n {'symbol': 'MNOP', 'name': 'MNOP Company', 'ranking': 8, 'risk': 0.2},\n {'symbol': 'OPQR', 'name': 'OPQR Company', 'ranking': 9, 'risk': 0.2},\n {'symbol': 'RSTU', 'name': 'RSTU Company', 'ranking': 7, 'risk': 0.3},\n {'symbol': 'STUV', 'name': 'STUV Company', 'ranking': 8, 'risk': 0.1}]"
     },
     "execution_count": 95,
     "metadata": {},
     "output_type": "execute_result"
    }
   ],
   "source": [
    "new_list"
   ],
   "metadata": {
    "collapsed": false,
    "ExecuteTime": {
     "end_time": "2023-10-30T10:09:23.309304900Z",
     "start_time": "2023-10-30T10:09:23.278303700Z"
    }
   }
  },
  {
   "cell_type": "code",
   "execution_count": 96,
   "outputs": [],
   "source": [
    "result = [\n",
    "    {\n",
    "        'symbol': d['symbol'],\n",
    "        'weighted': round(d['ranking'] / d['risk'], 2)\n",
    "    }\n",
    "    for d in data\n",
    "    if d['ranking'] >= 5 and d['risk'] < 0.6\n",
    "]"
   ],
   "metadata": {
    "collapsed": false,
    "ExecuteTime": {
     "end_time": "2023-10-30T10:13:34.968030700Z",
     "start_time": "2023-10-30T10:13:34.943984500Z"
    }
   }
  },
  {
   "cell_type": "code",
   "execution_count": 97,
   "outputs": [
    {
     "data": {
      "text/plain": "[{'symbol': 'BCDE', 'weighted': 25.0},\n {'symbol': 'CDEF', 'weighted': 16.0},\n {'symbol': 'FGHI', 'weighted': 100.0},\n {'symbol': 'HIJK', 'weighted': 10.0},\n {'symbol': 'KLMN', 'weighted': 15.0},\n {'symbol': 'LMNO', 'weighted': 20.0},\n {'symbol': 'MNOP', 'weighted': 40.0},\n {'symbol': 'OPQR', 'weighted': 45.0},\n {'symbol': 'RSTU', 'weighted': 23.33},\n {'symbol': 'STUV', 'weighted': 80.0}]"
     },
     "execution_count": 97,
     "metadata": {},
     "output_type": "execute_result"
    }
   ],
   "source": [
    "result"
   ],
   "metadata": {
    "collapsed": false,
    "ExecuteTime": {
     "end_time": "2023-10-30T10:13:38.537248300Z",
     "start_time": "2023-10-30T10:13:38.511342900Z"
    }
   }
  },
  {
   "cell_type": "code",
   "execution_count": 105,
   "outputs": [
    {
     "name": "stdout",
     "output_type": "stream",
     "text": [
      "[0.0, 1.0, 1.0, 1.4142135623730951]\n"
     ]
    }
   ],
   "source": [
    "from math import sqrt\n",
    "\n",
    "vectors = [(0, 0), (0, 1), (1, 0), (1, 1)]\n",
    "magnitudes = []\n",
    "for vector in vectors:\n",
    "    magnitude = sqrt(vector[0] ** 2 + vector[1] ** 2)\n",
    "    magnitudes.append(magnitude)\n",
    "print(magnitudes)"
   ],
   "metadata": {
    "collapsed": false,
    "ExecuteTime": {
     "end_time": "2023-10-30T10:26:50.470100300Z",
     "start_time": "2023-10-30T10:26:50.452099500Z"
    }
   }
  },
  {
   "cell_type": "code",
   "execution_count": 106,
   "outputs": [
    {
     "name": "stdout",
     "output_type": "stream",
     "text": [
      "[0.0, 1.0, 1.0, 1.4142135623730951]\n"
     ]
    }
   ],
   "source": [
    "from math import sqrt\n",
    "\n",
    "vectors = [(0, 0), (0, 1), (1, 0), (1, 1)]\n",
    "magnitudes = [sqrt(vector[0] ** 2 + vector[1] ** 2) for vector in vectors]\n",
    "print(magnitudes)\n",
    "\n"
   ],
   "metadata": {
    "collapsed": false,
    "ExecuteTime": {
     "end_time": "2023-10-30T10:28:46.762252200Z",
     "start_time": "2023-10-30T10:28:46.738152700Z"
    }
   }
  },
  {
   "cell_type": "code",
   "execution_count": 107,
   "outputs": [],
   "source": [
    "strings = 'Python is an awesome language!'.split(' ')"
   ],
   "metadata": {
    "collapsed": false,
    "ExecuteTime": {
     "end_time": "2023-10-30T10:29:57.822060900Z",
     "start_time": "2023-10-30T10:29:57.798628200Z"
    }
   }
  },
  {
   "cell_type": "code",
   "execution_count": 108,
   "outputs": [
    {
     "data": {
      "text/plain": "['Python', 'is', 'an', 'awesome', 'language!']"
     },
     "execution_count": 108,
     "metadata": {},
     "output_type": "execute_result"
    }
   ],
   "source": [
    "strings"
   ],
   "metadata": {
    "collapsed": false,
    "ExecuteTime": {
     "end_time": "2023-10-30T10:30:00.807358300Z",
     "start_time": "2023-10-30T10:30:00.785352100Z"
    }
   }
  },
  {
   "cell_type": "code",
   "execution_count": 109,
   "outputs": [],
   "source": [
    "result = [word for word in strings if len(word) >= 5]"
   ],
   "metadata": {
    "collapsed": false,
    "ExecuteTime": {
     "end_time": "2023-10-30T10:31:47.975628200Z",
     "start_time": "2023-10-30T10:31:47.952598800Z"
    }
   }
  },
  {
   "cell_type": "code",
   "execution_count": 110,
   "outputs": [
    {
     "data": {
      "text/plain": "['Python', 'awesome', 'language!']"
     },
     "execution_count": 110,
     "metadata": {},
     "output_type": "execute_result"
    }
   ],
   "source": [
    "result"
   ],
   "metadata": {
    "collapsed": false,
    "ExecuteTime": {
     "end_time": "2023-10-30T10:31:50.518214800Z",
     "start_time": "2023-10-30T10:31:50.480532700Z"
    }
   }
  },
  {
   "cell_type": "code",
   "execution_count": 111,
   "outputs": [],
   "source": [
    "sales = {\n",
    "    'widget 1': 0,\n",
    "    'widget 2': 5,\n",
    "    'widget 3': 10,\n",
    "    'widget 4': 2\n",
    "}"
   ],
   "metadata": {
    "collapsed": false,
    "ExecuteTime": {
     "end_time": "2023-10-30T10:32:24.555138600Z",
     "start_time": "2023-10-30T10:32:24.516058600Z"
    }
   }
  },
  {
   "cell_type": "code",
   "execution_count": 112,
   "outputs": [
    {
     "data": {
      "text/plain": "['widget 2', 'widget 3']"
     },
     "execution_count": 112,
     "metadata": {},
     "output_type": "execute_result"
    }
   ],
   "source": [
    "result = [key for key, value in sales.items() if value >= 5]\n",
    "result"
   ],
   "metadata": {
    "collapsed": false,
    "ExecuteTime": {
     "end_time": "2023-10-30T10:35:30.377513200Z",
     "start_time": "2023-10-30T10:35:30.355480300Z"
    }
   }
  },
  {
   "cell_type": "code",
   "execution_count": 113,
   "outputs": [],
   "source": [
    "m = [[0] * 3] * 3"
   ],
   "metadata": {
    "collapsed": false,
    "ExecuteTime": {
     "end_time": "2023-10-30T10:36:37.767773100Z",
     "start_time": "2023-10-30T10:36:37.744771700Z"
    }
   }
  },
  {
   "cell_type": "code",
   "execution_count": 114,
   "outputs": [
    {
     "data": {
      "text/plain": "[[0, 0, 0], [0, 0, 0], [0, 0, 0]]"
     },
     "execution_count": 114,
     "metadata": {},
     "output_type": "execute_result"
    }
   ],
   "source": [
    "m"
   ],
   "metadata": {
    "collapsed": false,
    "ExecuteTime": {
     "end_time": "2023-10-30T10:36:39.119744500Z",
     "start_time": "2023-10-30T10:36:39.082122700Z"
    }
   }
  },
  {
   "cell_type": "code",
   "execution_count": 115,
   "outputs": [],
   "source": [
    "m[0][0] = 1"
   ],
   "metadata": {
    "collapsed": false,
    "ExecuteTime": {
     "end_time": "2023-10-30T10:37:06.998790500Z",
     "start_time": "2023-10-30T10:37:06.974784300Z"
    }
   }
  },
  {
   "cell_type": "code",
   "execution_count": 116,
   "outputs": [
    {
     "data": {
      "text/plain": "[[1, 0, 0], [1, 0, 0], [1, 0, 0]]"
     },
     "execution_count": 116,
     "metadata": {},
     "output_type": "execute_result"
    }
   ],
   "source": [
    "m"
   ],
   "metadata": {
    "collapsed": false,
    "ExecuteTime": {
     "end_time": "2023-10-30T10:37:10.291148200Z",
     "start_time": "2023-10-30T10:37:10.254417900Z"
    }
   }
  },
  {
   "cell_type": "code",
   "execution_count": 117,
   "outputs": [],
   "source": [
    "m = [[0, 0, 0] for row in range(3)]"
   ],
   "metadata": {
    "collapsed": false,
    "ExecuteTime": {
     "end_time": "2023-10-30T10:38:13.229477500Z",
     "start_time": "2023-10-30T10:38:13.202683600Z"
    }
   }
  },
  {
   "cell_type": "code",
   "execution_count": 118,
   "outputs": [
    {
     "data": {
      "text/plain": "[[0, 0, 0], [0, 0, 0], [0, 0, 0]]"
     },
     "execution_count": 118,
     "metadata": {},
     "output_type": "execute_result"
    }
   ],
   "source": [
    "m"
   ],
   "metadata": {
    "collapsed": false,
    "ExecuteTime": {
     "end_time": "2023-10-30T10:38:14.991454300Z",
     "start_time": "2023-10-30T10:38:14.952839900Z"
    }
   }
  },
  {
   "cell_type": "code",
   "execution_count": 119,
   "outputs": [],
   "source": [
    "m[0][0] = 1"
   ],
   "metadata": {
    "collapsed": false,
    "ExecuteTime": {
     "end_time": "2023-10-30T10:38:56.198700700Z",
     "start_time": "2023-10-30T10:38:56.134581600Z"
    }
   }
  },
  {
   "cell_type": "code",
   "execution_count": 120,
   "outputs": [
    {
     "data": {
      "text/plain": "[[1, 0, 0], [0, 0, 0], [0, 0, 0]]"
     },
     "execution_count": 120,
     "metadata": {},
     "output_type": "execute_result"
    }
   ],
   "source": [
    "m"
   ],
   "metadata": {
    "collapsed": false,
    "ExecuteTime": {
     "end_time": "2023-10-30T10:38:57.770793100Z",
     "start_time": "2023-10-30T10:38:57.724790Z"
    }
   }
  },
  {
   "cell_type": "code",
   "execution_count": 123,
   "outputs": [],
   "source": [
    "m = [[0] * 3 for row in range(3)]\n",
    "for row in range(3):\n",
    "    for col in range(3):\n",
    "        if row == col:\n",
    "            m[row][col] = 1"
   ],
   "metadata": {
    "collapsed": false,
    "ExecuteTime": {
     "end_time": "2023-10-30T10:42:00.597444300Z",
     "start_time": "2023-10-30T10:42:00.587399400Z"
    }
   }
  },
  {
   "cell_type": "code",
   "execution_count": 124,
   "outputs": [
    {
     "data": {
      "text/plain": "[[1, 0, 0], [0, 1, 0], [0, 0, 1]]"
     },
     "execution_count": 124,
     "metadata": {},
     "output_type": "execute_result"
    }
   ],
   "source": [
    "m"
   ],
   "metadata": {
    "collapsed": false,
    "ExecuteTime": {
     "end_time": "2023-10-30T10:42:02.171105200Z",
     "start_time": "2023-10-30T10:42:02.137093900Z"
    }
   }
  },
  {
   "cell_type": "code",
   "execution_count": 131,
   "outputs": [],
   "source": [
    "m = [[1 if row == col else 0 for col in range(3)] for row in range(3)]"
   ],
   "metadata": {
    "collapsed": false,
    "ExecuteTime": {
     "end_time": "2023-10-30T10:47:12.907738400Z",
     "start_time": "2023-10-30T10:47:12.878691700Z"
    }
   }
  },
  {
   "cell_type": "code",
   "execution_count": 132,
   "outputs": [
    {
     "name": "stdout",
     "output_type": "stream",
     "text": [
      "[[1, 0, 0], [0, 1, 0], [0, 0, 1]]\n"
     ]
    }
   ],
   "source": [
    "print(m)"
   ],
   "metadata": {
    "collapsed": false,
    "ExecuteTime": {
     "end_time": "2023-10-30T10:47:13.278042800Z",
     "start_time": "2023-10-30T10:47:13.253241700Z"
    }
   }
  },
  {
   "cell_type": "code",
   "execution_count": 137,
   "outputs": [],
   "source": [
    "n = 4\n",
    "m = [\n",
    "    [ 1 if row == col else 0\n",
    "    for col in range(n) ]\n",
    "    for row in range(n)\n",
    "]"
   ],
   "metadata": {
    "collapsed": false,
    "ExecuteTime": {
     "end_time": "2023-10-30T10:49:13.190741300Z",
     "start_time": "2023-10-30T10:49:13.169197700Z"
    }
   }
  },
  {
   "cell_type": "code",
   "execution_count": 138,
   "outputs": [
    {
     "data": {
      "text/plain": "[[1, 0, 0, 0], [0, 1, 0, 0], [0, 0, 1, 0], [0, 0, 0, 1]]"
     },
     "execution_count": 138,
     "metadata": {},
     "output_type": "execute_result"
    }
   ],
   "source": [
    "m"
   ],
   "metadata": {
    "collapsed": false,
    "ExecuteTime": {
     "end_time": "2023-10-30T10:49:13.790859400Z",
     "start_time": "2023-10-30T10:49:13.758851800Z"
    }
   }
  },
  {
   "cell_type": "code",
   "execution_count": null,
   "outputs": [],
   "source": [],
   "metadata": {
    "collapsed": false
   }
  }
 ],
 "metadata": {
  "kernelspec": {
   "display_name": "Python 3",
   "language": "python",
   "name": "python3"
  },
  "language_info": {
   "codemirror_mode": {
    "name": "ipython",
    "version": 2
   },
   "file_extension": ".py",
   "mimetype": "text/x-python",
   "name": "python",
   "nbconvert_exporter": "python",
   "pygments_lexer": "ipython2",
   "version": "2.7.6"
  }
 },
 "nbformat": 4,
 "nbformat_minor": 0
}
