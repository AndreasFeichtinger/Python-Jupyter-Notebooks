{
 "cells": [
  {
   "cell_type": "code",
   "execution_count": 2,
   "metadata": {
    "collapsed": true,
    "ExecuteTime": {
     "end_time": "2023-11-06T07:39:21.127443100Z",
     "start_time": "2023-11-06T07:39:21.103447Z"
    }
   },
   "outputs": [],
   "source": [
    "import parser\n",
    "\n",
    "import numpy as np"
   ]
  },
  {
   "cell_type": "code",
   "execution_count": 184,
   "outputs": [],
   "source": [
    "a1 = np.array([1, 2, 3, 4])\n",
    "a2 = np.array((0.1, 0.2, 0.3, 0.4))"
   ],
   "metadata": {
    "collapsed": false,
    "ExecuteTime": {
     "end_time": "2023-11-06T14:53:20.718539600Z",
     "start_time": "2023-11-06T14:53:20.666045200Z"
    }
   }
  },
  {
   "cell_type": "code",
   "execution_count": 185,
   "outputs": [
    {
     "data": {
      "text/plain": "array([1, 2, 3, 4])"
     },
     "execution_count": 185,
     "metadata": {},
     "output_type": "execute_result"
    }
   ],
   "source": [
    "a1"
   ],
   "metadata": {
    "collapsed": false,
    "ExecuteTime": {
     "end_time": "2023-11-06T14:53:22.440823400Z",
     "start_time": "2023-11-06T14:53:22.377790Z"
    }
   }
  },
  {
   "cell_type": "code",
   "execution_count": 186,
   "outputs": [
    {
     "data": {
      "text/plain": "numpy.ndarray"
     },
     "execution_count": 186,
     "metadata": {},
     "output_type": "execute_result"
    }
   ],
   "source": [
    "type(a1)"
   ],
   "metadata": {
    "collapsed": false,
    "ExecuteTime": {
     "end_time": "2023-11-06T14:53:47.577032700Z",
     "start_time": "2023-11-06T14:53:47.544777500Z"
    }
   }
  },
  {
   "cell_type": "code",
   "execution_count": 188,
   "outputs": [
    {
     "data": {
      "text/plain": "dtype('int32')"
     },
     "execution_count": 188,
     "metadata": {},
     "output_type": "execute_result"
    }
   ],
   "source": [
    "a1.dtype"
   ],
   "metadata": {
    "collapsed": false,
    "ExecuteTime": {
     "end_time": "2023-11-06T14:54:03.353425Z",
     "start_time": "2023-11-06T14:54:03.318046700Z"
    }
   }
  },
  {
   "cell_type": "code",
   "execution_count": 189,
   "outputs": [
    {
     "data": {
      "text/plain": "dtype('int32')"
     },
     "execution_count": 189,
     "metadata": {},
     "output_type": "execute_result"
    }
   ],
   "source": [
    "a1.dtype"
   ],
   "metadata": {
    "collapsed": false,
    "ExecuteTime": {
     "end_time": "2023-11-06T14:54:07.222939500Z",
     "start_time": "2023-11-06T14:54:07.192282200Z"
    }
   }
  },
  {
   "cell_type": "code",
   "execution_count": 9,
   "outputs": [
    {
     "data": {
      "text/plain": "dtype('float64')"
     },
     "execution_count": 9,
     "metadata": {},
     "output_type": "execute_result"
    }
   ],
   "source": [
    "a2.dtype"
   ],
   "metadata": {
    "collapsed": false,
    "ExecuteTime": {
     "end_time": "2023-11-06T07:42:23.795025800Z",
     "start_time": "2023-11-06T07:42:23.780000500Z"
    }
   }
  },
  {
   "cell_type": "code",
   "execution_count": 10,
   "outputs": [],
   "source": [
    "a = np.array([1, 2, 3, 4], dtype=np.uint8)"
   ],
   "metadata": {
    "collapsed": false,
    "ExecuteTime": {
     "end_time": "2023-11-06T07:43:20.757335300Z",
     "start_time": "2023-11-06T07:43:20.750662600Z"
    }
   }
  },
  {
   "cell_type": "code",
   "execution_count": 11,
   "outputs": [],
   "source": [
    "a = np.array([1, 2, 3, 300], dtype=np.uint8)"
   ],
   "metadata": {
    "collapsed": false,
    "ExecuteTime": {
     "end_time": "2023-11-06T07:44:36.662736200Z",
     "start_time": "2023-11-06T07:44:36.657737100Z"
    }
   }
  },
  {
   "cell_type": "code",
   "execution_count": 12,
   "outputs": [
    {
     "data": {
      "text/plain": "array([ 1,  2,  3, 44], dtype=uint8)"
     },
     "execution_count": 12,
     "metadata": {},
     "output_type": "execute_result"
    }
   ],
   "source": [
    "a"
   ],
   "metadata": {
    "collapsed": false,
    "ExecuteTime": {
     "end_time": "2023-11-06T07:44:40.727403800Z",
     "start_time": "2023-11-06T07:44:40.706679300Z"
    }
   }
  },
  {
   "cell_type": "code",
   "execution_count": 13,
   "outputs": [
    {
     "data": {
      "text/plain": "array([255], dtype=uint8)"
     },
     "execution_count": 13,
     "metadata": {},
     "output_type": "execute_result"
    }
   ],
   "source": [
    "np.array([255], dtype=np.uint8)"
   ],
   "metadata": {
    "collapsed": false,
    "ExecuteTime": {
     "end_time": "2023-11-06T07:45:29.684383Z",
     "start_time": "2023-11-06T07:45:29.667350400Z"
    }
   }
  },
  {
   "cell_type": "code",
   "execution_count": 14,
   "outputs": [
    {
     "data": {
      "text/plain": "array([0], dtype=uint8)"
     },
     "execution_count": 14,
     "metadata": {},
     "output_type": "execute_result"
    }
   ],
   "source": [
    "np.array([256], dtype=np.uint8)\n"
   ],
   "metadata": {
    "collapsed": false,
    "ExecuteTime": {
     "end_time": "2023-11-06T07:45:43.012410800Z",
     "start_time": "2023-11-06T07:45:43.006423600Z"
    }
   }
  },
  {
   "cell_type": "code",
   "execution_count": 15,
   "outputs": [
    {
     "data": {
      "text/plain": "array([1], dtype=uint8)"
     },
     "execution_count": 15,
     "metadata": {},
     "output_type": "execute_result"
    }
   ],
   "source": [
    "np.array([257], dtype=np.uint8)\n"
   ],
   "metadata": {
    "collapsed": false,
    "ExecuteTime": {
     "end_time": "2023-11-06T07:45:54.982297800Z",
     "start_time": "2023-11-06T07:45:54.977301100Z"
    }
   }
  },
  {
   "cell_type": "code",
   "execution_count": 16,
   "outputs": [
    {
     "data": {
      "text/plain": "array([-128], dtype=int8)"
     },
     "execution_count": 16,
     "metadata": {},
     "output_type": "execute_result"
    }
   ],
   "source": [
    "np.array([128], dtype=np.int8)"
   ],
   "metadata": {
    "collapsed": false,
    "ExecuteTime": {
     "end_time": "2023-11-06T07:47:07.634301500Z",
     "start_time": "2023-11-06T07:47:07.560571300Z"
    }
   }
  },
  {
   "cell_type": "code",
   "execution_count": 17,
   "outputs": [
    {
     "data": {
      "text/plain": "array([127], dtype=int8)"
     },
     "execution_count": 17,
     "metadata": {},
     "output_type": "execute_result"
    }
   ],
   "source": [
    "np.array([127], dtype=np.int8)\n"
   ],
   "metadata": {
    "collapsed": false,
    "ExecuteTime": {
     "end_time": "2023-11-06T07:47:23.342813Z",
     "start_time": "2023-11-06T07:47:23.337763300Z"
    }
   }
  },
  {
   "cell_type": "code",
   "execution_count": 18,
   "outputs": [
    {
     "data": {
      "text/plain": "array([-127], dtype=int8)"
     },
     "execution_count": 18,
     "metadata": {},
     "output_type": "execute_result"
    }
   ],
   "source": [
    "np.array([129], dtype=np.int8)\n"
   ],
   "metadata": {
    "collapsed": false,
    "ExecuteTime": {
     "end_time": "2023-11-06T07:47:33.880728600Z",
     "start_time": "2023-11-06T07:47:33.844735800Z"
    }
   }
  },
  {
   "cell_type": "code",
   "execution_count": 19,
   "outputs": [],
   "source": [
    "a = np.array([1, 2, 3, 3.14])"
   ],
   "metadata": {
    "collapsed": false,
    "ExecuteTime": {
     "end_time": "2023-11-06T07:50:48.194564200Z",
     "start_time": "2023-11-06T07:50:48.189208300Z"
    }
   }
  },
  {
   "cell_type": "code",
   "execution_count": 20,
   "outputs": [
    {
     "data": {
      "text/plain": "array([1.  , 2.  , 3.  , 3.14])"
     },
     "execution_count": 20,
     "metadata": {},
     "output_type": "execute_result"
    }
   ],
   "source": [
    "a"
   ],
   "metadata": {
    "collapsed": false,
    "ExecuteTime": {
     "end_time": "2023-11-06T07:50:54.103997500Z",
     "start_time": "2023-11-06T07:50:54.096958900Z"
    }
   }
  },
  {
   "cell_type": "code",
   "execution_count": 21,
   "outputs": [
    {
     "data": {
      "text/plain": "array([1, 2, 9, 9], dtype=int64)"
     },
     "execution_count": 21,
     "metadata": {},
     "output_type": "execute_result"
    }
   ],
   "source": [
    "np.array([1, 2, 9.9, 9.1], dtype=np.int64)"
   ],
   "metadata": {
    "collapsed": false,
    "ExecuteTime": {
     "end_time": "2023-11-06T07:53:10.950120900Z",
     "start_time": "2023-11-06T07:53:10.914036200Z"
    }
   }
  },
  {
   "cell_type": "code",
   "execution_count": 23,
   "outputs": [],
   "source": [
    "m_py = [\n",
    "    [1, 0, 0],\n",
    "    [0, 1, 0],\n",
    "    [0, 0, 1],\n",
    "]"
   ],
   "metadata": {
    "collapsed": false,
    "ExecuteTime": {
     "end_time": "2023-11-06T07:54:57.894421700Z",
     "start_time": "2023-11-06T07:54:57.885416200Z"
    }
   }
  },
  {
   "cell_type": "code",
   "execution_count": 24,
   "outputs": [],
   "source": [
    "m1 = np.array(m_py, dtype=np.int16)"
   ],
   "metadata": {
    "collapsed": false,
    "ExecuteTime": {
     "end_time": "2023-11-06T07:55:43.485159500Z",
     "start_time": "2023-11-06T07:55:43.468172200Z"
    }
   }
  },
  {
   "cell_type": "code",
   "execution_count": 25,
   "outputs": [
    {
     "data": {
      "text/plain": "array([[1, 0, 0],\n       [0, 1, 0],\n       [0, 0, 1]], dtype=int16)"
     },
     "execution_count": 25,
     "metadata": {},
     "output_type": "execute_result"
    }
   ],
   "source": [
    "m1"
   ],
   "metadata": {
    "collapsed": false,
    "ExecuteTime": {
     "end_time": "2023-11-06T08:00:11.586386300Z",
     "start_time": "2023-11-06T08:00:11.580383700Z"
    }
   }
  },
  {
   "cell_type": "code",
   "execution_count": 26,
   "outputs": [],
   "source": [
    "a = np.array([1, 2, 3])\n",
    "m2 = np.array(\n",
    "    [\n",
    "        [1, 2, 3],\n",
    "        [4, 5, 6],\n",
    "        [7, 8, 9],\n",
    "        [10, 11, 12]\n",
    "    ]\n",
    ")"
   ],
   "metadata": {
    "collapsed": false,
    "ExecuteTime": {
     "end_time": "2023-11-06T08:01:02.507907600Z",
     "start_time": "2023-11-06T08:01:02.501901600Z"
    }
   }
  },
  {
   "cell_type": "code",
   "execution_count": 28,
   "outputs": [
    {
     "data": {
      "text/plain": "array([1, 2, 3])"
     },
     "execution_count": 28,
     "metadata": {},
     "output_type": "execute_result"
    }
   ],
   "source": [
    "a"
   ],
   "metadata": {
    "collapsed": false,
    "ExecuteTime": {
     "end_time": "2023-11-06T08:01:24.791025200Z",
     "start_time": "2023-11-06T08:01:24.771003900Z"
    }
   }
  },
  {
   "cell_type": "code",
   "execution_count": 29,
   "outputs": [
    {
     "data": {
      "text/plain": "array([[ 1,  2,  3],\n       [ 4,  5,  6],\n       [ 7,  8,  9],\n       [10, 11, 12]])"
     },
     "execution_count": 29,
     "metadata": {},
     "output_type": "execute_result"
    }
   ],
   "source": [
    "m2"
   ],
   "metadata": {
    "collapsed": false,
    "ExecuteTime": {
     "end_time": "2023-11-06T08:01:33.597698600Z",
     "start_time": "2023-11-06T08:01:33.590698100Z"
    }
   }
  },
  {
   "cell_type": "code",
   "execution_count": 30,
   "outputs": [
    {
     "data": {
      "text/plain": "array([[1, 0, 0],\n       [0, 1, 0],\n       [0, 0, 1]], dtype=int16)"
     },
     "execution_count": 30,
     "metadata": {},
     "output_type": "execute_result"
    }
   ],
   "source": [
    "m1"
   ],
   "metadata": {
    "collapsed": false,
    "ExecuteTime": {
     "end_time": "2023-11-06T08:01:50.932257Z",
     "start_time": "2023-11-06T08:01:50.926248500Z"
    }
   }
  },
  {
   "cell_type": "code",
   "execution_count": 31,
   "outputs": [
    {
     "data": {
      "text/plain": "9"
     },
     "execution_count": 31,
     "metadata": {},
     "output_type": "execute_result"
    }
   ],
   "source": [
    "m1.size"
   ],
   "metadata": {
    "collapsed": false,
    "ExecuteTime": {
     "end_time": "2023-11-06T08:02:07.358490100Z",
     "start_time": "2023-11-06T08:02:07.352565800Z"
    }
   }
  },
  {
   "cell_type": "code",
   "execution_count": 32,
   "outputs": [
    {
     "data": {
      "text/plain": "array([[ 1,  2,  3],\n       [ 4,  5,  6],\n       [ 7,  8,  9],\n       [10, 11, 12]])"
     },
     "execution_count": 32,
     "metadata": {},
     "output_type": "execute_result"
    }
   ],
   "source": [
    "m2"
   ],
   "metadata": {
    "collapsed": false,
    "ExecuteTime": {
     "end_time": "2023-11-06T08:02:12.586848800Z",
     "start_time": "2023-11-06T08:02:12.551593400Z"
    }
   }
  },
  {
   "cell_type": "code",
   "execution_count": 33,
   "outputs": [
    {
     "data": {
      "text/plain": "12"
     },
     "execution_count": 33,
     "metadata": {},
     "output_type": "execute_result"
    }
   ],
   "source": [
    "m2.size"
   ],
   "metadata": {
    "collapsed": false,
    "ExecuteTime": {
     "end_time": "2023-11-06T08:02:22.781743200Z",
     "start_time": "2023-11-06T08:02:22.718093100Z"
    }
   }
  },
  {
   "cell_type": "code",
   "execution_count": 34,
   "outputs": [
    {
     "data": {
      "text/plain": "(3,)"
     },
     "execution_count": 34,
     "metadata": {},
     "output_type": "execute_result"
    }
   ],
   "source": [
    "a.shape"
   ],
   "metadata": {
    "collapsed": false,
    "ExecuteTime": {
     "end_time": "2023-11-06T08:02:30.299285200Z",
     "start_time": "2023-11-06T08:02:30.278279200Z"
    }
   }
  },
  {
   "cell_type": "code",
   "execution_count": 35,
   "outputs": [
    {
     "data": {
      "text/plain": "(3, 3)"
     },
     "execution_count": 35,
     "metadata": {},
     "output_type": "execute_result"
    }
   ],
   "source": [
    "m1.shape"
   ],
   "metadata": {
    "collapsed": false,
    "ExecuteTime": {
     "end_time": "2023-11-06T08:02:53.974695800Z",
     "start_time": "2023-11-06T08:02:53.967117Z"
    }
   }
  },
  {
   "cell_type": "code",
   "execution_count": 36,
   "outputs": [
    {
     "data": {
      "text/plain": "(4, 3)"
     },
     "execution_count": 36,
     "metadata": {},
     "output_type": "execute_result"
    }
   ],
   "source": [
    "m2.shape"
   ],
   "metadata": {
    "collapsed": false,
    "ExecuteTime": {
     "end_time": "2023-11-06T08:03:11.013346400Z",
     "start_time": "2023-11-06T08:03:11.007232800Z"
    }
   }
  },
  {
   "cell_type": "code",
   "execution_count": 37,
   "outputs": [],
   "source": [
    "a = np.zeros(5)"
   ],
   "metadata": {
    "collapsed": false,
    "ExecuteTime": {
     "end_time": "2023-11-06T11:04:23.909897800Z",
     "start_time": "2023-11-06T11:04:23.853904800Z"
    }
   }
  },
  {
   "cell_type": "code",
   "execution_count": 38,
   "outputs": [
    {
     "data": {
      "text/plain": "array([0., 0., 0., 0., 0.])"
     },
     "execution_count": 38,
     "metadata": {},
     "output_type": "execute_result"
    }
   ],
   "source": [
    "a"
   ],
   "metadata": {
    "collapsed": false,
    "ExecuteTime": {
     "end_time": "2023-11-06T11:04:25.622421400Z",
     "start_time": "2023-11-06T11:04:25.578433300Z"
    }
   }
  },
  {
   "cell_type": "code",
   "execution_count": 39,
   "outputs": [
    {
     "data": {
      "text/plain": "dtype('float64')"
     },
     "execution_count": 39,
     "metadata": {},
     "output_type": "execute_result"
    }
   ],
   "source": [
    "a.dtype"
   ],
   "metadata": {
    "collapsed": false,
    "ExecuteTime": {
     "end_time": "2023-11-06T11:04:38.448071200Z",
     "start_time": "2023-11-06T11:04:38.423074800Z"
    }
   }
  },
  {
   "cell_type": "code",
   "execution_count": 41,
   "outputs": [],
   "source": [
    "a = np.zeros(5, dtype=int)"
   ],
   "metadata": {
    "collapsed": false,
    "ExecuteTime": {
     "end_time": "2023-11-06T11:05:13.566896500Z",
     "start_time": "2023-11-06T11:05:13.521874400Z"
    }
   }
  },
  {
   "cell_type": "code",
   "execution_count": 42,
   "outputs": [
    {
     "data": {
      "text/plain": "dtype('int32')"
     },
     "execution_count": 42,
     "metadata": {},
     "output_type": "execute_result"
    }
   ],
   "source": [
    "a.dtype"
   ],
   "metadata": {
    "collapsed": false,
    "ExecuteTime": {
     "end_time": "2023-11-06T11:05:21.537093Z",
     "start_time": "2023-11-06T11:05:20.670090400Z"
    }
   }
  },
  {
   "cell_type": "code",
   "execution_count": 43,
   "outputs": [
    {
     "data": {
      "text/plain": "array([0, 0, 0, 0, 0])"
     },
     "execution_count": 43,
     "metadata": {},
     "output_type": "execute_result"
    }
   ],
   "source": [
    "a"
   ],
   "metadata": {
    "collapsed": false,
    "ExecuteTime": {
     "end_time": "2023-11-06T11:05:28.672866700Z",
     "start_time": "2023-11-06T11:05:28.536866300Z"
    }
   }
  },
  {
   "cell_type": "code",
   "execution_count": 44,
   "outputs": [],
   "source": [
    "m = np.zeros((4, 3), dtype=np.uint8)"
   ],
   "metadata": {
    "collapsed": false,
    "ExecuteTime": {
     "end_time": "2023-11-06T11:06:28.539941200Z",
     "start_time": "2023-11-06T11:06:28.479362500Z"
    }
   }
  },
  {
   "cell_type": "code",
   "execution_count": 45,
   "outputs": [
    {
     "data": {
      "text/plain": "array([[0, 0, 0],\n       [0, 0, 0],\n       [0, 0, 0],\n       [0, 0, 0]], dtype=uint8)"
     },
     "execution_count": 45,
     "metadata": {},
     "output_type": "execute_result"
    }
   ],
   "source": [
    "m"
   ],
   "metadata": {
    "collapsed": false,
    "ExecuteTime": {
     "end_time": "2023-11-06T11:06:30.086650700Z",
     "start_time": "2023-11-06T11:06:30.052214Z"
    }
   }
  },
  {
   "cell_type": "code",
   "execution_count": 46,
   "outputs": [
    {
     "data": {
      "text/plain": "(4, 3)"
     },
     "execution_count": 46,
     "metadata": {},
     "output_type": "execute_result"
    }
   ],
   "source": [
    "m.shape"
   ],
   "metadata": {
    "collapsed": false,
    "ExecuteTime": {
     "end_time": "2023-11-06T11:06:45.824726500Z",
     "start_time": "2023-11-06T11:06:45.786114800Z"
    }
   }
  },
  {
   "cell_type": "code",
   "execution_count": 47,
   "outputs": [],
   "source": [
    "m = np.ones((4, 3), dtype=np.uint8)\n"
   ],
   "metadata": {
    "collapsed": false,
    "ExecuteTime": {
     "end_time": "2023-11-06T11:07:02.815584200Z",
     "start_time": "2023-11-06T11:07:02.745733200Z"
    }
   }
  },
  {
   "cell_type": "code",
   "execution_count": 48,
   "outputs": [
    {
     "data": {
      "text/plain": "array([[1, 1, 1],\n       [1, 1, 1],\n       [1, 1, 1],\n       [1, 1, 1]], dtype=uint8)"
     },
     "execution_count": 48,
     "metadata": {},
     "output_type": "execute_result"
    }
   ],
   "source": [
    "m"
   ],
   "metadata": {
    "collapsed": false,
    "ExecuteTime": {
     "end_time": "2023-11-06T11:07:05.342768100Z",
     "start_time": "2023-11-06T11:07:05.315241Z"
    }
   }
  },
  {
   "cell_type": "code",
   "execution_count": 51,
   "outputs": [],
   "source": [
    "m = np.ones((10, 2), dtype=float)"
   ],
   "metadata": {
    "collapsed": false,
    "ExecuteTime": {
     "end_time": "2023-11-06T11:08:08.064529700Z",
     "start_time": "2023-11-06T11:08:08.037834500Z"
    }
   }
  },
  {
   "cell_type": "code",
   "execution_count": 52,
   "outputs": [
    {
     "data": {
      "text/plain": "array([[1., 1.],\n       [1., 1.],\n       [1., 1.],\n       [1., 1.],\n       [1., 1.],\n       [1., 1.],\n       [1., 1.],\n       [1., 1.],\n       [1., 1.],\n       [1., 1.]])"
     },
     "execution_count": 52,
     "metadata": {},
     "output_type": "execute_result"
    }
   ],
   "source": [
    "m"
   ],
   "metadata": {
    "collapsed": false,
    "ExecuteTime": {
     "end_time": "2023-11-06T11:08:10.815957800Z",
     "start_time": "2023-11-06T11:08:10.523966500Z"
    }
   }
  },
  {
   "cell_type": "code",
   "execution_count": 53,
   "outputs": [],
   "source": [
    "m = np.full((2, 5), 3.14)"
   ],
   "metadata": {
    "collapsed": false,
    "ExecuteTime": {
     "end_time": "2023-11-06T11:08:43.303863800Z",
     "start_time": "2023-11-06T11:08:43.247819900Z"
    }
   }
  },
  {
   "cell_type": "code",
   "execution_count": 54,
   "outputs": [
    {
     "data": {
      "text/plain": "array([[3.14, 3.14, 3.14, 3.14, 3.14],\n       [3.14, 3.14, 3.14, 3.14, 3.14]])"
     },
     "execution_count": 54,
     "metadata": {},
     "output_type": "execute_result"
    }
   ],
   "source": [
    "m"
   ],
   "metadata": {
    "collapsed": false,
    "ExecuteTime": {
     "end_time": "2023-11-06T11:08:47.329244800Z",
     "start_time": "2023-11-06T11:08:47.288659200Z"
    }
   }
  },
  {
   "cell_type": "code",
   "execution_count": 55,
   "outputs": [],
   "source": [
    "m = np.eye(5)"
   ],
   "metadata": {
    "collapsed": false,
    "ExecuteTime": {
     "end_time": "2023-11-06T11:09:13.868379700Z",
     "start_time": "2023-11-06T11:09:13.800189500Z"
    }
   }
  },
  {
   "cell_type": "code",
   "execution_count": 56,
   "outputs": [
    {
     "data": {
      "text/plain": "array([[1., 0., 0., 0., 0.],\n       [0., 1., 0., 0., 0.],\n       [0., 0., 1., 0., 0.],\n       [0., 0., 0., 1., 0.],\n       [0., 0., 0., 0., 1.]])"
     },
     "execution_count": 56,
     "metadata": {},
     "output_type": "execute_result"
    }
   ],
   "source": [
    "m"
   ],
   "metadata": {
    "collapsed": false,
    "ExecuteTime": {
     "end_time": "2023-11-06T11:09:15.504940700Z",
     "start_time": "2023-11-06T11:09:15.483896400Z"
    }
   }
  },
  {
   "cell_type": "code",
   "execution_count": 57,
   "outputs": [
    {
     "data": {
      "text/plain": "dtype('float64')"
     },
     "execution_count": 57,
     "metadata": {},
     "output_type": "execute_result"
    }
   ],
   "source": [
    "m.dtype"
   ],
   "metadata": {
    "collapsed": false,
    "ExecuteTime": {
     "end_time": "2023-11-06T11:09:39.913892300Z",
     "start_time": "2023-11-06T11:09:39.885537Z"
    }
   }
  },
  {
   "cell_type": "code",
   "execution_count": 58,
   "outputs": [],
   "source": [
    "m = np.eye(4, dtype=int)"
   ],
   "metadata": {
    "collapsed": false,
    "ExecuteTime": {
     "end_time": "2023-11-06T11:10:10.834415500Z",
     "start_time": "2023-11-06T11:10:10.800379100Z"
    }
   }
  },
  {
   "cell_type": "code",
   "execution_count": 59,
   "outputs": [
    {
     "data": {
      "text/plain": "array([[1, 0, 0, 0],\n       [0, 1, 0, 0],\n       [0, 0, 1, 0],\n       [0, 0, 0, 1]])"
     },
     "execution_count": 59,
     "metadata": {},
     "output_type": "execute_result"
    }
   ],
   "source": [
    "m"
   ],
   "metadata": {
    "collapsed": false,
    "ExecuteTime": {
     "end_time": "2023-11-06T11:10:14.158877100Z",
     "start_time": "2023-11-06T11:10:14.124243Z"
    }
   }
  },
  {
   "cell_type": "code",
   "execution_count": 60,
   "outputs": [
    {
     "data": {
      "text/plain": "[2, 4, 6, 8, 10]"
     },
     "execution_count": 60,
     "metadata": {},
     "output_type": "execute_result"
    }
   ],
   "source": [
    "list(range(2, 11, 2))"
   ],
   "metadata": {
    "collapsed": false,
    "ExecuteTime": {
     "end_time": "2023-11-06T11:10:35.089391700Z",
     "start_time": "2023-11-06T11:10:35.071277900Z"
    }
   }
  },
  {
   "cell_type": "code",
   "execution_count": 62,
   "outputs": [
    {
     "data": {
      "text/plain": "array([ 2,  4,  6,  8, 10])"
     },
     "execution_count": 62,
     "metadata": {},
     "output_type": "execute_result"
    }
   ],
   "source": [
    "np.arange(2, 11, 2)"
   ],
   "metadata": {
    "collapsed": false,
    "ExecuteTime": {
     "end_time": "2023-11-06T11:11:03.627693Z",
     "start_time": "2023-11-06T11:11:03.604221400Z"
    }
   }
  },
  {
   "cell_type": "code",
   "execution_count": 190,
   "outputs": [
    {
     "data": {
      "text/plain": "array([ 2.        ,  2.88888889,  3.77777778,  4.66666667,  5.55555556,\n        6.44444444,  7.33333333,  8.22222222,  9.11111111, 10.        ])"
     },
     "execution_count": 190,
     "metadata": {},
     "output_type": "execute_result"
    }
   ],
   "source": [
    "np.linspace(2, 10, num=10)"
   ],
   "metadata": {
    "collapsed": false,
    "ExecuteTime": {
     "end_time": "2023-11-06T14:57:56.221668500Z",
     "start_time": "2023-11-06T14:57:56.157785300Z"
    }
   }
  },
  {
   "cell_type": "code",
   "execution_count": 191,
   "outputs": [
    {
     "data": {
      "text/plain": "array([ 2.        ,  2.88888889,  3.77777778,  4.66666667,  5.55555556,\n        6.44444444,  7.33333333,  8.22222222,  9.11111111, 10.        ])"
     },
     "execution_count": 191,
     "metadata": {},
     "output_type": "execute_result"
    }
   ],
   "source": [
    "np.linspace(2, 10, 10)\n"
   ],
   "metadata": {
    "collapsed": false,
    "ExecuteTime": {
     "end_time": "2023-11-06T14:58:55.818182700Z",
     "start_time": "2023-11-06T14:58:55.786023800Z"
    }
   }
  },
  {
   "cell_type": "code",
   "execution_count": 192,
   "outputs": [],
   "source": [
    "import math\n",
    "\n",
    "x_coords = np.linspace(-2 * math.pi, 2 * math.pi, 50)"
   ],
   "metadata": {
    "collapsed": false,
    "ExecuteTime": {
     "end_time": "2023-11-06T14:58:56.768078400Z",
     "start_time": "2023-11-06T14:58:56.733960600Z"
    }
   }
  },
  {
   "cell_type": "code",
   "execution_count": 193,
   "outputs": [
    {
     "data": {
      "text/plain": "array([-6.28318531, -6.02672876, -5.77027222, -5.51381568, -5.25735913,\n       -5.00090259, -4.74444605, -4.48798951, -4.23153296, -3.97507642,\n       -3.71861988, -3.46216333, -3.20570679, -2.94925025, -2.6927937 ,\n       -2.43633716, -2.17988062, -1.92342407, -1.66696753, -1.41051099,\n       -1.15405444, -0.8975979 , -0.64114136, -0.38468481, -0.12822827,\n        0.12822827,  0.38468481,  0.64114136,  0.8975979 ,  1.15405444,\n        1.41051099,  1.66696753,  1.92342407,  2.17988062,  2.43633716,\n        2.6927937 ,  2.94925025,  3.20570679,  3.46216333,  3.71861988,\n        3.97507642,  4.23153296,  4.48798951,  4.74444605,  5.00090259,\n        5.25735913,  5.51381568,  5.77027222,  6.02672876,  6.28318531])"
     },
     "execution_count": 193,
     "metadata": {},
     "output_type": "execute_result"
    }
   ],
   "source": [
    "x_coords"
   ],
   "metadata": {
    "collapsed": false,
    "ExecuteTime": {
     "end_time": "2023-11-06T14:58:58.048157700Z",
     "start_time": "2023-11-06T14:58:58.013020300Z"
    }
   }
  },
  {
   "cell_type": "code",
   "execution_count": 67,
   "outputs": [],
   "source": [
    "y_values = np.array([math.sin(x) for x in x_coords])"
   ],
   "metadata": {
    "collapsed": false,
    "ExecuteTime": {
     "end_time": "2023-11-06T12:09:24.490603Z",
     "start_time": "2023-11-06T12:09:24.468432700Z"
    }
   }
  },
  {
   "cell_type": "code",
   "execution_count": 68,
   "outputs": [
    {
     "data": {
      "text/plain": "array([ 2.44929360e-16,  2.53654584e-01,  4.90717552e-01,  6.95682551e-01,\n        8.55142763e-01,  9.58667853e-01,  9.99486216e-01,  9.74927912e-01,\n        8.86599306e-01,  7.40277997e-01,  5.45534901e-01,  3.15108218e-01,\n        6.40702200e-02, -1.91158629e-01, -4.33883739e-01, -6.48228395e-01,\n       -8.20172255e-01, -9.38468422e-01, -9.95379113e-01, -9.87181783e-01,\n       -9.14412623e-01, -7.81831482e-01, -5.98110530e-01, -3.75267005e-01,\n       -1.27877162e-01,  1.27877162e-01,  3.75267005e-01,  5.98110530e-01,\n        7.81831482e-01,  9.14412623e-01,  9.87181783e-01,  9.95379113e-01,\n        9.38468422e-01,  8.20172255e-01,  6.48228395e-01,  4.33883739e-01,\n        1.91158629e-01, -6.40702200e-02, -3.15108218e-01, -5.45534901e-01,\n       -7.40277997e-01, -8.86599306e-01, -9.74927912e-01, -9.99486216e-01,\n       -9.58667853e-01, -8.55142763e-01, -6.95682551e-01, -4.90717552e-01,\n       -2.53654584e-01, -2.44929360e-16])"
     },
     "execution_count": 68,
     "metadata": {},
     "output_type": "execute_result"
    }
   ],
   "source": [
    "y_values"
   ],
   "metadata": {
    "collapsed": false,
    "ExecuteTime": {
     "end_time": "2023-11-06T12:09:28.680766600Z",
     "start_time": "2023-11-06T12:09:28.632370500Z"
    }
   }
  },
  {
   "cell_type": "code",
   "execution_count": 69,
   "outputs": [
    {
     "data": {
      "text/plain": "array([0.96115168, 0.21141672, 0.48780131, 0.73584371, 0.41748783])"
     },
     "execution_count": 69,
     "metadata": {},
     "output_type": "execute_result"
    }
   ],
   "source": [
    "np.random.random(5)"
   ],
   "metadata": {
    "collapsed": false,
    "ExecuteTime": {
     "end_time": "2023-11-06T12:10:28.632810300Z",
     "start_time": "2023-11-06T12:10:28.594782100Z"
    }
   }
  },
  {
   "cell_type": "code",
   "execution_count": 70,
   "outputs": [],
   "source": [
    "np.random.seed(0)"
   ],
   "metadata": {
    "collapsed": false,
    "ExecuteTime": {
     "end_time": "2023-11-06T12:10:54.529217100Z",
     "start_time": "2023-11-06T12:10:54.509175700Z"
    }
   }
  },
  {
   "cell_type": "code",
   "execution_count": 71,
   "outputs": [
    {
     "data": {
      "text/plain": "array([0.5488135 , 0.71518937, 0.60276338, 0.54488318, 0.4236548 ])"
     },
     "execution_count": 71,
     "metadata": {},
     "output_type": "execute_result"
    }
   ],
   "source": [
    "np.random.random(5)"
   ],
   "metadata": {
    "collapsed": false,
    "ExecuteTime": {
     "end_time": "2023-11-06T12:11:02.826604200Z",
     "start_time": "2023-11-06T12:11:02.760869800Z"
    }
   }
  },
  {
   "cell_type": "code",
   "execution_count": 72,
   "outputs": [
    {
     "data": {
      "text/plain": "array([[0.64589411, 0.43758721, 0.891773  ],\n       [0.96366276, 0.38344152, 0.79172504],\n       [0.52889492, 0.56804456, 0.92559664],\n       [0.07103606, 0.0871293 , 0.0202184 ],\n       [0.83261985, 0.77815675, 0.87001215]])"
     },
     "execution_count": 72,
     "metadata": {},
     "output_type": "execute_result"
    }
   ],
   "source": [
    "np.random.random((5, 3))\n"
   ],
   "metadata": {
    "collapsed": false,
    "ExecuteTime": {
     "end_time": "2023-11-06T12:11:20.747277100Z",
     "start_time": "2023-11-06T12:11:20.724391500Z"
    }
   }
  },
  {
   "cell_type": "code",
   "execution_count": 194,
   "outputs": [
    {
     "data": {
      "text/plain": "array([6, 1, 4, 4, 8])"
     },
     "execution_count": 194,
     "metadata": {},
     "output_type": "execute_result"
    }
   ],
   "source": [
    "np.random.seed(0)\n",
    "np.random.randint(1, 10, 5)\n"
   ],
   "metadata": {
    "collapsed": false,
    "ExecuteTime": {
     "end_time": "2023-11-06T15:00:41.681331800Z",
     "start_time": "2023-11-06T15:00:41.644866500Z"
    }
   }
  },
  {
   "cell_type": "code",
   "execution_count": 196,
   "outputs": [
    {
     "data": {
      "text/plain": "array([[5, 6],\n       [1, 4],\n       [4, 4],\n       [2, 4],\n       [6, 3],\n       [5, 1],\n       [1, 5],\n       [3, 2],\n       [1, 2],\n       [6, 2]])"
     },
     "execution_count": 196,
     "metadata": {},
     "output_type": "execute_result"
    }
   ],
   "source": [
    "np.random.seed(0)\n",
    "np.random.randint(1, 7, (10, 2))\n"
   ],
   "metadata": {
    "collapsed": false,
    "ExecuteTime": {
     "end_time": "2023-11-06T15:01:27.009649800Z",
     "start_time": "2023-11-06T15:01:26.971407300Z"
    }
   }
  },
  {
   "cell_type": "code",
   "execution_count": 79,
   "outputs": [],
   "source": [
    "arr = np.arange(12)"
   ],
   "metadata": {
    "collapsed": false,
    "ExecuteTime": {
     "end_time": "2023-11-06T13:03:32.027861400Z",
     "start_time": "2023-11-06T13:03:32.001894400Z"
    }
   }
  },
  {
   "cell_type": "code",
   "execution_count": 80,
   "outputs": [
    {
     "data": {
      "text/plain": "array([ 0,  1,  2,  3,  4,  5,  6,  7,  8,  9, 10, 11])"
     },
     "execution_count": 80,
     "metadata": {},
     "output_type": "execute_result"
    }
   ],
   "source": [
    "arr"
   ],
   "metadata": {
    "collapsed": false,
    "ExecuteTime": {
     "end_time": "2023-11-06T13:03:34.344983900Z",
     "start_time": "2023-11-06T13:03:34.286324Z"
    }
   }
  },
  {
   "cell_type": "code",
   "execution_count": 81,
   "outputs": [
    {
     "data": {
      "text/plain": "(12,)"
     },
     "execution_count": 81,
     "metadata": {},
     "output_type": "execute_result"
    }
   ],
   "source": [
    "arr.shape"
   ],
   "metadata": {
    "collapsed": false,
    "ExecuteTime": {
     "end_time": "2023-11-06T13:03:50.844715Z",
     "start_time": "2023-11-06T13:03:50.807662300Z"
    }
   }
  },
  {
   "cell_type": "code",
   "execution_count": 82,
   "outputs": [],
   "source": [
    "m1 = arr.reshape(4, 3)"
   ],
   "metadata": {
    "collapsed": false,
    "ExecuteTime": {
     "end_time": "2023-11-06T13:04:03.211292800Z",
     "start_time": "2023-11-06T13:04:03.192508400Z"
    }
   }
  },
  {
   "cell_type": "code",
   "execution_count": 258,
   "outputs": [
    {
     "data": {
      "text/plain": "array([[ 100, -100,    2],\n       [   3,    4,    5],\n       [   6,    7,    8],\n       [   9,   10,  200]])"
     },
     "execution_count": 258,
     "metadata": {},
     "output_type": "execute_result"
    }
   ],
   "source": [
    "m1"
   ],
   "metadata": {
    "collapsed": false,
    "ExecuteTime": {
     "end_time": "2023-11-07T13:21:41.103204200Z",
     "start_time": "2023-11-07T13:21:41.038249Z"
    }
   }
  },
  {
   "cell_type": "code",
   "execution_count": 84,
   "outputs": [
    {
     "data": {
      "text/plain": "array([ 0,  1,  2,  3,  4,  5,  6,  7,  8,  9, 10, 11])"
     },
     "execution_count": 84,
     "metadata": {},
     "output_type": "execute_result"
    }
   ],
   "source": [
    "arr"
   ],
   "metadata": {
    "collapsed": false,
    "ExecuteTime": {
     "end_time": "2023-11-06T13:05:00.023905500Z",
     "start_time": "2023-11-06T13:04:59.978469200Z"
    }
   }
  },
  {
   "cell_type": "code",
   "execution_count": 85,
   "outputs": [],
   "source": [
    "arr[0] = 100"
   ],
   "metadata": {
    "collapsed": false,
    "ExecuteTime": {
     "end_time": "2023-11-06T13:05:17.912976800Z",
     "start_time": "2023-11-06T13:05:17.864257300Z"
    }
   }
  },
  {
   "cell_type": "code",
   "execution_count": 86,
   "outputs": [
    {
     "data": {
      "text/plain": "array([100,   1,   2,   3,   4,   5,   6,   7,   8,   9,  10,  11])"
     },
     "execution_count": 86,
     "metadata": {},
     "output_type": "execute_result"
    }
   ],
   "source": [
    "arr"
   ],
   "metadata": {
    "collapsed": false,
    "ExecuteTime": {
     "end_time": "2023-11-06T13:05:21.634588600Z",
     "start_time": "2023-11-06T13:05:21.574588700Z"
    }
   }
  },
  {
   "cell_type": "code",
   "execution_count": 87,
   "outputs": [
    {
     "data": {
      "text/plain": "array([[100,   1,   2],\n       [  3,   4,   5],\n       [  6,   7,   8],\n       [  9,  10,  11]])"
     },
     "execution_count": 87,
     "metadata": {},
     "output_type": "execute_result"
    }
   ],
   "source": [
    "m1"
   ],
   "metadata": {
    "collapsed": false,
    "ExecuteTime": {
     "end_time": "2023-11-06T13:05:31.617500100Z",
     "start_time": "2023-11-06T13:05:31.580128500Z"
    }
   }
  },
  {
   "cell_type": "code",
   "execution_count": 88,
   "outputs": [
    {
     "data": {
      "text/plain": "array([[ 1,  2,  3],\n       [ 4,  5,  6],\n       [ 7,  8,  9],\n       [10, 11, 12]])"
     },
     "execution_count": 88,
     "metadata": {},
     "output_type": "execute_result"
    }
   ],
   "source": [
    "m2"
   ],
   "metadata": {
    "collapsed": false,
    "ExecuteTime": {
     "end_time": "2023-11-06T13:05:45.442126600Z",
     "start_time": "2023-11-06T13:05:45.405462100Z"
    }
   }
  },
  {
   "cell_type": "code",
   "execution_count": 89,
   "outputs": [],
   "source": [
    "m1[3][2] = 200"
   ],
   "metadata": {
    "collapsed": false,
    "ExecuteTime": {
     "end_time": "2023-11-06T13:06:06.650285700Z",
     "start_time": "2023-11-06T13:06:06.618751200Z"
    }
   }
  },
  {
   "cell_type": "code",
   "execution_count": 90,
   "outputs": [
    {
     "data": {
      "text/plain": "array([[100,   1,   2],\n       [  3,   4,   5],\n       [  6,   7,   8],\n       [  9,  10, 200]])"
     },
     "execution_count": 90,
     "metadata": {},
     "output_type": "execute_result"
    }
   ],
   "source": [
    "m1"
   ],
   "metadata": {
    "collapsed": false,
    "ExecuteTime": {
     "end_time": "2023-11-06T13:06:08.411046700Z",
     "start_time": "2023-11-06T13:06:08.372044200Z"
    }
   }
  },
  {
   "cell_type": "code",
   "execution_count": 91,
   "outputs": [
    {
     "data": {
      "text/plain": "array([[ 1,  2,  3],\n       [ 4,  5,  6],\n       [ 7,  8,  9],\n       [10, 11, 12]])"
     },
     "execution_count": 91,
     "metadata": {},
     "output_type": "execute_result"
    }
   ],
   "source": [
    "m2"
   ],
   "metadata": {
    "collapsed": false,
    "ExecuteTime": {
     "end_time": "2023-11-06T13:06:54.681240500Z",
     "start_time": "2023-11-06T13:06:54.630877600Z"
    }
   }
  },
  {
   "cell_type": "code",
   "execution_count": 92,
   "outputs": [],
   "source": [
    "m3 = arr.reshape(3, 4).copy()"
   ],
   "metadata": {
    "collapsed": false,
    "ExecuteTime": {
     "end_time": "2023-11-06T13:07:56.158759100Z",
     "start_time": "2023-11-06T13:07:56.124715300Z"
    }
   }
  },
  {
   "cell_type": "code",
   "execution_count": 93,
   "outputs": [
    {
     "data": {
      "text/plain": "array([[100,   1,   2,   3],\n       [  4,   5,   6,   7],\n       [  8,   9,  10, 200]])"
     },
     "execution_count": 93,
     "metadata": {},
     "output_type": "execute_result"
    }
   ],
   "source": [
    "m3"
   ],
   "metadata": {
    "collapsed": false,
    "ExecuteTime": {
     "end_time": "2023-11-06T13:08:00.732157200Z",
     "start_time": "2023-11-06T13:08:00.693834300Z"
    }
   }
  },
  {
   "cell_type": "code",
   "execution_count": 94,
   "outputs": [],
   "source": [
    "arr[1] = -100"
   ],
   "metadata": {
    "collapsed": false,
    "ExecuteTime": {
     "end_time": "2023-11-06T13:09:25.525047500Z",
     "start_time": "2023-11-06T13:09:25.470039Z"
    }
   }
  },
  {
   "cell_type": "code",
   "execution_count": 95,
   "outputs": [
    {
     "data": {
      "text/plain": "array([ 100, -100,    2,    3,    4,    5,    6,    7,    8,    9,   10,\n        200])"
     },
     "execution_count": 95,
     "metadata": {},
     "output_type": "execute_result"
    }
   ],
   "source": [
    "arr"
   ],
   "metadata": {
    "collapsed": false,
    "ExecuteTime": {
     "end_time": "2023-11-06T13:09:28.910724100Z",
     "start_time": "2023-11-06T13:09:28.873784Z"
    }
   }
  },
  {
   "cell_type": "code",
   "execution_count": 96,
   "outputs": [
    {
     "data": {
      "text/plain": "array([[100,   1,   2,   3],\n       [  4,   5,   6,   7],\n       [  8,   9,  10, 200]])"
     },
     "execution_count": 96,
     "metadata": {},
     "output_type": "execute_result"
    }
   ],
   "source": [
    "m3"
   ],
   "metadata": {
    "collapsed": false,
    "ExecuteTime": {
     "end_time": "2023-11-06T13:09:35.151044900Z",
     "start_time": "2023-11-06T13:09:35.102978Z"
    }
   }
  },
  {
   "cell_type": "code",
   "execution_count": 200,
   "outputs": [],
   "source": [
    "m = np.array([\n",
    "    [1, 2, 3],\n",
    "    [4, 5, 6]\n",
    "]\n",
    ")"
   ],
   "metadata": {
    "collapsed": false,
    "ExecuteTime": {
     "end_time": "2023-11-06T15:04:57.312661900Z",
     "start_time": "2023-11-06T15:04:57.278652800Z"
    }
   }
  },
  {
   "cell_type": "code",
   "execution_count": 99,
   "outputs": [
    {
     "data": {
      "text/plain": "array([[1, 2, 3],\n       [4, 5, 6]])"
     },
     "execution_count": 99,
     "metadata": {},
     "output_type": "execute_result"
    }
   ],
   "source": [
    "m"
   ],
   "metadata": {
    "collapsed": false,
    "ExecuteTime": {
     "end_time": "2023-11-06T13:13:28.224973600Z",
     "start_time": "2023-11-06T13:13:28.182455600Z"
    }
   }
  },
  {
   "cell_type": "code",
   "execution_count": 100,
   "outputs": [
    {
     "data": {
      "text/plain": "(2, 3)"
     },
     "execution_count": 100,
     "metadata": {},
     "output_type": "execute_result"
    }
   ],
   "source": [
    "m.shape"
   ],
   "metadata": {
    "collapsed": false,
    "ExecuteTime": {
     "end_time": "2023-11-06T13:13:41.385271800Z",
     "start_time": "2023-11-06T13:13:41.330357900Z"
    }
   }
  },
  {
   "cell_type": "code",
   "execution_count": 205,
   "outputs": [],
   "source": [
    "arr2 = m.reshape(1, 6)"
   ],
   "metadata": {
    "collapsed": false,
    "ExecuteTime": {
     "end_time": "2023-11-06T15:05:42.550932600Z",
     "start_time": "2023-11-06T15:05:42.516725600Z"
    }
   }
  },
  {
   "cell_type": "code",
   "execution_count": 206,
   "outputs": [
    {
     "data": {
      "text/plain": "array([[1, 2, 3, 4, 5, 6]])"
     },
     "execution_count": 206,
     "metadata": {},
     "output_type": "execute_result"
    }
   ],
   "source": [
    "arr2"
   ],
   "metadata": {
    "collapsed": false,
    "ExecuteTime": {
     "end_time": "2023-11-06T15:05:43.557995200Z",
     "start_time": "2023-11-06T15:05:43.515133200Z"
    }
   }
  },
  {
   "cell_type": "code",
   "execution_count": 207,
   "outputs": [
    {
     "ename": "IndexError",
     "evalue": "index 2 is out of bounds for axis 0 with size 1",
     "output_type": "error",
     "traceback": [
      "\u001B[1;31m---------------------------------------------------------------------------\u001B[0m",
      "\u001B[1;31mIndexError\u001B[0m                                Traceback (most recent call last)",
      "\u001B[1;32m~\\AppData\\Local\\Temp\\ipykernel_72728\\2915129664.py\u001B[0m in \u001B[0;36m<module>\u001B[1;34m\u001B[0m\n\u001B[1;32m----> 1\u001B[1;33m \u001B[0marr2\u001B[0m\u001B[1;33m[\u001B[0m\u001B[1;36m2\u001B[0m\u001B[1;33m]\u001B[0m \u001B[1;33m=\u001B[0m \u001B[1;36m300\u001B[0m\u001B[1;33m\u001B[0m\u001B[1;33m\u001B[0m\u001B[0m\n\u001B[0m\u001B[0;32m      2\u001B[0m \u001B[0marr2\u001B[0m\u001B[1;33m\u001B[0m\u001B[1;33m\u001B[0m\u001B[0m\n",
      "\u001B[1;31mIndexError\u001B[0m: index 2 is out of bounds for axis 0 with size 1"
     ]
    }
   ],
   "source": [
    "arr2[2] = 300\n",
    "arr2"
   ],
   "metadata": {
    "collapsed": false,
    "ExecuteTime": {
     "end_time": "2023-11-06T15:06:07.233972300Z",
     "start_time": "2023-11-06T15:06:07.195549400Z"
    }
   }
  },
  {
   "cell_type": "code",
   "execution_count": 104,
   "outputs": [
    {
     "data": {
      "text/plain": "array([[  1,   2, 300],\n       [  4,   5,   6]])"
     },
     "execution_count": 104,
     "metadata": {},
     "output_type": "execute_result"
    }
   ],
   "source": [
    "m"
   ],
   "metadata": {
    "collapsed": false,
    "ExecuteTime": {
     "end_time": "2023-11-06T13:15:11.637154600Z",
     "start_time": "2023-11-06T13:15:11.594055900Z"
    }
   }
  },
  {
   "cell_type": "code",
   "execution_count": 105,
   "outputs": [],
   "source": [
    "a1 = np.arange(1, 6)"
   ],
   "metadata": {
    "collapsed": false,
    "ExecuteTime": {
     "end_time": "2023-11-06T13:38:37.465746400Z",
     "start_time": "2023-11-06T13:38:37.394792700Z"
    }
   }
  },
  {
   "cell_type": "code",
   "execution_count": 106,
   "outputs": [
    {
     "data": {
      "text/plain": "array([1, 2, 3, 4, 5])"
     },
     "execution_count": 106,
     "metadata": {},
     "output_type": "execute_result"
    }
   ],
   "source": [
    "a1"
   ],
   "metadata": {
    "collapsed": false,
    "ExecuteTime": {
     "end_time": "2023-11-06T13:38:39.068335700Z",
     "start_time": "2023-11-06T13:38:38.994641700Z"
    }
   }
  },
  {
   "cell_type": "code",
   "execution_count": 208,
   "outputs": [],
   "source": [
    "a2 = np.arange(1, 11).reshape(2, 5)"
   ],
   "metadata": {
    "collapsed": false,
    "ExecuteTime": {
     "end_time": "2023-11-06T15:06:30.563063400Z",
     "start_time": "2023-11-06T15:06:30.524090300Z"
    }
   }
  },
  {
   "cell_type": "code",
   "execution_count": 209,
   "outputs": [
    {
     "data": {
      "text/plain": "array([[ 1,  2,  3,  4,  5],\n       [ 6,  7,  8,  9, 10]])"
     },
     "execution_count": 209,
     "metadata": {},
     "output_type": "execute_result"
    }
   ],
   "source": [
    "a2"
   ],
   "metadata": {
    "collapsed": false,
    "ExecuteTime": {
     "end_time": "2023-11-06T15:06:31.096984Z",
     "start_time": "2023-11-06T15:06:31.054986100Z"
    }
   }
  },
  {
   "cell_type": "code",
   "execution_count": 210,
   "outputs": [
    {
     "ename": "ValueError",
     "evalue": "all the input array dimensions for the concatenation axis must match exactly, but along dimension 1, the array at index 0 has size 4 and the array at index 1 has size 5",
     "output_type": "error",
     "traceback": [
      "\u001B[1;31m---------------------------------------------------------------------------\u001B[0m",
      "\u001B[1;31mValueError\u001B[0m                                Traceback (most recent call last)",
      "\u001B[1;32m~\\AppData\\Local\\Temp\\ipykernel_72728\\1747559726.py\u001B[0m in \u001B[0;36m<module>\u001B[1;34m\u001B[0m\n\u001B[1;32m----> 1\u001B[1;33m \u001B[0ms1\u001B[0m \u001B[1;33m=\u001B[0m \u001B[0mnp\u001B[0m\u001B[1;33m.\u001B[0m\u001B[0mvstack\u001B[0m\u001B[1;33m(\u001B[0m\u001B[1;33m(\u001B[0m\u001B[0ma1\u001B[0m\u001B[1;33m,\u001B[0m\u001B[0ma2\u001B[0m\u001B[1;33m)\u001B[0m\u001B[1;33m)\u001B[0m\u001B[1;33m\u001B[0m\u001B[1;33m\u001B[0m\u001B[0m\n\u001B[0m",
      "\u001B[1;32m<__array_function__ internals>\u001B[0m in \u001B[0;36mvstack\u001B[1;34m(*args, **kwargs)\u001B[0m\n",
      "\u001B[1;32m~\\Anaconda3\\lib\\site-packages\\numpy\\core\\shape_base.py\u001B[0m in \u001B[0;36mvstack\u001B[1;34m(tup)\u001B[0m\n\u001B[0;32m    280\u001B[0m     \u001B[1;32mif\u001B[0m \u001B[1;32mnot\u001B[0m \u001B[0misinstance\u001B[0m\u001B[1;33m(\u001B[0m\u001B[0marrs\u001B[0m\u001B[1;33m,\u001B[0m \u001B[0mlist\u001B[0m\u001B[1;33m)\u001B[0m\u001B[1;33m:\u001B[0m\u001B[1;33m\u001B[0m\u001B[1;33m\u001B[0m\u001B[0m\n\u001B[0;32m    281\u001B[0m         \u001B[0marrs\u001B[0m \u001B[1;33m=\u001B[0m \u001B[1;33m[\u001B[0m\u001B[0marrs\u001B[0m\u001B[1;33m]\u001B[0m\u001B[1;33m\u001B[0m\u001B[1;33m\u001B[0m\u001B[0m\n\u001B[1;32m--> 282\u001B[1;33m     \u001B[1;32mreturn\u001B[0m \u001B[0m_nx\u001B[0m\u001B[1;33m.\u001B[0m\u001B[0mconcatenate\u001B[0m\u001B[1;33m(\u001B[0m\u001B[0marrs\u001B[0m\u001B[1;33m,\u001B[0m \u001B[1;36m0\u001B[0m\u001B[1;33m)\u001B[0m\u001B[1;33m\u001B[0m\u001B[1;33m\u001B[0m\u001B[0m\n\u001B[0m\u001B[0;32m    283\u001B[0m \u001B[1;33m\u001B[0m\u001B[0m\n\u001B[0;32m    284\u001B[0m \u001B[1;33m\u001B[0m\u001B[0m\n",
      "\u001B[1;32m<__array_function__ internals>\u001B[0m in \u001B[0;36mconcatenate\u001B[1;34m(*args, **kwargs)\u001B[0m\n",
      "\u001B[1;31mValueError\u001B[0m: all the input array dimensions for the concatenation axis must match exactly, but along dimension 1, the array at index 0 has size 4 and the array at index 1 has size 5"
     ]
    }
   ],
   "source": [
    "s1 = np.vstack((a1, a2))"
   ],
   "metadata": {
    "collapsed": false,
    "ExecuteTime": {
     "end_time": "2023-11-06T15:06:32.526554600Z",
     "start_time": "2023-11-06T15:06:32.451924900Z"
    }
   }
  },
  {
   "cell_type": "code",
   "execution_count": 110,
   "outputs": [
    {
     "data": {
      "text/plain": "array([[ 1,  2,  3,  4,  5],\n       [ 1,  2,  3,  4,  5],\n       [ 6,  7,  8,  9, 10]])"
     },
     "execution_count": 110,
     "metadata": {},
     "output_type": "execute_result"
    }
   ],
   "source": [
    "s1"
   ],
   "metadata": {
    "collapsed": false,
    "ExecuteTime": {
     "end_time": "2023-11-06T13:40:16.906985200Z",
     "start_time": "2023-11-06T13:40:16.855983300Z"
    }
   }
  },
  {
   "cell_type": "code",
   "execution_count": 112,
   "outputs": [
    {
     "name": "stdout",
     "output_type": "stream",
     "text": [
      "all the input array dimensions for the concatenation axis must match exactly, but along dimension 1, the array at index 0 has size 3 and the array at index 1 has size 5\n"
     ]
    }
   ],
   "source": [
    "try:\n",
    "    np.vstack((np.arange(3), a2))\n",
    "except ValueError as ex:\n",
    "    print(ex)"
   ],
   "metadata": {
    "collapsed": false,
    "ExecuteTime": {
     "end_time": "2023-11-06T13:42:18.114467Z",
     "start_time": "2023-11-06T13:42:18.102427600Z"
    }
   }
  },
  {
   "cell_type": "code",
   "execution_count": 114,
   "outputs": [],
   "source": [
    "a1 = np.array([1, 2, 3, 4])\n",
    "a2 = np.array([0.1, 0.2, 0.3, 0.4])\n",
    "result = np.vstack((a1, a2))"
   ],
   "metadata": {
    "collapsed": false,
    "ExecuteTime": {
     "end_time": "2023-11-06T13:44:09.694750400Z",
     "start_time": "2023-11-06T13:44:09.677055500Z"
    }
   }
  },
  {
   "cell_type": "code",
   "execution_count": 115,
   "outputs": [
    {
     "data": {
      "text/plain": "array([[1. , 2. , 3. , 4. ],\n       [0.1, 0.2, 0.3, 0.4]])"
     },
     "execution_count": 115,
     "metadata": {},
     "output_type": "execute_result"
    }
   ],
   "source": [
    "result"
   ],
   "metadata": {
    "collapsed": false,
    "ExecuteTime": {
     "end_time": "2023-11-06T13:44:14.333229100Z",
     "start_time": "2023-11-06T13:44:14.273930Z"
    }
   }
  },
  {
   "cell_type": "code",
   "execution_count": 116,
   "outputs": [
    {
     "data": {
      "text/plain": "dtype('float64')"
     },
     "execution_count": 116,
     "metadata": {},
     "output_type": "execute_result"
    }
   ],
   "source": [
    "result.dtype"
   ],
   "metadata": {
    "collapsed": false,
    "ExecuteTime": {
     "end_time": "2023-11-06T13:44:30.300400Z",
     "start_time": "2023-11-06T13:44:30.263399700Z"
    }
   }
  },
  {
   "cell_type": "code",
   "execution_count": 117,
   "outputs": [
    {
     "data": {
      "text/plain": "array([[0.  , 1.  , 2.  , 3.  , 4.  ],\n       [0.  , 0.25, 0.5 , 0.75, 1.  ],\n       [1.  , 0.  , 0.  , 0.  , 0.  ],\n       [0.  , 1.  , 0.  , 0.  , 0.  ],\n       [0.  , 0.  , 1.  , 0.  , 0.  ],\n       [0.  , 0.  , 0.  , 1.  , 0.  ],\n       [0.  , 0.  , 0.  , 0.  , 1.  ]])"
     },
     "execution_count": 117,
     "metadata": {},
     "output_type": "execute_result"
    }
   ],
   "source": [
    "np.vstack((\n",
    "    np.arange(5),\n",
    "    np.linspace(0, 1, 5),\n",
    "    np.eye(5)\n",
    "))"
   ],
   "metadata": {
    "collapsed": false,
    "ExecuteTime": {
     "end_time": "2023-11-06T13:45:47.602688600Z",
     "start_time": "2023-11-06T13:45:47.559290900Z"
    }
   }
  },
  {
   "cell_type": "code",
   "execution_count": 118,
   "outputs": [
    {
     "data": {
      "text/plain": "array([1, 2, 3, 4])"
     },
     "execution_count": 118,
     "metadata": {},
     "output_type": "execute_result"
    }
   ],
   "source": [
    "a1"
   ],
   "metadata": {
    "collapsed": false,
    "ExecuteTime": {
     "end_time": "2023-11-06T13:46:51.729200200Z",
     "start_time": "2023-11-06T13:46:51.669511400Z"
    }
   }
  },
  {
   "cell_type": "code",
   "execution_count": 121,
   "outputs": [],
   "source": [
    "a1 = np.array([1, 2], dtype=np.uint8)\n",
    "a2 = np.array([1, 2], dtype=np.uint64)\n",
    "a3 = np.array([1, 2], dtype=np.int32)\n",
    "\n"
   ],
   "metadata": {
    "collapsed": false,
    "ExecuteTime": {
     "end_time": "2023-11-06T13:48:11.060972100Z",
     "start_time": "2023-11-06T13:48:11.039567800Z"
    }
   }
  },
  {
   "cell_type": "code",
   "execution_count": 123,
   "outputs": [],
   "source": [
    "result = np.vstack([a1, a2, a3])"
   ],
   "metadata": {
    "collapsed": false,
    "ExecuteTime": {
     "end_time": "2023-11-06T13:48:47.250522100Z",
     "start_time": "2023-11-06T13:48:47.228408400Z"
    }
   }
  },
  {
   "cell_type": "code",
   "execution_count": 124,
   "outputs": [
    {
     "data": {
      "text/plain": "array([[1., 2.],\n       [1., 2.],\n       [1., 2.]])"
     },
     "execution_count": 124,
     "metadata": {},
     "output_type": "execute_result"
    }
   ],
   "source": [
    "result"
   ],
   "metadata": {
    "collapsed": false,
    "ExecuteTime": {
     "end_time": "2023-11-06T13:48:50.977106500Z",
     "start_time": "2023-11-06T13:48:50.926911200Z"
    }
   }
  },
  {
   "cell_type": "code",
   "execution_count": 125,
   "outputs": [
    {
     "data": {
      "text/plain": "array([1, 2], dtype=uint8)"
     },
     "execution_count": 125,
     "metadata": {},
     "output_type": "execute_result"
    }
   ],
   "source": [
    "a1"
   ],
   "metadata": {
    "collapsed": false,
    "ExecuteTime": {
     "end_time": "2023-11-06T13:49:58.594153200Z",
     "start_time": "2023-11-06T13:49:58.535995300Z"
    }
   }
  },
  {
   "cell_type": "code",
   "execution_count": 126,
   "outputs": [
    {
     "data": {
      "text/plain": "array([1., 2.], dtype=float32)"
     },
     "execution_count": 126,
     "metadata": {},
     "output_type": "execute_result"
    }
   ],
   "source": [
    "a1.astype(np.float32)"
   ],
   "metadata": {
    "collapsed": false,
    "ExecuteTime": {
     "end_time": "2023-11-06T13:50:19.955415600Z",
     "start_time": "2023-11-06T13:50:19.890638700Z"
    }
   }
  },
  {
   "cell_type": "code",
   "execution_count": 127,
   "outputs": [],
   "source": [
    "result = np.vstack(\n",
    "    (\n",
    "        a1.astype(np.int64),\n",
    "        a2.astype(np.int64),\n",
    "        a3.astype(np.int64)\n",
    "\n",
    "    )\n",
    ")"
   ],
   "metadata": {
    "collapsed": false,
    "ExecuteTime": {
     "end_time": "2023-11-06T13:52:26.329645700Z",
     "start_time": "2023-11-06T13:52:26.266704100Z"
    }
   }
  },
  {
   "cell_type": "code",
   "execution_count": 128,
   "outputs": [
    {
     "data": {
      "text/plain": "array([[1, 2],\n       [1, 2],\n       [1, 2]], dtype=int64)"
     },
     "execution_count": 128,
     "metadata": {},
     "output_type": "execute_result"
    }
   ],
   "source": [
    "result"
   ],
   "metadata": {
    "collapsed": false,
    "ExecuteTime": {
     "end_time": "2023-11-06T13:52:31.097101600Z",
     "start_time": "2023-11-06T13:52:31.045058900Z"
    }
   }
  },
  {
   "cell_type": "code",
   "execution_count": 129,
   "outputs": [
    {
     "data": {
      "text/plain": "dtype('int64')"
     },
     "execution_count": 129,
     "metadata": {},
     "output_type": "execute_result"
    }
   ],
   "source": [
    "result.dtype"
   ],
   "metadata": {
    "collapsed": false,
    "ExecuteTime": {
     "end_time": "2023-11-06T13:53:20.358963Z",
     "start_time": "2023-11-06T13:53:20.310928400Z"
    }
   }
  },
  {
   "cell_type": "code",
   "execution_count": 130,
   "outputs": [
    {
     "data": {
      "text/plain": "array([[0.        , 0.55555556],\n       [1.11111111, 1.66666667],\n       [2.22222222, 2.77777778],\n       [3.33333333, 3.88888889],\n       [4.44444444, 5.        ]])"
     },
     "execution_count": 130,
     "metadata": {},
     "output_type": "execute_result"
    }
   ],
   "source": [
    "a1 = np.linspace(0, 5, 10).reshape(5, 2)\n",
    "a1"
   ],
   "metadata": {
    "collapsed": false,
    "ExecuteTime": {
     "end_time": "2023-11-06T14:20:38.209046200Z",
     "start_time": "2023-11-06T14:20:38.161330700Z"
    }
   }
  },
  {
   "cell_type": "code",
   "execution_count": 132,
   "outputs": [
    {
     "data": {
      "text/plain": "array([[5, 0],\n       [3, 3],\n       [7, 9],\n       [3, 5],\n       [2, 4]])"
     },
     "execution_count": 132,
     "metadata": {},
     "output_type": "execute_result"
    }
   ],
   "source": [
    "np.random.seed(0)\n",
    "a2 = np.random.randint(0, 10, 10).reshape(5, 2)\n",
    "a2"
   ],
   "metadata": {
    "collapsed": false,
    "ExecuteTime": {
     "end_time": "2023-11-06T14:21:30.656561900Z",
     "start_time": "2023-11-06T14:21:30.628007Z"
    }
   }
  },
  {
   "cell_type": "code",
   "execution_count": 133,
   "outputs": [],
   "source": [
    "result = np.hstack((a1, a2))"
   ],
   "metadata": {
    "collapsed": false,
    "ExecuteTime": {
     "end_time": "2023-11-06T14:22:59.534815500Z",
     "start_time": "2023-11-06T14:22:59.451595Z"
    }
   }
  },
  {
   "cell_type": "code",
   "execution_count": 134,
   "outputs": [
    {
     "data": {
      "text/plain": "array([[0.        , 0.55555556, 5.        , 0.        ],\n       [1.11111111, 1.66666667, 3.        , 3.        ],\n       [2.22222222, 2.77777778, 7.        , 9.        ],\n       [3.33333333, 3.88888889, 3.        , 5.        ],\n       [4.44444444, 5.        , 2.        , 4.        ]])"
     },
     "execution_count": 134,
     "metadata": {},
     "output_type": "execute_result"
    }
   ],
   "source": [
    "result"
   ],
   "metadata": {
    "collapsed": false,
    "ExecuteTime": {
     "end_time": "2023-11-06T14:23:05.989959700Z",
     "start_time": "2023-11-06T14:23:05.908954100Z"
    }
   }
  },
  {
   "cell_type": "code",
   "execution_count": 136,
   "outputs": [
    {
     "data": {
      "text/plain": "3"
     },
     "execution_count": 136,
     "metadata": {},
     "output_type": "execute_result"
    }
   ],
   "source": [
    "a = [1, 2, 3, 4]\n",
    "a[2]"
   ],
   "metadata": {
    "collapsed": false,
    "ExecuteTime": {
     "end_time": "2023-11-06T14:25:25.657701600Z",
     "start_time": "2023-11-06T14:25:25.642703700Z"
    }
   }
  },
  {
   "cell_type": "code",
   "execution_count": 138,
   "outputs": [],
   "source": [
    "m = [\n",
    "    [1, 2, 3],\n",
    "    [4, 5, 6],\n",
    "    [7, 8, 9]\n",
    "]"
   ],
   "metadata": {
    "collapsed": false,
    "ExecuteTime": {
     "end_time": "2023-11-06T14:26:33.699442600Z",
     "start_time": "2023-11-06T14:26:33.661705800Z"
    }
   }
  },
  {
   "cell_type": "code",
   "execution_count": 139,
   "outputs": [
    {
     "data": {
      "text/plain": "[4, 5, 6]"
     },
     "execution_count": 139,
     "metadata": {},
     "output_type": "execute_result"
    }
   ],
   "source": [
    "m[1]"
   ],
   "metadata": {
    "collapsed": false,
    "ExecuteTime": {
     "end_time": "2023-11-06T14:26:40.830337900Z",
     "start_time": "2023-11-06T14:26:40.776094400Z"
    }
   }
  },
  {
   "cell_type": "code",
   "execution_count": 140,
   "outputs": [
    {
     "data": {
      "text/plain": "6"
     },
     "execution_count": 140,
     "metadata": {},
     "output_type": "execute_result"
    }
   ],
   "source": [
    "m[1][2]"
   ],
   "metadata": {
    "collapsed": false,
    "ExecuteTime": {
     "end_time": "2023-11-06T14:26:53.130967500Z",
     "start_time": "2023-11-06T14:26:53.076931500Z"
    }
   }
  },
  {
   "cell_type": "code",
   "execution_count": 141,
   "outputs": [
    {
     "data": {
      "text/plain": "[[1, 2, 3], [4, 5, 100], [7, 8, 9]]"
     },
     "execution_count": 141,
     "metadata": {},
     "output_type": "execute_result"
    }
   ],
   "source": [
    "m[1][2] = 100\n",
    "m"
   ],
   "metadata": {
    "collapsed": false,
    "ExecuteTime": {
     "end_time": "2023-11-06T14:27:14.739748900Z",
     "start_time": "2023-11-06T14:27:14.667619800Z"
    }
   }
  },
  {
   "cell_type": "code",
   "execution_count": 143,
   "outputs": [
    {
     "data": {
      "text/plain": "array([1, 2, 3])"
     },
     "execution_count": 143,
     "metadata": {},
     "output_type": "execute_result"
    }
   ],
   "source": [
    "a = np.array([1, 2, 3])\n",
    "a"
   ],
   "metadata": {
    "collapsed": false,
    "ExecuteTime": {
     "end_time": "2023-11-06T14:27:46.069529500Z",
     "start_time": "2023-11-06T14:27:46.038937300Z"
    }
   }
  },
  {
   "cell_type": "code",
   "execution_count": 144,
   "outputs": [
    {
     "data": {
      "text/plain": "1"
     },
     "execution_count": 144,
     "metadata": {},
     "output_type": "execute_result"
    }
   ],
   "source": [
    "a[0]"
   ],
   "metadata": {
    "collapsed": false,
    "ExecuteTime": {
     "end_time": "2023-11-06T14:27:51.709619100Z",
     "start_time": "2023-11-06T14:27:51.663587400Z"
    }
   }
  },
  {
   "cell_type": "code",
   "execution_count": 145,
   "outputs": [],
   "source": [
    "a[1] = 200"
   ],
   "metadata": {
    "collapsed": false,
    "ExecuteTime": {
     "end_time": "2023-11-06T14:27:59.262649600Z",
     "start_time": "2023-11-06T14:27:59.213636700Z"
    }
   }
  },
  {
   "cell_type": "code",
   "execution_count": 146,
   "outputs": [
    {
     "data": {
      "text/plain": "array([  1, 200,   3])"
     },
     "execution_count": 146,
     "metadata": {},
     "output_type": "execute_result"
    }
   ],
   "source": [
    "a"
   ],
   "metadata": {
    "collapsed": false,
    "ExecuteTime": {
     "end_time": "2023-11-06T14:28:01.851471100Z",
     "start_time": "2023-11-06T14:28:01.803480800Z"
    }
   }
  },
  {
   "cell_type": "code",
   "execution_count": 147,
   "outputs": [
    {
     "data": {
      "text/plain": "array([[1., 0., 0.],\n       [0., 1., 0.],\n       [0., 0., 1.]])"
     },
     "execution_count": 147,
     "metadata": {},
     "output_type": "execute_result"
    }
   ],
   "source": [
    "m = np.eye(3)\n",
    "m"
   ],
   "metadata": {
    "collapsed": false,
    "ExecuteTime": {
     "end_time": "2023-11-06T14:28:25.845436800Z",
     "start_time": "2023-11-06T14:28:25.794400800Z"
    }
   }
  },
  {
   "cell_type": "code",
   "execution_count": 148,
   "outputs": [
    {
     "data": {
      "text/plain": "1.0"
     },
     "execution_count": 148,
     "metadata": {},
     "output_type": "execute_result"
    }
   ],
   "source": [
    "m[1][1]"
   ],
   "metadata": {
    "collapsed": false,
    "ExecuteTime": {
     "end_time": "2023-11-06T14:28:42.113433800Z",
     "start_time": "2023-11-06T14:28:42.048162300Z"
    }
   }
  },
  {
   "cell_type": "code",
   "execution_count": 149,
   "outputs": [
    {
     "data": {
      "text/plain": "array([[  1.,   0.,   0.],\n       [  0.,   1., 100.],\n       [  0.,   0.,   1.]])"
     },
     "execution_count": 149,
     "metadata": {},
     "output_type": "execute_result"
    }
   ],
   "source": [
    "m[1][2] = 100\n",
    "m"
   ],
   "metadata": {
    "collapsed": false,
    "ExecuteTime": {
     "end_time": "2023-11-06T14:28:54.502953900Z",
     "start_time": "2023-11-06T14:28:54.449276600Z"
    }
   }
  },
  {
   "cell_type": "code",
   "execution_count": 150,
   "outputs": [
    {
     "data": {
      "text/plain": "100.0"
     },
     "execution_count": 150,
     "metadata": {},
     "output_type": "execute_result"
    }
   ],
   "source": [
    "m[1, 2]"
   ],
   "metadata": {
    "collapsed": false,
    "ExecuteTime": {
     "end_time": "2023-11-06T14:29:42.692967500Z",
     "start_time": "2023-11-06T14:29:42.616001900Z"
    }
   }
  },
  {
   "cell_type": "code",
   "execution_count": 152,
   "outputs": [
    {
     "data": {
      "text/plain": "array([[  1.,   0.,   0.],\n       [  0.,   1., 300.],\n       [  0.,   0.,   1.]])"
     },
     "execution_count": 152,
     "metadata": {},
     "output_type": "execute_result"
    }
   ],
   "source": [
    "m[1, 2] = 300\n",
    "m"
   ],
   "metadata": {
    "collapsed": false,
    "ExecuteTime": {
     "end_time": "2023-11-06T14:30:06.795980200Z",
     "start_time": "2023-11-06T14:30:06.748734300Z"
    }
   }
  },
  {
   "cell_type": "code",
   "execution_count": 153,
   "outputs": [],
   "source": [
    "arr = np.array([1, 2, 3, 4], dtype=np.uint8)"
   ],
   "metadata": {
    "collapsed": false,
    "ExecuteTime": {
     "end_time": "2023-11-06T14:31:32.939579800Z",
     "start_time": "2023-11-06T14:31:32.865623300Z"
    }
   }
  },
  {
   "cell_type": "code",
   "execution_count": 154,
   "outputs": [],
   "source": [
    "arr[3] = -100"
   ],
   "metadata": {
    "collapsed": false,
    "ExecuteTime": {
     "end_time": "2023-11-06T14:31:51.259457900Z",
     "start_time": "2023-11-06T14:31:51.174417500Z"
    }
   }
  },
  {
   "cell_type": "code",
   "execution_count": 155,
   "outputs": [
    {
     "data": {
      "text/plain": "array([  1,   2,   3, 156], dtype=uint8)"
     },
     "execution_count": 155,
     "metadata": {},
     "output_type": "execute_result"
    }
   ],
   "source": [
    "arr"
   ],
   "metadata": {
    "collapsed": false,
    "ExecuteTime": {
     "end_time": "2023-11-06T14:32:03.611729200Z",
     "start_time": "2023-11-06T14:32:03.553738500Z"
    }
   }
  },
  {
   "cell_type": "code",
   "execution_count": 156,
   "outputs": [
    {
     "data": {
      "text/plain": "[1, 2, 3]"
     },
     "execution_count": 156,
     "metadata": {},
     "output_type": "execute_result"
    }
   ],
   "source": [
    "l = [1, 2, 3, 4, 5, 6]\n",
    "l[0:3]"
   ],
   "metadata": {
    "collapsed": false,
    "ExecuteTime": {
     "end_time": "2023-11-06T14:40:39.212229600Z",
     "start_time": "2023-11-06T14:40:39.115523400Z"
    }
   }
  },
  {
   "cell_type": "code",
   "execution_count": 157,
   "outputs": [
    {
     "data": {
      "text/plain": "[1, 3, 5]"
     },
     "execution_count": 157,
     "metadata": {},
     "output_type": "execute_result"
    }
   ],
   "source": [
    "l[0::2]"
   ],
   "metadata": {
    "collapsed": false,
    "ExecuteTime": {
     "end_time": "2023-11-06T14:40:54.607002600Z",
     "start_time": "2023-11-06T14:40:54.545000700Z"
    }
   }
  },
  {
   "cell_type": "code",
   "execution_count": 158,
   "outputs": [
    {
     "data": {
      "text/plain": "[6, 5, 4, 3, 2, 1]"
     },
     "execution_count": 158,
     "metadata": {},
     "output_type": "execute_result"
    }
   ],
   "source": [
    "l[::-1]"
   ],
   "metadata": {
    "collapsed": false,
    "ExecuteTime": {
     "end_time": "2023-11-06T14:41:15.094640700Z",
     "start_time": "2023-11-06T14:41:15.036605600Z"
    }
   }
  },
  {
   "cell_type": "code",
   "execution_count": 160,
   "outputs": [],
   "source": [
    "arr = np.array(l)"
   ],
   "metadata": {
    "collapsed": false,
    "ExecuteTime": {
     "end_time": "2023-11-06T14:41:47.726758600Z",
     "start_time": "2023-11-06T14:41:47.709020900Z"
    }
   }
  },
  {
   "cell_type": "code",
   "execution_count": 161,
   "outputs": [
    {
     "data": {
      "text/plain": "array([1, 2, 3, 4, 5, 6])"
     },
     "execution_count": 161,
     "metadata": {},
     "output_type": "execute_result"
    }
   ],
   "source": [
    "arr"
   ],
   "metadata": {
    "collapsed": false,
    "ExecuteTime": {
     "end_time": "2023-11-06T14:41:50.743568500Z",
     "start_time": "2023-11-06T14:41:50.675854100Z"
    }
   }
  },
  {
   "cell_type": "code",
   "execution_count": 162,
   "outputs": [
    {
     "data": {
      "text/plain": "array([1, 3, 5])"
     },
     "execution_count": 162,
     "metadata": {},
     "output_type": "execute_result"
    }
   ],
   "source": [
    "arr[0::2]"
   ],
   "metadata": {
    "collapsed": false,
    "ExecuteTime": {
     "end_time": "2023-11-06T14:42:12.604950600Z",
     "start_time": "2023-11-06T14:42:12.509950Z"
    }
   }
  },
  {
   "cell_type": "code",
   "execution_count": 163,
   "outputs": [
    {
     "data": {
      "text/plain": "array([6, 5, 4, 3, 2, 1])"
     },
     "execution_count": 163,
     "metadata": {},
     "output_type": "execute_result"
    }
   ],
   "source": [
    "arr[::-1]"
   ],
   "metadata": {
    "collapsed": false,
    "ExecuteTime": {
     "end_time": "2023-11-06T14:42:30.695045100Z",
     "start_time": "2023-11-06T14:42:30.638045500Z"
    }
   }
  },
  {
   "cell_type": "code",
   "execution_count": 164,
   "outputs": [
    {
     "data": {
      "text/plain": "[1, 2, 3, 4, 5, 6]"
     },
     "execution_count": 164,
     "metadata": {},
     "output_type": "execute_result"
    }
   ],
   "source": [
    "l"
   ],
   "metadata": {
    "collapsed": false,
    "ExecuteTime": {
     "end_time": "2023-11-06T14:42:48.098851700Z",
     "start_time": "2023-11-06T14:42:48.044150200Z"
    }
   }
  },
  {
   "cell_type": "code",
   "execution_count": 165,
   "outputs": [
    {
     "data": {
      "text/plain": "[1, 2]"
     },
     "execution_count": 165,
     "metadata": {},
     "output_type": "execute_result"
    }
   ],
   "source": [
    "slice_ = l[0:2]\n",
    "slice_"
   ],
   "metadata": {
    "collapsed": false,
    "ExecuteTime": {
     "end_time": "2023-11-06T14:43:08.711564900Z",
     "start_time": "2023-11-06T14:43:08.628639700Z"
    }
   }
  },
  {
   "cell_type": "code",
   "execution_count": 166,
   "outputs": [],
   "source": [
    "slice_[0] = 100"
   ],
   "metadata": {
    "collapsed": false,
    "ExecuteTime": {
     "end_time": "2023-11-06T14:43:37.297093Z",
     "start_time": "2023-11-06T14:43:37.226049800Z"
    }
   }
  },
  {
   "cell_type": "code",
   "execution_count": 168,
   "outputs": [
    {
     "data": {
      "text/plain": "[100, 2]"
     },
     "execution_count": 168,
     "metadata": {},
     "output_type": "execute_result"
    }
   ],
   "source": [
    "slice_"
   ],
   "metadata": {
    "collapsed": false,
    "ExecuteTime": {
     "end_time": "2023-11-06T14:44:10.501483900Z",
     "start_time": "2023-11-06T14:44:10.476215400Z"
    }
   }
  },
  {
   "cell_type": "code",
   "execution_count": 169,
   "outputs": [
    {
     "data": {
      "text/plain": "[1, 2, 3, 4, 5, 6]"
     },
     "execution_count": 169,
     "metadata": {},
     "output_type": "execute_result"
    }
   ],
   "source": [
    "l"
   ],
   "metadata": {
    "collapsed": false,
    "ExecuteTime": {
     "end_time": "2023-11-06T14:44:47.716599500Z",
     "start_time": "2023-11-06T14:44:47.664566Z"
    }
   }
  },
  {
   "cell_type": "code",
   "execution_count": 170,
   "outputs": [
    {
     "data": {
      "text/plain": "array([1, 2, 3, 4, 5, 6])"
     },
     "execution_count": 170,
     "metadata": {},
     "output_type": "execute_result"
    }
   ],
   "source": [
    "arr = np.array(l)\n",
    "arr"
   ],
   "metadata": {
    "collapsed": false,
    "ExecuteTime": {
     "end_time": "2023-11-06T14:45:04.243448600Z",
     "start_time": "2023-11-06T14:45:04.175303600Z"
    }
   }
  },
  {
   "cell_type": "code",
   "execution_count": 171,
   "outputs": [
    {
     "data": {
      "text/plain": "array([1, 2])"
     },
     "execution_count": 171,
     "metadata": {},
     "output_type": "execute_result"
    }
   ],
   "source": [
    "slice_ = arr[0:2]\n",
    "slice_"
   ],
   "metadata": {
    "collapsed": false,
    "ExecuteTime": {
     "end_time": "2023-11-06T14:45:52.853602500Z",
     "start_time": "2023-11-06T14:45:52.776662200Z"
    }
   }
  },
  {
   "cell_type": "code",
   "execution_count": 172,
   "outputs": [
    {
     "data": {
      "text/plain": "array([100,   2])"
     },
     "execution_count": 172,
     "metadata": {},
     "output_type": "execute_result"
    }
   ],
   "source": [
    "slice_[0] = 100\n",
    "slice_"
   ],
   "metadata": {
    "collapsed": false,
    "ExecuteTime": {
     "end_time": "2023-11-06T14:46:20.977608700Z",
     "start_time": "2023-11-06T14:46:20.894893700Z"
    }
   }
  },
  {
   "cell_type": "code",
   "execution_count": 173,
   "outputs": [
    {
     "data": {
      "text/plain": "[1, 2, 3, 4, 5, 6]"
     },
     "execution_count": 173,
     "metadata": {},
     "output_type": "execute_result"
    }
   ],
   "source": [
    "l"
   ],
   "metadata": {
    "collapsed": false,
    "ExecuteTime": {
     "end_time": "2023-11-06T14:47:11.085012700Z",
     "start_time": "2023-11-06T14:47:11.004608800Z"
    }
   }
  },
  {
   "cell_type": "code",
   "execution_count": 174,
   "outputs": [
    {
     "data": {
      "text/plain": "array([100,   2,   3,   4,   5,   6])"
     },
     "execution_count": 174,
     "metadata": {},
     "output_type": "execute_result"
    }
   ],
   "source": [
    "arr"
   ],
   "metadata": {
    "collapsed": false,
    "ExecuteTime": {
     "end_time": "2023-11-06T14:47:26.355274400Z",
     "start_time": "2023-11-06T14:47:26.281272200Z"
    }
   }
  },
  {
   "cell_type": "code",
   "execution_count": 176,
   "outputs": [],
   "source": [
    "arr = np.arange(1, 7)\n",
    "slice_ = arr[3:]"
   ],
   "metadata": {
    "collapsed": false,
    "ExecuteTime": {
     "end_time": "2023-11-06T14:48:16.591677400Z",
     "start_time": "2023-11-06T14:48:16.559640200Z"
    }
   }
  },
  {
   "cell_type": "code",
   "execution_count": 177,
   "outputs": [
    {
     "data": {
      "text/plain": "array([4, 5, 6])"
     },
     "execution_count": 177,
     "metadata": {},
     "output_type": "execute_result"
    }
   ],
   "source": [
    "slice_"
   ],
   "metadata": {
    "collapsed": false,
    "ExecuteTime": {
     "end_time": "2023-11-06T14:48:25.363888Z",
     "start_time": "2023-11-06T14:48:25.311881800Z"
    }
   }
  },
  {
   "cell_type": "code",
   "execution_count": 178,
   "outputs": [
    {
     "data": {
      "text/plain": "array([ 1,  2,  3,  4,  5, 60])"
     },
     "execution_count": 178,
     "metadata": {},
     "output_type": "execute_result"
    }
   ],
   "source": [
    "arr[-1] = 60\n",
    "arr"
   ],
   "metadata": {
    "collapsed": false,
    "ExecuteTime": {
     "end_time": "2023-11-06T14:48:49.844560800Z",
     "start_time": "2023-11-06T14:48:49.781217200Z"
    }
   }
  },
  {
   "cell_type": "code",
   "execution_count": 179,
   "outputs": [
    {
     "data": {
      "text/plain": "array([ 4,  5, 60])"
     },
     "execution_count": 179,
     "metadata": {},
     "output_type": "execute_result"
    }
   ],
   "source": [
    "slice_"
   ],
   "metadata": {
    "collapsed": false,
    "ExecuteTime": {
     "end_time": "2023-11-06T14:49:05.737565900Z",
     "start_time": "2023-11-06T14:49:05.675545700Z"
    }
   }
  },
  {
   "cell_type": "code",
   "execution_count": 180,
   "outputs": [
    {
     "data": {
      "text/plain": "array([4, 5, 6])"
     },
     "execution_count": 180,
     "metadata": {},
     "output_type": "execute_result"
    }
   ],
   "source": [
    "arr = np.arange(1, 7)\n",
    "slice_ = arr[3:].copy()\n",
    "slice_\n"
   ],
   "metadata": {
    "collapsed": false,
    "ExecuteTime": {
     "end_time": "2023-11-06T14:50:19.813414500Z",
     "start_time": "2023-11-06T14:50:19.714416100Z"
    }
   }
  },
  {
   "cell_type": "code",
   "execution_count": 181,
   "outputs": [],
   "source": [
    "slice_[-1] = 60"
   ],
   "metadata": {
    "collapsed": false,
    "ExecuteTime": {
     "end_time": "2023-11-06T14:51:00.031158Z",
     "start_time": "2023-11-06T14:50:59.931961Z"
    }
   }
  },
  {
   "cell_type": "code",
   "execution_count": 182,
   "outputs": [
    {
     "data": {
      "text/plain": "array([ 4,  5, 60])"
     },
     "execution_count": 182,
     "metadata": {},
     "output_type": "execute_result"
    }
   ],
   "source": [
    "slice_"
   ],
   "metadata": {
    "collapsed": false,
    "ExecuteTime": {
     "end_time": "2023-11-06T14:51:05.610627Z",
     "start_time": "2023-11-06T14:51:05.510624700Z"
    }
   }
  },
  {
   "cell_type": "code",
   "execution_count": 183,
   "outputs": [
    {
     "data": {
      "text/plain": "array([1, 2, 3, 4, 5, 6])"
     },
     "execution_count": 183,
     "metadata": {},
     "output_type": "execute_result"
    }
   ],
   "source": [
    "arr"
   ],
   "metadata": {
    "collapsed": false,
    "ExecuteTime": {
     "end_time": "2023-11-06T14:51:13.342681500Z",
     "start_time": "2023-11-06T14:51:13.245678200Z"
    }
   }
  },
  {
   "cell_type": "code",
   "execution_count": 211,
   "outputs": [],
   "source": [
    "arr = np.random.randint(1, 7, (2, 5))"
   ],
   "metadata": {
    "collapsed": false,
    "ExecuteTime": {
     "end_time": "2023-11-06T15:07:48.311430200Z",
     "start_time": "2023-11-06T15:07:48.222425900Z"
    }
   }
  },
  {
   "cell_type": "code",
   "execution_count": 212,
   "outputs": [
    {
     "data": {
      "text/plain": "array([[6, 1, 2, 5, 4],\n       [1, 4, 6, 1, 3]])"
     },
     "execution_count": 212,
     "metadata": {},
     "output_type": "execute_result"
    }
   ],
   "source": [
    "arr"
   ],
   "metadata": {
    "collapsed": false,
    "ExecuteTime": {
     "end_time": "2023-11-06T15:07:50.622989900Z",
     "start_time": "2023-11-06T15:07:50.570007100Z"
    }
   }
  },
  {
   "cell_type": "code",
   "execution_count": 215,
   "outputs": [
    {
     "data": {
      "text/plain": "array([10, 20, 30, 40, 50, 60, 70, 80, 90])"
     },
     "execution_count": 215,
     "metadata": {},
     "output_type": "execute_result"
    }
   ],
   "source": [
    "arr = np.arange(10, 100, 10)\n",
    "arr"
   ],
   "metadata": {
    "collapsed": false,
    "ExecuteTime": {
     "end_time": "2023-11-06T15:11:17.571995400Z",
     "start_time": "2023-11-06T15:11:17.528998700Z"
    }
   }
  },
  {
   "cell_type": "code",
   "execution_count": 216,
   "outputs": [],
   "source": [
    "sub = np.array([arr[0], arr[2], arr[3]])"
   ],
   "metadata": {
    "collapsed": false,
    "ExecuteTime": {
     "end_time": "2023-11-06T15:12:31.136860700Z",
     "start_time": "2023-11-06T15:12:31.051854400Z"
    }
   }
  },
  {
   "cell_type": "code",
   "execution_count": 217,
   "outputs": [
    {
     "data": {
      "text/plain": "array([10, 30, 40])"
     },
     "execution_count": 217,
     "metadata": {},
     "output_type": "execute_result"
    }
   ],
   "source": [
    "sub"
   ],
   "metadata": {
    "collapsed": false,
    "ExecuteTime": {
     "end_time": "2023-11-06T15:12:34.210149100Z",
     "start_time": "2023-11-06T15:12:34.136961800Z"
    }
   }
  },
  {
   "cell_type": "code",
   "execution_count": 218,
   "outputs": [],
   "source": [
    "sub = arr[np.array([0, 2, 3])]"
   ],
   "metadata": {
    "collapsed": false,
    "ExecuteTime": {
     "end_time": "2023-11-06T15:13:37.796619600Z",
     "start_time": "2023-11-06T15:13:37.718552600Z"
    }
   }
  },
  {
   "cell_type": "code",
   "execution_count": 219,
   "outputs": [
    {
     "data": {
      "text/plain": "array([10, 30, 40])"
     },
     "execution_count": 219,
     "metadata": {},
     "output_type": "execute_result"
    }
   ],
   "source": [
    "sub"
   ],
   "metadata": {
    "collapsed": false,
    "ExecuteTime": {
     "end_time": "2023-11-06T15:13:41.552858600Z",
     "start_time": "2023-11-06T15:13:41.494851800Z"
    }
   }
  },
  {
   "cell_type": "code",
   "execution_count": 222,
   "outputs": [],
   "source": [
    "try:\n",
    "    sub = arr[[0, 2, 3]]\n",
    "except Exception as ex:\n",
    "    print(type(ex), ex)"
   ],
   "metadata": {
    "collapsed": false,
    "ExecuteTime": {
     "end_time": "2023-11-06T15:16:56.232495900Z",
     "start_time": "2023-11-06T15:16:56.189141300Z"
    }
   }
  },
  {
   "cell_type": "code",
   "execution_count": 223,
   "outputs": [
    {
     "data": {
      "text/plain": "array([10, 30, 40])"
     },
     "execution_count": 223,
     "metadata": {},
     "output_type": "execute_result"
    }
   ],
   "source": [
    "sub"
   ],
   "metadata": {
    "collapsed": false,
    "ExecuteTime": {
     "end_time": "2023-11-06T15:16:58.522273300Z",
     "start_time": "2023-11-06T15:16:58.425538100Z"
    }
   }
  },
  {
   "cell_type": "code",
   "execution_count": 224,
   "outputs": [
    {
     "data": {
      "text/plain": "array([10, 20, 30, 40, 50, 60, 70, 80, 90])"
     },
     "execution_count": 224,
     "metadata": {},
     "output_type": "execute_result"
    }
   ],
   "source": [
    "arr"
   ],
   "metadata": {
    "collapsed": false,
    "ExecuteTime": {
     "end_time": "2023-11-06T15:17:51.104363900Z",
     "start_time": "2023-11-06T15:17:51.013736700Z"
    }
   }
  },
  {
   "cell_type": "code",
   "execution_count": 225,
   "outputs": [
    {
     "data": {
      "text/plain": "array([10, 30, 40])"
     },
     "execution_count": 225,
     "metadata": {},
     "output_type": "execute_result"
    }
   ],
   "source": [
    "sub"
   ],
   "metadata": {
    "collapsed": false,
    "ExecuteTime": {
     "end_time": "2023-11-06T15:17:58.092573900Z",
     "start_time": "2023-11-06T15:17:58.012587200Z"
    }
   }
  },
  {
   "cell_type": "code",
   "execution_count": 226,
   "outputs": [],
   "source": [
    "sub[1] = 300"
   ],
   "metadata": {
    "collapsed": false,
    "ExecuteTime": {
     "end_time": "2023-11-06T15:18:08.033053500Z",
     "start_time": "2023-11-06T15:18:07.949086100Z"
    }
   }
  },
  {
   "cell_type": "code",
   "execution_count": 227,
   "outputs": [
    {
     "data": {
      "text/plain": "array([ 10, 300,  40])"
     },
     "execution_count": 227,
     "metadata": {},
     "output_type": "execute_result"
    }
   ],
   "source": [
    "sub"
   ],
   "metadata": {
    "collapsed": false,
    "ExecuteTime": {
     "end_time": "2023-11-06T15:18:11.238138400Z",
     "start_time": "2023-11-06T15:18:11.136911800Z"
    }
   }
  },
  {
   "cell_type": "code",
   "execution_count": 228,
   "outputs": [
    {
     "data": {
      "text/plain": "array([10, 20, 30, 40, 50, 60, 70, 80, 90])"
     },
     "execution_count": 228,
     "metadata": {},
     "output_type": "execute_result"
    }
   ],
   "source": [
    "arr"
   ],
   "metadata": {
    "collapsed": false,
    "ExecuteTime": {
     "end_time": "2023-11-06T15:18:20.049530500Z",
     "start_time": "2023-11-06T15:18:19.972007600Z"
    }
   }
  },
  {
   "cell_type": "code",
   "execution_count": 229,
   "outputs": [],
   "source": [
    "arr = np.arange(1, 10)"
   ],
   "metadata": {
    "collapsed": false,
    "ExecuteTime": {
     "end_time": "2023-11-06T15:19:03.978709200Z",
     "start_time": "2023-11-06T15:19:03.906657200Z"
    }
   }
  },
  {
   "cell_type": "code",
   "execution_count": 230,
   "outputs": [
    {
     "data": {
      "text/plain": "array([1, 2, 3, 4, 5, 6, 7, 8, 9])"
     },
     "execution_count": 230,
     "metadata": {},
     "output_type": "execute_result"
    }
   ],
   "source": [
    "arr"
   ],
   "metadata": {
    "collapsed": false,
    "ExecuteTime": {
     "end_time": "2023-11-06T15:19:08.476191400Z",
     "start_time": "2023-11-06T15:19:08.397156300Z"
    }
   }
  },
  {
   "cell_type": "code",
   "execution_count": 231,
   "outputs": [
    {
     "data": {
      "text/plain": "array([1, 2, 2, 6])"
     },
     "execution_count": 231,
     "metadata": {},
     "output_type": "execute_result"
    }
   ],
   "source": [
    "arr[np.array([0, 1, 1, 5])]"
   ],
   "metadata": {
    "collapsed": false,
    "ExecuteTime": {
     "end_time": "2023-11-06T15:19:32.330171800Z",
     "start_time": "2023-11-06T15:19:32.268318700Z"
    }
   }
  },
  {
   "cell_type": "code",
   "execution_count": 232,
   "outputs": [
    {
     "data": {
      "text/plain": "array([[1, 2],\n       [2, 6]])"
     },
     "execution_count": 232,
     "metadata": {},
     "output_type": "execute_result"
    }
   ],
   "source": [
    "arr[np.array(\n",
    "    [\n",
    "        [0, 1],\n",
    "        [1, 5]\n",
    "    ]\n",
    ")]"
   ],
   "metadata": {
    "collapsed": false,
    "ExecuteTime": {
     "end_time": "2023-11-06T15:23:21.041504600Z",
     "start_time": "2023-11-06T15:23:20.971537500Z"
    }
   }
  },
  {
   "cell_type": "code",
   "execution_count": 233,
   "outputs": [],
   "source": [
    "m = np.arange(25).reshape(5, 5)"
   ],
   "metadata": {
    "collapsed": false,
    "ExecuteTime": {
     "end_time": "2023-11-06T15:25:07.940041500Z",
     "start_time": "2023-11-06T15:25:07.867053900Z"
    }
   }
  },
  {
   "cell_type": "code",
   "execution_count": 234,
   "outputs": [
    {
     "data": {
      "text/plain": "array([[ 0,  1,  2,  3,  4],\n       [ 5,  6,  7,  8,  9],\n       [10, 11, 12, 13, 14],\n       [15, 16, 17, 18, 19],\n       [20, 21, 22, 23, 24]])"
     },
     "execution_count": 234,
     "metadata": {},
     "output_type": "execute_result"
    }
   ],
   "source": [
    "m"
   ],
   "metadata": {
    "collapsed": false,
    "ExecuteTime": {
     "end_time": "2023-11-06T15:25:10.910449700Z",
     "start_time": "2023-11-06T15:25:10.825699100Z"
    }
   }
  },
  {
   "cell_type": "code",
   "execution_count": 235,
   "outputs": [],
   "source": [
    "sub = m[\n",
    "    [0, 1, 3],\n",
    "]"
   ],
   "metadata": {
    "collapsed": false,
    "ExecuteTime": {
     "end_time": "2023-11-06T15:26:22.425911900Z",
     "start_time": "2023-11-06T15:26:22.355895800Z"
    }
   }
  },
  {
   "cell_type": "code",
   "execution_count": 236,
   "outputs": [
    {
     "data": {
      "text/plain": "array([[ 0,  1,  2,  3,  4],\n       [ 5,  6,  7,  8,  9],\n       [15, 16, 17, 18, 19]])"
     },
     "execution_count": 236,
     "metadata": {},
     "output_type": "execute_result"
    }
   ],
   "source": [
    "sub"
   ],
   "metadata": {
    "collapsed": false,
    "ExecuteTime": {
     "end_time": "2023-11-06T15:26:25.088381900Z",
     "start_time": "2023-11-06T15:26:25.019797500Z"
    }
   }
  },
  {
   "cell_type": "code",
   "execution_count": 237,
   "outputs": [
    {
     "data": {
      "text/plain": "array([ 2,  7, 17])"
     },
     "execution_count": 237,
     "metadata": {},
     "output_type": "execute_result"
    }
   ],
   "source": [
    "m[[0, 1, 3], 2]"
   ],
   "metadata": {
    "collapsed": false,
    "ExecuteTime": {
     "end_time": "2023-11-06T15:27:36.070515700Z",
     "start_time": "2023-11-06T15:27:36.002515700Z"
    }
   }
  },
  {
   "cell_type": "code",
   "execution_count": 238,
   "outputs": [
    {
     "data": {
      "text/plain": "array([[ 0,  2,  4],\n       [ 5,  7,  9],\n       [15, 17, 19]])"
     },
     "execution_count": 238,
     "metadata": {},
     "output_type": "execute_result"
    }
   ],
   "source": [
    "m[[0, 1, 3], 0::2]"
   ],
   "metadata": {
    "collapsed": false,
    "ExecuteTime": {
     "end_time": "2023-11-06T15:29:19.952060700Z",
     "start_time": "2023-11-06T15:29:19.847063100Z"
    }
   }
  },
  {
   "cell_type": "code",
   "execution_count": 239,
   "outputs": [],
   "source": [
    "import csv"
   ],
   "metadata": {
    "collapsed": false,
    "ExecuteTime": {
     "end_time": "2023-11-07T13:03:10.190820500Z",
     "start_time": "2023-11-07T13:03:10.089372900Z"
    }
   }
  },
  {
   "cell_type": "code",
   "execution_count": 242,
   "outputs": [],
   "source": [
    "with open('AAPL.csv') as f:\n",
    "    reader = csv.reader(f, skipinitialspace=True)\n",
    "    headers = next(reader)\n",
    "    data = list(reader)"
   ],
   "metadata": {
    "collapsed": false,
    "ExecuteTime": {
     "end_time": "2023-11-07T13:05:38.911671200Z",
     "start_time": "2023-11-07T13:05:38.872556100Z"
    }
   }
  },
  {
   "cell_type": "code",
   "execution_count": 243,
   "outputs": [
    {
     "data": {
      "text/plain": "['Symbol', 'Date', 'Close', 'Volume', 'Open', 'High', 'Low']"
     },
     "execution_count": 243,
     "metadata": {},
     "output_type": "execute_result"
    }
   ],
   "source": [
    "headers"
   ],
   "metadata": {
    "collapsed": false,
    "ExecuteTime": {
     "end_time": "2023-11-07T13:05:51.573046300Z",
     "start_time": "2023-11-07T13:05:51.483399900Z"
    }
   }
  },
  {
   "cell_type": "code",
   "execution_count": 244,
   "outputs": [
    {
     "data": {
      "text/plain": "[['AAPL', '10/29/2020', '115.32', '146129200', '112.37', '116.93', '112.2'],\n ['AAPL', '10/28/2020', '111.2', '143937800', '115.05', '115.43', '111.1'],\n ['AAPL', '10/27/2020', '116.6', '92276770', '115.49', '117.28', '114.5399'],\n ['AAPL', '10/26/2020', '115.05', '111850700', '114.01', '116.55', '112.88'],\n ['AAPL', '10/23/2020', '115.04', '82572650', '116.39', '116.55', '114.28'],\n ['AAPL', '10/22/2020', '115.75', '101988000', '117.45', '118.04', '114.59'],\n ['AAPL', '10/21/2020', '116.87', '89945980', '116.67', '118.705', '116.45'],\n ['AAPL', '10/20/2020', '117.51', '124423700', '116.2', '118.98', '115.63'],\n ['AAPL', '10/19/2020', '115.98', '120639300', '119.96', '120.419', '115.66'],\n ['AAPL', '10/16/2020', '119.02', '115393800', '121.28', '121.548', '118.81'],\n ['AAPL', '10/15/2020', '120.71', '112559200', '118.72', '121.2', '118.15'],\n ['AAPL', '10/14/2020', '121.19', '151062300', '121', '123.03', '119.62'],\n ['AAPL', '10/13/2020', '121.1', '262330500', '125.27', '125.39', '119.65'],\n ['AAPL', '10/12/2020', '124.4', '240226800', '120.06', '125.18', '119.2845'],\n ['AAPL', '10/09/2020', '116.97', '100506900', '115.28', '117', '114.92'],\n ['AAPL', '10/08/2020', '114.97', '83477150', '116.25', '116.4', '114.5901'],\n ['AAPL', '10/07/2020', '115.08', '96848990', '114.62', '115.55', '114.13'],\n ['AAPL', '10/06/2020', '113.16', '161498200', '115.7', '116.12', '112.25'],\n ['AAPL', '10/05/2020', '116.5', '106243800', '113.91', '116.65', '113.55'],\n ['AAPL', '10/02/2020', '113.02', '144712000', '112.89', '115.37', '112.22'],\n ['AAPL', '10/01/2020', '116.79', '116120400', '117.64', '117.72', '115.83'],\n ['AAPL', '09/30/2020', '115.81', '142675200', '113.79', '117.26', '113.62'],\n ['AAPL', '09/29/2020', '114.09', '100060500', '114.55', '115.31', '113.57']]"
     },
     "execution_count": 244,
     "metadata": {},
     "output_type": "execute_result"
    }
   ],
   "source": [
    "data"
   ],
   "metadata": {
    "collapsed": false,
    "ExecuteTime": {
     "end_time": "2023-11-07T13:06:11.378724300Z",
     "start_time": "2023-11-07T13:06:11.322719200Z"
    }
   }
  },
  {
   "cell_type": "code",
   "execution_count": 245,
   "outputs": [
    {
     "data": {
      "text/plain": "array([['AAPL', '10/29/2020', '115.32', '146129200', '112.37', '116.93',\n        '112.2'],\n       ['AAPL', '10/28/2020', '111.2', '143937800', '115.05', '115.43',\n        '111.1'],\n       ['AAPL', '10/27/2020', '116.6', '92276770', '115.49', '117.28',\n        '114.5399'],\n       ['AAPL', '10/26/2020', '115.05', '111850700', '114.01', '116.55',\n        '112.88'],\n       ['AAPL', '10/23/2020', '115.04', '82572650', '116.39', '116.55',\n        '114.28'],\n       ['AAPL', '10/22/2020', '115.75', '101988000', '117.45', '118.04',\n        '114.59'],\n       ['AAPL', '10/21/2020', '116.87', '89945980', '116.67', '118.705',\n        '116.45'],\n       ['AAPL', '10/20/2020', '117.51', '124423700', '116.2', '118.98',\n        '115.63'],\n       ['AAPL', '10/19/2020', '115.98', '120639300', '119.96', '120.419',\n        '115.66'],\n       ['AAPL', '10/16/2020', '119.02', '115393800', '121.28', '121.548',\n        '118.81'],\n       ['AAPL', '10/15/2020', '120.71', '112559200', '118.72', '121.2',\n        '118.15'],\n       ['AAPL', '10/14/2020', '121.19', '151062300', '121', '123.03',\n        '119.62'],\n       ['AAPL', '10/13/2020', '121.1', '262330500', '125.27', '125.39',\n        '119.65'],\n       ['AAPL', '10/12/2020', '124.4', '240226800', '120.06', '125.18',\n        '119.2845'],\n       ['AAPL', '10/09/2020', '116.97', '100506900', '115.28', '117',\n        '114.92'],\n       ['AAPL', '10/08/2020', '114.97', '83477150', '116.25', '116.4',\n        '114.5901'],\n       ['AAPL', '10/07/2020', '115.08', '96848990', '114.62', '115.55',\n        '114.13'],\n       ['AAPL', '10/06/2020', '113.16', '161498200', '115.7', '116.12',\n        '112.25'],\n       ['AAPL', '10/05/2020', '116.5', '106243800', '113.91', '116.65',\n        '113.55'],\n       ['AAPL', '10/02/2020', '113.02', '144712000', '112.89', '115.37',\n        '112.22'],\n       ['AAPL', '10/01/2020', '116.79', '116120400', '117.64', '117.72',\n        '115.83'],\n       ['AAPL', '09/30/2020', '115.81', '142675200', '113.79', '117.26',\n        '113.62'],\n       ['AAPL', '09/29/2020', '114.09', '100060500', '114.55', '115.31',\n        '113.57']], dtype='<U10')"
     },
     "execution_count": 245,
     "metadata": {},
     "output_type": "execute_result"
    }
   ],
   "source": [
    "data = np.array(data)\n",
    "data"
   ],
   "metadata": {
    "collapsed": false,
    "ExecuteTime": {
     "end_time": "2023-11-07T13:06:57.148752Z",
     "start_time": "2023-11-07T13:06:57.094713900Z"
    }
   }
  },
  {
   "cell_type": "code",
   "execution_count": 246,
   "outputs": [
    {
     "data": {
      "text/plain": "array(['10/29/2020', '10/28/2020', '10/27/2020', '10/26/2020',\n       '10/23/2020', '10/22/2020', '10/21/2020', '10/20/2020',\n       '10/19/2020', '10/16/2020', '10/15/2020', '10/14/2020',\n       '10/13/2020', '10/12/2020', '10/09/2020', '10/08/2020',\n       '10/07/2020', '10/06/2020', '10/05/2020', '10/02/2020',\n       '10/01/2020', '09/30/2020', '09/29/2020'], dtype='<U10')"
     },
     "execution_count": 246,
     "metadata": {},
     "output_type": "execute_result"
    }
   ],
   "source": [
    "dates = data[:, 1]\n",
    "dates"
   ],
   "metadata": {
    "collapsed": false,
    "ExecuteTime": {
     "end_time": "2023-11-07T13:07:58.974258100Z",
     "start_time": "2023-11-07T13:07:58.912723Z"
    }
   }
  },
  {
   "cell_type": "code",
   "execution_count": 247,
   "outputs": [],
   "source": [
    "from dateutil import parser"
   ],
   "metadata": {
    "collapsed": false,
    "ExecuteTime": {
     "end_time": "2023-11-07T13:08:59.508289500Z",
     "start_time": "2023-11-07T13:08:59.424170300Z"
    }
   }
  },
  {
   "cell_type": "code",
   "execution_count": 248,
   "outputs": [
    {
     "data": {
      "text/plain": "[datetime.datetime(2020, 10, 29, 0, 0),\n datetime.datetime(2020, 10, 28, 0, 0),\n datetime.datetime(2020, 10, 27, 0, 0),\n datetime.datetime(2020, 10, 26, 0, 0),\n datetime.datetime(2020, 10, 23, 0, 0),\n datetime.datetime(2020, 10, 22, 0, 0),\n datetime.datetime(2020, 10, 21, 0, 0),\n datetime.datetime(2020, 10, 20, 0, 0),\n datetime.datetime(2020, 10, 19, 0, 0),\n datetime.datetime(2020, 10, 16, 0, 0),\n datetime.datetime(2020, 10, 15, 0, 0),\n datetime.datetime(2020, 10, 14, 0, 0),\n datetime.datetime(2020, 10, 13, 0, 0),\n datetime.datetime(2020, 10, 12, 0, 0),\n datetime.datetime(2020, 10, 9, 0, 0),\n datetime.datetime(2020, 10, 8, 0, 0),\n datetime.datetime(2020, 10, 7, 0, 0),\n datetime.datetime(2020, 10, 6, 0, 0),\n datetime.datetime(2020, 10, 5, 0, 0),\n datetime.datetime(2020, 10, 2, 0, 0),\n datetime.datetime(2020, 10, 1, 0, 0),\n datetime.datetime(2020, 9, 30, 0, 0),\n datetime.datetime(2020, 9, 29, 0, 0)]"
     },
     "execution_count": 248,
     "metadata": {},
     "output_type": "execute_result"
    }
   ],
   "source": [
    "dates = [parser.parse(d) for d in dates]\n",
    "dates"
   ],
   "metadata": {
    "collapsed": false,
    "ExecuteTime": {
     "end_time": "2023-11-07T13:10:04.988865200Z",
     "start_time": "2023-11-07T13:10:04.928897200Z"
    }
   }
  },
  {
   "cell_type": "code",
   "execution_count": 249,
   "outputs": [
    {
     "data": {
      "text/plain": "['Symbol', 'Date', 'Close', 'Volume', 'Open', 'High', 'Low']"
     },
     "execution_count": 249,
     "metadata": {},
     "output_type": "execute_result"
    }
   ],
   "source": [
    "headers"
   ],
   "metadata": {
    "collapsed": false,
    "ExecuteTime": {
     "end_time": "2023-11-07T13:11:04.155371700Z",
     "start_time": "2023-11-07T13:11:04.098365600Z"
    }
   }
  },
  {
   "cell_type": "code",
   "execution_count": 250,
   "outputs": [],
   "source": [
    "oc = data[:, np.array([4, 2])]"
   ],
   "metadata": {
    "collapsed": false,
    "ExecuteTime": {
     "end_time": "2023-11-07T13:12:28.472282100Z",
     "start_time": "2023-11-07T13:12:28.399818700Z"
    }
   }
  },
  {
   "cell_type": "code",
   "execution_count": 251,
   "outputs": [
    {
     "data": {
      "text/plain": "array([['112.37', '115.32'],\n       ['115.05', '111.2'],\n       ['115.49', '116.6'],\n       ['114.01', '115.05'],\n       ['116.39', '115.04'],\n       ['117.45', '115.75'],\n       ['116.67', '116.87'],\n       ['116.2', '117.51'],\n       ['119.96', '115.98'],\n       ['121.28', '119.02'],\n       ['118.72', '120.71'],\n       ['121', '121.19'],\n       ['125.27', '121.1'],\n       ['120.06', '124.4'],\n       ['115.28', '116.97'],\n       ['116.25', '114.97'],\n       ['114.62', '115.08'],\n       ['115.7', '113.16'],\n       ['113.91', '116.5'],\n       ['112.89', '113.02'],\n       ['117.64', '116.79'],\n       ['113.79', '115.81'],\n       ['114.55', '114.09']], dtype='<U10')"
     },
     "execution_count": 251,
     "metadata": {},
     "output_type": "execute_result"
    }
   ],
   "source": [
    "oc"
   ],
   "metadata": {
    "collapsed": false,
    "ExecuteTime": {
     "end_time": "2023-11-07T13:12:31.477986700Z",
     "start_time": "2023-11-07T13:12:31.387988700Z"
    }
   }
  },
  {
   "cell_type": "code",
   "execution_count": 253,
   "outputs": [
    {
     "data": {
      "text/plain": "array([[112.37, 115.32],\n       [115.05, 111.2 ],\n       [115.49, 116.6 ],\n       [114.01, 115.05],\n       [116.39, 115.04],\n       [117.45, 115.75],\n       [116.67, 116.87],\n       [116.2 , 117.51],\n       [119.96, 115.98],\n       [121.28, 119.02],\n       [118.72, 120.71],\n       [121.  , 121.19],\n       [125.27, 121.1 ],\n       [120.06, 124.4 ],\n       [115.28, 116.97],\n       [116.25, 114.97],\n       [114.62, 115.08],\n       [115.7 , 113.16],\n       [113.91, 116.5 ],\n       [112.89, 113.02],\n       [117.64, 116.79],\n       [113.79, 115.81],\n       [114.55, 114.09]])"
     },
     "execution_count": 253,
     "metadata": {},
     "output_type": "execute_result"
    }
   ],
   "source": [
    "oc = data[:, np.array([4, 2])].astype(float)\n",
    "oc\n"
   ],
   "metadata": {
    "collapsed": false,
    "ExecuteTime": {
     "end_time": "2023-11-07T13:13:55.223220100Z",
     "start_time": "2023-11-07T13:13:55.184280Z"
    }
   }
  },
  {
   "cell_type": "code",
   "execution_count": 254,
   "outputs": [
    {
     "data": {
      "text/plain": "array([ 2.95, -3.85,  1.11,  1.04, -1.35, -1.7 ,  0.2 ,  1.31, -3.98,\n       -2.26,  1.99,  0.19, -4.17,  4.34,  1.69, -1.28,  0.46, -2.54,\n        2.59,  0.13, -0.85,  2.02, -0.46])"
     },
     "execution_count": 254,
     "metadata": {},
     "output_type": "execute_result"
    }
   ],
   "source": [
    "diffs = oc[:, 1] - oc[:, 0]\n",
    "diffs"
   ],
   "metadata": {
    "collapsed": false,
    "ExecuteTime": {
     "end_time": "2023-11-07T13:15:07.803616100Z",
     "start_time": "2023-11-07T13:15:07.738618200Z"
    }
   }
  },
  {
   "cell_type": "code",
   "execution_count": 255,
   "outputs": [],
   "source": [
    "diff_percs = ((oc[:, 1] - oc[:, 0]) / oc[:, 0]) * 100"
   ],
   "metadata": {
    "collapsed": false,
    "ExecuteTime": {
     "end_time": "2023-11-07T13:16:19.925423600Z",
     "start_time": "2023-11-07T13:16:19.861385800Z"
    }
   }
  },
  {
   "cell_type": "code",
   "execution_count": 256,
   "outputs": [
    {
     "data": {
      "text/plain": "array([ 2.62525585, -3.34637114,  0.96112218,  0.91220068, -1.15989346,\n       -1.44742444,  0.17142367,  1.12736661, -3.31777259, -1.86345646,\n        1.67621294,  0.15702479, -3.32880977,  3.61485924,  1.46599584,\n       -1.10107527,  0.40132612, -2.19533276,  2.27372487,  0.11515635,\n       -0.72254335,  1.77519993, -0.40157137])"
     },
     "execution_count": 256,
     "metadata": {},
     "output_type": "execute_result"
    }
   ],
   "source": [
    "diff_percs"
   ],
   "metadata": {
    "collapsed": false,
    "ExecuteTime": {
     "end_time": "2023-11-07T13:16:27.067475Z",
     "start_time": "2023-11-07T13:16:27.002438600Z"
    }
   }
  },
  {
   "cell_type": "code",
   "execution_count": 259,
   "outputs": [],
   "source": [
    "m = np.array([-1, 1, -2, 2, -3, 3])"
   ],
   "metadata": {
    "collapsed": false,
    "ExecuteTime": {
     "end_time": "2023-11-07T13:24:16.066688500Z",
     "start_time": "2023-11-07T13:24:15.991682400Z"
    }
   }
  },
  {
   "cell_type": "code",
   "execution_count": 260,
   "outputs": [
    {
     "data": {
      "text/plain": "array([-1,  1, -2,  2, -3,  3])"
     },
     "execution_count": 260,
     "metadata": {},
     "output_type": "execute_result"
    }
   ],
   "source": [
    "m"
   ],
   "metadata": {
    "collapsed": false,
    "ExecuteTime": {
     "end_time": "2023-11-07T13:24:21.095403900Z",
     "start_time": "2023-11-07T13:24:21.017401Z"
    }
   }
  },
  {
   "cell_type": "code",
   "execution_count": 261,
   "outputs": [
    {
     "data": {
      "text/plain": "array([ True, False,  True, False,  True, False])"
     },
     "execution_count": 261,
     "metadata": {},
     "output_type": "execute_result"
    }
   ],
   "source": [
    "np.less(m, 0)"
   ],
   "metadata": {
    "collapsed": false,
    "ExecuteTime": {
     "end_time": "2023-11-07T13:24:38.666484500Z",
     "start_time": "2023-11-07T13:24:38.562481700Z"
    }
   }
  },
  {
   "cell_type": "code",
   "execution_count": 262,
   "outputs": [
    {
     "data": {
      "text/plain": "array([ True, False,  True, False,  True, False])"
     },
     "execution_count": 262,
     "metadata": {},
     "output_type": "execute_result"
    }
   ],
   "source": [
    "m < 0"
   ],
   "metadata": {
    "collapsed": false,
    "ExecuteTime": {
     "end_time": "2023-11-07T13:25:15.210085Z",
     "start_time": "2023-11-07T13:25:15.152082200Z"
    }
   }
  },
  {
   "cell_type": "code",
   "execution_count": 263,
   "outputs": [],
   "source": [
    "mask = m > 0"
   ],
   "metadata": {
    "collapsed": false,
    "ExecuteTime": {
     "end_time": "2023-11-07T13:25:58.230013Z",
     "start_time": "2023-11-07T13:25:58.144046800Z"
    }
   }
  },
  {
   "cell_type": "code",
   "execution_count": 264,
   "outputs": [
    {
     "data": {
      "text/plain": "array([False,  True, False,  True, False,  True])"
     },
     "execution_count": 264,
     "metadata": {},
     "output_type": "execute_result"
    }
   ],
   "source": [
    "mask"
   ],
   "metadata": {
    "collapsed": false,
    "ExecuteTime": {
     "end_time": "2023-11-07T13:26:02.179215300Z",
     "start_time": "2023-11-07T13:26:02.050455Z"
    }
   }
  },
  {
   "cell_type": "code",
   "execution_count": 265,
   "outputs": [
    {
     "data": {
      "text/plain": "array([1, 2, 3])"
     },
     "execution_count": 265,
     "metadata": {},
     "output_type": "execute_result"
    }
   ],
   "source": [
    "m[mask]"
   ],
   "metadata": {
    "collapsed": false,
    "ExecuteTime": {
     "end_time": "2023-11-07T13:26:20.475250100Z",
     "start_time": "2023-11-07T13:26:20.392683100Z"
    }
   }
  },
  {
   "cell_type": "code",
   "execution_count": 266,
   "outputs": [],
   "source": [
    "m = np.array(\n",
    "    [\n",
    "        [-1, 1, -2, 2],\n",
    "        [-3, 3, -4, 4],\n",
    "        [-5, 5, -6, 6]\n",
    "    ]\n",
    ")"
   ],
   "metadata": {
    "collapsed": false,
    "ExecuteTime": {
     "end_time": "2023-11-07T13:27:01.173245900Z",
     "start_time": "2023-11-07T13:27:01.069121Z"
    }
   }
  },
  {
   "cell_type": "code",
   "execution_count": 268,
   "outputs": [],
   "source": [
    "negative_numbers = m[m < 0]"
   ],
   "metadata": {
    "collapsed": false,
    "ExecuteTime": {
     "end_time": "2023-11-07T13:31:10.062295400Z",
     "start_time": "2023-11-07T13:31:10.017973500Z"
    }
   }
  },
  {
   "cell_type": "code",
   "execution_count": 269,
   "outputs": [
    {
     "data": {
      "text/plain": "array([-1, -2, -3, -4, -5, -6])"
     },
     "execution_count": 269,
     "metadata": {},
     "output_type": "execute_result"
    }
   ],
   "source": [
    "negative_numbers"
   ],
   "metadata": {
    "collapsed": false,
    "ExecuteTime": {
     "end_time": "2023-11-07T13:31:16.533160100Z",
     "start_time": "2023-11-07T13:31:16.441165300Z"
    }
   }
  },
  {
   "cell_type": "code",
   "execution_count": 272,
   "outputs": [],
   "source": [
    "arr = np.arange(-5, 6)"
   ],
   "metadata": {
    "collapsed": false,
    "ExecuteTime": {
     "end_time": "2023-11-07T13:32:29.499988100Z",
     "start_time": "2023-11-07T13:32:29.418257100Z"
    }
   }
  },
  {
   "cell_type": "code",
   "execution_count": 273,
   "outputs": [
    {
     "data": {
      "text/plain": "array([-5, -4, -3, -2, -1,  0,  1,  2,  3,  4,  5])"
     },
     "execution_count": 273,
     "metadata": {},
     "output_type": "execute_result"
    }
   ],
   "source": [
    "arr"
   ],
   "metadata": {
    "collapsed": false,
    "ExecuteTime": {
     "end_time": "2023-11-07T13:32:31.878237800Z",
     "start_time": "2023-11-07T13:32:31.839738Z"
    }
   }
  },
  {
   "cell_type": "code",
   "execution_count": 274,
   "outputs": [
    {
     "data": {
      "text/plain": "array([1, 2, 3])"
     },
     "execution_count": 274,
     "metadata": {},
     "output_type": "execute_result"
    }
   ],
   "source": [
    "arr[(arr > 0) & (arr < 4)]"
   ],
   "metadata": {
    "collapsed": false,
    "ExecuteTime": {
     "end_time": "2023-11-07T13:33:40.076258800Z",
     "start_time": "2023-11-07T13:33:40.015230500Z"
    }
   }
  },
  {
   "cell_type": "code",
   "execution_count": 275,
   "outputs": [
    {
     "data": {
      "text/plain": "array([0, 1, 2, 3, 4, 5])"
     },
     "execution_count": 275,
     "metadata": {},
     "output_type": "execute_result"
    }
   ],
   "source": [
    "arr[~(arr < 0)]"
   ],
   "metadata": {
    "collapsed": false,
    "ExecuteTime": {
     "end_time": "2023-11-07T13:35:15.675893100Z",
     "start_time": "2023-11-07T13:35:15.570893400Z"
    }
   }
  },
  {
   "cell_type": "code",
   "execution_count": 277,
   "outputs": [
    {
     "name": "stdout",
     "output_type": "stream",
     "text": [
      "['Symbol', 'Date', 'Close', 'Volume', 'Open', 'High', 'Low']\n",
      "['AAPL', '10/29/2020', '115.32', '146129200', '112.37', '116.93', '112.2']\n",
      "['AAPL', '10/28/2020', '111.2', '143937800', '115.05', '115.43', '111.1']\n",
      "['AAPL', '10/27/2020', '116.6', '92276770', '115.49', '117.28', '114.5399']\n",
      "['AAPL', '10/26/2020', '115.05', '111850700', '114.01', '116.55', '112.88']\n",
      "['AAPL', '10/23/2020', '115.04', '82572650', '116.39', '116.55', '114.28']\n",
      "['AAPL', '10/22/2020', '115.75', '101988000', '117.45', '118.04', '114.59']\n",
      "['AAPL', '10/21/2020', '116.87', '89945980', '116.67', '118.705', '116.45']\n",
      "['AAPL', '10/20/2020', '117.51', '124423700', '116.2', '118.98', '115.63']\n",
      "['AAPL', '10/19/2020', '115.98', '120639300', '119.96', '120.419', '115.66']\n",
      "['AAPL', '10/16/2020', '119.02', '115393800', '121.28', '121.548', '118.81']\n",
      "['AAPL', '10/15/2020', '120.71', '112559200', '118.72', '121.2', '118.15']\n",
      "['AAPL', '10/14/2020', '121.19', '151062300', '121', '123.03', '119.62']\n",
      "['AAPL', '10/13/2020', '121.1', '262330500', '125.27', '125.39', '119.65']\n",
      "['AAPL', '10/12/2020', '124.4', '240226800', '120.06', '125.18', '119.2845']\n",
      "['AAPL', '10/09/2020', '116.97', '100506900', '115.28', '117', '114.92']\n",
      "['AAPL', '10/08/2020', '114.97', '83477150', '116.25', '116.4', '114.5901']\n",
      "['AAPL', '10/07/2020', '115.08', '96848990', '114.62', '115.55', '114.13']\n",
      "['AAPL', '10/06/2020', '113.16', '161498200', '115.7', '116.12', '112.25']\n",
      "['AAPL', '10/05/2020', '116.5', '106243800', '113.91', '116.65', '113.55']\n",
      "['AAPL', '10/02/2020', '113.02', '144712000', '112.89', '115.37', '112.22']\n",
      "['AAPL', '10/01/2020', '116.79', '116120400', '117.64', '117.72', '115.83']\n",
      "['AAPL', '09/30/2020', '115.81', '142675200', '113.79', '117.26', '113.62']\n",
      "['AAPL', '09/29/2020', '114.09', '100060500', '114.55', '115.31', '113.57']\n"
     ]
    }
   ],
   "source": [
    "with open('AAPL.csv') as f:\n",
    "    reader = csv.reader(f, skipinitialspace=True)\n",
    "    headers = next(reader)\n",
    "    data = list(reader)\n",
    "print(headers)\n",
    "for row in data:\n",
    "    print(row)\n",
    "\n"
   ],
   "metadata": {
    "collapsed": false,
    "ExecuteTime": {
     "end_time": "2023-11-07T13:37:51.996164900Z",
     "start_time": "2023-11-07T13:37:51.962128100Z"
    }
   }
  },
  {
   "cell_type": "code",
   "execution_count": 278,
   "outputs": [
    {
     "data": {
      "text/plain": "array([['AAPL', '10/29/2020', '115.32', '146129200', '112.37', '116.93',\n        '112.2'],\n       ['AAPL', '10/28/2020', '111.2', '143937800', '115.05', '115.43',\n        '111.1'],\n       ['AAPL', '10/27/2020', '116.6', '92276770', '115.49', '117.28',\n        '114.5399'],\n       ['AAPL', '10/26/2020', '115.05', '111850700', '114.01', '116.55',\n        '112.88'],\n       ['AAPL', '10/23/2020', '115.04', '82572650', '116.39', '116.55',\n        '114.28'],\n       ['AAPL', '10/22/2020', '115.75', '101988000', '117.45', '118.04',\n        '114.59'],\n       ['AAPL', '10/21/2020', '116.87', '89945980', '116.67', '118.705',\n        '116.45'],\n       ['AAPL', '10/20/2020', '117.51', '124423700', '116.2', '118.98',\n        '115.63'],\n       ['AAPL', '10/19/2020', '115.98', '120639300', '119.96', '120.419',\n        '115.66'],\n       ['AAPL', '10/16/2020', '119.02', '115393800', '121.28', '121.548',\n        '118.81'],\n       ['AAPL', '10/15/2020', '120.71', '112559200', '118.72', '121.2',\n        '118.15'],\n       ['AAPL', '10/14/2020', '121.19', '151062300', '121', '123.03',\n        '119.62'],\n       ['AAPL', '10/13/2020', '121.1', '262330500', '125.27', '125.39',\n        '119.65'],\n       ['AAPL', '10/12/2020', '124.4', '240226800', '120.06', '125.18',\n        '119.2845'],\n       ['AAPL', '10/09/2020', '116.97', '100506900', '115.28', '117',\n        '114.92'],\n       ['AAPL', '10/08/2020', '114.97', '83477150', '116.25', '116.4',\n        '114.5901'],\n       ['AAPL', '10/07/2020', '115.08', '96848990', '114.62', '115.55',\n        '114.13'],\n       ['AAPL', '10/06/2020', '113.16', '161498200', '115.7', '116.12',\n        '112.25'],\n       ['AAPL', '10/05/2020', '116.5', '106243800', '113.91', '116.65',\n        '113.55'],\n       ['AAPL', '10/02/2020', '113.02', '144712000', '112.89', '115.37',\n        '112.22'],\n       ['AAPL', '10/01/2020', '116.79', '116120400', '117.64', '117.72',\n        '115.83'],\n       ['AAPL', '09/30/2020', '115.81', '142675200', '113.79', '117.26',\n        '113.62'],\n       ['AAPL', '09/29/2020', '114.09', '100060500', '114.55', '115.31',\n        '113.57']], dtype='<U10')"
     },
     "execution_count": 278,
     "metadata": {},
     "output_type": "execute_result"
    }
   ],
   "source": [
    "arr = np.array(data)\n",
    "arr"
   ],
   "metadata": {
    "collapsed": false,
    "ExecuteTime": {
     "end_time": "2023-11-07T13:38:39.238790500Z",
     "start_time": "2023-11-07T13:38:39.136640300Z"
    }
   }
  },
  {
   "cell_type": "code",
   "execution_count": 279,
   "outputs": [],
   "source": [
    "dates = np.array([parser.parse(dt) for dt in arr[:, 1]])"
   ],
   "metadata": {
    "collapsed": false,
    "ExecuteTime": {
     "end_time": "2023-11-07T13:39:44.956466500Z",
     "start_time": "2023-11-07T13:39:44.886287700Z"
    }
   }
  },
  {
   "cell_type": "code",
   "execution_count": 280,
   "outputs": [
    {
     "data": {
      "text/plain": "array([datetime.datetime(2020, 10, 29, 0, 0),\n       datetime.datetime(2020, 10, 28, 0, 0),\n       datetime.datetime(2020, 10, 27, 0, 0),\n       datetime.datetime(2020, 10, 26, 0, 0),\n       datetime.datetime(2020, 10, 23, 0, 0),\n       datetime.datetime(2020, 10, 22, 0, 0),\n       datetime.datetime(2020, 10, 21, 0, 0),\n       datetime.datetime(2020, 10, 20, 0, 0),\n       datetime.datetime(2020, 10, 19, 0, 0),\n       datetime.datetime(2020, 10, 16, 0, 0),\n       datetime.datetime(2020, 10, 15, 0, 0),\n       datetime.datetime(2020, 10, 14, 0, 0),\n       datetime.datetime(2020, 10, 13, 0, 0),\n       datetime.datetime(2020, 10, 12, 0, 0),\n       datetime.datetime(2020, 10, 9, 0, 0),\n       datetime.datetime(2020, 10, 8, 0, 0),\n       datetime.datetime(2020, 10, 7, 0, 0),\n       datetime.datetime(2020, 10, 6, 0, 0),\n       datetime.datetime(2020, 10, 5, 0, 0),\n       datetime.datetime(2020, 10, 2, 0, 0),\n       datetime.datetime(2020, 10, 1, 0, 0),\n       datetime.datetime(2020, 9, 30, 0, 0),\n       datetime.datetime(2020, 9, 29, 0, 0)], dtype=object)"
     },
     "execution_count": 280,
     "metadata": {},
     "output_type": "execute_result"
    }
   ],
   "source": [
    "dates"
   ],
   "metadata": {
    "collapsed": false,
    "ExecuteTime": {
     "end_time": "2023-11-07T13:39:47.961054500Z",
     "start_time": "2023-11-07T13:39:47.879217100Z"
    }
   }
  },
  {
   "cell_type": "code",
   "execution_count": 281,
   "outputs": [
    {
     "data": {
      "text/plain": "array([[112.37  , 116.93  , 112.2   , 115.32  ],\n       [115.05  , 115.43  , 111.1   , 111.2   ],\n       [115.49  , 117.28  , 114.5399, 116.6   ],\n       [114.01  , 116.55  , 112.88  , 115.05  ],\n       [116.39  , 116.55  , 114.28  , 115.04  ],\n       [117.45  , 118.04  , 114.59  , 115.75  ],\n       [116.67  , 118.705 , 116.45  , 116.87  ],\n       [116.2   , 118.98  , 115.63  , 117.51  ],\n       [119.96  , 120.419 , 115.66  , 115.98  ],\n       [121.28  , 121.548 , 118.81  , 119.02  ],\n       [118.72  , 121.2   , 118.15  , 120.71  ],\n       [121.    , 123.03  , 119.62  , 121.19  ],\n       [125.27  , 125.39  , 119.65  , 121.1   ],\n       [120.06  , 125.18  , 119.2845, 124.4   ],\n       [115.28  , 117.    , 114.92  , 116.97  ],\n       [116.25  , 116.4   , 114.5901, 114.97  ],\n       [114.62  , 115.55  , 114.13  , 115.08  ],\n       [115.7   , 116.12  , 112.25  , 113.16  ],\n       [113.91  , 116.65  , 113.55  , 116.5   ],\n       [112.89  , 115.37  , 112.22  , 113.02  ],\n       [117.64  , 117.72  , 115.83  , 116.79  ],\n       [113.79  , 117.26  , 113.62  , 115.81  ],\n       [114.55  , 115.31  , 113.57  , 114.09  ]])"
     },
     "execution_count": 281,
     "metadata": {},
     "output_type": "execute_result"
    }
   ],
   "source": [
    "ohlc = arr[:, [4, 5, 6, 2]].astype(float)\n",
    "ohlc"
   ],
   "metadata": {
    "collapsed": false,
    "ExecuteTime": {
     "end_time": "2023-11-07T13:41:06.390642700Z",
     "start_time": "2023-11-07T13:41:06.257511900Z"
    }
   }
  },
  {
   "cell_type": "code",
   "execution_count": 282,
   "outputs": [
    {
     "data": {
      "text/plain": "array([False, False,  True, False, False, False,  True,  True, False,\n        True,  True,  True,  True,  True,  True, False, False, False,\n        True, False,  True, False, False])"
     },
     "execution_count": 282,
     "metadata": {},
     "output_type": "execute_result"
    }
   ],
   "source": [
    "ohlc[:, 3] > 116.0"
   ],
   "metadata": {
    "collapsed": false,
    "ExecuteTime": {
     "end_time": "2023-11-07T13:41:45.305926700Z",
     "start_time": "2023-11-07T13:41:45.238896800Z"
    }
   }
  },
  {
   "cell_type": "code",
   "execution_count": 283,
   "outputs": [
    {
     "data": {
      "text/plain": "array([[115.49  , 117.28  , 114.5399, 116.6   ],\n       [116.67  , 118.705 , 116.45  , 116.87  ],\n       [116.2   , 118.98  , 115.63  , 117.51  ],\n       [121.28  , 121.548 , 118.81  , 119.02  ],\n       [118.72  , 121.2   , 118.15  , 120.71  ],\n       [121.    , 123.03  , 119.62  , 121.19  ],\n       [125.27  , 125.39  , 119.65  , 121.1   ],\n       [120.06  , 125.18  , 119.2845, 124.4   ],\n       [115.28  , 117.    , 114.92  , 116.97  ],\n       [113.91  , 116.65  , 113.55  , 116.5   ],\n       [117.64  , 117.72  , 115.83  , 116.79  ]])"
     },
     "execution_count": 283,
     "metadata": {},
     "output_type": "execute_result"
    }
   ],
   "source": [
    "ohlc[ohlc[:, 3] > 116.0]"
   ],
   "metadata": {
    "collapsed": false,
    "ExecuteTime": {
     "end_time": "2023-11-07T13:42:35.724690600Z",
     "start_time": "2023-11-07T13:42:35.638689100Z"
    }
   }
  },
  {
   "cell_type": "code",
   "execution_count": 284,
   "outputs": [
    {
     "data": {
      "text/plain": "array([datetime.datetime(2020, 10, 27, 0, 0),\n       datetime.datetime(2020, 10, 21, 0, 0),\n       datetime.datetime(2020, 10, 20, 0, 0),\n       datetime.datetime(2020, 10, 16, 0, 0),\n       datetime.datetime(2020, 10, 15, 0, 0),\n       datetime.datetime(2020, 10, 14, 0, 0),\n       datetime.datetime(2020, 10, 13, 0, 0),\n       datetime.datetime(2020, 10, 12, 0, 0),\n       datetime.datetime(2020, 10, 9, 0, 0),\n       datetime.datetime(2020, 10, 5, 0, 0),\n       datetime.datetime(2020, 10, 1, 0, 0)], dtype=object)"
     },
     "execution_count": 284,
     "metadata": {},
     "output_type": "execute_result"
    }
   ],
   "source": [
    "dates[ohlc[:, 3] > 116.0]"
   ],
   "metadata": {
    "collapsed": false,
    "ExecuteTime": {
     "end_time": "2023-11-07T13:43:35.379170100Z",
     "start_time": "2023-11-07T13:43:35.258005200Z"
    }
   }
  },
  {
   "cell_type": "code",
   "execution_count": 285,
   "outputs": [],
   "source": [
    "mask = ohlc[:, 3] > 116.0"
   ],
   "metadata": {
    "collapsed": false,
    "ExecuteTime": {
     "end_time": "2023-11-07T13:44:28.738718300Z",
     "start_time": "2023-11-07T13:44:28.664678400Z"
    }
   }
  },
  {
   "cell_type": "code",
   "execution_count": 287,
   "outputs": [
    {
     "name": "stdout",
     "output_type": "stream",
     "text": [
      "[datetime.datetime(2020, 10, 27, 0, 0), array([115.49  , 117.28  , 114.5399, 116.6   ])]\n",
      "[datetime.datetime(2020, 10, 21, 0, 0), array([116.67 , 118.705, 116.45 , 116.87 ])]\n",
      "[datetime.datetime(2020, 10, 20, 0, 0), array([116.2 , 118.98, 115.63, 117.51])]\n",
      "[datetime.datetime(2020, 10, 16, 0, 0), array([121.28 , 121.548, 118.81 , 119.02 ])]\n",
      "[datetime.datetime(2020, 10, 15, 0, 0), array([118.72, 121.2 , 118.15, 120.71])]\n",
      "[datetime.datetime(2020, 10, 14, 0, 0), array([121.  , 123.03, 119.62, 121.19])]\n",
      "[datetime.datetime(2020, 10, 13, 0, 0), array([125.27, 125.39, 119.65, 121.1 ])]\n",
      "[datetime.datetime(2020, 10, 12, 0, 0), array([120.06  , 125.18  , 119.2845, 124.4   ])]\n",
      "[datetime.datetime(2020, 10, 9, 0, 0), array([115.28, 117.  , 114.92, 116.97])]\n",
      "[datetime.datetime(2020, 10, 5, 0, 0), array([113.91, 116.65, 113.55, 116.5 ])]\n",
      "[datetime.datetime(2020, 10, 1, 0, 0), array([117.64, 117.72, 115.83, 116.79])]\n"
     ]
    }
   ],
   "source": [
    "filtered_data = [\n",
    "\n",
    "    [date, row]\n",
    "    for date, row in zip(dates[mask], ohlc[mask])\n",
    "]\n",
    "for row in filtered_data:\n",
    "    print(row)"
   ],
   "metadata": {
    "collapsed": false,
    "ExecuteTime": {
     "end_time": "2023-11-07T13:47:36.950989100Z",
     "start_time": "2023-11-07T13:47:36.911809300Z"
    }
   }
  },
  {
   "cell_type": "code",
   "execution_count": 288,
   "outputs": [],
   "source": [
    "date = '10/1/2020'\n",
    "numbers = [100, 200, 300, 400]"
   ],
   "metadata": {
    "collapsed": false,
    "ExecuteTime": {
     "end_time": "2023-11-07T13:52:30.153749800Z",
     "start_time": "2023-11-07T13:52:30.077652200Z"
    }
   }
  },
  {
   "cell_type": "code",
   "execution_count": 290,
   "outputs": [
    {
     "data": {
      "text/plain": "['10/1/2020', [100, 200, 300, 400]]"
     },
     "execution_count": 290,
     "metadata": {},
     "output_type": "execute_result"
    }
   ],
   "source": [
    "[date, numbers]"
   ],
   "metadata": {
    "collapsed": false,
    "ExecuteTime": {
     "end_time": "2023-11-07T13:53:05.879343700Z",
     "start_time": "2023-11-07T13:53:05.840291200Z"
    }
   }
  },
  {
   "cell_type": "code",
   "execution_count": 291,
   "outputs": [
    {
     "data": {
      "text/plain": "['10/1/2020', 100, 200, 300, 400]"
     },
     "execution_count": 291,
     "metadata": {},
     "output_type": "execute_result"
    }
   ],
   "source": [
    "[date, *numbers]"
   ],
   "metadata": {
    "collapsed": false,
    "ExecuteTime": {
     "end_time": "2023-11-07T13:54:46.283827500Z",
     "start_time": "2023-11-07T13:54:46.215971800Z"
    }
   }
  },
  {
   "cell_type": "code",
   "execution_count": 293,
   "outputs": [
    {
     "name": "stdout",
     "output_type": "stream",
     "text": [
      "[datetime.datetime(2020, 10, 27, 0, 0), 115.49, 117.28, 114.5399, 116.6]\n",
      "[datetime.datetime(2020, 10, 21, 0, 0), 116.67, 118.705, 116.45, 116.87]\n",
      "[datetime.datetime(2020, 10, 20, 0, 0), 116.2, 118.98, 115.63, 117.51]\n",
      "[datetime.datetime(2020, 10, 16, 0, 0), 121.28, 121.548, 118.81, 119.02]\n",
      "[datetime.datetime(2020, 10, 15, 0, 0), 118.72, 121.2, 118.15, 120.71]\n",
      "[datetime.datetime(2020, 10, 14, 0, 0), 121.0, 123.03, 119.62, 121.19]\n",
      "[datetime.datetime(2020, 10, 13, 0, 0), 125.27, 125.39, 119.65, 121.1]\n",
      "[datetime.datetime(2020, 10, 12, 0, 0), 120.06, 125.18, 119.2845, 124.4]\n",
      "[datetime.datetime(2020, 10, 9, 0, 0), 115.28, 117.0, 114.92, 116.97]\n",
      "[datetime.datetime(2020, 10, 5, 0, 0), 113.91, 116.65, 113.55, 116.5]\n",
      "[datetime.datetime(2020, 10, 1, 0, 0), 117.64, 117.72, 115.83, 116.79]\n"
     ]
    }
   ],
   "source": [
    "filtered_data = [\n",
    "    [date, *row]\n",
    "    for date, row in zip(dates[mask], ohlc[mask])\n",
    "]\n",
    "for row in filtered_data:\n",
    "    print(row)"
   ],
   "metadata": {
    "collapsed": false,
    "ExecuteTime": {
     "end_time": "2023-11-07T13:57:01.401978Z",
     "start_time": "2023-11-07T13:57:01.363205600Z"
    }
   }
  },
  {
   "cell_type": "code",
   "execution_count": 294,
   "outputs": [],
   "source": [
    "arr_1 = np.array([1, 2, 3, 4, 5])\n",
    "arr_2 = np.array([5, 4, 3, 2, 1])\n"
   ],
   "metadata": {
    "collapsed": false,
    "ExecuteTime": {
     "end_time": "2023-11-07T14:08:38.619821300Z",
     "start_time": "2023-11-07T14:08:38.534781100Z"
    }
   }
  },
  {
   "cell_type": "code",
   "execution_count": 295,
   "outputs": [
    {
     "data": {
      "text/plain": "array([6, 6, 6, 6, 6])"
     },
     "execution_count": 295,
     "metadata": {},
     "output_type": "execute_result"
    }
   ],
   "source": [
    "arr_1 + arr_2"
   ],
   "metadata": {
    "collapsed": false,
    "ExecuteTime": {
     "end_time": "2023-11-07T14:08:57.411799300Z",
     "start_time": "2023-11-07T14:08:57.343693600Z"
    }
   }
  },
  {
   "cell_type": "code",
   "execution_count": 296,
   "outputs": [
    {
     "data": {
      "text/plain": "array([6, 6, 6, 6, 6])"
     },
     "execution_count": 296,
     "metadata": {},
     "output_type": "execute_result"
    }
   ],
   "source": [
    "np.add(arr_1, arr_2)"
   ],
   "metadata": {
    "collapsed": false,
    "ExecuteTime": {
     "end_time": "2023-11-07T14:09:24.712184700Z",
     "start_time": "2023-11-07T14:09:24.609187400Z"
    }
   }
  },
  {
   "cell_type": "code",
   "execution_count": 297,
   "outputs": [
    {
     "data": {
      "text/plain": "array([5, 8, 9, 8, 5])"
     },
     "execution_count": 297,
     "metadata": {},
     "output_type": "execute_result"
    }
   ],
   "source": [
    "np.multiply(arr_1, arr_2)"
   ],
   "metadata": {
    "collapsed": false,
    "ExecuteTime": {
     "end_time": "2023-11-07T14:09:45.610541800Z",
     "start_time": "2023-11-07T14:09:45.510550400Z"
    }
   }
  },
  {
   "cell_type": "code",
   "execution_count": 299,
   "outputs": [
    {
     "data": {
      "text/plain": "array([1, 2, 0, 0, 0], dtype=int32)"
     },
     "execution_count": 299,
     "metadata": {},
     "output_type": "execute_result"
    }
   ],
   "source": [
    "arr_1 % arr_2"
   ],
   "metadata": {
    "collapsed": false,
    "ExecuteTime": {
     "end_time": "2023-11-07T14:10:46.942574Z",
     "start_time": "2023-11-07T14:10:46.854277500Z"
    }
   }
  },
  {
   "cell_type": "code",
   "execution_count": 300,
   "outputs": [
    {
     "data": {
      "text/plain": "array([ 1, 16, 27, 16,  5], dtype=int32)"
     },
     "execution_count": 300,
     "metadata": {},
     "output_type": "execute_result"
    }
   ],
   "source": [
    "arr_1 ** arr_2"
   ],
   "metadata": {
    "collapsed": false,
    "ExecuteTime": {
     "end_time": "2023-11-07T14:11:11.665033400Z",
     "start_time": "2023-11-07T14:11:11.591221Z"
    }
   }
  },
  {
   "cell_type": "code",
   "execution_count": 301,
   "outputs": [
    {
     "data": {
      "text/plain": "array([ 1,  4,  9, 16, 25], dtype=int32)"
     },
     "execution_count": 301,
     "metadata": {},
     "output_type": "execute_result"
    }
   ],
   "source": [
    "arr_1 ** 2"
   ],
   "metadata": {
    "collapsed": false,
    "ExecuteTime": {
     "end_time": "2023-11-07T14:12:30.427710900Z",
     "start_time": "2023-11-07T14:12:30.324604200Z"
    }
   }
  },
  {
   "cell_type": "code",
   "execution_count": 302,
   "outputs": [],
   "source": [
    "arr = np.linspace(-2 * np.pi, 2 * np.pi, 10)"
   ],
   "metadata": {
    "collapsed": false,
    "ExecuteTime": {
     "end_time": "2023-11-07T14:13:21.279078800Z",
     "start_time": "2023-11-07T14:13:21.149079100Z"
    }
   }
  },
  {
   "cell_type": "code",
   "execution_count": 303,
   "outputs": [
    {
     "data": {
      "text/plain": "array([-6.28318531, -4.88692191, -3.4906585 , -2.0943951 , -0.6981317 ,\n        0.6981317 ,  2.0943951 ,  3.4906585 ,  4.88692191,  6.28318531])"
     },
     "execution_count": 303,
     "metadata": {},
     "output_type": "execute_result"
    }
   ],
   "source": [
    "arr"
   ],
   "metadata": {
    "collapsed": false,
    "ExecuteTime": {
     "end_time": "2023-11-07T14:13:24.237093Z",
     "start_time": "2023-11-07T14:13:24.147133900Z"
    }
   }
  },
  {
   "cell_type": "code",
   "execution_count": 304,
   "outputs": [
    {
     "data": {
      "text/plain": "array([ 2.44929360e-16,  9.84807753e-01,  3.42020143e-01, -8.66025404e-01,\n       -6.42787610e-01,  6.42787610e-01,  8.66025404e-01, -3.42020143e-01,\n       -9.84807753e-01, -2.44929360e-16])"
     },
     "execution_count": 304,
     "metadata": {},
     "output_type": "execute_result"
    }
   ],
   "source": [
    "np.sin(arr)"
   ],
   "metadata": {
    "collapsed": false,
    "ExecuteTime": {
     "end_time": "2023-11-07T14:13:53.387002800Z",
     "start_time": "2023-11-07T14:13:53.293960200Z"
    }
   }
  },
  {
   "cell_type": "code",
   "execution_count": 305,
   "outputs": [
    {
     "data": {
      "text/plain": "array([ 1.        ,  0.17364818, -0.93969262, -0.5       ,  0.76604444,\n        0.76604444, -0.5       , -0.93969262,  0.17364818,  1.        ])"
     },
     "execution_count": 305,
     "metadata": {},
     "output_type": "execute_result"
    }
   ],
   "source": [
    "np.cos(arr)"
   ],
   "metadata": {
    "collapsed": false,
    "ExecuteTime": {
     "end_time": "2023-11-07T14:14:06.039033700Z",
     "start_time": "2023-11-07T14:14:05.937033100Z"
    }
   }
  },
  {
   "cell_type": "code",
   "execution_count": 306,
   "outputs": [],
   "source": [
    "from time import perf_counter"
   ],
   "metadata": {
    "collapsed": false,
    "ExecuteTime": {
     "end_time": "2023-11-07T14:15:52.459165Z",
     "start_time": "2023-11-07T14:15:52.319848300Z"
    }
   }
  },
  {
   "cell_type": "code",
   "execution_count": 307,
   "outputs": [],
   "source": [
    "l = list(range(1, 1_000_000))"
   ],
   "metadata": {
    "collapsed": false,
    "ExecuteTime": {
     "end_time": "2023-11-07T14:16:18.234750Z",
     "start_time": "2023-11-07T14:16:18.126749200Z"
    }
   }
  },
  {
   "cell_type": "code",
   "execution_count": 308,
   "outputs": [
    {
     "data": {
      "text/plain": "[1,\n 2,\n 3,\n 4,\n 5,\n 6,\n 7,\n 8,\n 9,\n 10,\n 11,\n 12,\n 13,\n 14,\n 15,\n 16,\n 17,\n 18,\n 19,\n 20,\n 21,\n 22,\n 23,\n 24,\n 25,\n 26,\n 27,\n 28,\n 29,\n 30,\n 31,\n 32,\n 33,\n 34,\n 35,\n 36,\n 37,\n 38,\n 39,\n 40,\n 41,\n 42,\n 43,\n 44,\n 45,\n 46,\n 47,\n 48,\n 49,\n 50,\n 51,\n 52,\n 53,\n 54,\n 55,\n 56,\n 57,\n 58,\n 59,\n 60,\n 61,\n 62,\n 63,\n 64,\n 65,\n 66,\n 67,\n 68,\n 69,\n 70,\n 71,\n 72,\n 73,\n 74,\n 75,\n 76,\n 77,\n 78,\n 79,\n 80,\n 81,\n 82,\n 83,\n 84,\n 85,\n 86,\n 87,\n 88,\n 89,\n 90,\n 91,\n 92,\n 93,\n 94,\n 95,\n 96,\n 97,\n 98,\n 99,\n 100,\n 101,\n 102,\n 103,\n 104,\n 105,\n 106,\n 107,\n 108,\n 109,\n 110,\n 111,\n 112,\n 113,\n 114,\n 115,\n 116,\n 117,\n 118,\n 119,\n 120,\n 121,\n 122,\n 123,\n 124,\n 125,\n 126,\n 127,\n 128,\n 129,\n 130,\n 131,\n 132,\n 133,\n 134,\n 135,\n 136,\n 137,\n 138,\n 139,\n 140,\n 141,\n 142,\n 143,\n 144,\n 145,\n 146,\n 147,\n 148,\n 149,\n 150,\n 151,\n 152,\n 153,\n 154,\n 155,\n 156,\n 157,\n 158,\n 159,\n 160,\n 161,\n 162,\n 163,\n 164,\n 165,\n 166,\n 167,\n 168,\n 169,\n 170,\n 171,\n 172,\n 173,\n 174,\n 175,\n 176,\n 177,\n 178,\n 179,\n 180,\n 181,\n 182,\n 183,\n 184,\n 185,\n 186,\n 187,\n 188,\n 189,\n 190,\n 191,\n 192,\n 193,\n 194,\n 195,\n 196,\n 197,\n 198,\n 199,\n 200,\n 201,\n 202,\n 203,\n 204,\n 205,\n 206,\n 207,\n 208,\n 209,\n 210,\n 211,\n 212,\n 213,\n 214,\n 215,\n 216,\n 217,\n 218,\n 219,\n 220,\n 221,\n 222,\n 223,\n 224,\n 225,\n 226,\n 227,\n 228,\n 229,\n 230,\n 231,\n 232,\n 233,\n 234,\n 235,\n 236,\n 237,\n 238,\n 239,\n 240,\n 241,\n 242,\n 243,\n 244,\n 245,\n 246,\n 247,\n 248,\n 249,\n 250,\n 251,\n 252,\n 253,\n 254,\n 255,\n 256,\n 257,\n 258,\n 259,\n 260,\n 261,\n 262,\n 263,\n 264,\n 265,\n 266,\n 267,\n 268,\n 269,\n 270,\n 271,\n 272,\n 273,\n 274,\n 275,\n 276,\n 277,\n 278,\n 279,\n 280,\n 281,\n 282,\n 283,\n 284,\n 285,\n 286,\n 287,\n 288,\n 289,\n 290,\n 291,\n 292,\n 293,\n 294,\n 295,\n 296,\n 297,\n 298,\n 299,\n 300,\n 301,\n 302,\n 303,\n 304,\n 305,\n 306,\n 307,\n 308,\n 309,\n 310,\n 311,\n 312,\n 313,\n 314,\n 315,\n 316,\n 317,\n 318,\n 319,\n 320,\n 321,\n 322,\n 323,\n 324,\n 325,\n 326,\n 327,\n 328,\n 329,\n 330,\n 331,\n 332,\n 333,\n 334,\n 335,\n 336,\n 337,\n 338,\n 339,\n 340,\n 341,\n 342,\n 343,\n 344,\n 345,\n 346,\n 347,\n 348,\n 349,\n 350,\n 351,\n 352,\n 353,\n 354,\n 355,\n 356,\n 357,\n 358,\n 359,\n 360,\n 361,\n 362,\n 363,\n 364,\n 365,\n 366,\n 367,\n 368,\n 369,\n 370,\n 371,\n 372,\n 373,\n 374,\n 375,\n 376,\n 377,\n 378,\n 379,\n 380,\n 381,\n 382,\n 383,\n 384,\n 385,\n 386,\n 387,\n 388,\n 389,\n 390,\n 391,\n 392,\n 393,\n 394,\n 395,\n 396,\n 397,\n 398,\n 399,\n 400,\n 401,\n 402,\n 403,\n 404,\n 405,\n 406,\n 407,\n 408,\n 409,\n 410,\n 411,\n 412,\n 413,\n 414,\n 415,\n 416,\n 417,\n 418,\n 419,\n 420,\n 421,\n 422,\n 423,\n 424,\n 425,\n 426,\n 427,\n 428,\n 429,\n 430,\n 431,\n 432,\n 433,\n 434,\n 435,\n 436,\n 437,\n 438,\n 439,\n 440,\n 441,\n 442,\n 443,\n 444,\n 445,\n 446,\n 447,\n 448,\n 449,\n 450,\n 451,\n 452,\n 453,\n 454,\n 455,\n 456,\n 457,\n 458,\n 459,\n 460,\n 461,\n 462,\n 463,\n 464,\n 465,\n 466,\n 467,\n 468,\n 469,\n 470,\n 471,\n 472,\n 473,\n 474,\n 475,\n 476,\n 477,\n 478,\n 479,\n 480,\n 481,\n 482,\n 483,\n 484,\n 485,\n 486,\n 487,\n 488,\n 489,\n 490,\n 491,\n 492,\n 493,\n 494,\n 495,\n 496,\n 497,\n 498,\n 499,\n 500,\n 501,\n 502,\n 503,\n 504,\n 505,\n 506,\n 507,\n 508,\n 509,\n 510,\n 511,\n 512,\n 513,\n 514,\n 515,\n 516,\n 517,\n 518,\n 519,\n 520,\n 521,\n 522,\n 523,\n 524,\n 525,\n 526,\n 527,\n 528,\n 529,\n 530,\n 531,\n 532,\n 533,\n 534,\n 535,\n 536,\n 537,\n 538,\n 539,\n 540,\n 541,\n 542,\n 543,\n 544,\n 545,\n 546,\n 547,\n 548,\n 549,\n 550,\n 551,\n 552,\n 553,\n 554,\n 555,\n 556,\n 557,\n 558,\n 559,\n 560,\n 561,\n 562,\n 563,\n 564,\n 565,\n 566,\n 567,\n 568,\n 569,\n 570,\n 571,\n 572,\n 573,\n 574,\n 575,\n 576,\n 577,\n 578,\n 579,\n 580,\n 581,\n 582,\n 583,\n 584,\n 585,\n 586,\n 587,\n 588,\n 589,\n 590,\n 591,\n 592,\n 593,\n 594,\n 595,\n 596,\n 597,\n 598,\n 599,\n 600,\n 601,\n 602,\n 603,\n 604,\n 605,\n 606,\n 607,\n 608,\n 609,\n 610,\n 611,\n 612,\n 613,\n 614,\n 615,\n 616,\n 617,\n 618,\n 619,\n 620,\n 621,\n 622,\n 623,\n 624,\n 625,\n 626,\n 627,\n 628,\n 629,\n 630,\n 631,\n 632,\n 633,\n 634,\n 635,\n 636,\n 637,\n 638,\n 639,\n 640,\n 641,\n 642,\n 643,\n 644,\n 645,\n 646,\n 647,\n 648,\n 649,\n 650,\n 651,\n 652,\n 653,\n 654,\n 655,\n 656,\n 657,\n 658,\n 659,\n 660,\n 661,\n 662,\n 663,\n 664,\n 665,\n 666,\n 667,\n 668,\n 669,\n 670,\n 671,\n 672,\n 673,\n 674,\n 675,\n 676,\n 677,\n 678,\n 679,\n 680,\n 681,\n 682,\n 683,\n 684,\n 685,\n 686,\n 687,\n 688,\n 689,\n 690,\n 691,\n 692,\n 693,\n 694,\n 695,\n 696,\n 697,\n 698,\n 699,\n 700,\n 701,\n 702,\n 703,\n 704,\n 705,\n 706,\n 707,\n 708,\n 709,\n 710,\n 711,\n 712,\n 713,\n 714,\n 715,\n 716,\n 717,\n 718,\n 719,\n 720,\n 721,\n 722,\n 723,\n 724,\n 725,\n 726,\n 727,\n 728,\n 729,\n 730,\n 731,\n 732,\n 733,\n 734,\n 735,\n 736,\n 737,\n 738,\n 739,\n 740,\n 741,\n 742,\n 743,\n 744,\n 745,\n 746,\n 747,\n 748,\n 749,\n 750,\n 751,\n 752,\n 753,\n 754,\n 755,\n 756,\n 757,\n 758,\n 759,\n 760,\n 761,\n 762,\n 763,\n 764,\n 765,\n 766,\n 767,\n 768,\n 769,\n 770,\n 771,\n 772,\n 773,\n 774,\n 775,\n 776,\n 777,\n 778,\n 779,\n 780,\n 781,\n 782,\n 783,\n 784,\n 785,\n 786,\n 787,\n 788,\n 789,\n 790,\n 791,\n 792,\n 793,\n 794,\n 795,\n 796,\n 797,\n 798,\n 799,\n 800,\n 801,\n 802,\n 803,\n 804,\n 805,\n 806,\n 807,\n 808,\n 809,\n 810,\n 811,\n 812,\n 813,\n 814,\n 815,\n 816,\n 817,\n 818,\n 819,\n 820,\n 821,\n 822,\n 823,\n 824,\n 825,\n 826,\n 827,\n 828,\n 829,\n 830,\n 831,\n 832,\n 833,\n 834,\n 835,\n 836,\n 837,\n 838,\n 839,\n 840,\n 841,\n 842,\n 843,\n 844,\n 845,\n 846,\n 847,\n 848,\n 849,\n 850,\n 851,\n 852,\n 853,\n 854,\n 855,\n 856,\n 857,\n 858,\n 859,\n 860,\n 861,\n 862,\n 863,\n 864,\n 865,\n 866,\n 867,\n 868,\n 869,\n 870,\n 871,\n 872,\n 873,\n 874,\n 875,\n 876,\n 877,\n 878,\n 879,\n 880,\n 881,\n 882,\n 883,\n 884,\n 885,\n 886,\n 887,\n 888,\n 889,\n 890,\n 891,\n 892,\n 893,\n 894,\n 895,\n 896,\n 897,\n 898,\n 899,\n 900,\n 901,\n 902,\n 903,\n 904,\n 905,\n 906,\n 907,\n 908,\n 909,\n 910,\n 911,\n 912,\n 913,\n 914,\n 915,\n 916,\n 917,\n 918,\n 919,\n 920,\n 921,\n 922,\n 923,\n 924,\n 925,\n 926,\n 927,\n 928,\n 929,\n 930,\n 931,\n 932,\n 933,\n 934,\n 935,\n 936,\n 937,\n 938,\n 939,\n 940,\n 941,\n 942,\n 943,\n 944,\n 945,\n 946,\n 947,\n 948,\n 949,\n 950,\n 951,\n 952,\n 953,\n 954,\n 955,\n 956,\n 957,\n 958,\n 959,\n 960,\n 961,\n 962,\n 963,\n 964,\n 965,\n 966,\n 967,\n 968,\n 969,\n 970,\n 971,\n 972,\n 973,\n 974,\n 975,\n 976,\n 977,\n 978,\n 979,\n 980,\n 981,\n 982,\n 983,\n 984,\n 985,\n 986,\n 987,\n 988,\n 989,\n 990,\n 991,\n 992,\n 993,\n 994,\n 995,\n 996,\n 997,\n 998,\n 999,\n 1000,\n ...]"
     },
     "execution_count": 308,
     "metadata": {},
     "output_type": "execute_result"
    }
   ],
   "source": [
    "l"
   ],
   "metadata": {
    "collapsed": false,
    "ExecuteTime": {
     "end_time": "2023-11-07T14:16:20.027449200Z",
     "start_time": "2023-11-07T14:16:19.956502500Z"
    }
   }
  },
  {
   "cell_type": "code",
   "execution_count": 309,
   "outputs": [
    {
     "name": "stdout",
     "output_type": "stream",
     "text": [
      "Elapsed: 0.1149889000080293\n"
     ]
    }
   ],
   "source": [
    "start = perf_counter()\n",
    "new_list = []\n",
    "for el in l:\n",
    "    new_list.append(1 / el)\n",
    "end = perf_counter()\n",
    "print(f'Elapsed: {end - start}')"
   ],
   "metadata": {
    "collapsed": false,
    "ExecuteTime": {
     "end_time": "2023-11-07T14:18:40.122776900Z",
     "start_time": "2023-11-07T14:18:39.976356300Z"
    }
   }
  },
  {
   "cell_type": "code",
   "execution_count": 310,
   "outputs": [
    {
     "name": "stdout",
     "output_type": "stream",
     "text": [
      "Elapsed: 0.07232570000633132\n"
     ]
    }
   ],
   "source": [
    "\n",
    "start = perf_counter()\n",
    "new_list = [1 / el for el in l]\n",
    "end = perf_counter()\n",
    "print(f'Elapsed: {end - start}')\n"
   ],
   "metadata": {
    "collapsed": false,
    "ExecuteTime": {
     "end_time": "2023-11-07T14:20:46.288556700Z",
     "start_time": "2023-11-07T14:20:46.146556700Z"
    }
   }
  },
  {
   "cell_type": "code",
   "execution_count": 311,
   "outputs": [],
   "source": [
    "np_l = np.array(l)"
   ],
   "metadata": {
    "collapsed": false,
    "ExecuteTime": {
     "end_time": "2023-11-07T14:21:29.936266100Z",
     "start_time": "2023-11-07T14:21:29.843093500Z"
    }
   }
  },
  {
   "cell_type": "code",
   "execution_count": 313,
   "outputs": [
    {
     "data": {
      "text/plain": "dtype('int32')"
     },
     "execution_count": 313,
     "metadata": {},
     "output_type": "execute_result"
    }
   ],
   "source": [
    "np_l.dtype"
   ],
   "metadata": {
    "collapsed": false,
    "ExecuteTime": {
     "end_time": "2023-11-07T14:21:42.525205100Z",
     "start_time": "2023-11-07T14:21:42.474704200Z"
    }
   }
  },
  {
   "cell_type": "code",
   "execution_count": 315,
   "outputs": [
    {
     "name": "stdout",
     "output_type": "stream",
     "text": [
      "Elapsed: 0.005179799991310574\n"
     ]
    }
   ],
   "source": [
    "start = perf_counter()\n",
    "new_arr = 1 / np_l\n",
    "end = perf_counter()\n",
    "print(f'Elapsed: {end - start}')"
   ],
   "metadata": {
    "collapsed": false,
    "ExecuteTime": {
     "end_time": "2023-11-07T14:24:13.140431200Z",
     "start_time": "2023-11-07T14:24:13.078399500Z"
    }
   }
  },
  {
   "cell_type": "code",
   "execution_count": 316,
   "outputs": [],
   "source": [
    "import random"
   ],
   "metadata": {
    "collapsed": false,
    "ExecuteTime": {
     "end_time": "2023-11-07T14:25:28.406409800Z",
     "start_time": "2023-11-07T14:25:28.316892500Z"
    }
   }
  },
  {
   "cell_type": "code",
   "execution_count": 318,
   "outputs": [
    {
     "name": "stdout",
     "output_type": "stream",
     "text": [
      "Elapsed: 30.559192999993684\n"
     ]
    }
   ],
   "source": [
    "num_rows = 10_000_000\n",
    "random.seed(0)\n",
    "start = perf_counter()\n",
    "data = [\n",
    "    [\n",
    "        random.randint(120, 180),\n",
    "        random.randint(180, 200),\n",
    "        random.randint(100, 120),\n",
    "        random.randint(120, 180)\n",
    "    ]\n",
    "    for _ in range(num_rows)\n",
    "]\n",
    "end = perf_counter()\n",
    "print(f'Elapsed: {end - start}')\n"
   ],
   "metadata": {
    "collapsed": false,
    "ExecuteTime": {
     "end_time": "2023-11-07T14:32:36.031978300Z",
     "start_time": "2023-11-07T14:32:05.466758200Z"
    }
   }
  },
  {
   "cell_type": "code",
   "execution_count": 319,
   "outputs": [
    {
     "name": "stdout",
     "output_type": "stream",
     "text": [
      "[65, 56, 52, 55, 51]\n",
      "Elapsed: 2.7529968000017107\n"
     ]
    }
   ],
   "source": [
    "start = perf_counter()\n",
    "var = [\n",
    "    round((row[1] - row[2]) / row[3] * 100)\n",
    "    for row in data\n",
    "]\n",
    "print(var[:5])\n",
    "end = perf_counter()\n",
    "print('Elapsed:', end - start)"
   ],
   "metadata": {
    "collapsed": false,
    "ExecuteTime": {
     "end_time": "2023-11-07T14:33:40.790940Z",
     "start_time": "2023-11-07T14:33:38.070532800Z"
    }
   }
  },
  {
   "cell_type": "code",
   "execution_count": 320,
   "outputs": [
    {
     "name": "stdout",
     "output_type": "stream",
     "text": [
      "[[174 192 113 122]\n",
      " [136 196 115 145]]\n",
      "Elapsed: 7.933167900002445\n"
     ]
    }
   ],
   "source": [
    "start = perf_counter()\n",
    "data_np = np.array(data)\n",
    "end = perf_counter()\n",
    "print(data_np[:2])\n",
    "print('Elapsed:', end - start)"
   ],
   "metadata": {
    "collapsed": false,
    "ExecuteTime": {
     "end_time": "2023-11-07T14:35:07.333279300Z",
     "start_time": "2023-11-07T14:34:59.461546300Z"
    }
   }
  },
  {
   "cell_type": "code",
   "execution_count": 322,
   "outputs": [
    {
     "name": "stdout",
     "output_type": "stream",
     "text": [
      "[[164 181 112 125]\n",
      " [167 199 110 136]\n",
      " [173 189 106 122]\n",
      " [120 180 105 143]\n",
      " [123 199 104 122]]\n",
      "Elapsed:  0.4740938999893842\n"
     ]
    }
   ],
   "source": [
    "np.random.seed(0)\n",
    "start = perf_counter()\n",
    "data_np = np.hstack(\n",
    "    [\n",
    "        np.random.randint(120, 180, (num_rows, 1)),\n",
    "        np.random.randint(180, 200, (num_rows, 1)),\n",
    "        np.random.randint(100, 120, (num_rows, 1)),\n",
    "        np.random.randint(120, 180, (num_rows, 1))\n",
    "    ]\n",
    ")\n",
    "end = perf_counter()\n",
    "print(data_np[:5])\n",
    "print('Elapsed: ', end - start)"
   ],
   "metadata": {
    "collapsed": false,
    "ExecuteTime": {
     "end_time": "2023-11-07T14:42:57.853860100Z",
     "start_time": "2023-11-07T14:42:57.353829Z"
    }
   }
  },
  {
   "cell_type": "code",
   "execution_count": 324,
   "outputs": [],
   "source": [
    "sales = np.array(\n",
    "    [\n",
    "        [10, 0, 5, 3],\n",
    "        [0, 0, 0, 10],\n",
    "        [1, 1, 0, 0],\n",
    "        [3, 0, 4, 5]\n",
    "    ]\n",
    ")"
   ],
   "metadata": {
    "collapsed": false,
    "ExecuteTime": {
     "end_time": "2023-11-08T07:15:32.472272100Z",
     "start_time": "2023-11-08T07:15:32.418197300Z"
    }
   }
  },
  {
   "cell_type": "code",
   "execution_count": 325,
   "outputs": [],
   "source": [
    "unit_price = np.array([100, 50, 20, 10])"
   ],
   "metadata": {
    "collapsed": false,
    "ExecuteTime": {
     "end_time": "2023-11-08T07:16:13.057671300Z",
     "start_time": "2023-11-08T07:16:12.944953800Z"
    }
   }
  },
  {
   "cell_type": "code",
   "execution_count": 326,
   "outputs": [],
   "source": [
    "unit_cost = np.array([80, 10, 5, 1])"
   ],
   "metadata": {
    "collapsed": false,
    "ExecuteTime": {
     "end_time": "2023-11-08T07:17:04.455018300Z",
     "start_time": "2023-11-08T07:17:04.342018100Z"
    }
   }
  },
  {
   "cell_type": "code",
   "execution_count": 328,
   "outputs": [],
   "source": [
    "total_sales = sales * unit_price"
   ],
   "metadata": {
    "collapsed": false,
    "ExecuteTime": {
     "end_time": "2023-11-08T07:17:54.716946600Z",
     "start_time": "2023-11-08T07:17:54.653934800Z"
    }
   }
  },
  {
   "cell_type": "code",
   "execution_count": 330,
   "outputs": [
    {
     "data": {
      "text/plain": "array([[800,   0,  25,   3],\n       [  0,   0,   0,  10],\n       [ 80,  10,   0,   0],\n       [240,   0,  20,   5]])"
     },
     "execution_count": 330,
     "metadata": {},
     "output_type": "execute_result"
    }
   ],
   "source": [
    "total_cost = sales * unit_cost\n",
    "total_cost"
   ],
   "metadata": {
    "collapsed": false,
    "ExecuteTime": {
     "end_time": "2023-11-08T07:18:25.445591300Z",
     "start_time": "2023-11-08T07:18:25.397667900Z"
    }
   }
  },
  {
   "cell_type": "code",
   "execution_count": 331,
   "outputs": [],
   "source": [
    "order_net = total_sales - total_cost"
   ],
   "metadata": {
    "collapsed": false,
    "ExecuteTime": {
     "end_time": "2023-11-08T07:18:53.363544300Z",
     "start_time": "2023-11-08T07:18:53.226147Z"
    }
   }
  },
  {
   "cell_type": "code",
   "execution_count": 333,
   "outputs": [
    {
     "data": {
      "text/plain": "array([[200,   0,  75,  27],\n       [  0,   0,   0,  90],\n       [ 20,  40,   0,   0],\n       [ 60,   0,  60,  45]])"
     },
     "execution_count": 333,
     "metadata": {},
     "output_type": "execute_result"
    }
   ],
   "source": [
    "order_net"
   ],
   "metadata": {
    "collapsed": false,
    "ExecuteTime": {
     "end_time": "2023-11-08T07:19:28.312110400Z",
     "start_time": "2023-11-08T07:19:28.202109Z"
    }
   }
  },
  {
   "cell_type": "code",
   "execution_count": 334,
   "outputs": [
    {
     "data": {
      "text/plain": "617"
     },
     "execution_count": 334,
     "metadata": {},
     "output_type": "execute_result"
    }
   ],
   "source": [
    "np.sum(order_net)"
   ],
   "metadata": {
    "collapsed": false,
    "ExecuteTime": {
     "end_time": "2023-11-08T07:19:57.740122300Z",
     "start_time": "2023-11-08T07:19:57.650927600Z"
    }
   }
  },
  {
   "cell_type": "code",
   "execution_count": 335,
   "outputs": [
    {
     "data": {
      "text/plain": "5"
     },
     "execution_count": 335,
     "metadata": {},
     "output_type": "execute_result"
    }
   ],
   "source": [
    "np.amin(np.array([10, 5, 20]))"
   ],
   "metadata": {
    "collapsed": false,
    "ExecuteTime": {
     "end_time": "2023-11-08T07:31:37.758498Z",
     "start_time": "2023-11-08T07:31:37.645477800Z"
    }
   }
  },
  {
   "cell_type": "code",
   "execution_count": 336,
   "outputs": [
    {
     "data": {
      "text/plain": "20"
     },
     "execution_count": 336,
     "metadata": {},
     "output_type": "execute_result"
    }
   ],
   "source": [
    "np.amax(np.array([10, 5, 20]))\n"
   ],
   "metadata": {
    "collapsed": false,
    "ExecuteTime": {
     "end_time": "2023-11-08T07:31:48.981404600Z",
     "start_time": "2023-11-08T07:31:48.864407100Z"
    }
   }
  },
  {
   "cell_type": "code",
   "execution_count": 337,
   "outputs": [],
   "source": [
    "m = np.array([\n",
    "    [10, 2, 3],\n",
    "    [11, 8, 7],\n",
    "    [13, 3, 9],\n",
    "])"
   ],
   "metadata": {
    "collapsed": false,
    "ExecuteTime": {
     "end_time": "2023-11-08T07:32:48.564849200Z",
     "start_time": "2023-11-08T07:32:48.397572100Z"
    }
   }
  },
  {
   "cell_type": "code",
   "execution_count": 338,
   "outputs": [
    {
     "data": {
      "text/plain": "array([[10,  2,  3],\n       [11,  8,  7],\n       [13,  3,  9]])"
     },
     "execution_count": 338,
     "metadata": {},
     "output_type": "execute_result"
    }
   ],
   "source": [
    "m"
   ],
   "metadata": {
    "collapsed": false,
    "ExecuteTime": {
     "end_time": "2023-11-08T07:32:54.625855400Z",
     "start_time": "2023-11-08T07:32:54.506849200Z"
    }
   }
  },
  {
   "cell_type": "code",
   "execution_count": 339,
   "outputs": [
    {
     "data": {
      "text/plain": "13"
     },
     "execution_count": 339,
     "metadata": {},
     "output_type": "execute_result"
    }
   ],
   "source": [
    "np.amax(m)"
   ],
   "metadata": {
    "collapsed": false,
    "ExecuteTime": {
     "end_time": "2023-11-08T07:33:10.839558100Z",
     "start_time": "2023-11-08T07:33:10.714933100Z"
    }
   }
  },
  {
   "cell_type": "code",
   "execution_count": 340,
   "outputs": [
    {
     "data": {
      "text/plain": "2"
     },
     "execution_count": 340,
     "metadata": {},
     "output_type": "execute_result"
    }
   ],
   "source": [
    "np.amin(m)"
   ],
   "metadata": {
    "collapsed": false,
    "ExecuteTime": {
     "end_time": "2023-11-08T07:33:21.257435400Z",
     "start_time": "2023-11-08T07:33:21.139399300Z"
    }
   }
  },
  {
   "cell_type": "code",
   "execution_count": 341,
   "outputs": [
    {
     "data": {
      "text/plain": "array([10,  2,  3])"
     },
     "execution_count": 341,
     "metadata": {},
     "output_type": "execute_result"
    }
   ],
   "source": [
    "np.amin(m, axis=0)"
   ],
   "metadata": {
    "collapsed": false,
    "ExecuteTime": {
     "end_time": "2023-11-08T07:33:52.560068900Z",
     "start_time": "2023-11-08T07:33:52.444075300Z"
    }
   }
  },
  {
   "cell_type": "code",
   "execution_count": 342,
   "outputs": [
    {
     "data": {
      "text/plain": "array([13,  8,  9])"
     },
     "execution_count": 342,
     "metadata": {},
     "output_type": "execute_result"
    }
   ],
   "source": [
    "np.amax(m, axis=0)"
   ],
   "metadata": {
    "collapsed": false,
    "ExecuteTime": {
     "end_time": "2023-11-08T07:36:08.216082800Z",
     "start_time": "2023-11-08T07:36:08.089088600Z"
    }
   }
  },
  {
   "cell_type": "code",
   "execution_count": 343,
   "outputs": [
    {
     "data": {
      "text/plain": "3.0"
     },
     "execution_count": 343,
     "metadata": {},
     "output_type": "execute_result"
    }
   ],
   "source": [
    "np.median(np.array([1, 2, 3, 4, 5]))"
   ],
   "metadata": {
    "collapsed": false,
    "ExecuteTime": {
     "end_time": "2023-11-08T07:37:28.881707500Z",
     "start_time": "2023-11-08T07:37:28.722712Z"
    }
   }
  },
  {
   "cell_type": "code",
   "execution_count": 344,
   "outputs": [
    {
     "data": {
      "text/plain": "3.5"
     },
     "execution_count": 344,
     "metadata": {},
     "output_type": "execute_result"
    }
   ],
   "source": [
    "np.median(np.array([1, 2, 3, 4, 5, 6]))\n"
   ],
   "metadata": {
    "collapsed": false,
    "ExecuteTime": {
     "end_time": "2023-11-08T07:37:49.526124Z",
     "start_time": "2023-11-08T07:37:49.440156100Z"
    }
   }
  },
  {
   "cell_type": "code",
   "execution_count": 345,
   "outputs": [],
   "source": [
    "m = np.array(\n",
    "    [\n",
    "        [1, 10, 100],\n",
    "        [2, 20, 200],\n",
    "        [3, 30, 300],\n",
    "        [3, 30, 300],\n",
    "        [4, 40, 400]\n",
    "    ]\n",
    ")"
   ],
   "metadata": {
    "collapsed": false,
    "ExecuteTime": {
     "end_time": "2023-11-08T07:38:48.804251500Z",
     "start_time": "2023-11-08T07:38:48.648248600Z"
    }
   }
  },
  {
   "cell_type": "code",
   "execution_count": 346,
   "outputs": [
    {
     "data": {
      "text/plain": "array([  2.6,  26. , 260. ])"
     },
     "execution_count": 346,
     "metadata": {},
     "output_type": "execute_result"
    }
   ],
   "source": [
    "np.mean(m, axis=0)"
   ],
   "metadata": {
    "collapsed": false,
    "ExecuteTime": {
     "end_time": "2023-11-08T07:40:05.491968300Z",
     "start_time": "2023-11-08T07:40:05.403925800Z"
    }
   }
  },
  {
   "cell_type": "code",
   "execution_count": 348,
   "outputs": [
    {
     "data": {
      "text/plain": "45"
     },
     "execution_count": 348,
     "metadata": {},
     "output_type": "execute_result"
    }
   ],
   "source": [
    "np.sum(np.arange(1, 10))"
   ],
   "metadata": {
    "collapsed": false,
    "ExecuteTime": {
     "end_time": "2023-11-08T07:41:49.720574600Z",
     "start_time": "2023-11-08T07:41:49.671730700Z"
    }
   }
  },
  {
   "cell_type": "code",
   "execution_count": 349,
   "outputs": [
    {
     "data": {
      "text/plain": "array([[1, 2, 3],\n       [4, 5, 6],\n       [7, 8, 9]])"
     },
     "execution_count": 349,
     "metadata": {},
     "output_type": "execute_result"
    }
   ],
   "source": [
    "m = np.arange(1, 10).reshape(3, 3)\n",
    "m"
   ],
   "metadata": {
    "collapsed": false,
    "ExecuteTime": {
     "end_time": "2023-11-08T07:43:06.049810Z",
     "start_time": "2023-11-08T07:43:05.902866600Z"
    }
   }
  },
  {
   "cell_type": "code",
   "execution_count": 350,
   "outputs": [
    {
     "data": {
      "text/plain": "45"
     },
     "execution_count": 350,
     "metadata": {},
     "output_type": "execute_result"
    }
   ],
   "source": [
    "np.sum(m)"
   ],
   "metadata": {
    "collapsed": false,
    "ExecuteTime": {
     "end_time": "2023-11-08T07:43:14.507558300Z",
     "start_time": "2023-11-08T07:43:14.389937Z"
    }
   }
  },
  {
   "cell_type": "code",
   "execution_count": 351,
   "outputs": [
    {
     "data": {
      "text/plain": "array([12, 15, 18])"
     },
     "execution_count": 351,
     "metadata": {},
     "output_type": "execute_result"
    }
   ],
   "source": [
    "np.sum(m, axis=0)"
   ],
   "metadata": {
    "collapsed": false,
    "ExecuteTime": {
     "end_time": "2023-11-08T07:43:33.581765100Z",
     "start_time": "2023-11-08T07:43:33.410794400Z"
    }
   }
  },
  {
   "cell_type": "code",
   "execution_count": 352,
   "outputs": [
    {
     "data": {
      "text/plain": "array([ 6, 15, 24])"
     },
     "execution_count": 352,
     "metadata": {},
     "output_type": "execute_result"
    }
   ],
   "source": [
    "np.sum(m, axis=1)"
   ],
   "metadata": {
    "collapsed": false,
    "ExecuteTime": {
     "end_time": "2023-11-08T07:43:54.223778100Z",
     "start_time": "2023-11-08T07:43:54.097588900Z"
    }
   }
  },
  {
   "cell_type": "code",
   "execution_count": 353,
   "outputs": [
    {
     "data": {
      "text/plain": "array([1.11, 2.22, 5.55, 6.66])"
     },
     "execution_count": 353,
     "metadata": {},
     "output_type": "execute_result"
    }
   ],
   "source": [
    "arr = np.array([1.11, 2.22, 5.55, 6.66])\n",
    "arr"
   ],
   "metadata": {
    "collapsed": false,
    "ExecuteTime": {
     "end_time": "2023-11-08T07:45:35.421490500Z",
     "start_time": "2023-11-08T07:45:35.322276300Z"
    }
   }
  },
  {
   "cell_type": "code",
   "execution_count": 357,
   "outputs": [
    {
     "data": {
      "text/plain": "array([1., 2., 6., 7.])"
     },
     "execution_count": 357,
     "metadata": {},
     "output_type": "execute_result"
    }
   ],
   "source": [
    "np.around(arr)"
   ],
   "metadata": {
    "collapsed": false,
    "ExecuteTime": {
     "end_time": "2023-11-08T07:46:32.103441200Z",
     "start_time": "2023-11-08T07:46:31.938409500Z"
    }
   }
  },
  {
   "cell_type": "code",
   "execution_count": 358,
   "outputs": [
    {
     "data": {
      "text/plain": "array([6, 1, 4, 4, 8, 4, 6, 3, 5, 8, 7, 9, 9, 2, 7, 8, 8, 9, 2, 6])"
     },
     "execution_count": 358,
     "metadata": {},
     "output_type": "execute_result"
    }
   ],
   "source": [
    "np.random.seed(0)\n",
    "arr = np.random.randint(1, 10, 20)\n",
    "arr"
   ],
   "metadata": {
    "collapsed": false,
    "ExecuteTime": {
     "end_time": "2023-11-08T07:47:31.435581700Z",
     "start_time": "2023-11-08T07:47:31.325890200Z"
    }
   }
  },
  {
   "cell_type": "code",
   "execution_count": 359,
   "outputs": [
    {
     "data": {
      "text/plain": "(array([1, 3, 4, 5, 7], dtype=int64), array([0, 2, 4, 6, 8, 9]))"
     },
     "execution_count": 359,
     "metadata": {},
     "output_type": "execute_result"
    }
   ],
   "source": [
    "np.histogram(arr, bins=np.array([0, 2, 4, 6, 8, 9]))"
   ],
   "metadata": {
    "collapsed": false,
    "ExecuteTime": {
     "end_time": "2023-11-08T07:48:51.024978200Z",
     "start_time": "2023-11-08T07:48:50.870096Z"
    }
   }
  },
  {
   "cell_type": "code",
   "execution_count": 360,
   "outputs": [
    {
     "data": {
      "text/plain": "(array([3, 4, 4, 9], dtype=int64), array([1., 3., 5., 7., 9.]))"
     },
     "execution_count": 360,
     "metadata": {},
     "output_type": "execute_result"
    }
   ],
   "source": [
    "np.histogram(arr, bins=4)"
   ],
   "metadata": {
    "collapsed": false,
    "ExecuteTime": {
     "end_time": "2023-11-08T07:49:26.678263Z",
     "start_time": "2023-11-08T07:49:26.588261400Z"
    }
   }
  },
  {
   "cell_type": "code",
   "execution_count": 365,
   "outputs": [],
   "source": [
    "def freq_distribution(data):\n",
    "    freq = {}\n",
    "    for el in data:\n",
    "        freq[el] = freq.get(el, 0) + 1\n",
    "    return freq\n"
   ],
   "metadata": {
    "collapsed": false,
    "ExecuteTime": {
     "end_time": "2023-11-08T09:20:16.541333Z",
     "start_time": "2023-11-08T09:20:16.448592800Z"
    }
   }
  },
  {
   "cell_type": "code",
   "execution_count": 366,
   "outputs": [],
   "source": [
    "data = [1, 1, 1, 2, 2, 3]"
   ],
   "metadata": {
    "collapsed": false,
    "ExecuteTime": {
     "end_time": "2023-11-08T09:20:16.980919300Z",
     "start_time": "2023-11-08T09:20:16.907890900Z"
    }
   }
  },
  {
   "cell_type": "code",
   "execution_count": 367,
   "outputs": [
    {
     "data": {
      "text/plain": "{1: 3, 2: 2, 3: 1}"
     },
     "execution_count": 367,
     "metadata": {},
     "output_type": "execute_result"
    }
   ],
   "source": [
    "freq_distribution(data)"
   ],
   "metadata": {
    "collapsed": false,
    "ExecuteTime": {
     "end_time": "2023-11-08T09:20:17.553931300Z",
     "start_time": "2023-11-08T09:20:17.447887800Z"
    }
   }
  },
  {
   "cell_type": "code",
   "execution_count": 368,
   "outputs": [
    {
     "data": {
      "text/plain": "{1: 3, 2: 2, 3: 1}"
     },
     "execution_count": 368,
     "metadata": {},
     "output_type": "execute_result"
    }
   ],
   "source": [
    "freq_d = freq_distribution(data)\n",
    "freq_d"
   ],
   "metadata": {
    "collapsed": false,
    "ExecuteTime": {
     "end_time": "2023-11-08T09:20:21.523493800Z",
     "start_time": "2023-11-08T09:20:21.471776900Z"
    }
   }
  },
  {
   "cell_type": "code",
   "execution_count": 369,
   "outputs": [],
   "source": [
    "def relative_freq(freq_dist):\n",
    "    sum_freq = sum(freq_dist.values())\n",
    "    return {\n",
    "        k: v / sum_freq * 100 for k, v in freq_dist.items()\n",
    "    }"
   ],
   "metadata": {
    "collapsed": false,
    "ExecuteTime": {
     "end_time": "2023-11-08T09:22:31.254931600Z",
     "start_time": "2023-11-08T09:22:31.107934800Z"
    }
   }
  },
  {
   "cell_type": "code",
   "execution_count": 370,
   "outputs": [
    {
     "data": {
      "text/plain": "{1: 50.0, 2: 33.33333333333333, 3: 16.666666666666664}"
     },
     "execution_count": 370,
     "metadata": {},
     "output_type": "execute_result"
    }
   ],
   "source": [
    "relative_f = relative_freq(freq_d)\n",
    "relative_f"
   ],
   "metadata": {
    "collapsed": false,
    "ExecuteTime": {
     "end_time": "2023-11-08T09:22:57.245257100Z",
     "start_time": "2023-11-08T09:22:57.149252100Z"
    }
   }
  },
  {
   "cell_type": "code",
   "execution_count": 371,
   "outputs": [
    {
     "data": {
      "text/plain": "[(1, 50.0), (2, 33.33333333333333), (3, 16.666666666666664)]"
     },
     "execution_count": 371,
     "metadata": {},
     "output_type": "execute_result"
    }
   ],
   "source": [
    "sorted_items = sorted(relative_f.items(), key=lambda x: x[0])\n",
    "sorted_items"
   ],
   "metadata": {
    "collapsed": false,
    "ExecuteTime": {
     "end_time": "2023-11-08T09:25:33.131566300Z",
     "start_time": "2023-11-08T09:25:32.990562400Z"
    }
   }
  },
  {
   "cell_type": "code",
   "execution_count": 372,
   "outputs": [
    {
     "data": {
      "text/plain": "{1: 50.0, 2: 33.33333333333333, 3: 16.666666666666664}"
     },
     "execution_count": 372,
     "metadata": {},
     "output_type": "execute_result"
    }
   ],
   "source": [
    "relative_f = relative_freq(freq_d)\n",
    "relative_f"
   ],
   "metadata": {
    "collapsed": false,
    "ExecuteTime": {
     "end_time": "2023-11-08T09:26:51.463324400Z",
     "start_time": "2023-11-08T09:26:51.369318400Z"
    }
   }
  },
  {
   "cell_type": "code",
   "execution_count": 373,
   "outputs": [],
   "source": [
    "def chart_freq(data):\n",
    "    pad = max([len(str(el[0])) for el in data])\n",
    "    for k, v in data:\n",
    "        print(f\"{str(k).rjust(pad)}| {'*' * round(v)}\")"
   ],
   "metadata": {
    "collapsed": false,
    "ExecuteTime": {
     "end_time": "2023-11-08T09:30:41.029164300Z",
     "start_time": "2023-11-08T09:30:40.849181300Z"
    }
   }
  },
  {
   "cell_type": "code",
   "execution_count": 374,
   "outputs": [
    {
     "name": "stdout",
     "output_type": "stream",
     "text": [
      "1| **************************************************\n",
      "2| *********************************\n",
      "3| *****************\n"
     ]
    }
   ],
   "source": [
    "chart_freq(sorted_items)"
   ],
   "metadata": {
    "collapsed": false,
    "ExecuteTime": {
     "end_time": "2023-11-08T09:30:54.077309500Z",
     "start_time": "2023-11-08T09:30:53.927152100Z"
    }
   }
  },
  {
   "cell_type": "code",
   "execution_count": 375,
   "outputs": [
    {
     "data": {
      "text/plain": "[1, 1, 1, 2, 2, 3]"
     },
     "execution_count": 375,
     "metadata": {},
     "output_type": "execute_result"
    }
   ],
   "source": [
    "data"
   ],
   "metadata": {
    "collapsed": false,
    "ExecuteTime": {
     "end_time": "2023-11-08T09:34:44.503095200Z",
     "start_time": "2023-11-08T09:34:44.371094100Z"
    }
   }
  },
  {
   "cell_type": "code",
   "execution_count": 376,
   "outputs": [],
   "source": [
    "arr = np.array(data, dtype=int)"
   ],
   "metadata": {
    "collapsed": false,
    "ExecuteTime": {
     "end_time": "2023-11-08T09:35:26.948092100Z",
     "start_time": "2023-11-08T09:35:26.839032300Z"
    }
   }
  },
  {
   "cell_type": "code",
   "execution_count": 377,
   "outputs": [
    {
     "data": {
      "text/plain": "array([1, 1, 1, 2, 2, 3])"
     },
     "execution_count": 377,
     "metadata": {},
     "output_type": "execute_result"
    }
   ],
   "source": [
    "arr"
   ],
   "metadata": {
    "collapsed": false,
    "ExecuteTime": {
     "end_time": "2023-11-08T09:35:30.930863Z",
     "start_time": "2023-11-08T09:35:30.830828900Z"
    }
   }
  },
  {
   "cell_type": "code",
   "execution_count": 379,
   "outputs": [],
   "source": [
    "freq, bins = np.histogram(arr, bins=[1, 2, 3, 3])"
   ],
   "metadata": {
    "collapsed": false,
    "ExecuteTime": {
     "end_time": "2023-11-08T09:36:23.146677200Z",
     "start_time": "2023-11-08T09:36:23.072559700Z"
    }
   }
  },
  {
   "cell_type": "code",
   "execution_count": 380,
   "outputs": [
    {
     "data": {
      "text/plain": "array([3, 2, 1], dtype=int64)"
     },
     "execution_count": 380,
     "metadata": {},
     "output_type": "execute_result"
    }
   ],
   "source": [
    "freq"
   ],
   "metadata": {
    "collapsed": false,
    "ExecuteTime": {
     "end_time": "2023-11-08T09:36:30.272224300Z",
     "start_time": "2023-11-08T09:36:30.169165500Z"
    }
   }
  },
  {
   "cell_type": "code",
   "execution_count": 381,
   "outputs": [
    {
     "data": {
      "text/plain": "array([1, 2, 3, 3])"
     },
     "execution_count": 381,
     "metadata": {},
     "output_type": "execute_result"
    }
   ],
   "source": [
    "bins"
   ],
   "metadata": {
    "collapsed": false,
    "ExecuteTime": {
     "end_time": "2023-11-08T09:36:54.712158600Z",
     "start_time": "2023-11-08T09:36:54.613122100Z"
    }
   }
  },
  {
   "cell_type": "code",
   "execution_count": 382,
   "outputs": [],
   "source": [
    "rel = freq / np.sum(freq) * 100"
   ],
   "metadata": {
    "collapsed": false,
    "ExecuteTime": {
     "end_time": "2023-11-08T09:37:34.033875100Z",
     "start_time": "2023-11-08T09:37:33.887963600Z"
    }
   }
  },
  {
   "cell_type": "code",
   "execution_count": 383,
   "outputs": [
    {
     "data": {
      "text/plain": "array([50.        , 33.33333333, 16.66666667])"
     },
     "execution_count": 383,
     "metadata": {},
     "output_type": "execute_result"
    }
   ],
   "source": [
    "rel"
   ],
   "metadata": {
    "collapsed": false,
    "ExecuteTime": {
     "end_time": "2023-11-08T09:37:38.388534500Z",
     "start_time": "2023-11-08T09:37:38.292065300Z"
    }
   }
  },
  {
   "cell_type": "code",
   "execution_count": 384,
   "outputs": [
    {
     "data": {
      "text/plain": "array([1, 2, 3, 3])"
     },
     "execution_count": 384,
     "metadata": {},
     "output_type": "execute_result"
    }
   ],
   "source": [
    "bins"
   ],
   "metadata": {
    "collapsed": false,
    "ExecuteTime": {
     "end_time": "2023-11-08T09:37:47.296465400Z",
     "start_time": "2023-11-08T09:37:46.940472500Z"
    }
   }
  },
  {
   "cell_type": "code",
   "execution_count": 385,
   "outputs": [],
   "source": [
    "data = list(zip(bins.tolist(), rel.tolist()))"
   ],
   "metadata": {
    "collapsed": false,
    "ExecuteTime": {
     "end_time": "2023-11-08T09:38:30.200564600Z",
     "start_time": "2023-11-08T09:38:30.081559100Z"
    }
   }
  },
  {
   "cell_type": "code",
   "execution_count": 386,
   "outputs": [
    {
     "data": {
      "text/plain": "[(1, 50.0), (2, 33.33333333333333), (3, 16.666666666666664)]"
     },
     "execution_count": 386,
     "metadata": {},
     "output_type": "execute_result"
    }
   ],
   "source": [
    "data"
   ],
   "metadata": {
    "collapsed": false,
    "ExecuteTime": {
     "end_time": "2023-11-08T09:38:33.566120200Z",
     "start_time": "2023-11-08T09:38:33.463089900Z"
    }
   }
  },
  {
   "cell_type": "code",
   "execution_count": 387,
   "outputs": [
    {
     "name": "stdout",
     "output_type": "stream",
     "text": [
      "1| **************************************************\n",
      "2| *********************************\n",
      "3| *****************\n"
     ]
    }
   ],
   "source": [
    "chart_freq(data)"
   ],
   "metadata": {
    "collapsed": false,
    "ExecuteTime": {
     "end_time": "2023-11-08T09:39:14.427559900Z",
     "start_time": "2023-11-08T09:39:14.330896300Z"
    }
   }
  },
  {
   "cell_type": "code",
   "execution_count": 435,
   "outputs": [
    {
     "name": "stdout",
     "output_type": "stream",
     "text": [
      "***Andreas\n"
     ]
    }
   ],
   "source": [
    "text = 'Andreas'\n",
    "result = text.rjust(10, '*')\n",
    "print(result)"
   ],
   "metadata": {
    "collapsed": false,
    "ExecuteTime": {
     "end_time": "2023-11-08T12:12:43.505782400Z",
     "start_time": "2023-11-08T12:12:43.407782900Z"
    }
   }
  },
  {
   "cell_type": "code",
   "execution_count": 434,
   "outputs": [],
   "source": [
    "votes = {'Charlie': 20, 'Able': 10, 'Baker': 20, 'Dog': 15}"
   ],
   "metadata": {
    "collapsed": false,
    "ExecuteTime": {
     "end_time": "2023-11-08T12:12:35.943527Z",
     "start_time": "2023-11-08T12:12:35.832813400Z"
    }
   }
  },
  {
   "cell_type": "code",
   "execution_count": 391,
   "outputs": [
    {
     "data": {
      "text/plain": "dict_items([('Charlie', 20), ('Able', 10), ('Baker', 20), ('Dog', 15)])"
     },
     "execution_count": 391,
     "metadata": {},
     "output_type": "execute_result"
    }
   ],
   "source": [
    "votes_items = votes.items()\n",
    "votes_items"
   ],
   "metadata": {
    "collapsed": false,
    "ExecuteTime": {
     "end_time": "2023-11-08T10:05:56.742956400Z",
     "start_time": "2023-11-08T10:05:56.639954Z"
    }
   }
  },
  {
   "cell_type": "code",
   "execution_count": 393,
   "outputs": [
    {
     "name": "stdout",
     "output_type": "stream",
     "text": [
      "[('Able', 10), ('Dog', 15), ('Charlie', 20), ('Baker', 20)]\n"
     ]
    }
   ],
   "source": [
    "print(sorted(votes.items(), key=lambda x: x[1]))"
   ],
   "metadata": {
    "collapsed": false,
    "ExecuteTime": {
     "end_time": "2023-11-08T10:07:45.590247400Z",
     "start_time": "2023-11-08T10:07:45.494194900Z"
    }
   }
  },
  {
   "cell_type": "code",
   "execution_count": 405,
   "outputs": [],
   "source": [
    "import random\n",
    "\n",
    "\n",
    "def freq_distribution(data):\n",
    "    freq = {}\n",
    "    for el in data:\n",
    "        freq[el] = freq.get(el,0) + 1\n",
    "    return freq"
   ],
   "metadata": {
    "collapsed": false,
    "ExecuteTime": {
     "end_time": "2023-11-08T10:30:19.005938900Z",
     "start_time": "2023-11-08T10:30:18.910827400Z"
    }
   }
  },
  {
   "cell_type": "code",
   "execution_count": 406,
   "outputs": [],
   "source": [
    "def relative_freq(freq_dist):\n",
    "    sum_freq = sum(freq_dist.values())\n",
    "    return {\n",
    "        k: v / sum_freq * 100 for k, v in freq_dist.items()\n",
    "    }"
   ],
   "metadata": {
    "collapsed": false,
    "ExecuteTime": {
     "end_time": "2023-11-08T10:30:19.553478600Z",
     "start_time": "2023-11-08T10:30:19.479374200Z"
    }
   }
  },
  {
   "cell_type": "code",
   "execution_count": 417,
   "outputs": [],
   "source": [
    "def chart_freq(data):\n",
    "    pad = max([len(str(el)) for el in data])\n",
    "    for k, v in data:\n",
    "        print(f\"{str(k).rjust(pad)}| {'*' * round(v)}\")"
   ],
   "metadata": {
    "collapsed": false,
    "ExecuteTime": {
     "end_time": "2023-11-08T10:42:20.117175200Z",
     "start_time": "2023-11-08T10:42:20.032074400Z"
    }
   }
  },
  {
   "cell_type": "code",
   "execution_count": 418,
   "outputs": [],
   "source": [
    "def analyze_randint(n, a, b):\n",
    "    data = [random.randint(a,b) for _ in range(n)]\n",
    "\n",
    "    freq = freq_distribution(data)\n",
    "    rel = relative_freq(freq)\n",
    "\n",
    "    sorted_items = sorted(rel.items(), key= lambda x:x[0])\n",
    "    chart_free(sorted_items)"
   ],
   "metadata": {
    "collapsed": false,
    "ExecuteTime": {
     "end_time": "2023-11-08T10:42:20.772335500Z",
     "start_time": "2023-11-08T10:42:20.691299600Z"
    }
   }
  },
  {
   "cell_type": "code",
   "execution_count": 419,
   "outputs": [
    {
     "name": "stdout",
     "output_type": "stream",
     "text": [
      "                      1| **********\n",
      "                      2| **********\n",
      "                      3| **********\n",
      "                      4| **********\n",
      "                      5| **********\n",
      "                      6| **********\n",
      "                      7| **********\n",
      "                      8| **********\n",
      "                      9| *********\n",
      "                     10| **********\n"
     ]
    }
   ],
   "source": [
    "random.seed(0)\n",
    "analyze_randint(10_000, 1,10)"
   ],
   "metadata": {
    "collapsed": false,
    "ExecuteTime": {
     "end_time": "2023-11-08T10:42:22.147626Z",
     "start_time": "2023-11-08T10:42:22.050590500Z"
    }
   }
  },
  {
   "cell_type": "code",
   "execution_count": 421,
   "outputs": [],
   "source": [
    "def np_analyze_randint(n, a, b):\n",
    "    data = np.random.randint(a,b+1,n)\n",
    "    bins = np.arange(a,b+2)\n",
    "    freq, _= np.histogram(data, bins=bins)\n",
    "    rel = freq/np.sum(freq)*100\n",
    "    sorted_items = list(zip(bins.tolist(), rel.tolist()))\n",
    "    print(sorted_items)\n",
    "    chart_freq(sorted_items)"
   ],
   "metadata": {
    "collapsed": false,
    "ExecuteTime": {
     "end_time": "2023-11-08T10:42:33.354133200Z",
     "start_time": "2023-11-08T10:42:33.256093600Z"
    }
   }
  },
  {
   "cell_type": "code",
   "execution_count": 422,
   "outputs": [
    {
     "name": "stdout",
     "output_type": "stream",
     "text": [
      "[(1, 9.67), (2, 10.32), (3, 9.66), (4, 10.100000000000001), (5, 9.629999999999999), (6, 10.17), (7, 9.84), (8, 9.69), (9, 10.489999999999998), (10, 10.43)]\n",
      "                      1| **********\n",
      "                      2| **********\n",
      "                      3| **********\n",
      "                      4| **********\n",
      "                      5| **********\n",
      "                      6| **********\n",
      "                      7| **********\n",
      "                      8| **********\n",
      "                      9| **********\n",
      "                     10| **********\n"
     ]
    }
   ],
   "source": [
    "np.random.seed(0)\n",
    "np_analyze_randint(10_000,1,10)"
   ],
   "metadata": {
    "collapsed": false,
    "ExecuteTime": {
     "end_time": "2023-11-08T10:42:35.673955900Z",
     "start_time": "2023-11-08T10:42:35.570934300Z"
    }
   }
  },
  {
   "cell_type": "code",
   "execution_count": 425,
   "outputs": [],
   "source": [
    "def np_chart_freq(keys, values):\n",
    "    np_len = np.vectorize(len)\n",
    "    pad = np.amax(np_len(keys))\n",
    "    for k, v in zip(keys, values):\n",
    "        print(f\"{k.rjust(pad)}| {'*' * v}\")\n",
    "\n",
    "def np_analyze_randint(n, a, b):\n",
    "    data = np.random.randint(a, b + 1, n)\n",
    "    bins = np.arange(a, b + 2)\n",
    "    freq, _ = np.histogram(data, bins=bins)\n",
    "    rel = np.around(freq / np.sum(freq) * 100)\n",
    "\n",
    "    np_chart_freq(bins[:-1].astype(str), rel.astype(int))"
   ],
   "metadata": {
    "collapsed": false,
    "ExecuteTime": {
     "end_time": "2023-11-08T10:44:53.963707700Z",
     "start_time": "2023-11-08T10:44:53.820673800Z"
    }
   }
  },
  {
   "cell_type": "code",
   "execution_count": 426,
   "outputs": [
    {
     "name": "stdout",
     "output_type": "stream",
     "text": [
      "1| ********************\n",
      "2| **********\n",
      "3| **********\n",
      "4| ****************************************\n",
      "5| ********************\n"
     ]
    }
   ],
   "source": [
    "np.random.seed(0)\n",
    "np_analyze_randint(10,1,5)"
   ],
   "metadata": {
    "collapsed": false,
    "ExecuteTime": {
     "end_time": "2023-11-08T10:45:33.759219700Z",
     "start_time": "2023-11-08T10:45:33.599223800Z"
    }
   }
  },
  {
   "cell_type": "code",
   "execution_count": 427,
   "outputs": [],
   "source": [
    "from time import perf_counter"
   ],
   "metadata": {
    "collapsed": false,
    "ExecuteTime": {
     "end_time": "2023-11-08T10:46:24.287273200Z",
     "start_time": "2023-11-08T10:46:24.185273100Z"
    }
   }
  },
  {
   "cell_type": "code",
   "execution_count": 431,
   "outputs": [
    {
     "name": "stdout",
     "output_type": "stream",
     "text": [
      "                       1| **********\n",
      "                       2| **********\n",
      "                       3| **********\n",
      "                       4| **********\n",
      "                       5| **********\n",
      "                       6| **********\n",
      "                       7| **********\n",
      "                       8| **********\n",
      "                       9| **********\n",
      "                      10| **********\n",
      "Elapsed: 23.488705099996878\n"
     ]
    }
   ],
   "source": [
    "random.seed(0)\n",
    "start = perf_counter()\n",
    "analyze_randint(30_000_000, 1, 10)\n",
    "end = perf_counter()\n",
    "print('Elapsed:', end - start)"
   ],
   "metadata": {
    "collapsed": false,
    "ExecuteTime": {
     "end_time": "2023-11-08T10:48:52.723252100Z",
     "start_time": "2023-11-08T10:48:29.232159900Z"
    }
   }
  },
  {
   "cell_type": "code",
   "execution_count": 432,
   "outputs": [
    {
     "name": "stdout",
     "output_type": "stream",
     "text": [
      " 1| **********\n",
      " 2| **********\n",
      " 3| **********\n",
      " 4| **********\n",
      " 5| **********\n",
      " 6| **********\n",
      " 7| **********\n",
      " 8| **********\n",
      " 9| **********\n",
      "10| **********\n",
      "Elapsed: 1.1713124999951106\n"
     ]
    }
   ],
   "source": [
    "np.random.seed(0)\n",
    "start = perf_counter()\n",
    "np_analyze_randint(30_000_000, 1, 10)\n",
    "end = perf_counter()\n",
    "print('Elapsed:', end - start)"
   ],
   "metadata": {
    "collapsed": false,
    "ExecuteTime": {
     "end_time": "2023-11-08T10:49:00.116443900Z",
     "start_time": "2023-11-08T10:48:58.933468100Z"
    }
   }
  },
  {
   "cell_type": "code",
   "execution_count": null,
   "outputs": [],
   "source": [],
   "metadata": {
    "collapsed": false
   }
  }
 ],
 "metadata": {
  "kernelspec": {
   "display_name": "Python 3",
   "language": "python",
   "name": "python3"
  },
  "language_info": {
   "codemirror_mode": {
    "name": "ipython",
    "version": 2
   },
   "file_extension": ".py",
   "mimetype": "text/x-python",
   "name": "python",
   "nbconvert_exporter": "python",
   "pygments_lexer": "ipython2",
   "version": "2.7.6"
  }
 },
 "nbformat": 4,
 "nbformat_minor": 0
}
