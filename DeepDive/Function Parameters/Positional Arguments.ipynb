{
 "cells": [
  {
   "cell_type": "code",
   "execution_count": 3,
   "id": "initial_id",
   "metadata": {
    "collapsed": true,
    "ExecuteTime": {
     "end_time": "2023-11-28T13:56:53.996291Z",
     "start_time": "2023-11-28T13:56:53.978713Z"
    }
   },
   "outputs": [],
   "source": [
    "def my_func(a, b, c):\n",
    "    print(f'a={a}, b={b}, c={c}')"
   ]
  },
  {
   "cell_type": "code",
   "execution_count": 4,
   "outputs": [
    {
     "name": "stdout",
     "output_type": "stream",
     "text": [
      "a=1, b=2, c=3\n"
     ]
    }
   ],
   "source": [
    "my_func(1,2,3)"
   ],
   "metadata": {
    "collapsed": false,
    "ExecuteTime": {
     "end_time": "2023-11-28T13:56:55.230158Z",
     "start_time": "2023-11-28T13:56:55.213036Z"
    }
   },
   "id": "5d29c72eaec797b0"
  },
  {
   "cell_type": "code",
   "execution_count": 5,
   "outputs": [],
   "source": [
    "def my_func(a, b=2, c=3):\n",
    "    print(f'a={a}, b={b}, c={c}')"
   ],
   "metadata": {
    "collapsed": false,
    "ExecuteTime": {
     "end_time": "2023-11-28T13:57:56.259594Z",
     "start_time": "2023-11-28T13:57:56.235403Z"
    }
   },
   "id": "519f1a978de4a66b"
  },
  {
   "cell_type": "code",
   "execution_count": 6,
   "outputs": [
    {
     "name": "stdout",
     "output_type": "stream",
     "text": [
      "a=1, b=2, c=3\n"
     ]
    }
   ],
   "source": [
    "my_func(1)"
   ],
   "metadata": {
    "collapsed": false,
    "ExecuteTime": {
     "end_time": "2023-11-28T13:58:03.568208Z",
     "start_time": "2023-11-28T13:58:03.534492Z"
    }
   },
   "id": "9d42ebc293ae3ed7"
  },
  {
   "cell_type": "code",
   "execution_count": 8,
   "outputs": [],
   "source": [
    "def my_func(a, b=2, c=4):\n",
    "    print(f'a={a}, b={b}, c={c}')\n"
   ],
   "metadata": {
    "collapsed": false,
    "ExecuteTime": {
     "end_time": "2023-11-28T13:59:41.727940Z",
     "start_time": "2023-11-28T13:59:41.708961Z"
    }
   },
   "id": "e4a479f6c5e1f0f0"
  },
  {
   "cell_type": "code",
   "execution_count": 10,
   "outputs": [
    {
     "name": "stdout",
     "output_type": "stream",
     "text": [
      "a=10, b=20, c=30\n"
     ]
    }
   ],
   "source": [
    "my_func(10,20,30)"
   ],
   "metadata": {
    "collapsed": false,
    "ExecuteTime": {
     "end_time": "2023-11-28T14:00:07.959363Z",
     "start_time": "2023-11-28T14:00:07.939839Z"
    }
   },
   "id": "c1b401e45329169d"
  },
  {
   "cell_type": "code",
   "execution_count": 11,
   "outputs": [
    {
     "name": "stdout",
     "output_type": "stream",
     "text": [
      "a=10, b=20, c=4\n"
     ]
    }
   ],
   "source": [
    "my_func(10,20)"
   ],
   "metadata": {
    "collapsed": false,
    "ExecuteTime": {
     "end_time": "2023-11-28T14:00:42.077175Z",
     "start_time": "2023-11-28T14:00:42.050666Z"
    }
   },
   "id": "b9c7ea9a709c9b35"
  },
  {
   "cell_type": "code",
   "execution_count": 12,
   "outputs": [
    {
     "name": "stdout",
     "output_type": "stream",
     "text": [
      "a=10, b=2, c=4\n"
     ]
    }
   ],
   "source": [
    "my_func(10)"
   ],
   "metadata": {
    "collapsed": false,
    "ExecuteTime": {
     "end_time": "2023-11-28T14:00:55.784529Z",
     "start_time": "2023-11-28T14:00:55.756789Z"
    }
   },
   "id": "5416641218416302"
  },
  {
   "cell_type": "code",
   "execution_count": 13,
   "outputs": [
    {
     "ename": "TypeError",
     "evalue": "my_func() missing 1 required positional argument: 'a'",
     "output_type": "error",
     "traceback": [
      "\u001B[0;31m---------------------------------------------------------------------------\u001B[0m",
      "\u001B[0;31mTypeError\u001B[0m                                 Traceback (most recent call last)",
      "Cell \u001B[0;32mIn[13], line 1\u001B[0m\n\u001B[0;32m----> 1\u001B[0m \u001B[43mmy_func\u001B[49m\u001B[43m(\u001B[49m\u001B[43m)\u001B[49m\n",
      "\u001B[0;31mTypeError\u001B[0m: my_func() missing 1 required positional argument: 'a'"
     ]
    }
   ],
   "source": [
    "my_func()"
   ],
   "metadata": {
    "collapsed": false,
    "ExecuteTime": {
     "end_time": "2023-11-28T14:01:10.223181Z",
     "start_time": "2023-11-28T14:01:10.107174Z"
    }
   },
   "id": "7fa74cda7f85e105"
  },
  {
   "cell_type": "code",
   "execution_count": 14,
   "outputs": [],
   "source": [
    "def my_func(a, b=2, c=3):\n",
    "    print(f'a={a}, b={b}, c={c}')\n"
   ],
   "metadata": {
    "collapsed": false,
    "ExecuteTime": {
     "end_time": "2023-11-28T14:02:00.261734Z",
     "start_time": "2023-11-28T14:02:00.236157Z"
    }
   },
   "id": "2654e58b2d46cff0"
  },
  {
   "cell_type": "code",
   "execution_count": 15,
   "outputs": [
    {
     "name": "stdout",
     "output_type": "stream",
     "text": [
      "a=10, b=20, c=30\n"
     ]
    }
   ],
   "source": [
    "my_func(10, b=20, c=30)"
   ],
   "metadata": {
    "collapsed": false,
    "ExecuteTime": {
     "end_time": "2023-11-28T14:02:18.606400Z",
     "start_time": "2023-11-28T14:02:18.583814Z"
    }
   },
   "id": "58b10fb28d081faa"
  },
  {
   "cell_type": "code",
   "execution_count": 18,
   "outputs": [
    {
     "name": "stdout",
     "output_type": "stream",
     "text": [
      "a=10, b=2, c=40\n"
     ]
    }
   ],
   "source": [
    "my_func(a=10, c=40)"
   ],
   "metadata": {
    "collapsed": false,
    "ExecuteTime": {
     "end_time": "2023-11-28T14:03:15.555132Z",
     "start_time": "2023-11-28T14:03:15.533989Z"
    }
   },
   "id": "8b136e9e0b70e7ef"
  },
  {
   "cell_type": "code",
   "execution_count": 20,
   "outputs": [
    {
     "name": "stdout",
     "output_type": "stream",
     "text": [
      "a=10, b=20, c=30\n"
     ]
    }
   ],
   "source": [
    "my_func(10, b=20, c=30)"
   ],
   "metadata": {
    "collapsed": false,
    "ExecuteTime": {
     "end_time": "2023-11-28T14:04:05.954375Z",
     "start_time": "2023-11-28T14:04:05.934639Z"
    }
   },
   "id": "db8e03e5e23ff850"
  },
  {
   "cell_type": "code",
   "execution_count": 21,
   "outputs": [
    {
     "name": "stdout",
     "output_type": "stream",
     "text": [
      "a=10, b=2, c=40\n"
     ]
    }
   ],
   "source": [
    "my_func(10,c=40)"
   ],
   "metadata": {
    "collapsed": false,
    "ExecuteTime": {
     "end_time": "2023-11-28T14:04:25.199862Z",
     "start_time": "2023-11-28T14:04:25.173226Z"
    }
   },
   "id": "1ce08166937903bc"
  },
  {
   "cell_type": "code",
   "execution_count": 22,
   "outputs": [
    {
     "name": "stdout",
     "output_type": "stream",
     "text": [
      "a=30, b=2, c=10\n"
     ]
    }
   ],
   "source": [
    "my_func(c=10, a=30)"
   ],
   "metadata": {
    "collapsed": false,
    "ExecuteTime": {
     "end_time": "2023-11-28T14:04:50.203711Z",
     "start_time": "2023-11-28T14:04:50.178356Z"
    }
   },
   "id": "ba41f24939eb3fb1"
  },
  {
   "cell_type": "code",
   "execution_count": null,
   "outputs": [],
   "source": [],
   "metadata": {
    "collapsed": false
   },
   "id": "9a90cbb3ed9b41ad"
  }
 ],
 "metadata": {
  "kernelspec": {
   "display_name": "Python 3",
   "language": "python",
   "name": "python3"
  },
  "language_info": {
   "codemirror_mode": {
    "name": "ipython",
    "version": 2
   },
   "file_extension": ".py",
   "mimetype": "text/x-python",
   "name": "python",
   "nbconvert_exporter": "python",
   "pygments_lexer": "ipython2",
   "version": "2.7.6"
  }
 },
 "nbformat": 4,
 "nbformat_minor": 5
}
