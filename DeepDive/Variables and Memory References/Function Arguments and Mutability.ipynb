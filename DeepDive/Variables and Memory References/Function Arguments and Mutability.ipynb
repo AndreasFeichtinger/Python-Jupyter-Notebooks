{
 "cells": [
  {
   "cell_type": "code",
   "execution_count": 1,
   "metadata": {
    "collapsed": true,
    "ExecuteTime": {
     "end_time": "2023-11-27T09:51:17.545902600Z",
     "start_time": "2023-11-27T09:51:17.540112900Z"
    }
   },
   "outputs": [],
   "source": [
    "def process(s):\n",
    "    print(f'initial # = {hex(id(s))}')\n",
    "    s = s + ' world'\n",
    "    print(f's after change # = {hex(id(s))}')"
   ]
  },
  {
   "cell_type": "code",
   "execution_count": 6,
   "outputs": [
    {
     "name": "stdout",
     "output_type": "stream",
     "text": [
      "0x29409de2470\n"
     ]
    }
   ],
   "source": [
    "my_var = 'hello'\n",
    "print(hex(id(my_var)))"
   ],
   "metadata": {
    "collapsed": false,
    "ExecuteTime": {
     "end_time": "2023-11-27T09:57:24.724229200Z",
     "start_time": "2023-11-27T09:57:24.708331100Z"
    }
   }
  },
  {
   "cell_type": "code",
   "execution_count": 7,
   "outputs": [
    {
     "name": "stdout",
     "output_type": "stream",
     "text": [
      "initial # = 0x29409de2470\n",
      "s after change # = 0x2940a0cad70\n"
     ]
    }
   ],
   "source": [
    "process(my_var)"
   ],
   "metadata": {
    "collapsed": false,
    "ExecuteTime": {
     "end_time": "2023-11-27T09:57:25.166382800Z",
     "start_time": "2023-11-27T09:57:25.151384400Z"
    }
   }
  },
  {
   "cell_type": "code",
   "execution_count": 8,
   "outputs": [
    {
     "name": "stdout",
     "output_type": "stream",
     "text": [
      "0x29409de2470\n"
     ]
    }
   ],
   "source": [
    "print(f'{hex(id(my_var))}')"
   ],
   "metadata": {
    "collapsed": false,
    "ExecuteTime": {
     "end_time": "2023-11-27T09:57:25.683339700Z",
     "start_time": "2023-11-27T09:57:25.665351800Z"
    }
   }
  },
  {
   "cell_type": "code",
   "execution_count": 9,
   "outputs": [],
   "source": [
    "def modify_list(items):\n",
    "    print(f'initial items # = {hex(id(items))}')\n",
    "    if len(items) > 0:\n",
    "        items[0] = items[0] ** 2\n",
    "        items.pop()\n",
    "        items.append(5)\n",
    "        print(f'final items # = {hex(id(items))}')\n"
   ],
   "metadata": {
    "collapsed": false,
    "ExecuteTime": {
     "end_time": "2023-11-27T09:59:46.207154400Z",
     "start_time": "2023-11-27T09:59:46.185154800Z"
    }
   }
  },
  {
   "cell_type": "code",
   "execution_count": 10,
   "outputs": [
    {
     "name": "stdout",
     "output_type": "stream",
     "text": [
      "my_list # = 0x2940a184d80\n"
     ]
    }
   ],
   "source": [
    "my_list = [2,3,4]\n",
    "print(f'my_list # = {hex(id(my_list))}')"
   ],
   "metadata": {
    "collapsed": false,
    "ExecuteTime": {
     "end_time": "2023-11-27T10:00:39.551031200Z",
     "start_time": "2023-11-27T10:00:39.545029900Z"
    }
   }
  },
  {
   "cell_type": "code",
   "execution_count": 11,
   "outputs": [
    {
     "name": "stdout",
     "output_type": "stream",
     "text": [
      "initial items # = 0x2940a184d80\n",
      "final items # = 0x2940a184d80\n"
     ]
    }
   ],
   "source": [
    "modify_list(my_list)"
   ],
   "metadata": {
    "collapsed": false,
    "ExecuteTime": {
     "end_time": "2023-11-27T10:01:05.448169400Z",
     "start_time": "2023-11-27T10:01:05.423132500Z"
    }
   }
  },
  {
   "cell_type": "code",
   "execution_count": 13,
   "outputs": [
    {
     "name": "stdout",
     "output_type": "stream",
     "text": [
      "[4, 3, 5]\n",
      "my_list # = 0x2940a184d80\n"
     ]
    }
   ],
   "source": [
    "print(my_list)\n",
    "print(f'my_list # = {hex(id(my_list))}')"
   ],
   "metadata": {
    "collapsed": false,
    "ExecuteTime": {
     "end_time": "2023-11-27T10:03:04.123545800Z",
     "start_time": "2023-11-27T10:03:04.100826100Z"
    }
   }
  },
  {
   "cell_type": "code",
   "execution_count": 19,
   "outputs": [],
   "source": [
    "def modify_tuple(t):\n",
    "    print(f'initial tuple # = {hex(id(t))}')\n",
    "    t[0].append(100)\n",
    "    print(f'final tuple # = {hex(id(t))}')\n"
   ],
   "metadata": {
    "collapsed": false,
    "ExecuteTime": {
     "end_time": "2023-11-27T10:05:45.830334500Z",
     "start_time": "2023-11-27T10:05:45.821348Z"
    }
   }
  },
  {
   "cell_type": "code",
   "execution_count": 20,
   "outputs": [],
   "source": [
    "my_tuple = ([1,2],'a')"
   ],
   "metadata": {
    "collapsed": false,
    "ExecuteTime": {
     "end_time": "2023-11-27T10:05:46.481516300Z",
     "start_time": "2023-11-27T10:05:46.460321800Z"
    }
   }
  },
  {
   "cell_type": "code",
   "execution_count": 21,
   "outputs": [
    {
     "data": {
      "text/plain": "'0x2940a0b1700'"
     },
     "execution_count": 21,
     "metadata": {},
     "output_type": "execute_result"
    }
   ],
   "source": [
    "hex(id(my_tuple))"
   ],
   "metadata": {
    "collapsed": false,
    "ExecuteTime": {
     "end_time": "2023-11-27T10:05:47.301700400Z",
     "start_time": "2023-11-27T10:05:47.289716900Z"
    }
   }
  },
  {
   "cell_type": "code",
   "execution_count": 22,
   "outputs": [
    {
     "name": "stdout",
     "output_type": "stream",
     "text": [
      "initial tuple # = 0x2940a0b1700\n",
      "final tuple # = 0x2940a0b1700\n"
     ]
    }
   ],
   "source": [
    "modify_tuple(my_tuple)"
   ],
   "metadata": {
    "collapsed": false,
    "ExecuteTime": {
     "end_time": "2023-11-27T10:05:48.692598800Z",
     "start_time": "2023-11-27T10:05:48.675172600Z"
    }
   }
  },
  {
   "cell_type": "code",
   "execution_count": 24,
   "outputs": [
    {
     "name": "stdout",
     "output_type": "stream",
     "text": [
      "([1, 2, 100], 'a')\n"
     ]
    }
   ],
   "source": [
    "print(f'{my_tuple}')"
   ],
   "metadata": {
    "collapsed": false,
    "ExecuteTime": {
     "end_time": "2023-11-27T10:06:24.823094900Z",
     "start_time": "2023-11-27T10:06:24.818118800Z"
    }
   }
  },
  {
   "cell_type": "code",
   "execution_count": null,
   "outputs": [],
   "source": [],
   "metadata": {
    "collapsed": false
   }
  }
 ],
 "metadata": {
  "kernelspec": {
   "display_name": "Python 3",
   "language": "python",
   "name": "python3"
  },
  "language_info": {
   "codemirror_mode": {
    "name": "ipython",
    "version": 2
   },
   "file_extension": ".py",
   "mimetype": "text/x-python",
   "name": "python",
   "nbconvert_exporter": "python",
   "pygments_lexer": "ipython2",
   "version": "2.7.6"
  }
 },
 "nbformat": 4,
 "nbformat_minor": 0
}
