{
 "cells": [
  {
   "cell_type": "code",
   "execution_count": 1,
   "metadata": {
    "collapsed": true,
    "ExecuteTime": {
     "end_time": "2023-11-27T07:42:46.248216300Z",
     "start_time": "2023-11-27T07:42:46.231228200Z"
    }
   },
   "outputs": [
    {
     "name": "stdout",
     "output_type": "stream",
     "text": [
      "my_var = 10\n",
      "memory address of my_var(decimal): 1477995293264\n",
      "memory address of my_var(hex): 0x1581f626a50\n"
     ]
    }
   ],
   "source": [
    "my_var = 10\n",
    "print('my_var = {0}'.format(my_var))\n",
    "print('memory address of my_var(decimal): {0}'.format(id(my_var)))\n",
    "print('memory address of my_var(hex): {0}'.format(hex(id(my_var))))\n"
   ]
  },
  {
   "cell_type": "code",
   "execution_count": 1,
   "outputs": [
    {
     "name": "stdout",
     "output_type": "stream",
     "text": [
      "my_var = Hello\n",
      "memory address of my_var(decimal): 2563005518320\n",
      "memory address of my_var(hex): 0x254bf0891f0\n"
     ]
    }
   ],
   "source": [
    "greeting = 'Hello'\n",
    "print('my_var = {0}'.format(greeting))\n",
    "print('memory address of my_var(decimal): {0}'.format(id(greeting)))\n",
    "print('memory address of my_var(hex): {0}'.format(hex(id(greeting))))\n"
   ],
   "metadata": {
    "collapsed": false,
    "ExecuteTime": {
     "end_time": "2023-11-27T07:45:10.083296Z",
     "start_time": "2023-11-27T07:45:10.077295400Z"
    }
   }
  },
  {
   "cell_type": "code",
   "execution_count": null,
   "outputs": [],
   "source": [],
   "metadata": {
    "collapsed": false
   }
  }
 ],
 "metadata": {
  "kernelspec": {
   "display_name": "Python 3",
   "language": "python",
   "name": "python3"
  },
  "language_info": {
   "codemirror_mode": {
    "name": "ipython",
    "version": 2
   },
   "file_extension": ".py",
   "mimetype": "text/x-python",
   "name": "python",
   "nbconvert_exporter": "python",
   "pygments_lexer": "ipython2",
   "version": "2.7.6"
  }
 },
 "nbformat": 4,
 "nbformat_minor": 0
}
