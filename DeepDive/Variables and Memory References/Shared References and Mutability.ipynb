{
 "cells": [
  {
   "cell_type": "code",
   "execution_count": 1,
   "metadata": {
    "collapsed": true,
    "ExecuteTime": {
     "end_time": "2023-11-27T10:09:56.641128400Z",
     "start_time": "2023-11-27T10:09:56.635127900Z"
    }
   },
   "outputs": [
    {
     "name": "stdout",
     "output_type": "stream",
     "text": [
      "hello\n",
      "hello\n"
     ]
    }
   ],
   "source": [
    "my_var_1 = 'hello'\n",
    "my_var_2 = my_var_1\n",
    "print(my_var_1)\n",
    "print(my_var_2)\n"
   ]
  },
  {
   "cell_type": "code",
   "execution_count": 2,
   "outputs": [
    {
     "name": "stdout",
     "output_type": "stream",
     "text": [
      "0x1897b650730\n",
      "0x1897b650730\n"
     ]
    }
   ],
   "source": [
    "print(hex(id(my_var_1)))\n",
    "print(hex(id(my_var_2)))\n"
   ],
   "metadata": {
    "collapsed": false,
    "ExecuteTime": {
     "end_time": "2023-11-27T10:10:15.423148600Z",
     "start_time": "2023-11-27T10:10:15.406293400Z"
    }
   }
  },
  {
   "cell_type": "code",
   "execution_count": 3,
   "outputs": [],
   "source": [
    "my_var_2 = my_var_2 + ' world!'"
   ],
   "metadata": {
    "collapsed": false,
    "ExecuteTime": {
     "end_time": "2023-11-27T10:10:50.236239100Z",
     "start_time": "2023-11-27T10:10:50.225926400Z"
    }
   }
  },
  {
   "cell_type": "code",
   "execution_count": 4,
   "outputs": [
    {
     "name": "stdout",
     "output_type": "stream",
     "text": [
      "0x1897b650730\n",
      "0x1897ba5c830\n"
     ]
    }
   ],
   "source": [
    "print(hex(id(my_var_1)))\n",
    "print(hex(id(my_var_2)))\n"
   ],
   "metadata": {
    "collapsed": false,
    "ExecuteTime": {
     "end_time": "2023-11-27T10:11:22.168472300Z",
     "start_time": "2023-11-27T10:11:22.157432700Z"
    }
   }
  },
  {
   "cell_type": "code",
   "execution_count": 6,
   "outputs": [
    {
     "name": "stdout",
     "output_type": "stream",
     "text": [
      "[1, 2, 3]\n",
      "[1, 2, 3]\n"
     ]
    }
   ],
   "source": [
    "my_list_1 = [1,2,3]\n",
    "my_list_2= my_list_1\n",
    "print(my_list_1)\n",
    "print(my_list_2)\n",
    "\n",
    "\n"
   ],
   "metadata": {
    "collapsed": false,
    "ExecuteTime": {
     "end_time": "2023-11-27T10:13:27.402659600Z",
     "start_time": "2023-11-27T10:13:27.390660200Z"
    }
   }
  },
  {
   "cell_type": "code",
   "execution_count": 7,
   "outputs": [
    {
     "name": "stdout",
     "output_type": "stream",
     "text": [
      "0x1897b9fc200\n",
      "0x1897b9fc200\n"
     ]
    }
   ],
   "source": [
    "print(hex(id(my_list_1)))\n",
    "print(hex(id(my_list_2)))\n"
   ],
   "metadata": {
    "collapsed": false,
    "ExecuteTime": {
     "end_time": "2023-11-27T10:13:48.407956300Z",
     "start_time": "2023-11-27T10:13:48.382399800Z"
    }
   }
  },
  {
   "cell_type": "code",
   "execution_count": 8,
   "outputs": [],
   "source": [
    "my_list_1.append(4)"
   ],
   "metadata": {
    "collapsed": false,
    "ExecuteTime": {
     "end_time": "2023-11-27T10:14:18.844757100Z",
     "start_time": "2023-11-27T10:14:18.818949600Z"
    }
   }
  },
  {
   "cell_type": "code",
   "execution_count": 9,
   "outputs": [
    {
     "name": "stdout",
     "output_type": "stream",
     "text": [
      "[1, 2, 3, 4]\n",
      "[1, 2, 3, 4]\n"
     ]
    }
   ],
   "source": [
    "print(my_list_1)\n",
    "print(my_list_2)\n"
   ],
   "metadata": {
    "collapsed": false,
    "ExecuteTime": {
     "end_time": "2023-11-27T10:14:29.750942100Z",
     "start_time": "2023-11-27T10:14:29.723978500Z"
    }
   }
  },
  {
   "cell_type": "code",
   "execution_count": 11,
   "outputs": [
    {
     "name": "stdout",
     "output_type": "stream",
     "text": [
      "0x1897b9fc200\n",
      "0x1897b9fc200\n"
     ]
    }
   ],
   "source": [
    "print(hex(id(my_list_1)))\n",
    "print(hex(id(my_list_2)))"
   ],
   "metadata": {
    "collapsed": false,
    "ExecuteTime": {
     "end_time": "2023-11-27T10:15:18.054579400Z",
     "start_time": "2023-11-27T10:15:18.037098300Z"
    }
   }
  },
  {
   "cell_type": "code",
   "execution_count": 12,
   "outputs": [],
   "source": [
    "a = 10\n",
    "b = 10"
   ],
   "metadata": {
    "collapsed": false,
    "ExecuteTime": {
     "end_time": "2023-11-27T10:15:44.275108100Z",
     "start_time": "2023-11-27T10:15:44.271107700Z"
    }
   }
  },
  {
   "cell_type": "code",
   "execution_count": 13,
   "outputs": [
    {
     "name": "stdout",
     "output_type": "stream",
     "text": [
      "0x189769b6a50\n",
      "0x189769b6a50\n"
     ]
    }
   ],
   "source": [
    "print(hex(id(a)))\n",
    "print(hex(id(b)))\n"
   ],
   "metadata": {
    "collapsed": false,
    "ExecuteTime": {
     "end_time": "2023-11-27T10:16:00.259994100Z",
     "start_time": "2023-11-27T10:16:00.223962700Z"
    }
   }
  },
  {
   "cell_type": "code",
   "execution_count": 14,
   "outputs": [],
   "source": [
    "b = 15"
   ],
   "metadata": {
    "collapsed": false,
    "ExecuteTime": {
     "end_time": "2023-11-27T10:17:07.410519800Z",
     "start_time": "2023-11-27T10:17:07.404558800Z"
    }
   }
  },
  {
   "cell_type": "code",
   "execution_count": 15,
   "outputs": [
    {
     "name": "stdout",
     "output_type": "stream",
     "text": [
      "0x189769b6a50\n",
      "0x189769b6af0\n"
     ]
    }
   ],
   "source": [
    "print(hex(id(a)))\n",
    "print(hex(id(b)))\n"
   ],
   "metadata": {
    "collapsed": false,
    "ExecuteTime": {
     "end_time": "2023-11-27T10:17:13.522217200Z",
     "start_time": "2023-11-27T10:17:13.478885Z"
    }
   }
  },
  {
   "cell_type": "code",
   "execution_count": 16,
   "outputs": [],
   "source": [
    "my_list_1 = [1,2,3]\n",
    "my_list_2 = [1,2,3]\n"
   ],
   "metadata": {
    "collapsed": false,
    "ExecuteTime": {
     "end_time": "2023-11-27T10:18:29.313679700Z",
     "start_time": "2023-11-27T10:18:29.286849600Z"
    }
   }
  },
  {
   "cell_type": "code",
   "execution_count": 17,
   "outputs": [
    {
     "name": "stdout",
     "output_type": "stream",
     "text": [
      "0x1897b9c2e80\n",
      "0x1897b9f8f80\n"
     ]
    }
   ],
   "source": [
    "print(hex(id(my_list_1)))\n",
    "print(hex(id(my_list_2)))\n"
   ],
   "metadata": {
    "collapsed": false,
    "ExecuteTime": {
     "end_time": "2023-11-27T10:18:58.840337100Z",
     "start_time": "2023-11-27T10:18:58.825297300Z"
    }
   }
  },
  {
   "cell_type": "code",
   "execution_count": null,
   "outputs": [],
   "source": [],
   "metadata": {
    "collapsed": false
   }
  }
 ],
 "metadata": {
  "kernelspec": {
   "display_name": "Python 3",
   "language": "python",
   "name": "python3"
  },
  "language_info": {
   "codemirror_mode": {
    "name": "ipython",
    "version": 2
   },
   "file_extension": ".py",
   "mimetype": "text/x-python",
   "name": "python",
   "nbconvert_exporter": "python",
   "pygments_lexer": "ipython2",
   "version": "2.7.6"
  }
 },
 "nbformat": 4,
 "nbformat_minor": 0
}
