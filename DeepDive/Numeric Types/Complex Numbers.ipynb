{
 "cells": [
  {
   "cell_type": "code",
   "execution_count": 1,
   "id": "initial_id",
   "metadata": {
    "collapsed": true,
    "ExecuteTime": {
     "end_time": "2023-11-28T10:14:33.076176Z",
     "start_time": "2023-11-28T10:14:33.073603Z"
    }
   },
   "outputs": [],
   "source": [
    "a = complex(1,2)\n",
    "b = 1 + 2j"
   ]
  },
  {
   "cell_type": "code",
   "execution_count": 2,
   "outputs": [
    {
     "data": {
      "text/plain": "True"
     },
     "execution_count": 2,
     "metadata": {},
     "output_type": "execute_result"
    }
   ],
   "source": [
    "a == b"
   ],
   "metadata": {
    "collapsed": false,
    "ExecuteTime": {
     "end_time": "2023-11-28T10:14:39.415929Z",
     "start_time": "2023-11-28T10:14:39.393633Z"
    }
   },
   "id": "b6b82c7c33e44e3c"
  },
  {
   "cell_type": "code",
   "execution_count": 3,
   "outputs": [
    {
     "data": {
      "text/plain": "(1.0, float)"
     },
     "execution_count": 3,
     "metadata": {},
     "output_type": "execute_result"
    }
   ],
   "source": [
    "a.real, type(a.real)"
   ],
   "metadata": {
    "collapsed": false,
    "ExecuteTime": {
     "end_time": "2023-11-28T10:14:57.005861Z",
     "start_time": "2023-11-28T10:14:56.982320Z"
    }
   },
   "id": "f285c3a4bd7cf7dd"
  },
  {
   "cell_type": "code",
   "execution_count": 4,
   "outputs": [
    {
     "data": {
      "text/plain": "(2.0, float)"
     },
     "execution_count": 4,
     "metadata": {},
     "output_type": "execute_result"
    }
   ],
   "source": [
    "a.imag, type(a.imag)"
   ],
   "metadata": {
    "collapsed": false,
    "ExecuteTime": {
     "end_time": "2023-11-28T10:15:18.546429Z",
     "start_time": "2023-11-28T10:15:18.524108Z"
    }
   },
   "id": "4ce85c0f7d64d620"
  },
  {
   "cell_type": "code",
   "execution_count": 5,
   "outputs": [
    {
     "data": {
      "text/plain": "(1-2j)"
     },
     "execution_count": 5,
     "metadata": {},
     "output_type": "execute_result"
    }
   ],
   "source": [
    "a.conjugate()"
   ],
   "metadata": {
    "collapsed": false,
    "ExecuteTime": {
     "end_time": "2023-11-28T10:15:30.226176Z",
     "start_time": "2023-11-28T10:15:30.203886Z"
    }
   },
   "id": "8c8b0b6eef568fe2"
  },
  {
   "cell_type": "code",
   "execution_count": 6,
   "outputs": [],
   "source": [
    "a = 1 + 2j"
   ],
   "metadata": {
    "collapsed": false,
    "ExecuteTime": {
     "end_time": "2023-11-28T10:15:46.003564Z",
     "start_time": "2023-11-28T10:15:45.978697Z"
    }
   },
   "id": "53e82285c7a19931"
  },
  {
   "cell_type": "code",
   "execution_count": 8,
   "outputs": [
    {
     "data": {
      "text/plain": "(1-2j)"
     },
     "execution_count": 8,
     "metadata": {},
     "output_type": "execute_result"
    }
   ],
   "source": [
    "a.conjugate()"
   ],
   "metadata": {
    "collapsed": false,
    "ExecuteTime": {
     "end_time": "2023-11-28T10:16:14.369969Z",
     "start_time": "2023-11-28T10:16:14.351331Z"
    }
   },
   "id": "de05a24403773afb"
  },
  {
   "cell_type": "code",
   "execution_count": 9,
   "outputs": [],
   "source": [
    "a = 1 + 2j\n",
    "b = 3 - 4j\n",
    "c = 5j\n",
    "d = 10"
   ],
   "metadata": {
    "collapsed": false,
    "ExecuteTime": {
     "end_time": "2023-11-28T10:16:49.659361Z",
     "start_time": "2023-11-28T10:16:49.633355Z"
    }
   },
   "id": "7b3a9a0469153ba2"
  },
  {
   "cell_type": "code",
   "execution_count": 10,
   "outputs": [
    {
     "data": {
      "text/plain": "(4-2j)"
     },
     "execution_count": 10,
     "metadata": {},
     "output_type": "execute_result"
    }
   ],
   "source": [
    "a + b"
   ],
   "metadata": {
    "collapsed": false,
    "ExecuteTime": {
     "end_time": "2023-11-28T10:16:54.980739Z",
     "start_time": "2023-11-28T10:16:54.953804Z"
    }
   },
   "id": "ae96b4facd591666"
  },
  {
   "cell_type": "code",
   "execution_count": 11,
   "outputs": [
    {
     "data": {
      "text/plain": "(20+15j)"
     },
     "execution_count": 11,
     "metadata": {},
     "output_type": "execute_result"
    }
   ],
   "source": [
    "b * c"
   ],
   "metadata": {
    "collapsed": false,
    "ExecuteTime": {
     "end_time": "2023-11-28T10:17:00.900126Z",
     "start_time": "2023-11-28T10:17:00.873447Z"
    }
   },
   "id": "f0d831be98e9982e"
  },
  {
   "cell_type": "code",
   "execution_count": 12,
   "outputs": [
    {
     "data": {
      "text/plain": "0.5j"
     },
     "execution_count": 12,
     "metadata": {},
     "output_type": "execute_result"
    }
   ],
   "source": [
    "c / d"
   ],
   "metadata": {
    "collapsed": false,
    "ExecuteTime": {
     "end_time": "2023-11-28T10:17:29.563450Z",
     "start_time": "2023-11-28T10:17:29.538918Z"
    }
   },
   "id": "a8222a65826a75ff"
  },
  {
   "cell_type": "code",
   "execution_count": 13,
   "outputs": [
    {
     "data": {
      "text/plain": "(9-2j)"
     },
     "execution_count": 13,
     "metadata": {},
     "output_type": "execute_result"
    }
   ],
   "source": [
    "d - a"
   ],
   "metadata": {
    "collapsed": false,
    "ExecuteTime": {
     "end_time": "2023-11-28T10:17:38.530844Z",
     "start_time": "2023-11-28T10:17:38.505351Z"
    }
   },
   "id": "3a0d1d0f33b42d64"
  },
  {
   "cell_type": "code",
   "execution_count": 14,
   "outputs": [
    {
     "ename": "TypeError",
     "evalue": "can't take floor of complex number.",
     "output_type": "error",
     "traceback": [
      "\u001B[0;31m---------------------------------------------------------------------------\u001B[0m",
      "\u001B[0;31mTypeError\u001B[0m                                 Traceback (most recent call last)",
      "Cell \u001B[0;32mIn[14], line 1\u001B[0m\n\u001B[0;32m----> 1\u001B[0m \u001B[43ma\u001B[49m\u001B[43m \u001B[49m\u001B[38;5;241;43m/\u001B[39;49m\u001B[38;5;241;43m/\u001B[39;49m\u001B[43m \u001B[49m\u001B[43mb\u001B[49m\n",
      "\u001B[0;31mTypeError\u001B[0m: can't take floor of complex number."
     ]
    }
   ],
   "source": [
    "a // b"
   ],
   "metadata": {
    "collapsed": false,
    "ExecuteTime": {
     "end_time": "2023-11-28T10:19:08.306120Z",
     "start_time": "2023-11-28T10:19:08.176816Z"
    }
   },
   "id": "6d2e9016cb2da0b1"
  },
  {
   "cell_type": "code",
   "execution_count": 15,
   "outputs": [
    {
     "ename": "TypeError",
     "evalue": "can't mod complex numbers.",
     "output_type": "error",
     "traceback": [
      "\u001B[0;31m---------------------------------------------------------------------------\u001B[0m",
      "\u001B[0;31mTypeError\u001B[0m                                 Traceback (most recent call last)",
      "Cell \u001B[0;32mIn[15], line 1\u001B[0m\n\u001B[0;32m----> 1\u001B[0m \u001B[43ma\u001B[49m\u001B[43m \u001B[49m\u001B[38;5;241;43m%\u001B[39;49m\u001B[43m \u001B[49m\u001B[43mb\u001B[49m\n",
      "\u001B[0;31mTypeError\u001B[0m: can't mod complex numbers."
     ]
    }
   ],
   "source": [
    "a % b"
   ],
   "metadata": {
    "collapsed": false,
    "ExecuteTime": {
     "end_time": "2023-11-28T10:19:41.362692Z",
     "start_time": "2023-11-28T10:19:41.338679Z"
    }
   },
   "id": "ecdf2a90374c75d"
  },
  {
   "cell_type": "code",
   "execution_count": 17,
   "outputs": [
    {
     "data": {
      "text/plain": "False"
     },
     "execution_count": 17,
     "metadata": {},
     "output_type": "execute_result"
    }
   ],
   "source": [
    "a = 0.1j\n",
    "a + a + a == 0.3j"
   ],
   "metadata": {
    "collapsed": false,
    "ExecuteTime": {
     "end_time": "2023-11-28T10:20:34.258881Z",
     "start_time": "2023-11-28T10:20:34.239930Z"
    }
   },
   "id": "33a6b268a51bc999"
  },
  {
   "cell_type": "code",
   "execution_count": 18,
   "outputs": [
    {
     "name": "stdout",
     "output_type": "stream",
     "text": [
      "(1.7462845577958914+1.4316108957382214j)\n"
     ]
    }
   ],
   "source": [
    "import cmath\n",
    "a = 1 + 5j\n",
    "print(cmath.sqrt(a))"
   ],
   "metadata": {
    "collapsed": false,
    "ExecuteTime": {
     "end_time": "2023-11-28T10:21:52.606187Z",
     "start_time": "2023-11-28T10:21:52.550447Z"
    }
   },
   "id": "bb20766e2892705a"
  },
  {
   "cell_type": "code",
   "execution_count": 19,
   "outputs": [
    {
     "ename": "TypeError",
     "evalue": "can't convert complex to float",
     "output_type": "error",
     "traceback": [
      "\u001B[0;31m---------------------------------------------------------------------------\u001B[0m",
      "\u001B[0;31mTypeError\u001B[0m                                 Traceback (most recent call last)",
      "Cell \u001B[0;32mIn[19], line 2\u001B[0m\n\u001B[1;32m      1\u001B[0m \u001B[38;5;28;01mimport\u001B[39;00m \u001B[38;5;21;01mmath\u001B[39;00m\n\u001B[0;32m----> 2\u001B[0m \u001B[38;5;28mprint\u001B[39m(\u001B[43mmath\u001B[49m\u001B[38;5;241;43m.\u001B[39;49m\u001B[43msqrt\u001B[49m\u001B[43m(\u001B[49m\u001B[43ma\u001B[49m\u001B[43m)\u001B[49m)\n",
      "\u001B[0;31mTypeError\u001B[0m: can't convert complex to float"
     ]
    }
   ],
   "source": [
    "import math\n",
    "print(math.sqrt(a))"
   ],
   "metadata": {
    "collapsed": false,
    "ExecuteTime": {
     "end_time": "2023-11-28T10:22:32.539454Z",
     "start_time": "2023-11-28T10:22:32.511796Z"
    }
   },
   "id": "230055aebc1700df"
  },
  {
   "cell_type": "code",
   "execution_count": 20,
   "outputs": [],
   "source": [
    "a = 1 + 1j"
   ],
   "metadata": {
    "collapsed": false,
    "ExecuteTime": {
     "end_time": "2023-11-28T10:23:22.027005Z",
     "start_time": "2023-11-28T10:23:22.011495Z"
    }
   },
   "id": "f1fb3222d27f410d"
  },
  {
   "cell_type": "code",
   "execution_count": 21,
   "outputs": [
    {
     "name": "stdout",
     "output_type": "stream",
     "text": [
      "(1+1j) = (1.4142135623730951,0.7853981633974483)\n"
     ]
    }
   ],
   "source": [
    "r = abs(a)\n",
    "phi = cmath.phase(a)\n",
    "print(f'{a} = ({r},{phi})')"
   ],
   "metadata": {
    "collapsed": false,
    "ExecuteTime": {
     "end_time": "2023-11-28T10:24:29.547327Z",
     "start_time": "2023-11-28T10:24:29.497702Z"
    }
   },
   "id": "8a8335504a482c6d"
  },
  {
   "cell_type": "code",
   "execution_count": 23,
   "outputs": [
    {
     "name": "stdout",
     "output_type": "stream",
     "text": [
      "(1.0000000000000002+1j)\n"
     ]
    }
   ],
   "source": [
    "r = math.sqrt(2)\n",
    "phi = cmath.pi/4\n",
    "print(cmath.rect(r,phi))"
   ],
   "metadata": {
    "collapsed": false,
    "ExecuteTime": {
     "end_time": "2023-11-28T10:25:29.009516Z",
     "start_time": "2023-11-28T10:25:28.987620Z"
    }
   },
   "id": "68c56a3c195a3a23"
  },
  {
   "cell_type": "code",
   "execution_count": null,
   "outputs": [],
   "source": [],
   "metadata": {
    "collapsed": false
   },
   "id": "a779b5d8a9c268d9"
  }
 ],
 "metadata": {
  "kernelspec": {
   "display_name": "Python 3",
   "language": "python",
   "name": "python3"
  },
  "language_info": {
   "codemirror_mode": {
    "name": "ipython",
    "version": 2
   },
   "file_extension": ".py",
   "mimetype": "text/x-python",
   "name": "python",
   "nbconvert_exporter": "python",
   "pygments_lexer": "ipython2",
   "version": "2.7.6"
  }
 },
 "nbformat": 4,
 "nbformat_minor": 5
}
