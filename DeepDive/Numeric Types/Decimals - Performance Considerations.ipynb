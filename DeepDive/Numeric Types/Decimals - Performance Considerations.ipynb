{
 "cells": [
  {
   "cell_type": "code",
   "execution_count": 2,
   "id": "initial_id",
   "metadata": {
    "collapsed": true,
    "ExecuteTime": {
     "end_time": "2023-11-28T09:56:06.253670Z",
     "start_time": "2023-11-28T09:56:06.238025Z"
    }
   },
   "outputs": [],
   "source": [
    "import time\n",
    "from decimal import Decimal\n",
    "\n",
    "def run_float(n=1):\n",
    "    for i in range(n):\n",
    "        a = 3.1415\n",
    "    \n",
    "def run_decimal(n=1):\n",
    "    for i in range(n):\n",
    "        a = Decimal('3.1415')"
   ]
  },
  {
   "cell_type": "code",
   "execution_count": 22,
   "outputs": [],
   "source": [
    "n = 100000000"
   ],
   "metadata": {
    "collapsed": false,
    "ExecuteTime": {
     "end_time": "2023-11-28T10:08:18.017542Z",
     "start_time": "2023-11-28T10:08:17.997789Z"
    }
   },
   "id": "ee8e8013497f01de"
  },
  {
   "cell_type": "code",
   "execution_count": 23,
   "outputs": [
    {
     "name": "stdout",
     "output_type": "stream",
     "text": [
      "float: 2.0525219999999536\n"
     ]
    }
   ],
   "source": [
    "start = time.perf_counter()\n",
    "run_float(n)\n",
    "end = time.perf_counter()\n",
    "print(f'float: {end-start}')"
   ],
   "metadata": {
    "collapsed": false,
    "ExecuteTime": {
     "end_time": "2023-11-28T10:08:20.937933Z",
     "start_time": "2023-11-28T10:08:18.934959Z"
    }
   },
   "id": "e0b5618fd2cc622f"
  },
  {
   "cell_type": "code",
   "execution_count": 24,
   "outputs": [
    {
     "name": "stdout",
     "output_type": "stream",
     "text": [
      "decimal: 3.89188358399997\n"
     ]
    }
   ],
   "source": [
    "start = time.perf_counter()\n",
    "run_decimal(n)\n",
    "end = time.perf_counter()\n",
    "print(f'decimal: {end-start}')\n"
   ],
   "metadata": {
    "collapsed": false,
    "ExecuteTime": {
     "end_time": "2023-11-28T10:08:33.205576Z",
     "start_time": "2023-11-28T10:08:29.363310Z"
    }
   },
   "id": "981fe4e6d7f4cec4"
  },
  {
   "cell_type": "code",
   "execution_count": 25,
   "outputs": [],
   "source": [
    "def run_float(n):\n",
    "\n",
    "    a = 3.1415\n",
    "    for i in range(n):\n",
    "        return a + a\n",
    "\n",
    "def run_decimal(n):\n",
    "    a = Decimal('3.1415')\n",
    "    for i in range(n):\n",
    "        return a + a\n"
   ],
   "metadata": {
    "collapsed": false,
    "ExecuteTime": {
     "end_time": "2023-11-28T10:08:38.923862Z",
     "start_time": "2023-11-28T10:08:38.905971Z"
    }
   },
   "id": "ceb1800d8d865ab"
  },
  {
   "cell_type": "code",
   "execution_count": 26,
   "outputs": [
    {
     "name": "stdout",
     "output_type": "stream",
     "text": [
      "float: 5.320799994024128e-05\n",
      "decimal: 5.191699995066301e-05\n"
     ]
    }
   ],
   "source": [
    "start = time.perf_counter()\n",
    "run_float(n)\n",
    "end = time.perf_counter()\n",
    "print(f'float: {end - start}')\n",
    "start = time.perf_counter()\n",
    "run_decimal(n)\n",
    "end = time.perf_counter()\n",
    "print(f'decimal: {end - start}')\n"
   ],
   "metadata": {
    "collapsed": false,
    "ExecuteTime": {
     "end_time": "2023-11-28T10:08:42.583545Z",
     "start_time": "2023-11-28T10:08:42.565522Z"
    }
   },
   "id": "513f8a122568b71b"
  },
  {
   "cell_type": "code",
   "execution_count": 27,
   "outputs": [],
   "source": [
    "def run_float(n):\n",
    "\n",
    "    a = 3.1415\n",
    "    for i in range(n):\n",
    "          a + a\n",
    "\n",
    "def run_decimal(n):\n",
    "    a = Decimal('3.1415')\n",
    "    for i in range(n):\n",
    "         a + a\n",
    "\n"
   ],
   "metadata": {
    "collapsed": false,
    "ExecuteTime": {
     "end_time": "2023-11-28T10:09:02.366545Z",
     "start_time": "2023-11-28T10:09:02.346305Z"
    }
   },
   "id": "1a96742dfb9ce5ed"
  },
  {
   "cell_type": "code",
   "execution_count": 28,
   "outputs": [
    {
     "name": "stdout",
     "output_type": "stream",
     "text": [
      "float: 2.004937457999972\n",
      "decimal: 3.704610333000005\n"
     ]
    }
   ],
   "source": [
    "start = time.perf_counter()\n",
    "run_float(n)\n",
    "end = time.perf_counter()\n",
    "print(f'float: {end - start}')\n",
    "start = time.perf_counter()\n",
    "run_decimal(n)\n",
    "end = time.perf_counter()\n",
    "print(f'decimal: {end - start}')\n"
   ],
   "metadata": {
    "collapsed": false,
    "ExecuteTime": {
     "end_time": "2023-11-28T10:09:09.688453Z",
     "start_time": "2023-11-28T10:09:04.033579Z"
    }
   },
   "id": "2ea0634dc736dfa4"
  },
  {
   "cell_type": "code",
   "execution_count": 29,
   "outputs": [],
   "source": [
    "import math\n",
    "def run_float(n=1):\n",
    "\n",
    "    a = 3.1415\n",
    "    for i in range(n):\n",
    "        math.sqrt(a)\n",
    "def run_decimal(n):\n",
    "    a = Decimal('3.1415')\n",
    "    for i in range(n):\n",
    "        math.sqrt(a)\n",
    "\n",
    "\n"
   ],
   "metadata": {
    "collapsed": false,
    "ExecuteTime": {
     "end_time": "2023-11-28T10:09:19.222888Z",
     "start_time": "2023-11-28T10:09:19.203198Z"
    }
   },
   "id": "c6813cf0212f3c77"
  },
  {
   "cell_type": "code",
   "execution_count": 30,
   "outputs": [
    {
     "name": "stdout",
     "output_type": "stream",
     "text": [
      "float: 4.994504249999977\n",
      "decimal: 11.69347162500003\n"
     ]
    }
   ],
   "source": [
    "start = time.perf_counter()\n",
    "run_float(n)\n",
    "end = time.perf_counter()\n",
    "print(f'float: {end - start}')\n",
    "start = time.perf_counter()\n",
    "run_decimal(n)\n",
    "end = time.perf_counter()\n",
    "print(f'decimal: {end - start}')\n"
   ],
   "metadata": {
    "collapsed": false,
    "ExecuteTime": {
     "end_time": "2023-11-28T10:09:36.937322Z",
     "start_time": "2023-11-28T10:09:20.262774Z"
    }
   },
   "id": "24b0e39103df94fc"
  },
  {
   "cell_type": "code",
   "execution_count": null,
   "outputs": [],
   "source": [],
   "metadata": {
    "collapsed": false
   },
   "id": "ebe13e62795480cc"
  }
 ],
 "metadata": {
  "kernelspec": {
   "display_name": "Python 3",
   "language": "python",
   "name": "python3"
  },
  "language_info": {
   "codemirror_mode": {
    "name": "ipython",
    "version": 2
   },
   "file_extension": ".py",
   "mimetype": "text/x-python",
   "name": "python",
   "nbconvert_exporter": "python",
   "pygments_lexer": "ipython2",
   "version": "2.7.6"
  }
 },
 "nbformat": 4,
 "nbformat_minor": 5
}
