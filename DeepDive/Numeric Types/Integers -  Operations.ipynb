{
 "cells": [
  {
   "cell_type": "code",
   "execution_count": 1,
   "metadata": {
    "collapsed": true,
    "ExecuteTime": {
     "end_time": "2023-11-27T13:45:49.289633800Z",
     "start_time": "2023-11-27T13:45:49.270158200Z"
    }
   },
   "outputs": [
    {
     "data": {
      "text/plain": "int"
     },
     "execution_count": 1,
     "metadata": {},
     "output_type": "execute_result"
    }
   ],
   "source": [
    "type(2 + 3)"
   ]
  },
  {
   "cell_type": "code",
   "execution_count": 2,
   "outputs": [
    {
     "data": {
      "text/plain": "int"
     },
     "execution_count": 2,
     "metadata": {},
     "output_type": "execute_result"
    }
   ],
   "source": [
    "type(2 - 10)"
   ],
   "metadata": {
    "collapsed": false,
    "ExecuteTime": {
     "end_time": "2023-11-27T13:45:55.373314200Z",
     "start_time": "2023-11-27T13:45:55.325920800Z"
    }
   }
  },
  {
   "cell_type": "code",
   "execution_count": 3,
   "outputs": [
    {
     "data": {
      "text/plain": "int"
     },
     "execution_count": 3,
     "metadata": {},
     "output_type": "execute_result"
    }
   ],
   "source": [
    "type(3 * 5)"
   ],
   "metadata": {
    "collapsed": false,
    "ExecuteTime": {
     "end_time": "2023-11-27T13:46:02.588180300Z",
     "start_time": "2023-11-27T13:46:02.584303500Z"
    }
   }
  },
  {
   "cell_type": "code",
   "execution_count": 4,
   "outputs": [
    {
     "data": {
      "text/plain": "int"
     },
     "execution_count": 4,
     "metadata": {},
     "output_type": "execute_result"
    }
   ],
   "source": [
    "type(3 ** 4)"
   ],
   "metadata": {
    "collapsed": false,
    "ExecuteTime": {
     "end_time": "2023-11-27T13:46:08.490841900Z",
     "start_time": "2023-11-27T13:46:08.463430200Z"
    }
   }
  },
  {
   "cell_type": "code",
   "execution_count": 5,
   "outputs": [
    {
     "data": {
      "text/plain": "float"
     },
     "execution_count": 5,
     "metadata": {},
     "output_type": "execute_result"
    }
   ],
   "source": [
    "type (2/3)"
   ],
   "metadata": {
    "collapsed": false,
    "ExecuteTime": {
     "end_time": "2023-11-27T13:46:15.447693800Z",
     "start_time": "2023-11-27T13:46:15.424450700Z"
    }
   }
  },
  {
   "cell_type": "code",
   "execution_count": 6,
   "outputs": [
    {
     "data": {
      "text/plain": "float"
     },
     "execution_count": 6,
     "metadata": {},
     "output_type": "execute_result"
    }
   ],
   "source": [
    "type(10/2)"
   ],
   "metadata": {
    "collapsed": false,
    "ExecuteTime": {
     "end_time": "2023-11-27T13:46:30.742639400Z",
     "start_time": "2023-11-27T13:46:30.697713500Z"
    }
   }
  },
  {
   "cell_type": "code",
   "execution_count": 7,
   "outputs": [],
   "source": [
    "import math"
   ],
   "metadata": {
    "collapsed": false,
    "ExecuteTime": {
     "end_time": "2023-11-27T13:46:37.917733800Z",
     "start_time": "2023-11-27T13:46:37.914734400Z"
    }
   }
  },
  {
   "cell_type": "code",
   "execution_count": 8,
   "outputs": [
    {
     "data": {
      "text/plain": "3"
     },
     "execution_count": 8,
     "metadata": {},
     "output_type": "execute_result"
    }
   ],
   "source": [
    "math.floor(3.15)"
   ],
   "metadata": {
    "collapsed": false,
    "ExecuteTime": {
     "end_time": "2023-11-27T13:46:58.406387300Z",
     "start_time": "2023-11-27T13:46:58.364216700Z"
    }
   }
  },
  {
   "cell_type": "code",
   "execution_count": 9,
   "outputs": [
    {
     "data": {
      "text/plain": "3"
     },
     "execution_count": 9,
     "metadata": {},
     "output_type": "execute_result"
    }
   ],
   "source": [
    "math.floor(3.9999999)"
   ],
   "metadata": {
    "collapsed": false,
    "ExecuteTime": {
     "end_time": "2023-11-27T13:47:09.663043400Z",
     "start_time": "2023-11-27T13:47:09.654280Z"
    }
   }
  },
  {
   "cell_type": "code",
   "execution_count": 10,
   "outputs": [
    {
     "data": {
      "text/plain": "-4"
     },
     "execution_count": 10,
     "metadata": {},
     "output_type": "execute_result"
    }
   ],
   "source": [
    "math.floor(-3.15)"
   ],
   "metadata": {
    "collapsed": false,
    "ExecuteTime": {
     "end_time": "2023-11-27T13:47:25.898747300Z",
     "start_time": "2023-11-27T13:47:25.881747500Z"
    }
   }
  },
  {
   "cell_type": "code",
   "execution_count": 11,
   "outputs": [
    {
     "data": {
      "text/plain": "-3"
     },
     "execution_count": 11,
     "metadata": {},
     "output_type": "execute_result"
    }
   ],
   "source": [
    "math.floor(-2.15)"
   ],
   "metadata": {
    "collapsed": false,
    "ExecuteTime": {
     "end_time": "2023-11-27T13:47:43.428944Z",
     "start_time": "2023-11-27T13:47:43.420225400Z"
    }
   }
  },
  {
   "cell_type": "code",
   "execution_count": 13,
   "outputs": [
    {
     "data": {
      "text/plain": "-4"
     },
     "execution_count": 13,
     "metadata": {},
     "output_type": "execute_result"
    }
   ],
   "source": [
    "math.floor(-3.0000001)"
   ],
   "metadata": {
    "collapsed": false,
    "ExecuteTime": {
     "end_time": "2023-11-27T13:48:13.690961600Z",
     "start_time": "2023-11-27T13:48:13.684997Z"
    }
   }
  },
  {
   "cell_type": "code",
   "execution_count": 15,
   "outputs": [
    {
     "name": "stdout",
     "output_type": "stream",
     "text": [
      "2.0625\n",
      "2\n",
      "2\n"
     ]
    }
   ],
   "source": [
    "a = 33\n",
    "b = 16\n",
    "print(a/b)\n",
    "print(a//b)\n",
    "print(math.floor(a/b))"
   ],
   "metadata": {
    "collapsed": false,
    "ExecuteTime": {
     "end_time": "2023-11-27T13:50:42.080720600Z",
     "start_time": "2023-11-27T13:50:42.066458700Z"
    }
   }
  },
  {
   "cell_type": "code",
   "execution_count": 23,
   "outputs": [
    {
     "name": "stdout",
     "output_type": "stream",
     "text": [
      "-33/16 = -2.0625\n",
      "trunc(-33/16 = -2)\n",
      "-33//16 = -3\n",
      "floor(-33//16 = -3)\n"
     ]
    }
   ],
   "source": [
    "a = -33\n",
    "b = 16\n",
    "print(f'{a}/{b} = {a/b}')\n",
    "print(f'trunc({a}/{b} = {math.trunc(a/b)})')\n",
    "print(f'{a}//{b} = {a//b}')\n",
    "print(f'floor({a}//{b} = {math.floor(a/b)})')"
   ],
   "metadata": {
    "collapsed": false,
    "ExecuteTime": {
     "end_time": "2023-11-27T13:57:57.473641200Z",
     "start_time": "2023-11-27T13:57:57.465640Z"
    }
   }
  },
  {
   "cell_type": "code",
   "execution_count": 25,
   "outputs": [
    {
     "name": "stdout",
     "output_type": "stream",
     "text": [
      "33/-16 = -2.0625\n",
      "trunc(33/-16 = -2)\n",
      "33//-16 = -3\n",
      "floor(33//-16 = -3)\n"
     ]
    }
   ],
   "source": [
    "a = 33\n",
    "b = -16\n",
    "print(f'{a}/{b} = {a/b}')\n",
    "print(f'trunc({a}/{b} = {math.trunc(a/b)})')\n",
    "print(f'{a}//{b} = {a//b}')\n",
    "print(f'floor({a}//{b} = {math.floor(a/b)})')\n"
   ],
   "metadata": {
    "collapsed": false,
    "ExecuteTime": {
     "end_time": "2023-11-27T13:59:09.829900800Z",
     "start_time": "2023-11-27T13:59:09.819897200Z"
    }
   }
  },
  {
   "cell_type": "code",
   "execution_count": 27,
   "outputs": [
    {
     "name": "stdout",
     "output_type": "stream",
     "text": [
      "13/4 = 3.25\n",
      "13//4 = 3\n",
      "13%4 = 1\n",
      "True\n"
     ]
    }
   ],
   "source": [
    "a = 13\n",
    "b = 4\n",
    "print(f'{a}/{b} = {a/b}')\n",
    "print(f'{a}//{b} = {a//b}')\n",
    "print(f'{a}%{b} = {a%b}')\n",
    "print(a == b *(a//b) + a%b)\n"
   ],
   "metadata": {
    "collapsed": false,
    "ExecuteTime": {
     "end_time": "2023-11-27T14:21:38.744458200Z",
     "start_time": "2023-11-27T14:21:38.723828600Z"
    }
   }
  },
  {
   "cell_type": "code",
   "execution_count": 28,
   "outputs": [
    {
     "name": "stdout",
     "output_type": "stream",
     "text": [
      "-13/4 = -3.25\n",
      "-13//4 = -4\n",
      "-13%4 = 3\n",
      "True\n"
     ]
    }
   ],
   "source": [
    "a = -13\n",
    "b = 4\n",
    "print(f'{a}/{b} = {a/b}')\n",
    "print(f'{a}//{b} = {a//b}')\n",
    "print(f'{a}%{b} = {a%b}')\n",
    "print(a == b *(a//b) + a%b)\n"
   ],
   "metadata": {
    "collapsed": false,
    "ExecuteTime": {
     "end_time": "2023-11-27T14:21:57.471396Z",
     "start_time": "2023-11-27T14:21:57.459168Z"
    }
   }
  },
  {
   "cell_type": "code",
   "execution_count": 29,
   "outputs": [
    {
     "name": "stdout",
     "output_type": "stream",
     "text": [
      "13/-4 = -3.25\n",
      "13//-4 = -4\n",
      "13%-4 = -3\n",
      "True\n"
     ]
    }
   ],
   "source": [
    "a = 13\n",
    "b = -4\n",
    "print(f'{a}/{b} = {a/b}')\n",
    "print(f'{a}//{b} = {a//b}')\n",
    "print(f'{a}%{b} = {a%b}')\n",
    "print(a == b *(a//b) + a%b)\n"
   ],
   "metadata": {
    "collapsed": false,
    "ExecuteTime": {
     "end_time": "2023-11-27T14:22:10.410563900Z",
     "start_time": "2023-11-27T14:22:10.384941400Z"
    }
   }
  },
  {
   "cell_type": "code",
   "execution_count": 30,
   "outputs": [
    {
     "name": "stdout",
     "output_type": "stream",
     "text": [
      "-13/-4 = 3.25\n",
      "-13//-4 = 3\n",
      "-13%-4 = -1\n",
      "True\n"
     ]
    }
   ],
   "source": [
    "a = -13\n",
    "b = -4\n",
    "print(f'{a}/{b} = {a/b}')\n",
    "print(f'{a}//{b} = {a//b}')\n",
    "print(f'{a}%{b} = {a%b}')\n",
    "print(a == b *(a//b) + a%b)\n"
   ],
   "metadata": {
    "collapsed": false,
    "ExecuteTime": {
     "end_time": "2023-11-27T14:22:54.193386600Z",
     "start_time": "2023-11-27T14:22:54.187395600Z"
    }
   }
  },
  {
   "cell_type": "code",
   "execution_count": null,
   "outputs": [],
   "source": [],
   "metadata": {
    "collapsed": false
   }
  }
 ],
 "metadata": {
  "kernelspec": {
   "display_name": "Python 3",
   "language": "python",
   "name": "python3"
  },
  "language_info": {
   "codemirror_mode": {
    "name": "ipython",
    "version": 2
   },
   "file_extension": ".py",
   "mimetype": "text/x-python",
   "name": "python",
   "nbconvert_exporter": "python",
   "pygments_lexer": "ipython2",
   "version": "2.7.6"
  }
 },
 "nbformat": 4,
 "nbformat_minor": 0
}
