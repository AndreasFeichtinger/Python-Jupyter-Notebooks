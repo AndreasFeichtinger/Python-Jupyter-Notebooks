{
 "cells": [
  {
   "cell_type": "code",
   "execution_count": 1,
   "id": "initial_id",
   "metadata": {
    "collapsed": true,
    "ExecuteTime": {
     "end_time": "2023-11-28T08:11:48.369607Z",
     "start_time": "2023-11-28T08:11:48.366301Z"
    }
   },
   "outputs": [],
   "source": [
    "import decimal"
   ]
  },
  {
   "cell_type": "code",
   "execution_count": 2,
   "outputs": [],
   "source": [
    "\n",
    "from decimal import Decimal"
   ],
   "metadata": {
    "collapsed": false,
    "ExecuteTime": {
     "end_time": "2023-11-28T08:12:03.484413Z",
     "start_time": "2023-11-28T08:12:03.462320Z"
    }
   },
   "id": "e63b60fdb703a65"
  },
  {
   "cell_type": "code",
   "execution_count": 3,
   "outputs": [],
   "source": [
    "g_ctx = decimal.getcontext()"
   ],
   "metadata": {
    "collapsed": false,
    "ExecuteTime": {
     "end_time": "2023-11-28T08:12:30.044146Z",
     "start_time": "2023-11-28T08:12:30.025926Z"
    }
   },
   "id": "4cd0e05d87770d7b"
  },
  {
   "cell_type": "code",
   "execution_count": 4,
   "outputs": [
    {
     "data": {
      "text/plain": "Context(prec=28, rounding=ROUND_HALF_EVEN, Emin=-999999, Emax=999999, capitals=1, clamp=0, flags=[], traps=[InvalidOperation, DivisionByZero, Overflow])"
     },
     "execution_count": 4,
     "metadata": {},
     "output_type": "execute_result"
    }
   ],
   "source": [
    "g_ctx"
   ],
   "metadata": {
    "collapsed": false,
    "ExecuteTime": {
     "end_time": "2023-11-28T08:12:34.623862Z",
     "start_time": "2023-11-28T08:12:34.603086Z"
    }
   },
   "id": "bcd75b514f87a03e"
  },
  {
   "cell_type": "code",
   "execution_count": 8,
   "outputs": [
    {
     "data": {
      "text/plain": "6"
     },
     "execution_count": 8,
     "metadata": {},
     "output_type": "execute_result"
    }
   ],
   "source": [
    "g_ctx.prec"
   ],
   "metadata": {
    "collapsed": false,
    "ExecuteTime": {
     "end_time": "2023-11-28T08:14:11.369242Z",
     "start_time": "2023-11-28T08:14:11.351519Z"
    }
   },
   "id": "39ff00d2299e9c13"
  },
  {
   "cell_type": "code",
   "execution_count": 9,
   "outputs": [
    {
     "data": {
      "text/plain": "'ROUND_HALF_EVEN'"
     },
     "execution_count": 9,
     "metadata": {},
     "output_type": "execute_result"
    }
   ],
   "source": [
    "g_ctx.rounding"
   ],
   "metadata": {
    "collapsed": false,
    "ExecuteTime": {
     "end_time": "2023-11-28T08:14:14.224919Z",
     "start_time": "2023-11-28T08:14:14.207485Z"
    }
   },
   "id": "859bf16e2f14c07a"
  },
  {
   "cell_type": "code",
   "execution_count": 10,
   "outputs": [],
   "source": [
    "g_ctx.prec = 6"
   ],
   "metadata": {
    "collapsed": false,
    "ExecuteTime": {
     "end_time": "2023-11-28T08:14:14.792756Z",
     "start_time": "2023-11-28T08:14:14.781496Z"
    }
   },
   "id": "cb4231f8d4f1408b"
  },
  {
   "cell_type": "code",
   "execution_count": 13,
   "outputs": [],
   "source": [
    "g_ctx.rounding = decimal.ROUND_HALF_UP"
   ],
   "metadata": {
    "collapsed": false,
    "ExecuteTime": {
     "end_time": "2023-11-28T08:15:31.265510Z",
     "start_time": "2023-11-28T08:15:31.245810Z"
    }
   },
   "id": "778f03434a10d8c3"
  },
  {
   "cell_type": "code",
   "execution_count": 14,
   "outputs": [
    {
     "data": {
      "text/plain": "'ROUND_HALF_UP'"
     },
     "execution_count": 14,
     "metadata": {},
     "output_type": "execute_result"
    }
   ],
   "source": [
    "g_ctx.rounding"
   ],
   "metadata": {
    "collapsed": false,
    "ExecuteTime": {
     "end_time": "2023-11-28T08:15:40.666561Z",
     "start_time": "2023-11-28T08:15:40.641965Z"
    }
   },
   "id": "94302d48190ce481"
  },
  {
   "cell_type": "code",
   "execution_count": 15,
   "outputs": [
    {
     "name": "stdout",
     "output_type": "stream",
     "text": [
      "6\n",
      "ROUND_HALF_UP\n"
     ]
    }
   ],
   "source": [
    "with decimal.localcontext() as ctx:\n",
    "    print(ctx.prec)\n",
    "    print(ctx.rounding)\n"
   ],
   "metadata": {
    "collapsed": false,
    "ExecuteTime": {
     "end_time": "2023-11-28T08:17:40.512001Z",
     "start_time": "2023-11-28T08:17:40.482967Z"
    }
   },
   "id": "2b8cbf8dbeaa4c21"
  },
  {
   "cell_type": "code",
   "execution_count": 16,
   "outputs": [
    {
     "name": "stdout",
     "output_type": "stream",
     "text": [
      "local prec = 10 global prec = 6\n"
     ]
    }
   ],
   "source": [
    "with decimal.localcontext() as ctx:\n",
    "    ctx.prec = 10\n",
    "    print(f'local prec = {format(ctx.prec)} global prec = {g_ctx.prec}')"
   ],
   "metadata": {
    "collapsed": false,
    "ExecuteTime": {
     "end_time": "2023-11-28T08:20:40.352009Z",
     "start_time": "2023-11-28T08:20:40.309367Z"
    }
   },
   "id": "7a6fe84556c98016"
  },
  {
   "cell_type": "code",
   "execution_count": 17,
   "outputs": [
    {
     "data": {
      "text/plain": "'ROUND_HALF_UP'"
     },
     "execution_count": 17,
     "metadata": {},
     "output_type": "execute_result"
    }
   ],
   "source": [
    "decimal.getcontext().rounding"
   ],
   "metadata": {
    "collapsed": false,
    "ExecuteTime": {
     "end_time": "2023-11-28T08:24:01.074084Z",
     "start_time": "2023-11-28T08:24:01.052682Z"
    }
   },
   "id": "81624a1acb3bb3a9"
  },
  {
   "cell_type": "code",
   "execution_count": 18,
   "outputs": [],
   "source": [
    "decimal.getcontext().rounding = decimal.ROUND_HALF_EVEN\n"
   ],
   "metadata": {
    "collapsed": false,
    "ExecuteTime": {
     "end_time": "2023-11-28T08:24:52.370824Z",
     "start_time": "2023-11-28T08:24:52.346075Z"
    }
   },
   "id": "4314c1a4123efe01"
  },
  {
   "cell_type": "code",
   "execution_count": 20,
   "outputs": [
    {
     "name": "stdout",
     "output_type": "stream",
     "text": [
      "1.2\n",
      "1.4\n"
     ]
    }
   ],
   "source": [
    "x = Decimal('1.25')\n",
    "y = Decimal('1.35')\n",
    "print(round(x,1))\n",
    "print(round(y,1))\n"
   ],
   "metadata": {
    "collapsed": false,
    "ExecuteTime": {
     "end_time": "2023-11-28T08:26:27.073733Z",
     "start_time": "2023-11-28T08:26:27.055471Z"
    }
   },
   "id": "88a16878fcab2854"
  },
  {
   "cell_type": "code",
   "execution_count": 21,
   "outputs": [],
   "source": [
    "decimal.getcontext().rounding = decimal.ROUND_UP"
   ],
   "metadata": {
    "collapsed": false,
    "ExecuteTime": {
     "end_time": "2023-11-28T08:27:13.276010Z",
     "start_time": "2023-11-28T08:27:13.251849Z"
    }
   },
   "id": "218b0d3760347ca8"
  },
  {
   "cell_type": "code",
   "execution_count": 22,
   "outputs": [
    {
     "name": "stdout",
     "output_type": "stream",
     "text": [
      "1.3\n",
      "1.4\n"
     ]
    }
   ],
   "source": [
    "x = Decimal('1.25')\n",
    "y = Decimal('1.35')\n",
    "print(round(x,1))\n",
    "print(round(y,1))\n"
   ],
   "metadata": {
    "collapsed": false,
    "ExecuteTime": {
     "end_time": "2023-11-28T08:30:48.721647Z",
     "start_time": "2023-11-28T08:30:48.695070Z"
    }
   },
   "id": "a1771297f4592fcd"
  },
  {
   "cell_type": "code",
   "execution_count": 25,
   "outputs": [
    {
     "name": "stdout",
     "output_type": "stream",
     "text": [
      "1.2 1.4\n",
      "1.3 1.4\n",
      "1.2 1.4\n"
     ]
    }
   ],
   "source": [
    "decimal.getcontext().rounding = decimal.ROUND_HALF_EVEN\n",
    "x = Decimal('1.25')\n",
    "y = Decimal('1.35')\n",
    "print(round(x,1) ,round(y,1))\n",
    "with decimal.localcontext() as ctx:\n",
    "   ctx.rounding = decimal.ROUND_HALF_UP \n",
    "   print(round(x,1), round(y,1))\n",
    "print(round(x,1) ,round(y,1))\n"
   ],
   "metadata": {
    "collapsed": false,
    "ExecuteTime": {
     "end_time": "2023-11-28T09:06:56.935190Z",
     "start_time": "2023-11-28T09:06:56.917271Z"
    }
   },
   "id": "f3d3c4fa61bed478"
  },
  {
   "cell_type": "code",
   "execution_count": null,
   "outputs": [],
   "source": [],
   "metadata": {
    "collapsed": false
   },
   "id": "2cb5b218add5a00b"
  }
 ],
 "metadata": {
  "kernelspec": {
   "display_name": "Python 3",
   "language": "python",
   "name": "python3"
  },
  "language_info": {
   "codemirror_mode": {
    "name": "ipython",
    "version": 2
   },
   "file_extension": ".py",
   "mimetype": "text/x-python",
   "name": "python",
   "nbconvert_exporter": "python",
   "pygments_lexer": "ipython2",
   "version": "2.7.6"
  }
 },
 "nbformat": 4,
 "nbformat_minor": 5
}
