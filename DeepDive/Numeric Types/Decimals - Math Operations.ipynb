{
 "cells": [
  {
   "cell_type": "code",
   "execution_count": 1,
   "id": "initial_id",
   "metadata": {
    "collapsed": true,
    "ExecuteTime": {
     "end_time": "2023-11-28T09:29:33.636138Z",
     "start_time": "2023-11-28T09:29:33.631835Z"
    }
   },
   "outputs": [],
   "source": [
    "import decimal\n",
    "from decimal import Decimal"
   ]
  },
  {
   "cell_type": "code",
   "execution_count": 2,
   "outputs": [
    {
     "name": "stdout",
     "output_type": "stream",
     "text": [
      "3 1\n",
      "(3, 1)\n",
      "True\n"
     ]
    }
   ],
   "source": [
    "x = 10\n",
    "y = 3\n",
    "print(x//y, x%y)\n",
    "print(divmod(x,y))\n",
    "print( x == y * (x//y) + x % y)"
   ],
   "metadata": {
    "collapsed": false,
    "ExecuteTime": {
     "end_time": "2023-11-28T09:30:51.883831Z",
     "start_time": "2023-11-28T09:30:51.858778Z"
    }
   },
   "id": "7a4fd6fb4950ea58"
  },
  {
   "cell_type": "code",
   "execution_count": 3,
   "outputs": [
    {
     "name": "stdout",
     "output_type": "stream",
     "text": [
      "3 1\n",
      "(Decimal('3'), Decimal('1'))\n",
      "True\n"
     ]
    }
   ],
   "source": [
    "x = Decimal('10')\n",
    "y = Decimal ('3')\n",
    "print(x//y, x%y)\n",
    "print(divmod(x,y))\n",
    "print( x == y * (x//y) + x % y)\n"
   ],
   "metadata": {
    "collapsed": false,
    "ExecuteTime": {
     "end_time": "2023-11-28T09:32:34.335536Z",
     "start_time": "2023-11-28T09:32:34.312993Z"
    }
   },
   "id": "581cccbf2629f88f"
  },
  {
   "cell_type": "code",
   "execution_count": 4,
   "outputs": [
    {
     "name": "stdout",
     "output_type": "stream",
     "text": [
      "-4 2\n",
      "(-4, 2)\n",
      "True\n"
     ]
    }
   ],
   "source": [
    "x = -10\n",
    "y = 3\n",
    "print(x//y, x%y)\n",
    "print(divmod(x,y))\n",
    "print( x == y * (x//y) + x % y)\n"
   ],
   "metadata": {
    "collapsed": false,
    "ExecuteTime": {
     "end_time": "2023-11-28T09:32:56.325756Z",
     "start_time": "2023-11-28T09:32:56.301074Z"
    }
   },
   "id": "b51f07b71782cda4"
  },
  {
   "cell_type": "code",
   "execution_count": 5,
   "outputs": [
    {
     "name": "stdout",
     "output_type": "stream",
     "text": [
      "-3 -1\n",
      "(Decimal('-3'), Decimal('-1'))\n",
      "True\n"
     ]
    }
   ],
   "source": [
    "x = Decimal('-10')\n",
    "y = Decimal ('3')\n",
    "print(x//y, x%y)\n",
    "print(divmod(x,y))\n",
    "print( x == y * (x//y) + x % y)\n"
   ],
   "metadata": {
    "collapsed": false,
    "ExecuteTime": {
     "end_time": "2023-11-28T09:34:32.753200Z",
     "start_time": "2023-11-28T09:34:32.728749Z"
    }
   },
   "id": "3da17454ce23c322"
  },
  {
   "cell_type": "code",
   "execution_count": 6,
   "outputs": [
    {
     "name": "stdout",
     "output_type": "stream",
     "text": [
      "0.1760912590556812420812890085\n",
      "0.4054651081081643819780131155\n",
      "4.481689070338064822602055460\n",
      "1.224744871391589049098642037\n"
     ]
    }
   ],
   "source": [
    "a = Decimal('1.5')\n",
    "print(a.log10())\n",
    "print(a.ln())\n",
    "print(a.exp())\n",
    "print(a.sqrt())\n"
   ],
   "metadata": {
    "collapsed": false,
    "ExecuteTime": {
     "end_time": "2023-11-28T09:36:02.313036Z",
     "start_time": "2023-11-28T09:36:02.284985Z"
    }
   },
   "id": "2d6cda4cadb6048f"
  },
  {
   "cell_type": "code",
   "execution_count": 7,
   "outputs": [],
   "source": [
    "x = 2\n",
    "x_dec = Decimal(2)"
   ],
   "metadata": {
    "collapsed": false,
    "ExecuteTime": {
     "end_time": "2023-11-28T09:36:55.498473Z",
     "start_time": "2023-11-28T09:36:55.475662Z"
    }
   },
   "id": "56b4800e0a5b3e1f"
  },
  {
   "cell_type": "code",
   "execution_count": 9,
   "outputs": [],
   "source": [
    "import math\n",
    "root_float = math.sqrt(x)\n",
    "root_mixed = math.sqrt(x_dec)\n",
    "root_dec = x_dec.sqrt()\n"
   ],
   "metadata": {
    "collapsed": false,
    "ExecuteTime": {
     "end_time": "2023-11-28T09:38:44.810458Z",
     "start_time": "2023-11-28T09:38:44.791511Z"
    }
   },
   "id": "378a9373ea4d8c9b"
  },
  {
   "cell_type": "code",
   "execution_count": 10,
   "outputs": [
    {
     "name": "stdout",
     "output_type": "stream",
     "text": [
      "1.414213562373095145474621859\n",
      "1.414213562373095145474621859\n",
      "1.414213562373095048801688724\n"
     ]
    }
   ],
   "source": [
    "print(format(root_float, '1.27f'))\n",
    "print(format(root_mixed, '1.27f'))\n",
    "print(root_dec)\n"
   ],
   "metadata": {
    "collapsed": false,
    "ExecuteTime": {
     "end_time": "2023-11-28T09:40:23.089166Z",
     "start_time": "2023-11-28T09:40:23.060166Z"
    }
   },
   "id": "5852b6b986b2d565"
  },
  {
   "cell_type": "code",
   "execution_count": 11,
   "outputs": [
    {
     "name": "stdout",
     "output_type": "stream",
     "text": [
      "2.000000000000000444089209850\n",
      "2.000000000000000444089209850\n",
      "1.999999999999999999999999999\n"
     ]
    }
   ],
   "source": [
    "print(format(root_float * root_float, '1.27f'))\n",
    "print(format(root_mixed * root_mixed, '1.27f'))\n",
    "print(root_dec * root_dec)"
   ],
   "metadata": {
    "collapsed": false,
    "ExecuteTime": {
     "end_time": "2023-11-28T09:43:03.566373Z",
     "start_time": "2023-11-28T09:43:03.547458Z"
    }
   },
   "id": "be5dee6dcd962e3e"
  },
  {
   "cell_type": "code",
   "execution_count": 12,
   "outputs": [],
   "source": [
    "x = 0.01\n",
    "x_dec = Decimal('0.01')\n"
   ],
   "metadata": {
    "collapsed": false,
    "ExecuteTime": {
     "end_time": "2023-11-28T09:44:34.521863Z",
     "start_time": "2023-11-28T09:44:34.496164Z"
    }
   },
   "id": "c11ef5d63959c97"
  },
  {
   "cell_type": "code",
   "execution_count": 13,
   "outputs": [],
   "source": [
    "root_float = math.sqrt(x)\n",
    "root_mixed = math.sqrt(x_dec)\n",
    "root_dec = x_dec.sqrt()\n"
   ],
   "metadata": {
    "collapsed": false,
    "ExecuteTime": {
     "end_time": "2023-11-28T09:45:01.648544Z",
     "start_time": "2023-11-28T09:45:01.618332Z"
    }
   },
   "id": "f884f0a6668fd654"
  },
  {
   "cell_type": "code",
   "execution_count": 14,
   "outputs": [
    {
     "name": "stdout",
     "output_type": "stream",
     "text": [
      "0.100000000000000005551115123\n",
      "0.100000000000000005551115123\n",
      "0.1\n"
     ]
    }
   ],
   "source": [
    "print(format(root_float, '1.27f'))\n",
    "print(format(root_mixed, '1.27f'))\n",
    "print(root_dec)\n"
   ],
   "metadata": {
    "collapsed": false,
    "ExecuteTime": {
     "end_time": "2023-11-28T09:45:30.247788Z",
     "start_time": "2023-11-28T09:45:30.216471Z"
    }
   },
   "id": "6a3e482ca3b656c6"
  },
  {
   "cell_type": "code",
   "execution_count": 15,
   "outputs": [
    {
     "name": "stdout",
     "output_type": "stream",
     "text": [
      "0.010000000000000001942890293\n",
      "0.010000000000000001942890293\n",
      "0.01\n"
     ]
    }
   ],
   "source": [
    "print(format(root_float * root_float, '1.27f'))\n",
    "print(format(root_mixed * root_mixed, '1.27f'))\n",
    "print(root_dec * root_dec)\n"
   ],
   "metadata": {
    "collapsed": false,
    "ExecuteTime": {
     "end_time": "2023-11-28T09:45:54.125635Z",
     "start_time": "2023-11-28T09:45:54.099098Z"
    }
   },
   "id": "b4c9c61ff030fdff"
  },
  {
   "cell_type": "code",
   "execution_count": null,
   "outputs": [],
   "source": [],
   "metadata": {
    "collapsed": false
   },
   "id": "83e381af6d5b5998"
  }
 ],
 "metadata": {
  "kernelspec": {
   "display_name": "Python 3",
   "language": "python",
   "name": "python3"
  },
  "language_info": {
   "codemirror_mode": {
    "name": "ipython",
    "version": 2
   },
   "file_extension": ".py",
   "mimetype": "text/x-python",
   "name": "python",
   "nbconvert_exporter": "python",
   "pygments_lexer": "ipython2",
   "version": "2.7.6"
  }
 },
 "nbformat": 4,
 "nbformat_minor": 5
}
